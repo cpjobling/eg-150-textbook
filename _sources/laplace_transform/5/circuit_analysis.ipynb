{
 "cells": [
  {
   "cell_type": "markdown",
   "id": "3b74d654",
   "metadata": {
    "slideshow": {
     "slide_type": "slide"
    }
   },
   "source": [
    "(unit4.5)=\n",
    "# Unit 4.5: Using Laplace Transforms for Circuit Analysis"
   ]
  },
  {
   "cell_type": "markdown",
   "id": "c7138532",
   "metadata": {
    "slideshow": {
     "slide_type": "notes"
    }
   },
   "source": [
    "The preparatory reading for this section is [Chapter 4](https://ebookcentral.proquest.com/lib/swansea-ebooks/reader.action?docID=3384197&ppg=101) {cite}`karris` which presents examples of the applications of the Laplace transform for electrical solving circuit problems. Much of the same material is covered in [Section 3.7 D](https://www.accessengineeringlibrary.com/content/book/9781260454246/toc-chapter/chapter3/section/section36) of {cite}`schaum`."
   ]
  },
  {
   "cell_type": "markdown",
   "id": "134a5aaa",
   "metadata": {
    "slideshow": {
     "slide_type": "notes"
    }
   },
   "source": [
    "## Agenda\n",
    "\n",
    "We look at applications of the Laplace Transform for circuit analysis. In particular we will consider\n",
    "\n",
    "* {ref}`circuit_transforms`\n",
    "\n",
    "* {ref}`complex_impedance`\n",
    "\n",
    "* {ref}`complex_admittance`\n",
    "\n",
    "* {ref}`examples12`"
   ]
  },
  {
   "cell_type": "markdown",
   "id": "fe120427",
   "metadata": {
    "slideshow": {
     "slide_type": "subslide"
    }
   },
   "source": [
    "Follow along at [cpjobling.github.io/eg-150-textbook/laplace_transform/5/circuit_analysis](https://cpjobling.github.io/eg-150-textbook/laplace_transform/5/circuit_analysis)\n",
    "\n",
    "![QR Code for this lecture](pictures/qrcode_laplace5.png)"
   ]
  },
  {
   "cell_type": "code",
   "execution_count": 1,
   "id": "1db424fc",
   "metadata": {
    "slideshow": {
     "slide_type": "subslide"
    }
   },
   "outputs": [],
   "source": [
    "% initialize MATLAB\n",
    "clearvars\n",
    "syms t L R C i_R(t) v_R(t) i_L(t) v_L(t) v_C(t) i_C(t)"
   ]
  },
  {
   "cell_type": "markdown",
   "id": "72eabdac",
   "metadata": {
    "slideshow": {
     "slide_type": "slide"
    }
   },
   "source": [
    "(circuit_transforms)=\n",
    "## Circuit Transformation from Time to Complex Frequency"
   ]
  },
  {
   "cell_type": "markdown",
   "id": "b4fdebad",
   "metadata": {
    "slideshow": {
     "slide_type": "subslide"
    }
   },
   "source": [
    "(resistive_network}=\n",
    "### Time Domain Model of a Resistive Network\n",
    "\n",
    "Consider {numref}`fig:res_circ_t`\n",
    "\n",
    ":::{figure-md} fig:res_circ_t\n",
    "\n",
    "<img src=\"pictures/resistive_time.png\" alt=\"Time Domain Model of a Resistive Network.\" width=\"60%\">\n",
    "\n",
    "Time Domain Model of a Resistive Network.\n",
    ":::"
   ]
  },
  {
   "cell_type": "markdown",
   "id": "ac4a90e8",
   "metadata": {
    "slideshow": {
     "slide_type": "subslide"
    }
   },
   "source": [
    "#### In the time domain\n",
    "\n",
    "In {numref}`fig:res_circ_t` the voltage across the resistor $v_R(t)$ is proportional to the current flowing through the resistor $i_R(t)$\n",
    "\n",
    "$$v_R(t) = R i_R(t)$$ (eq:vrt)"
   ]
  },
  {
   "cell_type": "code",
   "execution_count": 2,
   "id": "6421040b",
   "metadata": {
    "slideshow": {
     "slide_type": "fragment"
    }
   },
   "outputs": [
    {
     "name": "stdout",
     "output_type": "stream",
     "text": [
      " \n"
     ]
    },
    {
     "name": "stdout",
     "output_type": "stream",
     "text": [
      "eqvrt =\n",
      " \n"
     ]
    },
    {
     "name": "stdout",
     "output_type": "stream",
     "text": [
      "v_R(t) == R*i_R(t)\n"
     ]
    },
    {
     "name": "stdout",
     "output_type": "stream",
     "text": [
      " \n"
     ]
    }
   ],
   "source": [
    "eqvrt = v_R(t) == R * i_R(t)"
   ]
  },
  {
   "cell_type": "markdown",
   "id": "af9f4b86",
   "metadata": {
    "slideshow": {
     "slide_type": "subslide"
    }
   },
   "source": [
    "The current flowing through the resistor is inversely proportional to the voltage across the resistor. This is easily confirmed by rewriting {eq}`eq:vrt` to isolate $i_R(t)$"
   ]
  },
  {
   "cell_type": "code",
   "execution_count": 3,
   "id": "f8776702",
   "metadata": {
    "slideshow": {
     "slide_type": "fragment"
    }
   },
   "outputs": [
    {
     "name": "stdout",
     "output_type": "stream",
     "text": [
      " \n"
     ]
    },
    {
     "name": "stdout",
     "output_type": "stream",
     "text": [
      "eqirt =\n"
     ]
    },
    {
     "name": "stdout",
     "output_type": "stream",
     "text": [
      " \n"
     ]
    },
    {
     "name": "stdout",
     "output_type": "stream",
     "text": [
      "i_R(t) == v_R(t)/R\n"
     ]
    },
    {
     "name": "stdout",
     "output_type": "stream",
     "text": [
      " \n"
     ]
    }
   ],
   "source": [
    "eqirt = isolate(eqvrt,i_R(t))"
   ]
  },
  {
   "cell_type": "markdown",
   "id": "3095ac96",
   "metadata": {
    "slideshow": {
     "slide_type": "fragment"
    }
   },
   "source": [
    "Rewritten nicely as\n",
    "\n",
    "$$i_R(t) = \\frac{v_R(t)}{R}$$ (eq:irt)"
   ]
  },
  {
   "cell_type": "markdown",
   "id": "6cf97614",
   "metadata": {
    "slideshow": {
     "slide_type": "subslide"
    }
   },
   "source": [
    "From these results, which of the following equations represent the Laplace transform of the current flowing through, and the voltage across, the resistor $R$?"
   ]
  },
  {
   "cell_type": "markdown",
   "id": "70e8b160",
   "metadata": {
    "slideshow": {
     "slide_type": "fragment"
    }
   },
   "source": [
    "$$V_R(s) = RI_R(s)$$\n",
    "\n",
    "$$I_R(s) + \\frac{V_R(s)}{R}$$\n",
    "    \n",
    "$$V_R(s) = \\frac{I_R(s)}{R}$$\n",
    "    \n",
    "$$I_R(s) = RV_R(s)$$"
   ]
  },
  {
   "cell_type": "markdown",
   "id": "d99681d0",
   "metadata": {
    "slideshow": {
     "slide_type": "fragment"
    }
   },
   "source": [
    "**-> Open poll**"
   ]
  },
  {
   "cell_type": "markdown",
   "id": "40c321e8",
   "metadata": {
    "slideshow": {
     "slide_type": "notes"
    }
   },
   "source": [
    "#### In the complex frequency domain\n",
    "\n",
    "We take the Laplace transforms of {eq}`eq:vrt` and {eq}`eq:irt` to obtain\n",
    "\n",
    "$$V_R(s) = R I_R(s)$$ (eq:Vrs)\n",
    "\n",
    "$$I_R(s) = \\frac{V_R(s)}{R}$$ (eq:Irs)\n",
    "\n",
    "which we illustrate in {numref}`fig:res_circ_s`.\n",
    "\n",
    "```{note}\n",
    "The current and voltage are transformed but the resitance is unchanged by the transformation.\n",
    "```"
   ]
  },
  {
   "cell_type": "markdown",
   "id": "d4a31f52",
   "metadata": {
    "slideshow": {
     "slide_type": "subslide"
    }
   },
   "source": [
    "(complex_resistive_network)=\n",
    "###  Complex Frequency Domain Model of a Resistive Circuit\n",
    "\n",
    ":::{figure-md} fig:res_circ_s\n",
    "<img src=\"pictures/resistive_freq.png\" alt=\"Complex Frequency Domain Model of a Resistive Circuit\" width=\"60%\">\n",
    "\n",
    "Complex Frequency Domain Model of a Resistive Circuit\n",
    ":::"
   ]
  },
  {
   "cell_type": "markdown",
   "id": "5eea77e2",
   "metadata": {
    "slideshow": {
     "slide_type": "subslide"
    }
   },
   "source": [
    "(inductive_network)=\n",
    "###  Time Domain Model of an Inductive Network\n",
    "\n",
    "Consider {numref}`fig:ind_circ_t`\n",
    "\n",
    ":::{figure-md} fig:ind_circ_t\n",
    "\n",
    "<img src=\"pictures/inductive_time.png\" alt=\"Time Domain Model of a Resistive Network.\" width=\"60%\">\n",
    "\n",
    "Time Domain Model of an Inductive Network.\n",
    ":::"
   ]
  },
  {
   "cell_type": "markdown",
   "id": "ccede71b",
   "metadata": {
    "slideshow": {
     "slide_type": "subslide"
    }
   },
   "source": [
    "#### In the time domain\n",
    "\n",
    "The voltage across the inductor $i_L(t)$ is proportional to the rate of change of the current $i_L(t)$ flowing through the inductor \n",
    "\n",
    "$$v_L(t) = L \\frac{d}{dt} i_L(t) $$ (eq:vlt)"
   ]
  },
  {
   "cell_type": "code",
   "execution_count": 4,
   "id": "2f7300d4",
   "metadata": {
    "slideshow": {
     "slide_type": "fragment"
    }
   },
   "outputs": [
    {
     "name": "stdout",
     "output_type": "stream",
     "text": [
      " \n"
     ]
    },
    {
     "name": "stdout",
     "output_type": "stream",
     "text": [
      "eqvlt =\n"
     ]
    },
    {
     "name": "stdout",
     "output_type": "stream",
     "text": [
      " \n"
     ]
    },
    {
     "name": "stdout",
     "output_type": "stream",
     "text": [
      "v_L(t) == L*diff(i_L(t), t)\n"
     ]
    },
    {
     "name": "stdout",
     "output_type": "stream",
     "text": [
      " \n"
     ]
    }
   ],
   "source": [
    "eqvlt = v_L(t) == L*diff(i_L(t))"
   ]
  },
  {
   "cell_type": "markdown",
   "id": "01045723",
   "metadata": {
    "slideshow": {
     "slide_type": "subslide"
    }
   },
   "source": [
    "The current flowing through the inductor is inversely proportional to the integral of the voltage across the inductor which is easily confirmed by taking the integral of both sides of {eq}`eq:vlt` and rewriting the equation to isolate $i_L(t)$"
   ]
  },
  {
   "cell_type": "code",
   "execution_count": 5,
   "id": "f52443c3",
   "metadata": {
    "slideshow": {
     "slide_type": "fragment"
    }
   },
   "outputs": [
    {
     "name": "stdout",
     "output_type": "stream",
     "text": [
      " \n"
     ]
    },
    {
     "name": "stdout",
     "output_type": "stream",
     "text": [
      "eqilt =\n",
      " \n"
     ]
    },
    {
     "name": "stdout",
     "output_type": "stream",
     "text": [
      "i_L(t) == int(v_L(t), t)/L\n"
     ]
    },
    {
     "name": "stdout",
     "output_type": "stream",
     "text": [
      " \n"
     ]
    }
   ],
   "source": [
    "int(lhs(eqvlt)) == int(rhs(eqvlt));\n",
    "eqilt = isolate(ans,i_L(t))"
   ]
  },
  {
   "cell_type": "markdown",
   "id": "842a81ec",
   "metadata": {
    "slideshow": {
     "slide_type": "fragment"
    }
   },
   "source": [
    "Rewritten nicely as\n",
    "\n",
    "$$i_L(t) = \\frac{1}{L}\\int_{-\\infty}^{t} v_L(t)\\, dt$$ (eq:ilt)"
   ]
  },
  {
   "cell_type": "markdown",
   "id": "2fddf336",
   "metadata": {
    "slideshow": {
     "slide_type": "subslide"
    }
   },
   "source": [
    "From these results, which of the following equations represent the Laplace transform of the current flowing through, and the voltage across, the inductor $L$?"
   ]
  },
  {
   "cell_type": "markdown",
   "id": "177fd26b",
   "metadata": {
    "slideshow": {
     "slide_type": "fragment"
    }
   },
   "source": [
    "$$I_L(s)=sLV_L(s) - v_L(0^-)$$\n",
    "\n",
    "$$I_L(s)=\\frac{V_L(s)}{sL} + \\frac{v_L(0^-)}{s}$$\n",
    "\n",
    "$$V_L(s) = sLI_L(s) - i_L(0^-)$$\n",
    "\n",
    "$$V_L(s)=\\frac{I_L(s)}{sL} + \\frac{i_L(0^-)}{s}$$"
   ]
  },
  {
   "cell_type": "markdown",
   "id": "d994e41a",
   "metadata": {
    "slideshow": {
     "slide_type": "fragment"
    }
   },
   "source": [
    "**-> Open poll**"
   ]
  },
  {
   "cell_type": "markdown",
   "id": "1c0c7b1e",
   "metadata": {
    "slideshow": {
     "slide_type": "subslide"
    }
   },
   "source": [
    "(complex_inductive_network)=\n",
    "### Complex Frequency Domain Model of an Inductive Network \n",
    "\n",
    "Consider {numref}`fig:ind_circ_s`\n",
    "\n",
    ":::{figure-md} fig:ind_circ_s\n",
    "\n",
    "<img src=\"pictures/inductive_freq.png\" alt=\"Time Domain Model of a Resistive Network.\" width=\"60%\">\n",
    "\n",
    "Time Domain Model of a Resistive Network.\n",
    ":::"
   ]
  },
  {
   "cell_type": "markdown",
   "id": "47c83a85",
   "metadata": {
    "slideshow": {
     "slide_type": "notes"
    }
   },
   "source": [
    "#### In the complex frequency domain\n",
    "\n",
    "We take the Laplace transforms of {eq}`eq:vlt` and {eq}`eq:ilt` to obtain\n",
    "\n",
    "$$V_L(s) = s L I_L(s) - i_L(0^-)$$ (eq:Vls)\n",
    "\n",
    "$$I_L(s) = \\frac{V_L(s)}{sL} + \\frac{i_L(0^-)}{s}$$ (eq:Ils)\n",
    "\n",
    "```{note}\n",
    "The current and voltage are transformed but so is the inductance. The complex frequency representation has used the derivative property for the voltage across the inductor and the integration properties for the current through the inductor. The use of the dervative and integration transforms has introduced a term that depends on the initial current flowing through the inductor. Therefore, the initial current would need to be considered in computing the actual voltage and current in the complex frequency domain.\n",
    "```"
   ]
  },
  {
   "cell_type": "markdown",
   "id": "ad14f92e",
   "metadata": {
    "slideshow": {
     "slide_type": "subslide"
    }
   },
   "source": [
    "(capacitive_network)=\n",
    "### Time Domain Model of a Capacitive Network\n",
    "\n",
    "Consider {numref}`fig:cap_circ_t`\n",
    "\n",
    ":::{figure-md} fig:cap_circ_t\n",
    "\n",
    "<img src=\"pictures/capacitive_time.png\" alt=\"Time Domain Model of a Resistive Network.\" width=\"60%\">\n",
    "\n",
    "Time Domain Model of a Capacitive Network.\n",
    ":::"
   ]
  },
  {
   "cell_type": "markdown",
   "id": "56038857",
   "metadata": {
    "slideshow": {
     "slide_type": "subslide"
    }
   },
   "source": [
    "#### In the time domain\n",
    "\n",
    "The current flowing into the capacitor is proportional to the change in voltage across the capacitor\n",
    "\n",
    "$$i_C(t) = C \\frac{d}{dt} v_C(t) $$ (eq:ict)"
   ]
  },
  {
   "cell_type": "code",
   "execution_count": 6,
   "id": "dc32ac2a",
   "metadata": {
    "slideshow": {
     "slide_type": "fragment"
    }
   },
   "outputs": [
    {
     "name": "stdout",
     "output_type": "stream",
     "text": [
      " \n"
     ]
    },
    {
     "name": "stdout",
     "output_type": "stream",
     "text": [
      "eqict =\n"
     ]
    },
    {
     "name": "stdout",
     "output_type": "stream",
     "text": [
      " \n"
     ]
    },
    {
     "name": "stdout",
     "output_type": "stream",
     "text": [
      "i_C(t) == C*diff(v_C(t), t)\n"
     ]
    },
    {
     "name": "stdout",
     "output_type": "stream",
     "text": [
      " \n"
     ]
    }
   ],
   "source": [
    "eqict = i_C(t) == C * diff(v_C(t))"
   ]
  },
  {
   "cell_type": "markdown",
   "id": "bf9b2cff",
   "metadata": {
    "slideshow": {
     "slide_type": "subslide"
    }
   },
   "source": [
    "The voltage across the capacitor is inversely proportional to the integral of the current flowing into the capacitor which is easily confirmed by taking the integral of both sides of {eq}`eq:ict` and rewriting the equation to isolate $v_C(t)$"
   ]
  },
  {
   "cell_type": "code",
   "execution_count": 7,
   "id": "5679c009",
   "metadata": {
    "slideshow": {
     "slide_type": "fragment"
    }
   },
   "outputs": [
    {
     "name": "stdout",
     "output_type": "stream",
     "text": [
      " \n"
     ]
    },
    {
     "name": "stdout",
     "output_type": "stream",
     "text": [
      "eqvct =\n"
     ]
    },
    {
     "name": "stdout",
     "output_type": "stream",
     "text": [
      " \n"
     ]
    },
    {
     "name": "stdout",
     "output_type": "stream",
     "text": [
      "v_C(t) == int(i_C(t), t)/C\n"
     ]
    },
    {
     "name": "stdout",
     "output_type": "stream",
     "text": [
      " \n"
     ]
    }
   ],
   "source": [
    "int(lhs(eqict)) == int(rhs(eqict));\n",
    "eqvct = isolate(ans,v_C(t))"
   ]
  },
  {
   "cell_type": "markdown",
   "id": "ff1c031d",
   "metadata": {
    "slideshow": {
     "slide_type": "fragment"
    }
   },
   "source": [
    "Which can be rwritten nicely as \n",
    "\n",
    "$$v_C(t) = \\frac{1}{C}\\int_{-\\infty}^{t} i_C(t)\\, dt$$ (eq:vct)"
   ]
  },
  {
   "cell_type": "markdown",
   "id": "9e5e1b25",
   "metadata": {
    "slideshow": {
     "slide_type": "subslide"
    }
   },
   "source": [
    "From the previous results, which of the following equations represent the Laplace transform of the current flowing into, and the voltage across, the capacitor $C$?"
   ]
  },
  {
   "cell_type": "markdown",
   "id": "cae7c1a8",
   "metadata": {
    "slideshow": {
     "slide_type": "fragment"
    }
   },
   "source": [
    "$$V_c(s)=sCI_C(s) - i_C(0^-)$$\n",
    "\n",
    "$$I_c(s) = sCV_C(s) - v_C(0^-)$$\n",
    "\n",
    "$$V_c(s) = \\frac{I_C(s)}{sC} + \\frac{i_C(0^-)}{s}$$\n",
    "\n",
    "$$I_c(s)=\\frac{V_C(s)}{sC} + \\frac{v_C(0^-)}{s}$$"
   ]
  },
  {
   "cell_type": "markdown",
   "id": "1fca6f3a",
   "metadata": {
    "slideshow": {
     "slide_type": "fragment"
    }
   },
   "source": [
    "**-> Open poll**"
   ]
  },
  {
   "cell_type": "markdown",
   "id": "c1fd1d43",
   "metadata": {
    "slideshow": {
     "slide_type": "notes"
    }
   },
   "source": [
    "#### In the complex frequency domain\n",
    "\n",
    "We take the Laplace transforms of {eq}`eq:ict` and {eq}`eq:vct` to obtain\n",
    "\n",
    "$$I_C(s) = s C V_C(s) - v_C(0^-)$$ (eq:Ics)\n",
    "\n",
    "$$V_C(s) = \\frac{I_C(s)}{sC} + \\frac{v_C(0^-)}{s}$$ (eq:Vcs)\n",
    "\n",
    "\n",
    "```{note}\n",
    "The current and voltage are transformed but so is the capacitance. The complex frequency representation has used the derivative property for the voltage across the capacitor and the integration property for the current flowing into the capacitor. The use of the dervative and integration transforms has introduced a term that depends on the initial voltage (initial charge) across the capacitor. Therefore, the initial voltage would need to be considered in computing the actual voltage and current introduced by the capacitor in the complex frequency domain.\n",
    "```"
   ]
  },
  {
   "cell_type": "markdown",
   "id": "0fffbef6",
   "metadata": {
    "slideshow": {
     "slide_type": "subslide"
    }
   },
   "source": [
    "### Complex Frequency Domain of a Capacitive Network\n",
    "\n",
    "Consider {numref}`fig:cap_circ_s`\n",
    "\n",
    ":::{figure-md} fig:cap_circ_s\n",
    "\n",
    "<img src=\"pictures/capacitive_freq.png\" alt=\"Time Domain Model of a Resistive Network.\" width=\"60%\">\n",
    "\n",
    "Time Domain Model of a Capacitive Network.\n",
    ":::"
   ]
  },
  {
   "cell_type": "markdown",
   "id": "6e4c06fe",
   "metadata": {
    "slideshow": {
     "slide_type": "slide"
    }
   },
   "source": [
    "(complex_impedance)=\n",
    "## Complex Impedance $Z(s)$\n",
    "\n",
    "By analogy with the *resistance* of a resistor $R$, a component with complex impedance $Z(s)$ satisfies Ohm's law:\n",
    "\n",
    "$$V(s) = I(s) Z(s)$$\n",
    "\n",
    "from which\n",
    "\n",
    "$$Z(s) = \\frac{V(s)}{I(s)}$$"
   ]
  },
  {
   "cell_type": "markdown",
   "id": "05d5182b",
   "metadata": {
    "slideshow": {
     "slide_type": "subslide"
    }
   },
   "source": [
    "(complex_impedance_comps)=\n",
    "### Complex impedance of components\n",
    "\n",
    "For the resistance $R$$\\Omega$, inductance $L$H and capacitance $C$F, which of the following represent the complex impedance, $Z(s) = V(s)/I(s)$ of the components?"
   ]
  },
  {
   "cell_type": "markdown",
   "id": "e1b4cda4",
   "metadata": {
    "slideshow": {
     "slide_type": "subslide"
    }
   },
   "source": [
    "$$sL$$\n",
    "\n",
    "$$1/R$$\n",
    "\n",
    "$$sC$$\n",
    "\n",
    "$$\\frac{1}{sC}$$\n",
    "\n",
    "$$\\frac{1}{sL}$$\n",
    "\n",
    "$$R$$"
   ]
  },
  {
   "cell_type": "markdown",
   "id": "f1b16b41",
   "metadata": {
    "slideshow": {
     "slide_type": "fragment"
    }
   },
   "source": [
    "**-> Open Poll**"
   ]
  },
  {
   "cell_type": "markdown",
   "id": "63358cc1",
   "metadata": {
    "slideshow": {
     "slide_type": "slide"
    }
   },
   "source": [
    "Consider the $s$-domain RLC series circuit shown in {numref}`fig:complex_imp`, where the initial conditions are assumed to be zero.\n",
    "\n",
    ":::{figure-md} fig:complex_imp\n",
    "\n",
    "<img src=\"pictures/impedence.png\" alt=\"RLC series circuit.\" width=\"60%\">\n",
    "\n",
    "RLC series circuit\n",
    ":::"
   ]
  },
  {
   "cell_type": "markdown",
   "id": "5d29df19",
   "metadata": {
    "slideshow": {
     "slide_type": "subslide"
    }
   },
   "source": [
    "For this circuit, the sum\n",
    "\n",
    "$$R + sL + \\frac{1}{sC}$$ \n",
    "\n",
    "represents that total opposition to current flow."
   ]
  },
  {
   "cell_type": "markdown",
   "id": "76a5a454",
   "metadata": {
    "slideshow": {
     "slide_type": "fragment"
    }
   },
   "source": [
    "Then,\n",
    "\n",
    "$$I(s) = \\frac{V_s(s)}{R + sL + 1/(sC)}$$"
   ]
  },
  {
   "cell_type": "markdown",
   "id": "6439d701",
   "metadata": {
    "slideshow": {
     "slide_type": "subslide"
    }
   },
   "source": [
    "and defining the ratio $V_s(s)/I(s)$ as $Z(s)$, we obtain\n",
    "\n",
    "$$Z(s) = \\frac{V_s(s)}{I(s)} = R + sL + \\frac{1}{sC}$$"
   ]
  },
  {
   "cell_type": "markdown",
   "id": "842aaec8",
   "metadata": {
    "slideshow": {
     "slide_type": "subslide"
    }
   },
   "source": [
    "The $s$-domain current $I(s)$ can be found from \n",
    "\n",
    "$$I(s) = \\frac{V_s(s)}{Z(s)}$$\n",
    "\n",
    "where\n",
    "\n",
    "$$Z(s) = R + sL + \\frac{1}{sC}.$$"
   ]
  },
  {
   "cell_type": "markdown",
   "id": "0c429c72",
   "metadata": {
    "slideshow": {
     "slide_type": "fragment"
    }
   },
   "source": [
    "Since $s = \\sigma + j\\omega$ is a complex number, $Z(s)$ is also complex and is known as the *complex input impedance* of this RLC series circuit."
   ]
  },
  {
   "cell_type": "markdown",
   "id": "8adb1e2c",
   "metadata": {
    "slideshow": {
     "slide_type": "slide"
    }
   },
   "source": [
    "(complex_admittance)=\n",
    "## Complex Admittance $Y(s)$\n",
    "\n",
    "By analogy with the *admittance* of a resistor $G$, a component with complex admittance $Y(s)$ satisfies Ohm's law:\n",
    "\n",
    "$$I(s) = V(s) Y(s)$$\n",
    "\n",
    "from which\n",
    "\n",
    "$$Y(s) = \\frac{I(s)}{V(s)}$$"
   ]
  },
  {
   "cell_type": "markdown",
   "id": "a6435283",
   "metadata": {
    "slideshow": {
     "slide_type": "subslide"
    }
   },
   "source": [
    "(complex_component_admittance)=\n",
    "### Complex admittance of components\n",
    "\n",
    "For the resistance $R$$\\Omega$, inductance $L$H and capacitance $C$F, which of the following represent the complex admittance, $Y(s) = I(s)/V(s)$ of the components?"
   ]
  },
  {
   "cell_type": "markdown",
   "id": "9772db0d",
   "metadata": {
    "slideshow": {
     "slide_type": "subslide"
    }
   },
   "source": [
    "For the resistor $R$Ω, inductor $L$H and capacitance $C$F, which of the following represent the complex admittance of the components?\n",
    "\n",
    "$$sL$$\n",
    "\n",
    "$$1/R$$\n",
    "\n",
    "$$sC$$\n",
    "\n",
    "$$\\frac{1}{sC}$$\n",
    "\n",
    "$$\\frac{1}{sL}$$\n",
    "\n",
    "$$R$$"
   ]
  },
  {
   "cell_type": "markdown",
   "id": "7768fccb",
   "metadata": {
    "slideshow": {
     "slide_type": "fragment"
    }
   },
   "source": [
    "**-> Open Poll**"
   ]
  },
  {
   "cell_type": "markdown",
   "id": "8ddd4e99",
   "metadata": {
    "slideshow": {
     "slide_type": "slide"
    }
   },
   "source": [
    "Consider the $s$-domain GLC parallel circuit shown in {numref}`fig:comp_adm` where the initial conditions are zero.\n",
    "\n",
    ":::{figure-md} fig:comp_adm\n",
    "\n",
    "<img src=\"pictures/admittance.png\" alt=\"A GLC parallel circuit\" width=\"60%\">\n",
    "\n",
    "A GLC parallel circuit\n",
    ":::"
   ]
  },
  {
   "cell_type": "markdown",
   "id": "af00e6ca",
   "metadata": {
    "slideshow": {
     "slide_type": "subslide"
    }
   },
   "source": [
    "For this circuit\n",
    "\n",
    "$$GV(s)+ \\frac{1}{sL}V(s) + sCV(s) = I_s(s)$$"
   ]
  },
  {
   "cell_type": "markdown",
   "id": "73ecea66",
   "metadata": {
    "slideshow": {
     "slide_type": "fragment"
    }
   },
   "source": [
    "$$\\left(G+ \\frac{1}{sL} + sC\\right)V(s) = I_s(s)$$"
   ]
  },
  {
   "cell_type": "markdown",
   "id": "de2be78a",
   "metadata": {
    "slideshow": {
     "slide_type": "subslide"
    }
   },
   "source": [
    "Defining the ratio $I_s(s)/V(s)$ as $Y(s)$ we obtain\n",
    "\n",
    "$$Y(s)=\\frac{I_s(s)}{V(s)} = G+ \\frac{1}{sL} + sC = \\frac{1}{Z(s)}$$"
   ]
  },
  {
   "cell_type": "markdown",
   "id": "e360eda4",
   "metadata": {
    "slideshow": {
     "slide_type": "subslide"
    }
   },
   "source": [
    "The $s$-domain voltage $V(s)$ can be found from \n",
    "\n",
    "$$V(s) = \\frac{I_s(s)}{Y(s)}$$\n",
    "\n",
    "where\n",
    "\n",
    "$$Y(s) = G + \\frac{1}{sL} + sC.$$"
   ]
  },
  {
   "cell_type": "markdown",
   "id": "f3bca88e",
   "metadata": {
    "slideshow": {
     "slide_type": "fragment"
    }
   },
   "source": [
    "$Y(s)$ is complex and is known as the *complex input admittance* of this GLC parallel circuit."
   ]
  },
  {
   "cell_type": "markdown",
   "id": "b0385d72",
   "metadata": {
    "slideshow": {
     "slide_type": "subslide"
    }
   },
   "source": [
    "(examples12)=\n",
    "## Examples 12\n",
    "\n",
    "We will work through these in class."
   ]
  },
  {
   "cell_type": "markdown",
   "id": "9828e9ce",
   "metadata": {
    "slideshow": {
     "slide_type": "subslide"
    }
   },
   "source": [
    "(ex:12.1)=\n",
    "### Example 12.1\n",
    "\n",
    "Use the Laplace transform method and apply Kirchoff's Current Law (KCL) to find the voltage $v_c(t)$ across the capacitor for the circuit in {numref}`fig:12.1` given that $v_c(0^-) = 6$ V.\n",
    "\n",
    ":::{figure-md} fig:12.1\n",
    "<img src=\"pictures/example1_2.png\" alt=\"Circuit for Example 12.1\" width=\"60%\">\n",
    "\n",
    "Circuit for Example 12.1\n",
    ":::"
   ]
  },
  {
   "cell_type": "markdown",
   "id": "6e1e2887",
   "metadata": {
    "slideshow": {
     "slide_type": "notes"
    }
   },
   "source": [
    "**OneNote Class Notebook Scratch Pad**\n",
    "\n",
    "<pre style=\"border: 2px solid blue\">\n",
    "\n",
    "\n",
    "\n",
    "\n",
    "\n",
    "\n",
    "\n",
    "\n",
    "\n",
    "\n",
    "\n",
    "\n",
    "\n",
    "\n",
    "\n",
    "\n",
    "\n",
    "\n",
    "\n",
    "\n",
    "\n",
    "\n",
    "\n",
    "\n",
    "\n",
    "\n",
    "\n",
    "\n",
    "\n",
    "\n",
    "\n",
    "\n",
    "\n",
    "\n",
    "\n",
    "\n",
    "\n",
    "\n",
    "\n",
    "\n",
    "\n",
    "\n",
    "</pre>"
   ]
  },
  {
   "cell_type": "markdown",
   "id": "43508739",
   "metadata": {
    "slideshow": {
     "slide_type": "subslide"
    }
   },
   "source": [
    "(ex:12.2)=\n",
    "### Example 12.2\n",
    "\n",
    "Use the Laplace transform method and apply Kirchoff's Voltage Law (KVL) to find the voltage $v_c(t)$ across the capacitor for the circuit shown in {numref}`fig:12.2` given that $v_c(0^-) = 6$ V.\n",
    "\n",
    ":::{figure-md} Fig:ex12.2\n",
    "<img src=\"pictures/example1_2.png\" alt=\"Circuit for Example 12.2\" width=\"60%\">\n",
    "\n",
    "Circuit for Example 12.2\n",
    ":::"
   ]
  },
  {
   "cell_type": "markdown",
   "id": "cc2c4596",
   "metadata": {
    "slideshow": {
     "slide_type": "notes"
    }
   },
   "source": [
    "**OneNote Class Notebook Scratch Pad**\n",
    "\n",
    "<pre style=\"border: 2px solid blue\">\n",
    "\n",
    "\n",
    "\n",
    "\n",
    "\n",
    "\n",
    "\n",
    "\n",
    "\n",
    "\n",
    "\n",
    "\n",
    "\n",
    "\n",
    "\n",
    "\n",
    "\n",
    "\n",
    "\n",
    "\n",
    "\n",
    "\n",
    "\n",
    "\n",
    "\n",
    "\n",
    "\n",
    "\n",
    "\n",
    "\n",
    "\n",
    "\n",
    "\n",
    "\n",
    "\n",
    "\n",
    "\n",
    "\n",
    "\n",
    "\n",
    "\n",
    "\n",
    "</pre>"
   ]
  },
  {
   "cell_type": "markdown",
   "id": "7289ddfe",
   "metadata": {
    "slideshow": {
     "slide_type": "subslide"
    }
   },
   "source": [
    "(ex:12.3)=\n",
    "### Example 12.3\n",
    "\n",
    "In the circuit shown in {numref}`fig:ex12.3`, switch $S_1$ closes at $t=0$, while at the same time, switch $S_2$ opens. Use the Laplace transform method to find $v_{\\mathrm{out}}(t)$ for $t > 0$.\n",
    "\n",
    ":::{figure-md} Fig:ex12.3\n",
    "<img src=\"pictures/example3.png\" alt=\"Circuit for Example 12.3\" width=\"1000%\">\n",
    "\n",
    "Circuit for Example 12.3\n",
    ":::"
   ]
  },
  {
   "cell_type": "markdown",
   "id": "660ea923",
   "metadata": {
    "slideshow": {
     "slide_type": "subslide"
    }
   },
   "source": [
    "We can show how with the assistance of MATLAB (See [solution12_3.m](https://cpjobling.github.io/eg-247-textbook/laplace_transform/matlab/solution12_3.m)) that the solution is\n",
    "\n",
    "$$V_{\\mathrm{out}}=\\left(1.36e^{-6.57t}+0.64e^{-0.715t}\\cos 0.316t - 1.84e^{-0.715t}\\sin 0.316t\\right)u_0(t)$$ (sol:12.3)\n",
    "\n",
    "and we can plot the result (see {ref}`sol:mat12.3`)"
   ]
  },
  {
   "cell_type": "markdown",
   "id": "a21bfbdc",
   "metadata": {
    "slideshow": {
     "slide_type": "notes"
    }
   },
   "source": [
    "#### Worked Solution: {ref}`ex:12.3`\n",
    "\n",
    "\n",
    "File Pencast: [example12_3.pdf](https://cpjobling.github.io/eg-247-textbook/laplace_transform/worked_examples/example3.pdf) - Download and open in Adobe Acrobat Reader.\n",
    "\n",
    "The attached PDF gives the solution to {ref}`ex:12.3` by hand. It's quite a complex, error-prone (as you can see by the crosssings out!) calculation that needs careful attention to detail. This in itself gives justification to my belief that you should use computers wherever possible."
   ]
  },
  {
   "cell_type": "markdown",
   "id": "c3f275f6",
   "metadata": {
    "slideshow": {
     "slide_type": "subslide"
    }
   },
   "source": [
    "(sol:12.3)=\n",
    "#### Solution to Example 12.3\n",
    "\n",
    "We will use a combination of pen-and-paper and MATLAB to solve this."
   ]
  },
  {
   "cell_type": "markdown",
   "id": "79b02e5d",
   "metadata": {
    "slideshow": {
     "slide_type": "subslide"
    }
   },
   "source": [
    "##### 1. Equivalent Circuit\n",
    "\n",
    "Draw equivalent circuit at $t=0$"
   ]
  },
  {
   "cell_type": "markdown",
   "id": "28be2a92",
   "metadata": {
    "slideshow": {
     "slide_type": "notes"
    }
   },
   "source": [
    "**OneNote Class Notebook Scratch Pad**\n",
    "\n",
    "<pre style=\"border: 2px solid blue\">\n",
    "\n",
    "\n",
    "\n",
    "\n",
    "\n",
    "\n",
    "\n",
    "\n",
    "\n",
    "\n",
    "\n",
    "\n",
    "\n",
    "\n",
    "\n",
    "\n",
    "\n",
    "\n",
    "\n",
    "\n",
    "\n",
    "\n",
    "\n",
    "\n",
    "\n",
    "\n",
    "\n",
    "\n",
    "</pre>"
   ]
  },
  {
   "cell_type": "markdown",
   "id": "4bf62c39",
   "metadata": {
    "slideshow": {
     "slide_type": "subslide"
    }
   },
   "source": [
    "##### 2. Transform model\n",
    "\n",
    "Convert to transforms"
   ]
  },
  {
   "cell_type": "markdown",
   "id": "7f861999",
   "metadata": {
    "slideshow": {
     "slide_type": "notes"
    }
   },
   "source": [
    "**OneNote Class Notebook Scratch Pad**\n",
    "\n",
    "\n",
    "<pre style=\"border: 2px solid blue\">\n",
    "\n",
    "\n",
    "\n",
    "\n",
    "\n",
    "\n",
    "\n",
    "\n",
    "\n",
    "\n",
    "\n",
    "\n",
    "\n",
    "\n",
    "\n",
    "\n",
    "\n",
    "\n",
    "\n",
    "\n",
    "\n",
    "\n",
    "\n",
    "\n",
    "\n",
    "\n",
    "\n",
    "\n",
    "</pre>"
   ]
  },
  {
   "cell_type": "markdown",
   "id": "92e46b09",
   "metadata": {
    "slideshow": {
     "slide_type": "subslide"
    }
   },
   "source": [
    "##### 3. Determine equation\n",
    "\n",
    "Determine equation for $V_{\\rm out}(s)$."
   ]
  },
  {
   "cell_type": "markdown",
   "id": "b026f52e",
   "metadata": {
    "slideshow": {
     "slide_type": "notes"
    }
   },
   "source": [
    "**OneNote Class Notebook Scratch Pad**\n",
    "\n",
    "<pre style=\"border: 2px solid blue\">\n",
    "\n",
    "\n",
    "\n",
    "\n",
    "\n",
    "\n",
    "\n",
    "\n",
    "\n",
    "\n",
    "\n",
    "\n",
    "\n",
    "\n",
    "\n",
    "\n",
    "\n",
    "\n",
    "\n",
    "\n",
    "\n",
    "\n",
    "\n",
    "</pre>"
   ]
  },
  {
   "cell_type": "markdown",
   "id": "f0485b10",
   "metadata": {
    "slideshow": {
     "slide_type": "subslide"
    }
   },
   "source": [
    "(sol:mat12.3)=\n",
    "#### 4. Complete solution in MATLAB\n",
    "\n",
    "In the lecture we showed that after simplification for {ref}`ex:12.3`\n",
    "\n",
    "$$V_{\\mathrm{out}}(s)=\\frac{2s(s+3)}{s^3 + 8s^2 + 10s + 4}$$\n",
    "\n",
    "We will use MATLAB to factorize the denominator $D(s)$ of the equation\n",
    "into a linear and a quadratic factor."
   ]
  },
  {
   "cell_type": "markdown",
   "id": "07eb0869",
   "metadata": {
    "slideshow": {
     "slide_type": "subslide"
    }
   },
   "source": [
    "##### Find roots of Denominator D(s)"
   ]
  },
  {
   "cell_type": "code",
   "execution_count": 8,
   "id": "0a20226b",
   "metadata": {
    "slideshow": {
     "slide_type": "fragment"
    },
    "tags": [
     "remove-output"
    ]
   },
   "outputs": [
    {
     "name": "stdout",
     "output_type": "stream",
     "text": [
      "\n",
      "p =\n",
      "\n",
      "  -6.5708 + 0.0000i\n",
      "  -0.7146 + 0.3132i\n",
      "  -0.7146 - 0.3132i\n",
      "\n"
     ]
    }
   ],
   "source": [
    "p = roots([1, 8, 10, 4])"
   ]
  },
  {
   "cell_type": "markdown",
   "id": "c03e2a6e",
   "metadata": {
    "slideshow": {
     "slide_type": "subslide"
    }
   },
   "source": [
    "##### Find quadratic form"
   ]
  },
  {
   "cell_type": "code",
   "execution_count": 9,
   "id": "423d192f",
   "metadata": {
    "slideshow": {
     "slide_type": "fragment"
    },
    "tags": [
     "remove-output"
    ]
   },
   "outputs": [
    {
     "name": "stdout",
     "output_type": "stream",
     "text": [
      " \n"
     ]
    },
    {
     "name": "stdout",
     "output_type": "stream",
     "text": [
      "y =\n"
     ]
    },
    {
     "name": "stdout",
     "output_type": "stream",
     "text": [
      " \n"
     ]
    },
    {
     "name": "stdout",
     "output_type": "stream",
     "text": [
      "s^2 + (804595903579775*s)/562949953421312 + 3086772113315577969665007046981/5070602400912917605986812821504\n"
     ]
    },
    {
     "name": "stdout",
     "output_type": "stream",
     "text": [
      " \n"
     ]
    }
   ],
   "source": [
    "syms s t\n",
    "y = expand((s - p(2))*(s - p(3)))"
   ]
  },
  {
   "cell_type": "markdown",
   "id": "91807662",
   "metadata": {
    "slideshow": {
     "slide_type": "subslide"
    }
   },
   "source": [
    "##### Simplify coefficients of s"
   ]
  },
  {
   "cell_type": "code",
   "execution_count": 10,
   "id": "5a25af48",
   "metadata": {
    "slideshow": {
     "slide_type": "subslide"
    },
    "tags": [
     "remove-output"
    ]
   },
   "outputs": [
    {
     "name": "stdout",
     "output_type": "stream",
     "text": [
      "\n",
      "y =\n",
      "\n",
      "    1.0000    1.4292    0.6088\n",
      "\n"
     ]
    }
   ],
   "source": [
    "y = sym2poly(y)"
   ]
  },
  {
   "cell_type": "markdown",
   "id": "9b8ac6ad",
   "metadata": {
    "slideshow": {
     "slide_type": "subslide"
    }
   },
   "source": [
    "##### Complete the Square\n",
    "\n",
    "**OneNote Class Notebook Scratch Pad**"
   ]
  },
  {
   "cell_type": "markdown",
   "id": "b8db30ec",
   "metadata": {
    "slideshow": {
     "slide_type": "notes"
    }
   },
   "source": [
    "<pre style=\"border: 2px solid blue\">\n",
    "\n",
    "\n",
    "\n",
    "\n",
    "\n",
    "\n",
    "\n",
    "\n",
    "\n",
    "\n",
    "\n",
    "\n",
    "\n",
    "\n",
    "\n",
    "\n",
    "\n",
    "\n",
    "\n",
    "\n",
    "\n",
    "\n",
    "\n",
    "</pre>"
   ]
  },
  {
   "cell_type": "markdown",
   "id": "7a5134d2",
   "metadata": {
    "slideshow": {
     "slide_type": "subslide"
    }
   },
   "source": [
    "##### Plot result\n",
    "\n",
    "From equation {eq}`sol:12.3`"
   ]
  },
  {
   "cell_type": "code",
   "execution_count": 11,
   "id": "72e23063",
   "metadata": {
    "slideshow": {
     "slide_type": "subslide"
    },
    "tags": [
     "remove-output"
    ]
   },
   "outputs": [
    {
     "data": {
      "image/png": "[encoded data removed]",
      "text/plain": [
       "<IPython.core.display.Image object>"
      ]
     },
     "metadata": {
      "filenames": {
       "image/png": "/Users/eechris/code/src/github.com/cpjobling/eg-150-textbook/_build/jupyter_execute/laplace_transform/5/circuit_analysis_84_0.png"
      }
     },
     "output_type": "display_data"
    }
   ],
   "source": [
    "t=0:0.01:10;\n",
    "Vout = 1.36.*exp(-6.57.*t)...\n",
    "   +0.64.*exp(-0.715.*t).*cos(0.316.*t)...\n",
    "   -1.84.*exp(-0.715.*t).*sin(0.316.*t);\n",
    "plot(t, Vout); grid\n",
    "title('Plot of Vout(t) for the circuit of Example 3')\n",
    "ylabel('Vout(t) V'),xlabel('Time t s')"
   ]
  },
  {
   "cell_type": "markdown",
   "id": "2bc6fd5d",
   "metadata": {
    "slideshow": {
     "slide_type": "subslide"
    }
   },
   "source": [
    "##### Alternative solution using transfer functions"
   ]
  },
  {
   "cell_type": "code",
   "execution_count": 12,
   "id": "6c3d76be",
   "metadata": {
    "slideshow": {
     "slide_type": "fragment"
    },
    "tags": [
     "remove-output"
    ]
   },
   "outputs": [
    {
     "name": "stdout",
     "output_type": "stream",
     "text": [
      "\n",
      "Vout =\n"
     ]
    },
    {
     "name": "stdout",
     "output_type": "stream",
     "text": [
      " \n"
     ]
    },
    {
     "name": "stdout",
     "output_type": "stream",
     "text": [
      "       2 s^2 + 6 s\n"
     ]
    },
    {
     "name": "stdout",
     "output_type": "stream",
     "text": [
      "  ----------------------\n"
     ]
    },
    {
     "name": "stdout",
     "output_type": "stream",
     "text": [
      "  s^3 + 8 s^2 + 10 s + 4\n"
     ]
    },
    {
     "name": "stdout",
     "output_type": "stream",
     "text": [
      " \n"
     ]
    },
    {
     "name": "stdout",
     "output_type": "stream",
     "text": [
      "Continuous-time transfer function.\n",
      "\n"
     ]
    }
   ],
   "source": [
    "Vout = tf(2*conv([1, 0],[1, 3]),[1, 8, 10, 4])"
   ]
  },
  {
   "cell_type": "code",
   "execution_count": 13,
   "id": "00503963",
   "metadata": {
    "slideshow": {
     "slide_type": "subslide"
    },
    "tags": [
     "remove-output"
    ]
   },
   "outputs": [
    {
     "data": {
      "image/png": "[encoded data removed]",
      "text/plain": [
       "<IPython.core.display.Image object>"
      ]
     },
     "metadata": {
      "filenames": {
       "image/png": "/Users/eechris/code/src/github.com/cpjobling/eg-150-textbook/_build/jupyter_execute/laplace_transform/5/circuit_analysis_87_0.png"
      }
     },
     "output_type": "display_data"
    }
   ],
   "source": [
    "impulse(Vout)"
   ]
  },
  {
   "cell_type": "markdown",
   "id": "711f18a9",
   "metadata": {
    "slideshow": {
     "slide_type": "subslide"
    }
   },
   "source": [
    "### Example 12.4\n",
    "\n",
    "Consider {numref}`fig:complex_imp` and give an expression for $V_c(s)$."
   ]
  },
  {
   "cell_type": "markdown",
   "id": "65a61444",
   "metadata": {
    "slideshow": {
     "slide_type": "notes"
    }
   },
   "source": [
    "**OneNote Class Notebook Scratch Pad**\n",
    "\n",
    "<pre style=\"border: 2px solid blue\">\n",
    "\n",
    "\n",
    "\n",
    "\n",
    "\n",
    "\n",
    "\n",
    "\n",
    "\n",
    "\n",
    "\n",
    "\n",
    "\n",
    "\n",
    "\n",
    "</pre>"
   ]
  },
  {
   "cell_type": "markdown",
   "id": "112d9703",
   "metadata": {
    "slideshow": {
     "slide_type": "subslide"
    }
   },
   "source": [
    "(ex:12.5)=\n",
    "### Example 12.5\n",
    "\n",
    "For the network shown in {numref}`fig:ex12.5`, all the complex impedance values are given in $\\Omega$ (ohms). \n",
    "\n",
    ":::{figure-md} Fig:ex12.5\n",
    "<img src=\"pictures/example4.png\" alt=\"Circuit for Example 12.5\" width=\"60%\">\n",
    "\n",
    "Circuit for Example 12.5\n",
    ":::\n",
    "\n",
    "Find $Z(s)$ using:\n",
    "    \n",
    "1. nodal analysis\n",
    "2. by successive application of parallel and series combination of impedences"
   ]
  },
  {
   "cell_type": "markdown",
   "id": "9bc573a5",
   "metadata": {
    "slideshow": {
     "slide_type": "notes"
    }
   },
   "source": [
    "#### 1. Solution by nodal analysis\n",
    "\n",
    "**OneNote Class Notebook Scratch Pad**\n",
    "\n",
    "<pre style=\"border: 2px solid blue\">\n",
    "\n",
    "\n",
    "\n",
    "\n",
    "\n",
    "\n",
    "\n",
    "\n",
    "\n",
    "\n",
    "\n",
    "\n",
    "\n",
    "\n",
    "\n",
    "</pre>"
   ]
  },
  {
   "cell_type": "markdown",
   "id": "a59d04dc",
   "metadata": {
    "slideshow": {
     "slide_type": "notes"
    }
   },
   "source": [
    "#### 2. Solution by by successive application of parallel and series combination of impedences\n",
    "\n",
    "**OneNote Class Notebook Scratch Pad**\n",
    "\n",
    "<pre style=\"border: 2px solid blue\">\n",
    "\n",
    "\n",
    "\n",
    "\n",
    "\n",
    "\n",
    "\n",
    "\n",
    "\n",
    "\n",
    "\n",
    "\n",
    "\n",
    "\n",
    "\n",
    "</pre>\n",
    "\n",
    "**Solutions**: Pencasts [ex4_1.pdf](https://cpjobling.github.io/eg-247-textbook/laplace_transform/worked_examples/ex4_1.pdf) and [ex4_2.pdf](https://cpjobling.github.io/eg-247-textbook/laplace_transform/worked_examples/ex4_2.pdf) &ndash; open in Adobe Acrobat."
   ]
  },
  {
   "cell_type": "markdown",
   "id": "b86b2437",
   "metadata": {
    "slideshow": {
     "slide_type": "subslide"
    }
   },
   "source": [
    "(ex:12.6)=\n",
    "### Example 12.6 - Do It Yourself\n",
    "\n",
    "Compute $Z(s)$ and $Y(s)$ for the circuit shown in {numref}`fig:ex12.6`. All impedence values are in $\\Omega$ (ohms). Verify your answers with MATLAB.\n",
    "\n",
    ":::{figure-md} fig:ex12.6\n",
    "<img src=\"pictures/example5.png\" alt=\"Circuit for Example 12.6\" width=\"60%\">\n",
    "\n",
    "Circuit for Example 12.6\n",
    ":::"
   ]
  },
  {
   "cell_type": "markdown",
   "id": "152f511f",
   "metadata": {
    "slideshow": {
     "slide_type": "notes"
    }
   },
   "source": [
    "####  Solution 12.6 \n",
    "\n",
    "**OneNote Class Notebook Scratch Pad**\n",
    "<pre style=\"border: 2px solid blue\">\n",
    "\n",
    "\n",
    "\n",
    "\n",
    "\n",
    "\n",
    "\n",
    "\n",
    "\n",
    "\n",
    "\n",
    "\n",
    "\n",
    "\n",
    "\n",
    "\n",
    "\n",
    "\n",
    "\n",
    "\n",
    "\n",
    "\n",
    "\n",
    "\n",
    "</pre>"
   ]
  },
  {
   "cell_type": "markdown",
   "id": "b7691600",
   "metadata": {
    "slideshow": {
     "slide_type": "subslide"
    }
   },
   "source": [
    "#### Answer 12.6\n",
    "\n",
    "$$Z(s) = \\frac{65s^4 + 490s^3 + 528s^2 + 400s + 128}{s(5s^2 + 30s + 16)}$$\n",
    "\n",
    "$$Y(s) = \\frac{1}{Z(s)} = \\frac{s(5s^2 + 30s + 16)}{65s^4 + 490s^3 + 528s^2 + 400s + 128}$$\n",
    "\n",
    "Matlab verification: [solution12_6.m](https://cpjobling.github.io/eg-247-textbook/laplace_transform/matlab/solution12_6.m)"
   ]
  },
  {
   "cell_type": "markdown",
   "id": "681091be",
   "metadata": {
    "slideshow": {
     "slide_type": "subslide"
    }
   },
   "source": [
    "(mat:12.6)=\n",
    "#### Example 12.6: Verification of Solution"
   ]
  },
  {
   "cell_type": "code",
   "execution_count": 14,
   "id": "7b0ce4e9",
   "metadata": {
    "slideshow": {
     "slide_type": "subslide"
    },
    "tags": [
     "remove-output"
    ]
   },
   "outputs": [],
   "source": [
    "syms s;\n",
    "\n",
    "z1 = 13*s + 8/s;\n",
    "z2 = 5*s + 10;\n",
    "z3 = 20 + 16/s;"
   ]
  },
  {
   "cell_type": "code",
   "execution_count": 15,
   "id": "7d16e1db",
   "metadata": {
    "slideshow": {
     "slide_type": "subslide"
    },
    "tags": [
     "remove-output"
    ]
   },
   "outputs": [
    {
     "name": "stdout",
     "output_type": "stream",
     "text": [
      " \n"
     ]
    },
    {
     "name": "stdout",
     "output_type": "stream",
     "text": [
      "z =\n"
     ]
    },
    {
     "name": "stdout",
     "output_type": "stream",
     "text": [
      " \n"
     ]
    },
    {
     "name": "stdout",
     "output_type": "stream",
     "text": [
      "13*s + 8/s + ((5*s + 10)*(16/s + 20))/(5*s + 16/s + 30)\n"
     ]
    },
    {
     "name": "stdout",
     "output_type": "stream",
     "text": [
      " \n"
     ]
    }
   ],
   "source": [
    "z = z1 + z2 * z3 /(z2 + z3)"
   ]
  },
  {
   "cell_type": "code",
   "execution_count": 16,
   "id": "2ce537b4",
   "metadata": {
    "slideshow": {
     "slide_type": "subslide"
    },
    "tags": [
     "remove-output"
    ]
   },
   "outputs": [
    {
     "name": "stdout",
     "output_type": "stream",
     "text": [
      " \n"
     ]
    },
    {
     "name": "stdout",
     "output_type": "stream",
     "text": [
      "z10 =\n",
      " \n"
     ]
    },
    {
     "name": "stdout",
     "output_type": "stream",
     "text": [
      "(65*s^4 + 490*s^3 + 528*s^2 + 400*s + 128)/(s*(5*s^2 + 30*s + 16))\n"
     ]
    },
    {
     "name": "stdout",
     "output_type": "stream",
     "text": [
      " \n"
     ]
    }
   ],
   "source": [
    "z10 = simplify(z)"
   ]
  },
  {
   "cell_type": "code",
   "execution_count": 17,
   "id": "423be87b",
   "metadata": {
    "slideshow": {
     "slide_type": "subslide"
    },
    "tags": [
     "remove-output"
    ]
   },
   "outputs": [
    {
     "name": "stdout",
     "output_type": "stream",
     "text": [
      "    4        3        2\n",
      "65 s  + 490 s  + 528 s  + 400 s + 128\n",
      "-------------------------------------\n",
      "               2\n",
      "         s (5 s  + 30 s + 16)\n",
      "\n"
     ]
    }
   ],
   "source": [
    "pretty(z10)"
   ]
  },
  {
   "cell_type": "markdown",
   "id": "280c116c",
   "metadata": {},
   "source": [
    "##### Admittance"
   ]
  },
  {
   "cell_type": "code",
   "execution_count": 18,
   "id": "b2cbdcc7",
   "metadata": {
    "slideshow": {
     "slide_type": "subslide"
    },
    "tags": [
     "remove-output"
    ]
   },
   "outputs": [
    {
     "name": "stdout",
     "output_type": "stream",
     "text": [
      "               2\n",
      "         s (5 s  + 30 s + 16)\n",
      "-------------------------------------\n",
      "    4        3        2\n",
      "65 s  + 490 s  + 528 s  + 400 s + 128\n",
      "\n"
     ]
    }
   ],
   "source": [
    "y10 = 1/z10;\n",
    "pretty(y10)"
   ]
  },
  {
   "cell_type": "markdown",
   "id": "13ec4356",
   "metadata": {
    "slideshow": {
     "slide_type": "notes"
    }
   },
   "source": [
    "## Lab Work\n",
    "\n",
    "In MATLAB Lab 5, we will explore the tools provided by MATLAB for solving circuit analysis problems."
   ]
  },
  {
   "cell_type": "markdown",
   "id": "95abd703",
   "metadata": {
    "slideshow": {
     "slide_type": "notes"
    }
   },
   "source": [
    "## Homework\n",
    "\n",
    "Complete any exercises that were not covered in the class or follow-up examples class. There are a number of related problems in [Solved Problems 3.39](https://www.accessengineeringlibrary.com/content/book/9781260454246/toc-chapter/chapter3/section/section47#ch03fig14)&mdash;3.41 in {cite}`schaum` and in section [4.7 Exercises](https://ebookcentral.proquest.com/lib/swansea-ebooks/reader.action?docID=3384197&ppg=121) in {cite}`karris`. \n",
    "\n",
    "Supplementary problems [3.52 and following](https://www.accessengineeringlibrary.com/content/book/9781260454246/toc-chapter/chapter3/section/section48) ({cite}`schaum`) provide opportunities for extra practice."
   ]
  },
  {
   "cell_type": "markdown",
   "id": "f9a99ec6",
   "metadata": {
    "slideshow": {
     "slide_type": "notes"
    }
   },
   "source": [
    "## Summary\n",
    "\n",
    "In this section we have looked at the application of the Laplace transform to circuit analysis.\n",
    "\n",
    "* {ref}`circuit_transforms`\n",
    "\n",
    "* {ref}`complex_impedance`\n",
    "\n",
    "* {ref}`complex_admittance`\n",
    "\n",
    "* {ref}`examples12`\n",
    "\n",
    "## Take Aways\n",
    "\n",
    "Circuit analysis can be performed using Laplace transforms by using the Laplace transform equivalents of the component impedence or admittance. In particular, for impedence, we use $R$, $sL$ and $1/sC$; for admittance we use $G = 1/R$, $1/sL$, $sC$. Once the circuit has been reduced to a rational polynomial in $s$, the inverse laplace transform can be used to determine the time response of the circuit.\n",
    "\n",
    "When dealing with components using their complex component equivalents, the usual circuit analysis rules, KVL, KCL, voltage-divider rule, etc, can all be used.\n",
    "\n",
    "Complex impedence of a circuit is the resistance to current flow and is given by the general law $V(s) = Z(s) I(s)$ from which the impendence is given by $Z(s) = V(s)/I(s)$. Similarly, the complex admittance of a circuit is given by $Y(s) = I(s)/V(s)$.\n",
    "\n",
    "Complex admittance is the reciprocal of complex impedence $Y(s) = 1/Z(s)$.\n",
    "\n",
    "Though not a consequence of the Laplace transform, it is worth noting that the use impedence facilitates the analysis of circuits for which the compoents are commected in series; for circuits with parallel connection of components, the use of admittance facilitates the analsysis."
   ]
  },
  {
   "cell_type": "markdown",
   "id": "b53566f6",
   "metadata": {
    "slideshow": {
     "slide_type": "subslide"
    }
   },
   "source": [
    "## Next time\n",
    "\n",
    "We move on to consider \n",
    "\n",
    "* {ref}`unit4.6`\n",
    "\n",
    "## References\n",
    "\n",
    "```{bibliography}\n",
    ":filter: docname in docnames\n",
    "```"
   ]
  },
  {
   "cell_type": "markdown",
   "id": "81eb75b8",
   "metadata": {
    "slideshow": {
     "slide_type": "slide"
    }
   },
   "source": [
    "(matlab_solutions12)=\n",
    "## Matlab Solutions\n",
    "\n",
    "For convenience, single script MATLAB solutions to the examples are provided and can be downloaded from the accompanying [MATLAB](https://github.com/cpjobling/eg-247-textbook/tree/master/laplace_transform/matlab) folder in the [GitHub repository](https://github.com/cpjobling/eg-247-textbook).\n",
    "\n",
    "* Solution 12.3 [[solution12_3.m](https://cpjobling.github.io/eg-247-textbook/laplace_transform/matlab/solution12_3.m)]\n",
    "* Solution 12.6 [[solution12_6](https://cpjobling.github.io/eg-247-textbook/laplace_transform/matlab/solution12_6.m)]"
   ]
  }
 ],
 "metadata": {
  "jupytext": {
   "formats": "ipynb,md:myst",
   "text_representation": {
    "extension": ".md",
    "format_name": "myst",
    "format_version": 0.13,
    "jupytext_version": "1.14.4"
   }
  },
  "kernelspec": {
   "display_name": "Matlab",
   "language": "matlab",
   "name": "matlab"
  },
  "language_info": {
   "codemirror_mode": "octave",
   "file_extension": ".m",
   "help_links": [
    {
     "text": "MetaKernel Magics",
     "url": "https://metakernel.readthedocs.io/en/latest/source/README.html"
    }
   ],
   "mimetype": "text/x-octave",
   "name": "matlab",
   "version": "0.17.1"
  },
  "source_map": [
   15,
   20,
   24,
   38,
   44,
   54,
   59,
   73,
   81,
   89,
   93,
   101,
   107,
   111,
   121,
   125,
   141,
   152,
   166,
   174,
   182,
   186,
   195,
   201,
   205,
   215,
   219,
   233,
   247,
   261,
   269,
   277,
   281,
   290,
   296,
   300,
   310,
   314,
   329,
   342,
   355,
   362,
   376,
   380,
   391,
   399,
   405,
   411,
   421,
   425,
   438,
   445,
   461,
   465,
   476,
   482,
   486,
   492,
   502,
   506,
   513,
   526,
   575,
   588,
   637,
   650,
   658,
   667,
   674,
   680,
   715,
   721,
   757,
   763,
   793,
   805,
   809,
   818,
   822,
   832,
   836,
   845,
   851,
   879,
   885,
   900,
   904,
   913,
   922,
   928,
   950,
   968,
   992,
   1018,
   1031,
   1063,
   1073,
   1078,
   1091,
   1100,
   1109,
   1116,
   1120,
   1130,
   1136,
   1144,
   1170,
   1184
  ]
 },
 "nbformat": 4,
 "nbformat_minor": 5
}