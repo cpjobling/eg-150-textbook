{
 "cells": [
  {
   "cell_type": "markdown",
   "id": "fba2cacf",
   "metadata": {
    "nbpresent": {
     "id": "90f3c07d-3646-44b0-a549-7020fc10d16f"
    },
    "slideshow": {
     "slide_type": "slide"
    }
   },
   "source": [
    "# Unit 4.3 Properties of the Laplace Transform\n",
    "\n",
    "The preparatory reading for this section is Chapter 2.3 of {cite}`karris` and Chapter 3.3 of {cite}`schaum`."
   ]
  },
  {
   "cell_type": "markdown",
   "id": "6e21b095",
   "metadata": {},
   "source": [
    "Follow along at [cpjobling.github.io/eg-150-textbook/laplace_transform/3/laplace_properties](https://cpjobling.github.io/eg-150-textbook/laplace_transform/3/laplace_properties)\n",
    "\n",
    "![QR Code for this lecture](pictures/qrcode_laplace_3.png)"
   ]
  },
  {
   "cell_type": "markdown",
   "id": "87c66cbf",
   "metadata": {
    "nbpresent": {
     "id": "f651cafb-8c2b-4d27-aec9-3491dbcce1aa"
    },
    "slideshow": {
     "slide_type": "slide"
    }
   },
   "source": [
    "## Agenda"
   ]
  },
  {
   "cell_type": "markdown",
   "id": "a37e860a",
   "metadata": {
    "nbpresent": {
     "id": "cdff914d-604d-4ae8-a8e6-8e5caf8bd41e"
    },
    "slideshow": {
     "slide_type": "fragment"
    }
   },
   "source": [
    "* Definition of the Laplace Transform"
   ]
  },
  {
   "cell_type": "markdown",
   "id": "9e23afdb",
   "metadata": {
    "nbpresent": {
     "id": "74c922da-bfb7-4f82-808d-a89b61bd1ab6"
    },
    "slideshow": {
     "slide_type": "fragment"
    }
   },
   "source": [
    "* Some Selected Properties"
   ]
  },
  {
   "cell_type": "markdown",
   "id": "221cbc43",
   "metadata": {
    "nbpresent": {
     "id": "e7e4ac91-07af-41a4-98e4-6027ac34b41e"
    },
    "slideshow": {
     "slide_type": "fragment"
    }
   },
   "source": [
    "* Transforms of Elementary Signals"
   ]
  },
  {
   "cell_type": "markdown",
   "id": "81d80755",
   "metadata": {
    "nbpresent": {
     "id": "11a99664-2fdb-4eff-8389-043965b5a6a5"
    },
    "slideshow": {
     "slide_type": "subslide"
    }
   },
   "source": [
    "* Common system responses"
   ]
  },
  {
   "cell_type": "markdown",
   "id": "8107cfec",
   "metadata": {
    "nbpresent": {
     "id": "a2796ec3-fd12-49d3-99b8-fdc640f0af04"
    },
    "slideshow": {
     "slide_type": "fragment"
    }
   },
   "source": [
    "* Transform tables"
   ]
  },
  {
   "cell_type": "markdown",
   "id": "d24b5258",
   "metadata": {
    "nbpresent": {
     "id": "b90e7c7c-1096-4140-81b3-53a0b7e12f6d"
    },
    "slideshow": {
     "slide_type": "fragment"
    }
   },
   "source": [
    "* Examples"
   ]
  },
  {
   "cell_type": "markdown",
   "id": "1296c71a",
   "metadata": {
    "nbpresent": {
     "id": "352d0877-b48f-4b8d-9082-371f06fef621"
    },
    "slideshow": {
     "slide_type": "slide"
    }
   },
   "source": [
    "## Some Selected Properties"
   ]
  },
  {
   "cell_type": "markdown",
   "id": "c1cb8ba6",
   "metadata": {
    "nbpresent": {
     "id": "1c9ba9ad-1952-4838-966c-f5c382aed98d"
    },
    "slideshow": {
     "slide_type": "subslide"
    }
   },
   "source": [
    "### Linearity\n",
    "\n",
    "$$c_1f_1(t) + c_2f_2(t) + \\ldots + c_nf_n(t) \\Leftrightarrow c_1F_1(s) + c_2F_2(s) + \\ldots + c_nF_n(s)$$"
   ]
  },
  {
   "cell_type": "markdown",
   "id": "9b26af84",
   "metadata": {
    "nbpresent": {
     "id": "30dac3b5-90de-4b96-870a-762a98a9ec14"
    },
    "slideshow": {
     "slide_type": "subslide"
    }
   },
   "source": [
    "### Time shift\n",
    "\n",
    "$$f(t-a)u_0(t-a)\\Leftrightarrow e^{-as}F(s)$$"
   ]
  },
  {
   "cell_type": "markdown",
   "id": "bb6e2f7f",
   "metadata": {
    "nbpresent": {
     "id": "ba9b31a1-0629-4a44-a66d-396a7db21360"
    },
    "slideshow": {
     "slide_type": "subslide"
    }
   },
   "source": [
    "### Frequency shift\n",
    "\n",
    "$$e^{-at}f(t)\\Leftrightarrow F(s+a)$$"
   ]
  },
  {
   "cell_type": "markdown",
   "id": "abaf4be8",
   "metadata": {
    "nbpresent": {
     "id": "54b6a552-29a2-4907-a318-57a92c793a7e"
    },
    "slideshow": {
     "slide_type": "subslide"
    }
   },
   "source": [
    "### Scaling\n",
    "\n",
    "$$f(at)\\Leftrightarrow \\frac{1}{a}F\\left(\\frac{s}{a}\\right)$$"
   ]
  },
  {
   "cell_type": "markdown",
   "id": "e0ee0cac",
   "metadata": {
    "nbpresent": {
     "id": "9385975e-7004-4c81-b8f7-1e59b6c578bb"
    },
    "slideshow": {
     "slide_type": "subslide"
    }
   },
   "source": [
    "### Differentiation in the time domain\n",
    "\n",
    "$$f'(t) = \\frac{d}{dt} f(t) \\Leftrightarrow sF(s) - f(0^-)$$\n",
    "\n",
    "This property facilitates the solution of differential equations"
   ]
  },
  {
   "cell_type": "markdown",
   "id": "3e754155",
   "metadata": {
    "nbpresent": {
     "id": "94a596bc-4117-4098-8b78-5776baa85cd2"
    },
    "slideshow": {
     "slide_type": "notes"
    }
   },
   "source": [
    "The differentiation property can be extended to higher-orders as follows\n",
    "$$f''(t) = \\frac{d^2}{dt^2}f(t) \\Leftrightarrow s^2F(s) - sf(0^-) - f'(0^-)$$\n",
    "\n",
    "$$f''(t) = \\frac{d^3}{dt^3}f(t) \\Leftrightarrow s^3F(s) - s^2f(0) - sf'(0^-) - f''(0^-)$$\n",
    "\n",
    "and in general\n",
    "\n",
    "$$f^{(n)}(t) = \\frac{d^n}{dt^n}f(t) \\Leftrightarrow s^nF(s) - s^{n-1}f(0^-) - s^{n-2}f'(0^-) - \\cdots - f^{(n-1)}(0^-)$$"
   ]
  },
  {
   "cell_type": "markdown",
   "id": "4308ef8c",
   "metadata": {
    "nbpresent": {
     "id": "bc0e0601-4390-4fa4-861b-87554a960643"
    },
    "slideshow": {
     "slide_type": "subslide"
    }
   },
   "source": [
    "### Differentiation in the complex frequency domain\n",
    "\n",
    "$$tf(t) \\Leftrightarrow -\\frac{d}{ds}F(s)$$\n",
    "\n",
    "and in general\n",
    "\n",
    "$$t^nf(t) \\Leftrightarrow (-1)^n\\frac{d^n}{ds^n}F(s)$$"
   ]
  },
  {
   "cell_type": "markdown",
   "id": "746bfea0",
   "metadata": {
    "nbpresent": {
     "id": "f93fd2fa-8072-4953-abbc-6e950b92352a"
    },
    "slideshow": {
     "slide_type": "subslide"
    }
   },
   "source": [
    "### Integration in the time domain\n",
    "\n",
    "$$\\int_{-\\infty}^tf(\\tau)d\\tau \\Leftrightarrow \\frac{F(s)}{s}+\\frac{f(0^-)}{s}$$"
   ]
  },
  {
   "cell_type": "markdown",
   "id": "99740dd5",
   "metadata": {
    "nbpresent": {
     "id": "f93fd2fa-8072-4953-abbc-6e950b92352a"
    },
    "slideshow": {
     "slide_type": "notes"
    }
   },
   "source": [
    "This property is important because it provides a way to model the solution of a differential equation using op-amp integrators in so-called [Analogue Computers](https://en.wikipedia.org/wiki/Analog_computer) and is now the basis for numerical integration systems like Simulink."
   ]
  },
  {
   "cell_type": "markdown",
   "id": "0ac339b8",
   "metadata": {
    "nbpresent": {
     "id": "6abec7fb-dc16-4dee-a4e6-78bc0a4ef4f8"
    },
    "slideshow": {
     "slide_type": "subslide"
    }
   },
   "source": [
    "### Integration in the complex frequency domain\n",
    "\n",
    "Providing that \n",
    "\n",
    "$$\\lim_{t\\to 0} \\frac{f(t)}{t}$$\n",
    "\n",
    "exists\n",
    "\n",
    "$$\\frac{f(t)}{t}\\Leftrightarrow \\int_s^\\infty F(s)ds$$"
   ]
  },
  {
   "cell_type": "markdown",
   "id": "5b044ac9",
   "metadata": {
    "nbpresent": {
     "id": "9c3efaa7-edf9-42e1-b35d-302a88719f7b"
    },
    "slideshow": {
     "slide_type": "subslide"
    }
   },
   "source": [
    "### Time periodicity property\n",
    "\n",
    "If $f(t)$ is a periodic function with period $T$ such that $f(t) = f(t+nT)$ for $n=1,2,3,\\ldots$ then\n",
    "\n",
    "$$f(t+nT) \\Leftrightarrow \\frac{\\int_0^T f(t)e^{-st}dt}{1-e^{-sT}}$$"
   ]
  },
  {
   "cell_type": "markdown",
   "id": "4cffae08",
   "metadata": {
    "nbpresent": {
     "id": "2d3c3350-228e-4b8f-8a2f-8244033a00af"
    },
    "slideshow": {
     "slide_type": "subslide"
    }
   },
   "source": [
    "### Initial value theorem\n",
    "\n",
    "$$\\lim_{t\\to 0}f(t) \\Leftrightarrow \\lim_{s\\to \\infty} sF(s) = f(0^-)$$"
   ]
  },
  {
   "cell_type": "markdown",
   "id": "96839389",
   "metadata": {
    "nbpresent": {
     "id": "9b6d70ca-bf5a-4366-8701-b5ec61b24e93"
    },
    "slideshow": {
     "slide_type": "subslide"
    }
   },
   "source": [
    "### Final value theorem\n",
    "\n",
    "$$\\lim_{t\\to \\infty}f(t) \\Leftrightarrow \\lim_{s\\to 0} sF(s) = f(\\infty)$$"
   ]
  },
  {
   "cell_type": "markdown",
   "id": "b8a5ec27",
   "metadata": {
    "nbpresent": {
     "id": "509b27f0-eef5-446b-b7be-6be1757afd6a"
    },
    "slideshow": {
     "slide_type": "subslide"
    }
   },
   "source": [
    "### Convolution in the time domain\n",
    "\n",
    "$$f_1(t)*f_2(t) = \\int_{0}^{t}f_1(\\tau)f_2(t-\\tau) d\\tau \\Leftrightarrow F_1(s) F_2(s)$$"
   ]
  },
  {
   "cell_type": "markdown",
   "id": "503b2549",
   "metadata": {
    "nbpresent": {
     "id": "509b27f0-eef5-446b-b7be-6be1757afd6a"
    },
    "slideshow": {
     "slide_type": "notes"
    }
   },
   "source": [
    "This is another important result as it allows us to compute the response of a system by simply multiplying the Laplace transforms of the system and the signal and then inverse Laplace transforming the result. \n",
    "\n",
    "This is usually much simpler than computing the convolution integral in the time domain &ndash; an operation we we see later!"
   ]
  },
  {
   "cell_type": "markdown",
   "id": "f8c36ba3",
   "metadata": {
    "nbpresent": {
     "id": "c9bee9cc-fcec-4bbf-922d-74d59842e5b7"
    },
    "slideshow": {
     "slide_type": "subslide"
    }
   },
   "source": [
    "### Convolution in the complex frequency domain\n",
    "\n",
    "Multiplying two signals together in the time domain is the same as performing convolution in the complex frequency domain. \n",
    "\n",
    "$$f_1(t)f_2(t) \\Leftrightarrow \\frac{1}{2\\pi j}F_1(s) * F_2(s) = \\frac{1}{2\\pi j}\\lim_{T\\to \\infty}\\int_{c-jT}^{c+jT}F_1(\\sigma)F_2(s-\\sigma)d\\sigma$$\n",
    "\n",
    "Convolution in the complex frequency domain is nasty &ndash; multiplication in the time domain is relatively painless."
   ]
  },
  {
   "cell_type": "markdown",
   "id": "8f1e3099",
   "metadata": {
    "nbpresent": {
     "id": "e58f747d-f0a8-464d-b62f-f7bb9ce8b605"
    },
    "slideshow": {
     "slide_type": "slide"
    }
   },
   "source": [
    "## Transform tables\n",
    "\n",
    "Every textbook that covers Laplace transforms will provide a tables of properties and the most commonly encountered transforms. Karris is no exception and you will find a table of transforms in Tables 2.1 and 2.2. \n",
    "\n",
    "Here are a couple that are on the net for your reference\n",
    "\n",
    "* Laplace transform [(Wikipedia)](https://en.wikipedia.org/wiki/Laplace_transform)\n",
    "* Laplace Transform [(Wolfram Alpha)](https://mathworld.wolfram.com/LaplaceTransform.html)"
   ]
  },
  {
   "cell_type": "markdown",
   "id": "e1fe24d1",
   "metadata": {
    "nbpresent": {
     "id": "0deac4e0-df0c-4513-a0ae-81ed56e94aec"
    },
    "slideshow": {
     "slide_type": "subslide"
    }
   },
   "source": [
    "### Don't panic\n",
    "\n",
    "Tables of Laplace transform properties and transforms will be included with the exam paper."
   ]
  },
  {
   "cell_type": "markdown",
   "id": "8231c5ea",
   "metadata": {
    "nbpresent": {
     "id": "2a56e188-1891-420a-a66b-be808a1a11e2"
    },
    "slideshow": {
     "slide_type": "slide"
    }
   },
   "source": [
    "## Transforms of Elementary Signals\n",
    "\n",
    "| &nbsp;  | $f(t)$                                         | $F(s)$                                              |\n",
    "|---------|------------------------------------------------|-----------------------------------------------------|\n",
    "| 1       | $\\displaystyle \\delta(t)$                      | $\\displaystyle 1$                                   |\n",
    "| 2       | $\\displaystyle \\delta(t-a)$                    | $\\displaystyle e^{-as}$                             |\n",
    "| 3       | $\\displaystyle u_0(t)$                         | $\\displaystyle \\frac{1}{s}$                         |\n",
    "| 4       | $\\displaystyle t u_0(t)$                       | $\\displaystyle \\frac{1}{s^2}$                       |\n",
    "| 5       | $\\displaystyle t^n u_0(t)$                     | $\\displaystyle \\frac{n!}{s^{n+1}}$                  |\n",
    "| 6       | $\\displaystyle e^{-at}u_0(t)$                  | $\\displaystyle \\frac{1}{s+a}$                       |\n",
    "| 7       | $\\displaystyle t^n e^{-at} u_0(t)$             | $\\displaystyle \\frac{n!}{(s+a)^{n+1}}$              |\n",
    "| 8       | $\\displaystyle \\sin (\\omega t) u_0(t)$         | $\\displaystyle \\frac{\\omega}{s^2 + \\omega^2}$       |\n",
    "| 9       | $\\displaystyle \\cos (\\omega t) u_0(t)$         | $\\displaystyle \\frac{s}{s^2 + \\omega^2}$            |\n",
    "| 10      | $\\displaystyle e^{-at} \\sin (\\omega t) u_0(t)$ | $\\displaystyle \\frac{\\omega}{(s + a)^2 + \\omega^2}$ |\n",
    "| 11      | $\\displaystyle e^{-at}\\cos (\\omega t) u_0(t)$  | $\\displaystyle \\frac{s+a}{(s+a)^2 + \\omega^2}$      |\n",
    "\n",
    "\n",
    "Refer to the textbook if you want to see the proof of these transforms."
   ]
  },
  {
   "cell_type": "markdown",
   "id": "0f524c62",
   "metadata": {
    "nbpresent": {
     "id": "f49c045e-0507-4c62-8cb2-9389df04b6b9"
    },
    "slideshow": {
     "slide_type": "slide"
    }
   },
   "source": [
    "## Laplace transforms of common waveforms\n",
    "\n",
    "We will work through a few of the following on the board in class\n",
    "\n",
    "* Pulse\n",
    "* Linear segment\n",
    "* Triangular waveform\n",
    "* Rectangular periodic waveform (square wave)\n",
    "* Half rectified sine wave"
   ]
  },
  {
   "cell_type": "markdown",
   "id": "58578107",
   "metadata": {
    "nbpresent": {
     "id": "027ac91d-b792-4ffb-a0b4-72a4a144638b"
    },
    "slideshow": {
     "slide_type": "slide"
    }
   },
   "source": [
    "## Using Matlab to Find Laplace Transforms\n",
    "\n",
    "The Matlab function `laplace` can be used to find laplace transforms of time functions. The lab exercises will illustrate this."
   ]
  },
  {
   "cell_type": "markdown",
   "id": "06ebfa80",
   "metadata": {
    "nbpresent": {
     "id": "4f9f0fa3-84d5-45c3-a6fd-78f84f94388c"
    },
    "slideshow": {
     "slide_type": "slide"
    }
   },
   "source": [
    "## Homework\n",
    "\n",
    "Attempt at least one of the end-of-chapter exercises from each question 1-7 of [Section 2.7](https://ebookcentral.proquest.com/lib/swansea-ebooks/reader.action?docID=3384197&ppg=75#ppg=71) of {cite}`karris` . Don't look at the answers until you have attempted the problems.\n",
    "\n",
    "If we have time, I will work through one or two of these in class.\n",
    "\n",
    "## Reference\n",
    "\n",
    "See [Bibliography](/zbib)"
   ]
  }
 ],
 "metadata": {
  "jupytext": {
   "formats": "md:myst,ipynb",
   "text_representation": {
    "extension": ".md",
    "format_name": "myst",
    "format_version": 0.13,
    "jupytext_version": "1.14.4"
   }
  },
  "kernelspec": {
   "display_name": "Python 3 (ipykernel)",
   "language": "python",
   "name": "python3"
  },
  "language_info": {
   "codemirror_mode": {
    "name": "ipython",
    "version": 3
   },
   "file_extension": ".py",
   "mimetype": "text/x-python",
   "name": "python",
   "nbconvert_exporter": "python",
   "pygments_lexer": "ipython3",
   "version": "3.9.15"
  },
  "source_map": [
   15,
   21,
   27,
   31,
   35,
   39,
   43,
   47,
   51,
   55,
   59,
   65,
   71,
   77,
   83,
   91,
   102,
   112,
   118,
   122,
   134,
   142,
   148,
   154,
   160,
   166,
   176,
   187,
   193,
   214,
   226,
   232
  ]
 },
 "nbformat": 4,
 "nbformat_minor": 5
}