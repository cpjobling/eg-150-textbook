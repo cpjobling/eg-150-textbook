{
 "cells": [
  {
   "cell_type": "markdown",
   "id": "1c7a7912",
   "metadata": {
    "nbpresent": {
     "id": "90f3c07d-3646-44b0-a549-7020fc10d16f"
    },
    "slideshow": {
     "slide_type": "slide"
    }
   },
   "source": [
    "(unit4.3)=\n",
    "# Unit 4.3 Properties of the Laplace Transform\n",
    "\n",
    "The preparatory reading for this section is Chapter 2.3 of {cite}`karris` and Chapter 3.3 of {cite}`schaum`."
   ]
  },
  {
   "cell_type": "markdown",
   "id": "17208ed5",
   "metadata": {
    "slideshow": {
     "slide_type": "subslide"
    }
   },
   "source": [
    "Follow along at [cpjobling.github.io/eg-150-textbook/laplace_transform/3/laplace_properties](https://cpjobling.github.io/eg-150-textbook/laplace_transform/3/laplace_properties)\n",
    "\n",
    "![QR Code for this lecture](pictures/qrcode_laplace_3.png)"
   ]
  },
  {
   "cell_type": "markdown",
   "id": "dd135cac",
   "metadata": {
    "nbpresent": {
     "id": "11a99664-2fdb-4eff-8389-043965b5a6a5"
    },
    "slideshow": {
     "slide_type": "notes"
    }
   },
   "source": [
    "## Agenda\n",
    "\n",
    "* {ref}`selected_props`\n",
    "\n",
    "* {ref}`table_of_props`\n",
    "\n",
    "* {ref}`examples10`"
   ]
  },
  {
   "cell_type": "markdown",
   "id": "ee91d33f",
   "metadata": {
    "nbpresent": {
     "id": "352d0877-b48f-4b8d-9082-371f06fef621"
    },
    "slideshow": {
     "slide_type": "slide"
    }
   },
   "source": [
    "(selected_props)=\n",
    "## Some Selected Properties of the Laplace transform"
   ]
  },
  {
   "cell_type": "markdown",
   "id": "b374cfd9",
   "metadata": {},
   "source": [
    "Basic properties of the Laplace transform are presented in the following. Verification of these properties is given in Worked Problems 3.8 to 3.16 in {cite}`schaum` and in Section 2.2 in {cite}`karris`.\n",
    "\n",
    "We will verify some of the properties in MATLAB Lab 4, but will not examine them further in this course.\n",
    "\n",
    "You will, however, be expected to use **Tables of Properties**, such as that given in {ref}`table_of_props` below, to solve problems."
   ]
  },
  {
   "cell_type": "markdown",
   "id": "7ea3f826",
   "metadata": {
    "nbpresent": {
     "id": "1c9ba9ad-1952-4838-966c-f5c382aed98d"
    },
    "slideshow": {
     "slide_type": "subslide"
    }
   },
   "source": [
    "(lprops:linearity)=\n",
    "### Linearity\n",
    "\n",
    "$$c_1f_1(t) + c_2f_2(t) + \\ldots + c_nf_n(t) \\Leftrightarrow c_1F_1(s) + c_2F_2(s) + \\ldots + c_nF_n(s)$$"
   ]
  },
  {
   "cell_type": "markdown",
   "id": "86d5dd83",
   "metadata": {
    "nbpresent": {
     "id": "30dac3b5-90de-4b96-870a-762a98a9ec14"
    },
    "slideshow": {
     "slide_type": "subslide"
    }
   },
   "source": [
    "### Time shift\n",
    "\n",
    "$$f(t-a)u_0(t-a)\\Leftrightarrow e^{-as}F(s)$$"
   ]
  },
  {
   "cell_type": "markdown",
   "id": "06b658f9",
   "metadata": {
    "nbpresent": {
     "id": "ba9b31a1-0629-4a44-a66d-396a7db21360"
    },
    "slideshow": {
     "slide_type": "subslide"
    }
   },
   "source": [
    "### Frequency shift\n",
    "\n",
    "$$e^{-at}f(t)\\Leftrightarrow F(s+a)$$"
   ]
  },
  {
   "cell_type": "markdown",
   "id": "0f1cedd7",
   "metadata": {
    "nbpresent": {
     "id": "54b6a552-29a2-4907-a318-57a92c793a7e"
    },
    "slideshow": {
     "slide_type": "subslide"
    }
   },
   "source": [
    "### Scaling\n",
    "\n",
    "$$f(at)\\Leftrightarrow \\frac{1}{a}F\\left(\\frac{s}{a}\\right)$$"
   ]
  },
  {
   "cell_type": "markdown",
   "id": "79c3334d",
   "metadata": {
    "nbpresent": {
     "id": "9385975e-7004-4c81-b8f7-1e59b6c578bb"
    },
    "slideshow": {
     "slide_type": "subslide"
    }
   },
   "source": [
    "(lap:diff_prop)=\n",
    "### Differentiation in the time domain\n",
    "\n",
    "$$f'(t) = \\frac{d}{dt} f(t) \\Leftrightarrow sF(s) - f(0^-)$$\n",
    "\n",
    "This property facilitates the solution of differential equations"
   ]
  },
  {
   "cell_type": "markdown",
   "id": "ebf2729a",
   "metadata": {
    "nbpresent": {
     "id": "94a596bc-4117-4098-8b78-5776baa85cd2"
    },
    "slideshow": {
     "slide_type": "notes"
    }
   },
   "source": [
    "The differentiation property can be extended to higher-orders as follows\n",
    "\n",
    "$$f''(t) = \\frac{d^2}{dt^2}f(t) \\Leftrightarrow s^2F(s) - sf(0^-) - f'(0^-)$$\n",
    "\n",
    "$$f''(t) = \\frac{d^3}{dt^3}f(t) \\Leftrightarrow s^3F(s) - s^2f(0) - sf'(0^-) - f''(0^-)$$\n",
    "\n",
    "and in general\n",
    "\n",
    "$$f^{(n)}(t) = \\frac{d^n}{dt^n}f(t) \\Leftrightarrow s^nF(s) - s^{n-1}f(0^-) - s^{n-2}f'(0^-) - \\cdots - f^{(n-1)}(0^-)$$"
   ]
  },
  {
   "cell_type": "markdown",
   "id": "605fa75b",
   "metadata": {
    "nbpresent": {
     "id": "bc0e0601-4390-4fa4-861b-87554a960643"
    },
    "slideshow": {
     "slide_type": "subslide"
    }
   },
   "source": [
    "### Differentiation in the complex frequency domain\n",
    "\n",
    "$$tf(t) \\Leftrightarrow -\\frac{d}{ds}F(s)$$\n",
    "\n",
    "and in general\n",
    "\n",
    "$$t^nf(t) \\Leftrightarrow (-1)^n\\frac{d^n}{ds^n}F(s)$$"
   ]
  },
  {
   "cell_type": "markdown",
   "id": "6e44f95b",
   "metadata": {
    "nbpresent": {
     "id": "f93fd2fa-8072-4953-abbc-6e950b92352a"
    },
    "slideshow": {
     "slide_type": "subslide"
    }
   },
   "source": [
    "### Integration in the time domain\n",
    "\n",
    "$$\\int_{-\\infty}^tf(\\tau)d\\tau \\Leftrightarrow \\frac{F(s)}{s}+\\frac{f(0^-)}{s}$$"
   ]
  },
  {
   "cell_type": "markdown",
   "id": "adabd12d",
   "metadata": {
    "nbpresent": {
     "id": "f93fd2fa-8072-4953-abbc-6e950b92352a"
    },
    "slideshow": {
     "slide_type": "notes"
    }
   },
   "source": [
    "This property is important because it provides a way to model the solution of a differential equation using op-amp integrators in so-called [Analogue Computers](https://en.wikipedia.org/wiki/Analog_computer) and is now the basis for numerical integration systems like Simulink."
   ]
  },
  {
   "cell_type": "markdown",
   "id": "b880b04d",
   "metadata": {
    "nbpresent": {
     "id": "6abec7fb-dc16-4dee-a4e6-78bc0a4ef4f8"
    },
    "slideshow": {
     "slide_type": "subslide"
    }
   },
   "source": [
    "### Integration in the complex frequency domain\n",
    "\n",
    "Providing that \n",
    "\n",
    "$$\\lim_{t\\to 0} \\frac{f(t)}{t}$$\n",
    "\n",
    "exists\n",
    "\n",
    "$$\\frac{f(t)}{t}\\Leftrightarrow \\int_s^\\infty F(s)ds$$"
   ]
  },
  {
   "cell_type": "markdown",
   "id": "4225e7a2",
   "metadata": {
    "nbpresent": {
     "id": "9c3efaa7-edf9-42e1-b35d-302a88719f7b"
    },
    "slideshow": {
     "slide_type": "subslide"
    }
   },
   "source": [
    "### Time periodicity property\n",
    "\n",
    "If $f(t)$ is a periodic function with period $T$ such that $f(t) = f(t+nT)$ for $n=1,2,3,\\ldots$ then\n",
    "\n",
    "$$f(t+nT) \\Leftrightarrow \\frac{\\int_0^T f(t)e^{-st}dt}{1-e^{-sT}}$$"
   ]
  },
  {
   "cell_type": "markdown",
   "id": "bd86dfa9",
   "metadata": {
    "nbpresent": {
     "id": "2d3c3350-228e-4b8f-8a2f-8244033a00af"
    },
    "slideshow": {
     "slide_type": "subslide"
    }
   },
   "source": [
    "### Initial value theorem\n",
    "\n",
    "$$\\lim_{t\\to 0}f(t) \\Leftrightarrow \\lim_{s\\to \\infty} sF(s) = f(0^-)$$"
   ]
  },
  {
   "cell_type": "markdown",
   "id": "68498c4b",
   "metadata": {
    "nbpresent": {
     "id": "9b6d70ca-bf5a-4366-8701-b5ec61b24e93"
    },
    "slideshow": {
     "slide_type": "subslide"
    }
   },
   "source": [
    "### Final value theorem\n",
    "\n",
    "$$\\lim_{t\\to \\infty}f(t) \\Leftrightarrow \\lim_{s\\to 0} sF(s) = f(\\infty)$$"
   ]
  },
  {
   "cell_type": "markdown",
   "id": "22e2e18a",
   "metadata": {
    "nbpresent": {
     "id": "509b27f0-eef5-446b-b7be-6be1757afd6a"
    },
    "slideshow": {
     "slide_type": "subslide"
    }
   },
   "source": [
    "(lap3:conv)=\n",
    "### Convolution in the time domain\n",
    "\n",
    "$$f_1(t)*f_2(t) = \\int_{0}^{t}f_1(\\tau)f_2(t-\\tau) d\\tau \\Leftrightarrow F_1(s) F_2(s)$$"
   ]
  },
  {
   "cell_type": "markdown",
   "id": "7692bd06",
   "metadata": {
    "nbpresent": {
     "id": "509b27f0-eef5-446b-b7be-6be1757afd6a"
    },
    "slideshow": {
     "slide_type": "notes"
    }
   },
   "source": [
    "This is another important result as it allows us to compute the response of a system by simply multiplying the Laplace transforms of the system and the signal and then inverse Laplace transforming the result. \n",
    "\n",
    "This is usually much simpler than computing the convolution integral in the time domain &ndash; an operation we we met in {ref}`convolution_integral`."
   ]
  },
  {
   "cell_type": "markdown",
   "id": "f4e5f921",
   "metadata": {
    "nbpresent": {
     "id": "c9bee9cc-fcec-4bbf-922d-74d59842e5b7"
    },
    "slideshow": {
     "slide_type": "subslide"
    }
   },
   "source": [
    "### Convolution in the complex frequency domain\n",
    "\n",
    "Multiplying two signals together in the time domain is the same as performing convolution in the complex frequency domain. \n",
    "\n",
    "$$f_1(t)f_2(t) \\Leftrightarrow \\frac{1}{2\\pi j}F_1(s) * F_2(s) = \\frac{1}{2\\pi j}\\lim_{T\\to \\infty}\\int_{c-jT}^{c+jT}F_1(\\sigma)F_2(s-\\sigma)d\\sigma$$\n",
    "\n",
    "Convolution in the complex frequency domain is nasty &ndash; multiplication in the time domain is relatively painless."
   ]
  },
  {
   "cell_type": "markdown",
   "id": "a9d7746e",
   "metadata": {
    "nbpresent": {
     "id": "e58f747d-f0a8-464d-b62f-f7bb9ce8b605"
    },
    "slideshow": {
     "slide_type": "slide"
    }
   },
   "source": [
    "(table_of_props)=\n",
    "## Table of Laplace Transform Properties\n",
    "\n",
    "| No. | **Name** | **Time Domain** $f(t)$ | Complex Frequency Domain $F(s)$ |\n",
    "|----:|----------|--------|--------------|\n",
    "| 1.   | Linearity | $a_1f_1(t)+a_2f_2(t)+\\cdots+a_nf_n(t)$ | $a_1F_1(s)+a_2F_2(s)+\\cdots+a_nF_n(s)$ |\n",
    "| 2.  | Time shifting | $\\displaystyle{f(t-a)}u_0(t-a)$ | $\\displaystyle{e^{-a s}F(s)}$ \n",
    "| 3.  | Frequency shifting | $\\displaystyle{e^{-as}f(t)}$ | $\\displaystyle{F(s+a)}$ |\n",
    "| 4.  | Time scaling | $f(a t)$ | $\\displaystyle{\\frac{1}{a}F\\left(\\frac{s}{a}\\right)}$ |\n",
    "| 5.  | Time differentiation | $\\displaystyle{\\frac{d}{dt}\\,f(t)}$ | $\\displaystyle{F(s)-f(0^-)}$ |\n",
    "| 7.  | Frequency differentiation | $\\displaystyle{tf(t)}$ | $\\displaystyle{-\\frac{d}{ds}F(s)}$ |\n",
    "| 8.  | Time integration | $\\displaystyle{\\int_{-\\infty}^{t}f(\\tau)d\\tau}$ | $\\displaystyle{\\frac{F(s)}{s}+ \\frac{F(0^-)}{s}}$ |\n",
    "| 9.  | Frequency integration | $\\displaystyle{\\frac{f(t)}{t}}$ | $\\displaystyle{\\int_s^\\infty F(s)\\,ds}$ |\n",
    "| 10.  | Time Periodicity | $\\displaystyle{f(t + nT)}$ | $\\displaystyle{\\frac{\\int_0^T f(t)e^{-st}\\,dt}{1 - e^{-sT}}}$ |\n",
    "| 11. | Initial value theorem | $\\displaystyle{\\lim_{t\\rightarrow 0} f(t)}$ | $\\displaystyle{\\lim_{s\\rightarrow \\infty}sF(s) = f(0^-)}$ |\n",
    "| 12. | Final value theorem | $\\displaystyle{\\lim_{t\\rightarrow \\infty} f(t)}$ | $\\displaystyle{\\lim_{s\\rightarrow 0}sF(s) = f(\\infty)}$ |\n",
    "| 13. | Time convolution | $\\displaystyle{f_1(t)*f_2(t)}$ | $\\displaystyle{F_1(js) F_2(s)}$ |\n",
    "| 14. | Frequency convolution | $\\displaystyle{f_1(t)f_2(t)}$ | $\\displaystyle{\\frac{1}{j2\\pi}F_1(s)*F_2(s)}$ |\n",
    "\n",
    "See also: [Wikibooks: Engineering_Tables/Laplace_Transform_Properties](https://en.wikibooks.org/wiki/Engineering_Tables/Laplace_Transform_Properties) and [Laplace Transform&mdash;WolframMathworld](https://mathworld.wolfram.com/LaplaceTransform.html) for more complete references."
   ]
  },
  {
   "cell_type": "markdown",
   "id": "945e29c4",
   "metadata": {
    "nbpresent": {
     "id": "f49c045e-0507-4c62-8cb2-9389df04b6b9"
    },
    "slideshow": {
     "slide_type": "slide"
    }
   },
   "source": [
    "(examples10)=\n",
    "## Examples 10: Laplace transforms of common waveforms\n",
    "\n",
    "We will work through a few of the following on the board in class\n",
    "\n",
    "* {ref}`ex10.1`\n",
    "* {ref}`ex10.2`\n",
    "* {ref}`ex10.3`\n",
    "* {ref}`ex10.4`\n",
    "* {ref}`ex10.5`"
   ]
  },
  {
   "cell_type": "markdown",
   "id": "d28deb10",
   "metadata": {
    "nbpresent": {
     "id": "f49c045e-0507-4c62-8cb2-9389df04b6b9"
    },
    "slideshow": {
     "slide_type": "subslide"
    }
   },
   "source": [
    "(ex10.1)=\n",
    "### Example 10.1: Pulse\n",
    "\n",
    "Use the tables of Laplace transforms and properties as appropriate to compute the Laplace transform of the pulse shown in {numref}`ig:ex10.1`.\n",
    "\n",
    ":::{figure-md} fig:ex10.1\n",
    "<img src=\"pictures/pulse.png\" alt=\"A rectangular pulse.\" width=\"50%\">\n",
    "\n",
    "A rectangular pulse.\n",
    ":::"
   ]
  },
  {
   "cell_type": "markdown",
   "id": "8098f986",
   "metadata": {
    "nbpresent": {
     "id": "f49c045e-0507-4c62-8cb2-9389df04b6b9"
    },
    "slideshow": {
     "slide_type": "notes"
    }
   },
   "source": [
    "For full solution see [Example 2.4.1](https://ebookcentral.proquest.com/lib/swansea-ebooks/reader.action?docID=3384197&ppg=63) in Karris.\n",
    "\n",
    "<pre style=\"border: 2px solid blue\">\n",
    "\n",
    "\n",
    "\n",
    "\n",
    "\n",
    "\n",
    "\n",
    "\n",
    "\n",
    "\n",
    "\n",
    "\n",
    "\n",
    "\n",
    "\n",
    "\n",
    "\n",
    "\n",
    "\n",
    "\n",
    "\n",
    "\n",
    "</pre>"
   ]
  },
  {
   "cell_type": "markdown",
   "id": "a9389e7d",
   "metadata": {
    "nbpresent": {
     "id": "f49c045e-0507-4c62-8cb2-9389df04b6b9"
    },
    "slideshow": {
     "slide_type": "subslide"
    }
   },
   "source": [
    "(ex10.2)=\n",
    "### Example 10.2: Line segment\n",
    "\n",
    "Use the tables of Laplace transforms and properties as appropriate to compute the Laplace transform of the line segment shown in {numref}`ig:ex10.2`.\n",
    "\n",
    ":::{figure-md} fig:ex10.2\n",
    "<img src=\"pictures/line.png\" alt=\"A line segment.\" width=\"50%\">\n",
    "\n",
    "A line segment.\n",
    ":::"
   ]
  },
  {
   "cell_type": "markdown",
   "id": "fe7eac68",
   "metadata": {
    "nbpresent": {
     "id": "f49c045e-0507-4c62-8cb2-9389df04b6b9"
    },
    "slideshow": {
     "slide_type": "notes"
    }
   },
   "source": [
    "For full solution see [Example 2.4.2](https://ebookcentral.proquest.com/lib/swansea-ebooks/reader.action?docID=3384197&ppg=64) in Karris.\n",
    "\n",
    "<pre style=\"border: 2px solid blue\">\n",
    "\n",
    "\n",
    "\n",
    "\n",
    "\n",
    "\n",
    "\n",
    "\n",
    "\n",
    "\n",
    "\n",
    "\n",
    "\n",
    "\n",
    "\n",
    "\n",
    "\n",
    "\n",
    "\n",
    "\n",
    "\n",
    "\n",
    "\n",
    "</pre>"
   ]
  },
  {
   "cell_type": "markdown",
   "id": "cd196e8a",
   "metadata": {
    "nbpresent": {
     "id": "f49c045e-0507-4c62-8cb2-9389df04b6b9"
    },
    "slideshow": {
     "slide_type": "subslide"
    }
   },
   "source": [
    "(ex10.3)=\n",
    "### Example 10.3: Triangular Pulse\n",
    "\n",
    "Use the tables of Laplace transforms and properties as appropriate to compute the Laplace transform of the triangular pulse shown in {numref}`ig:ex10.3`.\n",
    "\n",
    ":::{figure-md} fig:ex10.3\n",
    "<img src=\"pictures/triangle.png\" alt=\"A triangular pulse.\" width=\"50%\">\n",
    "\n",
    "A triangular pulse.\n",
    ":::"
   ]
  },
  {
   "cell_type": "markdown",
   "id": "dcda8efe",
   "metadata": {
    "nbpresent": {
     "id": "f49c045e-0507-4c62-8cb2-9389df04b6b9"
    },
    "slideshow": {
     "slide_type": "notes"
    }
   },
   "source": [
    "For full solution see [Examples in 2.4.3](https://ebookcentral.proquest.com/lib/swansea-ebooks/reader.action?docID=3384197&ppg=65) in Karris.\n",
    "\n",
    "<pre style=\"border: 2px solid blue\">\n",
    "\n",
    "\n",
    "\n",
    "\n",
    "\n",
    "\n",
    "\n",
    "\n",
    "\n",
    "\n",
    "\n",
    "\n",
    "\n",
    "\n",
    "\n",
    "\n",
    "\n",
    "\n",
    "\n",
    "\n",
    "\n",
    "\n",
    "</pre>"
   ]
  },
  {
   "cell_type": "markdown",
   "id": "81d536bf",
   "metadata": {
    "nbpresent": {
     "id": "f49c045e-0507-4c62-8cb2-9389df04b6b9"
    },
    "slideshow": {
     "slide_type": "subslide"
    }
   },
   "source": [
    "(ex10.4)=\n",
    "### Example 10.4: Square Wave\n",
    "\n",
    "Use the tables of Laplace transforms and properties as appropriate to compute the Laplace transform of the of the periodic function shown in {numref}`ig:ex10.4`.\n",
    "\n",
    ":::{figure-md} fig:ex10.4\n",
    "<img src=\"pictures/sqare.png\" alt=\"A square wave.\" width=\"50%\">\n",
    "\n",
    "A square wave.\n",
    ":::"
   ]
  },
  {
   "cell_type": "markdown",
   "id": "ca679011",
   "metadata": {
    "nbpresent": {
     "id": "f49c045e-0507-4c62-8cb2-9389df04b6b9"
    },
    "slideshow": {
     "slide_type": "notes"
    }
   },
   "source": [
    "For full solution see [Example 2.4.4](https://ebookcentral.proquest.com/lib/swansea-ebooks/reader.action?docID=3384197&ppg=66) in Karris.\n",
    "\n",
    "<pre style=\"border: 2px solid blue\">\n",
    "\n",
    "\n",
    "\n",
    "\n",
    "\n",
    "\n",
    "\n",
    "\n",
    "\n",
    "\n",
    "\n",
    "\n",
    "\n",
    "\n",
    "\n",
    "\n",
    "\n",
    "\n",
    "\n",
    "\n",
    "\n",
    "\n",
    "</pre>"
   ]
  },
  {
   "cell_type": "markdown",
   "id": "88c7630b",
   "metadata": {
    "nbpresent": {
     "id": "f49c045e-0507-4c62-8cb2-9389df04b6b9"
    },
    "slideshow": {
     "slide_type": "subslide"
    }
   },
   "source": [
    "(ex10.5)=\n",
    "### Example 10.5: Half-rectified Sinewave\n",
    "\n",
    "Use the tables of Laplace transforms and properties as appropriate to compute the Laplace transform of the half-rectified sine wave shown in {numref}`ig:ex10.5`.\n",
    "\n",
    ":::{figure-md} fig:ex10.5\n",
    "<img src=\"pictures/rectsine.png\" alt=\"Half-rectified sine wave.\" width=\"50%\">\n",
    "\n",
    "Half-rectified sine wave.\n",
    ":::"
   ]
  },
  {
   "cell_type": "markdown",
   "id": "8e929e8d",
   "metadata": {
    "nbpresent": {
     "id": "f49c045e-0507-4c62-8cb2-9389df04b6b9"
    },
    "slideshow": {
     "slide_type": "notes"
    }
   },
   "source": [
    "For full solution see [Example 2.4.5](https://ebookcentral.proquest.com/lib/swansea-ebooks/reader.action?docID=3384197&ppg=67) in Karris.\n",
    "\n",
    "<pre style=\"border: 2px solid blue\">\n",
    "\n",
    "\n",
    "\n",
    "\n",
    "\n",
    "\n",
    "\n",
    "\n",
    "\n",
    "\n",
    "\n",
    "\n",
    "\n",
    "\n",
    "\n",
    "\n",
    "\n",
    "\n",
    "\n",
    "\n",
    "\n",
    "\n",
    "</pre>"
   ]
  },
  {
   "cell_type": "markdown",
   "id": "fd86a6dd",
   "metadata": {
    "nbpresent": {
     "id": "f49c045e-0507-4c62-8cb2-9389df04b6b9"
    },
    "slideshow": {
     "slide_type": "notes"
    }
   },
   "source": [
    "## Homework\n",
    "\n",
    "Attempt at least one of the end-of-chapter exercises from each question 1-7 of [Section 2.7](https://ebookcentral.proquest.com/lib/swansea-ebooks/reader.action?docID=3384197&ppg=75#ppg=71) of {cite}`karris`. Don't look at the answers until you have attempted the problems.\n",
    "\n",
    "If we have time, I will work through one or two of these in class."
   ]
  },
  {
   "cell_type": "markdown",
   "id": "63e060b7",
   "metadata": {
    "slideshow": {
     "slide_type": "notes"
    }
   },
   "source": [
    "## Summary\n",
    "\n",
    "In this section we have presented some of the most useful and commonly used properties of the Laplace transform, provided a table of Laplace Transform properties, and given examples of how properties and transform tables can be used to determine the Laplace transform of some useful aperiodic and periodic signals. \n",
    "\n",
    "### Take Aways\n",
    "\n",
    "There are a number of useful properties of the Laplace transform that we can use to simplify more complex problems in signals and systems, for example to find the laplace transforms of more complex signals than those studied in {ref}`unit4.2`. In particular we found that the time delay property $f(t-a) \\Leftrightarrow e^{-as}F(s)$ and the linearity property $c_1f_1(t) + c_2f_2(t) + \\ldots + c_nf_n(t) \\Leftrightarrow c_1F_1(s) + c_2F_2(s) + \\ldots + c_nF_n(s)$ are particularly useful. \n",
    "\n",
    "If you have a periodic signal $x(t) = x(t + nT)$, you *must* use the periodicity property\n",
    "\n",
    "$$f(t+nT) \\Leftrightarrow \\frac{\\int_0^T f(t)e^{-st}dt}{1-e^{-sT}}$$\n",
    "\n",
    "to compute its Laplace transform.\n",
    "\n",
    "### Still to come\n",
    "\n",
    "The use of the *derivative property* and *integration property* will be useful when defining the complex frequency equavalent of the time domain models used to define electrical circuit components. We study these in detail in {ref}`unit4.5`. The use of the *derivative property* will be used to determine the complete solution of continuous-time LTI systems defined by differential equations in {ref}`unit4.6`. More practice in the use of Laplace transforms will be covered in Lab 4."
   ]
  },
  {
   "cell_type": "markdown",
   "id": "9582376c",
   "metadata": {
    "slideshow": {
     "slide_type": "notes"
    }
   },
   "source": [
    "## Next time\n",
    "\n",
    "We move on to consider \n",
    "\n",
    "* {ref}`unit4.4`\n",
    "\n",
    "## References\n",
    "\n",
    "```{bibliography}\n",
    ":filter: docname in docnames\n",
    "```"
   ]
  },
  {
   "cell_type": "markdown",
   "id": "6f803623",
   "metadata": {
    "nbpresent": {
     "id": "f49c045e-0507-4c62-8cb2-9389df04b6b9"
    },
    "slideshow": {
     "slide_type": "subslide"
    }
   },
   "source": [
    "## Answers to Examples 10\n",
    "\n",
    "{ref}`ex10.1`\n",
    "\n",
    "$$Au_0(t)-Au_0(t-a)\\Leftrightarrow \\frac{A\\left(1-e^{-as}\\right)}{s}.$$\n",
    "\n",
    "{ref}`ex10.2`\n",
    "\n",
    "$$(t-1)u_0(t-1)\\Leftrightarrow \\frac{e^{-s}}{s}.$$\n",
    "\n",
    "{ref}`ex10.3` \n",
    "\n",
    "$$f_T(t)\\Leftrightarrow \\frac{\\left(1-e^{-s}\\right)^2}{s^2}.$$\n",
    "\n",
    "{ref}`ex10.4`\n",
    "\n",
    "$$f_R(t)\\Leftrightarrow \\frac{A}{s}\\tanh \\left(\\frac{As}{2}\\right).$$\n",
    "\n",
    "{ref}`ex10.5`\n",
    "\n",
    "$$f_{HW}(t) \\Leftrightarrow \\frac{1}{\\left(s^2 + 1\\right)\\left(1-e^{-\\pi s}\\right)}.$$"
   ]
  }
 ],
 "metadata": {
  "jupytext": {
   "formats": "md:myst,ipynb",
   "text_representation": {
    "extension": ".md",
    "format_name": "myst",
    "format_version": 0.13,
    "jupytext_version": "1.14.4"
   }
  },
  "kernelspec": {
   "display_name": "Python 3 (ipykernel)",
   "language": "python",
   "name": "python3"
  },
  "language_info": {
   "codemirror_mode": {
    "name": "ipython",
    "version": 3
   },
   "file_extension": ".py",
   "mimetype": "text/x-python",
   "name": "python",
   "nbconvert_exporter": "python",
   "pygments_lexer": "ipython3",
   "version": "3.9.15"
  },
  "source_map": [
   15,
   22,
   28,
   38,
   43,
   51,
   58,
   64,
   70,
   76,
   85,
   97,
   107,
   113,
   117,
   129,
   137,
   143,
   149,
   156,
   162,
   172,
   195,
   208,
   221,
   250,
   263,
   293,
   306,
   335,
   348,
   377,
   390,
   419,
   427,
   447,
   461
  ]
 },
 "nbformat": 4,
 "nbformat_minor": 5
}