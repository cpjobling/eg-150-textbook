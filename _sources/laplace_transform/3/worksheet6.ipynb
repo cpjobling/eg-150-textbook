{
 "cells": [
  {
   "cell_type": "markdown",
   "id": "1584a6cf",
   "metadata": {
    "slideshow": {
     "slide_type": "slide"
    }
   },
   "source": [
    "# Worksheet 6\n",
    "\n",
    "## To accompany Chapter 3.3 Using Laplace Transforms for Circuit Analysis"
   ]
  },
  {
   "cell_type": "markdown",
   "id": "53016508",
   "metadata": {
    "slideshow": {
     "slide_type": "notes"
    }
   },
   "source": [
    "## Colophon\n",
    "\n",
    "This worksheet can be downloaded as a [PDF file](https://cpjobling.github.io/eg-247-textbook/worksheets/worksheet6.pdf). We will step through this worksheet in class. \n",
    "\n",
    "An annotatable copy of the notes for this presentation will be distributed before the third class meeting as **Worksheet 6** in the **Week 3: Classroom Activities** section of the Canvas site. I will also distribute a copy to your personal **Worksheets** section of the **OneNote Class Notebook** so that you can add your own notes using OneNote. \n",
    "\n",
    "You are expected to have at least watched the video presentation of [Chapter 3.3](https://cpjobling.github.io/eg-247-textbook/laplace_transform/3/circuit_analysis) of the [notes](https://cpjobling.github.io/eg-247-textbook/) before coming to class. If you haven't watch it afterwards!\n",
    "\n",
    "After class, the lecture recording and the annotated version of this worksheet will be made available through Canvas."
   ]
  },
  {
   "cell_type": "code",
   "execution_count": null,
   "id": "b03981c9",
   "metadata": {
    "slideshow": {
     "slide_type": "skip"
    },
    "tags": [
     "remove-output"
    ]
   },
   "outputs": [],
   "source": [
    "% Matlab setup\n",
    "clear all\n",
    "format compact"
   ]
  },
  {
   "cell_type": "markdown",
   "id": "9c58ac75",
   "metadata": {
    "slideshow": {
     "slide_type": "slide"
    }
   },
   "source": [
    "## Circuit Transformation from Time to Complex Frequency"
   ]
  },
  {
   "cell_type": "markdown",
   "id": "825874df",
   "metadata": {
    "slideshow": {
     "slide_type": "subslide"
    }
   },
   "source": [
    "### Time Domain Model of a Resistive Network\n",
    "\n",
    "![Resistive Network: Time Domain](pictures/resistive_time.png)"
   ]
  },
  {
   "cell_type": "markdown",
   "id": "e90fbce6",
   "metadata": {
    "slideshow": {
     "slide_type": "fragment"
    }
   },
   "source": [
    "For the circuit shown, which of the following equations represent the Laplace transform of the current flowing through, and the voltage across, the resistor $R$?"
   ]
  },
  {
   "cell_type": "markdown",
   "id": "fbba8233",
   "metadata": {
    "slideshow": {
     "slide_type": "fragment"
    }
   },
   "source": [
    "**-> Open poll**"
   ]
  },
  {
   "cell_type": "markdown",
   "id": "939f4799",
   "metadata": {
    "slideshow": {
     "slide_type": "subslide"
    }
   },
   "source": [
    "###  Time Domain Model of an Inductive Network\n",
    "\n",
    "![Inductive Network - Time Domain](pictures/inductive_time.png)"
   ]
  },
  {
   "cell_type": "markdown",
   "id": "326b9a20",
   "metadata": {
    "slideshow": {
     "slide_type": "fragment"
    }
   },
   "source": [
    "For the circuit shown, which of the following equations represent the Laplace transform of the current flowing through, and the voltage across, the inductor $L$?"
   ]
  },
  {
   "cell_type": "markdown",
   "id": "518d32cd",
   "metadata": {
    "slideshow": {
     "slide_type": "notes"
    }
   },
   "source": [
    "$$I_L(s)=sLV_L(s) - Lv_L(0^-)$$\n",
    "\n",
    "$$I_L(s)=\\frac{V_L(s)}{sL} + \\frac{v_L(0^-)}{s}$$\n",
    "\n",
    "$$VL(s) = sLI_L(s) - Li_L(0^-)$$\n",
    "\n",
    "$$V_L(s)=\\frac{I_L(s)}{sL} + \\frac{i_L(0^-)}{s}$$"
   ]
  },
  {
   "cell_type": "markdown",
   "id": "36898b7b",
   "metadata": {
    "slideshow": {
     "slide_type": "fragment"
    }
   },
   "source": [
    "**-> Open poll**"
   ]
  },
  {
   "cell_type": "markdown",
   "id": "ea4f62cd",
   "metadata": {
    "slideshow": {
     "slide_type": "subslide"
    }
   },
   "source": [
    "### Time Domain Model of a Capacitive Network\n",
    "\n",
    "![Capacitive Network - Time Domain](pictures/capacitive_time.png)"
   ]
  },
  {
   "cell_type": "markdown",
   "id": "800409b7",
   "metadata": {
    "slideshow": {
     "slide_type": "fragment"
    }
   },
   "source": [
    "For the circuit shown, which of the following equations represent the Laplace transform of the current flowing through, and the voltage across, the capacitor $C$?"
   ]
  },
  {
   "cell_type": "markdown",
   "id": "380e7714",
   "metadata": {
    "slideshow": {
     "slide_type": "notes"
    }
   },
   "source": [
    "$$V_c(s)=sCI_C(s) - Ci_C(0^-)$$\n",
    "\n",
    "$$I_c(s) = sCV_C(s) - Cv_C(0^-)$$\n",
    "\n",
    "$$V_c(s) = \\frac{I_C(s)}{sC} + \\frac{i_C(0^-)}{s}$$\n",
    "\n",
    "$$I_c(s)=\\frac{V_C(s)}{sC} + \\frac{v_C(0^-)}{s}$$"
   ]
  },
  {
   "cell_type": "markdown",
   "id": "fb6981e7",
   "metadata": {
    "slideshow": {
     "slide_type": "fragment"
    }
   },
   "source": [
    "**-> Open poll**"
   ]
  },
  {
   "cell_type": "markdown",
   "id": "fba9b4b5",
   "metadata": {
    "slideshow": {
     "slide_type": "slide"
    }
   },
   "source": [
    "## Examples"
   ]
  },
  {
   "cell_type": "markdown",
   "id": "1c95f6d7",
   "metadata": {
    "slideshow": {
     "slide_type": "subslide"
    }
   },
   "source": [
    "### Example 1\n",
    "\n",
    "Use the Laplace transform method and apply Kirchoff's Current Law (KCL) to find the voltage $v_c(t)$ across the capacitor for the circuit below given that $v_c(0^-) = 6$ V.\n",
    "\n",
    "![Circuit for Example 1](pictures/example1_2.png)"
   ]
  },
  {
   "cell_type": "markdown",
   "id": "664d779f",
   "metadata": {
    "slideshow": {
     "slide_type": "skip"
    }
   },
   "source": [
    "<pre style=\"border: 2px solid blue\">\n",
    "\n",
    "\n",
    "\n",
    "\n",
    "\n",
    "\n",
    "\n",
    "\n",
    "\n",
    "\n",
    "\n",
    "\n",
    "\n",
    "\n",
    "\n",
    "\n",
    "\n",
    "\n",
    "\n",
    "\n",
    "\n",
    "\n",
    "\n",
    "\n",
    "\n",
    "\n",
    "\n",
    "</pre>"
   ]
  },
  {
   "cell_type": "markdown",
   "id": "ee3599d6",
   "metadata": {
    "slideshow": {
     "slide_type": "subslide"
    }
   },
   "source": [
    "### Example 2\n",
    "\n",
    "Use the Laplace transform method and apply Kirchoff's Voltage Law (KVL) to find the voltage $v_c(t)$ across the capacitor for the circuit below given that $v_c(0^-) = 6$ V.\n",
    "\n",
    "![Circuit for Example 2](pictures/example1_2.png)"
   ]
  },
  {
   "cell_type": "markdown",
   "id": "da3a574e",
   "metadata": {
    "slideshow": {
     "slide_type": "notes"
    }
   },
   "source": [
    "<pre style=\"border: 2px solid blue\">\n",
    "\n",
    "\n",
    "\n",
    "\n",
    "\n",
    "\n",
    "\n",
    "\n",
    "\n",
    "\n",
    "\n",
    "\n",
    "\n",
    "\n",
    "\n",
    "\n",
    "\n",
    "\n",
    "\n",
    "\n",
    "\n",
    "\n",
    "\n",
    "\n",
    "\n",
    "\n",
    "\n",
    "\n",
    "</pre>"
   ]
  },
  {
   "cell_type": "markdown",
   "id": "34332be5",
   "metadata": {
    "slideshow": {
     "slide_type": "subslide"
    }
   },
   "source": [
    "### Example 3\n",
    "\n",
    "In the circuit below, switch $S_1$ closes at $t=0$, while at the same time, switch $S_2$ opens. Use the Laplace transform method to find $v_{\\mathrm{out}}(t)$ for $t > 0$.\n",
    "\n",
    "![Circuit for Example 3](pictures/example3.png)"
   ]
  },
  {
   "cell_type": "markdown",
   "id": "8c80392a",
   "metadata": {
    "slideshow": {
     "slide_type": "subslide"
    }
   },
   "source": [
    "Show with the assistance of MATLAB (See [solution3.m](https://cpjobling.github.io/eg-247-textbook/laplace_transform/matlab/solution3.m)) that the solution is\n",
    "\n",
    "$$V_{\\mathrm{out}}=\\left(1.36e^{-6.57t}+0.64e^{-0.715t}\\cos 0.316t - 1.84e^{-0.715t}\\sin 0.316t\\right)u_0(t)$$\n",
    "\n",
    "and plot the result."
   ]
  },
  {
   "cell_type": "markdown",
   "id": "f373236a",
   "metadata": {
    "slideshow": {
     "slide_type": "subslide"
    }
   },
   "source": [
    "#### Solution to Example 3\n",
    "\n",
    "We will use a combination of pen-and-paper and MATLAB to solve this."
   ]
  },
  {
   "cell_type": "markdown",
   "id": "692a61f9",
   "metadata": {
    "slideshow": {
     "slide_type": "subslide"
    }
   },
   "source": [
    "##### 1. Equivalent Circuit\n",
    "\n",
    "Draw equivalent circuit at $t=0$"
   ]
  },
  {
   "cell_type": "markdown",
   "id": "395b3d0b",
   "metadata": {
    "slideshow": {
     "slide_type": "notes"
    }
   },
   "source": [
    "<pre style=\"border: 2px solid blue\">\n",
    "\n",
    "\n",
    "\n",
    "\n",
    "\n",
    "\n",
    "\n",
    "\n",
    "\n",
    "\n",
    "\n",
    "\n",
    "\n",
    "\n",
    "\n",
    "\n",
    "\n",
    "\n",
    "\n",
    "\n",
    "\n",
    "\n",
    "\n",
    "\n",
    "\n",
    "\n",
    "\n",
    "\n",
    "</pre>"
   ]
  },
  {
   "cell_type": "markdown",
   "id": "94551505",
   "metadata": {
    "slideshow": {
     "slide_type": "subslide"
    }
   },
   "source": [
    "##### 2. Transform model\n",
    "\n",
    "Convert to transforms"
   ]
  },
  {
   "cell_type": "markdown",
   "id": "ea7eb476",
   "metadata": {
    "slideshow": {
     "slide_type": "notes"
    }
   },
   "source": [
    "<pre style=\"border: 2px solid blue\">\n",
    "\n",
    "\n",
    "\n",
    "\n",
    "\n",
    "\n",
    "\n",
    "\n",
    "\n",
    "\n",
    "\n",
    "\n",
    "\n",
    "\n",
    "\n",
    "\n",
    "\n",
    "\n",
    "\n",
    "\n",
    "\n",
    "\n",
    "\n",
    "\n",
    "\n",
    "\n",
    "\n",
    "\n",
    "</pre>"
   ]
  },
  {
   "cell_type": "markdown",
   "id": "35aa18a0",
   "metadata": {
    "slideshow": {
     "slide_type": "subslide"
    }
   },
   "source": [
    "##### 3. Determine equation\n",
    "\n",
    "Determine equation for $V_{\\rm out}(s)$."
   ]
  },
  {
   "cell_type": "markdown",
   "id": "a0a08aae",
   "metadata": {
    "slideshow": {
     "slide_type": "notes"
    }
   },
   "source": [
    "<pre style=\"border: 2px solid blue\">\n",
    "\n",
    "\n",
    "\n",
    "\n",
    "\n",
    "\n",
    "\n",
    "\n",
    "\n",
    "\n",
    "\n",
    "\n",
    "\n",
    "\n",
    "\n",
    "\n",
    "\n",
    "\n",
    "\n",
    "\n",
    "\n",
    "\n",
    "\n",
    "</pre>"
   ]
  },
  {
   "cell_type": "markdown",
   "id": "a40dd5ac",
   "metadata": {
    "slideshow": {
     "slide_type": "subslide"
    }
   },
   "source": [
    "#### 4. Complete solution in MATLAB\n",
    "\n",
    "In the lecture we showed that after simplification for Example 3\n",
    "\n",
    "$$V_{\\mathrm{out}}=\\frac{2s(s+3)}{s^3 + 8s^2 + 10s + 4}$$\n",
    "\n",
    "We will use MATLAB to factorize the denominator $D(s)$ of the equation\n",
    "into a linear and a quadratic factor."
   ]
  },
  {
   "cell_type": "markdown",
   "id": "5be55595",
   "metadata": {
    "slideshow": {
     "slide_type": "subslide"
    }
   },
   "source": [
    "##### Find roots of Denominator D(s)"
   ]
  },
  {
   "cell_type": "code",
   "execution_count": null,
   "id": "5666622f",
   "metadata": {
    "slideshow": {
     "slide_type": "fragment"
    },
    "tags": [
     "remove-output"
    ]
   },
   "outputs": [],
   "source": [
    "p = roots([1, 8, 10, 4])"
   ]
  },
  {
   "cell_type": "markdown",
   "id": "247e6222",
   "metadata": {
    "slideshow": {
     "slide_type": "subslide"
    }
   },
   "source": [
    "##### Find quadratic form"
   ]
  },
  {
   "cell_type": "code",
   "execution_count": null,
   "id": "e40f0621",
   "metadata": {
    "slideshow": {
     "slide_type": "fragment"
    },
    "tags": [
     "remove-output"
    ]
   },
   "outputs": [],
   "source": [
    "syms s t\n",
    "y = expand((s - p(2))*(s - p(3)))"
   ]
  },
  {
   "cell_type": "markdown",
   "id": "a832b769",
   "metadata": {
    "slideshow": {
     "slide_type": "subslide"
    }
   },
   "source": [
    "##### Simplify coefficients of s"
   ]
  },
  {
   "cell_type": "code",
   "execution_count": null,
   "id": "16cd2158",
   "metadata": {
    "slideshow": {
     "slide_type": "subslide"
    },
    "tags": [
     "remove-output"
    ]
   },
   "outputs": [],
   "source": [
    "y = sym2poly(y)"
   ]
  },
  {
   "cell_type": "markdown",
   "id": "9e288753",
   "metadata": {
    "slideshow": {
     "slide_type": "subslide"
    }
   },
   "source": [
    "##### Complete the Square"
   ]
  },
  {
   "cell_type": "markdown",
   "id": "9847bbfd",
   "metadata": {
    "slideshow": {
     "slide_type": "notes"
    }
   },
   "source": [
    "<pre style=\"border: 2px solid blue\">\n",
    "\n",
    "\n",
    "\n",
    "\n",
    "\n",
    "\n",
    "\n",
    "\n",
    "\n",
    "\n",
    "\n",
    "\n",
    "\n",
    "\n",
    "\n",
    "\n",
    "\n",
    "\n",
    "\n",
    "\n",
    "\n",
    "\n",
    "\n",
    "</pre>"
   ]
  },
  {
   "cell_type": "markdown",
   "id": "3a92c479",
   "metadata": {
    "slideshow": {
     "slide_type": "subslide"
    }
   },
   "source": [
    "##### Plot result"
   ]
  },
  {
   "cell_type": "code",
   "execution_count": null,
   "id": "16ff7a9d",
   "metadata": {
    "slideshow": {
     "slide_type": "subslide"
    },
    "tags": [
     "remove-output"
    ]
   },
   "outputs": [],
   "source": [
    "t=0:0.01:10;\n",
    "Vout = 1.36.*exp(r(1).*t)+0.64.*exp(real(r(2)).*t).*cos(imag(r(2)).*t)-1.84.*exp(real(r(3)).*t).*sin(-imag(r(3)).*t);\n",
    "plot(t, Vout); grid\n",
    "title('Plot of Vout(t) for the circuit of Example 3')\n",
    "ylabel('Vout(t) V'),xlabel('Time t s')"
   ]
  },
  {
   "cell_type": "markdown",
   "id": "8c081f48",
   "metadata": {
    "slideshow": {
     "slide_type": "notes"
    }
   },
   "source": [
    "#### Worked Solution: Example 3\n",
    "\n",
    "\n",
    "File Pencast: [example3.pdf](https://cpjobling.github.io/eg-247-textbook/laplace_transform/worked_examples/example3.pdf) - Download and open in Adobe Acrobat Reader.\n",
    "\n",
    "The attached \"PenCast\" works through the solution to Example 3 by hand. It's quite a complex, error-prone (as you will see!) calculation that needs careful attention to detail. This in itself gives justification to my belief that you should use computers wherever possible.\n",
    "\n",
    "Please note, the PenCast takes around 39 minutes (I said it was a complex calculation) but you can fast forward and replay any part of it."
   ]
  },
  {
   "cell_type": "markdown",
   "id": "2a551d90",
   "metadata": {
    "slideshow": {
     "slide_type": "subslide"
    }
   },
   "source": [
    "##### Alternative solution using transfer functions"
   ]
  },
  {
   "cell_type": "code",
   "execution_count": null,
   "id": "672a4869",
   "metadata": {
    "slideshow": {
     "slide_type": "subslide"
    },
    "tags": [
     "remove-output"
    ]
   },
   "outputs": [],
   "source": [
    "Vout = tf(2*conv([1, 0],[1, 3]),[1, 8, 10, 4])"
   ]
  },
  {
   "cell_type": "code",
   "execution_count": null,
   "id": "388ed6a9",
   "metadata": {
    "slideshow": {
     "slide_type": "subslide"
    },
    "tags": [
     "remove-output"
    ]
   },
   "outputs": [],
   "source": [
    "impulse(Vout)"
   ]
  },
  {
   "cell_type": "markdown",
   "id": "62852e02",
   "metadata": {
    "slideshow": {
     "slide_type": "slide"
    }
   },
   "source": [
    "## Complex Impedance $Z(s)$\n",
    "\n",
    "For the resistance $R$$\\Omega$, inductance $L$H and capacitance $C$F, which of the following represent the complex impedance of the components?"
   ]
  },
  {
   "cell_type": "markdown",
   "id": "bf6ab97b",
   "metadata": {
    "slideshow": {
     "slide_type": "notes"
    }
   },
   "source": [
    "$$sL$$\n",
    "\n",
    "$$1/R$$\n",
    "\n",
    "$$sC$$\n",
    "\n",
    "$$\\frac{1}{sC}$$\n",
    "\n",
    "$$\\frac{1}{sL}$$\n",
    "\n",
    "$$R$$"
   ]
  },
  {
   "cell_type": "markdown",
   "id": "69a15fcc",
   "metadata": {
    "slideshow": {
     "slide_type": "fragment"
    }
   },
   "source": [
    "**-> Open Poll**"
   ]
  },
  {
   "cell_type": "markdown",
   "id": "7c5a91bd",
   "metadata": {
    "slideshow": {
     "slide_type": "subslide"
    }
   },
   "source": [
    "Consider the $s$-domain RLC series circuit, wehere the initial conditions are assumed to be zero.\n",
    "\n",
    "![Complex Impedance $Z(s)$](pictures/impedence.png)"
   ]
  },
  {
   "cell_type": "markdown",
   "id": "6834b9a7",
   "metadata": {
    "slideshow": {
     "slide_type": "subslide"
    }
   },
   "source": [
    "For this circuit, the sum\n",
    "\n",
    "$$R + sL + \\frac{1}{sC}$$ \n",
    "\n",
    "represents that total opposition to current flow. Then,\n",
    "\n",
    "$$I(s) = \\frac{V_s(s)}{R + sL + 1/(sC)}$$\n",
    "\n",
    "and defining the ratio $V_s(s)/I(s)$ as $Z(s)$, we obtain\n",
    "\n",
    "$$Z(s) = \\frac{V_s(s)}{I(s)} = R + sL + \\frac{1}{sC}$$"
   ]
  },
  {
   "cell_type": "markdown",
   "id": "5648fd1c",
   "metadata": {
    "slideshow": {
     "slide_type": "subslide"
    }
   },
   "source": [
    "The $s$-domain current $I(s)$ can be found from \n",
    "\n",
    "$$I(s) = \\frac{V_s(s)}{Z(s)}$$\n",
    "\n",
    "where\n",
    "\n",
    "$$Z(s) = R + sL + \\frac{1}{sC}.$$\n",
    "\n",
    "Since $s = \\sigma + j\\omega$ is a complex number, $Z(s)$ is also complex and is known as the *complex input impedance* of this RLC series circuit."
   ]
  },
  {
   "cell_type": "markdown",
   "id": "641fe33e",
   "metadata": {
    "slideshow": {
     "slide_type": "subslide"
    }
   },
   "source": [
    "### Exercise\n",
    "\n",
    "Use the previous result to give an expression for $V_c(s)$"
   ]
  },
  {
   "cell_type": "markdown",
   "id": "206bf783",
   "metadata": {
    "slideshow": {
     "slide_type": "skip"
    }
   },
   "source": [
    "<pre style=\"border: 2px solid blue\">\n",
    "\n",
    "\n",
    "\n",
    "\n",
    "\n",
    "\n",
    "\n",
    "\n",
    "\n",
    "\n",
    "\n",
    "\n",
    "\n",
    "\n",
    "\n",
    "</pre>"
   ]
  },
  {
   "cell_type": "markdown",
   "id": "72f8cb9b",
   "metadata": {
    "slideshow": {
     "slide_type": "subslide"
    }
   },
   "source": [
    "### Example 4\n",
    "\n",
    "For the network shown below, all the complex impedance values are given in $\\Omega$ (ohms). \n",
    "\n",
    "![Circuit for example 4](pictures/example4.png)\n",
    "\n",
    "Find $Z(s)$ using:\n",
    "    \n",
    "1. nodal analysis\n",
    "2. successive combinations of series and parallel impedances"
   ]
  },
  {
   "cell_type": "markdown",
   "id": "72a05a5e",
   "metadata": {
    "slideshow": {
     "slide_type": "notes"
    }
   },
   "source": [
    "<pre style=\"border: 2px solid blue\">\n",
    "\n",
    "\n",
    "\n",
    "\n",
    "\n",
    "\n",
    "\n",
    "\n",
    "\n",
    "\n",
    "\n",
    "\n",
    "\n",
    "\n",
    "\n",
    "</pre>\n",
    "\n",
    "**Solutions**: Pencasts [ex4_1.pdf](https://cpjobling.github.io/eg-247-textbook/laplace_transform/worked_examples/ex4_1.pdf) and [ex4_2.pdf](https://cpjobling.github.io/eg-247-textbook/laplace_transform/worked_examples/ex4_2.pdf) &ndash; open in Adobe Acrobat."
   ]
  },
  {
   "cell_type": "markdown",
   "id": "fc504b60",
   "metadata": {
    "slideshow": {
     "slide_type": "slide"
    }
   },
   "source": [
    "## Complex Admittance $Y(s)$\n",
    "\n",
    "For the resistor $R$Ω, inductor $L$H and capacitance $C$F, which of the following represent the complex admittance of the components?"
   ]
  },
  {
   "cell_type": "markdown",
   "id": "694e80c8",
   "metadata": {
    "slideshow": {
     "slide_type": "notes"
    }
   },
   "source": [
    "$$sL$$\n",
    "\n",
    "$$1/R$$\n",
    "\n",
    "$$sC$$\n",
    "\n",
    "$$\\frac{1}{sC}$$\n",
    "\n",
    "$$\\frac{1}{sL}$$\n",
    "\n",
    "$$R$$"
   ]
  },
  {
   "cell_type": "markdown",
   "id": "76e9105c",
   "metadata": {
    "slideshow": {
     "slide_type": "fragment"
    }
   },
   "source": [
    "**-> Open Poll**"
   ]
  },
  {
   "cell_type": "markdown",
   "id": "cc66d868",
   "metadata": {
    "slideshow": {
     "slide_type": "subslide"
    }
   },
   "source": [
    "Consider the $s$-domain GLC parallel circuit shown below where the initial conditions are zero.\n",
    "\n",
    "![Complex admittance $Y(s)$](pictures/admittance.png)\n",
    "\n",
    "For this circuit\n",
    "\n",
    "$$GV(s)+ \\frac{1}{sL}V(s) + sCV(s) = I_s(s)$$\n",
    "\n",
    "$$\\left(G+ \\frac{1}{sL} + sC\\right)V(s) = I_s(s)$$\n",
    "\n",
    "Defining the ratio $I_s(s)/V(s)$ as $Y(s)$ we obtain\n",
    "\n",
    "$$Y(s)=\\frac{I_s(s)}{V(s)} = G+ \\frac{1}{sL} + sC = \\frac{1}{Z(s)}$$"
   ]
  },
  {
   "cell_type": "markdown",
   "id": "70599f34",
   "metadata": {
    "slideshow": {
     "slide_type": "subslide"
    }
   },
   "source": [
    "The $s$-domain voltage $V(s)$ can be found from \n",
    "\n",
    "$$V(s) = \\frac{I_s(s)}{Y(s)}$$\n",
    "\n",
    "where\n",
    "\n",
    "$$Y(s) = G + \\frac{1}{sL} + sC.$$\n",
    "\n",
    "$Y(s)$ is complex and is known as the *complex input admittance* of this GLC parallel circuit."
   ]
  },
  {
   "cell_type": "markdown",
   "id": "2d2f561b",
   "metadata": {
    "slideshow": {
     "slide_type": "subslide"
    }
   },
   "source": [
    "### Example 5 - Do It Yourself\n",
    "\n",
    "Compute $Z(s)$ and $Y(s)$ for the circuit shown below. All impedence values are in $\\Omega$ (ohms). Verify your answers with MATLAB.\n",
    "\n",
    "![Circuit for Example 5](pictures/example5.png)"
   ]
  },
  {
   "cell_type": "markdown",
   "id": "8f175796",
   "metadata": {
    "slideshow": {
     "slide_type": "notes"
    }
   },
   "source": [
    "<pre style=\"border: 2px solid blue\">\n",
    "\n",
    "\n",
    "\n",
    "\n",
    "\n",
    "\n",
    "\n",
    "\n",
    "\n",
    "\n",
    "\n",
    "\n",
    "\n",
    "\n",
    "\n",
    "</pre>"
   ]
  },
  {
   "cell_type": "markdown",
   "id": "bb8476ed",
   "metadata": {
    "slideshow": {
     "slide_type": "subslide"
    }
   },
   "source": [
    "#### Answer 5\n",
    "\n",
    "$$Z(s) = \\frac{65s^4 + 490s^3 + 528s^2 + 400s + 128}{s(5s^2 + 30s + 16)}$$\n",
    "\n",
    "$$Y(s) = \\frac{1}{Z(s)} = \\frac{s(5s^2 + 30s + 16)}{65s^4 + 490s^3 + 528s^2 + 400s + 128}$$\n",
    "\n",
    "Matlab verification: [solution5.m](https://cpjobling.github.io/eg-247-textbook/laplace_transform/matlab/solution5.m)"
   ]
  },
  {
   "cell_type": "markdown",
   "id": "64cc47f0",
   "metadata": {
    "slideshow": {
     "slide_type": "subslide"
    }
   },
   "source": [
    "##### Example 5: Verification of Solution"
   ]
  },
  {
   "cell_type": "code",
   "execution_count": null,
   "id": "b5c878bf",
   "metadata": {
    "slideshow": {
     "slide_type": "subslide"
    },
    "tags": [
     "remove-output"
    ]
   },
   "outputs": [],
   "source": [
    "syms s;\n",
    "\n",
    "z1 = 13*s + 8/s;\n",
    "z2 = 5*s + 10;\n",
    "z3 = 20 + 16/s;"
   ]
  },
  {
   "cell_type": "code",
   "execution_count": null,
   "id": "2f8dd48d",
   "metadata": {
    "slideshow": {
     "slide_type": "subslide"
    },
    "tags": [
     "remove-output"
    ]
   },
   "outputs": [],
   "source": [
    "z = z1 + z2 * z3 /(z2 + z3)"
   ]
  },
  {
   "cell_type": "code",
   "execution_count": null,
   "id": "6c0879de",
   "metadata": {
    "slideshow": {
     "slide_type": "subslide"
    },
    "tags": [
     "remove-output"
    ]
   },
   "outputs": [],
   "source": [
    "z10 = simplify(z)"
   ]
  },
  {
   "cell_type": "code",
   "execution_count": null,
   "id": "71dcdba1",
   "metadata": {
    "slideshow": {
     "slide_type": "subslide"
    },
    "tags": [
     "remove-output"
    ]
   },
   "outputs": [],
   "source": [
    "pretty(z10)"
   ]
  },
  {
   "cell_type": "markdown",
   "id": "a75fa263",
   "metadata": {},
   "source": [
    "##### Admittance"
   ]
  },
  {
   "cell_type": "code",
   "execution_count": null,
   "id": "8d63ddda",
   "metadata": {
    "slideshow": {
     "slide_type": "subslide"
    },
    "tags": [
     "remove-output"
    ]
   },
   "outputs": [],
   "source": [
    "y10 = 1/z10;\n",
    "pretty(y10)"
   ]
  },
  {
   "cell_type": "markdown",
   "id": "2b678bcb",
   "metadata": {
    "slideshow": {
     "slide_type": "slide"
    }
   },
   "source": [
    "## Matlab Solutions\n",
    "\n",
    "For convenience, single script MATLAB solutions to the examples are provided and can be downloaded from the accompanying [MATLAB](https://github.com/cpjobling/eg-247-textbook/tree/master/laplace_transform/matlab) folder in the [GitHub repository](https://github.com/cpjobling/eg-247-textbook).\n",
    "\n",
    "* Solution 3 [[solution3.m](https://cpjobling.github.io/eg-247-textbook/laplace_transform/matlab/solution3.m)]\n",
    "* Solution 5 [[solution5.m](https://cpjobling.github.io/eg-247-textbook/laplace_transform/matlab/solution5.m)]"
   ]
  },
  {
   "cell_type": "code",
   "execution_count": null,
   "id": "ea7c821c",
   "metadata": {
    "slideshow": {
     "slide_type": "fragment"
    },
    "tags": [
     "remove-output"
    ]
   },
   "outputs": [],
   "source": [
    "cd ../matlab\n",
    "ls\n",
    "open solution3\n",
    "open solution5"
   ]
  }
 ],
 "metadata": {
  "jupytext": {
   "formats": "ipynb,md:myst",
   "text_representation": {
    "extension": ".md",
    "format_name": "myst",
    "format_version": 0.13,
    "jupytext_version": "1.14.1"
   }
  },
  "kernelspec": {
   "display_name": "Matlab",
   "language": "matlab",
   "name": "matlab"
  },
  "source_map": [
   15,
   21,
   33,
   44,
   48,
   54,
   58,
   62,
   68,
   72,
   82,
   86,
   92,
   96,
   106,
   110,
   114,
   122,
   154,
   162,
   195,
   203,
   211,
   217,
   223,
   256,
   262,
   295,
   301,
   329,
   340,
   344,
   353,
   357,
   367,
   371,
   380,
   384,
   412,
   416,
   429,
   440,
   444,
   453,
   462,
   468,
   482,
   486,
   492,
   506,
   518,
   524,
   544,
   557,
   579,
   585,
   599,
   603,
   619,
   631,
   639,
   659,
   669,
   673,
   686,
   695,
   704,
   711,
   715,
   725,
   734
  ]
 },
 "nbformat": 4,
 "nbformat_minor": 5
}