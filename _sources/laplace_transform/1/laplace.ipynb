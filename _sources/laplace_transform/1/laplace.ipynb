{
 "cells": [
  {
   "cell_type": "markdown",
   "id": "8745d25e",
   "metadata": {
    "nbpresent": {
     "id": "90f3c07d-3646-44b0-a549-7020fc10d16f"
    },
    "slideshow": {
     "slide_type": "slide"
    }
   },
   "source": [
    "(unit4.1)=\n",
    "# Unit 4.1: The Laplace Transformation\n",
    "\n",
    "The preparatory reading for this section is [Chapter 2](https://ebookcentral.proquest.com/lib/swansea-ebooks/reader.action?docID=3384197&ppg=43) of  {cite}`karris` and [Chapter 3]() of {cite}`schaum`."
   ]
  },
  {
   "cell_type": "markdown",
   "id": "1204da03",
   "metadata": {
    "slideshow": {
     "slide_type": "subslide"
    }
   },
   "source": [
    "Follow along at [cpjobling.github.io/eg-150-textbook//laplace_transform/1/laplace](https://cpjobling.github.io/eg-150-textbook/laplace_transform/1/laplace)\n",
    "\n",
    "![QR Code for this lecture](pictures/qrcode_laplace.png)"
   ]
  },
  {
   "cell_type": "markdown",
   "id": "b1593efe",
   "metadata": {
    "nbpresent": {
     "id": "f651cafb-8c2b-4d27-aec9-3491dbcce1aa"
    },
    "slideshow": {
     "slide_type": "notes"
    }
   },
   "source": [
    "## Agenda\n",
    "\n",
    "* {ref}`laplace:laplace`\n",
    "\n",
    "* {ref}`laplace:matlab`\n",
    "\n",
    "* {ref}`laplace:roc`\n",
    "\n",
    "* {ref}`laplace:pops_roc`\n",
    "\n",
    "* {ref}`laplace:pandz`\n",
    "\n",
    "* {ref}`laplace:examples`"
   ]
  },
  {
   "cell_type": "markdown",
   "id": "28709156",
   "metadata": {
    "nbpresent": {
     "id": "b8f02dd9-8876-4679-89fd-038772c205b9"
    },
    "slideshow": {
     "slide_type": "slide"
    }
   },
   "source": [
    "(laplace:laplace)=\n",
    "## The Laplace Transform"
   ]
  },
  {
   "cell_type": "markdown",
   "id": "103eb4f6",
   "metadata": {
    "nbpresent": {
     "id": "b8f02dd9-8876-4679-89fd-038772c205b9"
    },
    "slideshow": {
     "slide_type": "fragment"
    }
   },
   "source": [
    "In {ref}`eigenfunctions_of_continuous_time_LTI_systems` we saw that for a continuous-time LTI system with impulse response $h(t)$, the output of the system in response to a complex input of the form $x(t)=e^{st}$ is\n",
    "\n",
    "$$y(t) = \\mathbf{T}\\left\\{x(t)\\right\\} = H(s)e^{st}$$"
   ]
  },
  {
   "cell_type": "markdown",
   "id": "f3a0627a",
   "metadata": {
    "nbpresent": {
     "id": "b8f02dd9-8876-4679-89fd-038772c205b9"
    },
    "slideshow": {
     "slide_type": "fragment"
    }
   },
   "source": [
    "where\n",
    "\n",
    "$$H(s) = \\int_{-\\infty}^{\\infty}h(t)e^{-st}\\,dt$$"
   ]
  },
  {
   "cell_type": "markdown",
   "id": "37f89c1e",
   "metadata": {
    "nbpresent": {
     "id": "b8f02dd9-8876-4679-89fd-038772c205b9"
    },
    "slideshow": {
     "slide_type": "subslide"
    }
   },
   "source": [
    "(laplace:definition)=\n",
    "\n",
    "### Definition\n",
    "\n",
    "The function $H(s)$ above is referred to as the Laplace transform of $h(t)$."
   ]
  },
  {
   "cell_type": "markdown",
   "id": "7a6a5243",
   "metadata": {
    "nbpresent": {
     "id": "b8f02dd9-8876-4679-89fd-038772c205b9"
    },
    "slideshow": {
     "slide_type": "fragment"
    }
   },
   "source": [
    "For a general continuous-time signal $x(t)$, the Laplace transform $X(s)$ is defined as\n",
    "\n",
    "$$X(s) = \\int_{-\\infty}^{\\infty}x(t)e^{-st}\\,dt$$"
   ]
  },
  {
   "cell_type": "markdown",
   "id": "fde955b0",
   "metadata": {
    "nbpresent": {
     "id": "b8f02dd9-8876-4679-89fd-038772c205b9"
    },
    "slideshow": {
     "slide_type": "fragment"
    }
   },
   "source": [
    "The variable $s$ is generally complex valued and is expressed as\n",
    "\n",
    "$$\\sigma + j\\omega$$"
   ]
  },
  {
   "cell_type": "markdown",
   "id": "d686c298",
   "metadata": {
    "nbpresent": {
     "id": "b8f02dd9-8876-4679-89fd-038772c205b9"
    },
    "slideshow": {
     "slide_type": "subslide"
    }
   },
   "source": [
    "The Laplace transform defined above is often called the *bilateral* (or *two-sided*) Laplace transform in contrast the the *unilateral* (or *one-sided*) Laplace transform which is defined as\n",
    "\n",
    "$$X_I(s) = \\int_{0^-}^{\\infty}x(t)e^{-st}\\,dt$$\n",
    "\n",
    "where $0^-=\\lim_{\\epsilon\\to 0}(0-\\epsilon)$."
   ]
  },
  {
   "cell_type": "markdown",
   "id": "2953bb97",
   "metadata": {
    "nbpresent": {
     "id": "b8f02dd9-8876-4679-89fd-038772c205b9"
    },
    "slideshow": {
     "slide_type": "fragment"
    }
   },
   "source": [
    "Clearly the bilateral and unilateral tranforms are equivalent only if $x(t)=0$ for $t\\lt 0$."
   ]
  },
  {
   "cell_type": "markdown",
   "id": "0d10173b",
   "metadata": {
    "nbpresent": {
     "id": "b8f02dd9-8876-4679-89fd-038772c205b9"
    },
    "slideshow": {
     "slide_type": "notes"
    }
   },
   "source": [
    "In this course, because we are dealing with causal signals and systems, we will be concerned only with unilateral Laplace transform."
   ]
  },
  {
   "cell_type": "markdown",
   "id": "9705cffb",
   "metadata": {
    "nbpresent": {
     "id": "b8f02dd9-8876-4679-89fd-038772c205b9"
    },
    "slideshow": {
     "slide_type": "subslide"
    }
   },
   "source": [
    "The laplace tranform equation is sometimes considered an operator that transforms a signal $x(t)$ into a function $X(s)$ represented symbolically as\n",
    "\n",
    "$$X(s) = \\mathcal{L}\\left\\{x(t)\\right\\}$$"
   ]
  },
  {
   "cell_type": "markdown",
   "id": "0d3f2b35",
   "metadata": {
    "nbpresent": {
     "id": "b8f02dd9-8876-4679-89fd-038772c205b9"
    },
    "slideshow": {
     "slide_type": "fragment"
    }
   },
   "source": [
    "and the signal $x(t)$ and its Laplace transform $X(s)$ are said to form a Laplace transform pair denoted as\n",
    "\n",
    "$$x(t)\\Leftrightarrow X(s)$$"
   ]
  },
  {
   "cell_type": "markdown",
   "id": "bf24ba0e",
   "metadata": {
    "slideshow": {
     "slide_type": "fragment"
    }
   },
   "source": [
    "Laplace transform pairs are tabulated ({doc}`lt_table.md`) for ease of reference."
   ]
  },
  {
   "cell_type": "markdown",
   "id": "cbc53386",
   "metadata": {
    "nbpresent": {
     "id": "b8f02dd9-8876-4679-89fd-038772c205b9"
    },
    "slideshow": {
     "slide_type": "notes"
    }
   },
   "source": [
    "```{note}\n",
    "By convention, lower-case symbols are used for continuous-time signals and uppercase symbols for their Laplace tranforms.\n",
    "```"
   ]
  },
  {
   "cell_type": "markdown",
   "id": "55725236",
   "metadata": {
    "nbpresent": {
     "id": "b8f02dd9-8876-4679-89fd-038772c205b9"
    },
    "slideshow": {
     "slide_type": "subslide"
    }
   },
   "source": [
    "(laplace:matlab)=\n",
    "### MATLAB Representation\n",
    "\n",
    "The Laplace transform operator is provided in the MATLAB symbolic math toolkit by the function `laplace` and can be used as follows:"
   ]
  },
  {
   "cell_type": "code",
   "execution_count": 1,
   "id": "126188e2",
   "metadata": {
    "slideshow": {
     "slide_type": "fragment"
    }
   },
   "outputs": [
    {
     "name": "stdout",
     "output_type": "stream",
     "text": [
      "X(s) =\n"
     ]
    },
    {
     "name": "stdout",
     "output_type": "stream",
     "text": [
      "laplace(x(t), t, s)\n"
     ]
    }
   ],
   "source": [
    "format compact\n",
    "syms s t x(t) % define Laplace transform variable and time as symbols\n",
    "X(s) = laplace(x(t))"
   ]
  },
  {
   "cell_type": "markdown",
   "id": "6cc9eefd",
   "metadata": {
    "slideshow": {
     "slide_type": "slide"
    }
   },
   "source": [
    "(laplace:roc)=\n",
    "## Region of Convergence"
   ]
  },
  {
   "cell_type": "markdown",
   "id": "174e9dbb",
   "metadata": {
    "nbpresent": {
     "id": "4ad52fcd-e2e8-4d41-8827-511753bd1148"
    },
    "slideshow": {
     "slide_type": "fragment"
    }
   },
   "source": [
    "For a Laplace transfomation to exist, the integral must be bounded. That is\n",
    "$$\\left| {\\int_0^\\infty  {f(t){e^{ - st}}dt} } \\right| < \\infty $$"
   ]
  },
  {
   "cell_type": "markdown",
   "id": "b30bf41c",
   "metadata": {
    "nbpresent": {
     "id": "4ad52fcd-e2e8-4d41-8827-511753bd1148"
    },
    "slideshow": {
     "slide_type": "fragment"
    }
   },
   "source": [
    "The range of values for the complex variables $s$ for which the Laplace tranform converges is called the *region of convergence* (ROC). To illustrate this concept, let us consider some examples."
   ]
  },
  {
   "cell_type": "markdown",
   "id": "139148b0",
   "metadata": {
    "nbpresent": {
     "id": "4ad52fcd-e2e8-4d41-8827-511753bd1148"
    },
    "slideshow": {
     "slide_type": "subslide"
    }
   },
   "source": [
    "(laplace:ex1)=\n",
    "### Solved Problem 1\n",
    "\n",
    "Consider the signal\n",
    "\n",
    "$$x(t) = e^{-at}u_0(t)\\quad a\\, \\mathrm{real}$$"
   ]
  },
  {
   "cell_type": "markdown",
   "id": "12ffc0d3",
   "metadata": {
    "slideshow": {
     "slide_type": "subslide"
    }
   },
   "source": [
    "#### By hand\n",
    "\n",
    "We will work through the analysis in class"
   ]
  },
  {
   "cell_type": "markdown",
   "id": "c3c25f9b",
   "metadata": {
    "slideshow": {
     "slide_type": "subslide"
    }
   },
   "source": [
    "#### MATLAB analysis"
   ]
  },
  {
   "cell_type": "code",
   "execution_count": 2,
   "id": "09459cd5",
   "metadata": {
    "slideshow": {
     "slide_type": "fragment"
    }
   },
   "outputs": [],
   "source": [
    "% set up\n",
    "syms s t a\n",
    "assume(a,'real')\n",
    "u0(t) = heaviside(t);"
   ]
  },
  {
   "cell_type": "code",
   "execution_count": 3,
   "id": "1a63aa12",
   "metadata": {
    "slideshow": {
     "slide_type": "fragment"
    }
   },
   "outputs": [
    {
     "name": "stdout",
     "output_type": "stream",
     "text": [
      "x(t) =\n"
     ]
    },
    {
     "name": "stdout",
     "output_type": "stream",
     "text": [
      "exp(-a*t)*heaviside(t)\n"
     ]
    }
   ],
   "source": [
    "x(t) = exp(-a*t)*u0(t)"
   ]
  },
  {
   "cell_type": "code",
   "execution_count": 4,
   "id": "aa6a691b",
   "metadata": {
    "slideshow": {
     "slide_type": "subslide"
    }
   },
   "outputs": [
    {
     "data": {
      "image/png": "[encoded data removed]",
      "text/plain": [
       "<IPython.core.display.Image object>"
      ]
     },
     "metadata": {
      "filenames": {
       "image/png": "/Users/eechris/code/src/github.com/cpjobling/eg-150-textbook/_build/jupyter_execute/laplace_transform/1/laplace_26_0.png"
      }
     },
     "output_type": "display_data"
    }
   ],
   "source": [
    "fplot(subs(x(t),a,1))"
   ]
  },
  {
   "cell_type": "code",
   "execution_count": 5,
   "id": "9d294295",
   "metadata": {
    "slideshow": {
     "slide_type": "subslide"
    }
   },
   "outputs": [
    {
     "name": "stdout",
     "output_type": "stream",
     "text": [
      "ans =\n"
     ]
    },
    {
     "name": "stdout",
     "output_type": "stream",
     "text": [
      "piecewise(in(s, 'real') & a + s < 0, Inf, ~in(s, 'real') & a + real(s) ~= 0, 1/(a + s) - limit(exp(- t*a - t*s), t, Inf)/(a + s), in(s, 'real') & 0 < a + s | angle(s) in Dom::Interval(-pi/2, pi/2) & 0 < a & s ~= 0, 1/(a + s), (in(s, 'real') | a + real(s) == 0) & (~in(s, 'real') | 0 <= a + s) & (~in(s, 'real') | a + s <= 0) & (~angle(s) in Dom::Interval(-pi/2, pi/2) | a <= 0 | s == 0), int(exp(-t*a)*exp(-t*s), t, 0, Inf))\n"
     ]
    }
   ],
   "source": [
    "int(x(t)*exp(-s*t),t,0,inf)"
   ]
  },
  {
   "cell_type": "code",
   "execution_count": 6,
   "id": "2f547bc8",
   "metadata": {
    "slideshow": {
     "slide_type": "fragment"
    }
   },
   "outputs": [],
   "source": [
    "assume(s + a > 0)"
   ]
  },
  {
   "cell_type": "code",
   "execution_count": 7,
   "id": "4fe59355",
   "metadata": {
    "slideshow": {
     "slide_type": "fragment"
    }
   },
   "outputs": [
    {
     "name": "stdout",
     "output_type": "stream",
     "text": [
      "ans =\n"
     ]
    },
    {
     "name": "stdout",
     "output_type": "stream",
     "text": [
      "1/(a + s)\n"
     ]
    }
   ],
   "source": [
    "int(x(t)*exp(-s*t),t,0,inf)"
   ]
  },
  {
   "cell_type": "code",
   "execution_count": 8,
   "id": "d924a4ce",
   "metadata": {
    "slideshow": {
     "slide_type": "subslide"
    }
   },
   "outputs": [
    {
     "name": "stdout",
     "output_type": "stream",
     "text": [
      "X(s) =\n"
     ]
    },
    {
     "name": "stdout",
     "output_type": "stream",
     "text": [
      "1/(a + s)\n"
     ]
    }
   ],
   "source": [
    "X(s) = laplace(x(t))"
   ]
  },
  {
   "cell_type": "markdown",
   "id": "2c7e83df",
   "metadata": {
    "nbpresent": {
     "id": "4ad52fcd-e2e8-4d41-8827-511753bd1148"
    },
    "slideshow": {
     "slide_type": "notes"
    }
   },
   "source": [
    "The Laplace transform of $x(t)$\n",
    "\n",
    "$$X(s)=\\int_{-\\infty}^{\\infty}e^{-at}u_0(t)e^{-st}\\,dt = \\int_{0^+}^{\\infty}e^{-(s+a)t}\\,dt$$"
   ]
  },
  {
   "cell_type": "markdown",
   "id": "afc0712d",
   "metadata": {
    "nbpresent": {
     "id": "4ad52fcd-e2e8-4d41-8827-511753bd1148"
    },
    "slideshow": {
     "slide_type": "notes"
    }
   },
   "source": [
    "$$X(s) = \\left.-\\frac{1}{s+a}e^{-(s+a)t}\\right|_{0^+}^\\infty=\\frac{1}{s+a}\\quad \\mathrm{Re}(s)> -a$$"
   ]
  },
  {
   "cell_type": "markdown",
   "id": "02042867",
   "metadata": {
    "slideshow": {
     "slide_type": "subslide"
    }
   },
   "source": [
    ":::{figure-md} ROC1\n",
    "<img src=\"pictures/roc1.png\" alt=\"ROC for Example 1\" width=\"60%\">\n",
    "\n",
    "ROC for Example 1\n",
    ":::"
   ]
  },
  {
   "cell_type": "markdown",
   "id": "abb80e7d",
   "metadata": {
    "nbpresent": {
     "id": "4ad52fcd-e2e8-4d41-8827-511753bd1148"
    },
    "slideshow": {
     "slide_type": "notes"
    }
   },
   "source": [
    "because $\\lim_{t\\to \\infty}e^{-(s+a)t} = 0$ only if $\\mathrm{Re}(s + a)\\gt 0$ or $\\mathrm{Re}(s)\\gt -a$."
   ]
  },
  {
   "cell_type": "markdown",
   "id": "dfdbfaa9",
   "metadata": {
    "slideshow": {
     "slide_type": "notes"
    }
   },
   "source": [
    "Thus, the ROC for {ref}`laplace:ex1` for {ref}`laplace:ex1` is specified as $\\mathrm{Re}(s)\\gt -a$ and is illustrated in the complex plane as showm in {numref}`ROC2` by the shaded area to the right of the line $\\mathrm{Re}(s)=-a.\n",
    "\n",
    "In Laplace transform applications, the complex plane is commonly referred to as the s-plane. The horizontal and vertical axes are sometimes referred to as the $\\sigma$-axis ($\\mathrm{Re}(s)$) and the $j\\omega$-axis ($\\mathrm{Im}(s)$), respectively."
   ]
  },
  {
   "cell_type": "markdown",
   "id": "0c5a15f5",
   "metadata": {
    "nbpresent": {
     "id": "4ad52fcd-e2e8-4d41-8827-511753bd1148"
    },
    "slideshow": {
     "slide_type": "subslide"
    }
   },
   "source": [
    "(laplace:ex2)=\n",
    "### Solved Problem 2\n",
    "\n",
    "Consider the signal\n",
    "\n",
    "$$x(t) = -e^{-at}u_0(-t)\\quad a\\, \\mathrm{real}$$"
   ]
  },
  {
   "cell_type": "markdown",
   "id": "b936ac0b",
   "metadata": {
    "slideshow": {
     "slide_type": "subslide"
    }
   },
   "source": [
    "#### MATLAB Analysis\n",
    "\n",
    "We will work through the analysis in class"
   ]
  },
  {
   "cell_type": "code",
   "execution_count": 9,
   "id": "5341044b",
   "metadata": {
    "slideshow": {
     "slide_type": "fragment"
    }
   },
   "outputs": [
    {
     "name": "stdout",
     "output_type": "stream",
     "text": [
      "x(t) =\n"
     ]
    },
    {
     "name": "stdout",
     "output_type": "stream",
     "text": [
      "-heaviside(-t)*exp(-a*t)\n"
     ]
    }
   ],
   "source": [
    "x(t) = -exp(-a*t)*u0(-t)"
   ]
  },
  {
   "cell_type": "code",
   "execution_count": 10,
   "id": "7755d75b",
   "metadata": {
    "slideshow": {
     "slide_type": "fragment"
    }
   },
   "outputs": [
    {
     "data": {
      "image/png": "[encoded data removed]",
      "text/plain": [
       "<IPython.core.display.Image object>"
      ]
     },
     "metadata": {
      "filenames": {
       "image/png": "/Users/eechris/code/src/github.com/cpjobling/eg-150-textbook/_build/jupyter_execute/laplace_transform/1/laplace_39_0.png"
      }
     },
     "output_type": "display_data"
    }
   ],
   "source": [
    "fplot(subs(x(t),a,1))"
   ]
  },
  {
   "cell_type": "code",
   "execution_count": 11,
   "id": "90429748",
   "metadata": {
    "slideshow": {
     "slide_type": "subslide"
    }
   },
   "outputs": [
    {
     "name": "stdout",
     "output_type": "stream",
     "text": [
      "ans =\n"
     ]
    },
    {
     "name": "stdout",
     "output_type": "stream",
     "text": [
      "-Inf\n"
     ]
    }
   ],
   "source": [
    "int(x(t)*exp(-s*t),t,-inf,0)"
   ]
  },
  {
   "cell_type": "code",
   "execution_count": 12,
   "id": "2f64764b",
   "metadata": {
    "slideshow": {
     "slide_type": "subslide"
    }
   },
   "outputs": [
    {
     "name": "stdout",
     "output_type": "stream",
     "text": [
      "X(s) =\n"
     ]
    },
    {
     "name": "stdout",
     "output_type": "stream",
     "text": [
      "0\n"
     ]
    }
   ],
   "source": [
    "X(s)=laplace(x(t))"
   ]
  },
  {
   "cell_type": "code",
   "execution_count": 13,
   "id": "7fcdf4b9",
   "metadata": {
    "slideshow": {
     "slide_type": "fragment"
    }
   },
   "outputs": [
    {
     "name": "stdout",
     "output_type": "stream",
     "text": [
      "ans =\n"
     ]
    },
    {
     "name": "stdout",
     "output_type": "stream",
     "text": [
      "1/(a + s)\n"
     ]
    }
   ],
   "source": [
    "assume(s + a < 0)\n",
    "int(x(t)*exp(-s*t),t,-inf,0)"
   ]
  },
  {
   "cell_type": "markdown",
   "id": "84a8cfd8",
   "metadata": {
    "slideshow": {
     "slide_type": "subslide"
    }
   },
   "source": [
    "#### By hand analysis\n",
    "\n",
    "See {ref}`ex9.`"
   ]
  },
  {
   "cell_type": "markdown",
   "id": "fddb5b41",
   "metadata": {
    "nbpresent": {
     "id": "4ad52fcd-e2e8-4d41-8827-511753bd1148"
    },
    "slideshow": {
     "slide_type": "notes"
    }
   },
   "source": [
    "Its Laplace transform $X(s)$ is given by {ref}`ex:9.1`\n",
    "\n",
    "\n",
    "\n",
    "$$X(s)=\\frac{1}{s+a}\\quad \\mathrm{Re}(s)\\lt -a$$"
   ]
  },
  {
   "cell_type": "markdown",
   "id": "7e3bc92c",
   "metadata": {
    "slideshow": {
     "slide_type": "notes"
    }
   },
   "source": [
    "Thus the ROC for {ref}`laplace:ex2` is specified as $\\mathrm{Re}(s)\\lt -a$ and is illustrated in the complex plane as showm in {numref}`ROC2` by the shaded area to the left of the line $\\mathrm{Re}(s)=-a$."
   ]
  },
  {
   "cell_type": "markdown",
   "id": "268ba01d",
   "metadata": {
    "slideshow": {
     "slide_type": "notes"
    }
   },
   "source": [
    ":::{figure-md} ROC2\n",
    "<img src=\"pictures/roc2.png\" alt=\"ROC for Example 2\" width=\"60%\">\n",
    "\n",
    "ROC for Example 2\n",
    ":::"
   ]
  },
  {
   "cell_type": "markdown",
   "id": "0f583237",
   "metadata": {
    "slideshow": {
     "slide_type": "subslide"
    }
   },
   "source": [
    "Comparing the results of {ref}`laplace:ex1` and {ref}`laplace:ex2`, we see that that algebraic expressions for $X(s)$ for these two signals are identical apart from the ROCs."
   ]
  },
  {
   "cell_type": "markdown",
   "id": "f2e9cc92",
   "metadata": {
    "slideshow": {
     "slide_type": "notes"
    }
   },
   "source": [
    "Therefore, in order for the Laplace transform to be unique for each signal $x(t)$, *the ROC must be specified as part of the transform*."
   ]
  },
  {
   "cell_type": "markdown",
   "id": "4bd58984",
   "metadata": {
    "nbpresent": {
     "id": "352d0877-b48f-4b8d-9082-371f06fef621"
    },
    "slideshow": {
     "slide_type": "slide"
    }
   },
   "source": [
    "(laplace:pandz)=\n",
    "## Poles and Zeros of X(s)"
   ]
  },
  {
   "cell_type": "markdown",
   "id": "3d745b4a",
   "metadata": {
    "slideshow": {
     "slide_type": "fragment"
    }
   },
   "source": [
    "Usually, $X(s)$ will be a rational polynomial in $s$; that is\n",
    "\n",
    "$$X(s)=\\frac{b_ms^m+b_{m-1}s^{m-1}+\\cdots b_1s + b_0}{a_ns^n+a_{n-1}s^{n-1}+\\cdot a_1s + a_0}=\\frac{b_m}{a_n}\\,\\frac{\\left(s-z_1\\right)\\cdots\\left(s-z_m\\right)}{\\left(s-p_1\\right)\\cdots\\left(s-p_n\\right)}$$"
   ]
  },
  {
   "cell_type": "markdown",
   "id": "fb0630a3",
   "metadata": {
    "slideshow": {
     "slide_type": "fragment"
    }
   },
   "source": [
    "The coefficients $b_k$ and $a_k$ are real constants, and $k$, $m$ and $n$ are positive integers."
   ]
  },
  {
   "cell_type": "markdown",
   "id": "adc79872",
   "metadata": {
    "slideshow": {
     "slide_type": "subslide"
    }
   },
   "source": [
    "The transform $X(s)$ is called a *proper* rational function if $n>m$, and an *improper* rational function if $n\\le m$."
   ]
  },
  {
   "cell_type": "markdown",
   "id": "f597face",
   "metadata": {
    "slideshow": {
     "slide_type": "fragment"
    }
   },
   "source": [
    "The roots of the numerator polynomial, $z_k$, are called the *zeros* of $X(s)$ because $X(s) = 0$ for those values of $s$."
   ]
  },
  {
   "cell_type": "markdown",
   "id": "06eee200",
   "metadata": {
    "slideshow": {
     "slide_type": "fragment"
    }
   },
   "source": [
    "Similarly, the zeros of the denominator polynomial, $p_k$, are called the *poles* of $X(s)$ because $X(s)$ is infinite for those values of $s$."
   ]
  },
  {
   "cell_type": "markdown",
   "id": "7bafe3d0",
   "metadata": {
    "slideshow": {
     "slide_type": "fragment"
    }
   },
   "source": [
    "Therefore, the poles of $X(s)$ lie outside the ROC since, by definition, $X(s)$ does not converge on the poles."
   ]
  },
  {
   "cell_type": "markdown",
   "id": "d8757482",
   "metadata": {
    "slideshow": {
     "slide_type": "fragment"
    }
   },
   "source": [
    "The zeros, on the other hand, may lie inside or outside the ROC."
   ]
  },
  {
   "cell_type": "markdown",
   "id": "e159cfde",
   "metadata": {
    "slideshow": {
     "slide_type": "subslide"
    }
   },
   "source": [
    "Except for the scale factor $b_m/a_n$, $X(s)$ can be completely specified by its poles and zeros."
   ]
  },
  {
   "cell_type": "markdown",
   "id": "98805980",
   "metadata": {
    "slideshow": {
     "slide_type": "fragment"
    }
   },
   "source": [
    "Thus a very compact representation of $X(s)$ is the s-plane is to show the locations of the poles and zeros in addition to the ROC."
   ]
  },
  {
   "cell_type": "markdown",
   "id": "59b25cd3",
   "metadata": {
    "slideshow": {
     "slide_type": "fragment"
    }
   },
   "source": [
    "Traditionally, an \"x\" is used to indicate each pole and a \"o\" is used to indicate each zero."
   ]
  },
  {
   "cell_type": "markdown",
   "id": "7c333f07",
   "metadata": {
    "slideshow": {
     "slide_type": "fragment"
    }
   },
   "source": [
    "This is illustrated in {numref}`laplace:pzmap` for $X(s)$ given by\n",
    "\n",
    "$$X(s) = \\frac{2s+4}{s^2+4s+3} = 2 \\frac{(s+2)}{(s+1)(s+3)}\\quad \\mathrm{Re}(s)\\gt -1$$"
   ]
  },
  {
   "cell_type": "markdown",
   "id": "36902783",
   "metadata": {
    "slideshow": {
     "slide_type": "subslide"
    }
   },
   "source": [
    ":::{figure-md} Laplace:pzmap\n",
    "<img src=\"pictures/pzmap.png\" alt=\"s-plane representation of X(s)=(2s^2+4)(s^2+4s+3)\" width=\"60%\">\n",
    "\n",
    "s-plane representation of $X(s)=(2s^2+4)/(s^2+4s+3)$\n",
    ":::"
   ]
  },
  {
   "cell_type": "markdown",
   "id": "f36964ab",
   "metadata": {
    "slideshow": {
     "slide_type": "subslide"
    }
   },
   "source": [
    "#### MATLAB Analysis\n",
    "\n",
    "In MATLAB we represent polynomials as vectors whose elements are the numerical values of the coeffients in decending order of $s$:"
   ]
  },
  {
   "cell_type": "code",
   "execution_count": 14,
   "id": "3c6e2993",
   "metadata": {
    "slideshow": {
     "slide_type": "fragment"
    }
   },
   "outputs": [],
   "source": [
    "n = [2 4]; d = [1 4 3];"
   ]
  },
  {
   "cell_type": "markdown",
   "id": "03395827",
   "metadata": {
    "slideshow": {
     "slide_type": "fragment"
    }
   },
   "source": [
    "We factorise using function `roots` which determines the zeros of the polynomials:"
   ]
  },
  {
   "cell_type": "code",
   "execution_count": 15,
   "id": "2de69e26",
   "metadata": {
    "slideshow": {
     "slide_type": "fragment"
    }
   },
   "outputs": [
    {
     "name": "stdout",
     "output_type": "stream",
     "text": [
      "z =\n",
      "    -2\n"
     ]
    },
    {
     "name": "stdout",
     "output_type": "stream",
     "text": [
      "p =\n",
      "    -3\n",
      "    -1\n"
     ]
    }
   ],
   "source": [
    "z = roots(n), p = roots(d), k = 2;"
   ]
  },
  {
   "cell_type": "markdown",
   "id": "648aba92",
   "metadata": {
    "slideshow": {
     "slide_type": "subslide"
    }
   },
   "source": [
    "We can plot these on the $s$-plane using the function `pzmap`:"
   ]
  },
  {
   "cell_type": "code",
   "execution_count": 16,
   "id": "e0aefa5c",
   "metadata": {
    "slideshow": {
     "slide_type": "fragment"
    }
   },
   "outputs": [
    {
     "data": {
      "image/png": "[encoded data removed]",
      "text/plain": [
       "<IPython.core.display.Image object>"
      ]
     },
     "metadata": {
      "filenames": {
       "image/png": "/Users/eechris/code/src/github.com/cpjobling/eg-150-textbook/_build/jupyter_execute/laplace_transform/1/laplace_67_0.png"
      }
     },
     "output_type": "display_data"
    }
   ],
   "source": [
    "pzmap(p,z)"
   ]
  },
  {
   "cell_type": "markdown",
   "id": "59031cdf",
   "metadata": {
    "slideshow": {
     "slide_type": "notes"
    }
   },
   "source": [
    "Note that $X(s)$ has one zero at $s=-2$ and two poles at $s=-1$ and $s=-3$ with scale factor 2. The ROC is $\\mathrm{Re}(s)>-1$."
   ]
  },
  {
   "cell_type": "markdown",
   "id": "35942023",
   "metadata": {
    "nbpresent": {
     "id": "352d0877-b48f-4b8d-9082-371f06fef621"
    },
    "slideshow": {
     "slide_type": "slide"
    }
   },
   "source": [
    "(laplace:pops_roc)=\n",
    "## Properties of the ROC\n",
    "\n",
    "[not examinable]\n",
    "\n",
    "The properties of the ROC are summarised in **Section 3.1 D** of {ref}`schaum` and as they are ***not examinable***, we leave their study to the interested student."
   ]
  },
  {
   "cell_type": "markdown",
   "id": "95aa421d",
   "metadata": {
    "slideshow": {
     "slide_type": "notes"
    }
   },
   "source": [
    "(laplace:examples)=\n",
    "## Examples 9\n",
    "\n",
    "\n",
    "\n",
    "(ex9.1)=\n",
    "### Example 9.1\n",
    "\n",
    "Find the Laplace transform of\n",
    "\n",
    "a). $x(t)=-e^{-at}u_0(-t)$\n",
    "\n",
    "b). $x(t)= e^{at}u_0(-t)$\n",
    "\n",
    "### Solution\n",
    "\n",
    "a) \n",
    "\n",
    "$$X(s) = -\\int_{-\\infty}^{\\infty}e^{-at}u_o(-t)e^{-st}\\,dt=-\\int_{-\\infty}^{0^{-}}e^{-(s+a)t}$$\n",
    "\n",
    "$$X(s) = \\left.\\frac{1}{s+a}e^{-(s+a)t}\\right|_{-\\infty}^{0^{-}}=\\frac{1}{s+a}\\quad\\mathrm{Re}(s)\\lt-a$$\n",
    "\n",
    "Thus we obtain\n",
    "\n",
    "$$-e^{-at}u_0(-t) \\Leftrightarrow\\frac{1}{s+a}\\quad\\mathrm{Re}(s)\\lt-a$$\n",
    "\n",
    "b). Similarly\n",
    "\n",
    "$$X(s) = \\int_{-\\infty}^{\\infty}e^{at}u_o(-t)e^{-st}\\,dt=-\\int_{-\\infty}^{0^{-}}e^{-(s-a)t}$$\n",
    "\n",
    "$$X(s) = -\\left.\\frac{1}{s+a}\\right|_{-\\infty}^{0^{-}}e^{-(s-a)t}=\\frac{1}{s-a}\\quad\\mathrm{Re}(s)\\lt a$$\n",
    "\n",
    "Thus we obtain\n",
    "\n",
    "$$e^{at}u_0(-t) \\Leftrightarrow\\frac{1}{s-a}\\quad\\mathrm{Re}(s)\\lt a$$"
   ]
  },
  {
   "cell_type": "markdown",
   "id": "10d69ced",
   "metadata": {},
   "source": [
    "(l1_summary)=\n",
    "## Summary and Takeaways\n",
    "\n",
    "### The Laplace transform\n",
    "\n",
    "The Laplace transform of a continuous-time signal or system is defined as\n",
    "\n",
    "$$\\mathcal{f}\\left\\{f(t)\\right\\} = F(s) = \\int_{-\\infty}^{\\infty} f(t)e^{-st}\\,dt$$\n",
    "\n",
    "The term $s$ is called the *complex frequency* and is a complex number of form $\\sigma + j\\omega$. The $s$-plane is a surface representing all the possible values of $s$.\n",
    "\n",
    "For causal signals and systems that are linear-time invariant, we will use the single-sided Laplace transform\n",
    "\n",
    "$$F(s) = \\int_{0}^{\\infty} f(t)e^{-st}\\,dt$$\n",
    "\n",
    "Tunctions of time and their Laplace transforms are often presented using the *transform-pair* notation\n",
    "\n",
    "$$f(t)\\Leftrightarrow F(s)$$\n",
    "\n",
    "### Region of convergence\n",
    "\n",
    "The Laplace transform exists only if the integral is finite or \n",
    "\n",
    "$$\\left| {\\int_0^\\infty  {f(t){e^{ - st}}dt} } \\right| < \\infty $$\n",
    "\n",
    "The region of the $s$-plane for which the Laplace transform is defined is called the *Region of Convergence* (ROC).\n",
    "\n",
    "To be fully defined, the Laplace tranform of $f(t)$ needs to specify the ROC. But in practice, for the systems and signals we are concerned about, we often neglect the ROC - although it is usually quoted in tables.\n",
    "\n",
    "### Poles and zeros\n",
    "\n",
    "For the signals and systems we are concerned about the Laplace transform takes the form of a rational polynomial in $s$ which has the general form\n",
    "\n",
    "$$F(s)=\\frac{b_ms^m+b_{m-1}s^{m-1}+\\cdots b_1s + b_0}{a_ns^n+a_{n-1}s^{n-1}+\\cdot a_1s + a_0}$$\n",
    "\n",
    "where $b_k$ and $a_k$ are real constants, $n$ and $m$ are integers and $n > m$.\n",
    "\n",
    "The numerator and denominator polynomials can be factorised into the so-called zero-pole-gain form polynomial\n",
    "\n",
    "$$F(s)=\\frac{b_m}{a_n}\\,\\frac{\\left(s-z_1\\right)\\cdots\\left(s-z_m\\right)}{\\left(s-p_1\\right)\\cdots\\left(s-p_n\\right)}$$\n",
    "\n",
    "The terms $z_k$ which appear in the factors of the numerator polynomial and are called zeros (or roots) of the polynomial. (That is the values of $s$ for which the numerator polynomial is zero.) The zeros of the numerator are also the zeros of the Laplace transform $F(s)$.\n",
    "\n",
    "The terms $p_k$ which appear in the factors of the denominator polynomial and are called the poles of the laplace Transform. This is because any zeros in the denoniminator will result in infinities in the Laplace transform.\n",
    "\n",
    "The poles and zeros will eaither be real or imaginary. If they are imaginary, they will appear as complex conjugate pairs and can be represented in the polynomial as quadratic factors $s^2 + as + b$.\n",
    "\n",
    "As we will see later, any function $F(s)$ that has this structure can be expended using partial fractions and the response $f(t)$ will be the sum of simple functions of time that can be readily looked up from tables.\n",
    "\n",
    "The structure of any $F(s)$ can be represented on the $s$-plane as a pole-zero map, and knowledge of the behaviour of the poles and the impact of the zeros allows us to reason about what the overal system response will look like. We will explore this later in the module and it will be an important topic of study in **EG-243 Control Systems** next year.\n",
    "\n",
    "### MATLAB\n",
    "\n",
    "The Laplace transform is available in the MATLAB Symbolic Math Toolbox as function `laplace`. To use it we usually specify the values `t` and `s` as symbols:"
   ]
  },
  {
   "cell_type": "code",
   "execution_count": 17,
   "id": "e476b438",
   "metadata": {
    "slideshow": {
     "slide_type": "notes"
    }
   },
   "outputs": [
    {
     "name": "stdout",
     "output_type": "stream",
     "text": [
      "F(s) =\n"
     ]
    },
    {
     "name": "stdout",
     "output_type": "stream",
     "text": [
      "laplace(f(t), t, s)\n"
     ]
    }
   ],
   "source": [
    "syms s t f(t)\n",
    "F(s) = laplace(f(t))"
   ]
  },
  {
   "cell_type": "markdown",
   "id": "010020d6",
   "metadata": {
    "slideshow": {
     "slide_type": "notes"
    }
   },
   "source": [
    "```{warning}\n",
    "The Laplace transform provided by MATLAB is single sided. If you need to find the laplace transform of a signal that is not causal, you need to define the region of convergence, and use the integral. See examples above.\n",
    "```"
   ]
  },
  {
   "cell_type": "markdown",
   "id": "5b26ccda",
   "metadata": {
    "slideshow": {
     "slide_type": "notes"
    }
   },
   "source": [
    "The Laplace transform is representable in MATLAB using polynomials.\n",
    "\n",
    "The roots of these polynomials can be determined using the `roots` function\n",
    "\n",
    "Factored polynomials can be presented using the roots and the poles and zeros can be plotted on the $s$-plane using the pzmap function.\n",
    "\n",
    "#### Example\n",
    "\n",
    "Factorise\n",
    "\n",
    "$$X(s) = \\frac{3s+9}{s^3+4s^2+7s + 6}$$\n",
    "\n",
    "and plot the pole-zero map"
   ]
  },
  {
   "cell_type": "code",
   "execution_count": 18,
   "id": "d62c3397",
   "metadata": {
    "slideshow": {
     "slide_type": "notes"
    }
   },
   "outputs": [
    {
     "name": "stdout",
     "output_type": "stream",
     "text": [
      "Dx =\n",
      "     1     4     7     6\n"
     ]
    },
    {
     "name": "stdout",
     "output_type": "stream",
     "text": [
      "Zeros =\n",
      "    -3\n"
     ]
    },
    {
     "name": "stdout",
     "output_type": "stream",
     "text": [
      "Poles =\n",
      "  -2.0000 + 0.0000i\n",
      "  -1.0000 + 1.4142i\n",
      "  -1.0000 - 1.4142i\n"
     ]
    },
    {
     "name": "stdout",
     "output_type": "stream",
     "text": [
      "K =\n",
      "     3\n"
     ]
    },
    {
     "data": {
      "image/png": "[encoded data removed]",
      "text/plain": [
       "<IPython.core.display.Image object>"
      ]
     },
     "metadata": {
      "filenames": {
       "image/png": "/Users/eechris/code/src/github.com/cpjobling/eg-150-textbook/_build/jupyter_execute/laplace_transform/1/laplace_75_4.png"
      }
     },
     "output_type": "display_data"
    }
   ],
   "source": [
    "Nx = [3 9]; Dx = conv([1 2],[1 2 3]) % coefficients in descending powers of s\n",
    "Zeros = roots(Nx)\n",
    "Poles = roots(Dx) % Note the roots are complex!\n",
    "K = 3\n",
    "pzmap(Poles,Zeros)"
   ]
  },
  {
   "cell_type": "markdown",
   "id": "4a9be9af",
   "metadata": {},
   "source": [
    "## Next Time\n",
    "\n",
    "We move on to consider \n",
    "\n",
    "* {ref}`unit4.2`\n",
    "\n",
    "## References\n",
    "\n",
    "```{bibliography}\n",
    ":filter: docname in docnames\n",
    "```"
   ]
  },
  {
   "cell_type": "code",
   "execution_count": null,
   "id": "95ddc26f",
   "metadata": {},
   "outputs": [],
   "source": []
  }
 ],
 "metadata": {
  "jupytext": {
   "formats": "md:myst,ipynb",
   "text_representation": {
    "extension": ".md",
    "format_name": "myst",
    "format_version": 0.13,
    "jupytext_version": "1.14.4"
   }
  },
  "kernelspec": {
   "display_name": "Matlab (Connection)",
   "language": "matlab",
   "name": "matlab_connect"
  },
  "language_info": {
   "codemirror_mode": "octave",
   "file_extension": ".m",
   "help_links": [
    {
     "text": "MetaKernel Magics",
     "url": "https://metakernel.readthedocs.io/en/latest/source/README.html"
    }
   ],
   "mimetype": "text/x-octave",
   "name": "matlab",
   "version": "0.17.1"
  },
  "source_map": [
   15,
   22,
   28,
   44,
   49,
   55,
   61,
   69,
   75,
   81,
   89,
   93,
   97,
   103,
   109,
   113,
   119,
   126,
   136,
   141,
   146,
   150,
   159,
   165,
   169,
   180,
   188,
   196,
   204,
   212,
   220,
   228,
   234,
   238,
   246,
   250,
   256,
   265,
   271,
   279,
   287,
   295,
   303,
   312,
   318,
   326,
   330,
   338,
   342,
   346,
   351,
   357,
   361,
   365,
   369,
   373,
   377,
   381,
   385,
   389,
   393,
   399,
   407,
   413,
   421,
   425,
   433,
   437,
   445,
   449,
   458,
   496,
   553,
   562,
   568,
   584,
   594,
   608
  ]
 },
 "nbformat": 4,
 "nbformat_minor": 5
}