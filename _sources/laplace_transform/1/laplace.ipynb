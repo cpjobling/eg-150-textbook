{
 "cells": [
  {
   "cell_type": "markdown",
   "id": "0c471e80",
   "metadata": {
    "nbpresent": {
     "id": "90f3c07d-3646-44b0-a549-7020fc10d16f"
    },
    "slideshow": {
     "slide_type": "slide"
    }
   },
   "source": [
    "# Unit 4.1: The Laplace Transformation\n",
    "\n",
    "The preparatory reading for this section is [Chapter 2](https://ebookcentral.proquest.com/lib/swansea-ebooks/reader.action?docID=3384197&ppg=43) of  {cite}`karris` and [Chapter 3]() of {cite}`schaum`."
   ]
  },
  {
   "cell_type": "markdown",
   "id": "2eefa315",
   "metadata": {},
   "source": [
    "Follow along at [cpjobling.github.io/eg-150-textbook//laplace_transform/1/laplace](https://cpjobling.github.io/eg-150-textbook/laplace_transform/1/laplace)\n",
    "\n",
    "![QR Code for this lecture](pictures/qrcode_laplace.png)"
   ]
  },
  {
   "cell_type": "markdown",
   "id": "cc1cc03e",
   "metadata": {
    "nbpresent": {
     "id": "f651cafb-8c2b-4d27-aec9-3491dbcce1aa"
    },
    "slideshow": {
     "slide_type": "slide"
    }
   },
   "source": [
    "## Agenda"
   ]
  },
  {
   "cell_type": "markdown",
   "id": "61df97b6",
   "metadata": {
    "nbpresent": {
     "id": "cdff914d-604d-4ae8-a8e6-8e5caf8bd41e"
    },
    "slideshow": {
     "slide_type": "fragment"
    }
   },
   "source": [
    "* {ref}`laplace:laplace`"
   ]
  },
  {
   "cell_type": "markdown",
   "id": "dd1f6591",
   "metadata": {},
   "source": [
    "* {ref}`laplace:matlab`"
   ]
  },
  {
   "cell_type": "markdown",
   "id": "f50c4757",
   "metadata": {
    "nbpresent": {
     "id": "74c922da-bfb7-4f82-808d-a89b61bd1ab6"
    },
    "slideshow": {
     "slide_type": "fragment"
    }
   },
   "source": [
    "* {ref}`laplace:roc`"
   ]
  },
  {
   "cell_type": "markdown",
   "id": "6c78c450",
   "metadata": {
    "nbpresent": {
     "id": "11a99664-2fdb-4eff-8389-043965b5a6a5"
    },
    "slideshow": {
     "slide_type": "subslide"
    }
   },
   "source": [
    "* {ref}`laplace:pops_roc`"
   ]
  },
  {
   "cell_type": "markdown",
   "id": "0b2e9513",
   "metadata": {
    "nbpresent": {
     "id": "a2796ec3-fd12-49d3-99b8-fdc640f0af04"
    },
    "slideshow": {
     "slide_type": "fragment"
    }
   },
   "source": [
    "* {ref}`laplace:pandz`"
   ]
  },
  {
   "cell_type": "markdown",
   "id": "1c35feed",
   "metadata": {
    "nbpresent": {
     "id": "b90e7c7c-1096-4140-81b3-53a0b7e12f6d"
    },
    "slideshow": {
     "slide_type": "fragment"
    }
   },
   "source": [
    "* {ref}`laplace:example`"
   ]
  },
  {
   "cell_type": "markdown",
   "id": "d90ea81b",
   "metadata": {
    "nbpresent": {
     "id": "b8f02dd9-8876-4679-89fd-038772c205b9"
    },
    "slideshow": {
     "slide_type": "slide"
    }
   },
   "source": [
    "(laplace:laplace)=\n",
    "## The Laplace Transform"
   ]
  },
  {
   "cell_type": "markdown",
   "id": "3258cf3b",
   "metadata": {
    "nbpresent": {
     "id": "b8f02dd9-8876-4679-89fd-038772c205b9"
    },
    "slideshow": {
     "slide_type": "fragment"
    }
   },
   "source": [
    "In {ref}`eigenfunctions_of_continuous_time_LTI_systems` we saw that for a continuous-time LTI system with impulse response $h(t)$, the output of the system in response to a complex input of the form $x(t)=e^{st}$ is\n",
    "\n",
    "$$y(t) = \\mathbf{T}\\left\\{x(t)\\right\\} = H(s)e^{st}$$"
   ]
  },
  {
   "cell_type": "markdown",
   "id": "54c62cb0",
   "metadata": {
    "nbpresent": {
     "id": "b8f02dd9-8876-4679-89fd-038772c205b9"
    },
    "slideshow": {
     "slide_type": "fragment"
    }
   },
   "source": [
    "where\n",
    "\n",
    "$$H(s) = \\int_{-\\infty}^{\\infty}h(t)e^{-st}\\,dt$$"
   ]
  },
  {
   "cell_type": "markdown",
   "id": "f836aea0",
   "metadata": {
    "nbpresent": {
     "id": "b8f02dd9-8876-4679-89fd-038772c205b9"
    },
    "slideshow": {
     "slide_type": "subslide"
    }
   },
   "source": [
    "(laplace:definition)=\n",
    "\n",
    "### Definition\n",
    "\n",
    "The function $H(s)$ above is referred to as the Laplace transform of $h(t)$."
   ]
  },
  {
   "cell_type": "markdown",
   "id": "6fc1060a",
   "metadata": {
    "nbpresent": {
     "id": "b8f02dd9-8876-4679-89fd-038772c205b9"
    },
    "slideshow": {
     "slide_type": "fragment"
    }
   },
   "source": [
    "For a general continuous-time signal $x(t)$, the Laplace transform $X(s)$ is defined as\n",
    "\n",
    "$$X(s) = \\int_{-\\infty}^{\\infty}h(t)e^{-st}\\,dt$$"
   ]
  },
  {
   "cell_type": "markdown",
   "id": "d6b2f189",
   "metadata": {
    "nbpresent": {
     "id": "b8f02dd9-8876-4679-89fd-038772c205b9"
    },
    "slideshow": {
     "slide_type": "fragment"
    }
   },
   "source": [
    "The variable $s$ is generally complex valued and is expressed as\n",
    "\n",
    "$$\\sigma + j\\omega$$"
   ]
  },
  {
   "cell_type": "markdown",
   "id": "73912123",
   "metadata": {
    "nbpresent": {
     "id": "b8f02dd9-8876-4679-89fd-038772c205b9"
    },
    "slideshow": {
     "slide_type": "subslide"
    }
   },
   "source": [
    "The Laplace transform defined above is often called the *bilateral* (or *two-sided*) Laplace transform in contrast the the *unilateral* (or *one-sided*) Laplace transform which is defined as\n",
    "\n",
    "$$X_I(s) = \\int_{0^-}^{\\infty}h(t)e^{-st}\\,dt$$\n",
    "\n",
    "where $0^-=\\lim_{\\epsilon\\to 0}(0-\\epsilon)$."
   ]
  },
  {
   "cell_type": "markdown",
   "id": "2445d71c",
   "metadata": {
    "nbpresent": {
     "id": "b8f02dd9-8876-4679-89fd-038772c205b9"
    },
    "slideshow": {
     "slide_type": "fragment"
    }
   },
   "source": [
    "Clearly the bilateral and unilateral tranforms are equivalent only if $x(t)=0$ for $t\\lt 0$."
   ]
  },
  {
   "cell_type": "markdown",
   "id": "0ef69b77",
   "metadata": {
    "nbpresent": {
     "id": "b8f02dd9-8876-4679-89fd-038772c205b9"
    },
    "slideshow": {
     "slide_type": "notes"
    }
   },
   "source": [
    "In this course, because we are dealing with causal signals and systems, we will be concerned only with unilateral Laplace transform."
   ]
  },
  {
   "cell_type": "markdown",
   "id": "9d246902",
   "metadata": {
    "nbpresent": {
     "id": "b8f02dd9-8876-4679-89fd-038772c205b9"
    },
    "slideshow": {
     "slide_type": "subslide"
    }
   },
   "source": [
    "The laplace tranform equation is sometimes considered an operator that transforms a signal $x(t)$ into a function $X(s)$ represented symbolically as\n",
    "\n",
    "$$X(s) = \\mathcal{L}\\left\\{x(t)\\right\\}$$"
   ]
  },
  {
   "cell_type": "markdown",
   "id": "904c26aa",
   "metadata": {
    "nbpresent": {
     "id": "b8f02dd9-8876-4679-89fd-038772c205b9"
    },
    "slideshow": {
     "slide_type": "fragment"
    }
   },
   "source": [
    "and the signal $x(t)$ and its Laplace transform $X(s)$ are said to form a Laplace transform pair denoted as\n",
    "\n",
    "$$x(t)\\Leftrightarrow X(s)$$"
   ]
  },
  {
   "cell_type": "markdown",
   "id": "2c950662",
   "metadata": {
    "slideshow": {
     "slide_type": "fragment"
    }
   },
   "source": [
    "Laplace transform pairs are tabulated for ease of reference."
   ]
  },
  {
   "cell_type": "markdown",
   "id": "72294ecf",
   "metadata": {
    "nbpresent": {
     "id": "b8f02dd9-8876-4679-89fd-038772c205b9"
    },
    "slideshow": {
     "slide_type": "notes"
    }
   },
   "source": [
    "```admonition note\n",
    "By convention, lower-case symbols are used for continuous-time signals and uppercase symbols for their Laplace tranforms.\n",
    "```"
   ]
  },
  {
   "cell_type": "markdown",
   "id": "39702283",
   "metadata": {
    "nbpresent": {
     "id": "b8f02dd9-8876-4679-89fd-038772c205b9"
    },
    "slideshow": {
     "slide_type": "subslide"
    }
   },
   "source": [
    "(laplace:matlab)=\n",
    "### MATLAB Representation\n",
    "\n",
    "The Laplace transform operator is provided in the MATLAB symbolic math toolkit by the function `laplace` and can be used as follows:"
   ]
  },
  {
   "cell_type": "code",
   "execution_count": 1,
   "id": "c4fd291b",
   "metadata": {
    "slideshow": {
     "slide_type": "fragment"
    }
   },
   "outputs": [
    {
     "name": "stdout",
     "output_type": "stream",
     "text": [
      " \n"
     ]
    },
    {
     "name": "stdout",
     "output_type": "stream",
     "text": [
      "X(s) =\n"
     ]
    },
    {
     "name": "stdout",
     "output_type": "stream",
     "text": [
      " \n"
     ]
    },
    {
     "name": "stdout",
     "output_type": "stream",
     "text": [
      "laplace(x(t), t, s)\n"
     ]
    },
    {
     "name": "stdout",
     "output_type": "stream",
     "text": [
      " \n"
     ]
    }
   ],
   "source": [
    "syms s t x(t) % define Laplace transform variable and time as symbols\n",
    "X(s) = laplace(x(t))"
   ]
  },
  {
   "cell_type": "markdown",
   "id": "af1366b7",
   "metadata": {
    "slideshow": {
     "slide_type": "slide"
    }
   },
   "source": [
    "(laplace:roc)=\n",
    "## Region of Convergence"
   ]
  },
  {
   "cell_type": "markdown",
   "id": "19afadeb",
   "metadata": {
    "nbpresent": {
     "id": "4ad52fcd-e2e8-4d41-8827-511753bd1148"
    },
    "slideshow": {
     "slide_type": "fragment"
    }
   },
   "source": [
    "For a Laplace transfomation to exist, the integral must be bounded. That is\n",
    "$$\\left| {\\int_0^\\infty  {f(t){e^{ - st}}dt} } \\right| < \\infty $$"
   ]
  },
  {
   "cell_type": "markdown",
   "id": "3c1dd826",
   "metadata": {
    "nbpresent": {
     "id": "4ad52fcd-e2e8-4d41-8827-511753bd1148"
    },
    "slideshow": {
     "slide_type": "fragment"
    }
   },
   "source": [
    "The range of values for the complex variables $s$ for which the Laplace tranform converges is called the *region of convergence* (ROC). To illustrate this concept, let us consider some examples."
   ]
  },
  {
   "cell_type": "markdown",
   "id": "f767f34d",
   "metadata": {
    "nbpresent": {
     "id": "4ad52fcd-e2e8-4d41-8827-511753bd1148"
    },
    "slideshow": {
     "slide_type": "subslide"
    }
   },
   "source": [
    "(laplace:ex1)=\n",
    "### Example 1\n",
    "\n",
    "Consider the signal\n",
    "\n",
    "$$x(t) = e^{-at}u_0(t)\\quad a\\, \\mathrm{real}$$"
   ]
  },
  {
   "cell_type": "markdown",
   "id": "1322aee6",
   "metadata": {
    "nbpresent": {
     "id": "4ad52fcd-e2e8-4d41-8827-511753bd1148"
    },
    "slideshow": {
     "slide_type": "fragment"
    }
   },
   "source": [
    "The Laplace transform of $x(t)$\n",
    "\n",
    "$$X(s)=\\int_{-\\infty}^{\\infty}e^{-at}u_0(t)e^{-st}\\,dt = \\int_{0^+}^{\\infty}e^{-(s+a)t}\\,dt$$"
   ]
  },
  {
   "cell_type": "markdown",
   "id": "25636eab",
   "metadata": {
    "nbpresent": {
     "id": "4ad52fcd-e2e8-4d41-8827-511753bd1148"
    },
    "slideshow": {
     "slide_type": "fragment"
    }
   },
   "source": [
    "$$X(s) = \\left.-\\frac{1}{s+a}e^{-(s+a)t}\\right|_{0^+}^\\infty=\\frac{1}{s+a}\\quad \\mathrm{Re}(s)> -a$$"
   ]
  },
  {
   "cell_type": "markdown",
   "id": "17957151",
   "metadata": {},
   "source": [
    ":::{figure-md} ROC1\n",
    "<img src=\"pictures/roc1.png\" alt=\"ROC for Example 1\" width=\"60%\">\n",
    "\n",
    "ROC for Example 1\n",
    ":::"
   ]
  },
  {
   "cell_type": "markdown",
   "id": "e63fea4d",
   "metadata": {
    "nbpresent": {
     "id": "4ad52fcd-e2e8-4d41-8827-511753bd1148"
    },
    "slideshow": {
     "slide_type": "notes"
    }
   },
   "source": [
    "because $\\lim_{t\\to \\infty}e^{-(s+a)t} = 0$ only if $\\mathrm{Re}(s + a)\\gt 0$ or $\\mathrm{Re}(s)\\gt -a$."
   ]
  },
  {
   "cell_type": "markdown",
   "id": "24bbaebd",
   "metadata": {
    "slideshow": {
     "slide_type": "notes"
    }
   },
   "source": [
    "Thus, the ROC for {ref}`laplace:ex1` for {ref}`laplace:ex1` is specified as $\\mathrm{Re}(s)\\gt -a$ and is illustrated in the complex plane as showm in {numref}`ROC2` by the shaded area to the right of the line $\\mathrm{Re}(s)=-a.\n",
    "\n",
    "In Laplace transform applications, the complex plane is commonly referred to as the s-plane. The horizontal and vertical axes are sometimes referred to as the $\\sigma$-axis ($\\mathrm{Re}(s)$) and the $j\\omega$-axis ($\\mathrm{Im}(s)$), respectively."
   ]
  },
  {
   "cell_type": "markdown",
   "id": "00173956",
   "metadata": {
    "nbpresent": {
     "id": "4ad52fcd-e2e8-4d41-8827-511753bd1148"
    },
    "slideshow": {
     "slide_type": "subslide"
    }
   },
   "source": [
    "(laplace:ex2)=\n",
    "### Example 2\n",
    "\n",
    "Consider the signal\n",
    "\n",
    "$$x(t) = -e^{-at}u_0(-t)\\quad a\\, \\mathrm{real}$$"
   ]
  },
  {
   "cell_type": "markdown",
   "id": "a8a464d3",
   "metadata": {
    "nbpresent": {
     "id": "4ad52fcd-e2e8-4d41-8827-511753bd1148"
    },
    "slideshow": {
     "slide_type": "fragment"
    }
   },
   "source": [
    "Its Laplace transform $X(s)$ is given by {ref}`ex:9.1`\n",
    "\n",
    "\n",
    "\n",
    "$$X(s)=\\frac{1}{s+a}\\quad \\mathrm{Re}(s)\\lt -a$$"
   ]
  },
  {
   "cell_type": "markdown",
   "id": "aba360a9",
   "metadata": {
    "slideshow": {
     "slide_type": "notes"
    }
   },
   "source": [
    "Thus the ROC for {ref}`laplace:ex2` is specified as $\\mathrm{Re}(s)\\lt -a$ and is illustrated in the complex plane as showm in {numref}`ROC2` by the shaded area to the left of the line $\\mathrm{Re}(s)=-a$."
   ]
  },
  {
   "cell_type": "markdown",
   "id": "26e13b2d",
   "metadata": {
    "slideshow": {
     "slide_type": "subslide"
    }
   },
   "source": [
    ":::{figure-md} ROC2\n",
    "<img src=\"pictures/roc2.png\" alt=\"ROC for Example 2\" width=\"60%\">\n",
    "\n",
    "ROC for Example 2\n",
    ":::"
   ]
  },
  {
   "cell_type": "markdown",
   "id": "206c72ec",
   "metadata": {
    "slideshow": {
     "slide_type": "subslide"
    }
   },
   "source": [
    "Comparing the results of {ref}`laplace:ex1` and {ref}`laplace:ex2`, we see that that algebraic expressions for $X(s)$ for these two signals are identical apart from the ROCs."
   ]
  },
  {
   "cell_type": "markdown",
   "id": "b06ebc99",
   "metadata": {
    "slideshow": {
     "slide_type": "fragment"
    }
   },
   "source": [
    "Therefore, in order for the Laplace transform to be unique for each signal $x(t)$, *the ROC must be specified as part of the transform*."
   ]
  },
  {
   "cell_type": "markdown",
   "id": "d255b3b3",
   "metadata": {
    "nbpresent": {
     "id": "352d0877-b48f-4b8d-9082-371f06fef621"
    },
    "slideshow": {
     "slide_type": "slide"
    }
   },
   "source": [
    "(laplace:pandz)=\n",
    "## Poles and Zeros of X(s)"
   ]
  },
  {
   "cell_type": "markdown",
   "id": "1700f35d",
   "metadata": {
    "slideshow": {
     "slide_type": "fragment"
    }
   },
   "source": [
    "Usually, $X(s)$ will be a rational polynomial in $s$; that is\n",
    "\n",
    "$$X(s)=\\frac{b_ms^m+b_{m-1}s^{m-1}+\\cdots b_1s + b_0}{a_ns^n+a_{n-1}s^{n-1}+\\cdot a_1s + a_0}=\\frac{b_m}{a_m}\\,\\frac{\\left(s-z_1\\right)\\cdots\\left(s-z_m\\right)}{\\left(s-p_1\\right)\\cdots\\left(s-p_n\\right)}$$"
   ]
  },
  {
   "cell_type": "markdown",
   "id": "d6372431",
   "metadata": {
    "slideshow": {
     "slide_type": "fragment"
    }
   },
   "source": [
    "The coefficients $b_k$ and $a_k$ are real constants, and $m$ and $n$ are positive integers."
   ]
  },
  {
   "cell_type": "markdown",
   "id": "efc7b98c",
   "metadata": {
    "slideshow": {
     "slide_type": "subslide"
    }
   },
   "source": [
    "The transform $X(s)$ is called a *proper* rational function if $n>m$, and an *improper* rational function if $n\\le m$."
   ]
  },
  {
   "cell_type": "markdown",
   "id": "d8a88063",
   "metadata": {
    "slideshow": {
     "slide_type": "fragment"
    }
   },
   "source": [
    "The roots of the numerator polynomial, $z_k$, are called the *zeros* of $X(s)$ because $X(s) = 0$ for those values of $s$."
   ]
  },
  {
   "cell_type": "markdown",
   "id": "5ea283e0",
   "metadata": {
    "slideshow": {
     "slide_type": "fragment"
    }
   },
   "source": [
    "Similarly, the zeros of the denominator polynomial, $p_k$, are called the *poles* of $X(s)$ because $X(s)$ is infinite for those values of $s$."
   ]
  },
  {
   "cell_type": "markdown",
   "id": "d128f505",
   "metadata": {
    "slideshow": {
     "slide_type": "fragment"
    }
   },
   "source": [
    "Therefore, the poles of $X(s)$ lie outside the ROC since, by definition, $X(s)$ does not converge on the poles."
   ]
  },
  {
   "cell_type": "markdown",
   "id": "275db865",
   "metadata": {
    "slideshow": {
     "slide_type": "fragment"
    }
   },
   "source": [
    "The zeros, on the other hand, may lie inside or outside the ROC."
   ]
  },
  {
   "cell_type": "markdown",
   "id": "2c50775f",
   "metadata": {
    "slideshow": {
     "slide_type": "subslide"
    }
   },
   "source": [
    "Except for the scale factor $b_m/a_n$, $X(s)$ can be completely specified by its poles and zeros."
   ]
  },
  {
   "cell_type": "markdown",
   "id": "ce55ce67",
   "metadata": {
    "slideshow": {
     "slide_type": "fragment"
    }
   },
   "source": [
    "Thus a very compact representation of $X(s)$ is the s-plane is to show the locatioons of the poles and zeros in addition to the ROC."
   ]
  },
  {
   "cell_type": "markdown",
   "id": "dd7d9545",
   "metadata": {
    "slideshow": {
     "slide_type": "fragment"
    }
   },
   "source": [
    "Traditionally, an \"x\" is used to indicate each pole and a \"o\" is used to indicate each zero."
   ]
  },
  {
   "cell_type": "markdown",
   "id": "055f899a",
   "metadata": {
    "slideshow": {
     "slide_type": "fragment"
    }
   },
   "source": [
    "This is illustrated in {numref}`laplace:pzmap` for $X(s)$ given by\n",
    "\n",
    "$$X(s) = \\frac{2s+4}{s^2+4s+3} = 2 \\frac{s+2}{(s+1)(s+3}\\quad \\mathrm{Re}(s)\\gt -1$$"
   ]
  },
  {
   "cell_type": "markdown",
   "id": "fe148f22",
   "metadata": {},
   "source": [
    ":::{figure-md} Laplace:pzmap\n",
    "<img src=\"pictures/pzmap.png\" alt=\"s-plane representation of X(s)=(2s^2+4)(s^2+rs+3)\" width=\"60%\">\n",
    "\n",
    "s-plane representation of $X(s)=(2s^2+4)(s^2+rs+3)$\n",
    ":::"
   ]
  },
  {
   "cell_type": "markdown",
   "id": "4d33380f",
   "metadata": {
    "slideshow": {
     "slide_type": "notes"
    }
   },
   "source": [
    "Note that $X(s)$ has one zero at $s=-2$ and two poles at $s=-1$ and $s=-3$ with scale factor 2. The ROC is $\\mathrm{Re}(s)>-1$."
   ]
  },
  {
   "cell_type": "markdown",
   "id": "96dcb60a",
   "metadata": {
    "nbpresent": {
     "id": "352d0877-b48f-4b8d-9082-371f06fef621"
    },
    "slideshow": {
     "slide_type": "slide"
    }
   },
   "source": [
    "(laplace:pops_roc)=\n",
    "## Properties of the ROC\n",
    "\n",
    "[not examinable]\n",
    "\n",
    "The properties of the ROC are summarised in 3.1 D of {ref}`schaum` and as they are not examinable, we leave their study to the interested student."
   ]
  },
  {
   "cell_type": "markdown",
   "id": "f1cd84c2",
   "metadata": {
    "slideshow": {
     "slide_type": "notes"
    }
   },
   "source": [
    "(laplace:examples)=\n",
    "## Examples 9\n",
    "\n",
    "\n",
    "\n",
    "(ex9.1)=\n",
    "### Example 9.1\n",
    "\n",
    "Find the Laplace transform of\n",
    "\n",
    "a). $x(t)=-e^{-at}u_0(-t)$\n",
    "\n",
    "b). $x(t)=-e^{at}u_0(-t)$\n",
    "\n",
    "### Solution\n",
    "\n",
    "a) \n",
    "\n",
    "\\begin{align}\n",
    "X(s) &= -\\int_{-\\infty}^{\\infty}e^{-at}u_o(-t)e^{-st}\\,dt=-\\int_{-\\infty}^{0^{-}}e^{-(s+a)t}\\\\\n",
    "&= \\left.\\frac{1}{s+a}e^{-(s+a)t}\\right|_{-\\infty}^{0^{-}}=\\frac{1}{s+a}\\quad\\mathrm{Re}(s)\\lt-a\n",
    "\\end{align}\n",
    "\n",
    "Thus we obtain\n",
    "\n",
    "$$-e^{-at}u_0(-t) \\Leftrightarrow\\frac{1}{s+a}\\quad\\mathrm{Re}(s)\\lt-a$$\n",
    "\n",
    "b). Similarly\n",
    "\n",
    "\\begin{align}\n",
    "X(s) &= -\\int_{-\\infty}^{\\infty}e^{at}u_o(-t)e^{-st}\\,dt=-\\int_{-\\infty}^{0^{-}}e^{-(s-a)t}\\\\\n",
    "&= -\\left.\\frac{1}{s+a}\\right|_{-\\infty}^{0^{-}}e^{-(s-a)t}=\\frac{1}{s-a}\\quad\\mathrm{Re}(s)\\lt a\n",
    "\\end{align}\n",
    "\n",
    "Thus we obtain\n",
    "\n",
    "$$e^{at}u_0(-t) \\Leftrightarrow\\frac{1}{s-a}\\quad\\mathrm{Re}(s)\\lt a$$"
   ]
  },
  {
   "cell_type": "markdown",
   "id": "608f786f",
   "metadata": {},
   "source": [
    "## Next Time\n",
    "\n",
    "We move on to consider \n",
    "\n",
    "* {doc}`../laplace_transform/2/laplace_of_common_signals`\n",
    "\n",
    "## References\n",
    "\n",
    "```{bibliography}\n",
    ":filter: docname in docnames\n",
    "```"
   ]
  }
 ],
 "metadata": {
  "jupytext": {
   "formats": "md:myst,ipynb",
   "text_representation": {
    "extension": ".md",
    "format_name": "myst",
    "format_version": 0.13,
    "jupytext_version": "1.14.4"
   }
  },
  "kernelspec": {
   "display_name": "MATLAB",
   "language": "matlab",
   "name": "imatlab"
  },
  "language_info": {
   "codemirror_mode": "octave",
   "file_extension": ".m",
   "mimetype": "text/x-matlab",
   "name": "matlab",
   "pygments_lexer": "matlab",
   "version": "9.13.0.2126072 (R2022b) Update 3"
  },
  "source_map": [
   15,
   21,
   27,
   31,
   35,
   39,
   43,
   47,
   51,
   55,
   60,
   66,
   72,
   80,
   86,
   92,
   100,
   104,
   108,
   114,
   120,
   124,
   130,
   137,
   146,
   151,
   156,
   160,
   169,
   175,
   179,
   187,
   191,
   197,
   206,
   214,
   218,
   226,
   230,
   234,
   239,
   245,
   249,
   253,
   257,
   261,
   265,
   269,
   273,
   277,
   281,
   287,
   295,
   299,
   308,
   348
  ]
 },
 "nbformat": 4,
 "nbformat_minor": 5
}