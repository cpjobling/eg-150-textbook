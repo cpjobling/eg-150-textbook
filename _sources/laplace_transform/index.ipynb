{
 "cells": [
  {
   "cell_type": "markdown",
   "id": "de4ee1bc",
   "metadata": {
    "slideshow": {
     "slide_type": "slide"
    }
   },
   "source": [
    "(laplace)=\n",
    "\n",
    "# Unit 4: Laplace Transforms and their Applications"
   ]
  },
  {
   "cell_type": "markdown",
   "id": "7ca16cb4",
   "metadata": {
    "slideshow": {
     "slide_type": "subslide"
    }
   },
   "source": [
    "## Motivating example\n",
    "\n",
    "In {ref}`ex4.1` we presented the RC Circuit shown in {numref}`RC_circuit_L`\n",
    "\n",
    ":::{figure-md} RC_circuit_L\n",
    "<img src=\"pictures/RC_circuit.png\" alt=\"An RC Circuit\" width=\"60%\">\n",
    "\n",
    "An RC Circuit\n",
    ":::"
   ]
  },
  {
   "cell_type": "markdown",
   "id": "493fc3cf",
   "metadata": {
    "slideshow": {
     "slide_type": "subslide"
    }
   },
   "source": [
    "We showed that voltage across the capacitor $v_c(t)$ is determined by the first-order differential equation \n",
    "\n",
    "$$\\frac{1}{RC}v_s(t) = \\frac{d}{dt}v_c(t) + \\frac{1}{RC}v_c(t)$$"
   ]
  },
  {
   "cell_type": "markdown",
   "id": "537ee310",
   "metadata": {
    "slideshow": {
     "slide_type": "fragment"
    }
   },
   "source": [
    "Assuming that the input voltage is applied by operating a switch, that is $v_s(t)$ is the step function $V_s u_0 (t)$ what would the output $v_c(t)$ look like?"
   ]
  },
  {
   "cell_type": "markdown",
   "id": "3e2634aa",
   "metadata": {
    "slideshow": {
     "slide_type": "subslide"
    }
   },
   "source": [
    "We will sketch the solution in our OneNote notebook"
   ]
  },
  {
   "cell_type": "markdown",
   "id": "eb279133",
   "metadata": {
    "slideshow": {
     "slide_type": "subslide"
    }
   },
   "source": [
    "## About the Laplace Transformation\n",
    "\n",
    "The Laplace Transformation (named after [Pierre-Simon Laplace](https://en.wikipedia.org/wiki/Pierre-Simon_Laplace)) is a useful mathematical tool that is used in many branches of engineering including signals and systems theory, control theory, communications, mechanical engineering, etc."
   ]
  },
  {
   "cell_type": "markdown",
   "id": "281bedb7",
   "metadata": {
    "slideshow": {
     "slide_type": "fragment"
    }
   },
   "source": [
    "Its principle benefits are: \n",
    "\n",
    "* it enables us to represent differential equations that model the behaviour of systems in the time domain as polynomials in $s$ which facilitates their solution as we will now demonstrate."
   ]
  },
  {
   "cell_type": "markdown",
   "id": "c78d1bef",
   "metadata": {
    "slideshow": {
     "slide_type": "fragment"
    }
   },
   "source": [
    "* it converts time convolution (which is how we determine the time-response of a system to a given signal) into a simple multiplication in the $s$ domain."
   ]
  },
  {
   "cell_type": "markdown",
   "id": "ac81d503",
   "metadata": {
    "slideshow": {
     "slide_type": "fragment"
    }
   },
   "source": [
    "* it allows us to model linear time-invariant (LTI) system components using transfer functions and systems by block diagrams."
   ]
  },
  {
   "cell_type": "markdown",
   "id": "43398125",
   "metadata": {
    "slideshow": {
     "slide_type": "fragment"
    }
   },
   "source": [
    "* block diagram analysis allows us to readily compute system responses to complex signals and facilitates system simulation and system analysis."
   ]
  },
  {
   "cell_type": "markdown",
   "id": "1037f498",
   "metadata": {
    "slideshow": {
     "slide_type": "fragment"
    }
   },
   "source": [
    "The only downside is that time $t$ is a real value whereas the Laplace transformation operator $s$ is a complex exponential $s = \\sigma + j\\omega$."
   ]
  },
  {
   "cell_type": "markdown",
   "id": "f0e365c6",
   "metadata": {
    "slideshow": {
     "slide_type": "notes"
    }
   },
   "source": [
    "## Table of Contents\n",
    "\n",
    "In this section of the course we will cover:\n",
    "\n",
    "* {ref}`unit4.1`\n",
    "* {ref}`unit4.2`\n",
    "* {ref}`unit4.3`\n",
    "* {ref}`unit4.4`\n",
    "* {ref}`unit4.5`\n",
    "* {ref}`unit4.6`\n",
    "* {ref}`unit4.7`\n",
    "* {ref}`unit4.8`"
   ]
  }
 ],
 "metadata": {
  "jupytext": {
   "formats": "ipynb,md:myst",
   "text_representation": {
    "extension": ".md",
    "format_name": "myst",
    "format_version": 0.13,
    "jupytext_version": "1.14.4"
   }
  },
  "kernelspec": {
   "display_name": "Matlab (Connection)",
   "language": "matlab",
   "name": "matlab_connect"
  },
  "language_info": {
   "codemirror_mode": "octave",
   "file_extension": ".m",
   "help_links": [
    {
     "text": "MetaKernel Magics",
     "url": "https://metakernel.readthedocs.io/en/latest/source/README.html"
    }
   ],
   "mimetype": "text/x-octave",
   "name": "matlab",
   "version": "0.17.1"
  },
  "source_map": [
   15,
   21,
   33,
   39,
   43,
   47,
   53,
   59,
   63,
   67,
   71,
   75
  ]
 },
 "nbformat": 4,
 "nbformat_minor": 5
}