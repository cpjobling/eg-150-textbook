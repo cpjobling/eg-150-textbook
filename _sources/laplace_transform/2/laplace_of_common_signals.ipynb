{
 "cells": [
  {
   "cell_type": "markdown",
   "id": "f4ba93eb",
   "metadata": {
    "nbpresent": {
     "id": "90f3c07d-3646-44b0-a549-7020fc10d16f"
    },
    "slideshow": {
     "slide_type": "slide"
    }
   },
   "source": [
    "# Unit 4.2: Laplace Transform of Some Common Signals\n",
    "\n",
    "The preparatory reading for this section is Chapter 2.2 of {cite}`karris` and Chapter 3.4 of {cite}`schaum`."
   ]
  },
  {
   "cell_type": "markdown",
   "id": "9aa0b055",
   "metadata": {
    "nbpresent": {
     "id": "90f3c07d-3646-44b0-a549-7020fc10d16f"
    },
    "slideshow": {
     "slide_type": "notes"
    }
   },
   "source": [
    "Follow along at [cpjobling.github.io/eg-150-textbook/laplace_transform/2/laplace_of_common_signals](https://cpjobling.github.io/eg-150-textbook/laplace_transform/2/laplace_of_common_signals)\n",
    "\n",
    "![QR Code for this lecture](pictures/qrcode_laplace_2.png)"
   ]
  },
  {
   "cell_type": "markdown",
   "id": "db790e0d",
   "metadata": {
    "nbpresent": {
     "id": "f651cafb-8c2b-4d27-aec9-3491dbcce1aa"
    },
    "slideshow": {
     "slide_type": "slide"
    }
   },
   "source": [
    "## Agenda"
   ]
  },
  {
   "cell_type": "markdown",
   "id": "05cf2f3e",
   "metadata": {
    "nbpresent": {
     "id": "cdff914d-604d-4ae8-a8e6-8e5caf8bd41e"
    },
    "slideshow": {
     "slide_type": "fragment"
    }
   },
   "source": [
    "* {ref}`lap2:impulse`"
   ]
  },
  {
   "cell_type": "markdown",
   "id": "ab3ff93b",
   "metadata": {
    "nbpresent": {
     "id": "74c922da-bfb7-4f82-808d-a89b61bd1ab6"
    },
    "slideshow": {
     "slide_type": "fragment"
    }
   },
   "source": [
    "* {ref}`lap2:delayed_impulse`"
   ]
  },
  {
   "cell_type": "markdown",
   "id": "61c8cdd8",
   "metadata": {
    "nbpresent": {
     "id": "e7e4ac91-07af-41a4-98e4-6027ac34b41e"
    },
    "slideshow": {
     "slide_type": "fragment"
    }
   },
   "source": [
    "* {ref}`lap2:unit_step`"
   ]
  },
  {
   "cell_type": "markdown",
   "id": "41c82c4e",
   "metadata": {
    "nbpresent": {
     "id": "11a99664-2fdb-4eff-8389-043965b5a6a5"
    },
    "slideshow": {
     "slide_type": "subslide"
    }
   },
   "source": [
    "* {ref}`lap2:exp`"
   ]
  },
  {
   "cell_type": "markdown",
   "id": "2e74c347",
   "metadata": {
    "nbpresent": {
     "id": "a2796ec3-fd12-49d3-99b8-fdc640f0af04"
    },
    "slideshow": {
     "slide_type": "fragment"
    }
   },
   "source": [
    "* {ref}`lap2:xform_table`"
   ]
  },
  {
   "cell_type": "markdown",
   "id": "9dfd2cc0",
   "metadata": {},
   "source": [
    "* {ref}`lap2:matlab`"
   ]
  },
  {
   "cell_type": "markdown",
   "id": "0554d0ca",
   "metadata": {
    "nbpresent": {
     "id": "b8f02dd9-8876-4679-89fd-038772c205b9"
    },
    "slideshow": {
     "slide_type": "slide"
    }
   },
   "source": [
    "(lap2:impulse)=\n",
    "## A. Unit impulse function $\\delta(t)$"
   ]
  },
  {
   "cell_type": "markdown",
   "id": "8ecca654",
   "metadata": {
    "slideshow": {
     "slide_type": "fragment"
    }
   },
   "source": [
    "$$\\mathcal{L}\\left\\{\\delta(t)\\right\\}=\\int_{-\\infty}^{\\infty}\\delta(t)e^{-st}\\,dt$$"
   ]
  },
  {
   "cell_type": "markdown",
   "id": "dbc22ef0",
   "metadata": {
    "slideshow": {
     "slide_type": "fragment"
    }
   },
   "source": [
    "Using the sifting property of the Dirac delta function"
   ]
  },
  {
   "cell_type": "markdown",
   "id": "96d7b8d4",
   "metadata": {
    "slideshow": {
     "slide_type": "fragment"
    }
   },
   "source": [
    "$$\\mathcal{L}\\left\\{\\delta(t)\\right\\}=\\int_{-\\infty}^{\\infty}\\delta(t)e^{-st}\\,dt = e^{-s(0)}=1\\quad \\mathrm{all}\\ s$$"
   ]
  },
  {
   "cell_type": "markdown",
   "id": "2a0c6ca5",
   "metadata": {
    "slideshow": {
     "slide_type": "subslide"
    }
   },
   "source": [
    "Thus the Laplace transform pair is\n",
    "\n",
    "$$\\delta(t) \\Leftrightarrow 1$$\n",
    "\n",
    "for all $s$."
   ]
  },
  {
   "cell_type": "markdown",
   "id": "f2d6f149",
   "metadata": {
    "nbpresent": {
     "id": "b8f02dd9-8876-4679-89fd-038772c205b9"
    },
    "slideshow": {
     "slide_type": "slide"
    }
   },
   "source": [
    "(lap2:delayed_impulse)=\n",
    "## B. Delayed impulse function $\\delta(t-a)$"
   ]
  },
  {
   "cell_type": "markdown",
   "id": "28f81b7f",
   "metadata": {
    "nbpresent": {
     "id": "b8f02dd9-8876-4679-89fd-038772c205b9"
    },
    "slideshow": {
     "slide_type": "fragment"
    }
   },
   "source": [
    "$$\\mathcal{L}\\left\\{\\delta(t-a)\\right\\}=\\int_{-\\infty}^{\\infty}\\delta(t-a)e^{-st}\\,dt$$"
   ]
  },
  {
   "cell_type": "markdown",
   "id": "4de9b4b4",
   "metadata": {
    "nbpresent": {
     "id": "b8f02dd9-8876-4679-89fd-038772c205b9"
    },
    "slideshow": {
     "slide_type": "fragment"
    }
   },
   "source": [
    "Using the sifting property of the Dirac delta function again\n",
    "\n",
    "$$\\mathcal{L}\\left\\{\\delta(t)\\right\\}=\\int_{-\\infty}^{\\infty}\\delta(t-a)e^{-st}\\,dt = e^{-as}\\quad \\sigma > 0$$"
   ]
  },
  {
   "cell_type": "markdown",
   "id": "4e86b583",
   "metadata": {
    "nbpresent": {
     "id": "b8f02dd9-8876-4679-89fd-038772c205b9"
    },
    "slideshow": {
     "slide_type": "subslide"
    }
   },
   "source": [
    "Thus the Laplace transform pair is\n",
    "\n",
    "$$\\delta(t-a) \\Leftrightarrow e^{-as}$$\n",
    "\n",
    "for $\\mathrm{Re}(s) > 0$."
   ]
  },
  {
   "cell_type": "markdown",
   "id": "e3a0cd73",
   "metadata": {
    "nbpresent": {
     "id": "b8f02dd9-8876-4679-89fd-038772c205b9"
    },
    "slideshow": {
     "slide_type": "slide"
    }
   },
   "source": [
    "(lap2:unit_step)=\n",
    "## C. Unit step function $u_0(t)$"
   ]
  },
  {
   "cell_type": "markdown",
   "id": "e591c3c2",
   "metadata": {
    "nbpresent": {
     "id": "b8f02dd9-8876-4679-89fd-038772c205b9"
    },
    "slideshow": {
     "slide_type": "fragment"
    }
   },
   "source": [
    "$$\\mathcal{L}\\left\\{u_0(t)\\right\\}=\\int_{-\\infty}^{\\infty}u_0(t)e^{-st}\\,dt = \\int_{0^{+}}^{\\infty}e^{-st}\\,dt$$\n",
    "$$X(s) = \\left.-\\frac{1}{s}e^{-st}\\right|_{0^{+}}^{\\infty}=\\frac{1}{s}\\quad\\mathrm{Re}(s)\\gt 0$$"
   ]
  },
  {
   "cell_type": "markdown",
   "id": "da89d7cb",
   "metadata": {
    "nbpresent": {
     "id": "b8f02dd9-8876-4679-89fd-038772c205b9"
    },
    "slideshow": {
     "slide_type": "fragment"
    }
   },
   "source": [
    "where $0^{+}=\\lim_\\epsilon\\to 0(0+\\epsilon)$."
   ]
  },
  {
   "cell_type": "markdown",
   "id": "13add321",
   "metadata": {
    "nbpresent": {
     "id": "b8f02dd9-8876-4679-89fd-038772c205b9"
    },
    "slideshow": {
     "slide_type": "subslide"
    }
   },
   "source": [
    "Thus the Laplace transform pair is\n",
    "\n",
    "$$u_0(t) \\Leftrightarrow \\frac{1}{s}$$\n",
    "\n",
    "for $\\mathrm{Re}(s) > 0$."
   ]
  },
  {
   "cell_type": "markdown",
   "id": "d5b9a857",
   "metadata": {
    "nbpresent": {
     "id": "b8f02dd9-8876-4679-89fd-038772c205b9"
    },
    "slideshow": {
     "slide_type": "slide"
    }
   },
   "source": [
    "(lap2:exp)=\n",
    "## D. Exponential function $x(t) = e^{-at}u_0(t)$"
   ]
  },
  {
   "cell_type": "markdown",
   "id": "245ffa76",
   "metadata": {
    "nbpresent": {
     "id": "b8f02dd9-8876-4679-89fd-038772c205b9"
    },
    "slideshow": {
     "slide_type": "fragment"
    }
   },
   "source": [
    "We already showed in {ref}`laplace:ex1` that\n",
    "\n",
    "$$\\mathcal{L}\\left\\{e^{-at}u_0(t)\\right\\} = \\frac{1}{s+a}.$$"
   ]
  },
  {
   "cell_type": "markdown",
   "id": "f32eed06",
   "metadata": {
    "nbpresent": {
     "id": "b8f02dd9-8876-4679-89fd-038772c205b9"
    },
    "slideshow": {
     "slide_type": "subslide"
    }
   },
   "source": [
    "Thus the Laplace transform pair is\n",
    "\n",
    "$$e^{-at}u_0(t) \\Leftrightarrow \\frac{1}{s+a}$$\n",
    "\n",
    "for $\\mathrm{Re}(s) > -a$."
   ]
  },
  {
   "cell_type": "markdown",
   "id": "fe37d6ae",
   "metadata": {
    "nbpresent": {
     "id": "e58f747d-f0a8-464d-b62f-f7bb9ce8b605"
    },
    "slideshow": {
     "slide_type": "slide"
    }
   },
   "source": [
    "(lap2:others)=\n",
    "## E. Laplace Transform Pairs for Other Common SIgnals\n",
    "\n",
    "We can continue to derive the Laplace transforms of the most commonly encoutered signals, and in some cases, e.g. unit ramp $r(t)=u_1(t)=tu_0(t)$, $u_n(t)=t^nu_0(t)$, $t^ne^{-at}u_0(t)$, $\\cos \\omega t u_0(t)$, $\\sin \\omega t u_0(t)$ and many others, that we use often, the mathematics can tricky.\n",
    "\n",
    "Luckily for us, most of the most useful transforms have already been calculated for us and gathered together into tables.\n",
    "\n",
    "Here are a couple that are on the net for your reference\n",
    "\n",
    "* Laplace transform [(Wikipedia)](https://en.wikipedia.org/wiki/Laplace_transform)\n",
    "* Laplace Transform [(Wolfram Alpha)](https://mathworld.wolfram.com/LaplaceTransform.html)\n",
    "\n",
    "Every textbook that covers Laplace transforms will provide tables of properties (see {doc}`laplace_transfer_properties`) and the most commonly encountered transforms. You will find such tables in  Tables 2.1 and 2.2 of {cite}`karris` and Table 3.1 and Table 3.3 of {cite}`schaum`. \n",
    "\n",
    "We reproduce Table 3.1 of {cite}`schaum` below. You will find a table of Laplace transform properties in the next chapter."
   ]
  },
  {
   "cell_type": "markdown",
   "id": "e6d403dd",
   "metadata": {
    "nbpresent": {
     "id": "2a56e188-1891-420a-a66b-be808a1a11e2"
    },
    "slideshow": {
     "slide_type": "slide"
    }
   },
   "source": [
    "(lap:xform_table)=\n",
    "## F. Transforms of Common Signals\n",
    "\n",
    "\n",
    "| &nbsp;  | $f(t)$                                         | $F(s)$                                              | ROC |\n",
    "|---------|------------------------------------------------|-----------------------------------------------------|-----|\n",
    "| 1       | $\\displaystyle \\delta(t)$                      | $\\displaystyle 1$                                   | All $s$ |\n",
    "| 2       | $\\displaystyle \\delta(t-a)$                    | $\\displaystyle e^{-as}$                             | All $s$ |\n",
    "| 3       | $\\displaystyle u_0(t)$                         | $\\displaystyle \\frac{1}{s}$ | Re($s$) > 0 |\n",
    "| 4       | $\\displaystyle t u_0(t)$                       | $\\displaystyle \\frac{1}{s^2}$   | Re($s$) > 0 | \n",
    "| 5       | $\\displaystyle t^n u_0(t)$                     | $\\displaystyle \\frac{n!}{s^{n+1}}$ | Re($s$) > 0 | \n",
    "| 6       | $\\displaystyle e^{-at}u_0(t)$                  | $\\displaystyle \\frac{1}{s+a}$ | Re($s$) > $-$Re($a$) | \n",
    "| 7       | $\\displaystyle t^n e^{-at} u_0(t)$             | $\\displaystyle \\frac{n!}{(s+a)^{n+1}}$              |  Re($s$) > $-$Re($a$) | \n",
    "| 8       | $\\displaystyle \\sin (\\omega t) u_0(t)$         | $\\displaystyle \\frac{\\omega}{s^2 + \\omega^2}$       | Re($s$) > 0 | \n",
    "| 9       | $\\displaystyle \\cos (\\omega t) u_0(t)$         | $\\displaystyle \\frac{s}{s^2 + \\omega^2}$            | Re($s$) > 0 | \n",
    "| 10      | $\\displaystyle e^{-at} \\sin (\\omega t) u_0(t)$ | $\\displaystyle \\frac{\\omega}{(s + a)^2 + \\omega^2}$ | Re($s$) > $-$Re($a$) |\n",
    "| 11      | $\\displaystyle e^{-at}\\cos (\\omega t) u_0(t)$  | $\\displaystyle \\frac{s+a}{(s+a)^2 + \\omega^2}$      | Re($s$) > $-$Re($a$) |"
   ]
  },
  {
   "cell_type": "markdown",
   "id": "407d2dd6",
   "metadata": {
    "nbpresent": {
     "id": "2a56e188-1891-420a-a66b-be808a1a11e2"
    },
    "slideshow": {
     "slide_type": "notes"
    }
   },
   "source": [
    "Refer to the Chapter 2.3 of {cite}`karris` if you want to study the proofs of these transforms."
   ]
  },
  {
   "cell_type": "markdown",
   "id": "dcd9518f",
   "metadata": {
    "nbpresent": {
     "id": "0deac4e0-df0c-4513-a0ae-81ed56e94aec"
    },
    "slideshow": {
     "slide_type": "subslide"
    }
   },
   "source": [
    "### Don't panic\n",
    "\n",
    "Tables of Laplace transform properties and transforms will be included with the exam paper."
   ]
  },
  {
   "cell_type": "markdown",
   "id": "e94c88ee",
   "metadata": {
    "slideshow": {
     "slide_type": "slide"
    }
   },
   "source": [
    "(lap2:matlab)=\n",
    "## G. MATLAB Examples\n",
    "\n",
    "Let's use the MATLAB Symbolic Math Toolbox to prove some of these transforms."
   ]
  },
  {
   "cell_type": "code",
   "execution_count": 1,
   "id": "ff9d313a",
   "metadata": {
    "slideshow": {
     "slide_type": "fragment"
    }
   },
   "outputs": [],
   "source": [
    "syms s t a omega\n",
    "assume(a>0)\n",
    "assume(omega>0)\n",
    "u0(t) = heaviside(t);"
   ]
  },
  {
   "cell_type": "markdown",
   "id": "bfcf7f95",
   "metadata": {
    "slideshow": {
     "slide_type": "subslide"
    }
   },
   "source": [
    "### Impulse $\\delta(t)$"
   ]
  },
  {
   "cell_type": "code",
   "execution_count": 2,
   "id": "4b73af63",
   "metadata": {
    "slideshow": {
     "slide_type": "fragment"
    }
   },
   "outputs": [
    {
     "name": "stdout",
     "output_type": "stream",
     "text": [
      " \n"
     ]
    },
    {
     "name": "stdout",
     "output_type": "stream",
     "text": [
      "ans =\n"
     ]
    },
    {
     "name": "stdout",
     "output_type": "stream",
     "text": [
      " \n"
     ]
    },
    {
     "name": "stdout",
     "output_type": "stream",
     "text": [
      "1\n"
     ]
    },
    {
     "name": "stdout",
     "output_type": "stream",
     "text": [
      " \n"
     ]
    }
   ],
   "source": [
    "laplace(dirac(t))"
   ]
  },
  {
   "cell_type": "markdown",
   "id": "b87f7950",
   "metadata": {
    "slideshow": {
     "slide_type": "subslide"
    }
   },
   "source": [
    "### Delayed impulse $\\delta(t-a)$"
   ]
  },
  {
   "cell_type": "code",
   "execution_count": 3,
   "id": "07d89dbd",
   "metadata": {
    "slideshow": {
     "slide_type": "fragment"
    }
   },
   "outputs": [
    {
     "name": "stdout",
     "output_type": "stream",
     "text": [
      " \n"
     ]
    },
    {
     "name": "stdout",
     "output_type": "stream",
     "text": [
      "ans =\n"
     ]
    },
    {
     "name": "stdout",
     "output_type": "stream",
     "text": [
      " \n"
     ]
    },
    {
     "name": "stdout",
     "output_type": "stream",
     "text": [
      "exp(-a*s)\n"
     ]
    },
    {
     "name": "stdout",
     "output_type": "stream",
     "text": [
      " \n"
     ]
    }
   ],
   "source": [
    "laplace(dirac(t-a))"
   ]
  },
  {
   "cell_type": "markdown",
   "id": "532ca064",
   "metadata": {
    "slideshow": {
     "slide_type": "subslide"
    }
   },
   "source": [
    "### Unit step $u_0(t)$"
   ]
  },
  {
   "cell_type": "code",
   "execution_count": 4,
   "id": "1f966f46",
   "metadata": {
    "slideshow": {
     "slide_type": "fragment"
    }
   },
   "outputs": [
    {
     "name": "stdout",
     "output_type": "stream",
     "text": [
      " \n"
     ]
    },
    {
     "name": "stdout",
     "output_type": "stream",
     "text": [
      "ans =\n"
     ]
    },
    {
     "name": "stdout",
     "output_type": "stream",
     "text": [
      " \n"
     ]
    },
    {
     "name": "stdout",
     "output_type": "stream",
     "text": [
      "1/s\n"
     ]
    },
    {
     "name": "stdout",
     "output_type": "stream",
     "text": [
      " \n"
     ]
    }
   ],
   "source": [
    "laplace(u0(t))"
   ]
  },
  {
   "cell_type": "markdown",
   "id": "50b8be3f",
   "metadata": {
    "slideshow": {
     "slide_type": "subslide"
    }
   },
   "source": [
    "### Unit ramp $u_1(t)=tu_0(t)$"
   ]
  },
  {
   "cell_type": "code",
   "execution_count": 5,
   "id": "8f68ea51",
   "metadata": {
    "slideshow": {
     "slide_type": "fragment"
    }
   },
   "outputs": [
    {
     "name": "stdout",
     "output_type": "stream",
     "text": [
      " \n"
     ]
    },
    {
     "name": "stdout",
     "output_type": "stream",
     "text": [
      "ans =\n"
     ]
    },
    {
     "name": "stdout",
     "output_type": "stream",
     "text": [
      " \n"
     ]
    },
    {
     "name": "stdout",
     "output_type": "stream",
     "text": [
      "1/s^2\n"
     ]
    },
    {
     "name": "stdout",
     "output_type": "stream",
     "text": [
      " \n"
     ]
    }
   ],
   "source": [
    "laplace(t*u0(t))"
   ]
  },
  {
   "cell_type": "markdown",
   "id": "7da0558f",
   "metadata": {
    "slideshow": {
     "slide_type": "subslide"
    }
   },
   "source": [
    "### Powers of $t$"
   ]
  },
  {
   "cell_type": "code",
   "execution_count": 6,
   "id": "4cf90255",
   "metadata": {
    "slideshow": {
     "slide_type": "fragment"
    }
   },
   "outputs": [
    {
     "name": "stdout",
     "output_type": "stream",
     "text": [
      " \n"
     ]
    },
    {
     "name": "stdout",
     "output_type": "stream",
     "text": [
      "ans =\n"
     ]
    },
    {
     "name": "stdout",
     "output_type": "stream",
     "text": [
      " \n"
     ]
    },
    {
     "name": "stdout",
     "output_type": "stream",
     "text": [
      "gamma(n + 1)/s^(n + 1)\n"
     ]
    },
    {
     "name": "stdout",
     "output_type": "stream",
     "text": [
      " \n"
     ]
    }
   ],
   "source": [
    "syms n integer\n",
    "assume(n > 1)\n",
    "laplace(t^n*u0(t))"
   ]
  },
  {
   "cell_type": "markdown",
   "id": "fbb24dad",
   "metadata": {
    "slideshow": {
     "slide_type": "subslide"
    }
   },
   "source": [
    "### Exponentials"
   ]
  },
  {
   "cell_type": "code",
   "execution_count": 7,
   "id": "853a786c",
   "metadata": {
    "slideshow": {
     "slide_type": "fragment"
    }
   },
   "outputs": [
    {
     "name": "stdout",
     "output_type": "stream",
     "text": [
      " \n"
     ]
    },
    {
     "name": "stdout",
     "output_type": "stream",
     "text": [
      "ans =\n"
     ]
    },
    {
     "name": "stdout",
     "output_type": "stream",
     "text": [
      " \n"
     ]
    },
    {
     "name": "stdout",
     "output_type": "stream",
     "text": [
      "1/(a + s)\n"
     ]
    },
    {
     "name": "stdout",
     "output_type": "stream",
     "text": [
      " \n"
     ]
    },
    {
     "name": "stdout",
     "output_type": "stream",
     "text": [
      " \n"
     ]
    },
    {
     "name": "stdout",
     "output_type": "stream",
     "text": [
      "ans =\n"
     ]
    },
    {
     "name": "stdout",
     "output_type": "stream",
     "text": [
      " \n"
     ]
    },
    {
     "name": "stdout",
     "output_type": "stream",
     "text": [
      "1/(a + s)^2\n"
     ]
    },
    {
     "name": "stdout",
     "output_type": "stream",
     "text": [
      " \n"
     ]
    },
    {
     "name": "stdout",
     "output_type": "stream",
     "text": [
      " \n"
     ]
    },
    {
     "name": "stdout",
     "output_type": "stream",
     "text": [
      "ans =\n"
     ]
    },
    {
     "name": "stdout",
     "output_type": "stream",
     "text": [
      " \n"
     ]
    },
    {
     "name": "stdout",
     "output_type": "stream",
     "text": [
      "gamma(n + 1)/(a + s)^(n + 1)\n"
     ]
    },
    {
     "name": "stdout",
     "output_type": "stream",
     "text": [
      " \n"
     ]
    }
   ],
   "source": [
    "laplace(exp(-a*t)*u0(t))\n",
    "laplace(t*exp(-a*t)*u0(t))\n",
    "laplace(t^n*exp(-a*t)*u0(t))"
   ]
  },
  {
   "cell_type": "markdown",
   "id": "1edc3fbf",
   "metadata": {
    "slideshow": {
     "slide_type": "subslide"
    }
   },
   "source": [
    "### Sinusoids"
   ]
  },
  {
   "cell_type": "code",
   "execution_count": 8,
   "id": "333241dc",
   "metadata": {
    "slideshow": {
     "slide_type": "fragment"
    }
   },
   "outputs": [
    {
     "name": "stdout",
     "output_type": "stream",
     "text": [
      " \n"
     ]
    },
    {
     "name": "stdout",
     "output_type": "stream",
     "text": [
      "ans =\n"
     ]
    },
    {
     "name": "stdout",
     "output_type": "stream",
     "text": [
      " \n"
     ]
    },
    {
     "name": "stdout",
     "output_type": "stream",
     "text": [
      "s/(omega^2 + s^2)\n"
     ]
    },
    {
     "name": "stdout",
     "output_type": "stream",
     "text": [
      " \n"
     ]
    },
    {
     "name": "stdout",
     "output_type": "stream",
     "text": [
      " \n"
     ]
    },
    {
     "name": "stdout",
     "output_type": "stream",
     "text": [
      "ans =\n"
     ]
    },
    {
     "name": "stdout",
     "output_type": "stream",
     "text": [
      " \n"
     ]
    },
    {
     "name": "stdout",
     "output_type": "stream",
     "text": [
      "omega/(omega^2 + s^2)\n"
     ]
    },
    {
     "name": "stdout",
     "output_type": "stream",
     "text": [
      " \n"
     ]
    }
   ],
   "source": [
    "laplace(cos(omega*t)*u0(t))\n",
    "laplace(sin(omega*t)*u0(t))"
   ]
  },
  {
   "cell_type": "markdown",
   "id": "0ccb172d",
   "metadata": {
    "slideshow": {
     "slide_type": "subslide"
    }
   },
   "source": [
    "### Decaying sinusoids"
   ]
  },
  {
   "cell_type": "code",
   "execution_count": 9,
   "id": "851a93c4",
   "metadata": {
    "slideshow": {
     "slide_type": "fragment"
    }
   },
   "outputs": [
    {
     "name": "stdout",
     "output_type": "stream",
     "text": [
      " \n"
     ]
    },
    {
     "name": "stdout",
     "output_type": "stream",
     "text": [
      "ans =\n"
     ]
    },
    {
     "name": "stdout",
     "output_type": "stream",
     "text": [
      " \n"
     ]
    },
    {
     "name": "stdout",
     "output_type": "stream",
     "text": [
      "(a + s)/((a + s)^2 + omega^2)\n"
     ]
    },
    {
     "name": "stdout",
     "output_type": "stream",
     "text": [
      " \n"
     ]
    },
    {
     "name": "stdout",
     "output_type": "stream",
     "text": [
      " \n"
     ]
    },
    {
     "name": "stdout",
     "output_type": "stream",
     "text": [
      "ans =\n"
     ]
    },
    {
     "name": "stdout",
     "output_type": "stream",
     "text": [
      " \n"
     ]
    },
    {
     "name": "stdout",
     "output_type": "stream",
     "text": [
      "omega/((a + s)^2 + omega^2)\n"
     ]
    },
    {
     "name": "stdout",
     "output_type": "stream",
     "text": [
      " \n"
     ]
    }
   ],
   "source": [
    "laplace(exp(-a*t)*cos(omega*t)*u0(t))\n",
    "laplace(exp(-a*t)*sin(omega*t)*u0(t))"
   ]
  },
  {
   "cell_type": "markdown",
   "id": "7f820ebb",
   "metadata": {
    "nbpresent": {
     "id": "4f9f0fa3-84d5-45c3-a6fd-78f84f94388c"
    },
    "slideshow": {
     "slide_type": "slide"
    }
   },
   "source": [
    "## Next Time\n",
    "\n",
    "We move on to consider \n",
    "\n",
    "* {doc}`../3/laplace_properties.md`\n",
    "\n",
    "## References\n",
    "\n",
    "```{bibliography}\n",
    ":filter: docname in docnames\n",
    "```"
   ]
  }
 ],
 "metadata": {
  "jupytext": {
   "formats": "md:myst,ipynb",
   "text_representation": {
    "extension": ".md",
    "format_name": "myst",
    "format_version": 0.13,
    "jupytext_version": "1.14.4"
   }
  },
  "kernelspec": {
   "display_name": "MATLAB",
   "language": "matlab",
   "name": "imatlab"
  },
  "language_info": {
   "codemirror_mode": "octave",
   "file_extension": ".m",
   "mimetype": "text/x-matlab",
   "name": "matlab",
   "pygments_lexer": "matlab",
   "version": "9.13.0.2126072 (R2022b) Update 3"
  },
  "source_map": [
   15,
   21,
   27,
   31,
   35,
   39,
   43,
   47,
   51,
   55,
   60,
   64,
   68,
   72,
   80,
   85,
   89,
   95,
   103,
   108,
   113,
   117,
   125,
   130,
   136,
   144,
   162,
   182,
   186,
   192,
   199,
   210,
   214,
   222,
   226,
   234,
   238,
   246,
   250,
   258,
   262,
   272,
   276,
   286,
   290,
   299,
   303,
   312
  ]
 },
 "nbformat": 4,
 "nbformat_minor": 5
}