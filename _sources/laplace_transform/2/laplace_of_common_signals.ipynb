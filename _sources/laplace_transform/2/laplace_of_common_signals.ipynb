{
 "cells": [
  {
   "cell_type": "markdown",
   "id": "2c366da3",
   "metadata": {
    "nbpresent": {
     "id": "90f3c07d-3646-44b0-a549-7020fc10d16f"
    },
    "slideshow": {
     "slide_type": "slide"
    }
   },
   "source": [
    "(unit4.2)=\n",
    "# Unit 4.2: Laplace Transform of Some Common Signals\n",
    "\n",
    "The preparatory reading for this section is Chapter 2.2 of {cite}`karris` and Chapter 3.4 of {cite}`schaum`."
   ]
  },
  {
   "cell_type": "markdown",
   "id": "bbd20df2",
   "metadata": {
    "nbpresent": {
     "id": "90f3c07d-3646-44b0-a549-7020fc10d16f"
    },
    "slideshow": {
     "slide_type": "subslide"
    }
   },
   "source": [
    "Follow along at [cpjobling.github.io/eg-150-textbook/laplace_transform/2/laplace_of_common_signals](https://cpjobling.github.io/eg-150-textbook/laplace_transform/2/laplace_of_common_signals)\n",
    "\n",
    "![QR Code for this lecture](pictures/qrcode_laplace_2.png)"
   ]
  },
  {
   "cell_type": "markdown",
   "id": "7d301997",
   "metadata": {
    "nbpresent": {
     "id": "f651cafb-8c2b-4d27-aec9-3491dbcce1aa"
    },
    "slideshow": {
     "slide_type": "notes"
    }
   },
   "source": [
    "## Agenda\n",
    "\n",
    "* {ref}`lap2:impulse`\n",
    "\n",
    "* {ref}`lap2:delayed_impulse`\n",
    "\n",
    "* {ref}`lap2:unit_step`\n",
    "\n",
    "* {ref}`lap2:exp`\n",
    "\n",
    "* {ref}`lap2:xform_table`\n",
    "\n",
    "* {ref}`lap2:matlab`"
   ]
  },
  {
   "cell_type": "markdown",
   "id": "3b59acf3",
   "metadata": {
    "nbpresent": {
     "id": "b8f02dd9-8876-4679-89fd-038772c205b9"
    },
    "slideshow": {
     "slide_type": "slide"
    }
   },
   "source": [
    "(lap2:impulse)=\n",
    "## A. Unit impulse function $\\delta(t)$"
   ]
  },
  {
   "cell_type": "markdown",
   "id": "3a40db0a",
   "metadata": {
    "slideshow": {
     "slide_type": "fragment"
    }
   },
   "source": [
    "$$\\mathcal{L}\\left\\{\\delta(t)\\right\\}=\\int_{-\\infty}^{\\infty}\\delta(t)e^{-st}\\,dt$$"
   ]
  },
  {
   "cell_type": "markdown",
   "id": "94536b12",
   "metadata": {
    "slideshow": {
     "slide_type": "fragment"
    }
   },
   "source": [
    "Using the *sampling* and *sifting* property of the Dirac delta function"
   ]
  },
  {
   "cell_type": "markdown",
   "id": "fac0fbed",
   "metadata": {
    "slideshow": {
     "slide_type": "fragment"
    }
   },
   "source": [
    "$$\\mathcal{L}\\left\\{\\delta(t)\\right\\}=\\int_{-\\infty}^{\\infty}e^{-st}\\delta(t)\\,dt = \\int_{-\\infty}^{\\infty} e^{-s(0)}\\delta(t)\\,dt= \\int_{-\\infty}^{\\infty}\\delta(t)\\,dt = 1\\quad \\mathrm{all}\\ s$$"
   ]
  },
  {
   "cell_type": "markdown",
   "id": "5a0f874d",
   "metadata": {
    "slideshow": {
     "slide_type": "subslide"
    }
   },
   "source": [
    "Thus the Laplace transform pair is\n",
    "\n",
    "$$\\delta(t) \\Leftrightarrow 1$$\n",
    "\n",
    "for all $s$."
   ]
  },
  {
   "cell_type": "markdown",
   "id": "bb83a483",
   "metadata": {
    "nbpresent": {
     "id": "b8f02dd9-8876-4679-89fd-038772c205b9"
    },
    "slideshow": {
     "slide_type": "slide"
    }
   },
   "source": [
    "(lap2:delayed_impulse)=\n",
    "## B. Delayed impulse function $\\delta(t-a)$"
   ]
  },
  {
   "cell_type": "markdown",
   "id": "bb498d47",
   "metadata": {
    "nbpresent": {
     "id": "b8f02dd9-8876-4679-89fd-038772c205b9"
    },
    "slideshow": {
     "slide_type": "fragment"
    }
   },
   "source": [
    "$$\\mathcal{L}\\left\\{\\delta(t-a)\\right\\}=\\int_{-\\infty}^{\\infty}\\delta(t-a)e^{-st}\\,dt$$"
   ]
  },
  {
   "cell_type": "markdown",
   "id": "f7d3f621",
   "metadata": {
    "nbpresent": {
     "id": "b8f02dd9-8876-4679-89fd-038772c205b9"
    },
    "slideshow": {
     "slide_type": "fragment"
    }
   },
   "source": [
    "Using the sifting property of the Dirac delta function again\n",
    "\n",
    "$$\\mathcal{L}\\left\\{\\delta(t)\\right\\}=\\int_{-\\infty}^{\\infty}\\delta(t-a)e^{-st}\\,dt = e^{-as}\\quad \\sigma > 0$$"
   ]
  },
  {
   "cell_type": "markdown",
   "id": "e349a38f",
   "metadata": {
    "nbpresent": {
     "id": "b8f02dd9-8876-4679-89fd-038772c205b9"
    },
    "slideshow": {
     "slide_type": "subslide"
    }
   },
   "source": [
    "Thus the Laplace transform pair is\n",
    "\n",
    "$$\\delta(t-a) \\Leftrightarrow e^{-as}$$\n",
    "\n",
    "for $\\mathrm{Re}(s) > 0$."
   ]
  },
  {
   "cell_type": "markdown",
   "id": "b1dfe618",
   "metadata": {
    "nbpresent": {
     "id": "b8f02dd9-8876-4679-89fd-038772c205b9"
    },
    "slideshow": {
     "slide_type": "slide"
    }
   },
   "source": [
    "(lap2:unit_step)=\n",
    "## C. Unit step function $u_0(t)$"
   ]
  },
  {
   "cell_type": "markdown",
   "id": "f2d971d9",
   "metadata": {
    "nbpresent": {
     "id": "b8f02dd9-8876-4679-89fd-038772c205b9"
    },
    "slideshow": {
     "slide_type": "fragment"
    }
   },
   "source": [
    "$$\\mathcal{L}\\left\\{u_0(t)\\right\\}=\\int_{-\\infty}^{\\infty}u_0(t)e^{-st}\\,dt = \\int_{0^{+}}^{\\infty}e^{-st}\\,dt$$\n",
    "$$X(s) = \\left.-\\frac{1}{s}e^{-st}\\right|_{0^{+}}^{\\infty}=\\frac{1}{s}\\quad\\mathrm{Re}(s)\\gt 0$$"
   ]
  },
  {
   "cell_type": "markdown",
   "id": "997848e8",
   "metadata": {
    "nbpresent": {
     "id": "b8f02dd9-8876-4679-89fd-038772c205b9"
    },
    "slideshow": {
     "slide_type": "fragment"
    }
   },
   "source": [
    "where $0^{+}=\\lim_\\epsilon\\to 0(0+\\epsilon)$."
   ]
  },
  {
   "cell_type": "markdown",
   "id": "5be34bf3",
   "metadata": {
    "nbpresent": {
     "id": "b8f02dd9-8876-4679-89fd-038772c205b9"
    },
    "slideshow": {
     "slide_type": "subslide"
    }
   },
   "source": [
    "Thus the Laplace transform pair is\n",
    "\n",
    "$$u_0(t) \\Leftrightarrow \\frac{1}{s}$$\n",
    "\n",
    "for $\\mathrm{Re}(s) > 0$."
   ]
  },
  {
   "cell_type": "markdown",
   "id": "59ab01f9",
   "metadata": {
    "nbpresent": {
     "id": "b8f02dd9-8876-4679-89fd-038772c205b9"
    },
    "slideshow": {
     "slide_type": "slide"
    }
   },
   "source": [
    "(lap2:exp)=\n",
    "## D. Exponential function $x(t) = e^{-at}u_0(t)$"
   ]
  },
  {
   "cell_type": "markdown",
   "id": "69081d05",
   "metadata": {
    "nbpresent": {
     "id": "b8f02dd9-8876-4679-89fd-038772c205b9"
    },
    "slideshow": {
     "slide_type": "fragment"
    }
   },
   "source": [
    "We already showed in {ref}`laplace:ex1` that\n",
    "\n",
    "$$\\mathcal{L}\\left\\{e^{-at}u_0(t)\\right\\} = \\frac{1}{s+a}.$$"
   ]
  },
  {
   "cell_type": "markdown",
   "id": "2299f705",
   "metadata": {
    "nbpresent": {
     "id": "b8f02dd9-8876-4679-89fd-038772c205b9"
    },
    "slideshow": {
     "slide_type": "subslide"
    }
   },
   "source": [
    "Thus the Laplace transform pair is\n",
    "\n",
    "$$e^{-at}u_0(t) \\Leftrightarrow \\frac{1}{s+a}$$\n",
    "\n",
    "for $\\mathrm{Re}(s) > -a$."
   ]
  },
  {
   "cell_type": "markdown",
   "id": "4f87e0bd",
   "metadata": {
    "slideshow": {
     "slide_type": "subslide"
    }
   },
   "source": [
    "(lap2:ramp)=\n",
    "\n",
    "## E. Unit ramp $x(t) = t u_0(t)$"
   ]
  },
  {
   "cell_type": "markdown",
   "id": "e1b055da",
   "metadata": {
    "slideshow": {
     "slide_type": "fragment"
    }
   },
   "source": [
    "$$\\mathcal{L}\\left\\{t u_0(t)\\right\\} = \\int_0^\\infty t e^{-st}\\,dt$$"
   ]
  },
  {
   "cell_type": "markdown",
   "id": "60b3e455",
   "metadata": {
    "slideshow": {
     "slide_type": "fragment"
    }
   },
   "source": [
    "From tables of integrals:\n",
    "\n",
    "$$\\int te^{-at}\\ dt = -\\left(\\frac{-at + 1}{a^2}\\right)e^{-at} + C$$"
   ]
  },
  {
   "cell_type": "markdown",
   "id": "907cbcd4",
   "metadata": {
    "slideshow": {
     "slide_type": "subslide"
    }
   },
   "source": [
    "Or MATLAB"
   ]
  },
  {
   "cell_type": "code",
   "execution_count": 1,
   "id": "7cb6be52",
   "metadata": {
    "slideshow": {
     "slide_type": "fragment"
    }
   },
   "outputs": [
    {
     "name": "stdout",
     "output_type": "stream",
     "text": [
      " \n"
     ]
    },
    {
     "name": "stdout",
     "output_type": "stream",
     "text": [
      "ans =\n"
     ]
    },
    {
     "name": "stdout",
     "output_type": "stream",
     "text": [
      " \n"
     ]
    },
    {
     "name": "stdout",
     "output_type": "stream",
     "text": [
      "-(exp(-a*t)*(a*t + 1))/a^2\n"
     ]
    },
    {
     "name": "stdout",
     "output_type": "stream",
     "text": [
      " \n"
     ]
    }
   ],
   "source": [
    "syms t a\n",
    "int(t * exp(-a*t))"
   ]
  },
  {
   "cell_type": "markdown",
   "id": "898bae4f",
   "metadata": {
    "slideshow": {
     "slide_type": "fragment"
    }
   },
   "source": [
    "so\n",
    "\n",
    "$$\\int_0^\\infty t e^{-st}\\,dt = -\\left.\\left(\\frac{-st + 1}{(-s)^2}\\right)e^{-st}\\right|_0^\\infty$$"
   ]
  },
  {
   "cell_type": "markdown",
   "id": "cb629a66",
   "metadata": {
    "slideshow": {
     "slide_type": "fragment"
    }
   },
   "source": [
    "$$F(s) = -\\frac{1}{s^2}\\left(\\left(-st + 1)\\right)e^{-\\infty} -\\left( -0t + 1)\\right)e^0\\right) = \\frac{1}{s^2}$$"
   ]
  },
  {
   "cell_type": "markdown",
   "id": "db51fd0a",
   "metadata": {},
   "source": [
    "Thus the Laplace transform pair is\n",
    "\n",
    "$$t u_0(t) \\Leftrightarrow \\frac{1}{s^2}$$\n",
    "\n",
    "for $\\mathrm{Re}(s) > 0$."
   ]
  },
  {
   "cell_type": "markdown",
   "id": "cf983cc5",
   "metadata": {
    "nbpresent": {
     "id": "e58f747d-f0a8-464d-b62f-f7bb9ce8b605"
    },
    "slideshow": {
     "slide_type": "slide"
    }
   },
   "source": [
    "(lap2:others)=\n",
    "## F. Laplace Transform Pairs for Other Common SIgnals\n",
    "\n",
    "We can continue to derive the Laplace transforms of the most commonly encoutered signals, and in some cases, e.g. unit ramp $r(t)=u_1(t)=tu_0(t)$, $u_n(t)=t^nu_0(t)$, $t^ne^{-at}u_0(t)$, $\\cos \\omega t u_0(t)$, $\\sin \\omega t u_0(t)$ and many others, that we use often, the mathematics can tricky.\n",
    "\n",
    "Luckily for us, most of the most useful transforms have already been calculated for us and gathered together into tables.\n",
    "\n",
    "Here are a couple that are on the net for your reference\n",
    "\n",
    "* Laplace transform [(Wikipedia)](https://en.wikipedia.org/wiki/Laplace_transform)\n",
    "* Laplace Transform [(Wolfram Alpha)](https://mathworld.wolfram.com/LaplaceTransform.html)\n",
    "\n",
    "Every textbook that covers Laplace transforms will provide tables of properties (see {doc}`laplace_transfer_properties`) and the most commonly encountered transforms. You will find such tables in  Tables 2.1 and 2.2 of {cite}`karris` and Table 3.1 and Table 3.3 of {cite}`schaum`. \n",
    "\n",
    "We reproduce Table 3.1 of {cite}`schaum` below. You will find a table of Laplace transform properties in the next chapter."
   ]
  },
  {
   "cell_type": "markdown",
   "id": "2e6ac3ed",
   "metadata": {
    "nbpresent": {
     "id": "2a56e188-1891-420a-a66b-be808a1a11e2"
    },
    "slideshow": {
     "slide_type": "slide"
    }
   },
   "source": [
    "(lap:xform_table)=\n",
    "## F. Transforms of Common Signals\n",
    "\n",
    "\n",
    "| &nbsp;  | $f(t)$                                         | $F(s)$                                              | ROC |\n",
    "|---------|------------------------------------------------|-----------------------------------------------------|-----|\n",
    "| 1       | $\\displaystyle \\delta(t)$                      | $\\displaystyle 1$                                   | All $s$ |\n",
    "| 2       | $\\displaystyle \\delta(t-a)$                    | $\\displaystyle e^{-as}$                             | All $s$ |\n",
    "| 3       | $\\displaystyle u_0(t)$                         | $\\displaystyle \\frac{1}{s}$ | Re($s$) > 0 |\n",
    "| 4       | $\\displaystyle -u_0(-t)$                       | $\\displaystyle \\frac{1}{s}$ | Re($s$) < 0 |\n",
    "| 5       | $\\displaystyle t u_0(t)$                       | $\\displaystyle \\frac{1}{s^2}$   | Re($s$) > 0 | \n",
    "| 6       | $\\displaystyle t^n u_0(t)$                     | $\\displaystyle \\frac{n!}{s^{n+1}}$ | Re($s$) > 0 | \n",
    "| 7       | $\\displaystyle e^{-at}u_0(t)$                  | $\\displaystyle \\frac{1}{s+a}$ | Re($s$) > $-$Re($a$) \n",
    "| 8       | $\\displaystyle -e^{-at}u_0(-t)$                | $\\displaystyle \\frac{1}{s+a}$ | Re($s$)< $-$Re($a$) \n",
    "| 9       | $\\displaystyle t^n e^{-at} u_0(t)$             | $\\displaystyle \\frac{n!}{(s+a)^{n+1}}$              |  Re($s$) > $-$Re($a$) | \n",
    "| 10      | $\\displaystyle -t^n e^{-at} u_0(-t)$             | $\\displaystyle \\frac{n!}{(s+a)^{n+1}}$              |  Re($s$) < $-$Re($a$) | \n",
    "| 11      | $\\displaystyle \\sin (\\omega t) u_0(t)$         | $\\displaystyle \\frac{\\omega}{s^2 + \\omega^2}$       | Re($s$) > 0 | \n",
    "| 12      | $\\displaystyle \\cos (\\omega t) u_0(t)$         | $\\displaystyle \\frac{s}{s^2 + \\omega^2}$            | Re($s$) > 0 | \n",
    "| 13      | $\\displaystyle e^{-at} \\sin (\\omega t) u_0(t)$ | $\\displaystyle \\frac{\\omega}{(s + a)^2 + \\omega^2}$ | Re($s$) > $-$Re($a$) |\n",
    "| 14      | $\\displaystyle e^{-at}\\cos (\\omega t) u_0(t)$  | $\\displaystyle \\frac{s+a}{(s+a)^2 + \\omega^2}$      | Re($s$) > $-$Re($a$) |"
   ]
  },
  {
   "cell_type": "markdown",
   "id": "2fe898ed",
   "metadata": {
    "nbpresent": {
     "id": "2a56e188-1891-420a-a66b-be808a1a11e2"
    },
    "slideshow": {
     "slide_type": "notes"
    }
   },
   "source": [
    "Refer to the Chapter 2.3 of {cite}`karris` if you want to study the proofs of these transforms."
   ]
  },
  {
   "cell_type": "markdown",
   "id": "4ccdaa7b",
   "metadata": {
    "nbpresent": {
     "id": "0deac4e0-df0c-4513-a0ae-81ed56e94aec"
    },
    "slideshow": {
     "slide_type": "subslide"
    }
   },
   "source": [
    "### Don't panic\n",
    "\n",
    "Tables of Laplace transform properties and transforms will be included with the exam paper."
   ]
  },
  {
   "cell_type": "markdown",
   "id": "b3e75202",
   "metadata": {
    "slideshow": {
     "slide_type": "slide"
    }
   },
   "source": [
    "(lap2:matlab)=\n",
    "## G. MATLAB Examples\n",
    "\n",
    "Let's use the MATLAB Symbolic Math Toolbox to prove some of these transforms."
   ]
  },
  {
   "cell_type": "code",
   "execution_count": 2,
   "id": "272331b6",
   "metadata": {
    "slideshow": {
     "slide_type": "fragment"
    }
   },
   "outputs": [],
   "source": [
    "format compact\n",
    "syms s t a omega\n",
    "assume(a>0)\n",
    "assume(omega>0)\n",
    "u0(t) = heaviside(t);"
   ]
  },
  {
   "cell_type": "markdown",
   "id": "21e9ac7f",
   "metadata": {
    "slideshow": {
     "slide_type": "subslide"
    }
   },
   "source": [
    "### Impulse $\\delta(t)$"
   ]
  },
  {
   "cell_type": "code",
   "execution_count": 3,
   "id": "2bb8cefd",
   "metadata": {
    "slideshow": {
     "slide_type": "fragment"
    }
   },
   "outputs": [
    {
     "name": "stdout",
     "output_type": "stream",
     "text": [
      "ans =\n"
     ]
    },
    {
     "name": "stdout",
     "output_type": "stream",
     "text": [
      "1\n"
     ]
    }
   ],
   "source": [
    "laplace(dirac(t))"
   ]
  },
  {
   "cell_type": "markdown",
   "id": "3be330c8",
   "metadata": {
    "slideshow": {
     "slide_type": "subslide"
    }
   },
   "source": [
    "### Delayed impulse $\\delta(t-a)$"
   ]
  },
  {
   "cell_type": "code",
   "execution_count": 4,
   "id": "1d282bd2",
   "metadata": {
    "slideshow": {
     "slide_type": "fragment"
    }
   },
   "outputs": [
    {
     "name": "stdout",
     "output_type": "stream",
     "text": [
      "ans =\n"
     ]
    },
    {
     "name": "stdout",
     "output_type": "stream",
     "text": [
      "exp(-a*s)\n"
     ]
    }
   ],
   "source": [
    "laplace(dirac(t-a))"
   ]
  },
  {
   "cell_type": "markdown",
   "id": "de4a5e48",
   "metadata": {
    "slideshow": {
     "slide_type": "subslide"
    }
   },
   "source": [
    "### Unit step $u_0(t)$"
   ]
  },
  {
   "cell_type": "code",
   "execution_count": 5,
   "id": "10c1cde2",
   "metadata": {
    "slideshow": {
     "slide_type": "fragment"
    }
   },
   "outputs": [
    {
     "name": "stdout",
     "output_type": "stream",
     "text": [
      "ans =\n"
     ]
    },
    {
     "name": "stdout",
     "output_type": "stream",
     "text": [
      "1/s\n"
     ]
    }
   ],
   "source": [
    "laplace(u0(t))"
   ]
  },
  {
   "cell_type": "markdown",
   "id": "a3825ad1",
   "metadata": {
    "slideshow": {
     "slide_type": "subslide"
    }
   },
   "source": [
    "For some functions we need to define the ROC and use the integral directly"
   ]
  },
  {
   "cell_type": "code",
   "execution_count": 6,
   "id": "45493431",
   "metadata": {
    "slideshow": {
     "slide_type": "fragment"
    }
   },
   "outputs": [
    {
     "name": "stdout",
     "output_type": "stream",
     "text": [
      "ans =\n"
     ]
    },
    {
     "name": "stdout",
     "output_type": "stream",
     "text": [
      "0\n"
     ]
    }
   ],
   "source": [
    "laplace(-u0(-t))"
   ]
  },
  {
   "cell_type": "code",
   "execution_count": 7,
   "id": "fee0381e",
   "metadata": {
    "slideshow": {
     "slide_type": "fragment"
    }
   },
   "outputs": [
    {
     "name": "stdout",
     "output_type": "stream",
     "text": [
      "ans =\n"
     ]
    },
    {
     "name": "stdout",
     "output_type": "stream",
     "text": [
      "1/s\n"
     ]
    }
   ],
   "source": [
    "assume(real(s) < 0)\n",
    "int(-u0(-t)*exp(-s*t),t,-inf,0)"
   ]
  },
  {
   "cell_type": "markdown",
   "id": "e9840c72",
   "metadata": {
    "slideshow": {
     "slide_type": "subslide"
    }
   },
   "source": [
    "### Unit ramp $u_1(t)=tu_0(t)$"
   ]
  },
  {
   "cell_type": "code",
   "execution_count": 8,
   "id": "c1bb2d17",
   "metadata": {
    "slideshow": {
     "slide_type": "fragment"
    }
   },
   "outputs": [
    {
     "name": "stdout",
     "output_type": "stream",
     "text": [
      "ans =\n"
     ]
    },
    {
     "name": "stdout",
     "output_type": "stream",
     "text": [
      "1/s^2\n"
     ]
    }
   ],
   "source": [
    "laplace(t*u0(t))"
   ]
  },
  {
   "cell_type": "markdown",
   "id": "e13586cc",
   "metadata": {
    "slideshow": {
     "slide_type": "subslide"
    }
   },
   "source": [
    "### Powers of $t$"
   ]
  },
  {
   "cell_type": "code",
   "execution_count": 9,
   "id": "4b7b7d91",
   "metadata": {
    "slideshow": {
     "slide_type": "fragment"
    }
   },
   "outputs": [
    {
     "name": "stdout",
     "output_type": "stream",
     "text": [
      "ans =\n"
     ]
    },
    {
     "name": "stdout",
     "output_type": "stream",
     "text": [
      "gamma(n + 1)/s^(n + 1)\n"
     ]
    }
   ],
   "source": [
    "syms n integer\n",
    "assume(n > 1)\n",
    "laplace(t^n*u0(t))"
   ]
  },
  {
   "cell_type": "markdown",
   "id": "575bf6ab",
   "metadata": {
    "slideshow": {
     "slide_type": "subslide"
    }
   },
   "source": [
    "### Exponentials"
   ]
  },
  {
   "cell_type": "code",
   "execution_count": 10,
   "id": "cfcf754c",
   "metadata": {
    "slideshow": {
     "slide_type": "fragment"
    }
   },
   "outputs": [
    {
     "name": "stdout",
     "output_type": "stream",
     "text": [
      "ans =\n"
     ]
    },
    {
     "name": "stdout",
     "output_type": "stream",
     "text": [
      "1/(a + s)\n"
     ]
    }
   ],
   "source": [
    "laplace(exp(-a*t)*u0(t))"
   ]
  },
  {
   "cell_type": "code",
   "execution_count": 11,
   "id": "353e7c4d",
   "metadata": {
    "slideshow": {
     "slide_type": "fragment"
    }
   },
   "outputs": [
    {
     "name": "stdout",
     "output_type": "stream",
     "text": [
      "ans =\n"
     ]
    },
    {
     "name": "stdout",
     "output_type": "stream",
     "text": [
      "0\n"
     ]
    }
   ],
   "source": [
    "laplace(-exp(-a*t)*u0(-t))"
   ]
  },
  {
   "cell_type": "markdown",
   "id": "0f3ede49",
   "metadata": {
    "slideshow": {
     "slide_type": "subslide"
    }
   },
   "source": [
    "Defining the ROC and using `int`"
   ]
  },
  {
   "cell_type": "code",
   "execution_count": 12,
   "id": "d5c618c3",
   "metadata": {
    "slideshow": {
     "slide_type": "fragment"
    }
   },
   "outputs": [
    {
     "name": "stdout",
     "output_type": "stream",
     "text": [
      "ans =\n"
     ]
    },
    {
     "name": "stdout",
     "output_type": "stream",
     "text": [
      "1/(a + s)\n"
     ]
    }
   ],
   "source": [
    "assume(s + a < 0)\n",
    "int(-exp(-a*t)*u0(-t)*exp(-s*t),t,-inf,0)"
   ]
  },
  {
   "cell_type": "code",
   "execution_count": 13,
   "id": "c63d3d41",
   "metadata": {
    "slideshow": {
     "slide_type": "subslide"
    }
   },
   "outputs": [
    {
     "name": "stdout",
     "output_type": "stream",
     "text": [
      "ans =\n"
     ]
    },
    {
     "name": "stdout",
     "output_type": "stream",
     "text": [
      "1/(a + s)^2\n"
     ]
    }
   ],
   "source": [
    "laplace(t*exp(-a*t)*u0(t))"
   ]
  },
  {
   "cell_type": "code",
   "execution_count": 14,
   "id": "fb018eed",
   "metadata": {
    "slideshow": {
     "slide_type": "fragment"
    }
   },
   "outputs": [
    {
     "name": "stdout",
     "output_type": "stream",
     "text": [
      "ans =\n"
     ]
    },
    {
     "name": "stdout",
     "output_type": "stream",
     "text": [
      "piecewise(0 <= n, gamma(n + 1)/(a + s)^(n + 1))\n"
     ]
    }
   ],
   "source": [
    "syms n integer\n",
    "laplace(t^n*exp(-a*t)*u0(t))"
   ]
  },
  {
   "cell_type": "markdown",
   "id": "1d33b0e3",
   "metadata": {
    "slideshow": {
     "slide_type": "subslide"
    }
   },
   "source": [
    "### Sinusoids"
   ]
  },
  {
   "cell_type": "code",
   "execution_count": 15,
   "id": "4ee44702",
   "metadata": {
    "slideshow": {
     "slide_type": "fragment"
    }
   },
   "outputs": [
    {
     "name": "stdout",
     "output_type": "stream",
     "text": [
      "ans =\n"
     ]
    },
    {
     "name": "stdout",
     "output_type": "stream",
     "text": [
      "s/(omega^2 + s^2)\n"
     ]
    },
    {
     "name": "stdout",
     "output_type": "stream",
     "text": [
      "ans =\n"
     ]
    },
    {
     "name": "stdout",
     "output_type": "stream",
     "text": [
      "omega/(omega^2 + s^2)\n"
     ]
    }
   ],
   "source": [
    "laplace(cos(omega*t)*u0(t))\n",
    "laplace(sin(omega*t)*u0(t))"
   ]
  },
  {
   "cell_type": "markdown",
   "id": "87d0860b",
   "metadata": {
    "slideshow": {
     "slide_type": "subslide"
    }
   },
   "source": [
    "### Decaying sinusoids"
   ]
  },
  {
   "cell_type": "code",
   "execution_count": 16,
   "id": "6303ed96",
   "metadata": {
    "slideshow": {
     "slide_type": "fragment"
    }
   },
   "outputs": [
    {
     "name": "stdout",
     "output_type": "stream",
     "text": [
      "ans =\n"
     ]
    },
    {
     "name": "stdout",
     "output_type": "stream",
     "text": [
      "(a + s)/((a + s)^2 + omega^2)\n"
     ]
    },
    {
     "name": "stdout",
     "output_type": "stream",
     "text": [
      "ans =\n"
     ]
    },
    {
     "name": "stdout",
     "output_type": "stream",
     "text": [
      "omega/((a + s)^2 + omega^2)\n"
     ]
    }
   ],
   "source": [
    "laplace(exp(-a*t)*cos(omega*t)*u0(t))\n",
    "laplace(exp(-a*t)*sin(omega*t)*u0(t))"
   ]
  },
  {
   "cell_type": "markdown",
   "id": "204ec874",
   "metadata": {
    "slideshow": {
     "slide_type": "notes"
    }
   },
   "source": [
    "## Summary and Takeaways\n",
    "\n",
    "It is relatively easy to use the one-sided integral to compute the Laplace transform of commonly used signals. and you would be expected to be able to do this for any of the cases illustrated in this section.\n",
    "\n",
    "In practice, we use tables of transform pairs $f(t)\\Leftrightarrow F(s)$, such as that reproduced here in {ref}`lap:xform_table`. \n",
    "\n",
    "Such tables, or at least abstracts of such tables, will be provided in examinations and you will be provided with a copy of the **Tables for Examination Use** that will be used in this year's assessment via Canvas so that you can familiarise yourself with the tables as you work through the examples and exercises to come.\n",
    "\n",
    "Integrals and Laplace transform pairs can easily be confirmed using the MATLAB Symbolic Math Toolbox functions `int` and `laplace`."
   ]
  },
  {
   "cell_type": "markdown",
   "id": "df02a935",
   "metadata": {
    "nbpresent": {
     "id": "4f9f0fa3-84d5-45c3-a6fd-78f84f94388c"
    },
    "slideshow": {
     "slide_type": "slide"
    }
   },
   "source": [
    "## Next Time\n",
    "\n",
    "We move on to consider \n",
    "\n",
    "* {ref}`unit4.3`\n",
    "\n",
    "## References\n",
    "\n",
    "```{bibliography}\n",
    ":filter: docname in docnames\n",
    "```"
   ]
  }
 ],
 "metadata": {
  "jupytext": {
   "formats": "md:myst,ipynb",
   "text_representation": {
    "extension": ".md",
    "format_name": "myst",
    "format_version": 0.13,
    "jupytext_version": "1.14.4"
   }
  },
  "kernelspec": {
   "display_name": "MATLAB",
   "language": "matlab",
   "name": "imatlab"
  },
  "language_info": {
   "codemirror_mode": "octave",
   "file_extension": ".m",
   "mimetype": "text/x-matlab",
   "name": "matlab",
   "pygments_lexer": "matlab",
   "version": "9.13.0.2126072 (R2022b) Update 3"
  },
  "source_map": [
   15,
   22,
   28,
   44,
   49,
   53,
   57,
   61,
   69,
   74,
   78,
   84,
   92,
   97,
   102,
   106,
   114,
   119,
   125,
   133,
   139,
   143,
   149,
   153,
   162,
   168,
   172,
   180,
   198,
   221,
   225,
   231,
   238,
   250,
   254,
   262,
   266,
   274,
   278,
   286,
   290,
   298,
   307,
   311,
   319,
   323,
   333,
   337,
   345,
   353,
   357,
   366,
   374,
   383,
   387,
   396,
   400,
   409,
   421
  ]
 },
 "nbformat": 4,
 "nbformat_minor": 5
}