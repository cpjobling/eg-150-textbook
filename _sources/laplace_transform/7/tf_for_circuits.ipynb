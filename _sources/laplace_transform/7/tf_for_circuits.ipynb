{
 "cells": [
  {
   "cell_type": "markdown",
   "id": "68f7f035",
   "metadata": {
    "slideshow": {
     "slide_type": "slide"
    }
   },
   "source": [
    "(unit4.7)=\n",
    "# Unit 4.7: Transfer Functions for Circuit Analysis"
   ]
  },
  {
   "cell_type": "markdown",
   "id": "92f86ed6",
   "metadata": {
    "slideshow": {
     "slide_type": "notes"
    }
   },
   "source": [
    "The preparatory reading for this section is [Chapter 4.4](https://ebookcentral.proquest.com/lib/swansea-ebooks/reader.action?docID=3384197&ppg=75#ppg=113) {cite}`karris` which discusses transfer function models of electrical circuits. We have also adapted content from [3.6 The System Function](https://www.accessengineeringlibrary.com/content/book/9781260454246/toc-chapter/chapter3/section/section28) from {cite}`schaum`."
   ]
  },
  {
   "cell_type": "markdown",
   "id": "0193cccf",
   "metadata": {},
   "source": [
    "Follow along at [cpjobling.github.io/eg-150-textbook/laplace_transform/6/transfer_functions](https://cpjobling.github.io/eg-150-textbook/laplace_transform/6/transfer_functions)\n",
    "\n",
    "![QR Code for this lecture](pictures/qrcode_laplace6.png)"
   ]
  },
  {
   "cell_type": "markdown",
   "id": "e3921f9f",
   "metadata": {
    "slideshow": {
     "slide_type": "notes"
    }
   },
   "source": [
    "## Agenda\n",
    "\n",
    "* {ref}`system_function`\n",
    "\n",
    "* {ref}`char_LTI_systems`\n",
    "\n",
    "* {ref}`Transfer Functions\n",
    "\n",
    "* {ref}`circ_tf`\n",
    "\n",
    "* Circuit Analysis Using MATLAB LTI Transfer Function Block\n",
    "\n",
    "* Circuit Simulation Using Simulink Transfer Function Block"
   ]
  },
  {
   "cell_type": "code",
   "execution_count": 1,
   "id": "cb51b5c3",
   "metadata": {
    "slideshow": {
     "slide_type": "subslide"
    }
   },
   "outputs": [
    {
     "name": "stdout",
     "output_type": "stream",
     "text": [
      "\n",
      "ans =\n",
      "\n",
      "    '/Users/eechris/code/src/github.com/cpjobling/eg-150-textbook/laplace_transform/matlab'\n",
      "\n"
     ]
    }
   ],
   "source": [
    "% Initialize MATLAB\n",
    "clearvars\n",
    "cd ../matlab \n",
    "pwd\n",
    "format compact"
   ]
  },
  {
   "cell_type": "markdown",
   "id": "6ccfd58a",
   "metadata": {
    "slideshow": {
     "slide_type": "slide"
    }
   },
   "source": [
    "(system_function)=\n",
    "## The Transfer Function\n",
    "\n",
    "In {ref}`Response_of_a_Continuous_Time_LTI_System_and_the_Convolution_Integral` we showed that the output $y(t)$ of a continuous-time LTI system equals the convolution of the input $x(t)$ with the impulse response $h(t)$; that is,\n",
    "\n",
    "$$y(t) = x(t) * h(t)$$ (eq:335)"
   ]
  },
  {
   "cell_type": "markdown",
   "id": "31bd5686",
   "metadata": {
    "slideshow": {
     "slide_type": "subslide"
    }
   },
   "source": [
    "Applying the {ref}`lap3:conv` property, we obtain\n",
    "\n",
    "$$Y(s) = X(s)H(s)$$ (eq:336)\n",
    "\n",
    "where $Y(s)$, $X(s)$, and $H(s)$ are the Laplace transforms of $y(t)$, $x(t)$, and $h(t)$, respectively."
   ]
  },
  {
   "cell_type": "markdown",
   "id": "6e350c6c",
   "metadata": {
    "slideshow": {
     "slide_type": "fragment"
    }
   },
   "source": [
    "Equation {eq}`eq:336` can be expressed as\n",
    "\n",
    "$$H(s) = \\frac{Y(s)}{X(s)}$$ (eq:337)"
   ]
  },
  {
   "cell_type": "markdown",
   "id": "035873e1",
   "metadata": {
    "slideshow": {
     "slide_type": "subslide"
    }
   },
   "source": [
    "The laplace transform $H(s)$ of $h(t)$ is called the *transfer function* (or *system function*) of the system."
   ]
  },
  {
   "cell_type": "markdown",
   "id": "911c62e0",
   "metadata": {
    "slideshow": {
     "slide_type": "fragment"
    }
   },
   "source": [
    "By {eq}`eq:337`, the transfer function $H(s)$ can also be defined as the ratio of the Laplace transforms of the output $y(t)$ and the input $x(t)$."
   ]
  },
  {
   "cell_type": "markdown",
   "id": "1a9eff74",
   "metadata": {
    "slideshow": {
     "slide_type": "fragment"
    }
   },
   "source": [
    "The transfer function $H(s)$ completely characterizes the system because the impulse response $h(t)$ completely characterizes the system."
   ]
  },
  {
   "cell_type": "markdown",
   "id": "802a81c5",
   "metadata": {
    "slideshow": {
     "slide_type": "subslide"
    }
   },
   "source": [
    "{numref}`fig:3-7` illustrates the relationship of Equations {ex}`eq:335` and {ex}`eq:336`.\n",
    "\n",
    ":::{figure-md} fig:3-7\n",
    "<img src=\"pictures/system_function.png\" alt=\"Impulse response and system function.\" width=\"60%\">\n",
    "\n",
    "Impulse response and system function\n",
    ":::"
   ]
  },
  {
   "cell_type": "markdown",
   "id": "80310649",
   "metadata": {
    "slideshow": {
     "slide_type": "notes"
    }
   },
   "source": [
    "(char_LTI_systems)=\n",
    "## Characterization of LTI Systems\n",
    "\n",
    "```{note}\n",
    "This section is for reference only and is not examinable.\n",
    "```\n",
    "\n",
    "Many properties of continuous-time LTI systems can be closely associated with the characteristics of $H(s)$ in the $s$-plane and in particular with the pole locations and the region of convergence (ROC).\n",
    "\n",
    "(hs_casuality)=\n",
    "### Causality\n",
    "\n",
    "Fot a causal continuous-time LTI system, we have\n",
    "\n",
    "$$h(t) = 0\\qquad t<0$$\n",
    "\n",
    "Since $h(t)$ is a right-sided signal, the corresponding requirement on $H(s)$ is that the ROC of $H(s)$ must be of the form\n",
    "\n",
    "$$\\mathrm{Re}(s) > \\sigma_\\mathrm{max}$$\n",
    "\n",
    "That is, the ROC is the region in the $s$-plane to the right of all the system poles. Similarly, if the system is anticausal, then\n",
    "\n",
    "$$h(t) = 0\\qquad t>0$$\n",
    "\n",
    "and $h(t)$ is left-sided. Thus, the ROC of $H(s)$ must be of the form \n",
    "\n",
    "$$\\mathrm{Re}(s) < \\sigma_\\mathrm{max}$$\n",
    "\n",
    "That is, the ROC is the region in the $s$-plane to the left of all the system poles.\n",
    "\n",
    "(hs_stability)=\n",
    "### Stability\n",
    "\n",
    "In {ref}`c_Stability` we stated that a continuous-time LTI system is BIBO stable if and only if [Eq. {eq}`eq:221`]\n",
    "\n",
    "$$\\int_{-\\infty}^{\\infty}\\left|h(\\tau)\\right|\\,d\\tau \\lt \\infty$$\n",
    "\n",
    "The corresponding requirement on $H(s)$ is that the ROC of $H(s)$ contains the $j\\omega$ axis (that is $s = j\\omega). This is key result, proved in Prob. 3.26 in {ref}`schaum`, that is fundamental to systems and control theory. \n",
    "\n",
    "(hs_causal_and_stable)=\n",
    "### Causal and stable systems\n",
    "If a system is both causal and stable then all the poles must be in the left-half of the $s$-plane: that is they all have negative real parts because the ROC is of the form $\\mathrm{Re}(s) > \\sigma_\\mathrm{max}$ and since the $j\\omega$ axis is included in the ROC, we must have $\\sigma_\\mathrm{max} < 0$.\n",
    "\n",
    "The conditions for which the closed-loop poles in continuous-time LTI systems with feedback are stable is a key underlyting principle of the control theory to be studied in **EG-243 Control Systems** next year."
   ]
  },
  {
   "cell_type": "markdown",
   "id": "d847e601",
   "metadata": {
    "slideshow": {
     "slide_type": "slide"
    }
   },
   "source": [
    "(tf_for_LCCODE)=\n",
    "\n",
    "## Transfer functions for LTI system described by Linear Constant-Coefficient Ordinary Differential Equations\n",
    "\n",
    "In {ref}`Systems_Described_by_Differential_Equations` we considered a continuous-time LTI systemfor which input $x(t)$ and $y(t)$ satisfy the general linear constant-coefficient ordinary differential equation (LCCODE) of the form\n",
    "\n",
    "$$\\sum_{k=0}^N a_k \\frac{d^k}{dt^k} y(t)=\\sum_{k=0}^M b_k \\frac{d^k}{dt^k} x(t)$$ (eq:338)\n",
    "\n",
    "Applying the Laplace transform and using the {ref}`lap:diff_prop`"
   ]
  },
  {
   "cell_type": "markdown",
   "id": "f56710ad",
   "metadata": {
    "slideshow": {
     "slide_type": "slide"
    }
   },
   "source": [
    "(circ_tf)=\n",
    "## Transfer Functions for Circuits\n",
    "\n",
    "When doing circuit analysis with components defined in the complex frequency domain, the ratio of the output voltage $V_{\\mathrm{out}}(s)$ to the input voltage $V_{\\mathrm{in}}(s)$ *under zero initial conditions* is of great interest."
   ]
  },
  {
   "cell_type": "markdown",
   "id": "a0b0fa8f",
   "metadata": {
    "slideshow": {
     "slide_type": "subslide"
    }
   },
   "source": [
    "This ratio is known as the *voltage transfer function* denoted $G_v(s)$:"
   ]
  },
  {
   "cell_type": "markdown",
   "id": "0a520960",
   "metadata": {
    "slideshow": {
     "slide_type": "fragment"
    }
   },
   "source": [
    "$$G_v(s) = \\frac{V_{\\mathrm{out}}(s)}{V_{\\mathrm{in}}(s)}$$"
   ]
  },
  {
   "cell_type": "markdown",
   "id": "9436752f",
   "metadata": {
    "slideshow": {
     "slide_type": "subslide"
    }
   },
   "source": [
    "Similarly, the ratio of the output current $I_{\\mathrm{out}}(s)$ to the input current $I_{\\mathrm{in}}(s)$ *under zero initial conditions*, is called the *cuurent transfer function* denoted $G_i(s)$:"
   ]
  },
  {
   "cell_type": "markdown",
   "id": "f278137c",
   "metadata": {
    "slideshow": {
     "slide_type": "fragment"
    }
   },
   "source": [
    "$$G_i(s) = \\frac{I_{\\mathrm{out}}(s)}{I_{\\mathrm{in}}(s)}$$"
   ]
  },
  {
   "cell_type": "markdown",
   "id": "f550f29f",
   "metadata": {
    "slideshow": {
     "slide_type": "notes"
    }
   },
   "source": [
    "In practice, the current transfer function is rarely used, so we will use the voltage transfer function denoted:\n",
    "\n",
    "$$G(s) = \\frac{V_{\\mathrm{out}}(s)}{V_{\\mathrm{in}}(s)}$$"
   ]
  },
  {
   "cell_type": "markdown",
   "id": "09afdc69",
   "metadata": {
    "slideshow": {
     "slide_type": "slide"
    }
   },
   "source": [
    "## Examples\n",
    "\n",
    "See [Worksheet 7](worksheet7) for the worked solutions to the examples. We will work through these in class. Here I'll demonstrate the MATLAB solutions."
   ]
  },
  {
   "cell_type": "markdown",
   "id": "10a9f00e",
   "metadata": {
    "slideshow": {
     "slide_type": "subslide"
    }
   },
   "source": [
    "### Example 6\n",
    "\n",
    "Derive an expression for the transfer function $G(s)$ for the circuit below. In this circuit $R_g$ represents the internal resistance of the applied (voltage) source $v_s$, and $R_L$ represents the resistance of the load that consists of $R_L$, $L$ and $C$."
   ]
  },
  {
   "cell_type": "markdown",
   "id": "f8f10ac8",
   "metadata": {
    "slideshow": {
     "slide_type": "subslide"
    }
   },
   "source": [
    "<img title=\"Circuit for Example 6\" src=\"pictures/example6.png\" width=\"50%\" />"
   ]
  },
  {
   "cell_type": "markdown",
   "id": "006da2da",
   "metadata": {
    "slideshow": {
     "slide_type": "subslide"
    }
   },
   "source": [
    "### Sketch of Solution"
   ]
  },
  {
   "cell_type": "markdown",
   "id": "02b01aa4",
   "metadata": {
    "slideshow": {
     "slide_type": "fragment"
    }
   },
   "source": [
    "* Replace $v_s(t)$, $R_g$, $R_L$, $L$ and $C$ by their transformed (*complex frequency*) equivalents: $V_s(s)$, $R_g$, $R_L$, $sL$ and $1/(sC)$"
   ]
  },
  {
   "cell_type": "markdown",
   "id": "4771d47c",
   "metadata": {
    "slideshow": {
     "slide_type": "fragment"
    }
   },
   "source": [
    "* Use the *Voltage Divider Rule* to determine $V_\\mathrm{out}(s)$ as a function of $V_s(s)$"
   ]
  },
  {
   "cell_type": "markdown",
   "id": "470c405a",
   "metadata": {
    "slideshow": {
     "slide_type": "subslide"
    }
   },
   "source": [
    "* Form $G(s)$ by writing down the ratio $V_\\mathrm{out}(s)/V_s(s)$"
   ]
  },
  {
   "cell_type": "markdown",
   "id": "f14086d5",
   "metadata": {
    "slideshow": {
     "slide_type": "notes"
    }
   },
   "source": [
    "### Worked solution.\n",
    "\n",
    "Pencast: [ex6.pdf](https://cpjobling.github.io/eg-247-textbook/laplace_transform/worked_examples/ex6.pdf) - open in Adobe Acrobat Reader."
   ]
  },
  {
   "cell_type": "markdown",
   "id": "849c8891",
   "metadata": {
    "slideshow": {
     "slide_type": "subslide"
    }
   },
   "source": [
    "### Answer\n",
    "\n",
    "$$G(s) = \\frac{V_\\mathrm{out}(s)}{V_s(s)} = \\frac{R_L + sL + 1/sC}{R_g + R_L + sL + 1/sC}.$$"
   ]
  },
  {
   "cell_type": "markdown",
   "id": "a4857c64",
   "metadata": {
    "slideshow": {
     "slide_type": "subslide"
    }
   },
   "source": [
    "### Example 7\n",
    "\n",
    "Compute the transfer function for the op-amp circuit shown below in terms of the circuit constants $R_1$, $R_2$, $R_3$, $C_1$ and $C_2$."
   ]
  },
  {
   "cell_type": "markdown",
   "id": "4f46210f",
   "metadata": {
    "slideshow": {
     "slide_type": "subslide"
    }
   },
   "source": [
    "<img alt=\"Circuit for Example 7\" src=\"pictures/example7.png\" width=\"50%\" />"
   ]
  },
  {
   "cell_type": "markdown",
   "id": "3c4872b8",
   "metadata": {
    "slideshow": {
     "slide_type": "subslide"
    }
   },
   "source": [
    "Then replace the complex variable $s$ with $j\\omega$, and the circuit constants with their numerical values and plot the magnitude\n",
    "\n",
    "$$\\left|G(j\\omega)\\right| = \\frac{\\left|V_{\\mathrm{out}}(j\\omega)\\right|}{\\left|V_{\\mathrm{in}}(j\\omega)\\right|}$$\n",
    "\n",
    "versus radian frequency $\\omega$ rad/s."
   ]
  },
  {
   "cell_type": "markdown",
   "id": "80161bf4",
   "metadata": {
    "slideshow": {
     "slide_type": "subslide"
    }
   },
   "source": [
    "### Sketch of Solution"
   ]
  },
  {
   "cell_type": "markdown",
   "id": "fd83aa4b",
   "metadata": {
    "slideshow": {
     "slide_type": "fragment"
    }
   },
   "source": [
    "* Replace the components and voltages in the circuit diagram with their complex frequency equivalents"
   ]
  },
  {
   "cell_type": "markdown",
   "id": "5b4b5031",
   "metadata": {
    "slideshow": {
     "slide_type": "fragment"
    }
   },
   "source": [
    "* Use nodal analysis to determine the voltages at the nodes either side of the 50K resistor $R_3$"
   ]
  },
  {
   "cell_type": "markdown",
   "id": "3db1d74a",
   "metadata": {
    "slideshow": {
     "slide_type": "subslide"
    }
   },
   "source": [
    "* Note that the voltage at the input to the op-amp is a virtual ground"
   ]
  },
  {
   "cell_type": "markdown",
   "id": "35686736",
   "metadata": {
    "slideshow": {
     "slide_type": "fragment"
    }
   },
   "source": [
    "* Solve for $V_{\\mathrm{out}}(s)$ as a function of $V_{\\mathrm{in}}(s)$"
   ]
  },
  {
   "cell_type": "markdown",
   "id": "4fd37ae8",
   "metadata": {
    "slideshow": {
     "slide_type": "fragment"
    }
   },
   "source": [
    "* Form the reciprocal $G(s) = V_{\\mathrm{out}}(s)/V_{\\mathrm{in}}(s)$"
   ]
  },
  {
   "cell_type": "markdown",
   "id": "66b417ca",
   "metadata": {
    "slideshow": {
     "slide_type": "subslide"
    }
   },
   "source": [
    "* Use MATLAB to calculate the component values, then replace $s$ by $j\\omega$."
   ]
  },
  {
   "cell_type": "markdown",
   "id": "6209d525",
   "metadata": {
    "slideshow": {
     "slide_type": "fragment"
    }
   },
   "source": [
    "* Plot on log-linear \"paper\":\n",
    "\n",
    "$$\\left|G(j\\omega)\\right|$$"
   ]
  },
  {
   "cell_type": "markdown",
   "id": "14197002",
   "metadata": {
    "slideshow": {
     "slide_type": "notes"
    }
   },
   "source": [
    "### Worked solution.\n",
    "\n",
    "Pencast: [ex7.pdf](https://cpjobling.github.io/eg-247-textbook/laplace_transform/worked_examples/ex7.pdf) - open in Adobe Acrobat Reader."
   ]
  },
  {
   "cell_type": "markdown",
   "id": "6f7dfa08",
   "metadata": {
    "slideshow": {
     "slide_type": "subslide"
    }
   },
   "source": [
    "### Answer\n",
    "\n",
    "$$G(s) = \\frac{V_\\mathrm{out}(s)}{V_\\mathrm{in}(s)} = \\frac{-1}{R_1\\left(\\left(1/R_1 + 1/R_2 + 1/R_3 + sC_1\\right)\\left(sC_2R_3\\right)+1/R_2\\right)}.$$"
   ]
  },
  {
   "cell_type": "markdown",
   "id": "489239fa",
   "metadata": {
    "slideshow": {
     "slide_type": "subslide"
    }
   },
   "source": [
    "### The Matlab Bit\n",
    "\n",
    "See attached script: [solution7.m](https://cpjobling.github.io/eg-247-textbook/laplace_transform/matlab/solution7.m)."
   ]
  },
  {
   "cell_type": "markdown",
   "id": "fb2d7751",
   "metadata": {
    "slideshow": {
     "slide_type": "subslide"
    }
   },
   "source": [
    "#### Week 3: Solution 7"
   ]
  },
  {
   "cell_type": "code",
   "execution_count": 2,
   "id": "906487b3",
   "metadata": {
    "slideshow": {
     "slide_type": "fragment"
    }
   },
   "outputs": [],
   "source": [
    "syms s;"
   ]
  },
  {
   "cell_type": "code",
   "execution_count": 3,
   "id": "738847c7",
   "metadata": {
    "slideshow": {
     "slide_type": "subslide"
    }
   },
   "outputs": [],
   "source": [
    "R1 = 200*10^3; \n",
    "R2 = 40*10^3;\n",
    "R3 = 50*10^3;\n",
    "\n",
    "C1 = 25*10^(-9);\n",
    "C2 = 10*10^(-9);"
   ]
  },
  {
   "cell_type": "code",
   "execution_count": 4,
   "id": "99f90bd4",
   "metadata": {
    "slideshow": {
     "slide_type": "subslide"
    }
   },
   "outputs": [
    {
     "name": "stdout",
     "output_type": "stream",
     "text": [
      "ans =\n"
     ]
    },
    {
     "name": "stdout",
     "output_type": "stream",
     "text": [
      "100*s*((7555786372591433*s)/302231454903657293676544 + 1/20000) + 5\n"
     ]
    }
   ],
   "source": [
    "den = R1*((1/R1+ 1/R2 + 1/R3 + s*C1)*(s*R3*C2) + 1/R2);\n",
    "simplify(den)"
   ]
  },
  {
   "cell_type": "markdown",
   "id": "ec5041e8",
   "metadata": {
    "slideshow": {
     "slide_type": "subslide"
    }
   },
   "source": [
    "Simplify coefficients of s in denominator"
   ]
  },
  {
   "cell_type": "code",
   "execution_count": 5,
   "id": "6a012bf0",
   "metadata": {
    "slideshow": {
     "slide_type": "subslide"
    }
   },
   "outputs": [
    {
     "name": "stdout",
     "output_type": "stream",
     "text": [
      "denG =\n",
      "   0.000002500000000   0.005000000000000   5.000000000000000\n"
     ]
    }
   ],
   "source": [
    "format long\n",
    "denG = sym2poly(ans)"
   ]
  },
  {
   "cell_type": "code",
   "execution_count": 6,
   "id": "fa7780c6",
   "metadata": {
    "slideshow": {
     "slide_type": "subslide"
    }
   },
   "outputs": [],
   "source": [
    "numG = -1;"
   ]
  },
  {
   "cell_type": "markdown",
   "id": "5880c293",
   "metadata": {
    "slideshow": {
     "slide_type": "subslide"
    }
   },
   "source": [
    "Plot\n",
    "\n",
    "For convenience, define coefficients $a$ and $b$:"
   ]
  },
  {
   "cell_type": "code",
   "execution_count": 7,
   "id": "c356e4b7",
   "metadata": {
    "slideshow": {
     "slide_type": "fragment"
    }
   },
   "outputs": [],
   "source": [
    "a = denG(1);\n",
    "b = denG(2);"
   ]
  },
  {
   "cell_type": "markdown",
   "id": "5fb0b505",
   "metadata": {
    "slideshow": {
     "slide_type": "subslide"
    }
   },
   "source": [
    "$$G(j\\omega) = \\frac{-1}{a\\omega^2 - jb\\omega + 5}$$"
   ]
  },
  {
   "cell_type": "code",
   "execution_count": 8,
   "id": "1af7818e",
   "metadata": {
    "slideshow": {
     "slide_type": "fragment"
    }
   },
   "outputs": [],
   "source": [
    "w = 1:10:10000;\n",
    "Gs = -1./(a*w.^2 - j.*b.*w + denG(3));"
   ]
  },
  {
   "cell_type": "markdown",
   "id": "6b3409a1",
   "metadata": {
    "slideshow": {
     "slide_type": "subslide"
    }
   },
   "source": [
    "Plot"
   ]
  },
  {
   "cell_type": "code",
   "execution_count": 9,
   "id": "480a5b18",
   "metadata": {
    "slideshow": {
     "slide_type": "fragment"
    }
   },
   "outputs": [
    {
     "data": {
      "image/png": "[encoded data removed]",
      "text/plain": [
       "<IPython.core.display.Image object>"
      ]
     },
     "metadata": {
      "filenames": {
       "image/png": "/Users/eechris/code/src/github.com/cpjobling/eg-150-textbook/_build/jupyter_execute/laplace_transform/7/tf_for_circuits_55_0.png"
      }
     },
     "output_type": "display_data"
    }
   ],
   "source": [
    "semilogx(w, abs(Gs))\n",
    "xlabel('Radian frequency w (rad/s')\n",
    "ylabel('|Vout/Vin|')\n",
    "title('Magnitude Vout/Vin vs. Radian Frequency')\n",
    "grid"
   ]
  },
  {
   "cell_type": "markdown",
   "id": "c965ee5c",
   "metadata": {
    "slideshow": {
     "slide_type": "slide"
    }
   },
   "source": [
    "## Using Transfer Functions in MATLAB for System Analysis\n",
    "\n",
    "Please use the file [tf_matlab.m](https://cpjobling.github.io/eg-247-textbook/laplace_transform/matlab/tf_matlab.m) to explore the Transfer Function features provide by MATLAB. Open the file as a Live Script to see a nicely formatted document."
   ]
  },
  {
   "cell_type": "markdown",
   "id": "6ad183ff",
   "metadata": {
    "slideshow": {
     "slide_type": "slide"
    }
   },
   "source": [
    "## Using Transfer Functions in Simulink for System Simulation"
   ]
  },
  {
   "cell_type": "markdown",
   "id": "8ed4deeb",
   "metadata": {
    "slideshow": {
     "slide_type": "fragment"
    }
   },
   "source": [
    "![Using Transfer Functions in Simulink for System Simulation](pictures/sim_tf.png)"
   ]
  },
  {
   "cell_type": "markdown",
   "id": "c3bb55e5",
   "metadata": {
    "slideshow": {
     "slide_type": "fragment"
    }
   },
   "source": [
    "The Simulink transfer function (**`Transfer Fcn`**) block implements a transfer function"
   ]
  },
  {
   "cell_type": "markdown",
   "id": "7fea1c0d",
   "metadata": {
    "slideshow": {
     "slide_type": "subslide"
    }
   },
   "source": [
    "The transfer function block represents a general input output function\n",
    "\n",
    "$$G(s) = \\frac{N(s)}{D(s)}$$\n",
    "\n",
    "and is not specific nor restricted to circuit analysis."
   ]
  },
  {
   "cell_type": "markdown",
   "id": "cb15c8bc",
   "metadata": {
    "slideshow": {
     "slide_type": "fragment"
    }
   },
   "source": [
    "It can, however be used in modelling and simulation studies."
   ]
  },
  {
   "cell_type": "markdown",
   "id": "63e1ea87",
   "metadata": {
    "slideshow": {
     "slide_type": "slide"
    }
   },
   "source": [
    "### Example\n",
    "\n",
    "Recast Example 7 as a MATLAB problem using the LTI Transfer Function block. \n",
    "\n",
    "For simplicity use parameters $R_1 = R_2 = R_3 = 1\\; \\Omega$, and $C_1 = C_2 = 1$ F.\n",
    "\n",
    "Calculate the step response using the LTI functions."
   ]
  },
  {
   "cell_type": "markdown",
   "id": "5ea3d6c8",
   "metadata": {
    "slideshow": {
     "slide_type": "subslide"
    }
   },
   "source": [
    "Verify the result with Simulink.\n",
    "\n",
    "The Matlab solution: [example8.m](https://cpjobling.github.io/eg-247-textbook/laplace_transform/matlab/example8.m)"
   ]
  },
  {
   "cell_type": "markdown",
   "id": "a04dd0bd",
   "metadata": {
    "slideshow": {
     "slide_type": "subslide"
    }
   },
   "source": [
    "#### MATLAB Solution\n",
    "From a previous analysis the transfer function is:\n",
    "\n",
    "$$G(s) = \\frac{V_\\mathrm{out}}{V_\\mathrm{in}} = \\frac{-1}{R_1\\left[(1/R_1 + 1/R_2 + 1/R_3 + sC_1)(sR_3C_2) + 1/R_2\\right]}$$"
   ]
  },
  {
   "cell_type": "markdown",
   "id": "2ded3145",
   "metadata": {
    "slideshow": {
     "slide_type": "subslide"
    }
   },
   "source": [
    "so substituting the component values we get:\n",
    "\n",
    "$$G(s) = \\frac{V_{\\mathrm{out}}}{V_{\\mathrm{in}}} = \\frac{-1}{s^2 + 3s + 1}$$"
   ]
  },
  {
   "cell_type": "markdown",
   "id": "3790a3bb",
   "metadata": {
    "slideshow": {
     "slide_type": "subslide"
    }
   },
   "source": [
    "We can find the step response by letting $v_{\\mathrm{in}}(t) = u_0(t)$ so that\n",
    "$V_{\\mathrm{in}}(s)=1/s$ then \n",
    "\n",
    "$$V_{\\mathrm{out}}(s) = \\frac{-1}{s^2 + 3s + 1}.\\frac{1}{s}$$"
   ]
  },
  {
   "cell_type": "markdown",
   "id": "992561a3",
   "metadata": {
    "slideshow": {
     "slide_type": "subslide"
    }
   },
   "source": [
    "We can solve this by partial fraction expansion and inverse Laplace transform\n",
    "as is done in the text book with the help of MATLAB's `residue` function.\n",
    "\n",
    "Here, however we'll use the LTI block."
   ]
  },
  {
   "cell_type": "markdown",
   "id": "5828b5b6",
   "metadata": {
    "slideshow": {
     "slide_type": "subslide"
    }
   },
   "source": [
    "Define the circuit as a transfer function"
   ]
  },
  {
   "cell_type": "code",
   "execution_count": 10,
   "id": "f650f2f5",
   "metadata": {
    "slideshow": {
     "slide_type": "fragment"
    }
   },
   "outputs": [
    {
     "name": "stdout",
     "output_type": "stream",
     "text": [
      "\n",
      "G =\n"
     ]
    },
    {
     "name": "stdout",
     "output_type": "stream",
     "text": [
      " \n"
     ]
    },
    {
     "name": "stdout",
     "output_type": "stream",
     "text": [
      "       -1\n"
     ]
    },
    {
     "name": "stdout",
     "output_type": "stream",
     "text": [
      "  -------------\n"
     ]
    },
    {
     "name": "stdout",
     "output_type": "stream",
     "text": [
      "  s^2 + 3 s + 1\n"
     ]
    },
    {
     "name": "stdout",
     "output_type": "stream",
     "text": [
      " \n"
     ]
    },
    {
     "name": "stdout",
     "output_type": "stream",
     "text": [
      "Continuous-time transfer function.\n",
      "\n"
     ]
    }
   ],
   "source": [
    "G = tf([-1],[1 3 1])"
   ]
  },
  {
   "cell_type": "markdown",
   "id": "b20b5b18",
   "metadata": {
    "slideshow": {
     "slide_type": "subslide"
    }
   },
   "source": [
    "step response is then:"
   ]
  },
  {
   "cell_type": "code",
   "execution_count": 11,
   "id": "7c208ef6",
   "metadata": {
    "slideshow": {
     "slide_type": "fragment"
    }
   },
   "outputs": [
    {
     "data": {
      "image/png": "[encoded data removed]",
      "text/plain": [
       "<IPython.core.display.Image object>"
      ]
     },
     "metadata": {
      "filenames": {
       "image/png": "/Users/eechris/code/src/github.com/cpjobling/eg-150-textbook/_build/jupyter_execute/laplace_transform/7/tf_for_circuits_71_0.png"
      }
     },
     "output_type": "display_data"
    }
   ],
   "source": [
    "step(G)"
   ]
  },
  {
   "cell_type": "markdown",
   "id": "8a516307",
   "metadata": {
    "slideshow": {
     "slide_type": "notes"
    }
   },
   "source": [
    "Simples!"
   ]
  },
  {
   "cell_type": "markdown",
   "id": "d27523c6",
   "metadata": {
    "slideshow": {
     "slide_type": "subslide"
    }
   },
   "source": [
    "#### Simulink model\n",
    "\n",
    "See [example_8.slx](https://cpjobling.github.io/eg-247-textbook/laplace_transform/matlab/example_8.slx)"
   ]
  },
  {
   "cell_type": "code",
   "execution_count": 12,
   "id": "c9a3c259",
   "metadata": {
    "slideshow": {
     "slide_type": "fragment"
    }
   },
   "outputs": [],
   "source": [
    "open example_8"
   ]
  },
  {
   "cell_type": "markdown",
   "id": "403bcef7",
   "metadata": {
    "slideshow": {
     "slide_type": "notes"
    }
   },
   "source": [
    "![Simulink model](pictures/ex8_sim.png)"
   ]
  },
  {
   "cell_type": "markdown",
   "id": "91b894a3",
   "metadata": {
    "slideshow": {
     "slide_type": "notes"
    }
   },
   "source": [
    "Result\n",
    "\n",
    "![Simulation result](pictures/ex8_sim_result.png)"
   ]
  },
  {
   "cell_type": "markdown",
   "id": "6b0d9524",
   "metadata": {
    "slideshow": {
     "slide_type": "subslide"
    }
   },
   "source": [
    "Let's go a bit further by finding the frequency response:"
   ]
  },
  {
   "cell_type": "code",
   "execution_count": 13,
   "id": "45ab47ee",
   "metadata": {
    "slideshow": {
     "slide_type": "subslide"
    }
   },
   "outputs": [
    {
     "data": {
      "image/png": "[encoded data removed]",
      "text/plain": [
       "<IPython.core.display.Image object>"
      ]
     },
     "metadata": {
      "filenames": {
       "image/png": "/Users/eechris/code/src/github.com/cpjobling/eg-150-textbook/_build/jupyter_execute/laplace_transform/7/tf_for_circuits_78_0.png"
      }
     },
     "output_type": "display_data"
    }
   ],
   "source": [
    "bode(G)"
   ]
  },
  {
   "cell_type": "markdown",
   "id": "995d9d4c",
   "metadata": {},
   "source": [
    "## Reference \n",
    "\n",
    "See [Bibliography](/zbib).\n",
    "\n",
    "## Agenda\n",
    "\n",
    "* Transfer Functions"
   ]
  },
  {
   "cell_type": "markdown",
   "id": "a1bba7c7",
   "metadata": {
    "slideshow": {
     "slide_type": "fragment"
    }
   },
   "source": [
    "* A Couple of Examples"
   ]
  },
  {
   "cell_type": "markdown",
   "id": "dc3bb56f",
   "metadata": {
    "slideshow": {
     "slide_type": "fragment"
    }
   },
   "source": [
    "* Circuit Analysis Using MATLAB LTI Transfer Function Block"
   ]
  },
  {
   "cell_type": "markdown",
   "id": "525d3031",
   "metadata": {
    "slideshow": {
     "slide_type": "fragment"
    }
   },
   "source": [
    "* Circuit Simulation Using Simulink Transfer Function Block"
   ]
  },
  {
   "cell_type": "code",
   "execution_count": 14,
   "id": "2a578c4e",
   "metadata": {
    "slideshow": {
     "slide_type": "skip"
    },
    "tags": [
     "remove-output"
    ]
   },
   "outputs": [
    {
     "name": "stdout",
     "output_type": "stream",
     "text": [
      "ans =\n",
      "    '/Users/eechris/code/src/github.com/cpjobling/eg-150-textbook/laplace_transform/matlab'\n"
     ]
    }
   ],
   "source": [
    "% Matlab setup\n",
    "clear all\n",
    "cd ../matlab \n",
    "pwd\n",
    "format compact"
   ]
  },
  {
   "cell_type": "markdown",
   "id": "7110009f",
   "metadata": {
    "slideshow": {
     "slide_type": "slide"
    }
   },
   "source": [
    "## Transfer Functions for Circuits"
   ]
  },
  {
   "cell_type": "markdown",
   "id": "8dcc4621",
   "metadata": {
    "slideshow": {
     "slide_type": "subslide"
    }
   },
   "source": [
    "### Example 6\n",
    "\n",
    "Derive an expression for the transfer function $G(s)$ for the circuit below. In this circuit $R_g$ represents the internal resistance of the applied (voltage) source $v_s$, and $R_L$ represents the resistance of the load that consists of $R_L$, $L$ and $C$."
   ]
  },
  {
   "cell_type": "markdown",
   "id": "60c5d991",
   "metadata": {
    "slideshow": {
     "slide_type": "subslide"
    }
   },
   "source": [
    "<img title=\"Circuit for Example 6\" src=\"pictures/example6.png\" width=\"50%\" />"
   ]
  },
  {
   "cell_type": "markdown",
   "id": "35c2820a",
   "metadata": {
    "slideshow": {
     "slide_type": "notes"
    }
   },
   "source": [
    "<pre style=\"border: 2px solid blue\">\n",
    "\n",
    "\n",
    "\n",
    "\n",
    "\n",
    "\n",
    "\n",
    "\n",
    "\n",
    "\n",
    "\n",
    "\n",
    "\n",
    "\n",
    "\n",
    "</pre>"
   ]
  },
  {
   "cell_type": "markdown",
   "id": "6c4e0d15",
   "metadata": {
    "slideshow": {
     "slide_type": "subslide"
    }
   },
   "source": [
    "### Sketch of Solution for Example 6\n",
    "\n",
    "* Replace $v_s(t)$, $R_g$, $R_L$, $L$ and $C$ by their transformed (*complex frequency*) equivalents: $V_s(s)$, $R_g$, $R_L$, $sL$ and $1/(sC)$\n",
    "* Use the *Voltage Divider Rule* to determine $V_\\mathrm{out}(s)$ as a function of $V_s(s)$ \n",
    "* Form $G(s)$ by writing down the ratio $V_\\mathrm{out}(s)/V_s(s)$"
   ]
  },
  {
   "cell_type": "markdown",
   "id": "1f69ef4f",
   "metadata": {
    "slideshow": {
     "slide_type": "notes"
    }
   },
   "source": [
    "### Worked solution for Example 6\n",
    "\n",
    "Pencast: [ex6.pdf](https://cpjobling.github.io/eg-247-textbook/laplace_transform/worked_examples/ex6.pdf) - open in Adobe Acrobat Reader."
   ]
  },
  {
   "cell_type": "markdown",
   "id": "2ac67618",
   "metadata": {
    "slideshow": {
     "slide_type": "subslide"
    }
   },
   "source": [
    "### Answer for Example 6\n",
    "\n",
    "$$G(s) = \\frac{V_\\mathrm{out}(s)}{V_s(s)} = \\frac{R_L + sL + 1/sC}{R_g + R_L + sL + 1/sC}.$$"
   ]
  },
  {
   "cell_type": "markdown",
   "id": "3cf56ada",
   "metadata": {
    "slideshow": {
     "slide_type": "subslide"
    }
   },
   "source": [
    "### Example 7\n",
    "\n",
    "Compute the transfer function for the op-amp circuit shown below in terms of the circuit constants $R_1$, $R_2$, $R_3$, $C_1$ and $C_2$. Then replace the complex variable $s$ with $j\\omega$, and the circuit constants with their numerical values and plot the magnitude\n",
    "\n",
    "$$\\left|G(j\\omega)\\right| = \\frac{\\left|V_{\\mathrm{out}}(j\\omega)\\right|}{\\left|V_{\\mathrm{in}}(j\\omega)\\right|}$$\n",
    "\n",
    "versus radian frequency $\\omega$ rad/s."
   ]
  },
  {
   "cell_type": "markdown",
   "id": "253c4496",
   "metadata": {
    "slideshow": {
     "slide_type": "subslide"
    }
   },
   "source": [
    "<img alt=\"Circuit for Example 7\" src=\"pictures/example7.png\" height=\"50%\" />"
   ]
  },
  {
   "cell_type": "markdown",
   "id": "4320741b",
   "metadata": {
    "slideshow": {
     "slide_type": "notes"
    }
   },
   "source": [
    "<pre style=\"border: 2px solid blue\">\n",
    "\n",
    "\n",
    "\n",
    "\n",
    "\n",
    "\n",
    "\n",
    "\n",
    "\n",
    "\n",
    "\n",
    "\n",
    "\n",
    "\n",
    "\n",
    "</pre>"
   ]
  },
  {
   "cell_type": "markdown",
   "id": "8d47e0c1",
   "metadata": {
    "slideshow": {
     "slide_type": "subslide"
    }
   },
   "source": [
    "### Sketch of Solution for Example 7\n",
    "\n",
    "* Replace the components and voltages in the circuit diagram with their complex frequency equivalents\n",
    "* Use nodal analysis to determine the voltages at the nodes either side of the 50K resistor $R_3$\n",
    "* Note that the voltage at the input to the op-amp is a virtual ground\n",
    "* Solve for $V_{\\mathrm{out}}(s)$ as a function of $V_{\\mathrm{in}}(s)$\n",
    "* Form the reciprocal $G(s) = V_{\\mathrm{out}}(s)/V_{\\mathrm{in}}(s)$\n",
    "* Use MATLAB to calculate the component values, then replace $s$ by $j\\omega$.\n",
    "* Plot \n",
    "    $$\\left|G(j\\omega)\\right|$$\n",
    "  on log-linear \"paper\"."
   ]
  },
  {
   "cell_type": "markdown",
   "id": "abe18892",
   "metadata": {
    "slideshow": {
     "slide_type": "notes"
    }
   },
   "source": [
    "### Worked solution for Example 7\n",
    "\n",
    "Pencast: [ex7.pdf](https://cpjobling.github.io/eg-247-textbook/laplace_transform/worked_examples/ex7.pdf) - open in Adobe Acrobat Reader."
   ]
  },
  {
   "cell_type": "markdown",
   "id": "6bd3756c",
   "metadata": {
    "slideshow": {
     "slide_type": "subslide"
    }
   },
   "source": [
    "### Answer for Example 7\n",
    "\n",
    "$$G(s) = \\frac{V_\\mathrm{out}(s)}{V_\\mathrm{in}(s)} = \\frac{-1}{R_1\\left(\\left(1/R_1 + 1/R_2 + 1/R_3 + sC_1\\right)\\left(sC_2R_3\\right)+1/R_2\\right)}.$$"
   ]
  },
  {
   "cell_type": "markdown",
   "id": "c626d129",
   "metadata": {
    "slideshow": {
     "slide_type": "subslide"
    }
   },
   "source": [
    "### The Matlab Bit\n",
    "\n",
    "See attached script: [solution7.m](https://cpjobling.github.io/eg-247-textbook/laplace_transform/matlab/solution7.m)."
   ]
  },
  {
   "cell_type": "markdown",
   "id": "5449fb1d",
   "metadata": {
    "slideshow": {
     "slide_type": "subslide"
    }
   },
   "source": [
    "#### Week 3: Solution 7"
   ]
  },
  {
   "cell_type": "code",
   "execution_count": 15,
   "id": "01585ce1",
   "metadata": {
    "slideshow": {
     "slide_type": "fragment"
    },
    "tags": [
     "remove-output"
    ]
   },
   "outputs": [],
   "source": [
    "syms s;"
   ]
  },
  {
   "cell_type": "code",
   "execution_count": 16,
   "id": "8534cee7",
   "metadata": {
    "slideshow": {
     "slide_type": "subslide"
    },
    "tags": [
     "remove-output"
    ]
   },
   "outputs": [],
   "source": [
    "R1 = 200*10^3; % 200 kOhm \n",
    "R2 = 40*10^3; % 40 kOhm\n",
    "R3 = 50*10^3; % 50 kOhm\n",
    "\n",
    "C1 = 25*10^(-9); % 25 nF\n",
    "C2 = 10*10^(-9); % 10 nF"
   ]
  },
  {
   "cell_type": "code",
   "execution_count": 17,
   "id": "04dbf098",
   "metadata": {
    "slideshow": {
     "slide_type": "subslide"
    },
    "tags": [
     "remove-output"
    ]
   },
   "outputs": [
    {
     "name": "stdout",
     "output_type": "stream",
     "text": [
      "ans =\n"
     ]
    },
    {
     "name": "stdout",
     "output_type": "stream",
     "text": [
      "100*s*((7555786372591433*s)/302231454903657293676544 + 1/20000) + 5\n"
     ]
    }
   ],
   "source": [
    "den = R1*((1/R1+ 1/R2 + 1/R3 + s*C1)*(s*R3*C2) + 1/R2);\n",
    "simplify(den)"
   ]
  },
  {
   "cell_type": "markdown",
   "id": "dd4e206f",
   "metadata": {
    "slideshow": {
     "slide_type": "subslide"
    }
   },
   "source": [
    "Result is: `100*s*((7555786372591433*s)/302231454903657293676544 + 1/20000) + 5`"
   ]
  },
  {
   "cell_type": "markdown",
   "id": "44c9983d",
   "metadata": {
    "slideshow": {
     "slide_type": "subslide"
    }
   },
   "source": [
    "Simplify coefficients of s in denominator"
   ]
  },
  {
   "cell_type": "code",
   "execution_count": 18,
   "id": "01c2644b",
   "metadata": {
    "slideshow": {
     "slide_type": "subslide"
    },
    "tags": [
     "remove-output"
    ]
   },
   "outputs": [
    {
     "name": "stdout",
     "output_type": "stream",
     "text": [
      "denG =\n",
      "   0.000002500000000   0.005000000000000   5.000000000000000\n"
     ]
    }
   ],
   "source": [
    "format long\n",
    "denG = sym2poly(ans)"
   ]
  },
  {
   "cell_type": "code",
   "execution_count": 19,
   "id": "01bd708d",
   "metadata": {
    "slideshow": {
     "slide_type": "subslide"
    },
    "tags": [
     "remove-output"
    ]
   },
   "outputs": [],
   "source": [
    "numG = -1;"
   ]
  },
  {
   "cell_type": "markdown",
   "id": "f3b1073e",
   "metadata": {
    "slideshow": {
     "slide_type": "subslide"
    }
   },
   "source": [
    "Plot\n",
    "\n",
    "For convenience, define coefficients $a$ and $b$:"
   ]
  },
  {
   "cell_type": "code",
   "execution_count": 20,
   "id": "991fd379",
   "metadata": {
    "tags": [
     "remove-output"
    ]
   },
   "outputs": [],
   "source": [
    "a = denG(1);\n",
    "b = denG(2);"
   ]
  },
  {
   "cell_type": "code",
   "execution_count": 21,
   "id": "2dafed59",
   "metadata": {
    "slideshow": {
     "slide_type": "subslide"
    },
    "tags": [
     "remove-output"
    ]
   },
   "outputs": [],
   "source": [
    "w = 1:10:10000;"
   ]
  },
  {
   "cell_type": "markdown",
   "id": "1ae56b32",
   "metadata": {
    "slideshow": {
     "slide_type": "subslide"
    }
   },
   "source": [
    "$$G(j\\omega) = \\frac{-1}{a\\omega^2 - jb\\omega + 5}$$"
   ]
  },
  {
   "cell_type": "code",
   "execution_count": 22,
   "id": "68658689",
   "metadata": {
    "slideshow": {
     "slide_type": "subslide"
    },
    "tags": [
     "remove-output"
    ]
   },
   "outputs": [],
   "source": [
    "Gw = -1./(a*w.^2 - j.*b.*w + denG(3));"
   ]
  },
  {
   "cell_type": "code",
   "execution_count": 23,
   "id": "671a5455",
   "metadata": {
    "slideshow": {
     "slide_type": "subslide"
    },
    "tags": [
     "remove-output"
    ]
   },
   "outputs": [
    {
     "data": {
      "image/png": "[encoded data removed]",
      "text/plain": [
       "<IPython.core.display.Image object>"
      ]
     },
     "metadata": {
      "filenames": {
       "image/png": "/Users/eechris/code/src/github.com/cpjobling/eg-150-textbook/_build/jupyter_execute/laplace_transform/7/tf_for_circuits_111_0.png"
      }
     },
     "output_type": "display_data"
    }
   ],
   "source": [
    "semilogx(w, abs(Gw))\n",
    "xlabel('Radian frequency w (rad/s)')\n",
    "ylabel('|Vout/Vin|')\n",
    "title('Magnitude Vout/Vin vs. Radian Frequency')\n",
    "grid"
   ]
  },
  {
   "cell_type": "markdown",
   "id": "3c146d09",
   "metadata": {
    "slideshow": {
     "slide_type": "slide"
    }
   },
   "source": [
    "## Using Transfer Functions in Matlab for System Analysis\n",
    "\n",
    "Please use the file [tf_matlab.m](https://cpjobling.github.io/eg-247-textbook/laplace_transform/matlab/tf_matlab.m) to explore the Transfer Function features provide by Matlab. Use the *publish* option to generate a nicely formatted document."
   ]
  },
  {
   "cell_type": "markdown",
   "id": "e7b47e92",
   "metadata": {
    "slideshow": {
     "slide_type": "slide"
    }
   },
   "source": [
    "## Using Transfer Functions in Simulink for System Simulation\n",
    "\n",
    "![Using Transfer Functions in Simulink for System Simulation](pictures/sim_tf.png)\n",
    "\n",
    "The Simulink transfer function (**`Transfer Fcn`**) block shown above implements a transfer function representing a general\n",
    "input output function\n",
    "\n",
    "$$G(s) = \\frac{N(s)}{D(s)}$$\n",
    "\n",
    "that it is not specific nor restricted to circuit analysis. It can, however be used in modelling and simulation studies."
   ]
  },
  {
   "cell_type": "markdown",
   "id": "74e812e5",
   "metadata": {
    "slideshow": {
     "slide_type": "subslide"
    }
   },
   "source": [
    "### Example\n",
    "\n",
    "Recast Example 7 as a MATLAB problem using the LTI Transfer Function block. \n",
    "\n",
    "For simplicity use parameters $R_1 = R_2 = R_3 = 1\\; \\Omega$, and $C_1 = C_2 = 1$ F.\n",
    "\n",
    "Calculate the step response using the LTI functions.\n",
    "\n",
    "Verify the result with Simulink.\n",
    "\n",
    "The Matlab solution: [example8.m](https://cpjobling.github.io/eg-247-textbook/laplace_transform/matlab/example8.m)"
   ]
  },
  {
   "cell_type": "markdown",
   "id": "d5be4330",
   "metadata": {
    "slideshow": {
     "slide_type": "subslide"
    }
   },
   "source": [
    "#### MATLAB Solution\n",
    "From a previous analysis the transfer function is:\n",
    "\n",
    "$$G(s) = \\frac{V_\\mathrm{out}}{V_\\mathrm{in}} = \\frac{-1}{R_1\\left[(1/R_1 + 1/R_2 + 1/R_3 + sC_1)(sR_3C_2) + 1/R_2\\right]}$$\n",
    "\n",
    "so substituting the component values we get:\n",
    "\n",
    "$$G(s) = \\frac{V_{\\mathrm{out}}}{V_{\\mathrm{in}}} = \\frac{-1}{s^2 + 3s + 1}$$\n",
    "\n",
    "We can find the step response by letting $v_{\\mathrm{in}}(t) = u_0(t)$ so that\n",
    "$V_{\\mathrm{in}}(s)=1/s$ then \n",
    "\n",
    "$$V_{\\mathrm{out}}(s) = \\frac{-1}{s^2 + 3s + 1}.\\frac{1}{s}$$\n",
    " \n",
    "We can solve this by partial fraction expansion and inverse Laplace transform\n",
    "as is done in the text book with the help of Matlab's `residue` function.\n",
    "\n",
    "Here, however we'll use the LTI block that was introduced in the lecture."
   ]
  },
  {
   "cell_type": "markdown",
   "id": "343c3efd",
   "metadata": {
    "slideshow": {
     "slide_type": "subslide"
    }
   },
   "source": [
    "Define the circuit as a transfer function"
   ]
  },
  {
   "cell_type": "code",
   "execution_count": 24,
   "id": "67003353",
   "metadata": {
    "slideshow": {
     "slide_type": "subslide"
    },
    "tags": [
     "remove-output"
    ]
   },
   "outputs": [
    {
     "name": "stdout",
     "output_type": "stream",
     "text": [
      "\n",
      "G =\n"
     ]
    },
    {
     "name": "stdout",
     "output_type": "stream",
     "text": [
      " \n"
     ]
    },
    {
     "name": "stdout",
     "output_type": "stream",
     "text": [
      "       -1\n"
     ]
    },
    {
     "name": "stdout",
     "output_type": "stream",
     "text": [
      "  -------------\n"
     ]
    },
    {
     "name": "stdout",
     "output_type": "stream",
     "text": [
      "  s^2 + 3 s + 1\n"
     ]
    },
    {
     "name": "stdout",
     "output_type": "stream",
     "text": [
      " \n"
     ]
    },
    {
     "name": "stdout",
     "output_type": "stream",
     "text": [
      "Continuous-time transfer function.\n",
      "\n"
     ]
    }
   ],
   "source": [
    "G = tf([-1],[1 3 1])"
   ]
  },
  {
   "cell_type": "markdown",
   "id": "5c5ce471",
   "metadata": {
    "slideshow": {
     "slide_type": "subslide"
    }
   },
   "source": [
    "step response is then:"
   ]
  },
  {
   "cell_type": "code",
   "execution_count": 25,
   "id": "1df22e54",
   "metadata": {
    "slideshow": {
     "slide_type": "subslide"
    },
    "tags": [
     "remove-output"
    ]
   },
   "outputs": [
    {
     "data": {
      "image/png": "[encoded data removed]",
      "text/plain": [
       "<IPython.core.display.Image object>"
      ]
     },
     "metadata": {
      "filenames": {
       "image/png": "/Users/eechris/code/src/github.com/cpjobling/eg-150-textbook/_build/jupyter_execute/laplace_transform/7/tf_for_circuits_119_0.png"
      }
     },
     "output_type": "display_data"
    }
   ],
   "source": [
    "step(G)"
   ]
  },
  {
   "cell_type": "markdown",
   "id": "1cd2b7df",
   "metadata": {
    "slideshow": {
     "slide_type": "subslide"
    }
   },
   "source": [
    "Simples!"
   ]
  },
  {
   "cell_type": "markdown",
   "id": "eda6c8d5",
   "metadata": {
    "slideshow": {
     "slide_type": "subslide"
    }
   },
   "source": [
    "#### Simulink model\n",
    "\n",
    "See [example_8.slx](https://cpjobling.github.io/eg-247-textbook/laplace_transform/matlab/example_8.slx)"
   ]
  },
  {
   "cell_type": "code",
   "execution_count": 26,
   "id": "b6392b7a",
   "metadata": {
    "slideshow": {
     "slide_type": "fragment"
    },
    "tags": [
     "remove-output"
    ]
   },
   "outputs": [],
   "source": [
    "open example_8"
   ]
  },
  {
   "cell_type": "markdown",
   "id": "d5eb7a62",
   "metadata": {
    "slideshow": {
     "slide_type": "notes"
    }
   },
   "source": [
    "![Simulink model](pictures/ex8_sim.png)"
   ]
  },
  {
   "cell_type": "markdown",
   "id": "aee5122a",
   "metadata": {
    "slideshow": {
     "slide_type": "notes"
    }
   },
   "source": [
    "Result\n",
    "\n",
    "![Simulation result](pictures/ex8_sim_result.png)"
   ]
  },
  {
   "cell_type": "markdown",
   "id": "72dcbfc2",
   "metadata": {
    "slideshow": {
     "slide_type": "subslide"
    }
   },
   "source": [
    "Let's go a bit further by finding the frequency response:"
   ]
  },
  {
   "cell_type": "code",
   "execution_count": 27,
   "id": "e5a9600a",
   "metadata": {
    "slideshow": {
     "slide_type": "subslide"
    },
    "tags": [
     "remove-output"
    ]
   },
   "outputs": [
    {
     "data": {
      "image/png": "[encoded data removed]",
      "text/plain": [
       "<IPython.core.display.Image object>"
      ]
     },
     "metadata": {
      "filenames": {
       "image/png": "/Users/eechris/code/src/github.com/cpjobling/eg-150-textbook/_build/jupyter_execute/laplace_transform/7/tf_for_circuits_126_0.png"
      }
     },
     "output_type": "display_data"
    }
   ],
   "source": [
    "%bode(G)\n",
    "nyquist(G)\n",
    "%rlocus(G)"
   ]
  },
  {
   "cell_type": "markdown",
   "id": "4a3257cb",
   "metadata": {},
   "source": [
    "## Matlab Solutions\n",
    "\n",
    "For convenience, single script MATLAB solutions to the examples are provided and can be downloaded from the accompanying [MATLAB](https://github.com/cpjobling/eg-247-textbook/tree/master/laplace_transform/matlab) folder.\n",
    "\n",
    "* Solution 7 [[solution7.m](https://cpjobling.github.io/eg-247-textbook/laplace_transform/matlab/solution7.m)]\n",
    "* Example 8  [[example8.m](https://cpjobling.github.io/eg-247-textbook/laplace_transform/matlab/example8.m)]\n",
    "* Simulink model [[example_8.slx](https://cpjobling.github.io/eg-247-textbook/laplace_transform/matlab/example_8.slx)]"
   ]
  },
  {
   "cell_type": "code",
   "execution_count": 28,
   "id": "ff2a6695",
   "metadata": {
    "tags": [
     "remove-output"
    ]
   },
   "outputs": [
    {
     "name": "stdout",
     "output_type": "stream",
     "text": [
      "README.md        ex3_3.m          example_8.slx    solution7.m\n",
      "\u001b[34mconvolution_demo\u001b[39;49m\u001b[0m ex3_4.m          solution3.m      tf_matlab.m\n",
      "ex3_1.m          ex3_5.m          solution3.mlx\n",
      "ex3_2.m          example8.m       solution5.m\n",
      "\n"
     ]
    }
   ],
   "source": [
    "cd ../matlab\n",
    "ls\n",
    "open solution7"
   ]
  }
 ],
 "metadata": {
  "jupytext": {
   "formats": "ipynb,md:myst",
   "text_representation": {
    "extension": ".md",
    "format_name": "myst",
    "format_version": 0.13,
    "jupytext_version": "1.14.4"
   }
  },
  "kernelspec": {
   "display_name": "Matlab",
   "language": "matlab",
   "name": "matlab"
  },
  "language_info": {
   "codemirror_mode": "octave",
   "file_extension": ".m",
   "help_links": [
    {
     "text": "MetaKernel Magics",
     "url": "https://metakernel.readthedocs.io/en/latest/source/README.html"
    }
   ],
   "mimetype": "text/x-octave",
   "name": "matlab",
   "version": "0.17.1"
  },
  "source_map": [
   15,
   20,
   24,
   30,
   46,
   58,
   67,
   75,
   81,
   85,
   89,
   93,
   103,
   150,
   162,
   169,
   173,
   177,
   181,
   185,
   191,
   197,
   203,
   207,
   211,
   215,
   219,
   223,
   229,
   235,
   241,
   245,
   253,
   257,
   261,
   265,
   269,
   273,
   277,
   281,
   287,
   293,
   299,
   305,
   309,
   317,
   330,
   339,
   343,
   352,
   360,
   366,
   375,
   379,
   388,
   392,
   404,
   410,
   414,
   418,
   422,
   430,
   434,
   444,
   450,
   457,
   463,
   470,
   477,
   481,
   489,
   493,
   501,
   505,
   511,
   519,
   523,
   529,
   533,
   539,
   549,
   553,
   557,
   561,
   574,
   578,
   584,
   588,
   608,
   616,
   622,
   628,
   638,
   642,
   662,
   676,
   682,
   688,
   694,
   698,
   707,
   721,
   731,
   735,
   739,
   749,
   758,
   764,
   771,
   780,
   784,
   793,
   806,
   812,
   825,
   839,
   860,
   864,
   873,
   877,
   886,
   890,
   896,
   905,
   909,
   915,
   919,
   928,
   938
  ]
 },
 "nbformat": 4,
 "nbformat_minor": 5
}