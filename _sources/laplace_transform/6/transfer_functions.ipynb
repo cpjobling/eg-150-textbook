{
 "cells": [
  {
   "cell_type": "markdown",
   "id": "230c4281",
   "metadata": {
    "slideshow": {
     "slide_type": "slide"
    }
   },
   "source": [
    "# Transfer Functions"
   ]
  },
  {
   "cell_type": "markdown",
   "id": "412adba2",
   "metadata": {
    "slideshow": {
     "slide_type": "notes"
    }
   },
   "source": [
    "The preparatory reading for this section is [Chapter 4.4](https://ebookcentral.proquest.com/lib/swansea-ebooks/reader.action?docID=3384197&ppg=75#ppg=113) {cite}`karris` which discusses transfer function models of electrical circuits. We have also adapted content from [3.6 The System Function](https://www.accessengineeringlibrary.com/content/book/9781260454246/toc-chapter/chapter3/section/section28) from {cite}`schaum`."
   ]
  },
  {
   "cell_type": "markdown",
   "id": "b2a7b02e",
   "metadata": {},
   "source": [
    "Follow along at [cpjobling.github.io/eg-150-textbook/laplace_transform/6/transfer_functions](https://cpjobling.github.io/eg-150-textbook/laplace_transform/6/transfer_functions)\n",
    "\n",
    "![QR Code for this lecture](pictures/qrcode_laplace6.png)"
   ]
  },
  {
   "cell_type": "markdown",
   "id": "3bb36946",
   "metadata": {
    "slideshow": {
     "slide_type": "notes"
    }
   },
   "source": [
    "## Agenda\n",
    "\n",
    "* {ref}`system_function`\n",
    "\n",
    "* {ref}`char_LTI_systems`\n",
    "\n",
    "* {ref}`tf_for_LCCODE`\n",
    "\n",
    "* {ref}`block_diagrams`\n",
    "\n",
    "* {ref}`examples13`"
   ]
  },
  {
   "cell_type": "markdown",
   "id": "63828405",
   "metadata": {
    "slideshow": {
     "slide_type": "slide"
    }
   },
   "source": [
    "(system_function)=\n",
    "## The Transfer Function\n",
    "\n",
    "In {ref}`Response_of_a_Continuous_Time_LTI_System_and_the_Convolution_Integral` we showed that the output $y(t)$ of a continuous-time LTI system equals the convolution of the input $x(t)$ with the impulse response $h(t)$; that is,\n",
    "\n",
    "$$y(t) = x(t) * h(t)$$ (eq:335)"
   ]
  },
  {
   "cell_type": "markdown",
   "id": "65b6dfc0",
   "metadata": {
    "slideshow": {
     "slide_type": "subslide"
    }
   },
   "source": [
    "Applying the {ref}`lap3:conv` property, we obtain\n",
    "\n",
    "$$Y(s) = X(s)H(s)$$ (eq:336)\n",
    "\n",
    "where $Y(s)$, $X(s)$, and $H(s)$ are the Laplace transforms of $y(t)$, $x(t)$, and $h(t)$, respectively."
   ]
  },
  {
   "cell_type": "markdown",
   "id": "48d54a02",
   "metadata": {
    "slideshow": {
     "slide_type": "fragment"
    }
   },
   "source": [
    "Equation {eq}`eq:336` can be expressed as\n",
    "\n",
    "$$H(s) = \\frac{Y(s)}{X(s)}$$ (eq:337)"
   ]
  },
  {
   "cell_type": "markdown",
   "id": "60abeb7a",
   "metadata": {
    "slideshow": {
     "slide_type": "subslide"
    }
   },
   "source": [
    "The laplace transform $H(s)$ of $h(t)$ is called the *transfer function* (or *system function*) of the system."
   ]
  },
  {
   "cell_type": "markdown",
   "id": "dbe31bd0",
   "metadata": {
    "slideshow": {
     "slide_type": "fragment"
    }
   },
   "source": [
    "By {eq}`eq:337`, the transfer function $H(s)$ can also be defined as the ratio of the Laplace transforms of the output $y(t)$ and the input $x(t)$."
   ]
  },
  {
   "cell_type": "markdown",
   "id": "313e3f6f",
   "metadata": {
    "slideshow": {
     "slide_type": "fragment"
    }
   },
   "source": [
    "The transfer function $H(s)$ completely characterizes the system because the impulse response $h(t)$ completely characterizes the system."
   ]
  },
  {
   "cell_type": "markdown",
   "id": "b71ae3b9",
   "metadata": {
    "slideshow": {
     "slide_type": "subslide"
    }
   },
   "source": [
    "{numref}`fig:3-7` illustrates the relationship of Equations {ex}`eq:335` and {ex}`eq:336`.\n",
    "\n",
    ":::{figure-md} fig:3-7\n",
    "<img src=\"pictures/system_function.png\" alt=\"Impulse response and system function.\" width=\"60%\">\n",
    "\n",
    "Impulse response and system function\n",
    ":::"
   ]
  },
  {
   "cell_type": "markdown",
   "id": "75b18994",
   "metadata": {
    "slideshow": {
     "slide_type": "notes"
    }
   },
   "source": [
    "(char_LTI_systems)=\n",
    "## Characterization of LTI Systems\n",
    "\n",
    "```{note}\n",
    "This section is for reference only and is not examinable.\n",
    "```\n",
    "\n",
    "Many properties of continuous-time LTI systems can be closely associated with the characteristics of $H(s)$ in the $s$-plane and in particular with the pole locations and the region of convergence (ROC).\n",
    "\n",
    "(hs_casuality)=\n",
    "### Causality\n",
    "\n",
    "Fot a causal continuous-time LTI system, we have\n",
    "\n",
    "$$h(t) = 0\\qquad t<0$$\n",
    "\n",
    "Since $h(t)$ is a right-sided signal, the corresponding requirement on $H(s)$ is that the ROC of $H(s)$ must be of the form\n",
    "\n",
    "$$\\mathrm{Re}(s) > \\sigma_\\mathrm{max}$$\n",
    "\n",
    "That is, the ROC is the region in the $s$-plane to the right of all the system poles. Similarly, if the system is anticausal, then\n",
    "\n",
    "$$h(t) = 0\\qquad t>0$$\n",
    "\n",
    "and $h(t)$ is left-sided. Thus, the ROC of $H(s)$ must be of the form \n",
    "\n",
    "$$\\mathrm{Re}(s) < \\sigma_\\mathrm{max}$$\n",
    "\n",
    "That is, the ROC is the region in the $s$-plane to the left of all the system poles.\n",
    "\n",
    "(hs_stability)=\n",
    "### Stability\n",
    "\n",
    "In {ref}`c_Stability` we stated that a continuous-time LTI system is BIBO stable if and only if [Eq. {eq}`eq:221`]\n",
    "\n",
    "$$\\int_{-\\infty}^{\\infty}\\left|h(\\tau)\\right|\\,d\\tau \\lt \\infty$$\n",
    "\n",
    "The corresponding requirement on $H(s)$ is that the ROC of $H(s)$ contains the $j\\omega$ axis (that is $s = j\\omega). This is key result, proved in Prob. 3.26 in {ref}`schaum`, that is fundamental to systems and control theory. \n",
    "\n",
    "(hs_causal_and_stable)=\n",
    "### Causal and stable systems\n",
    "If a system is both causal and stable then all the poles must be in the left-half of the $s$-plane: that is they all have negative real parts because the ROC is of the form $\\mathrm{Re}(s) > \\sigma_\\mathrm{max}$ and since the $j\\omega$ axis is included in the ROC, we must have $\\sigma_\\mathrm{max} < 0$.\n",
    "\n",
    "The conditions for which the closed-loop poles in continuous-time LTI systems with feedback are stable is a key underlyting principle of the control theory to be studied in **EG-243 Control Systems** next year."
   ]
  },
  {
   "cell_type": "markdown",
   "id": "2a2a5249",
   "metadata": {
    "slideshow": {
     "slide_type": "slide"
    }
   },
   "source": [
    "(tf_for_LCCODE)=\n",
    "\n",
    "## Transfer functions for LTI system described by Linear Constant-Coefficient Ordinary Differential Equations\n",
    "\n",
    "In {ref}`Systems_Described_by_Differential_Equations` we considered a continuous-time LTI systemfor which input $x(t)$ and $y(t)$ satisfy the general linear constant-coefficient ordinary differential equation (LCCODE) of the form\n",
    "\n",
    "$$\\sum_{k=0}^N a_k \\frac{d^k}{dt^k} y(t)=\\sum_{k=0}^M b_k \\frac{d^k}{dt^k} x(t)$$ (eq:338)"
   ]
  },
  {
   "cell_type": "markdown",
   "id": "4b9575ca",
   "metadata": {
    "slideshow": {
     "slide_type": "subslide"
    }
   },
   "source": [
    "Applying the Laplace transform and using the {ref}`lap:diff_prop` of the Laplace transform, we obtain\n",
    "\n",
    "$$\\sum_{k=0}^N a_k s^k Y(s)=\\sum_{k=0}^M b_k s^k X(s)$$"
   ]
  },
  {
   "cell_type": "markdown",
   "id": "c0b7b418",
   "metadata": {
    "slideshow": {
     "slide_type": "fragment"
    }
   },
   "source": [
    "or\n",
    "\n",
    "$$Y(s) \\sum_{k=0}^N a_k s^k = X(s) \\sum_{k=0}^M b_k s^k $$ (eq:339)"
   ]
  },
  {
   "cell_type": "markdown",
   "id": "42150448",
   "metadata": {
    "slideshow": {
     "slide_type": "subslide"
    }
   },
   "source": [
    "Thus,\n",
    "\n",
    "$$H(s) = \\frac{Y(s)}{X(s)} = \\frac{\\displaystyle \\sum_{k=0}^M b_k s^k}{\\displaystyle\\sum_{k=0}^N a_k s^k}$$ (eq:340)"
   ]
  },
  {
   "cell_type": "markdown",
   "id": "40fefd83",
   "metadata": {
    "slideshow": {
     "slide_type": "subslide"
    }
   },
   "source": [
    "Expanding {eq}`eq:340`, $H(s)$ can be written in the more familiar form\n",
    "\n",
    "$$H(s) = \\frac{Y(s)}{X(s)} = \\frac{b_M s^M + b_{M-1}s^{M-1}+ \\cdots + b_1 s + b_0}{a_{N} s^N + b_{N-1}s^{N-1}+ \\cdots + a_1 s + a_0}$$ (eq:341)"
   ]
  },
  {
   "cell_type": "markdown",
   "id": "ad2909b3",
   "metadata": {
    "slideshow": {
     "slide_type": "fragment"
    }
   },
   "source": [
    "Hence, $H(s)$ is always a rational polynomial in $s$."
   ]
  },
  {
   "cell_type": "markdown",
   "id": "9208dd56",
   "metadata": {
    "slideshow": {
     "slide_type": "notes"
    }
   },
   "source": [
    "Note the ROC of $H(s)$ is not specified by {eq}`eq:340` but must be inferred with additional requirements on the system such as causality and stability."
   ]
  },
  {
   "cell_type": "markdown",
   "id": "694e1387",
   "metadata": {
    "slideshow": {
     "slide_type": "slide"
    }
   },
   "source": [
    "(block_diagrams)=\n",
    "## Block diagrams for Systems Interconnection\n",
    "\n",
    "For two LTI systems (with $h_1(t)$ and $h_2(t)$, respectively) in cascade ({numref}`Fig:3-8`(a)), the overall impulse response is given\n",
    "\n",
    "$$h(t) = h_1(t) * h_2(t)$$"
   ]
  },
  {
   "cell_type": "markdown",
   "id": "eceff41d",
   "metadata": {
    "slideshow": {
     "slide_type": "fragment"
    }
   },
   "source": [
    "Thus, the corresponding transfer functions are related by the product\n",
    "\n",
    "$$H(s) = H_1(s)H_2(s)$$ (eq:341)\n",
    "\n",
    "This relationship is illustrated in {numref}`Fig:3-8`(b)"
   ]
  },
  {
   "cell_type": "markdown",
   "id": "8fdcba7a",
   "metadata": {
    "slideshow": {
     "slide_type": "subslide"
    }
   },
   "source": [
    ":::{figure-md} Fig:3-8\n",
    "<img src=\"pictures/bd1.png\" alt=\"Two systems in cascade (a) Time-domain representation; (b) s-domain presentation.\" width=\"70%\">\n",
    "\n",
    "Two systems in cascade (a) Time-domain representation; (b) s-domain representation.\n",
    ":::"
   ]
  },
  {
   "cell_type": "markdown",
   "id": "19851061",
   "metadata": {
    "slideshow": {
     "slide_type": "slide"
    }
   },
   "source": [
    "(examples13)=\n",
    "## Examples 13: Transfer functions"
   ]
  },
  {
   "cell_type": "markdown",
   "id": "ce5ed02e",
   "metadata": {},
   "source": [
    "## Homework\n",
    "\n",
    "Attempt at least one of the end-of-chapter exercises from each question 1-7 of [Section 2.7](https://ebookcentral.proquest.com/lib/swansea-ebooks/reader.action?docID=3384197&ppg=75#ppg=71) of {cite}`karris`. Don't look at the answers until you have attempted the problems.\n",
    "\n",
    "If we have time, I will work through one or two of these in class."
   ]
  },
  {
   "cell_type": "markdown",
   "id": "a0284a5a",
   "metadata": {},
   "source": [
    "## Summary\n",
    "\n",
    "In this section we have presented some of the most useful and commonly used properties of the Laplace transform, provided a table of Laplace Transform properties, and given examples of how properties and transform tables can be used to determine the Laplace transform of some useful aperiodic and periodic signals. \n",
    "\n",
    "### Take Aways\n",
    "\n",
    "\n",
    "### Still to come\n",
    "\n",
    "The use of the *derivative property* in the complete solution of continuous-time LTI systems will be covered in {ref}`unit4.6`!"
   ]
  },
  {
   "cell_type": "markdown",
   "id": "0430df7f",
   "metadata": {},
   "source": [
    "## Next time\n",
    "\n",
    "We move on to consider \n",
    "\n",
    "* {ref}`unit4.7`\n",
    "\n",
    "## References\n",
    "\n",
    "```{bibliography}\n",
    ":filter: docname in docnames\n",
    "```"
   ]
  }
 ],
 "metadata": {
  "jupytext": {
   "formats": "ipynb,md:myst",
   "text_representation": {
    "extension": ".md",
    "format_name": "myst",
    "format_version": 0.13,
    "jupytext_version": "1.14.4"
   }
  },
  "kernelspec": {
   "display_name": "Matlab",
   "language": "matlab",
   "name": "matlab"
  },
  "language_info": {
   "codemirror_mode": "octave",
   "file_extension": ".m",
   "help_links": [
    {
     "text": "MetaKernel Magics",
     "url": "https://metakernel.readthedocs.io/en/latest/source/README.html"
    }
   ],
   "mimetype": "text/x-octave",
   "name": "matlab",
   "version": "0.17.1"
  },
  "source_map": [
   15,
   19,
   23,
   29,
   43,
   52,
   60,
   66,
   70,
   74,
   78,
   88,
   135,
   145,
   151,
   157,
   163,
   169,
   173,
   177,
   186,
   194,
   202,
   207,
   215,
   228
  ]
 },
 "nbformat": 4,
 "nbformat_minor": 5
}