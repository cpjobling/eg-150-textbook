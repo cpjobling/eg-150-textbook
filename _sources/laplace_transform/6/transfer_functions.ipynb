{
 "cells": [
  {
   "cell_type": "markdown",
   "id": "70a3c1a5",
   "metadata": {
    "slideshow": {
     "slide_type": "slide"
    }
   },
   "source": [
    "(unit4.6)=\n",
    "# Unit 4.6: Transfer Functions"
   ]
  },
  {
   "cell_type": "markdown",
   "id": "deeaff0d",
   "metadata": {
    "slideshow": {
     "slide_type": "notes"
    }
   },
   "source": [
    "The preparatory reading for this section is [3.6 The System Function](https://www.accessengineeringlibrary.com/content/book/9781260454246/toc-chapter/chapter3/section/section28) from {cite}`schaum`."
   ]
  },
  {
   "cell_type": "markdown",
   "id": "06908785",
   "metadata": {
    "slideshow": {
     "slide_type": "subslide"
    }
   },
   "source": [
    "Follow along at [cpjobling.github.io/eg-150-textbook/laplace_transform/6/transfer_functions](https://cpjobling.github.io/eg-150-textbook/laplace_transform/6/transfer_functions)\n",
    "\n",
    "![QR Code for this lecture](pictures/qrcode_laplace6.png)"
   ]
  },
  {
   "cell_type": "markdown",
   "id": "2559e673",
   "metadata": {
    "slideshow": {
     "slide_type": "notes"
    }
   },
   "source": [
    "## Agenda\n",
    "\n",
    "* {ref}`system_function`\n",
    "\n",
    "* {ref}`char_LTI_systems`\n",
    "\n",
    "* {ref}`tf_for_LCCODE`\n",
    "\n",
    "* {ref}`block_diagrams`\n",
    "\n",
    "* {ref}`examples13`"
   ]
  },
  {
   "cell_type": "markdown",
   "id": "295f2696",
   "metadata": {
    "slideshow": {
     "slide_type": "slide"
    }
   },
   "source": [
    "(system_function)=\n",
    "## The Transfer Function\n",
    "\n",
    "In {ref}`Response_of_a_Continuous_Time_LTI_System_and_the_Convolution_Integral` we showed that the output $y(t)$ of a continuous-time LTI system equals the convolution of the input $x(t)$ with the impulse response $h(t)$; that is,\n",
    "\n",
    "$$y(t) = x(t) * h(t)$$ (eq:335)"
   ]
  },
  {
   "cell_type": "markdown",
   "id": "5f3d4a84",
   "metadata": {
    "slideshow": {
     "slide_type": "subslide"
    }
   },
   "source": [
    "Applying the {ref}`lap3:conv` property, we obtain\n",
    "\n",
    "$$Y(s) = X(s)H(s)$$ (eq:336)\n",
    "\n",
    "where $Y(s)$, $X(s)$, and $H(s)$ are the Laplace transforms of $y(t)$, $x(t)$, and $h(t)$, respectively."
   ]
  },
  {
   "cell_type": "markdown",
   "id": "b1e2e311",
   "metadata": {
    "slideshow": {
     "slide_type": "fragment"
    }
   },
   "source": [
    "Equation {eq}`eq:336` can be expressed as\n",
    "\n",
    "$$H(s) = \\frac{Y(s)}{X(s)}$$ (eq:337)"
   ]
  },
  {
   "cell_type": "markdown",
   "id": "61bc987e",
   "metadata": {
    "slideshow": {
     "slide_type": "subslide"
    }
   },
   "source": [
    "The laplace transform $H(s)$ of $h(t)$ is called the *transfer function* (or *system function*) of the system."
   ]
  },
  {
   "cell_type": "markdown",
   "id": "4ce85698",
   "metadata": {
    "slideshow": {
     "slide_type": "fragment"
    }
   },
   "source": [
    "By {eq}`eq:337`, the transfer function $H(s)$ can also be defined as the ratio of the Laplace transforms of the output $y(t)$ and the input $x(t)$."
   ]
  },
  {
   "cell_type": "markdown",
   "id": "b029600b",
   "metadata": {
    "slideshow": {
     "slide_type": "fragment"
    }
   },
   "source": [
    "The transfer function $H(s)$ completely characterizes the system because the impulse response $h(t)$ completely characterizes the system."
   ]
  },
  {
   "cell_type": "markdown",
   "id": "cd01eac6",
   "metadata": {
    "slideshow": {
     "slide_type": "subslide"
    }
   },
   "source": [
    "{numref}`fig:3-7` illustrates the relationship of Equations {ex}`eq:335` and {ex}`eq:336`.\n",
    "\n",
    ":::{figure-md} fig:3-7\n",
    "<img src=\"pictures/system_function.png\" alt=\"Impulse response and system function.\" width=\"60%\">\n",
    "\n",
    "Impulse response and system function\n",
    ":::"
   ]
  },
  {
   "cell_type": "markdown",
   "id": "1c6ab692",
   "metadata": {
    "slideshow": {
     "slide_type": "notes"
    }
   },
   "source": [
    "(char_LTI_systems)=\n",
    "## Characterization of LTI Systems\n",
    "\n",
    "```{note}\n",
    "This section is for reference only and is not examinable.\n",
    "```\n",
    "\n",
    "Many properties of continuous-time LTI systems can be closely associated with the characteristics of $H(s)$ in the $s$-plane and in particular with the pole locations and the region of convergence (ROC).\n",
    "\n",
    "(hs_casuality)=\n",
    "### Causality\n",
    "\n",
    "Fot a causal continuous-time LTI system, we have\n",
    "\n",
    "$$h(t) = 0\\qquad t<0$$\n",
    "\n",
    "Since $h(t)$ is a right-sided signal, the corresponding requirement on $H(s)$ is that the ROC of $H(s)$ must be of the form\n",
    "\n",
    "$$\\mathrm{Re}(s) > \\sigma_\\mathrm{max}$$\n",
    "\n",
    "That is, the ROC is the region in the $s$-plane to the right of all the system poles. Similarly, if the system is anticausal, then\n",
    "\n",
    "$$h(t) = 0\\qquad t>0$$\n",
    "\n",
    "and $h(t)$ is left-sided. Thus, the ROC of $H(s)$ must be of the form \n",
    "\n",
    "$$\\mathrm{Re}(s) < \\sigma_\\mathrm{max}$$\n",
    "\n",
    "That is, the ROC is the region in the $s$-plane to the left of all the system poles.\n",
    "\n",
    "(hs_stability)=\n",
    "### Stability\n",
    "\n",
    "In {ref}`c_Stability` we stated that a continuous-time LTI system is BIBO stable if and only if [Eq. {eq}`eq:221`]\n",
    "\n",
    "$$\\int_{-\\infty}^{\\infty}\\left|h(\\tau)\\right|\\,d\\tau \\lt \\infty$$\n",
    "\n",
    "The corresponding requirement on $H(s)$ is that the ROC of $H(s)$ contains the $j\\omega$ axis (that is $s = j\\omega). This is key result, proved in Prob. 3.26 in {ref}`schaum`, that is fundamental to systems and control theory. \n",
    "\n",
    "(hs_causal_and_stable)=\n",
    "### Causal and stable systems\n",
    "If a system is both causal and stable then all the poles must be in the left-half of the $s$-plane: that is they all have negative real parts because the ROC is of the form $\\mathrm{Re}(s) > \\sigma_\\mathrm{max}$ and since the $j\\omega$ axis is included in the ROC, we must have $\\sigma_\\mathrm{max} < 0$.\n",
    "\n",
    "The conditions for which the closed-loop poles in continuous-time LTI systems with feedback are stable is a key underlyting principle of the control theory to be studied in **EG-243 Control Systems** next year."
   ]
  },
  {
   "cell_type": "markdown",
   "id": "3198f7e8",
   "metadata": {
    "slideshow": {
     "slide_type": "slide"
    }
   },
   "source": [
    "(tf_for_LCCODE)=\n",
    "\n",
    "## Transfer functions for LTI system described by Linear Constant-Coefficient Ordinary Differential Equations\n",
    "\n",
    "In {ref}`Systems_Described_by_Differential_Equations` we considered a continuous-time LTI systemfor which input $x(t)$ and output $y(t)$ satisfy the general linear constant-coefficient ordinary differential equation (LCCODE) of the form\n",
    "\n",
    "$$\\sum_{k=0}^N a_k \\frac{d^k}{dt^k} y(t)=\\sum_{k=0}^M b_k \\frac{d^k}{dt^k} x(t)$$ (eq:338)"
   ]
  },
  {
   "cell_type": "markdown",
   "id": "63ed2fdd",
   "metadata": {
    "slideshow": {
     "slide_type": "subslide"
    }
   },
   "source": [
    "Applying the Laplace transform and using the {ref}`lap:diff_prop` of the Laplace transform, we obtain\n",
    "\n",
    "$$\\sum_{k=0}^N a_k s^k Y(s)=\\sum_{k=0}^M b_k s^k X(s)$$"
   ]
  },
  {
   "cell_type": "markdown",
   "id": "c29dc4bd",
   "metadata": {
    "slideshow": {
     "slide_type": "fragment"
    }
   },
   "source": [
    "or\n",
    "\n",
    "$$Y(s) \\sum_{k=0}^N a_k s^k = X(s) \\sum_{k=0}^M b_k s^k $$ (eq:339)"
   ]
  },
  {
   "cell_type": "markdown",
   "id": "8667b027",
   "metadata": {
    "slideshow": {
     "slide_type": "subslide"
    }
   },
   "source": [
    "Thus,\n",
    "\n",
    "$$H(s) = \\frac{Y(s)}{X(s)} = \\frac{\\displaystyle \\sum_{k=0}^M b_k s^k}{\\displaystyle\\sum_{k=0}^N a_k s^k}$$ (eq:340)"
   ]
  },
  {
   "cell_type": "markdown",
   "id": "c5fb879b",
   "metadata": {
    "slideshow": {
     "slide_type": "subslide"
    }
   },
   "source": [
    "Expanding {eq}`eq:340`, $H(s)$ can be written in the more familiar form\n",
    "\n",
    "$$H(s) = \\frac{Y(s)}{X(s)} = \\frac{b_M s^M + b_{M-1}s^{M-1}+ \\cdots + b_1 s + b_0}{a_{N} s^N + b_{N-1}s^{N-1}+ \\cdots + a_1 s + a_0}$$ (eq:341)"
   ]
  },
  {
   "cell_type": "markdown",
   "id": "2f7cae4d",
   "metadata": {
    "slideshow": {
     "slide_type": "fragment"
    }
   },
   "source": [
    "Hence, $H(s)$ is always a rational polynomial in $s$."
   ]
  },
  {
   "cell_type": "markdown",
   "id": "4fdbf74a",
   "metadata": {
    "slideshow": {
     "slide_type": "notes"
    }
   },
   "source": [
    "Note the ROC of $H(s)$ is not specified by {eq}`eq:340` but must be inferred with additional requirements on the system such as causality and stability."
   ]
  },
  {
   "cell_type": "markdown",
   "id": "a640190f",
   "metadata": {
    "slideshow": {
     "slide_type": "slide"
    }
   },
   "source": [
    "(block_diagrams)=\n",
    "## Block diagrams for Systems Interconnection\n",
    "\n",
    "For two LTI systems (with $h_1(t)$ and $h_2(t)$, respectively) in cascade ({numref}`Fig:3-8`(a)), the overall impulse response is given\n",
    "\n",
    "$$h(t) = h_1(t) * h_2(t)$$"
   ]
  },
  {
   "cell_type": "markdown",
   "id": "248bdcd4",
   "metadata": {
    "slideshow": {
     "slide_type": "subslide"
    }
   },
   "source": [
    "Thus, the corresponding transfer functions are related by the product\n",
    "\n",
    "$$H(s) = H_1(s)H_2(s)$$ (eq:341)\n",
    "\n",
    "This relationship is illustrated in {numref}`Fig:3-8`(b)"
   ]
  },
  {
   "cell_type": "markdown",
   "id": "e177315a",
   "metadata": {
    "slideshow": {
     "slide_type": "subslide"
    }
   },
   "source": [
    ":::{figure-md} Fig:3-8\n",
    "<img src=\"pictures/bd1.png\" alt=\"Two systems in cascade (a) Time-domain representation; (b) s-domain presentation.\" width=\"70%\">\n",
    "\n",
    "Two systems in cascade (a) Time-domain representation; (b) s-domain representation.\n",
    ":::"
   ]
  },
  {
   "cell_type": "markdown",
   "id": "495f0d1a",
   "metadata": {
    "slideshow": {
     "slide_type": "subslide"
    }
   },
   "source": [
    "Similarly, the impulse response of a parallel combination of two LTI systems ({numref}`Fig:3-9`(a)) is given by \n",
    "\n",
    "$$h(t) = h_1(t) + h_2(t)$$"
   ]
  },
  {
   "cell_type": "markdown",
   "id": "51a258ce",
   "metadata": {
    "slideshow": {
     "slide_type": "fragment"
    }
   },
   "source": [
    "Thus,\n",
    "\n",
    "$$H(s) = H_1(s) + H_2(s)$$ (eq:342)"
   ]
  },
  {
   "cell_type": "markdown",
   "id": "21f89219",
   "metadata": {
    "slideshow": {
     "slide_type": "fragment"
    }
   },
   "source": [
    "This relationship is illustrated in {numref}`Fig:3-9`(b)."
   ]
  },
  {
   "cell_type": "markdown",
   "id": "9b8a3f13",
   "metadata": {
    "slideshow": {
     "slide_type": "subslide"
    }
   },
   "source": [
    ":::{figure-md} Fig:3-9\n",
    "<img src=\"pictures/bd2.png\" alt=\"Two systems in parallel. (a) Time-domain representation; (b) s-domain representation.\" width=\"70%\">\n",
    "\n",
    "Two systems in parallel. (a) Time-domain representation; (b) s-domain representation.\n",
    ":::"
   ]
  },
  {
   "cell_type": "markdown",
   "id": "e827eb83",
   "metadata": {
    "slideshow": {
     "slide_type": "slide"
    }
   },
   "source": [
    "(examples13)=\n",
    "## Examples 13: Transfer functions"
   ]
  },
  {
   "cell_type": "markdown",
   "id": "e31bf2cf",
   "metadata": {
    "slideshow": {
     "slide_type": "subslide"
    }
   },
   "source": [
    "(ex:13.1)=\n",
    "\n",
    "### Example 13.1\n",
    "\n",
    "Find the transfer function $H(s)$ and the impulse reponse $h(t)$ of the RC circuit in {numref}`fig:rc_circuit` ({ref}`ex4.1`)."
   ]
  },
  {
   "cell_type": "markdown",
   "id": "3f931f64",
   "metadata": {
    "slideshow": {
     "slide_type": "notes"
    }
   },
   "source": [
    "For the answer, refer to the lecture recording or see solved problem 3.23 in in {cite}`schaum`."
   ]
  },
  {
   "cell_type": "markdown",
   "id": "d8f30fc0",
   "metadata": {
    "slideshow": {
     "slide_type": "subslide"
    }
   },
   "source": [
    "(ex:13.2)=\n",
    "### Example 13.2\n",
    "\n",
    "Use the Laplace transform to redo {ref}`ex5_5`."
   ]
  },
  {
   "cell_type": "markdown",
   "id": "1e697d32",
   "metadata": {
    "slideshow": {
     "slide_type": "notes"
    }
   },
   "source": [
    "For the answer, refer to the lecture recording or see solved problem 3.24 in in {cite}`schaum`."
   ]
  },
  {
   "cell_type": "markdown",
   "id": "37a9c9bf",
   "metadata": {
    "slideshow": {
     "slide_type": "subslide"
    }
   },
   "source": [
    "(ex:13.3)=\n",
    "### Example 13.3\n",
    "\n",
    "The output $y(t)$ of a continuous-time LTI system is found to be $2e^{-3t}u_0(t)$ when the input $x(t)$ is $u_0(t)$.\n",
    "\n",
    "a). Find the impulse response $h(t)$ of the system.\n",
    "\n",
    "b). Find the output $y(t)$ when the input is $e^{-t}u_0(t)$."
   ]
  },
  {
   "cell_type": "markdown",
   "id": "62b017dc",
   "metadata": {
    "slideshow": {
     "slide_type": "notes"
    }
   },
   "source": [
    "For the answer, refer to the lecture recording or see solved problem 3.25 in in {cite}`schaum`."
   ]
  },
  {
   "cell_type": "markdown",
   "id": "6ecd6b78",
   "metadata": {
    "slideshow": {
     "slide_type": "subslide"
    }
   },
   "source": [
    "(ex:13.4)=\n",
    "### Example 13.4\n",
    "\n",
    "Use the Laplace transform to redo {ref}`ex6_6`."
   ]
  },
  {
   "cell_type": "markdown",
   "id": "bff53dd3",
   "metadata": {
    "slideshow": {
     "slide_type": "notes"
    }
   },
   "source": [
    "For the answer, refer to the lecture recording or see solved problem 3.27 in in {cite}`schaum`."
   ]
  },
  {
   "cell_type": "markdown",
   "id": "21fed80a",
   "metadata": {
    "slideshow": {
     "slide_type": "subslide"
    }
   },
   "source": [
    "(ex:13.5)=\n",
    "### Example 13.5\n",
    "\n",
    "Use the Laplace transform to redo {ref}`ex8_6`."
   ]
  },
  {
   "cell_type": "markdown",
   "id": "f1c0c08f",
   "metadata": {
    "slideshow": {
     "slide_type": "notes"
    }
   },
   "source": [
    "For the answer, refer to the lecture recording or see solved problem 3.28 in in {cite}`schaum`."
   ]
  },
  {
   "cell_type": "markdown",
   "id": "3fc01049",
   "metadata": {
    "slideshow": {
     "slide_type": "subslide"
    }
   },
   "source": [
    "(ex:13.6)=\n",
    "### Example 13.6\n",
    "\n",
    "Use the Laplace transform to redo {ref}`ex8_8`."
   ]
  },
  {
   "cell_type": "markdown",
   "id": "3ced1538",
   "metadata": {
    "slideshow": {
     "slide_type": "notes"
    }
   },
   "source": [
    "For the answer, refer to the lecture recording or see solved problem 3.29 in in {cite}`schaum`."
   ]
  },
  {
   "cell_type": "markdown",
   "id": "ff46e44c",
   "metadata": {
    "slideshow": {
     "slide_type": "subslide"
    }
   },
   "source": [
    "(ex:13.7)=\n",
    "### Example 13.7\n",
    "\n",
    "Consider a continuous-time LTI system for which the input $x(t)$ and output $y(t)$ are related by\n",
    "\n",
    "$$\\frac{d^2 y(t)}{dt^2} + \\frac{dy(t)}{dt} - 2y(t) = x(t)$$ (eq:386)\n",
    "\n",
    "a) Find the transfer function $H(s)$\n",
    "\n",
    "b) Find the impulse response $h(t)$"
   ]
  },
  {
   "cell_type": "markdown",
   "id": "c36ae201",
   "metadata": {
    "slideshow": {
     "slide_type": "notes"
    }
   },
   "source": [
    "For the answer, refer to the lecture recording or see solved problem 3.30 in in {cite}`schaum`."
   ]
  },
  {
   "cell_type": "markdown",
   "id": "778fed48",
   "metadata": {
    "slideshow": {
     "slide_type": "subslide"
    }
   },
   "source": [
    "(ex:13.8)=\n",
    "### Example 13.8\n",
    "\n",
    "The feedback interconnection of two causal subsytems with transfer functions $F(s)$ and $G(s)$ is shown in {numref}`fig:ex13.8`. Find the overall system function $H(s)$ for this feedback system.\n",
    "\n",
    ":::{figure-md} fig:ex13.8\n",
    "<img src=\"pictures/figex13_8.png\" alt=\"Feedback system\" width=\"50%\">\n",
    "\n",
    "Feedback system\n",
    ":::"
   ]
  },
  {
   "cell_type": "markdown",
   "id": "d89f9103",
   "metadata": {
    "slideshow": {
     "slide_type": "notes"
    }
   },
   "source": [
    "For the answer, refer to the lecture recording or see solved problem 3.31 in in {cite}`schaum`."
   ]
  },
  {
   "cell_type": "markdown",
   "id": "147a4303",
   "metadata": {
    "slideshow": {
     "slide_type": "notes"
    }
   },
   "source": [
    "## Homework\n",
    "\n",
    "Attempt any of the questions in {ref}`examples12` of these course notes that have not been covered in the examples class.\n",
    "\n",
    "The solutions for Unit 4.6 are in **Section 3.8 Solved Problems** {cite}`schaum` starting at 3.23. (The actual numbers are listed with the examples above.)\n",
    "\n",
    "We will do some problems from these sets in Examples Class 4.\n",
    "\n",
    "### Supplementary Problems\n",
    "Supplementary problems 3.52-3.55 in {cite}`schaum` are related to the content covered in this unit."
   ]
  },
  {
   "cell_type": "markdown",
   "id": "6e95f4c5",
   "metadata": {
    "slideshow": {
     "slide_type": "notes"
    }
   },
   "source": [
    "## Summary\n",
    "\n",
    "In this unit we have presented the idea of a *transfer function* (or *system function*) that allows us to represent the impulse response $h(t)$ by the Laplace transform $H(s)$. We also looked at the characteristics of the Laplace transform, transform functions for LCCODEs and series and parallel combination of transfer functions. \n",
    "\n",
    "* {ref}`system_function`\n",
    "\n",
    "* {ref}`char_LTI_systems`\n",
    "\n",
    "* {ref}`tf_for_LCCODE`\n",
    "\n",
    "* {ref}`block_diagrams`\n",
    "\n",
    "* {ref}`examples13`\n",
    "\n",
    "**My main message to you is that, as an engineer faced with a LCCODE to solve, you should use Laplace transforms!**\n",
    "\n",
    "\n",
    "### Take Aways\n",
    "\n",
    "#### Transfer function\n",
    "\n",
    "The summary of the time-domain and s-domain transforms are illustrated in {numref}`fig:3-7`. The key result is $Y(s) = H(s)X(s)$ which simplifies the computation of the system response $y(t) = h(t)*x(t)$ which has to be done using time-convolution.\n",
    "\n",
    "If we know $Y(s)$ and $X(s)$ we can determine $H(s)$ using\n",
    "\n",
    "$$H(s) = \\frac{Y(s)}{X(s)}$$\n",
    "\n",
    "and $h(t) = \\mathcal{L}^{-1}\\left\\{H(s)\\right\\}$\n",
    "\n",
    "#### Characterization of LTI Systems\n",
    "\n",
    "For continuous-time LTI systems the causality and stabilty of a system is guaranteed if all the poles of the transfer function are in the left-half of the $s$-plane and the $j\\omega$ axis is included in the region of convergence. That is, if the poles of the system $H(s)$, $s_k$ have real part $-\\sigma_k$, the system will be causal and stable if $\\sigma_k < 0$ for all $k$.\n",
    "\n",
    "#### Laplace transforms of LCCODEs\n",
    "\n",
    "The linear constant coefficient ordinary differential equation (LLCODE) of a system involving input signal $x(t)$ and output signal $y(t)$ is given in {eq}`eq:338`. When we take Laplace transforms of this differential equation, ignoring initial conditions, we get the polynomial equation {eq}`eq:339` from which we can determine the transfer function:\n",
    "\n",
    "$$H(s) = \\frac{Y(s)}{X(s)} = \\frac{b_M s^M + b_{M-1}s^{M-1}+ \\cdots + b_1 s + b_0}{a_{N} s^N + b_{N-1}s^{N-1}+ \\cdots + a_1 s + a_0}$$\n",
    "\n",
    "This is a rational polynomial in $s$ and it can be solved for any input $x(t)$ that has a Laplace transform $X(s)$ by forming\n",
    "\n",
    "$$Y(s) = H(s)X(s)$$\n",
    "\n",
    "and taking inverse Laplace transforms using the Partial Fraction Expansion method discussed in {ref}`unit4.5`.\n",
    "\n",
    "Several examples are given in {ref}`examples12` in which the problems given in {ref}`examples8` of {ref}`unit3.3` are redone as Laplace transform problems. \n",
    "\n",
    "\n",
    "#### Block diagrams\n",
    "\n",
    "Complex systems can be broken down into subsystems which may be represented by block diagrams which have either series or parallel connections (see {numref}`Fig:3-8` and {numref}`Fig:3-9` and feedback (See {ref}`ex:13.8`)\n",
    "\n",
    "\n",
    "### Still to come\n",
    "\n",
    "We will use transfer functions to solve circuit problems in {ref}`unit4.7` and conclude our study of Laplace transforms in {ref}`unit4.8` with a look at the use of Transfer functions in the MATLAB control systems toolbox and the simulation tool Simulink. We will also look at some of the problems you have studied in **EG-152 Analogue Design** hopefully confirming some of the results you have obbserved in the lab.\n",
    "\n",
    "In **EG-247 Digital Signal Processing** we will start from the knowledge gained in {ref}`Unit 4` developing transform ideas further via the Fourier Transform, Z-Transform and the design of systems for signal processing. In **EG-243 Control Systems** you will model feedback control signals using block diagrams and transfer functions. You will also study how knowledge of poles and zeros can be exploited in the design of systems with stable responses."
   ]
  },
  {
   "cell_type": "markdown",
   "id": "d5ebb8de",
   "metadata": {
    "slideshow": {
     "slide_type": "notes"
    }
   },
   "source": [
    "## Next time\n",
    "\n",
    "We move on to consider \n",
    "\n",
    "* {ref}`unit4.7`\n",
    "\n",
    "## References\n",
    "\n",
    "```{bibliography}\n",
    ":filter: docname in docnames\n",
    "```"
   ]
  }
 ],
 "metadata": {
  "jupytext": {
   "formats": "ipynb,md:myst",
   "text_representation": {
    "extension": ".md",
    "format_name": "myst",
    "format_version": 0.13,
    "jupytext_version": "1.14.4"
   }
  },
  "kernelspec": {
   "display_name": "Matlab",
   "language": "matlab",
   "name": "matlab"
  },
  "language_info": {
   "codemirror_mode": "octave",
   "file_extension": ".m",
   "help_links": [
    {
     "text": "MetaKernel Magics",
     "url": "https://metakernel.readthedocs.io/en/latest/source/README.html"
    }
   ],
   "mimetype": "text/x-octave",
   "name": "matlab",
   "version": "0.17.1"
  },
  "source_map": [
   15,
   20,
   24,
   30,
   44,
   53,
   61,
   67,
   71,
   75,
   79,
   89,
   136,
   146,
   152,
   158,
   164,
   170,
   174,
   178,
   187,
   195,
   203,
   209,
   215,
   219,
   227,
   232,
   240,
   244,
   251,
   255,
   266,
   270,
   277,
   281,
   288,
   292,
   299,
   303,
   316,
   320,
   333,
   337,
   350,
   411
  ]
 },
 "nbformat": 4,
 "nbformat_minor": 5
}