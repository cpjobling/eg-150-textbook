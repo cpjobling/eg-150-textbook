{
 "cells": [
  {
   "cell_type": "markdown",
   "id": "48bb5d73",
   "metadata": {
    "slideshow": {
     "slide_type": "slide"
    }
   },
   "source": [
    "# Worksheet 7\n",
    "\n",
    "## To accompany Chapter 3.4 Transfer Functions"
   ]
  },
  {
   "cell_type": "markdown",
   "id": "7666115c",
   "metadata": {
    "slideshow": {
     "slide_type": "notes"
    }
   },
   "source": [
    "## Colophon\n",
    "\n",
    "This worksheet can be downloaded as a [PDF file](https://cpjobling.github.io/eg-247-textbook/worksheets/worksheet7.pdf). We will step through this worksheet in class. \n",
    "\n",
    "An annotatable copy of the notes for this presentation will be distributed before the second class meeting as **Worksheet 7** in the **Week 3: Classroom Activities** section of the Canvas site. I will also distribute a copy to your personal **Worksheets** section of the **OneNote Class Notebook** so that you can add your own notes using OneNote. \n",
    "\n",
    "You are expected to have at least watched the video presentation of [Chapter 3.4](https://cpjobling.github.io/eg-247-textbook/laplace_transform/4/transfer_functions) of the [notes](https://cpjobling.github.io/eg-247-textbook/) before coming to class. If you haven't watch it afterwards!\n",
    "\n",
    "After class, the lecture recording and the annotated version of the worksheets will be made available through Canvas."
   ]
  },
  {
   "cell_type": "markdown",
   "id": "da06a088",
   "metadata": {
    "slideshow": {
     "slide_type": "slide"
    }
   },
   "source": [
    "## Agenda\n",
    "\n",
    "* Transfer Functions"
   ]
  },
  {
   "cell_type": "markdown",
   "id": "3e51cebc",
   "metadata": {
    "slideshow": {
     "slide_type": "fragment"
    }
   },
   "source": [
    "* A Couple of Examples"
   ]
  },
  {
   "cell_type": "markdown",
   "id": "cdb4e32f",
   "metadata": {
    "slideshow": {
     "slide_type": "fragment"
    }
   },
   "source": [
    "* Circuit Analysis Using MATLAB LTI Transfer Function Block"
   ]
  },
  {
   "cell_type": "markdown",
   "id": "9e514f74",
   "metadata": {
    "slideshow": {
     "slide_type": "fragment"
    }
   },
   "source": [
    "* Circuit Simulation Using Simulink Transfer Function Block"
   ]
  },
  {
   "cell_type": "code",
   "execution_count": null,
   "id": "67603b8f",
   "metadata": {
    "slideshow": {
     "slide_type": "skip"
    },
    "tags": [
     "remove-output"
    ]
   },
   "outputs": [],
   "source": [
    "% Matlab setup\n",
    "clear all\n",
    "cd ../matlab \n",
    "pwd\n",
    "format compact"
   ]
  },
  {
   "cell_type": "markdown",
   "id": "8bb56f3d",
   "metadata": {
    "slideshow": {
     "slide_type": "slide"
    }
   },
   "source": [
    "## Transfer Functions for Circuits"
   ]
  },
  {
   "cell_type": "markdown",
   "id": "236b8f90",
   "metadata": {
    "slideshow": {
     "slide_type": "subslide"
    }
   },
   "source": [
    "### Example 6\n",
    "\n",
    "Derive an expression for the transfer function $G(s)$ for the circuit below. In this circuit $R_g$ represents the internal resistance of the applied (voltage) source $v_s$, and $R_L$ represents the resistance of the load that consists of $R_L$, $L$ and $C$."
   ]
  },
  {
   "cell_type": "markdown",
   "id": "341e747d",
   "metadata": {
    "slideshow": {
     "slide_type": "subslide"
    }
   },
   "source": [
    "<img title=\"Circuit for Example 6\" src=\"pictures/example6.png\" width=\"50%\" />"
   ]
  },
  {
   "cell_type": "markdown",
   "id": "47dce6e7",
   "metadata": {
    "slideshow": {
     "slide_type": "notes"
    }
   },
   "source": [
    "<pre style=\"border: 2px solid blue\">\n",
    "\n",
    "\n",
    "\n",
    "\n",
    "\n",
    "\n",
    "\n",
    "\n",
    "\n",
    "\n",
    "\n",
    "\n",
    "\n",
    "\n",
    "\n",
    "</pre>"
   ]
  },
  {
   "cell_type": "markdown",
   "id": "c103ed80",
   "metadata": {
    "slideshow": {
     "slide_type": "subslide"
    }
   },
   "source": [
    "### Sketch of Solution for Example 6\n",
    "\n",
    "* Replace $v_s(t)$, $R_g$, $R_L$, $L$ and $C$ by their transformed (*complex frequency*) equivalents: $V_s(s)$, $R_g$, $R_L$, $sL$ and $1/(sC)$\n",
    "* Use the *Voltage Divider Rule* to determine $V_\\mathrm{out}(s)$ as a function of $V_s(s)$ \n",
    "* Form $G(s)$ by writing down the ratio $V_\\mathrm{out}(s)/V_s(s)$"
   ]
  },
  {
   "cell_type": "markdown",
   "id": "27579d77",
   "metadata": {
    "slideshow": {
     "slide_type": "notes"
    }
   },
   "source": [
    "### Worked solution for Example 6\n",
    "\n",
    "Pencast: [ex6.pdf](https://cpjobling.github.io/eg-247-textbook/laplace_transform/worked_examples/ex6.pdf) - open in Adobe Acrobat Reader."
   ]
  },
  {
   "cell_type": "markdown",
   "id": "0df5daa3",
   "metadata": {
    "slideshow": {
     "slide_type": "subslide"
    }
   },
   "source": [
    "### Answer for Example 6\n",
    "\n",
    "$$G(s) = \\frac{V_\\mathrm{out}(s)}{V_s(s)} = \\frac{R_L + sL + 1/sC}{R_g + R_L + sL + 1/sC}.$$"
   ]
  },
  {
   "cell_type": "markdown",
   "id": "69970d79",
   "metadata": {
    "slideshow": {
     "slide_type": "subslide"
    }
   },
   "source": [
    "### Example 7\n",
    "\n",
    "Compute the transfer function for the op-amp circuit shown below in terms of the circuit constants $R_1$, $R_2$, $R_3$, $C_1$ and $C_2$. Then replace the complex variable $s$ with $j\\omega$, and the circuit constants with their numerical values and plot the magnitude\n",
    "\n",
    "$$\\left|G(j\\omega)\\right| = \\frac{\\left|V_{\\mathrm{out}}(j\\omega)\\right|}{\\left|V_{\\mathrm{in}}(j\\omega)\\right|}$$\n",
    "\n",
    "versus radian frequency $\\omega$ rad/s."
   ]
  },
  {
   "cell_type": "markdown",
   "id": "bc091e7d",
   "metadata": {
    "slideshow": {
     "slide_type": "subslide"
    }
   },
   "source": [
    "<img alt=\"Circuit for Example 7\" src=\"pictures/example7.png\" height=\"50%\" />"
   ]
  },
  {
   "cell_type": "markdown",
   "id": "fe524d6f",
   "metadata": {
    "slideshow": {
     "slide_type": "notes"
    }
   },
   "source": [
    "<pre style=\"border: 2px solid blue\">\n",
    "\n",
    "\n",
    "\n",
    "\n",
    "\n",
    "\n",
    "\n",
    "\n",
    "\n",
    "\n",
    "\n",
    "\n",
    "\n",
    "\n",
    "\n",
    "</pre>"
   ]
  },
  {
   "cell_type": "markdown",
   "id": "2b96985c",
   "metadata": {
    "slideshow": {
     "slide_type": "subslide"
    }
   },
   "source": [
    "### Sketch of Solution for Example 7\n",
    "\n",
    "* Replace the components and voltages in the circuit diagram with their complex frequency equivalents\n",
    "* Use nodal analysis to determine the voltages at the nodes either side of the 50K resistor $R_3$\n",
    "* Note that the voltage at the input to the op-amp is a virtual ground\n",
    "* Solve for $V_{\\mathrm{out}}(s)$ as a function of $V_{\\mathrm{in}}(s)$\n",
    "* Form the reciprocal $G(s) = V_{\\mathrm{out}}(s)/V_{\\mathrm{in}}(s)$\n",
    "* Use MATLAB to calculate the component values, then replace $s$ by $j\\omega$.\n",
    "* Plot \n",
    "    $$\\left|G(j\\omega)\\right|$$\n",
    "  on log-linear \"paper\"."
   ]
  },
  {
   "cell_type": "markdown",
   "id": "ad3d2aae",
   "metadata": {
    "slideshow": {
     "slide_type": "notes"
    }
   },
   "source": [
    "### Worked solution for Example 7\n",
    "\n",
    "Pencast: [ex7.pdf](https://cpjobling.github.io/eg-247-textbook/laplace_transform/worked_examples/ex7.pdf) - open in Adobe Acrobat Reader."
   ]
  },
  {
   "cell_type": "markdown",
   "id": "0c45bdbb",
   "metadata": {
    "slideshow": {
     "slide_type": "subslide"
    }
   },
   "source": [
    "### Answer for Example 7\n",
    "\n",
    "$$G(s) = \\frac{V_\\mathrm{out}(s)}{V_\\mathrm{in}(s)} = \\frac{-1}{R_1\\left(\\left(1/R_1 + 1/R_2 + 1/R_3 + sC_1\\right)\\left(sC_2R_3\\right)+1/R_2\\right)}.$$"
   ]
  },
  {
   "cell_type": "markdown",
   "id": "3be0f2b6",
   "metadata": {
    "slideshow": {
     "slide_type": "subslide"
    }
   },
   "source": [
    "### The Matlab Bit\n",
    "\n",
    "See attached script: [solution7.m](https://cpjobling.github.io/eg-247-textbook/laplace_transform/matlab/solution7.m)."
   ]
  },
  {
   "cell_type": "markdown",
   "id": "83e54315",
   "metadata": {
    "slideshow": {
     "slide_type": "subslide"
    }
   },
   "source": [
    "#### Week 3: Solution 7"
   ]
  },
  {
   "cell_type": "code",
   "execution_count": null,
   "id": "8a30df8f",
   "metadata": {
    "slideshow": {
     "slide_type": "fragment"
    },
    "tags": [
     "remove-output"
    ]
   },
   "outputs": [],
   "source": [
    "syms s;"
   ]
  },
  {
   "cell_type": "code",
   "execution_count": null,
   "id": "42cb0944",
   "metadata": {
    "slideshow": {
     "slide_type": "subslide"
    },
    "tags": [
     "remove-output"
    ]
   },
   "outputs": [],
   "source": [
    "R1 = 200*10^3; % 200 kOhm \n",
    "R2 = 40*10^3; % 40 kOhm\n",
    "R3 = 50*10^3; % 50 kOhm\n",
    "\n",
    "C1 = 25*10^(-9); % 25 nF\n",
    "C2 = 10*10^(-9); % 10 nF"
   ]
  },
  {
   "cell_type": "code",
   "execution_count": null,
   "id": "50efd3e0",
   "metadata": {
    "slideshow": {
     "slide_type": "subslide"
    },
    "tags": [
     "remove-output"
    ]
   },
   "outputs": [],
   "source": [
    "den = R1*((1/R1+ 1/R2 + 1/R3 + s*C1)*(s*R3*C2) + 1/R2);\n",
    "simplify(den)"
   ]
  },
  {
   "cell_type": "markdown",
   "id": "3397aa9e",
   "metadata": {
    "slideshow": {
     "slide_type": "subslide"
    }
   },
   "source": [
    "Result is: `100*s*((7555786372591433*s)/302231454903657293676544 + 1/20000) + 5`"
   ]
  },
  {
   "cell_type": "markdown",
   "id": "f168426b",
   "metadata": {
    "slideshow": {
     "slide_type": "subslide"
    }
   },
   "source": [
    "Simplify coefficients of s in denominator"
   ]
  },
  {
   "cell_type": "code",
   "execution_count": null,
   "id": "40a0b9fe",
   "metadata": {
    "slideshow": {
     "slide_type": "subslide"
    },
    "tags": [
     "remove-output"
    ]
   },
   "outputs": [],
   "source": [
    "format long\n",
    "denG = sym2poly(ans)"
   ]
  },
  {
   "cell_type": "code",
   "execution_count": null,
   "id": "4d944bd4",
   "metadata": {
    "slideshow": {
     "slide_type": "subslide"
    },
    "tags": [
     "remove-output"
    ]
   },
   "outputs": [],
   "source": [
    "numG = -1;"
   ]
  },
  {
   "cell_type": "markdown",
   "id": "5341a037",
   "metadata": {
    "slideshow": {
     "slide_type": "subslide"
    }
   },
   "source": [
    "Plot\n",
    "\n",
    "For convenience, define coefficients $a$ and $b$:"
   ]
  },
  {
   "cell_type": "code",
   "execution_count": null,
   "id": "9033d981",
   "metadata": {
    "tags": [
     "remove-output"
    ]
   },
   "outputs": [],
   "source": [
    "a = denG(1);\n",
    "b = denG(2);"
   ]
  },
  {
   "cell_type": "code",
   "execution_count": null,
   "id": "eb615ed9",
   "metadata": {
    "slideshow": {
     "slide_type": "subslide"
    },
    "tags": [
     "remove-output"
    ]
   },
   "outputs": [],
   "source": [
    "w = 1:10:10000;"
   ]
  },
  {
   "cell_type": "markdown",
   "id": "7d9dbeba",
   "metadata": {
    "slideshow": {
     "slide_type": "subslide"
    }
   },
   "source": [
    "$$G(j\\omega) = \\frac{-1}{a\\omega^2 - jb\\omega + 5}$$"
   ]
  },
  {
   "cell_type": "code",
   "execution_count": null,
   "id": "71adf70f",
   "metadata": {
    "slideshow": {
     "slide_type": "subslide"
    },
    "tags": [
     "remove-output"
    ]
   },
   "outputs": [],
   "source": [
    "Gw = -1./(a*w.^2 - j.*b.*w + denG(3));"
   ]
  },
  {
   "cell_type": "code",
   "execution_count": null,
   "id": "dbbeeba1",
   "metadata": {
    "slideshow": {
     "slide_type": "subslide"
    },
    "tags": [
     "remove-output"
    ]
   },
   "outputs": [],
   "source": [
    "semilogx(w, abs(Gw))\n",
    "xlabel('Radian frequency w (rad/s')\n",
    "ylabel('|Vout/Vin|')\n",
    "title('Magnitude Vout/Vin vs. Radian Frequency')\n",
    "grid"
   ]
  },
  {
   "cell_type": "markdown",
   "id": "fdfe2a6d",
   "metadata": {
    "slideshow": {
     "slide_type": "slide"
    }
   },
   "source": [
    "## Using Transfer Functions in Matlab for System Analysis\n",
    "\n",
    "Please use the file [tf_matlab.m](https://cpjobling.github.io/eg-247-textbook/laplace_transform/matlab/tf_matlab.m) to explore the Transfer Function features provide by Matlab. Use the *publish* option to generate a nicely formatted document."
   ]
  },
  {
   "cell_type": "markdown",
   "id": "76959825",
   "metadata": {
    "slideshow": {
     "slide_type": "slide"
    }
   },
   "source": [
    "## Using Transfer Functions in Simulink for System Simulation\n",
    "\n",
    "![Using Transfer Functions in Simulink for System Simulation](pictures/sim_tf.png)\n",
    "\n",
    "The Simulink transfer function (**`Transfer Fcn`**) block shown above implements a transfer function representing a general\n",
    "input output function\n",
    "\n",
    "$$G(s) = \\frac{N(s)}{D(s)}$$\n",
    "\n",
    "that it is not specific nor restricted to circuit analysis. It can, however be used in modelling and simulation studies."
   ]
  },
  {
   "cell_type": "markdown",
   "id": "d1a0ef18",
   "metadata": {
    "slideshow": {
     "slide_type": "subslide"
    }
   },
   "source": [
    "### Example\n",
    "\n",
    "Recast Example 7 as a MATLAB problem using the LTI Transfer Function block. \n",
    "\n",
    "For simplicity use parameters $R_1 = R_2 = R_3 = 1\\; \\Omega$, and $C_1 = C_2 = 1$ F.\n",
    "\n",
    "Calculate the step response using the LTI functions.\n",
    "\n",
    "Verify the result with Simulink.\n",
    "\n",
    "The Matlab solution: [example8.m](https://cpjobling.github.io/eg-247-textbook/laplace_transform/matlab/example8.m)"
   ]
  },
  {
   "cell_type": "markdown",
   "id": "7020f377",
   "metadata": {
    "slideshow": {
     "slide_type": "subslide"
    }
   },
   "source": [
    "#### MATLAB Solution\n",
    "From a previous analysis the transfer function is:\n",
    "\n",
    "$$G(s) = \\frac{V_\\mathrm{out}}{V_\\mathrm{in}} = \\frac{-1}{R_1\\left[(1/R_1 + 1/R_2 + 1/R_3 + sC_1)(sR_3C_2) + 1/R_2\\right]}$$\n",
    "\n",
    "so substituting the component values we get:\n",
    "\n",
    "$$G(s) = \\frac{V_{\\mathrm{out}}}{V_{\\mathrm{in}}} = \\frac{-1}{s^2 + 3s + 1}$$\n",
    "\n",
    "We can find the step response by letting $v_{\\mathrm{in}}(t) = u_0(t)$ so that\n",
    "$V_{\\mathrm{in}}(s)=1/s$ then \n",
    "\n",
    "$$V_{\\mathrm{out}}(s) = \\frac{-1}{s^2 + 3s + 1}.\\frac{1}{s}$$\n",
    " \n",
    "We can solve this by partial fraction expansion and inverse Laplace transform\n",
    "as is done in the text book with the help of Matlab's `residue` function.\n",
    "\n",
    "Here, however we'll use the LTI block that was introduced in the lecture."
   ]
  },
  {
   "cell_type": "markdown",
   "id": "e36e1454",
   "metadata": {
    "slideshow": {
     "slide_type": "subslide"
    }
   },
   "source": [
    "Define the circuit as a transfer function"
   ]
  },
  {
   "cell_type": "code",
   "execution_count": null,
   "id": "05602239",
   "metadata": {
    "slideshow": {
     "slide_type": "subslide"
    },
    "tags": [
     "remove-output"
    ]
   },
   "outputs": [],
   "source": [
    "G = tf([-1],[1 3 1])"
   ]
  },
  {
   "cell_type": "markdown",
   "id": "095b6bfe",
   "metadata": {
    "slideshow": {
     "slide_type": "subslide"
    }
   },
   "source": [
    "step response is then:"
   ]
  },
  {
   "cell_type": "code",
   "execution_count": null,
   "id": "39adf772",
   "metadata": {
    "slideshow": {
     "slide_type": "subslide"
    },
    "tags": [
     "remove-output"
    ]
   },
   "outputs": [],
   "source": [
    "step(G)"
   ]
  },
  {
   "cell_type": "markdown",
   "id": "f2dfa9c5",
   "metadata": {
    "slideshow": {
     "slide_type": "subslide"
    }
   },
   "source": [
    "Simples!"
   ]
  },
  {
   "cell_type": "markdown",
   "id": "ae6f73cd",
   "metadata": {
    "slideshow": {
     "slide_type": "subslide"
    }
   },
   "source": [
    "#### Simulink model\n",
    "\n",
    "See [example_8.slx](https://cpjobling.github.io/eg-247-textbook/laplace_transform/matlab/example_8.slx)"
   ]
  },
  {
   "cell_type": "code",
   "execution_count": null,
   "id": "d184618e",
   "metadata": {
    "slideshow": {
     "slide_type": "fragment"
    },
    "tags": [
     "remove-output"
    ]
   },
   "outputs": [],
   "source": [
    "open example_8"
   ]
  },
  {
   "cell_type": "markdown",
   "id": "93cecb98",
   "metadata": {
    "slideshow": {
     "slide_type": "notes"
    }
   },
   "source": [
    "![Simulink model](pictures/ex8_sim.png)"
   ]
  },
  {
   "cell_type": "markdown",
   "id": "4d49dc09",
   "metadata": {
    "slideshow": {
     "slide_type": "notes"
    }
   },
   "source": [
    "Result\n",
    "\n",
    "![Simulation result](pictures/ex8_sim_result.png)"
   ]
  },
  {
   "cell_type": "markdown",
   "id": "d2992c2e",
   "metadata": {
    "slideshow": {
     "slide_type": "subslide"
    }
   },
   "source": [
    "Let's go a bit further by finding the frequency response:"
   ]
  },
  {
   "cell_type": "code",
   "execution_count": null,
   "id": "05a8899d",
   "metadata": {
    "slideshow": {
     "slide_type": "subslide"
    },
    "tags": [
     "remove-output"
    ]
   },
   "outputs": [],
   "source": [
    "bode(G)"
   ]
  },
  {
   "cell_type": "markdown",
   "id": "620da91d",
   "metadata": {},
   "source": [
    "## Matlab Solutions\n",
    "\n",
    "For convenience, single script MATLAB solutions to the examples are provided and can be downloaded from the accompanying [MATLAB](https://github.com/cpjobling/eg-247-textbook/tree/master/laplace_transform/matlab) folder.\n",
    "\n",
    "* Solution 7 [[solution7.m](https://cpjobling.github.io/eg-247-textbook/laplace_transform/matlab/solution7.m)]\n",
    "* Example 8  [[example8.m](https://cpjobling.github.io/eg-247-textbook/laplace_transform/matlab/example8.m)]\n",
    "* Simulink model [[example_8.slx](https://cpjobling.github.io/eg-247-textbook/laplace_transform/matlab/example_8.slx)]"
   ]
  },
  {
   "cell_type": "code",
   "execution_count": null,
   "id": "2825837a",
   "metadata": {
    "tags": [
     "remove-output"
    ]
   },
   "outputs": [],
   "source": [
    "cd ../matlab\n",
    "ls\n",
    "open solution7"
   ]
  }
 ],
 "metadata": {
  "jupytext": {
   "formats": "ipynb,md:myst",
   "text_representation": {
    "extension": ".md",
    "format_name": "myst",
    "format_version": 0.13,
    "jupytext_version": "1.14.1"
   }
  },
  "kernelspec": {
   "display_name": "Matlab",
   "language": "matlab",
   "name": "matlab"
  },
  "source_map": [
   15,
   21,
   33,
   39,
   43,
   47,
   51,
   64,
   68,
   74,
   78,
   98,
   106,
   112,
   118,
   128,
   132,
   152,
   166,
   172,
   178,
   184,
   188,
   197,
   211,
   221,
   225,
   229,
   239,
   248,
   254,
   261,
   270,
   274,
   283,
   296,
   302,
   315,
   329,
   350,
   354,
   363,
   367,
   376,
   380,
   386,
   395,
   399,
   405,
   409,
   416,
   426
  ]
 },
 "nbformat": 4,
 "nbformat_minor": 5
}