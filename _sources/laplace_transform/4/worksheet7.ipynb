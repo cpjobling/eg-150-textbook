{
 "cells": [
  {
   "cell_type": "markdown",
   "id": "7cebfd1a",
   "metadata": {
    "slideshow": {
     "slide_type": "slide"
    }
   },
   "source": [
    "# Worksheet 7\n",
    "\n",
    "## To accompany Chapter 3.4 Transfer Functions"
   ]
  },
  {
   "cell_type": "markdown",
   "id": "c723bf2c",
   "metadata": {
    "slideshow": {
     "slide_type": "notes"
    }
   },
   "source": [
    "## Colophon\n",
    "\n",
    "This worksheet can be downloaded as a [PDF file](https://cpjobling.github.io/eg-247-textbook/worksheets/worksheet7.pdf). We will step through this worksheet in class. \n",
    "\n",
    "An annotatable copy of the notes for this presentation will be distributed before the second class meeting as **Worksheet 7** in the **Week 3: Classroom Activities** section of the Canvas site. I will also distribute a copy to your personal **Worksheets** section of the **OneNote Class Notebook** so that you can add your own notes using OneNote. \n",
    "\n",
    "You are expected to have at least watched the video presentation of [Chapter 3.4](https://cpjobling.github.io/eg-247-textbook/laplace_transform/4/transfer_functions) of the [notes](https://cpjobling.github.io/eg-247-textbook/) before coming to class. If you haven't watch it afterwards!\n",
    "\n",
    "After class, the lecture recording and the annotated version of the worksheets will be made available through Canvas."
   ]
  },
  {
   "cell_type": "markdown",
   "id": "cb52e0af",
   "metadata": {
    "slideshow": {
     "slide_type": "slide"
    }
   },
   "source": [
    "## Agenda\n",
    "\n",
    "* Transfer Functions"
   ]
  },
  {
   "cell_type": "markdown",
   "id": "ee935583",
   "metadata": {
    "slideshow": {
     "slide_type": "fragment"
    }
   },
   "source": [
    "* A Couple of Examples"
   ]
  },
  {
   "cell_type": "markdown",
   "id": "99f145df",
   "metadata": {
    "slideshow": {
     "slide_type": "fragment"
    }
   },
   "source": [
    "* Circuit Analysis Using MATLAB LTI Transfer Function Block"
   ]
  },
  {
   "cell_type": "markdown",
   "id": "058a4a31",
   "metadata": {
    "slideshow": {
     "slide_type": "fragment"
    }
   },
   "source": [
    "* Circuit Simulation Using Simulink Transfer Function Block"
   ]
  },
  {
   "cell_type": "code",
   "execution_count": null,
   "id": "fb10bba6",
   "metadata": {
    "slideshow": {
     "slide_type": "skip"
    },
    "tags": [
     "remove-output"
    ]
   },
   "outputs": [],
   "source": [
    "% Matlab setup\n",
    "clear all\n",
    "cd ../matlab \n",
    "pwd\n",
    "format compact"
   ]
  },
  {
   "cell_type": "markdown",
   "id": "a1dc0a75",
   "metadata": {
    "slideshow": {
     "slide_type": "slide"
    }
   },
   "source": [
    "## Transfer Functions for Circuits"
   ]
  },
  {
   "cell_type": "markdown",
   "id": "968c2667",
   "metadata": {
    "slideshow": {
     "slide_type": "subslide"
    }
   },
   "source": [
    "### Example 6\n",
    "\n",
    "Derive an expression for the transfer function $G(s)$ for the circuit below. In this circuit $R_g$ represents the internal resistance of the applied (voltage) source $v_s$, and $R_L$ represents the resistance of the load that consists of $R_L$, $L$ and $C$."
   ]
  },
  {
   "cell_type": "markdown",
   "id": "6bed8425",
   "metadata": {
    "slideshow": {
     "slide_type": "subslide"
    }
   },
   "source": [
    "<img title=\"Circuit for Example 6\" src=\"pictures/example6.png\" width=\"50%\" />"
   ]
  },
  {
   "cell_type": "markdown",
   "id": "7d6902a8",
   "metadata": {
    "slideshow": {
     "slide_type": "notes"
    }
   },
   "source": [
    "<pre style=\"border: 2px solid blue\">\n",
    "\n",
    "\n",
    "\n",
    "\n",
    "\n",
    "\n",
    "\n",
    "\n",
    "\n",
    "\n",
    "\n",
    "\n",
    "\n",
    "\n",
    "\n",
    "</pre>"
   ]
  },
  {
   "cell_type": "markdown",
   "id": "68492e09",
   "metadata": {
    "slideshow": {
     "slide_type": "subslide"
    }
   },
   "source": [
    "### Sketch of Solution for Example 6\n",
    "\n",
    "* Replace $v_s(t)$, $R_g$, $R_L$, $L$ and $C$ by their transformed (*complex frequency*) equivalents: $V_s(s)$, $R_g$, $R_L$, $sL$ and $1/(sC)$\n",
    "* Use the *Voltage Divider Rule* to determine $V_\\mathrm{out}(s)$ as a function of $V_s(s)$ \n",
    "* Form $G(s)$ by writing down the ratio $V_\\mathrm{out}(s)/V_s(s)$"
   ]
  },
  {
   "cell_type": "markdown",
   "id": "ee7f45b2",
   "metadata": {
    "slideshow": {
     "slide_type": "notes"
    }
   },
   "source": [
    "### Worked solution for Example 6\n",
    "\n",
    "Pencast: [ex6.pdf](https://cpjobling.github.io/eg-247-textbook/laplace_transform/worked_examples/ex6.pdf) - open in Adobe Acrobat Reader."
   ]
  },
  {
   "cell_type": "markdown",
   "id": "af030225",
   "metadata": {
    "slideshow": {
     "slide_type": "subslide"
    }
   },
   "source": [
    "### Answer for Example 6\n",
    "\n",
    "$$G(s) = \\frac{V_\\mathrm{out}(s)}{V_s(s)} = \\frac{R_L + sL + 1/sC}{R_g + R_L + sL + 1/sC}.$$"
   ]
  },
  {
   "cell_type": "markdown",
   "id": "fa6b5730",
   "metadata": {
    "slideshow": {
     "slide_type": "subslide"
    }
   },
   "source": [
    "### Example 7\n",
    "\n",
    "Compute the transfer function for the op-amp circuit shown below in terms of the circuit constants $R_1$, $R_2$, $R_3$, $C_1$ and $C_2$. Then replace the complex variable $s$ with $j\\omega$, and the circuit constants with their numerical values and plot the magnitude\n",
    "\n",
    "$$\\left|G(j\\omega)\\right| = \\frac{\\left|V_{\\mathrm{out}}(j\\omega)\\right|}{\\left|V_{\\mathrm{in}}(j\\omega)\\right|}$$\n",
    "\n",
    "versus radian frequency $\\omega$ rad/s."
   ]
  },
  {
   "cell_type": "markdown",
   "id": "01573f57",
   "metadata": {
    "slideshow": {
     "slide_type": "subslide"
    }
   },
   "source": [
    "<img alt=\"Circuit for Example 7\" src=\"pictures/example7.png\" height=\"50%\" />"
   ]
  },
  {
   "cell_type": "markdown",
   "id": "e9f51ff0",
   "metadata": {
    "slideshow": {
     "slide_type": "notes"
    }
   },
   "source": [
    "<pre style=\"border: 2px solid blue\">\n",
    "\n",
    "\n",
    "\n",
    "\n",
    "\n",
    "\n",
    "\n",
    "\n",
    "\n",
    "\n",
    "\n",
    "\n",
    "\n",
    "\n",
    "\n",
    "</pre>"
   ]
  },
  {
   "cell_type": "markdown",
   "id": "909d0ea7",
   "metadata": {
    "slideshow": {
     "slide_type": "subslide"
    }
   },
   "source": [
    "### Sketch of Solution for Example 7\n",
    "\n",
    "* Replace the components and voltages in the circuit diagram with their complex frequency equivalents\n",
    "* Use nodal analysis to determine the voltages at the nodes either side of the 50K resistor $R_3$\n",
    "* Note that the voltage at the input to the op-amp is a virtual ground\n",
    "* Solve for $V_{\\mathrm{out}}(s)$ as a function of $V_{\\mathrm{in}}(s)$\n",
    "* Form the reciprocal $G(s) = V_{\\mathrm{out}}(s)/V_{\\mathrm{in}}(s)$\n",
    "* Use MATLAB to calculate the component values, then replace $s$ by $j\\omega$.\n",
    "* Plot \n",
    "    $$\\left|G(j\\omega)\\right|$$\n",
    "  on log-linear \"paper\"."
   ]
  },
  {
   "cell_type": "markdown",
   "id": "bc432452",
   "metadata": {
    "slideshow": {
     "slide_type": "notes"
    }
   },
   "source": [
    "### Worked solution for Example 7\n",
    "\n",
    "Pencast: [ex7.pdf](https://cpjobling.github.io/eg-247-textbook/laplace_transform/worked_examples/ex7.pdf) - open in Adobe Acrobat Reader."
   ]
  },
  {
   "cell_type": "markdown",
   "id": "ef17510e",
   "metadata": {
    "slideshow": {
     "slide_type": "subslide"
    }
   },
   "source": [
    "### Answer for Example 7\n",
    "\n",
    "$$G(s) = \\frac{V_\\mathrm{out}(s)}{V_\\mathrm{in}(s)} = \\frac{-1}{R_1\\left(\\left(1/R_1 + 1/R_2 + 1/R_3 + sC_1\\right)\\left(sC_2R_3\\right)+1/R_2\\right)}.$$"
   ]
  },
  {
   "cell_type": "markdown",
   "id": "2cd2ff0c",
   "metadata": {
    "slideshow": {
     "slide_type": "subslide"
    }
   },
   "source": [
    "### The Matlab Bit\n",
    "\n",
    "See attached script: [solution7.m](https://cpjobling.github.io/eg-247-textbook/laplace_transform/matlab/solution7.m)."
   ]
  },
  {
   "cell_type": "markdown",
   "id": "1e1eaed9",
   "metadata": {
    "slideshow": {
     "slide_type": "subslide"
    }
   },
   "source": [
    "#### Week 3: Solution 7"
   ]
  },
  {
   "cell_type": "code",
   "execution_count": null,
   "id": "f96974b7",
   "metadata": {
    "slideshow": {
     "slide_type": "fragment"
    },
    "tags": [
     "remove-output"
    ]
   },
   "outputs": [],
   "source": [
    "syms s;"
   ]
  },
  {
   "cell_type": "code",
   "execution_count": null,
   "id": "9453e9e9",
   "metadata": {
    "slideshow": {
     "slide_type": "subslide"
    },
    "tags": [
     "remove-output"
    ]
   },
   "outputs": [],
   "source": [
    "R1 = 200*10^3; % 200 kOhm \n",
    "R2 = 40*10^3; % 40 kOhm\n",
    "R3 = 50*10^3; % 50 kOhm\n",
    "\n",
    "C1 = 25*10^(-9); % 25 nF\n",
    "C2 = 10*10^(-9); % 10 nF"
   ]
  },
  {
   "cell_type": "code",
   "execution_count": null,
   "id": "b5e7c72b",
   "metadata": {
    "slideshow": {
     "slide_type": "subslide"
    },
    "tags": [
     "remove-output"
    ]
   },
   "outputs": [],
   "source": [
    "den = R1*((1/R1+ 1/R2 + 1/R3 + s*C1)*(s*R3*C2) + 1/R2);\n",
    "simplify(den)"
   ]
  },
  {
   "cell_type": "markdown",
   "id": "4e9c86e8",
   "metadata": {
    "slideshow": {
     "slide_type": "subslide"
    }
   },
   "source": [
    "Result is: `100*s*((7555786372591433*s)/302231454903657293676544 + 1/20000) + 5`"
   ]
  },
  {
   "cell_type": "markdown",
   "id": "8d2e51ca",
   "metadata": {
    "slideshow": {
     "slide_type": "subslide"
    }
   },
   "source": [
    "Simplify coefficients of s in denominator"
   ]
  },
  {
   "cell_type": "code",
   "execution_count": null,
   "id": "c87bcb14",
   "metadata": {
    "slideshow": {
     "slide_type": "subslide"
    },
    "tags": [
     "remove-output"
    ]
   },
   "outputs": [],
   "source": [
    "format long\n",
    "denG = sym2poly(ans)"
   ]
  },
  {
   "cell_type": "code",
   "execution_count": null,
   "id": "59fbe140",
   "metadata": {
    "slideshow": {
     "slide_type": "subslide"
    },
    "tags": [
     "remove-output"
    ]
   },
   "outputs": [],
   "source": [
    "numG = -1;"
   ]
  },
  {
   "cell_type": "markdown",
   "id": "577af451",
   "metadata": {
    "slideshow": {
     "slide_type": "subslide"
    }
   },
   "source": [
    "Plot\n",
    "\n",
    "For convenience, define coefficients $a$ and $b$:"
   ]
  },
  {
   "cell_type": "code",
   "execution_count": null,
   "id": "c9090573",
   "metadata": {
    "tags": [
     "remove-output"
    ]
   },
   "outputs": [],
   "source": [
    "a = denG(1);\n",
    "b = denG(2);"
   ]
  },
  {
   "cell_type": "code",
   "execution_count": null,
   "id": "40c362ff",
   "metadata": {
    "slideshow": {
     "slide_type": "subslide"
    },
    "tags": [
     "remove-output"
    ]
   },
   "outputs": [],
   "source": [
    "w = 1:10:10000;"
   ]
  },
  {
   "cell_type": "markdown",
   "id": "0c1d3bc1",
   "metadata": {
    "slideshow": {
     "slide_type": "subslide"
    }
   },
   "source": [
    "$$G(j\\omega) = \\frac{-1}{a\\omega^2 - jb\\omega + 5}$$"
   ]
  },
  {
   "cell_type": "code",
   "execution_count": null,
   "id": "db0c69a2",
   "metadata": {
    "slideshow": {
     "slide_type": "subslide"
    },
    "tags": [
     "remove-output"
    ]
   },
   "outputs": [],
   "source": [
    "Gw = -1./(a*w.^2 - j.*b.*w + denG(3));"
   ]
  },
  {
   "cell_type": "code",
   "execution_count": null,
   "id": "7f547dba",
   "metadata": {
    "slideshow": {
     "slide_type": "subslide"
    },
    "tags": [
     "remove-output"
    ]
   },
   "outputs": [],
   "source": [
    "semilogx(w, abs(Gw))\n",
    "xlabel('Radian frequency w (rad/s')\n",
    "ylabel('|Vout/Vin|')\n",
    "title('Magnitude Vout/Vin vs. Radian Frequency')\n",
    "grid"
   ]
  },
  {
   "cell_type": "markdown",
   "id": "022cd140",
   "metadata": {
    "slideshow": {
     "slide_type": "slide"
    }
   },
   "source": [
    "## Using Transfer Functions in Matlab for System Analysis\n",
    "\n",
    "Please use the file [tf_matlab.m](https://cpjobling.github.io/eg-247-textbook/laplace_transform/matlab/tf_matlab.m) to explore the Transfer Function features provide by Matlab. Use the *publish* option to generate a nicely formatted document."
   ]
  },
  {
   "cell_type": "markdown",
   "id": "2b5ba8b9",
   "metadata": {
    "slideshow": {
     "slide_type": "slide"
    }
   },
   "source": [
    "## Using Transfer Functions in Simulink for System Simulation\n",
    "\n",
    "![Using Transfer Functions in Simulink for System Simulation](pictures/sim_tf.png)\n",
    "\n",
    "The Simulink transfer function (**`Transfer Fcn`**) block shown above implements a transfer function representing a general\n",
    "input output function\n",
    "\n",
    "$$G(s) = \\frac{N(s)}{D(s)}$$\n",
    "\n",
    "that it is not specific nor restricted to circuit analysis. It can, however be used in modelling and simulation studies."
   ]
  },
  {
   "cell_type": "markdown",
   "id": "3ab81196",
   "metadata": {
    "slideshow": {
     "slide_type": "subslide"
    }
   },
   "source": [
    "### Example\n",
    "\n",
    "Recast Example 7 as a MATLAB problem using the LTI Transfer Function block. \n",
    "\n",
    "For simplicity use parameters $R_1 = R_2 = R_3 = 1\\; \\Omega$, and $C_1 = C_2 = 1$ F.\n",
    "\n",
    "Calculate the step response using the LTI functions.\n",
    "\n",
    "Verify the result with Simulink.\n",
    "\n",
    "The Matlab solution: [example8.m](https://cpjobling.github.io/eg-247-textbook/laplace_transform/matlab/example8.m)"
   ]
  },
  {
   "cell_type": "markdown",
   "id": "8f2f6c22",
   "metadata": {
    "slideshow": {
     "slide_type": "subslide"
    }
   },
   "source": [
    "#### MATLAB Solution\n",
    "From a previous analysis the transfer function is:\n",
    "\n",
    "$$G(s) = \\frac{V_\\mathrm{out}}{V_\\mathrm{in}} = \\frac{-1}{R_1\\left[(1/R_1 + 1/R_2 + 1/R_3 + sC_1)(sR_3C_2) + 1/R_2\\right]}$$\n",
    "\n",
    "so substituting the component values we get:\n",
    "\n",
    "$$G(s) = \\frac{V_{\\mathrm{out}}}{V_{\\mathrm{in}}} = \\frac{-1}{s^2 + 3s + 1}$$\n",
    "\n",
    "We can find the step response by letting $v_{\\mathrm{in}}(t) = u_0(t)$ so that\n",
    "$V_{\\mathrm{in}}(s)=1/s$ then \n",
    "\n",
    "$$V_{\\mathrm{out}}(s) = \\frac{-1}{s^2 + 3s + 1}.\\frac{1}{s}$$\n",
    " \n",
    "We can solve this by partial fraction expansion and inverse Laplace transform\n",
    "as is done in the text book with the help of Matlab's `residue` function.\n",
    "\n",
    "Here, however we'll use the LTI block that was introduced in the lecture."
   ]
  },
  {
   "cell_type": "markdown",
   "id": "cc949134",
   "metadata": {
    "slideshow": {
     "slide_type": "subslide"
    }
   },
   "source": [
    "Define the circuit as a transfer function"
   ]
  },
  {
   "cell_type": "code",
   "execution_count": null,
   "id": "ec0dac59",
   "metadata": {
    "slideshow": {
     "slide_type": "subslide"
    },
    "tags": [
     "remove-output"
    ]
   },
   "outputs": [],
   "source": [
    "G = tf([-1],[1 3 1])"
   ]
  },
  {
   "cell_type": "markdown",
   "id": "2baef17d",
   "metadata": {
    "slideshow": {
     "slide_type": "subslide"
    }
   },
   "source": [
    "step response is then:"
   ]
  },
  {
   "cell_type": "code",
   "execution_count": null,
   "id": "92437714",
   "metadata": {
    "slideshow": {
     "slide_type": "subslide"
    },
    "tags": [
     "remove-output"
    ]
   },
   "outputs": [],
   "source": [
    "step(G)"
   ]
  },
  {
   "cell_type": "markdown",
   "id": "26cf9e9a",
   "metadata": {
    "slideshow": {
     "slide_type": "subslide"
    }
   },
   "source": [
    "Simples!"
   ]
  },
  {
   "cell_type": "markdown",
   "id": "0e9e44bf",
   "metadata": {
    "slideshow": {
     "slide_type": "subslide"
    }
   },
   "source": [
    "#### Simulink model\n",
    "\n",
    "See [example_8.slx](https://cpjobling.github.io/eg-247-textbook/laplace_transform/matlab/example_8.slx)"
   ]
  },
  {
   "cell_type": "code",
   "execution_count": null,
   "id": "ce716263",
   "metadata": {
    "slideshow": {
     "slide_type": "fragment"
    },
    "tags": [
     "remove-output"
    ]
   },
   "outputs": [],
   "source": [
    "open example_8"
   ]
  },
  {
   "cell_type": "markdown",
   "id": "c20a9ae3",
   "metadata": {
    "slideshow": {
     "slide_type": "notes"
    }
   },
   "source": [
    "![Simulink model](pictures/ex8_sim.png)"
   ]
  },
  {
   "cell_type": "markdown",
   "id": "67938b2a",
   "metadata": {
    "slideshow": {
     "slide_type": "notes"
    }
   },
   "source": [
    "Result\n",
    "\n",
    "![Simulation result](pictures/ex8_sim_result.png)"
   ]
  },
  {
   "cell_type": "markdown",
   "id": "24f0158c",
   "metadata": {
    "slideshow": {
     "slide_type": "subslide"
    }
   },
   "source": [
    "Let's go a bit further by finding the frequency response:"
   ]
  },
  {
   "cell_type": "code",
   "execution_count": null,
   "id": "ca638bd2",
   "metadata": {
    "slideshow": {
     "slide_type": "subslide"
    },
    "tags": [
     "remove-output"
    ]
   },
   "outputs": [],
   "source": [
    "bode(G)"
   ]
  },
  {
   "cell_type": "markdown",
   "id": "d3834299",
   "metadata": {},
   "source": [
    "## Matlab Solutions\n",
    "\n",
    "For convenience, single script MATLAB solutions to the examples are provided and can be downloaded from the accompanying [MATLAB](https://github.com/cpjobling/eg-247-textbook/tree/master/laplace_transform/matlab) folder.\n",
    "\n",
    "* Solution 7 [[solution7.m](https://cpjobling.github.io/eg-247-textbook/laplace_transform/matlab/solution7.m)]\n",
    "* Example 8  [[example8.m](https://cpjobling.github.io/eg-247-textbook/laplace_transform/matlab/example8.m)]\n",
    "* Simulink model [[example_8.slx](https://cpjobling.github.io/eg-247-textbook/laplace_transform/matlab/example_8.slx)]"
   ]
  },
  {
   "cell_type": "code",
   "execution_count": null,
   "id": "e5e4f9d1",
   "metadata": {
    "tags": [
     "remove-output"
    ]
   },
   "outputs": [],
   "source": [
    "cd ../matlab\n",
    "ls\n",
    "open solution7"
   ]
  }
 ],
 "metadata": {
  "jupytext": {
   "formats": "ipynb,md:myst",
   "text_representation": {
    "extension": ".md",
    "format_name": "myst",
    "format_version": 0.13,
    "jupytext_version": "1.14.1"
   }
  },
  "kernelspec": {
   "display_name": "Matlab",
   "language": "matlab",
   "name": "matlab"
  },
  "source_map": [
   15,
   21,
   33,
   39,
   43,
   47,
   51,
   64,
   68,
   74,
   78,
   98,
   106,
   112,
   118,
   128,
   132,
   152,
   166,
   172,
   178,
   184,
   188,
   197,
   211,
   221,
   225,
   229,
   239,
   248,
   254,
   261,
   270,
   274,
   283,
   296,
   302,
   315,
   329,
   350,
   354,
   363,
   367,
   376,
   380,
   386,
   395,
   399,
   405,
   409,
   416,
   426
  ]
 },
 "nbformat": 4,
 "nbformat_minor": 5
}