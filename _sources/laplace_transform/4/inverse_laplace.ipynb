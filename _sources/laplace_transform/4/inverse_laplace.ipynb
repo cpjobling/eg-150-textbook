{
 "cells": [
  {
   "cell_type": "markdown",
   "id": "2f2d8ef3",
   "metadata": {
    "slideshow": {
     "slide_type": "slide"
    }
   },
   "source": [
    "(unit4.4)=\n",
    "# Unit 4.4 The Inverse Laplace Transform"
   ]
  },
  {
   "cell_type": "markdown",
   "id": "5fa4d692",
   "metadata": {
    "slideshow": {
     "slide_type": "subslide"
    }
   },
   "source": [
    "Follow along at [cpjobling.github.io/eg-150-textbook/laplace_transform/4/inverse_laplace](https://cpjobling.github.io/eg-150-textbook/laplace_transform/4/inverse_laplace)\n",
    "\n",
    "![QR Code for this lecture](pictures/qrcode_laplace4.png)"
   ]
  },
  {
   "cell_type": "markdown",
   "id": "28b9e3bb",
   "metadata": {
    "slideshow": {
     "slide_type": "subslide"
    }
   },
   "source": [
    "(ilap:into)=\n",
    "## Introduction\n",
    "\n",
    "The preparatory reading for this section is [Chapter 3](https://ebookcentral.proquest.com/lib/swansea-ebooks/reader.action?docID=3384197&ppg=75#ppg=79) of {cite}`karris` which\n",
    "\n",
    "* defines the Inverse Laplace transformation \n",
    "* gives several examples of how the Inverse Laplace Transform may be obtained\n",
    "* thouroughly decribes the Partial Fraction Expansion method of converting complex rational polymial expressions into simple first-order and quadratic terms\n",
    "* demonstrates the use of MATLAB for finding the poles and residues of a rational polymial in s and the symbolic inverse laplace transform.\n",
    "\n",
    "There is additional coverage, including many worked problems in Chapter 3.5 of {cite}`schaum`.\n",
    "\n",
    "We will explore the use of MATLAB to solve inverse Laplace tranforms in MATLAB Lab 4."
   ]
  },
  {
   "cell_type": "markdown",
   "id": "40fd3b7f",
   "metadata": {
    "slideshow": {
     "slide_type": "notes"
    }
   },
   "source": [
    "## Agenda\n",
    "\n",
    "* {ref}`ilap:defn`\n",
    "* {ref}`ilap:pfe`\n",
    "* {ref}`ilap_by_pfe`\n",
    "* {ref}`examples11`"
   ]
  },
  {
   "cell_type": "markdown",
   "id": "21b03adb",
   "metadata": {
    "slideshow": {
     "slide_type": "slide"
    }
   },
   "source": [
    "(ilap:defn)=\n",
    "## Definition\n",
    "\n",
    "The formal definition of the inverse Laplace transform is\n",
    "\n",
    "$$\\mathcal{L}^{-1}\\left\\{ F(s) \\right\\} = \\frac{1}{2\\pi j}\\int_{\\sigma-j\\omega}^{\\sigma+j\\omega} F(s)e^{st}ds$$ (eq:4.4:1)\n",
    "\n",
    "but this is difficult to use in practice because it requires contour integration using complex variable theory."
   ]
  },
  {
   "cell_type": "markdown",
   "id": "9cf49152",
   "metadata": {
    "slideshow": {
     "slide_type": "subslide"
    }
   },
   "source": [
    "For most engineering problems we can instead refer to **Tables of Properties** and **Common Transform Pairs** to look up the *Inverse Laplace Transform*."
   ]
  },
  {
   "cell_type": "markdown",
   "id": "85bb707f",
   "metadata": {
    "slideshow": {
     "slide_type": "subslide"
    }
   },
   "source": [
    "(Or, if we are not taking an exam, we can use a computer or mobile device.)"
   ]
  },
  {
   "cell_type": "markdown",
   "id": "d2e6b9db",
   "metadata": {
    "slideshow": {
     "slide_type": "slide"
    }
   },
   "source": [
    "(ilap:pfe)=\n",
    "## Partial Fraction Expansion\n",
    "\n",
    "Quite often the Laplace Transform we start off with is a *rational polynomial* in $s$.\n",
    "\n",
    "$$F(s) = \\frac{N(s)}{D(s)} = \\frac{b_ms^m + b_{m-1}s^{m-1}+b_{m-2}s^{m-2}+ \\cdots +b_{1}s+b_{0}}{a_ns^n + a_{n-1}s^{n-1}+a_{n-2}s^{n-2}+ \\cdots +a_{1}s+a_{0}}$$ (eq:4.4:2)\n",
    "\n",
    "The coefficients $a_k$ and $b_k$ are real for $k = 1, 2, 3, \\ldots$"
   ]
  },
  {
   "cell_type": "markdown",
   "id": "eaf24de5",
   "metadata": {
    "slideshow": {
     "slide_type": "subslide"
    }
   },
   "source": [
    "### Proper and Improper Rational Functions\n",
    "\n",
    "* If $m < n$ $F(s)$ is said to be a *proper rational function*. \n",
    "* If $m \\ge n$ $F(s)$ is said to be an *improper rational function* \n",
    "\n",
    "(Think [proper fractions](https://www.mathsisfun.com/proper-fractions.html) and [improper fractions](https://www.mathsisfun.com/improper-fractions.html).)"
   ]
  },
  {
   "cell_type": "markdown",
   "id": "f3086352",
   "metadata": {
    "slideshow": {
     "slide_type": "subslide"
    }
   },
   "source": [
    "### Zeros\n",
    "\n",
    "* The *roots* of the numerator polymonial $N(s)$ are found by setting $N(s)=0$\n",
    "* When $s$ equals one of the $m$ roots of $N(s)$ then $F(s)$ will be zero.\n",
    "* Thus the roots of $N(s)$ are the **zeros** of $F(s)$."
   ]
  },
  {
   "cell_type": "markdown",
   "id": "f3911c49",
   "metadata": {
    "slideshow": {
     "slide_type": "subslide"
    }
   },
   "source": [
    "### Poles\n",
    "\n",
    "* The *roots* (*zeros*) of the denominator polynomial are found by setting $D(s) = 0$. \n",
    "* When $s$ equals one of the $n$ roots of $D(s)$ then $F(s)$ will be infinite $F(s_r) = N(s_r)/0=\\infty$).\n",
    "* These are called the **poles** of $F(s)$.\n",
    "\n",
    "(Imagine telegraph poles planted at the points on the $s$-plane where $D(s)$ is zero.)"
   ]
  },
  {
   "cell_type": "markdown",
   "id": "66b8c976",
   "metadata": {
    "slideshow": {
     "slide_type": "subslide"
    }
   },
   "source": [
    "### A Further Simplifying Assumption\n",
    "\n",
    "If $F(s)$ is proper then it is conventional to make the coefficient $s_n$ unity thus:\n",
    "\n",
    "$$F(s) = \\frac{N(s)}{D(s)} = \\frac{1/{a_n}\\left({ {b_m}{s^m} + {b_{m - 1}}{s^{m - 1}} + {b_{m - 2}}{s^{m - 2}} +  \\cdots  + {b_1}s + {b_0}} \\right)}{s^n + \\frac{a_{n - 1}}{a_n}{s^{n - 1}} + \\frac{a_{n - 2}}{a_n}{s^{n - 2}} +  \\cdots  + \\frac{a_1}{a_n}s + \\frac{a_0}{a_n}}$$ (eq:4.4:3)\n",
    "\n",
    "(I know it doesn't look simpler, but remember that the $a$ and $b$ coefficients are numbers in practice!)"
   ]
  },
  {
   "cell_type": "markdown",
   "id": "72d800eb",
   "metadata": {
    "slideshow": {
     "slide_type": "slide"
    }
   },
   "source": [
    "(ilap_by_pfe)=\n",
    "## Inverse Laplace Transform by Partial Fraction Expansion (PFE)\n",
    "\n",
    "The poles of $F(s)$ can be real and distinct, real and repeated, complex conjugate pairs, or a combination."
   ]
  },
  {
   "cell_type": "markdown",
   "id": "9757c27e",
   "metadata": {
    "slideshow": {
     "slide_type": "subslide"
    }
   },
   "source": [
    "### Defining the problem\n",
    "\n",
    "The nature of the poles governs the best way to tackle the PFE that leads to the solution of the Inverse Laplace Transform. Thus, we need to structure our presentation to cover one of the following cases:\n",
    "\n",
    "* The case where $F(s)$ has distinct real poles\n",
    "* The case where $F(s)$ has complex poles\n",
    "* The case where $F(s)$ has repeated poles\n",
    "* The case where $F(s)$ is an improper rational polynomial\n",
    "\n",
    "We will examine each case by means of a worked example. Please refer to Chapter 3 of Karris for full details."
   ]
  },
  {
   "cell_type": "markdown",
   "id": "4778685b",
   "metadata": {
    "slideshow": {
     "slide_type": "slide"
    }
   },
   "source": [
    "(ilap:distinct_real_poles)=\n",
    "## The case of the distinct real poles"
   ]
  },
  {
   "cell_type": "markdown",
   "id": "ba5383fa",
   "metadata": {
    "slideshow": {
     "slide_type": "fragment"
    }
   },
   "source": [
    "If the poles $p_1,\\,p_2,\\,p_3,\\,\\ldots,\\, p_n$ are *distinct* we can factor the denominator of $F(s)$ in the form \n",
    "\n",
    "$$F(s) = \\frac{N(s)}{(s-p_1)(s-p_2)(s-p_3)\\ldots(s-p_n)}$$ (eq:4.4:4)"
   ]
  },
  {
   "cell_type": "markdown",
   "id": "cab8589e",
   "metadata": {
    "slideshow": {
     "slide_type": "subslide"
    }
   },
   "source": [
    "Next, using *partial fraction expansion*\n",
    "\n",
    "$$F(s)=\\frac{r_1}{s-p_1}+\\frac{r_2}{s-p_2}+\\frac{r_3}{s-p_3}+\\cdots + \\frac{r_n}{s-p_n}$$ ((eq:4.4:5)"
   ]
  },
  {
   "cell_type": "markdown",
   "id": "c96c5a1c",
   "metadata": {
    "slideshow": {
     "slide_type": "subslide"
    }
   },
   "source": [
    "To evaluate the *residue* $r_k$, we multiply both sides by $(s-p_k)$ then let $s \\to p_k$\n",
    "\n",
    "$$r_k = \\lim_{s\\to p_k}(s-p_k)F(s) = \\left.(s-p_k)F(s)\\right|_{s=p_k}$$ (eq:4.4:6)"
   ]
  },
  {
   "cell_type": "markdown",
   "id": "7af905c8",
   "metadata": {
    "slideshow": {
     "slide_type": "slide"
    }
   },
   "source": [
    "(case:complex_poles)=\n",
    "## The case of the complex poles\n",
    "\n",
    "Quite often the poles of $F(s)$ are complex and because the complex poles occur as complex conjugate pairs, the number of complex poles is even. Thus if $p_k$ is a complex root of $D(s)$ then its complex conjugate $p_k^*$ is also a root of $D(s)$.\n",
    "\n",
    "You can still use the PFE with complex poles, as demonstrated in Pages 3-5&mdash;3-7 in the textbook. However it is easier to use the fact that complex poles will appear as quadratic factors of the form $s^2 + as + b$ and then call on the two transforms in the PFE\n",
    "\n",
    "\n",
    "$$\\frac{\\omega}{(s - a)^2 + \\omega^2} \\Leftrightarrow e^{at}\\sin\\;\\omega t$$ (eq:4.4:7)\n",
    "\n",
    "$$\\frac{s + a}{(s - a)^2 + \\omega^2} \\Leftrightarrow e^{at}\\cos\\;\\omega t$$ (eq:4.4:8)"
   ]
  },
  {
   "cell_type": "markdown",
   "id": "fb6ca56a",
   "metadata": {
    "slideshow": {
     "slide_type": "slide"
    }
   },
   "source": [
    "(ilap:repeated_poles)=\n",
    "## The case of the repeated poles\n",
    "\n",
    "When a rational polynomial has repeated poles \n",
    "\n",
    "$$F(s) = \\frac{N(s)}{(s - p_1)^m(s - p_2)\\cdots(s - p_{n-1})(s-p_0)}$$ (eq:4.4:9)\n",
    "\n",
    "and the PFE will have the form:\n",
    "\n",
    "$$\\begin{array}{c}\n",
    "F(s) = \\frac{r_{11}}{(s - {p_1})^m} + \\frac{r_{12}}{(s - {p_1})^{m - 1}} + \\frac{r_{13}}{(s - {p_1})^{m - 2}} +  \\cdots  + \\frac{r_{1}}{(s - {p_1})}\\\\\n",
    " + \\frac{r_2}{(s - {p_2})} + \\frac{r_3}{(s - {p_3})} +  \\cdots  + \\frac{r_n}{(s - {p_n})}\n",
    "\\end{array}$$"
   ]
  },
  {
   "cell_type": "markdown",
   "id": "41e41887",
   "metadata": {
    "slideshow": {
     "slide_type": "subslide"
    }
   },
   "source": [
    "The ordinary residues $r_k$ can be found using the rule used for distinct roots.\n",
    "\n",
    "To find the residuals for the repeated term $r_{1k}$ we need to multiply both sides of the expression by $(s+p_1)^m$ and take repeated derivatives as described in detail in Pages 3-7&mdash;3-9 of the text book. This yields the general formula\n",
    "\n",
    "$$r_{1k}=\\lim_{s\\to p_1}\\frac{1}{(k-1)!}\\frac{d^{k-1}}{ds^{k-1}}\\left[(s-p_1)^mF(s)\\right]$$ ((eq:4.4:10)\n",
    "\n",
    "which in the age of computers is rarely needed."
   ]
  },
  {
   "cell_type": "markdown",
   "id": "8b20cbc5",
   "metadata": {
    "slideshow": {
     "slide_type": "subslide"
    }
   },
   "source": [
    "(ilap:improper)=\n",
    "## The case of the improper rational polynomial\n",
    "\n",
    "If $F(s)$ is an improper rational polynomial, that is $m \\ge n$, we must first divide the numerator $N(s)$ by the denomonator $D(s)$ to derive an expression of the form\n",
    "\n",
    "$$F(s) = k_0 + k_1s + k_2s^2 + \\cdots + k_{m-n}s^{m-n} + \\frac{N(s)}{D(s)}$$ ((eq:4.4:11)\n",
    "\n",
    "and then $N(s)/D(s)$ will be a proper rational polynomial."
   ]
  },
  {
   "cell_type": "markdown",
   "id": "1c98d5d4",
   "metadata": {
    "slideshow": {
     "slide_type": "slide"
    }
   },
   "source": [
    "(examples11)=\n",
    "## Examples 11: Inverse Laplace Transforms"
   ]
  },
  {
   "cell_type": "markdown",
   "id": "e7ca9f47",
   "metadata": {
    "slideshow": {
     "slide_type": "fragment"
    }
   },
   "source": [
    "Lecturer clear all cells and set up MATLAB"
   ]
  },
  {
   "cell_type": "code",
   "execution_count": 1,
   "id": "267fdfc9",
   "metadata": {
    "slideshow": {
     "slide_type": "fragment"
    }
   },
   "outputs": [],
   "source": [
    "clear all\n",
    "format compact"
   ]
  },
  {
   "cell_type": "markdown",
   "id": "fde411f5",
   "metadata": {
    "slideshow": {
     "slide_type": "slide"
    }
   },
   "source": [
    "(ex11.1)=\n",
    "### Example 11.1\n",
    "\n",
    "Use the PFE method to simplify $F_1(s)$ below and find the time domain function $f_1(t)$ corresponding to $F_1(s)$\n",
    "\n",
    "$$F_1(s) = \\frac{2s+5}{s^2 + 5s + 6}$$\n",
    "\n",
    "(Quick solution: [Wolfram Alpha](https://www.wolframalpha.com/input/?i=inverse+laplace+transform+%7B(2s+%2B+5)%2F(s%5E2+%2B+5s+%2B+6)%7D))"
   ]
  },
  {
   "cell_type": "markdown",
   "id": "d0cc0baf",
   "metadata": {
    "slideshow": {
     "slide_type": "notes"
    }
   },
   "source": [
    "**OneNote Class Notebook Scratch Pad**\n",
    "\n",
    "<pre style=\"border: 2px solid blue\">\n",
    "\n",
    "\n",
    "\n",
    "\n",
    "\n",
    "\n",
    "\n",
    "\n",
    "\n",
    "\n",
    "\n",
    "\n",
    "\n",
    "\n",
    "\n",
    "\n",
    "\n",
    "\n",
    "\n",
    "\n",
    "\n",
    "\n",
    "\n",
    "\n",
    "\n",
    "\n",
    "\n",
    "</pre>"
   ]
  },
  {
   "cell_type": "markdown",
   "id": "625dbc40",
   "metadata": {
    "slideshow": {
     "slide_type": "subslide"
    }
   },
   "source": [
    "(mat_num:11.1)=\n",
    "#### MATLAB Solution - Numerical"
   ]
  },
  {
   "cell_type": "code",
   "execution_count": 2,
   "id": "91083e74",
   "metadata": {
    "slideshow": {
     "slide_type": "fragment"
    }
   },
   "outputs": [
    {
     "name": "stdout",
     "output_type": "stream",
     "text": [
      "r =\n",
      "    1.0000\n",
      "    1.0000\n"
     ]
    },
    {
     "name": "stdout",
     "output_type": "stream",
     "text": [
      "p =\n",
      "   -3.0000\n",
      "   -2.0000\n"
     ]
    },
    {
     "name": "stdout",
     "output_type": "stream",
     "text": [
      "k =\n",
      "     []\n"
     ]
    }
   ],
   "source": [
    "Ns = [2, 5]; Ds = [1, 5, 6];\n",
    "[r,p,k] = residue(Ns, Ds)"
   ]
  },
  {
   "cell_type": "markdown",
   "id": "8ae5ca9d",
   "metadata": {
    "slideshow": {
     "slide_type": "subslide"
    }
   },
   "source": [
    "The previous resuly should be interpreted as:\n",
    "\n",
    "$$F_1(s) = \\frac{1}{s + 3} + \\frac{1}{s + 2}$$"
   ]
  },
  {
   "cell_type": "markdown",
   "id": "777f625e",
   "metadata": {
    "slideshow": {
     "slide_type": "fragment"
    }
   },
   "source": [
    "which because of the linearity property of the Laplace Transform and using tables results in the *Inverse Laplace Transform*\n",
    "\n",
    "$$f_1(t) = e^{-3t}u_0(t) + e^{-2t}u_0(t)$$"
   ]
  },
  {
   "cell_type": "markdown",
   "id": "24577151",
   "metadata": {
    "slideshow": {
     "slide_type": "subslide"
    }
   },
   "source": [
    "(mat_sym:11.1)=\n",
    "#### MATLAB solution - symbolic\n",
    "\n",
    "Recall that in MATLAB the `laplace` operator is the single sided Laplace transform, so the presence of $u_0(t)$ in the answers given by `ilaplace` is implied."
   ]
  },
  {
   "cell_type": "code",
   "execution_count": 3,
   "id": "352c57e9",
   "metadata": {
    "slideshow": {
     "slide_type": "fragment"
    }
   },
   "outputs": [
    {
     "name": "stdout",
     "output_type": "stream",
     "text": [
      "ft =\n"
     ]
    },
    {
     "name": "stdout",
     "output_type": "stream",
     "text": [
      "exp(-2*t) + exp(-3*t)\n"
     ]
    },
    {
     "data": {
      "image/png": "[encoded data removed]",
      "text/plain": [
       "<IPython.core.display.Image object>"
      ]
     },
     "metadata": {
      "filenames": {
       "image/png": "/Users/eechris/code/src/github.com/cpjobling/eg-150-textbook/_build/jupyter_execute/laplace_transform/4/inverse_laplace_32_2.png"
      }
     },
     "output_type": "display_data"
    }
   ],
   "source": [
    "syms s t;\n",
    "Fs = (2*s + 5)/(s^2 + 5*s + 6);\n",
    "ft = ilaplace(Fs)\n",
    "fplot(ft,[0,5])"
   ]
  },
  {
   "cell_type": "markdown",
   "id": "700dfc19",
   "metadata": {
    "slideshow": {
     "slide_type": "slide"
    }
   },
   "source": [
    "(ex:11.2)=\n",
    "### Example 11.2\n",
    "\n",
    "Determine the Inverse Laplace Transform of\n",
    "\n",
    "$$F_2(s) = \\frac{3s^2+2s+5}{s^3 + 9s^2 + 23s + 15}$$\n",
    "\n",
    "(Quick solution: [Wolfram Alpha](https://www.wolframalpha.com/input/?i=inverse+laplace+transform+%283s%5E2+%2B+2s+%2B+5%29%2F%28s%5E3+%2B+9s%5E2+%2B+23s+%2B+15%29))"
   ]
  },
  {
   "cell_type": "markdown",
   "id": "62696389",
   "metadata": {
    "slideshow": {
     "slide_type": "subslide"
    }
   },
   "source": [
    "(solution:11.2)=\n",
    "#### Solution 11.2\n",
    "\n",
    "Because the denominator of $F_2(s)$ is a cubic, it will be difficult to factorise without computer assistance so we use MATLAB to factorise $D(s)$"
   ]
  },
  {
   "cell_type": "code",
   "execution_count": 4,
   "id": "b97418e6",
   "metadata": {
    "slideshow": {
     "slide_type": "subslide"
    }
   },
   "outputs": [
    {
     "name": "stdout",
     "output_type": "stream",
     "text": [
      "ans =\n"
     ]
    },
    {
     "name": "stdout",
     "output_type": "stream",
     "text": [
      "[s + 3, s + 5, s + 1]\n"
     ]
    }
   ],
   "source": [
    "syms s;\n",
    "factor(s^3 + 9*s^2 + 23*s + 15)"
   ]
  },
  {
   "cell_type": "markdown",
   "id": "2e748238",
   "metadata": {
    "slideshow": {
     "slide_type": "subslide"
    }
   },
   "source": [
    "In an exam you'd be given the factors"
   ]
  },
  {
   "cell_type": "markdown",
   "id": "668f5204",
   "metadata": {
    "slideshow": {
     "slide_type": "subslide"
    }
   },
   "source": [
    "We can now use the previous technique to find the solution which according to MATLAB should be\n",
    "\n",
    "$$f_1(t) = \\frac{3}{4}e^{-t} - \\frac{13}{2}e^{-3t} + \\frac{35}{4}e^{-5t}$$"
   ]
  },
  {
   "cell_type": "markdown",
   "id": "b42c52ef",
   "metadata": {
    "slideshow": {
     "slide_type": "notes"
    }
   },
   "source": [
    "The problem becomes: determine the Inverse Laplace Transform of\n",
    "\n",
    "$$F_2(s) = \\frac{3s^2+2s+5}{(s+1)(s+3)(s+5)}$$\n",
    "\n",
    "which we will solve in class\n",
    "\n",
    "**OneNote Class Notebook Scratch Pad**\n",
    "\n",
    "<pre style=\"border: 2px solid blue\">\n",
    "\n",
    "\n",
    "\n",
    "\n",
    "\n",
    "\n",
    "\n",
    "\n",
    "\n",
    "\n",
    "\n",
    "\n",
    "\n",
    "\n",
    "\n",
    "\n",
    "\n",
    "\n",
    "\n",
    "\n",
    "\n",
    "\n",
    "\n",
    "\n",
    "\n",
    "</pre>"
   ]
  },
  {
   "cell_type": "markdown",
   "id": "e7dfe7a5",
   "metadata": {
    "slideshow": {
     "slide_type": "slide"
    }
   },
   "source": [
    "(ex:11.3)=\n",
    "### Example 11.3\n",
    "\n",
    "Rework Example 3-2 from the {cite}`karris` using quadratic factors.\n",
    "\n",
    "Find the Inverse Laplace Transform of \n",
    "\n",
    "$$F_3(s) = \\frac{s + 3}{(s+1)(s^2 + 4s + 8)}$$ (pfe1)\n",
    "\n",
    "(Quick solution: [Wolfram Alpha](https://www.wolframalpha.com/input/?i=inverse+laplace+transform+%28s%2B3%29%2F%28%28s+%2B+1%29%28s%5E2+%2B+4s+%2B+8%29%29) &ndash; Shows that the computer is not always best!)"
   ]
  },
  {
   "cell_type": "markdown",
   "id": "882ae6b5",
   "metadata": {
    "slideshow": {
     "slide_type": "subslide"
    }
   },
   "source": [
    "#### Solution 11.3\n",
    "\n",
    "We know that one pole is real at $s=-1$. We can use the PFE in the usual way to find the residue $r_1$ that corresponds to that pole."
   ]
  },
  {
   "cell_type": "markdown",
   "id": "001400c7",
   "metadata": {
    "slideshow": {
     "slide_type": "notes"
    }
   },
   "source": [
    "**OneNote Class Notebook Scratch Pad**\n",
    "\n",
    "Find residue $r_1$\n",
    "\n",
    "<pre style=\"border: 2px solid blue\">\n",
    "\n",
    "\n",
    "\n",
    "\n",
    "\n",
    "\n",
    "\n",
    "\n",
    "\n",
    "\n",
    "\n",
    "\n",
    "\n",
    "</pre>\n",
    "\n",
    "Should be $r_1 = 2/5$."
   ]
  },
  {
   "cell_type": "markdown",
   "id": "7719ea1b",
   "metadata": {
    "slideshow": {
     "slide_type": "subslide"
    }
   },
   "source": [
    "We can use `residue` to find the other two poles, but the poles and the residues will both be complex:"
   ]
  },
  {
   "cell_type": "code",
   "execution_count": 5,
   "id": "1e82e32b",
   "metadata": {
    "slideshow": {
     "slide_type": "fragment"
    }
   },
   "outputs": [
    {
     "name": "stdout",
     "output_type": "stream",
     "text": [
      "Ds =\n",
      "     1     5    12     8\n"
     ]
    },
    {
     "name": "stdout",
     "output_type": "stream",
     "text": [
      "r =\n",
      "  -0.2000 - 0.1500i\n",
      "  -0.2000 + 0.1500i\n",
      "   0.4000 + 0.0000i\n"
     ]
    },
    {
     "name": "stdout",
     "output_type": "stream",
     "text": [
      "p =\n",
      "  -2.0000 + 2.0000i\n",
      "  -2.0000 - 2.0000i\n",
      "  -1.0000 + 0.0000i\n"
     ]
    },
    {
     "name": "stdout",
     "output_type": "stream",
     "text": [
      "k =\n",
      "     []\n"
     ]
    }
   ],
   "source": [
    "Ns = [1 3]; Ds = conv([1 1],[1 4 8]) % conv of two vectors is polynomial multiplication\n",
    "[r,p,k]=residue(Ns,Ds)"
   ]
  },
  {
   "cell_type": "markdown",
   "id": "e1155f7d",
   "metadata": {
    "slideshow": {
     "slide_type": "slide"
    }
   },
   "source": [
    "We can use PFE to solve this, as is done in Section 3.2.2 of {cite}`nise`, but the mathematics is quite challenging."
   ]
  },
  {
   "cell_type": "markdown",
   "id": "1fbde51e",
   "metadata": {
    "slideshow": {
     "slide_type": "fragment"
    }
   },
   "source": [
    "Instead, we assume that the solution will have the structure\n",
    "\n",
    "$$F_3(s) = \\frac{2/5}{s+1} + r_2\\frac{\\omega}{(s + a)^2 + \\omega^2} + r_3\\frac{s+a}{(s+a)^2 + \\omega^2}$$\n",
    "\n",
    "and solve the PFE using simultaneous equations to determine $r_2$ and $r_3$."
   ]
  },
  {
   "cell_type": "markdown",
   "id": "7161c408",
   "metadata": {
    "slideshow": {
     "slide_type": "subslide"
    }
   },
   "source": [
    "Complete the square on the quadratic term:\n",
    "\n",
    "$$s^2 + 4s + 8 = (s + 2)^2 + 4$$\n",
    "\n",
    "Then comparing this with the desired form $(s + a)^2 + \\omega^2$, we have $a = 2$ and $\\omega^2 = 4 \\to \\omega = \\sqrt{4} = 2$."
   ]
  },
  {
   "cell_type": "markdown",
   "id": "af82c86b",
   "metadata": {
    "slideshow": {
     "slide_type": "subslide"
    }
   },
   "source": [
    "To solve this, we need to find the PFE for the assumed solution:\n",
    "\n",
    "$$F_3(s) = \\frac{2/5}{s+1} + r_2\\frac{2}{(s + 2)^2 + 2^2} + r_3\\frac{s + 2}{(s + 2)^2 + 2^2}  $$ (pfe2)"
   ]
  },
  {
   "cell_type": "markdown",
   "id": "49566cf6",
   "metadata": {
    "slideshow": {
     "slide_type": "fragment"
    }
   },
   "source": [
    "which we do by equating {eq}`pfe2` to {eq}`pfe1`, \n",
    "\n",
    "$$\\frac{s + 3}{(s+1)(s^2 + 4s + 8)} = \\frac{2/5}{s+1} + r_2\\frac{2}{(s + 2)^2 + 2^2} + r_3\\frac{s + 2}{(s + 2)^2 + 2^2}$$ (pfe3)"
   ]
  },
  {
   "cell_type": "markdown",
   "id": "241eb7f1",
   "metadata": {
    "slideshow": {
     "slide_type": "subslide"
    }
   },
   "source": [
    "putting both sides on a common denominator, \n",
    "\n",
    "$$\\frac{s+3}{(s+1)(s^2 + 4s + 8)} = \\frac{(2/5)(s^2 + 4s + 8) + r_2(s + 1) + r_3(s + 1)(s + 2)}{(s+1)(s^2 + 4s + 8)}$$ (pfe4)"
   ]
  },
  {
   "cell_type": "markdown",
   "id": "900eabaf",
   "metadata": {
    "slideshow": {
     "slide_type": "fragment"
    }
   },
   "source": [
    "and then solving for $r_2$ and $r_3$ by equating the numerator coefficients on the left and right sides.\n",
    "\n",
    "$$s+3 = (2/5)(s^2 + 4s + 8) + r_2(s + 1) + r_3(s^2 + 3s + 2)$$"
   ]
  },
  {
   "cell_type": "markdown",
   "id": "2b3786de",
   "metadata": {
    "slideshow": {
     "slide_type": "fragment"
    }
   },
   "source": [
    "The completion of this problem is left as a *homework exercise* for the student."
   ]
  },
  {
   "cell_type": "markdown",
   "id": "8dc5d52b",
   "metadata": {
    "slideshow": {
     "slide_type": "subslide"
    }
   },
   "source": [
    "The solution should be:\n",
    "\n",
    "$$f_3(t) = \\frac{2}{5}e^{-t} + \\frac{3}{10} e^{-2t}\\sin 2t - \\frac{2}{5} e^{-2t}\\cos 2t $$ (pfe5)\n",
    "\n",
    "You can use trig. identities to simplify this further if you wish."
   ]
  },
  {
   "cell_type": "markdown",
   "id": "40c985d6",
   "metadata": {
    "slideshow": {
     "slide_type": "slide"
    }
   },
   "source": [
    "(ex11.4)=\n",
    "### Example 11.4\n",
    "\n",
    "Find the inverse Laplace Transform of \n",
    "\n",
    "$$F_4(s) = \\frac{s+3}{(s+2)(s+1)^2}$$"
   ]
  },
  {
   "cell_type": "markdown",
   "id": "f8419a35",
   "metadata": {
    "slideshow": {
     "slide_type": "subslide"
    }
   },
   "source": [
    "Note that the transform\n",
    "\n",
    "$$te^{at} \\Leftrightarrow \\frac{1}{(s - a)^2}$$\n",
    "\n",
    "and the derivative of a quotient rule\n",
    "\n",
    "$$\\frac{d}{ds}\\left(\\frac{N(s)}{D(s)}\\right) = \\frac{D(s)\\frac{dN(s)}{ds} - N(s)\\frac{dD(s)}{ds}}{D(s)^2}$$\n",
    "\n",
    "will be useful.\n",
    "\n",
    "(Quick solution: [Wolfram Alpha](https://www.wolframalpha.com/input/?i=inverse+laplace+transform+%28s%2B3%29%2F%28%28s%2B2%29%28s+%2B+1%29%5E2%29))"
   ]
  },
  {
   "cell_type": "markdown",
   "id": "2f6dd996",
   "metadata": {
    "slideshow": {
     "slide_type": "subslide"
    }
   },
   "source": [
    "(sol:11.4)=\n",
    "#### Solution 11.4\n",
    "\n",
    "We will leave the solution that makes use of the residude of repeated poles formula for you to study from the text book (example 3.2.3 {cite}`nise`. \n",
    "\n",
    "In class we will illustrate the slightly simpler approach also presented in the text. \n",
    "\n",
    "For exam preparation, I would recommend that you use whatever method you find most comfortable."
   ]
  },
  {
   "cell_type": "markdown",
   "id": "e0dcb1a3",
   "metadata": {
    "slideshow": {
     "slide_type": "notes"
    }
   },
   "source": [
    "Find the inverse Laplace Transform of \n",
    "\n",
    "$$F_4(s) = \\frac{s+3}{(s+2)(s+1)^2}$$\n",
    "\n",
    "**OneNote Class Notebook Scratch Pad**\n",
    "\n",
    "<pre style=\"border: 2px solid blue\">\n",
    "\n",
    "\n",
    "\n",
    "\n",
    "\n",
    "\n",
    "\n",
    "\n",
    "\n",
    "\n",
    "\n",
    "\n",
    "\n",
    "\n",
    "\n",
    "\n",
    "\n",
    "\n",
    "\n",
    "\n",
    "\n",
    "\n",
    "\n",
    "\n",
    "\n",
    "\n",
    "</pre>"
   ]
  },
  {
   "cell_type": "markdown",
   "id": "360c35d4",
   "metadata": {
    "slideshow": {
     "slide_type": "slide"
    }
   },
   "source": [
    "(ex11.5)=\n",
    "### Example 11.5 - and some new transform pairs.\n",
    "\n",
    "$$F_6(s)= \\frac{s^2 + 2s + 2}{s+1}$$\n",
    "\n",
    "(Quick solution: [Wolfram Alpha](https://www.wolframalpha.com/input/?i=inverse+laplace+transform+%28s%5E2+%2B+2s+%2B+2%29%2F%28s+%2B+1%29))"
   ]
  },
  {
   "cell_type": "markdown",
   "id": "31b13e8c",
   "metadata": {
    "slideshow": {
     "slide_type": "subslide"
    }
   },
   "source": [
    "(sol:11.5)=\n",
    "#### Solution 11.5\n",
    "\n",
    "Dividing $s^2 + 2s + 2$ by $s + 1$ gives\n",
    "\n",
    "$$F_6(s) = s + 1 + \\frac{1}{s+1}$$\n",
    "\n",
    "$$\\frac{1}{s+1} \\Leftrightarrow e^{-t}$$\n",
    "\n",
    "$$1 \\Leftrightarrow \\delta(t)$$\n",
    "\n",
    "$$s \\Leftrightarrow ?$$"
   ]
  },
  {
   "cell_type": "markdown",
   "id": "27d753cf",
   "metadata": {
    "slideshow": {
     "slide_type": "subslide"
    }
   },
   "source": [
    "#### What function of t has Laplace transform s?\n",
    "\n",
    "Recall from Session 2:\n",
    "    \n",
    "$$\\frac{d}{dt}u_0(t)=u_0'(t)=\\delta(t)$$\n",
    "\n",
    "and\n",
    "\n",
    "$$\\frac{d^2}{dt^2}u_0(t)=u_0''(t)=\\delta'(t)$$\n",
    "\n",
    "Also, by the time differentiation property\n",
    "\n",
    "$$u_0''(t)=\\delta'(t)\\Leftrightarrow s^2\\mathcal{L}u_0(t) - su_0(0^-) - \\left.\\frac{d}{dt}u_0(t)\\right|_{t=0^-} =  s^2\\frac{1}{s} = s$$"
   ]
  },
  {
   "cell_type": "markdown",
   "id": "79bb61d0",
   "metadata": {
    "slideshow": {
     "slide_type": "subslide"
    }
   },
   "source": [
    "#### New Transform Pairs\n",
    "\n",
    "$$s\\Leftrightarrow \\delta'(t)$$\n",
    "\n",
    "$$\\frac{d^n}{dt^n}\\delta(t)\\Leftrightarrow s^n$$\n",
    "\n",
    "$$f_6(t) = e^{-t}+\\delta(t)+\\delta'(t)$$"
   ]
  },
  {
   "cell_type": "markdown",
   "id": "7df99bea",
   "metadata": {
    "slideshow": {
     "slide_type": "subslide"
    }
   },
   "source": [
    "(mat:11.5)=\n",
    "#### Matlab verification"
   ]
  },
  {
   "cell_type": "code",
   "execution_count": 6,
   "id": "d131c6cf",
   "metadata": {
    "slideshow": {
     "slide_type": "fragment"
    }
   },
   "outputs": [
    {
     "name": "stdout",
     "output_type": "stream",
     "text": [
      "r =\n",
      "     1\n"
     ]
    },
    {
     "name": "stdout",
     "output_type": "stream",
     "text": [
      "p =\n",
      "    -1\n"
     ]
    },
    {
     "name": "stdout",
     "output_type": "stream",
     "text": [
      "k =\n",
      "     1     1\n"
     ]
    }
   ],
   "source": [
    "Ns = [1, 2, 2]; Ds = [1 1];\n",
    "[r, p, k] = residue(Ns, Ds)"
   ]
  },
  {
   "cell_type": "code",
   "execution_count": 7,
   "id": "9c920932",
   "metadata": {
    "slideshow": {
     "slide_type": "fragment"
    }
   },
   "outputs": [
    {
     "name": "stdout",
     "output_type": "stream",
     "text": [
      "f6 =\n"
     ]
    },
    {
     "name": "stdout",
     "output_type": "stream",
     "text": [
      "exp(-t) + dirac(t) + dirac(1, t)\n"
     ]
    }
   ],
   "source": [
    "syms s;\n",
    "F6 = (s^2 + 2*s + 2)/(s + 1);\n",
    "f6 = ilaplace(F6)"
   ]
  },
  {
   "cell_type": "markdown",
   "id": "9d0a6429",
   "metadata": {
    "slideshow": {
     "slide_type": "slide"
    }
   },
   "source": [
    "## Lab Work\n",
    "\n",
    "In MATLAB Lab 4, we will explore the tools provided by MATLAB for taking Laplace transforms, representing polynomials, finding roots and factorizing polynomials and solution of inverse Laplace transform problems."
   ]
  },
  {
   "cell_type": "markdown",
   "id": "d6cc43c8",
   "metadata": {
    "slideshow": {
     "slide_type": "slide"
    }
   },
   "source": [
    "## Homework\n",
    "\n",
    "Complete {ref}`ex:11.3` to confirm the result {eq}`pfe4`. Then do the end of the chapter exercises (Section 3.67) from the {cite}`karris`. Don't look at the answers until you have attempted the problems."
   ]
  },
  {
   "cell_type": "markdown",
   "id": "8c2cce1e",
   "metadata": {
    "slideshow": {
     "slide_type": "notes"
    }
   },
   "source": [
    "## Summary\n",
    "\n",
    "In this section we have looked at the inverse Laplace transform. In particular, how to solve continuous-time LTI system problems that take the form of rational polynomials in $s$. \n",
    "\n",
    "* {ref}`ilap:defn`\n",
    "* {ref}`ilap:pfe`\n",
    "* {ref}`ilap_by_pfe`\n",
    "* {ref}`examples11`\n",
    "\n",
    "## Take Aways\n",
    "\n",
    "For causal signals and continuous-time LTI systems, the Laplace transform usually takes the form of a rational polynomial with general form $F(s)$ as shown in equation {eq}`eq:4.4:2`. The denominator of $F(s)$, $D(s)$, can always be factorised, and the factors (zeros of D(s), poles of F(s)) will be real $(s - p_k)$, real and repeated, such as $(s - p_k)^n$ or complex conjugate pairs $(s - \\sigma_k - j\\omega_k)(s - \\sigma_k + j\\omega_k)^1$, or a combination of these. \n",
    "\n",
    "Each such rational polynomial can then be represented as a *partial fraction* with *residues* $r_k$ whose values are determined by using one of the *partial fraction expansion* methods presented in this unit: \n",
    "\n",
    "* {ref}`ilap:distinct_real_poles`\n",
    "* {ref}`case:complex_poles`\n",
    "* {ref}`ilap:repeated_poles`\n",
    "* {ref}`ilap:improper`\n",
    "\n",
    "The factored polynomial which represents $F(s)$ can then be converted into the equivalent $f(t)$ by use of the *linearity property* ({ref}`lprops:linearity`) and tables of Laplace transforms (e.g. {ref}`ap:xform_table`).\n",
    "\n",
    "### MATLAB\n",
    "\n",
    "The inverse Laplace transform is given by the Symbolic math toolbox function `ilaplace`. We can determine the partial fraction of a rational polynomial with constant coefficients using the function `residue` we can factorise a symbolic polynomial using `factor` and expand a product of rational terms using `expand`. A symbolic polynomial with numerical coeffients can be converted into a numerial polynomial using `sym2poly` and you can go the other way using `poly2sym`. For more information and examples on how to use these functions please consult the [MATLAB help centre](https://uk.mathworks.com/help/index.html).\n",
    "\n",
    "<hr/>\n",
    "\n",
    "*Footnote* \n",
    "\n",
    "1 A pair of complex conjugate factors \n",
    "\n",
    "$$(s - \\sigma - j\\omega)(s - \\sigma + j\\omega)$$\n",
    "\n",
    "can be represented as a single quadratic factor which, when $\\sigma < 0$, will be\n",
    "\n",
    "$$s^2 + 2\\sigma s +(\\sigma^2 + \\omega^2)$$\n",
    "\n",
    "By completing the square we get\n",
    "\n",
    "$$(s + \\sigma)^2 - \\sigma^2 + (\\sigma^2 + \\omega^2) = \\left((s + \\sigma)^2 + \\omega^2\\right)$$\n",
    "\n",
    "which implies that the inverse Laplace transform of a complex pole pair will be a linear combination of the damped cosine and sine transform pairs:\n",
    "\n",
    "$$\\frac{(s + \\sigma)}{\\left(s + \\sigma\\right)^2 + \\omega^2}\\Leftrightarrow e^{-\\sigma t}\\cos(\\omega t)u_0(t) $$\n",
    "\n",
    "$$\\frac{\\omega}{\\left(s + \\sigma\\right)^2 + \\omega^2}\\Leftrightarrow e^{-\\sigma t}\\sin(\\omega t)u_0(t) $$"
   ]
  },
  {
   "cell_type": "markdown",
   "id": "73d419cb",
   "metadata": {
    "slideshow": {
     "slide_type": "notes"
    }
   },
   "source": [
    "## Next time\n",
    "\n",
    "We move on to consider \n",
    "\n",
    "* {ref}`unit4.5`\n",
    "\n",
    "## References\n",
    "\n",
    "```{bibliography}\n",
    ":filter: docname in docnames\n",
    "```"
   ]
  },
  {
   "cell_type": "markdown",
   "id": "4a55369e",
   "metadata": {
    "slideshow": {
     "slide_type": "slide"
    }
   },
   "source": [
    "(matlab_solutions11)=\n",
    "## Matlab Solutions\n",
    "\n",
    "For convenience, single script MATLAB solutions to the examples are provided and can be downloaded from the accompanying [MATLAB](https://github.com/cpjobling/eg-150-textbook/tree/master/laplace_transform/matlab) folder.\n",
    "\n",
    "* Example 1 - Real poles [[ex3_1.m](https://cpjobling.github.io/eg-150-textbook/laplace_transform/matlab/ex3_1.m)]\n",
    "* Example 2 - Real poles cubic denominator [[ex3_2.m](https://cpjobling.github.io/eg-150-textbook/laplace_transform/matlab/ex3_2.m)]\n",
    "* Example 3 - Complex poles [[ex3_3.m](https://cpjobling.github.io/eg-150-textbook/laplace_transform/matlab/ex3_3.m)]\n",
    "* Example 4 - Repeated real poles [[ex3_4.m](https://cpjobling.github.io/eg-150-textbook/laplace_transform/matlab/ex3_4.m)]\n",
    "* Example 5 - Non proper rational polynomial [[ex3_5.m](https://cpjobling.github.io/eg-150-textbook/laplace_transform/matlab/ex3_5.m)]"
   ]
  }
 ],
 "metadata": {
  "jupytext": {
   "formats": "ipynb,md:myst",
   "text_representation": {
    "extension": ".md",
    "format_name": "myst",
    "format_version": 0.13,
    "jupytext_version": "1.14.4"
   }
  },
  "kernelspec": {
   "display_name": "Matlab",
   "language": "matlab",
   "name": "matlab"
  },
  "language_info": {
   "codemirror_mode": "octave",
   "file_extension": ".m",
   "help_links": [
    {
     "text": "MetaKernel Magics",
     "url": "https://metakernel.readthedocs.io/en/latest/source/README.html"
    }
   ],
   "mimetype": "text/x-octave",
   "name": "matlab",
   "version": "0.17.1"
  },
  "source_map": [
   15,
   20,
   26,
   42,
   51,
   62,
   66,
   70,
   81,
   90,
   98,
   108,
   118,
   125,
   138,
   143,
   149,
   155,
   161,
   175,
   191,
   201,
   212,
   217,
   221,
   230,
   241,
   275,
   280,
   289,
   295,
   301,
   308,
   319,
   330,
   337,
   346,
   350,
   356,
   394,
   407,
   413,
   437,
   441,
   450,
   454,
   462,
   470,
   476,
   482,
   488,
   494,
   498,
   506,
   515,
   529,
   540,
   577,
   586,
   601,
   617,
   627,
   632,
   641,
   651,
   657,
   663,
   715,
   729
  ]
 },
 "nbformat": 4,
 "nbformat_minor": 5
}