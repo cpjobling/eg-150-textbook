{
 "cells": [
  {
   "cell_type": "markdown",
   "id": "826ff281",
   "metadata": {
    "slideshow": {
     "slide_type": "slide"
    }
   },
   "source": [
    "(unit4.8)=\n",
    "# Unit 4.8: Computer-Aided Systems Analysis and Simulation"
   ]
  },
  {
   "cell_type": "markdown",
   "id": "7f591c4b",
   "metadata": {
    "slideshow": {
     "slide_type": "subslide"
    }
   },
   "source": [
    "Follow along at [cpjobling.github.io/eg-150-textbook/laplace_transform/8/casas](https://cpjobling.github.io/eg-150-textbook/laplace_transform/8/casas)\n",
    "\n",
    "![QR Code for this lecture](pictures/qrcode_lap8.png)"
   ]
  },
  {
   "cell_type": "markdown",
   "id": "40af5977",
   "metadata": {
    "slideshow": {
     "slide_type": "notes"
    }
   },
   "source": [
    "## Agenda\n",
    "\n",
    "We conclude our introduction to the applications of the Laplace transform by demonstrating the facilties provided by the *Control Systems Toolbox* and the simulation tool *Simulink*. We will repeat {ref}`ex:14.2` using these tools and we will conclude by exploring some of the problems you have studied in **EG-152 Analogue Design** hopefully confirming some of the results you have obbserved in that lab.\n",
    "\n",
    "* {ref}`circ_tf`\n",
    "* {ref}`matlab_tf`\n",
    "* (ref}`simulink_tf`\n",
    "* {ref}`examples15`"
   ]
  },
  {
   "cell_type": "code",
   "execution_count": 1,
   "id": "521aa23b",
   "metadata": {
    "slideshow": {
     "slide_type": "subslide"
    }
   },
   "outputs": [
    {
     "name": "stdout",
     "output_type": "stream",
     "text": [
      "\n",
      "ans =\n",
      "\n",
      "    '/Users/eechris/code/src/github.com/cpjobling/eg-150-textbook/laplace_transform/matlab'\n",
      "\n"
     ]
    }
   ],
   "source": [
    "% Initialize MATLAB\n",
    "clearvars\n",
    "cd ../matlab \n",
    "pwd\n",
    "format compact"
   ]
  },
  {
   "cell_type": "markdown",
   "id": "e8dd28bf",
   "metadata": {
    "slideshow": {
     "slide_type": "slide"
    }
   },
   "source": [
    "(matlab_tf)=\n",
    "## Defining Transfer Functions in MATLAB\n",
    "\n",
    "There are two forms of polynomial representation in MATLAB. The most obvious is the **expanded polynomial** form where the numerator and denominator of a transfer function would be entered as two row vectors with the polynomial coefficients entered in the order of **descending** powers of $s$."
   ]
  },
  {
   "cell_type": "markdown",
   "id": "bd58a57c",
   "metadata": {
    "slideshow": {
     "slide_type": "subslide"
    }
   },
   "source": [
    "For example, if:\n",
    "\n",
    "$$G(s) = \\frac{a(s)}{b(s)} = \\frac{s^2 +2s+3}{s^3 +4s^2 +5s+6}$$ (eq:8.1)"
   ]
  },
  {
   "cell_type": "markdown",
   "id": "0372b7e2",
   "metadata": {
    "slideshow": {
     "slide_type": "fragment"
    }
   },
   "source": [
    "The numerator and denominator polynomials from Eq. {eq}`eg:8.1` are entered in MATLAB as"
   ]
  },
  {
   "cell_type": "code",
   "execution_count": 2,
   "id": "2fb50bf5",
   "metadata": {
    "slideshow": {
     "slide_type": "fragment"
    }
   },
   "outputs": [],
   "source": [
    "b = [1, 2, 3];    % s^2 + 2s + 3\n",
    "a = [1, 4, 5, 6]; % s^3 + 4s^2 + 5s + 6"
   ]
  },
  {
   "cell_type": "markdown",
   "id": "c8288199",
   "metadata": {
    "slideshow": {
     "slide_type": "subslide"
    }
   },
   "source": [
    "Missing coefficients must be entered as zero: so $q(s) = s^2 + 2s$ and $r(s) = s^4 + s^2 + 1$ are entered as"
   ]
  },
  {
   "cell_type": "code",
   "execution_count": 3,
   "id": "ac31f312",
   "metadata": {
    "slideshow": {
     "slide_type": "subslide"
    }
   },
   "outputs": [],
   "source": [
    "q = [1, 2, 0];\n",
    "r = [1, 0, 2, 0, 1];"
   ]
  },
  {
   "cell_type": "markdown",
   "id": "83b1cd4f",
   "metadata": {
    "slideshow": {
     "slide_type": "subslide"
    }
   },
   "source": [
    "### Defining polynomials symbolically\n",
    "\n",
    "We have already seen that we can use the symbolic math toolbox to define polynomials \n",
    "symbolically."
   ]
  },
  {
   "cell_type": "code",
   "execution_count": 4,
   "id": "2db623a8",
   "metadata": {
    "slideshow": {
     "slide_type": "fragment"
    }
   },
   "outputs": [],
   "source": [
    "syms s"
   ]
  },
  {
   "cell_type": "markdown",
   "id": "ede304db",
   "metadata": {
    "slideshow": {
     "slide_type": "fragment"
    }
   },
   "source": [
    "Define a rational polynomial"
   ]
  },
  {
   "cell_type": "code",
   "execution_count": 5,
   "id": "a5b46763",
   "metadata": {
    "slideshow": {
     "slide_type": "fragment"
    }
   },
   "outputs": [
    {
     "name": "stdout",
     "output_type": "stream",
     "text": [
      "G(s) =\n"
     ]
    },
    {
     "name": "stdout",
     "output_type": "stream",
     "text": [
      "(s^2 + 2*s + 3)/(s^3 + 4*s^2 + 5*s + 6)\n"
     ]
    }
   ],
   "source": [
    "G(s) = (s^2 + 2*s + 3)/(s^3 + 4*s^2 + 5*s + 6)"
   ]
  },
  {
   "cell_type": "markdown",
   "id": "04b73d85",
   "metadata": {
    "slideshow": {
     "slide_type": "subslide"
    }
   },
   "source": [
    "Extract numerator and denominator polynomials"
   ]
  },
  {
   "cell_type": "code",
   "execution_count": 6,
   "id": "a4d28612",
   "metadata": {
    "slideshow": {
     "slide_type": "fragment"
    }
   },
   "outputs": [
    {
     "name": "stdout",
     "output_type": "stream",
     "text": [
      "Num =\n"
     ]
    },
    {
     "name": "stdout",
     "output_type": "stream",
     "text": [
      "s^2 + 2*s + 3\n"
     ]
    },
    {
     "name": "stdout",
     "output_type": "stream",
     "text": [
      "Den =\n"
     ]
    },
    {
     "name": "stdout",
     "output_type": "stream",
     "text": [
      "s^3 + 4*s^2 + 5*s + 6\n"
     ]
    }
   ],
   "source": [
    "[Num,Den] = numden(G(s))"
   ]
  },
  {
   "cell_type": "markdown",
   "id": "5a5b14e3",
   "metadata": {
    "slideshow": {
     "slide_type": "subslide"
    }
   },
   "source": [
    "Providing that the  the coefficients are numeric, we can convert back and forth between symbolic polynomials and numeric polynomials using the functions `sym2poly` and `poly2sym`:"
   ]
  },
  {
   "cell_type": "code",
   "execution_count": 7,
   "id": "7cd4afa9",
   "metadata": {
    "slideshow": {
     "slide_type": "fragment"
    }
   },
   "outputs": [
    {
     "name": "stdout",
     "output_type": "stream",
     "text": [
      "nNum =\n",
      "     1     2     3\n"
     ]
    },
    {
     "name": "stdout",
     "output_type": "stream",
     "text": [
      "nDen =\n",
      "     1     4     5     6\n"
     ]
    }
   ],
   "source": [
    "nNum = sym2poly(Num), nDen = sym2poly(Den)"
   ]
  },
  {
   "cell_type": "markdown",
   "id": "00fce3a6",
   "metadata": {
    "slideshow": {
     "slide_type": "subslide"
    }
   },
   "source": [
    "Convert from numerical polynomial to symbolic. Second argument is polynomial variable. The default is x."
   ]
  },
  {
   "cell_type": "code",
   "execution_count": 8,
   "id": "a111910b",
   "metadata": {
    "slideshow": {
     "slide_type": "fragment"
    }
   },
   "outputs": [
    {
     "name": "stdout",
     "output_type": "stream",
     "text": [
      "ans =\n"
     ]
    },
    {
     "name": "stdout",
     "output_type": "stream",
     "text": [
      "s^4 + 2*s^2 + 1\n"
     ]
    }
   ],
   "source": [
    "poly2sym(r,s)"
   ]
  },
  {
   "cell_type": "markdown",
   "id": "8a4ce914",
   "metadata": {
    "slideshow": {
     "slide_type": "subslide"
    }
   },
   "source": [
    "### Polynomials - Factorised form\n",
    "\n",
    "If you know the *poles* amd *zeros* of a transfer function you can represent it in a factorized form.\n",
    "\n",
    "$$G(s) = \\frac{(s+1)(s+3)}{s(s+2)(s+4)}$$ (eq:8.2)"
   ]
  },
  {
   "cell_type": "markdown",
   "id": "0d8645eb",
   "metadata": {
    "slideshow": {
     "slide_type": "fragment"
    }
   },
   "source": [
    "The advantage of this formulation is that the zeros of the numerator and denominator polynomials are obvious by inspection. So it is often used in the preliminary analysis of the performance of a dynamic system."
   ]
  },
  {
   "cell_type": "markdown",
   "id": "10944d37",
   "metadata": {
    "slideshow": {
     "slide_type": "fragment"
    }
   },
   "source": [
    "The poles of the transfer function Eq. {eq}`eq:8.2` are $s = 0,\\,-1\\,-4$ and the zeros are $s = -1,\\,-3$"
   ]
  },
  {
   "cell_type": "markdown",
   "id": "4268973c",
   "metadata": {
    "slideshow": {
     "slide_type": "subslide"
    }
   },
   "source": [
    "In MATLAB, this form of transfer function is specified by a column vector of the zeros and a column vector of the poles:"
   ]
  },
  {
   "cell_type": "code",
   "execution_count": 9,
   "id": "f0a28211",
   "metadata": {
    "slideshow": {
     "slide_type": "fragment"
    }
   },
   "outputs": [],
   "source": [
    "z = [-1; -3];\n",
    "p = [0; -2; -4];"
   ]
  },
  {
   "cell_type": "markdown",
   "id": "6e1a8487",
   "metadata": {
    "slideshow": {
     "slide_type": "fragment"
    }
   },
   "source": [
    "A third parameter, the overall gain , completes the definition of the so called *pole-zero-gain* form of transfer function."
   ]
  },
  {
   "cell_type": "markdown",
   "id": "7923af5d",
   "metadata": {
    "slideshow": {
     "slide_type": "fragment"
    }
   },
   "source": [
    "In this case"
   ]
  },
  {
   "cell_type": "code",
   "execution_count": 10,
   "id": "c2b18d67",
   "metadata": {
    "slideshow": {
     "slide_type": "fragment"
    }
   },
   "outputs": [],
   "source": [
    "K = 1;"
   ]
  },
  {
   "cell_type": "markdown",
   "id": "3145bece",
   "metadata": {
    "slideshow": {
     "slide_type": "subslide"
    }
   },
   "source": [
    "### The Linear Time Invariant (LTI) System Object\n",
    "\n",
    "A few years ago, the Mathworks introduced a new data object for the creation and manipulation of system transfer functions."
   ]
  },
  {
   "cell_type": "markdown",
   "id": "047a1f43",
   "metadata": {
    "slideshow": {
     "slide_type": "fragment"
    }
   },
   "source": [
    "This object is called the *Linear Time Invariant (LTI) System Object*."
   ]
  },
  {
   "cell_type": "markdown",
   "id": "e1c57c9a",
   "metadata": {
    "slideshow": {
     "slide_type": "fragment"
    }
   },
   "source": [
    "It is used to gather the components of a transfer function into a single variable which can then easily be combined with other LTI system objects and passed to system analysis functions."
   ]
  },
  {
   "cell_type": "markdown",
   "id": "d2105235",
   "metadata": {
    "slideshow": {
     "slide_type": "subslide"
    }
   },
   "source": [
    "To create a LTI system object representing the factored transfer function from Eq. {eq}`eq:8.2` the following command is issued:"
   ]
  },
  {
   "cell_type": "code",
   "execution_count": 11,
   "id": "2e11d800",
   "metadata": {
    "slideshow": {
     "slide_type": "fragment"
    }
   },
   "outputs": [
    {
     "name": "stdout",
     "output_type": "stream",
     "text": [
      "\n",
      "G =\n"
     ]
    },
    {
     "name": "stdout",
     "output_type": "stream",
     "text": [
      " \n"
     ]
    },
    {
     "name": "stdout",
     "output_type": "stream",
     "text": [
      "   (s+1) (s+3)\n"
     ]
    },
    {
     "name": "stdout",
     "output_type": "stream",
     "text": [
      "  -------------\n"
     ]
    },
    {
     "name": "stdout",
     "output_type": "stream",
     "text": [
      "  s (s+2) (s+4)\n"
     ]
    },
    {
     "name": "stdout",
     "output_type": "stream",
     "text": [
      " \n"
     ]
    },
    {
     "name": "stdout",
     "output_type": "stream",
     "text": [
      "Continuous-time zero/pole/gain model.\n",
      "\n"
     ]
    }
   ],
   "source": [
    "G = zpk(z,p,K)"
   ]
  },
  {
   "cell_type": "markdown",
   "id": "b2323149",
   "metadata": {
    "slideshow": {
     "slide_type": "subslide"
    }
   },
   "source": [
    "The expanded numerator and denominator form of the transfer function is readily obtained by using the *data extraction function* `tfdata`:"
   ]
  },
  {
   "cell_type": "code",
   "execution_count": 12,
   "id": "39ba0ea0",
   "metadata": {
    "slideshow": {
     "slide_type": "fragment"
    }
   },
   "outputs": [
    {
     "name": "stdout",
     "output_type": "stream",
     "text": [
      "num =\n",
      "     0     1     4     3\n"
     ]
    },
    {
     "name": "stdout",
     "output_type": "stream",
     "text": [
      "den =\n",
      "     1     6     8     0\n"
     ]
    }
   ],
   "source": [
    "[num,den]=tfdata(G,'v')"
   ]
  },
  {
   "cell_type": "markdown",
   "id": "3549d385",
   "metadata": {
    "slideshow": {
     "slide_type": "fragment"
    }
   },
   "source": [
    "LTI system objects can also be created from the expanded form of a transfer function directly:"
   ]
  },
  {
   "cell_type": "code",
   "execution_count": 13,
   "id": "25a4ee2c",
   "metadata": {
    "slideshow": {
     "slide_type": "fragment"
    }
   },
   "outputs": [
    {
     "name": "stdout",
     "output_type": "stream",
     "text": [
      "\n",
      "G2 =\n"
     ]
    },
    {
     "name": "stdout",
     "output_type": "stream",
     "text": [
      " \n"
     ]
    },
    {
     "name": "stdout",
     "output_type": "stream",
     "text": [
      "    s^2 + 4 s + 3\n"
     ]
    },
    {
     "name": "stdout",
     "output_type": "stream",
     "text": [
      "  -----------------\n"
     ]
    },
    {
     "name": "stdout",
     "output_type": "stream",
     "text": [
      "  s^3 + 6 s^2 + 8 s\n"
     ]
    },
    {
     "name": "stdout",
     "output_type": "stream",
     "text": [
      " \n"
     ]
    },
    {
     "name": "stdout",
     "output_type": "stream",
     "text": [
      "Continuous-time transfer function.\n",
      "\n"
     ]
    }
   ],
   "source": [
    "G2=tf(num,den)"
   ]
  },
  {
   "cell_type": "markdown",
   "id": "47025c92",
   "metadata": {
    "slideshow": {
     "slide_type": "subslide"
    }
   },
   "source": [
    "and the zeros and poles similarly extracted:"
   ]
  },
  {
   "cell_type": "code",
   "execution_count": 14,
   "id": "f637d327",
   "metadata": {
    "slideshow": {
     "slide_type": "fragment"
    }
   },
   "outputs": [
    {
     "name": "stdout",
     "output_type": "stream",
     "text": [
      "zeros =\n",
      "    -3\n",
      "    -1\n"
     ]
    },
    {
     "name": "stdout",
     "output_type": "stream",
     "text": [
      "poles =\n",
      "     0\n",
      "    -4\n",
      "    -2\n"
     ]
    },
    {
     "name": "stdout",
     "output_type": "stream",
     "text": [
      "gain =\n",
      "     1\n"
     ]
    }
   ],
   "source": [
    "[zeros,poles,gain]=zpkdata(G2,'v')"
   ]
  },
  {
   "cell_type": "markdown",
   "id": "9682f953",
   "metadata": {
    "slideshow": {
     "slide_type": "subslide"
    }
   },
   "source": [
    "LTI system objects can also be created from the expanded form of a transfer function directly:"
   ]
  },
  {
   "cell_type": "code",
   "execution_count": 15,
   "id": "2deaaab2",
   "metadata": {},
   "outputs": [
    {
     "name": "stdout",
     "output_type": "stream",
     "text": [
      "\n",
      "G2 =\n"
     ]
    },
    {
     "name": "stdout",
     "output_type": "stream",
     "text": [
      " \n"
     ]
    },
    {
     "name": "stdout",
     "output_type": "stream",
     "text": [
      "    s^2 + 4 s + 3\n"
     ]
    },
    {
     "name": "stdout",
     "output_type": "stream",
     "text": [
      "  -----------------\n"
     ]
    },
    {
     "name": "stdout",
     "output_type": "stream",
     "text": [
      "  s^3 + 6 s^2 + 8 s\n"
     ]
    },
    {
     "name": "stdout",
     "output_type": "stream",
     "text": [
      " \n"
     ]
    },
    {
     "name": "stdout",
     "output_type": "stream",
     "text": [
      "Continuous-time transfer function.\n",
      "\n"
     ]
    }
   ],
   "source": [
    "G2=tf(num,den)"
   ]
  },
  {
   "cell_type": "markdown",
   "id": "ded6343b",
   "metadata": {
    "slideshow": {
     "slide_type": "fragment"
    }
   },
   "source": [
    "and the zeros and poles similarly extracted:"
   ]
  },
  {
   "cell_type": "code",
   "execution_count": 16,
   "id": "58b82cae",
   "metadata": {
    "slideshow": {
     "slide_type": "fragment"
    }
   },
   "outputs": [
    {
     "name": "stdout",
     "output_type": "stream",
     "text": [
      "zeros =\n",
      "    -3\n",
      "    -1\n"
     ]
    },
    {
     "name": "stdout",
     "output_type": "stream",
     "text": [
      "poles =\n",
      "     0\n",
      "    -4\n",
      "    -2\n"
     ]
    },
    {
     "name": "stdout",
     "output_type": "stream",
     "text": [
      "gain =\n",
      "     1\n"
     ]
    }
   ],
   "source": [
    "[zeros,poles,gain]=zpkdata(G2,'v')"
   ]
  },
  {
   "cell_type": "markdown",
   "id": "0436ee78",
   "metadata": {
    "slideshow": {
     "slide_type": "subslide"
    }
   },
   "source": [
    "### Setting LTI Properties\n",
    "\n",
    "Numerous options are available to document the LTI system objects that you create. \n",
    "\n",
    "For example, suppose the transfer function `G` represents a servomechanism (discussed next year) with input `'Voltage'` and output `'Angular Position'` We can add this information to the LTI system as follows:"
   ]
  },
  {
   "cell_type": "code",
   "execution_count": 17,
   "id": "704d95e6",
   "metadata": {
    "slideshow": {
     "slide_type": "fragment"
    }
   },
   "outputs": [],
   "source": [
    "set(G,'InputName','Voltage','OutputName','Angular Position')"
   ]
  },
  {
   "cell_type": "markdown",
   "id": "c243d446",
   "metadata": {
    "slideshow": {
     "slide_type": "subslide"
    }
   },
   "source": [
    "Such documentary information is probably best added when the LTI system object is created, for example as:"
   ]
  },
  {
   "cell_type": "code",
   "execution_count": 18,
   "id": "07fb9f7a",
   "metadata": {
    "slideshow": {
     "slide_type": "fragment"
    }
   },
   "outputs": [
    {
     "name": "stdout",
     "output_type": "stream",
     "text": [
      "\n",
      "G3 =\n"
     ]
    },
    {
     "name": "stdout",
     "output_type": "stream",
     "text": [
      " \n"
     ]
    },
    {
     "name": "stdout",
     "output_type": "stream",
     "text": [
      "  From input \"Armature Voltage (V)\" to output \"Load Shaft Position (rad)\":\n"
     ]
    },
    {
     "name": "stdout",
     "output_type": "stream",
     "text": [
      "   (s+1) (s+3)\n"
     ]
    },
    {
     "name": "stdout",
     "output_type": "stream",
     "text": [
      "  -------------\n"
     ]
    },
    {
     "name": "stdout",
     "output_type": "stream",
     "text": [
      "  s (s+2) (s+4)\n"
     ]
    },
    {
     "name": "stdout",
     "output_type": "stream",
     "text": [
      " \n"
     ]
    },
    {
     "name": "stdout",
     "output_type": "stream",
     "text": [
      "Continuous-time zero/pole/gain model.\n",
      "\n"
     ]
    }
   ],
   "source": [
    "G3=zpk(z,p,K,'InputName','Armature Voltage (V)',...\n",
    "    'OutputName','Load Shaft Position (rad)',...\n",
    "    'notes','An armature voltage controlled servomechanism')"
   ]
  },
  {
   "cell_type": "markdown",
   "id": "152f3185",
   "metadata": {
    "slideshow": {
     "slide_type": "subslide"
    }
   },
   "source": [
    "Once the LTI object has been documented, the documentation can be extracted using commands like:"
   ]
  },
  {
   "cell_type": "code",
   "execution_count": 19,
   "id": "d23891a8",
   "metadata": {
    "slideshow": {
     "slide_type": "fragment"
    }
   },
   "outputs": [
    {
     "name": "stdout",
     "output_type": "stream",
     "text": [
      "ans =\n",
      "  1x1 cell array\n",
      "    {'An armature voltage controlled servomechanism'}\n"
     ]
    }
   ],
   "source": [
    "get(G3,'notes')"
   ]
  },
  {
   "cell_type": "markdown",
   "id": "3e0d6249",
   "metadata": {
    "slideshow": {
     "slide_type": "subslide"
    }
   },
   "source": [
    "One can also access the documentation using an *object reference* notation"
   ]
  },
  {
   "cell_type": "code",
   "execution_count": 20,
   "id": "f85a8fa6",
   "metadata": {
    "slideshow": {
     "slide_type": "fragment"
    }
   },
   "outputs": [
    {
     "name": "stdout",
     "output_type": "stream",
     "text": [
      "in =\n",
      "  1x1 cell array\n",
      "    {'Armature Voltage (V)'}\n"
     ]
    },
    {
     "name": "stdout",
     "output_type": "stream",
     "text": [
      "out =\n",
      "  1x1 cell array\n",
      "    {'Load Shaft Position (rad)'}\n"
     ]
    }
   ],
   "source": [
    "in=G3.InputName, out=G3.OutputName"
   ]
  },
  {
   "cell_type": "markdown",
   "id": "027a3303",
   "metadata": {
    "slideshow": {
     "slide_type": "subslide"
    }
   },
   "source": [
    "All the documentation available on an LTI system object may be extracted with a single command:"
   ]
  },
  {
   "cell_type": "code",
   "execution_count": 21,
   "id": "b3b7e7a1",
   "metadata": {
    "slideshow": {
     "slide_type": "fragment"
    }
   },
   "outputs": [
    {
     "name": "stdout",
     "output_type": "stream",
     "text": [
      "                Z: {[2x1 double]}\n",
      "                P: {[3x1 double]}\n",
      "                K: 1\n",
      "    DisplayFormat: 'roots'\n",
      "         Variable: 's'\n",
      "          IODelay: 0\n",
      "       InputDelay: 0\n",
      "      OutputDelay: 0\n",
      "        InputName: {'Armature Voltage (V)'}\n",
      "        InputUnit: {''}\n",
      "       InputGroup: [1x1 struct]\n",
      "       OutputName: {'Load Shaft Position (rad)'}\n",
      "       OutputUnit: {''}\n",
      "      OutputGroup: [1x1 struct]\n",
      "            Notes: {'An armature voltage controlled servomechanism'}\n",
      "         UserData: []\n",
      "             Name: ''\n",
      "               Ts: 0\n",
      "         TimeUnit: 'seconds'\n",
      "     SamplingGrid: [1x1 struct]\n"
     ]
    }
   ],
   "source": [
    "get(G3)"
   ]
  },
  {
   "cell_type": "markdown",
   "id": "3bddee65",
   "metadata": {
    "slideshow": {
     "slide_type": "subslide"
    }
   },
   "source": [
    "### System Transformations\n",
    "\n",
    "MATLAB supports the easy transformation of LTI system objects between expanded and factored forms. For example to convert a transfer function from expanded form to pole-zero-gain form the following command is used:"
   ]
  },
  {
   "cell_type": "code",
   "execution_count": 22,
   "id": "c7984e00",
   "metadata": {
    "slideshow": {
     "slide_type": "fragment"
    }
   },
   "outputs": [
    {
     "name": "stdout",
     "output_type": "stream",
     "text": [
      "\n",
      "G4 =\n"
     ]
    },
    {
     "name": "stdout",
     "output_type": "stream",
     "text": [
      " \n"
     ]
    },
    {
     "name": "stdout",
     "output_type": "stream",
     "text": [
      "   (s+3) (s+1)\n"
     ]
    },
    {
     "name": "stdout",
     "output_type": "stream",
     "text": [
      "  -------------\n"
     ]
    },
    {
     "name": "stdout",
     "output_type": "stream",
     "text": [
      "  s (s+4) (s+2)\n"
     ]
    },
    {
     "name": "stdout",
     "output_type": "stream",
     "text": [
      " \n"
     ]
    },
    {
     "name": "stdout",
     "output_type": "stream",
     "text": [
      "Continuous-time zero/pole/gain model.\n",
      "\n"
     ]
    }
   ],
   "source": [
    "G4 = zpk(G2)"
   ]
  },
  {
   "cell_type": "markdown",
   "id": "cfd4698a",
   "metadata": {
    "slideshow": {
     "slide_type": "subslide"
    }
   },
   "source": [
    "To convert from zero-pole-gain form to expanded form we use the function `tf`"
   ]
  },
  {
   "cell_type": "code",
   "execution_count": 23,
   "id": "f7da5fd7",
   "metadata": {
    "slideshow": {
     "slide_type": "fragment"
    }
   },
   "outputs": [
    {
     "name": "stdout",
     "output_type": "stream",
     "text": [
      "\n",
      "G5 =\n"
     ]
    },
    {
     "name": "stdout",
     "output_type": "stream",
     "text": [
      " \n"
     ]
    },
    {
     "name": "stdout",
     "output_type": "stream",
     "text": [
      "  From input \"Voltage\" to output \"Angular Position\":\n"
     ]
    },
    {
     "name": "stdout",
     "output_type": "stream",
     "text": [
      "    s^2 + 4 s + 3\n"
     ]
    },
    {
     "name": "stdout",
     "output_type": "stream",
     "text": [
      "  -----------------\n"
     ]
    },
    {
     "name": "stdout",
     "output_type": "stream",
     "text": [
      "  s^3 + 6 s^2 + 8 s\n"
     ]
    },
    {
     "name": "stdout",
     "output_type": "stream",
     "text": [
      " \n"
     ]
    },
    {
     "name": "stdout",
     "output_type": "stream",
     "text": [
      "Continuous-time transfer function.\n",
      "\n"
     ]
    }
   ],
   "source": [
    "G5 = tf(G)"
   ]
  },
  {
   "cell_type": "markdown",
   "id": "a7ad1048",
   "metadata": {
    "slideshow": {
     "slide_type": "notes"
    }
   },
   "source": [
    "Please note that these transformations are merely a convenience that allow you to work with your preferred form of representation. Most of the tools that deal with LTI system objects will work with any form. Furthermore, you can always use the data extraction functions `zpdata` and `tfdata` to extract the zero-pole-gain and numerator-denominator parameters from a LTI system, no matter in which form it was originally defined, without the need for an explicit conversion."
   ]
  },
  {
   "cell_type": "markdown",
   "id": "d2aa8d88",
   "metadata": {
    "slideshow": {
     "slide_type": "subslide"
    }
   },
   "source": [
    "### Combining LTI System Objects\n",
    "\n",
    "A powerful feature of the LTI system object representation is the ease with which LTI objects can be combined."
   ]
  },
  {
   "cell_type": "markdown",
   "id": "c913c768",
   "metadata": {
    "slideshow": {
     "slide_type": "subslide"
    }
   },
   "source": [
    "#### Systems in series\n",
    "\n",
    "For example, suppose we have two systems with transfer functions\n",
    "\n",
    "$$G_1(s) = \\frac{s + 1}{s+3}$$\n",
    "\n",
    "and\n",
    "\n",
    "$$G_2(s) = \\frac{10}{s(s+2)}$$"
   ]
  },
  {
   "cell_type": "markdown",
   "id": "61570e68",
   "metadata": {
    "slideshow": {
     "slide_type": "subslide"
    }
   },
   "source": [
    "Then the series combination of the two transfer functions ($G_1(s)G_2(s)$) is obtained using the `*` (multiplication) operator:"
   ]
  },
  {
   "cell_type": "code",
   "execution_count": 24,
   "id": "c00813b2",
   "metadata": {
    "slideshow": {
     "slide_type": "fragment"
    }
   },
   "outputs": [
    {
     "name": "stdout",
     "output_type": "stream",
     "text": [
      "\n",
      "Gs =\n"
     ]
    },
    {
     "name": "stdout",
     "output_type": "stream",
     "text": [
      " \n"
     ]
    },
    {
     "name": "stdout",
     "output_type": "stream",
     "text": [
      "      10 s + 10\n"
     ]
    },
    {
     "name": "stdout",
     "output_type": "stream",
     "text": [
      "  -----------------\n"
     ]
    },
    {
     "name": "stdout",
     "output_type": "stream",
     "text": [
      "  s^3 + 5 s^2 + 6 s\n"
     ]
    },
    {
     "name": "stdout",
     "output_type": "stream",
     "text": [
      " \n"
     ]
    },
    {
     "name": "stdout",
     "output_type": "stream",
     "text": [
      "Continuous-time transfer function.\n",
      "\n"
     ]
    }
   ],
   "source": [
    "G1=tf([1 1],[1 3]);\n",
    "G2=tf(10,conv([1 0],[1 2])); % conv is polynomial multiplication\n",
    "Gs=G1*G2 % series connection of two LTI objects"
   ]
  },
  {
   "cell_type": "markdown",
   "id": "eed6d17a",
   "metadata": {
    "slideshow": {
     "slide_type": "subslide"
    }
   },
   "source": [
    "We can extract the poles and zeros of the combined systems using the `zpdata` function"
   ]
  },
  {
   "cell_type": "code",
   "execution_count": 25,
   "id": "372be6f8",
   "metadata": {
    "slideshow": {
     "slide_type": "fragment"
    }
   },
   "outputs": [
    {
     "name": "stdout",
     "output_type": "stream",
     "text": [
      "zeros =\n",
      "    -1\n"
     ]
    },
    {
     "name": "stdout",
     "output_type": "stream",
     "text": [
      "poles =\n",
      "         0\n",
      "   -3.0000\n",
      "   -2.0000\n"
     ]
    },
    {
     "name": "stdout",
     "output_type": "stream",
     "text": [
      "K =\n",
      "    10\n"
     ]
    }
   ],
   "source": [
    "[zeros,poles,K]=zpkdata(Gs,'v')"
   ]
  },
  {
   "cell_type": "markdown",
   "id": "1c4403c2",
   "metadata": {
    "slideshow": {
     "slide_type": "subslide"
    }
   },
   "source": [
    "#### Systems in parallel\n",
    "\n",
    "The parallel connection of two LTI system objects corresponds to addition"
   ]
  },
  {
   "cell_type": "code",
   "execution_count": 26,
   "id": "14ec36e4",
   "metadata": {
    "slideshow": {
     "slide_type": "fragment"
    }
   },
   "outputs": [
    {
     "name": "stdout",
     "output_type": "stream",
     "text": [
      "\n",
      "Gp =\n"
     ]
    },
    {
     "name": "stdout",
     "output_type": "stream",
     "text": [
      " \n"
     ]
    },
    {
     "name": "stdout",
     "output_type": "stream",
     "text": [
      "  s^3 + 3 s^2 + 12 s + 30\n"
     ]
    },
    {
     "name": "stdout",
     "output_type": "stream",
     "text": [
      "  -----------------------\n"
     ]
    },
    {
     "name": "stdout",
     "output_type": "stream",
     "text": [
      "     s^3 + 5 s^2 + 6 s\n"
     ]
    },
    {
     "name": "stdout",
     "output_type": "stream",
     "text": [
      " \n"
     ]
    },
    {
     "name": "stdout",
     "output_type": "stream",
     "text": [
      "Continuous-time transfer function.\n",
      "\n"
     ]
    }
   ],
   "source": [
    "Gp = G1 + G2"
   ]
  },
  {
   "cell_type": "markdown",
   "id": "769feaf1",
   "metadata": {
    "slideshow": {
     "slide_type": "subslide"
    }
   },
   "source": [
    "#### Systems with feedback\n",
    "\n",
    "The feedback connection of two LTI system objects is also supported."
   ]
  },
  {
   "cell_type": "markdown",
   "id": "e843878f",
   "metadata": {
    "slideshow": {
     "slide_type": "fragment"
    }
   },
   "source": [
    "The function `feedback` is used for this."
   ]
  },
  {
   "cell_type": "markdown",
   "id": "7d862d1f",
   "metadata": {
    "slideshow": {
     "slide_type": "subslide"
    }
   },
   "source": [
    "Let\n",
    "\n",
    "$$G(s) = \\frac{2s^2 + 5s + 1}{s^2 + 2s + 3}$$\n",
    "\n",
    "be the forward transfer function of a system with feedback and\n",
    "\n",
    "$$H(s) = \\frac{5(s + 2)}{(s+10)}$$\n",
    "\n",
    "be the feedback network. Then the closed-loop transfer function (assuming negative feedback) is\n",
    "\n",
    "$$G_c(s) = \\frac{G(s)}{1 + G(s)H(s)}$$"
   ]
  },
  {
   "cell_type": "markdown",
   "id": "3ddda9bf",
   "metadata": {
    "slideshow": {
     "slide_type": "subslide"
    }
   },
   "source": [
    "In MATLAB:"
   ]
  },
  {
   "cell_type": "code",
   "execution_count": 27,
   "id": "55705d47",
   "metadata": {
    "slideshow": {
     "slide_type": "fragment"
    }
   },
   "outputs": [],
   "source": [
    "G = tf([2 5 1],[1 2 3],'inputname','torque',...\n",
    "    'outputname','velocity');\n",
    "H = zpk(-2,-10,5);"
   ]
  },
  {
   "cell_type": "code",
   "execution_count": 28,
   "id": "0a6db18a",
   "metadata": {
    "slideshow": {
     "slide_type": "fragment"
    }
   },
   "outputs": [
    {
     "name": "stdout",
     "output_type": "stream",
     "text": [
      "\n",
      "Gc =\n"
     ]
    },
    {
     "name": "stdout",
     "output_type": "stream",
     "text": [
      " \n"
     ]
    },
    {
     "name": "stdout",
     "output_type": "stream",
     "text": [
      "  From input \"torque\" to output \"velocity\":\n"
     ]
    },
    {
     "name": "stdout",
     "output_type": "stream",
     "text": [
      "  0.18182 (s+0.2192) (s+2.281) (s+10)\n"
     ]
    },
    {
     "name": "stdout",
     "output_type": "stream",
     "text": [
      "  -----------------------------------\n"
     ]
    },
    {
     "name": "stdout",
     "output_type": "stream",
     "text": [
      "   (s+3.419) (s^2 + 1.763s + 1.064)\n"
     ]
    },
    {
     "name": "stdout",
     "output_type": "stream",
     "text": [
      " \n"
     ]
    },
    {
     "name": "stdout",
     "output_type": "stream",
     "text": [
      "Continuous-time zero/pole/gain model.\n",
      "\n"
     ]
    }
   ],
   "source": [
    "Gc = feedback(G,H) % negative feedback assumed"
   ]
  },
  {
   "cell_type": "markdown",
   "id": "827f861c",
   "metadata": {
    "slideshow": {
     "slide_type": "subslide"
    }
   },
   "source": [
    "### The Analysis of LTI System Objects\n",
    "\n",
    "MATLAB uses the LTI system objects as parameters for the analysis tools such as `impulse`, `step`, `nyquist`, `bode` and `rlocus`. \n",
    "\n",
    "Some of these are immediately useful for signals and systems use. You will encounter the others in **EG-243 Control Systems**.\n",
    "\n",
    "As an example of their use try each of following:"
   ]
  },
  {
   "cell_type": "markdown",
   "id": "c5230db5",
   "metadata": {
    "slideshow": {
     "slide_type": "subslide"
    }
   },
   "source": [
    "#### Root locus"
   ]
  },
  {
   "cell_type": "code",
   "execution_count": 29,
   "id": "6e6395f1",
   "metadata": {
    "slideshow": {
     "slide_type": "fragment"
    }
   },
   "outputs": [
    {
     "data": {
      "image/png": "[encoded data removed]",
      "text/plain": [
       "<IPython.core.display.Image object>"
      ]
     },
     "metadata": {
      "filenames": {
       "image/png": "/Users/eechris/code/src/github.com/cpjobling/eg-150-textbook/_build/jupyter_execute/laplace_transform/8/casas_74_0.png"
      }
     },
     "output_type": "display_data"
    }
   ],
   "source": [
    "rlocus(G*H)"
   ]
  },
  {
   "cell_type": "markdown",
   "id": "19e69cc0",
   "metadata": {
    "slideshow": {
     "slide_type": "subslide"
    }
   },
   "source": [
    "#### Open-loop frequency response"
   ]
  },
  {
   "cell_type": "code",
   "execution_count": 30,
   "id": "7fc1e706",
   "metadata": {
    "slideshow": {
     "slide_type": "fragment"
    }
   },
   "outputs": [
    {
     "data": {
      "image/png": "[encoded data removed]",
      "text/plain": [
       "<IPython.core.display.Image object>"
      ]
     },
     "metadata": {
      "filenames": {
       "image/png": "/Users/eechris/code/src/github.com/cpjobling/eg-150-textbook/_build/jupyter_execute/laplace_transform/8/casas_76_0.png"
      }
     },
     "output_type": "display_data"
    }
   ],
   "source": [
    "bode(G*H)"
   ]
  },
  {
   "cell_type": "markdown",
   "id": "bfbcd25d",
   "metadata": {
    "slideshow": {
     "slide_type": "subslide"
    }
   },
   "source": [
    "#### Closed-loop step response"
   ]
  },
  {
   "cell_type": "code",
   "execution_count": 31,
   "id": "807945fa",
   "metadata": {
    "slideshow": {
     "slide_type": "fragment"
    }
   },
   "outputs": [
    {
     "data": {
      "image/png": "[encoded data removed]",
      "text/plain": [
       "<IPython.core.display.Image object>"
      ]
     },
     "metadata": {
      "filenames": {
       "image/png": "/Users/eechris/code/src/github.com/cpjobling/eg-150-textbook/_build/jupyter_execute/laplace_transform/8/casas_78_0.png"
      }
     },
     "output_type": "display_data"
    }
   ],
   "source": [
    "step(Gc)"
   ]
  },
  {
   "cell_type": "markdown",
   "id": "1c749551",
   "metadata": {
    "slideshow": {
     "slide_type": "subslide"
    }
   },
   "source": [
    "#### Closed-loop frequency response"
   ]
  },
  {
   "cell_type": "code",
   "execution_count": 32,
   "id": "36778458",
   "metadata": {
    "slideshow": {
     "slide_type": "fragment"
    }
   },
   "outputs": [
    {
     "data": {
      "image/png": "[encoded data removed]",
      "text/plain": [
       "<IPython.core.display.Image object>"
      ]
     },
     "metadata": {
      "filenames": {
       "image/png": "/Users/eechris/code/src/github.com/cpjobling/eg-150-textbook/_build/jupyter_execute/laplace_transform/8/casas_80_0.png"
      }
     },
     "output_type": "display_data"
    }
   ],
   "source": [
    "bode(Gc)"
   ]
  },
  {
   "cell_type": "markdown",
   "id": "b6412cf1",
   "metadata": {
    "slideshow": {
     "slide_type": "subslide"
    }
   },
   "source": [
    "#### Closed-loop impulse response"
   ]
  },
  {
   "cell_type": "code",
   "execution_count": 33,
   "id": "f50d785a",
   "metadata": {
    "slideshow": {
     "slide_type": "fragment"
    }
   },
   "outputs": [
    {
     "data": {
      "image/png": "[encoded data removed]",
      "text/plain": [
       "<IPython.core.display.Image object>"
      ]
     },
     "metadata": {
      "filenames": {
       "image/png": "/Users/eechris/code/src/github.com/cpjobling/eg-150-textbook/_build/jupyter_execute/laplace_transform/8/casas_82_0.png"
      }
     },
     "output_type": "display_data"
    }
   ],
   "source": [
    "impulse(Gc)"
   ]
  },
  {
   "cell_type": "markdown",
   "id": "54555cfe",
   "metadata": {
    "slideshow": {
     "slide_type": "subslide"
    }
   },
   "source": [
    "#### Nyquist diagram"
   ]
  },
  {
   "cell_type": "code",
   "execution_count": 34,
   "id": "51ca8843",
   "metadata": {
    "slideshow": {
     "slide_type": "fragment"
    }
   },
   "outputs": [
    {
     "data": {
      "image/png": "[encoded data removed]",
      "text/plain": [
       "<IPython.core.display.Image object>"
      ]
     },
     "metadata": {
      "filenames": {
       "image/png": "/Users/eechris/code/src/github.com/cpjobling/eg-150-textbook/_build/jupyter_execute/laplace_transform/8/casas_84_0.png"
      }
     },
     "output_type": "display_data"
    }
   ],
   "source": [
    "nyquist(G*H)"
   ]
  },
  {
   "cell_type": "markdown",
   "id": "5413ad96",
   "metadata": {
    "slideshow": {
     "slide_type": "notes"
    }
   },
   "source": [
    "MATLAB also provides two interactive graphical tools that work with LTI system objects\n",
    "\n",
    "* `ltiview` is a graphical tool that can be used to analyze systems defined by LTI objects. It provides easy access to LTI objects and time and frequency response analysis tools. \n",
    "* `rltool` is an interactive tool for designing controllers using the root locus method.\n",
    "\n",
    "Control engineers will find `sisotool` useful.\n",
    "\n",
    "You are encouraged to experiment with these tools."
   ]
  },
  {
   "cell_type": "markdown",
   "id": "25f5038b",
   "metadata": {
    "slideshow": {
     "slide_type": "subslide"
    }
   },
   "source": [
    "### Partial Fraction Expansions\n",
    "\n",
    "MATLAB provides a command called `residue` that returns the partial fraction expansion of a transfer function. That is, given\n",
    "\n",
    "$$G(s)= \\frac{s^m +b_{m-1}s^{m-1} + \\cdots + b_1s+b_0}{s^n +a_{n-1}s^{n-1} + \\cdots a_1s+a_0}$$\n",
    "\n",
    "it returns\n",
    "\n",
    "$$\\frac{r_1}{s + p_1} + \\frac{r_2}{s + p_2} + \\cdots + \\frac{R_n}{s + p_n} + K(s)$$\n",
    "\n",
    "where $p_k$ are the poles of the transfer function, $r_k$ are the coefficients of the partial fraction terms (called the **residues of the poles**) and $K(s)$ is a remainder polynomial which empty unless the rational polynomial is *non-proper*."
   ]
  },
  {
   "cell_type": "markdown",
   "id": "09df204e",
   "metadata": {
    "slideshow": {
     "slide_type": "subslide"
    }
   },
   "source": [
    "To use this, the starting point must be the expanded form of the transfer function in numerical polynomial form.\n",
    "\n",
    "Thus given\n",
    "\n",
    "$$C(s) = \\frac{5(s + 2)}{s(s+3)(s+10)}$$\n",
    "\n",
    "we obtain the partial fraction expansion using the MATLAB command sequence:"
   ]
  },
  {
   "cell_type": "code",
   "execution_count": 35,
   "id": "7579d24c",
   "metadata": {
    "slideshow": {
     "slide_type": "fragment"
    }
   },
   "outputs": [
    {
     "name": "stdout",
     "output_type": "stream",
     "text": [
      "num =\n",
      "     0     0     5    10\n"
     ]
    },
    {
     "name": "stdout",
     "output_type": "stream",
     "text": [
      "den =\n",
      "     1    13    30     0\n"
     ]
    }
   ],
   "source": [
    "k = 5; z = [-2]; p = [0; -3; -10]; % zero-pole-gain form\n",
    "C = zpk(z,p,k);\n",
    "[num,den] = tfdata(C,'v')\n",
    "%\n",
    "% (Note that the leading terms in num are zero)."
   ]
  },
  {
   "cell_type": "code",
   "execution_count": 36,
   "id": "33807159",
   "metadata": {
    "slideshow": {
     "slide_type": "subslide"
    }
   },
   "outputs": [
    {
     "name": "stdout",
     "output_type": "stream",
     "text": [
      "r =\n",
      "   -0.5714\n",
      "    0.2381\n",
      "    0.3333\n"
     ]
    },
    {
     "name": "stdout",
     "output_type": "stream",
     "text": [
      "p =\n",
      "   -10\n",
      "    -3\n",
      "     0\n",
      "k =\n",
      "     []\n"
     ]
    }
   ],
   "source": [
    "[r,p,k] = residue(num,den)"
   ]
  },
  {
   "cell_type": "markdown",
   "id": "c76e76ac",
   "metadata": {
    "slideshow": {
     "slide_type": "subslide"
    }
   },
   "source": [
    "which we interpret to mean\n",
    "\n",
    "$$C(s) = \\frac{0.3333}{s} + \\frac{0.2381}{s + 3} - \\frac{0.5714}{s + 5}.$$\n",
    "\n",
    "If $C(s)$ represents the step response of the system\n",
    "\n",
    "$$G(s) = \\frac{5(s + 2)}{(s + 3)(s + 10)}$$\n",
    "\n",
    "then the step response is, by inverse Laplace Transform:\n",
    "\n",
    "$$y(t) = \\left( {0.3333 + 0.2381{e^{ - 3t}} - 0.5714{e^{ - 10t}}}\n",
    "\\right){u_0}(t).$$"
   ]
  },
  {
   "cell_type": "markdown",
   "id": "f74aeb21",
   "metadata": {
    "slideshow": {
     "slide_type": "subslide"
    }
   },
   "source": [
    "You can check this with the commands:"
   ]
  },
  {
   "cell_type": "code",
   "execution_count": 37,
   "id": "f05495fb",
   "metadata": {
    "slideshow": {
     "slide_type": "fragment"
    }
   },
   "outputs": [
    {
     "name": "stdout",
     "output_type": "stream",
     "text": [
      "\n",
      "newC =\n"
     ]
    },
    {
     "name": "stdout",
     "output_type": "stream",
     "text": [
      " \n"
     ]
    },
    {
     "name": "stdout",
     "output_type": "stream",
     "text": [
      "     5 s + 10\n"
     ]
    },
    {
     "name": "stdout",
     "output_type": "stream",
     "text": [
      "  ---------------\n"
     ]
    },
    {
     "name": "stdout",
     "output_type": "stream",
     "text": [
      "  s^2 + 13 s + 30\n"
     ]
    },
    {
     "name": "stdout",
     "output_type": "stream",
     "text": [
      " \n"
     ]
    },
    {
     "name": "stdout",
     "output_type": "stream",
     "text": [
      "Continuous-time transfer function.\n",
      "\n"
     ]
    },
    {
     "data": {
      "image/png": "[encoded data removed]",
      "text/plain": [
       "<IPython.core.display.Image object>"
      ]
     },
     "metadata": {
      "filenames": {
       "image/png": "/Users/eechris/code/src/github.com/cpjobling/eg-150-textbook/_build/jupyter_execute/laplace_transform/8/casas_92_7.png"
      }
     },
     "output_type": "display_data"
    }
   ],
   "source": [
    "newC = tf([5, 10],[1, 13, 30])\n",
    "step(newC) % provides $u_0(t)$"
   ]
  },
  {
   "cell_type": "code",
   "execution_count": 38,
   "id": "ac474d6d",
   "metadata": {
    "slideshow": {
     "slide_type": "subslide"
    }
   },
   "outputs": [
    {
     "data": {
      "image/png": "[encoded data removed]",
      "text/plain": [
       "<IPython.core.display.Image object>"
      ]
     },
     "metadata": {
      "filenames": {
       "image/png": "/Users/eechris/code/src/github.com/cpjobling/eg-150-textbook/_build/jupyter_execute/laplace_transform/8/casas_93_0.png"
      }
     },
     "output_type": "display_data"
    }
   ],
   "source": [
    "t = 0:.05:1.5; % time vector\n",
    "c = 0.3333 + 0.2381 * exp(-3*t) - 0.5714 * exp(-10*t);\n",
    "plot(t,c)"
   ]
  },
  {
   "cell_type": "markdown",
   "id": "9a88f804",
   "metadata": {
    "slideshow": {
     "slide_type": "notes"
    }
   },
   "source": [
    "Completing the problem using the Symbolic toolbox is left as an exercise for the reader."
   ]
  },
  {
   "cell_type": "markdown",
   "id": "31c1562d",
   "metadata": {
    "slideshow": {
     "slide_type": "notes"
    }
   },
   "source": [
    "There are numerous other documentation features provided for LTI system objects. Please consult the [on-line help](https://uk.mathworks.com/help/control/getstart/linear-lti-models.html) for full details."
   ]
  },
  {
   "cell_type": "markdown",
   "id": "749b3f32",
   "metadata": {
    "slideshow": {
     "slide_type": "slide"
    }
   },
   "source": [
    "(simulink_tf)=\n",
    "## Using Transfer Functions in Simulink for System Simulation"
   ]
  },
  {
   "cell_type": "markdown",
   "id": "ee8e5525",
   "metadata": {
    "slideshow": {
     "slide_type": "fragment"
    }
   },
   "source": [
    "The Simulink transfer function (**`Transfer Fcn`**) block (see {numref}`fig:sim_tf`) implements a transfer function"
   ]
  },
  {
   "cell_type": "markdown",
   "id": "a2d033f7",
   "metadata": {
    "slideshow": {
     "slide_type": "fragment"
    }
   },
   "source": [
    ":::{figure-md} fig:sim_tf\n",
    "<img src=\"pictures/sim_tf.png\" alt=\"The LTI Block in Simulink\">\n",
    "\n",
    "The LTI Block in Simulink\n",
    ":::"
   ]
  },
  {
   "cell_type": "markdown",
   "id": "4535fd8a",
   "metadata": {
    "slideshow": {
     "slide_type": "subslide"
    }
   },
   "source": [
    "The transfer function block represents a general input output function\n",
    "\n",
    "$$G(s) = \\frac{N(s)}{D(s)}$$\n",
    "\n",
    "and is not specific nor restricted to circuit analysis."
   ]
  },
  {
   "cell_type": "markdown",
   "id": "4c24486e",
   "metadata": {
    "slideshow": {
     "slide_type": "fragment"
    }
   },
   "source": [
    "It can, however be used in modelling and simulation studies."
   ]
  },
  {
   "cell_type": "markdown",
   "id": "6e910039",
   "metadata": {
    "slideshow": {
     "slide_type": "slide"
    }
   },
   "source": [
    "(example15)=\n",
    "## Examples 15"
   ]
  },
  {
   "cell_type": "markdown",
   "id": "017e7869",
   "metadata": {
    "slideshow": {
     "slide_type": "slide"
    }
   },
   "source": [
    "(ex:15.1)=\n",
    "### Example 15.1 \n",
    "\n",
    "Recast {ref}`ex:14.2` as a MATLAB problem using the LTI Transfer Function block. \n",
    "\n",
    "For simplicity use parameters $R_1 = R_2 = R_3 = 1\\; \\Omega$, and $C_1 = C_2 = 1$ F.\n",
    "\n",
    "Calculate the step response using the LTI functions and \n",
    "\n",
    "Verify the result with Simulink."
   ]
  },
  {
   "cell_type": "markdown",
   "id": "f840f1ca",
   "metadata": {
    "slideshow": {
     "slide_type": "subslide"
    }
   },
   "source": [
    "#### MATLAB Solution\n",
    "From a previous analysis ({ref}`ex:14.2`) the transfer function is:\n",
    "\n",
    "$$G(s) = \\frac{V_\\mathrm{out}}{V_\\mathrm{in}} = \\frac{-1}{R_1\\left[(1/R_1 + 1/R_2 + 1/R_3 + sC_1)(sR_3C_2) + 1/R_2\\right]}$$"
   ]
  },
  {
   "cell_type": "markdown",
   "id": "817fc9b7",
   "metadata": {
    "slideshow": {
     "slide_type": "subslide"
    }
   },
   "source": [
    "so substituting the component values we get:\n",
    "\n",
    "$$G(s) = \\frac{V_{\\mathrm{out}}}{V_{\\mathrm{in}}} = \\frac{-1}{s^2 + 3s + 1}$$"
   ]
  },
  {
   "cell_type": "markdown",
   "id": "cc65697e",
   "metadata": {
    "slideshow": {
     "slide_type": "subslide"
    }
   },
   "source": [
    "We can find the step response by letting $v_{\\mathrm{in}}(t) = u_0(t)$ so that\n",
    "$V_{\\mathrm{in}}(s)=1/s$ then \n",
    "\n",
    "$$V_{\\mathrm{out}}(s) = \\frac{-1}{s^2 + 3s + 1}.\\frac{1}{s}$$"
   ]
  },
  {
   "cell_type": "markdown",
   "id": "6d239eb9",
   "metadata": {
    "slideshow": {
     "slide_type": "subslide"
    }
   },
   "source": [
    "We can solve this by partial fraction expansion and inverse Laplace transform\n",
    "as is done in the text book with the help of MATLAB's `residue` function.\n",
    "\n",
    "Here, however we'll use the LTI block."
   ]
  },
  {
   "cell_type": "markdown",
   "id": "5191751b",
   "metadata": {
    "slideshow": {
     "slide_type": "subslide"
    }
   },
   "source": [
    "Define the circuit as a transfer function"
   ]
  },
  {
   "cell_type": "code",
   "execution_count": 39,
   "id": "ba0d4f71",
   "metadata": {
    "slideshow": {
     "slide_type": "fragment"
    }
   },
   "outputs": [
    {
     "name": "stdout",
     "output_type": "stream",
     "text": [
      "\n",
      "G =\n"
     ]
    },
    {
     "name": "stdout",
     "output_type": "stream",
     "text": [
      " \n"
     ]
    },
    {
     "name": "stdout",
     "output_type": "stream",
     "text": [
      "       -1\n"
     ]
    },
    {
     "name": "stdout",
     "output_type": "stream",
     "text": [
      "  -------------\n"
     ]
    },
    {
     "name": "stdout",
     "output_type": "stream",
     "text": [
      "  s^2 + 3 s + 1\n"
     ]
    },
    {
     "name": "stdout",
     "output_type": "stream",
     "text": [
      " \n"
     ]
    },
    {
     "name": "stdout",
     "output_type": "stream",
     "text": [
      "Continuous-time transfer function.\n",
      "\n"
     ]
    }
   ],
   "source": [
    "G = tf([-1],[1 3 1])"
   ]
  },
  {
   "cell_type": "markdown",
   "id": "b747b180",
   "metadata": {
    "slideshow": {
     "slide_type": "subslide"
    }
   },
   "source": [
    "step response is then:"
   ]
  },
  {
   "cell_type": "code",
   "execution_count": 40,
   "id": "bd585780",
   "metadata": {
    "slideshow": {
     "slide_type": "fragment"
    }
   },
   "outputs": [
    {
     "data": {
      "image/png": "[encoded data removed]",
      "text/plain": [
       "<IPython.core.display.Image object>"
      ]
     },
     "metadata": {
      "filenames": {
       "image/png": "/Users/eechris/code/src/github.com/cpjobling/eg-150-textbook/_build/jupyter_execute/laplace_transform/8/casas_110_0.png"
      }
     },
     "output_type": "display_data"
    }
   ],
   "source": [
    "step(G)"
   ]
  },
  {
   "cell_type": "markdown",
   "id": "cf043749",
   "metadata": {
    "slideshow": {
     "slide_type": "subslide"
    }
   },
   "source": [
    "#### Simulink model\n",
    "\n",
    "See [example_8.slx](https://cpjobling.github.io/eg-150-textbook/laplace_transform/matlab/example_8.slx)"
   ]
  },
  {
   "cell_type": "code",
   "execution_count": 41,
   "id": "d5bf96d3",
   "metadata": {
    "slideshow": {
     "slide_type": "fragment"
    }
   },
   "outputs": [],
   "source": [
    "open example_8"
   ]
  },
  {
   "cell_type": "markdown",
   "id": "b6f01578",
   "metadata": {
    "slideshow": {
     "slide_type": "notes"
    }
   },
   "source": [
    "![Simulink model](pictures/ex8_sim.png)"
   ]
  },
  {
   "cell_type": "markdown",
   "id": "4df9c101",
   "metadata": {
    "slideshow": {
     "slide_type": "notes"
    }
   },
   "source": [
    "Result\n",
    "\n",
    "![Simulation result](pictures/ex8_sim_result.png)"
   ]
  },
  {
   "cell_type": "markdown",
   "id": "1cf2dc4b",
   "metadata": {
    "slideshow": {
     "slide_type": "subslide"
    }
   },
   "source": [
    "Let's go a bit further by finding the frequency response:"
   ]
  },
  {
   "cell_type": "code",
   "execution_count": 42,
   "id": "24bc5f32",
   "metadata": {
    "slideshow": {
     "slide_type": "subslide"
    }
   },
   "outputs": [
    {
     "data": {
      "image/png": "[encoded data removed]",
      "text/plain": [
       "<IPython.core.display.Image object>"
      ]
     },
     "metadata": {
      "filenames": {
       "image/png": "/Users/eechris/code/src/github.com/cpjobling/eg-150-textbook/_build/jupyter_execute/laplace_transform/8/casas_116_0.png"
      }
     },
     "output_type": "display_data"
    }
   ],
   "source": [
    "bode(G)"
   ]
  },
  {
   "cell_type": "markdown",
   "id": "2cc06669",
   "metadata": {
    "slideshow": {
     "slide_type": "notes"
    }
   },
   "source": [
    "**TODO** Add additional examples from EG-152"
   ]
  },
  {
   "cell_type": "markdown",
   "id": "188f3ef2",
   "metadata": {},
   "source": [
    "## Lab 5"
   ]
  },
  {
   "cell_type": "markdown",
   "id": "aa354784",
   "metadata": {},
   "source": [
    "## Summary\n",
    "\n",
    "### Takeaways"
   ]
  },
  {
   "cell_type": "markdown",
   "id": "e9017258",
   "metadata": {},
   "source": [
    "## Next time\n",
    "\n",
    "We will complete this course with an introduction to Frequency response analysis of periodic signals via the Fourier series.\n",
    "\n",
    "* {ref}`unit5`\n",
    "\n",
    "## References\n",
    "\n",
    "```{bibliography}\n",
    ":filter: docname in docnames\n",
    "```"
   ]
  },
  {
   "cell_type": "markdown",
   "id": "129291b4",
   "metadata": {},
   "source": [
    "## Matlab Solutions\n",
    "\n",
    "For convenience, single script MATLAB solutions to the examples are provided and can be downloaded from the accompanying [MATLAB](https://github.com/cpjobling/eg-150-textbook/tree/master/laplace_transform/matlab) folder.\n",
    "\n",
    "* {ref}`ex:15.1` [[example_14.2.mlx](https://cpjobling.github.io/eg-150-textbook/laplace_transform/matlab/example_14.2.mlx)]"
   ]
  }
 ],
 "metadata": {
  "jupytext": {
   "formats": "ipynb,md:myst",
   "text_representation": {
    "extension": ".md",
    "format_name": "myst",
    "format_version": 0.13,
    "jupytext_version": "1.14.4"
   }
  },
  "kernelspec": {
   "display_name": "Matlab",
   "language": "matlab",
   "name": "matlab"
  },
  "language_info": {
   "codemirror_mode": "octave",
   "file_extension": ".m",
   "help_links": [
    {
     "text": "MetaKernel Magics",
     "url": "https://metakernel.readthedocs.io/en/latest/source/README.html"
    }
   ],
   "mimetype": "text/x-octave",
   "name": "matlab",
   "version": "0.17.1"
  },
  "source_map": [
   15,
   20,
   26,
   37,
   49,
   56,
   62,
   66,
   75,
   79,
   88,
   95,
   103,
   107,
   115,
   119,
   127,
   131,
   139,
   143,
   151,
   159,
   163,
   167,
   171,
   180,
   184,
   188,
   196,
   202,
   206,
   210,
   214,
   222,
   226,
   234,
   238,
   246,
   250,
   258,
   262,
   266,
   270,
   278,
   286,
   294,
   298,
   308,
   312,
   320,
   324,
   332,
   336,
   344,
   350,
   358,
   362,
   370,
   374,
   380,
   392,
   396,
   406,
   410,
   418,
   424,
   432,
   438,
   442,
   456,
   460,
   470,
   478,
   488,
   492,
   500,
   504,
   512,
   516,
   524,
   528,
   536,
   540,
   548,
   552,
   560,
   571,
   585,
   595,
   607,
   615,
   630,
   634,
   643,
   653,
   657,
   661,
   666,
   670,
   678,
   686,
   690,
   695,
   708,
   715,
   721,
   728,
   735,
   739,
   747,
   751,
   759,
   765,
   773,
   777,
   783,
   787,
   795,
   799,
   803,
   809,
   823
  ]
 },
 "nbformat": 4,
 "nbformat_minor": 5
}