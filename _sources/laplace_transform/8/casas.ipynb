{
 "cells": [
  {
   "cell_type": "markdown",
   "id": "81b47897",
   "metadata": {
    "slideshow": {
     "slide_type": "slide"
    }
   },
   "source": [
    "(unit4.8)=\n",
    "# Unit 4.8: Computer-Aided Systems Analysis and Simulation"
   ]
  },
  {
   "cell_type": "code",
   "execution_count": null,
   "id": "67930ac8",
   "metadata": {},
   "outputs": [],
   "source": []
  }
 ],
 "metadata": {
  "jupytext": {
   "formats": "ipynb,md:myst",
   "text_representation": {
    "extension": ".md",
    "format_name": "myst",
    "format_version": 0.13,
    "jupytext_version": "1.14.4"
   }
  },
  "kernelspec": {
   "display_name": "Matlab",
   "language": "matlab",
   "name": "matlab"
  },
  "language_info": {
   "codemirror_mode": "octave",
   "file_extension": ".m",
   "help_links": [
    {
     "text": "MetaKernel Magics",
     "url": "https://metakernel.readthedocs.io/en/latest/source/README.html"
    }
   ],
   "mimetype": "text/x-octave",
   "name": "matlab",
   "version": "0.17.1"
  },
  "source_map": [
   15,
   20
  ]
 },
 "nbformat": 4,
 "nbformat_minor": 5
}