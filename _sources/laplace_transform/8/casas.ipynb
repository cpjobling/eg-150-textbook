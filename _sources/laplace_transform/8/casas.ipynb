{
 "cells": [
  {
   "cell_type": "markdown",
   "id": "bb81e1f2",
   "metadata": {
    "slideshow": {
     "slide_type": "slide"
    }
   },
   "source": [
    "(unit4.8)=\n",
    "# Unit 4.8: Computer-Aided Systems Analysis and Simulation"
   ]
  },
  {
   "cell_type": "markdown",
   "id": "c4fc372c",
   "metadata": {
    "slideshow": {
     "slide_type": "subslide"
    }
   },
   "source": [
    "Follow along at [cpjobling.github.io/eg-150-textbook/laplace_transform/8/casas](https://cpjobling.github.io/eg-150-textbook/laplace_transform/8/casas)\n",
    "\n",
    "![QR Code for this lecture](pictures/qrcode_lap8.png)"
   ]
  },
  {
   "cell_type": "markdown",
   "id": "1c1f854f",
   "metadata": {
    "slideshow": {
     "slide_type": "notes"
    }
   },
   "source": [
    "## Agenda\n",
    "\n",
    "We conclude our introduction to the applications of the Laplace transform by demonstrating the facilties provided by the *Control Systems Toolbox* and the simulation tool *Simulink*. We will repeat {ref}`ex:14.2` using these tools and we will conclude by exploring some of the problems you have studied in **EG-152 Analogue Design** hopefully confirming some of the results you have obbserved in that lab.\n",
    "\n",
    "* {ref}`circ_tf`\n",
    "* {ref}`matlab_tf`\n",
    "* {ref}`simulink_tf`\n",
    "* {ref}`examples15`"
   ]
  },
  {
   "cell_type": "code",
   "execution_count": 1,
   "id": "e72063e6",
   "metadata": {
    "slideshow": {
     "slide_type": "subslide"
    }
   },
   "outputs": [
    {
     "name": "stdout",
     "output_type": "stream",
     "text": [
      "\n",
      "ans =\n",
      "\n",
      "    '/Users/eechris/code/src/github.com/cpjobling/eg-150-textbook/laplace_transform/matlab'\n",
      "\n"
     ]
    }
   ],
   "source": [
    "% Initialize MATLAB\n",
    "clearvars\n",
    "cd ../matlab \n",
    "pwd\n",
    "format compact"
   ]
  },
  {
   "cell_type": "markdown",
   "id": "8d05400a",
   "metadata": {
    "slideshow": {
     "slide_type": "slide"
    }
   },
   "source": [
    "(matlab_tf)=\n",
    "## Defining Transfer Functions in MATLAB\n",
    "\n",
    "There are two forms of polynomial representation in MATLAB. The most obvious is the **expanded polynomial** form where the numerator and denominator of a transfer function would be entered as two row vectors with the polynomial coefficients entered in the order of **descending** powers of $s$."
   ]
  },
  {
   "cell_type": "markdown",
   "id": "5fd9e53c",
   "metadata": {
    "slideshow": {
     "slide_type": "subslide"
    }
   },
   "source": [
    "For example, if:\n",
    "\n",
    "$$G(s) = \\frac{b(s)}{a(s)} = \\frac{s^2 +2s+3}{s^3 +4s^2 +5s+6}$$ (eq:8.1)"
   ]
  },
  {
   "cell_type": "markdown",
   "id": "b1e4c6d0",
   "metadata": {
    "slideshow": {
     "slide_type": "fragment"
    }
   },
   "source": [
    "The numerator and denominator polynomials from Eq. {eq}`eq:8.1` are entered in MATLAB as"
   ]
  },
  {
   "cell_type": "code",
   "execution_count": 2,
   "id": "0ac71400",
   "metadata": {
    "slideshow": {
     "slide_type": "fragment"
    }
   },
   "outputs": [],
   "source": [
    "b = [1, 2, 3];    % s^2 + 2s + 3\n",
    "a = [1, 4, 5, 6]; % s^3 + 4s^2 + 5s + 6"
   ]
  },
  {
   "cell_type": "markdown",
   "id": "f3e189fd",
   "metadata": {
    "slideshow": {
     "slide_type": "subslide"
    }
   },
   "source": [
    "Missing coefficients must be entered as zero: so $q(s) = s^2 + 2s$ and $r(s) = s^4 + s^2 + 1$ are entered as"
   ]
  },
  {
   "cell_type": "code",
   "execution_count": 3,
   "id": "66696161",
   "metadata": {
    "slideshow": {
     "slide_type": "fragment"
    }
   },
   "outputs": [],
   "source": [
    "q = [1, 2, 0];\n",
    "r = [1, 0, 2, 0, 1];"
   ]
  },
  {
   "cell_type": "markdown",
   "id": "67b3477d",
   "metadata": {
    "slideshow": {
     "slide_type": "subslide"
    }
   },
   "source": [
    "### Defining polynomials symbolically\n",
    "\n",
    "We have already seen that we can use the symbolic math toolbox to define polynomials \n",
    "symbolically."
   ]
  },
  {
   "cell_type": "code",
   "execution_count": 4,
   "id": "ffd66a4a",
   "metadata": {
    "slideshow": {
     "slide_type": "fragment"
    }
   },
   "outputs": [],
   "source": [
    "syms s"
   ]
  },
  {
   "cell_type": "markdown",
   "id": "f0adf56e",
   "metadata": {
    "slideshow": {
     "slide_type": "fragment"
    }
   },
   "source": [
    "Define a rational polynomial"
   ]
  },
  {
   "cell_type": "code",
   "execution_count": 5,
   "id": "4574c51d",
   "metadata": {
    "slideshow": {
     "slide_type": "fragment"
    }
   },
   "outputs": [
    {
     "name": "stdout",
     "output_type": "stream",
     "text": [
      "G(s) =\n"
     ]
    },
    {
     "name": "stdout",
     "output_type": "stream",
     "text": [
      "(s^2 + 2*s + 3)/(s^3 + 4*s^2 + 5*s + 6)\n"
     ]
    }
   ],
   "source": [
    "G(s) = (s^2 + 2*s + 3)/(s^3 + 4*s^2 + 5*s + 6)"
   ]
  },
  {
   "cell_type": "markdown",
   "id": "9a9afac3",
   "metadata": {
    "slideshow": {
     "slide_type": "subslide"
    }
   },
   "source": [
    "Extract numerator and denominator polynomials"
   ]
  },
  {
   "cell_type": "code",
   "execution_count": 6,
   "id": "875cf72c",
   "metadata": {
    "slideshow": {
     "slide_type": "fragment"
    }
   },
   "outputs": [
    {
     "name": "stdout",
     "output_type": "stream",
     "text": [
      "Num =\n"
     ]
    },
    {
     "name": "stdout",
     "output_type": "stream",
     "text": [
      "s^2 + 2*s + 3\n"
     ]
    },
    {
     "name": "stdout",
     "output_type": "stream",
     "text": [
      "Den =\n"
     ]
    },
    {
     "name": "stdout",
     "output_type": "stream",
     "text": [
      "s^3 + 4*s^2 + 5*s + 6\n"
     ]
    }
   ],
   "source": [
    "[Num,Den] = numden(G(s))"
   ]
  },
  {
   "cell_type": "markdown",
   "id": "819d839e",
   "metadata": {
    "slideshow": {
     "slide_type": "subslide"
    }
   },
   "source": [
    "Providing that the  the coefficients are numeric, we can convert back and forth between symbolic polynomials and numeric polynomials using the functions `sym2poly` and `poly2sym`:"
   ]
  },
  {
   "cell_type": "code",
   "execution_count": 7,
   "id": "33592e60",
   "metadata": {
    "slideshow": {
     "slide_type": "fragment"
    }
   },
   "outputs": [
    {
     "name": "stdout",
     "output_type": "stream",
     "text": [
      "nNum =\n",
      "     1     2     3\n"
     ]
    },
    {
     "name": "stdout",
     "output_type": "stream",
     "text": [
      "nDen =\n",
      "     1     4     5     6\n"
     ]
    }
   ],
   "source": [
    "nNum = sym2poly(Num), nDen = sym2poly(Den)"
   ]
  },
  {
   "cell_type": "markdown",
   "id": "b10ee85a",
   "metadata": {
    "slideshow": {
     "slide_type": "subslide"
    }
   },
   "source": [
    "Convert from numerical polynomial to symbolic. Second argument is polynomial variable. The default is x."
   ]
  },
  {
   "cell_type": "code",
   "execution_count": 8,
   "id": "3e159ef5",
   "metadata": {
    "slideshow": {
     "slide_type": "fragment"
    }
   },
   "outputs": [
    {
     "name": "stdout",
     "output_type": "stream",
     "text": [
      "ans =\n"
     ]
    },
    {
     "name": "stdout",
     "output_type": "stream",
     "text": [
      "s^2 + 2*s + 3\n"
     ]
    }
   ],
   "source": [
    "poly2sym(nNum,s)"
   ]
  },
  {
   "cell_type": "markdown",
   "id": "ac4040a8",
   "metadata": {
    "slideshow": {
     "slide_type": "subslide"
    }
   },
   "source": [
    "### Polynomials - Factorised form\n",
    "\n",
    "If you know the *poles* and *zeros* of a transfer function you can represent it in a factorized form.\n",
    "\n",
    "$$G(s) = \\frac{(s+1)(s+3)}{s(s+2)(s+4)}$$ (eq:8.2)"
   ]
  },
  {
   "cell_type": "markdown",
   "id": "45156edb",
   "metadata": {
    "slideshow": {
     "slide_type": "subslide"
    }
   },
   "source": [
    "The advantage of this formulation is that the zeros of the numerator and denominator polynomials are obvious by inspection. So it is often used in the preliminary analysis of the performance of a dynamic system."
   ]
  },
  {
   "cell_type": "markdown",
   "id": "2eeb6b81",
   "metadata": {
    "slideshow": {
     "slide_type": "fragment"
    }
   },
   "source": [
    "The poles of the transfer function Eq. {eq}`eq:8.2` are $s = 0,\\,-1\\,-4$ and the zeros are $s = -1,\\,-3$"
   ]
  },
  {
   "cell_type": "markdown",
   "id": "50c5d15d",
   "metadata": {
    "slideshow": {
     "slide_type": "subslide"
    }
   },
   "source": [
    "In MATLAB, this form of transfer function is specified by a column vector of the zeros and a column vector of the poles:"
   ]
  },
  {
   "cell_type": "code",
   "execution_count": 9,
   "id": "fb4e00d2",
   "metadata": {
    "slideshow": {
     "slide_type": "fragment"
    }
   },
   "outputs": [],
   "source": [
    "z = [-1; -3];\n",
    "p = [0; -2; -4];"
   ]
  },
  {
   "cell_type": "markdown",
   "id": "75990343",
   "metadata": {
    "slideshow": {
     "slide_type": "fragment"
    }
   },
   "source": [
    "A third parameter, the overall gain , completes the definition of the so called *pole-zero-gain* form of transfer function."
   ]
  },
  {
   "cell_type": "markdown",
   "id": "97d0aa6e",
   "metadata": {
    "slideshow": {
     "slide_type": "fragment"
    }
   },
   "source": [
    "In this case"
   ]
  },
  {
   "cell_type": "code",
   "execution_count": 10,
   "id": "737b0c24",
   "metadata": {
    "slideshow": {
     "slide_type": "fragment"
    }
   },
   "outputs": [],
   "source": [
    "K = 1;"
   ]
  },
  {
   "cell_type": "markdown",
   "id": "3c2f5828",
   "metadata": {
    "slideshow": {
     "slide_type": "subslide"
    }
   },
   "source": [
    "### The Linear Time Invariant (LTI) System Object\n",
    "\n",
    "A few years ago, the Mathworks introduced a new data object for the creation and manipulation of system transfer functions."
   ]
  },
  {
   "cell_type": "markdown",
   "id": "95f4db7b",
   "metadata": {
    "slideshow": {
     "slide_type": "fragment"
    }
   },
   "source": [
    "This object is called the *Linear Time Invariant (LTI) System Object*."
   ]
  },
  {
   "cell_type": "markdown",
   "id": "adec79e4",
   "metadata": {
    "slideshow": {
     "slide_type": "fragment"
    }
   },
   "source": [
    "It is used to gather the components of a transfer function into a single variable which can then easily be combined with other LTI system objects and passed to system analysis functions."
   ]
  },
  {
   "cell_type": "markdown",
   "id": "34aa50a1",
   "metadata": {
    "slideshow": {
     "slide_type": "subslide"
    }
   },
   "source": [
    "To create a LTI system object representing the factored transfer function from Eq. {eq}`eq:8.2` the following command is issued:"
   ]
  },
  {
   "cell_type": "code",
   "execution_count": 11,
   "id": "36c825a4",
   "metadata": {
    "slideshow": {
     "slide_type": "fragment"
    }
   },
   "outputs": [
    {
     "name": "stdout",
     "output_type": "stream",
     "text": [
      "\n",
      "G =\n"
     ]
    },
    {
     "name": "stdout",
     "output_type": "stream",
     "text": [
      " \n"
     ]
    },
    {
     "name": "stdout",
     "output_type": "stream",
     "text": [
      "   (s+1) (s+3)\n"
     ]
    },
    {
     "name": "stdout",
     "output_type": "stream",
     "text": [
      "  -------------\n"
     ]
    },
    {
     "name": "stdout",
     "output_type": "stream",
     "text": [
      "  s (s+2) (s+4)\n"
     ]
    },
    {
     "name": "stdout",
     "output_type": "stream",
     "text": [
      " \n"
     ]
    },
    {
     "name": "stdout",
     "output_type": "stream",
     "text": [
      "Continuous-time zero/pole/gain model.\n"
     ]
    }
   ],
   "source": [
    "G = zpk(z,p,K)"
   ]
  },
  {
   "cell_type": "markdown",
   "id": "eaac8695",
   "metadata": {
    "slideshow": {
     "slide_type": "subslide"
    }
   },
   "source": [
    "The expanded numerator and denominator form of the transfer function is readily obtained by using the *data extraction function* `tfdata`:"
   ]
  },
  {
   "cell_type": "code",
   "execution_count": 12,
   "id": "d89ba474",
   "metadata": {
    "slideshow": {
     "slide_type": "fragment"
    }
   },
   "outputs": [
    {
     "name": "stdout",
     "output_type": "stream",
     "text": [
      "num =\n",
      "     0     1     4     3\n"
     ]
    },
    {
     "name": "stdout",
     "output_type": "stream",
     "text": [
      "den =\n",
      "     1     6     8     0\n"
     ]
    }
   ],
   "source": [
    "[num,den]=tfdata(G,'v')"
   ]
  },
  {
   "cell_type": "markdown",
   "id": "54427f02",
   "metadata": {
    "slideshow": {
     "slide_type": "fragment"
    }
   },
   "source": [
    "LTI system objects can also be created from the expanded form of a transfer function directly:"
   ]
  },
  {
   "cell_type": "code",
   "execution_count": 13,
   "id": "c6096334",
   "metadata": {
    "slideshow": {
     "slide_type": "fragment"
    }
   },
   "outputs": [
    {
     "name": "stdout",
     "output_type": "stream",
     "text": [
      "\n",
      "G2 =\n"
     ]
    },
    {
     "name": "stdout",
     "output_type": "stream",
     "text": [
      " \n"
     ]
    },
    {
     "name": "stdout",
     "output_type": "stream",
     "text": [
      "    s^2 + 4 s + 3\n"
     ]
    },
    {
     "name": "stdout",
     "output_type": "stream",
     "text": [
      "  -----------------\n"
     ]
    },
    {
     "name": "stdout",
     "output_type": "stream",
     "text": [
      "  s^3 + 6 s^2 + 8 s\n"
     ]
    },
    {
     "name": "stdout",
     "output_type": "stream",
     "text": [
      " \n"
     ]
    },
    {
     "name": "stdout",
     "output_type": "stream",
     "text": [
      "Continuous-time transfer function.\n"
     ]
    }
   ],
   "source": [
    "G2=tf(num,den)"
   ]
  },
  {
   "cell_type": "code",
   "execution_count": 14,
   "id": "46259a5a",
   "metadata": {
    "slideshow": {
     "slide_type": "subslide"
    }
   },
   "outputs": [
    {
     "name": "stdout",
     "output_type": "stream",
     "text": [
      "\n",
      "G2 =\n"
     ]
    },
    {
     "name": "stdout",
     "output_type": "stream",
     "text": [
      " \n"
     ]
    },
    {
     "name": "stdout",
     "output_type": "stream",
     "text": [
      "    s^2 + 4 s + 3\n"
     ]
    },
    {
     "name": "stdout",
     "output_type": "stream",
     "text": [
      "  -----------------\n"
     ]
    },
    {
     "name": "stdout",
     "output_type": "stream",
     "text": [
      "  s^3 + 6 s^2 + 8 s\n"
     ]
    },
    {
     "name": "stdout",
     "output_type": "stream",
     "text": [
      " \n"
     ]
    },
    {
     "name": "stdout",
     "output_type": "stream",
     "text": [
      "Continuous-time transfer function.\n"
     ]
    }
   ],
   "source": [
    "G2 = tf(G)"
   ]
  },
  {
   "cell_type": "markdown",
   "id": "3422e318",
   "metadata": {
    "slideshow": {
     "slide_type": "subslide"
    }
   },
   "source": [
    "and the zeros and poles similarly extracted:"
   ]
  },
  {
   "cell_type": "code",
   "execution_count": 15,
   "id": "d36a1eff",
   "metadata": {
    "slideshow": {
     "slide_type": "fragment"
    }
   },
   "outputs": [
    {
     "name": "stdout",
     "output_type": "stream",
     "text": [
      "zeros =\n",
      "    -3\n",
      "    -1\n"
     ]
    },
    {
     "name": "stdout",
     "output_type": "stream",
     "text": [
      "poles =\n",
      "     0\n",
      "    -4\n",
      "    -2\n",
      "gain =\n",
      "     1\n"
     ]
    }
   ],
   "source": [
    "[zeros,poles,gain]=zpkdata(G2,'v')"
   ]
  },
  {
   "cell_type": "markdown",
   "id": "67732495",
   "metadata": {
    "slideshow": {
     "slide_type": "subslide"
    }
   },
   "source": [
    "LTI system objects can also be created from the expanded form of a transfer function directly:"
   ]
  },
  {
   "cell_type": "code",
   "execution_count": 16,
   "id": "52e7332e",
   "metadata": {},
   "outputs": [
    {
     "name": "stdout",
     "output_type": "stream",
     "text": [
      "\n",
      "G2 =\n"
     ]
    },
    {
     "name": "stdout",
     "output_type": "stream",
     "text": [
      " \n"
     ]
    },
    {
     "name": "stdout",
     "output_type": "stream",
     "text": [
      "    s^2 + 4 s + 3\n"
     ]
    },
    {
     "name": "stdout",
     "output_type": "stream",
     "text": [
      "  -----------------\n"
     ]
    },
    {
     "name": "stdout",
     "output_type": "stream",
     "text": [
      "  s^3 + 6 s^2 + 8 s\n"
     ]
    },
    {
     "name": "stdout",
     "output_type": "stream",
     "text": [
      " \n"
     ]
    },
    {
     "name": "stdout",
     "output_type": "stream",
     "text": [
      "Continuous-time transfer function.\n"
     ]
    }
   ],
   "source": [
    "G2=tf(num,den)"
   ]
  },
  {
   "cell_type": "markdown",
   "id": "833e6778",
   "metadata": {
    "slideshow": {
     "slide_type": "fragment"
    }
   },
   "source": [
    "and the zeros and poles similarly extracted:"
   ]
  },
  {
   "cell_type": "code",
   "execution_count": 17,
   "id": "fe764b4e",
   "metadata": {
    "slideshow": {
     "slide_type": "fragment"
    }
   },
   "outputs": [
    {
     "name": "stdout",
     "output_type": "stream",
     "text": [
      "zeros =\n",
      "    -3\n",
      "    -1\n"
     ]
    },
    {
     "name": "stdout",
     "output_type": "stream",
     "text": [
      "poles =\n",
      "     0\n",
      "    -4\n",
      "    -2\n"
     ]
    },
    {
     "name": "stdout",
     "output_type": "stream",
     "text": [
      "gain =\n",
      "     1\n"
     ]
    }
   ],
   "source": [
    "[zeros,poles,gain]=zpkdata(G2,'v')"
   ]
  },
  {
   "cell_type": "markdown",
   "id": "eca7bb47",
   "metadata": {
    "slideshow": {
     "slide_type": "subslide"
    }
   },
   "source": [
    "(lti:props)=\n",
    "### Setting LTI Properties\n",
    "\n",
    "Numerous options are available to document the LTI system objects that you create. \n",
    "\n",
    "For example, suppose the transfer function `G` represents a servomechanism (discussed next year) with input `'Voltage'` and output `'Angular Position'` We can add this information to the LTI system as follows:"
   ]
  },
  {
   "cell_type": "code",
   "execution_count": 18,
   "id": "f0189586",
   "metadata": {
    "slideshow": {
     "slide_type": "fragment"
    }
   },
   "outputs": [],
   "source": [
    "set(G,'InputName','Voltage','OutputName','Angular Position')"
   ]
  },
  {
   "cell_type": "markdown",
   "id": "00a1f995",
   "metadata": {
    "slideshow": {
     "slide_type": "subslide"
    }
   },
   "source": [
    "Such documentary information is probably best added when the LTI system object is created, for example as:"
   ]
  },
  {
   "cell_type": "code",
   "execution_count": 19,
   "id": "7fd94e7b",
   "metadata": {
    "slideshow": {
     "slide_type": "fragment"
    }
   },
   "outputs": [
    {
     "name": "stdout",
     "output_type": "stream",
     "text": [
      "\n",
      "G3 =\n"
     ]
    },
    {
     "name": "stdout",
     "output_type": "stream",
     "text": [
      " \n"
     ]
    },
    {
     "name": "stdout",
     "output_type": "stream",
     "text": [
      "  From input \"Armature Voltage (V)\" to output \"Load Shaft Position (rad)\":\n"
     ]
    },
    {
     "name": "stdout",
     "output_type": "stream",
     "text": [
      "   (s+1) (s+3)\n"
     ]
    },
    {
     "name": "stdout",
     "output_type": "stream",
     "text": [
      "  -------------\n"
     ]
    },
    {
     "name": "stdout",
     "output_type": "stream",
     "text": [
      "  s (s+2) (s+4)\n"
     ]
    },
    {
     "name": "stdout",
     "output_type": "stream",
     "text": [
      " \n"
     ]
    },
    {
     "name": "stdout",
     "output_type": "stream",
     "text": [
      "Continuous-time zero/pole/gain model.\n"
     ]
    }
   ],
   "source": [
    "G3=zpk(z,p,K,'InputName','Armature Voltage (V)',...\n",
    "    'OutputName','Load Shaft Position (rad)',...\n",
    "    'notes','An armature voltage controlled servomechanism')"
   ]
  },
  {
   "cell_type": "markdown",
   "id": "10ab4538",
   "metadata": {
    "slideshow": {
     "slide_type": "subslide"
    }
   },
   "source": [
    "Once the LTI object has been documented, the documentation can be extracted using commands like:"
   ]
  },
  {
   "cell_type": "code",
   "execution_count": 20,
   "id": "9d62793e",
   "metadata": {
    "slideshow": {
     "slide_type": "fragment"
    }
   },
   "outputs": [
    {
     "name": "stdout",
     "output_type": "stream",
     "text": [
      "ans =\n",
      "  1x1 cell array\n",
      "    {'An armature voltage controlled servomechanism'}\n"
     ]
    }
   ],
   "source": [
    "get(G3,'notes')"
   ]
  },
  {
   "cell_type": "markdown",
   "id": "294a7732",
   "metadata": {
    "slideshow": {
     "slide_type": "subslide"
    }
   },
   "source": [
    "One can also access the documentation using an *object reference* notation"
   ]
  },
  {
   "cell_type": "code",
   "execution_count": 21,
   "id": "a6c4fe29",
   "metadata": {
    "slideshow": {
     "slide_type": "fragment"
    }
   },
   "outputs": [
    {
     "name": "stdout",
     "output_type": "stream",
     "text": [
      "in =\n",
      "  1x1 cell array\n",
      "    {'Armature Voltage (V)'}\n"
     ]
    },
    {
     "name": "stdout",
     "output_type": "stream",
     "text": [
      "out =\n",
      "  1x1 cell array\n",
      "    {'Load Shaft Position (rad)'}\n"
     ]
    }
   ],
   "source": [
    "in=G3.InputName, out=G3.OutputName"
   ]
  },
  {
   "cell_type": "markdown",
   "id": "0f3b1326",
   "metadata": {
    "slideshow": {
     "slide_type": "subslide"
    }
   },
   "source": [
    "All the documentation available on an LTI system object may be extracted with a single command:"
   ]
  },
  {
   "cell_type": "code",
   "execution_count": 22,
   "id": "1b6d0c60",
   "metadata": {
    "slideshow": {
     "slide_type": "fragment"
    }
   },
   "outputs": [
    {
     "name": "stdout",
     "output_type": "stream",
     "text": [
      "                Z: {[2x1 double]}\n",
      "                P: {[3x1 double]}\n",
      "                K: 1\n",
      "    DisplayFormat: 'roots'\n",
      "         Variable: 's'\n",
      "          IODelay: 0\n",
      "       InputDelay: 0\n",
      "      OutputDelay: 0\n",
      "        InputName: {'Armature Voltage (V)'}\n",
      "        InputUnit: {''}\n",
      "       InputGroup: [1x1 struct]\n",
      "       OutputName: {'Load Shaft Position (rad)'}\n",
      "       OutputUnit: {''}\n",
      "      OutputGroup: [1x1 struct]\n",
      "            Notes: {'An armature voltage controlled servomechanism'}\n",
      "         UserData: []\n",
      "             Name: ''\n",
      "               Ts: 0\n",
      "         TimeUnit: 'seconds'\n",
      "     SamplingGrid: [1x1 struct]\n"
     ]
    }
   ],
   "source": [
    "get(G3)"
   ]
  },
  {
   "cell_type": "markdown",
   "id": "9618524d",
   "metadata": {
    "slideshow": {
     "slide_type": "subslide"
    }
   },
   "source": [
    "### System Transformations\n",
    "\n",
    "MATLAB supports the easy transformation of LTI system objects between expanded and factored forms. For example to convert a transfer function from expanded form to pole-zero-gain form the following command is used:"
   ]
  },
  {
   "cell_type": "code",
   "execution_count": 23,
   "id": "b26f5d2b",
   "metadata": {
    "slideshow": {
     "slide_type": "fragment"
    }
   },
   "outputs": [
    {
     "name": "stdout",
     "output_type": "stream",
     "text": [
      "\n",
      "G4 =\n"
     ]
    },
    {
     "name": "stdout",
     "output_type": "stream",
     "text": [
      " \n"
     ]
    },
    {
     "name": "stdout",
     "output_type": "stream",
     "text": [
      "   (s+3) (s+1)\n"
     ]
    },
    {
     "name": "stdout",
     "output_type": "stream",
     "text": [
      "  -------------\n"
     ]
    },
    {
     "name": "stdout",
     "output_type": "stream",
     "text": [
      "  s (s+4) (s+2)\n"
     ]
    },
    {
     "name": "stdout",
     "output_type": "stream",
     "text": [
      " \n"
     ]
    },
    {
     "name": "stdout",
     "output_type": "stream",
     "text": [
      "Continuous-time zero/pole/gain model.\n"
     ]
    }
   ],
   "source": [
    "G4 = zpk(G2)"
   ]
  },
  {
   "cell_type": "markdown",
   "id": "0dd26c36",
   "metadata": {
    "slideshow": {
     "slide_type": "subslide"
    }
   },
   "source": [
    "To convert from zero-pole-gain form to expanded form we use the function `tf`"
   ]
  },
  {
   "cell_type": "code",
   "execution_count": 24,
   "id": "359950d5",
   "metadata": {
    "slideshow": {
     "slide_type": "fragment"
    }
   },
   "outputs": [
    {
     "name": "stdout",
     "output_type": "stream",
     "text": [
      "\n",
      "G5 =\n"
     ]
    },
    {
     "name": "stdout",
     "output_type": "stream",
     "text": [
      " \n"
     ]
    },
    {
     "name": "stdout",
     "output_type": "stream",
     "text": [
      "  From input \"Voltage\" to output \"Angular Position\":\n"
     ]
    },
    {
     "name": "stdout",
     "output_type": "stream",
     "text": [
      "    s^2 + 4 s + 3\n"
     ]
    },
    {
     "name": "stdout",
     "output_type": "stream",
     "text": [
      "  -----------------\n"
     ]
    },
    {
     "name": "stdout",
     "output_type": "stream",
     "text": [
      "  s^3 + 6 s^2 + 8 s\n",
      " \n"
     ]
    },
    {
     "name": "stdout",
     "output_type": "stream",
     "text": [
      "Continuous-time transfer function.\n"
     ]
    }
   ],
   "source": [
    "G5 = tf(G)"
   ]
  },
  {
   "cell_type": "markdown",
   "id": "74b37334",
   "metadata": {
    "slideshow": {
     "slide_type": "notes"
    }
   },
   "source": [
    "Please note that these transformations are merely a convenience that allow you to work with your preferred form of representation. Most of the tools that deal with LTI system objects will work with any form. Furthermore, you can always use the data extraction functions `zpdata` and `tfdata` to extract the zero-pole-gain and numerator-denominator parameters from a LTI system, no matter in which form it was originally defined, without the need for an explicit conversion."
   ]
  },
  {
   "cell_type": "markdown",
   "id": "0e6ee5ab",
   "metadata": {
    "slideshow": {
     "slide_type": "subslide"
    }
   },
   "source": [
    "### Combining LTI System Objects\n",
    "\n",
    "A powerful feature of the LTI system object representation is the ease with which LTI objects can be combined."
   ]
  },
  {
   "cell_type": "markdown",
   "id": "2db8017a",
   "metadata": {
    "slideshow": {
     "slide_type": "subslide"
    }
   },
   "source": [
    "#### Systems in series\n",
    "\n",
    "For example, suppose we have two systems with transfer functions\n",
    "\n",
    "$$G_1(s) = \\frac{s + 1}{s+3}$$\n",
    "\n",
    "and\n",
    "\n",
    "$$G_2(s) = \\frac{10}{s(s+2)}$$"
   ]
  },
  {
   "cell_type": "markdown",
   "id": "70a039f0",
   "metadata": {
    "slideshow": {
     "slide_type": "subslide"
    }
   },
   "source": [
    "Then the series combination of the two transfer functions ($G_1(s)G_2(s)$) is obtained using the `*` (multiplication) operator:"
   ]
  },
  {
   "cell_type": "code",
   "execution_count": 25,
   "id": "2e2c87a4",
   "metadata": {
    "slideshow": {
     "slide_type": "fragment"
    }
   },
   "outputs": [
    {
     "name": "stdout",
     "output_type": "stream",
     "text": [
      "\n",
      "Gs =\n"
     ]
    },
    {
     "name": "stdout",
     "output_type": "stream",
     "text": [
      " \n"
     ]
    },
    {
     "name": "stdout",
     "output_type": "stream",
     "text": [
      "      10 s + 10\n"
     ]
    },
    {
     "name": "stdout",
     "output_type": "stream",
     "text": [
      "  -----------------\n"
     ]
    },
    {
     "name": "stdout",
     "output_type": "stream",
     "text": [
      "  s^3 + 5 s^2 + 6 s\n"
     ]
    },
    {
     "name": "stdout",
     "output_type": "stream",
     "text": [
      " \n"
     ]
    },
    {
     "name": "stdout",
     "output_type": "stream",
     "text": [
      "Continuous-time transfer function.\n"
     ]
    }
   ],
   "source": [
    "G1=tf([1 1],[1 3]);\n",
    "G2=tf(10,conv([1 0],[1 2])); % conv is polynomial multiplication\n",
    "Gs=G1*G2 % series connection of two LTI objects"
   ]
  },
  {
   "cell_type": "markdown",
   "id": "9eea50c6",
   "metadata": {
    "slideshow": {
     "slide_type": "subslide"
    }
   },
   "source": [
    "We can extract the poles and zeros of the combined systems using the `zpdata` function"
   ]
  },
  {
   "cell_type": "code",
   "execution_count": 26,
   "id": "b9dfd887",
   "metadata": {
    "slideshow": {
     "slide_type": "fragment"
    }
   },
   "outputs": [
    {
     "name": "stdout",
     "output_type": "stream",
     "text": [
      "zeros =\n",
      "    -1\n"
     ]
    },
    {
     "name": "stdout",
     "output_type": "stream",
     "text": [
      "poles =\n",
      "         0\n",
      "   -3.0000\n",
      "   -2.0000\n"
     ]
    },
    {
     "name": "stdout",
     "output_type": "stream",
     "text": [
      "K =\n",
      "    10\n"
     ]
    }
   ],
   "source": [
    "[zeros,poles,K]=zpkdata(Gs,'v')"
   ]
  },
  {
   "cell_type": "markdown",
   "id": "2443e87f",
   "metadata": {
    "slideshow": {
     "slide_type": "subslide"
    }
   },
   "source": [
    "#### Systems in parallel\n",
    "\n",
    "The parallel connection of two LTI system objects corresponds to addition"
   ]
  },
  {
   "cell_type": "code",
   "execution_count": 27,
   "id": "32d781c8",
   "metadata": {
    "slideshow": {
     "slide_type": "fragment"
    }
   },
   "outputs": [
    {
     "name": "stdout",
     "output_type": "stream",
     "text": [
      "\n",
      "Gp =\n"
     ]
    },
    {
     "name": "stdout",
     "output_type": "stream",
     "text": [
      " \n"
     ]
    },
    {
     "name": "stdout",
     "output_type": "stream",
     "text": [
      "  s^3 + 3 s^2 + 12 s + 30\n"
     ]
    },
    {
     "name": "stdout",
     "output_type": "stream",
     "text": [
      "  -----------------------\n"
     ]
    },
    {
     "name": "stdout",
     "output_type": "stream",
     "text": [
      "     s^3 + 5 s^2 + 6 s\n"
     ]
    },
    {
     "name": "stdout",
     "output_type": "stream",
     "text": [
      " \n"
     ]
    },
    {
     "name": "stdout",
     "output_type": "stream",
     "text": [
      "Continuous-time transfer function.\n"
     ]
    }
   ],
   "source": [
    "Gp = G1 + G2"
   ]
  },
  {
   "cell_type": "markdown",
   "id": "91fc87f9",
   "metadata": {
    "slideshow": {
     "slide_type": "subslide"
    }
   },
   "source": [
    "#### Systems with feedback\n",
    "\n",
    "The feedback connection of two LTI system objects is also supported."
   ]
  },
  {
   "cell_type": "markdown",
   "id": "9fbbfb62",
   "metadata": {
    "slideshow": {
     "slide_type": "fragment"
    }
   },
   "source": [
    "The function `feedback` is used for this."
   ]
  },
  {
   "cell_type": "markdown",
   "id": "2fe5817d",
   "metadata": {
    "slideshow": {
     "slide_type": "subslide"
    }
   },
   "source": [
    "Let\n",
    "\n",
    "$$G(s) = \\frac{2s^2 + 5s + 1}{s^2 + 2s + 3}$$\n",
    "\n",
    "be the forward transfer function of a system with feedback and\n",
    "\n",
    "$$H(s) = \\frac{5(s + 2)}{(s+10)}$$\n",
    "\n",
    "be the feedback network. Then the closed-loop transfer function (assuming negative feedback) is\n",
    "\n",
    "$$G_c(s) = \\frac{G(s)}{1 + G(s)H(s)}$$"
   ]
  },
  {
   "cell_type": "markdown",
   "id": "b9572940",
   "metadata": {
    "slideshow": {
     "slide_type": "subslide"
    }
   },
   "source": [
    "In MATLAB:"
   ]
  },
  {
   "cell_type": "code",
   "execution_count": 28,
   "id": "c39ea423",
   "metadata": {
    "slideshow": {
     "slide_type": "fragment"
    }
   },
   "outputs": [],
   "source": [
    "G = tf([2 5 1],[1 2 3],'inputname','torque',...\n",
    "    'outputname','velocity');\n",
    "H = zpk(-2,-10,5);"
   ]
  },
  {
   "cell_type": "code",
   "execution_count": 29,
   "id": "b994bad5",
   "metadata": {
    "slideshow": {
     "slide_type": "fragment"
    }
   },
   "outputs": [
    {
     "name": "stdout",
     "output_type": "stream",
     "text": [
      "\n",
      "Gc =\n"
     ]
    },
    {
     "name": "stdout",
     "output_type": "stream",
     "text": [
      " \n"
     ]
    },
    {
     "name": "stdout",
     "output_type": "stream",
     "text": [
      "  From input \"torque\" to output \"velocity\":\n"
     ]
    },
    {
     "name": "stdout",
     "output_type": "stream",
     "text": [
      "  0.18182 (s+0.2192) (s+2.281) (s+10)\n"
     ]
    },
    {
     "name": "stdout",
     "output_type": "stream",
     "text": [
      "  -----------------------------------\n"
     ]
    },
    {
     "name": "stdout",
     "output_type": "stream",
     "text": [
      "   (s+3.419) (s^2 + 1.763s + 1.064)\n"
     ]
    },
    {
     "name": "stdout",
     "output_type": "stream",
     "text": [
      " \n"
     ]
    },
    {
     "name": "stdout",
     "output_type": "stream",
     "text": [
      "Continuous-time zero/pole/gain model.\n"
     ]
    }
   ],
   "source": [
    "Gc = feedback(G,H) % negative feedback assumed"
   ]
  },
  {
   "cell_type": "markdown",
   "id": "6c9cfde3",
   "metadata": {
    "slideshow": {
     "slide_type": "subslide"
    }
   },
   "source": [
    "### The Analysis of LTI System Objects\n",
    "\n",
    "MATLAB uses the LTI system objects as parameters for the analysis tools such as `impulse`, `step`, `nyquist`, `bode` and `rlocus`. \n",
    "\n",
    "Some of these are immediately useful for signals and systems use. You will encounter the others in **EG-243 Control Systems**.\n",
    "\n",
    "As an example of their use try each of following:"
   ]
  },
  {
   "cell_type": "markdown",
   "id": "ef0387c0",
   "metadata": {
    "slideshow": {
     "slide_type": "subslide"
    }
   },
   "source": [
    "#### Root locus"
   ]
  },
  {
   "cell_type": "code",
   "execution_count": 30,
   "id": "98b4ad81",
   "metadata": {
    "slideshow": {
     "slide_type": "fragment"
    }
   },
   "outputs": [
    {
     "data": {
      "image/png": "[encoded data removed]",
      "text/plain": [
       "<IPython.core.display.Image object>"
      ]
     },
     "metadata": {
      "filenames": {
       "image/png": "/Users/eechris/code/src/github.com/cpjobling/eg-150-textbook/_build/jupyter_execute/laplace_transform/8/casas_75_0.png"
      }
     },
     "output_type": "display_data"
    }
   ],
   "source": [
    "rlocus(G*H),sgrid"
   ]
  },
  {
   "cell_type": "markdown",
   "id": "8433a19c",
   "metadata": {
    "slideshow": {
     "slide_type": "subslide"
    }
   },
   "source": [
    "#### Open-loop frequency response"
   ]
  },
  {
   "cell_type": "code",
   "execution_count": 31,
   "id": "15347fc2",
   "metadata": {
    "slideshow": {
     "slide_type": "fragment"
    }
   },
   "outputs": [
    {
     "data": {
      "image/png": "[encoded data removed]",
      "text/plain": [
       "<IPython.core.display.Image object>"
      ]
     },
     "metadata": {
      "filenames": {
       "image/png": "/Users/eechris/code/src/github.com/cpjobling/eg-150-textbook/_build/jupyter_execute/laplace_transform/8/casas_77_0.png"
      }
     },
     "output_type": "display_data"
    }
   ],
   "source": [
    "bode(G*H),grid"
   ]
  },
  {
   "cell_type": "markdown",
   "id": "66ada4cc",
   "metadata": {
    "slideshow": {
     "slide_type": "subslide"
    }
   },
   "source": [
    "#### Closed-loop step response"
   ]
  },
  {
   "cell_type": "code",
   "execution_count": 32,
   "id": "a25517f2",
   "metadata": {
    "slideshow": {
     "slide_type": "fragment"
    }
   },
   "outputs": [
    {
     "data": {
      "image/png": "[encoded data removed]",
      "text/plain": [
       "<IPython.core.display.Image object>"
      ]
     },
     "metadata": {
      "filenames": {
       "image/png": "/Users/eechris/code/src/github.com/cpjobling/eg-150-textbook/_build/jupyter_execute/laplace_transform/8/casas_79_0.png"
      }
     },
     "output_type": "display_data"
    }
   ],
   "source": [
    "step(Gc),grid"
   ]
  },
  {
   "cell_type": "markdown",
   "id": "7f856606",
   "metadata": {
    "slideshow": {
     "slide_type": "subslide"
    }
   },
   "source": [
    "#### Closed-loop frequency response"
   ]
  },
  {
   "cell_type": "code",
   "execution_count": 33,
   "id": "09ad695e",
   "metadata": {
    "slideshow": {
     "slide_type": "fragment"
    }
   },
   "outputs": [
    {
     "data": {
      "image/png": "[encoded data removed]",
      "text/plain": [
       "<IPython.core.display.Image object>"
      ]
     },
     "metadata": {
      "filenames": {
       "image/png": "/Users/eechris/code/src/github.com/cpjobling/eg-150-textbook/_build/jupyter_execute/laplace_transform/8/casas_81_0.png"
      }
     },
     "output_type": "display_data"
    }
   ],
   "source": [
    "bode(Gc),grid"
   ]
  },
  {
   "cell_type": "markdown",
   "id": "c6a5642a",
   "metadata": {
    "slideshow": {
     "slide_type": "subslide"
    }
   },
   "source": [
    "#### Closed-loop impulse response"
   ]
  },
  {
   "cell_type": "code",
   "execution_count": 34,
   "id": "b561dcfa",
   "metadata": {
    "slideshow": {
     "slide_type": "fragment"
    }
   },
   "outputs": [
    {
     "data": {
      "image/png": "[encoded data removed]",
      "text/plain": [
       "<IPython.core.display.Image object>"
      ]
     },
     "metadata": {
      "filenames": {
       "image/png": "/Users/eechris/code/src/github.com/cpjobling/eg-150-textbook/_build/jupyter_execute/laplace_transform/8/casas_83_0.png"
      }
     },
     "output_type": "display_data"
    }
   ],
   "source": [
    "impulse(Gc),grid"
   ]
  },
  {
   "cell_type": "markdown",
   "id": "9f9fdd35",
   "metadata": {
    "slideshow": {
     "slide_type": "subslide"
    }
   },
   "source": [
    "#### Nyquist diagram"
   ]
  },
  {
   "cell_type": "code",
   "execution_count": 35,
   "id": "42a3bdab",
   "metadata": {
    "slideshow": {
     "slide_type": "fragment"
    }
   },
   "outputs": [
    {
     "data": {
      "image/png": "[encoded data removed]",
      "text/plain": [
       "<IPython.core.display.Image object>"
      ]
     },
     "metadata": {
      "filenames": {
       "image/png": "/Users/eechris/code/src/github.com/cpjobling/eg-150-textbook/_build/jupyter_execute/laplace_transform/8/casas_85_0.png"
      }
     },
     "output_type": "display_data"
    }
   ],
   "source": [
    "nyquist(G*H),grid"
   ]
  },
  {
   "cell_type": "markdown",
   "id": "3d295d8e",
   "metadata": {
    "slideshow": {
     "slide_type": "notes"
    }
   },
   "source": [
    "MATLAB also provides two interactive graphical tools that work with LTI system objects\n",
    "\n",
    "* `ltiview` is a graphical tool that can be used to analyze systems defined by LTI objects. It provides easy access to LTI objects and time and frequency response analysis tools. \n",
    "* `rltool` is an interactive tool for designing controllers using the root locus method.\n",
    "\n",
    "Control engineers will find `sisotool` useful.\n",
    "\n",
    "You are encouraged to experiment with these tools."
   ]
  },
  {
   "cell_type": "markdown",
   "id": "3f909ccf",
   "metadata": {
    "slideshow": {
     "slide_type": "subslide"
    }
   },
   "source": [
    "### Partial Fraction Expansions\n",
    "\n",
    "MATLAB provides a command called `residue` that returns the partial fraction expansion of a transfer function. That is, given\n",
    "\n",
    "$$G(s)= \\frac{s^m +b_{m-1}s^{m-1} + \\cdots + b_1s+b_0}{s^n +a_{n-1}s^{n-1} + \\cdots a_1s+a_0}$$\n",
    "\n",
    "it returns\n",
    "\n",
    "$$\\frac{r_1}{s + p_1} + \\frac{r_2}{s + p_2} + \\cdots + \\frac{R_n}{s + p_n} + K(s)$$\n",
    "\n",
    "where $p_k$ are the poles of the transfer function, $r_k$ are the coefficients of the partial fraction terms (called the **residues of the poles**) and $K(s)$ is a remainder polynomial which empty unless the rational polynomial is *non-proper*."
   ]
  },
  {
   "cell_type": "markdown",
   "id": "efb62469",
   "metadata": {
    "slideshow": {
     "slide_type": "subslide"
    }
   },
   "source": [
    "To use this, the starting point must be the expanded form of the transfer function in numerical polynomial form.\n",
    "\n",
    "Thus given\n",
    "\n",
    "$$C(s) = \\frac{5(s + 2)}{s(s+3)(s+10)}$$\n",
    "\n",
    "we obtain the partial fraction expansion using the MATLAB command sequence:"
   ]
  },
  {
   "cell_type": "code",
   "execution_count": 36,
   "id": "5970d965",
   "metadata": {
    "slideshow": {
     "slide_type": "fragment"
    }
   },
   "outputs": [
    {
     "name": "stdout",
     "output_type": "stream",
     "text": [
      "num =\n",
      "     0     0     5    10\n"
     ]
    },
    {
     "name": "stdout",
     "output_type": "stream",
     "text": [
      "den =\n",
      "     1    13    30     0\n"
     ]
    }
   ],
   "source": [
    "k = 5; z = [-2]; p = [0; -3; -10]; % zero-pole-gain form\n",
    "C = zpk(z,p,k);\n",
    "[num,den] = tfdata(C,'v')\n",
    "%\n",
    "% (Note that the leading terms in num are zero)."
   ]
  },
  {
   "cell_type": "code",
   "execution_count": 37,
   "id": "d956add5",
   "metadata": {
    "slideshow": {
     "slide_type": "subslide"
    }
   },
   "outputs": [
    {
     "name": "stdout",
     "output_type": "stream",
     "text": [
      "r =\n",
      "   -0.5714\n",
      "    0.2381\n",
      "    0.3333\n"
     ]
    },
    {
     "name": "stdout",
     "output_type": "stream",
     "text": [
      "p =\n",
      "   -10\n",
      "    -3\n",
      "     0\n"
     ]
    },
    {
     "name": "stdout",
     "output_type": "stream",
     "text": [
      "k =\n",
      "     []\n"
     ]
    }
   ],
   "source": [
    "[r,p,k] = residue(num,den)"
   ]
  },
  {
   "cell_type": "markdown",
   "id": "534079ca",
   "metadata": {
    "slideshow": {
     "slide_type": "subslide"
    }
   },
   "source": [
    "which we interpret to mean\n",
    "\n",
    "$$C(s) = \\frac{0.3333}{s} + \\frac{0.2381}{s + 3} - \\frac{0.5714}{s + 5}.$$\n",
    "\n",
    "If $C(s)$ represents the step response of the system\n",
    "\n",
    "$$G(s) = \\frac{5(s + 2)}{(s + 3)(s + 10)}$$\n",
    "\n",
    "then the step response is, by inverse Laplace Transform:\n",
    "\n",
    "$$y(t) = \\left( {0.3333 + 0.2381{e^{ - 3t}} - 0.5714{e^{ - 10t}}}\n",
    "\\right){u_0}(t).$$"
   ]
  },
  {
   "cell_type": "markdown",
   "id": "89607c17",
   "metadata": {
    "slideshow": {
     "slide_type": "subslide"
    }
   },
   "source": [
    "You can check this with the commands:"
   ]
  },
  {
   "cell_type": "code",
   "execution_count": 38,
   "id": "39fde89e",
   "metadata": {
    "slideshow": {
     "slide_type": "fragment"
    }
   },
   "outputs": [
    {
     "name": "stdout",
     "output_type": "stream",
     "text": [
      "\n",
      "newC =\n"
     ]
    },
    {
     "name": "stdout",
     "output_type": "stream",
     "text": [
      " \n"
     ]
    },
    {
     "name": "stdout",
     "output_type": "stream",
     "text": [
      "     5 s + 10\n"
     ]
    },
    {
     "name": "stdout",
     "output_type": "stream",
     "text": [
      "  ---------------\n"
     ]
    },
    {
     "name": "stdout",
     "output_type": "stream",
     "text": [
      "  s^2 + 13 s + 30\n"
     ]
    },
    {
     "name": "stdout",
     "output_type": "stream",
     "text": [
      " \n"
     ]
    },
    {
     "name": "stdout",
     "output_type": "stream",
     "text": [
      "Continuous-time transfer function.\n"
     ]
    },
    {
     "data": {
      "image/png": "[encoded data removed]",
      "text/plain": [
       "<IPython.core.display.Image object>"
      ]
     },
     "metadata": {
      "filenames": {
       "image/png": "/Users/eechris/code/src/github.com/cpjobling/eg-150-textbook/_build/jupyter_execute/laplace_transform/8/casas_93_7.png"
      }
     },
     "output_type": "display_data"
    }
   ],
   "source": [
    "newC = tf([5, 10],[1, 13, 30])\n",
    "step(newC),grid % provides $u_0(t)$"
   ]
  },
  {
   "cell_type": "code",
   "execution_count": 39,
   "id": "50ba5815",
   "metadata": {
    "slideshow": {
     "slide_type": "subslide"
    }
   },
   "outputs": [
    {
     "data": {
      "image/png": "[encoded data removed]",
      "text/plain": [
       "<IPython.core.display.Image object>"
      ]
     },
     "metadata": {
      "filenames": {
       "image/png": "/Users/eechris/code/src/github.com/cpjobling/eg-150-textbook/_build/jupyter_execute/laplace_transform/8/casas_94_0.png"
      }
     },
     "output_type": "display_data"
    }
   ],
   "source": [
    "t = 0:.05:1.5; % time vector\n",
    "c = 0.3333 + 0.2381 * exp(-3*t) - 0.5714 * exp(-10*t);\n",
    "plot(t,c),grid"
   ]
  },
  {
   "cell_type": "markdown",
   "id": "9a71131c",
   "metadata": {
    "slideshow": {
     "slide_type": "notes"
    }
   },
   "source": [
    "Completing the problem using the Symbolic toolbox is left as an exercise for the reader."
   ]
  },
  {
   "cell_type": "markdown",
   "id": "f2a7ef74",
   "metadata": {
    "slideshow": {
     "slide_type": "notes"
    }
   },
   "source": [
    "There are numerous other documentation features provided for LTI system objects. Please consult the [on-line help](https://uk.mathworks.com/help/control/getstart/linear-lti-models.html) for full details."
   ]
  },
  {
   "cell_type": "markdown",
   "id": "2693702a",
   "metadata": {
    "slideshow": {
     "slide_type": "slide"
    }
   },
   "source": [
    "(simulink_tf)=\n",
    "## Using Transfer Functions in Simulink for System Simulation"
   ]
  },
  {
   "cell_type": "markdown",
   "id": "5b4b9c32",
   "metadata": {
    "slideshow": {
     "slide_type": "fragment"
    }
   },
   "source": [
    "The Simulink transfer function (**`Transfer Fcn`**) block (see {numref}`fig:sim_tf`) implements a transfer function"
   ]
  },
  {
   "cell_type": "markdown",
   "id": "7ef446eb",
   "metadata": {
    "slideshow": {
     "slide_type": "fragment"
    }
   },
   "source": [
    ":::{figure-md} fig:sim_tf\n",
    "<img src=\"pictures/sim_tf.png\" alt=\"The LTI Block in Simulink\">\n",
    "\n",
    "The LTI Block in Simulink\n",
    ":::"
   ]
  },
  {
   "cell_type": "markdown",
   "id": "f2d7872c",
   "metadata": {
    "slideshow": {
     "slide_type": "subslide"
    }
   },
   "source": [
    "The transfer function block represents a general input output function\n",
    "\n",
    "$$G(s) = \\frac{N(s)}{D(s)}$$\n",
    "\n",
    "and is not specific nor restricted to circuit analysis."
   ]
  },
  {
   "cell_type": "markdown",
   "id": "884ae4e1",
   "metadata": {
    "slideshow": {
     "slide_type": "fragment"
    }
   },
   "source": [
    "It can, however be used in modelling and simulation studies."
   ]
  },
  {
   "cell_type": "markdown",
   "id": "74b684da",
   "metadata": {
    "slideshow": {
     "slide_type": "slide"
    }
   },
   "source": [
    "(examples15)=\n",
    "## Examples 15"
   ]
  },
  {
   "cell_type": "markdown",
   "id": "28d45b4f",
   "metadata": {
    "slideshow": {
     "slide_type": "slide"
    }
   },
   "source": [
    "(ex:15.1)=\n",
    "### Example 15.1 \n",
    "\n",
    "`````{admonition} MATLAB Example\n",
    ":class: tip\n",
    "We will solve this examples by hand and then review the solution in MATLAB lab 5.\n",
    "`````\n",
    "\n",
    "Recast {ref}`ex:14.2` as a MATLAB problem using the LTI Transfer Function block. \n",
    "\n",
    "For simplicity use parameters $R_1 = R_2 = R_3 = 1\\; \\Omega$, and $C_1 = C_2 = 1$ F.\n",
    "\n",
    "Calculate the step response using the LTI functions and \n",
    "\n",
    "Verify the result with Simulink."
   ]
  },
  {
   "cell_type": "markdown",
   "id": "6027ef43",
   "metadata": {
    "slideshow": {
     "slide_type": "subslide"
    }
   },
   "source": [
    "#### MATLAB Solution\n",
    "From a previous analysis ({ref}`ex:14.2`) the transfer function is:\n",
    "\n",
    "$$G(s) = \\frac{V_\\mathrm{out}}{V_\\mathrm{in}} = \\frac{-1}{R_1\\left[(1/R_1 + 1/R_2 + 1/R_3 + sC_1)(sR_3C_2) + 1/R_2\\right]}$$"
   ]
  },
  {
   "cell_type": "markdown",
   "id": "8001d202",
   "metadata": {
    "slideshow": {
     "slide_type": "subslide"
    }
   },
   "source": [
    "so substituting the component values we get:\n",
    "\n",
    "$$G(s) = \\frac{V_{\\mathrm{out}}}{V_{\\mathrm{in}}} = \\frac{-1}{s^2 + 3s + 1}$$"
   ]
  },
  {
   "cell_type": "markdown",
   "id": "5dc84317",
   "metadata": {
    "slideshow": {
     "slide_type": "subslide"
    }
   },
   "source": [
    "We can find the step response by letting $v_{\\mathrm{in}}(t) = u_0(t)$ so that\n",
    "$V_{\\mathrm{in}}(s)=1/s$ then \n",
    "\n",
    "$$V_{\\mathrm{out}}(s) = \\frac{-1}{s^2 + 3s + 1}.\\frac{1}{s}$$"
   ]
  },
  {
   "cell_type": "markdown",
   "id": "97fd8db9",
   "metadata": {
    "slideshow": {
     "slide_type": "subslide"
    }
   },
   "source": [
    "We can solve this by partial fraction expansion and inverse Laplace transform\n",
    "as is done in the text book with the help of MATLAB's `residue` function.\n",
    "\n",
    "Here, however we'll use the LTI block."
   ]
  },
  {
   "cell_type": "markdown",
   "id": "682447e3",
   "metadata": {
    "slideshow": {
     "slide_type": "subslide"
    }
   },
   "source": [
    "Define the circuit as a transfer function"
   ]
  },
  {
   "cell_type": "code",
   "execution_count": 40,
   "id": "b6a913d4",
   "metadata": {
    "slideshow": {
     "slide_type": "fragment"
    }
   },
   "outputs": [
    {
     "name": "stdout",
     "output_type": "stream",
     "text": [
      "\n",
      "G =\n"
     ]
    },
    {
     "name": "stdout",
     "output_type": "stream",
     "text": [
      " \n"
     ]
    },
    {
     "name": "stdout",
     "output_type": "stream",
     "text": [
      "       -1\n"
     ]
    },
    {
     "name": "stdout",
     "output_type": "stream",
     "text": [
      "  -------------\n"
     ]
    },
    {
     "name": "stdout",
     "output_type": "stream",
     "text": [
      "  s^2 + 3 s + 1\n"
     ]
    },
    {
     "name": "stdout",
     "output_type": "stream",
     "text": [
      " \n"
     ]
    },
    {
     "name": "stdout",
     "output_type": "stream",
     "text": [
      "Continuous-time transfer function.\n"
     ]
    }
   ],
   "source": [
    "G = tf([-1],[1 3 1])"
   ]
  },
  {
   "cell_type": "markdown",
   "id": "1678cb98",
   "metadata": {
    "slideshow": {
     "slide_type": "subslide"
    }
   },
   "source": [
    "step response is then:"
   ]
  },
  {
   "cell_type": "code",
   "execution_count": 41,
   "id": "fb431350",
   "metadata": {
    "slideshow": {
     "slide_type": "fragment"
    }
   },
   "outputs": [
    {
     "data": {
      "image/png": "[encoded data removed]",
      "text/plain": [
       "<IPython.core.display.Image object>"
      ]
     },
     "metadata": {
      "filenames": {
       "image/png": "/Users/eechris/code/src/github.com/cpjobling/eg-150-textbook/_build/jupyter_execute/laplace_transform/8/casas_111_0.png"
      }
     },
     "output_type": "display_data"
    }
   ],
   "source": [
    "step(G),grid"
   ]
  },
  {
   "cell_type": "markdown",
   "id": "9952ea40",
   "metadata": {
    "slideshow": {
     "slide_type": "subslide"
    }
   },
   "source": [
    "#### Live Script Solution\n",
    "\n",
    "A standalone script version of this solution is available as [example15_1.mlx](hhttps://github.com/cpjobling/eg-150-textbook/raw/main/laplace_transform/matlab/solution15_1.mlx)\n",
    "\n",
    "#### Simulink model\n",
    "\n",
    "See [example_15_1.slx](https://github.com/cpjobling/eg-150-textbook/raw/main/laplace_transform/matlab/example_15_1.slx)"
   ]
  },
  {
   "cell_type": "code",
   "execution_count": 42,
   "id": "42174b02",
   "metadata": {
    "slideshow": {
     "slide_type": "fragment"
    }
   },
   "outputs": [],
   "source": [
    "open example_15_1"
   ]
  },
  {
   "cell_type": "markdown",
   "id": "f7aa31e6",
   "metadata": {
    "slideshow": {
     "slide_type": "notes"
    }
   },
   "source": [
    "![Simulink model](pictures/ex8_sim.png)"
   ]
  },
  {
   "cell_type": "markdown",
   "id": "5ef61bd7",
   "metadata": {
    "slideshow": {
     "slide_type": "notes"
    }
   },
   "source": [
    "Result\n",
    "\n",
    "![Simulation result](pictures/ex8_sim_result.png)"
   ]
  },
  {
   "cell_type": "markdown",
   "id": "5c3046ea",
   "metadata": {
    "slideshow": {
     "slide_type": "subslide"
    }
   },
   "source": [
    "Let's go a bit further by finding the frequency response:"
   ]
  },
  {
   "cell_type": "code",
   "execution_count": 43,
   "id": "5617fe47",
   "metadata": {
    "slideshow": {
     "slide_type": "subslide"
    }
   },
   "outputs": [
    {
     "data": {
      "image/png": "[encoded data removed]",
      "text/plain": [
       "<IPython.core.display.Image object>"
      ]
     },
     "metadata": {
      "filenames": {
       "image/png": "/Users/eechris/code/src/github.com/cpjobling/eg-150-textbook/_build/jupyter_execute/laplace_transform/8/casas_117_0.png"
      }
     },
     "output_type": "display_data"
    }
   ],
   "source": [
    "bode(G),grid"
   ]
  },
  {
   "cell_type": "markdown",
   "id": "905fb58c",
   "metadata": {
    "slideshow": {
     "slide_type": "notes"
    }
   },
   "source": [
    "```{note}\n",
    "The following examples have been adapted from *Session 3: RC Networks and the Op-Amp in the Time-Domain*, from **EG-152 Analogue Design** ({cite}`eg152`).\n",
    "```"
   ]
  },
  {
   "cell_type": "markdown",
   "id": "775e90d1",
   "metadata": {
    "slideshow": {
     "slide_type": "subslide"
    }
   },
   "source": [
    "(ex15.2)=\n",
    "### Example 15.2: Periodic Excitation\n",
    "\n",
    "Consider the RC circuit shown in {numref}`fig:ex15.2`(b). The circuit is subjected to the periodic signal $x(t) = v_1(t)$ shown in {numref}`fig:ex15.2`(a).\n",
    "\n",
    ":::{figure-md} fig:ex15.2\n",
    "<img src=\"pictures/eg-152-3.1.png\" alt=\"Circuit for Investigating Recurrent Boundary Conditions.\" width=\"80%\">\n",
    "\n",
    "Circuit for Investigating Recurrent Boundary Conditions (Figure 3.0 of {cite}`eg152`)\n",
    ":::\n",
    "\n",
    "a) Use the Laplace transform to determine the transfer function $H(s)$ and the impulse response $h(t)$ of the RC circuit.\n",
    "\n",
    "b) Determine the step response of the RC circuit.\n",
    "\n",
    "c) Use the results of Example 15.2(a) and (b) and properties of the Laplace transform to determine the response $y(t) = v_2(t)$ to $v_1(t)$. \n",
    "\n",
    "d) Given that $V_L = -5$ V and $V_U = 5$ V, and assuming that the time constant $\\tau = RC = T_A = 2 T_B$,  use MATLAB to plot the response $v_1(t)$ over two cycles of the input signal. Use any suitable values of $RC$ that you feel are appropriate.\n",
    "\n",
    "e) Use the transfer function block and the signal editor provided by Simulink to confirm by simulation the response computed in Example 15.2(d)."
   ]
  },
  {
   "cell_type": "markdown",
   "id": "f2b2c9d9",
   "metadata": {
    "slideshow": {
     "slide_type": "subslide"
    }
   },
   "source": [
    "(15.3)=\n",
    "### Example 15.3: Operational Differentiator\n",
    "\n",
    "In Section 3.3 of {cite}`eg152` it is given that the differential equation of the *operational differentiator* illustrated in {numref}`fig:15.3` is\n",
    "\n",
    "$$v_2(t) = -R i(t) = -RC \\frac{d}{dt}v_1(t)$$\n",
    "\n",
    ":::{figure-md} fig:15.3\n",
    "<img src=\"pictures/eg-152-3.4.png\" alt=\"Schematic of Operational Differentiator.\" width=\"60%\">\n",
    "\n",
    "Schematic of Operational Differentiator (Figure 3.4 of {cite}`eg152`)\n",
    "\n",
    ":::\n",
    "\n",
    "\n",
    "\n",
    "a) Give the transfer function $H(s) = V_2(s)/V_1(s)$ of the operational differentiator.\n",
    "\n",
    "b) Compute the impulse and step response of the operational differentiator.\n",
    "\n",
    "c) Compute and plot the response of the operational differentiator to three cycles of the input of {numref}`fig:ex12.2`(a) when $V_L = -6$ V, $V_U = 3$ V, given that the waveform period $T = 1$ ms, the duty cycle $D = T_A/(T_A + T_B) = 2/5$ and time constant $\\tau = RC = 50$ ms."
   ]
  },
  {
   "cell_type": "markdown",
   "id": "35e133ed",
   "metadata": {
    "slideshow": {
     "slide_type": "subslide"
    }
   },
   "source": [
    "(15.4)=\n",
    "### Example 15.4: Operational Integrator\n",
    "\n",
    "In Section 3.5 of {cite}`eg152` it is given that the differential equation of the *operational inetgrator* illustrated in {numref}`fig:15.4` is\n",
    "\n",
    "$$v_2(t) = -\\frac{1}{RC} \\int_0^t v_1(\\tau)\\, d\\tau.$$\n",
    "\n",
    ":::{figure-md} fig:15.4\n",
    "<img src=\"pictures/eg-152-3.7.png\" alt=\"Schematic of Operational Integrator.\" width=\"60%\">\n",
    "\n",
    "Schematic of Operational Integrator (Figure 3.7 of {cite}`eg152`)\n",
    "\n",
    ":::\n",
    "\n",
    "\n",
    "\n",
    "a) Give the transfer function $H(s) = V_2(s)/V_1(s)$ of the operational interator.\n",
    "\n",
    "b) Compute the impulse and step response of the operational integrator.\n",
    "\n",
    "c) Compute and plot the response of the operational differentiator to three cycles of the input of {numref}`fig:ex12.2`(a) when $V_L = -3$ V, $V_U = 6$ V given that the waveform period $T = 5$ ms, the duty cycle $D = T_A/(T_A + T_B) = 1/3$ and time constant $\\tau = RC = 200$ ms."
   ]
  },
  {
   "cell_type": "markdown",
   "id": "0bba9648",
   "metadata": {
    "slideshow": {
     "slide_type": "notes"
    }
   },
   "source": [
    "## Lab 5\n",
    "\n",
    "In Lab 5 we will have the opportunity to explore some of the features discussed in this class."
   ]
  },
  {
   "cell_type": "markdown",
   "id": "30dfb089",
   "metadata": {
    "slideshow": {
     "slide_type": "notes"
    }
   },
   "source": [
    "## Summary\n",
    "\n",
    "In this section we have explored the various methods that we can use the computer to solve Laplace transform problems for which the system is cast as a transfer function. We have covered the following topics:\n",
    "\n",
    "* {ref}`circ_tf`\n",
    "* {ref}`matlab_tf`\n",
    "* {ref}`simulink_tf`\n",
    "* {ref}`examples15`\n",
    "\n",
    "\n",
    "### Takeaways\n",
    "\n",
    "In MATLAB the rational polynomials that represent the transfer functions of continuous-time LTI systems can be defined numerically or symbolicly (see {ref}`matlab_tf`). There are two forms of numerical representation. The first of these uses the expanded polynomials (called *transfer function*), the second uses the factors (called *zero-pole-gain* form). The Control Systems Toolbox in MATLAB provides an object called the LTI block which supports both forms (and a third form, called *state-space*, not studied here, which is used in filter design and advanced control systems).\n",
    "\n",
    "The MATLAB commands discussed in this section are summarized in the table given below.\n",
    "\n",
    "#### Quick Reference to MATLAB objects and functions\n",
    "\n",
    "| Name | Purpose | Usage | Reference | Notes |\n",
    "|:------|:---------|:-------|:-----------|:-------|\n",
    "| `sym2poly` | Converts a symbolic polynomial to a numerical polynomial | `p = sym2poly(x^2 + 2*x + 4)` | [sym2poly](https://uk.mathworks.com/help/symbolic/sym.sym2poly.html) |Coefficents of the symbolic polynomial must be numbers |\n",
    "| `poly2sym` | Converts a numerical polynomial to a symbolic polynomial | `ps = poly2sym([1,2,4],'s')` | [poly2sym](https://uk.mathworks.com/help/symbolic/sym.poly2sym.html) | - |\n",
    "| `numden` | Extracts numerator and denominator from a rational polynomial expressed in symbolic form |  `[n,d] = numden((s + 1)/(s^2 + 2*s * 3'))` | [numden](https://uk.mathworks.com/help/symbolic/sym.numden.html) | - |\n",
    "| | Numerical LTI object which represents a continuous-time or discrete-time LTI system |  | [Numeric Linear Time Invariant (LTI) Models](https://uk.mathworks.com/help/control/ug/numeric-models.html) | - |\n",
    "| `zpk` | Numerical LTI object representing a transfer function model in zero-pole-gain (factorized) form | `G = zpk(z,p,k)` | [zpk](https://uk.mathworks.com/help/control/ref/zpk.html) | - |\n",
    "| `tf` | Numerical LTI object representing a transfer function model in polynomial form | `G = tf(num,den)` | [tf](https://uk.mathworks.com/help/control/ref/tf.html) | - |\n",
    "| `tfdata` | Data extraction function that returns the numerator and denominator polynomials from an LTI model | `[num,den] = tfdata(H,'v')` | [tfdata](https://uk.mathworks.com/help/ident/ref/dynamicsystem.tfdata.html) | - |\n",
    "| `zpkdata` | Data extraction function that returns the *zeros*, *poles* and *gain* from an LTI model | `[z,p,k]=zpkdata(H,'v')` | [zpkdata](https://uk.mathworks.com/help/ident/ref/dynamicsystem.zpkdata.html) | - |\n",
    "| `set`, `get` | Set and retrieve properties of LTI system objects | See {ref}`lti:props` | [set](https://uk.mathworks.com/help/ident/ref/inputoutputmodel.set.html), [get](https://uk.mathworks.com/help/ident/ref/inputoutputmodel.get.html) | Useful for documenting your work |\n",
    "| `feedback` | Connect two LTI objects in a feedback connention | `GH = feedback(G,H)` | [feedback](https://uk.mathworks.com/help/control/ref/inputoutputmodel.feedback.html) | Default assumes negative feedback so `feedback(G,H)` is equivalent to `feedback(G,H,-1)`. For series connection of LTI systems the multiplication operator can be used `H = H1*H2`. For parallel connection the addition operator can be used `H = H1 + H2`. There are also functions `series` and `parallel` that can be used if preferred.  | \n",
    "| `impulse` | Computes and plots the impulse response of an LTI system | `impulse(H)` | [impulse](https://uk.mathworks.com/help/ident/ref/dynamicsystem.impulse.html) | Works for both continuous-time and discrete-time systems. |\n",
    "| `step` | Computes and plots the step response of an LTI system | `step(G)` | [step](https://uk.mathworks.com/help/ident/ref/dynamicsystem.step.html) | Works for both continuous-time and discrete-time systems. |\n",
    "| `nyquist` | Computes and plots the Nyquist diagram for an LTI system | `nyquist(H)` | [nyquist](https://uk.mathworks.com/help/ident/ref/dynamicsystem.nyquist.html) | Nyquist plots are used in Control systems analysis and design |\n",
    "| `bode` | Computes and plots a Bode diagram for an LTI system | `bode(H)` | [bode](https://uk.mathworks.com/help/ident/ref/dynamicsystem.bode.html) | Bode plots present the frequency response of a system using a combined plot of maginutude (in DB) and phase (in degrees) plotted against log radian frequency. |\n",
    "| `rlocus` | Computes and plots the root locus of an open-loop system | `rlocus(H)` | [rlocus](https://uk.mathworks.com/help/control/ref/dynamicsystem.rlocus.html) | Root locus diagrams shows the movement of the closed-loop poles of a feedback system when some parameter, usually gain, is changed. They are used in control system analysis and design. |\n",
    "| `residue` | Computes the residues of a partial fraction expansion of a numrical rational polynomial | `[r,p,k] = residue(num,den)` | [residue](https://uk.mathworks.com/help/matlab/ref/residue.html) | `r` is the list of residues, `p` is the list of poles, `k` is the remainder which will be the empty matrix unless the polynomial is non proper. When there are repeated roots, the residues are presented in order of the repitition. I.e. for $1/(s + 1)^3$, `r(1)` will be for the factor $1/(s + 1)$, `r(2)` for the factor $1/(s + 1)^2$ and `r(3)` for the factor $1/(s + 1)^3$. |\n",
    "| `factor` | Computes the factors of a symbolic polynomial | `fact(s^2 + 2*s + 4)` | [factor](https://uk.mathworks.com/help/symbolic/factor.html) | This function can also find prime factors or numbers.  |\n",
    "| `expand` | Expands a factorised polynomial | `q = expand((s + 1 + 2*j)*(s + 1 -2 *j)` | [expand](https://uk.mathworks.com/help/symbolic/sym.expand.html) | This function is useful for converting systems that have pairs of complex poles into quadratic factors |\n",
    "|`lsim` | Plots simulated time response of dynamic system to arbitrary inputs | `lsim(H,t,x)` | [lsim](https://uk.mathworks.com/help/control/ref/dynamicsystem.lsim.html?searchHighlight=lsim&s_tid=srchtitle_lsim_1) | `t` is time vector; `x` is the system input $x(t)$ and is an arbitrary function. |"
   ]
  },
  {
   "cell_type": "markdown",
   "id": "b37158c6",
   "metadata": {
    "slideshow": {
     "slide_type": "notes"
    }
   },
   "source": [
    "## Next time\n",
    "\n",
    "We will complete this course with an introduction to Frequency response analysis of periodic signals via the Fourier series.\n",
    "\n",
    "* {ref}`unit5`\n",
    "\n",
    "## References\n",
    "\n",
    "```{bibliography}\n",
    ":filter: docname in docnames\n",
    "```"
   ]
  },
  {
   "cell_type": "markdown",
   "id": "b771228f",
   "metadata": {
    "slideshow": {
     "slide_type": "notes"
    }
   },
   "source": [
    "## Matlab Solutions\n",
    "\n",
    "For convenience, single script MATLAB solutions to the examples are provided and can be downloaded from the accompanying [MATLAB](https://github.com/cpjobling/eg-150-textbook/tree/master/laplace_transform/matlab) folder.\n",
    "\n",
    "* {ref}`ex:15.1` [example15.1.mlx](https://github.com/cpjobling/eg-150-textbook/raw/main/laplace_transform/matlab/solution15_1.mlx)\n",
    "* {ref}`ex:15.2` [example15.2.mlx](https://github.com/cpjobling/eg-150-textbook/raw/main/laplace_transform/matlab/solution15_2.mlx)"
   ]
  }
 ],
 "metadata": {
  "jupytext": {
   "formats": "ipynb,md:myst",
   "text_representation": {
    "extension": ".md",
    "format_name": "myst",
    "format_version": 0.13,
    "jupytext_version": "1.14.4"
   }
  },
  "kernelspec": {
   "display_name": "Matlab",
   "language": "matlab",
   "name": "matlab"
  },
  "language_info": {
   "codemirror_mode": "octave",
   "file_extension": ".m",
   "help_links": [
    {
     "text": "MetaKernel Magics",
     "url": "https://metakernel.readthedocs.io/en/latest/source/README.html"
    }
   ],
   "mimetype": "text/x-octave",
   "name": "matlab",
   "version": "0.17.1"
  },
  "source_map": [
   15,
   20,
   26,
   37,
   49,
   56,
   62,
   66,
   75,
   79,
   88,
   95,
   103,
   107,
   115,
   119,
   127,
   131,
   139,
   143,
   151,
   159,
   163,
   167,
   171,
   180,
   184,
   188,
   196,
   202,
   206,
   210,
   214,
   222,
   226,
   234,
   238,
   246,
   254,
   258,
   266,
   270,
   274,
   278,
   286,
   295,
   303,
   307,
   317,
   321,
   329,
   333,
   341,
   345,
   353,
   359,
   367,
   371,
   379,
   383,
   389,
   401,
   405,
   415,
   419,
   427,
   433,
   441,
   447,
   451,
   465,
   469,
   479,
   487,
   497,
   501,
   509,
   513,
   521,
   525,
   533,
   537,
   545,
   549,
   557,
   561,
   569,
   580,
   594,
   604,
   616,
   624,
   639,
   643,
   652,
   662,
   666,
   670,
   675,
   679,
   687,
   695,
   699,
   704,
   722,
   729,
   735,
   742,
   749,
   753,
   761,
   765,
   773,
   783,
   791,
   795,
   801,
   805,
   813,
   819,
   842,
   866,
   890,
   896,
   938,
   952
  ]
 },
 "nbformat": 4,
 "nbformat_minor": 5
}