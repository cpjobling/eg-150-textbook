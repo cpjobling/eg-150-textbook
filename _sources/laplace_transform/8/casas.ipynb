{
 "cells": [
  {
   "cell_type": "markdown",
   "id": "4976c5f8",
   "metadata": {
    "slideshow": {
     "slide_type": "slide"
    }
   },
   "source": [
    "(unit4.8)=\n",
    "# Unit 4.8: Computer-Aided Systems Analysis and Simulation"
   ]
  },
  {
   "cell_type": "markdown",
   "id": "4208f357",
   "metadata": {
    "slideshow": {
     "slide_type": "subslide"
    }
   },
   "source": [
    "Follow along at [cpjobling.github.io/eg-150-textbook/laplace_transform/8/casas](https://cpjobling.github.io/eg-150-textbook/laplace_transform/8/casas)\n",
    "\n",
    "![QR Code for this lecture](pictures/qrcode_lap8.png)"
   ]
  },
  {
   "cell_type": "markdown",
   "id": "a5526639",
   "metadata": {
    "slideshow": {
     "slide_type": "notes"
    }
   },
   "source": [
    "## Agenda\n",
    "\n",
    "We conclude our introduction to the applications of the Laplace transform by demonstrating the facilties provided by the *Control Systems Toolbox* and the simulation tool *Simulink*. We will repeat {ref}`ex:14.2` using these tools and we will conclude by exploring some of the problems you have studied in **EG-152 Analogue Design** hopefully confirming some of the results you have obbserved in that lab.\n",
    "\n",
    "* {ref}`circ_tf`\n",
    "* {ref}`matlab_tf`\n",
    "* (ref}`simulink_tf`\n",
    "* {ref}`examples15`"
   ]
  },
  {
   "cell_type": "code",
   "execution_count": 1,
   "id": "a2043019",
   "metadata": {
    "slideshow": {
     "slide_type": "subslide"
    }
   },
   "outputs": [
    {
     "name": "stdout",
     "output_type": "stream",
     "text": [
      "\n",
      "ans =\n",
      "\n",
      "    '/Users/eechris/code/src/github.com/cpjobling/eg-150-textbook/laplace_transform/matlab'\n",
      "\n"
     ]
    }
   ],
   "source": [
    "% Initialize MATLAB\n",
    "clearvars\n",
    "cd ../matlab \n",
    "pwd\n",
    "format compact"
   ]
  },
  {
   "cell_type": "markdown",
   "id": "9394503c",
   "metadata": {
    "slideshow": {
     "slide_type": "slide"
    }
   },
   "source": [
    "(matlab_tf)=\n",
    "## Defining Transfer Functions in MATLAB\n",
    "\n",
    "There are two forms of polynomial representation in MATLAB. The most obvious is the **expanded polynomial** form where the numerator and denominator of a transfer function would be entered as two row vectors with the polynomial coefficients entered in the order of **descending** powers of $s$."
   ]
  },
  {
   "cell_type": "markdown",
   "id": "52b68b07",
   "metadata": {
    "slideshow": {
     "slide_type": "subslide"
    }
   },
   "source": [
    "For example, if:\n",
    "\n",
    "$$G(s) = \\frac{a(s)}{b(s)} = \\frac{s^2 +2s+3}{s^3 +4s^2 +5s+6}$$ (eq:8.1)"
   ]
  },
  {
   "cell_type": "markdown",
   "id": "4e62cf4e",
   "metadata": {
    "slideshow": {
     "slide_type": "fragment"
    }
   },
   "source": [
    "The numerator and denominator polynomials from Eq. {eq}`eg:8.1` are entered in MATLAB as"
   ]
  },
  {
   "cell_type": "code",
   "execution_count": 2,
   "id": "8ddb4cd2",
   "metadata": {
    "slideshow": {
     "slide_type": "fragment"
    }
   },
   "outputs": [],
   "source": [
    "b = [1, 2, 3];    % s^2 + 2s + 3\n",
    "a = [1, 4, 5, 6]; % s^3 + 4s^2 + 5s + 6"
   ]
  },
  {
   "cell_type": "markdown",
   "id": "39be2448",
   "metadata": {
    "slideshow": {
     "slide_type": "subslide"
    }
   },
   "source": [
    "Missing coefficients must be entered as zero: so $q(s) = s^2 + 2s$ and $r(s) = s^4 + s^2 + 1$ are entered as"
   ]
  },
  {
   "cell_type": "code",
   "execution_count": 3,
   "id": "01669de9",
   "metadata": {
    "slideshow": {
     "slide_type": "subslide"
    }
   },
   "outputs": [],
   "source": [
    "q = [1, 2, 0];\n",
    "r = [1, 0, 2, 0, 1];"
   ]
  },
  {
   "cell_type": "markdown",
   "id": "98e18870",
   "metadata": {
    "slideshow": {
     "slide_type": "subslide"
    }
   },
   "source": [
    "### Defining polynomials symbolically\n",
    "\n",
    "We have already seen that we can use the symbolic math toolbox to define polynomials \n",
    "symbolically."
   ]
  },
  {
   "cell_type": "code",
   "execution_count": 4,
   "id": "6cc0c3ca",
   "metadata": {
    "slideshow": {
     "slide_type": "fragment"
    }
   },
   "outputs": [],
   "source": [
    "syms s"
   ]
  },
  {
   "cell_type": "markdown",
   "id": "35070d3f",
   "metadata": {
    "slideshow": {
     "slide_type": "fragment"
    }
   },
   "source": [
    "Define a rational polynomial"
   ]
  },
  {
   "cell_type": "code",
   "execution_count": 5,
   "id": "e1857520",
   "metadata": {
    "slideshow": {
     "slide_type": "fragment"
    }
   },
   "outputs": [
    {
     "name": "stdout",
     "output_type": "stream",
     "text": [
      "G(s) =\n"
     ]
    },
    {
     "name": "stdout",
     "output_type": "stream",
     "text": [
      "(s^2 + 2*s + 3)/(s^3 + 4*s^2 + 5*s + 6)\n"
     ]
    }
   ],
   "source": [
    "G(s) = (s^2 + 2*s + 3)/(s^3 + 4*s^2 + 5*s + 6)"
   ]
  },
  {
   "cell_type": "markdown",
   "id": "1054465c",
   "metadata": {
    "slideshow": {
     "slide_type": "subslide"
    }
   },
   "source": [
    "Extract numerator and denominator polynomials"
   ]
  },
  {
   "cell_type": "code",
   "execution_count": 6,
   "id": "80f32901",
   "metadata": {
    "slideshow": {
     "slide_type": "fragment"
    }
   },
   "outputs": [
    {
     "name": "stdout",
     "output_type": "stream",
     "text": [
      "Num =\n"
     ]
    },
    {
     "name": "stdout",
     "output_type": "stream",
     "text": [
      "s^2 + 2*s + 3\n"
     ]
    },
    {
     "name": "stdout",
     "output_type": "stream",
     "text": [
      "Den =\n"
     ]
    },
    {
     "name": "stdout",
     "output_type": "stream",
     "text": [
      "s^3 + 4*s^2 + 5*s + 6\n"
     ]
    }
   ],
   "source": [
    "[Num,Den] = numden(G(s))"
   ]
  },
  {
   "cell_type": "markdown",
   "id": "a49968a0",
   "metadata": {
    "slideshow": {
     "slide_type": "subslide"
    }
   },
   "source": [
    "Providing that the  the coefficients are numeric, we can convert back and forth between symbolic polynomials and numeric polynomials using the functions `sym2poly` and `poly2sym`:"
   ]
  },
  {
   "cell_type": "code",
   "execution_count": 7,
   "id": "ddc98d4c",
   "metadata": {
    "slideshow": {
     "slide_type": "fragment"
    }
   },
   "outputs": [
    {
     "name": "stdout",
     "output_type": "stream",
     "text": [
      "nNum =\n",
      "     1     2     3\n"
     ]
    },
    {
     "name": "stdout",
     "output_type": "stream",
     "text": [
      "nDen =\n",
      "     1     4     5     6\n"
     ]
    }
   ],
   "source": [
    "nNum = sym2poly(Num), nDen = sym2poly(Den)"
   ]
  },
  {
   "cell_type": "markdown",
   "id": "f6db942c",
   "metadata": {
    "slideshow": {
     "slide_type": "subslide"
    }
   },
   "source": [
    "Convert from numerical polynomial to symbolic. Second argument is polynomial variable. The default is x."
   ]
  },
  {
   "cell_type": "code",
   "execution_count": 8,
   "id": "f8a81d89",
   "metadata": {
    "slideshow": {
     "slide_type": "fragment"
    }
   },
   "outputs": [
    {
     "name": "stdout",
     "output_type": "stream",
     "text": [
      "ans =\n"
     ]
    },
    {
     "name": "stdout",
     "output_type": "stream",
     "text": [
      "s^4 + 2*s^2 + 1\n"
     ]
    }
   ],
   "source": [
    "poly2sym(r,s)"
   ]
  },
  {
   "cell_type": "markdown",
   "id": "ba4bda12",
   "metadata": {
    "slideshow": {
     "slide_type": "subslide"
    }
   },
   "source": [
    "### Polynomials - Factorised form\n",
    "\n",
    "If you know the *poles* amd *zeros* of a transfer function you can represent it in a factorized form.\n",
    "\n",
    "$$G(s) = \\frac{(s+1)(s+3)}{s(s+2)(s+4)}$$ (eq:8.2)"
   ]
  },
  {
   "cell_type": "markdown",
   "id": "a48dcc2e",
   "metadata": {
    "slideshow": {
     "slide_type": "fragment"
    }
   },
   "source": [
    "The advantage of this formulation is that the zeros of the numerator and denominator polynomials are obvious by inspection. So it is often used in the preliminary analysis of the performance of a dynamic system."
   ]
  },
  {
   "cell_type": "markdown",
   "id": "e65cbb9a",
   "metadata": {
    "slideshow": {
     "slide_type": "fragment"
    }
   },
   "source": [
    "The poles of the transfer function Eq. {eq}`eq:8.2` are $s = 0,\\,-1\\,-4$ and the zeros are $s = -1,\\,-3$"
   ]
  },
  {
   "cell_type": "markdown",
   "id": "a30502a6",
   "metadata": {
    "slideshow": {
     "slide_type": "subslide"
    }
   },
   "source": [
    "In MATLAB, this form of transfer function is specified by a column vector of the zeros and a column vector of the poles:"
   ]
  },
  {
   "cell_type": "code",
   "execution_count": 9,
   "id": "a82c2b1e",
   "metadata": {
    "slideshow": {
     "slide_type": "fragment"
    }
   },
   "outputs": [],
   "source": [
    "z = [-1; -3];\n",
    "p = [0; -2; -4];"
   ]
  },
  {
   "cell_type": "markdown",
   "id": "d3c32ca2",
   "metadata": {
    "slideshow": {
     "slide_type": "fragment"
    }
   },
   "source": [
    "A third parameter, the overall gain , completes the definition of the so called *pole-zero-gain* form of transfer function."
   ]
  },
  {
   "cell_type": "markdown",
   "id": "15f37842",
   "metadata": {
    "slideshow": {
     "slide_type": "fragment"
    }
   },
   "source": [
    "In this case"
   ]
  },
  {
   "cell_type": "code",
   "execution_count": 10,
   "id": "40463157",
   "metadata": {
    "slideshow": {
     "slide_type": "fragment"
    }
   },
   "outputs": [],
   "source": [
    "K = 1;"
   ]
  },
  {
   "cell_type": "markdown",
   "id": "4bb9b1e5",
   "metadata": {
    "slideshow": {
     "slide_type": "subslide"
    }
   },
   "source": [
    "### The Linear Time Invariant (LTI) System Object\n",
    "\n",
    "A few years ago, the Mathworks introduced a new data object for the creation and manipulation of system transfer functions."
   ]
  },
  {
   "cell_type": "markdown",
   "id": "99be3c6c",
   "metadata": {
    "slideshow": {
     "slide_type": "fragment"
    }
   },
   "source": [
    "This object is called the *Linear Time Invariant (LTI) System Object*."
   ]
  },
  {
   "cell_type": "markdown",
   "id": "57771795",
   "metadata": {
    "slideshow": {
     "slide_type": "fragment"
    }
   },
   "source": [
    "It is used to gather the components of a transfer function into a single variable which can then easily be combined with other LTI system objects and passed to system analysis functions."
   ]
  },
  {
   "cell_type": "markdown",
   "id": "8d242eef",
   "metadata": {
    "slideshow": {
     "slide_type": "subslide"
    }
   },
   "source": [
    "To create a LTI system object representing the factored transfer function from Eq. {eq}`eq:8.2` the following command is issued:"
   ]
  },
  {
   "cell_type": "code",
   "execution_count": 11,
   "id": "3ab0821c",
   "metadata": {
    "slideshow": {
     "slide_type": "fragment"
    }
   },
   "outputs": [
    {
     "name": "stdout",
     "output_type": "stream",
     "text": [
      "\n",
      "G =\n"
     ]
    },
    {
     "name": "stdout",
     "output_type": "stream",
     "text": [
      " \n"
     ]
    },
    {
     "name": "stdout",
     "output_type": "stream",
     "text": [
      "   (s+1) (s+3)\n"
     ]
    },
    {
     "name": "stdout",
     "output_type": "stream",
     "text": [
      "  -------------\n"
     ]
    },
    {
     "name": "stdout",
     "output_type": "stream",
     "text": [
      "  s (s+2) (s+4)\n"
     ]
    },
    {
     "name": "stdout",
     "output_type": "stream",
     "text": [
      " \n"
     ]
    },
    {
     "name": "stdout",
     "output_type": "stream",
     "text": [
      "Continuous-time zero/pole/gain model.\n",
      "\n"
     ]
    }
   ],
   "source": [
    "G = zpk(z,p,K)"
   ]
  },
  {
   "cell_type": "markdown",
   "id": "03f894b4",
   "metadata": {
    "slideshow": {
     "slide_type": "subslide"
    }
   },
   "source": [
    "The expanded numerator and denominator form of the transfer function is readily obtained by using the *data extraction function* `tfdata`:"
   ]
  },
  {
   "cell_type": "code",
   "execution_count": 12,
   "id": "36a82a0d",
   "metadata": {
    "slideshow": {
     "slide_type": "fragment"
    }
   },
   "outputs": [
    {
     "name": "stdout",
     "output_type": "stream",
     "text": [
      "num =\n",
      "     0     1     4     3\n"
     ]
    },
    {
     "name": "stdout",
     "output_type": "stream",
     "text": [
      "den =\n",
      "     1     6     8     0\n"
     ]
    }
   ],
   "source": [
    "[num,den]=tfdata(G,'v')"
   ]
  },
  {
   "cell_type": "markdown",
   "id": "c2ba9733",
   "metadata": {
    "slideshow": {
     "slide_type": "fragment"
    }
   },
   "source": [
    "LTI system objects can also be created from the expanded form of a transfer function directly:"
   ]
  },
  {
   "cell_type": "code",
   "execution_count": 13,
   "id": "c0ddf311",
   "metadata": {
    "slideshow": {
     "slide_type": "fragment"
    }
   },
   "outputs": [
    {
     "name": "stdout",
     "output_type": "stream",
     "text": [
      "\n",
      "G2 =\n"
     ]
    },
    {
     "name": "stdout",
     "output_type": "stream",
     "text": [
      " \n"
     ]
    },
    {
     "name": "stdout",
     "output_type": "stream",
     "text": [
      "    s^2 + 4 s + 3\n"
     ]
    },
    {
     "name": "stdout",
     "output_type": "stream",
     "text": [
      "  -----------------\n"
     ]
    },
    {
     "name": "stdout",
     "output_type": "stream",
     "text": [
      "  s^3 + 6 s^2 + 8 s\n"
     ]
    },
    {
     "name": "stdout",
     "output_type": "stream",
     "text": [
      " \n"
     ]
    },
    {
     "name": "stdout",
     "output_type": "stream",
     "text": [
      "Continuous-time transfer function.\n",
      "\n"
     ]
    }
   ],
   "source": [
    "G2=tf(num,den)"
   ]
  },
  {
   "cell_type": "markdown",
   "id": "c698468d",
   "metadata": {
    "slideshow": {
     "slide_type": "subslide"
    }
   },
   "source": [
    "and the zeros and poles similarly extracted:"
   ]
  },
  {
   "cell_type": "code",
   "execution_count": 14,
   "id": "c0456f46",
   "metadata": {
    "slideshow": {
     "slide_type": "fragment"
    }
   },
   "outputs": [
    {
     "name": "stdout",
     "output_type": "stream",
     "text": [
      "zeros =\n",
      "    -3\n",
      "    -1\n"
     ]
    },
    {
     "name": "stdout",
     "output_type": "stream",
     "text": [
      "poles =\n",
      "     0\n",
      "    -4\n",
      "    -2\n"
     ]
    },
    {
     "name": "stdout",
     "output_type": "stream",
     "text": [
      "gain =\n",
      "     1\n"
     ]
    }
   ],
   "source": [
    "[zeros,poles,gain]=zpkdata(G2,'v')"
   ]
  },
  {
   "cell_type": "markdown",
   "id": "37322001",
   "metadata": {
    "slideshow": {
     "slide_type": "subslide"
    }
   },
   "source": [
    "LTI system objects can also be created from the expanded form of a transfer function directly:"
   ]
  },
  {
   "cell_type": "code",
   "execution_count": 15,
   "id": "ee865be3",
   "metadata": {},
   "outputs": [
    {
     "name": "stdout",
     "output_type": "stream",
     "text": [
      "\n",
      "G2 =\n"
     ]
    },
    {
     "name": "stdout",
     "output_type": "stream",
     "text": [
      " \n"
     ]
    },
    {
     "name": "stdout",
     "output_type": "stream",
     "text": [
      "    s^2 + 4 s + 3\n"
     ]
    },
    {
     "name": "stdout",
     "output_type": "stream",
     "text": [
      "  -----------------\n"
     ]
    },
    {
     "name": "stdout",
     "output_type": "stream",
     "text": [
      "  s^3 + 6 s^2 + 8 s\n"
     ]
    },
    {
     "name": "stdout",
     "output_type": "stream",
     "text": [
      " \n"
     ]
    },
    {
     "name": "stdout",
     "output_type": "stream",
     "text": [
      "Continuous-time transfer function.\n",
      "\n"
     ]
    }
   ],
   "source": [
    "G2=tf(num,den)"
   ]
  },
  {
   "cell_type": "markdown",
   "id": "f6f8d936",
   "metadata": {
    "slideshow": {
     "slide_type": "fragment"
    }
   },
   "source": [
    "and the zeros and poles similarly extracted:"
   ]
  },
  {
   "cell_type": "code",
   "execution_count": 16,
   "id": "c90ef611",
   "metadata": {
    "slideshow": {
     "slide_type": "fragment"
    }
   },
   "outputs": [
    {
     "name": "stdout",
     "output_type": "stream",
     "text": [
      "zeros =\n",
      "    -3\n",
      "    -1\n"
     ]
    },
    {
     "name": "stdout",
     "output_type": "stream",
     "text": [
      "poles =\n",
      "     0\n",
      "    -4\n",
      "    -2\n"
     ]
    },
    {
     "name": "stdout",
     "output_type": "stream",
     "text": [
      "gain =\n",
      "     1\n"
     ]
    }
   ],
   "source": [
    "[zeros,poles,gain]=zpkdata(G2,'v')"
   ]
  },
  {
   "cell_type": "markdown",
   "id": "85e00a4e",
   "metadata": {
    "slideshow": {
     "slide_type": "subslide"
    }
   },
   "source": [
    "### Setting LTI Properties\n",
    "\n",
    "Numerous options are available to document the LTI system objects that you create. \n",
    "\n",
    "For example, suppose the transfer function `G` represents a servomechanism (discussed next year) with input `'Voltage'` and output `'Angular Position'` We can add this information to the LTI system as follows:"
   ]
  },
  {
   "cell_type": "code",
   "execution_count": 17,
   "id": "ff454891",
   "metadata": {
    "slideshow": {
     "slide_type": "fragment"
    }
   },
   "outputs": [],
   "source": [
    "set(G,'InputName','Voltage','OutputName','Angular Position')"
   ]
  },
  {
   "cell_type": "markdown",
   "id": "ec38c9b2",
   "metadata": {
    "slideshow": {
     "slide_type": "subslide"
    }
   },
   "source": [
    "Such documentary information is probably best added when the LTI system object is created, for example as:"
   ]
  },
  {
   "cell_type": "code",
   "execution_count": 18,
   "id": "0426125d",
   "metadata": {
    "slideshow": {
     "slide_type": "fragment"
    }
   },
   "outputs": [
    {
     "name": "stdout",
     "output_type": "stream",
     "text": [
      "\n",
      "G3 =\n"
     ]
    },
    {
     "name": "stdout",
     "output_type": "stream",
     "text": [
      " \n"
     ]
    },
    {
     "name": "stdout",
     "output_type": "stream",
     "text": [
      "  From input \"Armature Voltage (V)\" to output \"Load Shaft Position (rad)\":\n"
     ]
    },
    {
     "name": "stdout",
     "output_type": "stream",
     "text": [
      "   (s+1) (s+3)\n"
     ]
    },
    {
     "name": "stdout",
     "output_type": "stream",
     "text": [
      "  -------------\n"
     ]
    },
    {
     "name": "stdout",
     "output_type": "stream",
     "text": [
      "  s (s+2) (s+4)\n"
     ]
    },
    {
     "name": "stdout",
     "output_type": "stream",
     "text": [
      " \n"
     ]
    },
    {
     "name": "stdout",
     "output_type": "stream",
     "text": [
      "Continuous-time zero/pole/gain model.\n",
      "\n"
     ]
    }
   ],
   "source": [
    "G3=zpk(z,p,K,'InputName','Armature Voltage (V)',...\n",
    "    'OutputName','Load Shaft Position (rad)',...\n",
    "    'notes','An armature voltage controlled servomechanism')"
   ]
  },
  {
   "cell_type": "markdown",
   "id": "09dc242c",
   "metadata": {
    "slideshow": {
     "slide_type": "subslide"
    }
   },
   "source": [
    "Once the LTI object has been documented, the documentation can be extracted using commands like:"
   ]
  },
  {
   "cell_type": "code",
   "execution_count": 19,
   "id": "e3b90c5e",
   "metadata": {
    "slideshow": {
     "slide_type": "fragment"
    }
   },
   "outputs": [
    {
     "name": "stdout",
     "output_type": "stream",
     "text": [
      "ans =\n",
      "  1x1 cell array\n",
      "    {'An armature voltage controlled servomechanism'}\n"
     ]
    }
   ],
   "source": [
    "get(G3,'notes')"
   ]
  },
  {
   "cell_type": "markdown",
   "id": "fe2d7d0a",
   "metadata": {
    "slideshow": {
     "slide_type": "subslide"
    }
   },
   "source": [
    "One can also access the documentation using an *object reference* notation"
   ]
  },
  {
   "cell_type": "code",
   "execution_count": 20,
   "id": "40aece92",
   "metadata": {
    "slideshow": {
     "slide_type": "fragment"
    }
   },
   "outputs": [
    {
     "name": "stdout",
     "output_type": "stream",
     "text": [
      "in =\n",
      "  1x1 cell array\n",
      "    {'Armature Voltage (V)'}\n"
     ]
    },
    {
     "name": "stdout",
     "output_type": "stream",
     "text": [
      "out =\n",
      "  1x1 cell array\n",
      "    {'Load Shaft Position (rad)'}\n"
     ]
    }
   ],
   "source": [
    "in=G3.InputName, out=G3.OutputName"
   ]
  },
  {
   "cell_type": "markdown",
   "id": "c77cb414",
   "metadata": {
    "slideshow": {
     "slide_type": "subslide"
    }
   },
   "source": [
    "All the documentation available on an LTI system object may be extracted with a single command:"
   ]
  },
  {
   "cell_type": "code",
   "execution_count": 21,
   "id": "6665a903",
   "metadata": {
    "slideshow": {
     "slide_type": "fragment"
    }
   },
   "outputs": [
    {
     "name": "stdout",
     "output_type": "stream",
     "text": [
      "                Z: {[2x1 double]}\n",
      "                P: {[3x1 double]}\n",
      "                K: 1\n",
      "    DisplayFormat: 'roots'\n",
      "         Variable: 's'\n",
      "          IODelay: 0\n",
      "       InputDelay: 0\n",
      "      OutputDelay: 0\n",
      "        InputName: {'Armature Voltage (V)'}\n",
      "        InputUnit: {''}\n",
      "       InputGroup: [1x1 struct]\n",
      "       OutputName: {'Load Shaft Position (rad)'}\n",
      "       OutputUnit: {''}\n",
      "      OutputGroup: [1x1 struct]\n",
      "            Notes: {'An armature voltage controlled servomechanism'}\n",
      "         UserData: []\n",
      "             Name: ''\n",
      "               Ts: 0\n",
      "         TimeUnit: 'seconds'\n",
      "     SamplingGrid: [1x1 struct]\n"
     ]
    }
   ],
   "source": [
    "get(G3)"
   ]
  },
  {
   "cell_type": "markdown",
   "id": "a6a4e04c",
   "metadata": {
    "slideshow": {
     "slide_type": "subslide"
    }
   },
   "source": [
    "### System Transformations\n",
    "\n",
    "MATLAB supports the easy transformation of LTI system objects between expanded and factored forms. For example to convert a transfer function from expanded form to pole-zero-gain form the following command is used:"
   ]
  },
  {
   "cell_type": "code",
   "execution_count": 22,
   "id": "42bb6819",
   "metadata": {
    "slideshow": {
     "slide_type": "fragment"
    }
   },
   "outputs": [
    {
     "name": "stdout",
     "output_type": "stream",
     "text": [
      "\n",
      "G4 =\n"
     ]
    },
    {
     "name": "stdout",
     "output_type": "stream",
     "text": [
      " \n"
     ]
    },
    {
     "name": "stdout",
     "output_type": "stream",
     "text": [
      "   (s+3) (s+1)\n"
     ]
    },
    {
     "name": "stdout",
     "output_type": "stream",
     "text": [
      "  -------------\n"
     ]
    },
    {
     "name": "stdout",
     "output_type": "stream",
     "text": [
      "  s (s+4) (s+2)\n"
     ]
    },
    {
     "name": "stdout",
     "output_type": "stream",
     "text": [
      " \n"
     ]
    },
    {
     "name": "stdout",
     "output_type": "stream",
     "text": [
      "Continuous-time zero/pole/gain model.\n",
      "\n"
     ]
    }
   ],
   "source": [
    "G4 = zpk(G2)"
   ]
  },
  {
   "cell_type": "markdown",
   "id": "d1ebe821",
   "metadata": {
    "slideshow": {
     "slide_type": "subslide"
    }
   },
   "source": [
    "To convert from zero-pole-gain form to expanded form we use the function `tf`"
   ]
  },
  {
   "cell_type": "code",
   "execution_count": 23,
   "id": "1e559cb5",
   "metadata": {
    "slideshow": {
     "slide_type": "fragment"
    }
   },
   "outputs": [
    {
     "name": "stdout",
     "output_type": "stream",
     "text": [
      "\n",
      "G5 =\n"
     ]
    },
    {
     "name": "stdout",
     "output_type": "stream",
     "text": [
      " \n"
     ]
    },
    {
     "name": "stdout",
     "output_type": "stream",
     "text": [
      "  From input \"Voltage\" to output \"Angular Position\":\n"
     ]
    },
    {
     "name": "stdout",
     "output_type": "stream",
     "text": [
      "    s^2 + 4 s + 3\n"
     ]
    },
    {
     "name": "stdout",
     "output_type": "stream",
     "text": [
      "  -----------------\n"
     ]
    },
    {
     "name": "stdout",
     "output_type": "stream",
     "text": [
      "  s^3 + 6 s^2 + 8 s\n"
     ]
    },
    {
     "name": "stdout",
     "output_type": "stream",
     "text": [
      " \n"
     ]
    },
    {
     "name": "stdout",
     "output_type": "stream",
     "text": [
      "Continuous-time transfer function.\n",
      "\n"
     ]
    }
   ],
   "source": [
    "G5 = tf(G)"
   ]
  },
  {
   "cell_type": "markdown",
   "id": "d3b02b3b",
   "metadata": {
    "slideshow": {
     "slide_type": "notes"
    }
   },
   "source": [
    "Please note that these transformations are merely a convenience that allow you to work with your preferred form of representation. Most of the tools that deal with LTI system objects will work with any form. Furthermore, you can always use the data extraction functions `zpdata` and `tfdata` to extract the zero-pole-gain and numerator-denominator parameters from a LTI system, no matter in which form it was originally defined, without the need for an explicit conversion."
   ]
  },
  {
   "cell_type": "markdown",
   "id": "5c25a043",
   "metadata": {
    "slideshow": {
     "slide_type": "subslide"
    }
   },
   "source": [
    "### Combining LTI System Objects\n",
    "\n",
    "A powerful feature of the LTI system object representation is the ease with which LTI objects can be combined."
   ]
  },
  {
   "cell_type": "markdown",
   "id": "f4cdce82",
   "metadata": {
    "slideshow": {
     "slide_type": "subslide"
    }
   },
   "source": [
    "#### Systems in series\n",
    "\n",
    "For example, suppose we have two systems with transfer functions\n",
    "\n",
    "$$G_1(s) = \\frac{s + 1}{s+3}$$\n",
    "\n",
    "and\n",
    "\n",
    "$$G_2(s) = \\frac{10}{s(s+2)}$$"
   ]
  },
  {
   "cell_type": "markdown",
   "id": "36a42cd4",
   "metadata": {
    "slideshow": {
     "slide_type": "subslide"
    }
   },
   "source": [
    "Then the series combination of the two transfer functions ($G_1(s)G_2(s)$) is obtained using the `*` (multiplication) operator:"
   ]
  },
  {
   "cell_type": "code",
   "execution_count": 24,
   "id": "57f32236",
   "metadata": {
    "slideshow": {
     "slide_type": "fragment"
    }
   },
   "outputs": [
    {
     "name": "stdout",
     "output_type": "stream",
     "text": [
      "\n",
      "Gs =\n"
     ]
    },
    {
     "name": "stdout",
     "output_type": "stream",
     "text": [
      " \n"
     ]
    },
    {
     "name": "stdout",
     "output_type": "stream",
     "text": [
      "      10 s + 10\n"
     ]
    },
    {
     "name": "stdout",
     "output_type": "stream",
     "text": [
      "  -----------------\n"
     ]
    },
    {
     "name": "stdout",
     "output_type": "stream",
     "text": [
      "  s^3 + 5 s^2 + 6 s\n"
     ]
    },
    {
     "name": "stdout",
     "output_type": "stream",
     "text": [
      " \n"
     ]
    },
    {
     "name": "stdout",
     "output_type": "stream",
     "text": [
      "Continuous-time transfer function.\n",
      "\n"
     ]
    }
   ],
   "source": [
    "G1=tf([1 1],[1 3]);\n",
    "G2=tf(10,conv([1 0],[1 2])); % conv is polynomial multiplication\n",
    "Gs=G1*G2 % series connection of two LTI objects"
   ]
  },
  {
   "cell_type": "markdown",
   "id": "fbb7f02e",
   "metadata": {
    "slideshow": {
     "slide_type": "subslide"
    }
   },
   "source": [
    "We can extract the poles and zeros of the combined systems using the `zpdata` function"
   ]
  },
  {
   "cell_type": "code",
   "execution_count": 25,
   "id": "11f6bea0",
   "metadata": {
    "slideshow": {
     "slide_type": "fragment"
    }
   },
   "outputs": [
    {
     "name": "stdout",
     "output_type": "stream",
     "text": [
      "zeros =\n",
      "    -1\n"
     ]
    },
    {
     "name": "stdout",
     "output_type": "stream",
     "text": [
      "poles =\n",
      "         0\n",
      "   -3.0000\n",
      "   -2.0000\n"
     ]
    },
    {
     "name": "stdout",
     "output_type": "stream",
     "text": [
      "K =\n",
      "    10\n"
     ]
    }
   ],
   "source": [
    "[zeros,poles,K]=zpkdata(Gs,'v')"
   ]
  },
  {
   "cell_type": "markdown",
   "id": "37cc9947",
   "metadata": {
    "slideshow": {
     "slide_type": "subslide"
    }
   },
   "source": [
    "#### Systems in parallel\n",
    "\n",
    "The parallel connection of two LTI system objects corresponds to addition"
   ]
  },
  {
   "cell_type": "code",
   "execution_count": 26,
   "id": "d566c8ba",
   "metadata": {
    "slideshow": {
     "slide_type": "fragment"
    }
   },
   "outputs": [
    {
     "name": "stdout",
     "output_type": "stream",
     "text": [
      "\n",
      "Gp =\n"
     ]
    },
    {
     "name": "stdout",
     "output_type": "stream",
     "text": [
      " \n"
     ]
    },
    {
     "name": "stdout",
     "output_type": "stream",
     "text": [
      "  s^3 + 3 s^2 + 12 s + 30\n"
     ]
    },
    {
     "name": "stdout",
     "output_type": "stream",
     "text": [
      "  -----------------------\n"
     ]
    },
    {
     "name": "stdout",
     "output_type": "stream",
     "text": [
      "     s^3 + 5 s^2 + 6 s\n"
     ]
    },
    {
     "name": "stdout",
     "output_type": "stream",
     "text": [
      " \n"
     ]
    },
    {
     "name": "stdout",
     "output_type": "stream",
     "text": [
      "Continuous-time transfer function.\n",
      "\n"
     ]
    }
   ],
   "source": [
    "Gp = G1 + G2"
   ]
  },
  {
   "cell_type": "markdown",
   "id": "6550366d",
   "metadata": {
    "slideshow": {
     "slide_type": "subslide"
    }
   },
   "source": [
    "#### Systems with feedback\n",
    "\n",
    "The feedback connection of two LTI system objects is also supported."
   ]
  },
  {
   "cell_type": "markdown",
   "id": "edf47045",
   "metadata": {
    "slideshow": {
     "slide_type": "fragment"
    }
   },
   "source": [
    "The function `feedback` is used for this."
   ]
  },
  {
   "cell_type": "markdown",
   "id": "54c0a276",
   "metadata": {
    "slideshow": {
     "slide_type": "subslide"
    }
   },
   "source": [
    "Let\n",
    "\n",
    "$$G(s) = \\frac{2s^2 + 5s + 1}{s^2 + 2s + 3}$$\n",
    "\n",
    "be the forward transfer function of a system with feedback and\n",
    "\n",
    "$$H(s) = \\frac{5(s + 2)}{(s+10)}$$\n",
    "\n",
    "be the feedback network. Then the closed-loop transfer function (assuming negative feedback) is\n",
    "\n",
    "$$G_c(s) = \\frac{G(s)}{1 + G(s)H(s)}$$"
   ]
  },
  {
   "cell_type": "markdown",
   "id": "ad8a2548",
   "metadata": {
    "slideshow": {
     "slide_type": "subslide"
    }
   },
   "source": [
    "In MATLAB:"
   ]
  },
  {
   "cell_type": "code",
   "execution_count": 27,
   "id": "18525f11",
   "metadata": {
    "slideshow": {
     "slide_type": "fragment"
    }
   },
   "outputs": [],
   "source": [
    "G = tf([2 5 1],[1 2 3],'inputname','torque',...\n",
    "    'outputname','velocity');\n",
    "H = zpk(-2,-10,5);"
   ]
  },
  {
   "cell_type": "code",
   "execution_count": 28,
   "id": "2a31d4d0",
   "metadata": {
    "slideshow": {
     "slide_type": "fragment"
    }
   },
   "outputs": [
    {
     "name": "stdout",
     "output_type": "stream",
     "text": [
      "\n",
      "Gc =\n"
     ]
    },
    {
     "name": "stdout",
     "output_type": "stream",
     "text": [
      " \n"
     ]
    },
    {
     "name": "stdout",
     "output_type": "stream",
     "text": [
      "  From input \"torque\" to output \"velocity\":\n"
     ]
    },
    {
     "name": "stdout",
     "output_type": "stream",
     "text": [
      "  0.18182 (s+0.2192) (s+2.281) (s+10)\n"
     ]
    },
    {
     "name": "stdout",
     "output_type": "stream",
     "text": [
      "  -----------------------------------\n"
     ]
    },
    {
     "name": "stdout",
     "output_type": "stream",
     "text": [
      "   (s+3.419) (s^2 + 1.763s + 1.064)\n"
     ]
    },
    {
     "name": "stdout",
     "output_type": "stream",
     "text": [
      " \n"
     ]
    },
    {
     "name": "stdout",
     "output_type": "stream",
     "text": [
      "Continuous-time zero/pole/gain model.\n",
      "\n"
     ]
    }
   ],
   "source": [
    "Gc = feedback(G,H) % negative feedback assumed"
   ]
  },
  {
   "cell_type": "markdown",
   "id": "04a80bd0",
   "metadata": {
    "slideshow": {
     "slide_type": "subslide"
    }
   },
   "source": [
    "### The Analysis of LTI System Objects\n",
    "\n",
    "MATLAB uses the LTI system objects as parameters for the analysis tools such as `impulse`, `step`, `nyquist`, `bode` and `rlocus`. \n",
    "\n",
    "Some of these are immediately useful for signals and systems use. You will encounter the others in **EG-243 Control Systems**.\n",
    "\n",
    "As an example of their use try each of following:"
   ]
  },
  {
   "cell_type": "markdown",
   "id": "de6ec41b",
   "metadata": {
    "slideshow": {
     "slide_type": "subslide"
    }
   },
   "source": [
    "#### Root locus"
   ]
  },
  {
   "cell_type": "code",
   "execution_count": 29,
   "id": "0fc8f322",
   "metadata": {
    "slideshow": {
     "slide_type": "fragment"
    }
   },
   "outputs": [
    {
     "data": {
      "image/png": "[encoded data removed]",
      "text/plain": [
       "<IPython.core.display.Image object>"
      ]
     },
     "metadata": {
      "filenames": {
       "image/png": "/Users/eechris/code/src/github.com/cpjobling/eg-150-textbook/_build/jupyter_execute/laplace_transform/8/casas_74_0.png"
      }
     },
     "output_type": "display_data"
    }
   ],
   "source": [
    "rlocus(G*H),sgrid"
   ]
  },
  {
   "cell_type": "markdown",
   "id": "606268ab",
   "metadata": {
    "slideshow": {
     "slide_type": "subslide"
    }
   },
   "source": [
    "#### Open-loop frequency response"
   ]
  },
  {
   "cell_type": "code",
   "execution_count": 30,
   "id": "bc340eb6",
   "metadata": {
    "slideshow": {
     "slide_type": "fragment"
    }
   },
   "outputs": [
    {
     "data": {
      "image/png": "[encoded data removed]",
      "text/plain": [
       "<IPython.core.display.Image object>"
      ]
     },
     "metadata": {
      "filenames": {
       "image/png": "/Users/eechris/code/src/github.com/cpjobling/eg-150-textbook/_build/jupyter_execute/laplace_transform/8/casas_76_0.png"
      }
     },
     "output_type": "display_data"
    }
   ],
   "source": [
    "bode(G*H),grid"
   ]
  },
  {
   "cell_type": "markdown",
   "id": "fae94fd1",
   "metadata": {
    "slideshow": {
     "slide_type": "subslide"
    }
   },
   "source": [
    "#### Closed-loop step response"
   ]
  },
  {
   "cell_type": "code",
   "execution_count": 31,
   "id": "38e7600d",
   "metadata": {
    "slideshow": {
     "slide_type": "fragment"
    }
   },
   "outputs": [
    {
     "data": {
      "image/png": "[encoded data removed]",
      "text/plain": [
       "<IPython.core.display.Image object>"
      ]
     },
     "metadata": {
      "filenames": {
       "image/png": "/Users/eechris/code/src/github.com/cpjobling/eg-150-textbook/_build/jupyter_execute/laplace_transform/8/casas_78_0.png"
      }
     },
     "output_type": "display_data"
    }
   ],
   "source": [
    "step(Gc),grid"
   ]
  },
  {
   "cell_type": "markdown",
   "id": "46f3ed38",
   "metadata": {
    "slideshow": {
     "slide_type": "subslide"
    }
   },
   "source": [
    "#### Closed-loop frequency response"
   ]
  },
  {
   "cell_type": "code",
   "execution_count": 32,
   "id": "3f1d60f7",
   "metadata": {
    "slideshow": {
     "slide_type": "fragment"
    }
   },
   "outputs": [
    {
     "data": {
      "image/png": "[encoded data removed]",
      "text/plain": [
       "<IPython.core.display.Image object>"
      ]
     },
     "metadata": {
      "filenames": {
       "image/png": "/Users/eechris/code/src/github.com/cpjobling/eg-150-textbook/_build/jupyter_execute/laplace_transform/8/casas_80_0.png"
      }
     },
     "output_type": "display_data"
    }
   ],
   "source": [
    "bode(Gc),grid"
   ]
  },
  {
   "cell_type": "markdown",
   "id": "0e977249",
   "metadata": {
    "slideshow": {
     "slide_type": "subslide"
    }
   },
   "source": [
    "#### Closed-loop impulse response"
   ]
  },
  {
   "cell_type": "code",
   "execution_count": 33,
   "id": "704b1c01",
   "metadata": {
    "slideshow": {
     "slide_type": "fragment"
    }
   },
   "outputs": [
    {
     "data": {
      "image/png": "[encoded data removed]",
      "text/plain": [
       "<IPython.core.display.Image object>"
      ]
     },
     "metadata": {
      "filenames": {
       "image/png": "/Users/eechris/code/src/github.com/cpjobling/eg-150-textbook/_build/jupyter_execute/laplace_transform/8/casas_82_0.png"
      }
     },
     "output_type": "display_data"
    }
   ],
   "source": [
    "impulse(Gc),grid"
   ]
  },
  {
   "cell_type": "markdown",
   "id": "848b6b0b",
   "metadata": {
    "slideshow": {
     "slide_type": "subslide"
    }
   },
   "source": [
    "#### Nyquist diagram"
   ]
  },
  {
   "cell_type": "code",
   "execution_count": 34,
   "id": "b10c8aa3",
   "metadata": {
    "slideshow": {
     "slide_type": "fragment"
    }
   },
   "outputs": [
    {
     "data": {
      "image/png": "[encoded data removed]",
      "text/plain": [
       "<IPython.core.display.Image object>"
      ]
     },
     "metadata": {
      "filenames": {
       "image/png": "/Users/eechris/code/src/github.com/cpjobling/eg-150-textbook/_build/jupyter_execute/laplace_transform/8/casas_84_0.png"
      }
     },
     "output_type": "display_data"
    }
   ],
   "source": [
    "nyquist(G*H),grid"
   ]
  },
  {
   "cell_type": "markdown",
   "id": "884a3d54",
   "metadata": {
    "slideshow": {
     "slide_type": "notes"
    }
   },
   "source": [
    "MATLAB also provides two interactive graphical tools that work with LTI system objects\n",
    "\n",
    "* `ltiview` is a graphical tool that can be used to analyze systems defined by LTI objects. It provides easy access to LTI objects and time and frequency response analysis tools. \n",
    "* `rltool` is an interactive tool for designing controllers using the root locus method.\n",
    "\n",
    "Control engineers will find `sisotool` useful.\n",
    "\n",
    "You are encouraged to experiment with these tools."
   ]
  },
  {
   "cell_type": "markdown",
   "id": "008c3fb9",
   "metadata": {
    "slideshow": {
     "slide_type": "subslide"
    }
   },
   "source": [
    "### Partial Fraction Expansions\n",
    "\n",
    "MATLAB provides a command called `residue` that returns the partial fraction expansion of a transfer function. That is, given\n",
    "\n",
    "$$G(s)= \\frac{s^m +b_{m-1}s^{m-1} + \\cdots + b_1s+b_0}{s^n +a_{n-1}s^{n-1} + \\cdots a_1s+a_0}$$\n",
    "\n",
    "it returns\n",
    "\n",
    "$$\\frac{r_1}{s + p_1} + \\frac{r_2}{s + p_2} + \\cdots + \\frac{R_n}{s + p_n} + K(s)$$\n",
    "\n",
    "where $p_k$ are the poles of the transfer function, $r_k$ are the coefficients of the partial fraction terms (called the **residues of the poles**) and $K(s)$ is a remainder polynomial which empty unless the rational polynomial is *non-proper*."
   ]
  },
  {
   "cell_type": "markdown",
   "id": "0770f6af",
   "metadata": {
    "slideshow": {
     "slide_type": "subslide"
    }
   },
   "source": [
    "To use this, the starting point must be the expanded form of the transfer function in numerical polynomial form.\n",
    "\n",
    "Thus given\n",
    "\n",
    "$$C(s) = \\frac{5(s + 2)}{s(s+3)(s+10)}$$\n",
    "\n",
    "we obtain the partial fraction expansion using the MATLAB command sequence:"
   ]
  },
  {
   "cell_type": "code",
   "execution_count": 35,
   "id": "8512f6e6",
   "metadata": {
    "slideshow": {
     "slide_type": "fragment"
    }
   },
   "outputs": [
    {
     "name": "stdout",
     "output_type": "stream",
     "text": [
      "num =\n",
      "     0     0     5    10\n"
     ]
    },
    {
     "name": "stdout",
     "output_type": "stream",
     "text": [
      "den =\n",
      "     1    13    30     0\n"
     ]
    }
   ],
   "source": [
    "k = 5; z = [-2]; p = [0; -3; -10]; % zero-pole-gain form\n",
    "C = zpk(z,p,k);\n",
    "[num,den] = tfdata(C,'v')\n",
    "%\n",
    "% (Note that the leading terms in num are zero)."
   ]
  },
  {
   "cell_type": "code",
   "execution_count": 36,
   "id": "0a6817b8",
   "metadata": {
    "slideshow": {
     "slide_type": "subslide"
    }
   },
   "outputs": [
    {
     "name": "stdout",
     "output_type": "stream",
     "text": [
      "r =\n",
      "   -0.5714\n",
      "    0.2381\n",
      "    0.3333\n"
     ]
    },
    {
     "name": "stdout",
     "output_type": "stream",
     "text": [
      "p =\n",
      "   -10\n",
      "    -3\n",
      "     0\n",
      "k =\n",
      "     []\n"
     ]
    }
   ],
   "source": [
    "[r,p,k] = residue(num,den)"
   ]
  },
  {
   "cell_type": "markdown",
   "id": "e811a81a",
   "metadata": {
    "slideshow": {
     "slide_type": "subslide"
    }
   },
   "source": [
    "which we interpret to mean\n",
    "\n",
    "$$C(s) = \\frac{0.3333}{s} + \\frac{0.2381}{s + 3} - \\frac{0.5714}{s + 5}.$$\n",
    "\n",
    "If $C(s)$ represents the step response of the system\n",
    "\n",
    "$$G(s) = \\frac{5(s + 2)}{(s + 3)(s + 10)}$$\n",
    "\n",
    "then the step response is, by inverse Laplace Transform:\n",
    "\n",
    "$$y(t) = \\left( {0.3333 + 0.2381{e^{ - 3t}} - 0.5714{e^{ - 10t}}}\n",
    "\\right){u_0}(t).$$"
   ]
  },
  {
   "cell_type": "markdown",
   "id": "ff019e13",
   "metadata": {
    "slideshow": {
     "slide_type": "subslide"
    }
   },
   "source": [
    "You can check this with the commands:"
   ]
  },
  {
   "cell_type": "code",
   "execution_count": 37,
   "id": "471c4d26",
   "metadata": {
    "slideshow": {
     "slide_type": "fragment"
    }
   },
   "outputs": [
    {
     "name": "stdout",
     "output_type": "stream",
     "text": [
      "\n",
      "newC =\n"
     ]
    },
    {
     "name": "stdout",
     "output_type": "stream",
     "text": [
      " \n"
     ]
    },
    {
     "name": "stdout",
     "output_type": "stream",
     "text": [
      "     5 s + 10\n"
     ]
    },
    {
     "name": "stdout",
     "output_type": "stream",
     "text": [
      "  ---------------\n"
     ]
    },
    {
     "name": "stdout",
     "output_type": "stream",
     "text": [
      "  s^2 + 13 s + 30\n"
     ]
    },
    {
     "name": "stdout",
     "output_type": "stream",
     "text": [
      " \n"
     ]
    },
    {
     "name": "stdout",
     "output_type": "stream",
     "text": [
      "Continuous-time transfer function.\n",
      "\n"
     ]
    },
    {
     "data": {
      "image/png": "[encoded data removed]",
      "text/plain": [
       "<IPython.core.display.Image object>"
      ]
     },
     "metadata": {
      "filenames": {
       "image/png": "/Users/eechris/code/src/github.com/cpjobling/eg-150-textbook/_build/jupyter_execute/laplace_transform/8/casas_92_7.png"
      }
     },
     "output_type": "display_data"
    }
   ],
   "source": [
    "newC = tf([5, 10],[1, 13, 30])\n",
    "step(newC),grid % provides $u_0(t)$"
   ]
  },
  {
   "cell_type": "code",
   "execution_count": 38,
   "id": "a94ea209",
   "metadata": {
    "slideshow": {
     "slide_type": "subslide"
    }
   },
   "outputs": [
    {
     "data": {
      "image/png": "[encoded data removed]",
      "text/plain": [
       "<IPython.core.display.Image object>"
      ]
     },
     "metadata": {
      "filenames": {
       "image/png": "/Users/eechris/code/src/github.com/cpjobling/eg-150-textbook/_build/jupyter_execute/laplace_transform/8/casas_93_0.png"
      }
     },
     "output_type": "display_data"
    }
   ],
   "source": [
    "t = 0:.05:1.5; % time vector\n",
    "c = 0.3333 + 0.2381 * exp(-3*t) - 0.5714 * exp(-10*t);\n",
    "plot(t,c),grid"
   ]
  },
  {
   "cell_type": "markdown",
   "id": "0fb5cb36",
   "metadata": {
    "slideshow": {
     "slide_type": "notes"
    }
   },
   "source": [
    "Completing the problem using the Symbolic toolbox is left as an exercise for the reader."
   ]
  },
  {
   "cell_type": "markdown",
   "id": "101294d4",
   "metadata": {
    "slideshow": {
     "slide_type": "notes"
    }
   },
   "source": [
    "There are numerous other documentation features provided for LTI system objects. Please consult the [on-line help](https://uk.mathworks.com/help/control/getstart/linear-lti-models.html) for full details."
   ]
  },
  {
   "cell_type": "markdown",
   "id": "ff4c5ec0",
   "metadata": {
    "slideshow": {
     "slide_type": "slide"
    }
   },
   "source": [
    "(simulink_tf)=\n",
    "## Using Transfer Functions in Simulink for System Simulation"
   ]
  },
  {
   "cell_type": "markdown",
   "id": "e1678e80",
   "metadata": {
    "slideshow": {
     "slide_type": "fragment"
    }
   },
   "source": [
    "The Simulink transfer function (**`Transfer Fcn`**) block (see {numref}`fig:sim_tf`) implements a transfer function"
   ]
  },
  {
   "cell_type": "markdown",
   "id": "7ae94e16",
   "metadata": {
    "slideshow": {
     "slide_type": "fragment"
    }
   },
   "source": [
    ":::{figure-md} fig:sim_tf\n",
    "<img src=\"pictures/sim_tf.png\" alt=\"The LTI Block in Simulink\">\n",
    "\n",
    "The LTI Block in Simulink\n",
    ":::"
   ]
  },
  {
   "cell_type": "markdown",
   "id": "346249a2",
   "metadata": {
    "slideshow": {
     "slide_type": "subslide"
    }
   },
   "source": [
    "The transfer function block represents a general input output function\n",
    "\n",
    "$$G(s) = \\frac{N(s)}{D(s)}$$\n",
    "\n",
    "and is not specific nor restricted to circuit analysis."
   ]
  },
  {
   "cell_type": "markdown",
   "id": "ce78891f",
   "metadata": {
    "slideshow": {
     "slide_type": "fragment"
    }
   },
   "source": [
    "It can, however be used in modelling and simulation studies."
   ]
  },
  {
   "cell_type": "markdown",
   "id": "1c41fa49",
   "metadata": {
    "slideshow": {
     "slide_type": "slide"
    }
   },
   "source": [
    "(example15)=\n",
    "## Examples 15"
   ]
  },
  {
   "cell_type": "markdown",
   "id": "38c03597",
   "metadata": {
    "slideshow": {
     "slide_type": "slide"
    }
   },
   "source": [
    "(ex:15.1)=\n",
    "### Example 15.1 \n",
    "\n",
    "Recast {ref}`ex:14.2` as a MATLAB problem using the LTI Transfer Function block. \n",
    "\n",
    "For simplicity use parameters $R_1 = R_2 = R_3 = 1\\; \\Omega$, and $C_1 = C_2 = 1$ F.\n",
    "\n",
    "Calculate the step response using the LTI functions and \n",
    "\n",
    "Verify the result with Simulink."
   ]
  },
  {
   "cell_type": "markdown",
   "id": "acc95818",
   "metadata": {
    "slideshow": {
     "slide_type": "subslide"
    }
   },
   "source": [
    "#### MATLAB Solution\n",
    "From a previous analysis ({ref}`ex:14.2`) the transfer function is:\n",
    "\n",
    "$$G(s) = \\frac{V_\\mathrm{out}}{V_\\mathrm{in}} = \\frac{-1}{R_1\\left[(1/R_1 + 1/R_2 + 1/R_3 + sC_1)(sR_3C_2) + 1/R_2\\right]}$$"
   ]
  },
  {
   "cell_type": "markdown",
   "id": "ef5a5273",
   "metadata": {
    "slideshow": {
     "slide_type": "subslide"
    }
   },
   "source": [
    "so substituting the component values we get:\n",
    "\n",
    "$$G(s) = \\frac{V_{\\mathrm{out}}}{V_{\\mathrm{in}}} = \\frac{-1}{s^2 + 3s + 1}$$"
   ]
  },
  {
   "cell_type": "markdown",
   "id": "fbacdf51",
   "metadata": {
    "slideshow": {
     "slide_type": "subslide"
    }
   },
   "source": [
    "We can find the step response by letting $v_{\\mathrm{in}}(t) = u_0(t)$ so that\n",
    "$V_{\\mathrm{in}}(s)=1/s$ then \n",
    "\n",
    "$$V_{\\mathrm{out}}(s) = \\frac{-1}{s^2 + 3s + 1}.\\frac{1}{s}$$"
   ]
  },
  {
   "cell_type": "markdown",
   "id": "ebba77af",
   "metadata": {
    "slideshow": {
     "slide_type": "subslide"
    }
   },
   "source": [
    "We can solve this by partial fraction expansion and inverse Laplace transform\n",
    "as is done in the text book with the help of MATLAB's `residue` function.\n",
    "\n",
    "Here, however we'll use the LTI block."
   ]
  },
  {
   "cell_type": "markdown",
   "id": "091f72f4",
   "metadata": {
    "slideshow": {
     "slide_type": "subslide"
    }
   },
   "source": [
    "Define the circuit as a transfer function"
   ]
  },
  {
   "cell_type": "code",
   "execution_count": 39,
   "id": "1af63f4f",
   "metadata": {
    "slideshow": {
     "slide_type": "fragment"
    }
   },
   "outputs": [
    {
     "name": "stdout",
     "output_type": "stream",
     "text": [
      "\n",
      "G =\n"
     ]
    },
    {
     "name": "stdout",
     "output_type": "stream",
     "text": [
      " \n"
     ]
    },
    {
     "name": "stdout",
     "output_type": "stream",
     "text": [
      "       -1\n"
     ]
    },
    {
     "name": "stdout",
     "output_type": "stream",
     "text": [
      "  -------------\n"
     ]
    },
    {
     "name": "stdout",
     "output_type": "stream",
     "text": [
      "  s^2 + 3 s + 1\n"
     ]
    },
    {
     "name": "stdout",
     "output_type": "stream",
     "text": [
      " \n"
     ]
    },
    {
     "name": "stdout",
     "output_type": "stream",
     "text": [
      "Continuous-time transfer function.\n",
      "\n"
     ]
    }
   ],
   "source": [
    "G = tf([-1],[1 3 1])"
   ]
  },
  {
   "cell_type": "markdown",
   "id": "bcf48bbb",
   "metadata": {
    "slideshow": {
     "slide_type": "subslide"
    }
   },
   "source": [
    "step response is then:"
   ]
  },
  {
   "cell_type": "code",
   "execution_count": 40,
   "id": "04e9dcda",
   "metadata": {
    "slideshow": {
     "slide_type": "fragment"
    }
   },
   "outputs": [
    {
     "data": {
      "image/png": "[encoded data removed]",
      "text/plain": [
       "<IPython.core.display.Image object>"
      ]
     },
     "metadata": {
      "filenames": {
       "image/png": "/Users/eechris/code/src/github.com/cpjobling/eg-150-textbook/_build/jupyter_execute/laplace_transform/8/casas_110_0.png"
      }
     },
     "output_type": "display_data"
    }
   ],
   "source": [
    "step(G),grid"
   ]
  },
  {
   "cell_type": "markdown",
   "id": "d0b44923",
   "metadata": {
    "slideshow": {
     "slide_type": "subslide"
    }
   },
   "source": [
    "#### Simulink model\n",
    "\n",
    "See [example_8.slx](https://cpjobling.github.io/eg-150-textbook/laplace_transform/matlab/example_8.slx)"
   ]
  },
  {
   "cell_type": "code",
   "execution_count": 41,
   "id": "3fe4ddef",
   "metadata": {
    "slideshow": {
     "slide_type": "fragment"
    }
   },
   "outputs": [],
   "source": [
    "open example_8"
   ]
  },
  {
   "cell_type": "markdown",
   "id": "108d5a13",
   "metadata": {
    "slideshow": {
     "slide_type": "notes"
    }
   },
   "source": [
    "![Simulink model](pictures/ex8_sim.png)"
   ]
  },
  {
   "cell_type": "markdown",
   "id": "02ae8e72",
   "metadata": {
    "slideshow": {
     "slide_type": "notes"
    }
   },
   "source": [
    "Result\n",
    "\n",
    "![Simulation result](pictures/ex8_sim_result.png)"
   ]
  },
  {
   "cell_type": "markdown",
   "id": "ccff1094",
   "metadata": {
    "slideshow": {
     "slide_type": "subslide"
    }
   },
   "source": [
    "Let's go a bit further by finding the frequency response:"
   ]
  },
  {
   "cell_type": "code",
   "execution_count": 42,
   "id": "299931db",
   "metadata": {
    "slideshow": {
     "slide_type": "subslide"
    }
   },
   "outputs": [
    {
     "data": {
      "image/png": "[encoded data removed]",
      "text/plain": [
       "<IPython.core.display.Image object>"
      ]
     },
     "metadata": {
      "filenames": {
       "image/png": "/Users/eechris/code/src/github.com/cpjobling/eg-150-textbook/_build/jupyter_execute/laplace_transform/8/casas_116_0.png"
      }
     },
     "output_type": "display_data"
    }
   ],
   "source": [
    "bode(G),grid"
   ]
  },
  {
   "cell_type": "markdown",
   "id": "ddee7c33",
   "metadata": {
    "slideshow": {
     "slide_type": "notes"
    }
   },
   "source": [
    "```{note}\n",
    "The following examples have been adapted from *Session 3: RC Networks and the Op-Amp in the Time-Domain*, from **EG-152 Analogue Design** ({cite}`eg152`).\n",
    "```"
   ]
  },
  {
   "cell_type": "markdown",
   "id": "2177fe5f",
   "metadata": {},
   "source": [
    "(ex15.2)=\n",
    "### Example 15.2: Periodic Excitation\n",
    "\n",
    "Consider the RC circuit shown in {numref}`fig:ex15.2`(b). The circuit is subjected to the periodic signal $x(t) = v_1(t)$ shown in {numref}`fig:ex15.2`(a).\n",
    "\n",
    ":::{figure-md} fig:ex15.2\n",
    "<img src=\"pictures/eg-152-3.1.png\" alt=\"Circuit for Investigating Recurrent Boundary Conditions.\" width=\"80%\">\n",
    "\n",
    "Circuit for Investigating Recurrent Boundary Conditions (Figure 3.0 of {cite}`eg152`)\n",
    ":::\n",
    "\n",
    "a) Use the Laplace transform to determine the transfer function $H(s)$ and the impulse response $h(t)$ of the RC circuit.\n",
    "\n",
    "b) Determine the step response of the RC circuit.\n",
    "\n",
    "c) use the results of Example 15.2(a) and (b) and properties of the Laplace transform to determine the response $y(t) = v_2(t)$ to $v_1(t)$. \n",
    "\n",
    "d) Given that $V_L = -5$ V and $V_U = 5$ V, and assuming that the time constant $\\tau = RC = T_A = 2 T_B$,  use MATLAB to plot the response $v_1(t)$ over two cycles of the input signal. Use any suitable values of $T_A$, $T_B$ and $RC$ that you feel are appropriate.\n",
    "\n",
    "e) Use the transfer function block and the signal editor provided by Simulink to confirm by simulation the response computed in Example 15.2(d)."
   ]
  },
  {
   "cell_type": "markdown",
   "id": "f371cb53",
   "metadata": {},
   "source": [
    "(15.3)=\n",
    "### Example 15.3: Operational Differentiator\n",
    "\n",
    "In Section 3.3 of {cite}`eg152` it is given that the differential equation of the *operational differentiator* illustrated in {numref}`fig:15.3` is\n",
    "\n",
    "$$v_2(t) = -R i(t) = -RC \\frac{d}{dt}v_1(t)$$\n",
    "\n",
    ":::{figure-md} fig:15.3\n",
    "<img src=\"pictures/eg-152-3.4.png\" alt=\"Schematic of Operational Differentiator.\" width=\"60%\">\n",
    "\n",
    "Schematic of Operational Differentiator (Figure 3.4 of {cite}`eg152`)\n",
    "\n",
    ":::\n",
    "\n",
    "\n",
    "\n",
    "a) Give the transfer function $H(s) = V_2(s)/V_1(s)$ of the operational differentiator.\n",
    "\n",
    "b) Compute the impulse and step response of the operational differentiator.\n",
    "\n",
    "c) Compute and plot the response of the operational differentiator to three cycles of the input of {numref}`fig:ex12.2`(a) when $V_L = -6$ V, $V_U = 3$ V, given that the waveform period $T = 1$ ms, the duty cycle $D = T_A/(T_A + T_B) = 2/5$ and time constant $\\tau = RC = 50$ ms."
   ]
  },
  {
   "cell_type": "markdown",
   "id": "8cee7b1b",
   "metadata": {},
   "source": [
    "(15.4)=\n",
    "### Example 15.4: Operational Integrator\n",
    "\n",
    "In Section 3.5 of {cite}`eg152` it is given that the differential equation of the *operational inetgrator* illustrated in {numref}`fig:15.4` is\n",
    "\n",
    "$$v_2(t) = -\\frac{1}{RC} \\int_0^t v_1(\\tau)\\, d\\tau.$$\n",
    "\n",
    ":::{figure-md} fig:15.4\n",
    "<img src=\"pictures/eg-152-3.7.png\" alt=\"Schematic of Operational Integrator.\" width=\"60%\">\n",
    "\n",
    "Schematic of Operational Integrator (Figure 3.7 of {cite}`eg152`)\n",
    "\n",
    ":::\n",
    "\n",
    "\n",
    "\n",
    "a) Give the transfer function $H(s) = V_2(s)/V_1(s)$ of the operational interator.\n",
    "\n",
    "b) Compute the impulse and step response of the operational integrator.\n",
    "\n",
    "c) Compute and plot the response of the operational differentiator to three cycles of the input of {numref}`fig:ex12.2`(a) when $V_L = -3$ V, $V_U = 6$ V given that the waveform period $T = 5$ ms, the duty cycle $D = T_A/(T_A + T_B) = 1/3$ and time constant $\\tau = RC = 200$ ms."
   ]
  },
  {
   "cell_type": "markdown",
   "id": "e2d1c5fa",
   "metadata": {
    "slideshow": {
     "slide_type": "notes"
    }
   },
   "source": [
    "## Lab 5"
   ]
  },
  {
   "cell_type": "markdown",
   "id": "c9380840",
   "metadata": {
    "slideshow": {
     "slide_type": "notes"
    }
   },
   "source": [
    "## Summary\n",
    "\n",
    "### Takeaways"
   ]
  },
  {
   "cell_type": "markdown",
   "id": "4a72737e",
   "metadata": {
    "slideshow": {
     "slide_type": "notes"
    }
   },
   "source": [
    "## Next time\n",
    "\n",
    "We will complete this course with an introduction to Frequency response analysis of periodic signals via the Fourier series.\n",
    "\n",
    "* {ref}`unit5`\n",
    "\n",
    "## References\n",
    "\n",
    "```{bibliography}\n",
    ":filter: docname in docnames\n",
    "```"
   ]
  },
  {
   "cell_type": "markdown",
   "id": "669b6754",
   "metadata": {},
   "source": [
    "## Matlab Solutions\n",
    "\n",
    "For convenience, single script MATLAB solutions to the examples are provided and can be downloaded from the accompanying [MATLAB](https://github.com/cpjobling/eg-150-textbook/tree/master/laplace_transform/matlab) folder.\n",
    "\n",
    "* {ref}`ex:15.1` [[example_14.2.mlx](https://cpjobling.github.io/eg-150-textbook/laplace_transform/matlab/example_14.2.mlx)]"
   ]
  }
 ],
 "metadata": {
  "jupytext": {
   "formats": "ipynb,md:myst",
   "text_representation": {
    "extension": ".md",
    "format_name": "myst",
    "format_version": 0.13,
    "jupytext_version": "1.14.4"
   }
  },
  "kernelspec": {
   "display_name": "Matlab",
   "language": "matlab",
   "name": "matlab"
  },
  "language_info": {
   "codemirror_mode": "octave",
   "file_extension": ".m",
   "help_links": [
    {
     "text": "MetaKernel Magics",
     "url": "https://metakernel.readthedocs.io/en/latest/source/README.html"
    }
   ],
   "mimetype": "text/x-octave",
   "name": "matlab",
   "version": "0.17.1"
  },
  "source_map": [
   15,
   20,
   26,
   37,
   49,
   56,
   62,
   66,
   75,
   79,
   88,
   95,
   103,
   107,
   115,
   119,
   127,
   131,
   139,
   143,
   151,
   159,
   163,
   167,
   171,
   180,
   184,
   188,
   196,
   202,
   206,
   210,
   214,
   222,
   226,
   234,
   238,
   246,
   250,
   258,
   262,
   266,
   270,
   278,
   286,
   294,
   298,
   308,
   312,
   320,
   324,
   332,
   336,
   344,
   350,
   358,
   362,
   370,
   374,
   380,
   392,
   396,
   406,
   410,
   418,
   424,
   432,
   438,
   442,
   456,
   460,
   470,
   478,
   488,
   492,
   500,
   504,
   512,
   516,
   524,
   528,
   536,
   540,
   548,
   552,
   560,
   571,
   585,
   595,
   607,
   615,
   630,
   634,
   643,
   653,
   657,
   661,
   666,
   670,
   678,
   686,
   690,
   695,
   708,
   715,
   721,
   728,
   735,
   739,
   747,
   751,
   759,
   765,
   773,
   777,
   783,
   787,
   795,
   801,
   826,
   850,
   874,
   878,
   884,
   898
  ]
 },
 "nbformat": 4,
 "nbformat_minor": 5
}