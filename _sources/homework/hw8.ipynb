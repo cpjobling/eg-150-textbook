{
 "cells": [
  {
   "cell_type": "markdown",
   "id": "55fa551c",
   "metadata": {},
   "source": [
    "(hw8)=\n",
    "# Homework 8\n",
    "\n",
    "For week 8 which covers {ref}`unit4.7` and {ref}`unit4.8`.\n",
    "\n",
    "## Transfer Functions and Computer-Aided Analysis\n",
    "\n",
    "Attempt any of the questions in {ref}`examples14` and {ref}`examples15` that have not been covered in an examples class.\n",
    "\n",
    "The solutions are in {cite}`karris`."
   ]
  }
 ],
 "metadata": {
  "kernelspec": {
   "display_name": "Python 3 (ipykernel)",
   "language": "python",
   "name": "python3"
  },
  "language_info": {
   "codemirror_mode": {
    "name": "ipython",
    "version": 3
   },
   "file_extension": ".py",
   "mimetype": "text/x-python",
   "name": "python",
   "nbconvert_exporter": "python",
   "pygments_lexer": "ipython3",
   "version": "3.11.6"
  }
 },
 "nbformat": 4,
 "nbformat_minor": 5
}
