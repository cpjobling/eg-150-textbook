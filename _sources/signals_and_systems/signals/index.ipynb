{
 "cells": [
  {
   "cell_type": "markdown",
   "id": "05def305",
   "metadata": {
    "slideshow": {
     "slide_type": "slide"
    }
   },
   "source": [
    "(signals1)=\n",
    "# Unit 2.1: Signals and Classification of Signals\n",
    "\n",
    "This section is based on Section 1.2 of {cite}`schaum`."
   ]
  },
  {
   "cell_type": "markdown",
   "id": "f9d6b3ea",
   "metadata": {
    "slideshow": {
     "slide_type": "fragment"
    }
   },
   "source": [
    "Follow along at [cpjobling.github.io/eg-150-textbook/signals_and_systems/signals](https://cpjobling.github.io/eg-150-textbook/signals_and_systems/signals)"
   ]
  },
  {
   "cell_type": "markdown",
   "id": "c0ec7350",
   "metadata": {
    "slideshow": {
     "slide_type": "subslide"
    }
   },
   "source": [
    "A *signal* is a function representing a physical quality of variable, and typically it contains information about the behaviour or nature of the phenomenon."
   ]
  },
  {
   "cell_type": "markdown",
   "id": "49df2a6d",
   "metadata": {
    "slideshow": {
     "slide_type": "fragment"
    }
   },
   "source": [
    "For instance, in an *RC* circuit the signal may represent the voltage across the capacitor or the current flowing in the resistor."
   ]
  },
  {
   "cell_type": "markdown",
   "id": "a0da57af",
   "metadata": {
    "slideshow": {
     "slide_type": "fragment"
    }
   },
   "source": [
    "* Mathematically, a signal is represented as a function of an independent variable, $t$."
   ]
  },
  {
   "cell_type": "markdown",
   "id": "7311c77d",
   "metadata": {
    "slideshow": {
     "slide_type": "fragment"
    }
   },
   "source": [
    "* Usually $t$ represents time."
   ]
  },
  {
   "cell_type": "markdown",
   "id": "9fad58ac",
   "metadata": {
    "slideshow": {
     "slide_type": "fragment"
    }
   },
   "source": [
    "* Thus a signal is denoted by $x(t)$."
   ]
  },
  {
   "cell_type": "markdown",
   "id": "751d9507",
   "metadata": {
    "slideshow": {
     "slide_type": "notes"
    }
   },
   "source": [
    "## Subjects to be covered\n",
    "\n",
    "* {ref}`ct_signals`\n",
    "* {ref}`dt_signals`\n",
    "* {ref}`a_n_d`\n",
    "* {ref}`r_n_c`\n",
    "* {ref}`det_n_rand`\n",
    "* {ref}`even_n_odd`"
   ]
  },
  {
   "cell_type": "markdown",
   "id": "4276d103",
   "metadata": {
    "slideshow": {
     "slide_type": "slide"
    }
   },
   "source": [
    "(ct_signals)=\n",
    "## Continuous-Time Signals"
   ]
  },
  {
   "cell_type": "markdown",
   "id": "83f2ce16",
   "metadata": {
    "slideshow": {
     "slide_type": "fragment"
    }
   },
   "source": [
    "A signal $x(t)$ is a *continuous-time* (CT) signal if $t$ is a continuous variable. For an example of a continuous-time signal, please see {numref}`ct-signal`."
   ]
  },
  {
   "cell_type": "markdown",
   "id": "b3966f69",
   "metadata": {
    "slideshow": {
     "slide_type": "subslide"
    }
   },
   "source": [
    ":::{figure-md} ct-signal\n",
    "<img src=\"./pictures/ct-signal.png\" alt=\"Graphical representation of a continuous-time signal.\" width=\"60%\">\n",
    "\n",
    "Graphical representation of a continuous-time signal\n",
    ":::"
   ]
  },
  {
   "cell_type": "markdown",
   "id": "292271ef",
   "metadata": {
    "slideshow": {
     "slide_type": "slide"
    }
   },
   "source": [
    "(dt_signals)=\n",
    "## Discrete-Time Signals"
   ]
  },
  {
   "cell_type": "markdown",
   "id": "16c2ad30",
   "metadata": {
    "slideshow": {
     "slide_type": "fragment"
    }
   },
   "source": [
    "If $t$ is a discrete variable&mdash;that is, $x(t)$ is defined at discrete times&mdash;then $x(t)$ is a *discrete-time* (DT) signal. For an example of a discrete-time signal, please see {numref}`dt-signal`."
   ]
  },
  {
   "cell_type": "markdown",
   "id": "737606f0",
   "metadata": {
    "slideshow": {
     "slide_type": "subslide"
    }
   },
   "source": [
    ":::{figure-md} dt-signal\n",
    "<img src=\"./pictures/dt-signal.png\" alt=\"Graphical representation of a discrete-time signal.\" width=\"60%\">\n",
    "\n",
    "Graphical representation of a discrete-time signal\n",
    ":::"
   ]
  },
  {
   "cell_type": "markdown",
   "id": "5e99aa86",
   "metadata": {
    "slideshow": {
     "slide_type": "notes"
    }
   },
   "source": [
    "Since a discrete-time signal is defined at discrete times, a discrete-time is often defined as a *sequence* of numbers, donated by $x[n]$, where $n$ is an integer (mathematically: $n \\in \\mathbb{Z}$)."
   ]
  },
  {
   "cell_type": "markdown",
   "id": "f9d5b7bd",
   "metadata": {
    "slideshow": {
     "slide_type": "notes"
    }
   },
   "source": [
    "Because discrete-time signals are defined as sequences, it is easy to define and plot a sequence in MATLAB. For example, to redraw {ref}`dt-signal`, execute the following code."
   ]
  },
  {
   "cell_type": "code",
   "execution_count": 1,
   "id": "78881b96",
   "metadata": {
    "slideshow": {
     "slide_type": "notes"
    }
   },
   "outputs": [
    {
     "data": {
      "image/png": "[encoded data removed]",
      "text/plain": [
       "<IPython.core.display.Image object>"
      ]
     },
     "metadata": {
      "filenames": {
       "image/png": "/Users/eechris/code/src/github.com/cpjobling/eg-150-textbook/_build/jupyter_execute/signals_and_systems/signals/index_16_0.png"
      }
     },
     "output_type": "display_data"
    }
   ],
   "source": [
    "n = -5:6;\n",
    "xn = [0,0,1,2,2,1,0,1,0,2,0,0];\n",
    "stem(n,xn),title('Graphical representation of a discrete-time signal'),xlabel('n'),ylabel('x[n]')"
   ]
  },
  {
   "cell_type": "markdown",
   "id": "031ce2bf",
   "metadata": {
    "slideshow": {
     "slide_type": "subslide"
    }
   },
   "source": [
    "(dt_signals)=\n",
    "### More on discrete-time signals\n",
    "\n",
    "A discrete-time signal $x[n]$ may represent a phenomenon for which the independent variable is inherently discrete: e.g. daily stock market average prices."
   ]
  },
  {
   "cell_type": "markdown",
   "id": "879d221f",
   "metadata": {
    "slideshow": {
     "slide_type": "fragment"
    }
   },
   "source": [
    "E.g. [FTSE 100](https://www.londonstockexchange.com/indices/ftse-100) ({numref}`ftse-100`)\n",
    "\n",
    ":::{figure-md} ftse-100\n",
    "<img src=\"pictures/Chart_FTSE_100.png\" alt=\"An example of discrete data from the FTSE 100.\">\n",
    "\n",
    "An example of discrete data&mdash;the FTSE 100. Year from Dec. 2021 to Novemver 2022. (c) London Stock Exchange.\n",
    ":::"
   ]
  },
  {
   "cell_type": "markdown",
   "id": "74ce0d0f",
   "metadata": {
    "slideshow": {
     "slide_type": "subslide"
    }
   },
   "source": [
    "### Sampled data\n",
    "\n",
    "In electronic engineering, we mostly use discrete-time signals to represent the *sampling* of continuous-time signals."
   ]
  },
  {
   "cell_type": "markdown",
   "id": "4e0d4984",
   "metadata": {
    "slideshow": {
     "slide_type": "fragment"
    }
   },
   "source": [
    "For example, a discrete-time signal $x[n]$ may be obtained by *sampling* a continuous-time signal $x(t)$ such as\n",
    "\n",
    "$$x(t_0), x(t_1), x(t_2),\\ldots,x(t_n),\\ldots$$"
   ]
  },
  {
   "cell_type": "markdown",
   "id": "ecfab3dc",
   "metadata": {
    "slideshow": {
     "slide_type": "fragment"
    }
   },
   "source": [
    "or in a shorter form as\n",
    "\n",
    "$$x[0], x[1], x[2],\\ldots,x[n],\\ldots$$\n",
    "\n",
    "$$x_0,x_1, x_2,\\ldots,x_n,\\ldots$$"
   ]
  },
  {
   "cell_type": "markdown",
   "id": "82f0d65d",
   "metadata": {
    "slideshow": {
     "slide_type": "fragment"
    }
   },
   "source": [
    "where\n",
    "\n",
    "$$x[n]_n = x[n] = x(t_n)$$"
   ]
  },
  {
   "cell_type": "markdown",
   "id": "b141e06f",
   "metadata": {
    "slideshow": {
     "slide_type": "fragment"
    }
   },
   "source": [
    "The $x_n$'s are called *samples* and the time interval between them is called the *sampling interval*."
   ]
  },
  {
   "cell_type": "markdown",
   "id": "388ad5a6",
   "metadata": {
    "slideshow": {
     "slide_type": "subslide"
    }
   },
   "source": [
    "### Uniform sampling\n",
    "\n",
    "When the sampling intervals are equal (uniform sampling), then\n",
    "\n",
    "$$x_n = x[n] = x(nT_s)$$\n",
    "\n",
    "where the constant $T_s$ is the sampling interval."
   ]
  },
  {
   "cell_type": "markdown",
   "id": "b5947444",
   "metadata": {
    "slideshow": {
     "slide_type": "subslide"
    }
   },
   "source": [
    "There is much more about discrete-time signals in Chapter 1 of {cite}`schaum` but we will leave it here for now. \n",
    "\n",
    "We will return to the study of discrete-time signals and discrete-time systems in **EG-247 Signals and Systems** next year."
   ]
  },
  {
   "cell_type": "markdown",
   "id": "08d6cf37",
   "metadata": {
    "slideshow": {
     "slide_type": "slide"
    }
   },
   "source": [
    "(a_n_d)=\n",
    "## Analogue and Digital Signals\n",
    "\n",
    "If a continuous-time signal $x(t)$ can take on any value in the continuous interval $(a,b)$, where $a$ may be $-\\infty$ and $b$ may be $+\\infty$, then the continuous-time signal $x(t)$ is called an *analogue* signal."
   ]
  },
  {
   "cell_type": "markdown",
   "id": "4f620a3b",
   "metadata": {
    "slideshow": {
     "slide_type": "fragment"
    }
   },
   "source": [
    "If a discrete-time signal $x[n]$ can take on only a finite number of distinct values, then we call this signal a *digital signal*."
   ]
  },
  {
   "cell_type": "markdown",
   "id": "b06aea43",
   "metadata": {
    "slideshow": {
     "slide_type": "fragment"
    }
   },
   "source": [
    "In modern electronics, most physical phenomena which we wish to deal are represented by analogue signals. But more often than not these days, we will process such data by sampling the signals and converting them into digital signals."
   ]
  },
  {
   "cell_type": "markdown",
   "id": "9b3e2518",
   "metadata": {
    "slideshow": {
     "slide_type": "subslide"
    }
   },
   "source": [
    "(r_n_c)=\n",
    "## Real and Complex Signals\n",
    "\n",
    "A signal $x(t)$ is a *real* signal if its value if a real number, and a signal $x(t)$ is a *complex* signal if its value is a complex number."
   ]
  },
  {
   "cell_type": "markdown",
   "id": "4f8f2499",
   "metadata": {
    "slideshow": {
     "slide_type": "fragment"
    }
   },
   "source": [
    "A general complex signal is a signal $x(t)$ is a function of the form\n",
    "\n",
    "$$x(t) = x_1(t) + jx_2(t)$$\n",
    "\n",
    "where $x_1(t)$ and $x_2(t)$ are real signals and $j=\\sqrt{-1}$."
   ]
  },
  {
   "cell_type": "markdown",
   "id": "6c2e13c1",
   "metadata": {
    "slideshow": {
     "slide_type": "notes"
    }
   },
   "source": [
    "Note that $t$ could represent either a comtinuous or a discrete variable."
   ]
  },
  {
   "cell_type": "markdown",
   "id": "7a192806",
   "metadata": {
    "slideshow": {
     "slide_type": "fragment"
    }
   },
   "source": [
    "We won't see any examples of complex signals in this course."
   ]
  },
  {
   "cell_type": "markdown",
   "id": "62e737b2",
   "metadata": {
    "slideshow": {
     "slide_type": "slide"
    }
   },
   "source": [
    "(det_n_rand)=\n",
    "## Deterministic and Random Signals\n",
    "\n",
    "*Deterministic signals* are those signals whose values are completely specified for any given time. Thus a deterministic signal can be modelled by a known function of time $t$."
   ]
  },
  {
   "cell_type": "markdown",
   "id": "6a0371fb",
   "metadata": {
    "slideshow": {
     "slide_type": "fragment"
    }
   },
   "source": [
    "For example consider $x(t) = 5 \\sin(10 t + \\pi/4)$"
   ]
  },
  {
   "cell_type": "code",
   "execution_count": 2,
   "id": "1fe88404",
   "metadata": {
    "slideshow": {
     "slide_type": "fragment"
    }
   },
   "outputs": [
    {
     "data": {
      "image/png": "[encoded data removed]",
      "text/plain": [
       "<IPython.core.display.Image object>"
      ]
     },
     "metadata": {
      "filenames": {
       "image/png": "/Users/eechris/code/src/github.com/cpjobling/eg-150-textbook/_build/jupyter_execute/signals_and_systems/signals/index_35_0.png"
      }
     },
     "output_type": "display_data"
    }
   ],
   "source": [
    "t = linspace(0,2*pi*20,100);\n",
    "xt = 5*sin(10*t + pi/4);\n",
    "plot(t,xt),grid,xlabel('t'),ylabel('x(t)')"
   ]
  },
  {
   "cell_type": "markdown",
   "id": "2d7ec1c4",
   "metadata": {
    "slideshow": {
     "slide_type": "subslide"
    }
   },
   "source": [
    "### Random signals\n",
    "\n",
    "*Random signals* are those signals that take random values at any given time and must be characterised statistically."
   ]
  },
  {
   "cell_type": "markdown",
   "id": "e95649ea",
   "metadata": {
    "slideshow": {
     "slide_type": "fragment"
    }
   },
   "source": [
    "Random signals are often used to simulate noise on a signal."
   ]
  },
  {
   "cell_type": "code",
   "execution_count": 3,
   "id": "51861f92",
   "metadata": {
    "slideshow": {
     "slide_type": "fragment"
    }
   },
   "outputs": [
    {
     "data": {
      "image/png": "[encoded data removed]",
      "text/plain": [
       "<IPython.core.display.Image object>"
      ]
     },
     "metadata": {
      "filenames": {
       "image/png": "/Users/eechris/code/src/github.com/cpjobling/eg-150-textbook/_build/jupyter_execute/signals_and_systems/signals/index_38_0.png"
      }
     },
     "output_type": "display_data"
    }
   ],
   "source": [
    "%% Plot a Random Signal\n",
    "plot(0.5 + 0.25 * rand(100,1)),ylim([0,1]),grid,title('Random Signal'),...\n",
    "xlabel('Time t (s)'),ylabel('Amplitude')"
   ]
  },
  {
   "cell_type": "markdown",
   "id": "a53b385d",
   "metadata": {
    "slideshow": {
     "slide_type": "notes"
    }
   },
   "source": [
    "We will not discuss random signals in this module or the next, but if you are interested, they are covered in detail in Chapters 8 and 9 of {cite}`schaum`."
   ]
  },
  {
   "cell_type": "markdown",
   "id": "bb0cc178",
   "metadata": {
    "slideshow": {
     "slide_type": "subslide"
    }
   },
   "source": [
    "(even_n_odd)=\n",
    "## Even and Odd Signals"
   ]
  },
  {
   "cell_type": "markdown",
   "id": "610682a1",
   "metadata": {
    "slideshow": {
     "slide_type": "subslide"
    }
   },
   "source": [
    "### An even signal \n",
    "\n",
    "A signal $x(t)$ is referred to as an *even* signal if\n",
    "\n",
    "$$x(t) = x(-t)$$\n",
    "\n",
    "See {numref}`even-signal` for an example of an even signal."
   ]
  },
  {
   "cell_type": "markdown",
   "id": "1512915d",
   "metadata": {
    "slideshow": {
     "slide_type": "subslide"
    }
   },
   "source": [
    ":::{figure-md} even-signal\n",
    "<img src=\"pictures/even-signal.png\" alt=\"An example of an even signal\" width=\"60%\">\n",
    "\n",
    "An example of an even signal\n",
    ":::"
   ]
  },
  {
   "cell_type": "markdown",
   "id": "22cee660",
   "metadata": {
    "slideshow": {
     "slide_type": "subslide"
    }
   },
   "source": [
    "### An odd signal \n",
    "\n",
    "A signal $x(t)$ is referred to as an *odd* signal if\n",
    "\n",
    "$$x(-t) = -x(t)$$\n",
    "\n",
    "See {numref}`odd-signal` for an example of an odd signal."
   ]
  },
  {
   "cell_type": "markdown",
   "id": "fe30d506",
   "metadata": {
    "slideshow": {
     "slide_type": "subslide"
    }
   },
   "source": [
    ":::{figure-md} odd-signal\n",
    "<img src=\"pictures/odd-signal.png\" alt=\"An example of an even signal\" width=\"60%\">\n",
    "\n",
    "An example of an even signal\n",
    ":::"
   ]
  },
  {
   "cell_type": "markdown",
   "id": "7d40e02a",
   "metadata": {
    "slideshow": {
     "slide_type": "fragment"
    }
   },
   "source": [
    "A signal $x(t)$ is referred to as an *even* signal if\n",
    "\n",
    "$$x(t) = x(-t)$$"
   ]
  },
  {
   "cell_type": "markdown",
   "id": "196c8b2e",
   "metadata": {
    "slideshow": {
     "slide_type": "fragment"
    }
   },
   "source": [
    "### Decomposing signals into even and odd parts\n",
    "\n",
    "Any signal $x(t)$ can be expressed as the sum of two signals, one of which is even and one of which is odd. That is:\n",
    "\n",
    "$$x(t) = x_e(t) + x_o(t)$$"
   ]
  },
  {
   "cell_type": "markdown",
   "id": "6f999860",
   "metadata": {
    "slideshow": {
     "slide_type": "fragment"
    }
   },
   "source": [
    "Where\n",
    "\n",
    "$$x_e(t) = \\frac{1}{2}\\left\\{x(t) + x(-t)\\right\\}$$"
   ]
  },
  {
   "cell_type": "markdown",
   "id": "51abaf5c",
   "metadata": {
    "slideshow": {
     "slide_type": "fragment"
    }
   },
   "source": [
    "$$x_o(t) = \\frac{1}{2}\\left\\{x(t) - x(-t)\\right\\}$$"
   ]
  },
  {
   "cell_type": "markdown",
   "id": "8aaf0558",
   "metadata": {
    "slideshow": {
     "slide_type": "fragment"
    }
   },
   "source": [
    "Note the product of two even signals or two odd signals is an even signal and that the product of an even signal and an odd signal is an odd signal."
   ]
  },
  {
   "cell_type": "markdown",
   "id": "682e8c23",
   "metadata": {
    "slideshow": {
     "slide_type": "slide"
    }
   },
   "source": [
    "(worked_examples_1)=\n",
    "## Examples 1"
   ]
  },
  {
   "cell_type": "markdown",
   "id": "15a8ba5f",
   "metadata": {
    "slideshow": {
     "slide_type": "subslide"
    }
   },
   "source": [
    "(ex1.1)=\n",
    "### Example 1.1: Signals\n",
    "\n",
    "`````{admonition} MATLAB Example\n",
    ":class: tip\n",
    "We will solve these examples by hand and then give the solution in the MATLAB lab.\n",
    "`````\n",
    "\n",
    "A continuous-time signal $x(t)$ is shown in {numref}`example1`. \n",
    "\n",
    ":::{figure-md} example1\n",
    "<img src=\"pictures/example1.png\" alt=\"The signal for example 1\" width=\"60%\">\n",
    "\n",
    "The signal for Example 1.1\n",
    ":::"
   ]
  },
  {
   "cell_type": "markdown",
   "id": "3e3e38f6",
   "metadata": {
    "slideshow": {
     "slide_type": "subslide"
    }
   },
   "source": [
    "Sketch and label each of the following signals.\n",
    "\n",
    "a). $x(t-2)$;"
   ]
  },
  {
   "cell_type": "markdown",
   "id": "5d9a7f51",
   "metadata": {
    "slideshow": {
     "slide_type": "fragment"
    }
   },
   "source": [
    "b). $x(2t)$;"
   ]
  },
  {
   "cell_type": "markdown",
   "id": "f63353fa",
   "metadata": {
    "slideshow": {
     "slide_type": "fragment"
    }
   },
   "source": [
    "c). $x(2/t)$;"
   ]
  },
  {
   "cell_type": "markdown",
   "id": "9254620c",
   "metadata": {
    "slideshow": {
     "slide_type": "fragment"
    }
   },
   "source": [
    "d). $x(-t)$."
   ]
  },
  {
   "cell_type": "markdown",
   "id": "f9039b50",
   "metadata": {
    "slideshow": {
     "slide_type": "notes"
    }
   },
   "source": [
    "For the answer, refer to the lecture recording or see solved problem 1.1 in {cite}`schaum`"
   ]
  },
  {
   "cell_type": "markdown",
   "id": "e877655c",
   "metadata": {
    "slideshow": {
     "slide_type": "subslide"
    }
   },
   "source": [
    "(ex1.2)=\n",
    "### Example 1.2: Uniform sampling\n",
    "\n",
    "`````{admonition} MATLAB Example\n",
    ":class: tip\n",
    "We will solve these examples by hand and then give the solution in the MATLAB lab.\n",
    "`````"
   ]
  },
  {
   "cell_type": "markdown",
   "id": "b153ddea",
   "metadata": {
    "slideshow": {
     "slide_type": "fragment"
    }
   },
   "source": [
    "(ex1.2)=\n",
    "\n",
    "1.2). Given the continuous-time signal specified by\n",
    "\n",
    "$$x\\left(t\\right)=\\left\\lbrace \\begin{array}{ll}\n",
    "1-\\left|t\\right| & -1\\le t\\le 1\\\\\n",
    "0 & \\mathrm{otherwise}\n",
    "\\end{array}\\right.$$\n",
    "\n",
    "determine the discrete-time sequence obtained by uniform sampling of $x(t)$ with a sampling interval of"
   ]
  },
  {
   "cell_type": "markdown",
   "id": "df587f05",
   "metadata": {
    "slideshow": {
     "slide_type": "fragment"
    }
   },
   "source": [
    "a). 0.25 s"
   ]
  },
  {
   "cell_type": "markdown",
   "id": "b2cac0c5",
   "metadata": {
    "slideshow": {
     "slide_type": "fragment"
    }
   },
   "source": [
    "b). 0.5 s, and"
   ]
  },
  {
   "cell_type": "markdown",
   "id": "0784a7ee",
   "metadata": {
    "slideshow": {
     "slide_type": "fragment"
    }
   },
   "source": [
    "c). 1 s."
   ]
  },
  {
   "cell_type": "markdown",
   "id": "b3a8f1cb",
   "metadata": {
    "slideshow": {
     "slide_type": "notes"
    }
   },
   "source": [
    "For the answer, refer to the lecture recording or see solved problem 1.3 in {cite}`schaum`."
   ]
  },
  {
   "cell_type": "markdown",
   "id": "bc9c0b62",
   "metadata": {
    "slideshow": {
     "slide_type": "subslide"
    }
   },
   "source": [
    "(ex1.3)=\n",
    "### Example 1.3: Odd and even signals\n",
    "\n",
    "`````{admonition} MATLAB Example\n",
    ":class: tip\n",
    "We will solve these examples by hand and then give the solution in the MATLAB lab.\n",
    "`````"
   ]
  },
  {
   "cell_type": "markdown",
   "id": "0982d70f",
   "metadata": {
    "slideshow": {
     "slide_type": "fragment"
    }
   },
   "source": [
    "Sketch and label the even and odd components of the signals shown in {numref}`example3`.\n",
    "\n",
    "\n",
    ":::{figure-md} example3\n",
    "<img src=\"pictures/example3.png\" alt=\"Signals for Example 3.\" width=\"75%\">\n",
    "\n",
    "Signals for Example 1.3.\n",
    ":::"
   ]
  },
  {
   "cell_type": "markdown",
   "id": "e66c325b",
   "metadata": {
    "slideshow": {
     "slide_type": "notes"
    }
   },
   "source": [
    "For the answer, refer to the lecture recording or see solved problem 1.5 in {cite}`schaum`."
   ]
  },
  {
   "cell_type": "markdown",
   "id": "7eca5bf2",
   "metadata": {
    "slideshow": {
     "slide_type": "subslide"
    }
   },
   "source": [
    "(ex1.4)=\n",
    "\n",
    "### Example 1.4\n",
    "\n",
    "Find the odd and even components of $x(t) = e^{jt}$."
   ]
  },
  {
   "cell_type": "markdown",
   "id": "6dd06935",
   "metadata": {
    "slideshow": {
     "slide_type": "notes"
    }
   },
   "source": [
    "For the answer, refer to the lecture recording or see solved problem 1.6 in {cite}`schaum`."
   ]
  },
  {
   "cell_type": "markdown",
   "id": "c30c931e",
   "metadata": {
    "slideshow": {
     "slide_type": "subslide"
    }
   },
   "source": [
    "(ex1.5)=\n",
    "\n",
    "### Example 1.5\n",
    "\n",
    "Show that the product of two even signals or of two odd signals is an even signal and that the product of an even signal and an odd signal is an odd signal."
   ]
  },
  {
   "cell_type": "markdown",
   "id": "4bce5ceb",
   "metadata": {
    "slideshow": {
     "slide_type": "notes"
    }
   },
   "source": [
    "For the answer, refer to the lecture recording or see solved problem 1.7 in {cite}`schaum`."
   ]
  },
  {
   "cell_type": "markdown",
   "id": "c2faa2a4",
   "metadata": {
    "slideshow": {
     "slide_type": "subslide"
    }
   },
   "source": [
    "(ex1.6)=\n",
    "\n",
    "### Example 1.6\n",
    "\n",
    "Show that \n",
    "\n",
    "a). If $x(t)$ is even \n",
    "\n",
    "$$\\int_{-a}^{a} x(t)\\, dt = 2 \\int_0^a x(t)\\, dt.$$"
   ]
  },
  {
   "cell_type": "markdown",
   "id": "f8cd8382",
   "metadata": {
    "slideshow": {
     "slide_type": "fragment"
    }
   },
   "source": [
    "b). If $x(t)$ is odd \n",
    "\n",
    "$$x(0) = 0$$\n",
    "\n",
    "$$\\int_{-a}^{a} x(t)\\, dt = 0.$$"
   ]
  },
  {
   "cell_type": "markdown",
   "id": "9f017009",
   "metadata": {
    "slideshow": {
     "slide_type": "notes"
    }
   },
   "source": [
    "For the answer, refer to the lecture recording or see solved problem 1.8 in {cite}`schaum`."
   ]
  },
  {
   "cell_type": "markdown",
   "id": "5526d708",
   "metadata": {
    "slideshow": {
     "slide_type": "notes"
    }
   },
   "source": [
    "## Summary\n",
    "\n",
    "In this lecture we have started our look at signals and the classification of signals. \n",
    "\n",
    "In particular we have looked at\n",
    "\n",
    "* {ref}`ct_n_dt`\n",
    "* {ref}`dt_signals`\n",
    "* {ref}`a_n_d`\n",
    "* {ref}`r_n_c`\n",
    "* {ref}`det_n_rand`\n",
    "* {ref}`even_n_odd`"
   ]
  },
  {
   "cell_type": "markdown",
   "id": "401d1c51",
   "metadata": {
    "slideshow": {
     "slide_type": "notes"
    }
   },
   "source": [
    "## Next Time\n",
    "\n",
    "* {ref}`p_n_np`\n",
    "* {ref}`e_n_p`"
   ]
  }
 ],
 "metadata": {
  "jupytext": {
   "formats": "ipynb,md:myst",
   "text_representation": {
    "extension": ".md",
    "format_name": "myst",
    "format_version": 0.13,
    "jupytext_version": "1.14.4"
   }
  },
  "kernelspec": {
   "display_name": "Matlab",
   "language": "matlab",
   "name": "matlab"
  },
  "language_info": {
   "codemirror_mode": "octave",
   "file_extension": ".m",
   "help_links": [
    {
     "text": "MetaKernel Magics",
     "url": "https://metakernel.readthedocs.io/en/latest/source/README.html"
    }
   ],
   "mimetype": "text/x-octave",
   "name": "matlab",
   "version": "0.17.1"
  },
  "source_map": [
   15,
   22,
   26,
   30,
   34,
   38,
   42,
   46,
   57,
   62,
   66,
   74,
   79,
   83,
   91,
   95,
   99,
   109,
   116,
   126,
   132,
   138,
   146,
   152,
   156,
   166,
   172,
   179,
   183,
   187,
   194,
   202,
   206,
   210,
   217,
   221,
   231,
   237,
   241,
   251,
   255,
   260,
   270,
   278,
   288,
   296,
   302,
   310,
   316,
   320,
   324,
   329,
   347,
   353,
   357,
   361,
   365,
   369,
   379,
   392,
   396,
   400,
   404,
   408,
   418,
   429,
   433,
   441,
   445,
   453,
   457,
   469,
   477,
   481,
   496
  ]
 },
 "nbformat": 4,
 "nbformat_minor": 5
}