{
 "cells": [
  {
   "cell_type": "markdown",
   "id": "36cdab5d",
   "metadata": {
    "slideshow": {
     "slide_type": "slide"
    }
   },
   "source": [
    "# Signals and Classification of Signals\n",
    "\n",
    "This section is based on Section 1.2 of {cite}`schaum`.\n",
    "\n",
    "A *signal* is a function representing a phyiscial quality of variable, and typically it comtains information about the behaviour or nature of the phenomenon. For instance, in an *RC* circuit the signal may represent the voltage across the capacitor or the current flowing in the resistor."
   ]
  },
  {
   "cell_type": "markdown",
   "id": "fd61bd4f",
   "metadata": {
    "slideshow": {
     "slide_type": "fragment"
    }
   },
   "source": [
    "* Mathematically, a signal is represented as a function of an independent variable, $t$."
   ]
  },
  {
   "cell_type": "markdown",
   "id": "ee03d743",
   "metadata": {
    "slideshow": {
     "slide_type": "fragment"
    }
   },
   "source": [
    "* Usually $t$ represents time."
   ]
  },
  {
   "cell_type": "markdown",
   "id": "b4ce0f39",
   "metadata": {
    "slideshow": {
     "slide_type": "fragment"
    }
   },
   "source": [
    "* Thus a signal is denoted by $x(t)$."
   ]
  },
  {
   "cell_type": "markdown",
   "id": "3f50bee8",
   "metadata": {
    "slideshow": {
     "slide_type": "subslide"
    }
   },
   "source": [
    "## Continuous-Time and Discrete-Time Signals"
   ]
  },
  {
   "cell_type": "markdown",
   "id": "7e98b751",
   "metadata": {
    "slideshow": {
     "slide_type": "fragment"
    }
   },
   "source": [
    "A signal $x(t)$ is a *continuous-time* (CT) signal if $t$ is a continuous variable. For an example of a continuous-time signal, please see {ref}`ct-signal`."
   ]
  },
  {
   "cell_type": "markdown",
   "id": "3a469909",
   "metadata": {
    "slideshow": {
     "slide_type": "fragment"
    }
   },
   "source": [
    "If $t$ is a discrete variable&mdash;that is, $x(t)$ is defined at discrete times&mdash;then $x(t)$ is a *discrete-time* (DT) signal. For an example of a discrete-time signal, please see {ref}`tt-signal`."
   ]
  },
  {
   "cell_type": "markdown",
   "id": "ffa9d984",
   "metadata": {
    "slideshow": {
     "slide_type": "notes"
    }
   },
   "source": [
    "Since a discrete-time signal is defined at discrete times, a discrete-time is often defined as a *sequence* of numbers, donated by $x[n]$, where $n$ is an integer (mathematically: $n \\in \\mathbb{Z}$)."
   ]
  },
  {
   "cell_type": "markdown",
   "id": "b2d7dc68",
   "metadata": {
    "slideshow": {
     "slide_type": "subslide"
    }
   },
   "source": [
    ":::{figure-md} ct-signal\n",
    "<img src=\"./pictures/ct-signal.png\" alt=\"Graphical representation of a continuous-time signal.\">\n",
    "\n",
    "Graphical representation of a continuous-time signal\n",
    ":::"
   ]
  },
  {
   "cell_type": "markdown",
   "id": "752e4921",
   "metadata": {
    "slideshow": {
     "slide_type": "subslide"
    }
   },
   "source": [
    ":::{figure-md} dt-signal\n",
    "<img src=\"./pictures/dt-signal.png\" alt=\"Graphical representation of a discrete-time signal.\">\n",
    "\n",
    "Graphical representation of a discrete-time signal\n",
    ":::"
   ]
  },
  {
   "cell_type": "markdown",
   "id": "62e577fa",
   "metadata": {
    "slideshow": {
     "slide_type": "notes"
    }
   },
   "source": [
    "Because discrete-time signals are defined as sequences, it is easy to define and plot a sequence in MATLAB. For example, to redraw Fig. {ref}`dt-signal`, execute the following code."
   ]
  },
  {
   "cell_type": "code",
   "execution_count": 1,
   "id": "8c44fdbd",
   "metadata": {
    "slideshow": {
     "slide_type": "notes"
    }
   },
   "outputs": [
    {
     "data": {
      "image/png": "[encoded data removed]",
      "text/plain": [
       "<IPython.core.display.Image object>"
      ]
     },
     "metadata": {
      "filenames": {
       "image/png": "/Users/eechris/code/src/github.com/cpjobling/eg-150-textbook/_build/jupyter_execute/signals_and_systems/signals/index_11_0.png"
      }
     },
     "output_type": "display_data"
    }
   ],
   "source": [
    "n = -5:6;\n",
    "xn = [0,0,1,2,2,1,0,1,0,2,0,0];\n",
    "stem(n,xn),title('Graphical representation of a discrete-time signal'),xlabel('n'),ylabel('x[n]')"
   ]
  },
  {
   "cell_type": "markdown",
   "id": "cae03674",
   "metadata": {
    "slideshow": {
     "slide_type": "subslide"
    }
   },
   "source": [
    "## Analogue and Digital Signals"
   ]
  },
  {
   "cell_type": "markdown",
   "id": "ef327b8e",
   "metadata": {
    "slideshow": {
     "slide_type": "subslide"
    }
   },
   "source": [
    "## Real and Complex Signals"
   ]
  },
  {
   "cell_type": "markdown",
   "id": "f54ae585",
   "metadata": {
    "slideshow": {
     "slide_type": "subslide"
    }
   },
   "source": [
    "## Deterministic and Random Signals"
   ]
  },
  {
   "cell_type": "markdown",
   "id": "54592e0d",
   "metadata": {
    "slideshow": {
     "slide_type": "subslide"
    }
   },
   "source": [
    "## Even and Odd Signals"
   ]
  },
  {
   "cell_type": "markdown",
   "id": "c49e2421",
   "metadata": {
    "slideshow": {
     "slide_type": "subslide"
    }
   },
   "source": [
    "## Energy and Power Signals"
   ]
  }
 ],
 "metadata": {
  "jupytext": {
   "formats": "ipynb,md:myst",
   "text_representation": {
    "extension": ".md",
    "format_name": "myst",
    "format_version": 0.13,
    "jupytext_version": "1.14.0"
   }
  },
  "kernelspec": {
   "display_name": "Matlab",
   "language": "matlab",
   "name": "matlab"
  },
  "language_info": {
   "codemirror_mode": "octave",
   "file_extension": ".m",
   "help_links": [
    {
     "text": "MetaKernel Magics",
     "url": "https://metakernel.readthedocs.io/en/latest/source/README.html"
    }
   ],
   "mimetype": "text/x-octave",
   "name": "matlab",
   "version": "0.17.1"
  },
  "source_map": [
   15,
   23,
   27,
   31,
   35,
   39,
   43,
   47,
   51,
   59,
   67,
   71,
   81,
   85,
   89,
   93,
   97
  ]
 },
 "nbformat": 4,
 "nbformat_minor": 5
}