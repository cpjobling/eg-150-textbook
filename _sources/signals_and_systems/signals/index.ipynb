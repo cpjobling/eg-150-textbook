{
 "cells": [
  {
   "cell_type": "markdown",
   "id": "b4fd656f",
   "metadata": {
    "slideshow": {
     "slide_type": "slide"
    }
   },
   "source": [
    "# Signals and Classification of Signals\n",
    "\n",
    "This section is based on Section 1.2 of {cite}`schaum`.\n",
    "\n",
    "A *signal* is a function representing a phyiscial quality of variable, and typically it comtains information about the behaviour or nature of the phenomenon. For instance, in an *RC* circuit the signal may represent the voltage across the capacitor or the current flowing in the resistor."
   ]
  },
  {
   "cell_type": "markdown",
   "id": "259e55d5",
   "metadata": {
    "slideshow": {
     "slide_type": "fragment"
    }
   },
   "source": [
    "* Mathematically, a signal is represented as a function of an independent variable, $t$."
   ]
  },
  {
   "cell_type": "markdown",
   "id": "bf478c3d",
   "metadata": {
    "slideshow": {
     "slide_type": "fragment"
    }
   },
   "source": [
    "* Usually $t$ represents time."
   ]
  },
  {
   "cell_type": "markdown",
   "id": "91761447",
   "metadata": {
    "slideshow": {
     "slide_type": "fragment"
    }
   },
   "source": [
    "* Thus a signal is denoted by $x(t)$."
   ]
  },
  {
   "cell_type": "markdown",
   "id": "294e6376",
   "metadata": {
    "slideshow": {
     "slide_type": "subslide"
    }
   },
   "source": [
    "## Continuous-Time and Discrete-Time Signals"
   ]
  },
  {
   "cell_type": "markdown",
   "id": "ca816518",
   "metadata": {
    "slideshow": {
     "slide_type": "subslide"
    }
   },
   "source": [
    "## Analogue and Digital Signals"
   ]
  },
  {
   "cell_type": "markdown",
   "id": "c8578bf4",
   "metadata": {
    "slideshow": {
     "slide_type": "subslide"
    }
   },
   "source": [
    "## Real and Complex Signals"
   ]
  },
  {
   "cell_type": "markdown",
   "id": "dd169858",
   "metadata": {
    "slideshow": {
     "slide_type": "subslide"
    }
   },
   "source": [
    "## Deterministic and Random Signals"
   ]
  },
  {
   "cell_type": "markdown",
   "id": "6f5c4735",
   "metadata": {
    "slideshow": {
     "slide_type": "subslide"
    }
   },
   "source": [
    "## Even and Odd Signals"
   ]
  },
  {
   "cell_type": "markdown",
   "id": "6b6a1df0",
   "metadata": {
    "slideshow": {
     "slide_type": "subslide"
    }
   },
   "source": [
    "## Energy and Power Signals"
   ]
  }
 ],
 "metadata": {
  "jupytext": {
   "formats": "ipynb,md:myst",
   "text_representation": {
    "extension": ".md",
    "format_name": "myst",
    "format_version": 0.13,
    "jupytext_version": "1.14.0"
   }
  },
  "kernelspec": {
   "display_name": "Matlab",
   "language": "matlab",
   "name": "matlab"
  },
  "language_info": {
   "codemirror_mode": "octave",
   "file_extension": ".m",
   "help_links": [
    {
     "text": "MetaKernel Magics",
     "url": "https://metakernel.readthedocs.io/en/latest/source/README.html"
    }
   ],
   "mimetype": "text/x-octave",
   "name": "matlab",
   "version": "0.17.1"
  },
  "source_map": [
   15,
   23,
   27,
   31,
   35,
   39,
   43,
   47,
   51,
   55
  ]
 },
 "nbformat": 4,
 "nbformat_minor": 5
}