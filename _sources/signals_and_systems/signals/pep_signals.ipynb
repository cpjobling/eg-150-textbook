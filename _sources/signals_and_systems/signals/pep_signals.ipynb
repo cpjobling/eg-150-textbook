{
 "cells": [
  {
   "cell_type": "markdown",
   "id": "4d5f0efc",
   "metadata": {
    "slideshow": {
     "slide_type": "slide"
    }
   },
   "source": [
    "# Unit 2.2: Periodic, Energy and Power Signals\n",
    "\n",
    "We continue with our survey of [Signals and Classification of Signals](index.md) by looking at {ref}`p_n_np` and {ref}`e_n_p`.\n",
    "\n",
    "This section is based on Section 1.2 of {cite}`schaum`."
   ]
  },
  {
   "cell_type": "markdown",
   "id": "d9bbfd71",
   "metadata": {
    "slideshow": {
     "slide_type": "fragment"
    }
   },
   "source": [
    "Follow along at [cpjobling.github.io/eg-150-textbook/signals_and_systems/signals/pep_signals](https://cpjobling.github.io/eg-150-textbook/signals_and_systems/signals/pep_signals)\n",
    "\n",
    "![QR Code](pictures/qrcode_unit2.2.png)"
   ]
  },
  {
   "cell_type": "markdown",
   "id": "7a48f1b0",
   "metadata": {
    "slideshow": {
     "slide_type": "slide"
    }
   },
   "source": [
    "(p_n_np)=\n",
    "## Periodic and Nonperiodic Signals"
   ]
  },
  {
   "cell_type": "markdown",
   "id": "582b4bbb",
   "metadata": {
    "slideshow": {
     "slide_type": "fragment"
    }
   },
   "source": [
    "(periodic_signals)=\n",
    "### Periodic signals\n",
    "\n",
    "A continuous-time signal $x(t)$ is said to be *periodic* with *period* $T$ if there is a positive nonzero value of $T$ for which\n",
    "\n",
    "$$x(t + T) = x(t)\\;\\mathrm{all}\\;t$$\n",
    "\n",
    "An example of such a signal is given in {numref}`periodic-signal`."
   ]
  },
  {
   "cell_type": "markdown",
   "id": "11c28620",
   "metadata": {
    "slideshow": {
     "slide_type": "subslide"
    }
   },
   "source": [
    ":::{figure-md} periodic-signal\n",
    "<img src=\"./pictures/periodic.png\" alt=\"An example of a periodic signal.\" width=\"75%\">\n",
    "\n",
    "An example of a periodic signal.\n",
    ":::"
   ]
  },
  {
   "cell_type": "markdown",
   "id": "8de40e66",
   "metadata": {
    "slideshow": {
     "slide_type": "subslide"
    }
   },
   "source": [
    "We can use the periodicity to synthesize a periodic signal such as that shown in {numref}`periodic-signal`."
   ]
  },
  {
   "cell_type": "markdown",
   "id": "81e3390d",
   "metadata": {
    "slideshow": {
     "slide_type": "fragment"
    }
   },
   "source": [
    "Let's first define the signal over one period. We will use MATLAB and the symbolic toolbox for this example:"
   ]
  },
  {
   "cell_type": "markdown",
   "id": "86b75826",
   "metadata": {
    "slideshow": {
     "slide_type": "fragment"
    }
   },
   "source": [
    "Let one period of periodic signal be defined by\n",
    "\n",
    "$$x\\left(t\\right)=\\left\\lbrace \\begin{array}{ll}\n",
    "t & 0\\le t\\le 1\\\\\n",
    "0 & \\mathrm{otherwise}\n",
    "\\end{array}\\right.$$"
   ]
  },
  {
   "cell_type": "markdown",
   "id": "2114e615",
   "metadata": {
    "slideshow": {
     "slide_type": "fragment"
    }
   },
   "source": [
    "We can use the Heaviside function (unit step) (MATLAB function `heaviside`: see {ref}`heaviside`) to sythesise this signal."
   ]
  },
  {
   "cell_type": "code",
   "execution_count": 1,
   "id": "c7a234ca",
   "metadata": {
    "slideshow": {
     "slide_type": "subslide"
    }
   },
   "outputs": [
    {
     "data": {
      "image/png": "[encoded data removed]",
      "text/plain": [
       "<IPython.core.display.Image object>"
      ]
     },
     "metadata": {
      "filenames": {
       "image/png": "/Users/eechris/code/src/github.com/cpjobling/eg-150-textbook/_build/jupyter_execute/signals_and_systems/signals/pep_signals_9_0.png"
      }
     },
     "output_type": "display_data"
    }
   ],
   "source": [
    "syms t\n",
    "T = 1; % period of periodic signal\n",
    "x(t) = t*(heaviside(t)-heaviside(t-T));\n",
    "fplot(x(t)),ylim([0 2]),grid,title('A Single period of x(t)')"
   ]
  },
  {
   "cell_type": "markdown",
   "id": "29a42c8b",
   "metadata": {
    "slideshow": {
     "slide_type": "subslide"
    }
   },
   "source": [
    "One period earlier:\n",
    "\n",
    "$$x(t + T)$$"
   ]
  },
  {
   "cell_type": "code",
   "execution_count": 2,
   "id": "21b29936",
   "metadata": {
    "slideshow": {
     "slide_type": "fragment"
    }
   },
   "outputs": [
    {
     "name": "stdout",
     "output_type": "stream",
     "text": [
      " \n"
     ]
    },
    {
     "name": "stdout",
     "output_type": "stream",
     "text": [
      "signal1 =\n",
      " \n"
     ]
    },
    {
     "name": "stdout",
     "output_type": "stream",
     "text": [
      "(t + 1)*(heaviside(t + 1) - heaviside(t))\n"
     ]
    },
    {
     "name": "stdout",
     "output_type": "stream",
     "text": [
      " \n"
     ]
    },
    {
     "data": {
      "image/png": "[encoded data removed]",
      "text/plain": [
       "<IPython.core.display.Image object>"
      ]
     },
     "metadata": {
      "filenames": {
       "image/png": "/Users/eechris/code/src/github.com/cpjobling/eg-150-textbook/_build/jupyter_execute/signals_and_systems/signals/pep_signals_11_4.png"
      }
     },
     "output_type": "display_data"
    }
   ],
   "source": [
    "signal1 = x(t + T)\n",
    "fplot(signal1),ylim([0 2]),grid,title('A Single period of x(t+T)')"
   ]
  },
  {
   "cell_type": "markdown",
   "id": "517e7473",
   "metadata": {
    "slideshow": {
     "slide_type": "subslide"
    }
   },
   "source": [
    "Two periods later:\n",
    "\n",
    "$$x(t - 2T)$$"
   ]
  },
  {
   "cell_type": "code",
   "execution_count": 3,
   "id": "f9050854",
   "metadata": {
    "slideshow": {
     "slide_type": "subslide"
    }
   },
   "outputs": [
    {
     "name": "stdout",
     "output_type": "stream",
     "text": [
      " \n"
     ]
    },
    {
     "name": "stdout",
     "output_type": "stream",
     "text": [
      "signal2 =\n",
      " \n"
     ]
    },
    {
     "name": "stdout",
     "output_type": "stream",
     "text": [
      "(heaviside(t - 2) - heaviside(t - 3))*(t - 2)\n"
     ]
    },
    {
     "name": "stdout",
     "output_type": "stream",
     "text": [
      " \n"
     ]
    },
    {
     "data": {
      "image/png": "[encoded data removed]",
      "text/plain": [
       "<IPython.core.display.Image object>"
      ]
     },
     "metadata": {
      "filenames": {
       "image/png": "/Users/eechris/code/src/github.com/cpjobling/eg-150-textbook/_build/jupyter_execute/signals_and_systems/signals/pep_signals_13_4.png"
      }
     },
     "output_type": "display_data"
    }
   ],
   "source": [
    "signal2 = x(t-2*T)\n",
    "fplot(signal2),ylim([0 2]),grid,title('A Single period of x(t)')"
   ]
  },
  {
   "cell_type": "markdown",
   "id": "ab8812c3",
   "metadata": {
    "slideshow": {
     "slide_type": "fragment"
    }
   },
   "source": [
    "It follows that\n",
    "\n",
    "$$x(t + mT) = x(t)$$\n",
    "\n",
    "for all $t$ and any integer $m$."
   ]
  },
  {
   "cell_type": "markdown",
   "id": "6e9c6e32",
   "metadata": {
    "slideshow": {
     "slide_type": "subslide"
    }
   },
   "source": [
    "Now we use a loop and the definition of periodic function to repeat this signal multiple times"
   ]
  },
  {
   "cell_type": "code",
   "execution_count": 4,
   "id": "c9ed2479",
   "metadata": {
    "slideshow": {
     "slide_type": "fragment"
    }
   },
   "outputs": [
    {
     "name": "stdout",
     "output_type": "stream",
     "text": [
      " \n"
     ]
    },
    {
     "name": "stdout",
     "output_type": "stream",
     "text": [
      "periodic_signal =\n",
      " \n"
     ]
    },
    {
     "name": "stdout",
     "output_type": "stream",
     "text": [
      "(t + 1)*(heaviside(t + 1) - heaviside(t)) + (heaviside(t - 1) - heaviside(t - 2))*(t - 1) - (heaviside(t + 1) - heaviside(t + 2))*(t + 2) + (heaviside(t - 2) - heaviside(t - 3))*(t - 2) - (heaviside(t + 2) - heaviside(t + 3))*(t + 3) + (heaviside(t - 3) - heaviside(t - 4))*(t - 3) - (heaviside(t + 3) - heaviside(t + 4))*(t + 4) + (heaviside(t - 4) - heaviside(t - 5))*(t - 4) - (heaviside(t + 4) - heaviside(t + 5))*(t + 5) + (heaviside(t - 5) - heaviside(t - 6))*(t - 5) - t*(heaviside(t - 1) - heaviside(t))\n"
     ]
    },
    {
     "name": "stdout",
     "output_type": "stream",
     "text": [
      " \n"
     ]
    }
   ],
   "source": [
    "periodic_signal = 0;\n",
    "for m = 5:-1:-5\n",
    "    periodic_signal = periodic_signal + x(t + m*T);\n",
    "end\n",
    "periodic_signal"
   ]
  },
  {
   "cell_type": "markdown",
   "id": "d001b000",
   "metadata": {
    "slideshow": {
     "slide_type": "subslide"
    }
   },
   "source": [
    "Now we plot the result"
   ]
  },
  {
   "cell_type": "code",
   "execution_count": 5,
   "id": "f6acd13a",
   "metadata": {
    "slideshow": {
     "slide_type": "fragment"
    }
   },
   "outputs": [
    {
     "data": {
      "image/png": "[encoded data removed]",
      "text/plain": [
       "<IPython.core.display.Image object>"
      ]
     },
     "metadata": {
      "filenames": {
       "image/png": "/Users/eechris/code/src/github.com/cpjobling/eg-150-textbook/_build/jupyter_execute/signals_and_systems/signals/pep_signals_18_0.png"
      }
     },
     "output_type": "display_data"
    }
   ],
   "source": [
    "fplot(periodic_signal,'g-',\"LineWidth\",2),...\n",
    "    grid,ylabel('x(t)'),xlabel('t'),title('T = 1')\n",
    "xlim([-3.00 3.00])\n",
    "ylim([0.00 2.00])"
   ]
  },
  {
   "cell_type": "markdown",
   "id": "58d7af67",
   "metadata": {
    "slideshow": {
     "slide_type": "fragment"
    }
   },
   "source": [
    "(fundemental_period)=\n",
    "### Fundamental period\n",
    "\n",
    "The *fundamental period* $T_0$ of $x(t)$ is the smallest value of $T$ for which $x(t + mT) = x(t)$ holds."
   ]
  },
  {
   "cell_type": "markdown",
   "id": "ffb8ff2a",
   "metadata": {
    "slideshow": {
     "slide_type": "subslide"
    }
   },
   "source": [
    "(dc_signal)=\n",
    "### DC signals\n",
    "Note that the definition of the *fundamental period*  does not hold for a constant signal $x(t)$ (known as a DC signal)."
   ]
  },
  {
   "cell_type": "markdown",
   "id": "018fcfae",
   "metadata": {
    "slideshow": {
     "slide_type": "fragment"
    }
   },
   "source": [
    "For a constant signal $x(t) = c$ the fundamental period is undefined since $x(t)$ is periodic for any choice of $T$ (and so there is no smallest postive value). See {numref}`dc_signal`."
   ]
  },
  {
   "cell_type": "markdown",
   "id": "e50864ae",
   "metadata": {
    "slideshow": {
     "slide_type": "fragment"
    }
   },
   "source": [
    ":::{figure-md} dc_signal\n",
    "<img src=\"pictures/dc_signal.png\" alt=\"A DC signal\" width=\"75%\">\n",
    "\n",
    "A DC signal\n",
    ":::"
   ]
  },
  {
   "cell_type": "markdown",
   "id": "46aed960",
   "metadata": {
    "slideshow": {
     "slide_type": "notes"
    }
   },
   "source": [
    "```{eval-rst}\n",
    ".. note::\n",
    "\n",
    "   Note that the sum of two continuous time sigmals may not be periodic (Example {ref}`2.1`)\n",
    "```"
   ]
  },
  {
   "cell_type": "markdown",
   "id": "0ff02d21",
   "metadata": {
    "slideshow": {
     "slide_type": "subslide"
    }
   },
   "source": [
    "(nonperiodic_signals)=\n",
    "### Nonperiodic signals\n",
    "\n",
    "Any continuous-time signal which is not periodic is called a *nonperiodic* (or *aperiodic*) sigmal. For example see {numref}`aperiodic_signal`"
   ]
  },
  {
   "cell_type": "markdown",
   "id": "b8b94dc5",
   "metadata": {
    "slideshow": {
     "slide_type": "subslide"
    }
   },
   "source": [
    ":::{figure-md} aperiodic_signal\n",
    "<img src=\"pictures/aperiodic_signal.png\" alt=\"A nonperiodic signal\" width=\"50%\">\n",
    "\n",
    "A nonperiodic signal\n",
    ":::"
   ]
  },
  {
   "cell_type": "markdown",
   "id": "6c17ae2d",
   "metadata": {
    "slideshow": {
     "slide_type": "slide"
    }
   },
   "source": [
    "(e_n_p)=\n",
    "## Energy and Power Signals\n",
    "\n",
    "Consider $v(t)$ to be the voltage across a resistor $R$ prtoducing a current $i(t)$. ({numref}`resistor_circuit`)"
   ]
  },
  {
   "cell_type": "markdown",
   "id": "cd14f453",
   "metadata": {
    "slideshow": {
     "slide_type": "subslide"
    }
   },
   "source": [
    ":::{figure-md} resistor_circuit\n",
    "<img src=\"pictures/res_circuit.png\" alt=\"A simple resistor circuit.\" width=\"40%\">\n",
    "\n",
    "A simple resistor circuit.\n",
    ":::"
   ]
  },
  {
   "cell_type": "markdown",
   "id": "4caf59fa",
   "metadata": {
    "slideshow": {
     "slide_type": "subslide"
    }
   },
   "source": [
    "The instantaneous power $p(t)$ per ohm is defined as\n",
    "\n",
    "$$p(t) = \\frac{v(t)i(t)}{R} = i(t)^2$$"
   ]
  },
  {
   "cell_type": "markdown",
   "id": "0988f96f",
   "metadata": {
    "slideshow": {
     "slide_type": "fragment"
    }
   },
   "source": [
    "Total energy $E$ and average power $P$ on a per-ohm basis are"
   ]
  },
  {
   "cell_type": "markdown",
   "id": "8673e8fc",
   "metadata": {
    "slideshow": {
     "slide_type": "fragment"
    }
   },
   "source": [
    "$$E = \\int_{-\\infty}^{\\infty}i(t)^2\\,dt\\quad\\mathrm{joules}$$"
   ]
  },
  {
   "cell_type": "markdown",
   "id": "5a6e3b4c",
   "metadata": {
    "slideshow": {
     "slide_type": "fragment"
    }
   },
   "source": [
    "$$P = \\lim_{T\\to \\infty}\\frac{1}{T}\\int_{-T/2}^{T/2}i(t)^2\\;dt\\quad\\mathrm{watts}$$"
   ]
  },
  {
   "cell_type": "markdown",
   "id": "757497fc",
   "metadata": {
    "slideshow": {
     "slide_type": "subslide"
    }
   },
   "source": [
    "(normalised_energy_content_of_a_signal)=\n",
    "### Normalised energy content of a signal"
   ]
  },
  {
   "cell_type": "markdown",
   "id": "a3265a5d",
   "metadata": {
    "slideshow": {
     "slide_type": "fragment"
    }
   },
   "source": [
    "For an arbitrary continuous-time signal $x(t)$, the *normalised energy content* $E$ of $x(t)$ is defined as\n",
    "\n",
    "$$E = \\int_{-\\infty}^{\\infty}\\left|i(t)\\right|^2\\,dt$$"
   ]
  },
  {
   "cell_type": "markdown",
   "id": "e79df4f7",
   "metadata": {
    "slideshow": {
     "slide_type": "subslide"
    }
   },
   "source": [
    "(normalised_average_power_of_a_signal)=\n",
    "### Normalised average power of a signal"
   ]
  },
  {
   "cell_type": "markdown",
   "id": "dc575435",
   "metadata": {
    "slideshow": {
     "slide_type": "fragment"
    }
   },
   "source": [
    "The *normalised average power* $P$ of $x(t)$ is defined as\n",
    "\n",
    "$$P = \\lim_{T\\to \\infty}\\frac{1}{T}\\int_{-T/2}^{T/2}\\left|x(t)\\right|^2\\;dt\\quad\\mathrm{watts}$$"
   ]
  },
  {
   "cell_type": "markdown",
   "id": "c41f7108",
   "metadata": {
    "slideshow": {
     "slide_type": "subslide"
    }
   },
   "source": [
    "(energy_and_power_signals)=\n",
    "### Energy and power signals\n",
    "Based on the previous definitions, the following classes of signals can be defined:"
   ]
  },
  {
   "cell_type": "markdown",
   "id": "fad1a27b",
   "metadata": {
    "slideshow": {
     "slide_type": "fragment"
    }
   },
   "source": [
    "* $x(t)$ is said to be an *energy signal* if and only if $0 < E < \\infty$, and so $P = 0$."
   ]
  },
  {
   "cell_type": "markdown",
   "id": "4910028a",
   "metadata": {
    "slideshow": {
     "slide_type": "fragment"
    }
   },
   "source": [
    "* $x(t)$ is said to be an *power signal* if and only if $0 < P < \\infty$, thus implying that $E = \\infty$."
   ]
  },
  {
   "cell_type": "markdown",
   "id": "e149d6c2",
   "metadata": {
    "slideshow": {
     "slide_type": "fragment"
    }
   },
   "source": [
    "* Signals that satisfy neither property are referred to as neither energy signals nor power signals."
   ]
  },
  {
   "cell_type": "markdown",
   "id": "2b09663c",
   "metadata": {
    "slideshow": {
     "slide_type": "fragment"
    }
   },
   "source": [
    "Note that a periodic signal is a power signal if its energy content per period is finite, and then the average power of this signal need only be calulated over a period ({ref}`ex:1.18`)."
   ]
  },
  {
   "cell_type": "markdown",
   "id": "47cec762",
   "metadata": {
    "slideshow": {
     "slide_type": "slide"
    }
   },
   "source": [
    "(other_measures_of_signal_size)=\n",
    "## Other Measures of Signal Size\n",
    "\n",
    "There are other measures of signal size that are used:"
   ]
  },
  {
   "cell_type": "markdown",
   "id": "a02f3411",
   "metadata": {
    "slideshow": {
     "slide_type": "fragment"
    }
   },
   "source": [
    "### Mean value\n",
    "\n",
    "$$M_x = \\lim_{T\\to \\infty}\\frac{1}{T}\\int_{-T/2}^{T/2}x(t)\\,dt$$"
   ]
  },
  {
   "cell_type": "markdown",
   "id": "52bdb95e",
   "metadata": {
    "slideshow": {
     "slide_type": "fragment"
    }
   },
   "source": [
    "For periodic signals with fundamental period $T_0$\n",
    "\n",
    "$$M_x = \\frac{1}{T_0}\\int_{-T_0/2}^{T_0/2}x(t)\\,dt$$"
   ]
  },
  {
   "cell_type": "markdown",
   "id": "079e5f15",
   "metadata": {
    "slideshow": {
     "slide_type": "fragment"
    }
   },
   "source": [
    "The mean value is also known as the dc value."
   ]
  },
  {
   "cell_type": "markdown",
   "id": "d64cc679",
   "metadata": {
    "slideshow": {
     "slide_type": "notes"
    }
   },
   "source": [
    "**Observations**\n",
    "\n",
    "* the mean value corresponds to the arithmetic average\n",
    "\n",
    "* the signal $x(t) - M_x$ has zero mean"
   ]
  },
  {
   "cell_type": "markdown",
   "id": "b0ad33d2",
   "metadata": {
    "slideshow": {
     "slide_type": "subslide"
    }
   },
   "source": [
    "### Measures of spread"
   ]
  },
  {
   "cell_type": "markdown",
   "id": "83ce2d69",
   "metadata": {
    "slideshow": {
     "slide_type": "fragment"
    }
   },
   "source": [
    "#### Root-mean square (RMS)\n",
    "\n",
    "$$\\mathrm{RMS}_x = \\sqrt{P}$$"
   ]
  },
  {
   "cell_type": "markdown",
   "id": "6147aec8",
   "metadata": {
    "slideshow": {
     "slide_type": "fragment"
    }
   },
   "source": [
    "E.g. the power of $x(t) = A\\sin\\left(\\omega t + \\theta\\right)$ is $A^2/2$ hence its RMS value is $A/\\sqrt{2}$."
   ]
  },
  {
   "cell_type": "markdown",
   "id": "a9736fac",
   "metadata": {
    "slideshow": {
     "slide_type": "fragment"
    }
   },
   "source": [
    "#### Peak value\n",
    "\n",
    "$$\\left|x\\right|_\\mathrm{peak} = \\max_t \\left|x(t)\\right|$$"
   ]
  },
  {
   "cell_type": "markdown",
   "id": "8e86c1bd",
   "metadata": {
    "slideshow": {
     "slide_type": "subslide"
    }
   },
   "source": [
    "#### Crest factor (CF)\n",
    "\n",
    "$$\\mathrm{CF}_x = \\frac{\\left|x\\right|_\\mathrm{peak}}{\\mathrm{RMS}_x}\\ge 1$$"
   ]
  },
  {
   "cell_type": "markdown",
   "id": "f47bbc8c",
   "metadata": {
    "slideshow": {
     "slide_type": "fragment"
    }
   },
   "source": [
    "#### Peak-to-average power ratio (PAPR)\n",
    "\n",
    "$$\\mathrm{PAPR}_x = \\frac{\\left|x\\right|_\\mathrm{peak}^2}{P}$$"
   ]
  },
  {
   "cell_type": "markdown",
   "id": "aeee73bd",
   "metadata": {
    "slideshow": {
     "slide_type": "notes"
    }
   },
   "source": [
    "**Observations**\n",
    "\n",
    "* CF a PAPR measure the dispersion of a signal about its average power.\n",
    "\n",
    "* To express CF or PAPR we often use decibels (dB). To obtain a measure of the quantity $y$ in dB use $20\\log_{10}(y)$."
   ]
  },
  {
   "cell_type": "markdown",
   "id": "827e44ed",
   "metadata": {
    "slideshow": {
     "slide_type": "slide"
    }
   },
   "source": [
    "(worked_examples_2)=\n",
    "## Examples 2"
   ]
  },
  {
   "cell_type": "markdown",
   "id": "5c020cd4",
   "metadata": {
    "slideshow": {
     "slide_type": "fragment"
    }
   },
   "source": [
    "(ex2.1)=\n",
    "### Example 2.1: Sum of two periodic signals\n",
    "\n",
    "Let $x_1(t)$ and $x_2(t)$ be periodic signals with fundamental periods $T_1$ and $T_2$ respectively. Under which conditions is the sum $x(t) = x_1(t) + x_2(t)$ periodic, and what is the fundamental period of $x(t)$ if it is periodic?"
   ]
  },
  {
   "cell_type": "markdown",
   "id": "0c5942a3",
   "metadata": {
    "slideshow": {
     "slide_type": "notes"
    }
   },
   "source": [
    "For the answer, refer to the lecture recording or see solved problem 1.14 in {cite}`schaum`."
   ]
  },
  {
   "cell_type": "markdown",
   "id": "d91b1b9e",
   "metadata": {
    "slideshow": {
     "slide_type": "subslide"
    }
   },
   "source": [
    "(ex2.2)=\n",
    "### Example 2.2: Periodic signals\n",
    "\n",
    "`````{admonition} MATLAB Example\n",
    ":class: tip\n",
    "We will solve this example by hand and then give the solution in the MATLAB lab.\n",
    "`````"
   ]
  },
  {
   "cell_type": "markdown",
   "id": "7a4c581f",
   "metadata": {
    "slideshow": {
     "slide_type": "fragment"
    }
   },
   "source": [
    "Determine whether or not each of the following signals is periodic. If a signal is periodic, determine its fundamental period.\n",
    "\n",
    "a). $x(t)=\\cos\\left(t + \\frac{\\pi}{4}\\right)$;"
   ]
  },
  {
   "cell_type": "markdown",
   "id": "adca4e48",
   "metadata": {
    "slideshow": {
     "slide_type": "fragment"
    }
   },
   "source": [
    "b). $x(t)=\\sin\\frac{2\\pi}{3}t$;"
   ]
  },
  {
   "cell_type": "markdown",
   "id": "36132b3d",
   "metadata": {
    "slideshow": {
     "slide_type": "fragment"
    }
   },
   "source": [
    "c). $x(t)=\\cos\\frac{\\pi}{3}t+\\sin\\frac{\\pi}{4}t$;"
   ]
  },
  {
   "cell_type": "markdown",
   "id": "fa1be58f",
   "metadata": {
    "slideshow": {
     "slide_type": "fragment"
    }
   },
   "source": [
    "d). $x(t)=\\cos t + \\sin\\sqrt{2}t$;"
   ]
  },
  {
   "cell_type": "markdown",
   "id": "51ca7954",
   "metadata": {
    "slideshow": {
     "slide_type": "fragment"
    }
   },
   "source": [
    "e). $x(t)=\\sin^2t$;"
   ]
  },
  {
   "cell_type": "markdown",
   "id": "91768924",
   "metadata": {
    "slideshow": {
     "slide_type": "fragment"
    }
   },
   "source": [
    "f). $x(t)=e^{j\\left[\\pi/2t-1\\right]}$;"
   ]
  },
  {
   "cell_type": "markdown",
   "id": "c90ed76b",
   "metadata": {
    "slideshow": {
     "slide_type": "notes"
    }
   },
   "source": [
    "For the answer, refer to the lecture recording or see solved problem 1.16 in {cite}`schaum`."
   ]
  },
  {
   "cell_type": "markdown",
   "id": "2e965c76",
   "metadata": {
    "slideshow": {
     "slide_type": "subslide"
    }
   },
   "source": [
    "### Example 2.3\n",
    "\n",
    "Show that if $x(t + T) = x(t)$, then\n",
    "\n",
    "$$\\int_\\alpha^\\beta x(t)\\,dt=\\int_{\\alpha+T}^{\\beta+T} x(t)\\,dt$$\n",
    "\n",
    "$$\\int_0^T x(t)\\,dt=\\int_{a}^{a+T} x(t)\\,dt$$\n",
    "\n",
    "for any real $\\alpha$, $\\beta$ and $a$."
   ]
  },
  {
   "cell_type": "markdown",
   "id": "fbf2abcc",
   "metadata": {
    "slideshow": {
     "slide_type": "notes"
    }
   },
   "source": [
    "For the answer, refer to the lecture recording or see solved problem 1.17 in {cite}`schaum`."
   ]
  },
  {
   "cell_type": "markdown",
   "id": "d51b9717",
   "metadata": {
    "slideshow": {
     "slide_type": "subslide"
    }
   },
   "source": [
    "### Example 2.4\n",
    "\n",
    "Show that if $x(t)$ is periodic with fundamental period $T_0$, the the normalized average power $P$ of $x(t)$ defined by\n",
    "\n",
    "$$P = \\lim_{T\\to \\infty}\\frac{1}{T}\\int_{-T/2}^{T/2}\\left|x(t)\\right|^2\\;dt$$\n",
    "\n",
    "is the same as the average power $x(t)$ over any interval of length $T_0$, that is,\n",
    "\n",
    "$$P = \\frac{1}{T_0}\\int_{0}^{T_0}\\left|x(t)\\right|^2\\;dt$$."
   ]
  },
  {
   "cell_type": "markdown",
   "id": "ff34a327",
   "metadata": {
    "slideshow": {
     "slide_type": "notes"
    }
   },
   "source": [
    "For the answer, refer to the lecture recording or see solved problem 1.18 in {cite}`schaum`."
   ]
  },
  {
   "cell_type": "markdown",
   "id": "c440f9cc",
   "metadata": {
    "slideshow": {
     "slide_type": "subslide"
    }
   },
   "source": [
    "(ex2.5)=\n",
    "### Example 2.5: Power and energy signals\n",
    "\n",
    "`````{admonition} MATLAB Example\n",
    ":class: tip\n",
    "We will solve this example by hand and then give the solution in the MATLAB lab.\n",
    "`````"
   ]
  },
  {
   "cell_type": "markdown",
   "id": "afdbc7ab",
   "metadata": {
    "slideshow": {
     "slide_type": "fragment"
    }
   },
   "source": [
    "Determine whether the following signals are energy signals, power signals, or neither."
   ]
  },
  {
   "cell_type": "markdown",
   "id": "8a214a62",
   "metadata": {
    "slideshow": {
     "slide_type": "fragment"
    }
   },
   "source": [
    "a). $x(t)=e^{-at}u_0(t)$, $a > 0$;"
   ]
  },
  {
   "cell_type": "markdown",
   "id": "422454e4",
   "metadata": {
    "slideshow": {
     "slide_type": "fragment"
    }
   },
   "source": [
    "b). $x(t)=A\\cos\\left(\\omega_0 t + \\theta\\right)$"
   ]
  },
  {
   "cell_type": "markdown",
   "id": "dd62d0da",
   "metadata": {
    "slideshow": {
     "slide_type": "fragment"
    }
   },
   "source": [
    "c). $x(t)=t u_0(t)$"
   ]
  },
  {
   "cell_type": "markdown",
   "id": "fcd63638",
   "metadata": {
    "slideshow": {
     "slide_type": "subslide"
    }
   },
   "source": [
    "Note $u_0(t)$ is the unit step (or Heaviside) function formally introduced in the next lecture. For the answer, refer to the lecture recording or see solved problem 1.20 in {cite}`schaum`."
   ]
  },
  {
   "cell_type": "markdown",
   "id": "5d5cda4e",
   "metadata": {
    "slideshow": {
     "slide_type": "subslide"
    }
   },
   "source": [
    "### Example 2.6\n",
    "\n",
    "Domestic mains power in the UK is delivered as a sinusoidal signal $x(t)=A\\cos(\\omega_0 t + \\theta)$ with frequency of $50\\mathrm{Hz}$ and RMS value of $240\\mathrm{V}$. \n",
    "\n",
    "Calculate the fundamental period $T_0$, fundamental angular frequency $\\omega_0$, average power $P$, peak voltage $A = x_\\mathrm{peak}$, crest factor (CF) and peak-to-average power ratio (PAPR) of the power signal provided to the home. \n",
    "\n",
    "Express CF and PAPR in dB."
   ]
  },
  {
   "cell_type": "markdown",
   "id": "688e649e",
   "metadata": {
    "slideshow": {
     "slide_type": "notes"
    }
   },
   "source": [
    "## Summary\n",
    "\n",
    "In this lecture we completed our look at signals and the classification of signals. \n",
    "\n",
    "In particular we have looked at\n",
    "\n",
    "* {ref}`p_n_np`\n",
    "* {ref}`e_n_p`\n",
    "* {ref}`other_measures_of_signal_size`"
   ]
  },
  {
   "cell_type": "markdown",
   "id": "9aa1aea2",
   "metadata": {
    "slideshow": {
     "slide_type": "notes"
    }
   },
   "source": [
    "## Next Time\n",
    "\n",
    "* {ref}`elementary_signals`\n",
    "* {ref}`system_representation`\n",
    "* {ref}`deterministic_and_stochastic_systems`\n",
    "* {ref}`continuous_time_and_discrete_time_systems`\n",
    "* {ref}`aystems_with_memory_and_without_memory`\n",
    "* {ref}`causal_and_non-causal_systems`\n",
    "* {ref}`linear_systems_and_nonlinear_systems`\n",
    "* {ref}`linear_time_invariant_systems`\n",
    "* {ref}`stable_systems`\n",
    "* {ref}`feedback_systems`"
   ]
  },
  {
   "cell_type": "markdown",
   "id": "e67afd0b",
   "metadata": {},
   "source": [
    "## References\n",
    "\n",
    "```{bibliography}\n",
    ":filter: docname in docnames\n",
    "```"
   ]
  }
 ],
 "metadata": {
  "jupytext": {
   "formats": "ipynb,md:myst",
   "text_representation": {
    "extension": ".md",
    "format_name": "myst",
    "format_version": 0.13,
    "jupytext_version": "1.14.4"
   }
  },
  "kernelspec": {
   "display_name": "Matlab",
   "language": "matlab",
   "name": "matlab"
  },
  "language_info": {
   "codemirror_mode": "octave",
   "file_extension": ".m",
   "help_links": [
    {
     "text": "MetaKernel Magics",
     "url": "https://metakernel.readthedocs.io/en/latest/source/README.html"
    }
   ],
   "mimetype": "text/x-octave",
   "name": "matlab",
   "version": "0.17.1"
  },
  "source_map": [
   15,
   23,
   29,
   34,
   45,
   53,
   57,
   61,
   70,
   74,
   85,
   91,
   100,
   106,
   115,
   123,
   127,
   139,
   143,
   154,
   161,
   167,
   171,
   179,
   187,
   194,
   202,
   209,
   217,
   223,
   227,
   231,
   235,
   240,
   246,
   251,
   257,
   263,
   267,
   271,
   275,
   279,
   286,
   292,
   298,
   302,
   310,
   314,
   320,
   324,
   330,
   336,
   342,
   350,
   355,
   362,
   366,
   376,
   382,
   386,
   390,
   394,
   398,
   402,
   406,
   418,
   422,
   434,
   438,
   448,
   452,
   456,
   460,
   464,
   468,
   478,
   490,
   505
  ]
 },
 "nbformat": 4,
 "nbformat_minor": 5
}