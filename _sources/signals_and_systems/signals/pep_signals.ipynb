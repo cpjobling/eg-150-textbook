{
 "cells": [
  {
   "cell_type": "markdown",
   "id": "ae6df937",
   "metadata": {
    "slideshow": {
     "slide_type": "slide"
    }
   },
   "source": [
    "# Unit 2.2: Periodic, Energy and Power Signals\n",
    "\n",
    "We continue with our survey of [Signals and Classification of Signals](index.md) by looking at {ref}`p_n_np` and {ref}`e_n_p`.\n",
    "\n",
    "This section is based on Section 1.2 of {cite}`schaum`."
   ]
  },
  {
   "cell_type": "markdown",
   "id": "f41d6041",
   "metadata": {
    "slideshow": {
     "slide_type": "fragment"
    }
   },
   "source": [
    "Follow along at [cpjobling.github.io/eg-150-textbook/signals_and_systems/signals/pep_signals](https://cpjobling.github.io/eg-150-textbook/signals_and_systems/signals/pep_signals)\n",
    "\n",
    "![QR Code](pictures/qrcode_unit2.2.png)"
   ]
  },
  {
   "cell_type": "markdown",
   "id": "71114547",
   "metadata": {
    "slideshow": {
     "slide_type": "slide"
    }
   },
   "source": [
    "(p_n_np)=\n",
    "## Periodic and Nonperiodic Signals"
   ]
  },
  {
   "cell_type": "markdown",
   "id": "867452e2",
   "metadata": {
    "slideshow": {
     "slide_type": "fragment"
    }
   },
   "source": [
    "(periodic_signals)=\n",
    "### Periodic signals\n",
    "\n",
    "A continuous-time signal $x(t)$ is said to be *periodic* with *period* $T$ if there is a positive nonzero value of $T$ for which\n",
    "\n",
    "$$x(t + T) = x(t)\\;\\mathrm{all}\\;t$$\n",
    "\n",
    "An example of such a signal is given in {numref}`periodic-signal`."
   ]
  },
  {
   "cell_type": "markdown",
   "id": "722e03d1",
   "metadata": {
    "slideshow": {
     "slide_type": "subslide"
    }
   },
   "source": [
    ":::{figure-md} periodic-signal\n",
    "<img src=\"./pictures/periodic.png\" alt=\"An example of a periodic signal.\" width=\"75%\">\n",
    "\n",
    "An example of a periodic signal.\n",
    ":::"
   ]
  },
  {
   "cell_type": "markdown",
   "id": "95d318a3",
   "metadata": {
    "slideshow": {
     "slide_type": "subslide"
    }
   },
   "source": [
    "We can use the periodicity to synthesize a periodic signal such as that shown in {numref}`periodic-signal`."
   ]
  },
  {
   "cell_type": "markdown",
   "id": "354f4863",
   "metadata": {
    "slideshow": {
     "slide_type": "fragment"
    }
   },
   "source": [
    "Let's first define the signal over one period. We will use MATLAB and the *symbolic math toolbox* for this example:"
   ]
  },
  {
   "cell_type": "markdown",
   "id": "b85e288e",
   "metadata": {
    "slideshow": {
     "slide_type": "fragment"
    }
   },
   "source": [
    "Let one period of periodic signal be defined by\n",
    "\n",
    "$$x\\left(t\\right)=\\left\\lbrace \\begin{array}{ll}\n",
    "t & 0\\le t\\le 1\\\\\n",
    "0 & \\mathrm{otherwise}\n",
    "\\end{array}\\right.$$"
   ]
  },
  {
   "cell_type": "markdown",
   "id": "b094ee77",
   "metadata": {
    "slideshow": {
     "slide_type": "fragment"
    }
   },
   "source": [
    "We can use the Heaviside function (unit step) (MATLAB function `heaviside`: see {ref}`heaviside`) to sythesise this signal."
   ]
  },
  {
   "cell_type": "code",
   "execution_count": 1,
   "id": "7920fc54",
   "metadata": {
    "slideshow": {
     "slide_type": "subslide"
    }
   },
   "outputs": [
    {
     "data": {
      "image/png": "[encoded data removed]",
      "text/plain": [
       "<IPython.core.display.Image object>"
      ]
     },
     "metadata": {
      "filenames": {
       "image/png": "/Users/eechris/code/src/github.com/cpjobling/eg-150-textbook/_build/jupyter_execute/signals_and_systems/signals/pep_signals_9_0.png"
      }
     },
     "output_type": "display_data"
    }
   ],
   "source": [
    "syms t\n",
    "T = 1; % period of periodic signal\n",
    "x(t) = t*(heaviside(t)-heaviside(t-T));\n",
    "fplot(x(t)),ylim([0 2]),grid,title('A Single period of x(t)'),xlabel('t')"
   ]
  },
  {
   "cell_type": "markdown",
   "id": "f90542c3",
   "metadata": {
    "slideshow": {
     "slide_type": "subslide"
    }
   },
   "source": [
    "One period earlier:\n",
    "\n",
    "$$x(t + T)$$"
   ]
  },
  {
   "cell_type": "code",
   "execution_count": 2,
   "id": "a7775aba",
   "metadata": {
    "slideshow": {
     "slide_type": "fragment"
    }
   },
   "outputs": [
    {
     "name": "stdout",
     "output_type": "stream",
     "text": [
      " \n"
     ]
    },
    {
     "name": "stdout",
     "output_type": "stream",
     "text": [
      "signal1 =\n",
      " \n"
     ]
    },
    {
     "name": "stdout",
     "output_type": "stream",
     "text": [
      "(t + 1)*(heaviside(t + 1) - heaviside(t))\n"
     ]
    },
    {
     "name": "stdout",
     "output_type": "stream",
     "text": [
      " \n"
     ]
    },
    {
     "data": {
      "image/png": "[encoded data removed]",
      "text/plain": [
       "<IPython.core.display.Image object>"
      ]
     },
     "metadata": {
      "filenames": {
       "image/png": "/Users/eechris/code/src/github.com/cpjobling/eg-150-textbook/_build/jupyter_execute/signals_and_systems/signals/pep_signals_11_4.png"
      }
     },
     "output_type": "display_data"
    }
   ],
   "source": [
    "signal1 = x(t + T)\n",
    "fplot(signal1),ylim([0 2]),grid,title('A Single period of x(t+T)')"
   ]
  },
  {
   "cell_type": "markdown",
   "id": "099bdbc5",
   "metadata": {
    "slideshow": {
     "slide_type": "subslide"
    }
   },
   "source": [
    "Two periods later:\n",
    "\n",
    "$$x(t - 2T)$$"
   ]
  },
  {
   "cell_type": "code",
   "execution_count": 3,
   "id": "1e2af052",
   "metadata": {
    "slideshow": {
     "slide_type": "subslide"
    }
   },
   "outputs": [
    {
     "name": "stdout",
     "output_type": "stream",
     "text": [
      " \n"
     ]
    },
    {
     "name": "stdout",
     "output_type": "stream",
     "text": [
      "signal2 =\n",
      " \n"
     ]
    },
    {
     "name": "stdout",
     "output_type": "stream",
     "text": [
      "(heaviside(t - 2) - heaviside(t - 3))*(t - 2)\n"
     ]
    },
    {
     "name": "stdout",
     "output_type": "stream",
     "text": [
      " \n"
     ]
    },
    {
     "data": {
      "image/png": "[encoded data removed]",
      "text/plain": [
       "<IPython.core.display.Image object>"
      ]
     },
     "metadata": {
      "filenames": {
       "image/png": "/Users/eechris/code/src/github.com/cpjobling/eg-150-textbook/_build/jupyter_execute/signals_and_systems/signals/pep_signals_13_4.png"
      }
     },
     "output_type": "display_data"
    }
   ],
   "source": [
    "signal2 = x(t-2*T)\n",
    "fplot(signal2),ylim([0 2]),grid,title('A Single period of x(t)')"
   ]
  },
  {
   "cell_type": "markdown",
   "id": "cdeef382",
   "metadata": {
    "slideshow": {
     "slide_type": "fragment"
    }
   },
   "source": [
    "It follows that\n",
    "\n",
    "$$x(t + mT) = x(t)$$\n",
    "\n",
    "for all $t$ and any integer $m$."
   ]
  },
  {
   "cell_type": "markdown",
   "id": "20c3d1fd",
   "metadata": {
    "slideshow": {
     "slide_type": "subslide"
    }
   },
   "source": [
    "Now we use a loop and the definition of periodic function to repeat this signal multiple times"
   ]
  },
  {
   "cell_type": "code",
   "execution_count": 4,
   "id": "5748a7e4",
   "metadata": {
    "slideshow": {
     "slide_type": "fragment"
    }
   },
   "outputs": [
    {
     "name": "stdout",
     "output_type": "stream",
     "text": [
      " \n"
     ]
    },
    {
     "name": "stdout",
     "output_type": "stream",
     "text": [
      "periodic_signal =\n",
      " \n"
     ]
    },
    {
     "name": "stdout",
     "output_type": "stream",
     "text": [
      "(t + 1)*(heaviside(t + 1) - heaviside(t)) + (heaviside(t - 1) - heaviside(t - 2))*(t - 1) - (heaviside(t + 1) - heaviside(t + 2))*(t + 2) + (heaviside(t - 2) - heaviside(t - 3))*(t - 2) - (heaviside(t + 2) - heaviside(t + 3))*(t + 3) + (heaviside(t - 3) - heaviside(t - 4))*(t - 3) - (heaviside(t + 3) - heaviside(t + 4))*(t + 4) + (heaviside(t - 4) - heaviside(t - 5))*(t - 4) - (heaviside(t + 4) - heaviside(t + 5))*(t + 5) + (heaviside(t - 5) - heaviside(t - 6))*(t - 5) - t*(heaviside(t - 1) - heaviside(t))\n"
     ]
    },
    {
     "name": "stdout",
     "output_type": "stream",
     "text": [
      " \n"
     ]
    }
   ],
   "source": [
    "periodic_signal = 0;\n",
    "for m = 5:-1:-5\n",
    "    periodic_signal = periodic_signal + x(t + m*T);\n",
    "end\n",
    "periodic_signal"
   ]
  },
  {
   "cell_type": "markdown",
   "id": "c136d437",
   "metadata": {
    "slideshow": {
     "slide_type": "subslide"
    }
   },
   "source": [
    "Now we plot the result"
   ]
  },
  {
   "cell_type": "code",
   "execution_count": 5,
   "id": "de0dd186",
   "metadata": {
    "slideshow": {
     "slide_type": "fragment"
    }
   },
   "outputs": [
    {
     "data": {
      "image/png": "[encoded data removed]",
      "text/plain": [
       "<IPython.core.display.Image object>"
      ]
     },
     "metadata": {
      "filenames": {
       "image/png": "/Users/eechris/code/src/github.com/cpjobling/eg-150-textbook/_build/jupyter_execute/signals_and_systems/signals/pep_signals_18_0.png"
      }
     },
     "output_type": "display_data"
    }
   ],
   "source": [
    "fplot(periodic_signal,'g-',\"LineWidth\",2),...\n",
    "    grid,ylabel('x(t)'),xlabel('t'),title('T = 1')\n",
    "xlim([-3.00 3.00])\n",
    "ylim([0.00 2.00])"
   ]
  },
  {
   "cell_type": "markdown",
   "id": "0a00f0bb",
   "metadata": {
    "slideshow": {
     "slide_type": "fragment"
    }
   },
   "source": [
    "(fundemental_period)=\n",
    "### Fundamental period\n",
    "\n",
    "The *fundamental period* $T_0$ of $x(t)$ is the smallest value of $T$ for which $x(t + mT) = x(t)$ holds."
   ]
  },
  {
   "cell_type": "markdown",
   "id": "00c1afd4",
   "metadata": {
    "slideshow": {
     "slide_type": "notes"
    }
   },
   "source": [
    "For the previous example this was $T_0=1$."
   ]
  },
  {
   "cell_type": "markdown",
   "id": "b6f6be71",
   "metadata": {
    "slideshow": {
     "slide_type": "subslide"
    }
   },
   "source": [
    "(dc_signal)=\n",
    "### DC signals\n",
    "Note that the definition of the *fundamental period*  does not hold for a constant signal $x(t)$ (known as a DC signal)."
   ]
  },
  {
   "cell_type": "markdown",
   "id": "460178b2",
   "metadata": {
    "slideshow": {
     "slide_type": "fragment"
    }
   },
   "source": [
    "For a constant signal $x(t) = c$ the fundamental period is undefined since $x(t)$ is periodic for any choice of $T$ (and so there is no smallest postive value). See {numref}`fig:dc_signal`."
   ]
  },
  {
   "cell_type": "markdown",
   "id": "490a2939",
   "metadata": {
    "slideshow": {
     "slide_type": "subslide"
    }
   },
   "source": [
    ":::{figure-md} fig:dc_signal\n",
    "<img src=\"pictures/dc_signal.png\" alt=\"A DC signal\" width=\"75%\">\n",
    "\n",
    "A DC signal\n",
    ":::"
   ]
  },
  {
   "cell_type": "markdown",
   "id": "7052c413",
   "metadata": {
    "slideshow": {
     "slide_type": "notes"
    }
   },
   "source": [
    "```{eval-rst}\n",
    ".. note::\n",
    "ex\n",
    "   Note that the sum of two continuous time signals may not be periodic (Example {ref}`ex2.1`)\n",
    "```"
   ]
  },
  {
   "cell_type": "markdown",
   "id": "417b91c5",
   "metadata": {
    "slideshow": {
     "slide_type": "subslide"
    }
   },
   "source": [
    "(nonperiodic_signals)=\n",
    "### Nonperiodic signals\n",
    "\n",
    "Any continuous-time signal which is not periodic is called a *nonperiodic* (or *aperiodic*) sigmal. For example see {numref}`aperiodic_signal`"
   ]
  },
  {
   "cell_type": "markdown",
   "id": "cafc2ab1",
   "metadata": {
    "slideshow": {
     "slide_type": "subslide"
    }
   },
   "source": [
    ":::{figure-md} aperiodic_signal\n",
    "<img src=\"pictures/aperiodic_signal.png\" alt=\"A nonperiodic signal\" width=\"50%\">\n",
    "\n",
    "A nonperiodic signal\n",
    ":::"
   ]
  },
  {
   "cell_type": "markdown",
   "id": "07c2999b",
   "metadata": {
    "slideshow": {
     "slide_type": "slide"
    }
   },
   "source": [
    "(e_n_p)=\n",
    "## Energy and Power Signals\n",
    "\n",
    "Consider $v(t)$ to be the voltage across a resistor $R$ producing a current $i(t)$. ({numref}`resistor_circuit`)"
   ]
  },
  {
   "cell_type": "markdown",
   "id": "a21e568a",
   "metadata": {
    "slideshow": {
     "slide_type": "subslide"
    }
   },
   "source": [
    ":::{figure-md} resistor_circuit\n",
    "<img src=\"pictures/res_circuit.png\" alt=\"A simple resistor circuit.\" width=\"40%\">\n",
    "\n",
    "A simple resistor circuit.\n",
    ":::"
   ]
  },
  {
   "cell_type": "markdown",
   "id": "df307c35",
   "metadata": {
    "slideshow": {
     "slide_type": "subslide"
    }
   },
   "source": [
    "The instantaneous power $p(t)$ per ohm is defined as\n",
    "\n",
    "$$p(t) = \\frac{v(t)i(t)}{R} = i(t)^2$$"
   ]
  },
  {
   "cell_type": "markdown",
   "id": "22b0f3ee",
   "metadata": {
    "slideshow": {
     "slide_type": "fragment"
    }
   },
   "source": [
    "Total energy $E$ and average power $P$ on a per-ohm basis are"
   ]
  },
  {
   "cell_type": "markdown",
   "id": "1d88242d",
   "metadata": {
    "slideshow": {
     "slide_type": "fragment"
    }
   },
   "source": [
    "$$E = \\int_{-\\infty}^{\\infty}i(t)^2\\,dt\\quad\\mathrm{joules}$$"
   ]
  },
  {
   "cell_type": "markdown",
   "id": "37a215d6",
   "metadata": {
    "slideshow": {
     "slide_type": "fragment"
    }
   },
   "source": [
    "$$P = \\lim_{T\\to \\infty}\\frac{1}{T}\\int_{-T/2}^{T/2}i(t)^2\\;dt\\quad\\mathrm{watts}$$"
   ]
  },
  {
   "cell_type": "markdown",
   "id": "2fc6d10a",
   "metadata": {
    "slideshow": {
     "slide_type": "subslide"
    }
   },
   "source": [
    "(normalised_energy_content_of_a_signal)=\n",
    "### Normalised energy content of a signal"
   ]
  },
  {
   "cell_type": "markdown",
   "id": "03411306",
   "metadata": {
    "slideshow": {
     "slide_type": "fragment"
    }
   },
   "source": [
    "For an arbitrary continuous-time signal $x(t)$, the *normalised energy content* $E$ of $x(t)$ is defined as\n",
    "\n",
    "$$E = \\int_{-\\infty}^{\\infty}\\left|x(t)\\right|^2\\,dt\\quad\\mathrm{J}$$"
   ]
  },
  {
   "cell_type": "markdown",
   "id": "2efa4617",
   "metadata": {
    "slideshow": {
     "slide_type": "subslide"
    }
   },
   "source": [
    "(normalised_average_power_of_a_signal)=\n",
    "### Normalised average power of a signal"
   ]
  },
  {
   "cell_type": "markdown",
   "id": "4634128b",
   "metadata": {
    "slideshow": {
     "slide_type": "fragment"
    }
   },
   "source": [
    "The *normalised average power* $P$ of $x(t)$ is defined as\n",
    "\n",
    "$$P = \\lim_{T\\to \\infty}\\frac{1}{T}\\int_{-T/2}^{T/2}\\left|x(t)\\right|^2\\;dt\\quad\\mathrm{W}$$"
   ]
  },
  {
   "cell_type": "markdown",
   "id": "5258f77b",
   "metadata": {
    "slideshow": {
     "slide_type": "subslide"
    }
   },
   "source": [
    "(energy_and_power_signals)=\n",
    "### Energy and power signals\n",
    "Based on the previous definitions, the following classes of signals can be defined:"
   ]
  },
  {
   "cell_type": "markdown",
   "id": "a19079a1",
   "metadata": {
    "slideshow": {
     "slide_type": "fragment"
    }
   },
   "source": [
    "* $x(t)$ is said to be an *energy signal* if and only if $0 < E < \\infty$, and so $P = 0$."
   ]
  },
  {
   "cell_type": "markdown",
   "id": "85900eea",
   "metadata": {
    "slideshow": {
     "slide_type": "fragment"
    }
   },
   "source": [
    "* $x(t)$ is said to be an *power signal* if and only if $0 < P < \\infty$, thus implying that $E = \\infty$."
   ]
  },
  {
   "cell_type": "markdown",
   "id": "9d0b0c82",
   "metadata": {
    "slideshow": {
     "slide_type": "fragment"
    }
   },
   "source": [
    "* Signals that satisfy neither property are referred to as neither energy signals nor power signals."
   ]
  },
  {
   "cell_type": "markdown",
   "id": "f819ea5c",
   "metadata": {
    "slideshow": {
     "slide_type": "fragment"
    }
   },
   "source": [
    "Note that a periodic signal is a power signal if its energy content per period is finite, and then the average power of this signal need only be calulated over a period ({ref}`ex:1.18`)."
   ]
  },
  {
   "cell_type": "markdown",
   "id": "ac48a8ea",
   "metadata": {
    "slideshow": {
     "slide_type": "slide"
    }
   },
   "source": [
    "(other_measures_of_signal_size)=\n",
    "## Other Measures of Signal Size\n",
    "\n",
    "There are other measures of signal size that are used:"
   ]
  },
  {
   "cell_type": "markdown",
   "id": "642c0d49",
   "metadata": {
    "slideshow": {
     "slide_type": "subslide"
    }
   },
   "source": [
    "### Mean value\n",
    "\n",
    "$$M_x = \\lim_{T\\to \\infty}\\frac{1}{T}\\int_{-T/2}^{T/2}x(t)\\,dt$$"
   ]
  },
  {
   "cell_type": "markdown",
   "id": "24f489d0",
   "metadata": {
    "slideshow": {
     "slide_type": "fragment"
    }
   },
   "source": [
    "For periodic signals with fundamental period $T_0$\n",
    "\n",
    "$$M_x = \\frac{1}{T_0}\\int_{-T_0/2}^{T_0/2}x(t)\\,dt$$"
   ]
  },
  {
   "cell_type": "markdown",
   "id": "a56fd6c0",
   "metadata": {
    "slideshow": {
     "slide_type": "fragment"
    }
   },
   "source": [
    "The mean value is also known as the dc value."
   ]
  },
  {
   "cell_type": "markdown",
   "id": "f9a4e881",
   "metadata": {
    "slideshow": {
     "slide_type": "notes"
    }
   },
   "source": [
    "**Observations**\n",
    "\n",
    "* the mean value corresponds to the arithmetic average\n",
    "\n",
    "* the signal $x(t) - M_x$ has zero mean"
   ]
  },
  {
   "cell_type": "markdown",
   "id": "ed47dbf0",
   "metadata": {
    "slideshow": {
     "slide_type": "subslide"
    }
   },
   "source": [
    "### Measures of spread"
   ]
  },
  {
   "cell_type": "markdown",
   "id": "4f237ba4",
   "metadata": {
    "slideshow": {
     "slide_type": "fragment"
    }
   },
   "source": [
    "#### Root-mean square (RMS)\n",
    "\n",
    "$$\\mathrm{RMS}_x = \\sqrt{P}$$"
   ]
  },
  {
   "cell_type": "markdown",
   "id": "6583e221",
   "metadata": {
    "slideshow": {
     "slide_type": "fragment"
    }
   },
   "source": [
    "E.g. the power of $x(t) = A\\sin\\left(\\omega t + \\theta\\right)$ is $A^2/2$ hence its RMS value is $A/\\sqrt{2}$."
   ]
  },
  {
   "cell_type": "markdown",
   "id": "42b64df2",
   "metadata": {
    "slideshow": {
     "slide_type": "fragment"
    }
   },
   "source": [
    "#### Peak value\n",
    "\n",
    "$$\\left|x\\right|_\\mathrm{peak} = \\max_t \\left|x(t)\\right|$$"
   ]
  },
  {
   "cell_type": "markdown",
   "id": "144d9f6d",
   "metadata": {
    "slideshow": {
     "slide_type": "subslide"
    }
   },
   "source": [
    "#### Crest factor (CF)\n",
    "\n",
    "$$\\mathrm{CF}_x = \\frac{\\left|x\\right|_\\mathrm{peak}}{\\mathrm{RMS}_x}\\ge 1$$"
   ]
  },
  {
   "cell_type": "markdown",
   "id": "01e7af89",
   "metadata": {
    "slideshow": {
     "slide_type": "fragment"
    }
   },
   "source": [
    "#### Peak-to-average power ratio (PAPR)\n",
    "\n",
    "$$\\mathrm{PAPR}_x = \\frac{\\left|x\\right|_\\mathrm{peak}^2}{P}$$"
   ]
  },
  {
   "cell_type": "markdown",
   "id": "a34d7b1b",
   "metadata": {
    "slideshow": {
     "slide_type": "notes"
    }
   },
   "source": [
    "**Observations**\n",
    "\n",
    "* CF and PAPR measure the dispersion of a signal about its average power.\n",
    "\n",
    "* To express CF or PAPR we often use decibels (dB). To obtain a measure of the quantity $y$ in dB use $20\\log_{10}(y)$."
   ]
  },
  {
   "cell_type": "markdown",
   "id": "5806adc4",
   "metadata": {
    "slideshow": {
     "slide_type": "slide"
    }
   },
   "source": [
    "(worked_examples_2)=\n",
    "## Examples 2"
   ]
  },
  {
   "cell_type": "markdown",
   "id": "662318a3",
   "metadata": {
    "slideshow": {
     "slide_type": "fragment"
    }
   },
   "source": [
    "(ex2.1)=\n",
    "### Example 2.1: Sum of two periodic signals\n",
    "\n",
    "Let $x_1(t)$ and $x_2(t)$ be periodic signals with fundamental periods $T_1$ and $T_2$ respectively. Under which conditions is the sum $x(t) = x_1(t) + x_2(t)$ periodic, and what is the fundamental period of $x(t)$ if it is periodic?"
   ]
  },
  {
   "cell_type": "markdown",
   "id": "6ae439b5",
   "metadata": {
    "slideshow": {
     "slide_type": "notes"
    }
   },
   "source": [
    "For the answer, refer to the lecture recording or see solved problem 1.14 in {cite}`schaum`."
   ]
  },
  {
   "cell_type": "markdown",
   "id": "5947c563",
   "metadata": {
    "slideshow": {
     "slide_type": "subslide"
    }
   },
   "source": [
    "(ex2.2)=\n",
    "### Example 2.2: Periodic signals\n",
    "\n",
    "`````{admonition} MATLAB Example\n",
    ":class: tip\n",
    "We will solve this example by hand and then give the solution in the MATLAB lab.\n",
    "`````"
   ]
  },
  {
   "cell_type": "markdown",
   "id": "7591ae4c",
   "metadata": {
    "slideshow": {
     "slide_type": "fragment"
    }
   },
   "source": [
    "Determine whether or not each of the following signals is periodic. If a signal is periodic, determine its fundamental period.\n",
    "\n",
    "a). $x(t)=\\cos\\left(t + \\frac{\\pi}{4}\\right)$;"
   ]
  },
  {
   "cell_type": "markdown",
   "id": "9199b89c",
   "metadata": {
    "slideshow": {
     "slide_type": "fragment"
    }
   },
   "source": [
    "b). $x(t)=\\sin\\frac{2\\pi}{3}t$;"
   ]
  },
  {
   "cell_type": "markdown",
   "id": "34e59bad",
   "metadata": {
    "slideshow": {
     "slide_type": "fragment"
    }
   },
   "source": [
    "c). $x(t)=\\cos\\frac{\\pi}{3}t+\\sin\\frac{\\pi}{4}t$;"
   ]
  },
  {
   "cell_type": "markdown",
   "id": "dc5c2fab",
   "metadata": {
    "slideshow": {
     "slide_type": "fragment"
    }
   },
   "source": [
    "d). $x(t)=\\cos t + \\sin\\sqrt{2}t$;"
   ]
  },
  {
   "cell_type": "markdown",
   "id": "aee5afba",
   "metadata": {
    "slideshow": {
     "slide_type": "fragment"
    }
   },
   "source": [
    "e). $x(t)=\\sin^2t$;"
   ]
  },
  {
   "cell_type": "markdown",
   "id": "5b782ccb",
   "metadata": {
    "slideshow": {
     "slide_type": "fragment"
    }
   },
   "source": [
    "f). $x(t)=e^{j\\left[(\\pi/2)t-1\\right]}$;"
   ]
  },
  {
   "cell_type": "markdown",
   "id": "706ffc00",
   "metadata": {
    "slideshow": {
     "slide_type": "notes"
    }
   },
   "source": [
    "For the answers, refer to the lecture recording or see solved problem 1.16 in {cite}`schaum`."
   ]
  },
  {
   "cell_type": "markdown",
   "id": "1d7aeaa6",
   "metadata": {
    "slideshow": {
     "slide_type": "subslide"
    }
   },
   "source": [
    "(ex2.3)=\n",
    "### Example 2.3\n",
    "\n",
    "Show that if $x(t + T) = x(t)$, then\n",
    "\n",
    "$$\\int_\\alpha^\\beta x(t)\\,dt=\\int_{\\alpha+T}^{\\beta+T} x(t)\\,dt$$\n",
    "\n",
    "$$\\int_0^T x(t)\\,dt=\\int_{a}^{a+T} x(t)\\,dt$$\n",
    "\n",
    "for any real $\\alpha$, $\\beta$ and $a$."
   ]
  },
  {
   "cell_type": "markdown",
   "id": "512e9e1d",
   "metadata": {
    "slideshow": {
     "slide_type": "notes"
    }
   },
   "source": [
    "For the answer, refer to the lecture recording or see solved problem 1.17 in {cite}`schaum`."
   ]
  },
  {
   "cell_type": "markdown",
   "id": "995dab93",
   "metadata": {
    "slideshow": {
     "slide_type": "subslide"
    }
   },
   "source": [
    "(ex2.4)=\n",
    "### Example 2.4\n",
    "\n",
    "Show that if $x(t)$ is periodic with fundamental period $T_0$, then the normalized average power $P$ of $x(t)$ defined by\n",
    "\n",
    "$$P = \\lim_{T\\to \\infty}\\frac{1}{T}\\int_{-T/2}^{T/2}\\left|x(t)\\right|^2\\;dt$$\n",
    "\n",
    "is the same as the average power $x(t)$ over any interval of length $T_0$, that is,\n",
    "\n",
    "$$P = \\frac{1}{T_0}\\int_{0}^{T_0}\\left|x(t)\\right|^2\\;dt$$"
   ]
  },
  {
   "cell_type": "markdown",
   "id": "08c21828",
   "metadata": {
    "slideshow": {
     "slide_type": "notes"
    }
   },
   "source": [
    "For the answer, refer to the lecture recording or see solved problem 1.18 in {cite}`schaum`."
   ]
  },
  {
   "cell_type": "markdown",
   "id": "a9f12fe2",
   "metadata": {
    "slideshow": {
     "slide_type": "subslide"
    }
   },
   "source": [
    "(ex2.5)=\n",
    "### Example 2.5: Power and energy signals\n",
    "\n",
    "`````{admonition} MATLAB Example\n",
    ":class: tip\n",
    "We will solve this example by hand and then give the solution in the MATLAB lab.\n",
    "`````"
   ]
  },
  {
   "cell_type": "markdown",
   "id": "b152753f",
   "metadata": {
    "slideshow": {
     "slide_type": "fragment"
    }
   },
   "source": [
    "Determine whether the following signals are energy signals, power signals, or neither."
   ]
  },
  {
   "cell_type": "markdown",
   "id": "1957f751",
   "metadata": {
    "slideshow": {
     "slide_type": "fragment"
    }
   },
   "source": [
    "a). $x(t)=e^{-at}u_0(t)$, $a > 0$;"
   ]
  },
  {
   "cell_type": "markdown",
   "id": "129fa11b",
   "metadata": {
    "slideshow": {
     "slide_type": "fragment"
    }
   },
   "source": [
    "b). $x(t)=A\\cos\\left(\\omega_0 t + \\theta\\right)$"
   ]
  },
  {
   "cell_type": "markdown",
   "id": "be3a3a2b",
   "metadata": {
    "slideshow": {
     "slide_type": "fragment"
    }
   },
   "source": [
    "c). $x(t)=t u_0(t)$"
   ]
  },
  {
   "cell_type": "markdown",
   "id": "6673f64d",
   "metadata": {
    "slideshow": {
     "slide_type": "subslide"
    }
   },
   "source": [
    "Note $u_0(t)$ is the unit step (or Heaviside) function formally introduced in the next lecture. For the answer, refer to the lecture recording or see solved problem 1.20 in {cite}`schaum`."
   ]
  },
  {
   "cell_type": "markdown",
   "id": "f7a414c2",
   "metadata": {
    "slideshow": {
     "slide_type": "subslide"
    }
   },
   "source": [
    "(ex2.6)=\n",
    "### Example 2.6\n",
    "\n",
    "Domestic mains power in the UK is delivered as a sinusoidal signal $x(t)=A\\cos(\\omega_0 t + \\theta)$ with frequency of $50\\mathrm{Hz}$ and RMS value of $240\\mathrm{V}$. \n",
    "\n",
    "Calculate the fundamental period $T_0$, fundamental angular frequency $\\omega_0$, average power $P$, peak voltage $A = x_\\mathrm{peak}$, crest factor (CF) and peak-to-average power ratio (PAPR) of the power signal provided to the home. \n",
    "\n",
    "Express CF and PAPR in dB."
   ]
  },
  {
   "cell_type": "markdown",
   "id": "4816c09a",
   "metadata": {
    "slideshow": {
     "slide_type": "notes"
    }
   },
   "source": [
    "## Summary\n",
    "\n",
    "In this lecture we completed our look at signals and the classification of signals. \n",
    "\n",
    "In particular we have looked at\n",
    "\n",
    "* {ref}`p_n_np` \n",
    "* {ref}`e_n_p` of a signal $x(t)$\n",
    "* {ref}`other_measures_of_signal_size`\n",
    "\n",
    "### Unit 2.2: Take aways\n",
    "\n",
    "* A signal is periodic, with period $T$ is $x(t + T) = x(t)\\;\\mathrm{all}\\;t$\n",
    "* Signal energy for a signal $x(t)$:\n",
    "\n",
    "$$E_x = \\int_{-\\infty}^{\\infty}\\left|x(t)\\right|^2\\,dt\\quad\\mathrm{J}$$\n",
    "        \n",
    "* Signal power for a signal $x(t)$:\n",
    "  \n",
    "$$P_x = \\lim_{T\\to \\infty}\\frac{1}{T}\\int_{-T/2}^{T/2}\\left|x(t)\\right|^2\\;dt\\quad\\mathrm{W}$$\n",
    "                \n",
    "* $x(t)$ is said to be an *energy signal* if and only if $0 < E < \\infty$, and so $P = 0$.\n",
    "* $x(t)$ is said to be an *power signal* if and only if $0 < P < \\infty$, thus implying that $E = \\infty$.\n",
    "* Signals that satisfy neither property are referred to as neither energy signals nor power signals.\n",
    "* Signal mean (*average* or *DC value*):\n",
    "  \n",
    "$$M_x = \\lim_{T\\to \\infty}\\frac{1}{T}\\int_{-T/2}^{T/2}x(t)\\,dt.\\quad\\mathrm{For\\, a\\, periodic\\, signal}\\;M_x = \\frac{1}{T_0}\\int_{-T_0/2}^{T_0/2}x(t)\\,dt$$\n",
    "            \n",
    "* Root mean square (RMS): $\\sqrt{P_x}$;\n",
    "* Peak value: $\\left|x\\right|_\\mathrm{peak} = \\max_t \\left|x(t)\\right|$;\n",
    "* Crest factor:\n",
    "  \n",
    "$$\\mathrm{CF}_x = \\frac{\\left|x\\right|_\\mathrm{peak}}{\\mathrm{RMS}_x}\\ge 1$$\n",
    "        \n",
    "* Peak-to-average power ratio (PAPR):\n",
    "\n",
    "$$\\mathrm{PAPR}_x = \\frac{\\left|x\\right|_\\mathrm{peak}^2}{P}$$\n",
    "        \n",
    "* Value of $y$ in decibel (dB) is $20\\log_{10} y$."
   ]
  },
  {
   "cell_type": "markdown",
   "id": "bafba592",
   "metadata": {
    "slideshow": {
     "slide_type": "notes"
    }
   },
   "source": [
    "## Next Time\n",
    "\n",
    "{ref}`elementary_signals`\n",
    "\n",
    "* {ref}`es:intro`\n",
    "* {ref}`heaviside`\n",
    "* {ref}`es:simple_signal_ops`\n",
    "* {ref}`es:synthesis`\n",
    "* {ref}`es:ramp`\n",
    "* {ref}`es:dirac_delta`\n",
    "* {ref}`es:unit_impulse`\n",
    "* {ref}`es:delta_props`"
   ]
  },
  {
   "cell_type": "markdown",
   "id": "6798f434",
   "metadata": {
    "slideshow": {
     "slide_type": "notes"
    }
   },
   "source": [
    "## References\n",
    "\n",
    "```{bibliography}\n",
    ":filter: docname in docnames\n",
    "```"
   ]
  }
 ],
 "metadata": {
  "jupytext": {
   "formats": "ipynb,md:myst",
   "text_representation": {
    "extension": ".md",
    "format_name": "myst",
    "format_version": 0.13,
    "jupytext_version": "1.14.4"
   }
  },
  "kernelspec": {
   "display_name": "Matlab",
   "language": "matlab",
   "name": "matlab"
  },
  "language_info": {
   "codemirror_mode": "octave",
   "file_extension": ".m",
   "help_links": [
    {
     "text": "MetaKernel Magics",
     "url": "https://metakernel.readthedocs.io/en/latest/source/README.html"
    }
   ],
   "mimetype": "text/x-octave",
   "name": "matlab",
   "version": "0.17.1"
  },
  "source_map": [
   15,
   23,
   29,
   34,
   45,
   53,
   57,
   61,
   70,
   74,
   85,
   91,
   100,
   106,
   115,
   123,
   127,
   139,
   143,
   154,
   161,
   165,
   171,
   175,
   183,
   191,
   198,
   206,
   213,
   221,
   227,
   231,
   235,
   239,
   244,
   250,
   255,
   261,
   267,
   271,
   275,
   279,
   283,
   290,
   296,
   302,
   306,
   314,
   318,
   324,
   328,
   334,
   340,
   346,
   354,
   359,
   366,
   370,
   380,
   386,
   390,
   394,
   398,
   402,
   406,
   410,
   423,
   427,
   440,
   444,
   454,
   458,
   462,
   466,
   470,
   474,
   485,
   527,
   542
  ]
 },
 "nbformat": 4,
 "nbformat_minor": 5
}