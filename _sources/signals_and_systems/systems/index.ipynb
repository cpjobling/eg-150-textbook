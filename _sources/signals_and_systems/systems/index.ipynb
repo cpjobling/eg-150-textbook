{
 "cells": [
  {
   "cell_type": "markdown",
   "id": "b5e22d73",
   "metadata": {
    "slideshow": {
     "slide_type": "slide"
    }
   },
   "source": [
    "# Unit 2.4: Systems and Classification of Systems\n",
    "\n",
    "This section is based on Section 1.5 of {cite}`schaum`."
   ]
  },
  {
   "cell_type": "markdown",
   "id": "188e6065",
   "metadata": {
    "slideshow": {
     "slide_type": "fragment"
    }
   },
   "source": [
    "Follow along at [cpjobling.github.io/eg-150-textbook/signals_and_systems/systems](https://cpjobling.github.io/eg-150-textbook/signals_and_systems/systems)\n",
    "\n",
    "![QR Code](pictures/qrcode_unit2.4.png)"
   ]
  },
  {
   "cell_type": "markdown",
   "id": "132b16c3",
   "metadata": {
    "slideshow": {
     "slide_type": "notes"
    }
   },
   "source": [
    "## Subjects to be covered\n",
    "\n",
    "* {ref}`system_representation`\n",
    "* {ref}`deterministic_and_stochastic_systems`\n",
    "* {ref}`continuous_time_and_discrete_time_systems`\n",
    "* {ref}`systems_with_memory_and_without_memory`\n",
    "* {ref}`causal_and_non-causal_systems`\n",
    "* {ref}`linear_systems_and_nonlinear_systems`\n",
    "* {ref}`time_invariant_and_time_varying_systems`\n",
    "* {ref}`linear_time_invariant_systems`\n",
    "* {ref}`stable_systems`\n",
    "* {ref}`feedback_systems`\n",
    "* {ref}`worked_examples_4`"
   ]
  },
  {
   "cell_type": "markdown",
   "id": "97215308",
   "metadata": {
    "slideshow": {
     "slide_type": "slide"
    }
   },
   "source": [
    "(system_representation)=\n",
    "## System Representation\n",
    "\n",
    "A *system* is a mathematical model of a physical process that relates\n",
    "\n",
    " the *input* (or *excitation*) signal to the *output* (or *response*) signal."
   ]
  },
  {
   "cell_type": "markdown",
   "id": "983c492a",
   "metadata": {
    "slideshow": {
     "slide_type": "fragment"
    }
   },
   "source": [
    "Let $x$ and $y$ be the input and output signals, respectively, of a system. Then the system is viewed as a *transformation* (or *mapping*) of $x$ into $y$. The transformation is represented by the mathematical notation\n",
    "\n",
    "$$y = \\mathbf{T}x$$\n",
    "\n",
    "where $\\mathbf{T}$ is the *operator* representing some well defined rule by which $x$ is transformed into $y$."
   ]
  },
  {
   "cell_type": "markdown",
   "id": "77940a31",
   "metadata": {
    "slideshow": {
     "slide_type": "notes"
    }
   },
   "source": [
    "The relationship is depicted graphically as shown in {numref}`fig:system`(a)."
   ]
  },
  {
   "cell_type": "markdown",
   "id": "ca699966",
   "metadata": {
    "slideshow": {
     "slide_type": "notes"
    }
   },
   "source": [
    "Multiple input and/or output systems are possible as shown in {numref}`fig:system`(b). In this module we will restrict our attention to the single-input, single-output case."
   ]
  },
  {
   "cell_type": "markdown",
   "id": "362001e7",
   "metadata": {
    "slideshow": {
     "slide_type": "subslide"
    }
   },
   "source": [
    ":::{figure-md} fig:system\n",
    "<img src=\"pictures/system.png\" alt=\"System with single or multiple inputs and outputs\" width=\"60%\">\n",
    "\n",
    "System with single or multiple inputs and outputs\n",
    ":::"
   ]
  },
  {
   "cell_type": "markdown",
   "id": "052a6e1b",
   "metadata": {
    "slideshow": {
     "slide_type": "slide"
    }
   },
   "source": [
    "(deterministic_and_stochastic_systems)=\n",
    "## Deterministic and Stochastic Systems"
   ]
  },
  {
   "cell_type": "markdown",
   "id": "776d175e",
   "metadata": {
    "slideshow": {
     "slide_type": "fragment"
    }
   },
   "source": [
    "If the input and output signals $x$ and $y$ are deterministic signals, then the system is called a deterministic system."
   ]
  },
  {
   "cell_type": "markdown",
   "id": "8329bc8c",
   "metadata": {
    "slideshow": {
     "slide_type": "fragment"
    }
   },
   "source": [
    "If the input and output signals $x$ and $y$ are random signals, then the system is called a *stochastic* system."
   ]
  },
  {
   "cell_type": "markdown",
   "id": "2dee87f6",
   "metadata": {
    "slideshow": {
     "slide_type": "slide"
    }
   },
   "source": [
    "(continuous_time_and_discrete_time_systems)=\n",
    "\n",
    "## Continuous-Time and Discrete-Time Systems"
   ]
  },
  {
   "cell_type": "markdown",
   "id": "a543b2af",
   "metadata": {
    "slideshow": {
     "slide_type": "fragment"
    }
   },
   "source": [
    "If the input and output signals  𝑥  and  𝑦  are continuous-time signals, then the system is called a *continuous-time system* ({numref}`fig:ct_n_dt_system`(a))."
   ]
  },
  {
   "cell_type": "markdown",
   "id": "4a41fb1a",
   "metadata": {
    "slideshow": {
     "slide_type": "fragment"
    }
   },
   "source": [
    "If the input and output signals  𝑥  and  𝑦  are discrete-time signals or sequences, then the system is called a *discrete-time system* ({numref}`fig:ct_n_dt_system`(b))."
   ]
  },
  {
   "cell_type": "markdown",
   "id": "ff12e3f5",
   "metadata": {
    "slideshow": {
     "slide_type": "fragment"
    }
   },
   "source": [
    ":::{figure-md} fig:ct_n_dt_system\n",
    "<img src=\"pictures/ct_n_dt_system.png\" alt=\"Continuous-time and discrete-time systems\" width=\"60%\">\n",
    "\n",
    "(a) Continuous-time system; (b) discrete time system.\n",
    ":::"
   ]
  },
  {
   "cell_type": "markdown",
   "id": "8247e40f",
   "metadata": {
    "slideshow": {
     "slide_type": "notes"
    }
   },
   "source": [
    "Note that in a continuous-time system the input $x(t)$ and $y(t)$ are often expressed as a differential equation (see Example 4.1) and in a discrete-time system $x[n]$ and $y[n]$ are often expressed by a difference equation."
   ]
  },
  {
   "cell_type": "markdown",
   "id": "969019c7",
   "metadata": {
    "slideshow": {
     "slide_type": "slide"
    }
   },
   "source": [
    "(systems_with_memory_and_without_memory)=\n",
    "## Systems with Memory and without Memory"
   ]
  },
  {
   "cell_type": "markdown",
   "id": "ebbcdf74",
   "metadata": {
    "slideshow": {
     "slide_type": "fragment"
    }
   },
   "source": [
    "A system is said to be *memoryless* if the output at any time only depends on the input at the same time."
   ]
  },
  {
   "cell_type": "markdown",
   "id": "b891422a",
   "metadata": {
    "slideshow": {
     "slide_type": "fragment"
    }
   },
   "source": [
    "Otherwise the system is said to have *memory*."
   ]
  },
  {
   "cell_type": "markdown",
   "id": "976d8cd8",
   "metadata": {
    "slideshow": {
     "slide_type": "subslide"
    }
   },
   "source": [
    "### A memoryless system\n",
    "\n",
    "An example of a memoryless system is a resistor $R$ with and the input $x(t)$ taken as the current and the voltage taken as the output $y(t)$."
   ]
  },
  {
   "cell_type": "markdown",
   "id": "eb081a55",
   "metadata": {
    "slideshow": {
     "slide_type": "fragment"
    }
   },
   "source": [
    ":::{figure-md}  fig:resistor\n",
    "<img src=\"pictures/resistor.png\" alt=\"A resistor is an example of a memoryless system\" width=\"50%\">\n",
    "\n",
    "A memoryless system: a resistor\n",
    ":::"
   ]
  },
  {
   "cell_type": "markdown",
   "id": "e12a3f0b",
   "metadata": {
    "slideshow": {
     "slide_type": "subslide"
    }
   },
   "source": [
    "The input-output relationship (Ohm's law) of a resistor is\n",
    "\n",
    "$$y(t) = Rx(t)$$"
   ]
  },
  {
   "cell_type": "markdown",
   "id": "89945229",
   "metadata": {
    "slideshow": {
     "slide_type": "subslide"
    }
   },
   "source": [
    "### A system with memory\n",
    "\n",
    "An example of a system with memory is a capacitor $C$ with and the current as the input $x(t)$ taken as the current and the voltage as the output $y(t)$."
   ]
  },
  {
   "cell_type": "markdown",
   "id": "b0b6a3fe",
   "metadata": {
    "slideshow": {
     "slide_type": "fragment"
    }
   },
   "source": [
    ":::{figure-md}  fig:capacitor\n",
    "<img src=\"pictures/capacitor.png\" alt=\"A capacitor is an example of a system with memory\" width=\"50%\">\n",
    "\n",
    "A system with memory: a capacitor\n",
    ":::"
   ]
  },
  {
   "cell_type": "markdown",
   "id": "85b6c65b",
   "metadata": {
    "slideshow": {
     "slide_type": "subslide"
    }
   },
   "source": [
    "Then:\n",
    "\n",
    "$$y(t) = \\frac{1}{C}\\int_{-\\infty}^{t}x(\\tau)\\,d\\tau$$"
   ]
  },
  {
   "cell_type": "markdown",
   "id": "48468081",
   "metadata": {
    "slideshow": {
     "slide_type": "slide"
    }
   },
   "source": [
    "(causal_and_non-causal_systems)=\n",
    "## Causal and Non-Causal Systems\n",
    "\n",
    "A system is called *causal* if its output at the present time depends only on the present and/or past values of the input."
   ]
  },
  {
   "cell_type": "markdown",
   "id": "5a8e05f2",
   "metadata": {
    "slideshow": {
     "slide_type": "fragment"
    }
   },
   "source": [
    "Thus, in a causal system, it is not possible to obtain an output before an input is applied to the system."
   ]
  },
  {
   "cell_type": "markdown",
   "id": "311bfd4a",
   "metadata": {
    "slideshow": {
     "slide_type": "fragment"
    }
   },
   "source": [
    "A system is called *noncausal* (or *anticipative*) if its output at the present time depends on future values of the input."
   ]
  },
  {
   "cell_type": "markdown",
   "id": "8917b538",
   "metadata": {
    "slideshow": {
     "slide_type": "fragment"
    }
   },
   "source": [
    "An example of a noncausal system is\n",
    "\n",
    "$$y(t) = x(t + 1)$$"
   ]
  },
  {
   "cell_type": "markdown",
   "id": "0ceaf070",
   "metadata": {
    "slideshow": {
     "slide_type": "notes"
    }
   },
   "source": [
    "Note that all memoryless systems are causal but not all *vice versa*."
   ]
  },
  {
   "cell_type": "markdown",
   "id": "987c0495",
   "metadata": {
    "slideshow": {
     "slide_type": "slide"
    }
   },
   "source": [
    "(linear_systems_and_nonlinear_systems)=\n",
    "## Linear Systems and Nonlinear Systems\n",
    "\n",
    "If an operator $\\mathbf{T}$ satisfies the following two conditions, then $\\mathbf{T}$ is called a *linear operator* and the system represented by the linear operator $\\mathbf{T}$ is called a *linear system*:"
   ]
  },
  {
   "cell_type": "markdown",
   "id": "346f2cd1",
   "metadata": {
    "slideshow": {
     "slide_type": "subslide"
    }
   },
   "source": [
    "### Properties of Linear Systems"
   ]
  },
  {
   "cell_type": "markdown",
   "id": "814b3223",
   "metadata": {
    "slideshow": {
     "slide_type": "subslide"
    }
   },
   "source": [
    "#### 1. Additivity\n",
    "\n",
    "Given that $\\mathbf{T}\\left\\{x_1\\right\\} = y_1$ and  $\\mathbf{T}\\left\\{x_2\\right\\} = y_2$,"
   ]
  },
  {
   "cell_type": "markdown",
   "id": "a65cf066",
   "metadata": {
    "slideshow": {
     "slide_type": "fragment"
    }
   },
   "source": [
    "then\n",
    "\n",
    "$$\\mathbf{T}\\left\\{x_1 + x_2\\right\\} = y_1 + y_2$$\n",
    "\n",
    "for any signals $x_1$ and $x_2$."
   ]
  },
  {
   "cell_type": "markdown",
   "id": "41377592",
   "metadata": {
    "slideshow": {
     "slide_type": "subslide"
    }
   },
   "source": [
    "#### 2. Homogeneity (or *Scaling*)\n",
    "\n",
    "$$\\mathbf{T}\\left\\{\\alpha x\\right\\} = \\alpha y$$\n",
    "\n",
    "for any signals $x$ and any scalar $\\alpha$."
   ]
  },
  {
   "cell_type": "markdown",
   "id": "440c2ab6",
   "metadata": {
    "slideshow": {
     "slide_type": "subslide"
    }
   },
   "source": [
    "#### Nonlinear systems\n",
    "\n",
    "Any system that does not satisfy the additivity and homogeneity conditions is classified as a *nonlinear system*."
   ]
  },
  {
   "cell_type": "markdown",
   "id": "23bdaf5a",
   "metadata": {
    "slideshow": {
     "slide_type": "subslide"
    }
   },
   "source": [
    "### Superposition property\n",
    "\n",
    "The additivity and homogeneity conditions can combined in a single condition (known as the *superposition property*) as\n",
    "\n",
    "$$\\mathbf{T}\\left\\{\\alpha_1 x_1 + \\alpha_2 x_2 \\right\\} = \\alpha_1 y_1 + \\alpha_2 y_2$$\n",
    "\n",
    "where $\\alpha_1$ and $\\alpha_2$ are arbitrary scalars."
   ]
  },
  {
   "cell_type": "markdown",
   "id": "78a06490",
   "metadata": {
    "slideshow": {
     "slide_type": "subslide"
    }
   },
   "source": [
    "### Example linear systems\n",
    "\n",
    "Examples of linear systems are the resistor and capacitor discussed earlier."
   ]
  },
  {
   "cell_type": "markdown",
   "id": "91d5ca65",
   "metadata": {
    "slideshow": {
     "slide_type": "subslide"
    }
   },
   "source": [
    "### Example nonlinear systems\n",
    "\n",
    "Examples of nonlinear systems are\n",
    "\n",
    "$$y = x^2$$\n",
    "\n",
    "$$y = \\cos x$$"
   ]
  },
  {
   "cell_type": "markdown",
   "id": "ce6f1bc1",
   "metadata": {
    "slideshow": {
     "slide_type": "subslide"
    }
   },
   "source": [
    "### Zero input property\n",
    "\n",
    "Note that a consequence of the homegenity (or scaling) property of linear systems is that a *zero input yields a zero output*. This follows readilty by setting $\\alpha = 0$ in the equation $\\mathbf{T}\\left\\{\\alpha x\\right\\} = \\alpha y$. This is another important property of linear systems."
   ]
  },
  {
   "cell_type": "markdown",
   "id": "84864cf9",
   "metadata": {
    "slideshow": {
     "slide_type": "slide"
    }
   },
   "source": [
    "(time_invariant_and_time_varying_systems)=\n",
    "## Time-Invariant and Time-Varying Systems"
   ]
  },
  {
   "cell_type": "markdown",
   "id": "cd55bda3",
   "metadata": {
    "slideshow": {
     "slide_type": "fragment"
    }
   },
   "source": [
    "A system is called *time-invariant* if a time-shift (delay or advance) in the input signal causes the same time-shift in the output signal."
   ]
  },
  {
   "cell_type": "markdown",
   "id": "334a5c68",
   "metadata": {
    "slideshow": {
     "slide_type": "fragment"
    }
   },
   "source": [
    "Thus for a continuous-time system, the system is time-invariant if\n",
    "\n",
    "$$\\mathbf{T}\\left\\{x(t - \\tau)\\right\\}=y(t - \\tau)$$\n",
    "\n",
    "for any real value of $\\tau$."
   ]
  },
  {
   "cell_type": "markdown",
   "id": "b3fac7f6",
   "metadata": {
    "slideshow": {
     "slide_type": "subslide"
    }
   },
   "source": [
    "### Time-varying system\n",
    "\n",
    "A system that does not satisfy the equation $\\mathbf{T}\\left\\{x(t - \\tau)\\right\\}=y(t - \\tau)$ is called a *time-varying system*."
   ]
  },
  {
   "cell_type": "markdown",
   "id": "39db4091",
   "metadata": {
    "slideshow": {
     "slide_type": "subslide"
    }
   },
   "source": [
    "### Testing for time-invariance\n",
    "\n",
    "To check for time invariance, we can compare the time-shifted output with the output produced by the time-shifted input (See examples 4.2 and 4.3)."
   ]
  },
  {
   "cell_type": "markdown",
   "id": "883c2681",
   "metadata": {
    "slideshow": {
     "slide_type": "slide"
    }
   },
   "source": [
    "(linear_time_invariant_systems)=\n",
    "## Linear Time-Invariant Systems"
   ]
  },
  {
   "cell_type": "markdown",
   "id": "a3dcf429",
   "metadata": {
    "slideshow": {
     "slide_type": "fragment"
    }
   },
   "source": [
    "If a system is linear and also time-invariant it is called a *linear time-invariant* (LTI) system."
   ]
  },
  {
   "cell_type": "markdown",
   "id": "3de5b44d",
   "metadata": {
    "slideshow": {
     "slide_type": "fragment"
    }
   },
   "source": [
    "All ths systems analysied in in the rest of the module and in **EG-247 Digital Signal Processing** and **EG-243 Control Systems** next year will be LTI systems."
   ]
  },
  {
   "cell_type": "markdown",
   "id": "51742207",
   "metadata": {
    "slideshow": {
     "slide_type": "slide"
    }
   },
   "source": [
    "(stable_systems)=\n",
    "## Stable Systems\n",
    "\n",
    "A system is *bounded-input/bounded-output* (BIBO) *stable* is for any bounded input signal $x$ defined by\n",
    "\n",
    "$$|x|\\le k_1$$\n",
    "\n",
    "the corresponding output $y$ is also bounded defined by\n",
    "\n",
    "$$|y|\\le k_2$$\n",
    "\n",
    "where $k_1$ and $k_2$ are finite real constants."
   ]
  },
  {
   "cell_type": "markdown",
   "id": "ac178a03",
   "metadata": {
    "slideshow": {
     "slide_type": "subslide"
    }
   },
   "source": [
    "### Unstable systems\n",
    "\n",
    "An *unstable* system is one in which not all bounded inputs lead to a bounded output."
   ]
  },
  {
   "cell_type": "markdown",
   "id": "97a33ab3",
   "metadata": {
    "slideshow": {
     "slide_type": "fragment"
    }
   },
   "source": [
    "For example, consider the system where output \n",
    "\n",
    "$$y(t) = t x(t)$$\n",
    "\n",
    "and input $x(t)$ is the unit step $u_0(t)$"
   ]
  },
  {
   "cell_type": "markdown",
   "id": "52827c69",
   "metadata": {
    "slideshow": {
     "slide_type": "fragment"
    }
   },
   "source": [
    "In this case $x(t) = 1$ but the output $y(t)$ increases without bound as $t$ increases."
   ]
  },
  {
   "cell_type": "markdown",
   "id": "d879c42c",
   "metadata": {
    "slideshow": {
     "slide_type": "slide"
    }
   },
   "source": [
    "(feedback_systems)=\n",
    "## Feedback Systems\n",
    "\n",
    "A special class of systems of great importance consists of systems having *feedback*."
   ]
  },
  {
   "cell_type": "markdown",
   "id": "e61052f3",
   "metadata": {
    "slideshow": {
     "slide_type": "fragment"
    }
   },
   "source": [
    "In a *feedback system*, the output signal is fed back and added to the input as shown in {numref}`fig:feedback`."
   ]
  },
  {
   "cell_type": "markdown",
   "id": "fc0e3b20",
   "metadata": {
    "slideshow": {
     "slide_type": "fragment"
    }
   },
   "source": [
    ":::{figure-md} fig:feedback\n",
    "<img src=\"pictures/feedback.png\" alt=\"A feedback system with negative feedback\" width=\"60%\">\n",
    "\n",
    "A feedback system with negative feedback: $e(t) = x(t) - y(t)$.\n",
    ":::"
   ]
  },
  {
   "cell_type": "markdown",
   "id": "4e99eb0f",
   "metadata": {
    "slideshow": {
     "slide_type": "notes"
    }
   },
   "source": [
    "You will see some examples of systems with feedback when you study op-amp circuits in **EG-152 Practical Electronics**, the simple closed-loop systems to be studied in **EG-142 Instrumentation and Control**.  Feedback is also the basis of control theory to be studied next year in **EG-243 Control Systems**."
   ]
  },
  {
   "cell_type": "markdown",
   "id": "abb0e658",
   "metadata": {
    "slideshow": {
     "slide_type": "slide"
    }
   },
   "source": [
    "(worked_examples_4)=\n",
    "## Examples 4\n",
    "\n",
    "(ex4.1)=\n",
    "\n",
    "### Example 4.1: RC Circuit \n",
    "\n",
    "Consider the RC circuit shown in {numref}`fig:rc_circuit`. Find the relationship between the input $x(t)$ and the output $y(t)$\n",
    "\n",
    "(a) If $x(t) = v_s(t)$ and $y(t) = v_c(t)$.\n",
    "\n",
    "(b) If $x(t) = v_s(t)$ and $y(t) = i(t)$.\n",
    "\n",
    ":::{figure-md} fig:rc_circuit\n",
    "<img src=\"pictures/RC_circuit.png\" alt=\"RC circuit\" width=\"60%\">\n",
    "\n",
    "RC circuit\n",
    ":::"
   ]
  },
  {
   "cell_type": "markdown",
   "id": "1ed4b801",
   "metadata": {
    "slideshow": {
     "slide_type": "notes"
    }
   },
   "source": [
    "For the answer, refer to the lecture recording or see solved problem 1.32 in {cite}schaum."
   ]
  },
  {
   "cell_type": "markdown",
   "id": "e83ccbf9",
   "metadata": {
    "slideshow": {
     "slide_type": "subslide"
    }
   },
   "source": [
    "(ex4_2)=\n",
    "### Example 4.2: Capacitor circuit\n",
    "\n",
    "Consider the capacitor shown in {numref}`fig:cap_circuit`. Let the input $x(t) = i(t)$ and the output $y(t) = v_c(t)$.\n",
    "\n",
    "(a) Find the input-output relationship.\n",
    "\n",
    "(b) Determine whether the system is (i) memoryless, (ii) causal, (iii) linear, (iv) time invariant, or (v) stable.\n",
    "\n",
    ":::{figure-md} fig:cap_circuit\n",
    "<img src=\"pictures/cap_circuit.png\" alt=\"A capacitor citcuit.\" width=\"60%\">\n",
    "\n",
    "A capacitor citcuit.\n",
    ":::"
   ]
  },
  {
   "cell_type": "markdown",
   "id": "f6ebccb9",
   "metadata": {
    "slideshow": {
     "slide_type": "notes"
    }
   },
   "source": [
    "For the answer, refer to the lecture recording or see solved problem 1.33 in {cite}schaum."
   ]
  },
  {
   "cell_type": "markdown",
   "id": "61c66839",
   "metadata": {
    "slideshow": {
     "slide_type": "subslide"
    }
   },
   "source": [
    "(ex4_3)=\n",
    "### Example 4.3: Signal modulator\n",
    "\n",
    "Consider the system shown in {numref}`fig:4_3`. Determine whether it is (a) memoryless, (b) causal, (c) linear, (d) time invariant, or (e) stable.\n",
    "\n",
    ":::{figure-md} fig:4_3\n",
    "<img src=\"pictures/fig4_3.png\" alt=\"A system\" width=\"60%\">\n",
    "\n",
    "A signal modulator\n",
    ":::"
   ]
  },
  {
   "cell_type": "markdown",
   "id": "7c3cd4ed",
   "metadata": {
    "slideshow": {
     "slide_type": "notes"
    }
   },
   "source": [
    "For the answer, refer to the lecture recording or see solved problem 1.34 in {cite}schaum."
   ]
  },
  {
   "cell_type": "markdown",
   "id": "2c4fba9a",
   "metadata": {
    "slideshow": {
     "slide_type": "subslide"
    }
   },
   "source": [
    "(ex4_4)=\n",
    "### Example 4.4 \n",
    "\n",
    "A system has the input-output relationship given by\n",
    "\n",
    "$$y = \\mathbf{T}\\left\\{x\\right\\} = x^2$$\n",
    "\n",
    "Show that this system is nonlinear."
   ]
  },
  {
   "cell_type": "markdown",
   "id": "97667a1d",
   "metadata": {
    "slideshow": {
     "slide_type": "notes"
    }
   },
   "source": [
    "For the answer, refer to the lecture recording or see solved problem 1.35 in {cite}schaum."
   ]
  },
  {
   "cell_type": "markdown",
   "id": "6725f71c",
   "metadata": {
    "slideshow": {
     "slide_type": "subslide"
    }
   },
   "source": [
    "(ex4_5)=\n",
    "### Example 4.5\n",
    "\n",
    "Consider the system whose input-output relationship is given by the linear equation \n",
    "\n",
    "$$y = ax + b$$\n",
    "\n",
    "where $x$ and $y$ are the inout and output respectively and $s$ and $b$ are constant. Is this system linear?"
   ]
  },
  {
   "cell_type": "markdown",
   "id": "c59fd0a1",
   "metadata": {
    "slideshow": {
     "slide_type": "notes"
    }
   },
   "source": [
    "For the answer, refer to the lecture recording or see solved problem 1.40 in {cite}schaum."
   ]
  },
  {
   "cell_type": "markdown",
   "id": "52e171b3",
   "metadata": {
    "slideshow": {
     "slide_type": "subslide"
    }
   },
   "source": [
    "(ex4_6)=\n",
    "### Example 4.6 \n",
    "\n",
    "(a) Show that the causality for a continuous-time linear system is equivalent to the following statement: For any time $t_0$ and any input $x(t)$ with $x(t) = 0$ for $t \\le t_0$, the output $y(t)$ is zero for $t \\le t_0$.\n",
    "\n",
    "(b) Find a nonlinear system that is causal but does not satisfy this condition.\n",
    "\n",
    "(c) Find a nonlinear system that satisfies this condition but is not causal."
   ]
  },
  {
   "cell_type": "markdown",
   "id": "e8de9315",
   "metadata": {
    "slideshow": {
     "slide_type": "notes"
    }
   },
   "source": [
    "For the answer, refer to the lecture recording or see solved problem 1.43 in {cite}schaum."
   ]
  },
  {
   "cell_type": "markdown",
   "id": "5b1cd0b4",
   "metadata": {
    "slideshow": {
     "slide_type": "subslide"
    }
   },
   "source": [
    "(ex4_7)=\n",
    "### Example 4.7\n",
    "\n",
    "Let $\\mathbf{T}$ represent a continuous-time LTI system. Then show that\n",
    "\n",
    "$$\\mathbf{T}\\left\\{e^{st}\\right\\}= \\lambda e^{st}$$\n",
    "\n",
    "where $s$ is a complex variable and $\\lambda$ is a complex constant."
   ]
  },
  {
   "cell_type": "markdown",
   "id": "cb9ba2b9",
   "metadata": {
    "slideshow": {
     "slide_type": "notes"
    }
   },
   "source": [
    "For the answer, refer to the lecture recording or see solved problem 1.44 in {cite}schaum."
   ]
  },
  {
   "cell_type": "markdown",
   "id": "16094f5c",
   "metadata": {
    "slideshow": {
     "slide_type": "notes"
    }
   },
   "source": [
    "## Summary\n",
    "\n",
    "In this lecture we have started our look at systems and the classification of systems.\n",
    "\n",
    "In particular we have looked at\n",
    "\n",
    "* {ref}`system_representation`\n",
    "* {ref}`deterministic_and_stochastic_systems`\n",
    "* {ref}`continuous_time_and_discrete_time_systems`\n",
    "* {ref}`systems_with_memory_and_without_memory`\n",
    "* {ref}`causal_and_non-causal_systems`\n",
    "* {ref}`linear_systems_and_nonlinear_systems`\n",
    "* {ref}`time_invariant_and_time_varying_systems`\n",
    "* {ref}`linear_time_invariant_systems`\n",
    "* {ref}`stable_systems`\n",
    "* {ref}`feedback_systems`"
   ]
  },
  {
   "cell_type": "markdown",
   "id": "c7b0e90a",
   "metadata": {
    "slideshow": {
     "slide_type": "notes"
    }
   },
   "source": [
    "## Next time\n",
    "\n",
    "* {ref}`lti_systems`"
   ]
  }
 ],
 "metadata": {
  "jupytext": {
   "formats": "ipynb,md:myst",
   "text_representation": {
    "extension": ".md",
    "format_name": "myst",
    "format_version": 0.13,
    "jupytext_version": "1.14.4"
   }
  },
  "kernelspec": {
   "display_name": "Matlab",
   "language": "matlab",
   "name": "matlab"
  },
  "language_info": {
   "codemirror_mode": "octave",
   "file_extension": ".m",
   "help_links": [
    {
     "text": "MetaKernel Magics",
     "url": "https://metakernel.readthedocs.io/en/latest/source/README.html"
    }
   ],
   "mimetype": "text/x-octave",
   "name": "matlab",
   "version": "0.17.1"
  },
  "source_map": [
   15,
   21,
   27,
   43,
   52,
   60,
   64,
   68,
   76,
   81,
   85,
   89,
   95,
   99,
   103,
   111,
   115,
   120,
   124,
   128,
   134,
   142,
   148,
   154,
   162,
   168,
   175,
   179,
   183,
   189,
   193,
   200,
   204,
   210,
   218,
   226,
   232,
   242,
   248,
   258,
   264,
   269,
   273,
   281,
   287,
   293,
   298,
   302,
   306,
   321,
   327,
   335,
   339,
   346,
   350,
   358,
   362,
   383,
   387,
   404,
   408,
   421,
   425,
   436,
   440,
   451,
   455,
   466,
   470,
   481,
   485,
   504
  ]
 },
 "nbformat": 4,
 "nbformat_minor": 5
}