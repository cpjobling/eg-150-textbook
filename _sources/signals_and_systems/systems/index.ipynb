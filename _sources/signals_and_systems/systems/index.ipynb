{
 "cells": [
  {
   "cell_type": "markdown",
   "id": "dca63ffb",
   "metadata": {
    "slideshow": {
     "slide_type": "slide"
    }
   },
   "source": [
    "# Systems and Classification of Systems\n",
    "\n",
    "This section is based on Section 1.5 of {cite}`schaum`."
   ]
  },
  {
   "cell_type": "markdown",
   "id": "811ee948",
   "metadata": {
    "slideshow": {
     "slide_type": "notes"
    }
   },
   "source": [
    "## Subjects to be covered\n",
    "\n",
    "* {ref}`system_representation`\n",
    "* {ref}`deterministic_and_stochastic_systems`\n",
    "* {ref}`continuous_time_and_discrete_time_systems`\n",
    "* {ref}`systems_with_memory_and_without_memory`\n",
    "* {ref}`causal_and_non-causal_systems`\n",
    "* {ref}`linear_systems_and_nonlinear_systems`\n",
    "* {ref}`time_invariant_and_time_varying_systems`\n",
    "* {ref}`linear_time_invariant_systems`\n",
    "* {ref}`stable_systems`\n",
    "* {ref}`feedback_systems`"
   ]
  },
  {
   "cell_type": "markdown",
   "id": "e1a6c427",
   "metadata": {
    "slideshow": {
     "slide_type": "slide"
    }
   },
   "source": [
    "(system_representation)=\n",
    "## System Representation\n",
    "\n",
    "A *system* is a mathematical model of a physical process that relates\n",
    "\n",
    " the *input* (or *excitation*) signal to the *output* (or *response*) signal."
   ]
  },
  {
   "cell_type": "markdown",
   "id": "78e039c1",
   "metadata": {
    "slideshow": {
     "slide_type": "fragment"
    }
   },
   "source": [
    "Let $x$ and $y$ be the input and output signals, respectively, of a system. Then the system is viewed as a *transformation* (or *mapping*) of $x$ into $y$. The transformation is represented by the mathematical notation\n",
    "\n",
    "$$y = \\mathbf{T}x$$\n",
    "\n",
    "where $\\mathbf{T}$ is the *operator* representing some well defined rule by which $x$ is transformed into $y$."
   ]
  },
  {
   "cell_type": "markdown",
   "id": "eb406af3",
   "metadata": {
    "slideshow": {
     "slide_type": "notes"
    }
   },
   "source": [
    "The relationship is depicted graphically as shown in {numref}`fig:system`(a)."
   ]
  },
  {
   "cell_type": "markdown",
   "id": "00fe4cfb",
   "metadata": {
    "slideshow": {
     "slide_type": "notes"
    }
   },
   "source": [
    "Multiple input and/or output systems are possible as shown in {numref}`fig:system`(b). In this module we will restrict our attention to the single-input, single-output case."
   ]
  },
  {
   "cell_type": "markdown",
   "id": "ed20fe85",
   "metadata": {
    "slideshow": {
     "slide_type": "subslide"
    }
   },
   "source": [
    ":::{figure-md} fig:system\n",
    "<img src=\"pictures/system.png\" alt=\"System with single or multiple inputs and outputs\" width=\"60%\">\n",
    "\n",
    "System with single or multiple inputs and outputs\n",
    ":::"
   ]
  },
  {
   "cell_type": "markdown",
   "id": "24244ffe",
   "metadata": {
    "slideshow": {
     "slide_type": "slide"
    }
   },
   "source": [
    "(deterministic_and_stochastic_systems)=\n",
    "## Deterministic and Stochastic Systems"
   ]
  },
  {
   "cell_type": "markdown",
   "id": "f3378c41",
   "metadata": {
    "slideshow": {
     "slide_type": "fragment"
    }
   },
   "source": [
    "If the input and output signals $x$ and $y$ are deterministic signals, then the system is called a deterministic system."
   ]
  },
  {
   "cell_type": "markdown",
   "id": "f2e3e8c7",
   "metadata": {
    "slideshow": {
     "slide_type": "fragment"
    }
   },
   "source": [
    "If the input and output signals $x$ and $y$ are random signals, then the system is called a *stochastic* system."
   ]
  },
  {
   "cell_type": "markdown",
   "id": "15059b4d",
   "metadata": {
    "slideshow": {
     "slide_type": "slide"
    }
   },
   "source": [
    "(continuous_time_and_discrete_time_systems)=\n",
    "\n",
    "## Continuous-Time and Discrete-Time Systems"
   ]
  },
  {
   "cell_type": "markdown",
   "id": "1de17f49",
   "metadata": {
    "slideshow": {
     "slide_type": "fragment"
    }
   },
   "source": [
    "If the input and output signals  𝑥  and  𝑦  are continuous-time signals, then the system is called a *continuous-time system* ({numref}`fig:ct_n_dt_system`(a))."
   ]
  },
  {
   "cell_type": "markdown",
   "id": "d5e357c5",
   "metadata": {
    "slideshow": {
     "slide_type": "fragment"
    }
   },
   "source": [
    "If the input and output signals  𝑥  and  𝑦  are discrete-time signals or sequences, then the system is called a *discrete-time system* ({numref}`fig:ct_n_dt_system`(b))."
   ]
  },
  {
   "cell_type": "markdown",
   "id": "29084689",
   "metadata": {
    "slideshow": {
     "slide_type": "fragment"
    }
   },
   "source": [
    ":::{figure-md} fig:ct_n_dt_system\n",
    "<img src=\"pictures/ct_n_dt_system.png\" alt=\"Continuous-time and discrete-time systems\" width=\"60%\">\n",
    "\n",
    "(a) Continuous-time system; (b) discrete time system.\n",
    ":::"
   ]
  },
  {
   "cell_type": "markdown",
   "id": "63d52a00",
   "metadata": {
    "slideshow": {
     "slide_type": "notes"
    }
   },
   "source": [
    "Note that in a continuous-time system the input $x(t)$ and $y(t)$ are often expressed as a differential equation (see Example 4.1) and in a discrete-time system $x[n]$ and $y[n]$ are often expressed by a difference equation."
   ]
  },
  {
   "cell_type": "markdown",
   "id": "298f70f0",
   "metadata": {
    "slideshow": {
     "slide_type": "slide"
    }
   },
   "source": [
    "(systems_with_memory_and_without_memory)=\n",
    "## Systems with Memory and without Memory"
   ]
  },
  {
   "cell_type": "markdown",
   "id": "6b33c4a5",
   "metadata": {
    "slideshow": {
     "slide_type": "fragment"
    }
   },
   "source": [
    "A system is said to be *memoryless* if the output at any time only depends on the input at the same time."
   ]
  },
  {
   "cell_type": "markdown",
   "id": "7b846847",
   "metadata": {
    "slideshow": {
     "slide_type": "fragment"
    }
   },
   "source": [
    "Otherwise the system is said to have *memory*."
   ]
  },
  {
   "cell_type": "markdown",
   "id": "301bfb45",
   "metadata": {
    "slideshow": {
     "slide_type": "subslide"
    }
   },
   "source": [
    "### A memoryless system\n",
    "\n",
    "An example of a memoryless system is a resistor $R$ with and the input $x(t)$ taken as the current and the voltage taken as the output $y(t)$."
   ]
  },
  {
   "cell_type": "markdown",
   "id": "9cd1747f",
   "metadata": {
    "slideshow": {
     "slide_type": "fragment"
    }
   },
   "source": [
    ":::{figure-md}  fig:resistor\n",
    "<img src=\"pictures/resistor.png\" alt=\"A resistor is an example of a memoryless system\" width=\"50%\">\n",
    "\n",
    "A memoryless system: a resistor\n",
    ":::"
   ]
  },
  {
   "cell_type": "markdown",
   "id": "a6e3cceb",
   "metadata": {
    "slideshow": {
     "slide_type": "subslide"
    }
   },
   "source": [
    "The input-output relationship (Ohm's law) of a resistor is\n",
    "\n",
    "$$y(t) = Rx(t)$$"
   ]
  },
  {
   "cell_type": "markdown",
   "id": "56163771",
   "metadata": {
    "slideshow": {
     "slide_type": "subslide"
    }
   },
   "source": [
    "### A system with memory\n",
    "\n",
    "An example of a system with memory is a capacitor $C$ with and the current as the input $x(t)$ taken as the current and the voltage as the output $y(t)$."
   ]
  },
  {
   "cell_type": "markdown",
   "id": "d6f76dbc",
   "metadata": {
    "slideshow": {
     "slide_type": "fragment"
    }
   },
   "source": [
    ":::{figure-md}  fig:capacitor\n",
    "<img src=\"pictures/capacitor.png\" alt=\"A capacitor is an example of a system with memory\" width=\"50%\">\n",
    "\n",
    "A system with memory: a capacitor\n",
    ":::"
   ]
  },
  {
   "cell_type": "markdown",
   "id": "e06d139f",
   "metadata": {
    "slideshow": {
     "slide_type": "subslide"
    }
   },
   "source": [
    "Then:\n",
    "\n",
    "$$y(t) = \\frac{1}{C}\\int_{-\\infty}^{t}x(\\tau)\\,d\\tau$$"
   ]
  },
  {
   "cell_type": "markdown",
   "id": "bd6744a8",
   "metadata": {
    "slideshow": {
     "slide_type": "slide"
    }
   },
   "source": [
    "(causal_and_non-causal_systems)=\n",
    "## Causal and Non-Causal Systems\n",
    "\n",
    "A system is called *causal* if its output at the present time depends only on the present and/or past values of the input."
   ]
  },
  {
   "cell_type": "markdown",
   "id": "10c474bc",
   "metadata": {
    "slideshow": {
     "slide_type": "fragment"
    }
   },
   "source": [
    "Thus, in a causal system, it is not possible to obtain an output before an input is applied to the system."
   ]
  },
  {
   "cell_type": "markdown",
   "id": "0f91f29c",
   "metadata": {
    "slideshow": {
     "slide_type": "fragment"
    }
   },
   "source": [
    "A system is called *noncausal* (or *anticipative*) if its output at the present time depends on future values of the input."
   ]
  },
  {
   "cell_type": "markdown",
   "id": "a719156e",
   "metadata": {
    "slideshow": {
     "slide_type": "fragment"
    }
   },
   "source": [
    "An example of a noncausal system is\n",
    "\n",
    "$$y(t) = x(t + 1)$$"
   ]
  },
  {
   "cell_type": "markdown",
   "id": "596cf097",
   "metadata": {
    "slideshow": {
     "slide_type": "notes"
    }
   },
   "source": [
    "Note that all memoryless systems are causal but not all *vice versa*."
   ]
  },
  {
   "cell_type": "markdown",
   "id": "6154cf60",
   "metadata": {
    "slideshow": {
     "slide_type": "slide"
    }
   },
   "source": [
    "(linear_systems_and_nonlinear_systems)=\n",
    "## Linear Systems and Nonlinear Systems\n",
    "\n",
    "If an operator $\\mathbf{T}$ satisfies the following two conditions, then $\\mathbf{T}$ is called a *linear operator* and the system represented by the linear operator $\\mathbf{T}$ is called a *linear system*:"
   ]
  },
  {
   "cell_type": "markdown",
   "id": "4a64c55e",
   "metadata": {
    "slideshow": {
     "slide_type": "subslide"
    }
   },
   "source": [
    "### Properties of Linear Systems"
   ]
  },
  {
   "cell_type": "markdown",
   "id": "78b8e366",
   "metadata": {
    "slideshow": {
     "slide_type": "subslide"
    }
   },
   "source": [
    "#### 1. Additivity\n",
    "\n",
    "Given that $\\mathbf{T}\\left\\{x_1\\right\\} = y_1$ and  $\\mathbf{T}\\left\\{x_2\\right\\} = y_2$,"
   ]
  },
  {
   "cell_type": "markdown",
   "id": "fcfc61de",
   "metadata": {
    "slideshow": {
     "slide_type": "fragment"
    }
   },
   "source": [
    "then\n",
    "\n",
    "$$\\mathbf{T}\\left\\{x_1 + x_2\\right\\} = y_1 + y_2$$\n",
    "\n",
    "for any signals $x_1$ and $x_2$."
   ]
  },
  {
   "cell_type": "markdown",
   "id": "7a6e31e8",
   "metadata": {
    "slideshow": {
     "slide_type": "subslide"
    }
   },
   "source": [
    "#### 2. Homogeneity (or *Scaling*)\n",
    "\n",
    "$$\\mathbf{T}\\left\\{\\alpha x\\right\\} = \\alpha y$$\n",
    "\n",
    "for any signals $x$ and any scalar $\\alpha$."
   ]
  },
  {
   "cell_type": "markdown",
   "id": "a1c3f616",
   "metadata": {
    "slideshow": {
     "slide_type": "subslide"
    }
   },
   "source": [
    "#### Nonlinear systems\n",
    "\n",
    "Any system that does not satisfy the additivity and homogeneity conditions is classified as a *nonlinear system*."
   ]
  },
  {
   "cell_type": "markdown",
   "id": "9a1d42fb",
   "metadata": {
    "slideshow": {
     "slide_type": "subslide"
    }
   },
   "source": [
    "### Superposition property\n",
    "\n",
    "The additivity and homogeneity conditions can combined in a single condition (known as the *superposition property*) as\n",
    "\n",
    "$$\\mathbf{T}\\left\\{\\alpha_1 x_1 + \\alpha_2 x_2 \\right\\} = \\alpha_1 y_1 + \\alpha_2 y_2$$\n",
    "\n",
    "where $\\alpha_1$ and $\\alpha_2$ are arbitrary scalars."
   ]
  },
  {
   "cell_type": "markdown",
   "id": "28eea46d",
   "metadata": {
    "slideshow": {
     "slide_type": "subslide"
    }
   },
   "source": [
    "### Example linear systems\n",
    "\n",
    "Examples of linear systems are the resistor and capacitor discussed earlier."
   ]
  },
  {
   "cell_type": "markdown",
   "id": "5452da9a",
   "metadata": {
    "slideshow": {
     "slide_type": "subslide"
    }
   },
   "source": [
    "### Example nonlinear systems\n",
    "\n",
    "Examples of nonlinear systems are\n",
    "\n",
    "$$y = x^2$$\n",
    "\n",
    "$$y = \\cos x$$"
   ]
  },
  {
   "cell_type": "markdown",
   "id": "13ae05ff",
   "metadata": {
    "slideshow": {
     "slide_type": "subslide"
    }
   },
   "source": [
    "### Zero input property\n",
    "\n",
    "Note that a consequence of the homegenity (or scaling) property of linear systems is that a *zero input yields a zero output*. This follows readilty by setting $\\alpha = 0$ in the equation $\\mathbf{T}\\left\\{\\alpha x\\right\\} = \\alpha y$. This is another important property of linear systems."
   ]
  },
  {
   "cell_type": "markdown",
   "id": "bf0ecae0",
   "metadata": {
    "slideshow": {
     "slide_type": "slide"
    }
   },
   "source": [
    "(time_invariant_and_time_varying_systems)=\n",
    "## Time-Invariant and Time-Varying Systems"
   ]
  },
  {
   "cell_type": "markdown",
   "id": "4b6aed7c",
   "metadata": {
    "slideshow": {
     "slide_type": "fragment"
    }
   },
   "source": [
    "A system is called *time-invariant* if a time-shift (delay or advance) in the input signal causes the same time-shift in the output signal."
   ]
  },
  {
   "cell_type": "markdown",
   "id": "38834820",
   "metadata": {
    "slideshow": {
     "slide_type": "fragment"
    }
   },
   "source": [
    "Thus for a continuous-time system, the system is time-invariant if\n",
    "\n",
    "$$\\mathbf{T}\\left\\{x(t - \\tau)\\right\\}=y(t - \\tau)$$\n",
    "\n",
    "for any real value of $\\tau$."
   ]
  },
  {
   "cell_type": "markdown",
   "id": "646dc59e",
   "metadata": {
    "slideshow": {
     "slide_type": "subslide"
    }
   },
   "source": [
    "### Time-varying system\n",
    "\n",
    "A system that does not satisfy the equation $\\mathbf{T}\\left\\{x(t - \\tau)\\right\\}=y(t - \\tau)$ is called a *time-varying system*."
   ]
  },
  {
   "cell_type": "markdown",
   "id": "c95a2ddc",
   "metadata": {
    "slideshow": {
     "slide_type": "subslide"
    }
   },
   "source": [
    "### Testing for time-invariance\n",
    "\n",
    "To check for time invariance, we can compare the time-shifted output with the output produced by the time-shifted input (See examples 4.2 and 4.3)."
   ]
  },
  {
   "cell_type": "markdown",
   "id": "17cb534e",
   "metadata": {
    "slideshow": {
     "slide_type": "slide"
    }
   },
   "source": [
    "(linear_time_invariant_systems)=\n",
    "## Linear Time-Invariant Systems"
   ]
  },
  {
   "cell_type": "markdown",
   "id": "505f662e",
   "metadata": {
    "slideshow": {
     "slide_type": "fragment"
    }
   },
   "source": [
    "If a system is linear and also time-invariant it is called a *linear time-invariant* (LTI) system."
   ]
  },
  {
   "cell_type": "markdown",
   "id": "d6e6eed1",
   "metadata": {
    "slideshow": {
     "slide_type": "fragment"
    }
   },
   "source": [
    "All ths systems analysied in in the rest of the module and in **EG-247 Digital Signal Processing** and **EG-243 Control Systems** next year will be LTI systems."
   ]
  },
  {
   "cell_type": "markdown",
   "id": "2d0d0124",
   "metadata": {
    "slideshow": {
     "slide_type": "slide"
    }
   },
   "source": [
    "(stable_systems)=\n",
    "## Stable Systems\n",
    "\n",
    "A system is *bounded-input/bounded-output* (BIBO) *stable* is for any bounded input signal $x$ defined by\n",
    "\n",
    "$$|x|\\le k_1$$\n",
    "\n",
    "the corresponding output $y$ is also bounded defined by\n",
    "\n",
    "$$|y|\\le k_2$$\n",
    "\n",
    "where $k_1$ and $k_2$ are finite real constants."
   ]
  },
  {
   "cell_type": "markdown",
   "id": "1b28fbb1",
   "metadata": {
    "slideshow": {
     "slide_type": "subslide"
    }
   },
   "source": [
    "### Unstable systems\n",
    "\n",
    "An *unstable* system is one in which not all bounded inputs lead to a bounded output."
   ]
  },
  {
   "cell_type": "markdown",
   "id": "e2abf12f",
   "metadata": {
    "slideshow": {
     "slide_type": "fragment"
    }
   },
   "source": [
    "For example, consider the system where output \n",
    "\n",
    "$$y(t) = t x(t)$$\n",
    "\n",
    "and input $x(t)$ is the unit step $u_0(t)$"
   ]
  },
  {
   "cell_type": "markdown",
   "id": "ef47bfc3",
   "metadata": {
    "slideshow": {
     "slide_type": "fragment"
    }
   },
   "source": [
    "In this case $x(t) = 1$ but the output $y(t)$ increases without bound as $t$ increases."
   ]
  },
  {
   "cell_type": "markdown",
   "id": "e49c5209",
   "metadata": {
    "slideshow": {
     "slide_type": "slide"
    }
   },
   "source": [
    "(feedback_systems)=\n",
    "## Feedback Systems\n",
    "\n",
    "A special class of systems of great importance consists of systems having *feedback*."
   ]
  },
  {
   "cell_type": "markdown",
   "id": "ddeac53b",
   "metadata": {
    "slideshow": {
     "slide_type": "fragment"
    }
   },
   "source": [
    "In a *feedback system*, the output signal is fed back and added to the input as shown in {numref}`fig:feedback`."
   ]
  },
  {
   "cell_type": "markdown",
   "id": "44f37240",
   "metadata": {
    "slideshow": {
     "slide_type": "fragment"
    }
   },
   "source": [
    ":::{figure-md} fig:feedback\n",
    "<img src=\"pictures/feedback.png\" alt=\"A feedback system with negative feedback\" width=\"60%\">\n",
    "\n",
    "A feedback system with negative feedback: $e(t) = x(t) - y(t)$.\n",
    ":::"
   ]
  },
  {
   "cell_type": "markdown",
   "id": "24cf9113",
   "metadata": {
    "slideshow": {
     "slide_type": "notes"
    }
   },
   "source": [
    "You will see some examples of systems with feedback when you study op-amp circuits in **EG-152 Practical Electronics**, the simple closed-loop systems to be studied in **EG-142 Instrumentation and Control**.  Feedback is also the basis of control theory to be studied next year in **EG-243 Control Systems**."
   ]
  },
  {
   "cell_type": "markdown",
   "id": "2de7c438",
   "metadata": {
    "slideshow": {
     "slide_type": "slide"
    }
   },
   "source": [
    "(worked_examples_4)=\n",
    "## Examples 4\n",
    "\n",
    "(ex4.1)=\n",
    "\n",
    "4.1 Consider the RC circuit shown in {numref}`fig:rc_circuit`. Find the relationship between the input $x(t)$ and the output $y(t)$\n",
    "\n",
    "(a) If $x(t) = v_s(t)$ and $y(t) = v_c(t)$.\n",
    "\n",
    "(b) If $x(t) = v_s(t)$ and $y(t) = i(t)$.\n",
    "\n",
    ":::{figure-md} fig:rc_circuit\n",
    "<img src=\"pictures/RC_circuit.png\" alt=\"RC circuit\" width=\"60%\">\n",
    "\n",
    "RC circuit\n",
    ":::"
   ]
  },
  {
   "cell_type": "markdown",
   "id": "6615143f",
   "metadata": {
    "slideshow": {
     "slide_type": "notes"
    }
   },
   "source": [
    "For the answer, refer to the lecture recording or see solved problem 1.32 in {cite}schaum."
   ]
  },
  {
   "cell_type": "markdown",
   "id": "e53ad74f",
   "metadata": {
    "slideshow": {
     "slide_type": "subslide"
    }
   },
   "source": [
    "4.2 Consider the capacitor shown in {numref}`fig:cap_circuit`. Let the input $x(t) = i(t)$ and the output $y(t) = v_c(t)$.\n",
    "\n",
    "(a) Find the input-output relationship.\n",
    "\n",
    "(b) Determine whether the system is (i) memoryless, (ii) causal, (iii) linear, (iv) time invariant, or (v) stable.\n",
    "\n",
    ":::{figure-md} fig:cap_circuit\n",
    "<img src=\"pictures/cap_circuit.png\" alt=\"A capacitor citcuit.\" width=\"60%\">\n",
    "\n",
    "A capacitor citcuit.\n",
    ":::"
   ]
  },
  {
   "cell_type": "markdown",
   "id": "4dbd553d",
   "metadata": {
    "slideshow": {
     "slide_type": "notes"
    }
   },
   "source": [
    "For the answer, refer to the lecture recording or see solved problem 1.33 in {cite}schaum."
   ]
  },
  {
   "cell_type": "markdown",
   "id": "631308c8",
   "metadata": {
    "slideshow": {
     "slide_type": "subslide"
    }
   },
   "source": [
    "4.3 Consider the system shown in {numref}`fig:4_3`. Determine whether it is (a) memoryless, (b) causal, (c) linear, (d) time invariant, or (e) stable.\n",
    "\n",
    ":::{figure-md} fig:4_3\n",
    "<img src=\"pictures/fig4_3.png\" alt=\"A system\" width=\"60%\">\n",
    "\n",
    "A system\n",
    ":::"
   ]
  },
  {
   "cell_type": "markdown",
   "id": "22994664",
   "metadata": {
    "slideshow": {
     "slide_type": "notes"
    }
   },
   "source": [
    "For the answer, refer to the lecture recording or see solved problem 1.34 in {cite}schaum."
   ]
  },
  {
   "cell_type": "markdown",
   "id": "4cbcef6f",
   "metadata": {
    "slideshow": {
     "slide_type": "subslide"
    }
   },
   "source": [
    "4.4 A system has the input-output relationship given by\n",
    "\n",
    "$$y = \\mathbf{T}\\left\\{x\\right\\} = x^2$$\n",
    "\n",
    "Show that this system is nonlinear."
   ]
  },
  {
   "cell_type": "markdown",
   "id": "ce8aab0d",
   "metadata": {
    "slideshow": {
     "slide_type": "notes"
    }
   },
   "source": [
    "For the answer, refer to the lecture recording or see solved problem 1.35 in {cite}schaum."
   ]
  },
  {
   "cell_type": "markdown",
   "id": "e467977e",
   "metadata": {
    "slideshow": {
     "slide_type": "subslide"
    }
   },
   "source": [
    "4.5 Consider the system whose input-output relationship is given by the linear equation \n",
    "\n",
    "$$y = ax + b$$\n",
    "\n",
    "where $x$ and $y$ are the inout and output respectively and $s$ and $b$ are constant. Is this system linear?"
   ]
  },
  {
   "cell_type": "markdown",
   "id": "bdedccdb",
   "metadata": {
    "slideshow": {
     "slide_type": "notes"
    }
   },
   "source": [
    "For the answer, refer to the lecture recording or see solved problem 1.40 in {cite}schaum."
   ]
  },
  {
   "cell_type": "markdown",
   "id": "781fde43",
   "metadata": {
    "slideshow": {
     "slide_type": "subslide"
    }
   },
   "source": [
    "4.6 \n",
    "\n",
    "(a) Show that the causality for a continuous-time linear system is equivalent to the following statement: For any time $t_0$ and any input $x(t)$ with $x(t) = 0$ for $t \\le t_0$, the output $y(t)$ is zero for $t \\le t_0$.\n",
    "\n",
    "(b) Find a nonlinear system that is causal but does not satisfy this condition.\n",
    "\n",
    "(c) Find a nonlinear system that satisfies this condition but is not causal."
   ]
  },
  {
   "cell_type": "markdown",
   "id": "a40d0415",
   "metadata": {
    "slideshow": {
     "slide_type": "notes"
    }
   },
   "source": [
    "For the answer, refer to the lecture recording or see solved problem 1.43 in {cite}schaum."
   ]
  },
  {
   "cell_type": "markdown",
   "id": "c223d7ef",
   "metadata": {
    "slideshow": {
     "slide_type": "subslide"
    }
   },
   "source": [
    "4.7 Let $\\mathbf{T}$ represent a continuous-time LTI system. Then show that\n",
    "\n",
    "$$\\mathbf{T}\\left\\{e^{st}\\right\\}= \\lambda e^{st}$$\n",
    "\n",
    "where $s$ is a complex variable and $\\lambda$ is a complex constant."
   ]
  },
  {
   "cell_type": "markdown",
   "id": "0aa60e21",
   "metadata": {
    "slideshow": {
     "slide_type": "notes"
    }
   },
   "source": [
    "For the answer, refer to the lecture recording or see solved problem 1.44 in {cite}schaum."
   ]
  },
  {
   "cell_type": "markdown",
   "id": "57489171",
   "metadata": {
    "slideshow": {
     "slide_type": "notes"
    }
   },
   "source": [
    "## Summary\n",
    "\n",
    "In this lecture we have started our look at systems and the classification of systems.\n",
    "\n",
    "In particular we have looked at\n",
    "\n",
    "* {ref}`system_representation`\n",
    "* {ref}`deterministic_and_stochastic_systems`\n",
    "* {ref}`continuous_time_and_discrete_time_systems`\n",
    "* {ref}`systems_with_memory_and_without_memory`\n",
    "* {ref}`causal_and_non-causal_systems`\n",
    "* {ref}`linear_systems_and_nonlinear_systems`\n",
    "* {ref}`time_invariant_and_time_varying_systems`\n",
    "* {ref}`linear_time_invariant_systems`\n",
    "* {ref}`stable_systems`\n",
    "* {ref}`feedback_systems`"
   ]
  },
  {
   "cell_type": "markdown",
   "id": "52817cfe",
   "metadata": {
    "slideshow": {
     "slide_type": "notes"
    }
   },
   "source": [
    "## Next time\n",
    "\n",
    "* {ref}`lti_systems`"
   ]
  }
 ],
 "metadata": {
  "jupytext": {
   "formats": "ipynb,md:myst",
   "text_representation": {
    "extension": ".md",
    "format_name": "myst",
    "format_version": 0.13,
    "jupytext_version": "1.14.0"
   }
  },
  "kernelspec": {
   "display_name": "Matlab",
   "language": "matlab",
   "name": "matlab"
  },
  "language_info": {
   "codemirror_mode": "octave",
   "file_extension": ".m",
   "help_links": [
    {
     "text": "MetaKernel Magics",
     "url": "https://metakernel.readthedocs.io/en/latest/source/README.html"
    }
   ],
   "mimetype": "text/x-octave",
   "name": "matlab",
   "version": "0.17.1"
  },
  "source_map": [
   15,
   21,
   36,
   45,
   53,
   57,
   61,
   69,
   74,
   78,
   82,
   88,
   92,
   96,
   104,
   108,
   113,
   117,
   121,
   127,
   135,
   141,
   147,
   155,
   161,
   168,
   172,
   176,
   182,
   186,
   193,
   197,
   203,
   211,
   219,
   225,
   235,
   241,
   251,
   257,
   262,
   266,
   274,
   280,
   286,
   291,
   295,
   299,
   314,
   320,
   328,
   332,
   339,
   343,
   351,
   355,
   374,
   378,
   392,
   396,
   406,
   410,
   418,
   422,
   430,
   434,
   444,
   448,
   456,
   460,
   479
  ]
 },
 "nbformat": 4,
 "nbformat_minor": 5
}