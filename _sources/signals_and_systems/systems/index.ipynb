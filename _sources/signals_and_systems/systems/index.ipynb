{
 "cells": [
  {
   "cell_type": "markdown",
   "id": "752cde6e",
   "metadata": {
    "slideshow": {
     "slide_type": "slide"
    }
   },
   "source": [
    "# Systems and Classification of Systems\n",
    "\n",
    "This section is based on Section 1.5 of {cite}`schaum`."
   ]
  },
  {
   "cell_type": "markdown",
   "id": "48a94664",
   "metadata": {
    "slideshow": {
     "slide_type": "notes"
    }
   },
   "source": [
    "## Subjects to be covered\n",
    "\n",
    "* {ref}`system_representation`\n",
    "* {ref}`deterministic_and_stochastic_systems`\n",
    "* {ref}`continuous_time_and_discrete_time_systems`\n",
    "* {ref}`aystems_with_memory_and_without_memory`\n",
    "* {ref}`causal_and_non-causal_systems`\n",
    "* {ref}`linear_systems_and_nonlinear_systems`\n",
    "* {ref}`linear_time_invariant_systems`\n",
    "* {ref}`stable_systems`\n",
    "* {ref}`feedback_systems`"
   ]
  },
  {
   "cell_type": "markdown",
   "id": "bbdddda2",
   "metadata": {
    "slideshow": {
     "slide_type": "slide"
    }
   },
   "source": [
    "(system_representation)=\n",
    "## System Representation\n",
    "\n",
    "A *system* is a mathematical model of a physical process that relates the *input* (or *excitation*) signal to the *output* (or *response*) signal."
   ]
  },
  {
   "cell_type": "markdown",
   "id": "88e6f4b1",
   "metadata": {
    "slideshow": {
     "slide_type": "fragment"
    }
   },
   "source": [
    "Let $x$ and $y$ be the input and output signals, respectively, of a system. Then the system is viewed as a *transformation* (or *mapping*) of $x$ into $y$. The transformation is represented by the mathematical notation\n",
    "\n",
    "$$y = \\mathbf{T}x$$\n",
    "\n",
    "where $\\mathbf{T}$ is the *operator* representing some well defined rule by which $x$ is transformed into $y$."
   ]
  },
  {
   "cell_type": "markdown",
   "id": "c85ee77b",
   "metadata": {
    "slideshow": {
     "slide_type": "notes"
    }
   },
   "source": [
    "The relationship is depicted graphically as shown in {numref}`fig:system`(a)."
   ]
  },
  {
   "cell_type": "markdown",
   "id": "f947d8e7",
   "metadata": {
    "slideshow": {
     "slide_type": "notes"
    }
   },
   "source": [
    "Multiple input and/or output ssystems are possible as shown in {numref}`fig:system`(b). In this module we will restrict our attention to the single-input, single-output case."
   ]
  },
  {
   "cell_type": "markdown",
   "id": "177e4bd1",
   "metadata": {
    "slideshow": {
     "slide_type": "subslide"
    }
   },
   "source": [
    ":::{figure-md} fig:system\n",
    "<img src=\"pictures/system.png\" alt=\"System with single or multiple inputs and outputs\" width=\"60%\">\n",
    "\n",
    "System with single or multiple inputs and outputs\n",
    ":::"
   ]
  },
  {
   "cell_type": "markdown",
   "id": "f13784ef",
   "metadata": {
    "slideshow": {
     "slide_type": "slide"
    }
   },
   "source": [
    "(deterministic_and_stochastic_systems)=\n",
    "## Deterministic and Stochastic Systems"
   ]
  },
  {
   "cell_type": "markdown",
   "id": "8107a3ae",
   "metadata": {
    "slideshow": {
     "slide_type": "fragment"
    }
   },
   "source": [
    "If the input and output signals $x$ and $y$ are deterministic signals, then the system is called a deterministic system."
   ]
  },
  {
   "cell_type": "markdown",
   "id": "05d65b84",
   "metadata": {
    "slideshow": {
     "slide_type": "fragment"
    }
   },
   "source": [
    "If the input and output signals $x$ and $y$ are random signals, then the system is called a *stochastic* system."
   ]
  },
  {
   "cell_type": "markdown",
   "id": "655e34ea",
   "metadata": {
    "slideshow": {
     "slide_type": "slide"
    }
   },
   "source": [
    "(continuous_time_and_discrete_time_systems)=\n",
    "## Continuous-Time and Discrete-Time Systems"
   ]
  },
  {
   "cell_type": "markdown",
   "id": "6dc77e2a",
   "metadata": {
    "slideshow": {
     "slide_type": "fragment"
    }
   },
   "source": [
    "If the input and output signals  𝑥  and  𝑦  are continuous-time signals, then the system is called a *continuous-time system* ({numref}`fig:ct_n_dt_system`(a))."
   ]
  },
  {
   "cell_type": "markdown",
   "id": "e0dbab83",
   "metadata": {
    "slideshow": {
     "slide_type": "fragment"
    }
   },
   "source": [
    "If the input and output signals  𝑥  and  𝑦  are discrete-time signals or sequences, then the system is called a *discrete-time system* ({numref}`fig:ct_n_dt_system`(b))."
   ]
  },
  {
   "cell_type": "markdown",
   "id": "c29715b9",
   "metadata": {
    "slideshow": {
     "slide_type": "fragment"
    }
   },
   "source": [
    ":::{figure-md} fig:ct_n_dt_system\n",
    "<img src=\"pictures/ct_n_dt_system.png\" alt=\"Continuous-time and discrete-time systems\" width=\"60%\">\n",
    "\n",
    "(a) Continuous-time system; (b) discrete time system.\n",
    ":::"
   ]
  },
  {
   "cell_type": "markdown",
   "id": "cc36cfcb",
   "metadata": {
    "slideshow": {
     "slide_type": "notes"
    }
   },
   "source": [
    " Note that in a continuous-time system the input $x(t)$ and $y(t)$ are often expressed as a differential equation (see Example 4.1) and in a discrete-time system $x[n]$ and $y[n]$ are often expressed by a difference equation."
   ]
  },
  {
   "cell_type": "markdown",
   "id": "3b5f0a88",
   "metadata": {
    "slideshow": {
     "slide_type": "slide"
    }
   },
   "source": [
    "(aystems_with_memory_and_without_memory)=\n",
    "## Systems with Memory and without Memory"
   ]
  },
  {
   "cell_type": "markdown",
   "id": "b6f65999",
   "metadata": {
    "slideshow": {
     "slide_type": "fragment"
    }
   },
   "source": [
    "A system is said to be *memoryless* if the output at any time only depends on the input at the same time."
   ]
  },
  {
   "cell_type": "markdown",
   "id": "edbc0f27",
   "metadata": {
    "slideshow": {
     "slide_type": "fragment"
    }
   },
   "source": [
    "Otherwise the system is said to have *memory*."
   ]
  },
  {
   "cell_type": "markdown",
   "id": "b37c0313",
   "metadata": {
    "slideshow": {
     "slide_type": "subslide"
    }
   },
   "source": [
    "### A memoryless system\n",
    "\n",
    "An example of a memoryless system is a resistor $R$ with and the input $x(t)$ taken as the current and the voltage taken as the output $y(t)$."
   ]
  },
  {
   "cell_type": "markdown",
   "id": "72a9062a",
   "metadata": {
    "slideshow": {
     "slide_type": "fragment"
    }
   },
   "source": [
    ":::{figure-md}  fig:resistor\n",
    "<img src=\"pictures/resistor.png\" alt=\"A resistor is an example of a memoryless system\" width=\"50%\">\n",
    "\n",
    "A memoryless system: a resistor\n",
    ":::"
   ]
  },
  {
   "cell_type": "markdown",
   "id": "f226dd0f",
   "metadata": {
    "slideshow": {
     "slide_type": "subslide"
    }
   },
   "source": [
    "The input-output relationship (Ohm's law) of a resistor is\n",
    "\n",
    "$$y(t) = Rx(t)$$"
   ]
  },
  {
   "cell_type": "markdown",
   "id": "4edd7359",
   "metadata": {
    "slideshow": {
     "slide_type": "subslide"
    }
   },
   "source": [
    "### A system with memory\n",
    "\n",
    "An example of a system with memory is a capacitor $C$ with and the current as the input $x(t)$ taken as the current and the voltage as the output $y(t)$."
   ]
  },
  {
   "cell_type": "markdown",
   "id": "002f037d",
   "metadata": {
    "slideshow": {
     "slide_type": "fragment"
    }
   },
   "source": [
    "::{figure-md}  fig:capacitor\n",
    "<img src=\"pictures/capacitor.png\" alt=\"A capacitor is an example of a system with memory\" width=\"50%\">\n",
    "\n",
    "A system with memory: a capicitor\n",
    ":::\n",
    "\n",
    "Then:\n",
    "\n",
    "+++ {\"slideshow\": {\"slide_type\": \"subslide\"}}\n",
    "\n",
    "Then\n",
    "\n",
    "$$y(t) = \\frac{1}{C}\\int_{-\\infty}^{t}x(\\tau)\\,d\\tau$$\n",
    "\n",
    "+++ {\"slideshow\": {\"slide_type\": \"slide\"}}\n",
    "\n",
    "(causal_and_non-causal_systems)=\n",
    "## Causal and Non-Causal Systems\n",
    "\n",
    "A system is called *causal* if its output at the present time depends only on the present and/or past values of the input. \n",
    "\n",
    "+++ {\"slideshow\": {\"slide_type\": \"fragment\"}}\n",
    "\n",
    "Thus, in a causal system, it is not possible to obtain an output before and input is applied to the system. \n",
    "\n",
    "+++ {\"slideshow\": {\"slide_type\": \"fragment\"}}\n",
    "\n",
    "A system is called *noncausal* (or *anticipative*) if its output at the present time depends on future values of the input. \n",
    "\n",
    "+++ {\"slideshow\": {\"slide_type\": \"fragment\"}}\n",
    "\n",
    "An example of a noncausal system is\n",
    "\n",
    "$$y(t) = x(t + 1)$$\n",
    "\n",
    "+++ {\"slideshow\": {\"slide_type\": \"notes\"}}\n",
    "\n",
    "Note that all memoryless systems are causal but not all *vice versa*.\n",
    "\n",
    "+++ {\"slideshow\": {\"slide_type\": \"slide\"}}\n",
    "\n",
    "(linear_systems_and_nonlinear_systems)=\n",
    "## Linear Systems and Nonlinear Systems\n",
    "\n",
    "+++ {\"slideshow\": {\"slide_type\": \"slide\"}}\n",
    "\n",
    "(linear_time_invariant_systems)=\n",
    "## Linear Time-Invariant Systems\n",
    "\n",
    "+++ {\"slideshow\": {\"slide_type\": \"slide\"}}\n",
    "\n",
    "(stable_systems)=\n",
    "## Stable Systems\n",
    "\n",
    "+++ {\"slideshow\": {\"slide_type\": \"slide\"}}\n",
    "\n",
    "(feedback_systems)=\n",
    "## Feedback Systems\n",
    "\n",
    "+++ {\"slideshow\": {\"slide_type\": \"notes\"}}\n",
    "\n",
    "## Summary\n",
    "\n",
    "In this lecture we have started our look at systems and the classification of systems.\n",
    "\n",
    "In particular we have looked at\n",
    "\n",
    "* {ref}`system_representation`\n",
    "* {ref}`deterministic_and_stochastic_systems`\n",
    "* {ref}`continuous_time_and_discrete_time_systems`\n",
    "* {ref}`aystems_with_memory_and_without_memory`\n",
    "* {ref}`causal_and_non-causal_systems`\n",
    "* {ref}`linear_systems_and_nonlinear_systems`\n",
    "* {ref}`linear_time_invariant_systems`\n",
    "* {ref}`stable_systems`\n",
    "* {ref}`feedback_systems`\n",
    "\n",
    "+++ {\"slideshow\": {\"slide_type\": \"notes\"}}\n",
    "\n",
    "## Next time\n",
    "\n",
    "* {ref}`elementary_signals`"
   ]
  }
 ],
 "metadata": {
  "jupytext": {
   "formats": "ipynb,md:myst",
   "text_representation": {
    "extension": ".md",
    "format_name": "myst",
    "format_version": 0.13,
    "jupytext_version": "1.14.0"
   }
  },
  "kernelspec": {
   "display_name": "Matlab",
   "language": "matlab",
   "name": "matlab"
  },
  "language_info": {
   "codemirror_mode": "octave",
   "file_extension": ".m",
   "help_links": [
    {
     "text": "MetaKernel Magics",
     "url": "https://metakernel.readthedocs.io/en/latest/source/README.html"
    }
   ],
   "mimetype": "text/x-octave",
   "name": "matlab",
   "version": "0.17.1"
  },
  "source_map": [
   15,
   21,
   35,
   42,
   50,
   54,
   58,
   66,
   71,
   75,
   79,
   84,
   88,
   92,
   100,
   104,
   109,
   113,
   117,
   123,
   131,
   137,
   143
  ]
 },
 "nbformat": 4,
 "nbformat_minor": 5
}