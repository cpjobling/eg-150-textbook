{
 "cells": [
  {
   "cell_type": "markdown",
   "id": "d125a16b",
   "metadata": {
    "slideshow": {
     "slide_type": "slide"
    }
   },
   "source": [
    "# Systems and Classification of Systems\n",
    "\n",
    "This section is based on Section 1.5 of {cite}`schaum`."
   ]
  },
  {
   "cell_type": "markdown",
   "id": "d7ff00d5",
   "metadata": {
    "slideshow": {
     "slide_type": "subslide"
    }
   },
   "source": [
    "## System Representation"
   ]
  },
  {
   "cell_type": "markdown",
   "id": "12f3b399",
   "metadata": {
    "slideshow": {
     "slide_type": "subslide"
    }
   },
   "source": [
    "## Deterministic and Stochastic Systems"
   ]
  },
  {
   "cell_type": "markdown",
   "id": "206e7d5d",
   "metadata": {
    "slideshow": {
     "slide_type": "subslide"
    }
   },
   "source": [
    "## Continuous-Time and Discrete-Time Systems"
   ]
  },
  {
   "cell_type": "markdown",
   "id": "637cc749",
   "metadata": {
    "slideshow": {
     "slide_type": "subslide"
    }
   },
   "source": [
    "## Systems with Memory and without Memory"
   ]
  },
  {
   "cell_type": "markdown",
   "id": "8cb8842d",
   "metadata": {
    "slideshow": {
     "slide_type": "subslide"
    }
   },
   "source": [
    "## Causal and Non-Causal Systems"
   ]
  },
  {
   "cell_type": "markdown",
   "id": "1fe9e8cd",
   "metadata": {
    "slideshow": {
     "slide_type": "subslide"
    }
   },
   "source": [
    "## Linear Systems and Nonlinear Systems"
   ]
  },
  {
   "cell_type": "markdown",
   "id": "feeaa9f2",
   "metadata": {
    "slideshow": {
     "slide_type": "subslide"
    }
   },
   "source": [
    "## Linear Time-Invariant Systems"
   ]
  },
  {
   "cell_type": "markdown",
   "id": "bfd06582",
   "metadata": {
    "slideshow": {
     "slide_type": "subslide"
    }
   },
   "source": [
    "## Stable Systems"
   ]
  },
  {
   "cell_type": "markdown",
   "id": "45620295",
   "metadata": {
    "slideshow": {
     "slide_type": "subslide"
    }
   },
   "source": [
    "## Feedback Systems"
   ]
  }
 ],
 "metadata": {
  "jupytext": {
   "formats": "ipynb,md:myst",
   "text_representation": {
    "extension": ".md",
    "format_name": "myst",
    "format_version": 0.13,
    "jupytext_version": "1.14.0"
   }
  },
  "kernelspec": {
   "display_name": "Matlab",
   "language": "matlab",
   "name": "matlab"
  },
  "language_info": {
   "codemirror_mode": "octave",
   "file_extension": ".m",
   "help_links": [
    {
     "text": "MetaKernel Magics",
     "url": "https://metakernel.readthedocs.io/en/latest/source/README.html"
    }
   ],
   "mimetype": "text/x-octave",
   "name": "matlab",
   "version": "0.17.1"
  },
  "source_map": [
   15,
   21,
   25,
   29,
   33,
   37,
   41,
   45,
   49,
   53
  ]
 },
 "nbformat": 4,
 "nbformat_minor": 5
}