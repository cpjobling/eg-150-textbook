{
 "cells": [
  {
   "cell_type": "markdown",
   "id": "735e8569",
   "metadata": {
    "slideshow": {
     "slide_type": "slide"
    }
   },
   "source": [
    "# Unit 2.4: Systems and Classification of Systems\n",
    "\n",
    "This section is based on Section 1.5 of {cite}`schaum`."
   ]
  },
  {
   "cell_type": "markdown",
   "id": "f40045eb",
   "metadata": {
    "slideshow": {
     "slide_type": "fragment"
    }
   },
   "source": [
    "Follow along at [cpjobling.github.io/eg-150-textbook/signals_and_systems/systems](https://cpjobling.github.io/eg-150-textbook/signals_and_systems/systems)\n",
    "\n",
    "![QR Code](pictures/qrcode_unit2.4.png)"
   ]
  },
  {
   "cell_type": "markdown",
   "id": "70edfa73",
   "metadata": {
    "slideshow": {
     "slide_type": "notes"
    }
   },
   "source": [
    "## Subjects to be covered\n",
    "\n",
    "* {ref}`system_representation`\n",
    "* {ref}`deterministic_and_stochastic_systems`\n",
    "* {ref}`continuous_time_and_discrete_time_systems`\n",
    "* {ref}`systems_with_memory_and_without_memory`\n",
    "* {ref}`causal_and_non-causal_systems`\n",
    "* {ref}`linear_systems_and_nonlinear_systems`\n",
    "* {ref}`time_invariant_and_time_varying_systems`\n",
    "* {ref}`linear_time_invariant_systems`\n",
    "* {ref}`stable_systems`\n",
    "* {ref}`feedback_systems`\n",
    "* {ref}`worked_examples_4`"
   ]
  },
  {
   "cell_type": "markdown",
   "id": "39b8f58a",
   "metadata": {
    "slideshow": {
     "slide_type": "slide"
    }
   },
   "source": [
    "(system_representation)=\n",
    "## System Representation\n",
    "\n",
    "A *system* is a mathematical model of a physical process that relates the *input* (or *excitation*) signal to the *output* (or *response*) signal."
   ]
  },
  {
   "cell_type": "markdown",
   "id": "eddc18d5",
   "metadata": {
    "slideshow": {
     "slide_type": "fragment"
    }
   },
   "source": [
    "Let $x$ and $y$ be the input and output signals, respectively, of a system. Then the system is viewed as a *transformation* (or *mapping*) of $x$ into $y$. The transformation is represented by the mathematical notation\n",
    "\n",
    "$$y = \\mathbf{T}x$$\n",
    "\n",
    "where $\\mathbf{T}$ is the *operator* representing some well defined rule by which $x$ is transformed into $y$."
   ]
  },
  {
   "cell_type": "markdown",
   "id": "0f08aaaf",
   "metadata": {
    "slideshow": {
     "slide_type": "notes"
    }
   },
   "source": [
    "The relationship is depicted graphically as shown in {numref}`fig:system`(a)."
   ]
  },
  {
   "cell_type": "markdown",
   "id": "8bfaea35",
   "metadata": {
    "slideshow": {
     "slide_type": "notes"
    }
   },
   "source": [
    "Multiple input and/or output systems are possible as shown in {numref}`fig:system`(b). In this module we will restrict our attention to the single-input, single-output case."
   ]
  },
  {
   "cell_type": "markdown",
   "id": "f1b2be29",
   "metadata": {
    "slideshow": {
     "slide_type": "subslide"
    }
   },
   "source": [
    ":::{figure-md} fig:system\n",
    "<img src=\"pictures/system.png\" alt=\"System with single or multiple inputs and outputs\" width=\"60%\">\n",
    "\n",
    "System with single or multiple inputs and outputs\n",
    ":::"
   ]
  },
  {
   "cell_type": "markdown",
   "id": "534ef672",
   "metadata": {
    "slideshow": {
     "slide_type": "slide"
    }
   },
   "source": [
    "(deterministic_and_stochastic_systems)=\n",
    "## Deterministic and Stochastic Systems"
   ]
  },
  {
   "cell_type": "markdown",
   "id": "3aa1725a",
   "metadata": {
    "slideshow": {
     "slide_type": "fragment"
    }
   },
   "source": [
    "If the input and output signals $x$ and $y$ are deterministic signals, then the system is called a *deterministic* system."
   ]
  },
  {
   "cell_type": "markdown",
   "id": "f469ca62",
   "metadata": {
    "slideshow": {
     "slide_type": "fragment"
    }
   },
   "source": [
    "If the input and output signals $x$ and $y$ are random signals, then the system is called a *stochastic* system."
   ]
  },
  {
   "cell_type": "markdown",
   "id": "d126ffa2",
   "metadata": {
    "slideshow": {
     "slide_type": "slide"
    }
   },
   "source": [
    "(continuous_time_and_discrete_time_systems)=\n",
    "\n",
    "## Continuous-Time and Discrete-Time Systems"
   ]
  },
  {
   "cell_type": "markdown",
   "id": "c8d5e2a7",
   "metadata": {
    "slideshow": {
     "slide_type": "fragment"
    }
   },
   "source": [
    "If the input and output signals  𝑥  and  𝑦  are continuous-time signals, then the system is called a *continuous-time system* ({numref}`fig:ct_n_dt_system`(a))."
   ]
  },
  {
   "cell_type": "markdown",
   "id": "852c9e6e",
   "metadata": {
    "slideshow": {
     "slide_type": "fragment"
    }
   },
   "source": [
    "If the input and output signals  𝑥  and  𝑦  are discrete-time signals or sequences, then the system is called a *discrete-time system* ({numref}`fig:ct_n_dt_system`(b))."
   ]
  },
  {
   "cell_type": "markdown",
   "id": "13fe3c58",
   "metadata": {
    "slideshow": {
     "slide_type": "fragment"
    }
   },
   "source": [
    ":::{figure-md} fig:ct_n_dt_system\n",
    "<img src=\"pictures/ct_n_dt_system.png\" alt=\"Continuous-time and discrete-time systems\" width=\"60%\">\n",
    "\n",
    "(a) Continuous-time system; (b) discrete time system.\n",
    ":::"
   ]
  },
  {
   "cell_type": "markdown",
   "id": "5727fcf5",
   "metadata": {
    "slideshow": {
     "slide_type": "notes"
    }
   },
   "source": [
    "Note that in a continuous-time system the input $x(t)$ and $y(t)$ are often expressed as a *differential equation* (see {ref}`worked_examples_4`) and in a discrete-time system $x[n]$ and $y[n]$ are often expressed by a *difference equation*."
   ]
  },
  {
   "cell_type": "markdown",
   "id": "faf50ac3",
   "metadata": {
    "slideshow": {
     "slide_type": "slide"
    }
   },
   "source": [
    "(systems_with_memory_and_without_memory)=\n",
    "## Systems with Memory and without Memory"
   ]
  },
  {
   "cell_type": "markdown",
   "id": "3633aa25",
   "metadata": {
    "slideshow": {
     "slide_type": "fragment"
    }
   },
   "source": [
    "A system is said to be *memoryless* if the output at any time only depends on the input at the same time."
   ]
  },
  {
   "cell_type": "markdown",
   "id": "34f4d5dc",
   "metadata": {
    "slideshow": {
     "slide_type": "fragment"
    }
   },
   "source": [
    "Otherwise the system is said to have *memory*."
   ]
  },
  {
   "cell_type": "markdown",
   "id": "8cdf3679",
   "metadata": {
    "slideshow": {
     "slide_type": "subslide"
    }
   },
   "source": [
    "### A memoryless system\n",
    "\n",
    "An example of a memoryless system is a resistor $R$ with and the input $x(t)$ taken as the current and the voltage taken as the output $y(t)$."
   ]
  },
  {
   "cell_type": "markdown",
   "id": "4262313e",
   "metadata": {
    "slideshow": {
     "slide_type": "fragment"
    }
   },
   "source": [
    ":::{figure-md}  fig:resistor\n",
    "<img src=\"pictures/resistor.png\" alt=\"A resistor is an example of a memoryless system\" width=\"50%\">\n",
    "\n",
    "A memoryless system: a resistor\n",
    ":::"
   ]
  },
  {
   "cell_type": "markdown",
   "id": "198bfcd1",
   "metadata": {
    "slideshow": {
     "slide_type": "subslide"
    }
   },
   "source": [
    "The input-output relationship (Ohm's law) of a resistor is\n",
    "\n",
    "$$y(t) = Rx(t)$$"
   ]
  },
  {
   "cell_type": "markdown",
   "id": "c35bc7e4",
   "metadata": {
    "slideshow": {
     "slide_type": "subslide"
    }
   },
   "source": [
    "### A system with memory\n",
    "\n",
    "An example of a system with memory is a capacitor $C$ with and the current as the input $x(t)$ taken as the current and the voltage as the output $y(t)$."
   ]
  },
  {
   "cell_type": "markdown",
   "id": "7d9c9229",
   "metadata": {
    "slideshow": {
     "slide_type": "fragment"
    }
   },
   "source": [
    ":::{figure-md}  fig:capacitor\n",
    "<img src=\"pictures/capacitor.png\" alt=\"A capacitor is an example of a system with memory\" width=\"50%\">\n",
    "\n",
    "A system with memory: a capacitor\n",
    ":::"
   ]
  },
  {
   "cell_type": "markdown",
   "id": "d294105b",
   "metadata": {
    "slideshow": {
     "slide_type": "subslide"
    }
   },
   "source": [
    "Then:\n",
    "\n",
    "$$y(t) = \\frac{1}{C}\\int_{-\\infty}^{t}x(\\tau)\\,d\\tau$$"
   ]
  },
  {
   "cell_type": "markdown",
   "id": "5d7aaf3f",
   "metadata": {
    "slideshow": {
     "slide_type": "slide"
    }
   },
   "source": [
    "(causal_and_non-causal_systems)=\n",
    "## Causal and Non-Causal Systems\n",
    "\n",
    "A system is called *causal* if its output at the present time depends only on the present and/or past values of the input."
   ]
  },
  {
   "cell_type": "markdown",
   "id": "a77d65f0",
   "metadata": {
    "slideshow": {
     "slide_type": "fragment"
    }
   },
   "source": [
    "Thus, in a causal system, it is not possible to obtain an output before an input is applied to the system."
   ]
  },
  {
   "cell_type": "markdown",
   "id": "19d3e516",
   "metadata": {
    "slideshow": {
     "slide_type": "fragment"
    }
   },
   "source": [
    "A system is called *noncausal* (or *anticipative*) if its output at the present time depends on future values of the input."
   ]
  },
  {
   "cell_type": "markdown",
   "id": "50dcea6c",
   "metadata": {
    "slideshow": {
     "slide_type": "fragment"
    }
   },
   "source": [
    "An example of a noncausal system is\n",
    "\n",
    "$$y(t) = x(t + 1)$$"
   ]
  },
  {
   "cell_type": "markdown",
   "id": "817ad902",
   "metadata": {
    "slideshow": {
     "slide_type": "notes"
    }
   },
   "source": [
    "Note that all memoryless systems are causal but not all *vice versa*."
   ]
  },
  {
   "cell_type": "markdown",
   "id": "5d3bc5d2",
   "metadata": {
    "slideshow": {
     "slide_type": "slide"
    }
   },
   "source": [
    "(linear_systems_and_nonlinear_systems)=\n",
    "## Linear Systems and Nonlinear Systems\n",
    "\n",
    "If an operator $\\mathbf{T}$ satisfies the following two conditions, then $\\mathbf{T}$ is called a *linear operator* and the system represented by the linear operator $\\mathbf{T}$ is called a *linear system*:"
   ]
  },
  {
   "cell_type": "markdown",
   "id": "49b8428c",
   "metadata": {
    "slideshow": {
     "slide_type": "subslide"
    }
   },
   "source": [
    "### Properties of Linear Systems"
   ]
  },
  {
   "cell_type": "markdown",
   "id": "1556269b",
   "metadata": {
    "slideshow": {
     "slide_type": "subslide"
    }
   },
   "source": [
    "#### 1. Additivity\n",
    "\n",
    "Given that $\\mathbf{T}\\left\\{x_1\\right\\} = y_1$ and  $\\mathbf{T}\\left\\{x_2\\right\\} = y_2$,"
   ]
  },
  {
   "cell_type": "markdown",
   "id": "3626e80e",
   "metadata": {
    "slideshow": {
     "slide_type": "fragment"
    }
   },
   "source": [
    "then\n",
    "\n",
    "$$\\mathbf{T}\\left\\{x_1 + x_2\\right\\} = y_1 + y_2$$\n",
    "\n",
    "for any signals $x_1$ and $x_2$."
   ]
  },
  {
   "cell_type": "markdown",
   "id": "e8a03005",
   "metadata": {
    "slideshow": {
     "slide_type": "subslide"
    }
   },
   "source": [
    "#### 2. Homogeneity (or *Scaling*)\n",
    "\n",
    "$$\\mathbf{T}\\left\\{\\alpha x\\right\\} = \\alpha y$$\n",
    "\n",
    "for any signals $x$ and any scalar $\\alpha$."
   ]
  },
  {
   "cell_type": "markdown",
   "id": "5067f603",
   "metadata": {
    "slideshow": {
     "slide_type": "subslide"
    }
   },
   "source": [
    "#### Nonlinear systems\n",
    "\n",
    "Any system that does not satisfy the additivity and homogeneity conditions is classified as a *nonlinear system*."
   ]
  },
  {
   "cell_type": "markdown",
   "id": "5951de75",
   "metadata": {
    "slideshow": {
     "slide_type": "subslide"
    }
   },
   "source": [
    "### Superposition property\n",
    "\n",
    "The additivity and homogeneity conditions can combined in a single condition (known as the *superposition property*) as\n",
    "\n",
    "$$\\mathbf{T}\\left\\{\\alpha_1 x_1 + \\alpha_2 x_2 \\right\\} = \\alpha_1 y_1 + \\alpha_2 y_2$$\n",
    "\n",
    "where $\\alpha_1$ and $\\alpha_2$ are arbitrary scalars."
   ]
  },
  {
   "cell_type": "markdown",
   "id": "6c31737d",
   "metadata": {
    "slideshow": {
     "slide_type": "subslide"
    }
   },
   "source": [
    "### Example linear systems\n",
    "\n",
    "Examples of linear systems are the resistor and capacitor discussed earlier."
   ]
  },
  {
   "cell_type": "markdown",
   "id": "3609a7d5",
   "metadata": {
    "slideshow": {
     "slide_type": "subslide"
    }
   },
   "source": [
    "### Example nonlinear systems\n",
    "\n",
    "Examples of nonlinear systems are\n",
    "\n",
    "$$y = x^2$$\n",
    "\n",
    "$$y = \\cos x$$"
   ]
  },
  {
   "cell_type": "markdown",
   "id": "7d59060f",
   "metadata": {
    "slideshow": {
     "slide_type": "subslide"
    }
   },
   "source": [
    "### Zero input property\n",
    "\n",
    "Note that a consequence of the homegenity (or scaling) property of linear systems is that a *zero input yields a zero output*. This follows readilty by setting $\\alpha = 0$ in the equation $\\mathbf{T}\\left\\{\\alpha x\\right\\} = \\alpha y$. This is another important property of linear systems."
   ]
  },
  {
   "cell_type": "markdown",
   "id": "56319099",
   "metadata": {
    "slideshow": {
     "slide_type": "slide"
    }
   },
   "source": [
    "(time_invariant_and_time_varying_systems)=\n",
    "## Time-Invariant and Time-Varying Systems"
   ]
  },
  {
   "cell_type": "markdown",
   "id": "5f3da541",
   "metadata": {
    "slideshow": {
     "slide_type": "fragment"
    }
   },
   "source": [
    "A system is called *time-invariant* if a time-shift (delay or advance) in the input signal causes the same time-shift in the output signal."
   ]
  },
  {
   "cell_type": "markdown",
   "id": "0c5a54ec",
   "metadata": {
    "slideshow": {
     "slide_type": "fragment"
    }
   },
   "source": [
    "Thus for a continuous-time system, the system is time-invariant if\n",
    "\n",
    "$$\\mathbf{T}\\left\\{x(t - \\tau)\\right\\}=y(t - \\tau)$$\n",
    "\n",
    "for any real value of $\\tau$."
   ]
  },
  {
   "cell_type": "markdown",
   "id": "fafd16ac",
   "metadata": {
    "slideshow": {
     "slide_type": "subslide"
    }
   },
   "source": [
    "### Time-varying system\n",
    "\n",
    "A system that does not satisfy the equation $\\mathbf{T}\\left\\{x(t - \\tau)\\right\\}=y(t - \\tau)$ is called a *time-varying system*."
   ]
  },
  {
   "cell_type": "markdown",
   "id": "2627e52a",
   "metadata": {
    "slideshow": {
     "slide_type": "subslide"
    }
   },
   "source": [
    "### Testing for time-invariance\n",
    "\n",
    "To check for time invariance, we can compare the time-shifted output with the output produced by the time-shifted input (See {ref}`ex4_2` and {ref}`ex4_3`)."
   ]
  },
  {
   "cell_type": "markdown",
   "id": "df9ff85d",
   "metadata": {
    "slideshow": {
     "slide_type": "slide"
    }
   },
   "source": [
    "(linear_time_invariant_systems)=\n",
    "## Linear Time-Invariant Systems"
   ]
  },
  {
   "cell_type": "markdown",
   "id": "02c255b1",
   "metadata": {
    "slideshow": {
     "slide_type": "fragment"
    }
   },
   "source": [
    "If a system is linear and also time-invariant it is called a *linear time-invariant* (LTI) system."
   ]
  },
  {
   "cell_type": "markdown",
   "id": "c5c945ab",
   "metadata": {
    "slideshow": {
     "slide_type": "fragment"
    }
   },
   "source": [
    "All ths systems analysed in in the rest of the module and in **EG-247 Digital Signal Processing** and **EG-243 Control Systems** next year will be LTI systems."
   ]
  },
  {
   "cell_type": "markdown",
   "id": "bbddb4ab",
   "metadata": {
    "slideshow": {
     "slide_type": "slide"
    }
   },
   "source": [
    "(stable_systems)=\n",
    "## Stable Systems\n",
    "\n",
    "A system is *bounded-input/bounded-output* (BIBO) *stable* if for any bounded input signal $x$ defined by\n",
    "\n",
    "$$|x|\\le k_1$$\n",
    "\n",
    "the corresponding output $y$ is also bounded defined by\n",
    "\n",
    "$$|y|\\le k_2$$\n",
    "\n",
    "where $k_1$ and $k_2$ are finite real constants."
   ]
  },
  {
   "cell_type": "markdown",
   "id": "8de97705",
   "metadata": {
    "slideshow": {
     "slide_type": "subslide"
    }
   },
   "source": [
    "### Unstable systems\n",
    "\n",
    "An *unstable* system is one in which not all bounded inputs lead to a bounded output."
   ]
  },
  {
   "cell_type": "markdown",
   "id": "f6d44706",
   "metadata": {
    "slideshow": {
     "slide_type": "fragment"
    }
   },
   "source": [
    "For example, consider the system where output \n",
    "\n",
    "$$y(t) = t x(t)$$\n",
    "\n",
    "and input $x(t)$ is the unit step $u_0(t)$"
   ]
  },
  {
   "cell_type": "markdown",
   "id": "6eae5487",
   "metadata": {
    "slideshow": {
     "slide_type": "fragment"
    }
   },
   "source": [
    "In this case $x(t) = 1$ (so is bounded) but the output $y(t)$ increases without bound as $t$ increases."
   ]
  },
  {
   "cell_type": "markdown",
   "id": "dc2f5a1b",
   "metadata": {
    "slideshow": {
     "slide_type": "slide"
    }
   },
   "source": [
    "(feedback_systems)=\n",
    "## Feedback Systems\n",
    "\n",
    "A special class of systems of great importance consists of systems having *feedback*."
   ]
  },
  {
   "cell_type": "markdown",
   "id": "88f34c89",
   "metadata": {
    "slideshow": {
     "slide_type": "fragment"
    }
   },
   "source": [
    "In a *feedback system*, a portion of the output signal is fed back and added to the input as shown in {numref}`fig:feedback`."
   ]
  },
  {
   "cell_type": "markdown",
   "id": "a1bbb950",
   "metadata": {
    "slideshow": {
     "slide_type": "fragment"
    }
   },
   "source": [
    ":::{figure-md} fig:feedback\n",
    "<img src=\"pictures/feedback.png\" alt=\"A feedback system with negative feedback\" width=\"60%\">\n",
    "\n",
    "A feedback system with negative feedback: $e(t) = x(t) - y(t)$.\n",
    ":::"
   ]
  },
  {
   "cell_type": "markdown",
   "id": "ad7441ab",
   "metadata": {
    "slideshow": {
     "slide_type": "notes"
    }
   },
   "source": [
    "You will see examples of systems with feedback when you study op-amp circuits in **EG-152 Practical Electronics**, the simple closed-loop systems to be studied in **EG-142 Instrumentation and Control**.  Feedback, and its impact on system stability, is also the basis of control theory to be studied next year in **EG-243 Control Systems**."
   ]
  },
  {
   "cell_type": "markdown",
   "id": "d4d28d1f",
   "metadata": {
    "slideshow": {
     "slide_type": "slide"
    }
   },
   "source": [
    "(worked_examples_4)=\n",
    "## Examples 4\n",
    "\n",
    "```{admonition} MATLAB Example\n",
    ":class: tip\n",
    "We will solve this example by hand and then give the solution in the MATLAB lab.\n",
    "```\n",
    "\n",
    "(ex4.1)=\n",
    "\n",
    "### Example 4.1: RC Circuit \n",
    "\n",
    "Consider the RC circuit shown in {numref}`fig:rc_circuit`. Find the relationship between the input $x(t)$ and the output $y(t)$\n",
    "\n",
    "(a) If $x(t) = v_s(t)$ and $y(t) = v_c(t)$.\n",
    "\n",
    "(b) If $x(t) = v_s(t)$ and $y(t) = i(t)$.\n",
    "\n",
    ":::{figure-md} fig:rc_circuit\n",
    "<img src=\"pictures/RC_circuit.png\" alt=\"RC circuit\" width=\"60%\">\n",
    "\n",
    "RC circuit\n",
    ":::"
   ]
  },
  {
   "cell_type": "markdown",
   "id": "3a879d8a",
   "metadata": {
    "slideshow": {
     "slide_type": "notes"
    }
   },
   "source": [
    "For the answer, refer to the lecture recording or see solved problem 1.32 in {cite}`schaum`."
   ]
  },
  {
   "cell_type": "markdown",
   "id": "f001094d",
   "metadata": {
    "slideshow": {
     "slide_type": "subslide"
    }
   },
   "source": [
    "(ex4_2)=\n",
    "### Example 4.2: Capacitor circuit\n",
    "\n",
    " ```{admonition} MATLAB Example\n",
    ":class: tip\n",
    "We will solve this example by hand and then give the solution in the MATLAB lab.\n",
    "```\n",
    "\n",
    "Consider the capacitor shown in {numref}`fig:cap_circuit`. Let the input $x(t) = i(t)$ and the output $y(t) = v_c(t)$.\n",
    "\n",
    "(a) Find the input-output relationship.\n",
    "\n",
    "(b) Determine whether the system is (i) memoryless, (ii) causal, (iii) linear, (iv) time invariant, or (v) stable.\n",
    "\n",
    ":::{figure-md} fig:cap_circuit\n",
    "<img src=\"pictures/cap_circuit.png\" alt=\"A capacitor citcuit.\" width=\"60%\">\n",
    "\n",
    "A capacitor citcuit.\n",
    ":::"
   ]
  },
  {
   "cell_type": "markdown",
   "id": "1f98f78c",
   "metadata": {
    "slideshow": {
     "slide_type": "notes"
    }
   },
   "source": [
    "For the answer, refer to the lecture recording or see solved problem 1.33 in {cite}`schaum`."
   ]
  },
  {
   "cell_type": "markdown",
   "id": "fc1f772d",
   "metadata": {
    "slideshow": {
     "slide_type": "subslide"
    }
   },
   "source": [
    "(ex4_3)=\n",
    "\n",
    "\n",
    "### Example 4.3: Signal modulator\n",
    "\n",
    "```{admonition} MATLAB Example\n",
    ":class: tip\n",
    "We will solve this example by hand and then give the solution in the MATLAB lab.\n",
    "```\n",
    "\n",
    "\n",
    "Consider the system shown in {numref}`fig:4_3`. Determine whether it is (a) memoryless, (b) causal, (c) linear, (d) time invariant, or (e) stable.\n",
    "\n",
    ":::{figure-md} fig:4_3\n",
    "<img src=\"pictures/fig4_3.png\" alt=\"A system\" width=\"60%\">\n",
    "\n",
    "A signal modulator\n",
    ":::"
   ]
  },
  {
   "cell_type": "markdown",
   "id": "e4090c25",
   "metadata": {
    "slideshow": {
     "slide_type": "notes"
    }
   },
   "source": [
    "For the answer, refer to the lecture recording or see solved problem 1.34 in {cite}`schaum`."
   ]
  },
  {
   "cell_type": "markdown",
   "id": "f883b44f",
   "metadata": {
    "slideshow": {
     "slide_type": "subslide"
    }
   },
   "source": [
    "(ex4_4)=\n",
    "### Example 4.4 \n",
    "\n",
    "A system has the input-output relationship given by\n",
    "\n",
    "$$y = \\mathbf{T}\\left\\{x\\right\\} = x^2$$\n",
    "\n",
    "Show that this system is nonlinear."
   ]
  },
  {
   "cell_type": "markdown",
   "id": "cd202244",
   "metadata": {
    "slideshow": {
     "slide_type": "notes"
    }
   },
   "source": [
    "For the answer, refer to the lecture recording or see solved problem 1.35 in {cite}`schaum`."
   ]
  },
  {
   "cell_type": "markdown",
   "id": "fc02b5ea",
   "metadata": {
    "slideshow": {
     "slide_type": "subslide"
    }
   },
   "source": [
    "(ex4_5)=\n",
    "### Example 4.5\n",
    "\n",
    "Consider the system whose input-output relationship is given by the linear equation \n",
    "\n",
    "$$y = ax + b$$\n",
    "\n",
    "where $x$ and $y$ are the input and output respectively and $s$ and $b$ are constant. Is this system linear?"
   ]
  },
  {
   "cell_type": "markdown",
   "id": "1c99db64",
   "metadata": {
    "slideshow": {
     "slide_type": "notes"
    }
   },
   "source": [
    "For the answer, refer to the lecture recording or see solved problem 1.40 in {cite}`schaum`."
   ]
  },
  {
   "cell_type": "markdown",
   "id": "1380abf5",
   "metadata": {
    "slideshow": {
     "slide_type": "subslide"
    }
   },
   "source": [
    "(ex4_6)=\n",
    "### Example 4.6 \n",
    "\n",
    "(a) Show that the causality for a continuous-time linear system is equivalent to the following statement: For any time $t_0$ and any input $x(t)$ with $x(t) = 0$ for $t \\le t_0$, the output $y(t)$ is zero for $t \\le t_0$.\n",
    "\n",
    "(b) Find a nonlinear system that is causal but does not satisfy this condition.\n",
    "\n",
    "(c) Find a nonlinear system that satisfies this condition but is not causal."
   ]
  },
  {
   "cell_type": "markdown",
   "id": "6f0d9827",
   "metadata": {
    "slideshow": {
     "slide_type": "notes"
    }
   },
   "source": [
    "For the answer, refer to the lecture recording or see solved problem 1.43 in {cite}`schaum`."
   ]
  },
  {
   "cell_type": "markdown",
   "id": "c73ca2c3",
   "metadata": {
    "slideshow": {
     "slide_type": "subslide"
    }
   },
   "source": [
    "(ex4_7)=\n",
    "\n",
    "\n",
    "### Example 4.7\n",
    "\n",
    "Let $\\mathbf{T}$ represent a continuous-time LTI system. Then show that\n",
    "\n",
    "$$\\mathbf{T}\\left\\{e^{st}\\right\\}= \\lambda e^{st}$$\n",
    "\n",
    "where $s$ is a complex variable and $\\lambda$ is a complex constant."
   ]
  },
  {
   "cell_type": "markdown",
   "id": "ac7700ca",
   "metadata": {
    "slideshow": {
     "slide_type": "notes"
    }
   },
   "source": [
    "```{note}\n",
    "The solution to this problem is part of a journey that leads us from continuous-time LTI systems to the Laplace transform. I have therefore included the solution in full.\n",
    "```\n",
    "\n",
    "#### Solution\n",
    "\n",
    "Let $y(t)$ be the output of the system with input $x(t)=e^{st}$. Then\n",
    "\n",
    "$$\\mathbf{T}\\left\\{e^{st}\\right\\} = y(t)$$\n",
    "\n",
    "Since the system is time-invariant, we have\n",
    "\n",
    "$$\\mathbf{T}\\left\\{e^{s\\left(t + t_0\\right)}\\right\\} = y(t + t_0)$$\n",
    "\n",
    "for arbitrary real $t_0$. Since the system is linear, we have\n",
    "\n",
    "$$\\mathbf{T}\\left\\{e^{s\\left(t+t_0\\right)}\\right\\} = \\mathbf{T}\\left\\{e^{st}e^{st_0}\\right\\} = e^{st_0}\\mathbf{T}\\left\\{s^{st}\\right\\} = e^{st_0}y(t)$$\n",
    "\n",
    "Hence,\n",
    "\n",
    "$$y(t + t_0) = e^{st_0}y(t)$$\n",
    "\n",
    "Setting $t=0$, we obtain\n",
    "\n",
    "$$y(t_0) = y(0)e^{st_0}$$\n",
    "\n",
    "Since $t_0$ is arbitrary, by changing $t_0$ to $t$, we can rewrite $y(t_0) = y(0)e^{st_0}$ as\n",
    "\n",
    "$$y(t) = y(0)e^{st} = \\lambda e^{st}$$\n",
    "\n",
    "or\n",
    "\n",
    "$$\\mathbf{T}\\left\\{e^{st}\\right\\}=\\lambda e^{st}$$\n",
    "\n",
    "where $\\lambda = y(0)$."
   ]
  },
  {
   "cell_type": "markdown",
   "id": "db475975",
   "metadata": {
    "slideshow": {
     "slide_type": "notes"
    }
   },
   "source": [
    "## Summary\n",
    "\n",
    "In this lecture we have started our look at systems and the classification of systems.\n",
    "\n",
    "In particular we have looked at\n",
    "\n",
    "* {ref}`system_representation`\n",
    "\n",
    "$$y(t) = \\mathbf{T}\\left\\{x(t)\\right\\}$$\n",
    "\n",
    "* {ref}`deterministic_and_stochastic_systems`\n",
    "* {ref}`continuous_time_and_discrete_time_systems`\n",
    "* {ref}`systems_with_memory_and_without_memory`\n",
    "* {ref}`causal_and_non-causal_systems`\n",
    "\n",
    "* {ref}`linear_systems_and_nonlinear_systems`\n",
    "\n",
    "A continuous-time system is linear if superposition holds. That is\n",
    "\n",
    "$$\\mathbf{T}\\left\\{\\alpha_1 x_1 + \\alpha_2 x_2 \\right\\} = \\alpha_1 y_1 + \\alpha_2 y_2$$\n",
    "\n",
    "where $\\alpha_1$ and $\\alpha_2$ are arbitrary scalars.\n",
    "\n",
    "* {ref}`time_invariant_and_time_varying_systems`\n",
    "\n",
    "A continuous-time system is time-invariant if\n",
    "\n",
    "$$\\mathbf{T}\\left\\{x(t - \\tau)\\right\\}=y(t - \\tau)$$\n",
    "\n",
    "for any real value of $\\tau$.\n",
    "\n",
    "* {ref}`linear_time_invariant_systems`\n",
    "\n",
    "For continuous-time LTI system represented by $\\mathbf{T}$\n",
    "\n",
    "$$\\mathbf{T}\\left\\{e^{st}\\right\\}= \\lambda e^{st}$$\n",
    "\n",
    "where $s$ is a complex variable and $\\lambda$ is a complex constant. In this formulation $e^{st}$ is called an *eigenfunction* of $\\mathbf{T}$ and $\\lambda$ is the *eigenvalue*. See {ref}`eigenfunctions_of_continuous_time_LTI_systems` for the further development of this idea.\n",
    "\n",
    "* {ref}`stable_systems`\n",
    "\n",
    "A system is *bounded-input/bounded-output* (BIBO) *stable* if for any bounded input signal $x$ defined by\n",
    "\n",
    "$$|x|\\le k_1$$\n",
    "\n",
    "the corresponding output $y$ is also bounded defined by\n",
    "\n",
    "$$|y|\\le k_2$$\n",
    "\n",
    "where $k_1$ and $k_2$ are finite real constants.\n",
    "\n",
    "* {ref}`feedback_systems`"
   ]
  },
  {
   "cell_type": "markdown",
   "id": "ee99a94a",
   "metadata": {
    "slideshow": {
     "slide_type": "notes"
    }
   },
   "source": [
    "## Next time\n",
    "\n",
    "* {ref}`lti_systems`\n",
    "\n",
    "## References\n",
    "\n",
    "```{bibliography}\n",
    ":filter: docname in docnames\n",
    "```"
   ]
  }
 ],
 "metadata": {
  "jupytext": {
   "formats": "ipynb,md:myst",
   "text_representation": {
    "extension": ".md",
    "format_name": "myst",
    "format_version": 0.13,
    "jupytext_version": "1.14.4"
   }
  },
  "kernelspec": {
   "display_name": "Matlab",
   "language": "matlab",
   "name": "matlab"
  },
  "language_info": {
   "codemirror_mode": "octave",
   "file_extension": ".m",
   "help_links": [
    {
     "text": "MetaKernel Magics",
     "url": "https://metakernel.readthedocs.io/en/latest/source/README.html"
    }
   ],
   "mimetype": "text/x-octave",
   "name": "matlab",
   "version": "0.17.1"
  },
  "source_map": [
   15,
   21,
   27,
   43,
   50,
   58,
   62,
   66,
   74,
   79,
   83,
   87,
   93,
   97,
   101,
   109,
   113,
   118,
   122,
   126,
   132,
   140,
   146,
   152,
   160,
   166,
   173,
   177,
   181,
   187,
   191,
   198,
   202,
   208,
   216,
   224,
   230,
   240,
   246,
   256,
   262,
   267,
   271,
   279,
   285,
   291,
   296,
   300,
   304,
   319,
   325,
   333,
   337,
   344,
   348,
   356,
   360,
   386,
   390,
   412,
   416,
   437,
   441,
   452,
   456,
   467,
   471,
   482,
   486,
   499,
   537,
   592
  ]
 },
 "nbformat": 4,
 "nbformat_minor": 5
}