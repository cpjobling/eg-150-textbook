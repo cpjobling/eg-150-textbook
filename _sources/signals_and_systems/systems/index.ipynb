{
 "cells": [
  {
   "cell_type": "markdown",
   "id": "f35963fd",
   "metadata": {
    "slideshow": {
     "slide_type": "slide"
    }
   },
   "source": [
    "# Systems and Classification of Systems\n",
    "\n",
    "This section is based on Section 1.5 of {cite}`schaum`."
   ]
  },
  {
   "cell_type": "markdown",
   "id": "0d17414f",
   "metadata": {
    "slideshow": {
     "slide_type": "subslide"
    }
   },
   "source": [
    "## System Representation"
   ]
  },
  {
   "cell_type": "markdown",
   "id": "ac7a7eea",
   "metadata": {
    "slideshow": {
     "slide_type": "subslide"
    }
   },
   "source": [
    "## Deterministic and Stochastic Systems"
   ]
  },
  {
   "cell_type": "markdown",
   "id": "ea53cc4d",
   "metadata": {
    "slideshow": {
     "slide_type": "subslide"
    }
   },
   "source": [
    "## Continuous-Time and Discrete-Time Systems"
   ]
  },
  {
   "cell_type": "markdown",
   "id": "069fc399",
   "metadata": {
    "slideshow": {
     "slide_type": "subslide"
    }
   },
   "source": [
    "## Systems with Memory and without Memory"
   ]
  },
  {
   "cell_type": "markdown",
   "id": "c248be2e",
   "metadata": {
    "slideshow": {
     "slide_type": "subslide"
    }
   },
   "source": [
    "## Causal and Non-Causal Systems"
   ]
  },
  {
   "cell_type": "markdown",
   "id": "04a957e5",
   "metadata": {
    "slideshow": {
     "slide_type": "subslide"
    }
   },
   "source": [
    "## Linear Systems and Nonlinear Systems"
   ]
  },
  {
   "cell_type": "markdown",
   "id": "7bb5f7e0",
   "metadata": {
    "slideshow": {
     "slide_type": "subslide"
    }
   },
   "source": [
    "## Linear Time-Invariant Systems"
   ]
  },
  {
   "cell_type": "markdown",
   "id": "c9a1fa5b",
   "metadata": {
    "slideshow": {
     "slide_type": "subslide"
    }
   },
   "source": [
    "## Stable Systems"
   ]
  },
  {
   "cell_type": "markdown",
   "id": "fabec388",
   "metadata": {
    "slideshow": {
     "slide_type": "subslide"
    }
   },
   "source": [
    "## Feedback Systems"
   ]
  }
 ],
 "metadata": {
  "jupytext": {
   "formats": "ipynb,md:myst",
   "text_representation": {
    "extension": ".md",
    "format_name": "myst",
    "format_version": 0.13,
    "jupytext_version": "1.14.0"
   }
  },
  "kernelspec": {
   "display_name": "Matlab",
   "language": "matlab",
   "name": "matlab"
  },
  "language_info": {
   "codemirror_mode": "octave",
   "file_extension": ".m",
   "help_links": [
    {
     "text": "MetaKernel Magics",
     "url": "https://metakernel.readthedocs.io/en/latest/source/README.html"
    }
   ],
   "mimetype": "text/x-octave",
   "name": "matlab",
   "version": "0.17.1"
  },
  "source_map": [
   15,
   21,
   25,
   29,
   33,
   37,
   41,
   45,
   49,
   53
  ]
 },
 "nbformat": 4,
 "nbformat_minor": 5
}