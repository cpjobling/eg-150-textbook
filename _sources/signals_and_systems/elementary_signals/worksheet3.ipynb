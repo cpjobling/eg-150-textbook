{
 "cells": [
  {
   "cell_type": "markdown",
   "id": "ede0751c",
   "metadata": {
    "slideshow": {
     "slide_type": "skip"
    }
   },
   "source": [
    "Lecturer: Set up MATLAB"
   ]
  },
  {
   "cell_type": "code",
   "execution_count": null,
   "id": "5f091738",
   "metadata": {
    "slideshow": {
     "slide_type": "skip"
    }
   },
   "outputs": [],
   "source": [
    "clear all\n",
    "format compact"
   ]
  },
  {
   "cell_type": "markdown",
   "id": "23e9b39e",
   "metadata": {
    "slideshow": {
     "slide_type": "slide"
    }
   },
   "source": [
    "# Worksheet 3\n",
    "\n",
    "## To accompany Chapter 2 Elementary Signals"
   ]
  },
  {
   "cell_type": "markdown",
   "id": "d2ee24ae",
   "metadata": {
    "slideshow": {
     "slide_type": "notes"
    }
   },
   "source": [
    "## Colophon\n",
    "\n",
    "This worksheet can be downloaded as a [PDF file](https://cpjobling.github.io/eg-247-textbook/worksheets/worksheet3.pdf).\n",
    "\n",
    "A printout of this worksheet will be distributed before the first class meeting in the **Week 1: Classroom Activities** section of the Canvas site. I will also distribute a copy to your personal **Worksheets** section of the **OneNote Class Notebook** so that you can add your own notes using OneNote. \n",
    "\n",
    "You are expected to have at least watched the video presentation of [Chapter 2](https://cpjobling.github.io/eg-247-textbook/elementary_signals/index) of the [notes](https://cpjobling.github.io/eg-247-textbook) before coming to the first class. If you haven't watch it afterwards!\n",
    "\n",
    "After class, the lecture recording and the annotated version of this worksheet will be made available to you via OneNote and through Canvas."
   ]
  },
  {
   "cell_type": "markdown",
   "id": "c9e47f0f",
   "metadata": {
    "slideshow": {
     "slide_type": "slide"
    }
   },
   "source": [
    "## Elementary Signals\n",
    "\n",
    "Consider the network shown in below where the switch is closed at time $t=T$ and all components are ideal. \n",
    "\n",
    "![Network with a switch which is closed at t = T.](./pictures/circuit2.png)\n",
    "\n",
    "Express the output voltage $V_{\\mathrm{out}}$ as a function of the unit step function, and sketch the appropriate waveform."
   ]
  },
  {
   "cell_type": "markdown",
   "id": "6c53e974",
   "metadata": {
    "slideshow": {
     "slide_type": "subslide"
    }
   },
   "source": [
    "Q1: What happens **before** $t=T$?\n",
    "\n",
    "1. $v_{\\mathrm{out}} = \\mathrm{undefined}$\n",
    "2. $v_{\\mathrm{out}} = 0$\n",
    "3. $v_{\\mathrm{out}} = V_s$\n",
    "4. $v_{\\mathrm{out}} = V_s/2$\n",
    "5. $v_{\\mathrm{out}} = \\infty$"
   ]
  },
  {
   "cell_type": "markdown",
   "id": "489de797",
   "metadata": {
    "slideshow": {
     "slide_type": "fragment"
    }
   },
   "source": [
    "**-> Open Poll: 1.2.1**"
   ]
  },
  {
   "cell_type": "markdown",
   "id": "953cb9b5",
   "metadata": {
    "slideshow": {
     "slide_type": "subslide"
    }
   },
   "source": [
    "Q2: What happens **after** $t=T$?\n",
    "\n",
    "1. $v_{\\mathrm{out}} = \\mathrm{undefined}$\n",
    "2. $v_{\\mathrm{out}} = 0$\n",
    "3. $v_{\\mathrm{out}} = V_s$\n",
    "4. $v_{\\mathrm{out}} = V_s/2$\n",
    "5. $v_{\\mathrm{out}} = \\infty$"
   ]
  },
  {
   "cell_type": "markdown",
   "id": "cebe29fe",
   "metadata": {
    "slideshow": {
     "slide_type": "fragment"
    }
   },
   "source": [
    "**-> Open Poll: 1.2.2**"
   ]
  },
  {
   "cell_type": "markdown",
   "id": "c821349a",
   "metadata": {
    "slideshow": {
     "slide_type": "subslide"
    }
   },
   "source": [
    "Q3: What happens **at** $t=T$?\n",
    "\n",
    "1. $v_{\\mathrm{out}} = \\mathrm{undefined}$\n",
    "2. $v_{\\mathrm{out}} = 0$\n",
    "3. $v_{\\mathrm{out}} = V_s$\n",
    "4. $v_{\\mathrm{out}} = V_s/2$\n",
    "5. $v_{\\mathrm{out}} = \\infty$"
   ]
  },
  {
   "cell_type": "markdown",
   "id": "5c143780",
   "metadata": {
    "slideshow": {
     "slide_type": "fragment"
    }
   },
   "source": [
    "**-> Open Poll: 1.2.3**"
   ]
  },
  {
   "cell_type": "markdown",
   "id": "e2dd654f",
   "metadata": {
    "slideshow": {
     "slide_type": "subslide"
    }
   },
   "source": [
    "Q4: What does the response of $V_{\\mathrm{out}}$ look like? \n",
    "\n",
    "Circle the picture you think is correct on your handout.\n",
    "\n",
    "<table>\n",
    "    <tr><td>A</td><td><img src=\"https://cpjobling.github.io/eg-247-textbook/elementary_signals/pictures/impulse.png\" alt=\"Signal A\"></td><td>B</td><td><img src=\"https://cpjobling.github.io/eg-247-textbook/elementary_signals/pictures/step1.png\" alt=\"Signal B\"></td></tr>\n",
    "    <tr><td>C</td><td><img src=\"https://cpjobling.github.io/eg-247-textbook/elementary_signals/pictures/curve.png\" alt=\"Signal C\"></td><td>D</td><td><img src=\"https://cpjobling.github.io/eg-247-textbook/elementary_signals/pictures/ramp.png\" alt=\"Signal D\"></td></tr>\n",
    "</table>"
   ]
  },
  {
   "cell_type": "markdown",
   "id": "74d41ba3",
   "metadata": {
    "slideshow": {
     "slide_type": "fragment"
    }
   },
   "source": [
    "**-> Open Poll: 1.2.4**"
   ]
  },
  {
   "cell_type": "markdown",
   "id": "c38e4cf6",
   "metadata": {
    "slideshow": {
     "slide_type": "slide"
    }
   },
   "source": [
    "## The Unit Step Function\n",
    "\n",
    "$${u_0}(t) = \\left\\{ {\\begin{array}{*{20}{c}}\n",
    "{0\\quad t < 0}\\\\\n",
    "{1\\quad t > 0}\n",
    "\\end{array}} \\right.$$\n",
    "\n",
    "<img src=\"pictures/unitstep.png\">"
   ]
  },
  {
   "cell_type": "markdown",
   "id": "c80bcfe9",
   "metadata": {
    "slideshow": {
     "slide_type": "subslide"
    }
   },
   "source": [
    "### In Matlab\n",
    "\n",
    "In Matlab, we use the `heaviside` function (Named after [Oliver Heaviside](https://en.wikipedia.org/wiki/Oliver_Heaviside))."
   ]
  },
  {
   "cell_type": "code",
   "execution_count": null,
   "id": "4c7ad946",
   "metadata": {
    "slideshow": {
     "slide_type": "fragment"
    },
    "tags": [
     "remove-outlook"
    ]
   },
   "outputs": [],
   "source": [
    "syms t\n",
    "ezplot(heaviside(t),[-1,1])\n",
    "heaviside(0)"
   ]
  },
  {
   "cell_type": "markdown",
   "id": "5e3d23de",
   "metadata": {
    "slideshow": {
     "slide_type": "notes"
    }
   },
   "source": [
    "See: [show_heaviside.m](https://cpjobling.github.io/eg-247-textbook/elementary_signals/show_heaviside.m).\n",
    "\n",
    "Note that, so it can be plotted, Matlab defines the *heaviside function* slightly differently from the mathematically ideal unit step:\n",
    "\n",
    "$$\\mathrm{heaviside}(t) = \\left\\{ {\\begin{array}{*{20}{c}}\n",
    "{0\\quad t < 0}\\\\\n",
    "{1/2\\quad t = 0}\\\\\n",
    "{1\\quad t > 0}\n",
    "\\end{array}} \\right.$$"
   ]
  },
  {
   "cell_type": "markdown",
   "id": "b86bba23",
   "metadata": {
    "slideshow": {
     "slide_type": "subslide"
    }
   },
   "source": [
    "### Circuit Revisited\n",
    "\n",
    "Consider the network shown below, where the switch is closed at time $t=T$. \n",
    "\n",
    "<img src=\"pictures/circuit2.png\">\n",
    "\n",
    "Express the output voltage $v_{\\mathrm{out}}$ as a function of the unit step function, and sketch the appropriate waveform."
   ]
  },
  {
   "cell_type": "markdown",
   "id": "77ad8f41",
   "metadata": {
    "slideshow": {
     "slide_type": "notes"
    }
   },
   "source": [
    "<pre style=\"border: 2px solid blue\">\n",
    "\n",
    "\n",
    "\n",
    "\n",
    "\n",
    "\n",
    "\n",
    "\n",
    "\n",
    "\n",
    "\n",
    "\n",
    "\n",
    "\n",
    "\n",
    "</pre>"
   ]
  },
  {
   "cell_type": "markdown",
   "id": "3b450302",
   "metadata": {
    "slideshow": {
     "slide_type": "slide"
    }
   },
   "source": [
    "## Simple Signal Operations"
   ]
  },
  {
   "cell_type": "markdown",
   "id": "0dcbacf8",
   "metadata": {
    "slideshow": {
     "slide_type": "subslide"
    }
   },
   "source": [
    "### Amplitude Scaling\n",
    "\n",
    "Sketch $Au_0(t)$ and $-Au_0(t)$"
   ]
  },
  {
   "cell_type": "markdown",
   "id": "bf77d6aa",
   "metadata": {
    "slideshow": {
     "slide_type": "notes"
    }
   },
   "source": [
    "<pre style=\"border: 2px solid blue\">\n",
    "\n",
    "\n",
    "\n",
    "\n",
    "\n",
    "\n",
    "\n",
    "\n",
    "\n",
    "\n",
    "\n",
    "\n",
    "\n",
    "\n",
    "\n",
    "</pre>"
   ]
  },
  {
   "cell_type": "markdown",
   "id": "30cf17d7",
   "metadata": {
    "slideshow": {
     "slide_type": "subslide"
    }
   },
   "source": [
    "### Time Reversal\n",
    "\n",
    "Sketch $u_0(-t)$"
   ]
  },
  {
   "cell_type": "markdown",
   "id": "827133c4",
   "metadata": {
    "slideshow": {
     "slide_type": "notes"
    }
   },
   "source": [
    "<pre style=\"border: 2px solid blue\">\n",
    "\n",
    "\n",
    "\n",
    "\n",
    "\n",
    "\n",
    "\n",
    "\n",
    "\n",
    "\n",
    "\n",
    "\n",
    "\n",
    "\n",
    "\n",
    "</pre>"
   ]
  },
  {
   "cell_type": "markdown",
   "id": "54fc64d7",
   "metadata": {
    "slideshow": {
     "slide_type": "subslide"
    }
   },
   "source": [
    "### Time Delay and Advance\n",
    "\n",
    "Sketch $u_0(t-T)$ and $u_0(t+T)$"
   ]
  },
  {
   "cell_type": "markdown",
   "id": "f04c112b",
   "metadata": {
    "slideshow": {
     "slide_type": "notes"
    }
   },
   "source": [
    "<pre style=\"border: 2px solid blue\">\n",
    "\n",
    "\n",
    "\n",
    "\n",
    "\n",
    "\n",
    "\n",
    "\n",
    "\n",
    "\n",
    "\n",
    "\n",
    "\n",
    "\n",
    "\n",
    "</pre>"
   ]
  },
  {
   "cell_type": "markdown",
   "id": "d4ec9fe1",
   "metadata": {
    "slideshow": {
     "slide_type": "slide"
    }
   },
   "source": [
    "### Examples"
   ]
  },
  {
   "cell_type": "markdown",
   "id": "755e26bb",
   "metadata": {
    "slideshow": {
     "slide_type": "subslide"
    }
   },
   "source": [
    "#### Example 1\n",
    "\n",
    "Which of these signals represents $-Au_0(t+T)$?\n",
    "\n",
    "<img src=\"pictures/stepf1.png\" width=\"50%\">"
   ]
  },
  {
   "cell_type": "markdown",
   "id": "7fb5b958",
   "metadata": {
    "slideshow": {
     "slide_type": "fragment"
    }
   },
   "source": [
    "**-> Open Poll: 1.2.5**"
   ]
  },
  {
   "cell_type": "markdown",
   "id": "cb2fa12c",
   "metadata": {
    "slideshow": {
     "slide_type": "subslide"
    }
   },
   "source": [
    "#### Example 2\n",
    "\n",
    "What is represented by\n",
    "\n",
    "<img src=\"pictures/stepf2.png\" width=\"50%\">"
   ]
  },
  {
   "cell_type": "markdown",
   "id": "c30c410c",
   "metadata": {
    "slideshow": {
     "slide_type": "notes"
    }
   },
   "source": [
    "1. $-Au_0(t + T)$ \n",
    "2. $-Au_0(-t + T)$\n",
    "3. $-Au_0(-t - T)$\n",
    "4. $-Au_0(t-T)$"
   ]
  },
  {
   "cell_type": "markdown",
   "id": "ca179b93",
   "metadata": {
    "slideshow": {
     "slide_type": "fragment"
    }
   },
   "source": [
    "**-> Open Poll: 1.2.6**"
   ]
  },
  {
   "cell_type": "markdown",
   "id": "709931e5",
   "metadata": {
    "slideshow": {
     "slide_type": "slide"
    }
   },
   "source": [
    "## Synthesis of Signals from Unit Step\n",
    "\n",
    "Unit step functions can be used to represent other time-varying functions such as rectangular pulses, square waves and triangular pulses."
   ]
  },
  {
   "cell_type": "markdown",
   "id": "e023fe50",
   "metadata": {
    "slideshow": {
     "slide_type": "subslide"
    }
   },
   "source": [
    "### Synthesize Rectangular Pulse\n",
    "\n",
    "<img src=\"pictures/rect.png\">"
   ]
  },
  {
   "cell_type": "markdown",
   "id": "6d6e905c",
   "metadata": {
    "slideshow": {
     "slide_type": "notes"
    }
   },
   "source": [
    "<pre style=\"border: 2px solid blue\">\n",
    "\n",
    "\n",
    "\n",
    "\n",
    "\n",
    "</pre>"
   ]
  },
  {
   "cell_type": "markdown",
   "id": "395efe87",
   "metadata": {
    "slideshow": {
     "slide_type": "subslide"
    }
   },
   "source": [
    "### Synthesize Square Wave\n",
    "\n",
    "<img src=\"pictures/square_wave.png\">"
   ]
  },
  {
   "cell_type": "markdown",
   "id": "c0df086e",
   "metadata": {
    "slideshow": {
     "slide_type": "notes"
    }
   },
   "source": [
    "<pre style=\"border: 2px solid blue\">\n",
    "\n",
    "\n",
    "\n",
    "\n",
    "\n",
    "\n",
    "\n",
    "\n",
    "\n",
    "\n",
    "\n",
    "\n",
    "\n",
    "</pre>"
   ]
  },
  {
   "cell_type": "markdown",
   "id": "f945c433",
   "metadata": {
    "slideshow": {
     "slide_type": "subslide"
    }
   },
   "source": [
    "### Synthesize Symmetric Rectangular Pulse\n",
    "\n",
    "<img src=\"pictures/symm_rect.png\">"
   ]
  },
  {
   "cell_type": "markdown",
   "id": "d29e29c3",
   "metadata": {
    "slideshow": {
     "slide_type": "notes"
    }
   },
   "source": [
    "<pre style=\"border: 2px solid blue\">\n",
    "\n",
    "\n",
    "\n",
    "\n",
    "\n",
    "\n",
    "\n",
    "\n",
    "\n",
    "\n",
    "\n",
    "\n",
    "\n",
    "</pre>"
   ]
  },
  {
   "cell_type": "markdown",
   "id": "c10039a0",
   "metadata": {
    "slideshow": {
     "slide_type": "subslide"
    }
   },
   "source": [
    "### Synthesize Symmetric Triangular Pulse\n",
    "\n",
    "<img src=\"pictures/symm_tri.png\">"
   ]
  },
  {
   "cell_type": "markdown",
   "id": "e2533127",
   "metadata": {
    "slideshow": {
     "slide_type": "notes"
    }
   },
   "source": [
    "<pre style=\"border: 2px solid blue\">\n",
    "\n",
    "\n",
    "\n",
    "\n",
    "\n",
    "\n",
    "\n",
    "\n",
    "\n",
    "\n",
    "\n",
    "\n",
    "\n",
    "</pre>"
   ]
  },
  {
   "cell_type": "markdown",
   "id": "f6d49d7a",
   "metadata": {
    "slideshow": {
     "slide_type": "slide"
    }
   },
   "source": [
    "## The Ramp Function\n",
    "\n",
    "<img src=\"pictures/rc.png\">\n",
    "\n",
    "In the circuit shown above $i_s$ is a constant current source and the switch is closed at time $t=0$."
   ]
  },
  {
   "cell_type": "markdown",
   "id": "694a9598",
   "metadata": {
    "slideshow": {
     "slide_type": "subslide"
    }
   },
   "source": [
    "Show that the voltage across the capacitor can be represented as\n",
    "\n",
    "$$v_C(t)=\\frac{i_s}{C}t u_0(t)$$ \n",
    "\n",
    "and sketch the wave form."
   ]
  },
  {
   "cell_type": "markdown",
   "id": "5a986c6f",
   "metadata": {
    "slideshow": {
     "slide_type": "notes"
    }
   },
   "source": [
    "<pre style=\"border: 2px solid blue\">\n",
    "\n",
    "\n",
    "\n",
    "\n",
    "\n",
    "\n",
    "\n",
    "\n",
    "\n",
    "\n",
    "\n",
    "\n",
    "\n",
    "\n",
    "\n",
    "\n",
    "\n",
    "\n",
    "\n",
    "\n",
    "\n",
    "\n",
    "\n",
    "\n",
    "\n",
    "</pre>"
   ]
  },
  {
   "cell_type": "markdown",
   "id": "c9f350b4",
   "metadata": {
    "slideshow": {
     "slide_type": "subslide"
    }
   },
   "source": [
    "The unit ramp function is defined as\n",
    "\n",
    "$$u_1(t) = \\int_{-\\infty}^{t}u_0(\\tau)d\\tau$$\n",
    "\n",
    "so\n",
    "\n",
    "$${u_1}(t) = \\left\\{ {\\begin{array}{*{20}{c}}\n",
    "{0\\quad t < 0}\\\\\n",
    "{t\\quad t \\ge 0}\n",
    "\\end{array}} \\right.$$\n",
    "\n",
    "and \n",
    "\n",
    "$$u_0(t) = \\frac{d }{dt}u_1(t)$$"
   ]
  },
  {
   "cell_type": "markdown",
   "id": "1ed079c5",
   "metadata": {
    "slideshow": {
     "slide_type": "notes"
    }
   },
   "source": [
    "**Note**\n",
    "\n",
    "Higher order functions of $t$ can be generated by the repeated integration of the unit step function. \n",
    "\n",
    "For future reference, you should determine $u_2(t)$, $u_3(t)$ and $u_n(t)$ for yourself and make a note of the general rule:\n",
    "\n",
    "$$u_{n-1} = \\frac{1}{n}\\frac{d}{dt}u_n(t)$$\n",
    "\n",
    "Details are given in equations 1.26&mdash;1.29 in the textbook."
   ]
  },
  {
   "cell_type": "markdown",
   "id": "3fefb2ff",
   "metadata": {
    "slideshow": {
     "slide_type": "slide"
    }
   },
   "source": [
    "## The Dirac Delta Function\n",
    "\n",
    "<img src=\"pictures/lr.png\">\n",
    "\n",
    "In the circuit shown above, the switch is closed at time $t=0$ and $i_L(t)=0$ for $t<0$. Express the inductor current $i_L(t)$ in terms of the unit step function and hence derive an expression for $v_L(t)$."
   ]
  },
  {
   "cell_type": "markdown",
   "id": "29180feb",
   "metadata": {
    "slideshow": {
     "slide_type": "notes"
    }
   },
   "source": [
    "<pre style=\"border: 2px solid blue\">\n",
    "\n",
    "\n",
    "\n",
    "\n",
    "\n",
    "\n",
    "\n",
    "\n",
    "\n",
    "\n",
    "\n",
    "\n",
    "\n",
    "</pre>"
   ]
  },
  {
   "cell_type": "markdown",
   "id": "47b343c9",
   "metadata": {
    "slideshow": {
     "slide_type": "notes"
    }
   },
   "source": [
    "**Notes**\n",
    "\n",
    "To solve this problem we need to invent a function that represents the derivative of the unit step function. This function is called $\\delta(t)$ or the *dirac delta* function (named after [Paul Dirac](https://en.wikipedia.org/wiki/Paul_Dirac))."
   ]
  },
  {
   "cell_type": "markdown",
   "id": "50197bef",
   "metadata": {
    "slideshow": {
     "slide_type": "subslide"
    }
   },
   "source": [
    "### The delta function\n",
    "\n",
    "The unit impulse or the delta function, denoted as $\\delta(t)$, is the derivative of the unit step.\n",
    "\n",
    "This function is tricky because $u_0(t)$ is discontinuous at $t=0$ but it must have the properties\n",
    "\n",
    "$$\\int_{-\\infty}^{t}\\delta(\\tau)d\\tau = u_0(t)$$\n",
    "\n",
    "and\n",
    "\n",
    "$\\delta(t) = 0$ for all $t\\ne 0$."
   ]
  },
  {
   "cell_type": "markdown",
   "id": "aa724edd",
   "metadata": {
    "slideshow": {
     "slide_type": "subslide"
    }
   },
   "source": [
    "### Sketch of the delta function\n",
    "\n",
    "![The delta function](pictures/impulse.png)"
   ]
  },
  {
   "cell_type": "markdown",
   "id": "c95cbffc",
   "metadata": {
    "slideshow": {
     "slide_type": "slide"
    }
   },
   "source": [
    "## Important properties of the delta function\n",
    "\n",
    "See the accompanying [notes](index)."
   ]
  },
  {
   "cell_type": "markdown",
   "id": "907db2be",
   "metadata": {
    "slideshow": {
     "slide_type": "slide"
    }
   },
   "source": [
    "### Examples"
   ]
  },
  {
   "cell_type": "markdown",
   "id": "665ed5aa",
   "metadata": {
    "slideshow": {
     "slide_type": "subslide"
    }
   },
   "source": [
    "#### Example 3\n",
    "\n",
    "Evaluate the following expressions"
   ]
  },
  {
   "cell_type": "markdown",
   "id": "0b02e8cc",
   "metadata": {
    "slideshow": {
     "slide_type": "fragment"
    }
   },
   "source": [
    "$$3t^4\\delta(t-1) $$"
   ]
  },
  {
   "cell_type": "markdown",
   "id": "64543bad",
   "metadata": {
    "slideshow": {
     "slide_type": "notes"
    }
   },
   "source": [
    "<pre style=\"border: 2px solid blue\">\n",
    "\n",
    "\n",
    "\n",
    "\n",
    "\n",
    "\n",
    "\n",
    "\n",
    "\n",
    "\n",
    "\n",
    "\n",
    "\n",
    "</pre>"
   ]
  },
  {
   "cell_type": "markdown",
   "id": "5a790217",
   "metadata": {
    "slideshow": {
     "slide_type": "fragment"
    }
   },
   "source": [
    "$$\\int_{-\\infty}^{\\infty}t\\delta(t-2)dt$$"
   ]
  },
  {
   "cell_type": "markdown",
   "id": "55f519be",
   "metadata": {
    "slideshow": {
     "slide_type": "notes"
    }
   },
   "source": [
    "<pre style=\"border: 2px solid blue\">\n",
    "\n",
    "\n",
    "\n",
    "\n",
    "\n",
    "\n",
    "\n",
    "\n",
    "\n",
    "\n",
    "\n",
    "\n",
    "\n",
    "</pre>"
   ]
  },
  {
   "cell_type": "markdown",
   "id": "f2c931cd",
   "metadata": {
    "slideshow": {
     "slide_type": "fragment"
    }
   },
   "source": [
    "$$t^2\\delta'(t-3)$$"
   ]
  },
  {
   "cell_type": "markdown",
   "id": "d32c2c46",
   "metadata": {
    "slideshow": {
     "slide_type": "notes"
    }
   },
   "source": [
    "<pre style=\"border: 2px solid blue\">\n",
    "\n",
    "\n",
    "\n",
    "\n",
    "\n",
    "\n",
    "\n",
    "\n",
    "\n",
    "\n",
    "\n",
    "\n",
    "\n",
    "</pre>"
   ]
  },
  {
   "cell_type": "markdown",
   "id": "dce65a4d",
   "metadata": {
    "slideshow": {
     "slide_type": "subslide"
    }
   },
   "source": [
    "#### Example 4\n",
    "\n",
    "<img src=\"pictures/example2.png\">"
   ]
  },
  {
   "cell_type": "markdown",
   "id": "f32c326c",
   "metadata": {
    "slideshow": {
     "slide_type": "subslide"
    }
   },
   "source": [
    "(1) Express the voltage waveform $v(t)$ shown above as a sum of unit step functions for the time interval $-1 < t < 7$ s"
   ]
  },
  {
   "cell_type": "markdown",
   "id": "f72501ba",
   "metadata": {
    "slideshow": {
     "slide_type": "notes"
    }
   },
   "source": [
    "<pre style=\"border: 2px solid blue\">\n",
    "\n",
    "\n",
    "\n",
    "\n",
    "\n",
    "\n",
    "\n",
    "\n",
    "\n",
    "\n",
    "\n",
    "\n",
    "\n",
    "</pre>"
   ]
  },
  {
   "cell_type": "markdown",
   "id": "338f1211",
   "metadata": {
    "slideshow": {
     "slide_type": "subslide"
    }
   },
   "source": [
    "Using the result of part (1), compute the derivative of $v(t)$ and sketch its waveform."
   ]
  },
  {
   "cell_type": "markdown",
   "id": "96a17d75",
   "metadata": {
    "slideshow": {
     "slide_type": "notes"
    }
   },
   "source": [
    "<pre style=\"border: 2px solid blue\">\n",
    "\n",
    "\n",
    "\n",
    "\n",
    "\n",
    "\n",
    "\n",
    "\n",
    "\n",
    "\n",
    "\n",
    "\n",
    "\n",
    "</pre>"
   ]
  },
  {
   "cell_type": "markdown",
   "id": "fc4f2477",
   "metadata": {
    "slideshow": {
     "slide_type": "slide"
    }
   },
   "source": [
    "## Lab Work\n",
    "\n",
    "In the first lab, next Tuesday, we will solve further elemetary signals problems using MATLAB and Simulink\n",
    "following the procedure given between pages 1-17 and 1-22 of the Karris. We will also explore the\n",
    "`heaviside` and `dirac` functions."
   ]
  },
  {
   "cell_type": "markdown",
   "id": "9f6ffbb3",
   "metadata": {
    "slideshow": {
     "slide_type": "notes"
    }
   },
   "source": [
    "## Answers to in-class questions\n",
    "\n",
    "Mathematically\n",
    "\n",
    "Q1. $v_{\\mathrm{out}} = 0$ when $-\\infty < t < 0$ (answer 2)\n",
    "\n",
    "Q2. $v_{\\mathrm{out}} = V_s$ when $0 < t < \\infty$ (answer 3)\n",
    "\n",
    "Q3. $v_{\\mathrm{out}} = \\mathrm{undefined}$ when $t=0$ (answer 1)\n",
    "\n",
    "$V_{\\mathrm{out}}$ jumps from $0$ to $V_s$ instantanously when the switch is closed. We call this a discontinuous signal!\n",
    "\n",
    "Q4: The correct image is:\n",
    "\n",
    "<img src=\"pictures/step2.png\">\n",
    "\n",
    "Example 1: Answer 3.\n",
    "\n",
    "Example 2: Answer 2."
   ]
  }
 ],
 "metadata": {
  "jupytext": {
   "formats": "ipynb,md:myst",
   "text_representation": {
    "extension": ".md",
    "format_name": "myst",
    "format_version": 0.13,
    "jupytext_version": "1.14.0"
   }
  },
  "kernelspec": {
   "display_name": "Matlab",
   "language": "matlab",
   "name": "matlab"
  },
  "source_map": [
   15,
   19,
   28,
   34,
   46,
   56,
   66,
   70,
   80,
   84,
   94,
   98,
   109,
   113,
   124,
   130,
   141,
   153,
   163,
   183,
   187,
   193,
   213,
   219,
   239,
   245,
   265,
   269,
   277,
   281,
   289,
   296,
   300,
   306,
   312,
   322,
   328,
   346,
   352,
   370,
   376,
   394,
   402,
   410,
   440,
   457,
   469,
   477,
   495,
   501,
   515,
   521,
   527,
   531,
   537,
   541,
   559,
   563,
   581,
   585,
   603,
   609,
   613,
   631,
   635,
   653,
   661
  ]
 },
 "nbformat": 4,
 "nbformat_minor": 5
}