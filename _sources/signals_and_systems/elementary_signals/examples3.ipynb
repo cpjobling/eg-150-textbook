{
 "cells": [
  {
   "cell_type": "markdown",
   "id": "17b2d3e9",
   "metadata": {
    "slideshow": {
     "slide_type": "skip"
    }
   },
   "source": [
    "Lecturer: Set up MATLAB"
   ]
  },
  {
   "cell_type": "code",
   "execution_count": null,
   "id": "8f88eb15",
   "metadata": {
    "slideshow": {
     "slide_type": "skip"
    }
   },
   "outputs": [],
   "source": [
    "clear all\n",
    "format compact"
   ]
  },
  {
   "cell_type": "markdown",
   "id": "b0ccfee9",
   "metadata": {
    "slideshow": {
     "slide_type": "slide"
    }
   },
   "source": [
    "(worked_examples_3)=\n",
    "# Examples 3 - Elementary Signals\n",
    "\n",
    "To accompany {ref}`elementary_signals`."
   ]
  },
  {
   "cell_type": "markdown",
   "id": "0bdbfc11",
   "metadata": {
    "slideshow": {
     "slide_type": "fragment"
    }
   },
   "source": [
    "Follow along at [cpjobling.github.io/eg-150-textbook/signals_and_systems/elementary_signals/examples3](https://cpjobling.github.io/eg-150-textbook/signals_and_systems/elementary_signals/examples3)\n",
    "\n",
    "![QR Code](pictures/qrcode_examples3.png)"
   ]
  },
  {
   "cell_type": "markdown",
   "id": "5957841e",
   "metadata": {
    "slideshow": {
     "slide_type": "slide"
    }
   },
   "source": [
    "## Plot the Unit Step\n",
    "\n",
    "$v_1(t) = A u_0(t)$"
   ]
  },
  {
   "cell_type": "code",
   "execution_count": null,
   "id": "36492587",
   "metadata": {
    "slideshow": {
     "slide_type": "fragment"
    }
   },
   "outputs": [],
   "source": [
    "syms t\n",
    "u0(t) = heaviside(t); % allows us to type u0(t) in our formulae\n",
    "A = 2; T = 2; % we need numerical values to get a successful plot\n",
    "v1(t) = A*u0(t)\n",
    "fplot(v1,'LineWidth',2),title('Unit step'),subtitle(texlabel('v_1(t) = Au_0(t)')),grid,xlabel('t')"
   ]
  },
  {
   "cell_type": "markdown",
   "id": "b0e71416",
   "metadata": {
    "slideshow": {
     "slide_type": "slide"
    }
   },
   "source": [
    "(ex3_1)=\n",
    "## 3.1: Other forms of unit step\n",
    "\n",
    "```{admonition} MATLAB Example\n",
    ":class: tip\n",
    "We will solve this example by hand and then give the solution in the MATLAB lab.\n",
    "```\n",
    "\n",
    "Use the MATLAB functions `subplot`, `heaviside` and `fplot` to reproduce {numref}`other_unit_steps`. \n",
    "\n",
    "\n",
    ":::{figure-md} other_unit_steps\n",
    "<img src=\"pictures/unit_steps.png\" alt=\"\" width=\"60%\">\n",
    "\n",
    "Other forms of unit step function (Figure 1.8 {cite}`karris`)\n",
    ":::\n",
    "\n",
    "We've done the first row for you."
   ]
  },
  {
   "cell_type": "markdown",
   "id": "4977913f",
   "metadata": {
    "slideshow": {
     "slide_type": "subslide"
    }
   },
   "source": [
    "a). $v_1(t) = -Au_0(t)$"
   ]
  },
  {
   "cell_type": "code",
   "execution_count": null,
   "id": "45d730f4",
   "metadata": {
    "slideshow": {
     "slide_type": "fragment"
    }
   },
   "outputs": [],
   "source": [
    "clf % clear figures\n",
    "sgtitle('Other forms of the unit step function');\n",
    "subplot(331)\n",
    "v2(t) = -A*u0(t)\n",
    "fplot(v1,'LineWidth',2),title(['a) ',texlabel('v_2(t) = -A*u_0(t)')]),grid,xlabel('t')"
   ]
  },
  {
   "cell_type": "markdown",
   "id": "aefe37c3",
   "metadata": {
    "slideshow": {
     "slide_type": "subslide"
    }
   },
   "source": [
    "b). $v_3(t) = -A(t - T)$"
   ]
  },
  {
   "cell_type": "code",
   "execution_count": null,
   "id": "3aa37e9e",
   "metadata": {
    "slideshow": {
     "slide_type": "fragment"
    }
   },
   "outputs": [],
   "source": [
    "subplot(332)\n",
    "v3(t) = -A*u0(t - T)\n",
    "fplot(v3(t),'LineWidth',2),title(['b) ',texlabel('v_3(t) = -A*u_0(t-T)')]),grid,xlabel('t')"
   ]
  },
  {
   "cell_type": "markdown",
   "id": "17c07b57",
   "metadata": {
    "slideshow": {
     "slide_type": "subslide"
    }
   },
   "source": [
    "c). $v_4(t) = -A(t + T)$"
   ]
  },
  {
   "cell_type": "code",
   "execution_count": null,
   "id": "dce6d8b8",
   "metadata": {
    "slideshow": {
     "slide_type": "fragment"
    }
   },
   "outputs": [],
   "source": [
    "subplot(333)\n",
    "v4(t) = -A*u0(t + T)\n",
    "fplot(v4(t),'LineWidth',2),title(['c) ',texlabel('v_4(t) = -A*u_0(t+T)')]),xlabel('t')"
   ]
  },
  {
   "cell_type": "markdown",
   "id": "4a147bff",
   "metadata": {
    "slideshow": {
     "slide_type": "subslide"
    }
   },
   "source": [
    "d). $v_5(t) = Au_0(-t)$\n",
    "\n",
    "e). $v_6(t) = Au_0(-t + T)$\n",
    "\n",
    "f). $v_7(t) = Au_0(-t - T)$\n",
    "\n",
    "g). $v_8(t) = -Au_0(-t)$\n",
    "\n",
    "h). $v_9(t) = -Au_0(-t + T)$\n",
    "\n",
    "i). $v_{10}(t) = -Au_0(-t - T)$"
   ]
  },
  {
   "cell_type": "markdown",
   "id": "71e61eb1",
   "metadata": {},
   "source": [
    "The result should look like {numref}`fig_result`.\n",
    "\n",
    ":::{figure-md} fig_result\n",
    "<img src=\"pictures/unit_steps_plot.png\" alt=\"Other forms of unit step function reproduced in MATLAB\" width=\"60%\">\n",
    "\n",
    "Other forms of unit step function (Figure 1.8 {cite}`karris`) reproduced in MATLAB \n",
    ":::"
   ]
  },
  {
   "cell_type": "markdown",
   "id": "2225379d",
   "metadata": {
    "slideshow": {
     "slide_type": "slide"
    }
   },
   "source": [
    "(ex3_2)=\n",
    "## 3.2: Synthesis of Signals from Unit Step\n",
    "\n",
    "```{admonition} MATLAB Example\n",
    ":class: tip\n",
    "We will solve this example by hand and then give the solution in the MATLAB lab.\n",
    "```\n",
    "\n",
    "Unit step functions can be used to represent other time-varying functions such as rectangular pulses, square waves and triangular pulses."
   ]
  },
  {
   "cell_type": "markdown",
   "id": "df8217d8",
   "metadata": {
    "slideshow": {
     "slide_type": "subslide"
    }
   },
   "source": [
    "### a) Synthesize Rectangular Pulse\n",
    "\n",
    "<img src=\"pictures/rect.png\">"
   ]
  },
  {
   "cell_type": "markdown",
   "id": "99ec4a67",
   "metadata": {
    "slideshow": {
     "slide_type": "notes"
    }
   },
   "source": [
    "<pre style=\"border: 2px solid blue\">\n",
    "\n",
    "\n",
    "\n",
    "\n",
    "\n",
    "</pre>"
   ]
  },
  {
   "cell_type": "markdown",
   "id": "c9163549",
   "metadata": {
    "slideshow": {
     "slide_type": "subslide"
    }
   },
   "source": [
    "### b) Synthesize Square Wave\n",
    "\n",
    "<img src=\"pictures/square_wave.png\">"
   ]
  },
  {
   "cell_type": "markdown",
   "id": "e8994d6b",
   "metadata": {
    "slideshow": {
     "slide_type": "notes"
    }
   },
   "source": [
    "<pre style=\"border: 2px solid blue\">\n",
    "\n",
    "\n",
    "\n",
    "\n",
    "\n",
    "\n",
    "\n",
    "\n",
    "\n",
    "\n",
    "\n",
    "\n",
    "\n",
    "</pre>"
   ]
  },
  {
   "cell_type": "markdown",
   "id": "c102c3f0",
   "metadata": {
    "slideshow": {
     "slide_type": "subslide"
    }
   },
   "source": [
    "### c) Synthesize Symmetric Rectangular Pulse\n",
    "\n",
    "<img src=\"pictures/symm_rect.png\">"
   ]
  },
  {
   "cell_type": "markdown",
   "id": "41de7277",
   "metadata": {
    "slideshow": {
     "slide_type": "notes"
    }
   },
   "source": [
    "<pre style=\"border: 2px solid blue\">\n",
    "\n",
    "\n",
    "\n",
    "\n",
    "\n",
    "\n",
    "\n",
    "\n",
    "\n",
    "\n",
    "\n",
    "\n",
    "\n",
    "</pre>"
   ]
  },
  {
   "cell_type": "markdown",
   "id": "75e07d51",
   "metadata": {
    "slideshow": {
     "slide_type": "subslide"
    }
   },
   "source": [
    "### d) Synthesize Symmetric Triangular Pulse\n",
    "\n",
    "<img src=\"pictures/symm_tri.png\">"
   ]
  },
  {
   "cell_type": "markdown",
   "id": "fe2064a0",
   "metadata": {
    "slideshow": {
     "slide_type": "notes"
    }
   },
   "source": [
    "<pre style=\"border: 2px solid blue\">\n",
    "\n",
    "\n",
    "\n",
    "\n",
    "\n",
    "\n",
    "\n",
    "\n",
    "\n",
    "\n",
    "\n",
    "\n",
    "\n",
    "</pre>"
   ]
  },
  {
   "cell_type": "markdown",
   "id": "7750d1fd",
   "metadata": {
    "slideshow": {
     "slide_type": "slide"
    }
   },
   "source": [
    "(ex3_3)=\n",
    "## Example 3.3: Important properties of the delta function\n",
    "\n",
    "```{admonition} MATLAB Example\n",
    ":class: tip\n",
    "We will solve this example by hand and then give the solution in the MATLAB lab.\n",
    "```\n",
    "\n",
    "\n",
    "See the accompanying [notes](index)."
   ]
  },
  {
   "cell_type": "markdown",
   "id": "75ca5325",
   "metadata": {
    "slideshow": {
     "slide_type": "subslide"
    }
   },
   "source": [
    "Evaluate the following expressions"
   ]
  },
  {
   "cell_type": "markdown",
   "id": "0820a803",
   "metadata": {
    "slideshow": {
     "slide_type": "fragment"
    }
   },
   "source": [
    "a) $3t^4\\delta(t-1)$"
   ]
  },
  {
   "cell_type": "markdown",
   "id": "e8809489",
   "metadata": {
    "slideshow": {
     "slide_type": "notes"
    }
   },
   "source": [
    "<pre style=\"border: 2px solid blue\">\n",
    "\n",
    "\n",
    "\n",
    "\n",
    "\n",
    "\n",
    "\n",
    "\n",
    "\n",
    "\n",
    "\n",
    "\n",
    "\n",
    "</pre>"
   ]
  },
  {
   "cell_type": "markdown",
   "id": "ac4bdcb8",
   "metadata": {
    "slideshow": {
     "slide_type": "fragment"
    }
   },
   "source": [
    "b) \n",
    "\n",
    "$$\\int_{-\\infty}^{\\infty}t\\delta(t-2)dt$$"
   ]
  },
  {
   "cell_type": "markdown",
   "id": "c76d6b73",
   "metadata": {
    "slideshow": {
     "slide_type": "notes"
    }
   },
   "source": [
    "<pre style=\"border: 2px solid blue\">\n",
    "\n",
    "\n",
    "\n",
    "\n",
    "\n",
    "\n",
    "\n",
    "\n",
    "\n",
    "\n",
    "\n",
    "\n",
    "\n",
    "</pre>"
   ]
  },
  {
   "cell_type": "markdown",
   "id": "dfa3113a",
   "metadata": {
    "slideshow": {
     "slide_type": "fragment"
    }
   },
   "source": [
    "$$t^2\\delta'(t-3)$$"
   ]
  },
  {
   "cell_type": "markdown",
   "id": "54e8f9ce",
   "metadata": {
    "slideshow": {
     "slide_type": "notes"
    }
   },
   "source": [
    "<pre style=\"border: 2px solid blue\">\n",
    "\n",
    "\n",
    "\n",
    "\n",
    "\n",
    "\n",
    "\n",
    "\n",
    "\n",
    "\n",
    "\n",
    "\n",
    "\n",
    "</pre>"
   ]
  },
  {
   "cell_type": "markdown",
   "id": "cc9fad0a",
   "metadata": {
    "slideshow": {
     "slide_type": "subslide"
    }
   },
   "source": [
    "(ex3_4)=\n",
    "## Example 3.4: Signal Synthesis\n",
    "\n",
    "```{admonition} MATLAB Example\n",
    ":class: tip\n",
    "We will solve this example by hand and then give the solution in the MATLAB lab.\n",
    "```\n",
    ":::{figure-md} fig:ex3_6\n",
    "<img src=\"pictures/example2.png\" alt=\"\" width=\"60%\">\n",
    "\n",
    "Signal to be symthesized for Example 3.6\n",
    ":::"
   ]
  },
  {
   "cell_type": "markdown",
   "id": "eefd68b3",
   "metadata": {
    "slideshow": {
     "slide_type": "subslide"
    }
   },
   "source": [
    "a) Express the voltage waveform $v(t)$ shown in {numref}`fig:ex3_6` as a sum of unit step functions for the time interval $-1 < t < 7$ s"
   ]
  },
  {
   "cell_type": "markdown",
   "id": "8d511de8",
   "metadata": {
    "slideshow": {
     "slide_type": "notes"
    }
   },
   "source": [
    "<pre style=\"border: 2px solid blue\">\n",
    "\n",
    "\n",
    "\n",
    "\n",
    "\n",
    "\n",
    "\n",
    "\n",
    "\n",
    "\n",
    "\n",
    "\n",
    "\n",
    "</pre>"
   ]
  },
  {
   "cell_type": "markdown",
   "id": "478a7b9d",
   "metadata": {
    "slideshow": {
     "slide_type": "subslide"
    }
   },
   "source": [
    "b) Using the result of 3.6(a), compute the derivative of $v(t)$ and sketch its waveform."
   ]
  },
  {
   "cell_type": "markdown",
   "id": "b7a06334",
   "metadata": {
    "slideshow": {
     "slide_type": "notes"
    }
   },
   "source": [
    "<pre style=\"border: 2px solid blue\">\n",
    "\n",
    "\n",
    "\n",
    "\n",
    "\n",
    "\n",
    "\n",
    "\n",
    "\n",
    "\n",
    "\n",
    "\n",
    "\n",
    "</pre>"
   ]
  },
  {
   "cell_type": "markdown",
   "id": "76685e7f",
   "metadata": {
    "slideshow": {
     "slide_type": "slide"
    }
   },
   "source": [
    "## Lab Work\n",
    "\n",
    "In the second lab we will solve the examples indicated in these examples."
   ]
  }
 ],
 "metadata": {
  "jupytext": {
   "formats": "ipynb,md:myst",
   "text_representation": {
    "extension": ".md",
    "format_name": "myst",
    "format_version": 0.13,
    "jupytext_version": "1.14.4"
   }
  },
  "kernelspec": {
   "display_name": "Matlab",
   "language": "matlab",
   "name": "matlab"
  },
  "source_map": [
   15,
   19,
   28,
   35,
   41,
   47,
   59,
   80,
   84,
   96,
   100,
   110,
   114,
   124,
   138,
   148,
   160,
   166,
   176,
   182,
   200,
   206,
   224,
   230,
   248,
   261,
   265,
   269,
   287,
   293,
   311,
   315,
   333,
   348,
   352,
   370,
   374,
   392
  ]
 },
 "nbformat": 4,
 "nbformat_minor": 5
}