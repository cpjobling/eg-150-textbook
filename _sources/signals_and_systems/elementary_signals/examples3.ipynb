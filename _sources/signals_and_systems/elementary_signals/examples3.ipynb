{
 "cells": [
  {
   "cell_type": "markdown",
   "id": "9a9ceb22",
   "metadata": {
    "slideshow": {
     "slide_type": "skip"
    }
   },
   "source": [
    "Lecturer: Set up MATLAB"
   ]
  },
  {
   "cell_type": "code",
   "execution_count": null,
   "id": "86377853",
   "metadata": {
    "slideshow": {
     "slide_type": "skip"
    }
   },
   "outputs": [],
   "source": [
    "clear all\n",
    "format compact"
   ]
  },
  {
   "cell_type": "markdown",
   "id": "31ecae3d",
   "metadata": {
    "slideshow": {
     "slide_type": "slide"
    }
   },
   "source": [
    "(worked_examples_3)=\n",
    "# Examples 3 - Elementary Signals\n",
    "\n",
    "To accompany {ref}`elementary_signals`."
   ]
  },
  {
   "cell_type": "markdown",
   "id": "11bf65e4",
   "metadata": {
    "slideshow": {
     "slide_type": "fragment"
    }
   },
   "source": [
    "Follow along at [cpjobling.github.io/eg-150-textbook/signals_and_systems/elementary_signals/examples3](https://cpjobling.github.io/eg-150-textbook/signals_and_systems/elementary_signals/examples3)\n",
    "\n",
    "![QR Code](pictures/qrcode_examples3.png)"
   ]
  },
  {
   "cell_type": "markdown",
   "id": "8af6e697",
   "metadata": {
    "slideshow": {
     "slide_type": "slide"
    }
   },
   "source": [
    "## Plot the Unit Step\n",
    "\n",
    "$v_1(t) = A u_0(t)$"
   ]
  },
  {
   "cell_type": "code",
   "execution_count": null,
   "id": "f7dab0f2",
   "metadata": {
    "slideshow": {
     "slide_type": "fragment"
    }
   },
   "outputs": [],
   "source": [
    "syms t\n",
    "u0(t) = heaviside(t); % allows us to type u0(t) in our formulae\n",
    "A = 2; T = 2; % we need numerical values to get a successful plot\n",
    "v1(t) = A*u0(t)\n",
    "fplot(v1,'LineWidth',2),title('Unit step'),subtitle(texlabel('v_1(t) = Au_0(t)')),grid,xlabel('t')"
   ]
  },
  {
   "cell_type": "markdown",
   "id": "ac53d532",
   "metadata": {
    "slideshow": {
     "slide_type": "slide"
    }
   },
   "source": [
    "(ex3_1)=\n",
    "## 3.1: Other forms of unit step\n",
    "\n",
    "```{admonition} MATLAB Example\n",
    ":class: tip\n",
    "We will solve this example by hand and then give the solution in the MATLAB lab.\n",
    "```\n",
    "\n",
    "Use the MATLAB functions `subplot`, `heaviside` and `fplot` to reproduce {numref}`other_unit_steps`. \n",
    "\n",
    "\n",
    ":::{figure-md} other_unit_steps\n",
    "<img src=\"pictures/unit_steps.png\" alt=\"\" width=\"60%\">\n",
    "\n",
    "Other forms of unit step function (Figure 1.8 {cite}`karris`)\n",
    ":::\n",
    "\n",
    "We've done the first row for you."
   ]
  },
  {
   "cell_type": "markdown",
   "id": "38241dff",
   "metadata": {
    "slideshow": {
     "slide_type": "subslide"
    }
   },
   "source": [
    "a). $v_1(t) = -Au_0(t)$"
   ]
  },
  {
   "cell_type": "code",
   "execution_count": null,
   "id": "75dd99c9",
   "metadata": {
    "slideshow": {
     "slide_type": "fragment"
    }
   },
   "outputs": [],
   "source": [
    "clf % clear figures\n",
    "sgtitle('Other forms of the unit step function');\n",
    "subplot(331)\n",
    "v2(t) = -A*u0(t)\n",
    "fplot(v1,'LineWidth',2),title(['a) ',texlabel('v_2(t) = -A*u_0(t)')]),grid,xlabel('t')"
   ]
  },
  {
   "cell_type": "markdown",
   "id": "c5cf75a3",
   "metadata": {
    "slideshow": {
     "slide_type": "subslide"
    }
   },
   "source": [
    "b). $v_3(t) = -A(t - T)$"
   ]
  },
  {
   "cell_type": "code",
   "execution_count": null,
   "id": "9acfde53",
   "metadata": {
    "slideshow": {
     "slide_type": "fragment"
    }
   },
   "outputs": [],
   "source": [
    "subplot(332)\n",
    "v3(t) = -A*u0(t - T)\n",
    "fplot(v3(t),'LineWidth',2),title(['b) ',texlabel('v_3(t) = -A*u_0(t-T)')]),grid,xlabel('t')"
   ]
  },
  {
   "cell_type": "markdown",
   "id": "c7f1d0c2",
   "metadata": {
    "slideshow": {
     "slide_type": "subslide"
    }
   },
   "source": [
    "c). $v_4(t) = -A(t + T)$"
   ]
  },
  {
   "cell_type": "code",
   "execution_count": null,
   "id": "880d2971",
   "metadata": {
    "slideshow": {
     "slide_type": "fragment"
    }
   },
   "outputs": [],
   "source": [
    "subplot(333)\n",
    "v4(t) = -A*u0(t + T)\n",
    "fplot(v4(t),'LineWidth',2),title(['c) ',texlabel('v_4(t) = -A*u_0(t+T)')]),xlabel('t')"
   ]
  },
  {
   "cell_type": "markdown",
   "id": "eaf0e8fc",
   "metadata": {
    "slideshow": {
     "slide_type": "subslide"
    }
   },
   "source": [
    "d). $v_5(t) = Au_0(-t)$\n",
    "\n",
    "e). $v_6(t) = Au_0(-t + T)$\n",
    "\n",
    "f). $v_7(t) = Au_0(-t - T)$\n",
    "\n",
    "g). $v_8(t) = -Au_0(-t)$\n",
    "\n",
    "h). $v_9(t) = -Au_0(-t + T)$\n",
    "\n",
    "i). $v_{10}(t) = -Au_0(-t - T)$"
   ]
  },
  {
   "cell_type": "markdown",
   "id": "4f2d2961",
   "metadata": {},
   "source": [
    "The result should look like {numref}`fig_result`.\n",
    "\n",
    ":::{figure-md} fig_result\n",
    "<img src=\"pictures/unit_steps_plot.png\" alt=\"Other forms of unit step function reproduced in MATLAB\" width=\"60%\">\n",
    "\n",
    "Other forms of unit step function (Figure 1.8 {cite}`karris`) reproduced in MATLAB \n",
    ":::"
   ]
  },
  {
   "cell_type": "markdown",
   "id": "5f2ea520",
   "metadata": {
    "slideshow": {
     "slide_type": "slide"
    }
   },
   "source": [
    "(ex3_2)=\n",
    "## 3.2: Synthesis of Signals from Unit Step\n",
    "\n",
    "```{admonition} MATLAB Example\n",
    ":class: tip\n",
    "We will solve this example by hand and then give the solution in the MATLAB lab.\n",
    "```\n",
    "\n",
    "Unit step functions can be used to represent other time-varying functions such as rectangular pulses, square waves and triangular pulses."
   ]
  },
  {
   "cell_type": "markdown",
   "id": "0297e4d3",
   "metadata": {
    "slideshow": {
     "slide_type": "subslide"
    }
   },
   "source": [
    "### a) Synthesize Rectangular Pulse\n",
    "\n",
    "<img src=\"pictures/rect.png\">"
   ]
  },
  {
   "cell_type": "markdown",
   "id": "1f239b66",
   "metadata": {
    "slideshow": {
     "slide_type": "notes"
    }
   },
   "source": [
    "<pre style=\"border: 2px solid blue\">\n",
    "\n",
    "\n",
    "\n",
    "\n",
    "\n",
    "</pre>"
   ]
  },
  {
   "cell_type": "markdown",
   "id": "b1c980b1",
   "metadata": {
    "slideshow": {
     "slide_type": "subslide"
    }
   },
   "source": [
    "### b) Synthesize Square Wave\n",
    "\n",
    "<img src=\"pictures/square_wave.png\">"
   ]
  },
  {
   "cell_type": "markdown",
   "id": "645ae4bd",
   "metadata": {
    "slideshow": {
     "slide_type": "notes"
    }
   },
   "source": [
    "<pre style=\"border: 2px solid blue\">\n",
    "\n",
    "\n",
    "\n",
    "\n",
    "\n",
    "\n",
    "\n",
    "\n",
    "\n",
    "\n",
    "\n",
    "\n",
    "\n",
    "</pre>"
   ]
  },
  {
   "cell_type": "markdown",
   "id": "26e48a73",
   "metadata": {
    "slideshow": {
     "slide_type": "subslide"
    }
   },
   "source": [
    "### c) Synthesize Symmetric Rectangular Pulse\n",
    "\n",
    "<img src=\"pictures/symm_rect.png\">"
   ]
  },
  {
   "cell_type": "markdown",
   "id": "4397c611",
   "metadata": {
    "slideshow": {
     "slide_type": "notes"
    }
   },
   "source": [
    "<pre style=\"border: 2px solid blue\">\n",
    "\n",
    "\n",
    "\n",
    "\n",
    "\n",
    "\n",
    "\n",
    "\n",
    "\n",
    "\n",
    "\n",
    "\n",
    "\n",
    "</pre>"
   ]
  },
  {
   "cell_type": "markdown",
   "id": "5529ca4b",
   "metadata": {
    "slideshow": {
     "slide_type": "subslide"
    }
   },
   "source": [
    "### d) Synthesize Symmetric Triangular Pulse\n",
    "\n",
    "<img src=\"pictures/symm_tri.png\">"
   ]
  },
  {
   "cell_type": "markdown",
   "id": "d1564e92",
   "metadata": {
    "slideshow": {
     "slide_type": "notes"
    }
   },
   "source": [
    "<pre style=\"border: 2px solid blue\">\n",
    "\n",
    "\n",
    "\n",
    "\n",
    "\n",
    "\n",
    "\n",
    "\n",
    "\n",
    "\n",
    "\n",
    "\n",
    "\n",
    "</pre>"
   ]
  },
  {
   "cell_type": "markdown",
   "id": "5df461ff",
   "metadata": {
    "slideshow": {
     "slide_type": "slide"
    }
   },
   "source": [
    "(ex3_3)=\n",
    "## Example 3.3: Important properties of the delta function\n",
    "\n",
    "```{admonition} MATLAB Example\n",
    ":class: tip\n",
    "We will solve this example by hand and then give the solution in the MATLAB lab.\n",
    "```\n",
    "\n",
    "\n",
    "See the accompanying [notes](index)."
   ]
  },
  {
   "cell_type": "markdown",
   "id": "db470e17",
   "metadata": {
    "slideshow": {
     "slide_type": "subslide"
    }
   },
   "source": [
    "Evaluate the following expressions"
   ]
  },
  {
   "cell_type": "markdown",
   "id": "2a0a9aa4",
   "metadata": {
    "slideshow": {
     "slide_type": "fragment"
    }
   },
   "source": [
    "a) $3t^4\\delta(t-1)$"
   ]
  },
  {
   "cell_type": "markdown",
   "id": "8b3a0d3a",
   "metadata": {
    "slideshow": {
     "slide_type": "notes"
    }
   },
   "source": [
    "<pre style=\"border: 2px solid blue\">\n",
    "\n",
    "\n",
    "\n",
    "\n",
    "\n",
    "\n",
    "\n",
    "\n",
    "\n",
    "\n",
    "\n",
    "\n",
    "\n",
    "</pre>"
   ]
  },
  {
   "cell_type": "markdown",
   "id": "ff220e08",
   "metadata": {
    "slideshow": {
     "slide_type": "fragment"
    }
   },
   "source": [
    "b) \n",
    "\n",
    "$$\\int_{-\\infty}^{\\infty}t\\delta(t-2)dt$$"
   ]
  },
  {
   "cell_type": "markdown",
   "id": "a9d8468f",
   "metadata": {
    "slideshow": {
     "slide_type": "notes"
    }
   },
   "source": [
    "<pre style=\"border: 2px solid blue\">\n",
    "\n",
    "\n",
    "\n",
    "\n",
    "\n",
    "\n",
    "\n",
    "\n",
    "\n",
    "\n",
    "\n",
    "\n",
    "\n",
    "</pre>"
   ]
  },
  {
   "cell_type": "markdown",
   "id": "b3ffa7ff",
   "metadata": {
    "slideshow": {
     "slide_type": "fragment"
    }
   },
   "source": [
    "$$t^2\\delta'(t-3)$$"
   ]
  },
  {
   "cell_type": "markdown",
   "id": "ed835fd9",
   "metadata": {
    "slideshow": {
     "slide_type": "notes"
    }
   },
   "source": [
    "<pre style=\"border: 2px solid blue\">\n",
    "\n",
    "\n",
    "\n",
    "\n",
    "\n",
    "\n",
    "\n",
    "\n",
    "\n",
    "\n",
    "\n",
    "\n",
    "\n",
    "</pre>"
   ]
  },
  {
   "cell_type": "markdown",
   "id": "6f54cddd",
   "metadata": {
    "slideshow": {
     "slide_type": "subslide"
    }
   },
   "source": [
    "(ex3_4)=\n",
    "## Example 3.4: Signal Synthesis\n",
    "\n",
    "```{admonition} MATLAB Example\n",
    ":class: tip\n",
    "We will solve this example by hand and then give the solution in the MATLAB lab.\n",
    "```\n",
    ":::{figure-md} fig:ex3_6\n",
    "<img src=\"pictures/example2.png\" alt=\"\" width=\"60%\">\n",
    "\n",
    "Signal to be symthesized for Example 3.4\n",
    ":::"
   ]
  },
  {
   "cell_type": "markdown",
   "id": "7858fe03",
   "metadata": {
    "slideshow": {
     "slide_type": "subslide"
    }
   },
   "source": [
    "a) Express the voltage waveform $v(t)$ shown in {numref}`fig:ex3_6` as a sum of unit step functions for the time interval $-1 < t < 7$ s"
   ]
  },
  {
   "cell_type": "markdown",
   "id": "98957cd0",
   "metadata": {
    "slideshow": {
     "slide_type": "notes"
    }
   },
   "source": [
    "<pre style=\"border: 2px solid blue\">\n",
    "\n",
    "\n",
    "\n",
    "\n",
    "\n",
    "\n",
    "\n",
    "\n",
    "\n",
    "\n",
    "\n",
    "\n",
    "\n",
    "</pre>"
   ]
  },
  {
   "cell_type": "markdown",
   "id": "424c86a6",
   "metadata": {
    "slideshow": {
     "slide_type": "subslide"
    }
   },
   "source": [
    "b) Using the result of 3.6(a), compute the derivative of $v(t)$ and sketch its waveform."
   ]
  },
  {
   "cell_type": "markdown",
   "id": "a62a8e7e",
   "metadata": {
    "slideshow": {
     "slide_type": "notes"
    }
   },
   "source": [
    "<pre style=\"border: 2px solid blue\">\n",
    "\n",
    "\n",
    "\n",
    "\n",
    "\n",
    "\n",
    "\n",
    "\n",
    "\n",
    "\n",
    "\n",
    "\n",
    "\n",
    "</pre>"
   ]
  },
  {
   "cell_type": "markdown",
   "id": "130c91bd",
   "metadata": {
    "slideshow": {
     "slide_type": "slide"
    }
   },
   "source": [
    "## Lab Work\n",
    "\n",
    "In the second lab we will solve the examples indicated in these examples."
   ]
  }
 ],
 "metadata": {
  "jupytext": {
   "formats": "ipynb,md:myst",
   "text_representation": {
    "extension": ".md",
    "format_name": "myst",
    "format_version": 0.13,
    "jupytext_version": "1.14.4"
   }
  },
  "kernelspec": {
   "display_name": "Matlab",
   "language": "matlab",
   "name": "matlab"
  },
  "source_map": [
   15,
   19,
   28,
   35,
   41,
   47,
   59,
   80,
   84,
   96,
   100,
   110,
   114,
   124,
   138,
   148,
   160,
   166,
   176,
   182,
   200,
   206,
   224,
   230,
   248,
   261,
   265,
   269,
   287,
   293,
   311,
   315,
   333,
   348,
   352,
   370,
   374,
   392
  ]
 },
 "nbformat": 4,
 "nbformat_minor": 5
}