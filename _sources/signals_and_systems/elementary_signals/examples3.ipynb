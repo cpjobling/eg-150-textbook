{
 "cells": [
  {
   "cell_type": "markdown",
   "id": "b8a3fb36",
   "metadata": {
    "slideshow": {
     "slide_type": "skip"
    }
   },
   "source": [
    "Lecturer: Set up MATLAB"
   ]
  },
  {
   "cell_type": "code",
   "execution_count": null,
   "id": "9e5de72c",
   "metadata": {
    "slideshow": {
     "slide_type": "skip"
    }
   },
   "outputs": [],
   "source": [
    "clear all\n",
    "format compact"
   ]
  },
  {
   "cell_type": "markdown",
   "id": "0b2063e2",
   "metadata": {
    "slideshow": {
     "slide_type": "slide"
    }
   },
   "source": [
    "(worked_examples_3)=\n",
    "# Examples 3 - Elementary Signals\n",
    "\n",
    "To accompany {ref}`elementary_signals`."
   ]
  },
  {
   "cell_type": "markdown",
   "id": "53f33712",
   "metadata": {
    "slideshow": {
     "slide_type": "slide"
    }
   },
   "source": [
    "## Elementary Signals\n",
    "\n",
    "Consider the network shown in below where the switch is closed at time $t=T$ and all components are ideal. \n",
    "\n",
    "![Network with a switch which is closed at t = T.](./pictures/circuit2.png)\n",
    "\n",
    "Express the output voltage $V_{\\mathrm{out}}$ as a function of the unit step function, and sketch the appropriate waveform."
   ]
  },
  {
   "cell_type": "markdown",
   "id": "0c45ddec",
   "metadata": {
    "slideshow": {
     "slide_type": "subslide"
    }
   },
   "source": [
    "Q1: What happens **before** $t=T$?\n",
    "\n",
    "1. $v_{\\mathrm{out}} = \\mathrm{undefined}$\n",
    "2. $v_{\\mathrm{out}} = 0$\n",
    "3. $v_{\\mathrm{out}} = V_s$\n",
    "4. $v_{\\mathrm{out}} = V_s/2$\n",
    "5. $v_{\\mathrm{out}} = \\infty$"
   ]
  },
  {
   "cell_type": "markdown",
   "id": "7cf1a19b",
   "metadata": {
    "slideshow": {
     "slide_type": "fragment"
    }
   },
   "source": [
    "**-> Open Poll: 1.2.1**"
   ]
  },
  {
   "cell_type": "markdown",
   "id": "7999e197",
   "metadata": {
    "slideshow": {
     "slide_type": "subslide"
    }
   },
   "source": [
    "Q2: What happens **after** $t=T$?\n",
    "\n",
    "1. $v_{\\mathrm{out}} = \\mathrm{undefined}$\n",
    "2. $v_{\\mathrm{out}} = 0$\n",
    "3. $v_{\\mathrm{out}} = V_s$\n",
    "4. $v_{\\mathrm{out}} = V_s/2$\n",
    "5. $v_{\\mathrm{out}} = \\infty$"
   ]
  },
  {
   "cell_type": "markdown",
   "id": "90956197",
   "metadata": {
    "slideshow": {
     "slide_type": "fragment"
    }
   },
   "source": [
    "**-> Open Poll: 1.2.2**"
   ]
  },
  {
   "cell_type": "markdown",
   "id": "f39fe8f1",
   "metadata": {
    "slideshow": {
     "slide_type": "subslide"
    }
   },
   "source": [
    "Q3: What happens **at** $t=T$?\n",
    "\n",
    "1. $v_{\\mathrm{out}} = \\mathrm{undefined}$\n",
    "2. $v_{\\mathrm{out}} = 0$\n",
    "3. $v_{\\mathrm{out}} = V_s$\n",
    "4. $v_{\\mathrm{out}} = V_s/2$\n",
    "5. $v_{\\mathrm{out}} = \\infty$"
   ]
  },
  {
   "cell_type": "markdown",
   "id": "9327c4c7",
   "metadata": {
    "slideshow": {
     "slide_type": "fragment"
    }
   },
   "source": [
    "**-> Open Poll: 1.2.3**"
   ]
  },
  {
   "cell_type": "markdown",
   "id": "f87bffa0",
   "metadata": {
    "slideshow": {
     "slide_type": "subslide"
    }
   },
   "source": [
    "Q4: What does the response of $V_{\\mathrm{out}}$ look like? \n",
    "\n",
    "Circle the picture you think is correct on your handout.\n",
    "\n",
    "<table>\n",
    "    <tr><td>A</td><td><img src=\"https://cpjobling.github.io/eg-247-textbook/elementary_signals/pictures/impulse.png\" alt=\"Signal A\"></td><td>B</td><td><img src=\"https://cpjobling.github.io/eg-247-textbook/elementary_signals/pictures/step1.png\" alt=\"Signal B\"></td></tr>\n",
    "    <tr><td>C</td><td><img src=\"https://cpjobling.github.io/eg-247-textbook/elementary_signals/pictures/curve.png\" alt=\"Signal C\"></td><td>D</td><td><img src=\"https://cpjobling.github.io/eg-247-textbook/elementary_signals/pictures/ramp.png\" alt=\"Signal D\"></td></tr>\n",
    "</table>"
   ]
  },
  {
   "cell_type": "markdown",
   "id": "7001ecf1",
   "metadata": {
    "slideshow": {
     "slide_type": "fragment"
    }
   },
   "source": [
    "**-> Open Poll: 1.2.4**"
   ]
  },
  {
   "cell_type": "markdown",
   "id": "22a6a011",
   "metadata": {
    "slideshow": {
     "slide_type": "slide"
    }
   },
   "source": [
    "## The Unit Step Function\n",
    "\n",
    "$${u_0}(t) = \\left\\{ {\\begin{array}{*{20}{c}}\n",
    "{0\\quad t < 0}\\\\\n",
    "{1\\quad t > 0}\n",
    "\\end{array}} \\right.$$\n",
    "\n",
    "<img src=\"pictures/unitstep.png\">"
   ]
  },
  {
   "cell_type": "markdown",
   "id": "7ffc0023",
   "metadata": {
    "slideshow": {
     "slide_type": "subslide"
    }
   },
   "source": [
    "### In Matlab\n",
    "\n",
    "In Matlab, we use the `heaviside` function (Named after [Oliver Heaviside](https://en.wikipedia.org/wiki/Oliver_Heaviside))."
   ]
  },
  {
   "cell_type": "code",
   "execution_count": null,
   "id": "503d3370",
   "metadata": {
    "slideshow": {
     "slide_type": "fragment"
    },
    "tags": [
     "remove-outlook"
    ]
   },
   "outputs": [],
   "source": [
    "syms t\n",
    "ezplot(heaviside(t),[-1,1])\n",
    "heaviside(0)"
   ]
  },
  {
   "cell_type": "markdown",
   "id": "69c94718",
   "metadata": {
    "slideshow": {
     "slide_type": "notes"
    }
   },
   "source": [
    "See: [show_heaviside.m](https://cpjobling.github.io/eg-247-textbook/elementary_signals/show_heaviside.m).\n",
    "\n",
    "Note that, so it can be plotted, Matlab defines the *heaviside function* slightly differently from the mathematically ideal unit step:\n",
    "\n",
    "$$\\mathrm{heaviside}(t) = \\left\\{ {\\begin{array}{*{20}{c}}\n",
    "{0\\quad t < 0}\\\\\n",
    "{1/2\\quad t = 0}\\\\\n",
    "{1\\quad t > 0}\n",
    "\\end{array}} \\right.$$"
   ]
  },
  {
   "cell_type": "markdown",
   "id": "dbba912a",
   "metadata": {
    "slideshow": {
     "slide_type": "subslide"
    }
   },
   "source": [
    "### Circuit Revisited\n",
    "\n",
    "Consider the network shown below, where the switch is closed at time $t=T$. \n",
    "\n",
    "<img src=\"pictures/circuit2.png\">\n",
    "\n",
    "Express the output voltage $v_{\\mathrm{out}}$ as a function of the unit step function, and sketch the appropriate waveform."
   ]
  },
  {
   "cell_type": "markdown",
   "id": "e1f02237",
   "metadata": {
    "slideshow": {
     "slide_type": "notes"
    }
   },
   "source": [
    "<pre style=\"border: 2px solid blue\">\n",
    "\n",
    "\n",
    "\n",
    "\n",
    "\n",
    "\n",
    "\n",
    "\n",
    "\n",
    "\n",
    "\n",
    "\n",
    "\n",
    "\n",
    "\n",
    "</pre>"
   ]
  },
  {
   "cell_type": "markdown",
   "id": "6df26703",
   "metadata": {
    "slideshow": {
     "slide_type": "slide"
    }
   },
   "source": [
    "## Simple Signal Operations"
   ]
  },
  {
   "cell_type": "markdown",
   "id": "fa026470",
   "metadata": {
    "slideshow": {
     "slide_type": "subslide"
    }
   },
   "source": [
    "### Amplitude Scaling\n",
    "\n",
    "Sketch $Au_0(t)$ and $-Au_0(t)$"
   ]
  },
  {
   "cell_type": "markdown",
   "id": "f5715afb",
   "metadata": {
    "slideshow": {
     "slide_type": "notes"
    }
   },
   "source": [
    "<pre style=\"border: 2px solid blue\">\n",
    "\n",
    "\n",
    "\n",
    "\n",
    "\n",
    "\n",
    "\n",
    "\n",
    "\n",
    "\n",
    "\n",
    "\n",
    "\n",
    "\n",
    "\n",
    "</pre>"
   ]
  },
  {
   "cell_type": "markdown",
   "id": "794cc385",
   "metadata": {
    "slideshow": {
     "slide_type": "subslide"
    }
   },
   "source": [
    "### Time Reversal\n",
    "\n",
    "Sketch $u_0(-t)$"
   ]
  },
  {
   "cell_type": "markdown",
   "id": "af0d1e8d",
   "metadata": {
    "slideshow": {
     "slide_type": "notes"
    }
   },
   "source": [
    "<pre style=\"border: 2px solid blue\">\n",
    "\n",
    "\n",
    "\n",
    "\n",
    "\n",
    "\n",
    "\n",
    "\n",
    "\n",
    "\n",
    "\n",
    "\n",
    "\n",
    "\n",
    "\n",
    "</pre>"
   ]
  },
  {
   "cell_type": "markdown",
   "id": "1c35601f",
   "metadata": {
    "slideshow": {
     "slide_type": "subslide"
    }
   },
   "source": [
    "### Time Delay and Advance\n",
    "\n",
    "Sketch $u_0(t-T)$ and $u_0(t+T)$"
   ]
  },
  {
   "cell_type": "markdown",
   "id": "fd5ab70f",
   "metadata": {
    "slideshow": {
     "slide_type": "notes"
    }
   },
   "source": [
    "<pre style=\"border: 2px solid blue\">\n",
    "\n",
    "\n",
    "\n",
    "\n",
    "\n",
    "\n",
    "\n",
    "\n",
    "\n",
    "\n",
    "\n",
    "\n",
    "\n",
    "\n",
    "\n",
    "</pre>"
   ]
  },
  {
   "cell_type": "markdown",
   "id": "72cad1f3",
   "metadata": {
    "slideshow": {
     "slide_type": "slide"
    }
   },
   "source": [
    "### Examples"
   ]
  },
  {
   "cell_type": "markdown",
   "id": "4df1f4d7",
   "metadata": {
    "slideshow": {
     "slide_type": "subslide"
    }
   },
   "source": [
    "#### Example 1\n",
    "\n",
    "Which of these signals represents $-Au_0(t+T)$?\n",
    "\n",
    "<img src=\"pictures/stepf1.png\" width=\"50%\">"
   ]
  },
  {
   "cell_type": "markdown",
   "id": "0bc748df",
   "metadata": {
    "slideshow": {
     "slide_type": "fragment"
    }
   },
   "source": [
    "**-> Open Poll: 1.2.5**"
   ]
  },
  {
   "cell_type": "markdown",
   "id": "76cbbadb",
   "metadata": {
    "slideshow": {
     "slide_type": "subslide"
    }
   },
   "source": [
    "#### Example 2\n",
    "\n",
    "What is represented by\n",
    "\n",
    "<img src=\"pictures/stepf2.png\" width=\"50%\">"
   ]
  },
  {
   "cell_type": "markdown",
   "id": "27fd7b09",
   "metadata": {
    "slideshow": {
     "slide_type": "notes"
    }
   },
   "source": [
    "1. $-Au_0(t + T)$ \n",
    "2. $-Au_0(-t + T)$\n",
    "3. $-Au_0(-t - T)$\n",
    "4. $-Au_0(t-T)$"
   ]
  },
  {
   "cell_type": "markdown",
   "id": "6ce0ba12",
   "metadata": {
    "slideshow": {
     "slide_type": "fragment"
    }
   },
   "source": [
    "**-> Open Poll: 1.2.6**"
   ]
  },
  {
   "cell_type": "markdown",
   "id": "6e68724e",
   "metadata": {
    "slideshow": {
     "slide_type": "slide"
    }
   },
   "source": [
    "## Synthesis of Signals from Unit Step\n",
    "\n",
    "Unit step functions can be used to represent other time-varying functions such as rectangular pulses, square waves and triangular pulses."
   ]
  },
  {
   "cell_type": "markdown",
   "id": "3035c96c",
   "metadata": {
    "slideshow": {
     "slide_type": "subslide"
    }
   },
   "source": [
    "### Synthesize Rectangular Pulse\n",
    "\n",
    "<img src=\"pictures/rect.png\">"
   ]
  },
  {
   "cell_type": "markdown",
   "id": "ad6f6fea",
   "metadata": {
    "slideshow": {
     "slide_type": "notes"
    }
   },
   "source": [
    "<pre style=\"border: 2px solid blue\">\n",
    "\n",
    "\n",
    "\n",
    "\n",
    "\n",
    "</pre>"
   ]
  },
  {
   "cell_type": "markdown",
   "id": "519b7c2d",
   "metadata": {
    "slideshow": {
     "slide_type": "subslide"
    }
   },
   "source": [
    "### Synthesize Square Wave\n",
    "\n",
    "<img src=\"pictures/square_wave.png\">"
   ]
  },
  {
   "cell_type": "markdown",
   "id": "9051eb8a",
   "metadata": {
    "slideshow": {
     "slide_type": "notes"
    }
   },
   "source": [
    "<pre style=\"border: 2px solid blue\">\n",
    "\n",
    "\n",
    "\n",
    "\n",
    "\n",
    "\n",
    "\n",
    "\n",
    "\n",
    "\n",
    "\n",
    "\n",
    "\n",
    "</pre>"
   ]
  },
  {
   "cell_type": "markdown",
   "id": "867f7d8b",
   "metadata": {
    "slideshow": {
     "slide_type": "subslide"
    }
   },
   "source": [
    "### Synthesize Symmetric Rectangular Pulse\n",
    "\n",
    "<img src=\"pictures/symm_rect.png\">"
   ]
  },
  {
   "cell_type": "markdown",
   "id": "aa2a934d",
   "metadata": {
    "slideshow": {
     "slide_type": "notes"
    }
   },
   "source": [
    "<pre style=\"border: 2px solid blue\">\n",
    "\n",
    "\n",
    "\n",
    "\n",
    "\n",
    "\n",
    "\n",
    "\n",
    "\n",
    "\n",
    "\n",
    "\n",
    "\n",
    "</pre>"
   ]
  },
  {
   "cell_type": "markdown",
   "id": "6ca3d977",
   "metadata": {
    "slideshow": {
     "slide_type": "subslide"
    }
   },
   "source": [
    "### Synthesize Symmetric Triangular Pulse\n",
    "\n",
    "<img src=\"pictures/symm_tri.png\">"
   ]
  },
  {
   "cell_type": "markdown",
   "id": "e2b2b82e",
   "metadata": {
    "slideshow": {
     "slide_type": "notes"
    }
   },
   "source": [
    "<pre style=\"border: 2px solid blue\">\n",
    "\n",
    "\n",
    "\n",
    "\n",
    "\n",
    "\n",
    "\n",
    "\n",
    "\n",
    "\n",
    "\n",
    "\n",
    "\n",
    "</pre>"
   ]
  },
  {
   "cell_type": "markdown",
   "id": "791f1af9",
   "metadata": {
    "slideshow": {
     "slide_type": "slide"
    }
   },
   "source": [
    "## The Ramp Function\n",
    "\n",
    "<img src=\"pictures/rc.png\">\n",
    "\n",
    "In the circuit shown above $i_s$ is a constant current source and the switch is closed at time $t=0$."
   ]
  },
  {
   "cell_type": "markdown",
   "id": "4083922c",
   "metadata": {
    "slideshow": {
     "slide_type": "subslide"
    }
   },
   "source": [
    "Show that the voltage across the capacitor can be represented as\n",
    "\n",
    "$$v_C(t)=\\frac{i_s}{C}t u_0(t)$$ \n",
    "\n",
    "and sketch the wave form."
   ]
  },
  {
   "cell_type": "markdown",
   "id": "3a2e4dc3",
   "metadata": {
    "slideshow": {
     "slide_type": "notes"
    }
   },
   "source": [
    "<pre style=\"border: 2px solid blue\">\n",
    "\n",
    "\n",
    "\n",
    "\n",
    "\n",
    "\n",
    "\n",
    "\n",
    "\n",
    "\n",
    "\n",
    "\n",
    "\n",
    "\n",
    "\n",
    "\n",
    "\n",
    "\n",
    "\n",
    "\n",
    "\n",
    "\n",
    "\n",
    "\n",
    "\n",
    "</pre>"
   ]
  },
  {
   "cell_type": "markdown",
   "id": "b05aff80",
   "metadata": {
    "slideshow": {
     "slide_type": "subslide"
    }
   },
   "source": [
    "The unit ramp function is defined as\n",
    "\n",
    "$$u_1(t) = \\int_{-\\infty}^{t}u_0(\\tau)d\\tau$$\n",
    "\n",
    "so\n",
    "\n",
    "$${u_1}(t) = \\left\\{ {\\begin{array}{*{20}{c}}\n",
    "{0\\quad t < 0}\\\\\n",
    "{t\\quad t \\ge 0}\n",
    "\\end{array}} \\right.$$\n",
    "\n",
    "and \n",
    "\n",
    "$$u_0(t) = \\frac{d }{dt}u_1(t)$$"
   ]
  },
  {
   "cell_type": "markdown",
   "id": "75087a6f",
   "metadata": {
    "slideshow": {
     "slide_type": "notes"
    }
   },
   "source": [
    "**Note**\n",
    "\n",
    "Higher order functions of $t$ can be generated by the repeated integration of the unit step function. \n",
    "\n",
    "For future reference, you should determine $u_2(t)$, $u_3(t)$ and $u_n(t)$ for yourself and make a note of the general rule:\n",
    "\n",
    "$$u_{n-1} = \\frac{1}{n}\\frac{d}{dt}u_n(t)$$\n",
    "\n",
    "Details are given in equations 1.26&mdash;1.29 in the textbook."
   ]
  },
  {
   "cell_type": "markdown",
   "id": "970f5468",
   "metadata": {
    "slideshow": {
     "slide_type": "slide"
    }
   },
   "source": [
    "## The Dirac Delta Function\n",
    "\n",
    "<img src=\"pictures/lr.png\">\n",
    "\n",
    "In the circuit shown above, the switch is closed at time $t=0$ and $i_L(t)=0$ for $t<0$. Express the inductor current $i_L(t)$ in terms of the unit step function and hence derive an expression for $v_L(t)$."
   ]
  },
  {
   "cell_type": "markdown",
   "id": "f1af7bb4",
   "metadata": {
    "slideshow": {
     "slide_type": "notes"
    }
   },
   "source": [
    "<pre style=\"border: 2px solid blue\">\n",
    "\n",
    "\n",
    "\n",
    "\n",
    "\n",
    "\n",
    "\n",
    "\n",
    "\n",
    "\n",
    "\n",
    "\n",
    "\n",
    "</pre>"
   ]
  },
  {
   "cell_type": "markdown",
   "id": "182148bf",
   "metadata": {
    "slideshow": {
     "slide_type": "notes"
    }
   },
   "source": [
    "**Notes**\n",
    "\n",
    "To solve this problem we need to invent a function that represents the derivative of the unit step function. This function is called $\\delta(t)$ or the *dirac delta* function (named after [Paul Dirac](https://en.wikipedia.org/wiki/Paul_Dirac))."
   ]
  },
  {
   "cell_type": "markdown",
   "id": "00f8fd25",
   "metadata": {
    "slideshow": {
     "slide_type": "subslide"
    }
   },
   "source": [
    "### The delta function\n",
    "\n",
    "The unit impulse or the delta function, denoted as $\\delta(t)$, is the derivative of the unit step.\n",
    "\n",
    "This function is tricky because $u_0(t)$ is discontinuous at $t=0$ but it must have the properties\n",
    "\n",
    "$$\\int_{-\\infty}^{t}\\delta(\\tau)d\\tau = u_0(t)$$\n",
    "\n",
    "and\n",
    "\n",
    "$\\delta(t) = 0$ for all $t\\ne 0$."
   ]
  },
  {
   "cell_type": "markdown",
   "id": "a9b3e3b7",
   "metadata": {
    "slideshow": {
     "slide_type": "subslide"
    }
   },
   "source": [
    "### Sketch of the delta function\n",
    "\n",
    "![The delta function](pictures/impulse.png)"
   ]
  },
  {
   "cell_type": "markdown",
   "id": "b1e5ac07",
   "metadata": {
    "slideshow": {
     "slide_type": "slide"
    }
   },
   "source": [
    "## Important properties of the delta function\n",
    "\n",
    "See the accompanying [notes](index)."
   ]
  },
  {
   "cell_type": "markdown",
   "id": "aea0834d",
   "metadata": {
    "slideshow": {
     "slide_type": "slide"
    }
   },
   "source": [
    "### Examples"
   ]
  },
  {
   "cell_type": "markdown",
   "id": "976acc92",
   "metadata": {
    "slideshow": {
     "slide_type": "subslide"
    }
   },
   "source": [
    "#### Example 3\n",
    "\n",
    "Evaluate the following expressions"
   ]
  },
  {
   "cell_type": "markdown",
   "id": "75c82e10",
   "metadata": {
    "slideshow": {
     "slide_type": "fragment"
    }
   },
   "source": [
    "$$3t^4\\delta(t-1) $$"
   ]
  },
  {
   "cell_type": "markdown",
   "id": "fe94eed9",
   "metadata": {
    "slideshow": {
     "slide_type": "notes"
    }
   },
   "source": [
    "<pre style=\"border: 2px solid blue\">\n",
    "\n",
    "\n",
    "\n",
    "\n",
    "\n",
    "\n",
    "\n",
    "\n",
    "\n",
    "\n",
    "\n",
    "\n",
    "\n",
    "</pre>"
   ]
  },
  {
   "cell_type": "markdown",
   "id": "df3c80f5",
   "metadata": {
    "slideshow": {
     "slide_type": "fragment"
    }
   },
   "source": [
    "$$\\int_{-\\infty}^{\\infty}t\\delta(t-2)dt$$"
   ]
  },
  {
   "cell_type": "markdown",
   "id": "2a18cff2",
   "metadata": {
    "slideshow": {
     "slide_type": "notes"
    }
   },
   "source": [
    "<pre style=\"border: 2px solid blue\">\n",
    "\n",
    "\n",
    "\n",
    "\n",
    "\n",
    "\n",
    "\n",
    "\n",
    "\n",
    "\n",
    "\n",
    "\n",
    "\n",
    "</pre>"
   ]
  },
  {
   "cell_type": "markdown",
   "id": "91b1f62a",
   "metadata": {
    "slideshow": {
     "slide_type": "fragment"
    }
   },
   "source": [
    "$$t^2\\delta'(t-3)$$"
   ]
  },
  {
   "cell_type": "markdown",
   "id": "523351ac",
   "metadata": {
    "slideshow": {
     "slide_type": "notes"
    }
   },
   "source": [
    "<pre style=\"border: 2px solid blue\">\n",
    "\n",
    "\n",
    "\n",
    "\n",
    "\n",
    "\n",
    "\n",
    "\n",
    "\n",
    "\n",
    "\n",
    "\n",
    "\n",
    "</pre>"
   ]
  },
  {
   "cell_type": "markdown",
   "id": "0bf232e4",
   "metadata": {
    "slideshow": {
     "slide_type": "subslide"
    }
   },
   "source": [
    "#### Example 4\n",
    "\n",
    "<img src=\"pictures/example2.png\">"
   ]
  },
  {
   "cell_type": "markdown",
   "id": "0d4da69c",
   "metadata": {
    "slideshow": {
     "slide_type": "subslide"
    }
   },
   "source": [
    "(1) Express the voltage waveform $v(t)$ shown above as a sum of unit step functions for the time interval $-1 < t < 7$ s"
   ]
  },
  {
   "cell_type": "markdown",
   "id": "8644c90f",
   "metadata": {
    "slideshow": {
     "slide_type": "notes"
    }
   },
   "source": [
    "<pre style=\"border: 2px solid blue\">\n",
    "\n",
    "\n",
    "\n",
    "\n",
    "\n",
    "\n",
    "\n",
    "\n",
    "\n",
    "\n",
    "\n",
    "\n",
    "\n",
    "</pre>"
   ]
  },
  {
   "cell_type": "markdown",
   "id": "1d5588ab",
   "metadata": {
    "slideshow": {
     "slide_type": "subslide"
    }
   },
   "source": [
    "Using the result of part (1), compute the derivative of $v(t)$ and sketch its waveform."
   ]
  },
  {
   "cell_type": "markdown",
   "id": "5ac43aae",
   "metadata": {
    "slideshow": {
     "slide_type": "notes"
    }
   },
   "source": [
    "<pre style=\"border: 2px solid blue\">\n",
    "\n",
    "\n",
    "\n",
    "\n",
    "\n",
    "\n",
    "\n",
    "\n",
    "\n",
    "\n",
    "\n",
    "\n",
    "\n",
    "</pre>"
   ]
  },
  {
   "cell_type": "markdown",
   "id": "77a1219d",
   "metadata": {
    "slideshow": {
     "slide_type": "slide"
    }
   },
   "source": [
    "## Lab Work\n",
    "\n",
    "In the first lab, next Tuesday, we will solve further elemetary signals problems using MATLAB and Simulink\n",
    "following the procedure given between pages 1-17 and 1-22 of the Karris. We will also explore the\n",
    "`heaviside` and `dirac` functions."
   ]
  },
  {
   "cell_type": "markdown",
   "id": "5c974057",
   "metadata": {
    "slideshow": {
     "slide_type": "notes"
    }
   },
   "source": [
    "## Answers to in-class questions\n",
    "\n",
    "Mathematically\n",
    "\n",
    "Q1. $v_{\\mathrm{out}} = 0$ when $-\\infty < t < 0$ (answer 2)\n",
    "\n",
    "Q2. $v_{\\mathrm{out}} = V_s$ when $0 < t < \\infty$ (answer 3)\n",
    "\n",
    "Q3. $v_{\\mathrm{out}} = \\mathrm{undefined}$ when $t=0$ (answer 1)\n",
    "\n",
    "$V_{\\mathrm{out}}$ jumps from $0$ to $V_s$ instantanously when the switch is closed. We call this a discontinuous signal!\n",
    "\n",
    "Q4: The correct image is:\n",
    "\n",
    "<img src=\"pictures/step2.png\">\n",
    "\n",
    "Example 1: Answer 3.\n",
    "\n",
    "Example 2: Answer 2."
   ]
  }
 ],
 "metadata": {
  "jupytext": {
   "formats": "ipynb,md:myst",
   "text_representation": {
    "extension": ".md",
    "format_name": "myst",
    "format_version": 0.13,
    "jupytext_version": "1.14.0"
   }
  },
  "kernelspec": {
   "display_name": "Matlab",
   "language": "matlab",
   "name": "matlab"
  },
  "source_map": [
   15,
   19,
   28,
   35,
   45,
   55,
   59,
   69,
   73,
   83,
   87,
   98,
   102,
   113,
   119,
   130,
   142,
   152,
   172,
   176,
   182,
   202,
   208,
   228,
   234,
   254,
   258,
   266,
   270,
   278,
   285,
   289,
   295,
   301,
   311,
   317,
   335,
   341,
   359,
   365,
   383,
   391,
   399,
   429,
   446,
   458,
   466,
   484,
   490,
   504,
   510,
   516,
   520,
   526,
   530,
   548,
   552,
   570,
   574,
   592,
   598,
   602,
   620,
   624,
   642,
   650
  ]
 },
 "nbformat": 4,
 "nbformat_minor": 5
}