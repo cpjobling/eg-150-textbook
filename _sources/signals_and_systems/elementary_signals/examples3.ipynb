{
 "cells": [
  {
   "cell_type": "markdown",
   "id": "f0900e64",
   "metadata": {
    "slideshow": {
     "slide_type": "skip"
    }
   },
   "source": [
    "Lecturer: Set up MATLAB"
   ]
  },
  {
   "cell_type": "code",
   "execution_count": null,
   "id": "27501a46",
   "metadata": {
    "slideshow": {
     "slide_type": "skip"
    }
   },
   "outputs": [],
   "source": [
    "clear all\n",
    "format compact"
   ]
  },
  {
   "cell_type": "markdown",
   "id": "cad40607",
   "metadata": {
    "slideshow": {
     "slide_type": "slide"
    }
   },
   "source": [
    "(worked_examples_3)=\n",
    "# Examples 3 - Elementary Signals\n",
    "\n",
    "To accompany {ref}`elementary_signals`."
   ]
  },
  {
   "cell_type": "markdown",
   "id": "1df0b027",
   "metadata": {
    "slideshow": {
     "slide_type": "fragment"
    }
   },
   "source": [
    "Follow along at [cpjobling.github.io/eg-150-textbook/signals_and_systems/elementary_signals/examples3](https://cpjobling.github.io/eg-150-textbook/signals_and_systems/elementary_signals/examples3)\n",
    "\n",
    "![QR Code](pictures/qrcode_examples3.png)"
   ]
  },
  {
   "cell_type": "markdown",
   "id": "5c0e7969",
   "metadata": {},
   "source": [
    "## Plot the Unit Step"
   ]
  },
  {
   "cell_type": "code",
   "execution_count": null,
   "id": "51c7ff03",
   "metadata": {
    "slideshow": {
     "slide_type": "subslide"
    }
   },
   "outputs": [],
   "source": [
    "syms t\n",
    "u0(t) = heaviside(t); % allows us to type u0(t) in our formulae\n",
    "A = 2; T = 2; % we need numerical values to get a successful plot\n",
    "fplot(A*u0(t),'LineWidth',2),title('Unit step'),subtitle(texlabel('Au_0(t)')),grid,xlabel('t')"
   ]
  },
  {
   "cell_type": "markdown",
   "id": "9142f967",
   "metadata": {
    "slideshow": {
     "slide_type": "slide"
    }
   },
   "source": [
    "(ex3_1)=\n",
    "## 3.1: Other forms of unit step\n",
    "\n",
    "```{admonition} MATLAB Example\n",
    ":class: tip\n",
    "We will solve this example by hand and then give the solution in the MATLAB lab.\n",
    "```\n",
    "\n",
    "Use the MATLAB functions `subplot`, `heaviside` and `fplot` to reproduce {numref}`other_unit_steps`. \n",
    "\n",
    "\n",
    ":::{figure-md} other_unit_steps\n",
    "<img src=\"pictures/unit_steps.png\" alt=\"\" width=\"60%\">\n",
    "\n",
    "Other forms of unit step function (Figure 1.8 {cite}`karris`)\n",
    ":::\n",
    "\n",
    "We've done the first row for you."
   ]
  },
  {
   "cell_type": "markdown",
   "id": "4ed25f06",
   "metadata": {
    "slideshow": {
     "slide_type": "subslide"
    }
   },
   "source": [
    "a). $-Au_0(t)$"
   ]
  },
  {
   "cell_type": "code",
   "execution_count": null,
   "id": "6b8f332b",
   "metadata": {
    "slideshow": {
     "slide_type": "fragment"
    }
   },
   "outputs": [],
   "source": [
    "sgtitle('Other forms of the unit step function');\n",
    "subplot(331)\n",
    "fplot(-A*u0(t)),title(['a) ',texlabel('-A*u_0(t)')]),grid,xlabel('t')"
   ]
  },
  {
   "cell_type": "markdown",
   "id": "441aaebb",
   "metadata": {
    "slideshow": {
     "slide_type": "subslide"
    }
   },
   "source": [
    "b). $-A(t - T)$"
   ]
  },
  {
   "cell_type": "code",
   "execution_count": null,
   "id": "a5e5d595",
   "metadata": {
    "slideshow": {
     "slide_type": "fragment"
    }
   },
   "outputs": [],
   "source": [
    "subplot(332)\n",
    "fplot(-A*u0(t - T)),title(['b) ',texlabel('-A*u_0(t-T)')]),grid,xlabel('t')"
   ]
  },
  {
   "cell_type": "markdown",
   "id": "c052885e",
   "metadata": {
    "slideshow": {
     "slide_type": "subslide"
    }
   },
   "source": [
    "c). $-A(t + T)$"
   ]
  },
  {
   "cell_type": "code",
   "execution_count": null,
   "id": "1b3d5e65",
   "metadata": {
    "slideshow": {
     "slide_type": "fragment"
    }
   },
   "outputs": [],
   "source": [
    "subplot(333)\n",
    "fplot(-A*u0(t + T)),title(['c) ',texlabel('-A*u_0(t+T)')]),xlabel('t')"
   ]
  },
  {
   "cell_type": "markdown",
   "id": "8f0c61d7",
   "metadata": {
    "slideshow": {
     "slide_type": "subslide"
    }
   },
   "source": [
    "d). $Au_0(-t)$\n",
    "\n",
    "e). $Au_0(-t + T)$\n",
    "\n",
    "f). $Au_0(-t - T)$\n",
    "\n",
    "g). $-Au_0(-t)$\n",
    "\n",
    "h). $-Au_0(-t + T)$\n",
    "\n",
    "i). $-Au_0(-t - T)$"
   ]
  },
  {
   "cell_type": "markdown",
   "id": "35c343a5",
   "metadata": {},
   "source": [
    "The result should look like {numref}`fig_result`.\n",
    "\n",
    ":::{figure-md} fig_result\n",
    "<img src=\"pictures/unit_steps_plot.png\" alt=\"Other forms of unit step function reproduced in MATLAB\" width=\"60%\">\n",
    "\n",
    "Other forms of unit step function (Figure 1.8 {cite}`karris`) reproduced in MATLAB \n",
    ":::"
   ]
  },
  {
   "cell_type": "markdown",
   "id": "a2856a6d",
   "metadata": {
    "slideshow": {
     "slide_type": "slide"
    }
   },
   "source": [
    "(ex3_2)=\n",
    "## 3.2: Synthesis of Signals from Unit Step\n",
    "\n",
    "```{admonition} MATLAB Example\n",
    ":class: tip\n",
    "We will solve this example by hand and then give the solution in the MATLAB lab.\n",
    "```\n",
    "\n",
    "Unit step functions can be used to represent other time-varying functions such as rectangular pulses, square waves and triangular pulses."
   ]
  },
  {
   "cell_type": "markdown",
   "id": "21d4eac7",
   "metadata": {
    "slideshow": {
     "slide_type": "subslide"
    }
   },
   "source": [
    "### a) Synthesize Rectangular Pulse\n",
    "\n",
    "<img src=\"pictures/rect.png\">"
   ]
  },
  {
   "cell_type": "markdown",
   "id": "cd2eec17",
   "metadata": {
    "slideshow": {
     "slide_type": "notes"
    }
   },
   "source": [
    "<pre style=\"border: 2px solid blue\">\n",
    "\n",
    "\n",
    "\n",
    "\n",
    "\n",
    "</pre>"
   ]
  },
  {
   "cell_type": "markdown",
   "id": "d2226576",
   "metadata": {
    "slideshow": {
     "slide_type": "subslide"
    }
   },
   "source": [
    "### b) Synthesize Square Wave\n",
    "\n",
    "<img src=\"pictures/square_wave.png\">"
   ]
  },
  {
   "cell_type": "markdown",
   "id": "4156545d",
   "metadata": {
    "slideshow": {
     "slide_type": "notes"
    }
   },
   "source": [
    "<pre style=\"border: 2px solid blue\">\n",
    "\n",
    "\n",
    "\n",
    "\n",
    "\n",
    "\n",
    "\n",
    "\n",
    "\n",
    "\n",
    "\n",
    "\n",
    "\n",
    "</pre>"
   ]
  },
  {
   "cell_type": "markdown",
   "id": "eccd66e3",
   "metadata": {
    "slideshow": {
     "slide_type": "subslide"
    }
   },
   "source": [
    "### c) Synthesize Symmetric Rectangular Pulse\n",
    "\n",
    "<img src=\"pictures/symm_rect.png\">"
   ]
  },
  {
   "cell_type": "markdown",
   "id": "7286da92",
   "metadata": {
    "slideshow": {
     "slide_type": "notes"
    }
   },
   "source": [
    "<pre style=\"border: 2px solid blue\">\n",
    "\n",
    "\n",
    "\n",
    "\n",
    "\n",
    "\n",
    "\n",
    "\n",
    "\n",
    "\n",
    "\n",
    "\n",
    "\n",
    "</pre>"
   ]
  },
  {
   "cell_type": "markdown",
   "id": "63253595",
   "metadata": {
    "slideshow": {
     "slide_type": "subslide"
    }
   },
   "source": [
    "### d) Synthesize Symmetric Triangular Pulse\n",
    "\n",
    "<img src=\"pictures/symm_tri.png\">"
   ]
  },
  {
   "cell_type": "markdown",
   "id": "c7b352dd",
   "metadata": {
    "slideshow": {
     "slide_type": "notes"
    }
   },
   "source": [
    "<pre style=\"border: 2px solid blue\">\n",
    "\n",
    "\n",
    "\n",
    "\n",
    "\n",
    "\n",
    "\n",
    "\n",
    "\n",
    "\n",
    "\n",
    "\n",
    "\n",
    "</pre>"
   ]
  },
  {
   "cell_type": "markdown",
   "id": "10ffb538",
   "metadata": {
    "slideshow": {
     "slide_type": "slide"
    }
   },
   "source": [
    "(ex3_3)=\n",
    "## Example 3.3: Important properties of the delta function\n",
    "\n",
    "```{admonition} MATLAB Example\n",
    ":class: tip\n",
    "We will solve this example by hand and then give the solution in the MATLAB lab.\n",
    "```\n",
    "\n",
    "\n",
    "See the accompanying [notes](index)."
   ]
  },
  {
   "cell_type": "markdown",
   "id": "17a546cf",
   "metadata": {
    "slideshow": {
     "slide_type": "subslide"
    }
   },
   "source": [
    "Evaluate the following expressions"
   ]
  },
  {
   "cell_type": "markdown",
   "id": "eebfd88a",
   "metadata": {
    "slideshow": {
     "slide_type": "fragment"
    }
   },
   "source": [
    "a) $3t^4\\delta(t-1)$"
   ]
  },
  {
   "cell_type": "markdown",
   "id": "55b4d45b",
   "metadata": {
    "slideshow": {
     "slide_type": "notes"
    }
   },
   "source": [
    "<pre style=\"border: 2px solid blue\">\n",
    "\n",
    "\n",
    "\n",
    "\n",
    "\n",
    "\n",
    "\n",
    "\n",
    "\n",
    "\n",
    "\n",
    "\n",
    "\n",
    "</pre>"
   ]
  },
  {
   "cell_type": "markdown",
   "id": "9fa571b1",
   "metadata": {
    "slideshow": {
     "slide_type": "fragment"
    }
   },
   "source": [
    "b) \n",
    "\n",
    "$$\\int_{-\\infty}^{\\infty}t\\delta(t-2)dt$$"
   ]
  },
  {
   "cell_type": "markdown",
   "id": "8639b364",
   "metadata": {
    "slideshow": {
     "slide_type": "notes"
    }
   },
   "source": [
    "<pre style=\"border: 2px solid blue\">\n",
    "\n",
    "\n",
    "\n",
    "\n",
    "\n",
    "\n",
    "\n",
    "\n",
    "\n",
    "\n",
    "\n",
    "\n",
    "\n",
    "</pre>"
   ]
  },
  {
   "cell_type": "markdown",
   "id": "c25bca7a",
   "metadata": {
    "slideshow": {
     "slide_type": "fragment"
    }
   },
   "source": [
    "$$t^2\\delta'(t-3)$$"
   ]
  },
  {
   "cell_type": "markdown",
   "id": "62cf1885",
   "metadata": {
    "slideshow": {
     "slide_type": "notes"
    }
   },
   "source": [
    "<pre style=\"border: 2px solid blue\">\n",
    "\n",
    "\n",
    "\n",
    "\n",
    "\n",
    "\n",
    "\n",
    "\n",
    "\n",
    "\n",
    "\n",
    "\n",
    "\n",
    "</pre>"
   ]
  },
  {
   "cell_type": "markdown",
   "id": "e7b2d969",
   "metadata": {
    "slideshow": {
     "slide_type": "subslide"
    }
   },
   "source": [
    "(ex3_4)=\n",
    "## Example 3.4\n",
    "\n",
    "```{admonition} MATLAB Example\n",
    ":class: tip\n",
    "We will solve this example by hand and then give the solution in the MATLAB lab.\n",
    "```\n",
    ":::{figure-md} fig:ex3_6\n",
    "<img src=\"pictures/example2.png\" alt=\"\" width=\"60%\">\n",
    "\n",
    "Signal to be symthesized for Example 3.6\n",
    ":::"
   ]
  },
  {
   "cell_type": "markdown",
   "id": "82ea5c38",
   "metadata": {
    "slideshow": {
     "slide_type": "subslide"
    }
   },
   "source": [
    "a) Express the voltage waveform $v(t)$ shown in {numref}`fig:ex3_6` as a sum of unit step functions for the time interval $-1 < t < 7$ s"
   ]
  },
  {
   "cell_type": "markdown",
   "id": "4fd0f277",
   "metadata": {
    "slideshow": {
     "slide_type": "notes"
    }
   },
   "source": [
    "<pre style=\"border: 2px solid blue\">\n",
    "\n",
    "\n",
    "\n",
    "\n",
    "\n",
    "\n",
    "\n",
    "\n",
    "\n",
    "\n",
    "\n",
    "\n",
    "\n",
    "</pre>"
   ]
  },
  {
   "cell_type": "markdown",
   "id": "be86b814",
   "metadata": {
    "slideshow": {
     "slide_type": "subslide"
    }
   },
   "source": [
    "b) Using the result of 3.6(a), compute the derivative of $v(t)$ and sketch its waveform."
   ]
  },
  {
   "cell_type": "markdown",
   "id": "0c5b6392",
   "metadata": {
    "slideshow": {
     "slide_type": "notes"
    }
   },
   "source": [
    "<pre style=\"border: 2px solid blue\">\n",
    "\n",
    "\n",
    "\n",
    "\n",
    "\n",
    "\n",
    "\n",
    "\n",
    "\n",
    "\n",
    "\n",
    "\n",
    "\n",
    "</pre>"
   ]
  },
  {
   "cell_type": "markdown",
   "id": "2695cf88",
   "metadata": {
    "slideshow": {
     "slide_type": "slide"
    }
   },
   "source": [
    "## Lab Work\n",
    "\n",
    "In the second lab we will solve the examples indicated in these examples."
   ]
  }
 ],
 "metadata": {
  "jupytext": {
   "formats": "ipynb,md:myst",
   "text_representation": {
    "extension": ".md",
    "format_name": "myst",
    "format_version": 0.13,
    "jupytext_version": "1.14.4"
   }
  },
  "kernelspec": {
   "display_name": "Matlab",
   "language": "matlab",
   "name": "matlab"
  },
  "source_map": [
   15,
   19,
   28,
   35,
   41,
   45,
   56,
   77,
   81,
   91,
   95,
   104,
   108,
   117,
   131,
   141,
   153,
   159,
   169,
   175,
   193,
   199,
   217,
   223,
   241,
   254,
   258,
   262,
   280,
   286,
   304,
   308,
   326,
   341,
   345,
   363,
   367,
   385
  ]
 },
 "nbformat": 4,
 "nbformat_minor": 5
}