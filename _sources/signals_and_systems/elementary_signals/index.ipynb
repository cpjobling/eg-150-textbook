{
 "cells": [
  {
   "cell_type": "markdown",
   "id": "96b4ba4c",
   "metadata": {
    "slideshow": {
     "slide_type": "slide"
    }
   },
   "source": [
    "(elementary_signals)=\n",
    "# Unit 2.3: Elementary Signals\n",
    "\n",
    "The preparatory reading for this section is [Chapter 1](https://ebookcentral.proquest.com/lib/swansea-ebooks/reader.action?docID=3384197&ppg=75#ppg=17) of {cite}`karris` which\n",
    "\n",
    "* begins with a discussion of the elementary signals that may be applied to electrical circuits\n",
    "* introduces the unit step, unit ramp and dirac delta functions\n",
    "* presents the sampling and sifting properties of the delta function and\n",
    "* concludes with examples of how other useful signals can be synthesised from these elementary signals.\n",
    "\n",
    "Additional information has been adapted from [Section 1.4]() of {cite}`schaum`."
   ]
  },
  {
   "cell_type": "markdown",
   "id": "2f754902",
   "metadata": {
    "slideshow": {
     "slide_type": "subslide"
    }
   },
   "source": [
    "Follow along at [cpjobling.github.io/eg-150-textbook/signals_and_systems/elementary_signals](https://cpjobling.github.io/eg-150-textbook/signals_and_systems/elementary_signals)\n",
    "\n",
    "![QR Code](pictures/qrcode_unit2.3.png)"
   ]
  },
  {
   "cell_type": "markdown",
   "id": "488728ca",
   "metadata": {
    "slideshow": {
     "slide_type": "slide"
    }
   },
   "source": [
    "(es:intro)=\n",
    "## Introduction"
   ]
  },
  {
   "cell_type": "markdown",
   "id": "41819471",
   "metadata": {
    "slideshow": {
     "slide_type": "subslide"
    }
   },
   "source": [
    "Consider the network shown in below where the switch is closed at time $t=T$ and all components are ideal. \n",
    "\n",
    "![Network with a switch which is closed at t = T.](./pictures/circuit2.png)\n",
    "\n",
    "Express the output voltage $V_{\\mathrm{out}}$ as a function of the unit step function, and sketch the appropriate waveform."
   ]
  },
  {
   "cell_type": "markdown",
   "id": "cc0a1001",
   "metadata": {
    "slideshow": {
     "slide_type": "subslide"
    }
   },
   "source": [
    "**Solution**\n",
    "\n",
    "Before the switch is closed at $t < T$:\n",
    "\\begin{equation}\n",
    "    V_{\\mathrm{out}} = 0.\n",
    "\\end{equation}\n",
    "\n",
    "After the switch is closed for $t > T$: \n",
    "\\begin{equation}\n",
    "    V_{\\mathrm{out}} = V_s.\n",
    "\\end{equation}"
   ]
  },
  {
   "cell_type": "markdown",
   "id": "fc56e4f3",
   "metadata": {
    "slideshow": {
     "slide_type": "subslide"
    }
   },
   "source": [
    "We imagine that the voltage jumps instantaneously from 0 to $V_s$ volts at $t = T$ seconds as shown below.\n",
    "\n",
    "<img src=\"./pictures/step.png\" width = \"30%\"  alt=\"The step function\" />\n",
    "\n",
    "We call this type of signal a step function."
   ]
  },
  {
   "cell_type": "markdown",
   "id": "10adaa80",
   "metadata": {
    "slideshow": {
     "slide_type": "slide"
    }
   },
   "source": [
    "(heaviside)=\n",
    "## The Unit Step Function\n",
    "\n",
    "$${u_0}(t) = \\left\\{ {\\begin{array}{*{20}{c}}\n",
    "{0\\quad t < 0}\\\\\n",
    "{1\\quad t > 0}\n",
    "\\end{array}} \\right.$$\n",
    "\n",
    "![The unit step function](./pictures/unitstep.png)"
   ]
  },
  {
   "cell_type": "markdown",
   "id": "4cf332a1",
   "metadata": {
    "slideshow": {
     "slide_type": "subslide"
    }
   },
   "source": [
    "### In Matlab\n",
    "\n",
    "In Matlab, we use the `heaviside` function (named after [Oliver Heaviside](https://en.wikipedia.org/wiki/Oliver_Heaviside))."
   ]
  },
  {
   "cell_type": "code",
   "execution_count": 1,
   "id": "47814af4",
   "metadata": {
    "slideshow": {
     "slide_type": "fragment"
    }
   },
   "outputs": [
    {
     "name": "stdout",
     "output_type": "stream",
     "text": [
      "Created file '/Users/eechris/code/src/github.com/cpjobling/eg-150-textbook/signals_and_systems/elementary_signals/plot_heaviside.m'.\n"
     ]
    }
   ],
   "source": [
    "%%file plot_heaviside.m\n",
    "syms t\n",
    "fplot(heaviside(t),[-1,1],'LineWidth',2),grid,ylim([0 1.25]),...\n",
    "title('The Heaviside function $$u_0(t)$$','interpreter','latex'),xlabel('t')\n",
    "heaviside(0)"
   ]
  },
  {
   "cell_type": "code",
   "execution_count": 2,
   "id": "a5287fc1",
   "metadata": {},
   "outputs": [
    {
     "name": "stdout",
     "output_type": "stream",
     "text": [
      "\n",
      "ans =\n",
      "\n",
      "    0.5000\n",
      "\n"
     ]
    },
    {
     "data": {
      "image/png": "[encoded data removed]",
      "text/plain": [
       "<IPython.core.display.Image object>"
      ]
     },
     "metadata": {
      "filenames": {
       "image/png": "/Users/eechris/code/src/github.com/cpjobling/eg-150-textbook/_build/jupyter_execute/signals_and_systems/elementary_signals/index_9_1.png"
      }
     },
     "output_type": "display_data"
    }
   ],
   "source": [
    "plot_heaviside"
   ]
  },
  {
   "cell_type": "markdown",
   "id": "2e34a839",
   "metadata": {
    "slideshow": {
     "slide_type": "notes"
    }
   },
   "source": [
    "Note that, so that it can be plotted, Matlab defines the *Heaviside function* slightly differently from the mathematically ideal unit step:\n",
    "\n",
    "$$\\mathrm{heaviside}(t) = \\left\\{ {\\begin{array}{*{20}{c}}\n",
    "{0\\quad t < 0}\\\\\n",
    "{1/2\\quad t = 0}\\\\\n",
    "{1\\quad t > 0}\n",
    "\\end{array}} \\right.$$"
   ]
  },
  {
   "cell_type": "markdown",
   "id": "bdf6e78a",
   "metadata": {
    "slideshow": {
     "slide_type": "slide"
    }
   },
   "source": [
    "## Simple Signal Operations"
   ]
  },
  {
   "cell_type": "markdown",
   "id": "c6c80384",
   "metadata": {
    "slideshow": {
     "slide_type": "subslide"
    }
   },
   "source": [
    "### Amplitude Scaling\n",
    "\n",
    "Sketch $Au_0(t)$ and $-Au_0(t)$"
   ]
  },
  {
   "cell_type": "code",
   "execution_count": 3,
   "id": "9f600626",
   "metadata": {
    "slideshow": {
     "slide_type": "subslide"
    }
   },
   "outputs": [
    {
     "data": {
      "image/png": "[encoded data removed]",
      "text/plain": [
       "<IPython.core.display.Image object>"
      ]
     },
     "metadata": {
      "filenames": {
       "image/png": "/Users/eechris/code/src/github.com/cpjobling/eg-150-textbook/_build/jupyter_execute/signals_and_systems/elementary_signals/index_13_0.png"
      }
     },
     "output_type": "display_data"
    }
   ],
   "source": [
    "syms t;\n",
    "u0(t) = heaviside(t); % rename heaviside function for ease of use\n",
    "A = 2; % so signal can be plotted\n",
    "fplot(A*u0(t),[-1,1],'LineWidth',2),grid,title('Amplitude scaling $$Au_0(t)$$','interpreter','latex')"
   ]
  },
  {
   "cell_type": "markdown",
   "id": "a1b8e431",
   "metadata": {
    "slideshow": {
     "slide_type": "notes"
    }
   },
   "source": [
    "Note that the signal is scaled in the $y$ direction."
   ]
  },
  {
   "cell_type": "code",
   "execution_count": 4,
   "id": "1d9d32d5",
   "metadata": {
    "slideshow": {
     "slide_type": "subslide"
    }
   },
   "outputs": [
    {
     "data": {
      "image/png": "[encoded data removed]",
      "text/plain": [
       "<IPython.core.display.Image object>"
      ]
     },
     "metadata": {
      "filenames": {
       "image/png": "/Users/eechris/code/src/github.com/cpjobling/eg-150-textbook/_build/jupyter_execute/signals_and_systems/elementary_signals/index_15_0.png"
      }
     },
     "output_type": "display_data"
    }
   ],
   "source": [
    "fplot(-A*u0(t),[-1,1],'LineWidth',2),grid,...\n",
    "title('Amplitude scaling and mirroring $$-Au_0(t)$$','interpreter','latex'),...\n",
    "xlabel('t')"
   ]
  },
  {
   "cell_type": "markdown",
   "id": "c1672f95",
   "metadata": {
    "slideshow": {
     "slide_type": "notes"
    }
   },
   "source": [
    "Note that, because of the sign, the signal is mirrored about the $x$ axis as well as being scaled by 2."
   ]
  },
  {
   "cell_type": "markdown",
   "id": "2a9cb4aa",
   "metadata": {
    "slideshow": {
     "slide_type": "subslide"
    }
   },
   "source": [
    "### Time Reversal\n",
    "\n",
    "Sketch $u_0(-t)$"
   ]
  },
  {
   "cell_type": "code",
   "execution_count": 5,
   "id": "8925f01f",
   "metadata": {
    "slideshow": {
     "slide_type": "subslide"
    }
   },
   "outputs": [
    {
     "data": {
      "image/png": "[encoded data removed]",
      "text/plain": [
       "<IPython.core.display.Image object>"
      ]
     },
     "metadata": {
      "filenames": {
       "image/png": "/Users/eechris/code/src/github.com/cpjobling/eg-150-textbook/_build/jupyter_execute/signals_and_systems/elementary_signals/index_18_0.png"
      }
     },
     "output_type": "display_data"
    }
   ],
   "source": [
    "fplot(A*u0(-t),[-1,1],'LineWidth',2),grid,title('Time reversal $$Au_0(-t)$$','interpreter','latex'),xlabel('t')"
   ]
  },
  {
   "cell_type": "markdown",
   "id": "7b2b418b",
   "metadata": {
    "slideshow": {
     "slide_type": "notes"
    }
   },
   "source": [
    "The sign on the function argument $-t$ causes the whole signal to be reversed in time. Note that another way of looking at this is that the signal is mirrored about the $y$ axis."
   ]
  },
  {
   "cell_type": "markdown",
   "id": "bcab25c9",
   "metadata": {
    "slideshow": {
     "slide_type": "subslide"
    }
   },
   "source": [
    "### Time Delay and Advance\n",
    "\n",
    "Sketch $u_0(t-T)$ and $u_0(t+T)$"
   ]
  },
  {
   "cell_type": "code",
   "execution_count": 6,
   "id": "912079e0",
   "metadata": {
    "slideshow": {
     "slide_type": "subslide"
    }
   },
   "outputs": [
    {
     "data": {
      "image/png": "[encoded data removed]",
      "text/plain": [
       "<IPython.core.display.Image object>"
      ]
     },
     "metadata": {
      "filenames": {
       "image/png": "/Users/eechris/code/src/github.com/cpjobling/eg-150-textbook/_build/jupyter_execute/signals_and_systems/elementary_signals/index_21_0.png"
      }
     },
     "output_type": "display_data"
    }
   ],
   "source": [
    "T = 1; % again to make the signal plottable.\n",
    "fplot(u0(t - T),[-1,2],'LineWidth',2),grid,title('Time delay $$u_0(t - T)$$','interpreter','latex'),xlabel('t')"
   ]
  },
  {
   "cell_type": "markdown",
   "id": "d3dbc793",
   "metadata": {
    "slideshow": {
     "slide_type": "notes"
    }
   },
   "source": [
    "This is a *time delay* ... note for $u_0(t - T)$ the step change occurs T seconds **later** than it does for $u_o(t)$."
   ]
  },
  {
   "cell_type": "code",
   "execution_count": 7,
   "id": "8280e8b2",
   "metadata": {
    "slideshow": {
     "slide_type": "subslide"
    }
   },
   "outputs": [
    {
     "data": {
      "image/png": "[encoded data removed]",
      "text/plain": [
       "<IPython.core.display.Image object>"
      ]
     },
     "metadata": {
      "filenames": {
       "image/png": "/Users/eechris/code/src/github.com/cpjobling/eg-150-textbook/_build/jupyter_execute/signals_and_systems/elementary_signals/index_23_0.png"
      }
     },
     "output_type": "display_data"
    }
   ],
   "source": [
    "fplot(u0(t + T),[-2,1],'LineWidth',2),grid,title('Time advance $$u_0(t + T)$$','interpreter','latex'),xlabel('t')"
   ]
  },
  {
   "cell_type": "markdown",
   "id": "52681a4f",
   "metadata": {
    "slideshow": {
     "slide_type": "notes"
    }
   },
   "source": [
    "This is a *time advance* ... note for $u_0(t + T)$ the step change occurs T seconds **earlier** than it does for $u_o(t)$."
   ]
  },
  {
   "cell_type": "markdown",
   "id": "22cd5957",
   "metadata": {
    "slideshow": {
     "slide_type": "subslide"
    }
   },
   "source": [
    "### Examples\n",
    "\n",
    "We will work through some examples in class. See [Examples 3](worksheet3)."
   ]
  },
  {
   "cell_type": "markdown",
   "id": "24eced98",
   "metadata": {
    "slideshow": {
     "slide_type": "slide"
    }
   },
   "source": [
    "## Synthesis of Signals from the Unit Step\n",
    "\n",
    "Unit step functions can be used to represent other time-varying functions such as rectangular pulses, square waves and triangular pulses. See [Examples 3](examples3) for the examples that we will look at in class."
   ]
  },
  {
   "cell_type": "markdown",
   "id": "3b0aebef",
   "metadata": {
    "slideshow": {
     "slide_type": "slide"
    }
   },
   "source": [
    "## The Ramp Function\n",
    "\n",
    "![Integrator (RC) circuit](./pictures/rc.png)\n",
    "\n",
    "In the circuit shown above $i_s$ is a constant current source and the switch is closed at time $t=0$."
   ]
  },
  {
   "cell_type": "markdown",
   "id": "160133c8",
   "metadata": {
    "slideshow": {
     "slide_type": "subslide"
    }
   },
   "source": [
    "When the current through the capacitor $i_c(t) = i_s$ is a constant and the voltage across the capacitor is\n",
    "\n",
    "$$v_c(t) = \\frac{1}{C}\\int_{-\\infty}^{t} i_c(\\tau)\\;d\\tau$$ \n",
    "\n",
    "where $\\tau$ is a dummy variable."
   ]
  },
  {
   "cell_type": "markdown",
   "id": "98f251e8",
   "metadata": {
    "slideshow": {
     "slide_type": "subslide"
    }
   },
   "source": [
    "Since the switch closes at $t=0$, we can express the current $i_c(t)$ as\n",
    "\n",
    "$$i_c(t) = i_s u_0(t)$$\n",
    "\n",
    "and if $v_c(t) = 0$ for $t < 0$ we have\n",
    "\n",
    "$$v_c(t) = \\frac{i_s}{C}\\int_{-\\infty}^{t} u_0(\\tau)\\;d\\tau = \\underbrace { \\frac{i_s}{C}\\int_{ - \\infty }^0 0\\;{\\kern 1pt} d\\tau }_0 + \\frac{i_s}{C}\\int_{0}^{t} 1\\;d\\tau$$"
   ]
  },
  {
   "cell_type": "markdown",
   "id": "9422af2f",
   "metadata": {
    "slideshow": {
     "slide_type": "subslide"
    }
   },
   "source": [
    "So, the voltage across the capacitor can be represented as\n",
    "\n",
    "$$v_C(t)=\\frac{i_s}{C}t u_0(t)$$"
   ]
  },
  {
   "cell_type": "markdown",
   "id": "d3c365a7",
   "metadata": {
    "slideshow": {
     "slide_type": "notes"
    }
   },
   "source": [
    "**Note** that in this as in other examples throughout these notes, and in published tables of transforms, the inclusion of $u_0(t)$ in $v_c(t)$ acts as a \"gating function\" that limits the definition of the signal to the causal range $0 \\le t \\lt \\infty$."
   ]
  },
  {
   "cell_type": "markdown",
   "id": "4c88d4f0",
   "metadata": {
    "slideshow": {
     "slide_type": "subslide"
    }
   },
   "source": [
    "To sketch the wave form, let's arbitrarily let $C$ and $i_s$ be one and then plot with MATLAB."
   ]
  },
  {
   "cell_type": "code",
   "execution_count": 8,
   "id": "9cd585a5",
   "metadata": {
    "slideshow": {
     "slide_type": "subslide"
    }
   },
   "outputs": [
    {
     "data": {
      "image/png": "[encoded data removed]",
      "text/plain": [
       "<IPython.core.display.Image object>"
      ]
     },
     "metadata": {
      "filenames": {
       "image/png": "/Users/eechris/code/src/github.com/cpjobling/eg-150-textbook/_build/jupyter_execute/signals_and_systems/elementary_signals/index_33_0.png"
      }
     },
     "output_type": "display_data"
    }
   ],
   "source": [
    "C = 1; is = 1;\n",
    "vc(t)=(is/C)*t*u0(t);\n",
    "fplot(vc(t),[-1,4],'LineWidth',2),grid,title('A ramp function'),xlabel('t')"
   ]
  },
  {
   "cell_type": "markdown",
   "id": "11c14379",
   "metadata": {
    "slideshow": {
     "slide_type": "notes"
    }
   },
   "source": [
    "This type of signal is called a **ramp function**. Note that it is the *integral* of the step function (the resistor-capacitor circuit implements a simple integrator circuit)."
   ]
  },
  {
   "cell_type": "markdown",
   "id": "502e26bb",
   "metadata": {
    "slideshow": {
     "slide_type": "subslide"
    }
   },
   "source": [
    "The unit ramp function is defined as\n",
    "\n",
    "$$u_1(t) = \\int_{-\\infty}^{t}u_0(\\tau)d\\tau$$\n",
    "\n",
    "so\n",
    "\n",
    "$${u_1}(t) = \\left\\{ {\\begin{array}{*{20}{c}}\n",
    "{0\\quad t < 0}\\\\\n",
    "{t\\quad t \\ge 0}\n",
    "\\end{array}} \\right.$$\n",
    "\n",
    "and \n",
    "\n",
    "$$u_0(t) = \\frac{d }{dt}u_1(t)$$"
   ]
  },
  {
   "cell_type": "markdown",
   "id": "ca198219",
   "metadata": {
    "slideshow": {
     "slide_type": "notes"
    }
   },
   "source": [
    "**Note**\n",
    "\n",
    "Higher order functions of $t$ can be generated by the repeated integration of the unit step function. \n",
    "\n",
    "For future reference, you should determine $u_2(t)$, $u_3(t)$ and $u_n(t)$ for yourself and make a note of the general rule:\n",
    "\n",
    "$$u_{n-1} = \\frac{1}{n}\\frac{d}{dt}u_n(t)$$\n",
    "\n",
    "Details are given in equations 1.26&mdash;1.29 in Karris."
   ]
  },
  {
   "cell_type": "markdown",
   "id": "1f3f995b",
   "metadata": {
    "slideshow": {
     "slide_type": "slide"
    }
   },
   "source": [
    "## The Dirac Delta Function\n",
    "\n",
    "![A differentiating function (RL network)](./pictures/lr.png)\n",
    "\n",
    "In the circuit shown above, the switch is closed at time $t=0$ and $i_L(t)=0$ for $t<0$. Express the inductor current $i_L(t)$ in terms of the unit step function and hence derive an expression for $v_L(t)$."
   ]
  },
  {
   "cell_type": "markdown",
   "id": "81c1f784",
   "metadata": {
    "slideshow": {
     "slide_type": "subslide"
    }
   },
   "source": [
    "**Solution** \n",
    "\n",
    "$$v_L(t) = L\\frac{di_L}{dt}$$\n",
    "\n",
    "Because the switch closes instantaneously at $t=0$\n",
    "\n",
    "$$i_L(t) = i_s u_0(t)$$\n",
    "\n",
    "Thus \n",
    "\n",
    "$$v_L(t) = i_s L\\frac{d}{dt} u_0(t).$$"
   ]
  },
  {
   "cell_type": "markdown",
   "id": "386ea128",
   "metadata": {
    "slideshow": {
     "slide_type": "subslide"
    }
   },
   "source": [
    "(unit_impulse)=\n",
    "### The unit Impulse Function\n",
    "\n",
    "The unit impulse function $\\delta(t)$, is the derivative of the unit step.\n",
    "\n",
    "$$\\delta(t) = \\frac{d}{dt}u_0(t)$$\n",
    "\n",
    "which is tricky to compute because $u_0(t)$ is discontinuous at $t=0$ but it must have the properties\n",
    "\n",
    "$$\\int_{-\\infty}^{t}\\delta(\\tau)d\\tau = u_0(t)$$"
   ]
  },
  {
   "cell_type": "markdown",
   "id": "ad2ed163",
   "metadata": {
    "slideshow": {
     "slide_type": "subslide"
    }
   },
   "source": [
    "To solve this problem we need to invent a function that represents the derivative of the unit step function. This function is called the *unit impulse function* 𝛿(𝑡), also known as the *Dirac delta* function (named after [Paul Dirac](https://en.wikipedia.org/wiki/Paul_Dirac))."
   ]
  },
  {
   "cell_type": "markdown",
   "id": "959489cf",
   "metadata": {
    "slideshow": {
     "slide_type": "fragment"
    }
   },
   "source": [
    "Traditionally, $\\delta(t)$ is often defined as the limit of a suitably chosen conventional function having unity area over an infinitesimal time interval as shown in Fig. {numref}`dirac_delta_function`."
   ]
  },
  {
   "cell_type": "markdown",
   "id": "175a8841",
   "metadata": {
    "slideshow": {
     "slide_type": "subslide"
    }
   },
   "source": [
    ":::{figure-md} dirac_delta_function\n",
    "<img src=\"pictures/dirac_delta.png\" alt=\"Visualisation of the Dirac delta function as the limit of a conventional function with unit area.\" width=\"40%\">\n",
    "\n",
    "Visualisation of the Dirac delta function as the limit of a conventional function with unit area.\n",
    ":::"
   ]
  },
  {
   "cell_type": "markdown",
   "id": "26b332fa",
   "metadata": {
    "slideshow": {
     "slide_type": "subslide"
    }
   },
   "source": [
    "The Dirac delta posseses the following properties\n",
    "\n",
    "$$\\delta\\left(t\\right)=\\left\\lbrace \\begin{array}{ll}\n",
    "0 & t\\ne 0\\\\\n",
    "\\infty & t = 0\n",
    "\\end{array}\\right.$$"
   ]
  },
  {
   "cell_type": "markdown",
   "id": "70173883",
   "metadata": {
    "slideshow": {
     "slide_type": "fragment"
    }
   },
   "source": [
    "$$\\int_{\\epsilon}^{-\\epsilon}\\delta(t)\\,dt = 1$$"
   ]
  },
  {
   "cell_type": "markdown",
   "id": "48efa31b",
   "metadata": {
    "slideshow": {
     "slide_type": "fragment"
    }
   },
   "source": [
    "The unit impulse function plays a fundamental role in systems analysis."
   ]
  },
  {
   "cell_type": "markdown",
   "id": "79074a76",
   "metadata": {
    "slideshow": {
     "slide_type": "subslide"
    }
   },
   "source": [
    "### Sketch of the delta function\n",
    "\n",
    "Continuing the example, and replacing the derivative of the unit step $u_0(t)$ with the unit impulse $\\delta(t)$\n",
    "\n",
    "$$V_\\mathrm{out}(t)=V_L(t) = i_sL\\delta(t)$$ \n",
    "\n",
    "![The delta function](pictures/impulse.png)"
   ]
  },
  {
   "cell_type": "markdown",
   "id": "c3da0589",
   "metadata": {
    "slideshow": {
     "slide_type": "notes"
    }
   },
   "source": [
    "Note when we draw the unit impulse we show the height of $\\delta(t)$ as one so the height of the impulse in the figure is $i_sL$."
   ]
  },
  {
   "cell_type": "markdown",
   "id": "569d47a5",
   "metadata": {
    "slideshow": {
     "slide_type": "subslide"
    }
   },
   "source": [
    "### MATLAB Confirmation"
   ]
  },
  {
   "cell_type": "code",
   "execution_count": 9,
   "id": "cba4a76f",
   "metadata": {
    "slideshow": {
     "slide_type": "-"
    }
   },
   "outputs": [
    {
     "name": "stdout",
     "output_type": "stream",
     "text": [
      " \n"
     ]
    },
    {
     "name": "stdout",
     "output_type": "stream",
     "text": [
      "vL(t) =\n"
     ]
    },
    {
     "name": "stdout",
     "output_type": "stream",
     "text": [
      " \n"
     ]
    },
    {
     "name": "stdout",
     "output_type": "stream",
     "text": [
      "L*is*dirac(t)\n"
     ]
    },
    {
     "name": "stdout",
     "output_type": "stream",
     "text": [
      " \n"
     ]
    }
   ],
   "source": [
    "syms is L;\n",
    "vL(t) = is * L * diff(u0(t))"
   ]
  },
  {
   "cell_type": "markdown",
   "id": "576f7bbe",
   "metadata": {
    "slideshow": {
     "slide_type": "notes"
    }
   },
   "source": [
    "Note that we can't plot dirac(t) in MATLAB with `fplot`. The best we can do is a stem plot."
   ]
  },
  {
   "cell_type": "code",
   "execution_count": 10,
   "id": "7df08a46",
   "metadata": {},
   "outputs": [
    {
     "data": {
      "image/png": "[encoded data removed]",
      "text/plain": [
       "<IPython.core.display.Image object>"
      ]
     },
     "metadata": {
      "filenames": {
       "image/png": "/Users/eechris/code/src/github.com/cpjobling/eg-150-textbook/_build/jupyter_execute/signals_and_systems/elementary_signals/index_51_0.png"
      }
     },
     "output_type": "display_data"
    }
   ],
   "source": [
    "L = 1; is = 2;\n",
    "stem(0,L*is),title('Impulse $$v_L(t) = L*i_s*\\delta(t)$$','interpreter','latex'),grid,xlabel('t')"
   ]
  },
  {
   "cell_type": "markdown",
   "id": "f89fe2e9",
   "metadata": {
    "slideshow": {
     "slide_type": "slide"
    }
   },
   "source": [
    "## Important properties of the delta function"
   ]
  },
  {
   "cell_type": "markdown",
   "id": "f19987c1",
   "metadata": {
    "slideshow": {
     "slide_type": "subslide"
    }
   },
   "source": [
    "### Sampling Property\n",
    "\n",
    "The *sampling property* of the delta function states that\n",
    "\n",
    "$$f(t)\\delta(t-a) = f(a)\\delta(t-a)$$\n",
    "\n",
    "or, when $a = 0$,\n",
    "\n",
    "$$f(t)\\delta(t) = f(0)\\delta(t)$$"
   ]
  },
  {
   "cell_type": "markdown",
   "id": "3b2fd2c8",
   "metadata": {
    "slideshow": {
     "slide_type": "notes"
    }
   },
   "source": [
    "Multiplication of any function $f(t)$ by the delta function $\\delta(t)$ results in sampling the function at the time instants for which the delta function is not zero.\n",
    "\n",
    "The study of descrete-time (sampled) systems is based on this property.\n",
    "\n",
    "*You should work through the proof* for youself."
   ]
  },
  {
   "cell_type": "markdown",
   "id": "9dba5ac8",
   "metadata": {
    "slideshow": {
     "slide_type": "subslide"
    }
   },
   "source": [
    "(sifting_property)=\n",
    "### Sifting Property\n",
    "\n",
    "The *sifting property* of the delta function states that\n",
    "\n",
    "$$\\int_{-\\infty}^{\\infty}f(t)\\delta(t-\\alpha)dt=f(\\alpha)$$"
   ]
  },
  {
   "cell_type": "markdown",
   "id": "ff421148",
   "metadata": {
    "slideshow": {
     "slide_type": "notes"
    }
   },
   "source": [
    "That is, if multiply any function $f(t)$ by $\\delta(t-\\alpha)$, and integrate from $-\\infty$ to $+\\infty$, we will get the value of $f(t)$ evaluated at $t=\\alpha.$\n",
    "\n",
    "*You should also work through the proof* for yourself."
   ]
  },
  {
   "cell_type": "markdown",
   "id": "69daadbe",
   "metadata": {
    "slideshow": {
     "slide_type": "subslide"
    }
   },
   "source": [
    "### Higher Order Delta Fuctions\n",
    "\n",
    "the n*th*-order *delta function* is defined as the n*th* derivative of $u_0(t)$, that is\n",
    "\n",
    "$$\\delta^n(t)=\\frac{d^n}{dt^n}[u_0(t)]$$\n",
    "\n",
    "The function $\\delta'(t)$ is called the *doublet*, $\\delta''(t)$ is called the *triplet* and so on."
   ]
  },
  {
   "cell_type": "markdown",
   "id": "ed7029d6",
   "metadata": {
    "slideshow": {
     "slide_type": "subslide"
    }
   },
   "source": [
    "By a procedure similar to the derivation of the sampling property we can show that\n",
    "\n",
    "$$f(t)\\delta'(t-a)=f(a)\\delta'(t-a)-f'(t)\\delta(t-a)$$"
   ]
  },
  {
   "cell_type": "markdown",
   "id": "2efa2be0",
   "metadata": {
    "slideshow": {
     "slide_type": "subslide"
    }
   },
   "source": [
    "Also, derivation of the sifting property can be extended to show that\n",
    "\n",
    "$$\\int_{-\\infty}^{\\infty}f(t)\\delta^n(t-\\alpha)dt = \\left. ( - 1)^n\\frac{d^n}{dt^n}[f(t)] \\right|_{t = \\alpha }$$"
   ]
  },
  {
   "cell_type": "markdown",
   "id": "a2221814",
   "metadata": {
    "slideshow": {
     "slide_type": "slide"
    }
   },
   "source": [
    "## Summary\n",
    "\n",
    "In this chapter we have looked at some elementary signals and the theoretical circuits that can be used to generate them.\n",
    "\n",
    "### Takeaways\n",
    "\n",
    "* You should note that the unit step is the *heaviside function* $u_0(t)$.\n",
    "* Many useful signals can be synthesized by use of the unit step as a \"gating function\" in combination with other signals\n",
    "* That unit ramp function $u_1(t)$ is the integral of the step function.\n",
    "* The *Dirac delta* function $\\delta(t)$ is the derivative of the unit step function. We sometimes refer to it as the *unit impulse function*.\n",
    "* The delta function has sampling and sifting properties that will be useful in the development of *time convolution* and *sampling theory*."
   ]
  },
  {
   "cell_type": "markdown",
   "id": "458b6958",
   "metadata": {
    "slideshow": {
     "slide_type": "notes"
    }
   },
   "source": [
    "## Examples\n",
    "\n",
    "We will do some of these in class. See [Examples 3](examples3).\n",
    "\n",
    "## Homework\n",
    "\n",
    "These are for you to do later for further practice. See [Homework 2](../homework/hw2)\n",
    "\n",
    "\n",
    "## References\n",
    "\n",
    "See [Bibliography](/zbib)"
   ]
  },
  {
   "cell_type": "markdown",
   "id": "ba08362c",
   "metadata": {},
   "source": [
    "## Next Time\n",
    "\n",
    "[Systems and Classification of Systems](../systems/index)\n",
    "* {ref}`system_representation`\n",
    "* {ref}`deterministic_and_stochastic_systems`\n",
    "* {ref}`continuous_time_and_discrete_time_systems`\n",
    "* {ref}`systems_with_memory_and_without_memory`\n",
    "* {ref}`causal_and_non-causal_systems`\n",
    "* {ref}`linear_systems_and_nonlinear_systems`\n",
    "* {ref}`linear_time_invariant_systems`\n",
    "* {ref}`stable_systems`\n",
    "* {ref}`feedback_systems`"
   ]
  }
 ],
 "metadata": {
  "jupytext": {
   "formats": "ipynb,md:myst",
   "text_representation": {
    "extension": ".md",
    "format_name": "myst",
    "format_version": 0.13,
    "jupytext_version": "1.14.4"
   }
  },
  "kernelspec": {
   "display_name": "Matlab",
   "language": "matlab",
   "name": "matlab"
  },
  "language_info": {
   "codemirror_mode": "octave",
   "file_extension": ".m",
   "help_links": [
    {
     "text": "MetaKernel Magics",
     "url": "https://metakernel.readthedocs.io/en/latest/source/README.html"
    }
   ],
   "mimetype": "text/x-octave",
   "name": "matlab",
   "version": "0.17.1"
  },
  "source_map": [
   15,
   29,
   35,
   40,
   48,
   62,
   70,
   82,
   88,
   100,
   104,
   114,
   118,
   124,
   135,
   139,
   149,
   153,
   159,
   167,
   171,
   177,
   186,
   190,
   198,
   202,
   208,
   214,
   222,
   230,
   240,
   246,
   250,
   254,
   264,
   268,
   285,
   297,
   305,
   319,
   332,
   336,
   340,
   348,
   357,
   361,
   365,
   375,
   379,
   383,
   392,
   396,
   401,
   405,
   417,
   425,
   434,
   440,
   450,
   456,
   462,
   476,
   491
  ]
 },
 "nbformat": 4,
 "nbformat_minor": 5
}