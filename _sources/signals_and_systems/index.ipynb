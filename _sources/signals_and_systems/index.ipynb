{
 "cells": [
  {
   "cell_type": "markdown",
   "id": "bf53d518",
   "metadata": {
    "slideshow": {
     "slide_type": "slide"
    }
   },
   "source": [
    "(sig_intro)=\n",
    "# Unit 2: Signals and Systems"
   ]
  },
  {
   "cell_type": "markdown",
   "id": "0377b371",
   "metadata": {
    "slideshow": {
     "slide_type": "subslide"
    }
   },
   "source": [
    "Follow along at [cpjobling.github.io/eg-150-textbook/signals_and_systems](https://cpjobling.github.io/eg-150-textbook/signals_and_systems)\n",
    "\n",
    "![QR Code](qr-code-unit2.png)"
   ]
  },
  {
   "cell_type": "markdown",
   "id": "5eb265df",
   "metadata": {
    "slideshow": {
     "slide_type": "slide"
    }
   },
   "source": [
    "## Introduction\n",
    "\n",
    "The concept and theory of signals and systems are needed in almost all electronic and electrical engineering fields and in many other engineering and scientific disciplines as well. In this unit we introduce the mathematical description and representation of signals and systems and their classifications. We also define several important elementary signals that are essential to your studies.\n",
    "\n",
    "This chapter is based on Chapter 1 of {cite}`schaum`."
   ]
  },
  {
   "cell_type": "markdown",
   "id": "16e5aa53",
   "metadata": {
    "slideshow": {
     "slide_type": "slide"
    }
   },
   "source": [
    "## Contents of this Chapter\n",
    "\n",
    "* [Signals and Classifications of Signals](signals/index.md)\n",
    "* [Periodic, Energy and Power Signals](signals/pep_signals.md)\n",
    "* [Elementary Signals](elementary_signals/index.md)\n",
    "* [Systems and Classifications of Systems](systems/index.md)"
   ]
  }
 ],
 "metadata": {
  "jupytext": {
   "formats": "ipynb,md:myst",
   "text_representation": {
    "extension": ".md",
    "format_name": "myst",
    "format_version": 0.13,
    "jupytext_version": "1.14.4"
   }
  },
  "kernelspec": {
   "display_name": "Matlab",
   "language": "matlab",
   "name": "matlab"
  },
  "language_info": {
   "codemirror_mode": "octave",
   "file_extension": ".m",
   "help_links": [
    {
     "text": "MetaKernel Magics",
     "url": "https://metakernel.readthedocs.io/en/latest/source/README.html"
    }
   ],
   "mimetype": "text/x-octave",
   "name": "matlab",
   "version": "0.17.1"
  },
  "source_map": [
   15,
   20,
   26,
   34
  ]
 },
 "nbformat": 4,
 "nbformat_minor": 5
}