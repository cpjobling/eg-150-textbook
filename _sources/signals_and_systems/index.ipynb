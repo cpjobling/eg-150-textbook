{
 "cells": [
  {
   "cell_type": "markdown",
   "id": "cfc8220c",
   "metadata": {
    "slideshow": {
     "slide_type": "slide"
    }
   },
   "source": [
    "# Signals and Systems\n",
    "\n",
    "\n",
    "## Introduction\n",
    "\n",
    "The concept and theory of signals and systems are needed in almost all electronic and electrical engineering fields and in many other engineering and scientific disciplines as well. In this unit we introduce the mathematical description and representation of signals and systems and their classifications. We also define several important elementary signals that are essential to your studies.\n",
    "\n",
    "This chapter is based on Chapter 1 of {cite}`schaum`."
   ]
  },
  {
   "cell_type": "markdown",
   "id": "6ffaf258",
   "metadata": {
    "slideshow": {
     "slide_type": "slide"
    }
   },
   "source": [
    "## Contents of this Chapter\n",
    "\n",
    "* {classification/index.md}`Signals and Classifications of Signals`\n",
    "* {elementary_signals/index.md}`Elementary Signals`\n",
    "* {systems/index.md}`Systems and Classifications of Systems`\n",
    "* {examples/index.md}`Worked Examples`\n",
    "* {homework/index.md}`Homework Problems`\n",
    "* {lab/index.md}`MATLAB Lab 1 - Symbolic Math Toolbox OnRamp`"
   ]
  }
 ],
 "metadata": {
  "jupytext": {
   "formats": "ipynb,md:myst",
   "text_representation": {
    "extension": ".md",
    "format_name": "myst",
    "format_version": 0.13,
    "jupytext_version": "1.14.0"
   }
  },
  "kernelspec": {
   "display_name": "Matlab",
   "language": "matlab",
   "name": "matlab"
  },
  "language_info": {
   "codemirror_mode": "octave",
   "file_extension": ".m",
   "help_links": [
    {
     "text": "MetaKernel Magics",
     "url": "https://metakernel.readthedocs.io/en/latest/source/README.html"
    }
   ],
   "mimetype": "text/x-octave",
   "name": "matlab",
   "version": "0.17.1"
  },
  "source_map": [
   15,
   26
  ]
 },
 "nbformat": 4,
 "nbformat_minor": 5
}