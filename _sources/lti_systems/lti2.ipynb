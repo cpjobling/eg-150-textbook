{
 "cells": [
  {
   "cell_type": "markdown",
   "id": "ce6cdb37",
   "metadata": {
    "slideshow": {
     "slide_type": "slide"
    }
   },
   "source": [
    "(lti_systems)=\n",
    "# Properties and Eigenfunctions of Continuous-Time LTI Systems\n",
    "\n",
    "This section is based on Sections 2.3 and 2.4 of {cite}`schaum`"
   ]
  },
  {
   "cell_type": "markdown",
   "id": "e709d709",
   "metadata": {
    "slideshow": {
     "slide_type": "slide"
    }
   },
   "source": [
    "## Subjects to be covered\n",
    "\n",
    "We continue our introduction to continuous-time LTI systems by considering:\n",
    "\n",
    "* {ref}`Properties_of_Continuous_Time_LTI_Systems`\n",
    "* {ref}`eigenfunctions_of_continuous_time_LTI_systems`\n",
    "* {ref}`examples_6`\n",
    "* {ref}`examples_7`"
   ]
  },
  {
   "cell_type": "markdown",
   "id": "f7fb9caf",
   "metadata": {
    "slideshow": {
     "slide_type": "slide"
    }
   },
   "source": [
    "(Properties_of_Continuous_Time_LTI_Systems)=\n",
    "## Properties of Continuous-Time LTI Systems\n",
    "\n",
    "* {ref}`a_systems_with_and_without_memory`\n",
    "* {ref}`b_causality`\n",
    "* {ref}`c_Stability`"
   ]
  },
  {
   "cell_type": "markdown",
   "id": "8be299b9",
   "metadata": {
    "slideshow": {
     "slide_type": "slide"
    }
   },
   "source": [
    "(a_systems_with_and_without_memory)=\n",
    "### A. Systems with or without memory"
   ]
  },
  {
   "cell_type": "markdown",
   "id": "26cf99c5",
   "metadata": {
    "slideshow": {
     "slide_type": "fragment"
    }
   },
   "source": [
    "Since the output $y(t)$ of a memoryless system depends only on the current input $x(t)$, then, if the system is also linear and time-invariant, this relationship can only be of the form\n",
    "\n",
    "$$y(t) = Kx(t)$$\n",
    "\n",
    "where $K$ is a (gain) constant."
   ]
  },
  {
   "cell_type": "markdown",
   "id": "d98dedf2",
   "metadata": {
    "slideshow": {
     "slide_type": "subslide"
    }
   },
   "source": [
    "Thus the corresponding impulse response $h(t)$ is simply\n",
    "\n",
    "$$h(t) = K\\delta(t)$$"
   ]
  },
  {
   "cell_type": "markdown",
   "id": "d37c9a63",
   "metadata": {
    "slideshow": {
     "slide_type": "fragment"
    }
   },
   "source": [
    "Therefore, if $h(t_0) \\neq 0$ for $t_0 \\neq 0$, then the continuous-time LTI system has memory."
   ]
  },
  {
   "cell_type": "markdown",
   "id": "ae6c6e3b",
   "metadata": {
    "slideshow": {
     "slide_type": "slide"
    }
   },
   "source": [
    "(b_causality)=\n",
    "### B. Causality\n",
    "\n",
    "(causal_systems)=\n",
    "#### Causal continuous-time LTI systems\n",
    "\n",
    "As discussed in Section {ref}`causal_and_non-causal_systems`, a causal system does not respond to an input event until that event actually occurs."
   ]
  },
  {
   "cell_type": "markdown",
   "id": "a417326f",
   "metadata": {
    "slideshow": {
     "slide_type": "fragment"
    }
   },
   "source": [
    "Therefore, for a causal LTI system, we have\n",
    "\n",
    "$$h(t) = 0\\quad t \\lt 0$$"
   ]
  },
  {
   "cell_type": "markdown",
   "id": "9d3d0c7a",
   "metadata": {
    "slideshow": {
     "slide_type": "subslide"
    }
   },
   "source": [
    "Applying the causality condition to the convolution integral, the output of a causal continuous-time LTI system is expressed as\n",
    "\n",
    "$$y(t) = \\int_0^{\\infty}h(\\tau)x(t=\\tau)\\,d\\tau$$"
   ]
  },
  {
   "cell_type": "markdown",
   "id": "1f0daeb6",
   "metadata": {
    "slideshow": {
     "slide_type": "subslide"
    }
   },
   "source": [
    "Alternatively, applying the causality to the convolution integral (defined in Section {ref}`convolution_integral`)\n",
    "\n",
    "$$y(t) = \\int_{-\\infty}^{\\infty}x(t)h(t-\\tau)\\,d\\tau$$\n",
    "\n",
    "we have\n",
    "\n",
    "$$y(t) = \\int_{-\\infty}^{t}x(t)h(t-\\tau)\\,d\\tau$$"
   ]
  },
  {
   "cell_type": "markdown",
   "id": "96ef6122",
   "metadata": {
    "slideshow": {
     "slide_type": "fragment"
    }
   },
   "source": [
    "This equation shows that the only values of the input $x(t)$ used to evaluate the output $y(t)$ are those for $\\tau \\le   t$."
   ]
  },
  {
   "cell_type": "markdown",
   "id": "d9ee6a49",
   "metadata": {
    "slideshow": {
     "slide_type": "subslide"
    }
   },
   "source": [
    "(causal_signals)=\n",
    "#### Causal signals\n",
    "\n",
    "Based on the causality condition, any signal is called *causal* if\n",
    "\n",
    "$$x(t)=0\\quad t \\lt 0$$\n",
    "\n",
    "and is called *anticausal* if\n",
    "\n",
    "$$x(t)=0\\quad t \\gt 0$$"
   ]
  },
  {
   "cell_type": "markdown",
   "id": "662d94ab",
   "metadata": {
    "slideshow": {
     "slide_type": "subslide"
    }
   },
   "source": [
    "Combining the definition of a causal signal with a causal signal, when the input $x(t)$ is causal, the output of a causal continuous-time LTI system is given by\n",
    "\n",
    "$$y(t) = \\int_{0}^{t}h(t)x(t-\\tau)\\,d\\tau =  \\int_{0}^{t}x(t)h(t-\\tau)\\,d\\tau$$"
   ]
  },
  {
   "cell_type": "markdown",
   "id": "4700208e",
   "metadata": {
    "slideshow": {
     "slide_type": "slide"
    }
   },
   "source": [
    "(c_Stability)=\n",
    "### C. Stability\n",
    "\n",
    "The BIBO (bounded-input/bounder-output) stability of an LTI system (Section {ref}`stable_systems`) is readily acertined by the impuse response. It can be shown (Example 6.x) that a continuous-time LTI system is BIBO stable if its  impulse response is absolutely integrable; that is,\n",
    "\n",
    "$$\\int_{-\\infty}^{\\infty}\\left[h(\\tau)\\right|\\,d\\tau \\lt \\infty$$"
   ]
  },
  {
   "cell_type": "markdown",
   "id": "14560601",
   "metadata": {
    "slideshow": {
     "slide_type": "slide"
    }
   },
   "source": [
    "(eigenfunctions_of_continuous_time_LTI_systems)=\n",
    "## Eigenfunctions of Continuous-Time LTI Systems\n",
    "\n",
    "In Chapter [Systems and Classification of Systems\n",
    "](/systems_and_signals/signals_and_systems/systems/index) (Example {ref}`ex4_7`) we saw that the eigenfunctions of continuous-time LTI system represented by the complex exponentials $e^{st}$, with $s$ a complex variable."
   ]
  },
  {
   "cell_type": "markdown",
   "id": "b17629b7",
   "metadata": {
    "slideshow": {
     "slide_type": "fragment"
    }
   },
   "source": [
    "That is\n",
    "\n",
    "$$\\mathbf{T}\\left\\{e^{st}\\right\\}=\\lambda e^{st}$$\n",
    "\n",
    "where $\\lambda$ is the eigenvalue of $\\mathbf{T}$ associated with $e^{st}$."
   ]
  },
  {
   "cell_type": "markdown",
   "id": "cba23977",
   "metadata": {
    "slideshow": {
     "slide_type": "subslide"
    }
   },
   "source": [
    "Setting $x(t)=e^{st}$ in the convolution integral, we have\n",
    "\n",
    "$$y(t) = \\mathbf{T}\\left\\{e^{st}\\right\\}$$"
   ]
  },
  {
   "cell_type": "markdown",
   "id": "5f7bb327",
   "metadata": {
    "slideshow": {
     "slide_type": "fragment"
    }
   },
   "source": [
    "$$y(t) = \\int_{-\\infty}^{\\infty}h(\\tau)e^{s(t-\\tau)}\\,d\\tau$$"
   ]
  },
  {
   "cell_type": "markdown",
   "id": "18133707",
   "metadata": {
    "slideshow": {
     "slide_type": "fragment"
    }
   },
   "source": [
    "$$y(t) = \\left[\\int_{-\\infty}^{\\infty}h(\\tau)e^{-s\\tau}\\,d\\tau\\right]e^{st}$$"
   ]
  },
  {
   "cell_type": "markdown",
   "id": "0f4c24b1",
   "metadata": {
    "slideshow": {
     "slide_type": "fragment"
    }
   },
   "source": [
    "$$y(t) = H(s)e^{st} = \\lambda e^{st}$$"
   ]
  },
  {
   "cell_type": "markdown",
   "id": "41359f01",
   "metadata": {
    "slideshow": {
     "slide_type": "subslide"
    }
   },
   "source": [
    "where \n",
    "\n",
    "$$\\lambda = H(s) = \\int_{-\\infty}^{\\infty}h(\\tau)e^{-s\\tau}\\,d\\tau$$"
   ]
  },
  {
   "cell_type": "markdown",
   "id": "9f0f966a",
   "metadata": {
    "slideshow": {
     "slide_type": "subslide"
    }
   },
   "source": [
    "Thus, the eigenvalue of a continuous-time LTI system associated with the eigenfunction $e^{st}$ is given by $H(s)$ which is a complex constant whose value is determined by the value of $s$ via the equation\n",
    "\n",
    "$$H(s) = \\int_{-\\infty}^{\\infty}h(\\tau)e^{-s\\tau}\\,d\\tau.$$"
   ]
  },
  {
   "cell_type": "markdown",
   "id": "5481e53b",
   "metadata": {
    "slideshow": {
     "slide_type": "notes"
    }
   },
   "source": [
    "Note from the equation\n",
    "\n",
    "$$y(t) = H(s)e^{st}$$\n",
    "\n",
    "that $y(0) = H(s)$ (see {ref}`ex:4_7`)."
   ]
  },
  {
   "cell_type": "markdown",
   "id": "27dd1092",
   "metadata": {
    "slideshow": {
     "slide_type": "subslide"
    }
   },
   "source": [
    "### Looking Ahead\n",
    "The above results inderline the definition of the Laplace transform and Fourier transform. The {doc}`../laplace_transform/1/laplace.md` will be discussed later in this course. The Fourier Transform will be introduced in **EG-247 Digital Signal Processing** next year."
   ]
  },
  {
   "cell_type": "markdown",
   "id": "406d263b",
   "metadata": {
    "slideshow": {
     "slide_type": "slide"
    }
   },
   "source": [
    "(examples_6)=\n",
    "## Examples 6: Properties of Continuous-Time LTI Systems"
   ]
  },
  {
   "cell_type": "markdown",
   "id": "06dd0758",
   "metadata": {
    "slideshow": {
     "slide_type": "subslide"
    }
   },
   "source": [
    "(ex6_1)=\n",
    "### Example 6.1 \n",
    "\n",
    "The signals in {numref}`fig:ex6.1`(a) and (b) are the input $x(t)$ and the output $y(t)$, respectively, of a certain continuous-time LTI system. \n",
    "\n",
    ":::{figure-md} fig:ex6.1\n",
    "<img src=\"pictures/ex6_1.png\" alt=\"Input and output signals for a continuous-time LTI system\" width=\"60%\">\n",
    "\n",
    "Input and output signals for a continuous-time LTI system\n",
    ":::\n",
    "\n",
    "Sketch the output to the following inputs:\n",
    "\n",
    "(a)$x(t-2)$;\n",
    "\n",
    "(b) $\\frac{1}{2}x(t)$."
   ]
  },
  {
   "cell_type": "markdown",
   "id": "0898395a",
   "metadata": {
    "slideshow": {
     "slide_type": "notes"
    }
   },
   "source": [
    "For the answer, refer to the lecture recording or see solved problem 2.9 in in {cite}`schaum`."
   ]
  },
  {
   "cell_type": "markdown",
   "id": "bfa740f6",
   "metadata": {
    "slideshow": {
     "slide_type": "subslide"
    }
   },
   "source": [
    "(ex6_2)=\n",
    "### Example 6.2 \n",
    "\n",
    "Consider a continuous-time LTI system whose step response is given by\n",
    "\n",
    "$$y(t) = e^{-t}u_0(t)$$\n",
    "\n",
    "Determine and sketch the output of the system to the input $x(t)$ shown in {numref}`fig:ex6.2`.\n",
    "\n",
    ":::{figure-md} fig:ex6.2\n",
    "<img src=\"pictures/ex6_2.png\" alt=\"Signal for Exercise 6.2\" width=\"40%\">\n",
    "\n",
    "Signal for Exercise 6.2\n",
    ":::"
   ]
  },
  {
   "cell_type": "markdown",
   "id": "2b8aa046",
   "metadata": {
    "slideshow": {
     "slide_type": "notes"
    }
   },
   "source": [
    "For the answer, refer to the lecture recording or see solved problem 2.2 in in {cite}schaum."
   ]
  },
  {
   "cell_type": "markdown",
   "id": "0396e126",
   "metadata": {
    "slideshow": {
     "slide_type": "subslide"
    }
   },
   "source": [
    "(ex6_3)=\n",
    "### Example 6.3\n",
    "\n",
    "Consider a continuous-time LTI system system described by\n",
    "\n",
    "$$y(t) = \\mathbf{T}\\left\\{x(t)\\right\\} = \\frac{1}{T}\\int_{t-\\frac{T}{2}}^{t+\\frac{T}{2}}x(\\tau)\\,d\\tau$$\n",
    "\n",
    "(a) Find and sketch the impulse response $h(t)$ of the system.\n",
    "\n",
    "(b) Is this system causal?"
   ]
  },
  {
   "cell_type": "markdown",
   "id": "8ec96506",
   "metadata": {
    "slideshow": {
     "slide_type": "notes"
    }
   },
   "source": [
    "For the answer, refer to the lecture recording or see solved problem 2.11 in in {cite}`schaum`."
   ]
  },
  {
   "cell_type": "markdown",
   "id": "a1270fee",
   "metadata": {
    "slideshow": {
     "slide_type": "subslide"
    }
   },
   "source": [
    "(ex6_4)=\n",
    "### Example 6.4\n",
    "\n",
    "Let $y(t)$ be the output of a continuous-time LTI system with input $x(t)$. Find the output of the system if ths input is $x'(t)$, where $x'(t)$ is the first derivative of $x(t)$."
   ]
  },
  {
   "cell_type": "markdown",
   "id": "312b69b9",
   "metadata": {
    "slideshow": {
     "slide_type": "notes"
    }
   },
   "source": [
    "For the answer, refer to the lecture recording or see solved problem 2.12 in in {cite}`schaum`."
   ]
  },
  {
   "cell_type": "markdown",
   "id": "7c0d0134",
   "metadata": {
    "slideshow": {
     "slide_type": "subslide"
    }
   },
   "source": [
    "(ex6_5)=\n",
    "### Example 6.5\n",
    "\n",
    "Verify the BIBO stability condition ({ref}`c_Stability`) for continuous-time LTI systems."
   ]
  },
  {
   "cell_type": "markdown",
   "id": "108bb98c",
   "metadata": {
    "slideshow": {
     "slide_type": "notes"
    }
   },
   "source": [
    "For the answer, refer to the lecture recording or see solved problem 2.13 in {cite}`schaum`."
   ]
  },
  {
   "cell_type": "markdown",
   "id": "eb8f564e",
   "metadata": {
    "slideshow": {
     "slide_type": "subslide"
    }
   },
   "source": [
    "(ex6_6)=\n",
    "### Example 6.6\n",
    "\n",
    "The system shown in {numref}`fig:ex6.6`(a) is formed by connecting two systems in *cascade*. The impulse responses of the two systems are $h_1(t)$ and $h_2(t)$, respectively, and\n",
    "\n",
    "$$h_1(t) = e^{-2t}u_0(t)\\quad h_2(t)=2e^{-t}u_0(t)$$\n",
    "\n",
    "(a) Find the impulse response $h(t)$ of the overall system shown in {numref}`fig:ex6.2`(b).\n",
    "\n",
    "(b) Determine if the overall system is BIBO stable.\n",
    "\n",
    ":::{figure-md} fig:ex6.6\n",
    "<img src=\"pictures/ex6_6.png\" alt=\"A cascade connection of two continuous-time LTI systems\" width=\"50%\">\n",
    "\n",
    "A cascade connection of two continuous-time LTI systems\n",
    ":::"
   ]
  },
  {
   "cell_type": "markdown",
   "id": "07d0fa78",
   "metadata": {
    "slideshow": {
     "slide_type": "notes"
    }
   },
   "source": [
    "For the answer, refer to the lecture recording or see solved problem 2.14 in {cite}`schaum`."
   ]
  },
  {
   "cell_type": "markdown",
   "id": "0436c6dc",
   "metadata": {
    "slideshow": {
     "slide_type": "slide"
    }
   },
   "source": [
    "(examples_7)=\n",
    "## Examples 7: Eigenfunctions of Continuous-Time LTI systems"
   ]
  },
  {
   "cell_type": "markdown",
   "id": "98eee791",
   "metadata": {},
   "source": [
    "(ex7_1)=\n",
    "### Example 7.1\n",
    "\n",
    "Consider a continuous-time LTI system with the input-output reltion given by\n",
    "\n",
    "$$y(t)=\\int_{-\\infty}^{t}e^{-(t-\\tau)}x(\\tau)\\,d\\tau$$\n",
    "\n",
    "(a) Find the impulse response $h(t)$ of this system.\n",
    "\n",
    "(b) Show that the complex exponential $e^{st}$ is an eigenfunction of the system.\n",
    "\n",
    "(c) Find the eigenvalue of the system corresponding to $e^{st}$ using the impulse response $h(t)$ obtained in part (a)."
   ]
  },
  {
   "cell_type": "markdown",
   "id": "d9953017",
   "metadata": {
    "slideshow": {
     "slide_type": "notes"
    }
   },
   "source": [
    "For the answer, refer to the lecture recording or see solved problem 2.15 in {cite}`schaum`."
   ]
  },
  {
   "cell_type": "markdown",
   "id": "076b009e",
   "metadata": {
    "slideshow": {
     "slide_type": "subslide"
    }
   },
   "source": [
    "(ex7_2)=\n",
    "### Example 7.2\n",
    "\n",
    "Consider the continuous-time LTI system described by\n",
    "\n",
    "$$y(t) = \\frac{1}{T}\\int_{t-\\frac{T}{2}}^{t+\\frac{T}{2}}x(\\tau)\\,d\\tau$$\n",
    "\n",
    "(a) Find the eigenvalue of the system corresponding to the eigenfunction $e^{st}$.\n",
    "\n",
    "(b) Repeat part (a) by using the impulse response $h(t)$ of the system."
   ]
  },
  {
   "cell_type": "markdown",
   "id": "30ea39c9",
   "metadata": {
    "slideshow": {
     "slide_type": "notes"
    }
   },
   "source": [
    "For the answer, refer to the lecture recording or see solved problem 2.16 in {cite}`schaum`."
   ]
  },
  {
   "cell_type": "markdown",
   "id": "1a76e8a8",
   "metadata": {
    "slideshow": {
     "slide_type": "subslide"
    }
   },
   "source": [
    "(ex7_3)=\n",
    "### Example 7.3\n",
    "\n",
    "Consider a stable continuous-time LTI system with impulse response $h(t)$ that is real and even. Show that $\\cos \\omega t$ and $\\sin \\omega t$ are eigenfunctions of this system with the same eigenvalue."
   ]
  },
  {
   "cell_type": "markdown",
   "id": "bedd2b7e",
   "metadata": {
    "slideshow": {
     "slide_type": "notes"
    }
   },
   "source": [
    "For the answer, refer to the lecture recording or see solved problem 2.17 in {cite}`schaum`."
   ]
  },
  {
   "cell_type": "markdown",
   "id": "81b77b7f",
   "metadata": {
    "slideshow": {
     "slide_type": "slide"
    }
   },
   "source": [
    "## Summary\n",
    "\n",
    "We have continued our introdiuction the continuous-time LTI systems by considering\n",
    "\n",
    "* {ref}`Properties_of_Continuous_Time_LTI_Systems`\n",
    "* {ref}`eigenfunctions_of_continuous_time_LTI_systems`"
   ]
  },
  {
   "cell_type": "markdown",
   "id": "85955659",
   "metadata": {
    "slideshow": {
     "slide_type": "slide"
    }
   },
   "source": [
    "## Next Time\n",
    "\n",
    "We will conclude our look at continuous-time LTI systems by considering\n",
    "\n",
    "* {ref}`Systems_Described_by_Differential_Equations`"
   ]
  }
 ],
 "metadata": {
  "jupytext": {
   "formats": "ipynb,md:myst",
   "text_representation": {
    "extension": ".md",
    "format_name": "myst",
    "format_version": 0.13,
    "jupytext_version": "1.14.0"
   }
  },
  "kernelspec": {
   "display_name": "Matlab",
   "language": "matlab",
   "name": "matlab"
  },
  "language_info": {
   "codemirror_mode": "octave",
   "file_extension": ".m",
   "help_links": [
    {
     "text": "MetaKernel Magics",
     "url": "https://metakernel.readthedocs.io/en/latest/source/README.html"
    }
   ],
   "mimetype": "text/x-octave",
   "name": "matlab",
   "version": "0.17.1"
  },
  "source_map": [
   15,
   22,
   33,
   42,
   47,
   55,
   61,
   65,
   75,
   81,
   87,
   97,
   101,
   114,
   120,
   129,
   137,
   145,
   151,
   155,
   159,
   163,
   169,
   175,
   183,
   188,
   193,
   212,
   216,
   234,
   238,
   251,
   255,
   262,
   266,
   273,
   277,
   297,
   301,
   306,
   321,
   325,
   338,
   342,
   349,
   353,
   362
  ]
 },
 "nbformat": 4,
 "nbformat_minor": 5
}