{
 "cells": [
  {
   "cell_type": "markdown",
   "id": "52c2fc7f",
   "metadata": {
    "slideshow": {
     "slide_type": "slide"
    }
   },
   "source": [
    "(lti_systems)=\n",
    "# Properties and Eigenfunctions of Continuous-Time LTI Systems\n",
    "\n",
    "This section is based on Sections 2.3 and 2.4 of {cite}`schaum`"
   ]
  },
  {
   "cell_type": "markdown",
   "id": "38f6262b",
   "metadata": {
    "slideshow": {
     "slide_type": "slide"
    }
   },
   "source": [
    "## Subjects to be covered\n",
    "\n",
    "* {ref}`Properties_of_Continuous_Time_LTI_Systems`\n",
    "* {ref}`eigenfunctions_of_continuous_time_LTI_systems`\n",
    "* {ref}`examples_6`"
   ]
  },
  {
   "cell_type": "markdown",
   "id": "53fee8df",
   "metadata": {
    "slideshow": {
     "slide_type": "slide"
    }
   },
   "source": [
    "(Properties_of_Continuous_Time_LTI_Systems)=\n",
    "## Properties of Continuous-Time LTI Systems\n",
    "\n",
    "* {ref}`a_systems_with_and_without_memory`\n",
    "* {ref}`b_causality`\n",
    "* {ref}`c_Stability`"
   ]
  },
  {
   "cell_type": "markdown",
   "id": "4fa2f017",
   "metadata": {
    "slideshow": {
     "slide_type": "slide"
    }
   },
   "source": [
    "(a_systems_with_and_without_memory)=\n",
    "### A. Systems with or without memory"
   ]
  },
  {
   "cell_type": "markdown",
   "id": "49a8544a",
   "metadata": {
    "slideshow": {
     "slide_type": "fragment"
    }
   },
   "source": [
    "Since the output $y(t)$ of a memoryless system depends only on the current input $x(t)$, then, if the system is also linear and time-invariant, this relationship can only be of the form\n",
    "\n",
    "$$y(t) = Kx(t)$$\n",
    "\n",
    "where $K$ is a (gain) constant."
   ]
  },
  {
   "cell_type": "markdown",
   "id": "6a895f20",
   "metadata": {
    "slideshow": {
     "slide_type": "subslide"
    }
   },
   "source": [
    "Thus the corresponding impulse response $h(t)$ is simply\n",
    "\n",
    "$$h(t) = K\\delta(t)$$"
   ]
  },
  {
   "cell_type": "markdown",
   "id": "0dbd9e84",
   "metadata": {
    "slideshow": {
     "slide_type": "fragment"
    }
   },
   "source": [
    "Therefore, if $h(t_0) \\neq 0$ for $t_0 \\neq 0$, then the continuous-time LTI system has memory."
   ]
  },
  {
   "cell_type": "markdown",
   "id": "8f8cad4e",
   "metadata": {
    "slideshow": {
     "slide_type": "slide"
    }
   },
   "source": [
    "(b_causality)=\n",
    "### B. Causality\n",
    "\n",
    "(causal_systems)=\n",
    "#### Causal continuous-time LTI systems\n",
    "\n",
    "As discussed in Section {ref}`causal_and_non-causal_systems`, a causal system does not respond to an input event until that event actually occurs."
   ]
  },
  {
   "cell_type": "markdown",
   "id": "e184f8e8",
   "metadata": {
    "slideshow": {
     "slide_type": "fragment"
    }
   },
   "source": [
    "Therefore, for a causal LTI system, we have\n",
    "\n",
    "$$h(t) = 0\\quad t \\lt 0$$"
   ]
  },
  {
   "cell_type": "markdown",
   "id": "9778c0de",
   "metadata": {
    "slideshow": {
     "slide_type": "subslide"
    }
   },
   "source": [
    "Applying the causality condition to the convolution integral, the output of a causal continuous-time LTI system is expressed as\n",
    "\n",
    "$$y(t) = \\int_0^{\\infty}h(\\tau)x(t=\\tau)\\,d\\tau$$"
   ]
  },
  {
   "cell_type": "markdown",
   "id": "df114a62",
   "metadata": {
    "slideshow": {
     "slide_type": "subslide"
    }
   },
   "source": [
    "Alternatively, applying the causality to the convolution integral (defined in Section {ref}`convolution_integral`)\n",
    "\n",
    "$$y(t) = \\int_{-\\infty}^{\\infty}x(t)h(t-\\tau)\\,d\\tau$$\n",
    "\n",
    "we have\n",
    "\n",
    "$$y(t) = \\int_{-\\infty}^{t}x(t)h(t-\\tau)\\,d\\tau$$"
   ]
  },
  {
   "cell_type": "markdown",
   "id": "192d4ef7",
   "metadata": {
    "slideshow": {
     "slide_type": "fragment"
    }
   },
   "source": [
    "This equation shows that the only values of the input $x(t)$ used to evaluate the output $y(t)$ are those for $\\tau \\le   t$."
   ]
  },
  {
   "cell_type": "markdown",
   "id": "29aac722",
   "metadata": {
    "slideshow": {
     "slide_type": "subslide"
    }
   },
   "source": [
    "(causal_signals)=\n",
    "#### Causal signals\n",
    "\n",
    "Based on the causality condition, any signal is called *causal* if\n",
    "\n",
    "$$x(t)=0\\quad t \\lt 0$$\n",
    "\n",
    "and is called *anticausal* if\n",
    "\n",
    "$$x(t)=0\\quad t \\gt 0$$"
   ]
  },
  {
   "cell_type": "markdown",
   "id": "e55228f7",
   "metadata": {
    "slideshow": {
     "slide_type": "subslide"
    }
   },
   "source": [
    "Combining the definition of a causal signal with a causal signal, when the input $x(t)$ is causal, the output of a causal continuous-time LTI system is given by\n",
    "\n",
    "$$y(t) = \\int_{0}^{t}h(t)x(t-\\tau)\\,d\\tau =  \\int_{0}^{t}x(t)h(t-\\tau)\\,d\\tau$$"
   ]
  },
  {
   "cell_type": "markdown",
   "id": "e03c9512",
   "metadata": {
    "slideshow": {
     "slide_type": "slide"
    }
   },
   "source": [
    "(c_Stability)=\n",
    "### C. Stability\n",
    "\n",
    "The BIBO (bounded-input/bounder-output) stability of an LTI system (Section {ref}`stable_systems`) is readily acertined by the impuse response. It can be shown (Example 6.x) that a continuous-time LTI system is BIBO stable if its  impulse response is absolutely integrable; that is,\n",
    "\n",
    "$$\\int_{-\\infty}^{\\infty}\\left[h(\\tau)\\right|\\,d\\tau \\lt \\infty$$"
   ]
  },
  {
   "cell_type": "markdown",
   "id": "eb14630d",
   "metadata": {
    "slideshow": {
     "slide_type": "slide"
    }
   },
   "source": [
    "(eigenfunctions_of_continuous_time_LTI_systems)=\n",
    "## Eigenfunctions of Continuous-Time LTI Systems\n",
    "\n",
    "In Chapter [Systems and Classification of Systems\n",
    "](/systems_and_signals/signals_and_systems/systems/index) (Example {ref}`ex4_7`) we saw that the eigenfunctions of continuous-time LTI system represented by the complex exponentials $e^{st}$, with $s$ a complex variable."
   ]
  },
  {
   "cell_type": "markdown",
   "id": "84d3eb11",
   "metadata": {
    "slideshow": {
     "slide_type": "fragment"
    }
   },
   "source": [
    "That is\n",
    "\n",
    "$$\\mathbf{T}\\left\\{e^{st}\\right\\}=\\lambda e^{st}$$\n",
    "\n",
    "where $\\lambda$ is the eigenvalue of $\\mathbf{T}$ associated with $e^{st}$."
   ]
  },
  {
   "cell_type": "markdown",
   "id": "7638a5ba",
   "metadata": {
    "slideshow": {
     "slide_type": "subslide"
    }
   },
   "source": [
    "Setting $x(t)=e^{st}$ in the convolution integral, we have\n",
    "\n",
    "$$y(t) = \\mathbf{T}\\left\\{e^{st}\\right\\}$$"
   ]
  },
  {
   "cell_type": "markdown",
   "id": "b32dd983",
   "metadata": {
    "slideshow": {
     "slide_type": "fragment"
    }
   },
   "source": [
    "$$y(t) = \\int_{-\\infty}^{\\infty}h(\\tau)e^{s(t-\\tau)}\\,d\\tau$$"
   ]
  },
  {
   "cell_type": "markdown",
   "id": "05695bde",
   "metadata": {
    "slideshow": {
     "slide_type": "fragment"
    }
   },
   "source": [
    "$$y(t) = \\left[\\int_{-\\infty}^{\\infty}h(\\tau)e^{-s\\tau}\\,d\\tau\\right]e^{st}$$"
   ]
  },
  {
   "cell_type": "markdown",
   "id": "60a7659f",
   "metadata": {
    "slideshow": {
     "slide_type": "fragment"
    }
   },
   "source": [
    "$$y(t) = H(s)e^{st} = \\lambda e^{st}$$"
   ]
  },
  {
   "cell_type": "markdown",
   "id": "df91cd72",
   "metadata": {
    "slideshow": {
     "slide_type": "subslide"
    }
   },
   "source": [
    "where \n",
    "\n",
    "$$\\lambda = H(s) = \\int_{-\\infty}^{\\infty}h(\\tau)e^{-s\\tau}\\,d\\tau$$"
   ]
  },
  {
   "cell_type": "markdown",
   "id": "298fa3f6",
   "metadata": {
    "slideshow": {
     "slide_type": "subslide"
    }
   },
   "source": [
    "Thus, the eigenvalue of a continuous-time LTI system associated with the eigenfunction $e^{st}$ is given by $H(s)$ which is a complex constant whose value is determined by the value of $s$ via the equation\n",
    "\n",
    "$$H(s) = \\int_{-\\infty}^{\\infty}h(\\tau)e^{-s\\tau}\\,d\\tau.$$"
   ]
  },
  {
   "cell_type": "markdown",
   "id": "e1c40256",
   "metadata": {
    "slideshow": {
     "slide_type": "notes"
    }
   },
   "source": [
    "Note from the equation\n",
    "\n",
    "$$y(t) = H(s)e^{st}$$\n",
    "\n",
    "that $y(0) = H(s)$ (see {ref}`ex:6_6`)."
   ]
  },
  {
   "cell_type": "markdown",
   "id": "34e14998",
   "metadata": {
    "slideshow": {
     "slide_type": "subslide"
    }
   },
   "source": [
    "### Looking Ahead\n",
    "The above results inderline the definition of the Laplace transform and Fourier transform. The [Laplace Transform](laplace_transform/1/laplace.md) will be discussed later in this course. The Fourier Transform will be introduced in **EG-247 Digital Signal Processing** next year."
   ]
  },
  {
   "cell_type": "markdown",
   "id": "8196ae75",
   "metadata": {
    "slideshow": {
     "slide_type": "slide"
    }
   },
   "source": [
    "(examples_6)=\n",
    "## Examples 6"
   ]
  },
  {
   "cell_type": "markdown",
   "id": "e1646b9a",
   "metadata": {
    "slideshow": {
     "slide_type": "subslide"
    }
   },
   "source": [
    "(ex6_1)=\n",
    "### Example 6.1 \n",
    "\n",
    "Verify the following properties of the convolution integral; that is,\n",
    "\n",
    "(a) $x(t)*h(t) = h(t)*x(t)$\n",
    "\n",
    "(b) $\\left\\{x(t) * h_1(t)\\right\\} * h_2(t) = x(t)*\\left\\{h_1(t) * h_2(t)\\right\\}$"
   ]
  },
  {
   "cell_type": "markdown",
   "id": "f7fa2ec1",
   "metadata": {
    "slideshow": {
     "slide_type": "notes"
    }
   },
   "source": [
    "For the answer, refer to the lecture recording or see solved problem 2.1 in in {cite}schaum."
   ]
  },
  {
   "cell_type": "markdown",
   "id": "8ce9dae5",
   "metadata": {
    "slideshow": {
     "slide_type": "subslide"
    }
   },
   "source": [
    "(ex6_2)=\n",
    "### Example 6.2"
   ]
  },
  {
   "cell_type": "markdown",
   "id": "7dc2864d",
   "metadata": {
    "slideshow": {
     "slide_type": "notes"
    }
   },
   "source": [
    "For the answer, refer to the lecture recording or see solved problem 2.2 in in {cite}schaum."
   ]
  },
  {
   "cell_type": "markdown",
   "id": "bfaf90ba",
   "metadata": {
    "slideshow": {
     "slide_type": "subslide"
    }
   },
   "source": [
    "(ex6_3)=\n",
    "### Example 6.3"
   ]
  },
  {
   "cell_type": "markdown",
   "id": "80006fc3",
   "metadata": {
    "slideshow": {
     "slide_type": "notes"
    }
   },
   "source": [
    "For the answer, refer to the lecture recording or see solved problem 2.3 in in {cite}schaum."
   ]
  },
  {
   "cell_type": "markdown",
   "id": "4cfd5881",
   "metadata": {
    "slideshow": {
     "slide_type": "subslide"
    }
   },
   "source": [
    "(ex6_4)=\n",
    "### Example 6.4"
   ]
  },
  {
   "cell_type": "markdown",
   "id": "c1bb82bc",
   "metadata": {
    "slideshow": {
     "slide_type": "notes"
    }
   },
   "source": [
    "For the answer, refer to the lecture recording or see solved problem 2.4 in in {cite}schaum."
   ]
  },
  {
   "cell_type": "markdown",
   "id": "d5e2ab00",
   "metadata": {
    "slideshow": {
     "slide_type": "subslide"
    }
   },
   "source": [
    "(ex6_5)=\n",
    "### Example 6.5"
   ]
  },
  {
   "cell_type": "markdown",
   "id": "ceaca75e",
   "metadata": {
    "slideshow": {
     "slide_type": "notes"
    }
   },
   "source": [
    "For the answer, refer to the lecture recording or see solved problem 2.5 in {cite}schaum."
   ]
  },
  {
   "cell_type": "markdown",
   "id": "8e50408a",
   "metadata": {
    "slideshow": {
     "slide_type": "subslide"
    }
   },
   "source": [
    "(ex6_6)=\n",
    "### Example 6.6"
   ]
  },
  {
   "cell_type": "markdown",
   "id": "43425f59",
   "metadata": {
    "slideshow": {
     "slide_type": "notes"
    }
   },
   "source": [
    "For the answer, refer to the lecture recording or see solved problem 2.6 in {cite}schaum."
   ]
  },
  {
   "cell_type": "markdown",
   "id": "aec514cb",
   "metadata": {
    "slideshow": {
     "slide_type": "slide"
    }
   },
   "source": [
    "## Summary\n",
    "\n",
    "In this lecture we have started our look at LTI systems.\n",
    "\n",
    "In particular we have looked at\n",
    "\n",
    "* {ref}`Response_of_a_Continuous_Time_LTI_System_and_the_Convolution_Integral`"
   ]
  },
  {
   "cell_type": "markdown",
   "id": "beafad28",
   "metadata": {
    "slideshow": {
     "slide_type": "slide"
    }
   },
   "source": [
    "## Summary\n",
    "\n",
    "* {ref}`Properties_of_Continuous_Time_LTI_Systems`\n",
    "* {ref}`eigenfunctions_of_continuous_time_LTI_systems`"
   ]
  },
  {
   "cell_type": "markdown",
   "id": "646974a4",
   "metadata": {
    "slideshow": {
     "slide_type": "slide"
    }
   },
   "source": [
    "## Next Time\n",
    "\n",
    "* {ref}`Systems_Described_by_Differential_Equations`"
   ]
  },
  {
   "cell_type": "markdown",
   "id": "c0d01de3",
   "metadata": {
    "slideshow": {
     "slide_type": "slide"
    }
   },
   "source": [
    "(Systems_Described_by_Differential_Equations)=\n",
    "## Systems Described by Differential Equations"
   ]
  },
  {
   "cell_type": "markdown",
   "id": "43ab3360",
   "metadata": {
    "slideshow": {
     "slide_type": "slide"
    }
   },
   "source": [
    "## Worked Solutions"
   ]
  },
  {
   "cell_type": "markdown",
   "id": "edc471e5",
   "metadata": {
    "slideshow": {
     "slide_type": "slide"
    }
   },
   "source": [
    "## Homework Problems"
   ]
  },
  {
   "cell_type": "markdown",
   "id": "69b4ec88",
   "metadata": {
    "slideshow": {
     "slide_type": "slide"
    }
   },
   "source": [
    "## Lab Exercises"
   ]
  },
  {
   "cell_type": "markdown",
   "id": "1fdc5e2e",
   "metadata": {
    "slideshow": {
     "slide_type": "slide"
    }
   },
   "source": [
    "## Summary\n",
    "\n",
    "In this lecture we have started our look at LTI systems.\n",
    "\n",
    "In particular we have looked at\n",
    "\n",
    "* {ref}`Response_of_a_Continuous_Time_LTI_System_and_the_Convolution_Integral`\n",
    "* {ref}`examples_5_Responses_of_a_Continuous-Time_LTI_System_and_Convolution)`\n",
    "* {ref}`Properties_of_Continuous_Time_LTI_Systems`\n",
    "* {ref}`eigenfunctions_of_continuous_time_LTI_systems`\n",
    "* {ref}`Systems_Described_by_Differential_Equations`"
   ]
  }
 ],
 "metadata": {
  "jupytext": {
   "formats": "ipynb,md:myst",
   "text_representation": {
    "extension": ".md",
    "format_name": "myst",
    "format_version": 0.13,
    "jupytext_version": "1.14.0"
   }
  },
  "kernelspec": {
   "display_name": "Matlab",
   "language": "matlab",
   "name": "matlab"
  },
  "language_info": {
   "codemirror_mode": "octave",
   "file_extension": ".m",
   "help_links": [
    {
     "text": "MetaKernel Magics",
     "url": "https://metakernel.readthedocs.io/en/latest/source/README.html"
    }
   ],
   "mimetype": "text/x-octave",
   "name": "matlab",
   "version": "0.17.1"
  },
  "source_map": [
   15,
   22,
   30,
   39,
   44,
   52,
   58,
   62,
   72,
   78,
   84,
   94,
   98,
   111,
   117,
   126,
   134,
   142,
   148,
   152,
   156,
   160,
   166,
   172,
   180,
   185,
   190,
   201,
   205,
   210,
   214,
   219,
   223,
   228,
   232,
   237,
   241,
   246,
   250,
   260,
   267,
   273,
   278,
   282,
   286,
   290
  ]
 },
 "nbformat": 4,
 "nbformat_minor": 5
}