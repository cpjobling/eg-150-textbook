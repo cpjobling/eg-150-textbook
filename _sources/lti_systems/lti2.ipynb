{
 "cells": [
  {
   "cell_type": "markdown",
   "id": "af1e1113",
   "metadata": {
    "slideshow": {
     "slide_type": "slide"
    }
   },
   "source": [
    "(lti_systems)=\n",
    "# Properties and Eigenfunctions of Continuous-Time LTI Systems\n",
    "\n",
    "This section is based on Sections 2.3 and 2.4 of {cite}`schaum`"
   ]
  },
  {
   "cell_type": "markdown",
   "id": "b0b9016b",
   "metadata": {
    "slideshow": {
     "slide_type": "slide"
    }
   },
   "source": [
    "## Subjects to be covered\n",
    "\n",
    "* {ref}`Properties_of_Continuous_Time_LTI_Systems`\n",
    "* {ref}`eigenfunctions_of_continuous_time_LTI_systems`\n",
    "* {ref}`examples_6`"
   ]
  },
  {
   "cell_type": "markdown",
   "id": "ec496e32",
   "metadata": {
    "slideshow": {
     "slide_type": "slide"
    }
   },
   "source": [
    "(Properties_of_Continuous_Time_LTI_Systems)=\n",
    "## Properties of Continuous-Time LTI Systems\n",
    "\n",
    "* {ref}`a_systems_with_and_without_memory`\n",
    "* {ref}`b_causality`\n",
    "* {ref}`c_Stability`"
   ]
  },
  {
   "cell_type": "markdown",
   "id": "91ad750d",
   "metadata": {
    "slideshow": {
     "slide_type": "slide"
    }
   },
   "source": [
    "(a_systems_with_and_without_memory)=\n",
    "### A. Systems with or without memory"
   ]
  },
  {
   "cell_type": "markdown",
   "id": "b1caec98",
   "metadata": {
    "slideshow": {
     "slide_type": "fragment"
    }
   },
   "source": [
    "Since the output $y(t)$ of a memoryless system depends only on the current input $x(t)$, then, if the system is also linear and time-invariant, this relationship can only be of the form\n",
    "\n",
    "$$y(t) = Kx(t)$$\n",
    "\n",
    "where $K$ is a (gain) constant."
   ]
  },
  {
   "cell_type": "markdown",
   "id": "b2b1de92",
   "metadata": {
    "slideshow": {
     "slide_type": "subslide"
    }
   },
   "source": [
    "Thus the corresponding impulse response $h(t)$ is simply\n",
    "\n",
    "$$h(t) = K\\delta(t)$$"
   ]
  },
  {
   "cell_type": "markdown",
   "id": "97862240",
   "metadata": {
    "slideshow": {
     "slide_type": "fragment"
    }
   },
   "source": [
    "Therefore, if $h(t_0) \\neq 0$ for $t_0 \\neq 0$, then the continuous-time LTI system has memory."
   ]
  },
  {
   "cell_type": "markdown",
   "id": "b88b296a",
   "metadata": {
    "slideshow": {
     "slide_type": "slide"
    }
   },
   "source": [
    "(b_causality)=\n",
    "### B. Causality\n",
    "\n",
    "(causal_systems)=\n",
    "#### Causal continuous-time LTI systems\n",
    "\n",
    "As discussed in Section {ref}`causal_and_non-causal_systems`, a causal system does not respond to an input event until that event actually occurs."
   ]
  },
  {
   "cell_type": "markdown",
   "id": "8515488b",
   "metadata": {
    "slideshow": {
     "slide_type": "fragment"
    }
   },
   "source": [
    "Therefore, for a causal LTI system, we have\n",
    "\n",
    "$$h(t) = 0\\quad t \\lt 0$$"
   ]
  },
  {
   "cell_type": "markdown",
   "id": "ae8c3f29",
   "metadata": {
    "slideshow": {
     "slide_type": "subslide"
    }
   },
   "source": [
    "Applying the causality condition to the convolution integral, the output of a causal continuous-time LTI system is expressed as\n",
    "\n",
    "$$y(t) = \\int_0^{\\infty}h(\\tau)x(t=\\tau)\\,d\\tau$$"
   ]
  },
  {
   "cell_type": "markdown",
   "id": "138f6501",
   "metadata": {
    "slideshow": {
     "slide_type": "subslide"
    }
   },
   "source": [
    "Alternatively, applying the causality to the convolution integral (defined in Section {ref}`convolution_integral`)\n",
    "\n",
    "$$y(t) = \\int_{-\\infty}^{\\infty}x(t)h(t-\\tau)\\,d\\tau$$\n",
    "\n",
    "we have\n",
    "\n",
    "$$y(t) = \\int_{-\\infty}^{t}x(t)h(t-\\tau)\\,d\\tau$$"
   ]
  },
  {
   "cell_type": "markdown",
   "id": "e1608fdd",
   "metadata": {
    "slideshow": {
     "slide_type": "fragment"
    }
   },
   "source": [
    "This equation shows that the only values of the input $x(t)$ used to evaluate the output $y(t)$ are those for $\\tau \\le   t$."
   ]
  },
  {
   "cell_type": "markdown",
   "id": "d4dafdbe",
   "metadata": {
    "slideshow": {
     "slide_type": "subslide"
    }
   },
   "source": [
    "(causal_signals)=\n",
    "#### Causal signals\n",
    "\n",
    "Based on the causality condition, any signal is called *causal* if\n",
    "\n",
    "$$x(t)=0\\quad t \\lt 0$$\n",
    "\n",
    "and is called *anticausal* if\n",
    "\n",
    "$$x(t)=0\\quad t \\gt 0$$"
   ]
  },
  {
   "cell_type": "markdown",
   "id": "5106d9e0",
   "metadata": {
    "slideshow": {
     "slide_type": "subslide"
    }
   },
   "source": [
    "Combining the definition of a causal signal with a causal signal, when the input $x(t)$ is causal, the output of a causal continuous-time LTI system is given by\n",
    "\n",
    "$$y(t) = \\int_{0}^{t}h(t)x(t-\\tau)\\,d\\tau =  \\int_{0}^{t}x(t)h(t-\\tau)\\,d\\tau$$"
   ]
  },
  {
   "cell_type": "markdown",
   "id": "c878c1f7",
   "metadata": {
    "slideshow": {
     "slide_type": "slide"
    }
   },
   "source": [
    "(c_Stability)=\n",
    "### C. Stability\n",
    "\n",
    "The BIBO (bounded-input/bounder-output) stability of an LTI system (Section {ref}`stable_systems`) is readily acertined by the impuse response. It can be shown (Example 6.x) that a continuous-time LTI system is BIBO stable if its  impulse response is absolutely integrable; that is,\n",
    "\n",
    "$$\\int_{-\\infty}^{\\infty}\\left[h(\\tau)\\right|\\,d\\tau \\lt \\infty$$"
   ]
  },
  {
   "cell_type": "markdown",
   "id": "72da02fe",
   "metadata": {
    "slideshow": {
     "slide_type": "slide"
    }
   },
   "source": [
    "(eigenfunctions_of_continuous_time_LTI_systems)=\n",
    "## Eigenfunctions of Continuous-Time LTI Systems\n",
    "\n",
    "Refers to Example {ref}`ex4_7`"
   ]
  },
  {
   "cell_type": "markdown",
   "id": "004438da",
   "metadata": {
    "slideshow": {
     "slide_type": "slide"
    }
   },
   "source": [
    "(examples_6)=\n",
    "## Examples 6"
   ]
  },
  {
   "cell_type": "markdown",
   "id": "c6d0b3bf",
   "metadata": {
    "slideshow": {
     "slide_type": "subslide"
    }
   },
   "source": [
    "(ex6_1)=\n",
    "### Example 6.1 \n",
    "\n",
    "Verify the following properties of the convolution integral; that is,\n",
    "\n",
    "(a) $x(t)*h(t) = h(t)*x(t)$\n",
    "\n",
    "(b) $\\left\\{x(t) * h_1(t)\\right\\} * h_2(t) = x(t)*\\left\\{h_1(t) * h_2(t)\\right\\}$"
   ]
  },
  {
   "cell_type": "markdown",
   "id": "975796b0",
   "metadata": {
    "slideshow": {
     "slide_type": "notes"
    }
   },
   "source": [
    "For the answer, refer to the lecture recording or see solved problem 2.1 in in {cite}schaum."
   ]
  },
  {
   "cell_type": "markdown",
   "id": "c0995bec",
   "metadata": {
    "slideshow": {
     "slide_type": "subslide"
    }
   },
   "source": [
    "(ex6_2)=\n",
    "### Example 6.2"
   ]
  },
  {
   "cell_type": "markdown",
   "id": "4fcff9b3",
   "metadata": {
    "slideshow": {
     "slide_type": "notes"
    }
   },
   "source": [
    "For the answer, refer to the lecture recording or see solved problem 2.2 in in {cite}schaum."
   ]
  },
  {
   "cell_type": "markdown",
   "id": "6e32a78f",
   "metadata": {
    "slideshow": {
     "slide_type": "subslide"
    }
   },
   "source": [
    "(ex6_3)=\n",
    "### Example 6.3"
   ]
  },
  {
   "cell_type": "markdown",
   "id": "cbcbd925",
   "metadata": {
    "slideshow": {
     "slide_type": "notes"
    }
   },
   "source": [
    "For the answer, refer to the lecture recording or see solved problem 2.3 in in {cite}schaum."
   ]
  },
  {
   "cell_type": "markdown",
   "id": "09b3342c",
   "metadata": {
    "slideshow": {
     "slide_type": "subslide"
    }
   },
   "source": [
    "(ex6_4)=\n",
    "### Example 6.4"
   ]
  },
  {
   "cell_type": "markdown",
   "id": "9c030563",
   "metadata": {
    "slideshow": {
     "slide_type": "notes"
    }
   },
   "source": [
    "For the answer, refer to the lecture recording or see solved problem 2.4 in in {cite}schaum."
   ]
  },
  {
   "cell_type": "markdown",
   "id": "c6808862",
   "metadata": {
    "slideshow": {
     "slide_type": "subslide"
    }
   },
   "source": [
    "(ex6_5)=\n",
    "### Example 6.5"
   ]
  },
  {
   "cell_type": "markdown",
   "id": "d5630a92",
   "metadata": {
    "slideshow": {
     "slide_type": "notes"
    }
   },
   "source": [
    "For the answer, refer to the lecture recording or see solved problem 2.5 in {cite}schaum."
   ]
  },
  {
   "cell_type": "markdown",
   "id": "3a2443e7",
   "metadata": {
    "slideshow": {
     "slide_type": "subslide"
    }
   },
   "source": [
    "(ex6_6)=\n",
    "### Example 6.6"
   ]
  },
  {
   "cell_type": "markdown",
   "id": "d933ee7f",
   "metadata": {
    "slideshow": {
     "slide_type": "notes"
    }
   },
   "source": [
    "For the answer, refer to the lecture recording or see solved problem 2.6 in {cite}schaum."
   ]
  },
  {
   "cell_type": "markdown",
   "id": "14499b9e",
   "metadata": {
    "slideshow": {
     "slide_type": "slide"
    }
   },
   "source": [
    "## Summary\n",
    "\n",
    "In this lecture we have started our look at LTI systems.\n",
    "\n",
    "In particular we have looked at\n",
    "\n",
    "* {ref}`Response_of_a_Continuous_Time_LTI_System_and_the_Convolution_Integral`"
   ]
  },
  {
   "cell_type": "markdown",
   "id": "b3eaccc3",
   "metadata": {
    "slideshow": {
     "slide_type": "slide"
    }
   },
   "source": [
    "## Summary\n",
    "\n",
    "* {ref}`Properties_of_Continuous_Time_LTI_Systems`\n",
    "* {ref}`eigenfunctions_of_continuous_time_LTI_systems`"
   ]
  },
  {
   "cell_type": "markdown",
   "id": "711fa288",
   "metadata": {
    "slideshow": {
     "slide_type": "slide"
    }
   },
   "source": [
    "## Next Time\n",
    "\n",
    "* {ref}`Systems_Described_by_Differential_Equations`"
   ]
  },
  {
   "cell_type": "markdown",
   "id": "37e07d3f",
   "metadata": {
    "slideshow": {
     "slide_type": "slide"
    }
   },
   "source": [
    "(Systems_Described_by_Differential_Equations)=\n",
    "## Systems Described by Differential Equations"
   ]
  },
  {
   "cell_type": "markdown",
   "id": "e3d03f71",
   "metadata": {
    "slideshow": {
     "slide_type": "slide"
    }
   },
   "source": [
    "## Worked Solutions"
   ]
  },
  {
   "cell_type": "markdown",
   "id": "11a1bf55",
   "metadata": {
    "slideshow": {
     "slide_type": "slide"
    }
   },
   "source": [
    "## Homework Problems"
   ]
  },
  {
   "cell_type": "markdown",
   "id": "759d3f97",
   "metadata": {
    "slideshow": {
     "slide_type": "slide"
    }
   },
   "source": [
    "## Lab Exercises"
   ]
  },
  {
   "cell_type": "markdown",
   "id": "40f5974e",
   "metadata": {
    "slideshow": {
     "slide_type": "slide"
    }
   },
   "source": [
    "## Summary\n",
    "\n",
    "In this lecture we have started our look at LTI systems.\n",
    "\n",
    "In particular we have looked at\n",
    "\n",
    "* {ref}`Response_of_a_Continuous_Time_LTI_System_and_the_Convolution_Integral`\n",
    "* {ref}`examples_5_Responses_of_a_Continuous-Time_LTI_System_and_Convolution)`\n",
    "* {ref}`Properties_of_Continuous_Time_LTI_Systems`\n",
    "* {ref}`eigenfunctions_of_continuous_time_LTI_systems`\n",
    "* {ref}`Systems_Described_by_Differential_Equations`"
   ]
  }
 ],
 "metadata": {
  "jupytext": {
   "formats": "ipynb,md:myst",
   "text_representation": {
    "extension": ".md",
    "format_name": "myst",
    "format_version": 0.13,
    "jupytext_version": "1.14.0"
   }
  },
  "kernelspec": {
   "display_name": "Matlab",
   "language": "matlab",
   "name": "matlab"
  },
  "language_info": {
   "codemirror_mode": "octave",
   "file_extension": ".m",
   "help_links": [
    {
     "text": "MetaKernel Magics",
     "url": "https://metakernel.readthedocs.io/en/latest/source/README.html"
    }
   ],
   "mimetype": "text/x-octave",
   "name": "matlab",
   "version": "0.17.1"
  },
  "source_map": [
   15,
   22,
   30,
   39,
   44,
   52,
   58,
   62,
   72,
   78,
   84,
   94,
   98,
   111,
   117,
   126,
   133,
   138,
   149,
   153,
   158,
   162,
   167,
   171,
   176,
   180,
   185,
   189,
   194,
   198,
   208,
   215,
   221,
   226,
   230,
   234,
   238
  ]
 },
 "nbformat": 4,
 "nbformat_minor": 5
}