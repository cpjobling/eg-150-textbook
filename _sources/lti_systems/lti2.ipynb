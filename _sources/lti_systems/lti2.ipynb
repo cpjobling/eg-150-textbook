{
 "cells": [
  {
   "cell_type": "markdown",
   "id": "d8f263a0",
   "metadata": {
    "slideshow": {
     "slide_type": "slide"
    }
   },
   "source": [
    "(lti_systems)=\n",
    "# Properties and Eigenfunctions of Continuous-Time LTI Systems\n",
    "\n",
    "This section is based on Sections 2.3 and 2.4 of {cite}`schaum` \n",
    "\n",
    "\n",
    "## Introduction\n",
    "\n",
    "Two most important attributes of systems are linearity and time invariance. In this chapter we develop the fundamental input-output relationship for systems having these attributes. It will be shown that the input output-relationship for LTI systems is described in terms of a convolution operation. The importance of the convolution operation in LTI systems stems from the fact that the knowledge of the system response and LTI system to the unit impulse response allows us to find its output to any input signals. Specifying the input-output relationships for LTI systems by differential equations will also be discussed."
   ]
  },
  {
   "cell_type": "markdown",
   "id": "ab4cbeea",
   "metadata": {
    "slideshow": {
     "slide_type": "notes"
    }
   },
   "source": [
    "We will discuss specifying the input-output relationsships for discrete-time systems will be covered in **EG-247 Digital Signal Processing** next year."
   ]
  },
  {
   "cell_type": "markdown",
   "id": "07e319c8",
   "metadata": {
    "slideshow": {
     "slide_type": "slide"
    }
   },
   "source": [
    "## Subjects to be covered\n",
    "\n",
    "* {ref}`Properties_of_Continuous_Time_LTI_Systems`\n",
    "* {ref}`eigenfunctions_of_continuous_time_LTI_systems`\n",
    "* {ref}`examples_6`"
   ]
  },
  {
   "cell_type": "markdown",
   "id": "f88b59f8",
   "metadata": {
    "slideshow": {
     "slide_type": "slide"
    }
   },
   "source": [
    "(Properties_of_Continuous_Time_LTI_Systems)=\n",
    "## Properties of Continuous-Time LTI Systems"
   ]
  },
  {
   "cell_type": "markdown",
   "id": "fd295781",
   "metadata": {
    "slideshow": {
     "slide_type": "slide"
    }
   },
   "source": [
    "(eigenfunctions_of_continuous_time_LTI_systems)=\n",
    "## Eigenfunctions of Continuous-Time LTI Systems"
   ]
  },
  {
   "cell_type": "markdown",
   "id": "7e4ecd6a",
   "metadata": {
    "slideshow": {
     "slide_type": "slide"
    }
   },
   "source": [
    "(examples_6)=\n",
    "## Examples 6"
   ]
  },
  {
   "cell_type": "markdown",
   "id": "ec764eb1",
   "metadata": {
    "slideshow": {
     "slide_type": "subslide"
    }
   },
   "source": [
    "(ex6_1)=\n",
    "### Example 6.1 \n",
    "\n",
    "Verify the following properties of the convolution integral; that is,\n",
    "\n",
    "(a) $x(t)*h(t) = h(t)*x(t)$\n",
    "\n",
    "(b) $\\left\\{x(t) * h_1(t)\\right\\} * h_2(t) = x(t)*\\left\\{h_1(t) * h_2(t)\\right\\}$"
   ]
  },
  {
   "cell_type": "markdown",
   "id": "71f94cca",
   "metadata": {
    "slideshow": {
     "slide_type": "notes"
    }
   },
   "source": [
    "For the answer, refer to the lecture recording or see solved problem 2.1 in in {cite}schaum."
   ]
  },
  {
   "cell_type": "markdown",
   "id": "449e623b",
   "metadata": {
    "slideshow": {
     "slide_type": "subslide"
    }
   },
   "source": [
    "(ex6_2)=\n",
    "### Example 6.2"
   ]
  },
  {
   "cell_type": "markdown",
   "id": "5e41deca",
   "metadata": {
    "slideshow": {
     "slide_type": "notes"
    }
   },
   "source": [
    "For the answer, refer to the lecture recording or see solved problem 2.2 in in {cite}schaum."
   ]
  },
  {
   "cell_type": "markdown",
   "id": "e42f7161",
   "metadata": {
    "slideshow": {
     "slide_type": "subslide"
    }
   },
   "source": [
    "(ex6_3)=\n",
    "### Example 6.3"
   ]
  },
  {
   "cell_type": "markdown",
   "id": "c6c75c57",
   "metadata": {
    "slideshow": {
     "slide_type": "notes"
    }
   },
   "source": [
    "For the answer, refer to the lecture recording or see solved problem 2.3 in in {cite}schaum."
   ]
  },
  {
   "cell_type": "markdown",
   "id": "3e87988b",
   "metadata": {
    "slideshow": {
     "slide_type": "subslide"
    }
   },
   "source": [
    "(ex6_4)=\n",
    "### Example 6.4"
   ]
  },
  {
   "cell_type": "markdown",
   "id": "08911e80",
   "metadata": {
    "slideshow": {
     "slide_type": "notes"
    }
   },
   "source": [
    "For the answer, refer to the lecture recording or see solved problem 2.4 in in {cite}schaum."
   ]
  },
  {
   "cell_type": "markdown",
   "id": "b10035b0",
   "metadata": {
    "slideshow": {
     "slide_type": "subslide"
    }
   },
   "source": [
    "(ex6_5)=\n",
    "### Example 6.5"
   ]
  },
  {
   "cell_type": "markdown",
   "id": "17371c6b",
   "metadata": {
    "slideshow": {
     "slide_type": "notes"
    }
   },
   "source": [
    "For the answer, refer to the lecture recording or see solved problem 2.5 in {cite}schaum."
   ]
  },
  {
   "cell_type": "markdown",
   "id": "64ba3a74",
   "metadata": {
    "slideshow": {
     "slide_type": "subslide"
    }
   },
   "source": [
    "(ex6_6)=\n",
    "### Example 6.6"
   ]
  },
  {
   "cell_type": "markdown",
   "id": "a63100f9",
   "metadata": {
    "slideshow": {
     "slide_type": "notes"
    }
   },
   "source": [
    "For the answer, refer to the lecture recording or see solved problem 2.6 in {cite}schaum."
   ]
  },
  {
   "cell_type": "markdown",
   "id": "3520f637",
   "metadata": {
    "slideshow": {
     "slide_type": "slide"
    }
   },
   "source": [
    "## Summary\n",
    "\n",
    "In this lecture we have started our look at LTI systems.\n",
    "\n",
    "In particular we have looked at\n",
    "\n",
    "* {ref}`Response_of_a_Continuous_Time_LTI_System_and_the_Convolution_Integral`"
   ]
  },
  {
   "cell_type": "markdown",
   "id": "b850d786",
   "metadata": {
    "slideshow": {
     "slide_type": "slide"
    }
   },
   "source": [
    "## Summary\n",
    "\n",
    "* {ref}`Properties_of_Continuous_Time_LTI_Systems`\n",
    "* {ref}`eigenfunctions_of_continuous_time_LTI_systems`"
   ]
  },
  {
   "cell_type": "markdown",
   "id": "9b509f95",
   "metadata": {
    "slideshow": {
     "slide_type": "slide"
    }
   },
   "source": [
    "## Next Time\n",
    "\n",
    "* {ref}`Systems_Described_by_Differential_Equations`"
   ]
  },
  {
   "cell_type": "markdown",
   "id": "f4f08a42",
   "metadata": {
    "slideshow": {
     "slide_type": "slide"
    }
   },
   "source": [
    "(Systems_Described_by_Differential_Equations)=\n",
    "## Systems Described by Differential Equations"
   ]
  },
  {
   "cell_type": "markdown",
   "id": "034f3977",
   "metadata": {
    "slideshow": {
     "slide_type": "slide"
    }
   },
   "source": [
    "## Worked Solutions"
   ]
  },
  {
   "cell_type": "markdown",
   "id": "c5e6a9f9",
   "metadata": {
    "slideshow": {
     "slide_type": "slide"
    }
   },
   "source": [
    "## Homework Problems"
   ]
  },
  {
   "cell_type": "markdown",
   "id": "0cb81db9",
   "metadata": {
    "slideshow": {
     "slide_type": "slide"
    }
   },
   "source": [
    "## Lab Exercises"
   ]
  },
  {
   "cell_type": "markdown",
   "id": "4cccef29",
   "metadata": {
    "slideshow": {
     "slide_type": "slide"
    }
   },
   "source": [
    "## Summary\n",
    "\n",
    "In this lecture we have started our look at LTI systems.\n",
    "\n",
    "In particular we have looked at\n",
    "\n",
    "* {ref}`Response_of_a_Continuous_Time_LTI_System_and_the_Convolution_Integral`\n",
    "* {ref}`examples_5_Responses_of_a_Continuous-Time_LTI_System_and_Convolution)`\n",
    "* {ref}`Properties_of_Continuous_Time_LTI_Systems`\n",
    "* {ref}`eigenfunctions_of_continuous_time_LTI_systems`\n",
    "* {ref}`Systems_Described_by_Differential_Equations`"
   ]
  }
 ],
 "metadata": {
  "jupytext": {
   "formats": "ipynb,md:myst",
   "text_representation": {
    "extension": ".md",
    "format_name": "myst",
    "format_version": 0.13,
    "jupytext_version": "1.14.0"
   }
  },
  "kernelspec": {
   "display_name": "Matlab",
   "language": "matlab",
   "name": "matlab"
  },
  "language_info": {
   "codemirror_mode": "octave",
   "file_extension": ".m",
   "help_links": [
    {
     "text": "MetaKernel Magics",
     "url": "https://metakernel.readthedocs.io/en/latest/source/README.html"
    }
   ],
   "mimetype": "text/x-octave",
   "name": "matlab",
   "version": "0.17.1"
  },
  "source_map": [
   15,
   27,
   31,
   39,
   44,
   49,
   54,
   65,
   69,
   74,
   78,
   83,
   87,
   92,
   96,
   101,
   105,
   110,
   114,
   124,
   131,
   137,
   142,
   146,
   150,
   154
  ]
 },
 "nbformat": 4,
 "nbformat_minor": 5
}