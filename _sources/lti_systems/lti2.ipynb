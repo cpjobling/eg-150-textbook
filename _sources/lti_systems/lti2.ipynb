{
 "cells": [
  {
   "cell_type": "markdown",
   "id": "a2760283",
   "metadata": {
    "slideshow": {
     "slide_type": "slide"
    }
   },
   "source": [
    "(lti_systems)=\n",
    "# Unit 3.2: Properties and Eigenfunctions of Continuous-Time LTI Systems\n",
    "\n",
    "This section is based on Sections 2.3 and 2.4 of {cite}`schaum`"
   ]
  },
  {
   "cell_type": "markdown",
   "id": "7f4d9ebd",
   "metadata": {
    "slideshow": {
     "slide_type": "subslide"
    }
   },
   "source": [
    "Follow along at [cpjobling.github.io/eg-150-textbook/lti_systems/lti2](https://cpjobling.github.io/eg-150-textbook/lti_systems/lti2)\n",
    "\n",
    "![QR Code for this lecture](pictures/qrcode_lti2.png)"
   ]
  },
  {
   "cell_type": "markdown",
   "id": "d9d80813",
   "metadata": {
    "slideshow": {
     "slide_type": "notes"
    }
   },
   "source": [
    "## Subjects to be covered\n",
    "\n",
    "We continue our introduction to continuous-time LTI systems by considering:\n",
    "\n",
    "* {ref}`Properties_of_Continuous_Time_LTI_Systems`\n",
    "* {ref}`eigenfunctions_of_continuous_time_LTI_systems`\n",
    "* {ref}`examples_6`\n",
    "* {ref}`examples_7`"
   ]
  },
  {
   "cell_type": "markdown",
   "id": "e7afc668",
   "metadata": {
    "slideshow": {
     "slide_type": "slide"
    }
   },
   "source": [
    "(Properties_of_Continuous_Time_LTI_Systems)=\n",
    "## Properties of Continuous-Time LTI Systems\n",
    "\n",
    "* {ref}`a_systems_with_and_without_memory`\n",
    "* {ref}`b_causality`\n",
    "* {ref}`c_Stability`"
   ]
  },
  {
   "cell_type": "markdown",
   "id": "6470ed68",
   "metadata": {
    "slideshow": {
     "slide_type": "subslide"
    }
   },
   "source": [
    "(a_systems_with_and_without_memory)=\n",
    "### A. Systems with or without memory"
   ]
  },
  {
   "cell_type": "markdown",
   "id": "9987c3cd",
   "metadata": {
    "slideshow": {
     "slide_type": "fragment"
    }
   },
   "source": [
    "Since the output $y(t)$ of a memoryless system depends only on the current input $x(t)$, then, if the system is also linear and time-invariant, this relationship can only be of the form\n",
    "\n",
    "$$y(t) = Kx(t)$$\n",
    "\n",
    "where $K$ is a (gain) constant."
   ]
  },
  {
   "cell_type": "markdown",
   "id": "43cc56ae",
   "metadata": {
    "slideshow": {
     "slide_type": "subslide"
    }
   },
   "source": [
    "Thus the corresponding impulse response $h(t)$ is simply\n",
    "\n",
    "$$h(t) = K\\delta(t)$$"
   ]
  },
  {
   "cell_type": "markdown",
   "id": "c5eda43e",
   "metadata": {
    "slideshow": {
     "slide_type": "fragment"
    }
   },
   "source": [
    "Therefore, if $h(t_0) \\neq 0$ for $t_0 \\neq 0$, then the continuous-time LTI system has memory."
   ]
  },
  {
   "cell_type": "markdown",
   "id": "a0865e33",
   "metadata": {
    "slideshow": {
     "slide_type": "slide"
    }
   },
   "source": [
    "(b_causality)=\n",
    "### B. Causality\n",
    "\n",
    "(causal_systems)=\n",
    "#### Causal continuous-time LTI systems\n",
    "\n",
    "As discussed in Section {ref}`causal_and_non-causal_systems`, a causal system does not respond to an input event until that event actually occurs."
   ]
  },
  {
   "cell_type": "markdown",
   "id": "70f8bb4b",
   "metadata": {
    "slideshow": {
     "slide_type": "fragment"
    }
   },
   "source": [
    "Therefore, for a causal LTI system, we have\n",
    "\n",
    "$$h(t) = 0\\quad t \\lt 0$$"
   ]
  },
  {
   "cell_type": "markdown",
   "id": "82060e92",
   "metadata": {
    "slideshow": {
     "slide_type": "subslide"
    }
   },
   "source": [
    "Applying the causality condition to the convolution integral, the output of a causal continuous-time LTI system is expressed as\n",
    "\n",
    "$$y(t) = \\int_0^{\\infty}h(\\tau)x(t-\\tau)\\,d\\tau$$"
   ]
  },
  {
   "cell_type": "markdown",
   "id": "f172ba35",
   "metadata": {
    "slideshow": {
     "slide_type": "subslide"
    }
   },
   "source": [
    "Alternatively, applying the causality to the convolution integral (defined in Section {ref}`convolution_integral`)\n",
    "\n",
    "$$y(t) = \\int_{-\\infty}^{\\infty}x(\\tau)h(t-\\tau)\\,d\\tau$$\n",
    "\n",
    "we have\n",
    "\n",
    "$$y(t) = \\int_{-\\infty}^{t}x(\\tau)h(t-\\tau)\\,d\\tau$$"
   ]
  },
  {
   "cell_type": "markdown",
   "id": "41f005b9",
   "metadata": {
    "slideshow": {
     "slide_type": "fragment"
    }
   },
   "source": [
    "This equation shows that the only values of the input $x(t)$ used to evaluate the output $y(t)$ are those for $\\tau \\le   t$."
   ]
  },
  {
   "cell_type": "markdown",
   "id": "4b04158b",
   "metadata": {
    "slideshow": {
     "slide_type": "subslide"
    }
   },
   "source": [
    "(causal_signals)=\n",
    "#### Causal signals\n",
    "\n",
    "Based on the causality condition, any signal is called *causal* if\n",
    "\n",
    "$$x(t)=0\\quad t \\lt 0$$\n",
    "\n",
    "and is called *anticausal* if\n",
    "\n",
    "$$x(t)=0\\quad t \\gt 0$$"
   ]
  },
  {
   "cell_type": "markdown",
   "id": "fa4e8e02",
   "metadata": {
    "slideshow": {
     "slide_type": "subslide"
    }
   },
   "source": [
    "Combining the definition of a causal signal with a causal system, when the input $x(t)$ is causal, the output of a causal continuous-time LTI system is given by\n",
    "\n",
    "$$y(t) = \\int_{0}^{t}h(\\tau)x(t-\\tau)\\,d\\tau =  \\int_{0}^{t}x(\\tau)h(t-\\tau)\\,d\\tau$$"
   ]
  },
  {
   "cell_type": "markdown",
   "id": "84462d2b",
   "metadata": {
    "slideshow": {
     "slide_type": "slide"
    }
   },
   "source": [
    "(c_Stability)=\n",
    "### C. Stability\n",
    "\n",
    "The BIBO (bounded-input/bounded-output) stability of an LTI system (Section {ref}`stable_systems`) is readily ascertained by the impuse response. It can be shown ({ref}`ex6_5`) that a continuous-time LTI system is BIBO stable if its  impulse response is absolutely integrable; that is,\n",
    "\n",
    "$$\\int_{-\\infty}^{\\infty}\\left|h(\\tau)\\right|\\,d\\tau \\lt \\infty$$ (eq:221)"
   ]
  },
  {
   "cell_type": "markdown",
   "id": "26e6a477",
   "metadata": {
    "slideshow": {
     "slide_type": "slide"
    }
   },
   "source": [
    "(eigenfunctions_of_continuous_time_LTI_systems)=\n",
    "## Eigenfunctions of Continuous-Time LTI Systems\n",
    "\n",
    "In Chapter [Systems and Classification of Systems\n",
    "](/systems_and_signals/signals_and_systems/systems/index) (Example {ref}`ex4_7`) we saw that the eigenfunctions of continuous-time LTI system represented by the complex exponentials $e^{st}$, with $s$ a complex variable."
   ]
  },
  {
   "cell_type": "markdown",
   "id": "bf129f94",
   "metadata": {
    "slideshow": {
     "slide_type": "fragment"
    }
   },
   "source": [
    "That is\n",
    "\n",
    "$$\\mathbf{T}\\left\\{e^{st}\\right\\}=\\lambda e^{st}$$\n",
    "\n",
    "where $\\lambda$ is the eigenvalue of $\\mathbf{T}$ associated with $e^{st}$."
   ]
  },
  {
   "cell_type": "markdown",
   "id": "91a3212a",
   "metadata": {
    "slideshow": {
     "slide_type": "subslide"
    }
   },
   "source": [
    "Setting $x(t)=e^{st}$ in the convolution integral, we have\n",
    "\n",
    "$$y(t) = \\mathbf{T}\\left\\{e^{st}\\right\\}$$"
   ]
  },
  {
   "cell_type": "markdown",
   "id": "2c40fcc3",
   "metadata": {
    "slideshow": {
     "slide_type": "fragment"
    }
   },
   "source": [
    "$$y(t) = \\int_{-\\infty}^{\\infty}h(\\tau)e^{s(t-\\tau)}\\,d\\tau$$"
   ]
  },
  {
   "cell_type": "markdown",
   "id": "11b9d370",
   "metadata": {
    "slideshow": {
     "slide_type": "fragment"
    }
   },
   "source": [
    "$$y(t) = \\left[\\int_{-\\infty}^{\\infty}h(\\tau)e^{-s\\tau}\\,d\\tau\\right]e^{st}$$"
   ]
  },
  {
   "cell_type": "markdown",
   "id": "eea06475",
   "metadata": {
    "slideshow": {
     "slide_type": "fragment"
    }
   },
   "source": [
    "$$y(t) = H(s)e^{st} = \\lambda e^{st}$$"
   ]
  },
  {
   "cell_type": "markdown",
   "id": "9018d5d7",
   "metadata": {
    "slideshow": {
     "slide_type": "subslide"
    }
   },
   "source": [
    "where \n",
    "\n",
    "$$\\lambda = H(s) = \\int_{-\\infty}^{\\infty}h(\\tau)e^{-s\\tau}\\,d\\tau$$"
   ]
  },
  {
   "cell_type": "markdown",
   "id": "3011ad95",
   "metadata": {
    "slideshow": {
     "slide_type": "subslide"
    }
   },
   "source": [
    "Thus, the eigenvalue of a continuous-time LTI system associated with the eigenfunction $e^{st}$ is given by $H(s)$ which is a complex constant whose value is determined by the value of $s$ via the equation\n",
    "\n",
    "$$H(s) = \\int_{-\\infty}^{\\infty}h(\\tau)e^{-s\\tau}\\,d\\tau.$$"
   ]
  },
  {
   "cell_type": "markdown",
   "id": "d4b307b5",
   "metadata": {
    "slideshow": {
     "slide_type": "notes"
    }
   },
   "source": [
    "Note from the equation\n",
    "\n",
    "$$y(t) = H(s)e^{st}$$\n",
    "\n",
    "that $y(0) = H(s)$ (see {ref}`ex:4_7`)."
   ]
  },
  {
   "cell_type": "markdown",
   "id": "ab423803",
   "metadata": {
    "slideshow": {
     "slide_type": "subslide"
    }
   },
   "source": [
    "### Looking Ahead\n",
    "The above results underline the definition of the Laplace transform and Fourier transform. The {ref}`laplace` will be discussed later in this course. The Fourier Transform will be introduced in **EG-247 Digital Signal Processing** next year."
   ]
  },
  {
   "cell_type": "markdown",
   "id": "3e80d005",
   "metadata": {
    "slideshow": {
     "slide_type": "slide"
    }
   },
   "source": [
    "(examples_6)=\n",
    "## Examples 6: Properties of Continuous-Time LTI Systems"
   ]
  },
  {
   "cell_type": "markdown",
   "id": "2d3c0f19",
   "metadata": {
    "slideshow": {
     "slide_type": "subslide"
    }
   },
   "source": [
    "(ex6_1)=\n",
    "### Example 6.1 \n",
    "\n",
    "The signals in {numref}`fig:ex6.1`(a) and (b) are the input $x(t)$ and the output $y(t)$, respectively, of a certain continuous-time LTI system. \n",
    "\n",
    ":::{figure-md} fig:ex6.1\n",
    "<img src=\"pictures/ex6_1.png\" alt=\"Input and output signals for a continuous-time LTI system\" width=\"60%\">\n",
    "\n",
    "Input and output signals for a continuous-time LTI system\n",
    ":::"
   ]
  },
  {
   "cell_type": "markdown",
   "id": "6c144400",
   "metadata": {
    "slideshow": {
     "slide_type": "subslide"
    }
   },
   "source": [
    "Sketch the output to the following inputs:\n",
    "\n",
    "(a)$x(t-2)$;\n",
    "\n",
    "(b) $\\frac{1}{2}x(t)$."
   ]
  },
  {
   "cell_type": "markdown",
   "id": "5ccefa7e",
   "metadata": {
    "slideshow": {
     "slide_type": "notes"
    }
   },
   "source": [
    "For the answer, refer to the lecture recording or see solved problem 2.9 in in {cite}`schaum`."
   ]
  },
  {
   "cell_type": "markdown",
   "id": "46e87dea",
   "metadata": {
    "slideshow": {
     "slide_type": "subslide"
    }
   },
   "source": [
    "(ex6_2)=\n",
    "### Example 6.2 \n",
    "\n",
    "Consider a continuous-time LTI system whose step response is given by\n",
    "\n",
    "$$y(t) = e^{-t}u_0(t)$$\n",
    "\n",
    "\n",
    "Determine and sketch the output of the system to the input $x(t)$ shown in {numref}`fig:ex6.2`."
   ]
  },
  {
   "cell_type": "markdown",
   "id": "d87a2339",
   "metadata": {
    "slideshow": {
     "slide_type": "subslide"
    }
   },
   "source": [
    ":::{figure-md} fig:ex6.2\n",
    "<img src=\"pictures/ex6_2.png\" alt=\"Signal for Exercise 6.2\" width=\"40%\">\n",
    "\n",
    "Signal for Exercise 6.2\n",
    ":::"
   ]
  },
  {
   "cell_type": "markdown",
   "id": "4dbfdfe0",
   "metadata": {
    "slideshow": {
     "slide_type": "notes"
    }
   },
   "source": [
    "For the answer, refer to the lecture recording or see solved problem 2.2 in in {cite}schaum."
   ]
  },
  {
   "cell_type": "markdown",
   "id": "6a5fb78a",
   "metadata": {
    "slideshow": {
     "slide_type": "subslide"
    }
   },
   "source": [
    "(ex6_3)=\n",
    "### Example 6.3\n",
    "\n",
    "```{note}\n",
    "Interesting result but not examined further.\n",
    "```\n",
    "\n",
    "Consider a continuous-time LTI system system described by\n",
    "\n",
    "$$y(t) = \\mathbf{T}\\left\\{x(t)\\right\\} = \\frac{1}{T}\\int_{t-\\frac{T}{2}}^{t+\\frac{T}{2}}x(\\tau)\\,d\\tau$$\n",
    "\n",
    "(a) Find and sketch the impulse response $h(t)$ of the system.\n",
    "\n",
    "(b) Is this system causal?"
   ]
  },
  {
   "cell_type": "markdown",
   "id": "1a582539",
   "metadata": {
    "slideshow": {
     "slide_type": "notes"
    }
   },
   "source": [
    "For the answer, see the solved problem 2.11 in in {cite}`schaum`."
   ]
  },
  {
   "cell_type": "markdown",
   "id": "a1c4d6b1",
   "metadata": {
    "slideshow": {
     "slide_type": "subslide"
    }
   },
   "source": [
    "(ex6_4)=\n",
    "### Example 6.4\n",
    "\n",
    "```{note}\n",
    "Interesting result but not examined further.\n",
    "```\n",
    "\n",
    "\n",
    "Let $y(t)$ be the output of a continuous-time LTI system with input $x(t)$. Find the output of the system if ths input is $x'(t)$, where $x'(t)$ is the first derivative of $x(t)$."
   ]
  },
  {
   "cell_type": "markdown",
   "id": "df8f3c74",
   "metadata": {
    "slideshow": {
     "slide_type": "notes"
    }
   },
   "source": [
    "For the answer, refer to the solved problem 2.12 in in {cite}`schaum`."
   ]
  },
  {
   "cell_type": "markdown",
   "id": "26335347",
   "metadata": {
    "slideshow": {
     "slide_type": "subslide"
    }
   },
   "source": [
    "(ex6_5)=\n",
    "### Example 6.5\n",
    "\n",
    "```{note}\n",
    "Interesting result but not examined further.\n",
    "```\n",
    "\n",
    "Verify the BIBO stability condition ({ref}`c_Stability`) for continuous-time LTI systems."
   ]
  },
  {
   "cell_type": "markdown",
   "id": "e997a463",
   "metadata": {
    "slideshow": {
     "slide_type": "notes"
    }
   },
   "source": [
    "For the answer, see the solved problem 2.13 in {cite}`schaum`."
   ]
  },
  {
   "cell_type": "markdown",
   "id": "a110ad74",
   "metadata": {
    "slideshow": {
     "slide_type": "subslide"
    }
   },
   "source": [
    "(ex6_6)=\n",
    "### Example 6.6\n",
    "\n",
    "The system shown in {numref}`fig:ex6.6`(a) is formed by connecting two systems in *cascade*. The impulse responses of the two systems are $h_1(t)$ and $h_2(t)$, respectively, and\n",
    "\n",
    "$$h_1(t) = e^{-2t}u_0(t)\\quad h_2(t)=2e^{-t}u_0(t)$$\n",
    "\n",
    "(a) Find the impulse response $h(t)$ of the overall system shown in {numref}`fig:ex6.2`(b).\n",
    "\n",
    "(b) Determine if the overall system is BIBO stable."
   ]
  },
  {
   "cell_type": "markdown",
   "id": "de72233b",
   "metadata": {
    "slideshow": {
     "slide_type": "subslide"
    }
   },
   "source": [
    ":::{figure-md} fig:ex6.6\n",
    "<img src=\"pictures/ex6_6.png\" alt=\"A cascade connection of two continuous-time LTI systems\" width=\"50%\">\n",
    "\n",
    "A cascade connection of two continuous-time LTI systems\n",
    ":::"
   ]
  },
  {
   "cell_type": "markdown",
   "id": "665f17f6",
   "metadata": {
    "slideshow": {
     "slide_type": "notes"
    }
   },
   "source": [
    "For the answer, refer to the lecture recording or see solved problem 2.14 in {cite}`schaum`."
   ]
  },
  {
   "cell_type": "markdown",
   "id": "33f35ba0",
   "metadata": {
    "slideshow": {
     "slide_type": "slide"
    }
   },
   "source": [
    "(examples_7)=\n",
    "## Examples 7: Eigenfunctions of Continuous-Time LTI systems"
   ]
  },
  {
   "cell_type": "markdown",
   "id": "fbcc14f4",
   "metadata": {
    "slideshow": {
     "slide_type": "subslide"
    }
   },
   "source": [
    "(ex7_1)=\n",
    "### Example 7.1\n",
    "\n",
    "```{note}\n",
    "This is a foretaste of the Laplace Transform.\n",
    "```\n",
    "\n",
    "Consider a continuous-time LTI system with the input-output reltion given by\n",
    "\n",
    "$$y(t)=\\int_{-\\infty}^{t}e^{-(t-\\tau)}x(\\tau)\\,d\\tau$$\n",
    "\n",
    "(a) Find the impulse response $h(t)$ of this system.\n",
    "\n",
    "(b) Show that the complex exponential $e^{st}$ is an eigenfunction of the system.\n",
    "\n",
    "(c) Find the eigenvalue of the system corresponding to $e^{st}$ using the impulse response $h(t)$ obtained in part (a)."
   ]
  },
  {
   "cell_type": "markdown",
   "id": "459a66fb",
   "metadata": {
    "slideshow": {
     "slide_type": "notes"
    }
   },
   "source": [
    "For the answer, refer to the lecture recording or see solved problem 2.15 in {cite}`schaum`."
   ]
  },
  {
   "cell_type": "markdown",
   "id": "db9a4ede",
   "metadata": {
    "slideshow": {
     "slide_type": "subslide"
    }
   },
   "source": [
    "(ex7_2)=\n",
    "### Example 7.2\n",
    "\n",
    "```{note}\n",
    "Interesting result which will not be examined.\n",
    "```\n",
    "\n",
    "Consider the continuous-time LTI system described by\n",
    "\n",
    "$$y(t) = \\frac{1}{T}\\int_{t-\\frac{T}{2}}^{t+\\frac{T}{2}}x(\\tau)\\,d\\tau$$\n",
    "\n",
    "(a) Find the eigenvalue of the system corresponding to the eigenfunction $e^{st}$.\n",
    "\n",
    "(b) Repeat part (a) by using the impulse response $h(t)$ of the system."
   ]
  },
  {
   "cell_type": "markdown",
   "id": "90cd548b",
   "metadata": {
    "slideshow": {
     "slide_type": "notes"
    }
   },
   "source": [
    "For the answer, see the solved problem 2.16 in {cite}`schaum`."
   ]
  },
  {
   "cell_type": "markdown",
   "id": "7b77d082",
   "metadata": {
    "slideshow": {
     "slide_type": "subslide"
    }
   },
   "source": [
    "(ex7_3)=\n",
    "### Example 7.3\n",
    "\n",
    "```{note}\n",
    "Interesting result that is a foretaste of the Fourier transform which will not be examined.\n",
    "```\n",
    "\n",
    "\n",
    "Consider a stable continuous-time LTI system with impulse response $h(t)$ that is real and even. Show that $\\cos \\omega t$ and $\\sin \\omega t$ are eigenfunctions of this system with the same eigenvalue."
   ]
  },
  {
   "cell_type": "markdown",
   "id": "c225a604",
   "metadata": {
    "slideshow": {
     "slide_type": "notes"
    }
   },
   "source": [
    "For the answer, see the solved problem 2.17 in {cite}`schaum`."
   ]
  },
  {
   "cell_type": "markdown",
   "id": "016e67ae",
   "metadata": {
    "slideshow": {
     "slide_type": "notes"
    }
   },
   "source": [
    "## Summary\n",
    "\n",
    "We have continued our introdiuction the continuous-time LTI systems by considering\n",
    "\n",
    "* {ref}`Properties_of_Continuous_Time_LTI_Systems`\n",
    "* {ref}`eigenfunctions_of_continuous_time_LTI_systems`\n",
    "\n",
    "### Take aways\n",
    "\n",
    "#### Properties of continuous-time LTI systems\n",
    "\n",
    "The input to an LTI system is $x(t)$, the impulse response of the LTI system is $h(t)$ and the output is $y(t)$.\n",
    "\n",
    "The output of any LTI system is computed from the convolution of $h(t)$ with $x(t)$:\n",
    "\n",
    "$$y(t) = \\int_{-\\infty}^{\\infty} x(\\tau)h(t-\\tau)\\,d\\tau = \\int_{-\\infty}^{\\infty} h(\\tau)x(t-\\tau)\\,d\\tau$$\n",
    "\n",
    "The only LTI system that has no memory is the simple gain $y(t) = Kx(t)$ for which the impulse response $h(t) = K\\delta(t)$.\n",
    "\n",
    "Causal LTI systems have an impulse response $h(t)$ that satisfies $h(t) = 0$ $t < 0$. Therefore, for a causal LTI system the output is given by the convolution integral with adjsuted limits:\n",
    "\n",
    "$$y(t) = \\int_{-\\infty}^t x(\\tau)h(t-\\tau)\\,d\\tau$$\n",
    "\n",
    "An LTI system is BIBO stable if it's impulse response is integrable. That is:\n",
    "\n",
    "$$\\int_{-\\infty}^{\\infty}\\left|h(\\tau)\\right|\\,d\\tau \\lt \\infty$$\n",
    "\n",
    "Linear systems in series can be combined by convolution.\n",
    "\n",
    "#### Eignenfunctions of continuous-time LTI systems\n",
    "\n",
    "The exponential signal $x(t) = e^{st}$ (where $s$ is a complex variable, $s = \\sigma + j\\omega$) is an *eigenfunction* of a continuous-time LTI system with impulse response $h(t)$. The eigenvalue of the system is\n",
    "\n",
    "$$H(s) = \\int_{-\\infty}^{\\infty} h(\\tau)e^{-s\\tau}\\,d\\tau.$$\n",
    "\n",
    "From the equation $y(t) = H(s)e^{st}$, $H(s) = y(0)$.\n",
    "\n",
    "As we will see in {ref}`unit4.1`, $H(s)$ is called the *Laplace transform* of $h(t)$. It is also known as the *transfer function* of the continuous-time LTI system that has impulse response $h(t)$.\n",
    "\n",
    "By a similar argument, we can show that if $s = j\\omega$, then $e^{j\\omega}$ is also an eigenfunction of $h(t)$, and the frequency response of an LTI system is\n",
    "\n",
    "$$H(j\\omega) = \\int_{-\\infty}^{\\infty} h(\\tau)e^{-j\\omega\\tau}\\,d\\tau.$$\n",
    "\n",
    "This is called the *Fourier transform* and we will return to it in **EG-247 Digital Signal Processing**."
   ]
  },
  {
   "cell_type": "markdown",
   "id": "5ee620b6",
   "metadata": {
    "slideshow": {
     "slide_type": "slide"
    }
   },
   "source": [
    "## Next Time\n",
    "\n",
    "We will conclude our look at continuous-time LTI systems by considering\n",
    "\n",
    "* {ref}`Systems_Described_by_Differential_Equations`\n",
    "\n",
    "## References\n",
    "\n",
    "```{bibliography}\n",
    ":filter: docname in docnames\n",
    "```"
   ]
  }
 ],
 "metadata": {
  "jupytext": {
   "formats": "ipynb,md:myst",
   "text_representation": {
    "extension": ".md",
    "format_name": "myst",
    "format_version": 0.13,
    "jupytext_version": "1.14.4"
   }
  },
  "kernelspec": {
   "display_name": "Matlab",
   "language": "matlab",
   "name": "matlab"
  },
  "language_info": {
   "codemirror_mode": "octave",
   "file_extension": ".m",
   "help_links": [
    {
     "text": "MetaKernel Magics",
     "url": "https://metakernel.readthedocs.io/en/latest/source/README.html"
    }
   ],
   "mimetype": "text/x-octave",
   "name": "matlab",
   "version": "0.17.1"
  },
  "source_map": [
   15,
   22,
   28,
   39,
   48,
   53,
   61,
   67,
   71,
   81,
   87,
   93,
   103,
   107,
   120,
   126,
   135,
   143,
   151,
   157,
   161,
   165,
   169,
   175,
   181,
   189,
   194,
   199,
   212,
   220,
   224,
   236,
   244,
   248,
   265,
   269,
   281,
   285,
   296,
   300,
   313,
   321,
   325,
   330,
   349,
   353,
   370,
   374,
   386,
   390,
   437
  ]
 },
 "nbformat": 4,
 "nbformat_minor": 5
}