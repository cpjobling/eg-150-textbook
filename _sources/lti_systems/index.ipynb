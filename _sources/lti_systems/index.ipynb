{
 "cells": [
  {
   "cell_type": "markdown",
   "id": "5f4f8866",
   "metadata": {
    "slideshow": {
     "slide_type": "slide"
    }
   },
   "source": [
    "(lti_systems)=\n",
    "# Linear Time-Invariant Systems\n",
    "\n",
    "Based on Chapter 2 of {cite}`schaum` \n",
    "\n",
    "\n",
    "## Introduction\n",
    "\n",
    "Two most important attributes of systems are linearity and time invariance. In this chapter we develop the fundamental input-output relationship for systems having these attributes. It will be shown that the input output-relationship for LTI systems is described in terms of a convolution operation. The importance of the convolution operation in LTI systems stems from the fact that the knowledge of the system response and LTI system to the unit impulse response allows us to find its output to any input signals. Specifying the input-output relationships for LTI systems by differential equations will also be discussed."
   ]
  },
  {
   "cell_type": "markdown",
   "id": "46d1c4fd",
   "metadata": {
    "slideshow": {
     "slide_type": "notes"
    }
   },
   "source": [
    "We will discuss specifying the input-output relationsships for discrete-time systems will be covered in **EG-247 Digital Signal Porcessing** next year."
   ]
  },
  {
   "cell_type": "markdown",
   "id": "87946e77",
   "metadata": {
    "slideshow": {
     "slide_type": "slide"
    }
   },
   "source": [
    "## Subjects to be covered\n",
    "\n",
    "* {ref}`Response of a Continuous-Time LTI System and the Convolution Integral`\n",
    "* {ref}`Properties of Continuous-Time LTI Systems`\n",
    "* {ref}`Systems Described by Differential Equations`"
   ]
  },
  {
   "cell_type": "markdown",
   "id": "ddef3524",
   "metadata": {
    "slideshow": {
     "slide_type": "slide"
    }
   },
   "source": [
    "(Response of a Continuous-Time LTI System and the Convolution Integral)=\n",
    "## Response of a Continuous-Time LTI System and the Convolution Integral\n",
    "\n",
    "### A. Impulse response\n",
    "\n",
    "The *impulse response* $h(t)$ of a continuous-time LTI system (represented by $\\mathbf{T}$) is defined as the response of the system when the input is $\\delta(t)$, that is,\n",
    "\n",
    "```{math}\n",
    ":label: eq:impulse-response\n",
    "h(t) = \\mathbf{T}\\left\\{\\delta(t)\\right\\}\n",
    "```\n",
    "\n",
    "\\begin{equation}\n",
    "h(t) = \\mathbf{T}\\left\\{\\delta(t)\\right\\}\n",
    "\\label{eq:vector_ray} \n",
    "\\end{equation}\n",
    "\n",
    "This is a reference to Eq $\\eqref{eq:vector_ray}$"
   ]
  },
  {
   "cell_type": "markdown",
   "id": "33fbfcdd",
   "metadata": {
    "slideshow": {
     "slide_type": "slide"
    }
   },
   "source": [
    "(Properties of Continuous-Time LTI Systems)=\n",
    "## Properties of Continuous-Time LTI Systems"
   ]
  },
  {
   "cell_type": "markdown",
   "id": "47d89ac1",
   "metadata": {
    "slideshow": {
     "slide_type": "slide"
    }
   },
   "source": [
    "(Systems Described by Differential Equations)=\n",
    "## Systems Described by Differential Equations"
   ]
  },
  {
   "cell_type": "markdown",
   "id": "6a2ac5fa",
   "metadata": {
    "slideshow": {
     "slide_type": "slide"
    }
   },
   "source": [
    "## Worked Solutions"
   ]
  },
  {
   "cell_type": "markdown",
   "id": "4fd123d4",
   "metadata": {
    "slideshow": {
     "slide_type": "slide"
    }
   },
   "source": [
    "## Homework Problems"
   ]
  },
  {
   "cell_type": "markdown",
   "id": "fd6cc9e5",
   "metadata": {
    "slideshow": {
     "slide_type": "slide"
    }
   },
   "source": [
    "## Lab Exercises"
   ]
  },
  {
   "cell_type": "markdown",
   "id": "6d403867",
   "metadata": {
    "slideshow": {
     "slide_type": "slide"
    }
   },
   "source": [
    "## Summary\n",
    "\n",
    "In this lecture we have started our look at LTI systems.\n",
    "\n",
    "In particular we have looked at\n",
    "\n",
    "* {ref}`Response of a Continuous-Time LTI System and the Convolution Integral`\n",
    "* {ref}`Properties of Continuous-Time LTI Systems`\n",
    "* {ref}`Systems Described by Differential Equations`"
   ]
  },
  {
   "cell_type": "markdown",
   "id": "21f84f8c",
   "metadata": {
    "slideshow": {
     "slide_type": "slide"
    }
   },
   "source": [
    "## Next Time\n",
    "\n",
    "{ref}`Laplace Transforms and their Applications`"
   ]
  }
 ],
 "metadata": {
  "jupytext": {
   "formats": "ipynb,md:myst",
   "text_representation": {
    "extension": ".md",
    "format_name": "myst",
    "format_version": 0.13,
    "jupytext_version": "1.14.0"
   }
  },
  "kernelspec": {
   "display_name": "Matlab",
   "language": "matlab",
   "name": "matlab"
  },
  "language_info": {
   "codemirror_mode": "octave",
   "file_extension": ".m",
   "help_links": [
    {
     "text": "MetaKernel Magics",
     "url": "https://metakernel.readthedocs.io/en/latest/source/README.html"
    }
   ],
   "mimetype": "text/x-octave",
   "name": "matlab",
   "version": "0.17.1"
  },
  "source_map": [
   15,
   27,
   31,
   39,
   60,
   65,
   70,
   74,
   78,
   82,
   94
  ]
 },
 "nbformat": 4,
 "nbformat_minor": 5
}