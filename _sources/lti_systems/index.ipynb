{
 "cells": [
  {
   "cell_type": "markdown",
   "id": "10d87347",
   "metadata": {
    "slideshow": {
     "slide_type": "slide"
    }
   },
   "source": [
    "(lti_systems)=\n",
    "# Linear Time-Invariant Systems\n",
    "\n",
    "This chapter is based on on Chapter 2 of {cite}`schaum` \n",
    "\n",
    "\n",
    "## Introduction\n",
    "\n",
    "Two most important attributes of systems are linearity and time invariance. In this chapter we develop the fundamental input-output relationship for systems having these attributes. It will be shown that the input output-relationship for LTI systems is described in terms of a convolution operation. The importance of the convolution operation in LTI systems stems from the fact that the knowledge of the system response and LTI system to the unit impulse response allows us to find its output to any input signals. Specifying the input-output relationships for LTI systems by differential equations will also be discussed. on Chapter 2 of {cite}`schaum`"
   ]
  },
  {
   "cell_type": "markdown",
   "id": "bb719111",
   "metadata": {
    "slideshow": {
     "slide_type": "notes"
    }
   },
   "source": [
    "We will discuss specifying the input-output relationsships for discrete-time systems will be covered in **EG-247 Digital Signal Processing** next year."
   ]
  },
  {
   "cell_type": "markdown",
   "id": "20df2f25",
   "metadata": {
    "slideshow": {
     "slide_type": "slide"
    }
   },
   "source": [
    "## Contents of this chapter\n",
    "\n",
    "* {ref}`Response_of_a_Continuous_Time_LTI_System_and_the_Convolution_Integral`\n",
    "* {ref}`examples_5_Responses_of_a_Continuous-Time_LTI_System_and_Convolution`\n",
    "* {ref}`Properties_of_Continuous_Time_LTI_Systems`\n",
    "* {ref}`eigenfunctions_of_continuous_time_LTI_systems`\n",
    "* {ref}`Systems_Described_by_Differential_Equations`"
   ]
  },
  {
   "cell_type": "markdown",
   "id": "f3afc2a4",
   "metadata": {
    "slideshow": {
     "slide_type": "slide"
    }
   },
   "source": [
    "(Response_of_a_Continuous_Time_LTI_System_and_the_Convolution_Integral)=\n",
    "## Response of a Continuous-Time LTI System and the Convolution Integral"
   ]
  },
  {
   "cell_type": "markdown",
   "id": "bc01eb12",
   "metadata": {
    "slideshow": {
     "slide_type": "fragment"
    }
   },
   "source": [
    "(impulse_reponse)=\n",
    "### A. Impulse Response\n",
    "\n",
    "The *impulse response* $h(t)$ of a continuous-time LTI system (represented by $\\mathbf{T}$) is defined as the response of the system when the input is $\\delta(t)$, that is,\n",
    "\n",
    "$$h(t) = \\mathbf{T}\\left\\{\\delta(t)\\right\\}$$"
   ]
  },
  {
   "cell_type": "markdown",
   "id": "5c153213",
   "metadata": {
    "slideshow": {
     "slide_type": "subslide"
    }
   },
   "source": [
    "(abitrary_signal_response)=\n",
    "### B. Response to an Arbitrary Input\n",
    "\n",
    "From the {ref}`sifting_property` \n",
    "\n",
    "$$\\int_{-\\infty}^{\\infty}f(t)\\delta(t-\\alpha)dt=f(\\alpha)$$"
   ]
  },
  {
   "cell_type": "markdown",
   "id": "90b1ef6d",
   "metadata": {
    "slideshow": {
     "slide_type": "fragment"
    }
   },
   "source": [
    "an arbitrary continuous-time input can be expressed in terms of the Dirac delta function as\n",
    "\n",
    "$$x(\\tau) = \\int_{-\\infty}^{\\infty}x(\\tau)\\delta(t-\\tau)d\\tau = x(t)$$"
   ]
  },
  {
   "cell_type": "markdown",
   "id": "ee1bd8c1",
   "metadata": {
    "slideshow": {
     "slide_type": "subslide"
    }
   },
   "source": [
    "Since the system is linear, the response $y(t)$ of the system with arbitrary input $x(t)$ can be expressed as\n",
    "\n",
    "$$y(t) = \\mathbf{T}\\left\\{x(t)\\right\\} = \\mathbf{T}\\left\\{\\int_{-\\infty}^{\\infty}x(\\tau)\\delta(t-\\tau)\\,d\\tau\\right\\}$$"
   ]
  },
  {
   "cell_type": "markdown",
   "id": "6fabb111",
   "metadata": {
    "slideshow": {
     "slide_type": "fragment"
    }
   },
   "source": [
    "$$ = \\int_{-\\infty}^{\\infty}x(t)\\mathbf{T}\\left\\{\\delta(t - \\tau)\\right\\}$$"
   ]
  },
  {
   "cell_type": "markdown",
   "id": "a82580ea",
   "metadata": {
    "slideshow": {
     "slide_type": "fragment"
    }
   },
   "source": [
    "Since the system is time-invariant, we have\n",
    "\n",
    "$$h(t-\\tau)=\\mathbf{T}\\left\\{\\delta(t-\\tau)\\right\\}\\,d\\tau$$"
   ]
  },
  {
   "cell_type": "markdown",
   "id": "86593bb5",
   "metadata": {
    "slideshow": {
     "slide_type": "subslide"
    }
   },
   "source": [
    "Substituting $h(t-\\tau)$ into the equation for $y(t)$ gives\n",
    "\n",
    "$$y(t) = \\int_{-\\infty}^{\\infty}x(t)h(t-\\tau)\\,d\\tau$$"
   ]
  },
  {
   "cell_type": "markdown",
   "id": "19f12db5",
   "metadata": {
    "slideshow": {
     "slide_type": "fragment"
    }
   },
   "source": [
    "This equation indicates that a continuous-time LTI system is completely characterised by its impulse response $h(t)$."
   ]
  },
  {
   "cell_type": "markdown",
   "id": "1187b48b",
   "metadata": {
    "slideshow": {
     "slide_type": "subslide"
    }
   },
   "source": [
    "(convolution_integral)=\n",
    "### C. Convolution Integral\n",
    "\n",
    "The equation\n",
    "\n",
    "$$y(t) = \\int_{-\\infty}^{\\infty}x(t)h(t-\\tau)\\,d\\tau$$ \n",
    "\n",
    "defines the *convolution* of two continuous-time signals $x(t)$ and $h(t)$ denoted by\n",
    "\n",
    "$$y(t) = x(t) * h(t) = \\int_{-\\infty}^{\\infty}x(t)h(t-\\tau)\\,d\\tau$$"
   ]
  },
  {
   "cell_type": "markdown",
   "id": "d28240a1",
   "metadata": {
    "slideshow": {
     "slide_type": "subslide"
    }
   },
   "source": [
    "The equation \n",
    "\n",
    "$$y(t) = x(t) * h(t) = \\int_{-\\infty}^{\\infty}x(t)h(t-\\tau)\\,d\\tau$$\n",
    "\n",
    "is commonly called the *convolution integral*."
   ]
  },
  {
   "cell_type": "markdown",
   "id": "28e50ace",
   "metadata": {
    "slideshow": {
     "slide_type": "fragment"
    }
   },
   "source": [
    "Thus we have the fundamental result that:"
   ]
  },
  {
   "cell_type": "markdown",
   "id": "205374a9",
   "metadata": {
    "slideshow": {
     "slide_type": "fragment"
    }
   },
   "source": [
    "*the output of any continuous-time LTI system is the convolution of the input $x(t)$ with the impulse response $h(t)$ of the system*."
   ]
  },
  {
   "cell_type": "markdown",
   "id": "981257c0",
   "metadata": {
    "slideshow": {
     "slide_type": "subslide"
    }
   },
   "source": [
    "{numref}`fig:ct_lti_system` illustrates the definition of the impulse response $h(t)$ and the convolution integral."
   ]
  },
  {
   "cell_type": "markdown",
   "id": "546946c2",
   "metadata": {
    "slideshow": {
     "slide_type": "fragment"
    }
   },
   "source": [
    ":::{figure-md} fig:ct_lti_system\n",
    "<img src=\"pictures/ct_lti_system.png\" alt=\"Continuous-time LTI system\" width=\"60%\">\n",
    "\n",
    "Continuous-time LTI system\n",
    ":::"
   ]
  },
  {
   "cell_type": "markdown",
   "id": "da172d36",
   "metadata": {
    "slideshow": {
     "slide_type": "subslide"
    }
   },
   "source": [
    "(props_of_con_integral)=\n",
    "### D. Properties of the Convolution Integral\n",
    "\n",
    "The convolution integral has the following properties."
   ]
  },
  {
   "cell_type": "markdown",
   "id": "5fb1e20e",
   "metadata": {
    "slideshow": {
     "slide_type": "fragment"
    }
   },
   "source": [
    "#### 1. Commutative:\n",
    "\n",
    "$$x(t) * h(t) = h(t) * x(t)$$"
   ]
  },
  {
   "cell_type": "markdown",
   "id": "77abb084",
   "metadata": {
    "slideshow": {
     "slide_type": "fragment"
    }
   },
   "source": [
    "#### 2. Associative:\n",
    "\n",
    "$$\\left\\{x(t) * h_1(t)\\right\\} * h_2(t) = x(t) * \\left\\{h_1(t) * h_2(t)\\right\\}$$"
   ]
  },
  {
   "cell_type": "markdown",
   "id": "f9f77918",
   "metadata": {
    "slideshow": {
     "slide_type": "fragment"
    }
   },
   "source": [
    "#### 3. Distributive:\n",
    "\n",
    "$$x(t)*\\left\\{h_1(t) + h_2(t)\\right\\} = x(t)*h_1(t) + x(t)*h_2(t)$$"
   ]
  },
  {
   "cell_type": "markdown",
   "id": "2eed8e40",
   "metadata": {
    "slideshow": {
     "slide_type": "subslide"
    }
   },
   "source": [
    "### E. Convolution Integral Operation\n",
    "\n",
    "Applying the communitative propery of convolution to the convolution integral, we obtain\n",
    "\n",
    "$$y(t) = h(t) * x(t) = \\int_{-\\infty}^{\\infty}h(\\tau)x(t-\\tau)\\,d\\tau$$"
   ]
  },
  {
   "cell_type": "markdown",
   "id": "a8c35564",
   "metadata": {
    "slideshow": {
     "slide_type": "notes"
    }
   },
   "source": [
    "which may at times be easier to evaluate than\n",
    "\n",
    "$$y(t) = x(t) * h(t) = \\int_{-\\infty}^{\\infty}x(t)h(t-\\tau)\\,d\\tau$$.\n",
    "\n",
    "+++ {\"slideshow\": {\"slide_type\": \"subslide\"}}\n",
    "\n",
    "#### Graphical Evaluation of the Convolution Integral\n",
    "\n",
    "The convolution integral is most conveniently evaluated by a graphical evaluation. We give three examples (5.4&mdash;5.6) which we will demonstrate in class using a [graphical visualization tool](https://uk.mathworks.com/matlabcentral/fileexchange/25199-graphical-demonstration-of-convolution) developed by Teja Muppirala of the Mathworks.\n",
    "\n",
    "We will then work through the examples again in the examples class.\n",
    "\n",
    "```{code-cell}\n",
    "---\n",
    "slideshow:\n",
    "  slide_type: fragment\n",
    "---\n",
    "clear all\n",
    "cd matlab/convolutiondemo\n",
    "pwd\n",
    "```\n",
    "\n",
    "```{code-cell}\n",
    "---\n",
    "slideshow:\n",
    "  slide_type: fragment\n",
    "---\n",
    "convolutiondemo % ignore warnings\n",
    "```\n",
    "\n",
    "+++ {\"slideshow\": {\"slide_type\": \"subslide\"}}\n",
    "\n",
    "#### Summary of Steps\n",
    "\n",
    "+++ {\"slideshow\": {\"slide_type\": \"fragment\"}}\n",
    "\n",
    "1. The inpulse response $h(\\tau)$ is time reversed (that is, reflected about the origin) to obtain $h(-\\tau)$ and then shifted by $\\tau$ to form $h(t-\\tau) = h\\left[-(\\tau - t)\\right]$, which is a function of $\\tau$ with parameter $t$.\n",
    "\n",
    "+++ {\"slideshow\": {\"slide_type\": \"fragment\"}}\n",
    "\n",
    "2. The signal $x(\\tau)$ and $h(t-\\tau)$ are multiplied together for all values of $\\tau$ with $t$ fixed at some value.\n",
    "\n",
    "+++ {\"slideshow\": {\"slide_type\": \"fragment\"}}\n",
    "\n",
    "3. The product $x(\\tau)h(t-\\tau)$ is integrated over all $\\tau$ to produce a single output value $y(t)$.\n",
    "\n",
    "+++ {\"slideshow\": {\"slide_type\": \"fragment\"}}\n",
    "\n",
    "4. Steps 1 ro 3 are repeated as $t$ varies over $-\\infty$ to $\\infty$ to produce the entire output $y(t)$.\n",
    "\n",
    "+++ {\"slideshow\": {\"slide_type\": \"notes\"}}\n",
    "\n",
    "Examples of the above convolution integral operation are given in Examples 4.1 to 4.3.\n",
    "\n",
    "+++ {\"slideshow\": {\"slide_type\": \"subslide\"}}\n",
    "\n",
    "### F. Step Response\n",
    "\n",
    "The *step response* $s(t)$ of a continuous-time LTI system (represented $\\mathbf{T}$) is defined by the response of the system when the input is $u_0(t)$; that is,\n",
    "\n",
    "$$s(t) = \\mathbf{T}\\left\\{u_0(t)\\right\\}$$"
   ]
  },
  {
   "cell_type": "markdown",
   "id": "0cffc394",
   "metadata": {
    "slideshow": {
     "slide_type": "fragment"
    }
   },
   "source": [
    "In many applications, the step response $s(t)$ is also a useful characterisation of the system. The step response can be easily determined using the convolution integral; that is,\n",
    "\n",
    "$$s(t) = h(t)*u_0(t) = \\int_{-\\infty}^{\\infty} h(\\tau)u_0(t-\\tau)\\,d\\tau = \\int_{-\\infty}^{t} h(\\tau)\\,d\\tau$$"
   ]
  },
  {
   "cell_type": "markdown",
   "id": "78273da5",
   "metadata": {
    "slideshow": {
     "slide_type": "fragment"
    }
   },
   "source": [
    "Thus the step response $s(t)$ can be obtained by integrating the impulse response $h(t)$."
   ]
  },
  {
   "cell_type": "markdown",
   "id": "2e6542ef",
   "metadata": {
    "slideshow": {
     "slide_type": "subslide"
    }
   },
   "source": [
    "#### Impulse response from step response"
   ]
  },
  {
   "cell_type": "markdown",
   "id": "263a9bc3",
   "metadata": {
    "slideshow": {
     "slide_type": "fragment"
    }
   },
   "source": [
    "Differentiating the step response with respect to $t$, we get\n",
    "\n",
    "$$h(t) = s'(t) = \\frac{ds(t)}{dt}$$"
   ]
  },
  {
   "cell_type": "markdown",
   "id": "c78cfeaa",
   "metadata": {
    "slideshow": {
     "slide_type": "fragment"
    }
   },
   "source": [
    "Thus the impulse response $h(t)$ can be determined by differentiating the step response $s(t)$."
   ]
  },
  {
   "cell_type": "markdown",
   "id": "195188ec",
   "metadata": {
    "slideshow": {
     "slide_type": "slide"
    }
   },
   "source": [
    "(examples_5_Responses_of_a_Continuous-Time_LTI_System_and_Convolution)=\n",
    "## Examples 5: Responses of a Continuous-Time LTI System and Convolution"
   ]
  },
  {
   "cell_type": "markdown",
   "id": "75178b11",
   "metadata": {
    "slideshow": {
     "slide_type": "subslide"
    }
   },
   "source": [
    "(ex5_1)=\n",
    "### Example 5.1 \n",
    "\n",
    "Verify the following properties of the convolution integral; that is,\n",
    "\n",
    "(a) $x(t)*h(t) = h(t)*x(t)$\n",
    "\n",
    "(b) $\\left\\{x(t) * h_1(t)\\right\\} * h_2(t) = x(t)*\\left\\{h_1(t) * h_2(t)\\right\\}$"
   ]
  },
  {
   "cell_type": "markdown",
   "id": "ed8bbdda",
   "metadata": {
    "slideshow": {
     "slide_type": "notes"
    }
   },
   "source": [
    "For the answer, refer to the lecture recording or see solved problem 2.1 in in {cite}schaum."
   ]
  },
  {
   "cell_type": "markdown",
   "id": "6ed7a801",
   "metadata": {
    "slideshow": {
     "slide_type": "subslide"
    }
   },
   "source": [
    "(ex5_2)=\n",
    "### Example 5.2"
   ]
  },
  {
   "cell_type": "markdown",
   "id": "0cb0eefe",
   "metadata": {
    "slideshow": {
     "slide_type": "notes"
    }
   },
   "source": [
    "For the answer, refer to the lecture recording or see solved problem 2.2 in in {cite}schaum."
   ]
  },
  {
   "cell_type": "markdown",
   "id": "3135a4f2",
   "metadata": {
    "slideshow": {
     "slide_type": "subslide"
    }
   },
   "source": [
    "(ex5_3)=\n",
    "### Example 5.3"
   ]
  },
  {
   "cell_type": "markdown",
   "id": "8eafdf21",
   "metadata": {
    "slideshow": {
     "slide_type": "notes"
    }
   },
   "source": [
    "For the answer, refer to the lecture recording or see solved problem 2.3 in in {cite}schaum."
   ]
  },
  {
   "cell_type": "markdown",
   "id": "335b01f2",
   "metadata": {
    "slideshow": {
     "slide_type": "subslide"
    }
   },
   "source": [
    "(ex5_4)=\n",
    "### Example 5.4"
   ]
  },
  {
   "cell_type": "markdown",
   "id": "b974c79f",
   "metadata": {
    "slideshow": {
     "slide_type": "notes"
    }
   },
   "source": [
    "For the answer, refer to the lecture recording or see solved problem 2.4 in in {cite}schaum."
   ]
  },
  {
   "cell_type": "markdown",
   "id": "0050e67c",
   "metadata": {
    "slideshow": {
     "slide_type": "subslide"
    }
   },
   "source": [
    "(ex5_5)=\n",
    "### Example 5.5"
   ]
  },
  {
   "cell_type": "markdown",
   "id": "e2c32128",
   "metadata": {
    "slideshow": {
     "slide_type": "notes"
    }
   },
   "source": [
    "For the answer, refer to the lecture recording or see solved problem 2.5 in {cite}schaum."
   ]
  },
  {
   "cell_type": "markdown",
   "id": "90ae6c30",
   "metadata": {
    "slideshow": {
     "slide_type": "subslide"
    }
   },
   "source": [
    "(ex5_6)=\n",
    "### Example 5.6"
   ]
  },
  {
   "cell_type": "markdown",
   "id": "fd7f719b",
   "metadata": {
    "slideshow": {
     "slide_type": "notes"
    }
   },
   "source": [
    "For the answer, refer to the lecture recording or see solved problem 2.6 in {cite}schaum."
   ]
  },
  {
   "cell_type": "markdown",
   "id": "99a12c03",
   "metadata": {
    "slideshow": {
     "slide_type": "slide"
    }
   },
   "source": [
    "## Summary\n",
    "\n",
    "In this lecture we have started our look at LTI systems.\n",
    "\n",
    "In particular we have looked at\n",
    "\n",
    "* {ref}`Response_of_a_Continuous_Time_LTI_System_and_the_Convolution_Integral`"
   ]
  },
  {
   "cell_type": "markdown",
   "id": "b592f484",
   "metadata": {
    "slideshow": {
     "slide_type": "slide"
    }
   },
   "source": [
    "## Next Time\n",
    "\n",
    "* {ref}`Properties_of_Continuous_Time_LTI_Systems`\n",
    "* {ref}`eigenfunctions_of_continuous_time_LTI_systems`"
   ]
  },
  {
   "cell_type": "markdown",
   "id": "dff30e0f",
   "metadata": {
    "slideshow": {
     "slide_type": "slide"
    }
   },
   "source": [
    "(Properties_of_Continuous_Time_LTI_Systems)=\n",
    "## Properties of Continuous-Time LTI Systems"
   ]
  },
  {
   "cell_type": "markdown",
   "id": "d0c0a5ee",
   "metadata": {
    "slideshow": {
     "slide_type": "slide"
    }
   },
   "source": [
    "(eigenfunctions_of_continuous_time_LTI_systems)=\n",
    "## Eigenfunctions of Continuous-Time LTI Systems"
   ]
  },
  {
   "cell_type": "markdown",
   "id": "5439efd2",
   "metadata": {
    "slideshow": {
     "slide_type": "slide"
    }
   },
   "source": [
    "(Systems_Described_by_Differential_Equations)=\n",
    "## Systems Described by Differential Equations"
   ]
  },
  {
   "cell_type": "markdown",
   "id": "433da2e5",
   "metadata": {
    "slideshow": {
     "slide_type": "slide"
    }
   },
   "source": [
    "## Worked Solutions"
   ]
  },
  {
   "cell_type": "markdown",
   "id": "0b21660a",
   "metadata": {
    "slideshow": {
     "slide_type": "slide"
    }
   },
   "source": [
    "## Homework Problems"
   ]
  },
  {
   "cell_type": "markdown",
   "id": "a77f290d",
   "metadata": {
    "slideshow": {
     "slide_type": "slide"
    }
   },
   "source": [
    "## Lab Exercises"
   ]
  },
  {
   "cell_type": "markdown",
   "id": "069d0c2e",
   "metadata": {
    "slideshow": {
     "slide_type": "slide"
    }
   },
   "source": [
    "## Summary\n",
    "\n",
    "In this lecture we have started our look at LTI systems.\n",
    "\n",
    "In particular we have looked at\n",
    "\n",
    "* {ref}`Response_of_a_Continuous_Time_LTI_System_and_the_Convolution_Integral`\n",
    "* {ref}`examples_5_Responses_of_a_Continuous-Time_LTI_System_and_Convolution)`\n",
    "* {ref}`Properties_of_Continuous_Time_LTI_Systems`\n",
    "* {ref}`eigenfunctions_of_continuous_time_LTI_systems`\n",
    "* {ref}`Systems_Described_by_Differential_Equations`"
   ]
  }
 ],
 "metadata": {
  "jupytext": {
   "formats": "ipynb,md:myst",
   "text_representation": {
    "extension": ".md",
    "format_name": "myst",
    "format_version": 0.13,
    "jupytext_version": "1.14.0"
   }
  },
  "kernelspec": {
   "display_name": "Matlab",
   "language": "matlab",
   "name": "matlab"
  },
  "language_info": {
   "codemirror_mode": "octave",
   "file_extension": ".m",
   "help_links": [
    {
     "text": "MetaKernel Magics",
     "url": "https://metakernel.readthedocs.io/en/latest/source/README.html"
    }
   ],
   "mimetype": "text/x-octave",
   "name": "matlab",
   "version": "0.17.1"
  },
  "source_map": [
   15,
   27,
   31,
   41,
   46,
   55,
   64,
   70,
   76,
   80,
   86,
   92,
   96,
   109,
   117,
   121,
   125,
   129,
   137,
   144,
   150,
   156,
   162,
   170,
   234,
   240,
   244,
   248,
   254,
   258,
   263,
   274,
   278,
   283,
   287,
   292,
   296,
   301,
   305,
   310,
   314,
   319,
   323,
   333,
   340,
   345,
   350,
   355,
   359,
   363,
   367
  ]
 },
 "nbformat": 4,
 "nbformat_minor": 5
}