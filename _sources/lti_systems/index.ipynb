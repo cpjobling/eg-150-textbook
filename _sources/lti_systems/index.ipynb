{
 "cells": [
  {
   "cell_type": "markdown",
   "id": "c263e7a2",
   "metadata": {
    "slideshow": {
     "slide_type": "slide"
    }
   },
   "source": [
    "(lti_systems)=\n",
    "# Linear Time-Invariant Systems\n",
    "\n",
    "Based on Chapter 2 of {cite}`schaum` \n",
    "\n",
    "\n",
    "## Introduction\n",
    "\n",
    "Two most important attributes of systems are linearity and time invariance. In this chapter we develop the fundamental input-output relationship for systems having these attributes. It will be shown that the input output-relationship for LTI systems is described in terms of a convolution operation. The importance of the convolution operation in LTI systems stems from the fact that the knowledge of the system response and LTI system to the unit impulse response allows us to find its output to any input signals. Specifying the input-output relationships for LTI systems by differential equations will also be discussed."
   ]
  },
  {
   "cell_type": "markdown",
   "id": "e5f95a26",
   "metadata": {
    "slideshow": {
     "slide_type": "notes"
    }
   },
   "source": [
    "We will discuss specifying the input-output relationsships for discrete-time systems will be covered in **EG-247 Digital Signal Processing** next year."
   ]
  },
  {
   "cell_type": "markdown",
   "id": "8fd6976e",
   "metadata": {
    "slideshow": {
     "slide_type": "slide"
    }
   },
   "source": [
    "## Subjects to be covered\n",
    "\n",
    "* {ref}`Response_of_a_Continuous_Time_LTI_System_and_the_Convolution_Integral`\n",
    "* {ref}`Properties_of_Continuous_Time_LTI_Systems`\n",
    "* {ref}`eigenfunctions_of_continuous_time_LTI_systems`\n",
    "* {ref}`Systems_Described_by_Differential_Equations`"
   ]
  },
  {
   "cell_type": "markdown",
   "id": "3846a581",
   "metadata": {
    "slideshow": {
     "slide_type": "slide"
    }
   },
   "source": [
    "(Response_of_a_Continuous_Time_LTI_System_and_the_Convolution_Integral)=\n",
    "## Response of a Continuous-Time LTI System and the Convolution Integral"
   ]
  },
  {
   "cell_type": "markdown",
   "id": "ce488a10",
   "metadata": {
    "slideshow": {
     "slide_type": "fragment"
    }
   },
   "source": [
    "(impulse_reponse)=\n",
    "### A. Impulse Response\n",
    "\n",
    "The *impulse response* $h(t)$ of a continuous-time LTI system (represented by $\\mathbf{T}$) is defined as the response of the system when the input is $\\delta(t)$, that is,\n",
    "\n",
    "$$h(t) = \\mathbf{T}\\left\\{\\delta(t)\\right\\}$$"
   ]
  },
  {
   "cell_type": "markdown",
   "id": "9b09bbc3",
   "metadata": {
    "slideshow": {
     "slide_type": "subslide"
    }
   },
   "source": [
    "(abitrary_signal_response)=\n",
    "### B. Response to an Arbitrary Input\n",
    "\n",
    "From the {ref}`sifting_property)` \n",
    "\n",
    "$$\\int_{-\\infty}^{\\infty}f(t)\\delta(t-\\alpha)dt=f(\\alpha)$$"
   ]
  },
  {
   "cell_type": "markdown",
   "id": "6f16db1e",
   "metadata": {
    "slideshow": {
     "slide_type": "fragment"
    }
   },
   "source": [
    "an arbitrary continuous-time input can be expressed in terms of the Dirac delta function as\n",
    "\n",
    "$$x(\\tau) = \\int_{-\\infty}^{\\infty}x(\\tau)\\delta(t-\\tau)d\\tau = x(t)$$"
   ]
  },
  {
   "cell_type": "markdown",
   "id": "b044faec",
   "metadata": {
    "slideshow": {
     "slide_type": "subslide"
    }
   },
   "source": [
    "Since the system is linear, the response $y(t)$ of the system with arbitrary input $x(t)$ can be expressed as\n",
    "\n",
    "$$y(t) = \\mathbf{T}\\left\\{x(t)\\right\\} = \\mathbf{T}\\left\\{\\int_{-\\infty}^{\\infty}x(\\tau)\\delta(t-\\tau)\\,d\\tau\\right\\}$$"
   ]
  },
  {
   "cell_type": "markdown",
   "id": "1ccf6492",
   "metadata": {
    "slideshow": {
     "slide_type": "fragment"
    }
   },
   "source": [
    "$$ = \\int_{-\\infty}^{\\infty}x(t)\\mathbf{T}\\left\\{\\delta(t - \\tau)\\right\\}$$"
   ]
  },
  {
   "cell_type": "markdown",
   "id": "712c93e1",
   "metadata": {
    "slideshow": {
     "slide_type": "fragment"
    }
   },
   "source": [
    "Since the system is time-invariant, we have\n",
    "\n",
    "$$h(t-\\tau)=\\mathbf{T}\\left\\{\\delta(t-\\tau)\\right\\}\\,d\\tau$$"
   ]
  },
  {
   "cell_type": "markdown",
   "id": "b084df03",
   "metadata": {
    "slideshow": {
     "slide_type": "subslide"
    }
   },
   "source": [
    "Substituting $h(t-\\tau)$ into the equation for $y(t)$ gives\n",
    "\n",
    "$$y(t) = \\int_{-\\infty}^{\\infty}x(t)h(t-\\tau)\\,d\\tau$$"
   ]
  },
  {
   "cell_type": "markdown",
   "id": "864cfd89",
   "metadata": {
    "slideshow": {
     "slide_type": "fragment"
    }
   },
   "source": [
    "This equation indicates that a continuous-time LTI system is completely characterised by its impulse response $h(t)$."
   ]
  },
  {
   "cell_type": "markdown",
   "id": "20f0aaa1",
   "metadata": {
    "slideshow": {
     "slide_type": "subslide"
    }
   },
   "source": [
    "(convolution_integral)=\n",
    "### C. Convolution Integral\n",
    "\n",
    "The equation\n",
    "\n",
    "$$y(t) = \\int_{-\\infty}^{\\infty}x(t)h(t-\\tau)\\,d\\tau$$ defines the *convolution* of two continuous-time signals $x(t)$ and $h(t)$ denoted by\n",
    "\n",
    "$$y(t) = x(t) * h(t) = \\int_{-\\infty}^{\\infty}x(t)h(t-\\tau)\\,d\\tau$$"
   ]
  },
  {
   "cell_type": "markdown",
   "id": "a0f0e1f7",
   "metadata": {
    "slideshow": {
     "slide_type": "subslide"
    }
   },
   "source": [
    "The equation \n",
    "\n",
    "$$y(t) = x(t) * h(t) = \\int_{-\\infty}^{\\infty}x(t)h(t-\\tau)\\,d\\tau$$\n",
    "\n",
    "is commonly called the *convolution integral*."
   ]
  },
  {
   "cell_type": "markdown",
   "id": "b4079065",
   "metadata": {
    "slideshow": {
     "slide_type": "fragment"
    }
   },
   "source": [
    "Thus we have the fundamental result that:"
   ]
  },
  {
   "cell_type": "markdown",
   "id": "54731344",
   "metadata": {
    "slideshow": {
     "slide_type": "fragment"
    }
   },
   "source": [
    "*the output of any continuous-time LTI system is the convolution of the input $x(t)$ with the impulse response $h(t)$ of the system*."
   ]
  },
  {
   "cell_type": "markdown",
   "id": "8e5b80fb",
   "metadata": {
    "slideshow": {
     "slide_type": "subslide"
    }
   },
   "source": [
    "{numref}`fig:ct_lti_system` illustrates the definition of the impulse response $h(t)$ and the convolution integral."
   ]
  },
  {
   "cell_type": "markdown",
   "id": "3bedb561",
   "metadata": {
    "slideshow": {
     "slide_type": "fragment"
    }
   },
   "source": [
    ":::{figure-md} fig:ct_lti_system\n",
    "<img src=\"pictures/ct_lti_system.png\" alt=\"Continuous-time LTI system\" width=\"60%\">\n",
    "\n",
    "Continuous-time LTI system\n",
    ":::"
   ]
  },
  {
   "cell_type": "markdown",
   "id": "61842e14",
   "metadata": {
    "slideshow": {
     "slide_type": "subslide"
    }
   },
   "source": [
    "(props_of_con_integral)=\n",
    "### D. Properties of the Convolution Integral\n",
    "\n",
    "The convolution integral has the following properties."
   ]
  },
  {
   "cell_type": "markdown",
   "id": "3fcbb13e",
   "metadata": {
    "slideshow": {
     "slide_type": "fragment"
    }
   },
   "source": [
    "#### 1. Commutative:\n",
    "\n",
    "$$x(t) * h(t) = h(t) * x(t)$$"
   ]
  },
  {
   "cell_type": "markdown",
   "id": "8b72fb7f",
   "metadata": {
    "slideshow": {
     "slide_type": "fragment"
    }
   },
   "source": [
    "#### 2. Associative:\n",
    "\n",
    "$$\\left\\{x(t) * h_1(t)\\right\\} * h_2(t) = x(t) * \\left\\{h_1(t) * h_2(t)\\right\\}$$"
   ]
  },
  {
   "cell_type": "markdown",
   "id": "55d0bfe6",
   "metadata": {
    "slideshow": {
     "slide_type": "fragment"
    }
   },
   "source": [
    "#### 3. Distributive:\n",
    "\n",
    "$$x(t)*\\left\\{h_1(t) + h_2(t)\\right\\} = x(t)*h_1(t) + x(t)*h_2(t)$$"
   ]
  },
  {
   "cell_type": "markdown",
   "id": "e1e61d5d",
   "metadata": {
    "slideshow": {
     "slide_type": "subslide"
    }
   },
   "source": [
    "### E. Convolution Integral Operation"
   ]
  },
  {
   "cell_type": "markdown",
   "id": "e4bea6a7",
   "metadata": {
    "slideshow": {
     "slide_type": "subslide"
    }
   },
   "source": [
    "### F. Step Response"
   ]
  },
  {
   "cell_type": "markdown",
   "id": "0a2c5732",
   "metadata": {
    "slideshow": {
     "slide_type": "slide"
    }
   },
   "source": [
    "(Properties_of_Continuous_Time_LTI_Systems)=\n",
    "## Properties of Continuous-Time LTI Systems"
   ]
  },
  {
   "cell_type": "markdown",
   "id": "63ceb164",
   "metadata": {
    "slideshow": {
     "slide_type": "slide"
    }
   },
   "source": [
    "(eigenfunctions_of_continuous_time_LTI_systems)=\n",
    "## Eigenfunctions of Continuous-Time LTI Systems"
   ]
  },
  {
   "cell_type": "markdown",
   "id": "1e87b8dc",
   "metadata": {
    "slideshow": {
     "slide_type": "slide"
    }
   },
   "source": [
    "(Systems_Described_by_Differential_Equations)=\n",
    "## Systems Described by Differential Equations"
   ]
  },
  {
   "cell_type": "markdown",
   "id": "45b761b0",
   "metadata": {
    "slideshow": {
     "slide_type": "slide"
    }
   },
   "source": [
    "## Worked Solutions"
   ]
  },
  {
   "cell_type": "markdown",
   "id": "8c6c435a",
   "metadata": {
    "slideshow": {
     "slide_type": "slide"
    }
   },
   "source": [
    "## Homework Problems"
   ]
  },
  {
   "cell_type": "markdown",
   "id": "f2b685f7",
   "metadata": {
    "slideshow": {
     "slide_type": "slide"
    }
   },
   "source": [
    "## Lab Exercises"
   ]
  },
  {
   "cell_type": "markdown",
   "id": "6977b2e4",
   "metadata": {
    "slideshow": {
     "slide_type": "slide"
    }
   },
   "source": [
    "## Summary\n",
    "\n",
    "In this lecture we have started our look at LTI systems.\n",
    "\n",
    "In particular we have looked at\n",
    "\n",
    "* {ref}`Response_of_a_Continuous_Time_LTI_System_and_the_Convolution_Integral`\n",
    "* {ref}`Properties_of_Continuous_Time_LTI_Systems`\n",
    "* {ref}`eigenfunctions_of_continuous_time_LTI_systems`\n",
    "* {ref}`Systems_Described_by_Differential_Equations`"
   ]
  },
  {
   "cell_type": "markdown",
   "id": "8050af1e",
   "metadata": {
    "slideshow": {
     "slide_type": "slide"
    }
   },
   "source": [
    "## Next Time\n",
    "\n",
    "{ref}`Laplace Transforms and their Applications`"
   ]
  }
 ],
 "metadata": {
  "jupytext": {
   "formats": "ipynb,md:myst",
   "text_representation": {
    "extension": ".md",
    "format_name": "myst",
    "format_version": 0.13,
    "jupytext_version": "1.14.0"
   }
  },
  "kernelspec": {
   "display_name": "Matlab",
   "language": "matlab",
   "name": "matlab"
  },
  "language_info": {
   "codemirror_mode": "octave",
   "file_extension": ".m",
   "help_links": [
    {
     "text": "MetaKernel Magics",
     "url": "https://metakernel.readthedocs.io/en/latest/source/README.html"
    }
   ],
   "mimetype": "text/x-octave",
   "name": "matlab",
   "version": "0.17.1"
  },
  "source_map": [
   15,
   27,
   31,
   40,
   45,
   54,
   63,
   69,
   75,
   79,
   85,
   91,
   95,
   106,
   114,
   118,
   122,
   126,
   135,
   142,
   148,
   154,
   160,
   164,
   168,
   173,
   178,
   183,
   187,
   191,
   195,
   208
  ]
 },
 "nbformat": 4,
 "nbformat_minor": 5
}