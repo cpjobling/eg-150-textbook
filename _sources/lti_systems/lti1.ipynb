{
 "cells": [
  {
   "cell_type": "markdown",
   "id": "3a10dbcc",
   "metadata": {
    "slideshow": {
     "slide_type": "slide"
    }
   },
   "source": [
    "(Response_of_a_Continuous_Time_LTI_System_and_the_Convolution_Integral)=\n",
    "# Unit 3.1: Response of a Continuous-Time LTI System and the Convolution Integral\n",
    "\n",
    "This section is based on Section 2.1 of {cite}`schaum`."
   ]
  },
  {
   "cell_type": "markdown",
   "id": "27b38d74",
   "metadata": {
    "slideshow": {
     "slide_type": "subslide"
    }
   },
   "source": [
    "Follow along at [cpjobling.github.io/eg-150-textbook/lti_systems/lti1](https://cpjobling.github.io/eg-150-textbook/lti_systems/lti1)\n",
    "\n",
    "![QR Code for this lecture](pictures/qrcode_lti1.png)"
   ]
  },
  {
   "cell_type": "markdown",
   "id": "ca117691",
   "metadata": {
    "slideshow": {
     "slide_type": "notes"
    }
   },
   "source": [
    "## Subjects to be Covered\n",
    "\n",
    "* {ref}`impulse_reponse`\n",
    "* {ref}`abitrary_signal_response`\n",
    "* {ref}`convolution_integral`\n",
    "* {ref}`props_of_con_integral`\n",
    "* {ref}`convolution_operation`\n",
    "* {ref}`step_response`\n",
    "* {ref}`examples_5_Responses_of_a_Continuous_Time_LTI_System_and_Convolution`"
   ]
  },
  {
   "cell_type": "markdown",
   "id": "5f7603a1",
   "metadata": {
    "slideshow": {
     "slide_type": "subslide"
    }
   },
   "source": [
    "(impulse_reponse)=\n",
    "## A. Impulse Response\n",
    "\n",
    "The *impulse response* $h(t)$ of a continuous-time LTI system (represented by $\\mathbf{T}$) is defined as the response of the system when the input is $\\delta(t)$, that is,\n",
    "\n",
    "$$h(t) = \\mathbf{T}\\left\\{\\delta(t)\\right\\}$$"
   ]
  },
  {
   "cell_type": "markdown",
   "id": "4fdb4cc1",
   "metadata": {
    "slideshow": {
     "slide_type": "subslide"
    }
   },
   "source": [
    "(abitrary_signal_response)=\n",
    "## B. Response to an Arbitrary Input\n",
    "\n",
    "From the {ref}`sifting_property` \n",
    "\n",
    "$$\\int_{-\\infty}^{\\infty}f(t)\\delta(t-\\alpha)dt=f(\\alpha)$$"
   ]
  },
  {
   "cell_type": "markdown",
   "id": "5bc04490",
   "metadata": {
    "slideshow": {
     "slide_type": "fragment"
    }
   },
   "source": [
    "an arbitrary continuous-time input can be expressed in terms of the Dirac delta function as\n",
    "\n",
    "$$x(\\tau) = \\int_{-\\infty}^{\\infty}x(\\tau)\\delta(t-\\tau)d\\tau = x(t)$$"
   ]
  },
  {
   "cell_type": "markdown",
   "id": "81eca44b",
   "metadata": {
    "slideshow": {
     "slide_type": "subslide"
    }
   },
   "source": [
    "Since the system is linear, the response $y(t)$ of the system with arbitrary input $x(t)$ can be expressed as\n",
    "\n",
    "$$y(t) = \\mathbf{T}\\left\\{x(t)\\right\\} = \\mathbf{T}\\left\\{\\int_{-\\infty}^{\\infty}x(\\tau)\\delta(t-\\tau)\\,d\\tau\\right\\}$$"
   ]
  },
  {
   "cell_type": "markdown",
   "id": "d271f6a9",
   "metadata": {
    "slideshow": {
     "slide_type": "fragment"
    }
   },
   "source": [
    "$$ = \\int_{-\\infty}^{\\infty}x(t)\\mathbf{T}\\left\\{\\delta(t - \\tau)\\right\\}$$"
   ]
  },
  {
   "cell_type": "markdown",
   "id": "86f6326a",
   "metadata": {
    "slideshow": {
     "slide_type": "fragment"
    }
   },
   "source": [
    "Since the system is time-invariant, we have\n",
    "\n",
    "$$h(t-\\tau)=\\mathbf{T}\\left\\{\\delta(t-\\tau)\\right\\}\\,d\\tau$$"
   ]
  },
  {
   "cell_type": "markdown",
   "id": "58a45349",
   "metadata": {
    "slideshow": {
     "slide_type": "subslide"
    }
   },
   "source": [
    "Substituting $h(t-\\tau)$ into the equation for $y(t)$ gives\n",
    "\n",
    "$$y(t) = \\int_{-\\infty}^{\\infty}x(t)h(t-\\tau)\\,d\\tau$$"
   ]
  },
  {
   "cell_type": "markdown",
   "id": "966366f6",
   "metadata": {
    "slideshow": {
     "slide_type": "fragment"
    }
   },
   "source": [
    "This equation indicates that a continuous-time LTI system is completely characterised by its impulse response $h(t)$."
   ]
  },
  {
   "cell_type": "markdown",
   "id": "01b1c40a",
   "metadata": {
    "slideshow": {
     "slide_type": "subslide"
    }
   },
   "source": [
    "(convolution_integral)=\n",
    "## C. Convolution Integral\n",
    "\n",
    "The equation\n",
    "\n",
    "$$y(t) = \\int_{-\\infty}^{\\infty}x(\\tau)h(t-\\tau)\\,d\\tau$$ \n",
    "\n",
    "defines the *convolution* of two continuous-time signals $x(\\tau)$ and $h(t)$ denoted by\n",
    "\n",
    "$$y(t) = x(t) * h(t) = \\int_{-\\infty}^{\\infty}x(\\tau)h(t-\\tau)\\,d\\tau$$"
   ]
  },
  {
   "cell_type": "markdown",
   "id": "0b02630a",
   "metadata": {
    "slideshow": {
     "slide_type": "subslide"
    }
   },
   "source": [
    "The equation \n",
    "\n",
    "$$y(t) = x(t) * h(t) = \\int_{-\\infty}^{\\infty}x(\\tau)h(t-\\tau)\\,d\\tau$$\n",
    "\n",
    "is commonly called the *convolution integral*."
   ]
  },
  {
   "cell_type": "markdown",
   "id": "6800b20c",
   "metadata": {
    "slideshow": {
     "slide_type": "fragment"
    }
   },
   "source": [
    "Thus we have the fundamental result that:"
   ]
  },
  {
   "cell_type": "markdown",
   "id": "f3ccd691",
   "metadata": {
    "slideshow": {
     "slide_type": "fragment"
    }
   },
   "source": [
    "*the output of any continuous-time LTI system is the convolution of the input $x(t)$ with the impulse response $h(t)$ of the system*."
   ]
  },
  {
   "cell_type": "markdown",
   "id": "4aa0e479",
   "metadata": {
    "slideshow": {
     "slide_type": "subslide"
    }
   },
   "source": [
    "{numref}`fig:ct_lti_system` illustrates the definition of the impulse response $h(t)$ and the convolution integral."
   ]
  },
  {
   "cell_type": "markdown",
   "id": "694f2379",
   "metadata": {
    "slideshow": {
     "slide_type": "fragment"
    }
   },
   "source": [
    ":::{figure-md} fig:ct_lti_system\n",
    "<img src=\"pictures/ct_lti_system.png\" alt=\"Continuous-time LTI system\" width=\"60%\">\n",
    "\n",
    "Continuous-time LTI system\n",
    ":::"
   ]
  },
  {
   "cell_type": "markdown",
   "id": "e048969a",
   "metadata": {
    "slideshow": {
     "slide_type": "subslide"
    }
   },
   "source": [
    "(props_of_con_integral)=\n",
    "## D. Properties of the Convolution Integral\n",
    "\n",
    "The convolution integral has the following properties."
   ]
  },
  {
   "cell_type": "markdown",
   "id": "e6f6bfc2",
   "metadata": {
    "slideshow": {
     "slide_type": "subslide"
    }
   },
   "source": [
    "### 1. Commutative:\n",
    "\n",
    "$$x(t) * h(t) = h(t) * x(t)$$"
   ]
  },
  {
   "cell_type": "markdown",
   "id": "faa74e62",
   "metadata": {
    "slideshow": {
     "slide_type": "fragment"
    }
   },
   "source": [
    "### 2. Associative:\n",
    "\n",
    "$$\\left\\{x(t) * h_1(t)\\right\\} * h_2(t) = x(t) * \\left\\{h_1(t) * h_2(t)\\right\\}$$"
   ]
  },
  {
   "cell_type": "markdown",
   "id": "0a8d875a",
   "metadata": {
    "slideshow": {
     "slide_type": "fragment"
    }
   },
   "source": [
    "### 3. Distributive:\n",
    "\n",
    "$$x(t)*\\left\\{h_1(t) + h_2(t)\\right\\} = x(t)*h_1(t) + x(t)*h_2(t)$$"
   ]
  },
  {
   "cell_type": "markdown",
   "id": "574afbb3",
   "metadata": {
    "slideshow": {
     "slide_type": "subslide"
    }
   },
   "source": [
    "(convolution_operation)=\n",
    "## E. Convolution Integral Operation\n",
    "\n",
    "Applying the communitative propery of convolution to the convolution integral, we obtain\n",
    "\n",
    "$$y(t) = h(t) * x(t) = \\int_{-\\infty}^{\\infty}h(\\tau)x(t-\\tau)\\,d\\tau$$"
   ]
  },
  {
   "cell_type": "markdown",
   "id": "eb58e427",
   "metadata": {
    "slideshow": {
     "slide_type": "notes"
    }
   },
   "source": [
    "which may at times be easier to evaluate than\n",
    "\n",
    "$$y(t) = x(t) * h(t) = \\int_{-\\infty}^{\\infty}x(t)h(t-\\tau)\\,d\\tau$$"
   ]
  },
  {
   "cell_type": "markdown",
   "id": "ca10edec",
   "metadata": {
    "slideshow": {
     "slide_type": "subslide"
    }
   },
   "source": [
    "### Graphical Evaluation of the Convolution Integral\n",
    "\n",
    "The convolution integral is most conveniently evaluated by a graphical evaluation. We give three examples (5.4&mdash;5.6) which we will demonstrate in class using a [graphical visualization tool](https://uk.mathworks.com/matlabcentral/fileexchange/25199-graphical-demonstration-of-convolution) developed by Teja Muppirala of the Mathworks and updated by Rory Adams.\n",
    "\n",
    "The tool: [convolutiondemo.m](https://cpjobling.github.io/eg-247-textbook/laplace_transform/matlab/convolution_demo/convolutiondemo.m) (see [license.txt](https://cpjobling.github.io/eg-247-textbook/laplace_transform/matlab/convolution_demo/license.txt)).\n",
    "\n",
    "We will then work through the examples again in the examples class."
   ]
  },
  {
   "cell_type": "code",
   "execution_count": 1,
   "id": "56633b26",
   "metadata": {
    "slideshow": {
     "slide_type": "fragment"
    }
   },
   "outputs": [
    {
     "name": "stdout",
     "output_type": "stream",
     "text": [
      "\n",
      "ans =\n",
      "\n",
      "    '/Users/eechris/code/src/github.com/cpjobling/eg-150-textbook/lti_systems/matlab/convolution_demo'\n",
      "\n"
     ]
    }
   ],
   "source": [
    "clear all\n",
    "cd matlab/convolution_demo\n",
    "pwd"
   ]
  },
  {
   "cell_type": "code",
   "execution_count": 2,
   "id": "fbef4caf",
   "metadata": {
    "slideshow": {
     "slide_type": "fragment"
    }
   },
   "outputs": [
    {
     "name": "stdout",
     "output_type": "stream",
     "text": [
      "Warning: The EraseMode property is no longer supported and will error in a future release.\n"
     ]
    },
    {
     "name": "stdout",
     "output_type": "stream",
     "text": [
      "> In convolutiondemo>convolutiondemo_LayoutFcn (line 398)\n",
      "In convolutiondemo>gui_mainfcn (line 1181)\n",
      "In convolutiondemo (line 44)\n"
     ]
    }
   ],
   "source": [
    "convolutiondemo % ignore warnings"
   ]
  },
  {
   "cell_type": "markdown",
   "id": "cfd8bf82",
   "metadata": {
    "slideshow": {
     "slide_type": "subslide"
    }
   },
   "source": [
    "### Summary of Steps"
   ]
  },
  {
   "cell_type": "markdown",
   "id": "8b031885",
   "metadata": {
    "slideshow": {
     "slide_type": "fragment"
    }
   },
   "source": [
    "1. The inpulse response $h(\\tau)$ is time reversed (that is, reflected about the origin) to obtain $h(-\\tau)$ and then shifted by $t$ to form $h(t-\\tau) = h\\left[-(\\tau - t)\\right]$, which is a function of $\\tau$ with parameter $t$."
   ]
  },
  {
   "cell_type": "markdown",
   "id": "73ce06db",
   "metadata": {
    "slideshow": {
     "slide_type": "fragment"
    }
   },
   "source": [
    "2. The signal $x(\\tau)$ and $h(t-\\tau)$ are multiplied together for all values of $\\tau$ with $t$ fixed at some value."
   ]
  },
  {
   "cell_type": "markdown",
   "id": "450f2fff",
   "metadata": {
    "slideshow": {
     "slide_type": "fragment"
    }
   },
   "source": [
    "3. The product $x(\\tau)h(t-\\tau)$ is integrated over all $\\tau$ to produce a single output value $y(t)$."
   ]
  },
  {
   "cell_type": "markdown",
   "id": "c35b43b7",
   "metadata": {
    "slideshow": {
     "slide_type": "fragment"
    }
   },
   "source": [
    "4. Steps 1 to 3 are repeated as $t$ varies over $-\\infty$ to $\\infty$ to produce the entire output $y(t)$."
   ]
  },
  {
   "cell_type": "markdown",
   "id": "13146877",
   "metadata": {
    "slideshow": {
     "slide_type": "notes"
    }
   },
   "source": [
    "Examples of the above convolution integral operation are given in Examples 5.4 to 5.6."
   ]
  },
  {
   "cell_type": "markdown",
   "id": "db834cd0",
   "metadata": {
    "slideshow": {
     "slide_type": "subslide"
    }
   },
   "source": [
    "### Example\n",
    "\n",
    "We will do {ref}`ex5_4` in class"
   ]
  },
  {
   "cell_type": "markdown",
   "id": "8e85811f",
   "metadata": {
    "slideshow": {
     "slide_type": "subslide"
    }
   },
   "source": [
    "(step_response)=\n",
    "## F. Step Response\n",
    "\n",
    "The *step response* $s(t)$ of a continuous-time LTI system (represented by $\\mathbf{T}$) is defined by the response of the system when the input is $u_0(t)$; that is,\n",
    "\n",
    "$$s(t) = \\mathbf{T}\\left\\{u_0(t)\\right\\}$$"
   ]
  },
  {
   "cell_type": "markdown",
   "id": "c108128d",
   "metadata": {
    "slideshow": {
     "slide_type": "fragment"
    }
   },
   "source": [
    "In many applications, the step response $s(t)$ is also a useful characterisation of the system. The step response can be easily determined using the convolution integral; that is,\n",
    "\n",
    "$$s(t) = h(t)*u_0(t) = \\int_{-\\infty}^{\\infty} h(\\tau)u_0(t-\\tau)\\,d\\tau = \\int_{0}^{t} h(\\tau)\\,d\\tau$$"
   ]
  },
  {
   "cell_type": "markdown",
   "id": "aa8d988e",
   "metadata": {
    "slideshow": {
     "slide_type": "fragment"
    }
   },
   "source": [
    "Thus the step response $s(t)$ can be obtained by integrating the impulse response $h(t)$."
   ]
  },
  {
   "cell_type": "markdown",
   "id": "0be5f241",
   "metadata": {
    "slideshow": {
     "slide_type": "subslide"
    }
   },
   "source": [
    "### Impulse response from step response"
   ]
  },
  {
   "cell_type": "markdown",
   "id": "e4780cac",
   "metadata": {
    "slideshow": {
     "slide_type": "fragment"
    }
   },
   "source": [
    "Differentiating the step response with respect to $t$, we get\n",
    "\n",
    "$$h(t) = s'(t) = \\frac{ds(t)}{dt}$$"
   ]
  },
  {
   "cell_type": "markdown",
   "id": "f251ab06",
   "metadata": {
    "slideshow": {
     "slide_type": "fragment"
    }
   },
   "source": [
    "Thus the impulse response $h(t)$ can be determined by differentiating the step response $s(t)$."
   ]
  },
  {
   "cell_type": "markdown",
   "id": "1b6782e4",
   "metadata": {
    "slideshow": {
     "slide_type": "slide"
    }
   },
   "source": [
    "(examples_5_Responses_of_a_Continuous_Time_LTI_System_and_Convolution)=\n",
    "## Examples 5: Responses of a Continuous-Time LTI System and Convolution"
   ]
  },
  {
   "cell_type": "markdown",
   "id": "febaa26d",
   "metadata": {
    "slideshow": {
     "slide_type": "subslide"
    }
   },
   "source": [
    "(ex5_1)=\n",
    "### Example 5.1 \n",
    "\n",
    "Verify the following properties of the convolution integral; that is,\n",
    "\n",
    "(a) $x(t)*h(t) = h(t)*x(t)$\n",
    "\n",
    "(b) $\\left\\{x(t) * h_1(t)\\right\\} * h_2(t) = x(t)*\\left\\{h_1(t) * h_2(t)\\right\\}$"
   ]
  },
  {
   "cell_type": "markdown",
   "id": "45cba7d8",
   "metadata": {
    "slideshow": {
     "slide_type": "notes"
    }
   },
   "source": [
    "For the answer, refer to the lecture recording or see solved problem 2.1 in in {cite}`schaum`."
   ]
  },
  {
   "cell_type": "markdown",
   "id": "2c928fd2",
   "metadata": {
    "slideshow": {
     "slide_type": "subslide"
    }
   },
   "source": [
    "(ex5_2)=\n",
    "### Example 5.2\n",
    "\n",
    "Show that\n",
    "\n",
    "(a) $x(t) * \\delta(t) = x(t)$\n",
    "\n",
    "(b) $x(t) * \\delta(t-t_0) = x(t - t_0)$\n",
    "\n",
    "(c) $x(t)*u_0(t) = \\int_{-\\infty}^{t}x(\\tau)\\,d\\tau$\n",
    "\n",
    "(d) $x(t) * u_0(t - t_0) = \\int_{-\\infty}^{t_0}x(\\tau)\\,d\\tau$"
   ]
  },
  {
   "cell_type": "markdown",
   "id": "e910634e",
   "metadata": {
    "slideshow": {
     "slide_type": "notes"
    }
   },
   "source": [
    "For the answer, refer to the lecture recording or see solved problem 2.2 in in {cite}`schaum`."
   ]
  },
  {
   "cell_type": "markdown",
   "id": "d4ed6553",
   "metadata": {
    "slideshow": {
     "slide_type": "subslide"
    }
   },
   "source": [
    "(ex5_3)=\n",
    "### Example 5.3\n",
    "\n",
    "Let $y(t) = x(t) * h(t)$. Then show that\n",
    "\n",
    "$$x(t-t_1)*h(t-t_2) = y(t - t_1 - t_2)$$"
   ]
  },
  {
   "cell_type": "markdown",
   "id": "ad18a907",
   "metadata": {
    "slideshow": {
     "slide_type": "notes"
    }
   },
   "source": [
    "For the answer, refer to the lecture recording or see solved problem 2.3 in in {cite}`schaum`."
   ]
  },
  {
   "cell_type": "markdown",
   "id": "10555ee1",
   "metadata": {
    "slideshow": {
     "slide_type": "subslide"
    }
   },
   "source": [
    "(ex5_4)=\n",
    "### Example 5.4\n",
    "\n",
    "The input $x(t)$ and the impulse response $h(t)$ of a continuous-time LTI system are given by\n",
    "\n",
    "$$x(t) = u_0(t)$$\n",
    "\n",
    "$$h(t) = e^{-\\alpha t}u_0(t),\\;\\alpha > 0$$\n",
    "\n",
    "(a) Compute the output $y(t)$ by using the convolution integral\n",
    "\n",
    "$$y(t) = x(t) * h(t) = \\int_{-\\infty}^{\\infty}x(t)h(t-\\tau)\\,d\\tau$$\n",
    "\n",
    "(b) Compute the output $y(t)$ by using the convolution integral\n",
    "\n",
    "$$y(t) = h(t) * x(t) = \\int_{-\\infty}^{\\infty}h(\\tau)x(t-\\tau)\\,d\\tau$$"
   ]
  },
  {
   "cell_type": "markdown",
   "id": "50da023a",
   "metadata": {
    "slideshow": {
     "slide_type": "subslide"
    }
   },
   "source": [
    "#### Solutions\n",
    "\n",
    "##### (a) Graphical \n",
    "\n",
    "Using the *convolutiondemo* tool chose a value for $\\alpha$. I will use $\\alpha = 1$."
   ]
  },
  {
   "cell_type": "markdown",
   "id": "0be56860",
   "metadata": {
    "slideshow": {
     "slide_type": "fragment"
    }
   },
   "source": [
    "Then set `f(t)`, which represents $x(t)$, to `heaviside(t)` and `g(t)`. which represents $h(t)$ to `exp(-1*t)`"
   ]
  },
  {
   "cell_type": "markdown",
   "id": "8e0b0af2",
   "metadata": {
    "slideshow": {
     "slide_type": "subslide"
    }
   },
   "source": [
    "##### Manual solution\n",
    "\n",
    "For the manual solution, refer to the lecture recording or see solved problem 2.3 in in {cite}`schaum`."
   ]
  },
  {
   "cell_type": "markdown",
   "id": "a566bb0c",
   "metadata": {
    "slideshow": {
     "slide_type": "subslide"
    }
   },
   "source": [
    "##### MATLAB Solution\n",
    "\n",
    "We can also use the Symbolic Math Toolbox to solve the problem directly:"
   ]
  },
  {
   "cell_type": "code",
   "execution_count": 3,
   "id": "1071b6ca",
   "metadata": {
    "slideshow": {
     "slide_type": "fragment"
    }
   },
   "outputs": [
    {
     "data": {
      "image/png": "[encoded data removed]",
      "text/plain": [
       "<IPython.core.display.Image object>"
      ]
     },
     "metadata": {
      "filenames": {
       "image/png": "/Users/eechris/code/src/github.com/cpjobling/eg-150-textbook/_build/jupyter_execute/lti_systems/lti1_51_0.png"
      }
     },
     "output_type": "display_data"
    }
   ],
   "source": [
    "syms t tau alpha\n",
    "assume(alpha > 0)\n",
    "\n",
    "x(t) = heaviside(t); % unit step function\n",
    "subplot(211)\n",
    "fplot(x(t)),title('x(t)'),ylim([0,1.25])\n",
    "h(t) = exp(-alpha*t)*heaviside(t);\n",
    "subplot(212)\n",
    "fplot(subs(h(t),alpha,1)),title('h(t)')"
   ]
  },
  {
   "cell_type": "markdown",
   "id": "20420c8c",
   "metadata": {
    "slideshow": {
     "slide_type": "subslide"
    }
   },
   "source": [
    "Compute $y(t)$ using the MATLAB function `int` to compute the convolution integral symbolically."
   ]
  },
  {
   "cell_type": "code",
   "execution_count": 4,
   "id": "24b0cb0e",
   "metadata": {
    "slideshow": {
     "slide_type": "fragment"
    }
   },
   "outputs": [
    {
     "name": "stdout",
     "output_type": "stream",
     "text": [
      " \n"
     ]
    },
    {
     "name": "stdout",
     "output_type": "stream",
     "text": [
      "y(t) =\n",
      " \n"
     ]
    },
    {
     "name": "stdout",
     "output_type": "stream",
     "text": [
      "-(2*exp(-(alpha*t)/2)*(exp(-(alpha*t)/2)/2 - exp((alpha*t)/2)/2)*(sign(t)/2 + 1/2))/alpha\n"
     ]
    },
    {
     "name": "stdout",
     "output_type": "stream",
     "text": [
      " \n"
     ]
    }
   ],
   "source": [
    "y(t) = int(x(tau)*h(t - tau),tau,-Inf,Inf)"
   ]
  },
  {
   "cell_type": "markdown",
   "id": "f2e26000",
   "metadata": {},
   "source": [
    "Plot the result for $\\alpha = 1$"
   ]
  },
  {
   "cell_type": "code",
   "execution_count": 5,
   "id": "a97b845d",
   "metadata": {
    "slideshow": {
     "slide_type": "fragment"
    }
   },
   "outputs": [
    {
     "name": "stdout",
     "output_type": "stream",
     "text": [
      " \n"
     ]
    },
    {
     "name": "stdout",
     "output_type": "stream",
     "text": [
      "ya(t) =\n",
      " \n"
     ]
    },
    {
     "name": "stdout",
     "output_type": "stream",
     "text": [
      "-2*exp(-t/2)*(exp(-t/2)/2 - exp(t/2)/2)*(sign(t)/2 + 1/2)\n"
     ]
    },
    {
     "name": "stdout",
     "output_type": "stream",
     "text": [
      " \n"
     ]
    },
    {
     "data": {
      "image/png": "[encoded data removed]",
      "text/plain": [
       "<IPython.core.display.Image object>"
      ]
     },
     "metadata": {
      "filenames": {
       "image/png": "/Users/eechris/code/src/github.com/cpjobling/eg-150-textbook/_build/jupyter_execute/lti_systems/lti1_55_4.png"
      }
     },
     "output_type": "display_data"
    }
   ],
   "source": [
    "ya(t) = subs(y(t),alpha,1)\n",
    "fplot(ya(t))"
   ]
  },
  {
   "cell_type": "markdown",
   "id": "e96c8704",
   "metadata": {
    "slideshow": {
     "slide_type": "subslide"
    }
   },
   "source": [
    "##### (b) Graphical \n",
    "\n",
    "Reverse the settings for `f(t)`and `g(t)` in the *convolutiondemo* tool."
   ]
  },
  {
   "cell_type": "markdown",
   "id": "125cc00f",
   "metadata": {
    "slideshow": {
     "slide_type": "subslide"
    }
   },
   "source": [
    "##### Manual solution\n",
    "\n",
    "For the manual solution, refer to the lecture recording or see solved problem 2.3 in in {cite}`schaum`."
   ]
  },
  {
   "cell_type": "markdown",
   "id": "f5d3ce45",
   "metadata": {
    "slideshow": {
     "slide_type": "subslide"
    }
   },
   "source": [
    "##### MATLAB Solution\n",
    "\n",
    "Reverse the arguments to the `fplot` and `int` functions."
   ]
  },
  {
   "cell_type": "code",
   "execution_count": 6,
   "id": "db99b8fa",
   "metadata": {
    "slideshow": {
     "slide_type": "fragment"
    }
   },
   "outputs": [
    {
     "data": {
      "image/png": "[encoded data removed]",
      "text/plain": [
       "<IPython.core.display.Image object>"
      ]
     },
     "metadata": {
      "filenames": {
       "image/png": "/Users/eechris/code/src/github.com/cpjobling/eg-150-textbook/_build/jupyter_execute/lti_systems/lti1_59_0.png"
      }
     },
     "output_type": "display_data"
    }
   ],
   "source": [
    "subplot(211)\n",
    "fplot(subs(h(t),alpha,1)),title('h(t)'),ylim([0,1.25])\n",
    "subplot(212)\n",
    "fplot(x(t)),title('x(t)'),ylim([0,1.25])"
   ]
  },
  {
   "cell_type": "code",
   "execution_count": 7,
   "id": "657474f1",
   "metadata": {
    "slideshow": {
     "slide_type": "fragment"
    }
   },
   "outputs": [
    {
     "name": "stdout",
     "output_type": "stream",
     "text": [
      " \n"
     ]
    },
    {
     "name": "stdout",
     "output_type": "stream",
     "text": [
      "y(t) =\n",
      " \n"
     ]
    },
    {
     "name": "stdout",
     "output_type": "stream",
     "text": [
      "-(2*exp(-(alpha*t)/2)*(exp(-(alpha*t)/2)/2 - exp((alpha*t)/2)/2)*(sign(t)/2 + 1/2))/alpha\n"
     ]
    },
    {
     "name": "stdout",
     "output_type": "stream",
     "text": [
      " \n"
     ]
    }
   ],
   "source": [
    "y(t) = int(h(tau)*x(t - tau),tau,-Inf,Inf)"
   ]
  },
  {
   "cell_type": "markdown",
   "id": "d475481b",
   "metadata": {
    "slideshow": {
     "slide_type": "subslide"
    }
   },
   "source": [
    "Plot the result for $\\alpha = 1$"
   ]
  },
  {
   "cell_type": "code",
   "execution_count": 8,
   "id": "2b723ecf",
   "metadata": {
    "slideshow": {
     "slide_type": "fragment"
    }
   },
   "outputs": [
    {
     "name": "stdout",
     "output_type": "stream",
     "text": [
      " \n"
     ]
    },
    {
     "name": "stdout",
     "output_type": "stream",
     "text": [
      "yb(t) =\n"
     ]
    },
    {
     "name": "stdout",
     "output_type": "stream",
     "text": [
      " \n"
     ]
    },
    {
     "name": "stdout",
     "output_type": "stream",
     "text": [
      "-2*exp(-t/2)*(exp(-t/2)/2 - exp(t/2)/2)*(sign(t)/2 + 1/2)\n"
     ]
    },
    {
     "name": "stdout",
     "output_type": "stream",
     "text": [
      " \n"
     ]
    },
    {
     "data": {
      "image/png": "[encoded data removed]",
      "text/plain": [
       "<IPython.core.display.Image object>"
      ]
     },
     "metadata": {
      "filenames": {
       "image/png": "/Users/eechris/code/src/github.com/cpjobling/eg-150-textbook/_build/jupyter_execute/lti_systems/lti1_62_5.png"
      }
     },
     "output_type": "display_data"
    }
   ],
   "source": [
    "yb(t) = subs(y(t),alpha,1)\n",
    "fplot(yb(t))"
   ]
  },
  {
   "cell_type": "markdown",
   "id": "4457e291",
   "metadata": {
    "slideshow": {
     "slide_type": "subslide"
    }
   },
   "source": [
    "Go back to {ref}`step_response`"
   ]
  },
  {
   "cell_type": "markdown",
   "id": "4685540c",
   "metadata": {
    "slideshow": {
     "slide_type": "subslide"
    }
   },
   "source": [
    "(ex5_5)=\n",
    "### Example 5.5\n",
    "\n",
    "Compute the output $y(t)$ for a continuous-time LTI system whose impulse response $h(t)$ and the input $x(t)$ are given by\n",
    "\n",
    "$$h(t) = e^{-\\alpha t}u_0(t)$$\n",
    "\n",
    "$$x(t) = e^{\\alpha t}u_0(-t)$$\n",
    "\n",
    "$$\\alpha > 0.$$"
   ]
  },
  {
   "cell_type": "markdown",
   "id": "cd9e0f40",
   "metadata": {
    "slideshow": {
     "slide_type": "subslide"
    }
   },
   "source": [
    "#### Solutions\n",
    "\n",
    "##### Manual solution\n",
    "\n",
    "For the manual solution, refer to the lecture recording or see solved problem 2.3 in in {cite}`schaum`."
   ]
  },
  {
   "cell_type": "markdown",
   "id": "bbd6c91b",
   "metadata": {
    "slideshow": {
     "slide_type": "subslide"
    }
   },
   "source": [
    "##### MATLAB Solution\n",
    "\n",
    "We can also use the Symbolic Math Toolbox to solve the problem directly:"
   ]
  },
  {
   "cell_type": "code",
   "execution_count": 9,
   "id": "ba0e55ec",
   "metadata": {
    "slideshow": {
     "slide_type": "fragment"
    }
   },
   "outputs": [
    {
     "data": {
      "image/png": "[encoded data removed]",
      "text/plain": [
       "<IPython.core.display.Image object>"
      ]
     },
     "metadata": {
      "filenames": {
       "image/png": "/Users/eechris/code/src/github.com/cpjobling/eg-150-textbook/_build/jupyter_execute/lti_systems/lti1_67_0.png"
      }
     },
     "output_type": "display_data"
    }
   ],
   "source": [
    "x(t) = exp(t)*heaviside(-t);\n",
    "subplot(211)\n",
    "fplot(x(t)),,title('x(t)')\n",
    "h(t) = exp(-1*t)*heaviside(t);\n",
    "subplot(212)\n",
    "fplot(h(t)),title('h(t)')"
   ]
  },
  {
   "cell_type": "markdown",
   "id": "e3e66727",
   "metadata": {
    "slideshow": {
     "slide_type": "subslide"
    }
   },
   "source": [
    "Compute $y(t)$ using the convolution integral"
   ]
  },
  {
   "cell_type": "code",
   "execution_count": 10,
   "id": "41af1582",
   "metadata": {
    "slideshow": {
     "slide_type": "fragment"
    }
   },
   "outputs": [
    {
     "name": "stdout",
     "output_type": "stream",
     "text": [
      " \n"
     ]
    },
    {
     "name": "stdout",
     "output_type": "stream",
     "text": [
      "y(t) =\n"
     ]
    },
    {
     "name": "stdout",
     "output_type": "stream",
     "text": [
      " \n"
     ]
    },
    {
     "name": "stdout",
     "output_type": "stream",
     "text": [
      "piecewise(0 <= t, exp(-t)/2, t <= 0, exp(t)/2)\n"
     ]
    },
    {
     "name": "stdout",
     "output_type": "stream",
     "text": [
      " \n"
     ]
    }
   ],
   "source": [
    "y(t) = int(x(tau)*h(t - tau),tau,-Inf,Inf)"
   ]
  },
  {
   "cell_type": "markdown",
   "id": "322cfc9d",
   "metadata": {
    "slideshow": {
     "slide_type": "fragment"
    }
   },
   "source": [
    "Plot the result for $\\alpha = 1$"
   ]
  },
  {
   "cell_type": "code",
   "execution_count": 11,
   "id": "0380c6c3",
   "metadata": {
    "slideshow": {
     "slide_type": "fragment"
    }
   },
   "outputs": [
    {
     "data": {
      "image/png": "[encoded data removed]",
      "text/plain": [
       "<IPython.core.display.Image object>"
      ]
     },
     "metadata": {
      "filenames": {
       "image/png": "/Users/eechris/code/src/github.com/cpjobling/eg-150-textbook/_build/jupyter_execute/lti_systems/lti1_71_0.png"
      }
     },
     "output_type": "display_data"
    }
   ],
   "source": [
    "fplot(y(t)),title('y(t) = x(t) * y(t)')"
   ]
  },
  {
   "cell_type": "markdown",
   "id": "bf49041e",
   "metadata": {
    "slideshow": {
     "slide_type": "subslide"
    }
   },
   "source": [
    "(ex5_6)=\n",
    "### Example 5.6\n",
    "\n",
    "Evaluate $y(t) = x(t) * h(t)$, where $x(t)$ and $h(t)$ are shown in {numref}`fig:ex:5.6`, by an alalytical technique, and (b) by a graphical method.\n",
    "\n",
    ":::{figure-md} fig:ex:5.6\n",
    "<img src=\"pictures/ex5_6.png\" alt=\"Signal and system for example 5.6\" width=\"60%\">\n",
    "\n",
    "Signal and system for example 5.6\n",
    ":::"
   ]
  },
  {
   "cell_type": "markdown",
   "id": "c8c78869",
   "metadata": {
    "slideshow": {
     "slide_type": "subslide"
    }
   },
   "source": [
    "#### Solutions\n",
    "\n",
    "##### (a) Analytical \n",
    "\n",
    "We first express $x(t)$ and $h(t)$ in functional form using the unit step (or *Heaviside* function)\n",
    "\n",
    "$$x(t) = u_0(t) - u_0(t-3)$$\n",
    "\n",
    "$$h(t) = u_0(t) - u_0(t-2)$$"
   ]
  },
  {
   "cell_type": "markdown",
   "id": "52691863",
   "metadata": {
    "slideshow": {
     "slide_type": "fragment"
    }
   },
   "source": [
    "We will use the MATLAB Symbolic Math Toolbox:"
   ]
  },
  {
   "cell_type": "code",
   "execution_count": 12,
   "id": "7a204a13",
   "metadata": {
    "slideshow": {
     "slide_type": "fragment"
    }
   },
   "outputs": [
    {
     "data": {
      "image/png": "[encoded data removed]",
      "text/plain": [
       "<IPython.core.display.Image object>"
      ]
     },
     "metadata": {
      "filenames": {
       "image/png": "/Users/eechris/code/src/github.com/cpjobling/eg-150-textbook/_build/jupyter_execute/lti_systems/lti1_75_0.png"
      }
     },
     "output_type": "display_data"
    }
   ],
   "source": [
    "x(t) = heaviside(t)-heaviside(t-3);\n",
    "h(t) = heaviside(t)-heaviside(t-2);\n",
    "subplot(121)\n",
    "fplot(x(t),[-3,6]),grid,ylim([0,3]),ylabel('x(t)'),xlabel('t')\n",
    "subplot(122)\n",
    "fplot(h(t),[-3,6]),grid,ylim([0,3]),ylabel('h(t)'),xlabel('t')"
   ]
  },
  {
   "cell_type": "markdown",
   "id": "0d545f8b",
   "metadata": {
    "slideshow": {
     "slide_type": "subslide"
    }
   },
   "source": [
    "Compute $y(t)$"
   ]
  },
  {
   "cell_type": "code",
   "execution_count": 13,
   "id": "eddde9ea",
   "metadata": {
    "slideshow": {
     "slide_type": "fragment"
    }
   },
   "outputs": [
    {
     "name": "stdout",
     "output_type": "stream",
     "text": [
      " \n"
     ]
    },
    {
     "name": "stdout",
     "output_type": "stream",
     "text": [
      "y(t) =\n",
      " \n"
     ]
    },
    {
     "name": "stdout",
     "output_type": "stream",
     "text": [
      "heaviside(t - 5)*(t - 5) - heaviside(t - 3)*(t - 3) - heaviside(t - 2)*(t - 2) + t*heaviside(t)\n"
     ]
    },
    {
     "name": "stdout",
     "output_type": "stream",
     "text": [
      " \n"
     ]
    }
   ],
   "source": [
    "y(t) = int(x(tau)*h(t - tau),tau,-Inf,Inf)"
   ]
  },
  {
   "cell_type": "markdown",
   "id": "2976d7ea",
   "metadata": {},
   "source": [
    "Plot the result"
   ]
  },
  {
   "cell_type": "code",
   "execution_count": 14,
   "id": "c4e0df64",
   "metadata": {
    "slideshow": {
     "slide_type": "fragment"
    }
   },
   "outputs": [
    {
     "data": {
      "image/png": "[encoded data removed]",
      "text/plain": [
       "<IPython.core.display.Image object>"
      ]
     },
     "metadata": {
      "filenames": {
       "image/png": "/Users/eechris/code/src/github.com/cpjobling/eg-150-textbook/_build/jupyter_execute/lti_systems/lti1_79_0.png"
      }
     },
     "output_type": "display_data"
    }
   ],
   "source": [
    "fplot(y(t),[-3,6]),grid,ylim([0,2.5]),ylabel('h(t)'),xlabel('t')"
   ]
  },
  {
   "cell_type": "markdown",
   "id": "738ea842",
   "metadata": {
    "slideshow": {
     "slide_type": "subslide"
    }
   },
   "source": [
    "##### (b) Graphical \n",
    "\n",
    "Since both functions are unity between the limits set by the Heaviside function, graphical solution requires multiple applications of the definate integral\n",
    "\n",
    "$$\\int_{t_0}^{t_1}1\\times 1\\,d\\tau = \\int_{t_0}^{t_1}1\\,d\\tau$$\n",
    "\n",
    "with different values for the limits $t_0$ and $t_1$. The *convolutiondemo* tool can help us discover the limits for the piecewise continuous signal $y(t)$."
   ]
  },
  {
   "cell_type": "markdown",
   "id": "d7d12b18",
   "metadata": {
    "slideshow": {
     "slide_type": "notes"
    }
   },
   "source": [
    "For the complete solution to Example 5.2 refer to the lecture recording or see solved problem 2.6 in in {cite}`schaum`."
   ]
  },
  {
   "cell_type": "markdown",
   "id": "487c7be4",
   "metadata": {
    "slideshow": {
     "slide_type": "slide"
    }
   },
   "source": [
    "## Summary\n",
    "\n",
    "In this lecture we have looked at\n",
    "* {ref}`abitrary_signal_response`\n",
    "* {ref}`convolution_integral`\n",
    "* {ref}`props_of_con_integral`\n",
    "* {ref}`convolution_operation`\n",
    "* {ref}`step_response`\n",
    "\n",
    "### Unit 3.1: Take Aways\n",
    "\n",
    "* *Impulse response*: $h(t) = \\mathbf{T}\\left\\{\\delta(t)\\right\\}$\n",
    "* *Arbitrary system response*: $y(t) = \\int_{-\\infty}^{\\infty} x(t)h(t-\\tau)\\,d\\tau$\n",
    "* *Convolution itegral*: $y(t) = x(t)*h(t) = \\int_{-\\infty}^{\\infty} x(t)h(t-\\tau)\\,d\\tau = \\int_{-\\infty}^{\\infty} x(t=\\tau)h(t)\\,d\\tau$\n",
    "* *Properties of the convolution integral:\n",
    "  * *Communitative*: $x(t) * h(t) = h(t) * x(t)$\n",
    "  * *Associative*: $\\left\\{x(t) * h_1(t) \\right\\} * h_2(t) = x(t)*\\left\\{h_1(t) * h_2(t) \\right\\}$\n",
    "  * *Distributive*: $x(t)*\\left\\{h_1(t) + h_2(t)\\right\\} = x(t)*h_1(t) + x(t) * h_2(t)$\n",
    "* The convolution integral can be computed graphically or analytically."
   ]
  },
  {
   "cell_type": "markdown",
   "id": "bc65b7e4",
   "metadata": {
    "slideshow": {
     "slide_type": "slide"
    }
   },
   "source": [
    "## Next Time\n",
    "\n",
    "We continue our introduction to continuous-time LTI system by considering\n",
    "\n",
    "* {ref}`Properties_of_Continuous_Time_LTI_Systems`\n",
    "* {ref}`eigenfunctions_of_continuous_time_LTI_systems`\n",
    "\n",
    "## References\n",
    "\n",
    "```{bibliography}\n",
    ":filter: docname in docnames\n",
    "```"
   ]
  }
 ],
 "metadata": {
  "jupytext": {
   "formats": "ipynb,md:myst",
   "text_representation": {
    "extension": ".md",
    "format_name": "myst",
    "format_version": 0.13,
    "jupytext_version": "1.14.4"
   }
  },
  "kernelspec": {
   "display_name": "Matlab",
   "language": "matlab",
   "name": "matlab"
  },
  "language_info": {
   "codemirror_mode": "octave",
   "file_extension": ".m",
   "help_links": [
    {
     "text": "MetaKernel Magics",
     "url": "https://metakernel.readthedocs.io/en/latest/source/README.html"
    }
   ],
   "mimetype": "text/x-octave",
   "name": "matlab",
   "version": "0.17.1"
  },
  "source_map": [
   15,
   22,
   28,
   40,
   49,
   58,
   64,
   70,
   74,
   80,
   86,
   90,
   103,
   111,
   115,
   119,
   123,
   131,
   138,
   144,
   150,
   156,
   165,
   171,
   181,
   191,
   199,
   203,
   207,
   211,
   215,
   219,
   223,
   229,
   238,
   244,
   248,
   252,
   258,
   262,
   267,
   278,
   282,
   297,
   301,
   310,
   314,
   333,
   341,
   345,
   351,
   357,
   373,
   377,
   383,
   387,
   396,
   402,
   408,
   414,
   425,
   433,
   437,
   446,
   450,
   463,
   471,
   477,
   490,
   494,
   502,
   506,
   514,
   527,
   539,
   543,
   556,
   560,
   566,
   570,
   578,
   588,
   592,
   614
  ]
 },
 "nbformat": 4,
 "nbformat_minor": 5
}