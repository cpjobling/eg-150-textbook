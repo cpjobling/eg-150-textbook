{
 "cells": [
  {
   "cell_type": "markdown",
   "id": "cd9cca61",
   "metadata": {
    "slideshow": {
     "slide_type": "slide"
    }
   },
   "source": [
    "(Response_of_a_Continuous_Time_LTI_System_and_the_Convolution_Integral)=\n",
    "# Response of a Continuous-Time LTI System and the Convolution Integral\n",
    "\n",
    "This section is based on Section 2.1 of {cite}`schaum`."
   ]
  },
  {
   "cell_type": "markdown",
   "id": "2f9de583",
   "metadata": {
    "slideshow": {
     "slide_type": "slide"
    }
   },
   "source": [
    "## Subjects to be Covered\n",
    "\n",
    "* {ref}`impulse_reponse`\n",
    "* {ref}`abitrary_signal_response`\n",
    "* {ref}`convolution_integral`\n",
    "* {ref}`props_of_con_integral`\n",
    "* {ref}`convolution_operation`\n",
    "* {ref}`step_response`\n",
    "* {ref}`examples_5_Responses_of_a_Continuous_Time_LTI_System_and_Convolution`"
   ]
  },
  {
   "cell_type": "markdown",
   "id": "70919c5f",
   "metadata": {
    "slideshow": {
     "slide_type": "fragment"
    }
   },
   "source": [
    "(impulse_reponse)=\n",
    "## A. Impulse Response\n",
    "\n",
    "The *impulse response* $h(t)$ of a continuous-time LTI system (represented by $\\mathbf{T}$) is defined as the response of the system when the input is $\\delta(t)$, that is,\n",
    "\n",
    "$$h(t) = \\mathbf{T}\\left\\{\\delta(t)\\right\\}$$"
   ]
  },
  {
   "cell_type": "markdown",
   "id": "eb70b1f8",
   "metadata": {
    "slideshow": {
     "slide_type": "subslide"
    }
   },
   "source": [
    "(abitrary_signal_response)=\n",
    "## B. Response to an Arbitrary Input\n",
    "\n",
    "From the {ref}`sifting_property` \n",
    "\n",
    "$$\\int_{-\\infty}^{\\infty}f(t)\\delta(t-\\alpha)dt=f(\\alpha)$$"
   ]
  },
  {
   "cell_type": "markdown",
   "id": "f4f7d8d7",
   "metadata": {
    "slideshow": {
     "slide_type": "fragment"
    }
   },
   "source": [
    "an arbitrary continuous-time input can be expressed in terms of the Dirac delta function as\n",
    "\n",
    "$$x(\\tau) = \\int_{-\\infty}^{\\infty}x(\\tau)\\delta(t-\\tau)d\\tau = x(t)$$"
   ]
  },
  {
   "cell_type": "markdown",
   "id": "25307f98",
   "metadata": {
    "slideshow": {
     "slide_type": "subslide"
    }
   },
   "source": [
    "Since the system is linear, the response $y(t)$ of the system with arbitrary input $x(t)$ can be expressed as\n",
    "\n",
    "$$y(t) = \\mathbf{T}\\left\\{x(t)\\right\\} = \\mathbf{T}\\left\\{\\int_{-\\infty}^{\\infty}x(\\tau)\\delta(t-\\tau)\\,d\\tau\\right\\}$$"
   ]
  },
  {
   "cell_type": "markdown",
   "id": "2ce452f0",
   "metadata": {
    "slideshow": {
     "slide_type": "fragment"
    }
   },
   "source": [
    "$$ = \\int_{-\\infty}^{\\infty}x(t)\\mathbf{T}\\left\\{\\delta(t - \\tau)\\right\\}$$"
   ]
  },
  {
   "cell_type": "markdown",
   "id": "cecb3007",
   "metadata": {
    "slideshow": {
     "slide_type": "fragment"
    }
   },
   "source": [
    "Since the system is time-invariant, we have\n",
    "\n",
    "$$h(t-\\tau)=\\mathbf{T}\\left\\{\\delta(t-\\tau)\\right\\}\\,d\\tau$$"
   ]
  },
  {
   "cell_type": "markdown",
   "id": "06804c24",
   "metadata": {
    "slideshow": {
     "slide_type": "subslide"
    }
   },
   "source": [
    "Substituting $h(t-\\tau)$ into the equation for $y(t)$ gives\n",
    "\n",
    "$$y(t) = \\int_{-\\infty}^{\\infty}x(t)h(t-\\tau)\\,d\\tau$$"
   ]
  },
  {
   "cell_type": "markdown",
   "id": "a22dbe68",
   "metadata": {
    "slideshow": {
     "slide_type": "fragment"
    }
   },
   "source": [
    "This equation indicates that a continuous-time LTI system is completely characterised by its impulse response $h(t)$."
   ]
  },
  {
   "cell_type": "markdown",
   "id": "1509fbd9",
   "metadata": {
    "slideshow": {
     "slide_type": "subslide"
    }
   },
   "source": [
    "(convolution_integral)=\n",
    "## C. Convolution Integral\n",
    "\n",
    "The equation\n",
    "\n",
    "$$y(t) = \\int_{-\\infty}^{\\infty}x(t)h(t-\\tau)\\,d\\tau$$ \n",
    "\n",
    "defines the *convolution* of two continuous-time signals $x(t)$ and $h(t)$ denoted by\n",
    "\n",
    "$$y(t) = x(t) * h(t) = \\int_{-\\infty}^{\\infty}x(t)h(t-\\tau)\\,d\\tau$$"
   ]
  },
  {
   "cell_type": "markdown",
   "id": "0ebcae0c",
   "metadata": {
    "slideshow": {
     "slide_type": "subslide"
    }
   },
   "source": [
    "The equation \n",
    "\n",
    "$$y(t) = x(t) * h(t) = \\int_{-\\infty}^{\\infty}x(t)h(t-\\tau)\\,d\\tau$$\n",
    "\n",
    "is commonly called the *convolution integral*."
   ]
  },
  {
   "cell_type": "markdown",
   "id": "7c061760",
   "metadata": {
    "slideshow": {
     "slide_type": "fragment"
    }
   },
   "source": [
    "Thus we have the fundamental result that:"
   ]
  },
  {
   "cell_type": "markdown",
   "id": "21419d27",
   "metadata": {
    "slideshow": {
     "slide_type": "fragment"
    }
   },
   "source": [
    "*the output of any continuous-time LTI system is the convolution of the input $x(t)$ with the impulse response $h(t)$ of the system*."
   ]
  },
  {
   "cell_type": "markdown",
   "id": "3399d226",
   "metadata": {
    "slideshow": {
     "slide_type": "subslide"
    }
   },
   "source": [
    "{numref}`fig:ct_lti_system` illustrates the definition of the impulse response $h(t)$ and the convolution integral."
   ]
  },
  {
   "cell_type": "markdown",
   "id": "5ef28f37",
   "metadata": {
    "slideshow": {
     "slide_type": "fragment"
    }
   },
   "source": [
    ":::{figure-md} fig:ct_lti_system\n",
    "<img src=\"pictures/ct_lti_system.png\" alt=\"Continuous-time LTI system\" width=\"60%\">\n",
    "\n",
    "Continuous-time LTI system\n",
    ":::"
   ]
  },
  {
   "cell_type": "markdown",
   "id": "044e13d8",
   "metadata": {
    "slideshow": {
     "slide_type": "subslide"
    }
   },
   "source": [
    "(props_of_con_integral)=\n",
    "## D. Properties of the Convolution Integral\n",
    "\n",
    "The convolution integral has the following properties."
   ]
  },
  {
   "cell_type": "markdown",
   "id": "9065c741",
   "metadata": {
    "slideshow": {
     "slide_type": "fragment"
    }
   },
   "source": [
    "### 1. Commutative:\n",
    "\n",
    "$$x(t) * h(t) = h(t) * x(t)$$"
   ]
  },
  {
   "cell_type": "markdown",
   "id": "6a1a336f",
   "metadata": {
    "slideshow": {
     "slide_type": "fragment"
    }
   },
   "source": [
    "### 2. Associative:\n",
    "\n",
    "$$\\left\\{x(t) * h_1(t)\\right\\} * h_2(t) = x(t) * \\left\\{h_1(t) * h_2(t)\\right\\}$$"
   ]
  },
  {
   "cell_type": "markdown",
   "id": "31c61b5d",
   "metadata": {
    "slideshow": {
     "slide_type": "fragment"
    }
   },
   "source": [
    "### 3. Distributive:\n",
    "\n",
    "$$x(t)*\\left\\{h_1(t) + h_2(t)\\right\\} = x(t)*h_1(t) + x(t)*h_2(t)$$"
   ]
  },
  {
   "cell_type": "markdown",
   "id": "167946ee",
   "metadata": {
    "slideshow": {
     "slide_type": "subslide"
    }
   },
   "source": [
    "(convolution_operation)=\n",
    "## E. Convolution Integral Operation\n",
    "\n",
    "Applying the communitative propery of convolution to the convolution integral, we obtain\n",
    "\n",
    "$$y(t) = h(t) * x(t) = \\int_{-\\infty}^{\\infty}h(\\tau)x(t-\\tau)\\,d\\tau$$"
   ]
  },
  {
   "cell_type": "markdown",
   "id": "25e43b1b",
   "metadata": {
    "slideshow": {
     "slide_type": "notes"
    }
   },
   "source": [
    "which may at times be easier to evaluate than\n",
    "\n",
    "$$y(t) = x(t) * h(t) = \\int_{-\\infty}^{\\infty}x(t)h(t-\\tau)\\,d\\tau$$.\n",
    "\n",
    "+++ {\"slideshow\": {\"slide_type\": \"subslide\"}}\n",
    "\n",
    "### Graphical Evaluation of the Convolution Integral\n",
    "\n",
    "The convolution integral is most conveniently evaluated by a graphical evaluation. We give three examples (5.4&mdash;5.6) which we will demonstrate in class using a [graphical visualization tool](https://uk.mathworks.com/matlabcentral/fileexchange/25199-graphical-demonstration-of-convolution) developed by Teja Muppirala of the Mathworks.\n",
    "\n",
    "We will then work through the examples again in the examples class.\n",
    "\n",
    "```{code-cell}\n",
    "---\n",
    "slideshow:\n",
    "  slide_type: fragment\n",
    "---\n",
    "clear all\n",
    "cd matlab/convolutiondemo\n",
    "pwd\n",
    "```\n",
    "\n",
    "```{code-cell}\n",
    "---\n",
    "slideshow:\n",
    "  slide_type: fragment\n",
    "---\n",
    "convolutiondemo % ignore warnings\n",
    "```\n",
    "\n",
    "+++ {\"slideshow\": {\"slide_type\": \"subslide\"}}\n",
    "\n",
    "### Summary of Steps\n",
    "\n",
    "+++ {\"slideshow\": {\"slide_type\": \"fragment\"}}\n",
    "\n",
    "1. The inpulse response $h(\\tau)$ is time reversed (that is, reflected about the origin) to obtain $h(-\\tau)$ and then shifted by $\\tau$ to form $h(t-\\tau) = h\\left[-(\\tau - t)\\right]$, which is a function of $\\tau$ with parameter $t$.\n",
    "\n",
    "+++ {\"slideshow\": {\"slide_type\": \"fragment\"}}\n",
    "\n",
    "2. The signal $x(\\tau)$ and $h(t-\\tau)$ are multiplied together for all values of $\\tau$ with $t$ fixed at some value.\n",
    "\n",
    "+++ {\"slideshow\": {\"slide_type\": \"fragment\"}}\n",
    "\n",
    "3. The product $x(\\tau)h(t-\\tau)$ is integrated over all $\\tau$ to produce a single output value $y(t)$.\n",
    "\n",
    "+++ {\"slideshow\": {\"slide_type\": \"fragment\"}}\n",
    "\n",
    "4. Steps 1 ro 3 are repeated as $t$ varies over $-\\infty$ to $\\infty$ to produce the entire output $y(t)$.\n",
    "\n",
    "+++ {\"slideshow\": {\"slide_type\": \"notes\"}}\n",
    "\n",
    "Examples of the above convolution integral operation are given in Examples 4.1 to 4.3.\n",
    "\n",
    "+++ {\"slideshow\": {\"slide_type\": \"subslide\"}}\n",
    "\n",
    "(step_response)=\n",
    "## F. Step Response\n",
    "\n",
    "The *step response* $s(t)$ of a continuous-time LTI system (represented $\\mathbf{T}$) is defined by the response of the system when the input is $u_0(t)$; that is,\n",
    "\n",
    "$$s(t) = \\mathbf{T}\\left\\{u_0(t)\\right\\}$$"
   ]
  },
  {
   "cell_type": "markdown",
   "id": "c8318035",
   "metadata": {
    "slideshow": {
     "slide_type": "fragment"
    }
   },
   "source": [
    "In many applications, the step response $s(t)$ is also a useful characterisation of the system. The step response can be easily determined using the convolution integral; that is,\n",
    "\n",
    "$$s(t) = h(t)*u_0(t) = \\int_{-\\infty}^{\\infty} h(\\tau)u_0(t-\\tau)\\,d\\tau = \\int_{-\\infty}^{t} h(\\tau)\\,d\\tau$$"
   ]
  },
  {
   "cell_type": "markdown",
   "id": "4085e080",
   "metadata": {
    "slideshow": {
     "slide_type": "fragment"
    }
   },
   "source": [
    "Thus the step response $s(t)$ can be obtained by integrating the impulse response $h(t)$."
   ]
  },
  {
   "cell_type": "markdown",
   "id": "490091f6",
   "metadata": {
    "slideshow": {
     "slide_type": "subslide"
    }
   },
   "source": [
    "#### Impulse response from step response"
   ]
  },
  {
   "cell_type": "markdown",
   "id": "79ecade9",
   "metadata": {
    "slideshow": {
     "slide_type": "fragment"
    }
   },
   "source": [
    "Differentiating the step response with respect to $t$, we get\n",
    "\n",
    "$$h(t) = s'(t) = \\frac{ds(t)}{dt}$$"
   ]
  },
  {
   "cell_type": "markdown",
   "id": "73025091",
   "metadata": {
    "slideshow": {
     "slide_type": "fragment"
    }
   },
   "source": [
    "Thus the impulse response $h(t)$ can be determined by differentiating the step response $s(t)$."
   ]
  },
  {
   "cell_type": "markdown",
   "id": "646cf475",
   "metadata": {
    "slideshow": {
     "slide_type": "slide"
    }
   },
   "source": [
    "(examples_5_Responses_of_a_Continuous_Time_LTI_System_and_Convolution)=\n",
    "## Examples 5: Responses of a Continuous-Time LTI System and Convolution"
   ]
  },
  {
   "cell_type": "markdown",
   "id": "439f1a68",
   "metadata": {
    "slideshow": {
     "slide_type": "subslide"
    }
   },
   "source": [
    "(ex5_1)=\n",
    "### Example 5.1 \n",
    "\n",
    "Verify the following properties of the convolution integral; that is,\n",
    "\n",
    "(a) $x(t)*h(t) = h(t)*x(t)$\n",
    "\n",
    "(b) $\\left\\{x(t) * h_1(t)\\right\\} * h_2(t) = x(t)*\\left\\{h_1(t) * h_2(t)\\right\\}$"
   ]
  },
  {
   "cell_type": "markdown",
   "id": "279f5f10",
   "metadata": {
    "slideshow": {
     "slide_type": "notes"
    }
   },
   "source": [
    "For the answer, refer to the lecture recording or see solved problem 2.1 in in {cite}schaum."
   ]
  },
  {
   "cell_type": "markdown",
   "id": "fde25e11",
   "metadata": {
    "slideshow": {
     "slide_type": "subslide"
    }
   },
   "source": [
    "(ex5_2)=\n",
    "### Example 5.2"
   ]
  },
  {
   "cell_type": "markdown",
   "id": "6a079c4d",
   "metadata": {
    "slideshow": {
     "slide_type": "notes"
    }
   },
   "source": [
    "For the answer, refer to the lecture recording or see solved problem 2.2 in in {cite}schaum."
   ]
  },
  {
   "cell_type": "markdown",
   "id": "33a11856",
   "metadata": {
    "slideshow": {
     "slide_type": "subslide"
    }
   },
   "source": [
    "(ex5_3)=\n",
    "### Example 5.3"
   ]
  },
  {
   "cell_type": "markdown",
   "id": "e4c774e7",
   "metadata": {
    "slideshow": {
     "slide_type": "notes"
    }
   },
   "source": [
    "For the answer, refer to the lecture recording or see solved problem 2.3 in in {cite}schaum."
   ]
  },
  {
   "cell_type": "markdown",
   "id": "63186842",
   "metadata": {
    "slideshow": {
     "slide_type": "subslide"
    }
   },
   "source": [
    "(ex5_4)=\n",
    "### Example 5.4"
   ]
  },
  {
   "cell_type": "markdown",
   "id": "64953e1d",
   "metadata": {
    "slideshow": {
     "slide_type": "notes"
    }
   },
   "source": [
    "For the answer, refer to the lecture recording or see solved problem 2.4 in in {cite}schaum."
   ]
  },
  {
   "cell_type": "markdown",
   "id": "c4328a59",
   "metadata": {
    "slideshow": {
     "slide_type": "subslide"
    }
   },
   "source": [
    "(ex5_5)=\n",
    "### Example 5.5"
   ]
  },
  {
   "cell_type": "markdown",
   "id": "262da0a4",
   "metadata": {
    "slideshow": {
     "slide_type": "notes"
    }
   },
   "source": [
    "For the answer, refer to the lecture recording or see solved problem 2.5 in {cite}schaum."
   ]
  },
  {
   "cell_type": "markdown",
   "id": "30075c0c",
   "metadata": {
    "slideshow": {
     "slide_type": "subslide"
    }
   },
   "source": [
    "(ex5_6)=\n",
    "### Example 5.6"
   ]
  },
  {
   "cell_type": "markdown",
   "id": "c91ab5d0",
   "metadata": {
    "slideshow": {
     "slide_type": "notes"
    }
   },
   "source": [
    "For the answer, refer to the lecture recording or see solved problem 2.6 in {cite}schaum."
   ]
  },
  {
   "cell_type": "markdown",
   "id": "eab9cde1",
   "metadata": {
    "slideshow": {
     "slide_type": "slide"
    }
   },
   "source": [
    "## Summary\n",
    "\n",
    "In this lecture we have looked at\n",
    "\n",
    "* {ref}`Response_of_a_Continuous_Time_LTI_System_and_the_Convolution_Integral`"
   ]
  },
  {
   "cell_type": "markdown",
   "id": "ae436e13",
   "metadata": {
    "slideshow": {
     "slide_type": "slide"
    }
   },
   "source": [
    "## Next Time\n",
    "\n",
    "* {ref}`Properties_of_Continuous_Time_LTI_Systems`\n",
    "* {ref}`eigenfunctions_of_continuous_time_LTI_systems`"
   ]
  }
 ],
 "metadata": {
  "jupytext": {
   "formats": "ipynb,md:myst",
   "text_representation": {
    "extension": ".md",
    "format_name": "myst",
    "format_version": 0.13,
    "jupytext_version": "1.14.0"
   }
  },
  "kernelspec": {
   "display_name": "Matlab",
   "language": "matlab",
   "name": "matlab"
  },
  "language_info": {
   "codemirror_mode": "octave",
   "file_extension": ".m",
   "help_links": [
    {
     "text": "MetaKernel Magics",
     "url": "https://metakernel.readthedocs.io/en/latest/source/README.html"
    }
   ],
   "mimetype": "text/x-octave",
   "name": "matlab",
   "version": "0.17.1"
  },
  "source_map": [
   15,
   22,
   34,
   43,
   52,
   58,
   64,
   68,
   74,
   80,
   84,
   97,
   105,
   109,
   113,
   117,
   125,
   132,
   138,
   144,
   150,
   159,
   224,
   230,
   234,
   238,
   244,
   248,
   253,
   264,
   268,
   273,
   277,
   282,
   286,
   291,
   295,
   300,
   304,
   309,
   313,
   321
  ]
 },
 "nbformat": 4,
 "nbformat_minor": 5
}