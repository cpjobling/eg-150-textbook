{
 "cells": [
  {
   "cell_type": "markdown",
   "id": "c4e92594",
   "metadata": {
    "slideshow": {
     "slide_type": "slide"
    }
   },
   "source": [
    "(Response_of_a_Continuous_Time_LTI_System_and_the_Convolution_Integral)=\n",
    "# Unit 3.1: Response of a Continuous-Time LTI System and the Convolution Integral\n",
    "\n",
    "This section is based on Section 2.1 of {cite}`schaum`."
   ]
  },
  {
   "cell_type": "markdown",
   "id": "941a91a7",
   "metadata": {
    "slideshow": {
     "slide_type": "fragment"
    }
   },
   "source": [
    "Follow along at [cpjobling.github.io/eg-150-textbook/lti_systems/lti1](https://cpjobling.github.io/eg-150-textbook/lti_systems/lti1)"
   ]
  },
  {
   "cell_type": "markdown",
   "id": "7878a4dd",
   "metadata": {
    "slideshow": {
     "slide_type": "slide"
    }
   },
   "source": [
    "## Subjects to be Covered\n",
    "\n",
    "* {ref}`impulse_reponse`\n",
    "* {ref}`abitrary_signal_response`\n",
    "* {ref}`convolution_integral`\n",
    "* {ref}`props_of_con_integral`\n",
    "* {ref}`convolution_operation`\n",
    "* {ref}`step_response`\n",
    "* {ref}`examples_5_Responses_of_a_Continuous_Time_LTI_System_and_Convolution`"
   ]
  },
  {
   "cell_type": "markdown",
   "id": "486328e5",
   "metadata": {
    "slideshow": {
     "slide_type": "fragment"
    }
   },
   "source": [
    "(impulse_reponse)=\n",
    "## A. Impulse Response\n",
    "\n",
    "The *impulse response* $h(t)$ of a continuous-time LTI system (represented by $\\mathbf{T}$) is defined as the response of the system when the input is $\\delta(t)$, that is,\n",
    "\n",
    "$$h(t) = \\mathbf{T}\\left\\{\\delta(t)\\right\\}$$"
   ]
  },
  {
   "cell_type": "markdown",
   "id": "78da567a",
   "metadata": {
    "slideshow": {
     "slide_type": "subslide"
    }
   },
   "source": [
    "(abitrary_signal_response)=\n",
    "## B. Response to an Arbitrary Input\n",
    "\n",
    "From the {ref}`sifting_property` \n",
    "\n",
    "$$\\int_{-\\infty}^{\\infty}f(t)\\delta(t-\\alpha)dt=f(\\alpha)$$"
   ]
  },
  {
   "cell_type": "markdown",
   "id": "7571c3ec",
   "metadata": {
    "slideshow": {
     "slide_type": "fragment"
    }
   },
   "source": [
    "an arbitrary continuous-time input can be expressed in terms of the Dirac delta function as\n",
    "\n",
    "$$x(\\tau) = \\int_{-\\infty}^{\\infty}x(\\tau)\\delta(t-\\tau)d\\tau = x(t)$$"
   ]
  },
  {
   "cell_type": "markdown",
   "id": "8fc446b2",
   "metadata": {
    "slideshow": {
     "slide_type": "subslide"
    }
   },
   "source": [
    "Since the system is linear, the response $y(t)$ of the system with arbitrary input $x(t)$ can be expressed as\n",
    "\n",
    "$$y(t) = \\mathbf{T}\\left\\{x(t)\\right\\} = \\mathbf{T}\\left\\{\\int_{-\\infty}^{\\infty}x(\\tau)\\delta(t-\\tau)\\,d\\tau\\right\\}$$"
   ]
  },
  {
   "cell_type": "markdown",
   "id": "87f1cb2d",
   "metadata": {
    "slideshow": {
     "slide_type": "fragment"
    }
   },
   "source": [
    "$$ = \\int_{-\\infty}^{\\infty}x(t)\\mathbf{T}\\left\\{\\delta(t - \\tau)\\right\\}$$"
   ]
  },
  {
   "cell_type": "markdown",
   "id": "5083dd0b",
   "metadata": {
    "slideshow": {
     "slide_type": "fragment"
    }
   },
   "source": [
    "Since the system is time-invariant, we have\n",
    "\n",
    "$$h(t-\\tau)=\\mathbf{T}\\left\\{\\delta(t-\\tau)\\right\\}\\,d\\tau$$"
   ]
  },
  {
   "cell_type": "markdown",
   "id": "0dc90002",
   "metadata": {
    "slideshow": {
     "slide_type": "subslide"
    }
   },
   "source": [
    "Substituting $h(t-\\tau)$ into the equation for $y(t)$ gives\n",
    "\n",
    "$$y(t) = \\int_{-\\infty}^{\\infty}x(t)h(t-\\tau)\\,d\\tau$$"
   ]
  },
  {
   "cell_type": "markdown",
   "id": "4503184f",
   "metadata": {
    "slideshow": {
     "slide_type": "fragment"
    }
   },
   "source": [
    "This equation indicates that a continuous-time LTI system is completely characterised by its impulse response $h(t)$."
   ]
  },
  {
   "cell_type": "markdown",
   "id": "f0ea6629",
   "metadata": {
    "slideshow": {
     "slide_type": "subslide"
    }
   },
   "source": [
    "(convolution_integral)=\n",
    "## C. Convolution Integral\n",
    "\n",
    "The equation\n",
    "\n",
    "$$y(t) = \\int_{-\\infty}^{\\infty}x(t)h(t-\\tau)\\,d\\tau$$ \n",
    "\n",
    "defines the *convolution* of two continuous-time signals $x(t)$ and $h(t)$ denoted by\n",
    "\n",
    "$$y(t) = x(t) * h(t) = \\int_{-\\infty}^{\\infty}x(t)h(t-\\tau)\\,d\\tau$$"
   ]
  },
  {
   "cell_type": "markdown",
   "id": "87294c54",
   "metadata": {
    "slideshow": {
     "slide_type": "subslide"
    }
   },
   "source": [
    "The equation \n",
    "\n",
    "$$y(t) = x(t) * h(t) = \\int_{-\\infty}^{\\infty}x(t)h(t-\\tau)\\,d\\tau$$\n",
    "\n",
    "is commonly called the *convolution integral*."
   ]
  },
  {
   "cell_type": "markdown",
   "id": "08061ef7",
   "metadata": {
    "slideshow": {
     "slide_type": "fragment"
    }
   },
   "source": [
    "Thus we have the fundamental result that:"
   ]
  },
  {
   "cell_type": "markdown",
   "id": "d4307fe9",
   "metadata": {
    "slideshow": {
     "slide_type": "fragment"
    }
   },
   "source": [
    "*the output of any continuous-time LTI system is the convolution of the input $x(t)$ with the impulse response $h(t)$ of the system*."
   ]
  },
  {
   "cell_type": "markdown",
   "id": "22f8f9bf",
   "metadata": {
    "slideshow": {
     "slide_type": "subslide"
    }
   },
   "source": [
    "{numref}`fig:ct_lti_system` illustrates the definition of the impulse response $h(t)$ and the convolution integral."
   ]
  },
  {
   "cell_type": "markdown",
   "id": "f8ad82ee",
   "metadata": {
    "slideshow": {
     "slide_type": "fragment"
    }
   },
   "source": [
    ":::{figure-md} fig:ct_lti_system\n",
    "<img src=\"pictures/ct_lti_system.png\" alt=\"Continuous-time LTI system\" width=\"60%\">\n",
    "\n",
    "Continuous-time LTI system\n",
    ":::"
   ]
  },
  {
   "cell_type": "markdown",
   "id": "f6b70ad5",
   "metadata": {
    "slideshow": {
     "slide_type": "subslide"
    }
   },
   "source": [
    "(props_of_con_integral)=\n",
    "## D. Properties of the Convolution Integral\n",
    "\n",
    "The convolution integral has the following properties."
   ]
  },
  {
   "cell_type": "markdown",
   "id": "6b89214e",
   "metadata": {
    "slideshow": {
     "slide_type": "fragment"
    }
   },
   "source": [
    "### 1. Commutative:\n",
    "\n",
    "$$x(t) * h(t) = h(t) * x(t)$$"
   ]
  },
  {
   "cell_type": "markdown",
   "id": "d551b8df",
   "metadata": {
    "slideshow": {
     "slide_type": "fragment"
    }
   },
   "source": [
    "### 2. Associative:\n",
    "\n",
    "$$\\left\\{x(t) * h_1(t)\\right\\} * h_2(t) = x(t) * \\left\\{h_1(t) * h_2(t)\\right\\}$$"
   ]
  },
  {
   "cell_type": "markdown",
   "id": "4fd6a40a",
   "metadata": {
    "slideshow": {
     "slide_type": "fragment"
    }
   },
   "source": [
    "### 3. Distributive:\n",
    "\n",
    "$$x(t)*\\left\\{h_1(t) + h_2(t)\\right\\} = x(t)*h_1(t) + x(t)*h_2(t)$$"
   ]
  },
  {
   "cell_type": "markdown",
   "id": "9e25751e",
   "metadata": {
    "slideshow": {
     "slide_type": "subslide"
    }
   },
   "source": [
    "(convolution_operation)=\n",
    "## E. Convolution Integral Operation\n",
    "\n",
    "Applying the communitative propery of convolution to the convolution integral, we obtain\n",
    "\n",
    "$$y(t) = h(t) * x(t) = \\int_{-\\infty}^{\\infty}h(\\tau)x(t-\\tau)\\,d\\tau$$"
   ]
  },
  {
   "cell_type": "markdown",
   "id": "bb5822d8",
   "metadata": {
    "slideshow": {
     "slide_type": "notes"
    }
   },
   "source": [
    "which may at times be easier to evaluate than\n",
    "\n",
    "$$y(t) = x(t) * h(t) = \\int_{-\\infty}^{\\infty}x(t)h(t-\\tau)\\,d\\tau$$"
   ]
  },
  {
   "cell_type": "markdown",
   "id": "8d13573b",
   "metadata": {
    "slideshow": {
     "slide_type": "subslide"
    }
   },
   "source": [
    "### Graphical Evaluation of the Convolution Integral\n",
    "\n",
    "The convolution integral is most conveniently evaluated by a graphical evaluation. We give three examples (5.4&mdash;5.6) which we will demonstrate in class using a [graphical visualization tool](https://uk.mathworks.com/matlabcentral/fileexchange/25199-graphical-demonstration-of-convolution) developed by Teja Muppirala of the Mathworks.\n",
    "\n",
    "The tool: [convolutiondemo.m](https://cpjobling.github.io/eg-247-textbook/laplace_transform/matlab/convolution_demo/convolutiondemo.m) (see [license.txt](https://cpjobling.github.io/eg-247-textbook/laplace_transform/matlab/convolution_demo/license.txt)).\n",
    "\n",
    "We will then work through the examples again in the examples class."
   ]
  },
  {
   "cell_type": "code",
   "execution_count": 1,
   "id": "2a160b9c",
   "metadata": {
    "slideshow": {
     "slide_type": "fragment"
    }
   },
   "outputs": [
    {
     "name": "stdout",
     "output_type": "stream",
     "text": [
      "ans =\n",
      "    '/Users/eechris/code/src/github.com/cpjobling/eg-150-textbook/lti_systems/matlab/convolutiondemo'\n"
     ]
    }
   ],
   "source": [
    "clear all\n",
    "cd matlab/convolutiondemo\n",
    "pwd"
   ]
  },
  {
   "cell_type": "code",
   "execution_count": 2,
   "id": "9cb4e94d",
   "metadata": {
    "slideshow": {
     "slide_type": "fragment"
    }
   },
   "outputs": [
    {
     "name": "stdout",
     "output_type": "stream",
     "text": [
      "Warning: The EraseMode property is no longer supported and will error in a future release.\n"
     ]
    },
    {
     "name": "stdout",
     "output_type": "stream",
     "text": [
      "> In convolutiondemo>convolutiondemo_LayoutFcn (line 398)\n",
      "In convolutiondemo>gui_mainfcn (line 1188)\n",
      "In convolutiondemo (line 44)\n"
     ]
    },
    {
     "name": "stdout",
     "output_type": "stream",
     "text": [
      "Warning: The EraseMode property is no longer supported and will error in a future release.\n"
     ]
    },
    {
     "name": "stdout",
     "output_type": "stream",
     "text": [
      "> In convolutiondemo>convolutiondemo_LayoutFcn (line 449)\n",
      "In convolutiondemo>gui_mainfcn (line 1188)\n",
      "In convolutiondemo (line 44)\n"
     ]
    },
    {
     "name": "stdout",
     "output_type": "stream",
     "text": [
      "Warning: The EraseMode property is no longer supported and will error in a future release.\n"
     ]
    },
    {
     "name": "stdout",
     "output_type": "stream",
     "text": [
      "> In convolutiondemo>convolutiondemo_LayoutFcn (line 500)\n",
      "In convolutiondemo>gui_mainfcn (line 1188)\n",
      "In convolutiondemo (line 44)\n"
     ]
    },
    {
     "name": "stdout",
     "output_type": "stream",
     "text": [
      "Warning: The EraseMode property is no longer supported and will error in a future release.\n"
     ]
    },
    {
     "name": "stdout",
     "output_type": "stream",
     "text": [
      "> In convolutiondemo>convolutiondemo_LayoutFcn (line 551)\n",
      "In convolutiondemo>gui_mainfcn (line 1188)\n",
      "In convolutiondemo (line 44)\n"
     ]
    },
    {
     "name": "stdout",
     "output_type": "stream",
     "text": [
      "Warning: The EraseMode property is no longer supported and will error in a future release.\n"
     ]
    },
    {
     "name": "stdout",
     "output_type": "stream",
     "text": [
      "> In convolutiondemo>convolutiondemo_LayoutFcn (line 621)\n",
      "In convolutiondemo>gui_mainfcn (line 1188)\n",
      "In convolutiondemo (line 44)\n"
     ]
    },
    {
     "name": "stdout",
     "output_type": "stream",
     "text": [
      "Warning: The EraseMode property is no longer supported and will error in a future release.\n"
     ]
    },
    {
     "name": "stdout",
     "output_type": "stream",
     "text": [
      "> In convolutiondemo>convolutiondemo_LayoutFcn (line 672)\n",
      "In convolutiondemo>gui_mainfcn (line 1188)\n",
      "In convolutiondemo (line 44)\n"
     ]
    },
    {
     "name": "stdout",
     "output_type": "stream",
     "text": [
      "Warning: The EraseMode property is no longer supported and will error in a future release.\n"
     ]
    },
    {
     "name": "stdout",
     "output_type": "stream",
     "text": [
      "> In convolutiondemo>convolutiondemo_LayoutFcn (line 723)\n",
      "In convolutiondemo>gui_mainfcn (line 1188)\n",
      "In convolutiondemo (line 44)\n"
     ]
    },
    {
     "name": "stdout",
     "output_type": "stream",
     "text": [
      "Warning: The EraseMode property is no longer supported and will error in a future release.\n"
     ]
    },
    {
     "name": "stdout",
     "output_type": "stream",
     "text": [
      "> In convolutiondemo>convolutiondemo_LayoutFcn (line 774)\n",
      "In convolutiondemo>gui_mainfcn (line 1188)\n",
      "In convolutiondemo (line 44)\n"
     ]
    }
   ],
   "source": [
    "convolutiondemo % ignore warnings"
   ]
  },
  {
   "cell_type": "markdown",
   "id": "a676f929",
   "metadata": {
    "slideshow": {
     "slide_type": "subslide"
    }
   },
   "source": [
    "### Summary of Steps"
   ]
  },
  {
   "cell_type": "markdown",
   "id": "7db17779",
   "metadata": {
    "slideshow": {
     "slide_type": "fragment"
    }
   },
   "source": [
    "1. The inpulse response $h(\\tau)$ is time reversed (that is, reflected about the origin) to obtain $h(-\\tau)$ and then shifted by $\\tau$ to form $h(t-\\tau) = h\\left[-(\\tau - t)\\right]$, which is a function of $\\tau$ with parameter $t$."
   ]
  },
  {
   "cell_type": "markdown",
   "id": "6596728b",
   "metadata": {
    "slideshow": {
     "slide_type": "fragment"
    }
   },
   "source": [
    "2. The signal $x(\\tau)$ and $h(t-\\tau)$ are multiplied together for all values of $\\tau$ with $t$ fixed at some value."
   ]
  },
  {
   "cell_type": "markdown",
   "id": "e7268d3a",
   "metadata": {
    "slideshow": {
     "slide_type": "fragment"
    }
   },
   "source": [
    "3. The product $x(\\tau)h(t-\\tau)$ is integrated over all $\\tau$ to produce a single output value $y(t)$."
   ]
  },
  {
   "cell_type": "markdown",
   "id": "d0df11e5",
   "metadata": {
    "slideshow": {
     "slide_type": "fragment"
    }
   },
   "source": [
    "4. Steps 1 ro 3 are repeated as $t$ varies over $-\\infty$ to $\\infty$ to produce the entire output $y(t)$."
   ]
  },
  {
   "cell_type": "markdown",
   "id": "68260844",
   "metadata": {
    "slideshow": {
     "slide_type": "notes"
    }
   },
   "source": [
    "Examples of the above convolution integral operation are given in Examples 4.1 to 4.3."
   ]
  },
  {
   "cell_type": "markdown",
   "id": "d969a7b4",
   "metadata": {
    "slideshow": {
     "slide_type": "subslide"
    }
   },
   "source": [
    "(step_response)=\n",
    "## F. Step Response\n",
    "\n",
    "The *step response* $s(t)$ of a continuous-time LTI system (represented $\\mathbf{T}$) is defined by the response of the system when the input is $u_0(t)$; that is,\n",
    "\n",
    "$$s(t) = \\mathbf{T}\\left\\{u_0(t)\\right\\}$$"
   ]
  },
  {
   "cell_type": "markdown",
   "id": "b9e9b9c5",
   "metadata": {
    "slideshow": {
     "slide_type": "fragment"
    }
   },
   "source": [
    "In many applications, the step response $s(t)$ is also a useful characterisation of the system. The step response can be easily determined using the convolution integral; that is,\n",
    "\n",
    "$$s(t) = h(t)*u_0(t) = \\int_{-\\infty}^{\\infty} h(\\tau)u_0(t-\\tau)\\,d\\tau = \\int_{-\\infty}^{t} h(\\tau)\\,d\\tau$$"
   ]
  },
  {
   "cell_type": "markdown",
   "id": "3c7ad47d",
   "metadata": {
    "slideshow": {
     "slide_type": "fragment"
    }
   },
   "source": [
    "Thus the step response $s(t)$ can be obtained by integrating the impulse response $h(t)$."
   ]
  },
  {
   "cell_type": "markdown",
   "id": "8641b524",
   "metadata": {
    "slideshow": {
     "slide_type": "subslide"
    }
   },
   "source": [
    "#### Impulse response from step response"
   ]
  },
  {
   "cell_type": "markdown",
   "id": "d2023ab0",
   "metadata": {
    "slideshow": {
     "slide_type": "fragment"
    }
   },
   "source": [
    "Differentiating the step response with respect to $t$, we get\n",
    "\n",
    "$$h(t) = s'(t) = \\frac{ds(t)}{dt}$$"
   ]
  },
  {
   "cell_type": "markdown",
   "id": "63d287ae",
   "metadata": {
    "slideshow": {
     "slide_type": "fragment"
    }
   },
   "source": [
    "Thus the impulse response $h(t)$ can be determined by differentiating the step response $s(t)$."
   ]
  },
  {
   "cell_type": "markdown",
   "id": "c0ed39b9",
   "metadata": {
    "slideshow": {
     "slide_type": "slide"
    }
   },
   "source": [
    "(examples_5_Responses_of_a_Continuous_Time_LTI_System_and_Convolution)=\n",
    "## Examples 5: Responses of a Continuous-Time LTI System and Convolution"
   ]
  },
  {
   "cell_type": "markdown",
   "id": "c2d27aeb",
   "metadata": {
    "slideshow": {
     "slide_type": "subslide"
    }
   },
   "source": [
    "(ex5_1)=\n",
    "### Example 5.1 \n",
    "\n",
    "Verify the following properties of the convolution integral; that is,\n",
    "\n",
    "(a) $x(t)*h(t) = h(t)*x(t)$\n",
    "\n",
    "(b) $\\left\\{x(t) * h_1(t)\\right\\} * h_2(t) = x(t)*\\left\\{h_1(t) * h_2(t)\\right\\}$"
   ]
  },
  {
   "cell_type": "markdown",
   "id": "00552372",
   "metadata": {
    "slideshow": {
     "slide_type": "notes"
    }
   },
   "source": [
    "For the answer, refer to the lecture recording or see solved problem 2.1 in in {cite}`schaum`."
   ]
  },
  {
   "cell_type": "markdown",
   "id": "e1851a2c",
   "metadata": {
    "slideshow": {
     "slide_type": "subslide"
    }
   },
   "source": [
    "(ex5_2)=\n",
    "### Example 5.2\n",
    "\n",
    "Show that\n",
    "\n",
    "(a) $x(t) * \\delta(t) = x(t)$\n",
    "\n",
    "(b) $x(t) * \\delta(t-t_0) = x(t - t_0)$\n",
    "\n",
    "(c) $x(t)*u_0(t) = \\int_{-\\infty}^{t}x(\\tau)\\,d\\tau$\n",
    "\n",
    "(d) $x(t) * u_0(t - t_0) = \\int_{-\\infty}^{t_0}x(\\tau)\\,d\\tau$"
   ]
  },
  {
   "cell_type": "markdown",
   "id": "6c945ed9",
   "metadata": {
    "slideshow": {
     "slide_type": "notes"
    }
   },
   "source": [
    "For the answer, refer to the lecture recording or see solved problem 2.2 in in {cite}`schaum`."
   ]
  },
  {
   "cell_type": "markdown",
   "id": "45d5647f",
   "metadata": {
    "slideshow": {
     "slide_type": "subslide"
    }
   },
   "source": [
    "(ex5_3)=\n",
    "### Example 5.3\n",
    "\n",
    "Let $y(t) = x(t) * h(t)$. Then show that\n",
    "\n",
    "$$x(t-t_1)*h(t-t_2) = y(t - t_1 - t_2)$$"
   ]
  },
  {
   "cell_type": "markdown",
   "id": "5bfff3bb",
   "metadata": {
    "slideshow": {
     "slide_type": "notes"
    }
   },
   "source": [
    "For the answer, refer to the lecture recording or see solved problem 2.3 in in {cite}`schaum`."
   ]
  },
  {
   "cell_type": "markdown",
   "id": "fd1ffae9",
   "metadata": {
    "slideshow": {
     "slide_type": "subslide"
    }
   },
   "source": [
    "(ex5_4)=\n",
    "### Example 5.4\n",
    "\n",
    "The input $x(t)$ and the impulse response $h(t)$ of a continuous-time LTI system are given by\n",
    "\n",
    "$$x(t) = u_0(t)$$\n",
    "\n",
    "$$h(t) = e^{-\\alpha t}u_0(t),\\;\\alpha > 0$$\n",
    "\n",
    "(a) Compute the output $y(t)$ by using the convolution integral\n",
    "\n",
    "$$y(t) = x(t) * h(t) = \\int_{-\\infty}^{\\infty}x(t)h(t-\\tau)\\,d\\tau$$\n",
    "\n",
    "(b) Compute the output $y(t)$ by using the convolution integral\n",
    "\n",
    "$$y(t) = h(t) * x(t) = \\int_{-\\infty}^{\\infty}h(\\tau)x(t-\\tau)\\,d\\tau$$"
   ]
  },
  {
   "cell_type": "markdown",
   "id": "8451d96b",
   "metadata": {
    "slideshow": {
     "slide_type": "subslide"
    }
   },
   "source": [
    "#### Solutions\n",
    "\n",
    "##### (a) Graphical \n",
    "\n",
    "Using the *convolutiondemo* tool chose a value for $\\alpha$. I will use $\\alpha = 1$."
   ]
  },
  {
   "cell_type": "markdown",
   "id": "c8092eb0",
   "metadata": {
    "slideshow": {
     "slide_type": "fragment"
    }
   },
   "source": [
    "Then set `f(t)`, which represents $x(t)$, to `heaviside(t)` and `g(t)`. which represents $h(t)$ to `exp(-1*t)`"
   ]
  },
  {
   "cell_type": "markdown",
   "id": "70bd0002",
   "metadata": {
    "slideshow": {
     "slide_type": "subslide"
    }
   },
   "source": [
    "##### Manual solution\n",
    "\n",
    "For the manual solution, refer to the lecture recording or see solved problem 2.3 in in {cite}`schaum`."
   ]
  },
  {
   "cell_type": "markdown",
   "id": "670e364c",
   "metadata": {
    "slideshow": {
     "slide_type": "subslide"
    }
   },
   "source": [
    "##### MATLAB Solution\n",
    "\n",
    "We can also use the Symbolic Math Toolbox to solve the problem directly:"
   ]
  },
  {
   "cell_type": "code",
   "execution_count": 3,
   "id": "23f94937",
   "metadata": {
    "slideshow": {
     "slide_type": "fragment"
    }
   },
   "outputs": [
    {
     "data": {
      "image/png": "[encoded data removed]",
      "text/plain": [
       "<IPython.core.display.Image object>"
      ]
     },
     "metadata": {
      "filenames": {
       "image/png": "/Users/eechris/code/src/github.com/cpjobling/eg-150-textbook/_build/jupyter_execute/lti_systems/lti1_50_0.png"
      }
     },
     "output_type": "display_data"
    }
   ],
   "source": [
    "syms t tau alpha\n",
    "assume(alpha > 0)\n",
    "\n",
    "x(t) = heaviside(t); % unit step function\n",
    "subplot(211)\n",
    "fplot(x(t)),title('x(t)'),ylim([0,1.25])\n",
    "h(t) = exp(-alpha*t)*heaviside(t);\n",
    "subplot(212)\n",
    "fplot(subs(h(t),alpha,1)),title('h(t)')"
   ]
  },
  {
   "cell_type": "markdown",
   "id": "d411733f",
   "metadata": {
    "slideshow": {
     "slide_type": "subslide"
    }
   },
   "source": [
    "Compute $y(t)$ using the MATLAB function `int` to compute the convolution integral symbolically."
   ]
  },
  {
   "cell_type": "code",
   "execution_count": 4,
   "id": "cc51d346",
   "metadata": {
    "slideshow": {
     "slide_type": "fragment"
    }
   },
   "outputs": [
    {
     "name": "stdout",
     "output_type": "stream",
     "text": [
      "y(t) =\n"
     ]
    },
    {
     "name": "stdout",
     "output_type": "stream",
     "text": [
      "-(2*exp(-(alpha*t)/2)*(exp(-(alpha*t)/2)/2 - exp((alpha*t)/2)/2)*(sign(t)/2 + 1/2))/alpha\n"
     ]
    }
   ],
   "source": [
    "y(t) = int(x(tau)*h(t - tau),tau,-Inf,Inf)"
   ]
  },
  {
   "cell_type": "markdown",
   "id": "01cd19a2",
   "metadata": {},
   "source": [
    "Plot the result for $\\alpha = 1$"
   ]
  },
  {
   "cell_type": "code",
   "execution_count": 5,
   "id": "8adac94e",
   "metadata": {
    "slideshow": {
     "slide_type": "fragment"
    }
   },
   "outputs": [
    {
     "name": "stdout",
     "output_type": "stream",
     "text": [
      "ya(t) =\n"
     ]
    },
    {
     "name": "stdout",
     "output_type": "stream",
     "text": [
      "-2*exp(-t/2)*(exp(-t/2)/2 - exp(t/2)/2)*(sign(t)/2 + 1/2)\n"
     ]
    },
    {
     "data": {
      "image/png": "[encoded data removed]",
      "text/plain": [
       "<IPython.core.display.Image object>"
      ]
     },
     "metadata": {
      "filenames": {
       "image/png": "/Users/eechris/code/src/github.com/cpjobling/eg-150-textbook/_build/jupyter_execute/lti_systems/lti1_54_2.png"
      }
     },
     "output_type": "display_data"
    }
   ],
   "source": [
    "ya(t) = subs(y(t),alpha,1)\n",
    "fplot(ya(t))"
   ]
  },
  {
   "cell_type": "markdown",
   "id": "470f4c6d",
   "metadata": {
    "slideshow": {
     "slide_type": "subslide"
    }
   },
   "source": [
    "##### (b) Graphical \n",
    "\n",
    "Reverse the settings for `f(t)`and `g(t)` in the *convolutiondemo* tool."
   ]
  },
  {
   "cell_type": "markdown",
   "id": "9b6d90a3",
   "metadata": {
    "slideshow": {
     "slide_type": "subslide"
    }
   },
   "source": [
    "##### Manual solution\n",
    "\n",
    "For the manual solution, refer to the lecture recording or see solved problem 2.3 in in {cite}`schaum`."
   ]
  },
  {
   "cell_type": "markdown",
   "id": "aeb983a9",
   "metadata": {
    "slideshow": {
     "slide_type": "subslide"
    }
   },
   "source": [
    "##### MATLAB Solution\n",
    "\n",
    "Reverse the arguments to the `fplot` and `int` functions."
   ]
  },
  {
   "cell_type": "code",
   "execution_count": 6,
   "id": "22ac8bd7",
   "metadata": {
    "slideshow": {
     "slide_type": "fragment"
    }
   },
   "outputs": [
    {
     "data": {
      "image/png": "[encoded data removed]",
      "text/plain": [
       "<IPython.core.display.Image object>"
      ]
     },
     "metadata": {
      "filenames": {
       "image/png": "/Users/eechris/code/src/github.com/cpjobling/eg-150-textbook/_build/jupyter_execute/lti_systems/lti1_58_0.png"
      }
     },
     "output_type": "display_data"
    }
   ],
   "source": [
    "subplot(211)\n",
    "fplot(subs(h(t),alpha,1)),title('h(t)'),ylim([0,1.25])\n",
    "subplot(212)\n",
    "fplot(x(t)),title('x(t)'),ylim([0,1.25])"
   ]
  },
  {
   "cell_type": "code",
   "execution_count": 7,
   "id": "5df73dbd",
   "metadata": {
    "slideshow": {
     "slide_type": "fragment"
    }
   },
   "outputs": [
    {
     "name": "stdout",
     "output_type": "stream",
     "text": [
      "y(t) =\n"
     ]
    },
    {
     "name": "stdout",
     "output_type": "stream",
     "text": [
      "-(2*exp(-(alpha*t)/2)*(exp(-(alpha*t)/2)/2 - exp((alpha*t)/2)/2)*(sign(t)/2 + 1/2))/alpha\n"
     ]
    }
   ],
   "source": [
    "y(t) = int(h(tau)*x(t - tau),tau,-Inf,Inf)"
   ]
  },
  {
   "cell_type": "markdown",
   "id": "fd5231fe",
   "metadata": {
    "slideshow": {
     "slide_type": "subslide"
    }
   },
   "source": [
    "Plot the result for $\\alpha = 1$"
   ]
  },
  {
   "cell_type": "code",
   "execution_count": 8,
   "id": "f7790948",
   "metadata": {
    "slideshow": {
     "slide_type": "fragment"
    }
   },
   "outputs": [
    {
     "name": "stdout",
     "output_type": "stream",
     "text": [
      "yb(t) =\n"
     ]
    },
    {
     "name": "stdout",
     "output_type": "stream",
     "text": [
      "-2*exp(-t/2)*(exp(-t/2)/2 - exp(t/2)/2)*(sign(t)/2 + 1/2)\n"
     ]
    },
    {
     "data": {
      "image/png": "[encoded data removed]",
      "text/plain": [
       "<IPython.core.display.Image object>"
      ]
     },
     "metadata": {
      "filenames": {
       "image/png": "/Users/eechris/code/src/github.com/cpjobling/eg-150-textbook/_build/jupyter_execute/lti_systems/lti1_61_2.png"
      }
     },
     "output_type": "display_data"
    }
   ],
   "source": [
    "yb(t) = subs(y(t),alpha,1)\n",
    "fplot(yb(t))"
   ]
  },
  {
   "cell_type": "markdown",
   "id": "de696346",
   "metadata": {
    "slideshow": {
     "slide_type": "subslide"
    }
   },
   "source": [
    "(ex5_5)=\n",
    "### Example 5.5\n",
    "\n",
    "Compute the output $y(t)$ for a continuous-time LTI system whose impulse response $h(t)$ and the input $x(t)$ are given by\n",
    "\n",
    "$$h(t) = e^{-\\alpha t}u_0(t)$$\n",
    "\n",
    "$$x(t) = e^{\\alpha t}u_0(-t)$$\n",
    "\n",
    "$$\\alpha > 0$$.\n",
    "\n",
    "+++ {\"slideshow\": {\"slide_type\": \"subslide\"}}\n",
    "\n",
    "#### Solutions\n",
    "\n",
    "##### Manual solution\n",
    "\n",
    "For the manual solution, refer to the lecture recording or see solved problem 2.3 in in {cite}`schaum`.\n",
    "\n",
    "+++ {\"slideshow\": {\"slide_type\": \"subslide\"}}\n",
    "\n",
    "##### MATLAB Solution\n",
    "\n",
    "We can also use the Symbolic Math Toolbox to solve the problem directly:\n",
    "\n",
    "```{code-cell}\n",
    "---\n",
    "slideshow:\n",
    "  slide_type: fragment\n",
    "---\n",
    "x(t) = exp(t)*heaviside(-t);\n",
    "subplot(211)\n",
    "fplot(x(t)),,title('x(t)')\n",
    "h(t) = exp(-1*t)*heaviside(t);\n",
    "subplot(212)\n",
    "fplot(h(t)),title('h(t)')\n",
    "```\n",
    "\n",
    "+++ {\"slideshow\": {\"slide_type\": \"subslide\"}}\n",
    "\n",
    "Compute $y(t)$ using the convolution integral\n",
    "\n",
    "```{code-cell}\n",
    "---\n",
    "slideshow:\n",
    "  slide_type: fragment\n",
    "---\n",
    "y(t) = int(x(tau)*h(t - tau),tau,-Inf,Inf)\n",
    "```\n",
    "\n",
    "+++ {\"slideshow\": {\"slide_type\": \"fragment\"}}\n",
    "\n",
    "Plot the result for $\\alpha = 1$\n",
    "\n",
    "```{code-cell}\n",
    "---\n",
    "slideshow:\n",
    "  slide_type: fragment\n",
    "---\n",
    "fplot(y(t)),title('y(t) = x(t) * y(t)')\n",
    "```\n",
    "\n",
    "+++ {\"slideshow\": {\"slide_type\": \"subslide\"}}\n",
    "\n",
    "(ex5_6)=\n",
    "### Example 5.6\n",
    "\n",
    "Evaluate $y(t) = x(t) * h(t)$, where $x(t)$ and $h(t)$ are shown in {numref}`fig:ex:5.6`, by an alalytical technique, and (b) by a graphical method.\n",
    "\n",
    ":::{figure-md} fig:ex:5.6\n",
    "<img src=\"pictures/ex5_6.png\" alt=\"Signal and system for example 5.6\" width=\"60%\">\n",
    "\n",
    "Signal and system for example 5.6\n",
    ":::\n",
    "\n",
    "+++ {\"slideshow\": {\"slide_type\": \"subslide\"}}\n",
    "\n",
    "#### Solutions\n",
    "\n",
    "##### (a) Analytical \n",
    "\n",
    "We first express $x(t)$ and $h(t)$ in functional form using the unit step (or *Heaviside* function)\n",
    "\n",
    "$$x(t) = u_0(t) - u_0(t-3)$$\n",
    "\n",
    "$$h(t) = u_0(t) - u_0(t-2)$$"
   ]
  },
  {
   "cell_type": "markdown",
   "id": "94b7fd48",
   "metadata": {
    "slideshow": {
     "slide_type": "fragment"
    }
   },
   "source": [
    "We will use the MATLAB Symbolic Math Toolbox:"
   ]
  },
  {
   "cell_type": "code",
   "execution_count": 9,
   "id": "c312fbcd",
   "metadata": {
    "slideshow": {
     "slide_type": "fragment"
    }
   },
   "outputs": [
    {
     "data": {
      "image/png": "[encoded data removed]",
      "text/plain": [
       "<IPython.core.display.Image object>"
      ]
     },
     "metadata": {
      "filenames": {
       "image/png": "/Users/eechris/code/src/github.com/cpjobling/eg-150-textbook/_build/jupyter_execute/lti_systems/lti1_64_0.png"
      }
     },
     "output_type": "display_data"
    }
   ],
   "source": [
    "x(t) = heaviside(t)-heaviside(t-3);\n",
    "h(t) = heaviside(t)-heaviside(t-2);\n",
    "subplot(121)\n",
    "fplot(x(t),[-3,6]),grid,ylim([0,3]),ylabel('x(t)'),xlabel('t')\n",
    "subplot(122)\n",
    "fplot(h(t),[-3,6]),grid,ylim([0,3]),ylabel('h(t)'),xlabel('t')"
   ]
  },
  {
   "cell_type": "markdown",
   "id": "0074dd4e",
   "metadata": {
    "slideshow": {
     "slide_type": "subslide"
    }
   },
   "source": [
    "Compute $y(t)$"
   ]
  },
  {
   "cell_type": "code",
   "execution_count": 10,
   "id": "b3c230b7",
   "metadata": {
    "slideshow": {
     "slide_type": "fragment"
    }
   },
   "outputs": [
    {
     "name": "stdout",
     "output_type": "stream",
     "text": [
      "y(t) =\n"
     ]
    },
    {
     "name": "stdout",
     "output_type": "stream",
     "text": [
      "heaviside(t - 5)*(t - 5) - heaviside(t - 3)*(t - 3) - heaviside(t - 2)*(t - 2) + t*heaviside(t)\n"
     ]
    }
   ],
   "source": [
    "y(t) = int(x(tau)*h(t - tau),tau,-Inf,Inf)"
   ]
  },
  {
   "cell_type": "markdown",
   "id": "a0bbf97e",
   "metadata": {},
   "source": [
    "Plot the result"
   ]
  },
  {
   "cell_type": "code",
   "execution_count": 11,
   "id": "3712fc5c",
   "metadata": {
    "slideshow": {
     "slide_type": "fragment"
    }
   },
   "outputs": [
    {
     "data": {
      "image/png": "[encoded data removed]",
      "text/plain": [
       "<IPython.core.display.Image object>"
      ]
     },
     "metadata": {
      "filenames": {
       "image/png": "/Users/eechris/code/src/github.com/cpjobling/eg-150-textbook/_build/jupyter_execute/lti_systems/lti1_68_0.png"
      }
     },
     "output_type": "display_data"
    }
   ],
   "source": [
    "fplot(y(t),[-3,6]),grid,ylim([0,2.5]),ylabel('h(t)'),xlabel('t')"
   ]
  },
  {
   "cell_type": "markdown",
   "id": "8236af2e",
   "metadata": {},
   "source": [
    "We can obtain the signal $y(t)$ analytically by use of the convolution integral as will be shown in the examples class."
   ]
  },
  {
   "cell_type": "markdown",
   "id": "6e81c864",
   "metadata": {
    "slideshow": {
     "slide_type": "subslide"
    }
   },
   "source": [
    "##### (b) Graphical \n",
    "\n",
    "Since both functions are unity between the limits set by the Heaviside function, graphical solution requires multiple applications of the definate integral\n",
    "\n",
    "$$\\int_{t_0}^{t_1}1\\times 1\\,d\\tau = \\int_{t_0}^{t_1}1\\,d\\tau$$\n",
    "\n",
    "with different values for the limits $t_0$ and $t_1$. The *convolutiondemo* tool can help us discover the limits for the piecewise continuous signal $y(t)$."
   ]
  },
  {
   "cell_type": "markdown",
   "id": "72602774",
   "metadata": {
    "slideshow": {
     "slide_type": "notes"
    }
   },
   "source": [
    "For the complete solution to Example 5.2 refer to the lecture recording or see solved problem 2.6 in in {cite}`schaum`."
   ]
  },
  {
   "cell_type": "markdown",
   "id": "ac7f901e",
   "metadata": {
    "slideshow": {
     "slide_type": "slide"
    }
   },
   "source": [
    "## Summary\n",
    "\n",
    "In this lecture we have looked at\n",
    "\n",
    "* {ref}`impulse_reponse`\n",
    "* {ref}`abitrary_signal_response`\n",
    "* {ref}`convolution_integral`\n",
    "* {ref}`props_of_con_integral`\n",
    "* {ref}`convolution_operation`\n",
    "* {ref}`step_response`"
   ]
  },
  {
   "cell_type": "markdown",
   "id": "02e57bee",
   "metadata": {
    "slideshow": {
     "slide_type": "slide"
    }
   },
   "source": [
    "## Next Time\n",
    "\n",
    "We continue our introduction to continuous-time LTI system by considering\n",
    "\n",
    "* {ref}`Properties_of_Continuous_Time_LTI_Systems`\n",
    "* {ref}`eigenfunctions_of_continuous_time_LTI_systems`"
   ]
  }
 ],
 "metadata": {
  "jupytext": {
   "formats": "ipynb,md:myst",
   "text_representation": {
    "extension": ".md",
    "format_name": "myst",
    "format_version": 0.13,
    "jupytext_version": "1.14.4"
   }
  },
  "kernelspec": {
   "display_name": "Matlab",
   "language": "matlab",
   "name": "matlab"
  },
  "language_info": {
   "codemirror_mode": "octave",
   "file_extension": ".m",
   "help_links": [
    {
     "text": "MetaKernel Magics",
     "url": "https://metakernel.readthedocs.io/en/latest/source/README.html"
    }
   ],
   "mimetype": "text/x-octave",
   "name": "matlab",
   "version": "0.17.1"
  },
  "source_map": [
   15,
   22,
   26,
   38,
   47,
   56,
   62,
   68,
   72,
   78,
   84,
   88,
   101,
   109,
   113,
   117,
   121,
   129,
   136,
   142,
   148,
   154,
   163,
   169,
   179,
   189,
   197,
   201,
   205,
   209,
   213,
   217,
   221,
   230,
   236,
   240,
   244,
   250,
   254,
   259,
   270,
   274,
   289,
   293,
   302,
   306,
   325,
   333,
   337,
   343,
   349,
   365,
   369,
   375,
   379,
   388,
   394,
   400,
   406,
   417,
   425,
   429,
   438,
   527,
   531,
   544,
   548,
   554,
   558,
   564,
   568,
   578,
   582,
   595
  ]
 },
 "nbformat": 4,
 "nbformat_minor": 5
}