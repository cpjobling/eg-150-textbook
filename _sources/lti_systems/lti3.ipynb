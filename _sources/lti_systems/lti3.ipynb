{
 "cells": [
  {
   "cell_type": "markdown",
   "id": "70738283",
   "metadata": {
    "slideshow": {
     "slide_type": "slide"
    }
   },
   "source": [
    "(Systems_Described_by_Differential_Equations)=\n",
    "# Systems Described by Differential Equations\n",
    "\n",
    "This section is based on Section 2.5 of {cite}`schaum`"
   ]
  },
  {
   "cell_type": "markdown",
   "id": "ecd7cb91",
   "metadata": {
    "slideshow": {
     "slide_type": "slide"
    }
   },
   "source": [
    "## Subjects to be covered\n",
    "\n",
    "* {ref}`Systems_Described_by_Differential_Equations`\n",
    "* {ref}`examples_7`"
   ]
  },
  {
   "cell_type": "markdown",
   "id": "58d00cf0",
   "metadata": {
    "slideshow": {
     "slide_type": "slide"
    }
   },
   "source": [
    "(examples_7)=\n",
    "## Examples 7"
   ]
  },
  {
   "cell_type": "markdown",
   "id": "c22bc7b1",
   "metadata": {
    "slideshow": {
     "slide_type": "subslide"
    }
   },
   "source": [
    "(ex7_1)=\n",
    "### Example 7.1 \n",
    "\n",
    "Verify the following properties of the convolution integral; that is,\n",
    "\n",
    "(a) $x(t)*h(t) = h(t)*x(t)$\n",
    "\n",
    "(b) $\\left\\{x(t) * h_1(t)\\right\\} * h_2(t) = x(t)*\\left\\{h_1(t) * h_2(t)\\right\\}$"
   ]
  },
  {
   "cell_type": "markdown",
   "id": "ef4fe625",
   "metadata": {
    "slideshow": {
     "slide_type": "notes"
    }
   },
   "source": [
    "For the answer, refer to the lecture recording or see solved problem 2.1 in in {cite}schaum."
   ]
  },
  {
   "cell_type": "markdown",
   "id": "f462a86f",
   "metadata": {
    "slideshow": {
     "slide_type": "subslide"
    }
   },
   "source": [
    "(ex7_2)=\n",
    "### Example 7.2"
   ]
  },
  {
   "cell_type": "markdown",
   "id": "b5b80729",
   "metadata": {
    "slideshow": {
     "slide_type": "notes"
    }
   },
   "source": [
    "For the answer, refer to the lecture recording or see solved problem 2.2 in in {cite}schaum."
   ]
  },
  {
   "cell_type": "markdown",
   "id": "d132fde5",
   "metadata": {
    "slideshow": {
     "slide_type": "subslide"
    }
   },
   "source": [
    "(ex7_3)=\n",
    "### Example 7.3"
   ]
  },
  {
   "cell_type": "markdown",
   "id": "8fbc10ef",
   "metadata": {
    "slideshow": {
     "slide_type": "notes"
    }
   },
   "source": [
    "For the answer, refer to the lecture recording or see solved problem 2.3 in in {cite}schaum."
   ]
  },
  {
   "cell_type": "markdown",
   "id": "27a8ef56",
   "metadata": {
    "slideshow": {
     "slide_type": "subslide"
    }
   },
   "source": [
    "(ex7_4)=\n",
    "### Example 7.4"
   ]
  },
  {
   "cell_type": "markdown",
   "id": "534054b4",
   "metadata": {
    "slideshow": {
     "slide_type": "notes"
    }
   },
   "source": [
    "For the answer, refer to the lecture recording or see solved problem 2.4 in in {cite}schaum."
   ]
  },
  {
   "cell_type": "markdown",
   "id": "e9c68a01",
   "metadata": {
    "slideshow": {
     "slide_type": "subslide"
    }
   },
   "source": [
    "(ex7_5)=\n",
    "### Example 7.5"
   ]
  },
  {
   "cell_type": "markdown",
   "id": "f97896c8",
   "metadata": {
    "slideshow": {
     "slide_type": "notes"
    }
   },
   "source": [
    "For the answer, refer to the lecture recording or see solved problem 2.5 in {cite}schaum."
   ]
  },
  {
   "cell_type": "markdown",
   "id": "3033aed7",
   "metadata": {
    "slideshow": {
     "slide_type": "subslide"
    }
   },
   "source": [
    "(ex7_7)=\n",
    "### Example 7.7"
   ]
  },
  {
   "cell_type": "markdown",
   "id": "a46acc44",
   "metadata": {
    "slideshow": {
     "slide_type": "notes"
    }
   },
   "source": [
    "For the answer, refer to the lecture recording or see solved problem 2.7 in {cite}schaum."
   ]
  },
  {
   "cell_type": "markdown",
   "id": "07e560d6",
   "metadata": {
    "slideshow": {
     "slide_type": "slide"
    }
   },
   "source": [
    "## Summary\n",
    "\n",
    "In this lecture we have started our look at LTI systems.\n",
    "\n",
    "In particular, we have looked at\n",
    "\n",
    "* {ref}`Response_of_a_Continuous_Time_LTI_System_and_the_Convolution_Integral`"
   ]
  },
  {
   "cell_type": "markdown",
   "id": "03421992",
   "metadata": {
    "slideshow": {
     "slide_type": "slide"
    }
   },
   "source": [
    "## Summary\n",
    "\n",
    "* {ref}`Properties_of_Continuous_Time_LTI_Systems`\n",
    "* {ref}`eigenfunctions_of_continuous_time_LTI_systems`"
   ]
  },
  {
   "cell_type": "markdown",
   "id": "a6e3336c",
   "metadata": {
    "slideshow": {
     "slide_type": "slide"
    }
   },
   "source": [
    "## Next Time\n",
    "\n",
    "* {ref}`Systems_Described_by_Differential_Equations`"
   ]
  },
  {
   "cell_type": "markdown",
   "id": "682c27aa",
   "metadata": {
    "slideshow": {
     "slide_type": "slide"
    }
   },
   "source": [
    "## Worked Solutions"
   ]
  },
  {
   "cell_type": "markdown",
   "id": "9eb7ef71",
   "metadata": {
    "slideshow": {
     "slide_type": "slide"
    }
   },
   "source": [
    "## Homework Problems"
   ]
  },
  {
   "cell_type": "markdown",
   "id": "e94b1732",
   "metadata": {
    "slideshow": {
     "slide_type": "slide"
    }
   },
   "source": [
    "## Lab Exercises"
   ]
  },
  {
   "cell_type": "markdown",
   "id": "9017983f",
   "metadata": {
    "slideshow": {
     "slide_type": "slide"
    }
   },
   "source": [
    "## Summary\n",
    "\n",
    "In this lecture we have started our look at LTI systems.\n",
    "\n",
    "In particular we have looked at\n",
    "\n",
    "* {ref}`Response_of_a_Continuous_Time_LTI_System_and_the_Convolution_Integral`\n",
    "* {ref}`examples_5_Responses_of_a_Continuous-Time_LTI_System_and_Convolution)`\n",
    "* {ref}`Properties_of_Continuous_Time_LTI_Systems`\n",
    "* {ref}`eigenfunctions_of_continuous_time_LTI_systems`\n",
    "* {ref}`Systems_Described_by_Differential_Equations`"
   ]
  }
 ],
 "metadata": {
  "jupytext": {
   "formats": "ipynb,md:myst",
   "text_representation": {
    "extension": ".md",
    "format_name": "myst",
    "format_version": 0.13,
    "jupytext_version": "1.14.0"
   }
  },
  "kernelspec": {
   "display_name": "Matlab",
   "language": "matlab",
   "name": "matlab"
  },
  "language_info": {
   "codemirror_mode": "octave",
   "file_extension": ".m",
   "help_links": [
    {
     "text": "MetaKernel Magics",
     "url": "https://metakernel.readthedocs.io/en/latest/source/README.html"
    }
   ],
   "mimetype": "text/x-octave",
   "name": "matlab",
   "version": "0.17.1"
  },
  "source_map": [
   15,
   22,
   29,
   34,
   45,
   49,
   54,
   58,
   63,
   67,
   72,
   76,
   81,
   85,
   90,
   94,
   104,
   111,
   117,
   121,
   125,
   129
  ]
 },
 "nbformat": 4,
 "nbformat_minor": 5
}