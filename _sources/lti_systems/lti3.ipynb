{
 "cells": [
  {
   "cell_type": "markdown",
   "id": "3da3def5",
   "metadata": {
    "slideshow": {
     "slide_type": "slide"
    }
   },
   "source": [
    "(Systems_Described_by_Differential_Equations)=\n",
    "# Unit 3.4: Systems Described by Differential Equations\n",
    "\n",
    "This section is based on Section 2.5 of {cite}`schaum`"
   ]
  },
  {
   "cell_type": "markdown",
   "id": "c1df3363",
   "metadata": {
    "slideshow": {
     "slide_type": "slide"
    }
   },
   "source": [
    "## Subjects to be covered\n",
    "\n",
    "We conclude our introduction to continuous-time LTI system by considering\n",
    "\n",
    "* {ref}`Continuous_Time_LTI_Systems_Described_by_Differential_Equations`\n",
    "* {ref}`examples_8`"
   ]
  },
  {
   "cell_type": "markdown",
   "id": "5999b1ed",
   "metadata": {
    "slideshow": {
     "slide_type": "slide"
    }
   },
   "source": [
    "(Continuous_Time_LTI_Systems_Described_by_Differential_Equations)=\n",
    "## Continuous-time LTI systems described by differential equations\n",
    "\n",
    "* {ref}`ccde_a_linear_constant_coefficient_differential_equations`\n",
    "* {ref}`ccde_b_linearity`\n",
    "* {ref}`ccde_c_causality`\n",
    "* {ref}`ccde_d_time_invariance`\n",
    "* {ref}`ccde_e_impulse_response`"
   ]
  },
  {
   "cell_type": "markdown",
   "id": "91a96e4b",
   "metadata": {
    "slideshow": {
     "slide_type": "subslide"
    }
   },
   "source": [
    "(ccde_a_linear_constant_coefficient_differential_equations)=\n",
    "### A. Linear constant-coefficient differential equations\n",
    "\n",
    "A general $N$th-order linear constant-coefficient differential (LCCDE) equation is given by\n",
    "\n",
    "$$\\sum_{k=0}^N a_k \\frac{d^ky(t)}{dt^k}=\\sum_{k=0}^M b_k \\frac{d^k x(t)}{dt^k}$$\n",
    "\n",
    "where the coeeficients $a_k$ and $b_k$ are real constants."
   ]
  },
  {
   "cell_type": "markdown",
   "id": "f4b1f4bc",
   "metadata": {
    "slideshow": {
     "slide_type": "fragment"
    }
   },
   "source": [
    "The order $N$ refers to the highest derivative of $y(t)$ in the differential equation."
   ]
  },
  {
   "cell_type": "markdown",
   "id": "38dc3294",
   "metadata": {
    "slideshow": {
     "slide_type": "subslide"
    }
   },
   "source": [
    "#### Applications of linear constant-coefficient differential equations\n",
    "\n",
    "LCCDEs play a central role in describing the input-output relationships of a wide variety of electrical, mechanical, chemical and biological systems."
   ]
  },
  {
   "cell_type": "markdown",
   "id": "63d31e74",
   "metadata": {
    "slideshow": {
     "slide_type": "subslide"
    }
   },
   "source": [
    "#### Illustration: An RC Circuit\n",
    "\n",
    "For instance, in the RC circuit considered in {ref}`ex4.1`, the input $x(t)=v_s(t)$ and the output $y(t)=v_c(t)$ are related by a first-order constant-coefficient differential equation\n",
    "\n",
    "$$\\frac{dy(t)}{dt}+\\frac{1}{RC}y(t)=\\frac{1}{RC}x(t)$$"
   ]
  },
  {
   "cell_type": "markdown",
   "id": "ebd610f0",
   "metadata": {
    "slideshow": {
     "slide_type": "fragment"
    }
   },
   "source": [
    "So, by inspection, $N=1$, $a_1 = 1$, $a_0 = b_0 = 1/RC$."
   ]
  },
  {
   "cell_type": "markdown",
   "id": "43915607",
   "metadata": {
    "slideshow": {
     "slide_type": "subslide"
    }
   },
   "source": [
    "#### General solution of the general linear constant-coefficient differential equation\n",
    "\n",
    "The general solution of the general linear constant-coefficient differential equation for a particular input $x(t)$ is given by\n",
    "\n",
    "$$y(t)=y_p(t)+y_h(t)$$"
   ]
  },
  {
   "cell_type": "markdown",
   "id": "086c570b",
   "metadata": {
    "slideshow": {
     "slide_type": "fragment"
    }
   },
   "source": [
    "where $y_p(t)$ is a *particular solution* satisfying the linear constant-coefficient differential equation and $y_h(t)$ is a *homegeneous solution* (or *complementary solution*) satisfying the homegeneous differential equation\n",
    "\n",
    "$$\\sum_{k=0}^N a_k \\frac{d^ky(t)}{dt^k}=0$$"
   ]
  },
  {
   "cell_type": "markdown",
   "id": "093e376f",
   "metadata": {
    "slideshow": {
     "slide_type": "fragment"
    }
   },
   "source": [
    "The exact form of $y_h(t)$ is determined by $N$ auxiliary conditions."
   ]
  },
  {
   "cell_type": "markdown",
   "id": "ff92707e",
   "metadata": {
    "slideshow": {
     "slide_type": "subslide"
    }
   },
   "source": [
    "Note that \n",
    "\n",
    "$$\\sum_{k=0}^N a_k \\frac{d^ky(t)}{dt^k}=\\sum_{k=0}^M b_k \\frac{d^k x(t)}{dt^k}$$\n",
    "\n",
    "does not completely specify the the output $y(t)$ in terms of $x(t)$ unless auxiliary conditions are defined. In general. a set of auxiliary conditions are the values of\n",
    "\n",
    "$$y(t),\\frac{dy(t)}{dt},\\ldots,\\frac{d^{N-1}y(t)}{dt^N-1}$$\n",
    "\n",
    "at some point in time."
   ]
  },
  {
   "cell_type": "markdown",
   "id": "128b6fd9",
   "metadata": {
    "slideshow": {
     "slide_type": "subslide"
    }
   },
   "source": [
    "(ccde_b_linearity)=\n",
    "### B. Linearity\n",
    "\n",
    "The system defined by \n",
    "\n",
    "$$\\sum_{k=0}^N a_k \\frac{d^ky(t)}{dt^k}=\\sum_{k=0}^M b_k \\frac{d^k x(t)}{dt^k}$$\n",
    "\n",
    "will be linear only if all the auxilliary conditions are zero (see {ref}`ex8_4`)."
   ]
  },
  {
   "cell_type": "markdown",
   "id": "8ba8cedf",
   "metadata": {
    "slideshow": {
     "slide_type": "subslide"
    }
   },
   "source": [
    "If the auxilliary conditions are not zero, then the response $y(t)$ of a system can be expressed as\n",
    "\n",
    "$$y(t) = y_\\mathrm{zi}(t) + y_\\mathrm{zs}(t)$$\n",
    "\n",
    "where $y_\\mathrm{zi}(t)$ called the *zero-input response*, is the response to the aunxilliary conditions, and $y_\\mathrm{zs}(t)$, called the *zero-state response*, is the response of a linear system with zero auxiliary conditions."
   ]
  },
  {
   "cell_type": "markdown",
   "id": "65c4b47f",
   "metadata": {
    "slideshow": {
     "slide_type": "subslide"
    }
   },
   "source": [
    "This is illustrated in {numref}`fig:zs_and_zi_responses`\n",
    "\n",
    ":::{figure-md} fig:zs_and_zi_responses\n",
    "<img src=\"pictures/zi_and_zs.png\" alt=\"Zero-state and zero-input responses\" width=\"60%\">\n",
    "\n",
    "Zero-state and zero-input responses\n",
    ":::"
   ]
  },
  {
   "cell_type": "markdown",
   "id": "1229c411",
   "metadata": {
    "slideshow": {
     "slide_type": "fragment"
    }
   },
   "source": [
    "Note that $y_\\mathrm{zi}(t) \\neq y_h(t)$ and $y_\\mathrm{zs}(t) \\neq y_p(t)$ and that in general $y_\\mathrm{zi}(t)$ contains $y_h(t)$ and $y_\\mathrm{zs}(t)$ contains both $y_h(t)$ and $y_p(t)$ (see {ref}`ex8_3`)."
   ]
  },
  {
   "cell_type": "markdown",
   "id": "083ad818",
   "metadata": {
    "slideshow": {
     "slide_type": "subslide"
    }
   },
   "source": [
    "(ccde_c_causality)=\n",
    "### C. Causality\n",
    "\n",
    "In order for the linear system described by a linear constant-coefficient differential equation\n",
    "\n",
    "$$\\sum_{k=0}^N a_k \\frac{d^ky(t)}{dt^k}=\\sum_{k=0}^M b_k \\frac{d^k x(t)}{dt^k}$$\n",
    "\n",
    "to be causal, we must assume the condition of *initial rest* (or an *initially relaxed condition*)."
   ]
  },
  {
   "cell_type": "markdown",
   "id": "90aeee89",
   "metadata": {
    "slideshow": {
     "slide_type": "subslide"
    }
   },
   "source": [
    "That is, if $x(y)=0$ for $t\\le t_0$, then assume $y(t) = 0$ for $t\\le t_0$ (See {ref}`ex4_6`)."
   ]
  },
  {
   "cell_type": "markdown",
   "id": "fea0e56b",
   "metadata": {
    "slideshow": {
     "slide_type": "subslide"
    }
   },
   "source": [
    "Thus, the response for $t > t_0$ can be calculated from the linear constant-coefficient differential equation with the initial conditions\n",
    "\n",
    "$$y(t_0)=\\frac{dy(t_0)}{dt}=\\cdots=\\frac{d^{N-1}y(t_0)}{dt^{N-1}}=0$$\n",
    "\n",
    "where\n",
    "\n",
    "$$\\frac{d^ky(t_0)}{dt^k} = \\left.\\frac{d^ky(t)}{dt^k}\\right|_{t=t_0}$$"
   ]
  },
  {
   "cell_type": "markdown",
   "id": "d9a9afb2",
   "metadata": {
    "slideshow": {
     "slide_type": "fragment"
    }
   },
   "source": [
    "Clearly, at initial rest, $y_\\mathrm{zs}(t)=0$."
   ]
  },
  {
   "cell_type": "markdown",
   "id": "8df45cc3",
   "metadata": {
    "slideshow": {
     "slide_type": "subslide"
    }
   },
   "source": [
    "(ccde_d_time_invariance)=\n",
    "### D. Time-invariance\n",
    "\n",
    "For a linear causal system, initial rest also implies time-invariance ({ref}`ex8_6`)."
   ]
  },
  {
   "cell_type": "markdown",
   "id": "7c1050dd",
   "metadata": {
    "slideshow": {
     "slide_type": "subslide"
    }
   },
   "source": [
    "(ccde_e_impulse_response)=\n",
    "### E. Impulse response\n",
    "\n",
    "The impulse response $h(t)$ of a linear constant-coefficient differential equation satisfies the differential equation\n",
    "\n",
    "$$\\sum_{k=0}^N a_k \\frac{d^ky(t)}{dt^k}=\\sum_{k=0}^M b_k \\frac{d^k \\delta(t)}{dt^k}$$\n",
    "\n",
    "with the initial rest condition."
   ]
  },
  {
   "cell_type": "markdown",
   "id": "26deec83",
   "metadata": {
    "slideshow": {
     "slide_type": "fragment"
    }
   },
   "source": [
    "Examples of finding impulse responses are given in {ref}`ex8_6` to {ref}`ex8_8`."
   ]
  },
  {
   "cell_type": "markdown",
   "id": "c2829c0e",
   "metadata": {
    "slideshow": {
     "slide_type": "subslide"
    }
   },
   "source": [
    "#### A peek into the future\n",
    "\n",
    "Later in this course, and probably for the rest of your career, you will find the impulse response by using the Laplace transform."
   ]
  },
  {
   "cell_type": "markdown",
   "id": "b981f18e",
   "metadata": {
    "slideshow": {
     "slide_type": "slide"
    }
   },
   "source": [
    "(examples_8)=\n",
    "## Examples 8: Systems described by differential equations"
   ]
  },
  {
   "cell_type": "markdown",
   "id": "997d60fa",
   "metadata": {
    "slideshow": {
     "slide_type": "subslide"
    }
   },
   "source": [
    "(ex8_1)=\n",
    "### Example 8.1 \n",
    "\n",
    "The continuous-time system shown in {numref}`fig:ex:8.1` consists of one integrator and one scalar multiplier. Write the differential equation that relates the output $y(t)$ to the input $x(t)$.\n",
    "\n",
    ":::{figure-md} fig:ex:8.1\n",
    "<img src=\"pictures/ex8_1.png\" alt=\"A one-integrator linear system\" width=\"40%\">\n",
    "\n",
    "A one-integrator linear system\n",
    ":::"
   ]
  },
  {
   "cell_type": "markdown",
   "id": "f605a2b0",
   "metadata": {
    "slideshow": {
     "slide_type": "notes"
    }
   },
   "source": [
    "For the answer, refer to the lecture recording or see solved problem 2.18 in {cite}`schaum`."
   ]
  },
  {
   "cell_type": "markdown",
   "id": "e306dbc6",
   "metadata": {
    "slideshow": {
     "slide_type": "subslide"
    }
   },
   "source": [
    "(ex8_2)=\n",
    "### Example 8.2\n",
    "\n",
    "The continuous-time system shown in {numref}`fig:ex:8.2` consists of two integrators and two scalar multipliers. Write the differential equation that relates the output $y(t)$ to the input $x(t)$.\n",
    "\n",
    ":::{figure-md} fig:ex:8.2\n",
    "<img src=\"pictures/ex8_2.png\" alt=\"A two-integrator linear system\" width=\"60%\">\n",
    "\n",
    "A one-integrator linear system\n",
    ":::"
   ]
  },
  {
   "cell_type": "markdown",
   "id": "530ffdad",
   "metadata": {
    "slideshow": {
     "slide_type": "notes"
    }
   },
   "source": [
    "For the answer, refer to the lecture recording or see solved problem 2.19 in in {cite}`schaum`."
   ]
  },
  {
   "cell_type": "markdown",
   "id": "2572d3cc",
   "metadata": {
    "slideshow": {
     "slide_type": "subslide"
    }
   },
   "source": [
    "(ex8_3)=\n",
    "### Example 8.3\n",
    "\n",
    "Consider a continuous-time system whose input $x(t)$ and output $y(t)$ are related by\n",
    "\n",
    "$$\\frac{dy(t)}{dt}+ay(t)=x(t)$$\n",
    "\n",
    "where $a$ is a constant.\n",
    "\n",
    "(a) Find $y(t)$ with the auxilliary condition $y(0) = y_0$ and\n",
    "\n",
    "$$x(t) = Ke^{bt}u_0(t)$$\n",
    "\n",
    "(b) Express $y(t)$ in terms of the zero-input and zero-state responses."
   ]
  },
  {
   "cell_type": "markdown",
   "id": "d25ad080",
   "metadata": {
    "slideshow": {
     "slide_type": "notes"
    }
   },
   "source": [
    "For the answer, refer to the lecture recording or see solved problem 2.20 in {cite}`schaum`."
   ]
  },
  {
   "cell_type": "markdown",
   "id": "8969d0fb",
   "metadata": {
    "slideshow": {
     "slide_type": "subslide"
    }
   },
   "source": [
    "(ex8_4)=\n",
    "### Example 8.4\n",
    "\n",
    "Consider the system in {ref}`ex8_3`.\n",
    "\n",
    "(a) Show that the system is not linear if $y(0)=y_0\\neq 0$.\n",
    "\n",
    "(b) Show that the system is linear if $y(0) = 0$."
   ]
  },
  {
   "cell_type": "markdown",
   "id": "ecc632cb",
   "metadata": {
    "slideshow": {
     "slide_type": "notes"
    }
   },
   "source": [
    "For the answer, refer to the lecture recording or see solved problem 2.21 in {cite}`schaum`."
   ]
  },
  {
   "cell_type": "markdown",
   "id": "ce835c06",
   "metadata": {
    "slideshow": {
     "slide_type": "subslide"
    }
   },
   "source": [
    "(ex8_5)=\n",
    "### Example 8.5\n",
    "\n",
    "Consider the system in {ref}`ex8_3`. Show that the initial rest condition $y(0) = 0$ also implies that the system is time-invariant."
   ]
  },
  {
   "cell_type": "markdown",
   "id": "f57139a0",
   "metadata": {
    "slideshow": {
     "slide_type": "notes"
    }
   },
   "source": [
    "For the answer, refer to the lecture recording or see solved problem 2.22 in {cite}`schaum`."
   ]
  },
  {
   "cell_type": "markdown",
   "id": "5747f142",
   "metadata": {
    "slideshow": {
     "slide_type": "subslide"
    }
   },
   "source": [
    "(ex8_6)=\n",
    "### Example 8.6\n",
    "\n",
    "Consider the system in {ref}`ex8_3`. Find the impulse response $h(t)$ of the system."
   ]
  },
  {
   "cell_type": "markdown",
   "id": "1f5a397d",
   "metadata": {
    "slideshow": {
     "slide_type": "notes"
    }
   },
   "source": [
    "For the answer, refer to the lecture recording or see solved problem 2.23 in {cite}`schaum`."
   ]
  },
  {
   "cell_type": "markdown",
   "id": "a20e9fc3",
   "metadata": {
    "slideshow": {
     "slide_type": "subslide"
    }
   },
   "source": [
    "(ex8_7)=\n",
    "### Example 8.7\n",
    "\n",
    "Consider the system in {ref}`ex8_3` with $y(0)=0$. \n",
    "\n",
    "(a) Find the step response $s(t)$ of the system without using the impulse response $h(t)$.\n",
    "\n",
    "(b) Find the step response $s(t)$ of the system with the impulse response $h(t)$ obtained in {ref}`ex8_6`.\n",
    "\n",
    "(c) Find the impulse response $h(t)$ from the step response $s(t)$."
   ]
  },
  {
   "cell_type": "markdown",
   "id": "d02d2267",
   "metadata": {
    "slideshow": {
     "slide_type": "notes"
    }
   },
   "source": [
    "For the answer, refer to the lecture recording or see solved problem 2.24 in {cite}`schaum`."
   ]
  },
  {
   "cell_type": "markdown",
   "id": "c36f5984",
   "metadata": {
    "slideshow": {
     "slide_type": "subslide"
    }
   },
   "source": [
    "(ex8_8)=\n",
    "\n",
    "### Example 8.8\n",
    "\n",
    "Consider the system described by\n",
    "\n",
    "$$\\frac{dy(t)}{dt} + 2y(t) = x(t) + \\frac{dx(t)}{dt}$$\n",
    "\n",
    "Find the impulse response $h(t)$ of the system."
   ]
  },
  {
   "cell_type": "markdown",
   "id": "2080ad65",
   "metadata": {
    "slideshow": {
     "slide_type": "notes"
    }
   },
   "source": [
    "For the answer, refer to the lecture recording or see solved problem 2.25 in {cite}`schaum`."
   ]
  },
  {
   "cell_type": "markdown",
   "id": "4a58248f",
   "metadata": {
    "slideshow": {
     "slide_type": "slide"
    }
   },
   "source": [
    "## Summary\n",
    "\n",
    "In this lecture we have concluded our introduction to LTI systems by looking at linear constant-coefficient differential equations."
   ]
  },
  {
   "cell_type": "markdown",
   "id": "04fd5f10",
   "metadata": {
    "slideshow": {
     "slide_type": "subslide"
    }
   },
   "source": [
    "### Continuous-Time LTI Systems Described by Differential Equations\n",
    "\n",
    "* {ref}`ccde_a_linear_constant_coefficient_differential_equations`\n",
    "* {ref}`ccde_b_linearity`\n",
    "* {ref}`ccde_c_causality`\n",
    "* {ref}`ccde_d_time_invariance`\n",
    "* {ref}`ccde_e_impulse_response`"
   ]
  },
  {
   "cell_type": "markdown",
   "id": "16ea6f60",
   "metadata": {
    "slideshow": {
     "slide_type": "slide"
    }
   },
   "source": [
    "## Next Time\n",
    "\n",
    "We move on to consider \n",
    "\n",
    "* {doc}`../laplace_transform/index`"
   ]
  }
 ],
 "metadata": {
  "jupytext": {
   "formats": "ipynb,md:myst",
   "text_representation": {
    "extension": ".md",
    "format_name": "myst",
    "format_version": 0.13,
    "jupytext_version": "1.14.4"
   }
  },
  "kernelspec": {
   "display_name": "Matlab",
   "language": "matlab",
   "name": "matlab"
  },
  "language_info": {
   "codemirror_mode": "octave",
   "file_extension": ".m",
   "help_links": [
    {
     "text": "MetaKernel Magics",
     "url": "https://metakernel.readthedocs.io/en/latest/source/README.html"
    }
   ],
   "mimetype": "text/x-octave",
   "name": "matlab",
   "version": "0.17.1"
  },
  "source_map": [
   15,
   22,
   31,
   42,
   53,
   57,
   63,
   71,
   75,
   83,
   89,
   93,
   105,
   116,
   124,
   134,
   138,
   149,
   153,
   163,
   167,
   174,
   185,
   189,
   195,
   200,
   213,
   217,
   230,
   234,
   251,
   255,
   266,
   270,
   277,
   281,
   288,
   292,
   305,
   309,
   321,
   325,
   331,
   341
  ]
 },
 "nbformat": 4,
 "nbformat_minor": 5
}