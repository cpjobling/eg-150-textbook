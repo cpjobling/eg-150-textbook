{
 "cells": [
  {
   "cell_type": "markdown",
   "id": "79d9a899",
   "metadata": {
    "slideshow": {
     "slide_type": "slide"
    }
   },
   "source": [
    "(Systems_Described_by_Differential_Equations)=\n",
    "# Unit 3.3: Systems Described by Differential Equations\n",
    "\n",
    "This section is based on Section 2.5 of {cite}`schaum`"
   ]
  },
  {
   "cell_type": "markdown",
   "id": "5217daeb",
   "metadata": {},
   "source": [
    "Follow along at [cpjobling.github.io/eg-150-textbook/lti_systems/lti3](https://cpjobling.github.io/eg-150-textbook/lti_systems/lti3)"
   ]
  },
  {
   "cell_type": "markdown",
   "id": "ff6867bf",
   "metadata": {
    "slideshow": {
     "slide_type": "slide"
    }
   },
   "source": [
    "## Subjects to be covered\n",
    "\n",
    "We conclude our introduction to continuous-time LTI system by considering\n",
    "\n",
    "* {ref}`Continuous_Time_LTI_Systems_Described_by_Differential_Equations`\n",
    "* {ref}`examples_8`"
   ]
  },
  {
   "cell_type": "markdown",
   "id": "bce247c7",
   "metadata": {
    "slideshow": {
     "slide_type": "slide"
    }
   },
   "source": [
    "(Continuous_Time_LTI_Systems_Described_by_Differential_Equations)=\n",
    "## Continuous-time LTI systems described by differential equations\n",
    "\n",
    "* {ref}`ccde_a_linear_constant_coefficient_differential_equations`\n",
    "* {ref}`ccde_b_linearity`\n",
    "* {ref}`ccde_c_causality`\n",
    "* {ref}`ccde_d_time_invariance`\n",
    "* {ref}`ccde_e_impulse_response`"
   ]
  },
  {
   "cell_type": "markdown",
   "id": "7f0ae522",
   "metadata": {
    "slideshow": {
     "slide_type": "subslide"
    }
   },
   "source": [
    "(ccde_a_linear_constant_coefficient_differential_equations)=\n",
    "### A. Linear constant-coefficient differential equations\n",
    "\n",
    "A general $N$th-order linear constant-coefficient differential (LCCDE) equation is given by\n",
    "\n",
    "$$\\sum_{k=0}^N a_k \\frac{d^ky(t)}{dt^k}=\\sum_{k=0}^M b_k \\frac{d^k x(t)}{dt^k}$$\n",
    "\n",
    "where the coeeficients $a_k$ and $b_k$ are real constants."
   ]
  },
  {
   "cell_type": "markdown",
   "id": "4794ea6c",
   "metadata": {
    "slideshow": {
     "slide_type": "fragment"
    }
   },
   "source": [
    "The order $N$ refers to the highest derivative of $y(t)$ in the differential equation."
   ]
  },
  {
   "cell_type": "markdown",
   "id": "546221b1",
   "metadata": {
    "slideshow": {
     "slide_type": "subslide"
    }
   },
   "source": [
    "#### Applications of linear constant-coefficient differential equations\n",
    "\n",
    "LCCDEs play a central role in describing the input-output relationships of a wide variety of electrical, mechanical, chemical and biological systems."
   ]
  },
  {
   "cell_type": "markdown",
   "id": "78705c58",
   "metadata": {
    "slideshow": {
     "slide_type": "subslide"
    }
   },
   "source": [
    "#### Illustration: An RC Circuit\n",
    "\n",
    "For instance, in the RC circuit considered in {ref}`ex4.1`, the input $x(t)=v_s(t)$ and the output $y(t)=v_c(t)$ are related by a first-order constant-coefficient differential equation\n",
    "\n",
    "$$\\frac{dy(t)}{dt}+\\frac{1}{RC}y(t)=\\frac{1}{RC}x(t)$$"
   ]
  },
  {
   "cell_type": "markdown",
   "id": "f9025f5c",
   "metadata": {
    "slideshow": {
     "slide_type": "fragment"
    }
   },
   "source": [
    "So, by inspection, $N=1$, $a_1 = 1$, $a_0 = b_0 = 1/RC$."
   ]
  },
  {
   "cell_type": "markdown",
   "id": "426b4b35",
   "metadata": {
    "slideshow": {
     "slide_type": "subslide"
    }
   },
   "source": [
    "#### General solution of the general linear constant-coefficient differential equation\n",
    "\n",
    "The general solution of the general linear constant-coefficient differential equation for a particular input $x(t)$ is given by\n",
    "\n",
    "$$y(t)=y_p(t)+y_h(t)$$"
   ]
  },
  {
   "cell_type": "markdown",
   "id": "d20aeed4",
   "metadata": {
    "slideshow": {
     "slide_type": "fragment"
    }
   },
   "source": [
    "where $y_p(t)$ is a *particular solution* satisfying the linear constant-coefficient differential equation and $y_h(t)$ is a *homegeneous solution* (or *complementary solution*) satisfying the homegeneous differential equation\n",
    "\n",
    "$$\\sum_{k=0}^N a_k \\frac{d^ky(t)}{dt^k}=0$$"
   ]
  },
  {
   "cell_type": "markdown",
   "id": "3c737488",
   "metadata": {
    "slideshow": {
     "slide_type": "fragment"
    }
   },
   "source": [
    "The exact form of $y_h(t)$ is determined by $N$ auxiliary conditions."
   ]
  },
  {
   "cell_type": "markdown",
   "id": "09c9c1b3",
   "metadata": {
    "slideshow": {
     "slide_type": "subslide"
    }
   },
   "source": [
    "Note that \n",
    "\n",
    "$$\\sum_{k=0}^N a_k \\frac{d^ky(t)}{dt^k}=\\sum_{k=0}^M b_k \\frac{d^k x(t)}{dt^k}$$\n",
    "\n",
    "does not completely specify the the output $y(t)$ in terms of $x(t)$ unless auxiliary conditions are defined. In general. a set of auxiliary conditions are the values of\n",
    "\n",
    "$$y(t),\\frac{dy(t)}{dt},\\ldots,\\frac{d^{N-1}y(t)}{dt^N-1}$$\n",
    "\n",
    "at some point in time."
   ]
  },
  {
   "cell_type": "markdown",
   "id": "08b97375",
   "metadata": {
    "slideshow": {
     "slide_type": "subslide"
    }
   },
   "source": [
    "(ccde_b_linearity)=\n",
    "### B. Linearity\n",
    "\n",
    "The system defined by \n",
    "\n",
    "$$\\sum_{k=0}^N a_k \\frac{d^ky(t)}{dt^k}=\\sum_{k=0}^M b_k \\frac{d^k x(t)}{dt^k}$$\n",
    "\n",
    "will be linear only if all the auxilliary conditions are zero (see {ref}`ex8_4`)."
   ]
  },
  {
   "cell_type": "markdown",
   "id": "24b0fe39",
   "metadata": {
    "slideshow": {
     "slide_type": "subslide"
    }
   },
   "source": [
    "If the auxilliary conditions are not zero, then the response $y(t)$ of a system can be expressed as\n",
    "\n",
    "$$y(t) = y_\\mathrm{zi}(t) + y_\\mathrm{zs}(t)$$\n",
    "\n",
    "where $y_\\mathrm{zi}(t)$ called the *zero-input response*, is the response to the aunxilliary conditions, and $y_\\mathrm{zs}(t)$, called the *zero-state response*, is the response of a linear system with zero auxiliary conditions."
   ]
  },
  {
   "cell_type": "markdown",
   "id": "30722fbd",
   "metadata": {
    "slideshow": {
     "slide_type": "subslide"
    }
   },
   "source": [
    "This is illustrated in {numref}`fig:zs_and_zi_responses`\n",
    "\n",
    ":::{figure-md} fig:zs_and_zi_responses\n",
    "<img src=\"pictures/zi_and_zs.png\" alt=\"Zero-state and zero-input responses\" width=\"60%\">\n",
    "\n",
    "Zero-state and zero-input responses\n",
    ":::"
   ]
  },
  {
   "cell_type": "markdown",
   "id": "59b211ad",
   "metadata": {
    "slideshow": {
     "slide_type": "fragment"
    }
   },
   "source": [
    "Note that $y_\\mathrm{zi}(t) \\neq y_h(t)$ and $y_\\mathrm{zs}(t) \\neq y_p(t)$ and that in general $y_\\mathrm{zi}(t)$ contains $y_h(t)$ and $y_\\mathrm{zs}(t)$ contains both $y_h(t)$ and $y_p(t)$ (see {ref}`ex8_3`)."
   ]
  },
  {
   "cell_type": "markdown",
   "id": "0a2336af",
   "metadata": {
    "slideshow": {
     "slide_type": "subslide"
    }
   },
   "source": [
    "(ccde_c_causality)=\n",
    "### C. Causality\n",
    "\n",
    "In order for the linear system described by a linear constant-coefficient differential equation\n",
    "\n",
    "$$\\sum_{k=0}^N a_k \\frac{d^ky(t)}{dt^k}=\\sum_{k=0}^M b_k \\frac{d^k x(t)}{dt^k}$$\n",
    "\n",
    "to be causal, we must assume the condition of *initial rest* (or an *initially relaxed condition*)."
   ]
  },
  {
   "cell_type": "markdown",
   "id": "34ab2f68",
   "metadata": {
    "slideshow": {
     "slide_type": "subslide"
    }
   },
   "source": [
    "That is, if $x(y)=0$ for $t\\le t_0$, then assume $y(t) = 0$ for $t\\le t_0$ (See {ref}`ex4_6`)."
   ]
  },
  {
   "cell_type": "markdown",
   "id": "e26493c5",
   "metadata": {
    "slideshow": {
     "slide_type": "subslide"
    }
   },
   "source": [
    "Thus, the response for $t > t_0$ can be calculated from the linear constant-coefficient differential equation with the initial conditions\n",
    "\n",
    "$$y(t_0)=\\frac{dy(t_0)}{dt}=\\cdots=\\frac{d^{N-1}y(t_0)}{dt^{N-1}}=0$$\n",
    "\n",
    "where\n",
    "\n",
    "$$\\frac{d^ky(t_0)}{dt^k} = \\left.\\frac{d^ky(t)}{dt^k}\\right|_{t=t_0}$$"
   ]
  },
  {
   "cell_type": "markdown",
   "id": "8437ecf3",
   "metadata": {
    "slideshow": {
     "slide_type": "fragment"
    }
   },
   "source": [
    "Clearly, at initial rest, $y_\\mathrm{zs}(t)=0$."
   ]
  },
  {
   "cell_type": "markdown",
   "id": "7d378445",
   "metadata": {
    "slideshow": {
     "slide_type": "subslide"
    }
   },
   "source": [
    "(ccde_d_time_invariance)=\n",
    "### D. Time-invariance\n",
    "\n",
    "For a linear causal system, initial rest also implies time-invariance ({ref}`ex8_6`)."
   ]
  },
  {
   "cell_type": "markdown",
   "id": "6708ec6b",
   "metadata": {
    "slideshow": {
     "slide_type": "subslide"
    }
   },
   "source": [
    "(ccde_e_impulse_response)=\n",
    "### E. Impulse response\n",
    "\n",
    "The impulse response $h(t)$ of a linear constant-coefficient differential equation satisfies the differential equation\n",
    "\n",
    "$$\\sum_{k=0}^N a_k \\frac{d^ky(t)}{dt^k}=\\sum_{k=0}^M b_k \\frac{d^k \\delta(t)}{dt^k}$$\n",
    "\n",
    "with the initial rest condition."
   ]
  },
  {
   "cell_type": "markdown",
   "id": "8e0047ab",
   "metadata": {
    "slideshow": {
     "slide_type": "fragment"
    }
   },
   "source": [
    "Examples of finding impulse responses are given in {ref}`ex8_6` to {ref}`ex8_8`."
   ]
  },
  {
   "cell_type": "markdown",
   "id": "d8a347c0",
   "metadata": {
    "slideshow": {
     "slide_type": "subslide"
    }
   },
   "source": [
    "#### A peek into the future\n",
    "\n",
    "Later in this course, and probably for the rest of your career, you will find the impulse response by using the Laplace transform."
   ]
  },
  {
   "cell_type": "markdown",
   "id": "58d67054",
   "metadata": {
    "slideshow": {
     "slide_type": "slide"
    }
   },
   "source": [
    "(examples_8)=\n",
    "## Examples 8: Systems described by differential equations"
   ]
  },
  {
   "cell_type": "markdown",
   "id": "3df0e5d2",
   "metadata": {
    "slideshow": {
     "slide_type": "subslide"
    }
   },
   "source": [
    "(ex8_1)=\n",
    "### Example 8.1 \n",
    "\n",
    "The continuous-time system shown in {numref}`fig:ex:8.1` consists of one integrator and one scalar multiplier. Write the differential equation that relates the output $y(t)$ to the input $x(t)$.\n",
    "\n",
    ":::{figure-md} fig:ex:8.1\n",
    "<img src=\"pictures/ex8_1.png\" alt=\"A one-integrator linear system\" width=\"40%\">\n",
    "\n",
    "A one-integrator linear system\n",
    ":::"
   ]
  },
  {
   "cell_type": "markdown",
   "id": "74a1df32",
   "metadata": {
    "slideshow": {
     "slide_type": "notes"
    }
   },
   "source": [
    "For the answer, refer to the lecture recording or see solved problem 2.18 in {cite}`schaum`."
   ]
  },
  {
   "cell_type": "markdown",
   "id": "fa43ae97",
   "metadata": {
    "slideshow": {
     "slide_type": "subslide"
    }
   },
   "source": [
    "(ex8_2)=\n",
    "### Example 8.2\n",
    "\n",
    "The continuous-time system shown in {numref}`fig:ex:8.2` consists of two integrators and two scalar multipliers. Write the differential equation that relates the output $y(t)$ to the input $x(t)$.\n",
    "\n",
    ":::{figure-md} fig:ex:8.2\n",
    "<img src=\"pictures/ex8_2.png\" alt=\"A two-integrator linear system\" width=\"60%\">\n",
    "\n",
    "A one-integrator linear system\n",
    ":::"
   ]
  },
  {
   "cell_type": "markdown",
   "id": "292da158",
   "metadata": {
    "slideshow": {
     "slide_type": "notes"
    }
   },
   "source": [
    "For the answer, refer to the lecture recording or see solved problem 2.19 in in {cite}`schaum`."
   ]
  },
  {
   "cell_type": "markdown",
   "id": "af2732dc",
   "metadata": {
    "slideshow": {
     "slide_type": "subslide"
    }
   },
   "source": [
    "(ex8_3)=\n",
    "### Example 8.3\n",
    "\n",
    "Consider a continuous-time system whose input $x(t)$ and output $y(t)$ are related by\n",
    "\n",
    "$$\\frac{dy(t)}{dt}+ay(t)=x(t)$$\n",
    "\n",
    "where $a$ is a constant.\n",
    "\n",
    "(a) Find $y(t)$ with the auxilliary condition $y(0) = y_0$ and\n",
    "\n",
    "$$x(t) = Ke^{bt}u_0(t)$$\n",
    "\n",
    "(b) Express $y(t)$ in terms of the zero-input and zero-state responses."
   ]
  },
  {
   "cell_type": "markdown",
   "id": "a18a1507",
   "metadata": {
    "slideshow": {
     "slide_type": "notes"
    }
   },
   "source": [
    "For the answer, refer to the lecture recording or see solved problem 2.20 in {cite}`schaum`."
   ]
  },
  {
   "cell_type": "markdown",
   "id": "66aa8e37",
   "metadata": {
    "slideshow": {
     "slide_type": "subslide"
    }
   },
   "source": [
    "(ex8_4)=\n",
    "### Example 8.4\n",
    "\n",
    "Consider the system in {ref}`ex8_3`.\n",
    "\n",
    "(a) Show that the system is not linear if $y(0)=y_0\\neq 0$.\n",
    "\n",
    "(b) Show that the system is linear if $y(0) = 0$."
   ]
  },
  {
   "cell_type": "markdown",
   "id": "8cea77ee",
   "metadata": {
    "slideshow": {
     "slide_type": "notes"
    }
   },
   "source": [
    "For the answer, refer to the lecture recording or see solved problem 2.21 in {cite}`schaum`."
   ]
  },
  {
   "cell_type": "markdown",
   "id": "5b32c8d4",
   "metadata": {
    "slideshow": {
     "slide_type": "subslide"
    }
   },
   "source": [
    "(ex8_5)=\n",
    "### Example 8.5\n",
    "\n",
    "Consider the system in {ref}`ex8_3`. Show that the initial rest condition $y(0) = 0$ also implies that the system is time-invariant."
   ]
  },
  {
   "cell_type": "markdown",
   "id": "6b635fbe",
   "metadata": {
    "slideshow": {
     "slide_type": "notes"
    }
   },
   "source": [
    "For the answer, refer to the lecture recording or see solved problem 2.22 in {cite}`schaum`."
   ]
  },
  {
   "cell_type": "markdown",
   "id": "6f3c5a03",
   "metadata": {
    "slideshow": {
     "slide_type": "subslide"
    }
   },
   "source": [
    "(ex8_6)=\n",
    "### Example 8.6\n",
    "\n",
    "Consider the system in {ref}`ex8_3`. Find the impulse response $h(t)$ of the system."
   ]
  },
  {
   "cell_type": "markdown",
   "id": "462f1292",
   "metadata": {
    "slideshow": {
     "slide_type": "notes"
    }
   },
   "source": [
    "For the answer, refer to the lecture recording or see solved problem 2.23 in {cite}`schaum`."
   ]
  },
  {
   "cell_type": "markdown",
   "id": "060430f9",
   "metadata": {
    "slideshow": {
     "slide_type": "subslide"
    }
   },
   "source": [
    "(ex8_7)=\n",
    "### Example 8.7\n",
    "\n",
    "Consider the system in {ref}`ex8_3` with $y(0)=0$. \n",
    "\n",
    "(a) Find the step response $s(t)$ of the system without using the impulse response $h(t)$.\n",
    "\n",
    "(b) Find the step response $s(t)$ of the system with the impulse response $h(t)$ obtained in {ref}`ex8_6`.\n",
    "\n",
    "(c) Find the impulse response $h(t)$ from the step response $s(t)$."
   ]
  },
  {
   "cell_type": "markdown",
   "id": "b6375595",
   "metadata": {
    "slideshow": {
     "slide_type": "notes"
    }
   },
   "source": [
    "For the answer, refer to the lecture recording or see solved problem 2.24 in {cite}`schaum`."
   ]
  },
  {
   "cell_type": "markdown",
   "id": "ef8c9ac8",
   "metadata": {
    "slideshow": {
     "slide_type": "subslide"
    }
   },
   "source": [
    "(ex8_8)=\n",
    "\n",
    "### Example 8.8\n",
    "\n",
    "Consider the system described by\n",
    "\n",
    "$$\\frac{dy(t)}{dt} + 2y(t) = x(t) + \\frac{dx(t)}{dt}$$\n",
    "\n",
    "Find the impulse response $h(t)$ of the system."
   ]
  },
  {
   "cell_type": "markdown",
   "id": "4a7eaa6f",
   "metadata": {
    "slideshow": {
     "slide_type": "notes"
    }
   },
   "source": [
    "For the answer, refer to the lecture recording or see solved problem 2.25 in {cite}`schaum`."
   ]
  },
  {
   "cell_type": "markdown",
   "id": "7b5d4ddb",
   "metadata": {
    "slideshow": {
     "slide_type": "slide"
    }
   },
   "source": [
    "## Summary\n",
    "\n",
    "In this lecture we have concluded our introduction to LTI systems by looking at linear constant-coefficient differential equations."
   ]
  },
  {
   "cell_type": "markdown",
   "id": "7ff1b03b",
   "metadata": {
    "slideshow": {
     "slide_type": "subslide"
    }
   },
   "source": [
    "### Continuous-Time LTI Systems Described by Differential Equations\n",
    "\n",
    "* {ref}`ccde_a_linear_constant_coefficient_differential_equations`\n",
    "* {ref}`ccde_b_linearity`\n",
    "* {ref}`ccde_c_causality`\n",
    "* {ref}`ccde_d_time_invariance`\n",
    "* {ref}`ccde_e_impulse_response`"
   ]
  },
  {
   "cell_type": "markdown",
   "id": "059ca60a",
   "metadata": {
    "slideshow": {
     "slide_type": "slide"
    }
   },
   "source": [
    "## Next Time\n",
    "\n",
    "We move on to consider \n",
    "\n",
    "* {doc}`../laplace_transform/index`"
   ]
  }
 ],
 "metadata": {
  "jupytext": {
   "formats": "ipynb,md:myst",
   "text_representation": {
    "extension": ".md",
    "format_name": "myst",
    "format_version": 0.13,
    "jupytext_version": "1.14.4"
   }
  },
  "kernelspec": {
   "display_name": "Matlab",
   "language": "matlab",
   "name": "matlab"
  },
  "language_info": {
   "codemirror_mode": "octave",
   "file_extension": ".m",
   "help_links": [
    {
     "text": "MetaKernel Magics",
     "url": "https://metakernel.readthedocs.io/en/latest/source/README.html"
    }
   ],
   "mimetype": "text/x-octave",
   "name": "matlab",
   "version": "0.17.1"
  },
  "source_map": [
   15,
   22,
   26,
   35,
   46,
   57,
   61,
   67,
   75,
   79,
   87,
   93,
   97,
   109,
   120,
   128,
   138,
   142,
   153,
   157,
   167,
   171,
   178,
   189,
   193,
   199,
   204,
   217,
   221,
   234,
   238,
   255,
   259,
   270,
   274,
   281,
   285,
   292,
   296,
   309,
   313,
   325,
   329,
   335,
   345
  ]
 },
 "nbformat": 4,
 "nbformat_minor": 5
}