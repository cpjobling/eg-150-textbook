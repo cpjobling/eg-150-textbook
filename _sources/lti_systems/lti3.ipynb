{
 "cells": [
  {
   "cell_type": "markdown",
   "id": "4d64525f",
   "metadata": {
    "slideshow": {
     "slide_type": "slide"
    }
   },
   "source": [
    "(Systems_Described_by_Differential_Equations)=\n",
    "# Unit 3.3: Systems Described by Differential Equations\n",
    "\n",
    "This section is based on Section 2.5 of {cite}`schaum`"
   ]
  },
  {
   "cell_type": "markdown",
   "id": "c1f69873",
   "metadata": {
    "slideshow": {
     "slide_type": "subslide"
    }
   },
   "source": [
    "Follow along at [cpjobling.github.io/eg-150-textbook/lti_systems/lti3](https://cpjobling.github.io/eg-150-textbook/lti_systems/lti3)\n",
    "\n",
    "![QR Code for this lecture](pictures/qrcode_lti3.png)"
   ]
  },
  {
   "cell_type": "markdown",
   "id": "32ced492",
   "metadata": {
    "slideshow": {
     "slide_type": "slide"
    }
   },
   "source": [
    "## Subjects to be covered\n",
    "\n",
    "We conclude our introduction to continuous-time LTI system by considering\n",
    "\n",
    "* {ref}`Continuous_Time_LTI_Systems_Described_by_Differential_Equations`\n",
    "* {ref}`examples_8`"
   ]
  },
  {
   "cell_type": "markdown",
   "id": "8ca41ba2",
   "metadata": {
    "slideshow": {
     "slide_type": "slide"
    }
   },
   "source": [
    "(Continuous_Time_LTI_Systems_Described_by_Differential_Equations)=\n",
    "## Continuous-time LTI systems described by differential equations\n",
    "\n",
    "* {ref}`ccde_a_linear_constant_coefficient_differential_equations`\n",
    "* {ref}`ccde_b_linearity`\n",
    "* {ref}`ccde_c_causality`\n",
    "* {ref}`ccde_d_time_invariance`\n",
    "* {ref}`ccde_e_impulse_response`"
   ]
  },
  {
   "cell_type": "markdown",
   "id": "a8f4c087",
   "metadata": {
    "slideshow": {
     "slide_type": "subslide"
    }
   },
   "source": [
    "(ccde_a_linear_constant_coefficient_differential_equations)=\n",
    "### A. Linear constant-coefficient differential equations\n",
    "\n",
    "A general $N$th-order linear constant-coefficient ordinary differential (LCCODE) equation is given by\n",
    "\n",
    "$$a_N\\frac{d^N}{dt^N}y(t) + a_{N-1}\\frac{d^{N-1}}{dt^{N-1}} y(t) + \\cdots + a_1\\frac{d}{dt} y(t) +a_0 y(t) + a_0 y(t)\\\\\n",
    "\\quad\\quad\\quad = b_M\\frac{d^M}{dt^M}x(t) + b_{M-1}\\frac{d^{M-1}}{dt^{M-1}} x(t) + \\cdots + b_1\\frac{d}{dt} x(t) +a_0 x(t)$$\n",
    "\n",
    "where the coeeficients $a_k$ and $b_k$ are real constants and usually $N > M$."
   ]
  },
  {
   "cell_type": "markdown",
   "id": "4397ab40",
   "metadata": {
    "slideshow": {
     "slide_type": "fragment"
    }
   },
   "source": [
    "The order $N$ refers to the highest derivative of $y(t)$ in the differential equation."
   ]
  },
  {
   "cell_type": "markdown",
   "id": "7acfcfb8",
   "metadata": {
    "slideshow": {
     "slide_type": "subslide"
    }
   },
   "source": [
    "The LCCODE can be written in more compact form as\n",
    "\n",
    "$$\\sum_{k=0}^N a_k \\frac{d^k}{dt^k} y(t)=\\sum_{k=0}^M b_k \\frac{d^k}{dt^k} x(t)$$"
   ]
  },
  {
   "cell_type": "markdown",
   "id": "272a3b58",
   "metadata": {
    "slideshow": {
     "slide_type": "subslide"
    }
   },
   "source": [
    "#### Applications of linear constant-coefficient differential equations\n",
    "\n",
    "LCCODEs play a central role in describing the input-output relationships of a wide variety of electrical, mechanical, chemical and biological systems."
   ]
  },
  {
   "cell_type": "markdown",
   "id": "0e6e01dc",
   "metadata": {
    "slideshow": {
     "slide_type": "subslide"
    }
   },
   "source": [
    "{un3.3:rc}=\n",
    "#### Illustration: An RC Circuit\n",
    "\n",
    "For instance, in the RC circuit considered in {ref}`ex4.1`, the input $x(t)=v_s(t)$ and the output $y(t)=v_c(t)$ are related by a first-order constant-coefficient differential equation\n",
    "\n",
    "$$\\frac{dy(t)}{dt}+\\frac{1}{RC}y(t)=\\frac{1}{RC}x(t)$$"
   ]
  },
  {
   "cell_type": "markdown",
   "id": "342017bb",
   "metadata": {
    "slideshow": {
     "slide_type": "fragment"
    }
   },
   "source": [
    "So, by inspection, $N=1$, $a_1 = 1$, $a_0 = b_0 = 1/RC$."
   ]
  },
  {
   "cell_type": "markdown",
   "id": "3cec8497",
   "metadata": {
    "slideshow": {
     "slide_type": "subslide"
    }
   },
   "source": [
    "#### General solution of the general linear constant-coefficient differential equation\n",
    "\n",
    "The general solution of the general linear constant-coefficient differential equation for a particular input $x(t)$ is given by\n",
    "\n",
    "$$y(t)=y_p(t)+y_h(t)$$"
   ]
  },
  {
   "cell_type": "markdown",
   "id": "4905eb71",
   "metadata": {
    "slideshow": {
     "slide_type": "fragment"
    }
   },
   "source": [
    "where $y_p(t)$ is a *particular solution* satisfying the linear constant-coefficient differential equation"
   ]
  },
  {
   "cell_type": "markdown",
   "id": "d5f583f8",
   "metadata": {
    "slideshow": {
     "slide_type": "fragment"
    }
   },
   "source": [
    "and $y_h(t)$ is a *homegeneous solution* (or *complementary solution*) satisfying the homegeneous differential equation\n",
    "\n",
    "$$\\sum_{k=0}^N a_k \\frac{d^k}{dt^k}y(t)=0$$"
   ]
  },
  {
   "cell_type": "markdown",
   "id": "62bcb4c0",
   "metadata": {
    "slideshow": {
     "slide_type": "fragment"
    }
   },
   "source": [
    "The exact form of $y_h(t)$ is determined by $N$ auxiliary conditions."
   ]
  },
  {
   "cell_type": "markdown",
   "id": "15e65d24",
   "metadata": {
    "slideshow": {
     "slide_type": "subslide"
    }
   },
   "source": [
    "Note that \n",
    "\n",
    "$$\\sum_{k=0}^N a_k \\frac{d^k}{dt^k}y(t)=\\sum_{k=0}^M b_k \\frac{d^k}{dt^k} x(t)$$\n",
    "\n",
    "does not completely specify the the output $y(t)$ in terms of $x(t)$ unless auxiliary conditions are defined. In general. a set of auxiliary conditions are the values of\n",
    "\n",
    "$$y(t),\\frac{d}{dt}y(t),\\ldots,\\frac{d^{N-1}}{dt^{N-1}}y(t)$$\n",
    "\n",
    "at some point in time."
   ]
  },
  {
   "cell_type": "markdown",
   "id": "b786b8a3",
   "metadata": {
    "slideshow": {
     "slide_type": "subslide"
    }
   },
   "source": [
    "(ccde_b_linearity)=\n",
    "### B. Linearity\n",
    "\n",
    "The system defined by \n",
    "\n",
    "$$\\sum_{k=0}^N a_k \\frac{d^k}{dt^k}y(t)=\\sum_{k=0}^M b_k \\frac{d^k}{dt^k} x(t)$$\n",
    "\n",
    "will be linear only if all the auxilliary conditions are zero (see {ref}`ex8_4`)."
   ]
  },
  {
   "cell_type": "markdown",
   "id": "f13f2125",
   "metadata": {
    "slideshow": {
     "slide_type": "subslide"
    }
   },
   "source": [
    "If the auxilliary conditions are not zero, then the response $y(t)$ of a system can be expressed as\n",
    "\n",
    "$$y(t) = y_\\mathrm{zi}(t) + y_\\mathrm{zs}(t)$$\n",
    "\n",
    "where $y_\\mathrm{zi}(t)$ called the *zero-input response*, is the response to the aunxilliary conditions, and $y_\\mathrm{zs}(t)$, called the *zero-state response*, is the response of a linear system with zero auxiliary conditions."
   ]
  },
  {
   "cell_type": "markdown",
   "id": "d26bd2f1",
   "metadata": {
    "slideshow": {
     "slide_type": "subslide"
    }
   },
   "source": [
    "This is illustrated in {numref}`fig:zs_and_zi_responses`\n",
    "\n",
    ":::{figure-md} fig:zs_and_zi_responses\n",
    "<img src=\"pictures/zi_and_zs.png\" alt=\"Zero-state and zero-input responses\" width=\"60%\">\n",
    "\n",
    "Zero-state and zero-input responses\n",
    ":::"
   ]
  },
  {
   "cell_type": "markdown",
   "id": "eb2ad575",
   "metadata": {
    "slideshow": {
     "slide_type": "notes"
    }
   },
   "source": [
    "Note that $y_\\mathrm{zi}(t) \\neq y_h(t)$ and $y_\\mathrm{zs}(t) \\neq y_p(t)$ and that in general $y_\\mathrm{zi}(t)$ contains $y_h(t)$ and $y_\\mathrm{zs}(t)$ contains both $y_h(t)$ and $y_p(t)$ (see {ref}`ex8_3`)."
   ]
  },
  {
   "cell_type": "markdown",
   "id": "2bdac237",
   "metadata": {
    "slideshow": {
     "slide_type": "subslide"
    }
   },
   "source": [
    "(ccde_c_causality)=\n",
    "### C. Causality\n",
    "\n",
    "In order for the linear system described by a linear constant-coefficient differential equation\n",
    "\n",
    "$$\\sum_{k=0}^N a_k \\frac{d^k}{dt^k}y(t)=\\sum_{k=0}^M b_k \\frac{d^k}{dt^k}x(t)$$\n",
    "\n",
    "to be causal, we must assume the condition of *initial rest* (or an *initially relaxed condition*)."
   ]
  },
  {
   "cell_type": "markdown",
   "id": "494bc2d2",
   "metadata": {
    "slideshow": {
     "slide_type": "subslide"
    }
   },
   "source": [
    "That is, if $x(t)=0$ for $t\\le t_0$, then assume $y(t) = 0$ for $t\\le t_0$ (See {ref}`ex4_6`)."
   ]
  },
  {
   "cell_type": "markdown",
   "id": "1aec4c83",
   "metadata": {
    "slideshow": {
     "slide_type": "subslide"
    }
   },
   "source": [
    "Thus, the response for $t > t_0$ can be calculated from the linear constant-coefficient differential equation with the initial conditions\n",
    "\n",
    "$$y(t_0)=\\frac{d}{dt}y(t_0)=\\cdots=\\frac{d^{N-1}}{dt^{N-1}}y(t_0)=0$$\n",
    "\n",
    "where\n",
    "\n",
    "$$\\frac{d^k}{dt^k}y(t_0) = \\left.\\frac{d^k}{dt^k}y(t)\\right|_{t=t_0}$$"
   ]
  },
  {
   "cell_type": "markdown",
   "id": "d3a334da",
   "metadata": {
    "slideshow": {
     "slide_type": "fragment"
    }
   },
   "source": [
    "Clearly, at initial rest, $y_\\mathrm{zs}(t)=0$."
   ]
  },
  {
   "cell_type": "markdown",
   "id": "1a42df2b",
   "metadata": {
    "slideshow": {
     "slide_type": "subslide"
    }
   },
   "source": [
    "(ccde_d_time_invariance)=\n",
    "### D. Time-invariance\n",
    "\n",
    "For a linear causal system, initial rest also implies time-invariance ({ref}`ex8_6`)."
   ]
  },
  {
   "cell_type": "markdown",
   "id": "687f95cb",
   "metadata": {
    "slideshow": {
     "slide_type": "subslide"
    }
   },
   "source": [
    "(ccde_e_impulse_response)=\n",
    "### E. Impulse response\n",
    "\n",
    "The impulse response $h(t)$ of a linear constant-coefficient differential equation satisfies the differential equation\n",
    "\n",
    "$$\\sum_{k=0}^N a_k \\frac{d^k}{dt^k}y(t) = \\sum_{k=0}^M b_k \\frac{d^k}{dt^k} \\delta(t)$$\n",
    "\n",
    "with the initial rest condition."
   ]
  },
  {
   "cell_type": "markdown",
   "id": "46b678e0",
   "metadata": {
    "slideshow": {
     "slide_type": "fragment"
    }
   },
   "source": [
    "Examples of finding impulse responses are given in {ref}`ex8_6` to {ref}`ex8_8`."
   ]
  },
  {
   "cell_type": "markdown",
   "id": "f5badba3",
   "metadata": {
    "slideshow": {
     "slide_type": "subslide"
    }
   },
   "source": [
    "### A peek into the future\n",
    "\n",
    "Later in this course, and probably for the rest of your career, you will find the impulse and other responses by using the Laplace transform."
   ]
  },
  {
   "cell_type": "markdown",
   "id": "8263afb0",
   "metadata": {
    "slideshow": {
     "slide_type": "slide"
    }
   },
   "source": [
    "(examples_8)=\n",
    "## Examples 8: Systems described by differential equations"
   ]
  },
  {
   "cell_type": "markdown",
   "id": "a4d0a977",
   "metadata": {
    "slideshow": {
     "slide_type": "subslide"
    }
   },
   "source": [
    "(ex8_1)=\n",
    "### Example 8.1 \n",
    "\n",
    "The continuous-time system shown in {numref}`fig:ex:8.1` consists of one integrator and one scalar multiplier. Write the differential equation that relates the output $y(t)$ to the input $x(t)$.\n",
    "\n",
    ":::{figure-md} fig:ex:8.1\n",
    "<img src=\"pictures/ex8_1.png\" alt=\"A one-integrator linear system\" width=\"40%\">\n",
    "\n",
    "A one-integrator linear system\n",
    ":::"
   ]
  },
  {
   "cell_type": "markdown",
   "id": "8e34e506",
   "metadata": {
    "slideshow": {
     "slide_type": "notes"
    }
   },
   "source": [
    "For the answer, refer to the lecture recording or see solved problem 2.18 in {cite}`schaum`."
   ]
  },
  {
   "cell_type": "markdown",
   "id": "6f39a6be",
   "metadata": {
    "slideshow": {
     "slide_type": "subslide"
    }
   },
   "source": [
    "#### MATLAB Solution"
   ]
  },
  {
   "cell_type": "code",
   "execution_count": 1,
   "id": "933de8b1",
   "metadata": {
    "slideshow": {
     "slide_type": "notes"
    }
   },
   "outputs": [],
   "source": [
    "cd matlab"
   ]
  },
  {
   "cell_type": "code",
   "execution_count": 2,
   "id": "c829bd5a",
   "metadata": {
    "slideshow": {
     "slide_type": "fragment"
    }
   },
   "outputs": [],
   "source": [
    "open examples8"
   ]
  },
  {
   "cell_type": "markdown",
   "id": "545429f2",
   "metadata": {
    "slideshow": {
     "slide_type": "notes"
    }
   },
   "source": [
    "You can download and run these scripts and try them yourself.\n",
    "\n",
    "* MATLAB Scipt [examples8.slx](https://github.com/cpjobling/eg-150-textbook/blob/main/lti_systems/matlab/examples8.mlx?raw=true)\n",
    "* Simulation model [example8_1.slx](https://github.com/cpjobling/eg-150-textbook/blob/main/lti_systems/matlab/example8_1.slx?raw=true)"
   ]
  },
  {
   "cell_type": "markdown",
   "id": "e5478af6",
   "metadata": {
    "slideshow": {
     "slide_type": "subslide"
    }
   },
   "source": [
    "(ex8_2)=\n",
    "### Example 8.2\n",
    "\n",
    "The continuous-time system shown in {numref}`fig:ex:8.2` consists of two integrators and two scalar multipliers. Write the differential equation that relates the output $y(t)$ to the input $x(t)$.\n",
    "\n",
    ":::{figure-md} fig:ex:8.2\n",
    "<img src=\"pictures/ex8_2.png\" alt=\"A two-integrator linear system\" width=\"60%\">\n",
    "\n",
    "A two-integrator linear system\n",
    ":::"
   ]
  },
  {
   "cell_type": "markdown",
   "id": "f34cc54b",
   "metadata": {
    "slideshow": {
     "slide_type": "notes"
    }
   },
   "source": [
    "For the answer, refer to the lecture recording or see solved problem 2.19 in in {cite}`schaum`."
   ]
  },
  {
   "cell_type": "markdown",
   "id": "f14780dc",
   "metadata": {
    "slideshow": {
     "slide_type": "subslide"
    }
   },
   "source": [
    "#### MATLAB Solution\n",
    "\n",
    "* Simulink model [example8_2.slx](https://github.com/cpjobling/eg-150-textbook/blob/main/lti_systems/matlab/example8_2.slx?raw=true)"
   ]
  },
  {
   "cell_type": "markdown",
   "id": "60db7e33",
   "metadata": {
    "slideshow": {
     "slide_type": "notes"
    }
   },
   "source": [
    "```{note}\n",
    "As we will be moving on to show how differential equations can be solved by the Laplace transform, the remaining examples are optional and will not be examined.\n",
    "```"
   ]
  },
  {
   "cell_type": "markdown",
   "id": "2c36137d",
   "metadata": {
    "slideshow": {
     "slide_type": "subslide"
    }
   },
   "source": [
    "(ex8_3)=\n",
    "### Example 8.3\n",
    "\n",
    "Consider a continuous-time system whose input $x(t)$ and output $y(t)$ are related by\n",
    "\n",
    "$$\\frac{dy(t)}{dt}+ay(t)=x(t)$$\n",
    "\n",
    "where $a$ is a constant.\n",
    "\n",
    "(a) Find $y(t)$ with the auxilliary condition $y(0) = y_0$ and\n",
    "\n",
    "$$x(t) = Ke^{bt}u_0(t)$$\n",
    "\n",
    "(b) Express $y(t)$ in terms of the zero-input and zero-state responses."
   ]
  },
  {
   "cell_type": "markdown",
   "id": "588e21de",
   "metadata": {
    "slideshow": {
     "slide_type": "notes"
    }
   },
   "source": [
    "#### Solution\n",
    "\n",
    "This is an example of how a first-order LCCODE would be solved. We provide as an instructional example but will assume that you will be tested on this in other modules.\n",
    "\n",
    "a) Given that \n",
    "\n",
    "$$\\frac{d}{dt}y(t)+ay(t)=x(t)$$\n",
    "\n",
    "we assume that the *particular solution* will be of the form $y_p(t) = Ae^{-bt}$. \n",
    "\n",
    "Substituting for $y_p(t)$ in the differential equation we have\n",
    "\n",
    "$$-bAe^{-bt}+aAe^{-bt} = Ke^{-bt}$$\n",
    "\n",
    "from which, after cancelling the constant term $e^{-bt}$, gives\n",
    "\n",
    "$$A = K(a -b)$$\n",
    "\n",
    "and \n",
    "\n",
    "$$y_p(t) = \\frac{K}{a-b}e^{-bt}\\quad t > 0$$ \n",
    "\n",
    "To obtain the *homegenous solution* we assume that\n",
    "\n",
    "$$y_h(t) = Be^{st}$$\n",
    "\n",
    "Substituting for $y_h(t)$ in the differential equation we have\n",
    "\n",
    "$$sBe^{st} + aBe^{st} =\\left( s + a\\right)e^{st} = 0$$\n",
    "\n",
    "so $s=-a$ and\n",
    "\n",
    "$$y_h(t) = Be^{-at}$$\n",
    "\n",
    "Combining $y_p(t)$ and $y_h(t)$ we have\n",
    "\n",
    "$$y(t) = y_p(t) + y_h(t) = Be^{-at} + \\frac{K}{a-b}e^{bt}\\quad t> 0$$\n",
    "\n",
    "Using the auxilary equation $y(0) = y_0$\n",
    "\n",
    "$$B = y_0 - \\frac{K}{a - b}$$\n",
    "\n",
    "then\n",
    "\n",
    "$$y(t) = \\left(y_0 - \\frac{K}{a - b}\\right) + \\frac{K}{a-b}e^{bt}\\quad t> 0$$\n",
    "\n",
    "For $t < 0$ we have $x(t) = 0$ and the differential equation becomes equal to the homogeneous equation $y_h(t)$ so\n",
    "\n",
    "$$y(t) = Be^{-at}\\quad t < 0$$\n",
    "\n",
    "From the auxillary equation $y(0) = y_0$, we obtain\n",
    "\n",
    "$$y(t) = y_0e^{-at}\\quad t < 0$$"
   ]
  },
  {
   "cell_type": "markdown",
   "id": "945cc4a1",
   "metadata": {
    "slideshow": {
     "slide_type": "notes"
    }
   },
   "source": [
    "b) Combining the solutions for $y(t) > 0$ and $y(t) < 0$, y(t) can be expression in terms of $y_\\mathrm{zi}(t)$ (zero-input response and $y_\\mathrm{zs}(t)$ (zero-state response) as\n",
    "\n",
    "$$y(t) = y_0 e^{-at} + \\frac{K}{a-b}\\left(e^{-bt}-e^{-at}\\right) u_0(t)$$\n",
    "\n",
    "$$y(t) = y_\\mathrm{zi}(t) + y_\\mathrm{zs}(t)$$\n",
    "\n",
    "where\n",
    "\n",
    "$$y_\\mathrm{zi}(t) = y_0e^{-at}$$\n",
    "\n",
    "and\n",
    "\n",
    "$$y_\\mathrm{zs}(t) = \\frac{K}{a-b}\\left(e^{-bt}-e^{-at}\\right) u_0(t)$$"
   ]
  },
  {
   "cell_type": "markdown",
   "id": "337b1327",
   "metadata": {
    "slideshow": {
     "slide_type": "subslide"
    }
   },
   "source": [
    "(ex8_4)=\n",
    "### Example 8.4\n",
    "\n",
    "Consider the system in {ref}`ex8_3`.\n",
    "\n",
    "(a) Show that the system is not linear if $y(0)=y_0\\neq 0$.\n",
    "\n",
    "(b) Show that the system is linear if $y(0) = 0$."
   ]
  },
  {
   "cell_type": "markdown",
   "id": "c789328c",
   "metadata": {
    "slideshow": {
     "slide_type": "notes"
    }
   },
   "source": [
    "For the answer, see the solved problem 2.21 in {cite}`schaum`."
   ]
  },
  {
   "cell_type": "markdown",
   "id": "95154d0a",
   "metadata": {
    "slideshow": {
     "slide_type": "subslide"
    }
   },
   "source": [
    "(ex8_5)=\n",
    "### Example 8.5\n",
    "\n",
    "Consider the system in {ref}`ex8_3`. Show that the initial rest condition $y(0) = 0$ also implies that the system is time-invariant."
   ]
  },
  {
   "cell_type": "markdown",
   "id": "138f9e6d",
   "metadata": {
    "slideshow": {
     "slide_type": "notes"
    }
   },
   "source": [
    "For the answer, see the solved problem 2.22 in {cite}`schaum`."
   ]
  },
  {
   "cell_type": "markdown",
   "id": "834b5196",
   "metadata": {
    "slideshow": {
     "slide_type": "subslide"
    }
   },
   "source": [
    "(ex8_6)=\n",
    "### Example 8.6\n",
    "\n",
    "Consider the system in {ref}`ex8_3`. Find the impulse response $h(t)$ of the system."
   ]
  },
  {
   "cell_type": "markdown",
   "id": "c4c84273",
   "metadata": {
    "slideshow": {
     "slide_type": "notes"
    }
   },
   "source": [
    "For the answer, see the solved problem 2.23 in {cite}`schaum`."
   ]
  },
  {
   "cell_type": "markdown",
   "id": "3576dd78",
   "metadata": {
    "slideshow": {
     "slide_type": "subslide"
    }
   },
   "source": [
    "(ex8_7)=\n",
    "### Example 8.7\n",
    "\n",
    "Consider the system in {ref}`ex8_3` with $y(0)=0$. \n",
    "\n",
    "(a) Find the step response $s(t)$ of the system without using the impulse response $h(t)$.\n",
    "\n",
    "(b) Find the step response $s(t)$ of the system with the impulse response $h(t)$ obtained in {ref}`ex8_6`.\n",
    "\n",
    "(c) Find the impulse response $h(t)$ from the step response $s(t)$."
   ]
  },
  {
   "cell_type": "markdown",
   "id": "c407b85f",
   "metadata": {
    "slideshow": {
     "slide_type": "notes"
    }
   },
   "source": [
    "For the answer, see the solved problem 2.24 in {cite}`schaum`."
   ]
  },
  {
   "cell_type": "markdown",
   "id": "72e74bc5",
   "metadata": {
    "slideshow": {
     "slide_type": "subslide"
    }
   },
   "source": [
    "(ex8_8)=\n",
    "\n",
    "### Example 8.6\n",
    "\n",
    "Consider the system described by\n",
    "\n",
    "$$\\frac{dy(t)}{dt} + 2y(t) = x(t) + \\frac{dx(t)}{dt}$$\n",
    "\n",
    "Find the impulse response $h(t)$ of the system."
   ]
  },
  {
   "cell_type": "markdown",
   "id": "9319c65f",
   "metadata": {
    "slideshow": {
     "slide_type": "notes"
    }
   },
   "source": [
    "For the answer, refer to the lecture recording or see solved problem 2.25 in {cite}`schaum`."
   ]
  },
  {
   "cell_type": "markdown",
   "id": "d17bdf5a",
   "metadata": {
    "slideshow": {
     "slide_type": "slide"
    }
   },
   "source": [
    "## Summary\n",
    "\n",
    "In this lecture we have concluded our introduction to LTI systems by looking at linear constant-coefficient differential equations.\n",
    "\n",
    "### Take aways\n",
    "\n",
    "#### LCCODEs\n",
    "\n",
    "Continuous-time LTI systems are often modelled as linear constant coefficient ordinary differential equations (LCCODEs). The solution of such equations has wide application in engineering and science.\n",
    "\n",
    "The general description of a LCCODE is given in compact form as:\n",
    "\n",
    "$$\\sum_{k=0}^N a_k \\frac{d^k}{dt^k} y(t)=\\sum_{k=0}^M b_k \\frac{d^k}{dt^k} x(t)$$\n",
    "\n",
    "where the coefficients $a_k$ and $b_k$ are real constants and $n$ and $m$ are integers.\n",
    "\n",
    "We illustrated in {ref}`un3.3:rc` that the simple RC circuit can be represented as such an LCCODE.\n",
    "\n",
    "#### Solution of LCCODEs\n",
    "\n",
    "The solution of LCCODEs requires the determination and combination of the *homegenious solution* which is due only to the output $y(t)$ and its derivatives, and a *particular solution* which takes account of the input $x(t)$, its derivatives, and the initial values of $y(t)$ and its derivatives.\n",
    "\n",
    "We were told that continuous-time LTI systems defined by LCCODEs are only *causal* and *time invariant* if they are initially at rest.\n",
    "\n",
    "The output of the continuous-time LTI system with input $x(t)$ that is at rest and has zero initial conditions is called the *zero-state* output $y_\\mathrm{zs}(t)$. The outputs due to the inital conditions can be computed from the system with zero input which is named $y_\\mathrm{zi}(t)$. The total response of such a system is given by $y(t) = y_\\mathrm{zs}(t) + y_\\mathrm{zi}(t)$.\n",
    "\n",
    "For reference, a fully worked solution of a first-order LCCODE is provided in {ref}`ex8_3`. **You will not be expected to solve such problems in the assessments for this module**.\n",
    "\n",
    "#### Analogue computer models\n",
    "\n",
    "In {ref}`examples_8` we were introduced to the representation of an LCCODE as a block diagram constructed from integral, gain and summing blocks. Such models were the basis of *analogue computation* which was used widely by engineers before the widespread adoption of digital computers. Models based on integration are still the basis of modern numerical digital system simulation tools like Multisim and Simulink. \n",
    "\n",
    "Examples of the solution of {ref}`ex8_1` and {ref}`ex8_2` have been provided in MATLAB and Simulink.\n",
    "\n",
    "### Looking ahead\n",
    "\n",
    "Any continuous-time LTI system that can be represented by an LCCODE can be solved by taking the *Laplace transform* of the differential equation. The derivative terms like $a_k d^n y(t)/dt^n$ become polynomial terms like $a_k s^n Y(s)$, where $Y(s)$ is the Laplace transform of $y(t)$. As we shall see in {ref}`unit4`, such systems are then representable as rational polynomials in $s$ and are easily solved using algebraic techniques such as *polynomial factorization* and *partial fraction expansion*."
   ]
  },
  {
   "cell_type": "markdown",
   "id": "7ba1500d",
   "metadata": {
    "slideshow": {
     "slide_type": "subslide"
    }
   },
   "source": [
    "### Continuous-Time LTI Systems Described by Differential Equations\n",
    "\n",
    "* {ref}`ccde_a_linear_constant_coefficient_differential_equations`\n",
    "* {ref}`ccde_b_linearity`\n",
    "* {ref}`ccde_c_causality`\n",
    "* {ref}`ccde_d_time_invariance`\n",
    "* {ref}`ccde_e_impulse_response`"
   ]
  },
  {
   "cell_type": "markdown",
   "id": "b05d0829",
   "metadata": {
    "slideshow": {
     "slide_type": "slide"
    }
   },
   "source": [
    "## Next Time\n",
    "\n",
    "We move on to consider \n",
    "\n",
    "* {ref}`laplace`\n",
    "\n",
    "## References\n",
    "\n",
    "```{bibliography}\n",
    ":filter: docname in docnames\n",
    "```"
   ]
  }
 ],
 "metadata": {
  "jupytext": {
   "formats": "ipynb,md:myst",
   "text_representation": {
    "extension": ".md",
    "format_name": "myst",
    "format_version": 0.13,
    "jupytext_version": "1.14.4"
   }
  },
  "kernelspec": {
   "display_name": "Matlab",
   "language": "matlab",
   "name": "matlab"
  },
  "language_info": {
   "codemirror_mode": "octave",
   "file_extension": ".m",
   "help_links": [
    {
     "text": "MetaKernel Magics",
     "url": "https://metakernel.readthedocs.io/en/latest/source/README.html"
    }
   ],
   "mimetype": "text/x-octave",
   "name": "matlab",
   "version": "0.17.1"
  },
  "source_map": [
   15,
   22,
   28,
   37,
   48,
   60,
   64,
   70,
   76,
   85,
   89,
   97,
   101,
   107,
   111,
   123,
   134,
   142,
   152,
   156,
   167,
   171,
   181,
   185,
   192,
   203,
   207,
   213,
   218,
   231,
   235,
   239,
   247,
   255,
   262,
   275,
   279,
   285,
   291,
   308,
   364,
   380,
   391,
   395,
   402,
   406,
   413,
   417,
   430,
   434,
   446,
   450,
   490,
   500
  ]
 },
 "nbformat": 4,
 "nbformat_minor": 5
}