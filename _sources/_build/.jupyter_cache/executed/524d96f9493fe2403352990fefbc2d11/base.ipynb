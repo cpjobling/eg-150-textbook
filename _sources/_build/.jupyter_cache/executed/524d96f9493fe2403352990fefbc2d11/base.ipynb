{
 "cells": [
  {
   "cell_type": "code",
   "execution_count": 1,
   "id": "6234131a",
   "metadata": {
    "slideshow": {
     "slide_type": "subslide"
    }
   },
   "outputs": [
    {
     "name": "stdout",
     "output_type": "stream",
     "text": [
      "\n",
      "ans =\n",
      "\n",
      "    '/Users/eechris/code/src/github.com/cpjobling/eg-150-textbook/laplace_transform/matlab'\n",
      "\n"
     ]
    }
   ],
   "source": [
    "% Initialize MATLAB\n",
    "clearvars\n",
    "cd ../matlab \n",
    "pwd\n",
    "format compact"
   ]
  },
  {
   "cell_type": "code",
   "execution_count": 2,
   "id": "af57367d",
   "metadata": {
    "slideshow": {
     "slide_type": "fragment"
    }
   },
   "outputs": [],
   "source": [
    "b = [1, 2, 3];    % s^2 + 2s + 3\n",
    "a = [1, 4, 5, 6]; % s^3 + 4s^2 + 5s + 6"
   ]
  },
  {
   "cell_type": "code",
   "execution_count": 3,
   "id": "4cf70281",
   "metadata": {
    "slideshow": {
     "slide_type": "fragment"
    }
   },
   "outputs": [],
   "source": [
    "q = [1, 2, 0];\n",
    "r = [1, 0, 2, 0, 1];"
   ]
  },
  {
   "cell_type": "code",
   "execution_count": 4,
   "id": "e9ba868c",
   "metadata": {
    "slideshow": {
     "slide_type": "fragment"
    }
   },
   "outputs": [],
   "source": [
    "syms s"
   ]
  },
  {
   "cell_type": "code",
   "execution_count": 5,
   "id": "aae39dc9",
   "metadata": {
    "slideshow": {
     "slide_type": "fragment"
    }
   },
   "outputs": [
    {
     "name": "stdout",
     "output_type": "stream",
     "text": [
      "G(s) =\n"
     ]
    },
    {
     "name": "stdout",
     "output_type": "stream",
     "text": [
      "(s^2 + 2*s + 3)/(s^3 + 4*s^2 + 5*s + 6)\n"
     ]
    }
   ],
   "source": [
    "G(s) = (s^2 + 2*s + 3)/(s^3 + 4*s^2 + 5*s + 6)"
   ]
  },
  {
   "cell_type": "code",
   "execution_count": 6,
   "id": "a99923fa",
   "metadata": {
    "slideshow": {
     "slide_type": "fragment"
    }
   },
   "outputs": [
    {
     "name": "stdout",
     "output_type": "stream",
     "text": [
      "Num =\n"
     ]
    },
    {
     "name": "stdout",
     "output_type": "stream",
     "text": [
      "s^2 + 2*s + 3\n"
     ]
    },
    {
     "name": "stdout",
     "output_type": "stream",
     "text": [
      "Den =\n"
     ]
    },
    {
     "name": "stdout",
     "output_type": "stream",
     "text": [
      "s^3 + 4*s^2 + 5*s + 6\n"
     ]
    }
   ],
   "source": [
    "[Num,Den] = numden(G(s))"
   ]
  },
  {
   "cell_type": "code",
   "execution_count": 7,
   "id": "0158b71b",
   "metadata": {
    "slideshow": {
     "slide_type": "fragment"
    }
   },
   "outputs": [
    {
     "name": "stdout",
     "output_type": "stream",
     "text": [
      "nNum =\n",
      "     1     2     3\n"
     ]
    },
    {
     "name": "stdout",
     "output_type": "stream",
     "text": [
      "nDen =\n",
      "     1     4     5     6\n"
     ]
    }
   ],
   "source": [
    "nNum = sym2poly(Num), nDen = sym2poly(Den)"
   ]
  },
  {
   "cell_type": "code",
   "execution_count": 8,
   "id": "30ed4e00",
   "metadata": {
    "slideshow": {
     "slide_type": "fragment"
    }
   },
   "outputs": [
    {
     "name": "stdout",
     "output_type": "stream",
     "text": [
      "ans =\n"
     ]
    },
    {
     "name": "stdout",
     "output_type": "stream",
     "text": [
      "s^2 + 2*s + 3\n"
     ]
    }
   ],
   "source": [
    "poly2sym(nNum,s)"
   ]
  },
  {
   "cell_type": "code",
   "execution_count": 9,
   "id": "3a9dd313",
   "metadata": {
    "slideshow": {
     "slide_type": "fragment"
    }
   },
   "outputs": [],
   "source": [
    "z = [-1; -3];\n",
    "p = [0; -2; -4];"
   ]
  },
  {
   "cell_type": "code",
   "execution_count": 10,
   "id": "ceffa170",
   "metadata": {
    "slideshow": {
     "slide_type": "fragment"
    }
   },
   "outputs": [],
   "source": [
    "K = 1;"
   ]
  },
  {
   "cell_type": "code",
   "execution_count": 11,
   "id": "3d139fce",
   "metadata": {
    "slideshow": {
     "slide_type": "fragment"
    }
   },
   "outputs": [
    {
     "name": "stdout",
     "output_type": "stream",
     "text": [
      "\n",
      "G =\n"
     ]
    },
    {
     "name": "stdout",
     "output_type": "stream",
     "text": [
      " \n"
     ]
    },
    {
     "name": "stdout",
     "output_type": "stream",
     "text": [
      "   (s+1) (s+3)\n"
     ]
    },
    {
     "name": "stdout",
     "output_type": "stream",
     "text": [
      "  -------------\n"
     ]
    },
    {
     "name": "stdout",
     "output_type": "stream",
     "text": [
      "  s (s+2) (s+4)\n"
     ]
    },
    {
     "name": "stdout",
     "output_type": "stream",
     "text": [
      " \n"
     ]
    },
    {
     "name": "stdout",
     "output_type": "stream",
     "text": [
      "Continuous-time zero/pole/gain model.\n"
     ]
    }
   ],
   "source": [
    "G = zpk(z,p,K)"
   ]
  },
  {
   "cell_type": "code",
   "execution_count": 12,
   "id": "fa78c7e9",
   "metadata": {
    "slideshow": {
     "slide_type": "fragment"
    }
   },
   "outputs": [
    {
     "name": "stdout",
     "output_type": "stream",
     "text": [
      "num =\n",
      "     0     1     4     3\n"
     ]
    },
    {
     "name": "stdout",
     "output_type": "stream",
     "text": [
      "den =\n",
      "     1     6     8     0\n"
     ]
    }
   ],
   "source": [
    "[num,den]=tfdata(G,'v')"
   ]
  },
  {
   "cell_type": "code",
   "execution_count": 13,
   "id": "2f9b3f8c",
   "metadata": {
    "slideshow": {
     "slide_type": "fragment"
    }
   },
   "outputs": [
    {
     "name": "stdout",
     "output_type": "stream",
     "text": [
      "\n",
      "G2 =\n"
     ]
    },
    {
     "name": "stdout",
     "output_type": "stream",
     "text": [
      " \n"
     ]
    },
    {
     "name": "stdout",
     "output_type": "stream",
     "text": [
      "    s^2 + 4 s + 3\n"
     ]
    },
    {
     "name": "stdout",
     "output_type": "stream",
     "text": [
      "  -----------------\n"
     ]
    },
    {
     "name": "stdout",
     "output_type": "stream",
     "text": [
      "  s^3 + 6 s^2 + 8 s\n"
     ]
    },
    {
     "name": "stdout",
     "output_type": "stream",
     "text": [
      " \n"
     ]
    },
    {
     "name": "stdout",
     "output_type": "stream",
     "text": [
      "Continuous-time transfer function.\n"
     ]
    }
   ],
   "source": [
    "G2=tf(num,den)"
   ]
  },
  {
   "cell_type": "code",
   "execution_count": 14,
   "id": "869a8722",
   "metadata": {
    "slideshow": {
     "slide_type": "subslide"
    }
   },
   "outputs": [
    {
     "name": "stdout",
     "output_type": "stream",
     "text": [
      "\n",
      "G2 =\n"
     ]
    },
    {
     "name": "stdout",
     "output_type": "stream",
     "text": [
      " \n"
     ]
    },
    {
     "name": "stdout",
     "output_type": "stream",
     "text": [
      "    s^2 + 4 s + 3\n"
     ]
    },
    {
     "name": "stdout",
     "output_type": "stream",
     "text": [
      "  -----------------\n"
     ]
    },
    {
     "name": "stdout",
     "output_type": "stream",
     "text": [
      "  s^3 + 6 s^2 + 8 s\n"
     ]
    },
    {
     "name": "stdout",
     "output_type": "stream",
     "text": [
      " \n"
     ]
    },
    {
     "name": "stdout",
     "output_type": "stream",
     "text": [
      "Continuous-time transfer function.\n"
     ]
    }
   ],
   "source": [
    "G2 = tf(G)"
   ]
  },
  {
   "cell_type": "code",
   "execution_count": 15,
   "id": "ddec0ca5",
   "metadata": {
    "slideshow": {
     "slide_type": "fragment"
    }
   },
   "outputs": [
    {
     "name": "stdout",
     "output_type": "stream",
     "text": [
      "zeros =\n",
      "    -3\n",
      "    -1\n"
     ]
    },
    {
     "name": "stdout",
     "output_type": "stream",
     "text": [
      "poles =\n",
      "     0\n",
      "    -4\n",
      "    -2\n"
     ]
    },
    {
     "name": "stdout",
     "output_type": "stream",
     "text": [
      "gain =\n",
      "     1\n"
     ]
    }
   ],
   "source": [
    "[zeros,poles,gain]=zpkdata(G2,'v')"
   ]
  },
  {
   "cell_type": "code",
   "execution_count": 16,
   "id": "27fcc522",
   "metadata": {},
   "outputs": [
    {
     "name": "stdout",
     "output_type": "stream",
     "text": [
      "\n",
      "G2 =\n"
     ]
    },
    {
     "name": "stdout",
     "output_type": "stream",
     "text": [
      " \n"
     ]
    },
    {
     "name": "stdout",
     "output_type": "stream",
     "text": [
      "    s^2 + 4 s + 3\n"
     ]
    },
    {
     "name": "stdout",
     "output_type": "stream",
     "text": [
      "  -----------------\n"
     ]
    },
    {
     "name": "stdout",
     "output_type": "stream",
     "text": [
      "  s^3 + 6 s^2 + 8 s\n"
     ]
    },
    {
     "name": "stdout",
     "output_type": "stream",
     "text": [
      " \n"
     ]
    },
    {
     "name": "stdout",
     "output_type": "stream",
     "text": [
      "Continuous-time transfer function.\n"
     ]
    }
   ],
   "source": [
    "G2=tf(num,den)"
   ]
  },
  {
   "cell_type": "code",
   "execution_count": 17,
   "id": "684b2452",
   "metadata": {
    "slideshow": {
     "slide_type": "fragment"
    }
   },
   "outputs": [
    {
     "name": "stdout",
     "output_type": "stream",
     "text": [
      "zeros =\n",
      "    -3\n",
      "    -1\n"
     ]
    },
    {
     "name": "stdout",
     "output_type": "stream",
     "text": [
      "poles =\n",
      "     0\n",
      "    -4\n",
      "    -2\n"
     ]
    },
    {
     "name": "stdout",
     "output_type": "stream",
     "text": [
      "gain =\n",
      "     1\n"
     ]
    }
   ],
   "source": [
    "[zeros,poles,gain]=zpkdata(G2,'v')"
   ]
  },
  {
   "cell_type": "code",
   "execution_count": 18,
   "id": "ba7ce21e",
   "metadata": {
    "slideshow": {
     "slide_type": "fragment"
    }
   },
   "outputs": [],
   "source": [
    "set(G,'InputName','Voltage','OutputName','Angular Position')"
   ]
  },
  {
   "cell_type": "code",
   "execution_count": 19,
   "id": "78bbd0eb",
   "metadata": {
    "slideshow": {
     "slide_type": "fragment"
    }
   },
   "outputs": [
    {
     "name": "stdout",
     "output_type": "stream",
     "text": [
      "\n",
      "G3 =\n"
     ]
    },
    {
     "name": "stdout",
     "output_type": "stream",
     "text": [
      " \n"
     ]
    },
    {
     "name": "stdout",
     "output_type": "stream",
     "text": [
      "  From input \"Armature Voltage (V)\" to output \"Load Shaft Position (rad)\":\n"
     ]
    },
    {
     "name": "stdout",
     "output_type": "stream",
     "text": [
      "   (s+1) (s+3)\n"
     ]
    },
    {
     "name": "stdout",
     "output_type": "stream",
     "text": [
      "  -------------\n"
     ]
    },
    {
     "name": "stdout",
     "output_type": "stream",
     "text": [
      "  s (s+2) (s+4)\n"
     ]
    },
    {
     "name": "stdout",
     "output_type": "stream",
     "text": [
      " \n"
     ]
    },
    {
     "name": "stdout",
     "output_type": "stream",
     "text": [
      "Continuous-time zero/pole/gain model.\n"
     ]
    }
   ],
   "source": [
    "G3=zpk(z,p,K,'InputName','Armature Voltage (V)',...\n",
    "    'OutputName','Load Shaft Position (rad)',...\n",
    "    'notes','An armature voltage controlled servomechanism')"
   ]
  },
  {
   "cell_type": "code",
   "execution_count": 20,
   "id": "5b24f5c8",
   "metadata": {
    "slideshow": {
     "slide_type": "fragment"
    }
   },
   "outputs": [
    {
     "name": "stdout",
     "output_type": "stream",
     "text": [
      "ans =\n",
      "  1x1 cell array\n",
      "    {'An armature voltage controlled servomechanism'}\n"
     ]
    }
   ],
   "source": [
    "get(G3,'notes')"
   ]
  },
  {
   "cell_type": "code",
   "execution_count": 21,
   "id": "5ac2273c",
   "metadata": {
    "slideshow": {
     "slide_type": "fragment"
    }
   },
   "outputs": [
    {
     "name": "stdout",
     "output_type": "stream",
     "text": [
      "in =\n",
      "  1x1 cell array\n",
      "    {'Armature Voltage (V)'}\n"
     ]
    },
    {
     "name": "stdout",
     "output_type": "stream",
     "text": [
      "out =\n",
      "  1x1 cell array\n",
      "    {'Load Shaft Position (rad)'}\n"
     ]
    }
   ],
   "source": [
    "in=G3.InputName, out=G3.OutputName"
   ]
  },
  {
   "cell_type": "code",
   "execution_count": 22,
   "id": "49fcfcdc",
   "metadata": {
    "slideshow": {
     "slide_type": "fragment"
    }
   },
   "outputs": [
    {
     "name": "stdout",
     "output_type": "stream",
     "text": [
      "                Z: {[2x1 double]}\n",
      "                P: {[3x1 double]}\n",
      "                K: 1\n",
      "    DisplayFormat: 'roots'\n",
      "         Variable: 's'\n",
      "          IODelay: 0\n",
      "       InputDelay: 0\n",
      "      OutputDelay: 0\n",
      "        InputName: {'Armature Voltage (V)'}\n",
      "        InputUnit: {''}\n",
      "       InputGroup: [1x1 struct]\n",
      "       OutputName: {'Load Shaft Position (rad)'}\n",
      "       OutputUnit: {''}\n",
      "      OutputGroup: [1x1 struct]\n",
      "            Notes: {'An armature voltage controlled servomechanism'}\n",
      "         UserData: []\n",
      "             Name: ''\n",
      "               Ts: 0\n",
      "         TimeUnit: 'seconds'\n",
      "     SamplingGrid: [1x1 struct]\n"
     ]
    }
   ],
   "source": [
    "get(G3)"
   ]
  },
  {
   "cell_type": "code",
   "execution_count": 23,
   "id": "5720902c",
   "metadata": {
    "slideshow": {
     "slide_type": "fragment"
    }
   },
   "outputs": [
    {
     "name": "stdout",
     "output_type": "stream",
     "text": [
      "\n",
      "G4 =\n"
     ]
    },
    {
     "name": "stdout",
     "output_type": "stream",
     "text": [
      " \n"
     ]
    },
    {
     "name": "stdout",
     "output_type": "stream",
     "text": [
      "   (s+3) (s+1)\n"
     ]
    },
    {
     "name": "stdout",
     "output_type": "stream",
     "text": [
      "  -------------\n"
     ]
    },
    {
     "name": "stdout",
     "output_type": "stream",
     "text": [
      "  s (s+4) (s+2)\n"
     ]
    },
    {
     "name": "stdout",
     "output_type": "stream",
     "text": [
      " \n"
     ]
    },
    {
     "name": "stdout",
     "output_type": "stream",
     "text": [
      "Continuous-time zero/pole/gain model.\n"
     ]
    }
   ],
   "source": [
    "G4 = zpk(G2)"
   ]
  },
  {
   "cell_type": "code",
   "execution_count": 24,
   "id": "aed1bd63",
   "metadata": {
    "slideshow": {
     "slide_type": "fragment"
    }
   },
   "outputs": [
    {
     "name": "stdout",
     "output_type": "stream",
     "text": [
      "\n",
      "G5 =\n"
     ]
    },
    {
     "name": "stdout",
     "output_type": "stream",
     "text": [
      " \n"
     ]
    },
    {
     "name": "stdout",
     "output_type": "stream",
     "text": [
      "  From input \"Voltage\" to output \"Angular Position\":\n"
     ]
    },
    {
     "name": "stdout",
     "output_type": "stream",
     "text": [
      "    s^2 + 4 s + 3\n"
     ]
    },
    {
     "name": "stdout",
     "output_type": "stream",
     "text": [
      "  -----------------\n"
     ]
    },
    {
     "name": "stdout",
     "output_type": "stream",
     "text": [
      "  s^3 + 6 s^2 + 8 s\n"
     ]
    },
    {
     "name": "stdout",
     "output_type": "stream",
     "text": [
      " \n"
     ]
    },
    {
     "name": "stdout",
     "output_type": "stream",
     "text": [
      "Continuous-time transfer function.\n"
     ]
    }
   ],
   "source": [
    "G5 = tf(G)"
   ]
  },
  {
   "cell_type": "code",
   "execution_count": 25,
   "id": "224fea15",
   "metadata": {
    "slideshow": {
     "slide_type": "fragment"
    }
   },
   "outputs": [
    {
     "name": "stdout",
     "output_type": "stream",
     "text": [
      "\n",
      "Gs =\n"
     ]
    },
    {
     "name": "stdout",
     "output_type": "stream",
     "text": [
      " \n"
     ]
    },
    {
     "name": "stdout",
     "output_type": "stream",
     "text": [
      "      10 s + 10\n"
     ]
    },
    {
     "name": "stdout",
     "output_type": "stream",
     "text": [
      "  -----------------\n"
     ]
    },
    {
     "name": "stdout",
     "output_type": "stream",
     "text": [
      "  s^3 + 5 s^2 + 6 s\n"
     ]
    },
    {
     "name": "stdout",
     "output_type": "stream",
     "text": [
      " \n"
     ]
    },
    {
     "name": "stdout",
     "output_type": "stream",
     "text": [
      "Continuous-time transfer function.\n"
     ]
    }
   ],
   "source": [
    "G1=tf([1 1],[1 3]);\n",
    "G2=tf(10,conv([1 0],[1 2])); % conv is polynomial multiplication\n",
    "Gs=G1*G2 % series connection of two LTI objects"
   ]
  },
  {
   "cell_type": "code",
   "execution_count": 26,
   "id": "51063474",
   "metadata": {
    "slideshow": {
     "slide_type": "fragment"
    }
   },
   "outputs": [
    {
     "name": "stdout",
     "output_type": "stream",
     "text": [
      "zeros =\n",
      "    -1\n"
     ]
    },
    {
     "name": "stdout",
     "output_type": "stream",
     "text": [
      "poles =\n",
      "         0\n",
      "   -3.0000\n",
      "   -2.0000\n"
     ]
    },
    {
     "name": "stdout",
     "output_type": "stream",
     "text": [
      "K =\n",
      "    10\n"
     ]
    }
   ],
   "source": [
    "[zeros,poles,K]=zpkdata(Gs,'v')"
   ]
  },
  {
   "cell_type": "code",
   "execution_count": 27,
   "id": "20ef37cd",
   "metadata": {
    "slideshow": {
     "slide_type": "fragment"
    }
   },
   "outputs": [
    {
     "name": "stdout",
     "output_type": "stream",
     "text": [
      "\n",
      "Gp =\n"
     ]
    },
    {
     "name": "stdout",
     "output_type": "stream",
     "text": [
      " \n"
     ]
    },
    {
     "name": "stdout",
     "output_type": "stream",
     "text": [
      "  s^3 + 3 s^2 + 12 s + 30\n"
     ]
    },
    {
     "name": "stdout",
     "output_type": "stream",
     "text": [
      "  -----------------------\n"
     ]
    },
    {
     "name": "stdout",
     "output_type": "stream",
     "text": [
      "     s^3 + 5 s^2 + 6 s\n"
     ]
    },
    {
     "name": "stdout",
     "output_type": "stream",
     "text": [
      " \n"
     ]
    },
    {
     "name": "stdout",
     "output_type": "stream",
     "text": [
      "Continuous-time transfer function.\n"
     ]
    }
   ],
   "source": [
    "Gp = G1 + G2"
   ]
  },
  {
   "cell_type": "code",
   "execution_count": 28,
   "id": "a9d1db91",
   "metadata": {
    "slideshow": {
     "slide_type": "fragment"
    }
   },
   "outputs": [],
   "source": [
    "G = tf([2 5 1],[1 2 3],'inputname','torque',...\n",
    "    'outputname','velocity');\n",
    "H = zpk(-2,-10,5);"
   ]
  },
  {
   "cell_type": "code",
   "execution_count": 29,
   "id": "74cbee30",
   "metadata": {
    "slideshow": {
     "slide_type": "fragment"
    }
   },
   "outputs": [
    {
     "name": "stdout",
     "output_type": "stream",
     "text": [
      "\n",
      "Gc =\n"
     ]
    },
    {
     "name": "stdout",
     "output_type": "stream",
     "text": [
      " \n"
     ]
    },
    {
     "name": "stdout",
     "output_type": "stream",
     "text": [
      "  From input \"torque\" to output \"velocity\":\n"
     ]
    },
    {
     "name": "stdout",
     "output_type": "stream",
     "text": [
      "  0.18182 (s+0.2192) (s+2.281) (s+10)\n"
     ]
    },
    {
     "name": "stdout",
     "output_type": "stream",
     "text": [
      "  -----------------------------------\n"
     ]
    },
    {
     "name": "stdout",
     "output_type": "stream",
     "text": [
      "   (s+3.419) (s^2 + 1.763s + 1.064)\n",
      " \n"
     ]
    },
    {
     "name": "stdout",
     "output_type": "stream",
     "text": [
      "Continuous-time zero/pole/gain model.\n"
     ]
    }
   ],
   "source": [
    "Gc = feedback(G,H) % negative feedback assumed"
   ]
  },
  {
   "cell_type": "code",
   "execution_count": 30,
   "id": "a6765041",
   "metadata": {
    "slideshow": {
     "slide_type": "fragment"
    }
   },
   "outputs": [
    {
     "data": {
      "image/png": "[encoded data removed]",
      "text/plain": [
       "<IPython.core.display.Image object>"
      ]
     },
     "metadata": {},
     "output_type": "display_data"
    }
   ],
   "source": [
    "rlocus(G*H),sgrid"
   ]
  },
  {
   "cell_type": "code",
   "execution_count": 31,
   "id": "1c3c14cf",
   "metadata": {
    "slideshow": {
     "slide_type": "fragment"
    }
   },
   "outputs": [
    {
     "data": {
      "image/png": "[encoded data removed]",
      "text/plain": [
       "<IPython.core.display.Image object>"
      ]
     },
     "metadata": {},
     "output_type": "display_data"
    }
   ],
   "source": [
    "bode(G*H),grid"
   ]
  },
  {
   "cell_type": "code",
   "execution_count": 32,
   "id": "a01a8458",
   "metadata": {
    "slideshow": {
     "slide_type": "fragment"
    }
   },
   "outputs": [
    {
     "data": {
      "image/png": "[encoded data removed]",
      "text/plain": [
       "<IPython.core.display.Image object>"
      ]
     },
     "metadata": {},
     "output_type": "display_data"
    }
   ],
   "source": [
    "step(Gc),grid"
   ]
  },
  {
   "cell_type": "code",
   "execution_count": 33,
   "id": "9106efe7",
   "metadata": {
    "slideshow": {
     "slide_type": "fragment"
    }
   },
   "outputs": [
    {
     "data": {
      "image/png": "[encoded data removed]",
      "text/plain": [
       "<IPython.core.display.Image object>"
      ]
     },
     "metadata": {},
     "output_type": "display_data"
    }
   ],
   "source": [
    "bode(Gc),grid"
   ]
  },
  {
   "cell_type": "code",
   "execution_count": 34,
   "id": "b658006e",
   "metadata": {
    "slideshow": {
     "slide_type": "fragment"
    }
   },
   "outputs": [
    {
     "data": {
      "image/png": "[encoded data removed]",
      "text/plain": [
       "<IPython.core.display.Image object>"
      ]
     },
     "metadata": {},
     "output_type": "display_data"
    }
   ],
   "source": [
    "impulse(Gc),grid"
   ]
  },
  {
   "cell_type": "code",
   "execution_count": 35,
   "id": "2e11679a",
   "metadata": {
    "slideshow": {
     "slide_type": "fragment"
    }
   },
   "outputs": [
    {
     "data": {
      "image/png": "[encoded data removed]",
      "text/plain": [
       "<IPython.core.display.Image object>"
      ]
     },
     "metadata": {},
     "output_type": "display_data"
    }
   ],
   "source": [
    "nyquist(G*H),grid"
   ]
  },
  {
   "cell_type": "code",
   "execution_count": 36,
   "id": "be14a49a",
   "metadata": {
    "slideshow": {
     "slide_type": "fragment"
    }
   },
   "outputs": [
    {
     "name": "stdout",
     "output_type": "stream",
     "text": [
      "num =\n",
      "     0     0     5    10\n"
     ]
    },
    {
     "name": "stdout",
     "output_type": "stream",
     "text": [
      "den =\n",
      "     1    13    30     0\n"
     ]
    }
   ],
   "source": [
    "k = 5; z = [-2]; p = [0; -3; -10]; % zero-pole-gain form\n",
    "C = zpk(z,p,k);\n",
    "[num,den] = tfdata(C,'v')\n",
    "%\n",
    "% (Note that the leading terms in num are zero)."
   ]
  },
  {
   "cell_type": "code",
   "execution_count": 37,
   "id": "d7c4c5b6",
   "metadata": {
    "slideshow": {
     "slide_type": "subslide"
    }
   },
   "outputs": [
    {
     "name": "stdout",
     "output_type": "stream",
     "text": [
      "r =\n",
      "   -0.5714\n",
      "    0.2381\n",
      "    0.3333\n"
     ]
    },
    {
     "name": "stdout",
     "output_type": "stream",
     "text": [
      "p =\n",
      "   -10\n",
      "    -3\n",
      "     0\n"
     ]
    },
    {
     "name": "stdout",
     "output_type": "stream",
     "text": [
      "k =\n",
      "     []\n"
     ]
    }
   ],
   "source": [
    "[r,p,k] = residue(num,den)"
   ]
  },
  {
   "cell_type": "code",
   "execution_count": 38,
   "id": "0fa33102",
   "metadata": {
    "slideshow": {
     "slide_type": "fragment"
    }
   },
   "outputs": [
    {
     "name": "stdout",
     "output_type": "stream",
     "text": [
      "\n",
      "newC =\n"
     ]
    },
    {
     "name": "stdout",
     "output_type": "stream",
     "text": [
      " \n"
     ]
    },
    {
     "name": "stdout",
     "output_type": "stream",
     "text": [
      "     5 s + 10\n"
     ]
    },
    {
     "name": "stdout",
     "output_type": "stream",
     "text": [
      "  ---------------\n"
     ]
    },
    {
     "name": "stdout",
     "output_type": "stream",
     "text": [
      "  s^2 + 13 s + 30\n"
     ]
    },
    {
     "name": "stdout",
     "output_type": "stream",
     "text": [
      " \n"
     ]
    },
    {
     "name": "stdout",
     "output_type": "stream",
     "text": [
      "Continuous-time transfer function.\n"
     ]
    },
    {
     "data": {
      "image/png": "[encoded data removed]",
      "text/plain": [
       "<IPython.core.display.Image object>"
      ]
     },
     "metadata": {},
     "output_type": "display_data"
    }
   ],
   "source": [
    "newC = tf([5, 10],[1, 13, 30])\n",
    "step(newC),grid % provides $u_0(t)$"
   ]
  },
  {
   "cell_type": "code",
   "execution_count": 39,
   "id": "a7ac9747",
   "metadata": {
    "slideshow": {
     "slide_type": "subslide"
    }
   },
   "outputs": [
    {
     "data": {
      "image/png": "[encoded data removed]",
      "text/plain": [
       "<IPython.core.display.Image object>"
      ]
     },
     "metadata": {},
     "output_type": "display_data"
    }
   ],
   "source": [
    "t = 0:.05:1.5; % time vector\n",
    "c = 0.3333 + 0.2381 * exp(-3*t) - 0.5714 * exp(-10*t);\n",
    "plot(t,c),grid"
   ]
  },
  {
   "cell_type": "code",
   "execution_count": 40,
   "id": "457de3b7",
   "metadata": {
    "slideshow": {
     "slide_type": "fragment"
    }
   },
   "outputs": [
    {
     "name": "stdout",
     "output_type": "stream",
     "text": [
      "\n",
      "G =\n"
     ]
    },
    {
     "name": "stdout",
     "output_type": "stream",
     "text": [
      " \n"
     ]
    },
    {
     "name": "stdout",
     "output_type": "stream",
     "text": [
      "       -1\n"
     ]
    },
    {
     "name": "stdout",
     "output_type": "stream",
     "text": [
      "  -------------\n"
     ]
    },
    {
     "name": "stdout",
     "output_type": "stream",
     "text": [
      "  s^2 + 3 s + 1\n",
      " \n"
     ]
    },
    {
     "name": "stdout",
     "output_type": "stream",
     "text": [
      "Continuous-time transfer function.\n"
     ]
    }
   ],
   "source": [
    "G = tf([-1],[1 3 1])"
   ]
  },
  {
   "cell_type": "code",
   "execution_count": 41,
   "id": "b78e2382",
   "metadata": {
    "slideshow": {
     "slide_type": "fragment"
    }
   },
   "outputs": [
    {
     "data": {
      "image/png": "[encoded data removed]",
      "text/plain": [
       "<IPython.core.display.Image object>"
      ]
     },
     "metadata": {},
     "output_type": "display_data"
    }
   ],
   "source": [
    "step(G),grid"
   ]
  },
  {
   "cell_type": "code",
   "execution_count": 42,
   "id": "c31e72c4",
   "metadata": {
    "slideshow": {
     "slide_type": "fragment"
    }
   },
   "outputs": [],
   "source": [
    "open example_15_1"
   ]
  },
  {
   "cell_type": "code",
   "execution_count": 43,
   "id": "c380176b",
   "metadata": {
    "slideshow": {
     "slide_type": "subslide"
    }
   },
   "outputs": [
    {
     "data": {
      "image/png": "[encoded data removed]",
      "text/plain": [
       "<IPython.core.display.Image object>"
      ]
     },
     "metadata": {},
     "output_type": "display_data"
    }
   ],
   "source": [
    "bode(G),grid"
   ]
  }
 ],
 "metadata": {
  "jupytext": {
   "formats": "ipynb,md:myst",
   "text_representation": {
    "extension": ".md",
    "format_name": "myst",
    "format_version": 0.13,
    "jupytext_version": "1.14.4"
   }
  },
  "kernelspec": {
   "display_name": "Matlab",
   "language": "matlab",
   "name": "matlab"
  },
  "language_info": {
   "codemirror_mode": "octave",
   "file_extension": ".m",
   "help_links": [
    {
     "text": "MetaKernel Magics",
     "url": "https://metakernel.readthedocs.io/en/latest/source/README.html"
    }
   ],
   "mimetype": "text/x-octave",
   "name": "matlab",
   "version": "0.17.1"
  },
  "source_map": [
   15,
   20,
   26,
   37,
   49,
   56,
   62,
   66,
   75,
   79,
   88,
   95,
   103,
   107,
   115,
   119,
   127,
   131,
   139,
   143,
   151,
   159,
   163,
   167,
   171,
   180,
   184,
   188,
   196,
   202,
   206,
   210,
   214,
   222,
   226,
   234,
   238,
   246,
   254,
   258,
   266,
   270,
   274,
   278,
   286,
   295,
   303,
   307,
   317,
   321,
   329,
   333,
   341,
   345,
   353,
   359,
   367,
   371,
   379,
   383,
   389,
   401,
   405,
   415,
   419,
   427,
   433,
   441,
   447,
   451,
   465,
   469,
   479,
   487,
   497,
   501,
   509,
   513,
   521,
   525,
   533,
   537,
   545,
   549,
   557,
   561,
   569,
   580,
   594,
   604,
   616,
   624,
   639,
   643,
   652,
   662,
   666,
   670,
   675,
   679,
   687,
   695,
   699,
   704,
   722,
   729,
   735,
   742,
   749,
   753,
   761,
   765,
   773,
   783,
   791,
   795,
   801,
   805,
   813,
   819,
   842,
   866,
   890,
   896,
   938,
   952
  ]
 },
 "nbformat": 4,
 "nbformat_minor": 5
}