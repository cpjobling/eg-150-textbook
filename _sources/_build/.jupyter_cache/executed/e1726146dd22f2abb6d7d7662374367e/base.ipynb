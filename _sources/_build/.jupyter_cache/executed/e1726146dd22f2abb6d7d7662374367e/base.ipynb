{
 "cells": [
  {
   "cell_type": "code",
   "execution_count": 1,
   "id": "af8e021c",
   "metadata": {
    "slideshow": {
     "slide_type": "fragment"
    }
   },
   "outputs": [
    {
     "name": "stdout",
     "output_type": "stream",
     "text": [
      "Starting MATLAB ...\n"
     ]
    },
    {
     "name": "stderr",
     "output_type": "stream",
     "text": [
      "Error connecting to MATLAB. Check the status of MATLAB by clicking the \"Open MATLAB\" button. Retry after ensuring MATLAB is running successfully"
     ]
    }
   ],
   "source": [
    "clear all\n",
    "% setappdata(0, \"MKernel_plot_format\", 'svg')\n",
    "format compact"
   ]
  },
  {
   "cell_type": "code",
   "execution_count": 2,
   "id": "88357071",
   "metadata": {
    "slideshow": {
     "slide_type": "fragment"
    }
   },
   "outputs": [
    {
     "name": "stderr",
     "output_type": "stream",
     "text": [
      "Error connecting to MATLAB. Check the status of MATLAB by clicking the \"Open MATLAB\" button. Retry after ensuring MATLAB is running successfully"
     ]
    }
   ],
   "source": [
    "Ns = [2, 5]; Ds = [1, 5, 6];\n",
    "[r,p,k] = residue(Ns, Ds)"
   ]
  },
  {
   "cell_type": "code",
   "execution_count": 3,
   "id": "74f8b28b",
   "metadata": {
    "slideshow": {
     "slide_type": "fragment"
    }
   },
   "outputs": [
    {
     "name": "stderr",
     "output_type": "stream",
     "text": [
      "Error connecting to MATLAB. Check the status of MATLAB by clicking the \"Open MATLAB\" button. Retry after ensuring MATLAB is running successfully"
     ]
    }
   ],
   "source": [
    "syms s t;\n",
    "F_1(s) = (2*s + 5)/(s^2 + 5*s + 6);\n",
    "f_1(t) = ilaplace(F_1(s))"
   ]
  },
  {
   "cell_type": "code",
   "execution_count": 4,
   "id": "1b404a0c",
   "metadata": {
    "slideshow": {
     "slide_type": "fragment"
    }
   },
   "outputs": [
    {
     "name": "stderr",
     "output_type": "stream",
     "text": [
      "Error connecting to MATLAB. Check the status of MATLAB by clicking the \"Open MATLAB\" button. Retry after ensuring MATLAB is running successfully"
     ]
    }
   ],
   "source": [
    "fplot(f_1(t),[0,8]),title('Solution to Exercise 11.1'),ylim([-0.5,2.0]),grid,ylabel('f_1(t)'),xlabel('t [s]')"
   ]
  },
  {
   "cell_type": "code",
   "execution_count": 5,
   "id": "ce2d6e19",
   "metadata": {
    "slideshow": {
     "slide_type": "subslide"
    }
   },
   "outputs": [
    {
     "name": "stderr",
     "output_type": "stream",
     "text": [
      "Error connecting to MATLAB. Check the status of MATLAB by clicking the \"Open MATLAB\" button. Retry after ensuring MATLAB is running successfully"
     ]
    }
   ],
   "source": [
    "syms s;\n",
    "factors = factor(s^3 + 9*s^2 + 23*s + 15)"
   ]
  },
  {
   "cell_type": "code",
   "execution_count": 6,
   "id": "6709cf5d",
   "metadata": {
    "slideshow": {
     "slide_type": "fragment"
    }
   },
   "outputs": [
    {
     "name": "stderr",
     "output_type": "stream",
     "text": [
      "Error connecting to MATLAB. Check the status of MATLAB by clicking the \"Open MATLAB\" button. Retry after ensuring MATLAB is running successfully"
     ]
    }
   ],
   "source": [
    "F_2(s) = (3*s^2 + 2*s + 5)/((s+1)*(s+3)*(s+5))\n",
    "f_2(t) = ilaplace(F_2(s))"
   ]
  },
  {
   "cell_type": "code",
   "execution_count": 7,
   "id": "e4e0424f",
   "metadata": {
    "slideshow": {
     "slide_type": "fragment"
    }
   },
   "outputs": [
    {
     "name": "stderr",
     "output_type": "stream",
     "text": [
      "Error connecting to MATLAB. Check the status of MATLAB by clicking the \"Open MATLAB\" button. Retry after ensuring MATLAB is running successfully"
     ]
    }
   ],
   "source": [
    "fplot(f_2(t),[0,5]),ylim([-0.5,3.5]),grid,title('Solution to Exercise 11.2'),ylabel('f_2(t)'),xlabel('t [s]')"
   ]
  },
  {
   "cell_type": "code",
   "execution_count": 8,
   "id": "d8fad8e7",
   "metadata": {
    "slideshow": {
     "slide_type": "fragment"
    }
   },
   "outputs": [
    {
     "name": "stderr",
     "output_type": "stream",
     "text": [
      "Error connecting to MATLAB. Check the status of MATLAB by clicking the \"Open MATLAB\" button. Retry after ensuring MATLAB is running successfully"
     ]
    }
   ],
   "source": [
    "Ns = [1 3]; Ds = conv([1 1],[1 4 8]) % conv of two vectors is polynomial multiplication\n",
    "[r,p,k]=residue(Ns,Ds)"
   ]
  },
  {
   "cell_type": "code",
   "execution_count": 9,
   "id": "4967b224",
   "metadata": {},
   "outputs": [
    {
     "name": "stderr",
     "output_type": "stream",
     "text": [
      "Error connecting to MATLAB. Check the status of MATLAB by clicking the \"Open MATLAB\" button. Retry after ensuring MATLAB is running successfully"
     ]
    }
   ],
   "source": [
    "F_3(s) = (s+3)/((s+1)*(s^2 + 4*s + 8))\n",
    "f_3(t) = ilaplace(F_3(s))\n",
    "fplot(f_3(t),[0,10]),ylim([0,0.3]),grid,title('Solution to Exercise 11.3'),ylabel('f_3(t)'),xlabel('t [s]')"
   ]
  },
  {
   "cell_type": "code",
   "execution_count": 10,
   "id": "4054468f",
   "metadata": {
    "slideshow": {
     "slide_type": "fragment"
    }
   },
   "outputs": [
    {
     "name": "stderr",
     "output_type": "stream",
     "text": [
      "Error connecting to MATLAB. Check the status of MATLAB by clicking the \"Open MATLAB\" button. Retry after ensuring MATLAB is running successfully"
     ]
    }
   ],
   "source": [
    "F_4(s) = (s + 3)/((s+2)*(s+1)^2)\n",
    "f_4(t) = ilaplace(F_4(s))\n",
    "fplot(f_4(t),[0,10]),grid,ylim([0,0.6]),title('Solution to Exercise 11.4'),ylabel('f_4(t)'),xlabel('t [s]')"
   ]
  },
  {
   "cell_type": "code",
   "execution_count": 11,
   "id": "ae89fa6d",
   "metadata": {
    "slideshow": {
     "slide_type": "fragment"
    }
   },
   "outputs": [
    {
     "name": "stderr",
     "output_type": "stream",
     "text": [
      "Error connecting to MATLAB. Check the status of MATLAB by clicking the \"Open MATLAB\" button. Retry after ensuring MATLAB is running successfully"
     ]
    }
   ],
   "source": [
    "Ns = [1 3]\n",
    "Ds = conv([1 2],conv([1 1],[1 1])) % (s + 2)*(s + 1)*(s + 1)\n",
    "[r,p,k] = residue(Ns,Ds)\n",
    "doc residue"
   ]
  },
  {
   "cell_type": "code",
   "execution_count": 12,
   "id": "21e0c1ff",
   "metadata": {
    "slideshow": {
     "slide_type": "fragment"
    }
   },
   "outputs": [
    {
     "name": "stderr",
     "output_type": "stream",
     "text": [
      "Error connecting to MATLAB. Check the status of MATLAB by clicking the \"Open MATLAB\" button. Retry after ensuring MATLAB is running successfully"
     ]
    }
   ],
   "source": [
    "Ns = [1, 2, 2]; Ds = [1 1];\n",
    "[r, p, k] = residue(Ns, Ds)"
   ]
  },
  {
   "cell_type": "code",
   "execution_count": 13,
   "id": "7ce67716",
   "metadata": {
    "slideshow": {
     "slide_type": "fragment"
    }
   },
   "outputs": [
    {
     "name": "stderr",
     "output_type": "stream",
     "text": [
      "Error connecting to MATLAB. Check the status of MATLAB by clicking the \"Open MATLAB\" button. Retry after ensuring MATLAB is running successfully"
     ]
    }
   ],
   "source": [
    "syms s;\n",
    "F_6(s) = (s^2 + 2*s + 2)/(s + 1);\n",
    "f_6(t) = ilaplace(F_6(s))"
   ]
  }
 ],
 "metadata": {
  "jupytext": {
   "formats": "ipynb,md:myst",
   "text_representation": {
    "extension": ".md",
    "format_name": "myst",
    "format_version": 0.13,
    "jupytext_version": "1.16.7"
   }
  },
  "kernelspec": {
   "display_name": "MATLAB Kernel",
   "language": "matlab",
   "name": "jupyter_matlab_kernel"
  },
  "language_info": {
   "file_extension": ".m",
   "mimetype": "text/x-matlab",
   "name": "matlab"
  },
  "source_map": [
   15,
   20,
   26,
   42,
   51,
   62,
   66,
   70,
   81,
   90,
   98,
   108,
   118,
   125,
   138,
   143,
   149,
   155,
   161,
   175,
   191,
   201,
   212,
   217,
   221,
   231,
   242,
   249,
   254,
   263,
   269,
   275,
   282,
   292,
   296,
   304,
   315,
   322,
   331,
   335,
   343,
   350,
   356,
   361,
   370,
   374,
   382,
   395,
   401,
   405,
   414,
   418,
   426,
   434,
   440,
   446,
   452,
   458,
   462,
   470,
   475,
   481,
   490,
   504,
   515,
   521,
   525,
   535,
   541,
   552,
   562,
   573,
   588,
   604,
   614,
   619,
   628,
   638,
   644,
   651,
   662,
   704,
   718
  ]
 },
 "nbformat": 4,
 "nbformat_minor": 5
}