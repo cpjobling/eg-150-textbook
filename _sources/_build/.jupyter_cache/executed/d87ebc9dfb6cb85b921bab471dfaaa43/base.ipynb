{
 "cells": [
  {
   "cell_type": "code",
   "execution_count": 1,
   "id": "43a1f74b",
   "metadata": {
    "slideshow": {
     "slide_type": "fragment"
    }
   },
   "outputs": [],
   "source": [
    "cd matlab"
   ]
  },
  {
   "cell_type": "code",
   "execution_count": 2,
   "id": "a3e1e403",
   "metadata": {
    "slideshow": {
     "slide_type": "fragment"
    }
   },
   "outputs": [],
   "source": [
    "open examples8"
   ]
  }
 ],
 "metadata": {
  "jupytext": {
   "formats": "ipynb,md:myst",
   "text_representation": {
    "extension": ".md",
    "format_name": "myst",
    "format_version": 0.13,
    "jupytext_version": "1.14.4"
   }
  },
  "kernelspec": {
   "display_name": "Matlab",
   "language": "matlab",
   "name": "matlab"
  },
  "language_info": {
   "codemirror_mode": "octave",
   "file_extension": ".m",
   "help_links": [
    {
     "text": "MetaKernel Magics",
     "url": "https://metakernel.readthedocs.io/en/latest/source/README.html"
    }
   ],
   "mimetype": "text/x-octave",
   "name": "matlab",
   "version": "0.17.1"
  },
  "source_map": [
   15,
   22,
   28,
   37,
   48,
   59,
   63,
   69,
   77,
   81,
   89,
   95,
   99,
   111,
   122,
   130,
   140,
   144,
   155,
   159,
   169,
   173,
   180,
   191,
   195,
   201,
   206,
   219,
   223,
   227,
   235,
   243,
   250,
   263,
   267,
   273,
   279,
   296,
   300,
   311,
   315,
   322,
   326,
   333,
   337,
   350,
   354,
   366,
   370,
   378,
   388
  ]
 },
 "nbformat": 4,
 "nbformat_minor": 5
}