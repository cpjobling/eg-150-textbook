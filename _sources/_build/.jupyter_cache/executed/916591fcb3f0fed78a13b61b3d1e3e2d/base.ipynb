{
 "cells": [
  {
   "cell_type": "code",
   "execution_count": 1,
   "id": "7dc66d1c",
   "metadata": {
    "slideshow": {
     "slide_type": "fragment"
    }
   },
   "outputs": [],
   "source": [
    "% Place holder"
   ]
  },
  {
   "cell_type": "code",
   "execution_count": null,
   "id": "ae69d791",
   "metadata": {},
   "outputs": [],
   "source": []
  }
 ],
 "metadata": {
  "jupytext": {
   "formats": "ipynb,md:myst",
   "text_representation": {
    "extension": ".md",
    "format_name": "myst",
    "format_version": 0.13,
    "jupytext_version": "1.14.0"
   }
  },
  "kernelspec": {
   "display_name": "Matlab",
   "language": "matlab",
   "name": "matlab"
  },
  "language_info": {
   "codemirror_mode": "octave",
   "file_extension": ".m",
   "help_links": [
    {
     "text": "MetaKernel Magics",
     "url": "https://metakernel.readthedocs.io/en/latest/source/README.html"
    }
   ],
   "mimetype": "text/x-octave",
   "name": "matlab",
   "version": "0.17.1"
  },
  "source_map": [
   15,
   21,
   28,
   43,
   51,
   59,
   63,
   67,
   75,
   80,
   84,
   88,
   94,
   98,
   102,
   110,
   114,
   119,
   123,
   127,
   133,
   141,
   147,
   153,
   187,
   193,
   201,
   207,
   214,
   218,
   222,
   228,
   232,
   239,
   245,
   253,
   261,
   267,
   277,
   283,
   293,
   299,
   304,
   308,
   316,
   322,
   328,
   333,
   337,
   341,
   356,
   362,
   370,
   374,
   381,
   385,
   393,
   397,
   416,
   420,
   434,
   438,
   448,
   452,
   460,
   464,
   472,
   476,
   486,
   490,
   498,
   502,
   521,
   527
  ]
 },
 "nbformat": 4,
 "nbformat_minor": 5
}