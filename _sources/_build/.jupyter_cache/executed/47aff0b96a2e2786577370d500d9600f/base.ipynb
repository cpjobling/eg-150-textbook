{
 "cells": [
  {
   "cell_type": "code",
   "execution_count": 1,
   "id": "7070e4aa",
   "metadata": {
    "slideshow": {
     "slide_type": "fragment"
    }
   },
   "outputs": [],
   "source": [
    "clear all\n",
    "% setappdata(0, \"MKernel_plot_format\", 'svg')\n",
    "format compact"
   ]
  },
  {
   "cell_type": "code",
   "execution_count": 2,
   "id": "feed9e99",
   "metadata": {
    "slideshow": {
     "slide_type": "fragment"
    }
   },
   "outputs": [
    {
     "name": "stdout",
     "output_type": "stream",
     "text": [
      "r =\n",
      "    1.0000\n",
      "    1.0000\n",
      "p =\n",
      "   -3.0000\n",
      "   -2.0000\n",
      "k =\n",
      "     []\n"
     ]
    }
   ],
   "source": [
    "Ns = [2, 5]; Ds = [1, 5, 6];\n",
    "[r,p,k] = residue(Ns, Ds)"
   ]
  },
  {
   "cell_type": "code",
   "execution_count": 3,
   "id": "6530f1b9",
   "metadata": {
    "slideshow": {
     "slide_type": "fragment"
    }
   },
   "outputs": [
    {
     "name": "stderr",
     "output_type": "stream",
     "text": [
      "Unrecognized function or variable 'F1s'.\n"
     ]
    }
   ],
   "source": [
    "syms s t;\n",
    "F_1(s) = (2*s + 5)/(s^2 + 5*s + 6);\n",
    "f_1(t) = ilaplace(F1s)\n",
    "fplot(f_1(t),[0,5]),title('Solution to Exercise 11.1'),grid,ylabel('f_1(t)'),xlabel('t [s]')"
   ]
  },
  {
   "cell_type": "code",
   "execution_count": 4,
   "id": "0d2169b0",
   "metadata": {
    "slideshow": {
     "slide_type": "subslide"
    }
   },
   "outputs": [
    {
     "name": "stdout",
     "output_type": "stream",
     "text": [
      "ans =\n",
      "[s + 3, s + 5, s + 1]\n"
     ]
    }
   ],
   "source": [
    "syms s;\n",
    "factor(s^3 + 9*s^2 + 23*s + 15)"
   ]
  },
  {
   "cell_type": "code",
   "execution_count": 5,
   "id": "659c16af",
   "metadata": {},
   "outputs": [
    {
     "name": "stdout",
     "output_type": "stream",
     "text": [
      "F_2(s) =\n",
      "(3*s^2 + 2*s + 5)/((s + 1)*(s + 3)*(s + 5))\n"
     ]
    },
    {
     "name": "stderr",
     "output_type": "stream",
     "text": [
      "Unrecognized function or variable 'F2s'.\n"
     ]
    }
   ],
   "source": [
    "F_2(s) = (3*s^2 + 2*s + 5)/((s+1)*(s+3)*(s+5))\n",
    "f_2(t) = ilaplace(F2s)\n",
    "fplot(f_2(t),[0,5]),grid,title('Solution to Exercise 11.2'),ylabel('f_2(t)'),xlabel('t [s]')"
   ]
  },
  {
   "cell_type": "code",
   "execution_count": 6,
   "id": "b09cfbb8",
   "metadata": {
    "slideshow": {
     "slide_type": "fragment"
    }
   },
   "outputs": [
    {
     "name": "stdout",
     "output_type": "stream",
     "text": [
      "Ds =\n",
      "     1     5    12     8\n",
      "r =\n",
      "  -0.2000 - 0.1500i\n",
      "  -0.2000 + 0.1500i\n",
      "   0.4000 + 0.0000i\n",
      "p =\n",
      "  -2.0000 + 2.0000i\n",
      "  -2.0000 - 2.0000i\n",
      "  -1.0000 + 0.0000i\n",
      "k =\n",
      "     []\n"
     ]
    }
   ],
   "source": [
    "Ns = [1 3]; Ds = conv([1 1],[1 4 8]) % conv of two vectors is polynomial multiplication\n",
    "[r,p,k]=residue(Ns,Ds)"
   ]
  },
  {
   "cell_type": "code",
   "execution_count": 7,
   "id": "a72ac5f6",
   "metadata": {},
   "outputs": [
    {
     "name": "stdout",
     "output_type": "stream",
     "text": [
      "F_3(s) =\n",
      "(s + 3)/((s + 1)*(s^2 + 4*s + 8))\n"
     ]
    },
    {
     "name": "stderr",
     "output_type": "stream",
     "text": [
      "Unrecognized function or variable 'F3s'.\n"
     ]
    }
   ],
   "source": [
    "F_3(s) = (s+3)/((s+1)*(s^2 + 4*s + 8))\n",
    "f_3(t) = ilaplace(F3s)\n",
    "fplot(f_3(t),[0,10]),ylim([0,0.3]),grid,title('Solution to Exercise 11.3'),ylabel('f_3(t)'),xlabel('t [s]')"
   ]
  },
  {
   "cell_type": "code",
   "execution_count": 8,
   "id": "937f4f21",
   "metadata": {
    "slideshow": {
     "slide_type": "fragment"
    }
   },
   "outputs": [
    {
     "name": "stdout",
     "output_type": "stream",
     "text": [
      "F_4(s) =\n",
      "(s + 3)/((s + 1)^2*(s + 2))\n"
     ]
    },
    {
     "name": "stderr",
     "output_type": "stream",
     "text": [
      "Unrecognized function or variable 'F4s'.\n"
     ]
    }
   ],
   "source": [
    "F_4(s) = (s + 3)/((s+2)*(s+1)^2)\n",
    "f_4(t) = ilaplace(F4s)\n",
    "fplot(f_4(t),[0,10]),grid,ylim([0,0.6]),title('Solution to Exercise 11.4'),ylabel('f_4(t)'),xlabel('t [s]')"
   ]
  },
  {
   "cell_type": "code",
   "execution_count": 9,
   "id": "1d3c108c",
   "metadata": {
    "slideshow": {
     "slide_type": "fragment"
    }
   },
   "outputs": [
    {
     "name": "stdout",
     "output_type": "stream",
     "text": [
      "Ns =\n",
      "     1     3\n",
      "Ds =\n",
      "     1     4     5     2\n",
      "r =\n",
      "    1.0000\n",
      "   -1.0000\n",
      "    2.0000\n",
      "p =\n",
      "   -2.0000\n",
      "   -1.0000\n",
      "   -1.0000\n",
      "k =\n",
      "     []\n"
     ]
    }
   ],
   "source": [
    "Ns = [1 3]\n",
    "Ds = conv([1 2],conv([1 1],[1 1])) % (s + 2)*(s + 1)*(s + 1)\n",
    "[r,p,k] = residue(Ns,Ds)\n",
    "doc residue"
   ]
  },
  {
   "cell_type": "code",
   "execution_count": 10,
   "id": "510474e3",
   "metadata": {
    "slideshow": {
     "slide_type": "fragment"
    }
   },
   "outputs": [
    {
     "name": "stdout",
     "output_type": "stream",
     "text": [
      "r =\n",
      "     1\n",
      "p =\n",
      "    -1\n",
      "k =\n",
      "     1     1\n"
     ]
    }
   ],
   "source": [
    "Ns = [1, 2, 2]; Ds = [1 1];\n",
    "[r, p, k] = residue(Ns, Ds)"
   ]
  },
  {
   "cell_type": "code",
   "execution_count": 11,
   "id": "4767384f",
   "metadata": {
    "slideshow": {
     "slide_type": "fragment"
    }
   },
   "outputs": [
    {
     "name": "stdout",
     "output_type": "stream",
     "text": [
      "f_6(t) =\n",
      "exp(-t) + dirac(t) + dirac(1, t)\n"
     ]
    }
   ],
   "source": [
    "syms s;\n",
    "F_6(s) = (s^2 + 2*s + 2)/(s + 1);\n",
    "f_6(t) = ilaplace(F_6(s))"
   ]
  }
 ],
 "metadata": {
  "jupytext": {
   "formats": "ipynb,md:myst",
   "text_representation": {
    "extension": ".md",
    "format_name": "myst",
    "format_version": 0.13,
    "jupytext_version": "1.16.7"
   }
  },
  "kernelspec": {
   "display_name": "MKernel",
   "language": "matlab",
   "name": "mkernel"
  },
  "language_info": {
   "file_extension": ".m",
   "mimetype": "text/x-matlab",
   "name": "matlab"
  },
  "source_map": [
   15,
   20,
   26,
   42,
   51,
   62,
   66,
   70,
   81,
   90,
   98,
   108,
   118,
   125,
   138,
   143,
   149,
   155,
   161,
   175,
   191,
   201,
   212,
   217,
   221,
   231,
   242,
   249,
   254,
   263,
   269,
   275,
   282,
   293,
   304,
   311,
   320,
   324,
   332,
   339,
   345,
   350,
   356,
   369,
   375,
   379,
   388,
   392,
   400,
   408,
   414,
   420,
   426,
   432,
   436,
   444,
   449,
   455,
   464,
   478,
   489,
   495,
   499,
   509,
   515,
   526,
   536,
   547,
   562,
   578,
   588,
   593,
   602,
   612,
   618,
   625,
   636,
   678,
   692
  ]
 },
 "nbformat": 4,
 "nbformat_minor": 5
}