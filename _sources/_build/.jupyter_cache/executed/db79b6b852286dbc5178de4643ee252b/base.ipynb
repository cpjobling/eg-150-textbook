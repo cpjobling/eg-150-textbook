{
 "cells": [
  {
   "cell_type": "code",
   "execution_count": 1,
   "id": "915dfe8f",
   "metadata": {
    "slideshow": {
     "slide_type": "fragment"
    }
   },
   "outputs": [
    {
     "name": "stdout",
     "output_type": "stream",
     "text": [
      " \n"
     ]
    },
    {
     "name": "stdout",
     "output_type": "stream",
     "text": [
      "ans =\n",
      " \n"
     ]
    },
    {
     "name": "stdout",
     "output_type": "stream",
     "text": [
      "-(exp(-a*t)*(a*t + 1))/a^2\n"
     ]
    },
    {
     "name": "stdout",
     "output_type": "stream",
     "text": [
      " \n"
     ]
    }
   ],
   "source": [
    "syms t a\n",
    "int(t * exp(-a*t))"
   ]
  },
  {
   "cell_type": "code",
   "execution_count": 2,
   "id": "452d3559",
   "metadata": {
    "slideshow": {
     "slide_type": "fragment"
    }
   },
   "outputs": [],
   "source": [
    "format compact\n",
    "syms s t a omega\n",
    "assume(a>0)\n",
    "assume(omega>0)\n",
    "u0(t) = heaviside(t);"
   ]
  },
  {
   "cell_type": "code",
   "execution_count": 3,
   "id": "05f4cec6",
   "metadata": {
    "slideshow": {
     "slide_type": "fragment"
    }
   },
   "outputs": [
    {
     "name": "stdout",
     "output_type": "stream",
     "text": [
      "ans =\n"
     ]
    },
    {
     "name": "stdout",
     "output_type": "stream",
     "text": [
      "1\n"
     ]
    }
   ],
   "source": [
    "laplace(dirac(t))"
   ]
  },
  {
   "cell_type": "code",
   "execution_count": 4,
   "id": "179e820c",
   "metadata": {
    "slideshow": {
     "slide_type": "fragment"
    }
   },
   "outputs": [
    {
     "name": "stdout",
     "output_type": "stream",
     "text": [
      "ans =\n"
     ]
    },
    {
     "name": "stdout",
     "output_type": "stream",
     "text": [
      "exp(-a*s)\n"
     ]
    }
   ],
   "source": [
    "laplace(dirac(t-a))"
   ]
  },
  {
   "cell_type": "code",
   "execution_count": 5,
   "id": "6a7cd722",
   "metadata": {
    "slideshow": {
     "slide_type": "fragment"
    }
   },
   "outputs": [
    {
     "name": "stdout",
     "output_type": "stream",
     "text": [
      "ans =\n"
     ]
    },
    {
     "name": "stdout",
     "output_type": "stream",
     "text": [
      "1/s\n"
     ]
    }
   ],
   "source": [
    "laplace(u0(t))"
   ]
  },
  {
   "cell_type": "code",
   "execution_count": 6,
   "id": "37fd6af1",
   "metadata": {
    "slideshow": {
     "slide_type": "fragment"
    }
   },
   "outputs": [
    {
     "name": "stdout",
     "output_type": "stream",
     "text": [
      "ans =\n"
     ]
    },
    {
     "name": "stdout",
     "output_type": "stream",
     "text": [
      "0\n"
     ]
    }
   ],
   "source": [
    "laplace(-u0(-t))"
   ]
  },
  {
   "cell_type": "code",
   "execution_count": 7,
   "id": "dfe1f626",
   "metadata": {
    "slideshow": {
     "slide_type": "fragment"
    }
   },
   "outputs": [
    {
     "name": "stdout",
     "output_type": "stream",
     "text": [
      "ans =\n"
     ]
    },
    {
     "name": "stdout",
     "output_type": "stream",
     "text": [
      "1/s\n"
     ]
    }
   ],
   "source": [
    "assume(real(s) < 0)\n",
    "int(-u0(-t)*exp(-s*t),t,-inf,0)"
   ]
  },
  {
   "cell_type": "code",
   "execution_count": 8,
   "id": "7f1a9010",
   "metadata": {
    "slideshow": {
     "slide_type": "fragment"
    }
   },
   "outputs": [
    {
     "name": "stdout",
     "output_type": "stream",
     "text": [
      "ans =\n"
     ]
    },
    {
     "name": "stdout",
     "output_type": "stream",
     "text": [
      "1/s^2\n"
     ]
    }
   ],
   "source": [
    "laplace(t*u0(t))"
   ]
  },
  {
   "cell_type": "code",
   "execution_count": 9,
   "id": "57591e69",
   "metadata": {
    "slideshow": {
     "slide_type": "fragment"
    }
   },
   "outputs": [
    {
     "name": "stdout",
     "output_type": "stream",
     "text": [
      "ans =\n"
     ]
    },
    {
     "name": "stdout",
     "output_type": "stream",
     "text": [
      "gamma(n + 1)/s^(n + 1)\n"
     ]
    }
   ],
   "source": [
    "syms n integer\n",
    "assume(n > 1)\n",
    "laplace(t^n*u0(t))"
   ]
  },
  {
   "cell_type": "code",
   "execution_count": 10,
   "id": "41e35751",
   "metadata": {
    "slideshow": {
     "slide_type": "fragment"
    }
   },
   "outputs": [
    {
     "name": "stdout",
     "output_type": "stream",
     "text": [
      "ans =\n"
     ]
    },
    {
     "name": "stdout",
     "output_type": "stream",
     "text": [
      "1/(a + s)\n"
     ]
    }
   ],
   "source": [
    "laplace(exp(-a*t)*u0(t))"
   ]
  },
  {
   "cell_type": "code",
   "execution_count": 11,
   "id": "6180bdd3",
   "metadata": {
    "slideshow": {
     "slide_type": "fragment"
    }
   },
   "outputs": [
    {
     "name": "stdout",
     "output_type": "stream",
     "text": [
      "ans =\n"
     ]
    },
    {
     "name": "stdout",
     "output_type": "stream",
     "text": [
      "0\n"
     ]
    }
   ],
   "source": [
    "laplace(-exp(-a*t)*u0(-t))"
   ]
  },
  {
   "cell_type": "code",
   "execution_count": 12,
   "id": "e757f39b",
   "metadata": {
    "slideshow": {
     "slide_type": "fragment"
    }
   },
   "outputs": [
    {
     "name": "stdout",
     "output_type": "stream",
     "text": [
      "ans =\n"
     ]
    },
    {
     "name": "stdout",
     "output_type": "stream",
     "text": [
      "1/(a + s)\n"
     ]
    }
   ],
   "source": [
    "assume(s + a < 0)\n",
    "int(-exp(-a*t)*u0(-t)*exp(-s*t),t,-inf,0)"
   ]
  },
  {
   "cell_type": "code",
   "execution_count": 13,
   "id": "41bbe6de",
   "metadata": {
    "slideshow": {
     "slide_type": "subslide"
    }
   },
   "outputs": [
    {
     "name": "stdout",
     "output_type": "stream",
     "text": [
      "ans =\n"
     ]
    },
    {
     "name": "stdout",
     "output_type": "stream",
     "text": [
      "1/(a + s)^2\n"
     ]
    }
   ],
   "source": [
    "laplace(t*exp(-a*t)*u0(t))"
   ]
  },
  {
   "cell_type": "code",
   "execution_count": 14,
   "id": "cd39bbaa",
   "metadata": {
    "slideshow": {
     "slide_type": "fragment"
    }
   },
   "outputs": [
    {
     "name": "stdout",
     "output_type": "stream",
     "text": [
      "ans =\n"
     ]
    },
    {
     "name": "stdout",
     "output_type": "stream",
     "text": [
      "piecewise(0 <= n, gamma(n + 1)/(a + s)^(n + 1))\n"
     ]
    },
    {
     "name": "stdout",
     "output_type": "stream",
     "text": [
      " GAMMA  Symbolic gamma function.\n",
      "\n"
     ]
    }
   ],
   "source": [
    "syms n integer\n",
    "laplace(t^n*exp(-a*t)*u0(t))\n",
    "help sym/gamma"
   ]
  },
  {
   "cell_type": "code",
   "execution_count": 15,
   "id": "4fbb72be",
   "metadata": {
    "slideshow": {
     "slide_type": "fragment"
    }
   },
   "outputs": [
    {
     "name": "stdout",
     "output_type": "stream",
     "text": [
      "ans =\n"
     ]
    },
    {
     "name": "stdout",
     "output_type": "stream",
     "text": [
      "s/(omega^2 + s^2)\n"
     ]
    },
    {
     "name": "stdout",
     "output_type": "stream",
     "text": [
      "ans =\n"
     ]
    },
    {
     "name": "stdout",
     "output_type": "stream",
     "text": [
      "omega/(omega^2 + s^2)\n"
     ]
    }
   ],
   "source": [
    "laplace(cos(omega*t)*u0(t))\n",
    "laplace(sin(omega*t)*u0(t))"
   ]
  },
  {
   "cell_type": "code",
   "execution_count": 16,
   "id": "a45c213d",
   "metadata": {
    "slideshow": {
     "slide_type": "fragment"
    }
   },
   "outputs": [
    {
     "name": "stdout",
     "output_type": "stream",
     "text": [
      "ans =\n"
     ]
    },
    {
     "name": "stdout",
     "output_type": "stream",
     "text": [
      "(a + s)/((a + s)^2 + omega^2)\n"
     ]
    },
    {
     "name": "stdout",
     "output_type": "stream",
     "text": [
      "ans =\n"
     ]
    },
    {
     "name": "stdout",
     "output_type": "stream",
     "text": [
      "omega/((a + s)^2 + omega^2)\n"
     ]
    }
   ],
   "source": [
    "laplace(exp(-a*t)*cos(omega*t)*u0(t))\n",
    "laplace(exp(-a*t)*sin(omega*t)*u0(t))"
   ]
  }
 ],
 "metadata": {
  "jupytext": {
   "formats": "md:myst,ipynb",
   "text_representation": {
    "extension": ".md",
    "format_name": "myst",
    "format_version": 0.13,
    "jupytext_version": "1.15.2"
   }
  },
  "kernelspec": {
   "display_name": "Matlab",
   "language": "matlab",
   "name": "matlab"
  },
  "language_info": {
   "codemirror_mode": "octave",
   "file_extension": ".m",
   "help_links": [
    {
     "text": "MetaKernel Magics",
     "url": "https://metakernel.readthedocs.io/en/latest/source/README.html"
    }
   ],
   "mimetype": "text/x-octave",
   "name": "matlab",
   "version": "0.17.1"
  },
  "source_map": [
   15,
   22,
   28,
   47,
   52,
   56,
   60,
   64,
   72,
   77,
   81,
   87,
   95,
   100,
   105,
   109,
   117,
   122,
   128,
   136,
   142,
   146,
   152,
   156,
   165,
   171,
   175,
   183,
   201,
   223,
   227,
   233,
   240,
   252,
   256,
   264,
   268,
   276,
   280,
   288,
   292,
   300,
   309,
   313,
   321,
   325,
   335,
   339,
   347,
   355,
   359,
   368,
   376,
   386,
   390,
   399,
   403,
   412,
   421,
   451
  ]
 },
 "nbformat": 4,
 "nbformat_minor": 5
}