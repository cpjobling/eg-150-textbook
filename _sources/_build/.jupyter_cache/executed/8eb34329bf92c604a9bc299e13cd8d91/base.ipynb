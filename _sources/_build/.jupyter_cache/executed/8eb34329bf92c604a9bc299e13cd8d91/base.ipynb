{
 "cells": [],
 "metadata": {
  "jupytext": {
   "formats": "ipynb,md:myst",
   "text_representation": {
    "extension": ".md",
    "format_name": "myst",
    "format_version": 0.13,
    "jupytext_version": "1.15.2"
   }
  },
  "kernelspec": {
   "display_name": "Matlab",
   "language": "matlab",
   "name": "matlab"
  },
  "language_info": {
   "codemirror_mode": "octave",
   "file_extension": ".m",
   "help_links": [
    {
     "text": "MetaKernel Magics",
     "url": "https://metakernel.readthedocs.io/en/latest/source/README.html"
    }
   ],
   "mimetype": "text/x-octave",
   "name": "matlab",
   "version": "0.17.1"
  },
  "source_map": [
   15,
   20,
   24,
   30,
   44,
   53,
   61,
   67,
   71,
   75,
   79,
   89,
   136,
   146,
   152,
   158,
   164,
   170,
   174,
   178,
   187,
   195,
   203,
   209,
   215,
   219,
   227,
   232,
   240,
   244,
   251,
   255,
   266,
   270,
   277,
   281,
   288,
   292,
   299,
   303,
   316,
   320,
   333,
   337,
   351,
   367,
   415
  ]
 },
 "nbformat": 4,
 "nbformat_minor": 5
}