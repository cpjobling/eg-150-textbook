{
 "cells": [
  {
   "cell_type": "code",
   "execution_count": 1,
   "id": "efba9eea",
   "metadata": {
    "slideshow": {
     "slide_type": "subslide"
    }
   },
   "outputs": [],
   "source": [
    "% initialize MATLAB\n",
    "clearvars\n",
    "format compact\n",
    "syms t L R C i_R(t) v_R(t) i_L(t) v_L(t) v_C(t) i_C(t)"
   ]
  },
  {
   "cell_type": "code",
   "execution_count": 2,
   "id": "4355e8c7",
   "metadata": {
    "slideshow": {
     "slide_type": "fragment"
    }
   },
   "outputs": [
    {
     "data": {
      "text/latex": [
       "$eqvrt =v_R \\left(t\\right)=R\\,i_R \\left(t\\right)$"
      ]
     },
     "execution_count": 2,
     "metadata": {},
     "output_type": "execute_result"
    }
   ],
   "source": [
    "eqvrt = v_R(t) == R * i_R(t)"
   ]
  },
  {
   "cell_type": "code",
   "execution_count": 3,
   "id": "44f571ce",
   "metadata": {
    "slideshow": {
     "slide_type": "fragment"
    }
   },
   "outputs": [
    {
     "data": {
      "text/latex": [
       "$eqirt =i_R \\left(t\\right)=\\frac{v_R \\left(t\\right)}{R}$"
      ]
     },
     "execution_count": 3,
     "metadata": {},
     "output_type": "execute_result"
    }
   ],
   "source": [
    "eqirt = isolate(eqvrt,i_R(t))"
   ]
  },
  {
   "cell_type": "code",
   "execution_count": 4,
   "id": "ca7190b1",
   "metadata": {
    "slideshow": {
     "slide_type": "fragment"
    }
   },
   "outputs": [
    {
     "data": {
      "text/latex": [
       "$eqvlt =v_L \\left(t\\right)=L\\,\\frac{\\partial }{\\partial t}\\;i_L \\left(t\\right)$"
      ]
     },
     "execution_count": 4,
     "metadata": {},
     "output_type": "execute_result"
    }
   ],
   "source": [
    "eqvlt = v_L(t) == L*diff(i_L(t))"
   ]
  },
  {
   "cell_type": "code",
   "execution_count": 5,
   "id": "ebd68cde",
   "metadata": {
    "slideshow": {
     "slide_type": "fragment"
    }
   },
   "outputs": [
    {
     "data": {
      "text/latex": [
       "$eqilt =i_L \\left(t\\right)=\\frac{\\int v_L \\left(t\\right)\\;\\textrm{d}t}{L}$"
      ]
     },
     "execution_count": 5,
     "metadata": {},
     "output_type": "execute_result"
    }
   ],
   "source": [
    "int(lhs(eqvlt)) == int(rhs(eqvlt));\n",
    "eqilt = isolate(ans,i_L(t))"
   ]
  },
  {
   "cell_type": "code",
   "execution_count": 6,
   "id": "b55d56d6",
   "metadata": {
    "slideshow": {
     "slide_type": "fragment"
    }
   },
   "outputs": [
    {
     "data": {
      "text/latex": [
       "$eqict =i_C \\left(t\\right)=C\\,\\frac{\\partial }{\\partial t}\\;v_C \\left(t\\right)$"
      ]
     },
     "execution_count": 6,
     "metadata": {},
     "output_type": "execute_result"
    }
   ],
   "source": [
    "eqict = i_C(t) == C * diff(v_C(t))"
   ]
  },
  {
   "cell_type": "code",
   "execution_count": 7,
   "id": "f07a59e1",
   "metadata": {
    "slideshow": {
     "slide_type": "fragment"
    }
   },
   "outputs": [
    {
     "data": {
      "text/latex": [
       "$eqvct =v_C \\left(t\\right)=\\frac{\\int i_C \\left(t\\right)\\;\\textrm{d}t}{C}$"
      ]
     },
     "execution_count": 7,
     "metadata": {},
     "output_type": "execute_result"
    }
   ],
   "source": [
    "int(lhs(eqict)) == int(rhs(eqict));\n",
    "eqvct = isolate(ans,v_C(t))"
   ]
  },
  {
   "cell_type": "code",
   "execution_count": 8,
   "id": "76c79996",
   "metadata": {
    "slideshow": {
     "slide_type": "fragment"
    },
    "tags": [
     "remove-output"
    ]
   },
   "outputs": [
    {
     "data": {
      "text/html": [
       "<html><body><pre>p = \n",
       "  -6.5708 + 0.0000i\n",
       "  -0.7146 + 0.3132i\n",
       "  -0.7146 - 0.3132i</pre></body></html>"
      ],
      "text/plain": [
       "p = \n",
       "  -6.5708 + 0.0000i\n",
       "  -0.7146 + 0.3132i\n",
       "  -0.7146 - 0.3132i"
      ]
     },
     "execution_count": 8,
     "metadata": {},
     "output_type": "execute_result"
    }
   ],
   "source": [
    "p = roots([1, 8, 10, 4])"
   ]
  },
  {
   "cell_type": "code",
   "execution_count": 9,
   "id": "a03675fa",
   "metadata": {
    "slideshow": {
     "slide_type": "fragment"
    },
    "tags": [
     "remove-output"
    ]
   },
   "outputs": [
    {
     "data": {
      "text/latex": [
       "$y =s^2 +\\frac{804595903579775\\,s}{562949953421312}+\\frac{3086772113315577969665007046981}{5070602400912917605986812821504}$"
      ]
     },
     "execution_count": 9,
     "metadata": {},
     "output_type": "execute_result"
    }
   ],
   "source": [
    "syms s t\n",
    "y = expand((s - p(2))*(s - p(3)))"
   ]
  },
  {
   "cell_type": "code",
   "execution_count": 10,
   "id": "d19df220",
   "metadata": {
    "slideshow": {
     "slide_type": "subslide"
    },
    "tags": [
     "remove-output"
    ]
   },
   "outputs": [
    {
     "data": {
      "text/html": [
       "<html><body><pre>y = 1×3 double\n",
       "    1.0000    1.4292    0.6088\n",
       "</pre></body></html>"
      ],
      "text/plain": [
       "y = 1×3 double\n",
       "    1.0000    1.4292    0.6088\n"
      ]
     },
     "execution_count": 10,
     "metadata": {},
     "output_type": "execute_result"
    }
   ],
   "source": [
    "y = sym2poly(y)"
   ]
  },
  {
   "cell_type": "code",
   "execution_count": 11,
   "id": "fdc00a92",
   "metadata": {
    "slideshow": {
     "slide_type": "subslide"
    },
    "tags": [
     "remove-output"
    ]
   },
   "outputs": [
    {
     "data": {
      "image/png": "[encoded data removed]"
     },
     "execution_count": 11,
     "metadata": {},
     "output_type": "execute_result"
    }
   ],
   "source": [
    "t=0:0.01:10;\n",
    "Vout = 1.36.*exp(-6.57.*t)...\n",
    "   +0.64.*exp(-0.715.*t).*cos(0.316.*t)...\n",
    "   -1.84.*exp(-0.715.*t).*sin(0.316.*t);\n",
    "plot(t, Vout); grid\n",
    "title('Plot of Vout(t) for the circuit of Example 3')\n",
    "ylabel('Vout(t) V'),xlabel('Time t s')"
   ]
  },
  {
   "cell_type": "code",
   "execution_count": 12,
   "id": "a5050045",
   "metadata": {
    "slideshow": {
     "slide_type": "fragment"
    },
    "tags": [
     "remove-output"
    ]
   },
   "outputs": [
    {
     "name": "stdout",
     "output_type": "stream",
     "text": [
      "\n"
     ]
    },
    {
     "name": "stdout",
     "output_type": "stream",
     "text": [
      "Vout"
     ]
    },
    {
     "name": "stdout",
     "output_type": "stream",
     "text": [
      " =\n"
     ]
    },
    {
     "name": "stdout",
     "output_type": "stream",
     "text": [
      " \n"
     ]
    },
    {
     "name": "stdout",
     "output_type": "stream",
     "text": [
      "       2 s^2 + 6 s\n"
     ]
    },
    {
     "name": "stdout",
     "output_type": "stream",
     "text": [
      "  ----------------------\n"
     ]
    },
    {
     "name": "stdout",
     "output_type": "stream",
     "text": [
      "  s^3 + 8 s^2 + 10 s + 4\n"
     ]
    },
    {
     "name": "stdout",
     "output_type": "stream",
     "text": [
      " \n"
     ]
    },
    {
     "name": "stdout",
     "output_type": "stream",
     "text": [
      "Continuous-time transfer function."
     ]
    },
    {
     "name": "stdout",
     "output_type": "stream",
     "text": [
      "\n"
     ]
    }
   ],
   "source": [
    "Vout = tf(2*conv([1, 0],[1, 3]),[1, 8, 10, 4])"
   ]
  },
  {
   "cell_type": "code",
   "execution_count": 13,
   "id": "31d5d5a0",
   "metadata": {
    "slideshow": {
     "slide_type": "subslide"
    },
    "tags": [
     "remove-output"
    ]
   },
   "outputs": [
    {
     "data": {
      "image/png": "[encoded data removed]"
     },
     "execution_count": 13,
     "metadata": {},
     "output_type": "execute_result"
    }
   ],
   "source": [
    "impulse(Vout)"
   ]
  },
  {
   "cell_type": "code",
   "execution_count": 14,
   "id": "6a36ac47",
   "metadata": {
    "slideshow": {
     "slide_type": "subslide"
    },
    "tags": [
     "remove-output"
    ]
   },
   "outputs": [],
   "source": [
    "syms s;\n",
    "\n",
    "z1 = 13*s + 8/s;\n",
    "z2 = 5*s + 10;\n",
    "z3 = 20 + 16/s;"
   ]
  },
  {
   "cell_type": "code",
   "execution_count": 15,
   "id": "e9100fcc",
   "metadata": {
    "slideshow": {
     "slide_type": "subslide"
    },
    "tags": [
     "remove-output"
    ]
   },
   "outputs": [
    {
     "data": {
      "text/latex": [
       "$z =13\\,s+\\frac{8}{s}+\\frac{{\\left(5\\,s+10\\right)}\\,{\\left(\\frac{16}{s}+20\\right)}}{5\\,s+\\frac{16}{s}+30}$"
      ]
     },
     "execution_count": 15,
     "metadata": {},
     "output_type": "execute_result"
    }
   ],
   "source": [
    "z = z1 + z2 * z3 /(z2 + z3)"
   ]
  },
  {
   "cell_type": "code",
   "execution_count": 16,
   "id": "3dd99c5d",
   "metadata": {
    "slideshow": {
     "slide_type": "subslide"
    },
    "tags": [
     "remove-output"
    ]
   },
   "outputs": [
    {
     "data": {
      "text/latex": [
       "$z10 =\\frac{65\\,s^4 +490\\,s^3 +528\\,s^2 +400\\,s+128}{s\\,{\\left(5\\,s^2 +30\\,s+16\\right)}}$"
      ]
     },
     "execution_count": 16,
     "metadata": {},
     "output_type": "execute_result"
    }
   ],
   "source": [
    "z10 = simplify(z)"
   ]
  },
  {
   "cell_type": "code",
   "execution_count": 17,
   "id": "61d81d58",
   "metadata": {
    "slideshow": {
     "slide_type": "subslide"
    },
    "tags": [
     "remove-output"
    ]
   },
   "outputs": [
    {
     "name": "stdout",
     "output_type": "stream",
     "text": [
      "    4        3        2\n",
      "65 s  + 490 s  + 528 s  + 400 s + 128\n",
      "-------------------------------------\n",
      "               2\n",
      "         s (5 s  + 30 s + 16)\n"
     ]
    },
    {
     "name": "stdout",
     "output_type": "stream",
     "text": [
      "\n"
     ]
    }
   ],
   "source": [
    "pretty(z10)"
   ]
  },
  {
   "cell_type": "code",
   "execution_count": 18,
   "id": "75985723",
   "metadata": {
    "slideshow": {
     "slide_type": "subslide"
    },
    "tags": [
     "remove-output"
    ]
   },
   "outputs": [
    {
     "name": "stdout",
     "output_type": "stream",
     "text": [
      "               2\n",
      "         s (5 s  + 30 s + 16)\n",
      "-------------------------------------\n",
      "    4        3        2\n",
      "65 s  + 490 s  + 528 s  + 400 s + 128\n"
     ]
    },
    {
     "name": "stdout",
     "output_type": "stream",
     "text": [
      "\n"
     ]
    }
   ],
   "source": [
    "y10 = 1/z10;\n",
    "pretty(y10)"
   ]
  }
 ],
 "metadata": {
  "jupytext": {
   "formats": "ipynb,md:myst",
   "text_representation": {
    "extension": ".md",
    "format_name": "myst",
    "format_version": 0.13,
    "jupytext_version": "1.16.7"
   }
  },
  "kernelspec": {
   "display_name": "MATLAB Kernel",
   "language": "matlab",
   "name": "jupyter_matlab_kernel"
  },
  "language_info": {
   "file_extension": ".m",
   "mimetype": "text/x-matlab",
   "name": "matlab"
  },
  "source_map": [
   15,
   20,
   24,
   30,
   44,
   55,
   60,
   74,
   82,
   90,
   94,
   102,
   108,
   112,
   122,
   126,
   142,
   153,
   167,
   175,
   183,
   187,
   196,
   202,
   206,
   216,
   220,
   234,
   248,
   262,
   270,
   278,
   282,
   291,
   297,
   301,
   311,
   315,
   330,
   343,
   349,
   362,
   369,
   383,
   387,
   398,
   406,
   412,
   418,
   428,
   432,
   445,
   452,
   468,
   472,
   483,
   489,
   493,
   499,
   509,
   513,
   520,
   529,
   539,
   556,
   576,
   584,
   593,
   600,
   606,
   612,
   618,
   630,
   634,
   643,
   647,
   657,
   661,
   670,
   674,
   680,
   695,
   699,
   708,
   717,
   725,
   751,
   755,
   761,
   781,
   791,
   796,
   809,
   818,
   827,
   834,
   838,
   846,
   869,
   875,
   884,
   898,
   913,
   927
  ]
 },
 "nbformat": 4,
 "nbformat_minor": 5
}