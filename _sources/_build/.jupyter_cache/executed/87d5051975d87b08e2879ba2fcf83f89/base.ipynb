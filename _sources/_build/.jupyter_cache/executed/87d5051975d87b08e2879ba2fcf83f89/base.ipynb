{
 "cells": [
  {
   "cell_type": "code",
   "execution_count": 1,
   "id": "1379695b",
   "metadata": {
    "slideshow": {
     "slide_type": "fragment"
    }
   },
   "outputs": [
    {
     "name": "stdout",
     "output_type": "stream",
     "text": [
      " \n",
      "ans =\n",
      " \n",
      "-(exp(-a*t)*(a*t + 1))/a^2\n",
      " \n"
     ]
    }
   ],
   "source": [
    "syms t a\n",
    "int(t * exp(-a*t))"
   ]
  },
  {
   "cell_type": "code",
   "execution_count": 2,
   "id": "43e699b5",
   "metadata": {
    "slideshow": {
     "slide_type": "fragment"
    }
   },
   "outputs": [],
   "source": [
    "format compact\n",
    "syms s t a omega\n",
    "assume(a>0)\n",
    "assume(omega>0)\n",
    "u0(t) = heaviside(t);"
   ]
  },
  {
   "cell_type": "code",
   "execution_count": 3,
   "id": "a623396c",
   "metadata": {
    "slideshow": {
     "slide_type": "fragment"
    }
   },
   "outputs": [
    {
     "name": "stdout",
     "output_type": "stream",
     "text": [
      "ans =\n",
      "1\n"
     ]
    }
   ],
   "source": [
    "laplace(dirac(t))"
   ]
  },
  {
   "cell_type": "code",
   "execution_count": 4,
   "id": "126f7ca0",
   "metadata": {
    "slideshow": {
     "slide_type": "fragment"
    }
   },
   "outputs": [
    {
     "name": "stdout",
     "output_type": "stream",
     "text": [
      "ans =\n",
      "exp(-a*s)\n"
     ]
    }
   ],
   "source": [
    "laplace(dirac(t-a))"
   ]
  },
  {
   "cell_type": "code",
   "execution_count": 5,
   "id": "1459e0b4",
   "metadata": {
    "slideshow": {
     "slide_type": "fragment"
    }
   },
   "outputs": [
    {
     "name": "stdout",
     "output_type": "stream",
     "text": [
      "ans =\n",
      "1/s\n"
     ]
    }
   ],
   "source": [
    "laplace(u0(t))"
   ]
  },
  {
   "cell_type": "code",
   "execution_count": 6,
   "id": "77f14417",
   "metadata": {
    "slideshow": {
     "slide_type": "fragment"
    }
   },
   "outputs": [
    {
     "name": "stdout",
     "output_type": "stream",
     "text": [
      "ans =\n",
      "0\n"
     ]
    }
   ],
   "source": [
    "laplace(-u0(-t))"
   ]
  },
  {
   "cell_type": "code",
   "execution_count": 7,
   "id": "df392c25",
   "metadata": {
    "slideshow": {
     "slide_type": "fragment"
    }
   },
   "outputs": [
    {
     "name": "stdout",
     "output_type": "stream",
     "text": [
      "ans =\n",
      "1/s\n"
     ]
    }
   ],
   "source": [
    "assume(real(s) < 0)\n",
    "int(-u0(-t)*exp(-s*t),t,-inf,0)"
   ]
  },
  {
   "cell_type": "code",
   "execution_count": 8,
   "id": "61c4d2b0",
   "metadata": {
    "slideshow": {
     "slide_type": "fragment"
    }
   },
   "outputs": [
    {
     "name": "stdout",
     "output_type": "stream",
     "text": [
      "ans =\n",
      "1/s^2\n"
     ]
    }
   ],
   "source": [
    "laplace(t*u0(t))"
   ]
  },
  {
   "cell_type": "code",
   "execution_count": 9,
   "id": "0b71e93b",
   "metadata": {
    "slideshow": {
     "slide_type": "fragment"
    }
   },
   "outputs": [
    {
     "name": "stdout",
     "output_type": "stream",
     "text": [
      "ans =\n",
      "gamma(n + 1)/s^(n + 1)\n"
     ]
    }
   ],
   "source": [
    "syms n integer\n",
    "assume(n > 1)\n",
    "laplace(t^n*u0(t))"
   ]
  },
  {
   "cell_type": "code",
   "execution_count": 10,
   "id": "2e5f1754",
   "metadata": {
    "slideshow": {
     "slide_type": "fragment"
    }
   },
   "outputs": [
    {
     "name": "stdout",
     "output_type": "stream",
     "text": [
      "ans =\n",
      "1/(a + s)\n"
     ]
    }
   ],
   "source": [
    "laplace(exp(-a*t)*u0(t))"
   ]
  },
  {
   "cell_type": "code",
   "execution_count": 11,
   "id": "0c8698e5",
   "metadata": {
    "slideshow": {
     "slide_type": "fragment"
    }
   },
   "outputs": [
    {
     "name": "stdout",
     "output_type": "stream",
     "text": [
      "ans =\n",
      "0\n"
     ]
    }
   ],
   "source": [
    "laplace(-exp(-a*t)*u0(-t))"
   ]
  },
  {
   "cell_type": "code",
   "execution_count": 12,
   "id": "b27fb710",
   "metadata": {
    "slideshow": {
     "slide_type": "fragment"
    }
   },
   "outputs": [
    {
     "name": "stdout",
     "output_type": "stream",
     "text": [
      "ans =\n",
      "1/(a + s)\n"
     ]
    }
   ],
   "source": [
    "assume(s + a < 0)\n",
    "int(-exp(-a*t)*u0(-t)*exp(-s*t),t,-inf,0)"
   ]
  },
  {
   "cell_type": "code",
   "execution_count": 13,
   "id": "fd38aa4c",
   "metadata": {
    "slideshow": {
     "slide_type": "subslide"
    }
   },
   "outputs": [
    {
     "name": "stdout",
     "output_type": "stream",
     "text": [
      "ans =\n",
      "1/(a + s)^2\n"
     ]
    }
   ],
   "source": [
    "laplace(t*exp(-a*t)*u0(t))"
   ]
  },
  {
   "cell_type": "code",
   "execution_count": 14,
   "id": "c48e67a8",
   "metadata": {
    "slideshow": {
     "slide_type": "fragment"
    }
   },
   "outputs": [
    {
     "name": "stdout",
     "output_type": "stream",
     "text": [
      "ans =\n",
      "piecewise(0 <= n, gamma(n + 1)/(a + s)^(n + 1))\n",
      " sym/gamma - Gamma function\n",
      "    This MATLAB function returns the gamma function of a symbolic variable\n",
      "    or symbolic expression X.\n",
      "\n",
      "    Syntax\n",
      "      gamma(X)\n",
      "\n",
      "    Input Arguments\n",
      "      X - Input\n",
      "        symbolic number | symbolic variable | symbolic expression |\n",
      "        symbolic function | symbolic vector | symbolic matrix\n",
      "\n",
      "    Examples\n",
      "      openExample('symbolic/GammaPlotTheGammaFunctionvExample')\n",
      "\n",
      "    See also beta, factorial, igamma, gammaln, nchoosek, pochhammer, psi\n",
      "\n",
      "    Introduced in Symbolic Math Toolbox before R2006a\n",
      "    Documentation for sym/gamma\n",
      "       doc sym/gamma\n",
      "\n",
      "\n"
     ]
    }
   ],
   "source": [
    "syms n integer\n",
    "laplace(t^n*exp(-a*t)*u0(t))\n",
    "help sym/gamma"
   ]
  },
  {
   "cell_type": "code",
   "execution_count": 15,
   "id": "657526d5",
   "metadata": {
    "slideshow": {
     "slide_type": "fragment"
    }
   },
   "outputs": [
    {
     "name": "stdout",
     "output_type": "stream",
     "text": [
      "ans =\n",
      "s/(omega^2 + s^2)\n",
      "ans =\n",
      "omega/(omega^2 + s^2)\n"
     ]
    }
   ],
   "source": [
    "laplace(cos(omega*t)*u0(t))\n",
    "laplace(sin(omega*t)*u0(t))"
   ]
  },
  {
   "cell_type": "code",
   "execution_count": 16,
   "id": "44b74c13",
   "metadata": {
    "slideshow": {
     "slide_type": "fragment"
    }
   },
   "outputs": [
    {
     "name": "stdout",
     "output_type": "stream",
     "text": [
      "ans =\n",
      "(a + s)/((a + s)^2 + omega^2)\n",
      "ans =\n",
      "omega/((a + s)^2 + omega^2)\n"
     ]
    }
   ],
   "source": [
    "laplace(exp(-a*t)*cos(omega*t)*u0(t))\n",
    "laplace(exp(-a*t)*sin(omega*t)*u0(t))"
   ]
  }
 ],
 "metadata": {
  "jupytext": {
   "formats": "md:myst,ipynb",
   "text_representation": {
    "extension": ".md",
    "format_name": "myst",
    "format_version": 0.13,
    "jupytext_version": "1.16.6"
   }
  },
  "kernelspec": {
   "display_name": "MKernel",
   "language": "matlab",
   "name": "mkernel"
  },
  "language_info": {
   "file_extension": ".m",
   "mimetype": "text/x-matlab",
   "name": "matlab"
  },
  "source_map": [
   15,
   22,
   28,
   47,
   52,
   56,
   60,
   64,
   72,
   77,
   81,
   87,
   95,
   100,
   105,
   109,
   117,
   122,
   128,
   136,
   142,
   146,
   152,
   156,
   165,
   171,
   175,
   183,
   201,
   223,
   227,
   233,
   240,
   252,
   256,
   264,
   268,
   276,
   280,
   288,
   292,
   300,
   309,
   313,
   321,
   325,
   335,
   339,
   347,
   355,
   359,
   368,
   376,
   386,
   390,
   399,
   403,
   412,
   421,
   451
  ]
 },
 "nbformat": 4,
 "nbformat_minor": 5
}