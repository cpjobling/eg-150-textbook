{
 "cells": [
  {
   "cell_type": "code",
   "execution_count": 1,
   "id": "ed5b8a82",
   "metadata": {
    "slideshow": {
     "slide_type": "subslide"
    }
   },
   "outputs": [],
   "source": [
    "% initialize MATLAB\n",
    "clearvars\n",
    "format compact\n",
    "syms t L R C i_R(t) v_R(t) i_L(t) v_L(t) v_C(t) i_C(t)"
   ]
  },
  {
   "cell_type": "code",
   "execution_count": 2,
   "id": "e8ffabec",
   "metadata": {
    "slideshow": {
     "slide_type": "fragment"
    }
   },
   "outputs": [
    {
     "name": "stdout",
     "output_type": "stream",
     "text": [
      "eqvrt =\n"
     ]
    },
    {
     "name": "stdout",
     "output_type": "stream",
     "text": [
      "v_R(t) == R*i_R(t)\n"
     ]
    }
   ],
   "source": [
    "eqvrt = v_R(t) == R * i_R(t)"
   ]
  },
  {
   "cell_type": "code",
   "execution_count": 3,
   "id": "038aa171",
   "metadata": {
    "slideshow": {
     "slide_type": "fragment"
    }
   },
   "outputs": [
    {
     "name": "stdout",
     "output_type": "stream",
     "text": [
      "eqirt =\n"
     ]
    },
    {
     "name": "stdout",
     "output_type": "stream",
     "text": [
      "i_R(t) == v_R(t)/R\n"
     ]
    }
   ],
   "source": [
    "eqirt = isolate(eqvrt,i_R(t))"
   ]
  },
  {
   "cell_type": "code",
   "execution_count": 4,
   "id": "4f70e567",
   "metadata": {
    "slideshow": {
     "slide_type": "fragment"
    }
   },
   "outputs": [
    {
     "name": "stdout",
     "output_type": "stream",
     "text": [
      "eqvlt =\n"
     ]
    },
    {
     "name": "stdout",
     "output_type": "stream",
     "text": [
      "v_L(t) == L*diff(i_L(t), t)\n"
     ]
    }
   ],
   "source": [
    "eqvlt = v_L(t) == L*diff(i_L(t))"
   ]
  },
  {
   "cell_type": "code",
   "execution_count": 5,
   "id": "965f5423",
   "metadata": {
    "slideshow": {
     "slide_type": "fragment"
    }
   },
   "outputs": [
    {
     "name": "stdout",
     "output_type": "stream",
     "text": [
      "eqilt =\n"
     ]
    },
    {
     "name": "stdout",
     "output_type": "stream",
     "text": [
      "i_L(t) == int(v_L(t), t)/L\n"
     ]
    }
   ],
   "source": [
    "int(lhs(eqvlt)) == int(rhs(eqvlt));\n",
    "eqilt = isolate(ans,i_L(t))"
   ]
  },
  {
   "cell_type": "code",
   "execution_count": 6,
   "id": "35ab660b",
   "metadata": {
    "slideshow": {
     "slide_type": "fragment"
    }
   },
   "outputs": [
    {
     "name": "stdout",
     "output_type": "stream",
     "text": [
      "eqict =\n"
     ]
    },
    {
     "name": "stdout",
     "output_type": "stream",
     "text": [
      "i_C(t) == C*diff(v_C(t), t)\n"
     ]
    }
   ],
   "source": [
    "eqict = i_C(t) == C * diff(v_C(t))"
   ]
  },
  {
   "cell_type": "code",
   "execution_count": 7,
   "id": "6e603b61",
   "metadata": {
    "slideshow": {
     "slide_type": "fragment"
    }
   },
   "outputs": [
    {
     "name": "stdout",
     "output_type": "stream",
     "text": [
      "eqvct =\n"
     ]
    },
    {
     "name": "stdout",
     "output_type": "stream",
     "text": [
      "v_C(t) == int(i_C(t), t)/C\n"
     ]
    }
   ],
   "source": [
    "int(lhs(eqict)) == int(rhs(eqict));\n",
    "eqvct = isolate(ans,v_C(t))"
   ]
  },
  {
   "cell_type": "code",
   "execution_count": 8,
   "id": "6feedc14",
   "metadata": {
    "slideshow": {
     "slide_type": "fragment"
    },
    "tags": [
     "remove-output"
    ]
   },
   "outputs": [
    {
     "name": "stdout",
     "output_type": "stream",
     "text": [
      "p =\n",
      "  -6.5708 + 0.0000i\n",
      "  -0.7146 + 0.3132i\n",
      "  -0.7146 - 0.3132i\n"
     ]
    }
   ],
   "source": [
    "p = roots([1, 8, 10, 4])"
   ]
  },
  {
   "cell_type": "code",
   "execution_count": 9,
   "id": "eced165c",
   "metadata": {
    "slideshow": {
     "slide_type": "fragment"
    },
    "tags": [
     "remove-output"
    ]
   },
   "outputs": [
    {
     "name": "stdout",
     "output_type": "stream",
     "text": [
      "y =\n"
     ]
    },
    {
     "name": "stdout",
     "output_type": "stream",
     "text": [
      "s^2 + (804595903579775*s)/562949953421312 + 3086772113315577969665007046981/5070602400912917605986812821504\n"
     ]
    }
   ],
   "source": [
    "syms s t\n",
    "y = expand((s - p(2))*(s - p(3)))"
   ]
  },
  {
   "cell_type": "code",
   "execution_count": 10,
   "id": "941dc2bd",
   "metadata": {
    "slideshow": {
     "slide_type": "subslide"
    },
    "tags": [
     "remove-output"
    ]
   },
   "outputs": [
    {
     "name": "stdout",
     "output_type": "stream",
     "text": [
      "y =\n",
      "    1.0000    1.4292    0.6088\n"
     ]
    }
   ],
   "source": [
    "y = sym2poly(y)"
   ]
  },
  {
   "cell_type": "code",
   "execution_count": 11,
   "id": "efd02cc6",
   "metadata": {
    "slideshow": {
     "slide_type": "subslide"
    },
    "tags": [
     "remove-output"
    ]
   },
   "outputs": [
    {
     "data": {
      "image/png": "[encoded data removed]",
      "text/plain": [
       "<IPython.core.display.Image object>"
      ]
     },
     "metadata": {},
     "output_type": "display_data"
    }
   ],
   "source": [
    "t=0:0.01:10;\n",
    "Vout = 1.36.*exp(-6.57.*t)...\n",
    "   +0.64.*exp(-0.715.*t).*cos(0.316.*t)...\n",
    "   -1.84.*exp(-0.715.*t).*sin(0.316.*t);\n",
    "plot(t, Vout); grid\n",
    "title('Plot of Vout(t) for the circuit of Example 3')\n",
    "ylabel('Vout(t) V'),xlabel('Time t s')"
   ]
  },
  {
   "cell_type": "code",
   "execution_count": 12,
   "id": "8c6cbfad",
   "metadata": {
    "slideshow": {
     "slide_type": "fragment"
    },
    "tags": [
     "remove-output"
    ]
   },
   "outputs": [
    {
     "name": "stdout",
     "output_type": "stream",
     "text": [
      "\n",
      "Vout =\n"
     ]
    },
    {
     "name": "stdout",
     "output_type": "stream",
     "text": [
      " \n"
     ]
    },
    {
     "name": "stdout",
     "output_type": "stream",
     "text": [
      "       2 s^2 + 6 s\n"
     ]
    },
    {
     "name": "stdout",
     "output_type": "stream",
     "text": [
      "  ----------------------\n"
     ]
    },
    {
     "name": "stdout",
     "output_type": "stream",
     "text": [
      "  s^3 + 8 s^2 + 10 s + 4\n"
     ]
    },
    {
     "name": "stdout",
     "output_type": "stream",
     "text": [
      " \n"
     ]
    },
    {
     "name": "stdout",
     "output_type": "stream",
     "text": [
      "Continuous-time transfer function.\n"
     ]
    }
   ],
   "source": [
    "Vout = tf(2*conv([1, 0],[1, 3]),[1, 8, 10, 4])"
   ]
  },
  {
   "cell_type": "code",
   "execution_count": 13,
   "id": "e76980d8",
   "metadata": {
    "slideshow": {
     "slide_type": "subslide"
    },
    "tags": [
     "remove-output"
    ]
   },
   "outputs": [
    {
     "data": {
      "image/png": "[encoded data removed]",
      "text/plain": [
       "<IPython.core.display.Image object>"
      ]
     },
     "metadata": {},
     "output_type": "display_data"
    }
   ],
   "source": [
    "impulse(Vout)"
   ]
  },
  {
   "cell_type": "code",
   "execution_count": 14,
   "id": "856658a8",
   "metadata": {
    "slideshow": {
     "slide_type": "subslide"
    },
    "tags": [
     "remove-output"
    ]
   },
   "outputs": [],
   "source": [
    "syms s;\n",
    "\n",
    "z1 = 13*s + 8/s;\n",
    "z2 = 5*s + 10;\n",
    "z3 = 20 + 16/s;"
   ]
  },
  {
   "cell_type": "code",
   "execution_count": 15,
   "id": "4652a9c6",
   "metadata": {
    "slideshow": {
     "slide_type": "subslide"
    },
    "tags": [
     "remove-output"
    ]
   },
   "outputs": [
    {
     "name": "stdout",
     "output_type": "stream",
     "text": [
      "z =\n"
     ]
    },
    {
     "name": "stdout",
     "output_type": "stream",
     "text": [
      "13*s + 8/s + ((5*s + 10)*(16/s + 20))/(5*s + 16/s + 30)\n"
     ]
    }
   ],
   "source": [
    "z = z1 + z2 * z3 /(z2 + z3)"
   ]
  },
  {
   "cell_type": "code",
   "execution_count": 16,
   "id": "cbd39341",
   "metadata": {
    "slideshow": {
     "slide_type": "subslide"
    },
    "tags": [
     "remove-output"
    ]
   },
   "outputs": [
    {
     "name": "stdout",
     "output_type": "stream",
     "text": [
      "z10 =\n"
     ]
    },
    {
     "name": "stdout",
     "output_type": "stream",
     "text": [
      "(65*s^4 + 490*s^3 + 528*s^2 + 400*s + 128)/(s*(5*s^2 + 30*s + 16))\n"
     ]
    }
   ],
   "source": [
    "z10 = simplify(z)"
   ]
  },
  {
   "cell_type": "code",
   "execution_count": 17,
   "id": "7e3e17e7",
   "metadata": {
    "slideshow": {
     "slide_type": "subslide"
    },
    "tags": [
     "remove-output"
    ]
   },
   "outputs": [
    {
     "name": "stdout",
     "output_type": "stream",
     "text": [
      "    4        3        2\n",
      "65 s  + 490 s  + 528 s  + 400 s + 128\n",
      "-------------------------------------\n",
      "               2\n",
      "         s (5 s  + 30 s + 16)\n",
      "\n"
     ]
    }
   ],
   "source": [
    "pretty(z10)"
   ]
  },
  {
   "cell_type": "code",
   "execution_count": 18,
   "id": "6137f93f",
   "metadata": {
    "slideshow": {
     "slide_type": "subslide"
    },
    "tags": [
     "remove-output"
    ]
   },
   "outputs": [
    {
     "name": "stdout",
     "output_type": "stream",
     "text": [
      "               2\n",
      "         s (5 s  + 30 s + 16)\n",
      "-------------------------------------\n",
      "    4        3        2\n",
      "65 s  + 490 s  + 528 s  + 400 s + 128\n",
      "\n"
     ]
    }
   ],
   "source": [
    "y10 = 1/z10;\n",
    "pretty(y10)"
   ]
  },
  {
   "cell_type": "code",
   "execution_count": null,
   "id": "65744820",
   "metadata": {},
   "outputs": [],
   "source": []
  }
 ],
 "metadata": {
  "jupytext": {
   "formats": "ipynb,md:myst",
   "text_representation": {
    "extension": ".md",
    "format_name": "myst",
    "format_version": 0.13,
    "jupytext_version": "1.15.2"
   }
  },
  "kernelspec": {
   "display_name": "Matlab",
   "language": "matlab",
   "name": "matlab"
  },
  "language_info": {
   "codemirror_mode": "octave",
   "file_extension": ".m",
   "help_links": [
    {
     "text": "MetaKernel Magics",
     "url": "https://metakernel.readthedocs.io/en/latest/source/README.html"
    }
   ],
   "mimetype": "text/x-octave",
   "name": "matlab",
   "version": "0.17.1"
  },
  "source_map": [
   15,
   20,
   24,
   30,
   44,
   55,
   60,
   74,
   82,
   90,
   94,
   102,
   108,
   112,
   122,
   126,
   142,
   153,
   167,
   175,
   183,
   187,
   196,
   202,
   206,
   216,
   220,
   234,
   248,
   262,
   270,
   278,
   282,
   291,
   297,
   301,
   311,
   315,
   330,
   343,
   349,
   362,
   369,
   383,
   387,
   398,
   406,
   412,
   418,
   428,
   432,
   445,
   452,
   468,
   472,
   483,
   489,
   493,
   499,
   509,
   513,
   520,
   529,
   539,
   556,
   576,
   584,
   593,
   600,
   606,
   612,
   618,
   630,
   634,
   643,
   647,
   657,
   661,
   670,
   674,
   680,
   695,
   699,
   708,
   717,
   723,
   749,
   753,
   759,
   779,
   789,
   794,
   807,
   816,
   825,
   832,
   836,
   844,
   867,
   873,
   881,
   907,
   921,
   931
  ]
 },
 "nbformat": 4,
 "nbformat_minor": 5
}