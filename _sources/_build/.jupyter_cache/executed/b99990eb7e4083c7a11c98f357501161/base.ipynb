{
 "cells": [
  {
   "cell_type": "code",
   "execution_count": 1,
   "id": "9a18cf65",
   "metadata": {
    "slideshow": {
     "slide_type": "fragment"
    }
   },
   "outputs": [
    {
     "name": "stdout",
     "output_type": "stream",
     "text": [
      "X(s) =\n"
     ]
    },
    {
     "name": "stdout",
     "output_type": "stream",
     "text": [
      "laplace(x(t), t, s)\n"
     ]
    }
   ],
   "source": [
    "format compact\n",
    "syms s t x(t) % define Laplace transform variable and time as symbols\n",
    "X(s) = laplace(x(t))"
   ]
  },
  {
   "cell_type": "code",
   "execution_count": 2,
   "id": "cdad7e56",
   "metadata": {
    "slideshow": {
     "slide_type": "fragment"
    }
   },
   "outputs": [],
   "source": [
    "% set up\n",
    "syms s t a\n",
    "assume(a,'real')\n",
    "u0(t) = heaviside(t);"
   ]
  },
  {
   "cell_type": "code",
   "execution_count": 3,
   "id": "bda6e4d7",
   "metadata": {
    "slideshow": {
     "slide_type": "fragment"
    }
   },
   "outputs": [
    {
     "name": "stdout",
     "output_type": "stream",
     "text": [
      "x(t) =\n"
     ]
    },
    {
     "name": "stdout",
     "output_type": "stream",
     "text": [
      "exp(-a*t)*heaviside(t)\n"
     ]
    }
   ],
   "source": [
    "x(t) = exp(-a*t)*u0(t)"
   ]
  },
  {
   "cell_type": "code",
   "execution_count": 4,
   "id": "7912ff6b",
   "metadata": {
    "slideshow": {
     "slide_type": "subslide"
    }
   },
   "outputs": [
    {
     "data": {
      "image/png": "[encoded data removed]",
      "text/plain": [
       "<IPython.core.display.Image object>"
      ]
     },
     "metadata": {},
     "output_type": "display_data"
    }
   ],
   "source": [
    "fplot(subs(x(t),a,1))"
   ]
  },
  {
   "cell_type": "code",
   "execution_count": 5,
   "id": "4571c002",
   "metadata": {
    "slideshow": {
     "slide_type": "subslide"
    }
   },
   "outputs": [
    {
     "name": "stdout",
     "output_type": "stream",
     "text": [
      "ans =\n"
     ]
    },
    {
     "name": "stdout",
     "output_type": "stream",
     "text": [
      "piecewise(in(s, 'real') & a + s < 0, Inf, a + real(s) ~= 0 & ~in(s, 'real'), 1/(a + s) - limit(exp(- t*a - t*s), t, Inf)/(a + s), in(s, 'real') & 0 < a + s | angle(s) in Dom::Interval(-pi/2, pi/2) & 0 < a & s ~= 0, 1/(a + s), (~in(s, 'real') | 0 <= a + s) & (~in(s, 'real') | a + s <= 0) & (a + real(s) == 0 | in(s, 'real')) & (~angle(s) in Dom::Interval(-pi/2, pi/2) | a <= 0 | s == 0), int(exp(-t*a)*exp(-t*s), t, 0, Inf))\n"
     ]
    }
   ],
   "source": [
    "int(x(t)*exp(-s*t),t,0,inf)"
   ]
  },
  {
   "cell_type": "code",
   "execution_count": 6,
   "id": "f35368c7",
   "metadata": {
    "slideshow": {
     "slide_type": "fragment"
    }
   },
   "outputs": [],
   "source": [
    "assume(s + a > 0)"
   ]
  },
  {
   "cell_type": "code",
   "execution_count": 7,
   "id": "d9c8338d",
   "metadata": {
    "slideshow": {
     "slide_type": "fragment"
    }
   },
   "outputs": [
    {
     "name": "stdout",
     "output_type": "stream",
     "text": [
      "ans =\n"
     ]
    },
    {
     "name": "stdout",
     "output_type": "stream",
     "text": [
      "1/(a + s)\n"
     ]
    }
   ],
   "source": [
    "int(x(t)*exp(-s*t),t,0,inf)"
   ]
  },
  {
   "cell_type": "code",
   "execution_count": 8,
   "id": "33b393be",
   "metadata": {
    "slideshow": {
     "slide_type": "subslide"
    }
   },
   "outputs": [
    {
     "name": "stdout",
     "output_type": "stream",
     "text": [
      "X(s) =\n"
     ]
    },
    {
     "name": "stdout",
     "output_type": "stream",
     "text": [
      "1/(a + s)\n"
     ]
    }
   ],
   "source": [
    "X(s) = laplace(x(t))"
   ]
  },
  {
   "cell_type": "code",
   "execution_count": 9,
   "id": "563fad42",
   "metadata": {
    "slideshow": {
     "slide_type": "fragment"
    }
   },
   "outputs": [
    {
     "name": "stdout",
     "output_type": "stream",
     "text": [
      "x(t) =\n"
     ]
    },
    {
     "name": "stdout",
     "output_type": "stream",
     "text": [
      "-heaviside(-t)*exp(-a*t)\n"
     ]
    }
   ],
   "source": [
    "x(t) = -exp(-a*t)*u0(-t)"
   ]
  },
  {
   "cell_type": "code",
   "execution_count": 10,
   "id": "cf1ee5ee",
   "metadata": {
    "slideshow": {
     "slide_type": "fragment"
    }
   },
   "outputs": [
    {
     "data": {
      "image/png": "[encoded data removed]",
      "text/plain": [
       "<IPython.core.display.Image object>"
      ]
     },
     "metadata": {},
     "output_type": "display_data"
    }
   ],
   "source": [
    "fplot(subs(x(t),a,1))"
   ]
  },
  {
   "cell_type": "code",
   "execution_count": 11,
   "id": "b49cdc1d",
   "metadata": {
    "slideshow": {
     "slide_type": "subslide"
    }
   },
   "outputs": [
    {
     "name": "stdout",
     "output_type": "stream",
     "text": [
      "ans =\n"
     ]
    },
    {
     "name": "stdout",
     "output_type": "stream",
     "text": [
      "-Inf\n"
     ]
    }
   ],
   "source": [
    "int(x(t)*exp(-s*t),t,-inf,0)"
   ]
  },
  {
   "cell_type": "code",
   "execution_count": 12,
   "id": "3c7faefa",
   "metadata": {
    "slideshow": {
     "slide_type": "subslide"
    }
   },
   "outputs": [
    {
     "name": "stdout",
     "output_type": "stream",
     "text": [
      "X(s) =\n"
     ]
    },
    {
     "name": "stdout",
     "output_type": "stream",
     "text": [
      "0\n"
     ]
    }
   ],
   "source": [
    "X(s)=laplace(x(t))"
   ]
  },
  {
   "cell_type": "code",
   "execution_count": 13,
   "id": "978559ba",
   "metadata": {
    "slideshow": {
     "slide_type": "fragment"
    }
   },
   "outputs": [
    {
     "name": "stdout",
     "output_type": "stream",
     "text": [
      "ans =\n"
     ]
    },
    {
     "name": "stdout",
     "output_type": "stream",
     "text": [
      "1/(a + s)\n"
     ]
    }
   ],
   "source": [
    "assume(s + a < 0)\n",
    "int(x(t)*exp(-s*t),t,-inf,0)"
   ]
  },
  {
   "cell_type": "code",
   "execution_count": 14,
   "id": "9b06026a",
   "metadata": {
    "slideshow": {
     "slide_type": "fragment"
    }
   },
   "outputs": [],
   "source": [
    "n = [2 4]; d = [1 4 3];"
   ]
  },
  {
   "cell_type": "code",
   "execution_count": 15,
   "id": "a2f08d51",
   "metadata": {
    "slideshow": {
     "slide_type": "fragment"
    }
   },
   "outputs": [
    {
     "name": "stdout",
     "output_type": "stream",
     "text": [
      "z =\n",
      "    -2\n"
     ]
    },
    {
     "name": "stdout",
     "output_type": "stream",
     "text": [
      "p =\n",
      "    -3\n",
      "    -1\n"
     ]
    }
   ],
   "source": [
    "z = roots(n), p = roots(d), k = 2;"
   ]
  },
  {
   "cell_type": "code",
   "execution_count": 16,
   "id": "588b8cc3",
   "metadata": {
    "slideshow": {
     "slide_type": "fragment"
    }
   },
   "outputs": [
    {
     "data": {
      "image/png": "[encoded data removed]",
      "text/plain": [
       "<IPython.core.display.Image object>"
      ]
     },
     "metadata": {},
     "output_type": "display_data"
    }
   ],
   "source": [
    "pzmap(p,z)"
   ]
  },
  {
   "cell_type": "code",
   "execution_count": 17,
   "id": "10ef1f3b",
   "metadata": {
    "slideshow": {
     "slide_type": "notes"
    }
   },
   "outputs": [
    {
     "name": "stdout",
     "output_type": "stream",
     "text": [
      "F(s) =\n"
     ]
    },
    {
     "name": "stdout",
     "output_type": "stream",
     "text": [
      "laplace(f(t), t, s)\n"
     ]
    }
   ],
   "source": [
    "syms s t f(t)\n",
    "F(s) = laplace(f(t))"
   ]
  },
  {
   "cell_type": "code",
   "execution_count": 18,
   "id": "1e2233e6",
   "metadata": {
    "slideshow": {
     "slide_type": "notes"
    }
   },
   "outputs": [
    {
     "name": "stdout",
     "output_type": "stream",
     "text": [
      "Zeros =\n",
      "    -3\n"
     ]
    },
    {
     "name": "stdout",
     "output_type": "stream",
     "text": [
      "Poles =\n",
      "  -2.0000 + 0.0000i\n",
      "  -1.0000 + 1.4142i\n",
      "  -1.0000 - 1.4142i\n"
     ]
    },
    {
     "name": "stdout",
     "output_type": "stream",
     "text": [
      "K =\n",
      "     3\n"
     ]
    },
    {
     "data": {
      "image/png": "[encoded data removed]",
      "text/plain": [
       "<IPython.core.display.Image object>"
      ]
     },
     "metadata": {},
     "output_type": "display_data"
    }
   ],
   "source": [
    "Nx = [3 9]; Dx = [1 4 7 6]; % coefficients in descending powers of s\n",
    "Zeros = roots(Nx)\n",
    "Poles = roots(Dx) % Note the roots are complex!\n",
    "K = 3\n",
    "pzmap(Poles,Zeros)"
   ]
  }
 ],
 "metadata": {
  "jupytext": {
   "formats": "md:myst,ipynb",
   "text_representation": {
    "extension": ".md",
    "format_name": "myst",
    "format_version": 0.13,
    "jupytext_version": "1.14.4"
   }
  },
  "kernelspec": {
   "display_name": "Matlab (Connection)",
   "language": "matlab",
   "name": "matlab"
  },
  "language_info": {
   "codemirror_mode": "octave",
   "file_extension": ".m",
   "help_links": [
    {
     "text": "MetaKernel Magics",
     "url": "https://metakernel.readthedocs.io/en/latest/source/README.html"
    }
   ],
   "mimetype": "text/x-octave",
   "name": "matlab",
   "version": "0.17.1"
  },
  "source_map": [
   15,
   22,
   28,
   46,
   51,
   57,
   63,
   71,
   77,
   83,
   91,
   95,
   99,
   105,
   111,
   115,
   121,
   128,
   138,
   143,
   148,
   152,
   161,
   167,
   171,
   182,
   190,
   198,
   206,
   214,
   222,
   230,
   236,
   240,
   248,
   252,
   258,
   267,
   273,
   281,
   289,
   297,
   305,
   314,
   320,
   328,
   332,
   340,
   344,
   348,
   353,
   359,
   363,
   367,
   371,
   375,
   379,
   383,
   387,
   391,
   395,
   401,
   409,
   415,
   423,
   427,
   435,
   439,
   447,
   451,
   460,
   498,
   572,
   581,
   587,
   603,
   613
  ]
 },
 "nbformat": 4,
 "nbformat_minor": 5
}