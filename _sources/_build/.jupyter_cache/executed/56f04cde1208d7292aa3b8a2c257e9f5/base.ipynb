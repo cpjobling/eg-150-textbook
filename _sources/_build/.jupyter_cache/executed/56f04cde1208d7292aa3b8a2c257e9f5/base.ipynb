{
 "cells": [
  {
   "cell_type": "code",
   "execution_count": 1,
   "id": "fce4df5c",
   "metadata": {
    "slideshow": {
     "slide_type": "notes"
    }
   },
   "outputs": [],
   "source": [
    "clear all\n",
    "format compact"
   ]
  },
  {
   "cell_type": "code",
   "execution_count": 2,
   "id": "faa97182",
   "metadata": {
    "slideshow": {
     "slide_type": "subslide"
    }
   },
   "outputs": [
    {
     "name": "stdout",
     "output_type": "stream",
     "text": [
      "r =\n",
      "    1.0000\n",
      "    1.0000\n"
     ]
    },
    {
     "name": "stdout",
     "output_type": "stream",
     "text": [
      "p =\n",
      "   -3.0000\n",
      "   -2.0000\n"
     ]
    },
    {
     "name": "stdout",
     "output_type": "stream",
     "text": [
      "k =\n",
      "     []\n"
     ]
    }
   ],
   "source": [
    "Ns = [2, 5]; Ds = [1, 5, 6];\n",
    "[r,p,k] = residue(Ns, Ds)"
   ]
  },
  {
   "cell_type": "code",
   "execution_count": 3,
   "id": "6741a277",
   "metadata": {
    "slideshow": {
     "slide_type": "subslide"
    }
   },
   "outputs": [
    {
     "name": "stdout",
     "output_type": "stream",
     "text": [
      "exp(-2 t) + exp(-3 t)\n",
      "\n"
     ]
    }
   ],
   "source": [
    "syms s t;\n",
    "Fs = (2*s + 5)/(s^2 + 5*s + 6);\n",
    "ft = ilaplace(Fs);\n",
    "pretty(ft)"
   ]
  },
  {
   "cell_type": "code",
   "execution_count": 4,
   "id": "98004ae3",
   "metadata": {
    "slideshow": {
     "slide_type": "subslide"
    }
   },
   "outputs": [
    {
     "name": "stdout",
     "output_type": "stream",
     "text": [
      "ans =\n"
     ]
    },
    {
     "name": "stdout",
     "output_type": "stream",
     "text": [
      "[s + 3, s + 5, s + 1]\n"
     ]
    }
   ],
   "source": [
    "syms s;\n",
    "factor(s^3 + 9*s^2 + 23*s + 15)"
   ]
  },
  {
   "cell_type": "code",
   "execution_count": 5,
   "id": "36ac2e7d",
   "metadata": {
    "slideshow": {
     "slide_type": "fragment"
    }
   },
   "outputs": [
    {
     "name": "stdout",
     "output_type": "stream",
     "text": [
      "r =\n",
      "     1\n"
     ]
    },
    {
     "name": "stdout",
     "output_type": "stream",
     "text": [
      "p =\n",
      "    -1\n"
     ]
    },
    {
     "name": "stdout",
     "output_type": "stream",
     "text": [
      "k =\n",
      "     1     1\n"
     ]
    }
   ],
   "source": [
    "Ns = [1, 2, 2]; Ds = [1 1];\n",
    "[r, p, k] = residue(Ns, Ds)"
   ]
  },
  {
   "cell_type": "code",
   "execution_count": 6,
   "id": "6b0db635",
   "metadata": {
    "slideshow": {
     "slide_type": "subslide"
    }
   },
   "outputs": [
    {
     "name": "stdout",
     "output_type": "stream",
     "text": [
      "f6 =\n"
     ]
    },
    {
     "name": "stdout",
     "output_type": "stream",
     "text": [
      "exp(-t) + dirac(t) + dirac(1, t)\n"
     ]
    }
   ],
   "source": [
    "syms s;\n",
    "F6 = (s^2 + 2*s + 2)/(s + 1);\n",
    "f6 = ilaplace(F6)"
   ]
  },
  {
   "cell_type": "code",
   "execution_count": 7,
   "id": "f65a9bc9",
   "metadata": {
    "slideshow": {
     "slide_type": "fragment"
    },
    "tags": [
     "remove-output"
    ]
   },
   "outputs": [
    {
     "name": "stdout",
     "output_type": "stream",
     "text": [
      "README.md        ex3_3.m          example_8.slx    solution7.m\n",
      "\u001b[34mconvolution_demo\u001b[39;49m\u001b[0m ex3_4.m          solution3.m      tf_matlab.m\n",
      "ex3_1.m          ex3_5.m          solution3.mlx\n",
      "ex3_2.m          example8.m       solution5.m\n",
      "\n"
     ]
    },
    {
     "name": "stdout",
     "output_type": "stream",
     "text": [
      "r =\n",
      "     4\n",
      "    -1\n"
     ]
    },
    {
     "name": "stdout",
     "output_type": "stream",
     "text": [
      "p =\n",
      "    -2\n",
      "    -1\n"
     ]
    },
    {
     "name": "stdout",
     "output_type": "stream",
     "text": [
      "k =\n",
      "     []\n"
     ]
    },
    {
     "name": "stdout",
     "output_type": "stream",
     "text": [
      "ft =\n"
     ]
    },
    {
     "name": "stdout",
     "output_type": "stream",
     "text": [
      "4*exp(-2*t) - exp(-t)\n"
     ]
    }
   ],
   "source": [
    "cd ../matlab\n",
    "ls\n",
    "open ex3_1\n",
    "ex3_1"
   ]
  }
 ],
 "metadata": {
  "jupytext": {
   "formats": "ipynb,md:myst",
   "text_representation": {
    "extension": ".md",
    "format_name": "myst",
    "format_version": 0.13,
    "jupytext_version": "1.14.4"
   }
  },
  "kernelspec": {
   "display_name": "Matlab",
   "language": "matlab",
   "name": "matlab"
  },
  "language_info": {
   "codemirror_mode": "octave",
   "file_extension": ".m",
   "help_links": [
    {
     "text": "MetaKernel Magics",
     "url": "https://metakernel.readthedocs.io/en/latest/source/README.html"
    }
   ],
   "mimetype": "text/x-octave",
   "name": "matlab",
   "version": "0.17.1"
  },
  "source_map": [
   15,
   20,
   26,
   39,
   49,
   53,
   57,
   67,
   76,
   84,
   94,
   104,
   110,
   123,
   127,
   133,
   139,
   145,
   155,
   159,
   168,
   177,
   187,
   191,
   202,
   212,
   216,
   220,
   229,
   233,
   241,
   247,
   256,
   268,
   288,
   303,
   313,
   333,
   341,
   351,
   359,
   367,
   371,
   375,
   379,
   383,
   389,
   395,
   401,
   405,
   409,
   413,
   417,
   421,
   430,
   440,
   446,
   450,
   464,
   470,
   482
  ]
 },
 "nbformat": 4,
 "nbformat_minor": 5
}