{
 "cells": [
  {
   "cell_type": "code",
   "execution_count": 1,
   "id": "50a2f5af",
   "metadata": {},
   "outputs": [
    {
     "name": "stderr",
     "output_type": "stream",
     "text": [
      "\u001b[0;31mError: Invalid expression. Check for missing or extra characters.\n",
      "\n",
      "\u001b[0m"
     ]
    }
   ],
   "source": [
    "import math\n",
    "import os\n",
    "import sys\n",
    "\n",
    "\n",
    "def test_is_python_35():\n",
    "    major = sys.version_info.major\n",
    "    minor = sys.version_info.minor\n",
    "    if major == 3:\n",
    "        pass \n",
    "    else:\n",
    "        print(\"You are running Python {}, but we need Python {}.\".format(major, 3))\n",
    "        print(\"Download and install the Anaconda distribution for Python 3.\")\n",
    "        print(\"Stopping here.\")\n",
    "\n",
    "        # Let's stop here\n",
    "        sys.exit(1)\n",
    "        return None\n",
    "        # assert major == 3, \"Stopping here - we need Python 3.\"\n",
    "\n",
    "    if minor >= 5:\n",
    "        print(\"Testing Python version-> py{}.{} OK\".format(major, minor))\n",
    "    else:\n",
    "        print(\"Warning: You should be running Python 3.5 or newer, \" +\n",
    "              \"you have Python {}.{}.\".format(major, minor))\n",
    "        \n",
    "        \n",
    "def test_numpy():\n",
    "    try:\n",
    "        import numpy as np\n",
    "    except ImportError:\n",
    "        print(\"Could not import numpy -> numpy failed\")\n",
    "        return None\n",
    "    # Simple test\n",
    "    a = np.arange(0, 100, 1)\n",
    "    assert np.sum(a) == sum(a)\n",
    "    print(\"Testing numpy...      -> numpy OK\")\n",
    "\n",
    "\n",
    "def test_scipy():\n",
    "    try:\n",
    "        import scipy\n",
    "    except ImportError:\n",
    "        print(\"Could not import 'scipy' -> scipy failed\")\n",
    "        return None\n",
    "    # Simple test\n",
    "    import scipy.integrate\n",
    "    assert abs(scipy.integrate.quad(lambda x: x * x, 0, 6)[0] - 72.0) < 1e-6\n",
    "    print(\"Testing scipy ...     -> scipy OK\")\n",
    "\n",
    "\n",
    "def test_pylab():\n",
    "    \"\"\"Actually testing matplotlib, as pylab is part of matplotlib.\"\"\"\n",
    "    try:\n",
    "        import pylab\n",
    "    except ImportError:\n",
    "            print(\"Could not import 'matplotlib/pylab' -> failed\")\n",
    "            return None\n",
    "    # Creata plot for testing purposes\n",
    "    xvalues = [i * 0.1 for i in range(100)]\n",
    "    yvalues = [math.sin(x) for x in xvalues]\n",
    "    pylab.plot(xvalues, yvalues, \"-o\", label=\"sin(x)\")\n",
    "    pylab.legend()\n",
    "    pylab.xlabel('x')\n",
    "    testfilename='pylab-testfigure.png'\n",
    "\n",
    "    # check that file does not exist yet:\n",
    "    if os.path.exists(testfilename):\n",
    "        print(\"Skipping plotting to file as file {} exists already.\"\\\n",
    "            .format(testfilename))\n",
    "    else:\n",
    "        # Write plot to file\n",
    "        pylab.savefig(testfilename)\n",
    "        # Then check that file exists\n",
    "        assert os.path.exists(testfilename)\n",
    "        print(\"Testing matplotlib... -> pylab OK\")\n",
    "        os.remove(testfilename)\n",
    "\n",
    "\n",
    "def test_sympy():\n",
    "    try:\n",
    "        import sympy\n",
    "    except ImportError:\n",
    "            print(\"Could not import 'sympy' -> fail\")\n",
    "            return None\n",
    "    # simple test\n",
    "    x = sympy.Symbol('x')\n",
    "    my_f = x ** 2\n",
    "    assert sympy.diff(my_f,x) == 2 * x\n",
    "    print(\"Testing sympy         -> sympy OK\")\n",
    "\n",
    "\n",
    "def test_pytest():\n",
    "    try:\n",
    "        import pytest\n",
    "    except ImportError:\n",
    "            print(\"Could not import 'pytest' -> fail\")\n",
    "            return None\n",
    "    print(\"Testing pytest        -> pytest OK\")"
   ]
  },
  {
   "cell_type": "code",
   "execution_count": 2,
   "id": "ffd1733c",
   "metadata": {},
   "outputs": [
    {
     "name": "stderr",
     "output_type": "stream",
     "text": [
      "\u001b[0;31mInvalid use of operator.\n",
      "\n",
      "\u001b[0m"
     ]
    }
   ],
   "source": [
    "print(\"Running using Python {}\".format(sys.version))\n",
    "test_is_python_35()\n",
    "test_numpy()\n",
    "test_scipy()\n",
    "test_pylab()\n",
    "test_sympy()\n",
    "test_pytest()"
   ]
  },
  {
   "cell_type": "code",
   "execution_count": 3,
   "id": "b2e75e7e",
   "metadata": {},
   "outputs": [
    {
     "name": "stdout",
     "output_type": "stream",
     "text": [
      "\n",
      "matlabroot =\n",
      "\n",
      "    '/Applications/MATLAB_R2023b.app'\n",
      "\n"
     ]
    }
   ],
   "source": [
    "matlabroot='/Applications/MATLAB_R2023b.app'"
   ]
  },
  {
   "cell_type": "code",
   "execution_count": 4,
   "id": "6ff1dd62",
   "metadata": {},
   "outputs": [
    {
     "name": "stderr",
     "output_type": "stream",
     "text": [
      "\u001b[0;31m[Errno 2] No such file or directory: '{matlabroot}/extern/engines/python'\n",
      "\u001b[0m"
     ]
    }
   ],
   "source": [
    "%cd {matlabroot}/extern/engines/python"
   ]
  },
  {
   "cell_type": "code",
   "execution_count": 5,
   "id": "991f4dbb",
   "metadata": {},
   "outputs": [
    {
     "name": "stdout",
     "output_type": "stream",
     "text": [
      "\n",
      "matlabroot =\n",
      "\n",
      "    '/mnt/c/Program\\ Files/MATLAB/R2023a'\n",
      "\n"
     ]
    }
   ],
   "source": [
    "matlabroot='/mnt/c/Program\\ Files/MATLAB/R2023a'\n",
    "%cd {matlabroot}/extern/engines/python"
   ]
  },
  {
   "cell_type": "code",
   "execution_count": 6,
   "id": "74b1169f",
   "metadata": {},
   "outputs": [
    {
     "name": "stdout",
     "output_type": "stream",
     "text": [
      "\n",
      "matlabroot =\n",
      "\n",
      "    'C:\\Program Files\\MATLAB\\R202a'\n",
      "\n"
     ]
    }
   ],
   "source": [
    "matlabroot='C:\\Program Files\\MATLAB\\R202a'\n",
    "%cd {matlabroot}\\extern\\engines\\python"
   ]
  },
  {
   "cell_type": "code",
   "execution_count": 7,
   "id": "e27b1188",
   "metadata": {},
   "outputs": [
    {
     "name": "stdout",
     "output_type": "stream",
     "text": [
      "Python 3.11.6\r\n",
      "\n"
     ]
    },
    {
     "name": "stderr",
     "output_type": "stream",
     "text": [
      "\u001b[0;31mError: Invalid text character. Check for unsupported symbol, invisible character, or pasting of non-ASCII characters.\n",
      "\n",
      "\u001b[0m"
     ]
    }
   ],
   "source": [
    "!python --version\n",
    "#%shell\n",
    "!python -m pip install . "
   ]
  },
  {
   "cell_type": "code",
   "execution_count": 8,
   "id": "16696955",
   "metadata": {},
   "outputs": [
    {
     "name": "stderr",
     "output_type": "stream",
     "text": [
      "\u001b[0;31mError: Unable to find or import 'matlab.engine'. Imported names must end with '.*' or be fully qualified.\n",
      "\n",
      "\u001b[0m"
     ]
    }
   ],
   "source": [
    "import matlab.engine\n",
    "eng = matlab.engine.start_matlab()"
   ]
  },
  {
   "cell_type": "code",
   "execution_count": 9,
   "id": "348b3900",
   "metadata": {},
   "outputs": [
    {
     "name": "stderr",
     "output_type": "stream",
     "text": [
      "\u001b[0;31mUnable to resolve the name 'matlab.engine.connect_matlab'.\n",
      "\n",
      "\u001b[0m"
     ]
    }
   ],
   "source": [
    "eng = matlab.engine.connect_matlab()"
   ]
  },
  {
   "cell_type": "code",
   "execution_count": 10,
   "id": "3a267b8d",
   "metadata": {},
   "outputs": [
    {
     "name": "stderr",
     "output_type": "stream",
     "text": [
      "\u001b[0;31mUnable to resolve the name 'eng.magic'.\n",
      "\n",
      "\u001b[0m"
     ]
    }
   ],
   "source": [
    "m = eng.magic(10);"
   ]
  },
  {
   "cell_type": "code",
   "execution_count": 11,
   "id": "2dfac673",
   "metadata": {},
   "outputs": [
    {
     "name": "stderr",
     "output_type": "stream",
     "text": [
      "\u001b[0;31mError using eval\n",
      "Unrecognized function or variable 'm'.\n",
      "\n",
      "\u001b[0m"
     ]
    }
   ],
   "source": [
    "print(m)"
   ]
  },
  {
   "cell_type": "code",
   "execution_count": 12,
   "id": "29024325",
   "metadata": {},
   "outputs": [
    {
     "name": "stderr",
     "output_type": "stream",
     "text": [
      "\u001b[0;31mUnable to resolve the name 'eng.quit'.\n",
      "\n",
      "\u001b[0m"
     ]
    }
   ],
   "source": [
    "eng.quit()"
   ]
  },
  {
   "cell_type": "code",
   "execution_count": 13,
   "id": "2edb9480",
   "metadata": {},
   "outputs": [
    {
     "name": "stdout",
     "output_type": "stream",
     "text": [
      "Requirement already satisfied: jupyter-matlab-proxy in /Users/eechris/anaconda3/envs/eg-150-textbook/lib/python3.11/site-packages (0.10.0)\n"
     ]
    },
    {
     "name": "stdout",
     "output_type": "stream",
     "text": [
      "\r\n"
     ]
    },
    {
     "name": "stdout",
     "output_type": "stream",
     "text": [
      "\n",
      "Requirement already satisfied: jupyter-contrib-nbextensions in /Users/eechris/anaconda3/envs/eg-150-textbook/lib/python3.11/site-packages (from jupyter-matlab-proxy) (0.7.0)\n"
     ]
    },
    {
     "name": "stdout",
     "output_type": "stream",
     "text": [
      "\r\n"
     ]
    },
    {
     "name": "stdout",
     "output_type": "stream",
     "text": [
      "\n",
      "Requirement already satisfied: jupyter-server-proxy in /Users/eechris/anaconda3/envs/eg-150-textbook/lib/python3.11/site-packages (from jupyter-matlab-proxy) (4.1.0)\n"
     ]
    },
    {
     "name": "stdout",
     "output_type": "stream",
     "text": [
      "\r\n"
     ]
    },
    {
     "name": "stdout",
     "output_type": "stream",
     "text": [
      "\n",
      "Requirement already satisfied: matlab-proxy>=0.10.0 in /Users/eechris/anaconda3/envs/eg-150-textbook/lib/python3.11/site-packages (from jupyter-matlab-proxy) (0.10.0)\n"
     ]
    },
    {
     "name": "stdout",
     "output_type": "stream",
     "text": [
      "\r\n"
     ]
    },
    {
     "name": "stdout",
     "output_type": "stream",
     "text": [
      "\n",
      "Requirement already satisfied: psutil in /Users/eechris/anaconda3/envs/eg-150-textbook/lib/python3.11/site-packages (from jupyter-matlab-proxy) (5.9.0)\n"
     ]
    },
    {
     "name": "stdout",
     "output_type": "stream",
     "text": [
      "\r\n"
     ]
    },
    {
     "name": "stdout",
     "output_type": "stream",
     "text": [
      "\n",
      "Requirement already satisfied: requests in /Users/eechris/anaconda3/envs/eg-150-textbook/lib/python3.11/site-packages (from jupyter-matlab-proxy) (2.31.0)\n"
     ]
    },
    {
     "name": "stdout",
     "output_type": "stream",
     "text": [
      "\r\n"
     ]
    },
    {
     "name": "stdout",
     "output_type": "stream",
     "text": [
      "\n",
      "Requirement already satisfied: simpervisor>=1.0.0 in /Users/eechris/anaconda3/envs/eg-150-textbook/lib/python3.11/site-packages (from jupyter-matlab-proxy) (1.0.0)\n"
     ]
    },
    {
     "name": "stdout",
     "output_type": "stream",
     "text": [
      "\r\n"
     ]
    },
    {
     "name": "stdout",
     "output_type": "stream",
     "text": [
      "\n",
      "Requirement already satisfied: aiohttp>=3.7.4 in /Users/eechris/anaconda3/envs/eg-150-textbook/lib/python3.11/site-packages (from matlab-proxy>=0.10.0->jupyter-matlab-proxy) (3.8.5)\n"
     ]
    },
    {
     "name": "stdout",
     "output_type": "stream",
     "text": [
      "\r\n"
     ]
    },
    {
     "name": "stdout",
     "output_type": "stream",
     "text": [
      "\n",
      "Requirement already satisfied: aiohttp-session[secure] in /Users/eechris/anaconda3/envs/eg-150-textbook/lib/python3.11/site-packages (from matlab-proxy>=0.10.0->jupyter-matlab-proxy) (2.12.0)\n"
     ]
    },
    {
     "name": "stdout",
     "output_type": "stream",
     "text": [
      "\r\n"
     ]
    },
    {
     "name": "stdout",
     "output_type": "stream",
     "text": [
      "\n",
      "Requirement already satisfied: ipython-genutils in /Users/eechris/anaconda3/envs/eg-150-textbook/lib/python3.11/site-packages (from jupyter-contrib-nbextensions->jupyter-matlab-proxy) (0.2.0)\n"
     ]
    },
    {
     "name": "stdout",
     "output_type": "stream",
     "text": [
      "\r\n"
     ]
    },
    {
     "name": "stdout",
     "output_type": "stream",
     "text": [
      "\n",
      "Requirement already satisfied: jupyter-contrib-core>=0.3.3 in /Users/eechris/anaconda3/envs/eg-150-textbook/lib/python3.11/site-packages (from jupyter-contrib-nbextensions->jupyter-matlab-proxy) (0.4.2)\n"
     ]
    },
    {
     "name": "stdout",
     "output_type": "stream",
     "text": [
      "\r\n"
     ]
    },
    {
     "name": "stdout",
     "output_type": "stream",
     "text": [
      "\n",
      "Requirement already satisfied: jupyter-core in /Users/eechris/anaconda3/envs/eg-150-textbook/lib/python3.11/site-packages (from jupyter-contrib-nbextensions->jupyter-matlab-proxy) (5.5.0)\n"
     ]
    },
    {
     "name": "stdout",
     "output_type": "stream",
     "text": [
      "\r\n"
     ]
    },
    {
     "name": "stdout",
     "output_type": "stream",
     "text": [
      "\n",
      "Requirement already satisfied: jupyter-highlight-selected-word>=0.1.1 in /Users/eechris/anaconda3/envs/eg-150-textbook/lib/python3.11/site-packages (from jupyter-contrib-nbextensions->jupyter-matlab-proxy) (0.2.0)\n"
     ]
    },
    {
     "name": "stdout",
     "output_type": "stream",
     "text": [
      "\r\n"
     ]
    },
    {
     "name": "stdout",
     "output_type": "stream",
     "text": [
      "\n",
      "Requirement already satisfied: jupyter-nbextensions-configurator>=0.4.0 in /Users/eechris/anaconda3/envs/eg-150-textbook/lib/python3.11/site-packages (from jupyter-contrib-nbextensions->jupyter-matlab-proxy) (0.6.3)\n"
     ]
    },
    {
     "name": "stdout",
     "output_type": "stream",
     "text": [
      "\r\n"
     ]
    },
    {
     "name": "stdout",
     "output_type": "stream",
     "text": [
      "\n",
      "Requirement already satisfied: nbconvert>=6.0 in /Users/eechris/anaconda3/envs/eg-150-textbook/lib/python3.11/site-packages (from jupyter-contrib-nbextensions->jupyter-matlab-proxy) (7.10.0)\n"
     ]
    },
    {
     "name": "stdout",
     "output_type": "stream",
     "text": [
      "\r\n"
     ]
    },
    {
     "name": "stdout",
     "output_type": "stream",
     "text": [
      "\n",
      "Requirement already satisfied: notebook>=6.0 in /Users/eechris/anaconda3/envs/eg-150-textbook/lib/python3.11/site-packages (from jupyter-contrib-nbextensions->jupyter-matlab-proxy) (6.5.6)\n"
     ]
    },
    {
     "name": "stdout",
     "output_type": "stream",
     "text": [
      "\r\n"
     ]
    },
    {
     "name": "stdout",
     "output_type": "stream",
     "text": [
      "\n",
      "Requirement already satisfied: tornado in /Users/eechris/anaconda3/envs/eg-150-textbook/lib/python3.11/site-packages (from jupyter-contrib-nbextensions->jupyter-matlab-proxy) (6.3.3)\n"
     ]
    },
    {
     "name": "stdout",
     "output_type": "stream",
     "text": [
      "\r\n"
     ]
    },
    {
     "name": "stdout",
     "output_type": "stream",
     "text": [
      "\n",
      "Requirement already satisfied: traitlets>=4.1 in /Users/eechris/anaconda3/envs/eg-150-textbook/lib/python3.11/site-packages (from jupyter-contrib-nbextensions->jupyter-matlab-proxy) (5.7.1)\n"
     ]
    },
    {
     "name": "stdout",
     "output_type": "stream",
     "text": [
      "\r\n"
     ]
    },
    {
     "name": "stdout",
     "output_type": "stream",
     "text": [
      "\n",
      "Requirement already satisfied: lxml in /Users/eechris/anaconda3/envs/eg-150-textbook/lib/python3.11/site-packages (from jupyter-contrib-nbextensions->jupyter-matlab-proxy) (4.9.3)\n"
     ]
    },
    {
     "name": "stdout",
     "output_type": "stream",
     "text": [
      "\r\n"
     ]
    },
    {
     "name": "stdout",
     "output_type": "stream",
     "text": [
      "\n",
      "Requirement already satisfied: jupyter-server>=1.0 in /Users/eechris/anaconda3/envs/eg-150-textbook/lib/python3.11/site-packages (from jupyter-server-proxy->jupyter-matlab-proxy) (1.24.0)\n"
     ]
    },
    {
     "name": "stdout",
     "output_type": "stream",
     "text": [
      "\r\n"
     ]
    },
    {
     "name": "stdout",
     "output_type": "stream",
     "text": [
      "\n",
      "Requirement already satisfied: charset-normalizer<4,>=2 in /Users/eechris/anaconda3/envs/eg-150-textbook/lib/python3.11/site-packages (from requests->jupyter-matlab-proxy) (2.0.4)\n"
     ]
    },
    {
     "name": "stdout",
     "output_type": "stream",
     "text": [
      "\r\n"
     ]
    },
    {
     "name": "stdout",
     "output_type": "stream",
     "text": [
      "\n",
      "Requirement already satisfied: idna<4,>=2.5 in /Users/eechris/anaconda3/envs/eg-150-textbook/lib/python3.11/site-packages (from requests->jupyter-matlab-proxy) (3.4)\n"
     ]
    },
    {
     "name": "stdout",
     "output_type": "stream",
     "text": [
      "\r\n"
     ]
    },
    {
     "name": "stdout",
     "output_type": "stream",
     "text": [
      "\n",
      "Requirement already satisfied: urllib3<3,>=1.21.1 in /Users/eechris/anaconda3/envs/eg-150-textbook/lib/python3.11/site-packages (from requests->jupyter-matlab-proxy) (1.26.18)\n"
     ]
    },
    {
     "name": "stdout",
     "output_type": "stream",
     "text": [
      "\r\n"
     ]
    },
    {
     "name": "stdout",
     "output_type": "stream",
     "text": [
      "\n",
      "Requirement already satisfied: certifi>=2017.4.17 in /Users/eechris/anaconda3/envs/eg-150-textbook/lib/python3.11/site-packages (from requests->jupyter-matlab-proxy) (2023.11.17)\n"
     ]
    },
    {
     "name": "stdout",
     "output_type": "stream",
     "text": [
      "\r\n"
     ]
    },
    {
     "name": "stdout",
     "output_type": "stream",
     "text": [
      "\n",
      "Requirement already satisfied: attrs>=17.3.0 in /Users/eechris/anaconda3/envs/eg-150-textbook/lib/python3.11/site-packages (from aiohttp>=3.7.4->matlab-proxy>=0.10.0->jupyter-matlab-proxy) (23.1.0)\n"
     ]
    },
    {
     "name": "stdout",
     "output_type": "stream",
     "text": [
      "\r\n"
     ]
    },
    {
     "name": "stdout",
     "output_type": "stream",
     "text": [
      "\n",
      "Requirement already satisfied: multidict<7.0,>=4.5 in /Users/eechris/anaconda3/envs/eg-150-textbook/lib/python3.11/site-packages (from aiohttp>=3.7.4->matlab-proxy>=0.10.0->jupyter-matlab-proxy) (6.0.2)\n"
     ]
    },
    {
     "name": "stdout",
     "output_type": "stream",
     "text": [
      "\r\n"
     ]
    },
    {
     "name": "stdout",
     "output_type": "stream",
     "text": [
      "\n",
      "Requirement already satisfied: async-timeout<5.0,>=4.0.0a3 in /Users/eechris/anaconda3/envs/eg-150-textbook/lib/python3.11/site-packages (from aiohttp>=3.7.4->matlab-proxy>=0.10.0->jupyter-matlab-proxy) (4.0.2)\n"
     ]
    },
    {
     "name": "stdout",
     "output_type": "stream",
     "text": [
      "\r\n"
     ]
    },
    {
     "name": "stdout",
     "output_type": "stream",
     "text": [
      "\n",
      "Requirement already satisfied: yarl<2.0,>=1.0 in /Users/eechris/anaconda3/envs/eg-150-textbook/lib/python3.11/site-packages (from aiohttp>=3.7.4->matlab-proxy>=0.10.0->jupyter-matlab-proxy) (1.8.1)\n"
     ]
    },
    {
     "name": "stdout",
     "output_type": "stream",
     "text": [
      "\r\n"
     ]
    },
    {
     "name": "stdout",
     "output_type": "stream",
     "text": [
      "\n",
      "Requirement already satisfied: frozenlist>=1.1.1 in /Users/eechris/anaconda3/envs/eg-150-textbook/lib/python3.11/site-packages (from aiohttp>=3.7.4->matlab-proxy>=0.10.0->jupyter-matlab-proxy) (1.4.0)\n"
     ]
    },
    {
     "name": "stdout",
     "output_type": "stream",
     "text": [
      "\r\n"
     ]
    },
    {
     "name": "stdout",
     "output_type": "stream",
     "text": [
      "\n",
      "Requirement already satisfied: aiosignal>=1.1.2 in /Users/eechris/anaconda3/envs/eg-150-textbook/lib/python3.11/site-packages (from aiohttp>=3.7.4->matlab-proxy>=0.10.0->jupyter-matlab-proxy) (1.2.0)\n"
     ]
    },
    {
     "name": "stdout",
     "output_type": "stream",
     "text": [
      "\r\n"
     ]
    },
    {
     "name": "stdout",
     "output_type": "stream",
     "text": [
      "\n",
      "Requirement already satisfied: setuptools in /Users/eechris/anaconda3/envs/eg-150-textbook/lib/python3.11/site-packages (from jupyter-contrib-core>=0.3.3->jupyter-contrib-nbextensions->jupyter-matlab-proxy) (68.0.0)\n"
     ]
    },
    {
     "name": "stdout",
     "output_type": "stream",
     "text": [
      "\r\n"
     ]
    },
    {
     "name": "stdout",
     "output_type": "stream",
     "text": [
      "\n",
      "Requirement already satisfied: pyyaml in /Users/eechris/anaconda3/envs/eg-150-textbook/lib/python3.11/site-packages (from jupyter-nbextensions-configurator>=0.4.0->jupyter-contrib-nbextensions->jupyter-matlab-proxy) (6.0.1)\n"
     ]
    },
    {
     "name": "stdout",
     "output_type": "stream",
     "text": [
      "\r\n"
     ]
    },
    {
     "name": "stdout",
     "output_type": "stream",
     "text": [
      "\n",
      "Requirement already satisfied: anyio<4,>=3.1.0 in /Users/eechris/anaconda3/envs/eg-150-textbook/lib/python3.11/site-packages (from jupyter-server>=1.0->jupyter-server-proxy->jupyter-matlab-proxy) (3.5.0)\n"
     ]
    },
    {
     "name": "stdout",
     "output_type": "stream",
     "text": [
      "\r\n"
     ]
    },
    {
     "name": "stdout",
     "output_type": "stream",
     "text": [
      "\n",
      "Requirement already satisfied: argon2-cffi in /Users/eechris/anaconda3/envs/eg-150-textbook/lib/python3.11/site-packages (from jupyter-server>=1.0->jupyter-server-proxy->jupyter-matlab-proxy) (21.3.0)\n"
     ]
    },
    {
     "name": "stdout",
     "output_type": "stream",
     "text": [
      "\r\n"
     ]
    },
    {
     "name": "stdout",
     "output_type": "stream",
     "text": [
      "\n",
      "Requirement already satisfied: jinja2 in /Users/eechris/anaconda3/envs/eg-150-textbook/lib/python3.11/site-packages (from jupyter-server>=1.0->jupyter-server-proxy->jupyter-matlab-proxy) (3.1.2)\n"
     ]
    },
    {
     "name": "stdout",
     "output_type": "stream",
     "text": [
      "\r\n"
     ]
    },
    {
     "name": "stdout",
     "output_type": "stream",
     "text": [
      "\n",
      "Requirement already satisfied: jupyter-client>=6.1.12 in /Users/eechris/anaconda3/envs/eg-150-textbook/lib/python3.11/site-packages (from jupyter-server>=1.0->jupyter-server-proxy->jupyter-matlab-proxy) (7.4.9)\n"
     ]
    },
    {
     "name": "stdout",
     "output_type": "stream",
     "text": [
      "\r\n"
     ]
    },
    {
     "name": "stdout",
     "output_type": "stream",
     "text": [
      "\n",
      "Requirement already satisfied: nbformat>=5.2.0 in /Users/eechris/anaconda3/envs/eg-150-textbook/lib/python3.11/site-packages (from jupyter-server>=1.0->jupyter-server-proxy->jupyter-matlab-proxy) (5.9.2)\n"
     ]
    },
    {
     "name": "stdout",
     "output_type": "stream",
     "text": [
      "\r\n"
     ]
    },
    {
     "name": "stdout",
     "output_type": "stream",
     "text": [
      "\n",
      "Requirement already satisfied: packaging in /Users/eechris/anaconda3/envs/eg-150-textbook/lib/python3.11/site-packages (from jupyter-server>=1.0->jupyter-server-proxy->jupyter-matlab-proxy) (23.1)\n"
     ]
    },
    {
     "name": "stdout",
     "output_type": "stream",
     "text": [
      "\r\n"
     ]
    },
    {
     "name": "stdout",
     "output_type": "stream",
     "text": [
      "\n",
      "Requirement already satisfied: prometheus-client in /Users/eechris/anaconda3/envs/eg-150-textbook/lib/python3.11/site-packages (from jupyter-server>=1.0->jupyter-server-proxy->jupyter-matlab-proxy) (0.14.1)\n"
     ]
    },
    {
     "name": "stdout",
     "output_type": "stream",
     "text": [
      "\r\n"
     ]
    },
    {
     "name": "stdout",
     "output_type": "stream",
     "text": [
      "\n",
      "Requirement already satisfied: pyzmq>=17 in /Users/eechris/anaconda3/envs/eg-150-textbook/lib/python3.11/site-packages (from jupyter-server>=1.0->jupyter-server-proxy->jupyter-matlab-proxy) (24.0.1)\n"
     ]
    },
    {
     "name": "stdout",
     "output_type": "stream",
     "text": [
      "\r\n"
     ]
    },
    {
     "name": "stdout",
     "output_type": "stream",
     "text": [
      "\n",
      "Requirement already satisfied: Send2Trash in /Users/eechris/anaconda3/envs/eg-150-textbook/lib/python3.11/site-packages (from jupyter-server>=1.0->jupyter-server-proxy->jupyter-matlab-proxy) (1.8.2)\n"
     ]
    },
    {
     "name": "stdout",
     "output_type": "stream",
     "text": [
      "\r\n"
     ]
    },
    {
     "name": "stdout",
     "output_type": "stream",
     "text": [
      "\n",
      "Requirement already satisfied: terminado>=0.8.3 in /Users/eechris/anaconda3/envs/eg-150-textbook/lib/python3.11/site-packages (from jupyter-server>=1.0->jupyter-server-proxy->jupyter-matlab-proxy) (0.17.1)\n"
     ]
    },
    {
     "name": "stdout",
     "output_type": "stream",
     "text": [
      "\r\n"
     ]
    },
    {
     "name": "stdout",
     "output_type": "stream",
     "text": [
      "\n",
      "Requirement already satisfied: websocket-client in /Users/eechris/anaconda3/envs/eg-150-textbook/lib/python3.11/site-packages (from jupyter-server>=1.0->jupyter-server-proxy->jupyter-matlab-proxy) (0.58.0)\n"
     ]
    },
    {
     "name": "stdout",
     "output_type": "stream",
     "text": [
      "\r\n"
     ]
    },
    {
     "name": "stdout",
     "output_type": "stream",
     "text": [
      "\n",
      "Requirement already satisfied: platformdirs>=2.5 in /Users/eechris/anaconda3/envs/eg-150-textbook/lib/python3.11/site-packages (from jupyter-core->jupyter-contrib-nbextensions->jupyter-matlab-proxy) (3.10.0)\n"
     ]
    },
    {
     "name": "stdout",
     "output_type": "stream",
     "text": [
      "\r\n"
     ]
    },
    {
     "name": "stdout",
     "output_type": "stream",
     "text": [
      "\n",
      "Requirement already satisfied: beautifulsoup4 in /Users/eechris/anaconda3/envs/eg-150-textbook/lib/python3.11/site-packages (from nbconvert>=6.0->jupyter-contrib-nbextensions->jupyter-matlab-proxy) (4.12.2)\n"
     ]
    },
    {
     "name": "stdout",
     "output_type": "stream",
     "text": [
      "\r\n"
     ]
    },
    {
     "name": "stdout",
     "output_type": "stream",
     "text": [
      "\n",
      "Requirement already satisfied: bleach!=5.0.0 in /Users/eechris/anaconda3/envs/eg-150-textbook/lib/python3.11/site-packages (from nbconvert>=6.0->jupyter-contrib-nbextensions->jupyter-matlab-proxy) (4.1.0)\n"
     ]
    },
    {
     "name": "stdout",
     "output_type": "stream",
     "text": [
      "\r\n"
     ]
    },
    {
     "name": "stdout",
     "output_type": "stream",
     "text": [
      "\n",
      "Requirement already satisfied: defusedxml in /Users/eechris/anaconda3/envs/eg-150-textbook/lib/python3.11/site-packages (from nbconvert>=6.0->jupyter-contrib-nbextensions->jupyter-matlab-proxy) (0.7.1)\n"
     ]
    },
    {
     "name": "stdout",
     "output_type": "stream",
     "text": [
      "\r\n"
     ]
    },
    {
     "name": "stdout",
     "output_type": "stream",
     "text": [
      "\n",
      "Requirement already satisfied: jupyterlab-pygments in /Users/eechris/anaconda3/envs/eg-150-textbook/lib/python3.11/site-packages (from nbconvert>=6.0->jupyter-contrib-nbextensions->jupyter-matlab-proxy) (0.1.2)\n"
     ]
    },
    {
     "name": "stdout",
     "output_type": "stream",
     "text": [
      "\r\n"
     ]
    },
    {
     "name": "stdout",
     "output_type": "stream",
     "text": [
      "\n",
      "Requirement already satisfied: markupsafe>=2.0 in /Users/eechris/anaconda3/envs/eg-150-textbook/lib/python3.11/site-packages (from nbconvert>=6.0->jupyter-contrib-nbextensions->jupyter-matlab-proxy) (2.1.1)\n"
     ]
    },
    {
     "name": "stdout",
     "output_type": "stream",
     "text": [
      "\r\n"
     ]
    },
    {
     "name": "stdout",
     "output_type": "stream",
     "text": [
      "\n",
      "Requirement already satisfied: mistune<4,>=2.0.3 in /Users/eechris/anaconda3/envs/eg-150-textbook/lib/python3.11/site-packages (from nbconvert>=6.0->jupyter-contrib-nbextensions->jupyter-matlab-proxy) (2.0.4)\n"
     ]
    },
    {
     "name": "stdout",
     "output_type": "stream",
     "text": [
      "\r\n"
     ]
    },
    {
     "name": "stdout",
     "output_type": "stream",
     "text": [
      "\n",
      "Requirement already satisfied: nbclient>=0.5.0 in /Users/eechris/anaconda3/envs/eg-150-textbook/lib/python3.11/site-packages (from nbconvert>=6.0->jupyter-contrib-nbextensions->jupyter-matlab-proxy) (0.7.4)\n"
     ]
    },
    {
     "name": "stdout",
     "output_type": "stream",
     "text": [
      "\r\n"
     ]
    },
    {
     "name": "stdout",
     "output_type": "stream",
     "text": [
      "\n",
      "Requirement already satisfied: pandocfilters>=1.4.1 in /Users/eechris/anaconda3/envs/eg-150-textbook/lib/python3.11/site-packages (from nbconvert>=6.0->jupyter-contrib-nbextensions->jupyter-matlab-proxy) (1.5.0)\n"
     ]
    },
    {
     "name": "stdout",
     "output_type": "stream",
     "text": [
      "\r\n"
     ]
    },
    {
     "name": "stdout",
     "output_type": "stream",
     "text": [
      "\n",
      "Requirement already satisfied: pygments>=2.4.1 in /Users/eechris/anaconda3/envs/eg-150-textbook/lib/python3.11/site-packages (from nbconvert>=6.0->jupyter-contrib-nbextensions->jupyter-matlab-proxy) (2.15.1)\n"
     ]
    },
    {
     "name": "stdout",
     "output_type": "stream",
     "text": [
      "\r\n"
     ]
    },
    {
     "name": "stdout",
     "output_type": "stream",
     "text": [
      "\n",
      "Requirement already satisfied: tinycss2 in /Users/eechris/anaconda3/envs/eg-150-textbook/lib/python3.11/site-packages (from nbconvert>=6.0->jupyter-contrib-nbextensions->jupyter-matlab-proxy) (1.2.1)\n"
     ]
    },
    {
     "name": "stdout",
     "output_type": "stream",
     "text": [
      "\r\n"
     ]
    },
    {
     "name": "stdout",
     "output_type": "stream",
     "text": [
      "\n",
      "Requirement already satisfied: nest-asyncio>=1.5 in /Users/eechris/anaconda3/envs/eg-150-textbook/lib/python3.11/site-packages (from notebook>=6.0->jupyter-contrib-nbextensions->jupyter-matlab-proxy) (1.5.6)\n"
     ]
    },
    {
     "name": "stdout",
     "output_type": "stream",
     "text": [
      "\r\n"
     ]
    },
    {
     "name": "stdout",
     "output_type": "stream",
     "text": [
      "\n",
      "Requirement already satisfied: ipykernel in /Users/eechris/anaconda3/envs/eg-150-textbook/lib/python3.11/site-packages (from notebook>=6.0->jupyter-contrib-nbextensions->jupyter-matlab-proxy) (6.25.0)\n"
     ]
    },
    {
     "name": "stdout",
     "output_type": "stream",
     "text": [
      "\r\n"
     ]
    },
    {
     "name": "stdout",
     "output_type": "stream",
     "text": [
      "\n",
      "Requirement already satisfied: nbclassic>=0.4.7 in /Users/eechris/anaconda3/envs/eg-150-textbook/lib/python3.11/site-packages (from notebook>=6.0->jupyter-contrib-nbextensions->jupyter-matlab-proxy) (1.0.0)\n"
     ]
    },
    {
     "name": "stdout",
     "output_type": "stream",
     "text": [
      "\r\n"
     ]
    },
    {
     "name": "stdout",
     "output_type": "stream",
     "text": [
      "\n",
      "Requirement already satisfied: cryptography in /Users/eechris/anaconda3/envs/eg-150-textbook/lib/python3.11/site-packages (from aiohttp-session[secure]->matlab-proxy>=0.10.0->jupyter-matlab-proxy) (41.0.3)\n"
     ]
    },
    {
     "name": "stdout",
     "output_type": "stream",
     "text": [
      "\r\n"
     ]
    },
    {
     "name": "stdout",
     "output_type": "stream",
     "text": [
      "\n",
      "Requirement already satisfied: sniffio>=1.1 in /Users/eechris/anaconda3/envs/eg-150-textbook/lib/python3.11/site-packages (from anyio<4,>=3.1.0->jupyter-server>=1.0->jupyter-server-proxy->jupyter-matlab-proxy) (1.2.0)\n"
     ]
    },
    {
     "name": "stdout",
     "output_type": "stream",
     "text": [
      "\r\n"
     ]
    },
    {
     "name": "stdout",
     "output_type": "stream",
     "text": [
      "\n",
      "Requirement already satisfied: six>=1.9.0 in /Users/eechris/anaconda3/envs/eg-150-textbook/lib/python3.11/site-packages (from bleach!=5.0.0->nbconvert>=6.0->jupyter-contrib-nbextensions->jupyter-matlab-proxy) (1.16.0)\n"
     ]
    },
    {
     "name": "stdout",
     "output_type": "stream",
     "text": [
      "\r\n"
     ]
    },
    {
     "name": "stdout",
     "output_type": "stream",
     "text": [
      "\n",
      "Requirement already satisfied: webencodings in /Users/eechris/anaconda3/envs/eg-150-textbook/lib/python3.11/site-packages (from bleach!=5.0.0->nbconvert>=6.0->jupyter-contrib-nbextensions->jupyter-matlab-proxy) (0.5.1)\n"
     ]
    },
    {
     "name": "stdout",
     "output_type": "stream",
     "text": [
      "\r\n"
     ]
    },
    {
     "name": "stdout",
     "output_type": "stream",
     "text": [
      "\n",
      "Requirement already satisfied: entrypoints in /Users/eechris/anaconda3/envs/eg-150-textbook/lib/python3.11/site-packages (from jupyter-client>=6.1.12->jupyter-server>=1.0->jupyter-server-proxy->jupyter-matlab-proxy) (0.4)\n"
     ]
    },
    {
     "name": "stdout",
     "output_type": "stream",
     "text": [
      "\r\n"
     ]
    },
    {
     "name": "stdout",
     "output_type": "stream",
     "text": [
      "\n",
      "Requirement already satisfied: python-dateutil>=2.8.2 in /Users/eechris/anaconda3/envs/eg-150-textbook/lib/python3.11/site-packages (from jupyter-client>=6.1.12->jupyter-server>=1.0->jupyter-server-proxy->jupyter-matlab-proxy) (2.8.2)\n"
     ]
    },
    {
     "name": "stdout",
     "output_type": "stream",
     "text": [
      "\r\n"
     ]
    },
    {
     "name": "stdout",
     "output_type": "stream",
     "text": [
      "\n",
      "Requirement already satisfied: notebook-shim>=0.2.3 in /Users/eechris/anaconda3/envs/eg-150-textbook/lib/python3.11/site-packages (from nbclassic>=0.4.7->notebook>=6.0->jupyter-contrib-nbextensions->jupyter-matlab-proxy) (0.2.3)\n"
     ]
    },
    {
     "name": "stdout",
     "output_type": "stream",
     "text": [
      "\r\n"
     ]
    },
    {
     "name": "stdout",
     "output_type": "stream",
     "text": [
      "\n",
      "Requirement already satisfied: fastjsonschema in /Users/eechris/anaconda3/envs/eg-150-textbook/lib/python3.11/site-packages (from nbformat>=5.2.0->jupyter-server>=1.0->jupyter-server-proxy->jupyter-matlab-proxy) (2.16.2)\n"
     ]
    },
    {
     "name": "stdout",
     "output_type": "stream",
     "text": [
      "\r\n"
     ]
    },
    {
     "name": "stdout",
     "output_type": "stream",
     "text": [
      "\n",
      "Requirement already satisfied: jsonschema>=2.6 in /Users/eechris/anaconda3/envs/eg-150-textbook/lib/python3.11/site-packages (from nbformat>=5.2.0->jupyter-server>=1.0->jupyter-server-proxy->jupyter-matlab-proxy) (4.19.2)\n"
     ]
    },
    {
     "name": "stdout",
     "output_type": "stream",
     "text": [
      "\r\n"
     ]
    },
    {
     "name": "stdout",
     "output_type": "stream",
     "text": [
      "\n",
      "Requirement already satisfied: ptyprocess in /Users/eechris/anaconda3/envs/eg-150-textbook/lib/python3.11/site-packages (from terminado>=0.8.3->jupyter-server>=1.0->jupyter-server-proxy->jupyter-matlab-proxy) (0.7.0)\n"
     ]
    },
    {
     "name": "stdout",
     "output_type": "stream",
     "text": [
      "\r\n"
     ]
    },
    {
     "name": "stdout",
     "output_type": "stream",
     "text": [
      "\n",
      "Requirement already satisfied: argon2-cffi-bindings in /Users/eechris/anaconda3/envs/eg-150-textbook/lib/python3.11/site-packages (from argon2-cffi->jupyter-server>=1.0->jupyter-server-proxy->jupyter-matlab-proxy) (21.2.0)\n"
     ]
    },
    {
     "name": "stdout",
     "output_type": "stream",
     "text": [
      "\r\n"
     ]
    },
    {
     "name": "stdout",
     "output_type": "stream",
     "text": [
      "\n",
      "Requirement already satisfied: soupsieve>1.2 in /Users/eechris/anaconda3/envs/eg-150-textbook/lib/python3.11/site-packages (from beautifulsoup4->nbconvert>=6.0->jupyter-contrib-nbextensions->jupyter-matlab-proxy) (2.5)\n"
     ]
    },
    {
     "name": "stdout",
     "output_type": "stream",
     "text": [
      "\r\n"
     ]
    },
    {
     "name": "stdout",
     "output_type": "stream",
     "text": [
      "\n",
      "Requirement already satisfied: cffi>=1.12 in /Users/eechris/anaconda3/envs/eg-150-textbook/lib/python3.11/site-packages (from cryptography->aiohttp-session[secure]->matlab-proxy>=0.10.0->jupyter-matlab-proxy) (1.16.0)\n"
     ]
    },
    {
     "name": "stdout",
     "output_type": "stream",
     "text": [
      "\r\n"
     ]
    },
    {
     "name": "stdout",
     "output_type": "stream",
     "text": [
      "\n",
      "Requirement already satisfied: appnope in /Users/eechris/anaconda3/envs/eg-150-textbook/lib/python3.11/site-packages (from ipykernel->notebook>=6.0->jupyter-contrib-nbextensions->jupyter-matlab-proxy) (0.1.2)\n"
     ]
    },
    {
     "name": "stdout",
     "output_type": "stream",
     "text": [
      "\r\n"
     ]
    },
    {
     "name": "stdout",
     "output_type": "stream",
     "text": [
      "\n",
      "Requirement already satisfied: comm>=0.1.1 in /Users/eechris/anaconda3/envs/eg-150-textbook/lib/python3.11/site-packages (from ipykernel->notebook>=6.0->jupyter-contrib-nbextensions->jupyter-matlab-proxy) (0.1.2)\n"
     ]
    },
    {
     "name": "stdout",
     "output_type": "stream",
     "text": [
      "\r\n"
     ]
    },
    {
     "name": "stdout",
     "output_type": "stream",
     "text": [
      "\n",
      "Requirement already satisfied: debugpy>=1.6.5 in /Users/eechris/anaconda3/envs/eg-150-textbook/lib/python3.11/site-packages (from ipykernel->notebook>=6.0->jupyter-contrib-nbextensions->jupyter-matlab-proxy) (1.6.7)\n"
     ]
    },
    {
     "name": "stdout",
     "output_type": "stream",
     "text": [
      "\r\n"
     ]
    },
    {
     "name": "stdout",
     "output_type": "stream",
     "text": [
      "\n",
      "Requirement already satisfied: ipython>=7.23.1 in /Users/eechris/anaconda3/envs/eg-150-textbook/lib/python3.11/site-packages (from ipykernel->notebook>=6.0->jupyter-contrib-nbextensions->jupyter-matlab-proxy) (8.15.0)\n"
     ]
    },
    {
     "name": "stdout",
     "output_type": "stream",
     "text": [
      "\r\n"
     ]
    },
    {
     "name": "stdout",
     "output_type": "stream",
     "text": [
      "\n",
      "Requirement already satisfied: matplotlib-inline>=0.1 in /Users/eechris/anaconda3/envs/eg-150-textbook/lib/python3.11/site-packages (from ipykernel->notebook>=6.0->jupyter-contrib-nbextensions->jupyter-matlab-proxy) (0.1.6)\n"
     ]
    },
    {
     "name": "stdout",
     "output_type": "stream",
     "text": [
      "\r\n"
     ]
    },
    {
     "name": "stdout",
     "output_type": "stream",
     "text": [
      "\n",
      "Requirement already satisfied: pycparser in /Users/eechris/anaconda3/envs/eg-150-textbook/lib/python3.11/site-packages (from cffi>=1.12->cryptography->aiohttp-session[secure]->matlab-proxy>=0.10.0->jupyter-matlab-proxy) (2.21)\n"
     ]
    },
    {
     "name": "stdout",
     "output_type": "stream",
     "text": [
      "\r\n"
     ]
    },
    {
     "name": "stdout",
     "output_type": "stream",
     "text": [
      "\n",
      "Requirement already satisfied: backcall in /Users/eechris/anaconda3/envs/eg-150-textbook/lib/python3.11/site-packages (from ipython>=7.23.1->ipykernel->notebook>=6.0->jupyter-contrib-nbextensions->jupyter-matlab-proxy) (0.2.0)\n"
     ]
    },
    {
     "name": "stdout",
     "output_type": "stream",
     "text": [
      "\r\n"
     ]
    },
    {
     "name": "stdout",
     "output_type": "stream",
     "text": [
      "\n",
      "Requirement already satisfied: decorator in /Users/eechris/anaconda3/envs/eg-150-textbook/lib/python3.11/site-packages (from ipython>=7.23.1->ipykernel->notebook>=6.0->jupyter-contrib-nbextensions->jupyter-matlab-proxy) (5.1.1)\n"
     ]
    },
    {
     "name": "stdout",
     "output_type": "stream",
     "text": [
      "\r\n"
     ]
    },
    {
     "name": "stdout",
     "output_type": "stream",
     "text": [
      "\n",
      "Requirement already satisfied: jedi>=0.16 in /Users/eechris/anaconda3/envs/eg-150-textbook/lib/python3.11/site-packages (from ipython>=7.23.1->ipykernel->notebook>=6.0->jupyter-contrib-nbextensions->jupyter-matlab-proxy) (0.18.1)\n"
     ]
    },
    {
     "name": "stdout",
     "output_type": "stream",
     "text": [
      "\r\n"
     ]
    },
    {
     "name": "stdout",
     "output_type": "stream",
     "text": [
      "\n",
      "Requirement already satisfied: pickleshare in /Users/eechris/anaconda3/envs/eg-150-textbook/lib/python3.11/site-packages (from ipython>=7.23.1->ipykernel->notebook>=6.0->jupyter-contrib-nbextensions->jupyter-matlab-proxy) (0.7.5)\n"
     ]
    },
    {
     "name": "stdout",
     "output_type": "stream",
     "text": [
      "\r\n"
     ]
    },
    {
     "name": "stdout",
     "output_type": "stream",
     "text": [
      "\n",
      "Requirement already satisfied: prompt-toolkit!=3.0.37,<3.1.0,>=3.0.30 in /Users/eechris/anaconda3/envs/eg-150-textbook/lib/python3.11/site-packages (from ipython>=7.23.1->ipykernel->notebook>=6.0->jupyter-contrib-nbextensions->jupyter-matlab-proxy) (3.0.36)\n"
     ]
    },
    {
     "name": "stdout",
     "output_type": "stream",
     "text": [
      "\r\n"
     ]
    },
    {
     "name": "stdout",
     "output_type": "stream",
     "text": [
      "\n",
      "Requirement already satisfied: stack-data in /Users/eechris/anaconda3/envs/eg-150-textbook/lib/python3.11/site-packages (from ipython>=7.23.1->ipykernel->notebook>=6.0->jupyter-contrib-nbextensions->jupyter-matlab-proxy) (0.2.0)\n"
     ]
    },
    {
     "name": "stdout",
     "output_type": "stream",
     "text": [
      "\r\n"
     ]
    },
    {
     "name": "stdout",
     "output_type": "stream",
     "text": [
      "\n",
      "Requirement already satisfied: pexpect>4.3 in /Users/eechris/anaconda3/envs/eg-150-textbook/lib/python3.11/site-packages (from ipython>=7.23.1->ipykernel->notebook>=6.0->jupyter-contrib-nbextensions->jupyter-matlab-proxy) (4.8.0)\n"
     ]
    },
    {
     "name": "stdout",
     "output_type": "stream",
     "text": [
      "\r\n"
     ]
    },
    {
     "name": "stdout",
     "output_type": "stream",
     "text": [
      "\n",
      "Requirement already satisfied: jsonschema-specifications>=2023.03.6 in /Users/eechris/anaconda3/envs/eg-150-textbook/lib/python3.11/site-packages (from jsonschema>=2.6->nbformat>=5.2.0->jupyter-server>=1.0->jupyter-server-proxy->jupyter-matlab-proxy) (2023.7.1)\n"
     ]
    },
    {
     "name": "stdout",
     "output_type": "stream",
     "text": [
      "\r\n"
     ]
    },
    {
     "name": "stdout",
     "output_type": "stream",
     "text": [
      "\n",
      "Requirement already satisfied: referencing>=0.28.4 in /Users/eechris/anaconda3/envs/eg-150-textbook/lib/python3.11/site-packages (from jsonschema>=2.6->nbformat>=5.2.0->jupyter-server>=1.0->jupyter-server-proxy->jupyter-matlab-proxy) (0.30.2)\n"
     ]
    },
    {
     "name": "stdout",
     "output_type": "stream",
     "text": [
      "\r\n"
     ]
    },
    {
     "name": "stdout",
     "output_type": "stream",
     "text": [
      "\n",
      "Requirement already satisfied: rpds-py>=0.7.1 in /Users/eechris/anaconda3/envs/eg-150-textbook/lib/python3.11/site-packages (from jsonschema>=2.6->nbformat>=5.2.0->jupyter-server>=1.0->jupyter-server-proxy->jupyter-matlab-proxy) (0.10.6)\n"
     ]
    },
    {
     "name": "stdout",
     "output_type": "stream",
     "text": [
      "\r\n"
     ]
    },
    {
     "name": "stdout",
     "output_type": "stream",
     "text": [
      "\n",
      "Requirement already satisfied: parso<0.9.0,>=0.8.0 in /Users/eechris/anaconda3/envs/eg-150-textbook/lib/python3.11/site-packages (from jedi>=0.16->ipython>=7.23.1->ipykernel->notebook>=6.0->jupyter-contrib-nbextensions->jupyter-matlab-proxy) (0.8.3)\n"
     ]
    },
    {
     "name": "stdout",
     "output_type": "stream",
     "text": [
      "\r\n"
     ]
    },
    {
     "name": "stdout",
     "output_type": "stream",
     "text": [
      "\n",
      "Requirement already satisfied: wcwidth in /Users/eechris/anaconda3/envs/eg-150-textbook/lib/python3.11/site-packages (from prompt-toolkit!=3.0.37,<3.1.0,>=3.0.30->ipython>=7.23.1->ipykernel->notebook>=6.0->jupyter-contrib-nbextensions->jupyter-matlab-proxy) (0.2.5)\n"
     ]
    },
    {
     "name": "stdout",
     "output_type": "stream",
     "text": [
      "\r\n"
     ]
    },
    {
     "name": "stdout",
     "output_type": "stream",
     "text": [
      "\n",
      "Requirement already satisfied: executing in /Users/eechris/anaconda3/envs/eg-150-textbook/lib/python3.11/site-packages (from stack-data->ipython>=7.23.1->ipykernel->notebook>=6.0->jupyter-contrib-nbextensions->jupyter-matlab-proxy) (0.8.3)\n"
     ]
    },
    {
     "name": "stdout",
     "output_type": "stream",
     "text": [
      "\r\n"
     ]
    },
    {
     "name": "stdout",
     "output_type": "stream",
     "text": [
      "\n",
      "Requirement already satisfied: asttokens in /Users/eechris/anaconda3/envs/eg-150-textbook/lib/python3.11/site-packages (from stack-data->ipython>=7.23.1->ipykernel->notebook>=6.0->jupyter-contrib-nbextensions->jupyter-matlab-proxy) (2.0.5)\n"
     ]
    },
    {
     "name": "stdout",
     "output_type": "stream",
     "text": [
      "\r\n"
     ]
    },
    {
     "name": "stdout",
     "output_type": "stream",
     "text": [
      "\n",
      "Requirement already satisfied: pure-eval in /Users/eechris/anaconda3/envs/eg-150-textbook/lib/python3.11/site-packages (from stack-data->ipython>=7.23.1->ipykernel->notebook>=6.0->jupyter-contrib-nbextensions->jupyter-matlab-proxy) (0.2.2)\n"
     ]
    },
    {
     "name": "stdout",
     "output_type": "stream",
     "text": [
      "\r\n",
      "\n"
     ]
    }
   ],
   "source": [
    "!python3 -m pip install jupyter-matlab-proxy"
   ]
  },
  {
   "cell_type": "code",
   "execution_count": 14,
   "id": "acf56419",
   "metadata": {},
   "outputs": [
    {
     "name": "stdout",
     "output_type": "stream",
     "text": [
      "bash: 4.0.0a0: No such file or directory\r\n",
      "\n"
     ]
    }
   ],
   "source": [
    "!python3 -m pip install 'jupyterlab>=3.0.0,<4.0.0a0'"
   ]
  },
  {
   "cell_type": "code",
   "execution_count": 15,
   "id": "a2b2bc78",
   "metadata": {},
   "outputs": [
    {
     "name": "stdout",
     "output_type": "stream",
     "text": [
      "\n",
      "ans =\n",
      "\n",
      "    92    99     1     8    15    67    74    51    58    40\n",
      "    98    80     7    14    16    73    55    57    64    41\n",
      "     4    81    88    20    22    54    56    63    70    47\n",
      "    85    87    19    21     3    60    62    69    71    28\n",
      "    86    93    25     2     9    61    68    75    52    34\n",
      "    17    24    76    83    90    42    49    26    33    65\n",
      "    23     5    82    89    91    48    30    32    39    66\n",
      "    79     6    13    95    97    29    31    38    45    72\n",
      "    10    12    94    96    78    35    37    44    46    53\n",
      "    11    18   100    77    84    36    43    50    27    59\n",
      "\n"
     ]
    }
   ],
   "source": [
    "magic(10)"
   ]
  },
  {
   "cell_type": "code",
   "execution_count": 16,
   "id": "578ead31",
   "metadata": {},
   "outputs": [
    {
     "data": {
      "text/html": [
       "<iframe width=\"560\" height=\"315\" src=\"https://www.youtube.com/embed/HW29067qVWk\" frameborder=\"0\" allow=\"accelerometer; autoplay; encrypted-media; gyroscope; picture-in-picture\" allowfullscreen></iframe>"
      ],
      "text/plain": [
       "<IPython.core.display.HTML object>"
      ]
     },
     "metadata": {},
     "output_type": "display_data"
    }
   ],
   "source": [
    "%%html\n",
    "<iframe width=\"560\" height=\"315\" src=\"https://www.youtube.com/embed/HW29067qVWk\" frameborder=\"0\" allow=\"accelerometer; autoplay; encrypted-media; gyroscope; picture-in-picture\" allowfullscreen></iframe>"
   ]
  }
 ],
 "metadata": {
  "jupytext": {
   "formats": "ipynb,md:myst",
   "text_representation": {
    "extension": ".md",
    "format_name": "myst",
    "format_version": 0.13,
    "jupytext_version": "1.15.2"
   }
  },
  "kernelspec": {
   "display_name": "MATLAB Kernel",
   "language": "matlab",
   "name": "matlab"
  },
  "language_info": {
   "codemirror_mode": "octave",
   "file_extension": ".m",
   "help_links": [
    {
     "text": "MetaKernel Magics",
     "url": "https://metakernel.readthedocs.io/en/latest/source/README.html"
    }
   ],
   "mimetype": "text/x-octave",
   "name": "matlab",
   "version": "0.17.1"
  },
  "source_map": [
   13,
   38,
   44,
   54,
   58,
   66,
   166,
   170,
   178,
   182,
   194,
   198,
   200,
   204,
   206,
   210,
   213,
   217,
   220,
   233,
   237,
   243,
   246,
   250,
   252,
   256,
   260,
   262,
   266,
   268,
   274,
   278,
   280,
   294,
   312,
   336,
   338,
   350,
   353,
   365
  ]
 },
 "nbformat": 4,
 "nbformat_minor": 5
}