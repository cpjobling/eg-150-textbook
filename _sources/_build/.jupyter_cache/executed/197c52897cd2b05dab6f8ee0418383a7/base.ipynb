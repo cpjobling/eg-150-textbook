{
 "cells": [
  {
   "cell_type": "code",
   "execution_count": 1,
   "id": "97f76d6c",
   "metadata": {
    "slideshow": {
     "slide_type": "fragment"
    }
   },
   "outputs": [
    {
     "name": "stdout",
     "output_type": "stream",
     "text": [
      " \n"
     ]
    },
    {
     "name": "stdout",
     "output_type": "stream",
     "text": [
      "X(s) =\n"
     ]
    },
    {
     "name": "stdout",
     "output_type": "stream",
     "text": [
      " \n"
     ]
    },
    {
     "name": "stdout",
     "output_type": "stream",
     "text": [
      "laplace(x(t), t, s)\n"
     ]
    },
    {
     "name": "stdout",
     "output_type": "stream",
     "text": [
      " \n"
     ]
    }
   ],
   "source": [
    "syms s t x(t) % define Laplace transform variable and time as symbols\n",
    "X(s) = laplace(x(t))"
   ]
  }
 ],
 "metadata": {
  "jupytext": {
   "formats": "md:myst,ipynb",
   "text_representation": {
    "extension": ".md",
    "format_name": "myst",
    "format_version": 0.13,
    "jupytext_version": "1.14.4"
   }
  },
  "kernelspec": {
   "display_name": "MATLAB",
   "language": "matlab",
   "name": "imatlab"
  },
  "language_info": {
   "codemirror_mode": "octave",
   "file_extension": ".m",
   "mimetype": "text/x-matlab",
   "name": "matlab",
   "pygments_lexer": "matlab",
   "version": "9.13.0.2126072 (R2022b) Update 3"
  },
  "source_map": [
   15,
   21,
   27,
   31,
   35,
   39,
   43,
   47,
   51,
   55,
   60,
   66,
   72,
   80,
   86,
   92,
   100,
   104,
   108,
   114,
   120,
   124,
   130,
   137,
   146,
   151,
   156,
   160,
   169,
   175,
   179,
   187,
   191,
   197,
   206,
   214,
   218,
   226,
   230,
   234,
   239,
   245,
   249,
   253,
   257,
   261,
   265,
   269,
   273,
   277,
   281,
   287,
   296,
   300,
   309,
   320
  ]
 },
 "nbformat": 4,
 "nbformat_minor": 5
}