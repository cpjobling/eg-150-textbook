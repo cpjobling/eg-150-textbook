{
 "cells": [
  {
   "cell_type": "code",
   "execution_count": 1,
   "id": "b9dd7314",
   "metadata": {
    "slideshow": {
     "slide_type": "notes"
    }
   },
   "outputs": [],
   "source": [
    "format compact\n",
    "cd matlab\n",
    "open example1"
   ]
  },
  {
   "cell_type": "code",
   "execution_count": null,
   "id": "aac70918",
   "metadata": {},
   "outputs": [],
   "source": []
  }
 ],
 "metadata": {
  "jupytext": {
   "formats": "ipynb,md:myst",
   "text_representation": {
    "extension": ".md",
    "format_name": "myst",
    "format_version": 0.13,
    "jupytext_version": "1.15.2"
   }
  },
  "kernelspec": {
   "display_name": "Matlab",
   "language": "matlab",
   "name": "matlab"
  },
  "language_info": {
   "codemirror_mode": "octave",
   "file_extension": ".m",
   "help_links": [
    {
     "text": "MetaKernel Magics",
     "url": "https://metakernel.readthedocs.io/en/latest/source/README.html"
    }
   ],
   "mimetype": "text/x-octave",
   "name": "matlab",
   "version": "0.17.1"
  },
  "source_map": [
   15,
   22,
   26,
   32,
   42,
   49,
   55,
   61,
   65,
   69,
   75,
   80,
   84,
   88,
   92,
   96,
   100,
   104,
   108,
   114,
   120,
   124,
   130,
   134,
   138,
   142,
   153,
   164,
   168,
   178,
   183,
   188,
   193,
   197
  ]
 },
 "nbformat": 4,
 "nbformat_minor": 5
}