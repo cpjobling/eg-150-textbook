{
 "cells": [
  {
   "cell_type": "code",
   "execution_count": 1,
   "id": "203c0740",
   "metadata": {
    "slideshow": {
     "slide_type": "fragment"
    }
   },
   "outputs": [],
   "source": [
    "cd matlab\n",
    "open examples8"
   ]
  }
 ],
 "metadata": {
  "jupytext": {
   "formats": "ipynb,md:myst",
   "text_representation": {
    "extension": ".md",
    "format_name": "myst",
    "format_version": 0.13,
    "jupytext_version": "1.14.4"
   }
  },
  "kernelspec": {
   "display_name": "Matlab",
   "language": "matlab",
   "name": "matlab"
  },
  "language_info": {
   "codemirror_mode": "octave",
   "file_extension": ".m",
   "help_links": [
    {
     "text": "MetaKernel Magics",
     "url": "https://metakernel.readthedocs.io/en/latest/source/README.html"
    }
   ],
   "mimetype": "text/x-octave",
   "name": "matlab",
   "version": "0.17.1"
  },
  "source_map": [
   15,
   22,
   28,
   37,
   48,
   59,
   63,
   69,
   77,
   81,
   89,
   95,
   99,
   111,
   122,
   130,
   140,
   144,
   155,
   159,
   169,
   173,
   180,
   191,
   195,
   201,
   206,
   219,
   223,
   227,
   236,
   243,
   256,
   260,
   266,
   272,
   289,
   293,
   304,
   308,
   315,
   319,
   326,
   330,
   343,
   347,
   359,
   363,
   371,
   381
  ]
 },
 "nbformat": 4,
 "nbformat_minor": 5
}