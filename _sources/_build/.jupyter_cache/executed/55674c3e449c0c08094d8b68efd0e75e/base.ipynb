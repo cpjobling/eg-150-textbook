{
 "cells": [
  {
   "cell_type": "code",
   "execution_count": 1,
   "id": "ab7b9800",
   "metadata": {
    "slideshow": {
     "slide_type": "-"
    }
   },
   "outputs": [],
   "source": [
    "cd /Users/eechris/code/src/github.com/cpjobling/eg-150-textbook/laplace_transform/matlab/\n",
    "clearvars\n",
    "format compact\n",
    "syms t L R C i_R(t) v_R(t) i_L(t) v_L(t) v_C(t) i_C(t)"
   ]
  },
  {
   "cell_type": "code",
   "execution_count": 2,
   "id": "3a58bffd",
   "metadata": {
    "slideshow": {
     "slide_type": "fragment"
    }
   },
   "outputs": [
    {
     "data": {
      "text/latex": [
       "$eqvrt =v_R \\left(t\\right)=R\\,i_R \\left(t\\right)$"
      ]
     },
     "execution_count": 2,
     "metadata": {},
     "output_type": "execute_result"
    }
   ],
   "source": [
    "eqvrt = v_R(t) == R * i_R(t)"
   ]
  },
  {
   "cell_type": "code",
   "execution_count": 3,
   "id": "d74f0948",
   "metadata": {
    "slideshow": {
     "slide_type": "fragment"
    }
   },
   "outputs": [
    {
     "data": {
      "text/latex": [
       "$eqirt =i_R \\left(t\\right)=\\frac{v_R \\left(t\\right)}{R}$"
      ]
     },
     "execution_count": 3,
     "metadata": {},
     "output_type": "execute_result"
    }
   ],
   "source": [
    "eqirt = isolate(eqvrt,i_R(t))"
   ]
  },
  {
   "cell_type": "code",
   "execution_count": 4,
   "id": "bfffae60",
   "metadata": {
    "slideshow": {
     "slide_type": "fragment"
    }
   },
   "outputs": [
    {
     "data": {
      "text/latex": [
       "$eqvlt =v_L \\left(t\\right)=L\\,\\frac{\\partial }{\\partial t}\\;i_L \\left(t\\right)$"
      ]
     },
     "execution_count": 4,
     "metadata": {},
     "output_type": "execute_result"
    }
   ],
   "source": [
    "eqvlt = v_L(t) == L*diff(i_L(t))"
   ]
  },
  {
   "cell_type": "code",
   "execution_count": 5,
   "id": "af99917e",
   "metadata": {
    "slideshow": {
     "slide_type": "fragment"
    }
   },
   "outputs": [
    {
     "data": {
      "text/latex": [
       "$eqilt =i_L \\left(t\\right)=\\frac{\\int v_L \\left(t\\right)\\;\\textrm{d}t}{L}$"
      ]
     },
     "execution_count": 5,
     "metadata": {},
     "output_type": "execute_result"
    }
   ],
   "source": [
    "int(lhs(eqvlt)) == int(rhs(eqvlt));\n",
    "eqilt = isolate(ans,i_L(t))"
   ]
  },
  {
   "cell_type": "code",
   "execution_count": 6,
   "id": "59483391",
   "metadata": {
    "slideshow": {
     "slide_type": "fragment"
    }
   },
   "outputs": [
    {
     "data": {
      "text/latex": [
       "$eqict =i_C \\left(t\\right)=C\\,\\frac{\\partial }{\\partial t}\\;v_C \\left(t\\right)$"
      ]
     },
     "execution_count": 6,
     "metadata": {},
     "output_type": "execute_result"
    }
   ],
   "source": [
    "eqict = i_C(t) == C * diff(v_C(t))"
   ]
  },
  {
   "cell_type": "code",
   "execution_count": 7,
   "id": "d62e22c6",
   "metadata": {
    "slideshow": {
     "slide_type": "fragment"
    }
   },
   "outputs": [
    {
     "data": {
      "text/latex": [
       "$eqvct =v_C \\left(t\\right)=\\frac{\\int i_C \\left(t\\right)\\;\\textrm{d}t}{C}$"
      ]
     },
     "execution_count": 7,
     "metadata": {},
     "output_type": "execute_result"
    }
   ],
   "source": [
    "int(lhs(eqict)) == int(rhs(eqict));\n",
    "eqvct = isolate(ans,v_C(t))"
   ]
  },
  {
   "cell_type": "code",
   "execution_count": 8,
   "id": "d76472e1",
   "metadata": {},
   "outputs": [],
   "source": [
    "open solution12_3"
   ]
  },
  {
   "cell_type": "code",
   "execution_count": 9,
   "id": "1324d496",
   "metadata": {
    "slideshow": {
     "slide_type": "notes"
    }
   },
   "outputs": [
    {
     "data": {
      "text/latex": [
       "$eq45 =\\textrm{Vout}-\\frac{\\frac{3}{s}-\\textrm{Vout}+1}{\\frac{s}{2}+\\frac{1}{s}+2}+\\frac{2\\,\\textrm{Vout}}{s}=0$"
      ]
     },
     "execution_count": 9,
     "metadata": {},
     "output_type": "execute_result"
    },
    {
     "data": {
      "text/latex": [
       "$Vout =\\frac{2\\,s^2 +6\\,s}{s^3 +8\\,s^2 +10\\,s+4}$"
      ]
     },
     "execution_count": 9,
     "metadata": {},
     "output_type": "execute_result"
    }
   ],
   "source": [
    "syms s t vout Vout\n",
    "\n",
    "eq45 = (Vout - 1 - 3/s)/(1/s + 2 + s/2) + Vout/1 + Vout/(s/2) == 0\n",
    "\n",
    "Vout = solve(eq45, Vout)"
   ]
  },
  {
   "cell_type": "code",
   "execution_count": 10,
   "id": "4c23576d",
   "metadata": {
    "slideshow": {
     "slide_type": "notes"
    }
   },
   "outputs": [
    {
     "data": {
      "text/latex": [
       "$Ds =s^3 +8\\,s^2 +10\\,s+4$"
      ]
     },
     "execution_count": 10,
     "metadata": {},
     "output_type": "execute_result"
    }
   ],
   "source": [
    "Ds = s^3 + 8*s^2 + 10*s + 4"
   ]
  },
  {
   "cell_type": "code",
   "execution_count": 11,
   "id": "3a90a45f",
   "metadata": {
    "slideshow": {
     "slide_type": "notes"
    }
   },
   "outputs": [
    {
     "data": {
      "text/html": [
       "<html><body><pre>d = 1×4 double\n",
       "     1     8    10     4\n",
       "</pre></body></html>"
      ],
      "text/plain": [
       "d = 1×4 double\n",
       "     1     8    10     4\n"
      ]
     },
     "execution_count": 11,
     "metadata": {},
     "output_type": "execute_result"
    }
   ],
   "source": [
    "d = sym2poly(Ds)"
   ]
  },
  {
   "cell_type": "code",
   "execution_count": 12,
   "id": "ec7b8066",
   "metadata": {
    "slideshow": {
     "slide_type": "notes"
    }
   },
   "outputs": [
    {
     "data": {
      "text/html": [
       "<html><body><pre>p = \n",
       " -6.570750563722639 + 0.000000000000000i\n",
       " -0.714624718138679 + 0.313161257350729i\n",
       " -0.714624718138679 - 0.313161257350729i</pre></body></html>"
      ],
      "text/plain": [
       "p = \n",
       " -6.570750563722639 + 0.000000000000000i\n",
       " -0.714624718138679 + 0.313161257350729i\n",
       " -0.714624718138679 - 0.313161257350729i"
      ]
     },
     "execution_count": 12,
     "metadata": {},
     "output_type": "execute_result"
    }
   ],
   "source": [
    "format long\n",
    "p = roots(d)"
   ]
  },
  {
   "cell_type": "code",
   "execution_count": 13,
   "id": "40db40a5",
   "metadata": {
    "slideshow": {
     "slide_type": "notes"
    },
    "tags": [
     "remove-output"
    ]
   },
   "outputs": [
    {
     "data": {
      "text/html": [
       "<html><body><pre>p1 =   -6.570750563722639</pre></body></html>"
      ],
      "text/plain": [
       "p1 =   -6.570750563722639"
      ]
     },
     "execution_count": 13,
     "metadata": {},
     "output_type": "execute_result"
    }
   ],
   "source": [
    "p1 = p(1)"
   ]
  },
  {
   "cell_type": "code",
   "execution_count": 14,
   "id": "24089528",
   "metadata": {
    "slideshow": {
     "slide_type": "notes"
    },
    "tags": [
     "remove-output"
    ]
   },
   "outputs": [
    {
     "data": {
      "text/latex": [
       "$qs =s^2 +\\frac{804595903579775\\,s}{562949953421312}+\\frac{3086772113315577969665007046981}{5070602400912917605986812821504}$"
      ]
     },
     "execution_count": 14,
     "metadata": {},
     "output_type": "execute_result"
    }
   ],
   "source": [
    "qs = expand((s - p(2))*(s - p(3)))"
   ]
  },
  {
   "cell_type": "code",
   "execution_count": 15,
   "id": "b2006498",
   "metadata": {
    "slideshow": {
     "slide_type": "notes"
    },
    "tags": [
     "remove-output"
    ]
   },
   "outputs": [
    {
     "data": {
      "text/html": [
       "<html><body><pre>q = 1×3 double\n",
       "   1.000000000000000   1.429249436277358   0.608758460880276\n",
       "</pre></body></html>"
      ],
      "text/plain": [
       "q = 1×3 double\n",
       "   1.000000000000000   1.429249436277358   0.608758460880276\n"
      ]
     },
     "execution_count": 15,
     "metadata": {},
     "output_type": "execute_result"
    }
   ],
   "source": [
    "q = sym2poly(qs)"
   ]
  },
  {
   "cell_type": "code",
   "execution_count": 16,
   "id": "0699b614",
   "metadata": {
    "slideshow": {
     "slide_type": "notes"
    }
   },
   "outputs": [
    {
     "data": {
      "text/latex": [
       "$Ns =2\\,s\\,{\\left(s+3\\right)}$"
      ]
     },
     "execution_count": 16,
     "metadata": {},
     "output_type": "execute_result"
    }
   ],
   "source": [
    "Ns = 2*s*(s + 3)"
   ]
  },
  {
   "cell_type": "code",
   "execution_count": 17,
   "id": "de27cc11",
   "metadata": {
    "slideshow": {
     "slide_type": "notes"
    }
   },
   "outputs": [
    {
     "data": {
      "text/latex": [
       "$Ds ={\\left(s+\\frac{3699003723790719}{562949953421312}\\right)}\\,{\\left(s^2 +\\frac{804595903579775\\,s}{562949953421312}+\\frac{3086772113315577969665007046981}{5070602400912917605986812821504}\\right)}$"
      ]
     },
     "execution_count": 17,
     "metadata": {},
     "output_type": "execute_result"
    },
    {
     "data": {
      "text/latex": [
       "$Vout =\\frac{2\\,s\\,{\\left(s+3\\right)}}{{\\left(s+\\frac{3699003723790719}{562949953421312}\\right)}\\,{\\left(s^2 +\\frac{804595903579775\\,s}{562949953421312}+\\frac{3086772113315577969665007046981}{5070602400912917605986812821504}\\right)}}$"
      ]
     },
     "execution_count": 17,
     "metadata": {},
     "output_type": "execute_result"
    }
   ],
   "source": [
    "Ds = (s - p1)*qs \n",
    "Vout = Ns/Ds"
   ]
  },
  {
   "cell_type": "code",
   "execution_count": 18,
   "id": "ede6fd49",
   "metadata": {
    "slideshow": {
     "slide_type": "notes"
    }
   },
   "outputs": [
    {
     "data": {
      "text/latex": [
       "$vout =\\frac{237938132050491874560868586463264\\,{\\mathrm{e}}^{-\\frac{3699003723790719\\,t}{562949953421312}} }{174389576995383734106207237906757}+\\frac{110841021940275593651545889350250\\,{\\mathrm{e}}^{-\\frac{804595903579775\\,t}{1125899906842624}} \\,{\\left(\\cos \\left(\\frac{705176460955809\\,t}{2251799813685248}\\right)-\\frac{114001779759373874310224037861047984203122362242\\,\\sin \\left(\\frac{705176460955809\\,t}{2251799813685248}\\right)}{39081239790284360447654239336025710034486551125}\\right)}}{174389576995383734106207237906757}$"
      ]
     },
     "execution_count": 18,
     "metadata": {},
     "output_type": "execute_result"
    }
   ],
   "source": [
    "vout = ilaplace(Vout)"
   ]
  },
  {
   "cell_type": "code",
   "execution_count": 19,
   "id": "6a2cf1f3",
   "metadata": {
    "slideshow": {
     "slide_type": "notes"
    }
   },
   "outputs": [
    {
     "data": {
      "text/latex": [
       "$var =1.36\\,{\\mathrm{e}}^{-6.57\\,t} +0.636\\,{\\mathrm{e}}^{-0.715\\,t} \\,{\\left(\\cos \\left(0.313\\,t\\right)-2.92\\,\\sin \\left(0.313\\,t\\right)\\right)}$"
      ]
     },
     "execution_count": 19,
     "metadata": {},
     "output_type": "execute_result"
    }
   ],
   "source": [
    "var = vpa(vout,3)"
   ]
  },
  {
   "cell_type": "code",
   "execution_count": 20,
   "id": "e4304d0c",
   "metadata": {
    "slideshow": {
     "slide_type": "subslide"
    },
    "tags": [
     "remove-output"
    ]
   },
   "outputs": [
    {
     "data": {
      "image/png": "[encoded data removed]"
     },
     "execution_count": 20,
     "metadata": {},
     "output_type": "execute_result"
    }
   ],
   "source": [
    "fplot(vout,[0,10]),...\n",
    "    ylim([-0.5,2]),...\n",
    "    grid,...\n",
    "    title('Plot of Vout(t) for the circuit of Example 3'),...\n",
    "    ylabel('Vout(t) V'),...\n",
    "    xlabel('Time t s')"
   ]
  },
  {
   "cell_type": "code",
   "execution_count": 21,
   "id": "af5e8c59",
   "metadata": {
    "slideshow": {
     "slide_type": "fragment"
    },
    "tags": [
     "remove-output"
    ]
   },
   "outputs": [
    {
     "name": "stdout",
     "output_type": "stream",
     "text": [
      "\n"
     ]
    },
    {
     "name": "stdout",
     "output_type": "stream",
     "text": [
      "Vout"
     ]
    },
    {
     "name": "stdout",
     "output_type": "stream",
     "text": [
      " =\n"
     ]
    },
    {
     "name": "stdout",
     "output_type": "stream",
     "text": [
      " \n"
     ]
    },
    {
     "name": "stdout",
     "output_type": "stream",
     "text": [
      "       2 s^2 + 6 s\n"
     ]
    },
    {
     "name": "stdout",
     "output_type": "stream",
     "text": [
      "  ----------------------\n"
     ]
    },
    {
     "name": "stdout",
     "output_type": "stream",
     "text": [
      "  s^3 + 8 s^2 + 10 s + 4\n"
     ]
    },
    {
     "name": "stdout",
     "output_type": "stream",
     "text": [
      " \n"
     ]
    },
    {
     "name": "stdout",
     "output_type": "stream",
     "text": [
      "Continuous-time transfer function."
     ]
    },
    {
     "name": "stdout",
     "output_type": "stream",
     "text": [
      "\n"
     ]
    }
   ],
   "source": [
    "Vout = tf(2*conv([1, 0],[1, 3]),[1, 8, 10, 4])"
   ]
  },
  {
   "cell_type": "code",
   "execution_count": 22,
   "id": "ffd934d6",
   "metadata": {
    "slideshow": {
     "slide_type": "subslide"
    },
    "tags": [
     "remove-output"
    ]
   },
   "outputs": [
    {
     "data": {
      "image/png": "[encoded data removed]"
     },
     "execution_count": 22,
     "metadata": {},
     "output_type": "execute_result"
    }
   ],
   "source": [
    "impulse(Vout)"
   ]
  },
  {
   "cell_type": "code",
   "execution_count": 23,
   "id": "6161e155",
   "metadata": {
    "slideshow": {
     "slide_type": "subslide"
    },
    "tags": [
     "remove-output"
    ]
   },
   "outputs": [],
   "source": [
    "syms s;\n",
    "\n",
    "z1 = 13*s + 8/s;\n",
    "z2 = 5*s + 10;\n",
    "z3 = 20 + 16/s;"
   ]
  },
  {
   "cell_type": "code",
   "execution_count": 24,
   "id": "fd08d820",
   "metadata": {
    "slideshow": {
     "slide_type": "subslide"
    },
    "tags": [
     "remove-output"
    ]
   },
   "outputs": [
    {
     "data": {
      "text/latex": [
       "$z =13\\,s+\\frac{8}{s}+\\frac{{\\left(5\\,s+10\\right)}\\,{\\left(\\frac{16}{s}+20\\right)}}{5\\,s+\\frac{16}{s}+30}$"
      ]
     },
     "execution_count": 24,
     "metadata": {},
     "output_type": "execute_result"
    }
   ],
   "source": [
    "z = z1 + z2 * z3 /(z2 + z3)"
   ]
  },
  {
   "cell_type": "code",
   "execution_count": 25,
   "id": "65c309c0",
   "metadata": {
    "slideshow": {
     "slide_type": "subslide"
    },
    "tags": [
     "remove-output"
    ]
   },
   "outputs": [
    {
     "data": {
      "text/latex": [
       "$z10 =\\frac{65\\,s^4 +490\\,s^3 +528\\,s^2 +400\\,s+128}{s\\,{\\left(5\\,s^2 +30\\,s+16\\right)}}$"
      ]
     },
     "execution_count": 25,
     "metadata": {},
     "output_type": "execute_result"
    }
   ],
   "source": [
    "z10 = simplify(z)"
   ]
  },
  {
   "cell_type": "code",
   "execution_count": 26,
   "id": "ccd3196d",
   "metadata": {
    "slideshow": {
     "slide_type": "subslide"
    },
    "tags": [
     "remove-output"
    ]
   },
   "outputs": [
    {
     "name": "stdout",
     "output_type": "stream",
     "text": [
      "    4        3        2\n",
      "65 s  + 490 s  + 528 s  + 400 s + 128\n",
      "-------------------------------------\n",
      "               2\n",
      "         s (5 s  + 30 s + 16)\n"
     ]
    },
    {
     "name": "stdout",
     "output_type": "stream",
     "text": [
      "\n"
     ]
    }
   ],
   "source": [
    "pretty(z10)"
   ]
  },
  {
   "cell_type": "code",
   "execution_count": 27,
   "id": "8918c0af",
   "metadata": {
    "slideshow": {
     "slide_type": "subslide"
    },
    "tags": [
     "remove-output"
    ]
   },
   "outputs": [
    {
     "name": "stdout",
     "output_type": "stream",
     "text": [
      "               2\n",
      "         s (5 s  + 30 s + 16)\n",
      "-------------------------------------\n",
      "    4        3        2\n",
      "65 s  + 490 s  + 528 s  + 400 s + 128\n"
     ]
    },
    {
     "name": "stdout",
     "output_type": "stream",
     "text": [
      "\n"
     ]
    }
   ],
   "source": [
    "y10 = 1/z10;\n",
    "pretty(y10)"
   ]
  }
 ],
 "metadata": {
  "jupytext": {
   "formats": "ipynb,md:myst",
   "text_representation": {
    "extension": ".md",
    "format_name": "myst",
    "format_version": 0.13,
    "jupytext_version": "1.16.7"
   }
  },
  "kernelspec": {
   "display_name": "MATLAB Kernel",
   "language": "matlab",
   "name": "jupyter_matlab_kernel"
  },
  "language_info": {
   "file_extension": ".m",
   "mimetype": "text/x-matlab",
   "name": "matlab"
  },
  "source_map": [
   15,
   20,
   24,
   30,
   44,
   48,
   59,
   65,
   70,
   84,
   92,
   100,
   104,
   112,
   118,
   122,
   132,
   136,
   152,
   163,
   177,
   185,
   193,
   197,
   206,
   212,
   216,
   226,
   230,
   244,
   258,
   272,
   280,
   288,
   292,
   301,
   307,
   311,
   321,
   325,
   340,
   353,
   359,
   372,
   379,
   393,
   397,
   408,
   416,
   422,
   428,
   438,
   442,
   455,
   462,
   478,
   482,
   493,
   499,
   503,
   509,
   519,
   523,
   530,
   539,
   549,
   566,
   580,
   588,
   594,
   601,
   605,
   614,
   621,
   629,
   637,
   643,
   655,
   667,
   671,
   679,
   683,
   691,
   695,
   704,
   708,
   717,
   721,
   730,
   734,
   743,
   749,
   756,
   762,
   770,
   774,
   783,
   787,
   795,
   799,
   807,
   813,
   827,
   831,
   840,
   849,
   857,
   883,
   887,
   893,
   913,
   923,
   928,
   941,
   950,
   959,
   966,
   970,
   978,
   1001,
   1007,
   1016,
   1030,
   1045,
   1059
  ]
 },
 "nbformat": 4,
 "nbformat_minor": 5
}