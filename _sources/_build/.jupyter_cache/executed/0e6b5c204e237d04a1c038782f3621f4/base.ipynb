{
 "cells": [
  {
   "cell_type": "code",
   "execution_count": 1,
   "id": "30a44180",
   "metadata": {
    "slideshow": {
     "slide_type": "notes"
    }
   },
   "outputs": [],
   "source": [
    "cd '/Users/eechris/code/src/github.com/cpjobling/eg-150-textbook/lti_systems/matlab'"
   ]
  },
  {
   "cell_type": "code",
   "execution_count": 2,
   "id": "bf85179a",
   "metadata": {
    "slideshow": {
     "slide_type": "fragment"
    }
   },
   "outputs": [],
   "source": [
    "open examples8"
   ]
  }
 ],
 "metadata": {
  "jupytext": {
   "formats": "ipynb,md:myst",
   "text_representation": {
    "extension": ".md",
    "format_name": "myst",
    "format_version": 0.13,
    "jupytext_version": "1.16.7"
   }
  },
  "kernelspec": {
   "display_name": "MATLAB Kernel",
   "language": "matlab",
   "name": "jupyter_matlab_kernel"
  },
  "language_info": {
   "file_extension": ".m",
   "mimetype": "text/x-matlab",
   "name": "matlab"
  },
  "source_map": [
   15,
   22,
   28,
   37,
   48,
   60,
   64,
   70,
   76,
   85,
   89,
   97,
   103,
   107,
   119,
   130,
   138,
   148,
   152,
   163,
   167,
   177,
   181,
   188,
   199,
   203,
   209,
   214,
   227,
   231,
   235,
   243,
   251,
   258,
   271,
   275,
   281,
   287,
   304,
   360,
   376,
   387,
   391,
   398,
   402,
   409,
   413,
   426,
   430,
   442,
   446,
   487,
   497
  ]
 },
 "nbformat": 4,
 "nbformat_minor": 5
}