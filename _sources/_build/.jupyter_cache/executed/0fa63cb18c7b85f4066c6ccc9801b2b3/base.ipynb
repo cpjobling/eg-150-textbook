{
 "cells": [
  {
   "cell_type": "code",
   "execution_count": 1,
   "id": "283015ac",
   "metadata": {
    "slideshow": {
     "slide_type": "notes"
    }
   },
   "outputs": [
    {
     "name": "stdout",
     "output_type": "stream",
     "text": [
      "Starting MATLAB ...\n"
     ]
    },
    {
     "name": "stderr",
     "output_type": "stream",
     "text": [
      "Error connecting to MATLAB. Check the status of MATLAB by clicking the \"Open MATLAB\" button. Retry after ensuring MATLAB is running successfully"
     ]
    }
   ],
   "source": [
    "format compact\n",
    "clear variables"
   ]
  },
  {
   "cell_type": "code",
   "execution_count": 2,
   "id": "983db8e0",
   "metadata": {
    "slideshow": {
     "slide_type": "subslide"
    }
   },
   "outputs": [
    {
     "name": "stderr",
     "output_type": "stream",
     "text": [
      "Error connecting to MATLAB. Check the status of MATLAB by clicking the \"Open MATLAB\" button. Retry after ensuring MATLAB is running successfully"
     ]
    }
   ],
   "source": [
    "sigma = 0.1;\n",
    "% Doubling time\n",
    "T = log(2)/sigma"
   ]
  },
  {
   "cell_type": "code",
   "execution_count": 3,
   "id": "101c6d46",
   "metadata": {
    "slideshow": {
     "slide_type": "subslide"
    }
   },
   "outputs": [
    {
     "name": "stderr",
     "output_type": "stream",
     "text": [
      "Error connecting to MATLAB. Check the status of MATLAB by clicking the \"Open MATLAB\" button. Retry after ensuring MATLAB is running successfully"
     ]
    }
   ],
   "source": [
    "% Plot\n",
    "t = linspace(0,15,100);\n",
    "plot(t,10*exp(sigma*t)),ylim([0,50]),grid\n",
    "\n",
    "% Plot and label lines: first doubling\n",
    "line([T,T],[0,20],'Color','r','LineStyle','--')\n",
    "line([0,T],[20,20],'Color','r','LineStyle','--')\n",
    "hold on\n",
    "plot(T,20,'o')\n",
    "text(3,22,'First doubling')\n",
    "% Plot and label lines: second doubling\n",
    "plot(2*T,40,'o')\n",
    "line([2*T,2*T],[0,40],'Color','g','LineStyle','--')\n",
    "line([0,2*T],[40,40],'Color','g','LineStyle','--')\n",
    "text(10,42,'Second doubling')\n",
    "% Label graph\n",
    "title('Exponential growth'),\n",
    "ylabel('f(t) = 10*exp(-0.1*t)'),xlabel('Time t [s]')\n",
    "hold off"
   ]
  },
  {
   "cell_type": "code",
   "execution_count": 4,
   "id": "1c206ef1",
   "metadata": {
    "slideshow": {
     "slide_type": "fragment"
    }
   },
   "outputs": [
    {
     "name": "stderr",
     "output_type": "stream",
     "text": [
      "Error connecting to MATLAB. Check the status of MATLAB by clicking the \"Open MATLAB\" button. Retry after ensuring MATLAB is running successfully"
     ]
    }
   ],
   "source": [
    "t = linspace(0,50,100);\n",
    "R = 1e6; C = 10e-6;\n",
    "sigma = -1/(R*C);\n",
    "% Time constant and initial current\n",
    "tau = 1/abs(sigma); i0 = 1/(R*C);\n",
    "% Plot\n",
    "plot(t,i0*exp(sigma*t)),grid\n",
    "% Plot and label lines: time constant\n",
    "line([tau,tau],[0,i0*exp(-1)],'Color','r','LineStyle','--')\n",
    "line([0,tau],[i0*exp(-1),i0*exp(-1)],'Color','r','LineStyle','--')\n",
    "text(tau+1,i0*exp(-1),'Time constant: 37% of i0 in 10 seconds')\n",
    "hold on\n",
    "plot(tau,i0*exp(-1),'o')\n",
    "% Plot and label lines: 1% point\n",
    "line([4.6*tau,4.6*tau],[0,0.01*i0],'Color','g','LineStyle','--')\n",
    "line([0,4.6*tau],[0.01*i0,0.01*i0],'Color','g','LineStyle','--')\n",
    "plot(4.6*tau,0.01*i0,'o')\n",
    "text(32,0.01*i0+0.005,'1% of initial current in 46 seconds')\n",
    "% Label graph\n",
    "title('Exponential decay of current in an RC circuit'),\n",
    "ylabel('Current i(t) [A]'),xlabel('Time t [s]')\n",
    "hold off"
   ]
  },
  {
   "cell_type": "code",
   "execution_count": 5,
   "id": "81e1a32d",
   "metadata": {
    "slideshow": {
     "slide_type": "subslide"
    }
   },
   "outputs": [
    {
     "name": "stderr",
     "output_type": "stream",
     "text": [
      "Error connecting to MATLAB. Check the status of MATLAB by clicking the \"Open MATLAB\" button. Retry after ensuring MATLAB is running successfully"
     ]
    }
   ],
   "source": [
    "syms s t zeta omega_n K Y(s) y(t)\n",
    "assume(t > 0)\n",
    "Y(s) = K/(s^2 + 2*zeta*omega_n*s + omega_n^2)"
   ]
  },
  {
   "cell_type": "code",
   "execution_count": 6,
   "id": "7d080c95",
   "metadata": {
    "slideshow": {
     "slide_type": "fragment"
    }
   },
   "outputs": [
    {
     "name": "stderr",
     "output_type": "stream",
     "text": [
      "Error connecting to MATLAB. Check the status of MATLAB by clicking the \"Open MATLAB\" button. Retry after ensuring MATLAB is running successfully"
     ]
    }
   ],
   "source": [
    "y(t) = ilaplace(Y) % The impulse response in the time domain"
   ]
  },
  {
   "cell_type": "code",
   "execution_count": 7,
   "id": "41ca2f9f",
   "metadata": {
    "slideshow": {
     "slide_type": "fragment"
    }
   },
   "outputs": [
    {
     "name": "stderr",
     "output_type": "stream",
     "text": [
      "Error connecting to MATLAB. Check the status of MATLAB by clicking the \"Open MATLAB\" button. Retry after ensuring MATLAB is running successfully"
     ]
    }
   ],
   "source": [
    "syms Y_s(s) y_s(t)\n",
    "zeta = 0.5; omega_n = 10;\n",
    "X(s) = 1/s;\n",
    "H(s) = omega_n^2/(s^2 + 2*zeta*omega_n*s + omega_n^2);\n",
    "Y_s(s) = H(s)*X(s)"
   ]
  },
  {
   "cell_type": "code",
   "execution_count": 8,
   "id": "be5366ab",
   "metadata": {
    "slideshow": {
     "slide_type": "fragment"
    }
   },
   "outputs": [
    {
     "name": "stderr",
     "output_type": "stream",
     "text": [
      "Error connecting to MATLAB. Check the status of MATLAB by clicking the \"Open MATLAB\" button. Retry after ensuring MATLAB is running successfully"
     ]
    }
   ],
   "source": [
    "% step response\n",
    "y_s(t) = ilaplace(Y_s(s))"
   ]
  },
  {
   "cell_type": "code",
   "execution_count": 9,
   "id": "40e7a367",
   "metadata": {
    "slideshow": {
     "slide_type": "fragment"
    }
   },
   "outputs": [
    {
     "name": "stderr",
     "output_type": "stream",
     "text": [
      "Error connecting to MATLAB. Check the status of MATLAB by clicking the \"Open MATLAB\" button. Retry after ensuring MATLAB is running successfully"
     ]
    }
   ],
   "source": [
    "fplot(y_s(t)*heaviside(t),[0,1.2]),ylim([0,1.2]),grid\n",
    "xlabel('Time (seconds)'),ylabel('y_s(t)'),...\n",
    "title('Step Response: Determined analytically')"
   ]
  },
  {
   "cell_type": "code",
   "execution_count": 10,
   "id": "ff09443b",
   "metadata": {
    "slideshow": {
     "slide_type": "fragment"
    }
   },
   "outputs": [
    {
     "name": "stderr",
     "output_type": "stream",
     "text": [
      "Error connecting to MATLAB. Check the status of MATLAB by clicking the \"Open MATLAB\" button. Retry after ensuring MATLAB is running successfully"
     ]
    }
   ],
   "source": [
    "sigma = zeta*omega_n;\n",
    "omega = omega_n*sqrt(1 - zeta^2);\n",
    "% Compute response using the formula\n",
    "t = linspace(0,1.2,100);\n",
    "yst = (1 - exp(-sigma*t).*(cos(omega*t)+(sigma/omega)*sin(omega*t)));"
   ]
  },
  {
   "cell_type": "code",
   "execution_count": 11,
   "id": "35e2f37f",
   "metadata": {
    "slideshow": {
     "slide_type": "fragment"
    }
   },
   "outputs": [
    {
     "name": "stderr",
     "output_type": "stream",
     "text": [
      "Error connecting to MATLAB. Check the status of MATLAB by clicking the \"Open MATLAB\" button. Retry after ensuring MATLAB is running successfully"
     ]
    }
   ],
   "source": [
    "plot(t,yst),grid,...\n",
    "xlabel('Time (seconds)'),ylabel('y_s(t)'),...\n",
    "title('Step Response: Computed with formula')"
   ]
  },
  {
   "cell_type": "code",
   "execution_count": 12,
   "id": "b474f581",
   "metadata": {
    "slideshow": {
     "slide_type": "fragment"
    }
   },
   "outputs": [
    {
     "name": "stderr",
     "output_type": "stream",
     "text": [
      "Error connecting to MATLAB. Check the status of MATLAB by clicking the \"Open MATLAB\" button. Retry after ensuring MATLAB is running successfully"
     ]
    }
   ],
   "source": [
    "num = omega_n^2; den = [1 2*zeta*omega_n,omega_n^2];\n",
    "Hs = tf(num,den)"
   ]
  },
  {
   "cell_type": "code",
   "execution_count": 13,
   "id": "79022a25",
   "metadata": {
    "slideshow": {
     "slide_type": "subslide"
    }
   },
   "outputs": [
    {
     "name": "stderr",
     "output_type": "stream",
     "text": [
      "Error connecting to MATLAB. Check the status of MATLAB by clicking the \"Open MATLAB\" button. Retry after ensuring MATLAB is running successfully"
     ]
    }
   ],
   "source": [
    "step(Hs),title('Step Response: Computed with tf function')"
   ]
  },
  {
   "cell_type": "code",
   "execution_count": 14,
   "id": "3670ddca",
   "metadata": {
    "slideshow": {
     "slide_type": "fragment"
    }
   },
   "outputs": [
    {
     "name": "stderr",
     "output_type": "stream",
     "text": [
      "Error connecting to MATLAB. Check the status of MATLAB by clicking the \"Open MATLAB\" button. Retry after ensuring MATLAB is running successfully"
     ]
    }
   ],
   "source": [
    "syms s t\n",
    "zeta = 0.5; omega_n = 10;\n",
    "H = omega_n^2/(s^2 + 2*zeta*omega_n*s + omega_n^2)"
   ]
  },
  {
   "cell_type": "code",
   "execution_count": 15,
   "id": "85961628",
   "metadata": {
    "slideshow": {
     "slide_type": "fragment"
    }
   },
   "outputs": [
    {
     "name": "stderr",
     "output_type": "stream",
     "text": [
      "Error connecting to MATLAB. Check the status of MATLAB by clicking the \"Open MATLAB\" button. Retry after ensuring MATLAB is running successfully"
     ]
    }
   ],
   "source": [
    "[num,den] = numden(H);\n",
    "symbolicPoles = factor(den,'FactorMode','full') % FactorMode needed to reduce quadratic"
   ]
  },
  {
   "cell_type": "code",
   "execution_count": 16,
   "id": "94d17f21",
   "metadata": {
    "slideshow": {
     "slide_type": "fragment"
    }
   },
   "outputs": [
    {
     "name": "stderr",
     "output_type": "stream",
     "text": [
      "Error connecting to MATLAB. Check the status of MATLAB by clicking the \"Open MATLAB\" button. Retry after ensuring MATLAB is running successfully"
     ]
    }
   ],
   "source": [
    "% Convert symbolic polynomials to numeric polynomials\n",
    "n = sym2poly(num); d = sym2poly(den);"
   ]
  },
  {
   "cell_type": "code",
   "execution_count": 17,
   "id": "98efbe26",
   "metadata": {
    "slideshow": {
     "slide_type": "fragment"
    }
   },
   "outputs": [
    {
     "name": "stderr",
     "output_type": "stream",
     "text": [
      "Error connecting to MATLAB. Check the status of MATLAB by clicking the \"Open MATLAB\" button. Retry after ensuring MATLAB is running successfully"
     ]
    }
   ],
   "source": [
    "% Compute the roots\n",
    "den_poles = roots(d)"
   ]
  },
  {
   "cell_type": "code",
   "execution_count": 18,
   "id": "1ef585da",
   "metadata": {
    "slideshow": {
     "slide_type": "fragment"
    }
   },
   "outputs": [
    {
     "name": "stderr",
     "output_type": "stream",
     "text": [
      "Error connecting to MATLAB. Check the status of MATLAB by clicking the \"Open MATLAB\" button. Retry after ensuring MATLAB is running successfully"
     ]
    }
   ],
   "source": [
    "Hs = tf(n,d);"
   ]
  },
  {
   "cell_type": "code",
   "execution_count": 19,
   "id": "ad5458b8",
   "metadata": {
    "slideshow": {
     "slide_type": "fragment"
    }
   },
   "outputs": [
    {
     "name": "stderr",
     "output_type": "stream",
     "text": [
      "Error connecting to MATLAB. Check the status of MATLAB by clicking the \"Open MATLAB\" button. Retry after ensuring MATLAB is running successfully"
     ]
    }
   ],
   "source": [
    "poles = pole(Hs)"
   ]
  },
  {
   "cell_type": "code",
   "execution_count": 20,
   "id": "b5422160",
   "metadata": {
    "slideshow": {
     "slide_type": "fragment"
    }
   },
   "outputs": [
    {
     "name": "stderr",
     "output_type": "stream",
     "text": [
      "Error connecting to MATLAB. Check the status of MATLAB by clicking the \"Open MATLAB\" button. Retry after ensuring MATLAB is running successfully"
     ]
    }
   ],
   "source": [
    "[wn,z] = damp(Hs)"
   ]
  },
  {
   "cell_type": "code",
   "execution_count": 21,
   "id": "f9d4a9ba",
   "metadata": {
    "slideshow": {
     "slide_type": "fragment"
    }
   },
   "outputs": [
    {
     "name": "stderr",
     "output_type": "stream",
     "text": [
      "Error connecting to MATLAB. Check the status of MATLAB by clicking the \"Open MATLAB\" button. Retry after ensuring MATLAB is running successfully"
     ]
    }
   ],
   "source": [
    "[wn,z,p] = damp(Hs)"
   ]
  },
  {
   "cell_type": "code",
   "execution_count": 22,
   "id": "5621941c",
   "metadata": {
    "slideshow": {
     "slide_type": "subslide"
    }
   },
   "outputs": [
    {
     "name": "stderr",
     "output_type": "stream",
     "text": [
      "Error connecting to MATLAB. Check the status of MATLAB by clicking the \"Open MATLAB\" button. Retry after ensuring MATLAB is running successfully"
     ]
    }
   ],
   "source": [
    "step(Hs),line([0,0.1],[0.1,0.1]),line([0,0.25],[0.9,0.9])"
   ]
  },
  {
   "cell_type": "code",
   "execution_count": 23,
   "id": "5a08c26b",
   "metadata": {
    "slideshow": {
     "slide_type": "fragment"
    }
   },
   "outputs": [
    {
     "name": "stderr",
     "output_type": "stream",
     "text": [
      "Error connecting to MATLAB. Check the status of MATLAB by clicking the \"Open MATLAB\" button. Retry after ensuring MATLAB is running successfully"
     ]
    }
   ],
   "source": [
    "Ts = 4/(zeta*omega_n) % seconds"
   ]
  },
  {
   "cell_type": "code",
   "execution_count": 24,
   "id": "595fbe38",
   "metadata": {
    "slideshow": {
     "slide_type": "fragment"
    }
   },
   "outputs": [
    {
     "name": "stderr",
     "output_type": "stream",
     "text": [
      "Error connecting to MATLAB. Check the status of MATLAB by clicking the \"Open MATLAB\" button. Retry after ensuring MATLAB is running successfully"
     ]
    }
   ],
   "source": [
    "step(Hs),line([0,1.2],[1.02,1.02]),line([0,1.2],[0.98,0.98])"
   ]
  },
  {
   "cell_type": "code",
   "execution_count": 25,
   "id": "9e92b05b",
   "metadata": {
    "slideshow": {
     "slide_type": "fragment"
    }
   },
   "outputs": [
    {
     "name": "stderr",
     "output_type": "stream",
     "text": [
      "Error connecting to MATLAB. Check the status of MATLAB by clicking the \"Open MATLAB\" button. Retry after ensuring MATLAB is running successfully"
     ]
    }
   ],
   "source": [
    "POS = exp(-zeta*pi/sqrt(1 - zeta^2))*100 % OS"
   ]
  },
  {
   "cell_type": "code",
   "execution_count": 26,
   "id": "73e33721",
   "metadata": {
    "slideshow": {
     "slide_type": "fragment"
    }
   },
   "outputs": [
    {
     "name": "stderr",
     "output_type": "stream",
     "text": [
      "Error connecting to MATLAB. Check the status of MATLAB by clicking the \"Open MATLAB\" button. Retry after ensuring MATLAB is running successfully"
     ]
    }
   ],
   "source": [
    "OS = 1 + POS/100; % OS \n",
    "step(Hs),line([0,1.2],[OS,OS])"
   ]
  },
  {
   "cell_type": "code",
   "execution_count": 27,
   "id": "b1d59bd8",
   "metadata": {
    "slideshow": {
     "slide_type": "fragment"
    }
   },
   "outputs": [
    {
     "name": "stderr",
     "output_type": "stream",
     "text": [
      "Error connecting to MATLAB. Check the status of MATLAB by clicking the \"Open MATLAB\" button. Retry after ensuring MATLAB is running successfully"
     ]
    }
   ],
   "source": [
    "z = -log(POS/100)/sqrt(pi^2 + log(POS/100)^2)"
   ]
  },
  {
   "cell_type": "code",
   "execution_count": 28,
   "id": "d5f2cf57",
   "metadata": {
    "slideshow": {
     "slide_type": "fragment"
    }
   },
   "outputs": [
    {
     "name": "stderr",
     "output_type": "stream",
     "text": [
      "Error connecting to MATLAB. Check the status of MATLAB by clicking the \"Open MATLAB\" button. Retry after ensuring MATLAB is running successfully"
     ]
    }
   ],
   "source": [
    "Tp = pi/(omega_n*sqrt(1 - zeta^2))"
   ]
  },
  {
   "cell_type": "code",
   "execution_count": 29,
   "id": "f8a3d6e5",
   "metadata": {
    "slideshow": {
     "slide_type": "fragment"
    }
   },
   "outputs": [
    {
     "name": "stderr",
     "output_type": "stream",
     "text": [
      "Error connecting to MATLAB. Check the status of MATLAB by clicking the \"Open MATLAB\" button. Retry after ensuring MATLAB is running successfully"
     ]
    }
   ],
   "source": [
    "step(Hs),line([Tp,Tp],[0,1.16304])"
   ]
  },
  {
   "cell_type": "code",
   "execution_count": 30,
   "id": "48d8048c",
   "metadata": {
    "slideshow": {
     "slide_type": "fragment"
    }
   },
   "outputs": [
    {
     "name": "stderr",
     "output_type": "stream",
     "text": [
      "Error connecting to MATLAB. Check the status of MATLAB by clicking the \"Open MATLAB\" button. Retry after ensuring MATLAB is running successfully"
     ]
    }
   ],
   "source": [
    "stepinfo(Hs)"
   ]
  },
  {
   "cell_type": "code",
   "execution_count": 31,
   "id": "29a589f1",
   "metadata": {},
   "outputs": [
    {
     "name": "stderr",
     "output_type": "stream",
     "text": [
      "Error connecting to MATLAB. Check the status of MATLAB by clicking the \"Open MATLAB\" button. Retry after ensuring MATLAB is running successfully"
     ]
    }
   ],
   "source": [
    "syms t\n",
    "x_1 = -exp(-2*t)\n",
    "x_2 = -0.1*t^2*cos(3*t + 5)\n",
    "x_3 = x_1 + x_2\n",
    "T = 2*pi/3; % Period of sinusoidal term\n",
    "fplot(x_1,[0,3*T])\n",
    "hold on\n",
    "fplot(x_2,[0,3*T])\n",
    "fplot(x_3,[0,3*T])\n",
    "grid, title('Visualization of dominant poles from Exercise 16.1'),ylabel('x(t)')\n",
    "legend('x_1(t)','x_2(t)','x_3(t)')\n",
    "hold off"
   ]
  },
  {
   "cell_type": "code",
   "execution_count": 32,
   "id": "73cc175c",
   "metadata": {
    "slideshow": {
     "slide_type": "notes"
    }
   },
   "outputs": [
    {
     "name": "stderr",
     "output_type": "stream",
     "text": [
      "Error connecting to MATLAB. Check the status of MATLAB by clicking the \"Open MATLAB\" button. Retry after ensuring MATLAB is running successfully"
     ]
    }
   ],
   "source": [
    "z = [-1.5; -3 - 3j; -3 + 3j];\n",
    "p = [0; 1 + j; 1 - j; -1; -2 + 2j; -2 - 2j; -3];\n",
    "% Define a transfer function in zero-pole-gain form\n",
    "Fs = zpk(z,p,1)"
   ]
  },
  {
   "cell_type": "code",
   "execution_count": 33,
   "id": "6e7d0e72",
   "metadata": {
    "slideshow": {
     "slide_type": "notes"
    }
   },
   "outputs": [
    {
     "name": "stderr",
     "output_type": "stream",
     "text": [
      "Error connecting to MATLAB. Check the status of MATLAB by clicking the \"Open MATLAB\" button. Retry after ensuring MATLAB is running successfully"
     ]
    }
   ],
   "source": [
    "tf(Fs)"
   ]
  },
  {
   "cell_type": "code",
   "execution_count": 34,
   "id": "a3516e74",
   "metadata": {
    "slideshow": {
     "slide_type": "notes"
    }
   },
   "outputs": [
    {
     "name": "stderr",
     "output_type": "stream",
     "text": [
      "Error connecting to MATLAB. Check the status of MATLAB by clicking the \"Open MATLAB\" button. Retry after ensuring MATLAB is running successfully"
     ]
    }
   ],
   "source": [
    "pzmap(Fs),xlim([-4,1]),ylim([-4,4]),title('Pole zero map for Example 16.2')"
   ]
  },
  {
   "cell_type": "code",
   "execution_count": 35,
   "id": "5453e7e5",
   "metadata": {},
   "outputs": [
    {
     "name": "stderr",
     "output_type": "stream",
     "text": [
      "Error connecting to MATLAB. Check the status of MATLAB by clicking the \"Open MATLAB\" button. Retry after ensuring MATLAB is running successfully"
     ]
    }
   ],
   "source": [
    "damp(Fs)"
   ]
  },
  {
   "cell_type": "code",
   "execution_count": 36,
   "id": "a5b058d7",
   "metadata": {
    "slideshow": {
     "slide_type": "notes"
    }
   },
   "outputs": [
    {
     "name": "stderr",
     "output_type": "stream",
     "text": [
      "Error connecting to MATLAB. Check the status of MATLAB by clicking the \"Open MATLAB\" button. Retry after ensuring MATLAB is running successfully"
     ]
    }
   ],
   "source": [
    "step(Fs)"
   ]
  },
  {
   "cell_type": "code",
   "execution_count": 37,
   "id": "c47522db",
   "metadata": {
    "slideshow": {
     "slide_type": "fragment"
    }
   },
   "outputs": [
    {
     "name": "stderr",
     "output_type": "stream",
     "text": [
      "Error connecting to MATLAB. Check the status of MATLAB by clicking the \"Open MATLAB\" button. Retry after ensuring MATLAB is running successfully"
     ]
    }
   ],
   "source": [
    "% Use these symbolic variables\n",
    "syms m c k\n",
    "% Replace the NaNs with your expressions\n",
    "K = NaN\n",
    "omega_n = NaN\n",
    "zeta = NaN"
   ]
  },
  {
   "cell_type": "code",
   "execution_count": 38,
   "id": "82e9d810",
   "metadata": {
    "slideshow": {
     "slide_type": "fragment"
    }
   },
   "outputs": [
    {
     "name": "stderr",
     "output_type": "stream",
     "text": [
      "Error connecting to MATLAB. Check the status of MATLAB by clicking the \"Open MATLAB\" button. Retry after ensuring MATLAB is running successfully"
     ]
    }
   ],
   "source": [
    "% Your solution here"
   ]
  },
  {
   "cell_type": "code",
   "execution_count": 39,
   "id": "9295a0c6",
   "metadata": {
    "slideshow": {
     "slide_type": "subslide"
    }
   },
   "outputs": [
    {
     "name": "stderr",
     "output_type": "stream",
     "text": [
      "Error connecting to MATLAB. Check the status of MATLAB by clicking the \"Open MATLAB\" button. Retry after ensuring MATLAB is running successfully"
     ]
    }
   ],
   "source": [
    "k = 1; m = 1; c = 1;\n",
    "Gs = tf(1/m, [1 c/m k/m])"
   ]
  },
  {
   "cell_type": "code",
   "execution_count": 40,
   "id": "a2a821db",
   "metadata": {
    "slideshow": {
     "slide_type": "subslide"
    }
   },
   "outputs": [
    {
     "name": "stderr",
     "output_type": "stream",
     "text": [
      "Error connecting to MATLAB. Check the status of MATLAB by clicking the \"Open MATLAB\" button. Retry after ensuring MATLAB is running successfully"
     ]
    }
   ],
   "source": [
    "step(Gs)"
   ]
  },
  {
   "cell_type": "code",
   "execution_count": 41,
   "id": "4fdcbf54",
   "metadata": {
    "slideshow": {
     "slide_type": "subslide"
    }
   },
   "outputs": [
    {
     "name": "stderr",
     "output_type": "stream",
     "text": [
      "Error connecting to MATLAB. Check the status of MATLAB by clicking the \"Open MATLAB\" button. Retry after ensuring MATLAB is running successfully"
     ]
    }
   ],
   "source": [
    "p = pole(Gs)"
   ]
  },
  {
   "cell_type": "code",
   "execution_count": 42,
   "id": "eeea11ce",
   "metadata": {
    "slideshow": {
     "slide_type": "subslide"
    }
   },
   "outputs": [
    {
     "name": "stderr",
     "output_type": "stream",
     "text": [
      "Error connecting to MATLAB. Check the status of MATLAB by clicking the \"Open MATLAB\" button. Retry after ensuring MATLAB is running successfully"
     ]
    }
   ],
   "source": [
    "[Wn,Z]=damp(Gs)"
   ]
  },
  {
   "cell_type": "code",
   "execution_count": 43,
   "id": "5a50b584",
   "metadata": {
    "slideshow": {
     "slide_type": "subslide"
    }
   },
   "outputs": [
    {
     "name": "stderr",
     "output_type": "stream",
     "text": [
      "Error connecting to MATLAB. Check the status of MATLAB by clicking the \"Open MATLAB\" button. Retry after ensuring MATLAB is running successfully"
     ]
    }
   ],
   "source": [
    "stepinfo(Gs)"
   ]
  }
 ],
 "metadata": {
  "jupytext": {
   "formats": "ipynb,md:myst",
   "text_representation": {
    "extension": ".md",
    "format_name": "myst",
    "format_version": 0.13,
    "jupytext_version": "1.16.7"
   }
  },
  "kernelspec": {
   "display_name": "MATLAB Kernel",
   "language": "matlab",
   "name": "jupyter_matlab_kernel"
  },
  "language_info": {
   "file_extension": ".m",
   "mimetype": "text/x-matlab",
   "name": "matlab"
  },
  "source_map": [
   15,
   21,
   27,
   35,
   41,
   51,
   61,
   71,
   75,
   79,
   83,
   94,
   106,
   112,
   121,
   131,
   157,
   163,
   167,
   177,
   181,
   185,
   191,
   195,
   208,
   226,
   230,
   238,
   242,
   246,
   250,
   254,
   283,
   287,
   295,
   299,
   307,
   312,
   326,
   330,
   338,
   344,
   350,
   354,
   365,
   369,
   373,
   377,
   381,
   385,
   395,
   405,
   413,
   420,
   428,
   440,
   453,
   475,
   482,
   486,
   490,
   502,
   506,
   515,
   521,
   525,
   535,
   539,
   551,
   555,
   565,
   569,
   578,
   586,
   590,
   597,
   605,
   609,
   615,
   621,
   625,
   629,
   639,
   643,
   652,
   658,
   662,
   671,
   680,
   684,
   692,
   700,
   706,
   714,
   718,
   726,
   734,
   742,
   748,
   756,
   766,
   770,
   778,
   786,
   790,
   798,
   804,
   808,
   816,
   825,
   829,
   837,
   845,
   849,
   857,
   865,
   871,
   879,
   883,
   888,
   903,
   907,
   922,
   941,
   947,
   958,
   962,
   970,
   974,
   982,
   986,
   990,
   998,
   1011,
   1017,
   1023,
   1031,
   1044,
   1048,
   1056,
   1060,
   1069,
   1077,
   1085,
   1093,
   1101,
   1105,
   1145,
   1152
  ]
 },
 "nbformat": 4,
 "nbformat_minor": 5
}