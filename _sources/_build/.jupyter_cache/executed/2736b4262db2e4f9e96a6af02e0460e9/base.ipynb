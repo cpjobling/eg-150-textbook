{
 "cells": [],
 "metadata": {
  "jupytext": {
   "formats": "md:myst,ipynb",
   "text_representation": {
    "extension": ".md",
    "format_name": "myst",
    "format_version": 0.13,
    "jupytext_version": "1.16.7"
   }
  },
  "kernelspec": {
   "display_name": "MKernel",
   "language": "matlab",
   "name": "mkernel"
  },
  "language_info": {
   "file_extension": ".m",
   "mimetype": "text/x-matlab",
   "name": "matlab"
  },
  "source_map": [
   15,
   22,
   28,
   38,
   43,
   51,
   58,
   64,
   70,
   76,
   85,
   97,
   107,
   113,
   117,
   129,
   137,
   143,
   149,
   156,
   162,
   172,
   195,
   208,
   221,
   225,
   238,
   242,
   255,
   259,
   272,
   276,
   289,
   293,
   302,
   323,
   337
  ]
 },
 "nbformat": 4,
 "nbformat_minor": 5
}