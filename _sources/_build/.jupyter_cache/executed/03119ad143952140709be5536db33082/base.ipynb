{
 "cells": [
  {
   "cell_type": "code",
   "execution_count": 1,
   "id": "8623353e",
   "metadata": {
    "slideshow": {
     "slide_type": "fragment"
    }
   },
   "outputs": [
    {
     "data": {
      "text/latex": [
       "$ans =-\\frac{{\\mathrm{e}}^{-a\\,t} \\,{\\left(a\\,t+1\\right)}}{a^2 }$"
      ]
     },
     "execution_count": 1,
     "metadata": {},
     "output_type": "execute_result"
    }
   ],
   "source": [
    "syms t a\n",
    "int(t * exp(-a*t))"
   ]
  },
  {
   "cell_type": "code",
   "execution_count": 2,
   "id": "ef6d65dc",
   "metadata": {
    "slideshow": {
     "slide_type": "fragment"
    }
   },
   "outputs": [],
   "source": [
    "format compact\n",
    "syms s t a omega\n",
    "assume(a>0)\n",
    "assume(omega>0)\n",
    "u0(t) = heaviside(t);"
   ]
  },
  {
   "cell_type": "code",
   "execution_count": 3,
   "id": "37ecf302",
   "metadata": {
    "slideshow": {
     "slide_type": "fragment"
    }
   },
   "outputs": [
    {
     "data": {
      "text/latex": [
       "$ans =1$"
      ]
     },
     "execution_count": 3,
     "metadata": {},
     "output_type": "execute_result"
    }
   ],
   "source": [
    "laplace(dirac(t))"
   ]
  },
  {
   "cell_type": "code",
   "execution_count": 4,
   "id": "75b0ed60",
   "metadata": {
    "slideshow": {
     "slide_type": "fragment"
    }
   },
   "outputs": [
    {
     "data": {
      "text/latex": [
       "$ans ={\\mathrm{e}}^{-a\\,s}$"
      ]
     },
     "execution_count": 4,
     "metadata": {},
     "output_type": "execute_result"
    }
   ],
   "source": [
    "laplace(dirac(t-a))"
   ]
  },
  {
   "cell_type": "code",
   "execution_count": 5,
   "id": "e43b9df6",
   "metadata": {
    "slideshow": {
     "slide_type": "fragment"
    }
   },
   "outputs": [
    {
     "data": {
      "text/latex": [
       "$ans =\\frac{1}{s}$"
      ]
     },
     "execution_count": 5,
     "metadata": {},
     "output_type": "execute_result"
    }
   ],
   "source": [
    "laplace(u0(t))"
   ]
  },
  {
   "cell_type": "code",
   "execution_count": 6,
   "id": "2e2c918d",
   "metadata": {
    "slideshow": {
     "slide_type": "fragment"
    }
   },
   "outputs": [
    {
     "data": {
      "text/latex": [
       "$ans =0$"
      ]
     },
     "execution_count": 6,
     "metadata": {},
     "output_type": "execute_result"
    }
   ],
   "source": [
    "laplace(-u0(-t))"
   ]
  },
  {
   "cell_type": "code",
   "execution_count": 7,
   "id": "a6817342",
   "metadata": {
    "slideshow": {
     "slide_type": "fragment"
    }
   },
   "outputs": [
    {
     "data": {
      "text/latex": [
       "$ans =\\frac{1}{s}$"
      ]
     },
     "execution_count": 7,
     "metadata": {},
     "output_type": "execute_result"
    }
   ],
   "source": [
    "assume(real(s) < 0)\n",
    "int(-u0(-t)*exp(-s*t),t,-inf,0)"
   ]
  },
  {
   "cell_type": "code",
   "execution_count": 8,
   "id": "1f43d621",
   "metadata": {
    "slideshow": {
     "slide_type": "fragment"
    }
   },
   "outputs": [
    {
     "data": {
      "text/latex": [
       "$ans =\\frac{1}{s^2 }$"
      ]
     },
     "execution_count": 8,
     "metadata": {},
     "output_type": "execute_result"
    }
   ],
   "source": [
    "laplace(t*u0(t))"
   ]
  },
  {
   "cell_type": "code",
   "execution_count": 9,
   "id": "15273c89",
   "metadata": {
    "slideshow": {
     "slide_type": "fragment"
    }
   },
   "outputs": [
    {
     "data": {
      "text/latex": [
       "$ans =\\frac{{\\Gamma }\\left(n+1\\right)}{s^{n+1} }$"
      ]
     },
     "execution_count": 9,
     "metadata": {},
     "output_type": "execute_result"
    }
   ],
   "source": [
    "syms n integer\n",
    "assume(n > 1)\n",
    "laplace(t^n*u0(t))"
   ]
  },
  {
   "cell_type": "code",
   "execution_count": 10,
   "id": "0f6fed8e",
   "metadata": {
    "slideshow": {
     "slide_type": "notes"
    }
   },
   "outputs": [
    {
     "name": "stdout",
     "output_type": "stream",
     "text": [
      " sym/gamma - Gamma function\n",
      "    This MATLAB function returns the gamma function of a symbolic variable\n",
      "    or symbolic expression X.\n",
      "\n",
      "    Syntax\n",
      "      gamma(X)\n",
      "\n",
      "    Input Arguments\n",
      "      X - Input\n",
      "        symbolic number | symbolic variable | symbolic expression |\n",
      "        symbolic function | symbolic vector | symbolic matrix\n",
      "\n",
      "    Examples\n",
      "      openExample('symbolic/GammaPlotTheGammaFunctionvExample')\n",
      "\n",
      "    See also beta, factorial, igamma, gammaln, nchoosek, pochhammer, psi\n",
      "\n",
      "    Introduced in Symbolic Math Toolbox before R2006a\n",
      "    Documentation for sym/gamma\n",
      "       doc sym/gamma\n",
      "\n",
      "\n"
     ]
    }
   ],
   "source": [
    "help sym/gamma"
   ]
  },
  {
   "cell_type": "code",
   "execution_count": 11,
   "id": "cc6d50e3",
   "metadata": {
    "slideshow": {
     "slide_type": "fragment"
    }
   },
   "outputs": [
    {
     "data": {
      "text/latex": [
       "$ans =\\frac{1}{a+s}$"
      ]
     },
     "execution_count": 11,
     "metadata": {},
     "output_type": "execute_result"
    }
   ],
   "source": [
    "laplace(exp(-a*t)*u0(t))"
   ]
  },
  {
   "cell_type": "code",
   "execution_count": 12,
   "id": "29a47c34",
   "metadata": {
    "slideshow": {
     "slide_type": "fragment"
    }
   },
   "outputs": [
    {
     "data": {
      "text/latex": [
       "$ans =0$"
      ]
     },
     "execution_count": 12,
     "metadata": {},
     "output_type": "execute_result"
    }
   ],
   "source": [
    "laplace(-exp(-a*t)*u0(-t))"
   ]
  },
  {
   "cell_type": "code",
   "execution_count": 13,
   "id": "c394f8de",
   "metadata": {
    "slideshow": {
     "slide_type": "fragment"
    }
   },
   "outputs": [
    {
     "data": {
      "text/latex": [
       "$ans =\\frac{1}{a+s}$"
      ]
     },
     "execution_count": 13,
     "metadata": {},
     "output_type": "execute_result"
    }
   ],
   "source": [
    "assume(s + a < 0)\n",
    "int(-exp(-a*t)*u0(-t)*exp(-s*t),t,-inf,0)"
   ]
  },
  {
   "cell_type": "code",
   "execution_count": 14,
   "id": "03c3bc88",
   "metadata": {
    "slideshow": {
     "slide_type": "fragment"
    }
   },
   "outputs": [
    {
     "data": {
      "text/latex": [
       "$ans =\\frac{1}{{{\\left(a+s\\right)}}^2 }$"
      ]
     },
     "execution_count": 14,
     "metadata": {},
     "output_type": "execute_result"
    }
   ],
   "source": [
    "laplace(t*exp(-a*t)*u0(t))"
   ]
  },
  {
   "cell_type": "code",
   "execution_count": 15,
   "id": "e38193dc",
   "metadata": {
    "slideshow": {
     "slide_type": "fragment"
    }
   },
   "outputs": [
    {
     "data": {
      "text/latex": [
       "$ans =\\left\\lbrace \\begin{array}{cl}\n",
       "\\frac{{\\Gamma }\\left(n+1\\right)}{{{\\left(a+s\\right)}}^{n+1} } & \\;\\textrm{if}\\;\\;0\\le n\n",
       "\\end{array}\\right.$"
      ]
     },
     "execution_count": 15,
     "metadata": {},
     "output_type": "execute_result"
    }
   ],
   "source": [
    "syms n integer\n",
    "laplace(t^n*exp(-a*t)*u0(t))"
   ]
  },
  {
   "cell_type": "code",
   "execution_count": 16,
   "id": "281c8ec8",
   "metadata": {
    "slideshow": {
     "slide_type": "fragment"
    }
   },
   "outputs": [
    {
     "data": {
      "text/latex": [
       "$ans =\\frac{s}{\\omega^2 +s^2 }$"
      ]
     },
     "execution_count": 16,
     "metadata": {},
     "output_type": "execute_result"
    }
   ],
   "source": [
    "laplace(cos(omega*t)*u0(t))"
   ]
  },
  {
   "cell_type": "code",
   "execution_count": 17,
   "id": "2d1db9cf",
   "metadata": {
    "slideshow": {
     "slide_type": "fragment"
    }
   },
   "outputs": [
    {
     "data": {
      "text/latex": [
       "$ans =\\frac{\\omega }{\\omega^2 +s^2 }$"
      ]
     },
     "execution_count": 17,
     "metadata": {},
     "output_type": "execute_result"
    }
   ],
   "source": [
    "laplace(sin(omega*t)*u0(t))"
   ]
  },
  {
   "cell_type": "code",
   "execution_count": 18,
   "id": "c2a26663",
   "metadata": {
    "slideshow": {
     "slide_type": "fragment"
    }
   },
   "outputs": [
    {
     "data": {
      "text/latex": [
       "$ans =\\frac{a+s}{{{\\left(a+s\\right)}}^2 +\\omega^2 }$"
      ]
     },
     "execution_count": 18,
     "metadata": {},
     "output_type": "execute_result"
    }
   ],
   "source": [
    "laplace(exp(-a*t)*cos(omega*t)*u0(t))"
   ]
  },
  {
   "cell_type": "code",
   "execution_count": 19,
   "id": "371d8552",
   "metadata": {
    "slideshow": {
     "slide_type": "fragment"
    }
   },
   "outputs": [
    {
     "data": {
      "text/latex": [
       "$ans =\\frac{\\omega }{{{\\left(a+s\\right)}}^2 +\\omega^2 }$"
      ]
     },
     "execution_count": 19,
     "metadata": {},
     "output_type": "execute_result"
    }
   ],
   "source": [
    "laplace(exp(-a*t)*sin(omega*t)*u0(t))"
   ]
  }
 ],
 "metadata": {
  "jupytext": {
   "formats": "md:myst,ipynb",
   "text_representation": {
    "extension": ".md",
    "format_name": "myst",
    "format_version": 0.13,
    "jupytext_version": "1.16.7"
   }
  },
  "kernelspec": {
   "display_name": "MATLAB Kernel",
   "language": "matlab",
   "name": "jupyter_matlab_kernel"
  },
  "language_info": {
   "file_extension": ".m",
   "mimetype": "text/x-matlab",
   "name": "matlab"
  },
  "source_map": [
   15,
   22,
   28,
   47,
   52,
   56,
   60,
   64,
   72,
   77,
   81,
   87,
   95,
   100,
   105,
   109,
   117,
   122,
   128,
   136,
   142,
   146,
   152,
   156,
   165,
   171,
   175,
   183,
   201,
   223,
   227,
   233,
   240,
   252,
   256,
   264,
   268,
   276,
   280,
   288,
   292,
   300,
   309,
   313,
   321,
   327,
   337,
   341,
   349,
   353,
   357,
   361,
   369,
   373,
   381,
   385,
   394,
   398,
   404,
   408,
   417,
   421,
   425,
   433,
   437,
   445,
   449,
   453,
   459,
   463,
   471,
   480,
   510
  ]
 },
 "nbformat": 4,
 "nbformat_minor": 5
}