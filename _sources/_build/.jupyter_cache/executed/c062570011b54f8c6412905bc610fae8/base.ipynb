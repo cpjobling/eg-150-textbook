{
 "cells": [
  {
   "cell_type": "code",
   "execution_count": 1,
   "id": "2de1af26",
   "metadata": {},
   "outputs": [],
   "source": [
    "import math\n",
    "import os\n",
    "import sys\n",
    "\n",
    "\n",
    "def test_is_python_35():\n",
    "    major = sys.version_info.major\n",
    "    minor = sys.version_info.minor\n",
    "    if major == 3:\n",
    "        pass \n",
    "    else:\n",
    "        print(\"You are running Python {}, but we need Python {}.\".format(major, 3))\n",
    "        print(\"Download and install the Anaconda distribution for Python 3.\")\n",
    "        print(\"Stopping here.\")\n",
    "\n",
    "        # Let's stop here\n",
    "        sys.exit(1)\n",
    "        return None\n",
    "        # assert major == 3, \"Stopping here - we need Python 3.\"\n",
    "\n",
    "    if minor >= 5:\n",
    "        print(\"Testing Python version-> py{}.{} OK\".format(major, minor))\n",
    "    else:\n",
    "        print(\"Warning: You should be running Python 3.5 or newer, \" +\n",
    "              \"you have Python {}.{}.\".format(major, minor))\n",
    "        \n",
    "        \n",
    "def test_numpy():\n",
    "    try:\n",
    "        import numpy as np\n",
    "    except ImportError:\n",
    "        print(\"Could not import numpy -> numpy failed\")\n",
    "        return None\n",
    "    # Simple test\n",
    "    a = np.arange(0, 100, 1)\n",
    "    assert np.sum(a) == sum(a)\n",
    "    print(\"Testing numpy...      -> numpy OK\")\n",
    "\n",
    "\n",
    "def test_scipy():\n",
    "    try:\n",
    "        import scipy\n",
    "    except ImportError:\n",
    "        print(\"Could not import 'scipy' -> scipy failed\")\n",
    "        return None\n",
    "    # Simple test\n",
    "    import scipy.integrate\n",
    "    assert abs(scipy.integrate.quad(lambda x: x * x, 0, 6)[0] - 72.0) < 1e-6\n",
    "    print(\"Testing scipy ...     -> scipy OK\")\n",
    "\n",
    "\n",
    "def test_pylab():\n",
    "    \"\"\"Actually testing matplotlib, as pylab is part of matplotlib.\"\"\"\n",
    "    try:\n",
    "        import pylab\n",
    "    except ImportError:\n",
    "            print(\"Could not import 'matplotlib/pylab' -> failed\")\n",
    "            return None\n",
    "    # Creata plot for testing purposes\n",
    "    xvalues = [i * 0.1 for i in range(100)]\n",
    "    yvalues = [math.sin(x) for x in xvalues]\n",
    "    pylab.plot(xvalues, yvalues, \"-o\", label=\"sin(x)\")\n",
    "    pylab.legend()\n",
    "    pylab.xlabel('x')\n",
    "    testfilename='pylab-testfigure.png'\n",
    "\n",
    "    # check that file does not exist yet:\n",
    "    if os.path.exists(testfilename):\n",
    "        print(\"Skipping plotting to file as file {} exists already.\"\\\n",
    "            .format(testfilename))\n",
    "    else:\n",
    "        # Write plot to file\n",
    "        pylab.savefig(testfilename)\n",
    "        # Then check that file exists\n",
    "        assert os.path.exists(testfilename)\n",
    "        print(\"Testing matplotlib... -> pylab OK\")\n",
    "        os.remove(testfilename)\n",
    "\n",
    "\n",
    "def test_sympy():\n",
    "    try:\n",
    "        import sympy\n",
    "    except ImportError:\n",
    "            print(\"Could not import 'sympy' -> fail\")\n",
    "            return None\n",
    "    # simple test\n",
    "    x = sympy.Symbol('x')\n",
    "    my_f = x ** 2\n",
    "    assert sympy.diff(my_f,x) == 2 * x\n",
    "    print(\"Testing sympy         -> sympy OK\")\n",
    "\n",
    "\n",
    "def test_pytest():\n",
    "    try:\n",
    "        import pytest\n",
    "    except ImportError:\n",
    "            print(\"Could not import 'pytest' -> fail\")\n",
    "            return None\n",
    "    print(\"Testing pytest        -> pytest OK\")"
   ]
  },
  {
   "cell_type": "code",
   "execution_count": 2,
   "id": "f27e708a",
   "metadata": {},
   "outputs": [
    {
     "name": "stdout",
     "output_type": "stream",
     "text": [
      "Running using Python 3.12.8 (main, Jan 14 2025, 23:36:58) [Clang 19.1.6 ]\n",
      "Testing Python version-> py3.12 OK\n"
     ]
    },
    {
     "name": "stdout",
     "output_type": "stream",
     "text": [
      "Testing numpy...      -> numpy OK\n"
     ]
    },
    {
     "name": "stdout",
     "output_type": "stream",
     "text": [
      "Testing scipy ...     -> scipy OK\n"
     ]
    },
    {
     "name": "stdout",
     "output_type": "stream",
     "text": [
      "Testing matplotlib... -> pylab OK\n"
     ]
    },
    {
     "name": "stdout",
     "output_type": "stream",
     "text": [
      "Testing sympy         -> sympy OK\n",
      "Testing pytest        -> pytest OK\n"
     ]
    },
    {
     "data": {
      "image/png": "[encoded data removed]",
      "text/plain": [
       "<Figure size 640x480 with 1 Axes>"
      ]
     },
     "metadata": {},
     "output_type": "display_data"
    }
   ],
   "source": [
    "print(\"Running using Python {}\".format(sys.version))\n",
    "test_is_python_35()\n",
    "test_numpy()\n",
    "test_scipy()\n",
    "test_pylab()\n",
    "test_sympy()\n",
    "test_pytest()"
   ]
  },
  {
   "cell_type": "code",
   "execution_count": 3,
   "id": "3908bbeb",
   "metadata": {},
   "outputs": [],
   "source": [
    "matlabroot='/Applications/MATLAB_R2023b.app'"
   ]
  },
  {
   "cell_type": "code",
   "execution_count": 4,
   "id": "aa4b6afc",
   "metadata": {},
   "outputs": [
    {
     "name": "stdout",
     "output_type": "stream",
     "text": [
      "[Errno 2] No such file or directory: '/Applications/MATLAB_R2023b.app/extern/engines/python'\n",
      "/Users/eechris/code/src/github.com/cpjobling/eg-150-textbook/setup\n"
     ]
    }
   ],
   "source": [
    "%cd {matlabroot}/extern/engines/python"
   ]
  },
  {
   "cell_type": "code",
   "execution_count": 5,
   "id": "5f676241",
   "metadata": {},
   "outputs": [
    {
     "name": "stdout",
     "output_type": "stream",
     "text": [
      "[Errno 2] No such file or directory: '/mnt/c/Program Files/MATLAB/R2023a/extern/engines/python'\n",
      "/Users/eechris/code/src/github.com/cpjobling/eg-150-textbook/setup\n"
     ]
    },
    {
     "name": "stderr",
     "output_type": "stream",
     "text": [
      "<>:1: SyntaxWarning: invalid escape sequence '\\ '\n",
      "<>:1: SyntaxWarning: invalid escape sequence '\\ '\n",
      "/var/folders/nr/qcbm4tg56d7_34s40jk00rg80000gn/T/ipykernel_44688/2768956452.py:1: SyntaxWarning: invalid escape sequence '\\ '\n",
      "  matlabroot='/mnt/c/Program\\ Files/MATLAB/R2023a'\n"
     ]
    }
   ],
   "source": [
    "matlabroot='/mnt/c/Program\\ Files/MATLAB/R2023a'\n",
    "%cd {matlabroot}/extern/engines/python"
   ]
  },
  {
   "cell_type": "code",
   "execution_count": 6,
   "id": "4c9d4835",
   "metadata": {},
   "outputs": [
    {
     "name": "stdout",
     "output_type": "stream",
     "text": [
      "[Errno 2] No such file or directory: 'C:Program FilesMATLABR202aexternenginespython'\n",
      "/Users/eechris/code/src/github.com/cpjobling/eg-150-textbook/setup\n"
     ]
    },
    {
     "name": "stderr",
     "output_type": "stream",
     "text": [
      "<>:1: SyntaxWarning: invalid escape sequence '\\P'\n",
      "<>:1: SyntaxWarning: invalid escape sequence '\\P'\n",
      "/var/folders/nr/qcbm4tg56d7_34s40jk00rg80000gn/T/ipykernel_44688/946551368.py:1: SyntaxWarning: invalid escape sequence '\\P'\n",
      "  matlabroot='C:\\Program Files\\MATLAB\\R202a'\n"
     ]
    }
   ],
   "source": [
    "matlabroot='C:\\Program Files\\MATLAB\\R202a'\n",
    "%cd {matlabroot}\\extern\\engines\\python"
   ]
  },
  {
   "cell_type": "code",
   "execution_count": 7,
   "id": "13dd8807",
   "metadata": {},
   "outputs": [
    {
     "name": "stdout",
     "output_type": "stream",
     "text": [
      "Python 3.12.8\r\n"
     ]
    },
    {
     "name": "stdout",
     "output_type": "stream",
     "text": [
      "\u001b[31mERROR: Directory '.' is not installable. Neither 'setup.py' nor 'pyproject.toml' found.\u001b[0m\u001b[31m\r\n",
      "\u001b[0m"
     ]
    }
   ],
   "source": [
    "!python --version\n",
    "#%shell\n",
    "!python -m pip install . "
   ]
  },
  {
   "cell_type": "code",
   "execution_count": 8,
   "id": "f6f01ad5",
   "metadata": {},
   "outputs": [],
   "source": [
    "import matlab.engine\n",
    "eng = matlab.engine.start_matlab()"
   ]
  },
  {
   "cell_type": "code",
   "execution_count": 9,
   "id": "78828062",
   "metadata": {},
   "outputs": [],
   "source": [
    "eng = matlab.engine.connect_matlab()"
   ]
  },
  {
   "cell_type": "code",
   "execution_count": 10,
   "id": "f042b801",
   "metadata": {},
   "outputs": [],
   "source": [
    "m = eng.magic(10);"
   ]
  },
  {
   "cell_type": "code",
   "execution_count": 11,
   "id": "ff2e6c9b",
   "metadata": {},
   "outputs": [
    {
     "name": "stdout",
     "output_type": "stream",
     "text": [
      "[[92.0,99.0,1.0,8.0,15.0,67.0,74.0,51.0,58.0,40.0],[98.0,80.0,7.0,14.0,16.0,73.0,55.0,57.0,64.0,41.0],[4.0,81.0,88.0,20.0,22.0,54.0,56.0,63.0,70.0,47.0],[85.0,87.0,19.0,21.0,3.0,60.0,62.0,69.0,71.0,28.0],[86.0,93.0,25.0,2.0,9.0,61.0,68.0,75.0,52.0,34.0],[17.0,24.0,76.0,83.0,90.0,42.0,49.0,26.0,33.0,65.0],[23.0,5.0,82.0,89.0,91.0,48.0,30.0,32.0,39.0,66.0],[79.0,6.0,13.0,95.0,97.0,29.0,31.0,38.0,45.0,72.0],[10.0,12.0,94.0,96.0,78.0,35.0,37.0,44.0,46.0,53.0],[11.0,18.0,100.0,77.0,84.0,36.0,43.0,50.0,27.0,59.0]]\n"
     ]
    }
   ],
   "source": [
    "print(m)"
   ]
  },
  {
   "cell_type": "code",
   "execution_count": 12,
   "id": "988031b4",
   "metadata": {},
   "outputs": [],
   "source": [
    "eng.quit()"
   ]
  },
  {
   "cell_type": "code",
   "execution_count": 13,
   "id": "fee3f93b",
   "metadata": {},
   "outputs": [
    {
     "name": "stdout",
     "output_type": "stream",
     "text": [
      "\u001b[33mDEPRECATION: Loading egg at /Users/eechris/code/src/github.com/cpjobling/eg-150-textbook/.venv/lib/python3.12/site-packages/matlabengine-24.2-py3.12.egg is deprecated. pip 25.1 will enforce this behaviour change. A possible replacement is to use pip for package installation. Discussion can be found at https://github.com/pypa/pip/issues/12330\u001b[0m\u001b[33m\r\n",
      "\u001b[0mRequirement already satisfied: jupyter-matlab-proxy in /Users/eechris/code/src/github.com/cpjobling/eg-150-textbook/.venv/lib/python3.12/site-packages (0.16.3)\r\n",
      "Requirement already satisfied: aiohttp in /Users/eechris/code/src/github.com/cpjobling/eg-150-textbook/.venv/lib/python3.12/site-packages (from jupyter-matlab-proxy) (3.10.5)\r\n",
      "Requirement already satisfied: ipykernel in /Users/eechris/code/src/github.com/cpjobling/eg-150-textbook/.venv/lib/python3.12/site-packages (from jupyter-matlab-proxy) (6.29.5)\r\n",
      "Requirement already satisfied: jupyter-client in /Users/eechris/code/src/github.com/cpjobling/eg-150-textbook/.venv/lib/python3.12/site-packages (from jupyter-matlab-proxy) (8.6.3)\r\n",
      "Requirement already satisfied: jupyter-server-proxy>=4.1.0 in /Users/eechris/code/src/github.com/cpjobling/eg-150-textbook/.venv/lib/python3.12/site-packages (from jupyter-matlab-proxy) (4.4.0)\r\n",
      "Requirement already satisfied: matlab-proxy>=0.23.3 in /Users/eechris/code/src/github.com/cpjobling/eg-150-textbook/.venv/lib/python3.12/site-packages (from jupyter-matlab-proxy) (0.24.1)\r\n",
      "Requirement already satisfied: psutil in /Users/eechris/code/src/github.com/cpjobling/eg-150-textbook/.venv/lib/python3.12/site-packages (from jupyter-matlab-proxy) (7.0.0)\r\n",
      "Requirement already satisfied: requests in /Users/eechris/code/src/github.com/cpjobling/eg-150-textbook/.venv/lib/python3.12/site-packages (from jupyter-matlab-proxy) (2.32.3)\r\n",
      "Requirement already satisfied: jupyter-server>=1.24.0 in /Users/eechris/code/src/github.com/cpjobling/eg-150-textbook/.venv/lib/python3.12/site-packages (from jupyter-server-proxy>=4.1.0->jupyter-matlab-proxy) (2.15.0)\r\n",
      "Requirement already satisfied: simpervisor>=1.0.0 in /Users/eechris/code/src/github.com/cpjobling/eg-150-textbook/.venv/lib/python3.12/site-packages (from jupyter-server-proxy>=4.1.0->jupyter-matlab-proxy) (1.0.0)\r\n",
      "Requirement already satisfied: tornado>=6.1.0 in /Users/eechris/code/src/github.com/cpjobling/eg-150-textbook/.venv/lib/python3.12/site-packages (from jupyter-server-proxy>=4.1.0->jupyter-matlab-proxy) (6.4.2)\r\n",
      "Requirement already satisfied: traitlets>=5.1.0 in /Users/eechris/code/src/github.com/cpjobling/eg-150-textbook/.venv/lib/python3.12/site-packages (from jupyter-server-proxy>=4.1.0->jupyter-matlab-proxy) (5.14.3)\r\n",
      "Requirement already satisfied: aiohttp-session[secure] in /Users/eechris/code/src/github.com/cpjobling/eg-150-textbook/.venv/lib/python3.12/site-packages (from matlab-proxy>=0.23.3->jupyter-matlab-proxy) (2.12.1)\r\n",
      "Requirement already satisfied: importlib-metadata in /Users/eechris/code/src/github.com/cpjobling/eg-150-textbook/.venv/lib/python3.12/site-packages (from matlab-proxy>=0.23.3->jupyter-matlab-proxy) (8.6.1)\r\n",
      "Requirement already satisfied: importlib-resources in /Users/eechris/code/src/github.com/cpjobling/eg-150-textbook/.venv/lib/python3.12/site-packages (from matlab-proxy>=0.23.3->jupyter-matlab-proxy) (6.5.2)\r\n",
      "Requirement already satisfied: watchdog in /Users/eechris/code/src/github.com/cpjobling/eg-150-textbook/.venv/lib/python3.12/site-packages (from matlab-proxy>=0.23.3->jupyter-matlab-proxy) (6.0.0)\r\n",
      "Requirement already satisfied: aiohappyeyeballs>=2.3.0 in /Users/eechris/code/src/github.com/cpjobling/eg-150-textbook/.venv/lib/python3.12/site-packages (from aiohttp->jupyter-matlab-proxy) (2.4.8)\r\n",
      "Requirement already satisfied: aiosignal>=1.1.2 in /Users/eechris/code/src/github.com/cpjobling/eg-150-textbook/.venv/lib/python3.12/site-packages (from aiohttp->jupyter-matlab-proxy) (1.3.2)\r\n",
      "Requirement already satisfied: attrs>=17.3.0 in /Users/eechris/code/src/github.com/cpjobling/eg-150-textbook/.venv/lib/python3.12/site-packages (from aiohttp->jupyter-matlab-proxy) (25.1.0)\r\n",
      "Requirement already satisfied: frozenlist>=1.1.1 in /Users/eechris/code/src/github.com/cpjobling/eg-150-textbook/.venv/lib/python3.12/site-packages (from aiohttp->jupyter-matlab-proxy) (1.5.0)\r\n",
      "Requirement already satisfied: multidict<7.0,>=4.5 in /Users/eechris/code/src/github.com/cpjobling/eg-150-textbook/.venv/lib/python3.12/site-packages (from aiohttp->jupyter-matlab-proxy) (6.1.0)\r\n",
      "Requirement already satisfied: yarl<2.0,>=1.0 in /Users/eechris/code/src/github.com/cpjobling/eg-150-textbook/.venv/lib/python3.12/site-packages (from aiohttp->jupyter-matlab-proxy) (1.18.3)\r\n",
      "Requirement already satisfied: appnope in /Users/eechris/code/src/github.com/cpjobling/eg-150-textbook/.venv/lib/python3.12/site-packages (from ipykernel->jupyter-matlab-proxy) (0.1.4)\r\n",
      "Requirement already satisfied: comm>=0.1.1 in /Users/eechris/code/src/github.com/cpjobling/eg-150-textbook/.venv/lib/python3.12/site-packages (from ipykernel->jupyter-matlab-proxy) (0.2.2)\r\n",
      "Requirement already satisfied: debugpy>=1.6.5 in /Users/eechris/code/src/github.com/cpjobling/eg-150-textbook/.venv/lib/python3.12/site-packages (from ipykernel->jupyter-matlab-proxy) (1.8.12)\r\n",
      "Requirement already satisfied: ipython>=7.23.1 in /Users/eechris/code/src/github.com/cpjobling/eg-150-textbook/.venv/lib/python3.12/site-packages (from ipykernel->jupyter-matlab-proxy) (9.0.1)\r\n",
      "Requirement already satisfied: jupyter-core!=5.0.*,>=4.12 in /Users/eechris/code/src/github.com/cpjobling/eg-150-textbook/.venv/lib/python3.12/site-packages (from ipykernel->jupyter-matlab-proxy) (5.7.2)\r\n",
      "Requirement already satisfied: matplotlib-inline>=0.1 in /Users/eechris/code/src/github.com/cpjobling/eg-150-textbook/.venv/lib/python3.12/site-packages (from ipykernel->jupyter-matlab-proxy) (0.1.7)\r\n",
      "Requirement already satisfied: nest-asyncio in /Users/eechris/code/src/github.com/cpjobling/eg-150-textbook/.venv/lib/python3.12/site-packages (from ipykernel->jupyter-matlab-proxy) (1.6.0)\r\n",
      "Requirement already satisfied: packaging in /Users/eechris/code/src/github.com/cpjobling/eg-150-textbook/.venv/lib/python3.12/site-packages (from ipykernel->jupyter-matlab-proxy) (24.2)\r\n",
      "Requirement already satisfied: pyzmq>=24 in /Users/eechris/code/src/github.com/cpjobling/eg-150-textbook/.venv/lib/python3.12/site-packages (from ipykernel->jupyter-matlab-proxy) (26.2.1)\r\n",
      "Requirement already satisfied: python-dateutil>=2.8.2 in /Users/eechris/code/src/github.com/cpjobling/eg-150-textbook/.venv/lib/python3.12/site-packages (from jupyter-client->jupyter-matlab-proxy) (2.9.0.post0)\r\n",
      "Requirement already satisfied: charset-normalizer<4,>=2 in /Users/eechris/code/src/github.com/cpjobling/eg-150-textbook/.venv/lib/python3.12/site-packages (from requests->jupyter-matlab-proxy) (3.4.1)\r\n",
      "Requirement already satisfied: idna<4,>=2.5 in /Users/eechris/code/src/github.com/cpjobling/eg-150-textbook/.venv/lib/python3.12/site-packages (from requests->jupyter-matlab-proxy) (3.10)\r\n",
      "Requirement already satisfied: urllib3<3,>=1.21.1 in /Users/eechris/code/src/github.com/cpjobling/eg-150-textbook/.venv/lib/python3.12/site-packages (from requests->jupyter-matlab-proxy) (2.3.0)\r\n",
      "Requirement already satisfied: certifi>=2017.4.17 in /Users/eechris/code/src/github.com/cpjobling/eg-150-textbook/.venv/lib/python3.12/site-packages (from requests->jupyter-matlab-proxy) (2025.1.31)\r\n"
     ]
    },
    {
     "name": "stdout",
     "output_type": "stream",
     "text": [
      "Requirement already satisfied: decorator in /Users/eechris/code/src/github.com/cpjobling/eg-150-textbook/.venv/lib/python3.12/site-packages (from ipython>=7.23.1->ipykernel->jupyter-matlab-proxy) (5.2.1)\r\n",
      "Requirement already satisfied: ipython-pygments-lexers in /Users/eechris/code/src/github.com/cpjobling/eg-150-textbook/.venv/lib/python3.12/site-packages (from ipython>=7.23.1->ipykernel->jupyter-matlab-proxy) (1.1.1)\r\n",
      "Requirement already satisfied: jedi>=0.16 in /Users/eechris/code/src/github.com/cpjobling/eg-150-textbook/.venv/lib/python3.12/site-packages (from ipython>=7.23.1->ipykernel->jupyter-matlab-proxy) (0.19.2)\r\n",
      "Requirement already satisfied: pexpect>4.3 in /Users/eechris/code/src/github.com/cpjobling/eg-150-textbook/.venv/lib/python3.12/site-packages (from ipython>=7.23.1->ipykernel->jupyter-matlab-proxy) (4.9.0)\r\n",
      "Requirement already satisfied: prompt_toolkit<3.1.0,>=3.0.41 in /Users/eechris/code/src/github.com/cpjobling/eg-150-textbook/.venv/lib/python3.12/site-packages (from ipython>=7.23.1->ipykernel->jupyter-matlab-proxy) (3.0.50)\r\n",
      "Requirement already satisfied: pygments>=2.4.0 in /Users/eechris/code/src/github.com/cpjobling/eg-150-textbook/.venv/lib/python3.12/site-packages (from ipython>=7.23.1->ipykernel->jupyter-matlab-proxy) (2.19.1)\r\n",
      "Requirement already satisfied: stack_data in /Users/eechris/code/src/github.com/cpjobling/eg-150-textbook/.venv/lib/python3.12/site-packages (from ipython>=7.23.1->ipykernel->jupyter-matlab-proxy) (0.6.3)\r\n",
      "Requirement already satisfied: platformdirs>=2.5 in /Users/eechris/code/src/github.com/cpjobling/eg-150-textbook/.venv/lib/python3.12/site-packages (from jupyter-core!=5.0.*,>=4.12->ipykernel->jupyter-matlab-proxy) (4.2.2)\r\n",
      "Requirement already satisfied: anyio>=3.1.0 in /Users/eechris/code/src/github.com/cpjobling/eg-150-textbook/.venv/lib/python3.12/site-packages (from jupyter-server>=1.24.0->jupyter-server-proxy>=4.1.0->jupyter-matlab-proxy) (4.8.0)\r\n",
      "Requirement already satisfied: argon2-cffi>=21.1 in /Users/eechris/code/src/github.com/cpjobling/eg-150-textbook/.venv/lib/python3.12/site-packages (from jupyter-server>=1.24.0->jupyter-server-proxy>=4.1.0->jupyter-matlab-proxy) (23.1.0)\r\n",
      "Requirement already satisfied: jinja2>=3.0.3 in /Users/eechris/code/src/github.com/cpjobling/eg-150-textbook/.venv/lib/python3.12/site-packages (from jupyter-server>=1.24.0->jupyter-server-proxy>=4.1.0->jupyter-matlab-proxy) (3.1.5)\r\n",
      "Requirement already satisfied: jupyter-events>=0.11.0 in /Users/eechris/code/src/github.com/cpjobling/eg-150-textbook/.venv/lib/python3.12/site-packages (from jupyter-server>=1.24.0->jupyter-server-proxy>=4.1.0->jupyter-matlab-proxy) (0.12.0)\r\n",
      "Requirement already satisfied: jupyter-server-terminals>=0.4.4 in /Users/eechris/code/src/github.com/cpjobling/eg-150-textbook/.venv/lib/python3.12/site-packages (from jupyter-server>=1.24.0->jupyter-server-proxy>=4.1.0->jupyter-matlab-proxy) (0.5.3)\r\n",
      "Requirement already satisfied: nbconvert>=6.4.4 in /Users/eechris/code/src/github.com/cpjobling/eg-150-textbook/.venv/lib/python3.12/site-packages (from jupyter-server>=1.24.0->jupyter-server-proxy>=4.1.0->jupyter-matlab-proxy) (7.16.6)\r\n",
      "Requirement already satisfied: nbformat>=5.3.0 in /Users/eechris/code/src/github.com/cpjobling/eg-150-textbook/.venv/lib/python3.12/site-packages (from jupyter-server>=1.24.0->jupyter-server-proxy>=4.1.0->jupyter-matlab-proxy) (5.10.4)\r\n",
      "Requirement already satisfied: overrides>=5.0 in /Users/eechris/code/src/github.com/cpjobling/eg-150-textbook/.venv/lib/python3.12/site-packages (from jupyter-server>=1.24.0->jupyter-server-proxy>=4.1.0->jupyter-matlab-proxy) (7.7.0)\r\n",
      "Requirement already satisfied: prometheus-client>=0.9 in /Users/eechris/code/src/github.com/cpjobling/eg-150-textbook/.venv/lib/python3.12/site-packages (from jupyter-server>=1.24.0->jupyter-server-proxy>=4.1.0->jupyter-matlab-proxy) (0.21.1)\r\n",
      "Requirement already satisfied: send2trash>=1.8.2 in /Users/eechris/code/src/github.com/cpjobling/eg-150-textbook/.venv/lib/python3.12/site-packages (from jupyter-server>=1.24.0->jupyter-server-proxy>=4.1.0->jupyter-matlab-proxy) (1.8.3)\r\n",
      "Requirement already satisfied: terminado>=0.8.3 in /Users/eechris/code/src/github.com/cpjobling/eg-150-textbook/.venv/lib/python3.12/site-packages (from jupyter-server>=1.24.0->jupyter-server-proxy>=4.1.0->jupyter-matlab-proxy) (0.18.1)\r\n",
      "Requirement already satisfied: websocket-client>=1.7 in /Users/eechris/code/src/github.com/cpjobling/eg-150-textbook/.venv/lib/python3.12/site-packages (from jupyter-server>=1.24.0->jupyter-server-proxy>=4.1.0->jupyter-matlab-proxy) (1.8.0)\r\n",
      "Requirement already satisfied: six>=1.5 in /Users/eechris/code/src/github.com/cpjobling/eg-150-textbook/.venv/lib/python3.12/site-packages (from python-dateutil>=2.8.2->jupyter-client->jupyter-matlab-proxy) (1.17.0)\r\n",
      "Requirement already satisfied: propcache>=0.2.0 in /Users/eechris/code/src/github.com/cpjobling/eg-150-textbook/.venv/lib/python3.12/site-packages (from yarl<2.0,>=1.0->aiohttp->jupyter-matlab-proxy) (0.3.0)\r\n",
      "Requirement already satisfied: cryptography in /Users/eechris/code/src/github.com/cpjobling/eg-150-textbook/.venv/lib/python3.12/site-packages (from aiohttp-session[secure]->matlab-proxy>=0.23.3->jupyter-matlab-proxy) (44.0.2)\r\n",
      "Requirement already satisfied: zipp>=3.20 in /Users/eechris/code/src/github.com/cpjobling/eg-150-textbook/.venv/lib/python3.12/site-packages (from importlib-metadata->matlab-proxy>=0.23.3->jupyter-matlab-proxy) (3.21.0)\r\n",
      "Requirement already satisfied: sniffio>=1.1 in /Users/eechris/code/src/github.com/cpjobling/eg-150-textbook/.venv/lib/python3.12/site-packages (from anyio>=3.1.0->jupyter-server>=1.24.0->jupyter-server-proxy>=4.1.0->jupyter-matlab-proxy) (1.3.1)\r\n",
      "Requirement already satisfied: typing_extensions>=4.5 in /Users/eechris/code/src/github.com/cpjobling/eg-150-textbook/.venv/lib/python3.12/site-packages (from anyio>=3.1.0->jupyter-server>=1.24.0->jupyter-server-proxy>=4.1.0->jupyter-matlab-proxy) (4.12.2)\r\n",
      "Requirement already satisfied: argon2-cffi-bindings in /Users/eechris/code/src/github.com/cpjobling/eg-150-textbook/.venv/lib/python3.12/site-packages (from argon2-cffi>=21.1->jupyter-server>=1.24.0->jupyter-server-proxy>=4.1.0->jupyter-matlab-proxy) (21.2.0)\r\n",
      "Requirement already satisfied: parso<0.9.0,>=0.8.4 in /Users/eechris/code/src/github.com/cpjobling/eg-150-textbook/.venv/lib/python3.12/site-packages (from jedi>=0.16->ipython>=7.23.1->ipykernel->jupyter-matlab-proxy) (0.8.4)\r\n",
      "Requirement already satisfied: MarkupSafe>=2.0 in /Users/eechris/code/src/github.com/cpjobling/eg-150-textbook/.venv/lib/python3.12/site-packages (from jinja2>=3.0.3->jupyter-server>=1.24.0->jupyter-server-proxy>=4.1.0->jupyter-matlab-proxy) (3.0.2)\r\n",
      "Requirement already satisfied: jsonschema>=4.18.0 in /Users/eechris/code/src/github.com/cpjobling/eg-150-textbook/.venv/lib/python3.12/site-packages (from jsonschema[format-nongpl]>=4.18.0->jupyter-events>=0.11.0->jupyter-server>=1.24.0->jupyter-server-proxy>=4.1.0->jupyter-matlab-proxy) (4.23.0)\r\n",
      "Requirement already satisfied: python-json-logger>=2.0.4 in /Users/eechris/code/src/github.com/cpjobling/eg-150-textbook/.venv/lib/python3.12/site-packages (from jupyter-events>=0.11.0->jupyter-server>=1.24.0->jupyter-server-proxy>=4.1.0->jupyter-matlab-proxy) (3.2.1)\r\n",
      "Requirement already satisfied: pyyaml>=5.3 in /Users/eechris/code/src/github.com/cpjobling/eg-150-textbook/.venv/lib/python3.12/site-packages (from jupyter-events>=0.11.0->jupyter-server>=1.24.0->jupyter-server-proxy>=4.1.0->jupyter-matlab-proxy) (6.0.2)\r\n",
      "Requirement already satisfied: referencing in /Users/eechris/code/src/github.com/cpjobling/eg-150-textbook/.venv/lib/python3.12/site-packages (from jupyter-events>=0.11.0->jupyter-server>=1.24.0->jupyter-server-proxy>=4.1.0->jupyter-matlab-proxy) (0.36.2)\r\n",
      "Requirement already satisfied: rfc3339-validator in /Users/eechris/code/src/github.com/cpjobling/eg-150-textbook/.venv/lib/python3.12/site-packages (from jupyter-events>=0.11.0->jupyter-server>=1.24.0->jupyter-server-proxy>=4.1.0->jupyter-matlab-proxy) (0.1.4)\r\n",
      "Requirement already satisfied: rfc3986-validator>=0.1.1 in /Users/eechris/code/src/github.com/cpjobling/eg-150-textbook/.venv/lib/python3.12/site-packages (from jupyter-events>=0.11.0->jupyter-server>=1.24.0->jupyter-server-proxy>=4.1.0->jupyter-matlab-proxy) (0.1.1)\r\n",
      "Requirement already satisfied: beautifulsoup4 in /Users/eechris/code/src/github.com/cpjobling/eg-150-textbook/.venv/lib/python3.12/site-packages (from nbconvert>=6.4.4->jupyter-server>=1.24.0->jupyter-server-proxy>=4.1.0->jupyter-matlab-proxy) (4.13.3)\r\n",
      "Requirement already satisfied: bleach!=5.0.0 in /Users/eechris/code/src/github.com/cpjobling/eg-150-textbook/.venv/lib/python3.12/site-packages (from bleach[css]!=5.0.0->nbconvert>=6.4.4->jupyter-server>=1.24.0->jupyter-server-proxy>=4.1.0->jupyter-matlab-proxy) (6.2.0)\r\n",
      "Requirement already satisfied: defusedxml in /Users/eechris/code/src/github.com/cpjobling/eg-150-textbook/.venv/lib/python3.12/site-packages (from nbconvert>=6.4.4->jupyter-server>=1.24.0->jupyter-server-proxy>=4.1.0->jupyter-matlab-proxy) (0.7.1)\r\n",
      "Requirement already satisfied: jupyterlab-pygments in /Users/eechris/code/src/github.com/cpjobling/eg-150-textbook/.venv/lib/python3.12/site-packages (from nbconvert>=6.4.4->jupyter-server>=1.24.0->jupyter-server-proxy>=4.1.0->jupyter-matlab-proxy) (0.3.0)\r\n",
      "Requirement already satisfied: mistune<4,>=2.0.3 in /Users/eechris/code/src/github.com/cpjobling/eg-150-textbook/.venv/lib/python3.12/site-packages (from nbconvert>=6.4.4->jupyter-server>=1.24.0->jupyter-server-proxy>=4.1.0->jupyter-matlab-proxy) (3.1.2)\r\n",
      "Requirement already satisfied: nbclient>=0.5.0 in /Users/eechris/code/src/github.com/cpjobling/eg-150-textbook/.venv/lib/python3.12/site-packages (from nbconvert>=6.4.4->jupyter-server>=1.24.0->jupyter-server-proxy>=4.1.0->jupyter-matlab-proxy) (0.10.2)\r\n",
      "Requirement already satisfied: pandocfilters>=1.4.1 in /Users/eechris/code/src/github.com/cpjobling/eg-150-textbook/.venv/lib/python3.12/site-packages (from nbconvert>=6.4.4->jupyter-server>=1.24.0->jupyter-server-proxy>=4.1.0->jupyter-matlab-proxy) (1.5.1)\r\n",
      "Requirement already satisfied: fastjsonschema>=2.15 in /Users/eechris/code/src/github.com/cpjobling/eg-150-textbook/.venv/lib/python3.12/site-packages (from nbformat>=5.3.0->jupyter-server>=1.24.0->jupyter-server-proxy>=4.1.0->jupyter-matlab-proxy) (2.21.1)\r\n"
     ]
    },
    {
     "name": "stdout",
     "output_type": "stream",
     "text": [
      "Requirement already satisfied: ptyprocess>=0.5 in /Users/eechris/code/src/github.com/cpjobling/eg-150-textbook/.venv/lib/python3.12/site-packages (from pexpect>4.3->ipython>=7.23.1->ipykernel->jupyter-matlab-proxy) (0.7.0)\r\n",
      "Requirement already satisfied: wcwidth in /Users/eechris/code/src/github.com/cpjobling/eg-150-textbook/.venv/lib/python3.12/site-packages (from prompt_toolkit<3.1.0,>=3.0.41->ipython>=7.23.1->ipykernel->jupyter-matlab-proxy) (0.2.13)\r\n",
      "Requirement already satisfied: cffi>=1.12 in /Users/eechris/code/src/github.com/cpjobling/eg-150-textbook/.venv/lib/python3.12/site-packages (from cryptography->aiohttp-session[secure]->matlab-proxy>=0.23.3->jupyter-matlab-proxy) (1.17.1)\r\n",
      "Requirement already satisfied: executing>=1.2.0 in /Users/eechris/code/src/github.com/cpjobling/eg-150-textbook/.venv/lib/python3.12/site-packages (from stack_data->ipython>=7.23.1->ipykernel->jupyter-matlab-proxy) (2.2.0)\r\n",
      "Requirement already satisfied: asttokens>=2.1.0 in /Users/eechris/code/src/github.com/cpjobling/eg-150-textbook/.venv/lib/python3.12/site-packages (from stack_data->ipython>=7.23.1->ipykernel->jupyter-matlab-proxy) (3.0.0)\r\n",
      "Requirement already satisfied: pure-eval in /Users/eechris/code/src/github.com/cpjobling/eg-150-textbook/.venv/lib/python3.12/site-packages (from stack_data->ipython>=7.23.1->ipykernel->jupyter-matlab-proxy) (0.2.3)\r\n",
      "Requirement already satisfied: webencodings in /Users/eechris/code/src/github.com/cpjobling/eg-150-textbook/.venv/lib/python3.12/site-packages (from bleach!=5.0.0->bleach[css]!=5.0.0->nbconvert>=6.4.4->jupyter-server>=1.24.0->jupyter-server-proxy>=4.1.0->jupyter-matlab-proxy) (0.5.1)\r\n",
      "Requirement already satisfied: tinycss2<1.5,>=1.1.0 in /Users/eechris/code/src/github.com/cpjobling/eg-150-textbook/.venv/lib/python3.12/site-packages (from bleach[css]!=5.0.0->nbconvert>=6.4.4->jupyter-server>=1.24.0->jupyter-server-proxy>=4.1.0->jupyter-matlab-proxy) (1.4.0)\r\n",
      "Requirement already satisfied: pycparser in /Users/eechris/code/src/github.com/cpjobling/eg-150-textbook/.venv/lib/python3.12/site-packages (from cffi>=1.12->cryptography->aiohttp-session[secure]->matlab-proxy>=0.23.3->jupyter-matlab-proxy) (2.22)\r\n",
      "Requirement already satisfied: jsonschema-specifications>=2023.03.6 in /Users/eechris/code/src/github.com/cpjobling/eg-150-textbook/.venv/lib/python3.12/site-packages (from jsonschema>=4.18.0->jsonschema[format-nongpl]>=4.18.0->jupyter-events>=0.11.0->jupyter-server>=1.24.0->jupyter-server-proxy>=4.1.0->jupyter-matlab-proxy) (2024.10.1)\r\n",
      "Requirement already satisfied: rpds-py>=0.7.1 in /Users/eechris/code/src/github.com/cpjobling/eg-150-textbook/.venv/lib/python3.12/site-packages (from jsonschema>=4.18.0->jsonschema[format-nongpl]>=4.18.0->jupyter-events>=0.11.0->jupyter-server>=1.24.0->jupyter-server-proxy>=4.1.0->jupyter-matlab-proxy) (0.23.1)\r\n"
     ]
    },
    {
     "name": "stdout",
     "output_type": "stream",
     "text": [
      "Requirement already satisfied: fqdn in /Users/eechris/code/src/github.com/cpjobling/eg-150-textbook/.venv/lib/python3.12/site-packages (from jsonschema[format-nongpl]>=4.18.0->jupyter-events>=0.11.0->jupyter-server>=1.24.0->jupyter-server-proxy>=4.1.0->jupyter-matlab-proxy) (1.5.1)\r\n",
      "Requirement already satisfied: isoduration in /Users/eechris/code/src/github.com/cpjobling/eg-150-textbook/.venv/lib/python3.12/site-packages (from jsonschema[format-nongpl]>=4.18.0->jupyter-events>=0.11.0->jupyter-server>=1.24.0->jupyter-server-proxy>=4.1.0->jupyter-matlab-proxy) (20.11.0)\r\n",
      "Requirement already satisfied: jsonpointer>1.13 in /Users/eechris/code/src/github.com/cpjobling/eg-150-textbook/.venv/lib/python3.12/site-packages (from jsonschema[format-nongpl]>=4.18.0->jupyter-events>=0.11.0->jupyter-server>=1.24.0->jupyter-server-proxy>=4.1.0->jupyter-matlab-proxy) (3.0.0)\r\n",
      "Requirement already satisfied: uri-template in /Users/eechris/code/src/github.com/cpjobling/eg-150-textbook/.venv/lib/python3.12/site-packages (from jsonschema[format-nongpl]>=4.18.0->jupyter-events>=0.11.0->jupyter-server>=1.24.0->jupyter-server-proxy>=4.1.0->jupyter-matlab-proxy) (1.3.0)\r\n",
      "Requirement already satisfied: webcolors>=24.6.0 in /Users/eechris/code/src/github.com/cpjobling/eg-150-textbook/.venv/lib/python3.12/site-packages (from jsonschema[format-nongpl]>=4.18.0->jupyter-events>=0.11.0->jupyter-server>=1.24.0->jupyter-server-proxy>=4.1.0->jupyter-matlab-proxy) (24.11.1)\r\n",
      "Requirement already satisfied: soupsieve>1.2 in /Users/eechris/code/src/github.com/cpjobling/eg-150-textbook/.venv/lib/python3.12/site-packages (from beautifulsoup4->nbconvert>=6.4.4->jupyter-server>=1.24.0->jupyter-server-proxy>=4.1.0->jupyter-matlab-proxy) (2.6)\r\n",
      "Requirement already satisfied: arrow>=0.15.0 in /Users/eechris/code/src/github.com/cpjobling/eg-150-textbook/.venv/lib/python3.12/site-packages (from isoduration->jsonschema[format-nongpl]>=4.18.0->jupyter-events>=0.11.0->jupyter-server>=1.24.0->jupyter-server-proxy>=4.1.0->jupyter-matlab-proxy) (1.3.0)\r\n"
     ]
    },
    {
     "name": "stdout",
     "output_type": "stream",
     "text": [
      "Requirement already satisfied: types-python-dateutil>=2.8.10 in /Users/eechris/code/src/github.com/cpjobling/eg-150-textbook/.venv/lib/python3.12/site-packages (from arrow>=0.15.0->isoduration->jsonschema[format-nongpl]>=4.18.0->jupyter-events>=0.11.0->jupyter-server>=1.24.0->jupyter-server-proxy>=4.1.0->jupyter-matlab-proxy) (2.9.0.20241206)\r\n"
     ]
    }
   ],
   "source": [
    "!python3 -m pip install jupyter-matlab-proxy"
   ]
  },
  {
   "cell_type": "code",
   "execution_count": 14,
   "id": "9a5d4624",
   "metadata": {},
   "outputs": [
    {
     "name": "stdout",
     "output_type": "stream",
     "text": [
      "\u001b[33mDEPRECATION: Loading egg at /Users/eechris/code/src/github.com/cpjobling/eg-150-textbook/.venv/lib/python3.12/site-packages/matlabengine-24.2-py3.12.egg is deprecated. pip 25.1 will enforce this behaviour change. A possible replacement is to use pip for package installation. Discussion can be found at https://github.com/pypa/pip/issues/12330\u001b[0m\u001b[33m\r\n",
      "\u001b[0m"
     ]
    },
    {
     "name": "stdout",
     "output_type": "stream",
     "text": [
      "Collecting jupyterlab<4.0.0a0,>=3.0.0\r\n"
     ]
    },
    {
     "name": "stdout",
     "output_type": "stream",
     "text": [
      "  Downloading jupyterlab-3.6.8-py3-none-any.whl.metadata (12 kB)\r\n",
      "Requirement already satisfied: ipython in /Users/eechris/code/src/github.com/cpjobling/eg-150-textbook/.venv/lib/python3.12/site-packages (from jupyterlab<4.0.0a0,>=3.0.0) (9.0.1)\r\n",
      "Requirement already satisfied: packaging in /Users/eechris/code/src/github.com/cpjobling/eg-150-textbook/.venv/lib/python3.12/site-packages (from jupyterlab<4.0.0a0,>=3.0.0) (24.2)\r\n",
      "Requirement already satisfied: tornado>=6.1.0 in /Users/eechris/code/src/github.com/cpjobling/eg-150-textbook/.venv/lib/python3.12/site-packages (from jupyterlab<4.0.0a0,>=3.0.0) (6.4.2)\r\n",
      "Requirement already satisfied: jupyter-core in /Users/eechris/code/src/github.com/cpjobling/eg-150-textbook/.venv/lib/python3.12/site-packages (from jupyterlab<4.0.0a0,>=3.0.0) (5.7.2)\r\n",
      "Requirement already satisfied: jupyterlab-server~=2.19 in /Users/eechris/code/src/github.com/cpjobling/eg-150-textbook/.venv/lib/python3.12/site-packages (from jupyterlab<4.0.0a0,>=3.0.0) (2.27.3)\r\n",
      "Requirement already satisfied: jupyter-server<3,>=1.16.0 in /Users/eechris/code/src/github.com/cpjobling/eg-150-textbook/.venv/lib/python3.12/site-packages (from jupyterlab<4.0.0a0,>=3.0.0) (2.15.0)\r\n"
     ]
    },
    {
     "name": "stdout",
     "output_type": "stream",
     "text": [
      "Collecting jupyter-ydoc~=0.2.4 (from jupyterlab<4.0.0a0,>=3.0.0)\r\n"
     ]
    },
    {
     "name": "stdout",
     "output_type": "stream",
     "text": [
      "  Downloading jupyter_ydoc-0.2.5-py3-none-any.whl.metadata (2.2 kB)\r\n"
     ]
    },
    {
     "name": "stdout",
     "output_type": "stream",
     "text": [
      "Collecting jupyter-server-ydoc~=0.8.0 (from jupyterlab<4.0.0a0,>=3.0.0)\r\n"
     ]
    },
    {
     "name": "stdout",
     "output_type": "stream",
     "text": [
      "  Downloading jupyter_server_ydoc-0.8.0-py3-none-any.whl.metadata (5.3 kB)\r\n",
      "Requirement already satisfied: nbclassic in /Users/eechris/code/src/github.com/cpjobling/eg-150-textbook/.venv/lib/python3.12/site-packages (from jupyterlab<4.0.0a0,>=3.0.0) (1.2.0)\r\n"
     ]
    },
    {
     "name": "stdout",
     "output_type": "stream",
     "text": [
      "Collecting notebook<7 (from jupyterlab<4.0.0a0,>=3.0.0)\r\n"
     ]
    },
    {
     "name": "stdout",
     "output_type": "stream",
     "text": [
      "  Downloading notebook-6.5.7-py3-none-any.whl.metadata (2.5 kB)\r\n",
      "Requirement already satisfied: jinja2>=2.1 in /Users/eechris/code/src/github.com/cpjobling/eg-150-textbook/.venv/lib/python3.12/site-packages (from jupyterlab<4.0.0a0,>=3.0.0) (3.1.5)\r\n",
      "Requirement already satisfied: MarkupSafe>=2.0 in /Users/eechris/code/src/github.com/cpjobling/eg-150-textbook/.venv/lib/python3.12/site-packages (from jinja2>=2.1->jupyterlab<4.0.0a0,>=3.0.0) (3.0.2)\r\n",
      "Requirement already satisfied: anyio>=3.1.0 in /Users/eechris/code/src/github.com/cpjobling/eg-150-textbook/.venv/lib/python3.12/site-packages (from jupyter-server<3,>=1.16.0->jupyterlab<4.0.0a0,>=3.0.0) (4.8.0)\r\n",
      "Requirement already satisfied: argon2-cffi>=21.1 in /Users/eechris/code/src/github.com/cpjobling/eg-150-textbook/.venv/lib/python3.12/site-packages (from jupyter-server<3,>=1.16.0->jupyterlab<4.0.0a0,>=3.0.0) (23.1.0)\r\n",
      "Requirement already satisfied: jupyter-client>=7.4.4 in /Users/eechris/code/src/github.com/cpjobling/eg-150-textbook/.venv/lib/python3.12/site-packages (from jupyter-server<3,>=1.16.0->jupyterlab<4.0.0a0,>=3.0.0) (8.6.3)\r\n",
      "Requirement already satisfied: jupyter-events>=0.11.0 in /Users/eechris/code/src/github.com/cpjobling/eg-150-textbook/.venv/lib/python3.12/site-packages (from jupyter-server<3,>=1.16.0->jupyterlab<4.0.0a0,>=3.0.0) (0.12.0)\r\n",
      "Requirement already satisfied: jupyter-server-terminals>=0.4.4 in /Users/eechris/code/src/github.com/cpjobling/eg-150-textbook/.venv/lib/python3.12/site-packages (from jupyter-server<3,>=1.16.0->jupyterlab<4.0.0a0,>=3.0.0) (0.5.3)\r\n",
      "Requirement already satisfied: nbconvert>=6.4.4 in /Users/eechris/code/src/github.com/cpjobling/eg-150-textbook/.venv/lib/python3.12/site-packages (from jupyter-server<3,>=1.16.0->jupyterlab<4.0.0a0,>=3.0.0) (7.16.6)\r\n",
      "Requirement already satisfied: nbformat>=5.3.0 in /Users/eechris/code/src/github.com/cpjobling/eg-150-textbook/.venv/lib/python3.12/site-packages (from jupyter-server<3,>=1.16.0->jupyterlab<4.0.0a0,>=3.0.0) (5.10.4)\r\n",
      "Requirement already satisfied: overrides>=5.0 in /Users/eechris/code/src/github.com/cpjobling/eg-150-textbook/.venv/lib/python3.12/site-packages (from jupyter-server<3,>=1.16.0->jupyterlab<4.0.0a0,>=3.0.0) (7.7.0)\r\n",
      "Requirement already satisfied: prometheus-client>=0.9 in /Users/eechris/code/src/github.com/cpjobling/eg-150-textbook/.venv/lib/python3.12/site-packages (from jupyter-server<3,>=1.16.0->jupyterlab<4.0.0a0,>=3.0.0) (0.21.1)\r\n",
      "Requirement already satisfied: pyzmq>=24 in /Users/eechris/code/src/github.com/cpjobling/eg-150-textbook/.venv/lib/python3.12/site-packages (from jupyter-server<3,>=1.16.0->jupyterlab<4.0.0a0,>=3.0.0) (26.2.1)\r\n",
      "Requirement already satisfied: send2trash>=1.8.2 in /Users/eechris/code/src/github.com/cpjobling/eg-150-textbook/.venv/lib/python3.12/site-packages (from jupyter-server<3,>=1.16.0->jupyterlab<4.0.0a0,>=3.0.0) (1.8.3)\r\n",
      "Requirement already satisfied: terminado>=0.8.3 in /Users/eechris/code/src/github.com/cpjobling/eg-150-textbook/.venv/lib/python3.12/site-packages (from jupyter-server<3,>=1.16.0->jupyterlab<4.0.0a0,>=3.0.0) (0.18.1)\r\n",
      "Requirement already satisfied: traitlets>=5.6.0 in /Users/eechris/code/src/github.com/cpjobling/eg-150-textbook/.venv/lib/python3.12/site-packages (from jupyter-server<3,>=1.16.0->jupyterlab<4.0.0a0,>=3.0.0) (5.14.3)\r\n",
      "Requirement already satisfied: websocket-client>=1.7 in /Users/eechris/code/src/github.com/cpjobling/eg-150-textbook/.venv/lib/python3.12/site-packages (from jupyter-server<3,>=1.16.0->jupyterlab<4.0.0a0,>=3.0.0) (1.8.0)\r\n",
      "Requirement already satisfied: platformdirs>=2.5 in /Users/eechris/code/src/github.com/cpjobling/eg-150-textbook/.venv/lib/python3.12/site-packages (from jupyter-core->jupyterlab<4.0.0a0,>=3.0.0) (4.2.2)\r\n"
     ]
    },
    {
     "name": "stdout",
     "output_type": "stream",
     "text": [
      "Collecting jupyter-server-fileid<1,>=0.6.0 (from jupyter-server-ydoc~=0.8.0->jupyterlab<4.0.0a0,>=3.0.0)\r\n"
     ]
    },
    {
     "name": "stdout",
     "output_type": "stream",
     "text": [
      "  Downloading jupyter_server_fileid-0.9.3-py3-none-any.whl.metadata (4.7 kB)\r\n"
     ]
    },
    {
     "name": "stdout",
     "output_type": "stream",
     "text": [
      "Collecting ypy-websocket<0.9.0,>=0.8.2 (from jupyter-server-ydoc~=0.8.0->jupyterlab<4.0.0a0,>=3.0.0)\r\n"
     ]
    },
    {
     "name": "stdout",
     "output_type": "stream",
     "text": [
      "  Downloading ypy_websocket-0.8.4-py3-none-any.whl.metadata (2.5 kB)\r\n"
     ]
    },
    {
     "name": "stdout",
     "output_type": "stream",
     "text": [
      "Collecting y-py<0.7.0,>=0.6.0 (from jupyter-ydoc~=0.2.4->jupyterlab<4.0.0a0,>=3.0.0)\r\n"
     ]
    },
    {
     "name": "stdout",
     "output_type": "stream",
     "text": [
      "  Downloading y_py-0.6.2-cp312-cp312-macosx_10_9_x86_64.macosx_11_0_arm64.macosx_10_9_universal2.whl.metadata (5.6 kB)\r\n",
      "Requirement already satisfied: babel>=2.10 in /Users/eechris/code/src/github.com/cpjobling/eg-150-textbook/.venv/lib/python3.12/site-packages (from jupyterlab-server~=2.19->jupyterlab<4.0.0a0,>=3.0.0) (2.17.0)\r\n",
      "Requirement already satisfied: json5>=0.9.0 in /Users/eechris/code/src/github.com/cpjobling/eg-150-textbook/.venv/lib/python3.12/site-packages (from jupyterlab-server~=2.19->jupyterlab<4.0.0a0,>=3.0.0) (0.10.0)\r\n",
      "Requirement already satisfied: jsonschema>=4.18.0 in /Users/eechris/code/src/github.com/cpjobling/eg-150-textbook/.venv/lib/python3.12/site-packages (from jupyterlab-server~=2.19->jupyterlab<4.0.0a0,>=3.0.0) (4.23.0)\r\n",
      "Requirement already satisfied: requests>=2.31 in /Users/eechris/code/src/github.com/cpjobling/eg-150-textbook/.venv/lib/python3.12/site-packages (from jupyterlab-server~=2.19->jupyterlab<4.0.0a0,>=3.0.0) (2.32.3)\r\n"
     ]
    },
    {
     "name": "stdout",
     "output_type": "stream",
     "text": [
      "Collecting jupyter-client>=7.4.4 (from jupyter-server<3,>=1.16.0->jupyterlab<4.0.0a0,>=3.0.0)\r\n"
     ]
    },
    {
     "name": "stdout",
     "output_type": "stream",
     "text": [
      "  Downloading jupyter_client-7.4.9-py3-none-any.whl.metadata (8.5 kB)\r\n",
      "Requirement already satisfied: ipython-genutils in /Users/eechris/code/src/github.com/cpjobling/eg-150-textbook/.venv/lib/python3.12/site-packages (from notebook<7->jupyterlab<4.0.0a0,>=3.0.0) (0.2.0)\r\n",
      "Requirement already satisfied: nest-asyncio>=1.5 in /Users/eechris/code/src/github.com/cpjobling/eg-150-textbook/.venv/lib/python3.12/site-packages (from notebook<7->jupyterlab<4.0.0a0,>=3.0.0) (1.6.0)\r\n",
      "Requirement already satisfied: ipykernel in /Users/eechris/code/src/github.com/cpjobling/eg-150-textbook/.venv/lib/python3.12/site-packages (from notebook<7->jupyterlab<4.0.0a0,>=3.0.0) (6.29.5)\r\n",
      "Requirement already satisfied: notebook-shim>=0.2.3 in /Users/eechris/code/src/github.com/cpjobling/eg-150-textbook/.venv/lib/python3.12/site-packages (from nbclassic->jupyterlab<4.0.0a0,>=3.0.0) (0.2.4)\r\n",
      "Requirement already satisfied: decorator in /Users/eechris/code/src/github.com/cpjobling/eg-150-textbook/.venv/lib/python3.12/site-packages (from ipython->jupyterlab<4.0.0a0,>=3.0.0) (5.2.1)\r\n",
      "Requirement already satisfied: ipython-pygments-lexers in /Users/eechris/code/src/github.com/cpjobling/eg-150-textbook/.venv/lib/python3.12/site-packages (from ipython->jupyterlab<4.0.0a0,>=3.0.0) (1.1.1)\r\n",
      "Requirement already satisfied: jedi>=0.16 in /Users/eechris/code/src/github.com/cpjobling/eg-150-textbook/.venv/lib/python3.12/site-packages (from ipython->jupyterlab<4.0.0a0,>=3.0.0) (0.19.2)\r\n",
      "Requirement already satisfied: matplotlib-inline in /Users/eechris/code/src/github.com/cpjobling/eg-150-textbook/.venv/lib/python3.12/site-packages (from ipython->jupyterlab<4.0.0a0,>=3.0.0) (0.1.7)\r\n",
      "Requirement already satisfied: pexpect>4.3 in /Users/eechris/code/src/github.com/cpjobling/eg-150-textbook/.venv/lib/python3.12/site-packages (from ipython->jupyterlab<4.0.0a0,>=3.0.0) (4.9.0)\r\n",
      "Requirement already satisfied: prompt_toolkit<3.1.0,>=3.0.41 in /Users/eechris/code/src/github.com/cpjobling/eg-150-textbook/.venv/lib/python3.12/site-packages (from ipython->jupyterlab<4.0.0a0,>=3.0.0) (3.0.50)\r\n",
      "Requirement already satisfied: pygments>=2.4.0 in /Users/eechris/code/src/github.com/cpjobling/eg-150-textbook/.venv/lib/python3.12/site-packages (from ipython->jupyterlab<4.0.0a0,>=3.0.0) (2.19.1)\r\n",
      "Requirement already satisfied: stack_data in /Users/eechris/code/src/github.com/cpjobling/eg-150-textbook/.venv/lib/python3.12/site-packages (from ipython->jupyterlab<4.0.0a0,>=3.0.0) (0.6.3)\r\n",
      "Requirement already satisfied: idna>=2.8 in /Users/eechris/code/src/github.com/cpjobling/eg-150-textbook/.venv/lib/python3.12/site-packages (from anyio>=3.1.0->jupyter-server<3,>=1.16.0->jupyterlab<4.0.0a0,>=3.0.0) (3.10)\r\n",
      "Requirement already satisfied: sniffio>=1.1 in /Users/eechris/code/src/github.com/cpjobling/eg-150-textbook/.venv/lib/python3.12/site-packages (from anyio>=3.1.0->jupyter-server<3,>=1.16.0->jupyterlab<4.0.0a0,>=3.0.0) (1.3.1)\r\n",
      "Requirement already satisfied: typing_extensions>=4.5 in /Users/eechris/code/src/github.com/cpjobling/eg-150-textbook/.venv/lib/python3.12/site-packages (from anyio>=3.1.0->jupyter-server<3,>=1.16.0->jupyterlab<4.0.0a0,>=3.0.0) (4.12.2)\r\n",
      "Requirement already satisfied: argon2-cffi-bindings in /Users/eechris/code/src/github.com/cpjobling/eg-150-textbook/.venv/lib/python3.12/site-packages (from argon2-cffi>=21.1->jupyter-server<3,>=1.16.0->jupyterlab<4.0.0a0,>=3.0.0) (21.2.0)\r\n"
     ]
    },
    {
     "name": "stdout",
     "output_type": "stream",
     "text": [
      "Requirement already satisfied: parso<0.9.0,>=0.8.4 in /Users/eechris/code/src/github.com/cpjobling/eg-150-textbook/.venv/lib/python3.12/site-packages (from jedi>=0.16->ipython->jupyterlab<4.0.0a0,>=3.0.0) (0.8.4)\r\n",
      "Requirement already satisfied: attrs>=22.2.0 in /Users/eechris/code/src/github.com/cpjobling/eg-150-textbook/.venv/lib/python3.12/site-packages (from jsonschema>=4.18.0->jupyterlab-server~=2.19->jupyterlab<4.0.0a0,>=3.0.0) (25.1.0)\r\n",
      "Requirement already satisfied: jsonschema-specifications>=2023.03.6 in /Users/eechris/code/src/github.com/cpjobling/eg-150-textbook/.venv/lib/python3.12/site-packages (from jsonschema>=4.18.0->jupyterlab-server~=2.19->jupyterlab<4.0.0a0,>=3.0.0) (2024.10.1)\r\n",
      "Requirement already satisfied: referencing>=0.28.4 in /Users/eechris/code/src/github.com/cpjobling/eg-150-textbook/.venv/lib/python3.12/site-packages (from jsonschema>=4.18.0->jupyterlab-server~=2.19->jupyterlab<4.0.0a0,>=3.0.0) (0.36.2)\r\n",
      "Requirement already satisfied: rpds-py>=0.7.1 in /Users/eechris/code/src/github.com/cpjobling/eg-150-textbook/.venv/lib/python3.12/site-packages (from jsonschema>=4.18.0->jupyterlab-server~=2.19->jupyterlab<4.0.0a0,>=3.0.0) (0.23.1)\r\n",
      "Collecting entrypoints (from jupyter-client>=7.4.4->jupyter-server<3,>=1.16.0->jupyterlab<4.0.0a0,>=3.0.0)\r\n"
     ]
    },
    {
     "name": "stdout",
     "output_type": "stream",
     "text": [
      "  Downloading entrypoints-0.4-py3-none-any.whl.metadata (2.6 kB)\r\n",
      "Requirement already satisfied: python-dateutil>=2.8.2 in /Users/eechris/code/src/github.com/cpjobling/eg-150-textbook/.venv/lib/python3.12/site-packages (from jupyter-client>=7.4.4->jupyter-server<3,>=1.16.0->jupyterlab<4.0.0a0,>=3.0.0) (2.9.0.post0)\r\n",
      "Requirement already satisfied: python-json-logger>=2.0.4 in /Users/eechris/code/src/github.com/cpjobling/eg-150-textbook/.venv/lib/python3.12/site-packages (from jupyter-events>=0.11.0->jupyter-server<3,>=1.16.0->jupyterlab<4.0.0a0,>=3.0.0) (3.2.1)\r\n",
      "Requirement already satisfied: pyyaml>=5.3 in /Users/eechris/code/src/github.com/cpjobling/eg-150-textbook/.venv/lib/python3.12/site-packages (from jupyter-events>=0.11.0->jupyter-server<3,>=1.16.0->jupyterlab<4.0.0a0,>=3.0.0) (6.0.2)\r\n",
      "Requirement already satisfied: rfc3339-validator in /Users/eechris/code/src/github.com/cpjobling/eg-150-textbook/.venv/lib/python3.12/site-packages (from jupyter-events>=0.11.0->jupyter-server<3,>=1.16.0->jupyterlab<4.0.0a0,>=3.0.0) (0.1.4)\r\n",
      "Requirement already satisfied: rfc3986-validator>=0.1.1 in /Users/eechris/code/src/github.com/cpjobling/eg-150-textbook/.venv/lib/python3.12/site-packages (from jupyter-events>=0.11.0->jupyter-server<3,>=1.16.0->jupyterlab<4.0.0a0,>=3.0.0) (0.1.1)\r\n",
      "Requirement already satisfied: beautifulsoup4 in /Users/eechris/code/src/github.com/cpjobling/eg-150-textbook/.venv/lib/python3.12/site-packages (from nbconvert>=6.4.4->jupyter-server<3,>=1.16.0->jupyterlab<4.0.0a0,>=3.0.0) (4.13.3)\r\n",
      "Requirement already satisfied: bleach!=5.0.0 in /Users/eechris/code/src/github.com/cpjobling/eg-150-textbook/.venv/lib/python3.12/site-packages (from bleach[css]!=5.0.0->nbconvert>=6.4.4->jupyter-server<3,>=1.16.0->jupyterlab<4.0.0a0,>=3.0.0) (6.2.0)\r\n",
      "Requirement already satisfied: defusedxml in /Users/eechris/code/src/github.com/cpjobling/eg-150-textbook/.venv/lib/python3.12/site-packages (from nbconvert>=6.4.4->jupyter-server<3,>=1.16.0->jupyterlab<4.0.0a0,>=3.0.0) (0.7.1)\r\n",
      "Requirement already satisfied: jupyterlab-pygments in /Users/eechris/code/src/github.com/cpjobling/eg-150-textbook/.venv/lib/python3.12/site-packages (from nbconvert>=6.4.4->jupyter-server<3,>=1.16.0->jupyterlab<4.0.0a0,>=3.0.0) (0.3.0)\r\n",
      "Requirement already satisfied: mistune<4,>=2.0.3 in /Users/eechris/code/src/github.com/cpjobling/eg-150-textbook/.venv/lib/python3.12/site-packages (from nbconvert>=6.4.4->jupyter-server<3,>=1.16.0->jupyterlab<4.0.0a0,>=3.0.0) (3.1.2)\r\n",
      "Requirement already satisfied: nbclient>=0.5.0 in /Users/eechris/code/src/github.com/cpjobling/eg-150-textbook/.venv/lib/python3.12/site-packages (from nbconvert>=6.4.4->jupyter-server<3,>=1.16.0->jupyterlab<4.0.0a0,>=3.0.0) (0.10.2)\r\n",
      "Requirement already satisfied: pandocfilters>=1.4.1 in /Users/eechris/code/src/github.com/cpjobling/eg-150-textbook/.venv/lib/python3.12/site-packages (from nbconvert>=6.4.4->jupyter-server<3,>=1.16.0->jupyterlab<4.0.0a0,>=3.0.0) (1.5.1)\r\n",
      "Requirement already satisfied: fastjsonschema>=2.15 in /Users/eechris/code/src/github.com/cpjobling/eg-150-textbook/.venv/lib/python3.12/site-packages (from nbformat>=5.3.0->jupyter-server<3,>=1.16.0->jupyterlab<4.0.0a0,>=3.0.0) (2.21.1)\r\n",
      "Requirement already satisfied: ptyprocess>=0.5 in /Users/eechris/code/src/github.com/cpjobling/eg-150-textbook/.venv/lib/python3.12/site-packages (from pexpect>4.3->ipython->jupyterlab<4.0.0a0,>=3.0.0) (0.7.0)\r\n",
      "Requirement already satisfied: wcwidth in /Users/eechris/code/src/github.com/cpjobling/eg-150-textbook/.venv/lib/python3.12/site-packages (from prompt_toolkit<3.1.0,>=3.0.41->ipython->jupyterlab<4.0.0a0,>=3.0.0) (0.2.13)\r\n",
      "Requirement already satisfied: charset-normalizer<4,>=2 in /Users/eechris/code/src/github.com/cpjobling/eg-150-textbook/.venv/lib/python3.12/site-packages (from requests>=2.31->jupyterlab-server~=2.19->jupyterlab<4.0.0a0,>=3.0.0) (3.4.1)\r\n"
     ]
    },
    {
     "name": "stdout",
     "output_type": "stream",
     "text": [
      "Requirement already satisfied: urllib3<3,>=1.21.1 in /Users/eechris/code/src/github.com/cpjobling/eg-150-textbook/.venv/lib/python3.12/site-packages (from requests>=2.31->jupyterlab-server~=2.19->jupyterlab<4.0.0a0,>=3.0.0) (2.3.0)\r\n",
      "Requirement already satisfied: certifi>=2017.4.17 in /Users/eechris/code/src/github.com/cpjobling/eg-150-textbook/.venv/lib/python3.12/site-packages (from requests>=2.31->jupyterlab-server~=2.19->jupyterlab<4.0.0a0,>=3.0.0) (2025.1.31)\r\n"
     ]
    },
    {
     "name": "stdout",
     "output_type": "stream",
     "text": [
      "Collecting aiofiles<23,>=22.1.0 (from ypy-websocket<0.9.0,>=0.8.2->jupyter-server-ydoc~=0.8.0->jupyterlab<4.0.0a0,>=3.0.0)\r\n",
      "  Downloading aiofiles-22.1.0-py3-none-any.whl.metadata (8.0 kB)\r\n"
     ]
    },
    {
     "name": "stdout",
     "output_type": "stream",
     "text": [
      "Collecting aiosqlite<1,>=0.17.0 (from ypy-websocket<0.9.0,>=0.8.2->jupyter-server-ydoc~=0.8.0->jupyterlab<4.0.0a0,>=3.0.0)\r\n",
      "  Downloading aiosqlite-0.21.0-py3-none-any.whl.metadata (4.3 kB)\r\n"
     ]
    },
    {
     "name": "stdout",
     "output_type": "stream",
     "text": [
      "Requirement already satisfied: appnope in /Users/eechris/code/src/github.com/cpjobling/eg-150-textbook/.venv/lib/python3.12/site-packages (from ipykernel->notebook<7->jupyterlab<4.0.0a0,>=3.0.0) (0.1.4)\r\n",
      "Requirement already satisfied: comm>=0.1.1 in /Users/eechris/code/src/github.com/cpjobling/eg-150-textbook/.venv/lib/python3.12/site-packages (from ipykernel->notebook<7->jupyterlab<4.0.0a0,>=3.0.0) (0.2.2)\r\n",
      "Requirement already satisfied: debugpy>=1.6.5 in /Users/eechris/code/src/github.com/cpjobling/eg-150-textbook/.venv/lib/python3.12/site-packages (from ipykernel->notebook<7->jupyterlab<4.0.0a0,>=3.0.0) (1.8.12)\r\n",
      "Requirement already satisfied: psutil in /Users/eechris/code/src/github.com/cpjobling/eg-150-textbook/.venv/lib/python3.12/site-packages (from ipykernel->notebook<7->jupyterlab<4.0.0a0,>=3.0.0) (7.0.0)\r\n",
      "Requirement already satisfied: executing>=1.2.0 in /Users/eechris/code/src/github.com/cpjobling/eg-150-textbook/.venv/lib/python3.12/site-packages (from stack_data->ipython->jupyterlab<4.0.0a0,>=3.0.0) (2.2.0)\r\n",
      "Requirement already satisfied: asttokens>=2.1.0 in /Users/eechris/code/src/github.com/cpjobling/eg-150-textbook/.venv/lib/python3.12/site-packages (from stack_data->ipython->jupyterlab<4.0.0a0,>=3.0.0) (3.0.0)\r\n",
      "Requirement already satisfied: pure-eval in /Users/eechris/code/src/github.com/cpjobling/eg-150-textbook/.venv/lib/python3.12/site-packages (from stack_data->ipython->jupyterlab<4.0.0a0,>=3.0.0) (0.2.3)\r\n",
      "Requirement already satisfied: webencodings in /Users/eechris/code/src/github.com/cpjobling/eg-150-textbook/.venv/lib/python3.12/site-packages (from bleach!=5.0.0->bleach[css]!=5.0.0->nbconvert>=6.4.4->jupyter-server<3,>=1.16.0->jupyterlab<4.0.0a0,>=3.0.0) (0.5.1)\r\n",
      "Requirement already satisfied: tinycss2<1.5,>=1.1.0 in /Users/eechris/code/src/github.com/cpjobling/eg-150-textbook/.venv/lib/python3.12/site-packages (from bleach[css]!=5.0.0->nbconvert>=6.4.4->jupyter-server<3,>=1.16.0->jupyterlab<4.0.0a0,>=3.0.0) (1.4.0)\r\n",
      "Requirement already satisfied: fqdn in /Users/eechris/code/src/github.com/cpjobling/eg-150-textbook/.venv/lib/python3.12/site-packages (from jsonschema[format-nongpl]>=4.18.0->jupyter-events>=0.11.0->jupyter-server<3,>=1.16.0->jupyterlab<4.0.0a0,>=3.0.0) (1.5.1)\r\n",
      "Requirement already satisfied: isoduration in /Users/eechris/code/src/github.com/cpjobling/eg-150-textbook/.venv/lib/python3.12/site-packages (from jsonschema[format-nongpl]>=4.18.0->jupyter-events>=0.11.0->jupyter-server<3,>=1.16.0->jupyterlab<4.0.0a0,>=3.0.0) (20.11.0)\r\n",
      "Requirement already satisfied: jsonpointer>1.13 in /Users/eechris/code/src/github.com/cpjobling/eg-150-textbook/.venv/lib/python3.12/site-packages (from jsonschema[format-nongpl]>=4.18.0->jupyter-events>=0.11.0->jupyter-server<3,>=1.16.0->jupyterlab<4.0.0a0,>=3.0.0) (3.0.0)\r\n",
      "Requirement already satisfied: uri-template in /Users/eechris/code/src/github.com/cpjobling/eg-150-textbook/.venv/lib/python3.12/site-packages (from jsonschema[format-nongpl]>=4.18.0->jupyter-events>=0.11.0->jupyter-server<3,>=1.16.0->jupyterlab<4.0.0a0,>=3.0.0) (1.3.0)\r\n",
      "Requirement already satisfied: webcolors>=24.6.0 in /Users/eechris/code/src/github.com/cpjobling/eg-150-textbook/.venv/lib/python3.12/site-packages (from jsonschema[format-nongpl]>=4.18.0->jupyter-events>=0.11.0->jupyter-server<3,>=1.16.0->jupyterlab<4.0.0a0,>=3.0.0) (24.11.1)\r\n",
      "Requirement already satisfied: six>=1.5 in /Users/eechris/code/src/github.com/cpjobling/eg-150-textbook/.venv/lib/python3.12/site-packages (from python-dateutil>=2.8.2->jupyter-client>=7.4.4->jupyter-server<3,>=1.16.0->jupyterlab<4.0.0a0,>=3.0.0) (1.17.0)\r\n"
     ]
    },
    {
     "name": "stdout",
     "output_type": "stream",
     "text": [
      "Requirement already satisfied: cffi>=1.0.1 in /Users/eechris/code/src/github.com/cpjobling/eg-150-textbook/.venv/lib/python3.12/site-packages (from argon2-cffi-bindings->argon2-cffi>=21.1->jupyter-server<3,>=1.16.0->jupyterlab<4.0.0a0,>=3.0.0) (1.17.1)\r\n",
      "Requirement already satisfied: soupsieve>1.2 in /Users/eechris/code/src/github.com/cpjobling/eg-150-textbook/.venv/lib/python3.12/site-packages (from beautifulsoup4->nbconvert>=6.4.4->jupyter-server<3,>=1.16.0->jupyterlab<4.0.0a0,>=3.0.0) (2.6)\r\n",
      "Requirement already satisfied: pycparser in /Users/eechris/code/src/github.com/cpjobling/eg-150-textbook/.venv/lib/python3.12/site-packages (from cffi>=1.0.1->argon2-cffi-bindings->argon2-cffi>=21.1->jupyter-server<3,>=1.16.0->jupyterlab<4.0.0a0,>=3.0.0) (2.22)\r\n",
      "Requirement already satisfied: arrow>=0.15.0 in /Users/eechris/code/src/github.com/cpjobling/eg-150-textbook/.venv/lib/python3.12/site-packages (from isoduration->jsonschema[format-nongpl]>=4.18.0->jupyter-events>=0.11.0->jupyter-server<3,>=1.16.0->jupyterlab<4.0.0a0,>=3.0.0) (1.3.0)\r\n",
      "Requirement already satisfied: types-python-dateutil>=2.8.10 in /Users/eechris/code/src/github.com/cpjobling/eg-150-textbook/.venv/lib/python3.12/site-packages (from arrow>=0.15.0->isoduration->jsonschema[format-nongpl]>=4.18.0->jupyter-events>=0.11.0->jupyter-server<3,>=1.16.0->jupyterlab<4.0.0a0,>=3.0.0) (2.9.0.20241206)\r\n"
     ]
    },
    {
     "name": "stdout",
     "output_type": "stream",
     "text": [
      "Downloading jupyterlab-3.6.8-py3-none-any.whl (8.9 MB)\r\n",
      "\u001b[?25l   \u001b[38;5;237m━━━━━━━━━━━━━━━━━━━━━━━━━━━━━━━━━━━━━━━━\u001b[0m \u001b[32m0.0/8.9 MB\u001b[0m \u001b[31m?\u001b[0m eta \u001b[36m-:--:--\u001b[0m"
     ]
    },
    {
     "name": "stdout",
     "output_type": "stream",
     "text": [
      "\r",
      "\u001b[2K   \u001b[38;2;249;38;114m━━━━━━━━━━━━━\u001b[0m\u001b[38;5;237m╺\u001b[0m\u001b[38;5;237m━━━━━━━━━━━━━━━━━━━━━━━━━━\u001b[0m \u001b[32m2.9/8.9 MB\u001b[0m \u001b[31m21.9 MB/s\u001b[0m eta \u001b[36m0:00:01\u001b[0m"
     ]
    },
    {
     "name": "stdout",
     "output_type": "stream",
     "text": [
      "\r",
      "\u001b[2K   \u001b[38;2;114;156;31m━━━━━━━━━━━━━━━━━━━━━━━━━━━━━━━━━━━━━━━━\u001b[0m \u001b[32m8.9/8.9 MB\u001b[0m \u001b[31m29.1 MB/s\u001b[0m eta \u001b[36m0:00:00\u001b[0m\r\n",
      "\u001b[?25hDownloading jupyter_server_ydoc-0.8.0-py3-none-any.whl (11 kB)\r\n"
     ]
    },
    {
     "name": "stdout",
     "output_type": "stream",
     "text": [
      "Downloading jupyter_ydoc-0.2.5-py3-none-any.whl (6.2 kB)\r\n"
     ]
    },
    {
     "name": "stdout",
     "output_type": "stream",
     "text": [
      "Downloading notebook-6.5.7-py3-none-any.whl (529 kB)\r\n",
      "\u001b[?25l   \u001b[38;5;237m━━━━━━━━━━━━━━━━━━━━━━━━━━━━━━━━━━━━━━━━\u001b[0m \u001b[32m0.0/529.8 kB\u001b[0m \u001b[31m?\u001b[0m eta \u001b[36m-:--:--\u001b[0m\r",
      "\u001b[2K   \u001b[38;2;114;156;31m━━━━━━━━━━━━━━━━━━━━━━━━━━━━━━━━━━━━━━━━\u001b[0m \u001b[32m529.8/529.8 kB\u001b[0m \u001b[31m16.2 MB/s\u001b[0m eta \u001b[36m0:00:00\u001b[0m\r\n",
      "\u001b[?25h"
     ]
    },
    {
     "name": "stdout",
     "output_type": "stream",
     "text": [
      "Downloading jupyter_client-7.4.9-py3-none-any.whl (133 kB)\r\n"
     ]
    },
    {
     "name": "stdout",
     "output_type": "stream",
     "text": [
      "Downloading jupyter_server_fileid-0.9.3-py3-none-any.whl (16 kB)\r\n"
     ]
    },
    {
     "name": "stdout",
     "output_type": "stream",
     "text": [
      "Downloading y_py-0.6.2-cp312-cp312-macosx_10_9_x86_64.macosx_11_0_arm64.macosx_10_9_universal2.whl (1.5 MB)\r\n"
     ]
    },
    {
     "name": "stdout",
     "output_type": "stream",
     "text": [
      "\u001b[?25l   \u001b[38;5;237m━━━━━━━━━━━━━━━━━━━━━━━━━━━━━━━━━━━━━━━━\u001b[0m \u001b[32m0.0/1.5 MB\u001b[0m \u001b[31m?\u001b[0m eta \u001b[36m-:--:--\u001b[0m"
     ]
    },
    {
     "name": "stdout",
     "output_type": "stream",
     "text": [
      "\r",
      "\u001b[2K   \u001b[38;2;114;156;31m━━━━━━━━━━━━━━━━━━━━━━━━━━━━━━━━━━━━━━━━\u001b[0m \u001b[32m1.5/1.5 MB\u001b[0m \u001b[31m11.8 MB/s\u001b[0m eta \u001b[36m0:00:00\u001b[0m\r\n",
      "\u001b[?25hDownloading ypy_websocket-0.8.4-py3-none-any.whl (10 kB)\r\n"
     ]
    },
    {
     "name": "stdout",
     "output_type": "stream",
     "text": [
      "Downloading aiofiles-22.1.0-py3-none-any.whl (14 kB)\r\n"
     ]
    },
    {
     "name": "stdout",
     "output_type": "stream",
     "text": [
      "Downloading aiosqlite-0.21.0-py3-none-any.whl (15 kB)\r\n"
     ]
    },
    {
     "name": "stdout",
     "output_type": "stream",
     "text": [
      "Downloading entrypoints-0.4-py3-none-any.whl (5.3 kB)\r\n"
     ]
    },
    {
     "name": "stdout",
     "output_type": "stream",
     "text": [
      "Installing collected packages: y-py, jupyter-ydoc, entrypoints, aiosqlite, aiofiles, ypy-websocket, jupyter-client, jupyter-server-fileid, jupyter-server-ydoc, notebook, jupyterlab\r\n"
     ]
    },
    {
     "name": "stdout",
     "output_type": "stream",
     "text": [
      "  Attempting uninstall: jupyter-client\r\n",
      "    Found existing installation: jupyter_client 8.6.3\r\n",
      "    Uninstalling jupyter_client-8.6.3:\r\n",
      "      Successfully uninstalled jupyter_client-8.6.3\r\n"
     ]
    },
    {
     "name": "stdout",
     "output_type": "stream",
     "text": [
      "  Attempting uninstall: notebook\r\n",
      "    Found existing installation: notebook 7.3.2\r\n"
     ]
    },
    {
     "name": "stdout",
     "output_type": "stream",
     "text": [
      "    Uninstalling notebook-7.3.2:\r\n",
      "      Successfully uninstalled notebook-7.3.2\r\n"
     ]
    },
    {
     "name": "stdout",
     "output_type": "stream",
     "text": [
      "  Attempting uninstall: jupyterlab\r\n",
      "    Found existing installation: jupyterlab 4.3.5\r\n"
     ]
    },
    {
     "name": "stdout",
     "output_type": "stream",
     "text": [
      "    Uninstalling jupyterlab-4.3.5:\r\n",
      "      Successfully uninstalled jupyterlab-4.3.5\r\n"
     ]
    },
    {
     "name": "stdout",
     "output_type": "stream",
     "text": [
      "Successfully installed aiofiles-22.1.0 aiosqlite-0.21.0 entrypoints-0.4 jupyter-client-7.4.9 jupyter-server-fileid-0.9.3 jupyter-server-ydoc-0.8.0 jupyter-ydoc-0.2.5 jupyterlab-3.6.8 notebook-6.5.7 y-py-0.6.2 ypy-websocket-0.8.4\r\n"
     ]
    }
   ],
   "source": [
    "!python3 -m pip install 'jupyterlab>=3.0.0,<4.0.0a0'"
   ]
  },
  {
   "cell_type": "code",
   "execution_count": 15,
   "id": "b910df0f",
   "metadata": {},
   "outputs": [],
   "source": [
    "magic(10)"
   ]
  },
  {
   "cell_type": "code",
   "execution_count": 16,
   "id": "66059582",
   "metadata": {},
   "outputs": [
    {
     "data": {
      "text/html": [
       "<iframe width=\"560\" height=\"315\" src=\"https://www.youtube.com/embed/HW29067qVWk\" frameborder=\"0\" allow=\"accelerometer; autoplay; encrypted-media; gyroscope; picture-in-picture\" allowfullscreen></iframe>\n"
      ],
      "text/plain": [
       "<IPython.core.display.HTML object>"
      ]
     },
     "metadata": {},
     "output_type": "display_data"
    }
   ],
   "source": [
    "%%html\n",
    "<iframe width=\"560\" height=\"315\" src=\"https://www.youtube.com/embed/HW29067qVWk\" frameborder=\"0\" allow=\"accelerometer; autoplay; encrypted-media; gyroscope; picture-in-picture\" allowfullscreen></iframe>"
   ]
  }
 ],
 "metadata": {
  "jupytext": {
   "formats": "ipynb,md:myst",
   "text_representation": {
    "extension": ".md",
    "format_name": "myst",
    "format_version": 0.13,
    "jupytext_version": "1.16.7"
   }
  },
  "kernelspec": {
   "display_name": "Python 3 (ipykernel)",
   "language": "python",
   "name": "python3"
  },
  "language_info": {
   "codemirror_mode": {
    "name": "ipython",
    "version": 3
   },
   "file_extension": ".py",
   "mimetype": "text/x-python",
   "name": "python",
   "nbconvert_exporter": "python",
   "pygments_lexer": "ipython3",
   "version": "3.12.8"
  },
  "source_map": [
   13,
   38,
   44,
   54,
   58,
   66,
   166,
   170,
   178,
   182,
   194,
   198,
   200,
   204,
   206,
   210,
   213,
   217,
   220,
   233,
   237,
   243,
   246,
   250,
   252,
   256,
   260,
   262,
   266,
   268,
   274,
   278,
   280,
   294,
   312,
   336,
   338,
   350,
   353,
   365
  ]
 },
 "nbformat": 4,
 "nbformat_minor": 5
}