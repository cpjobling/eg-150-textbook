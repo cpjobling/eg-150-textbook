{
 "cells": [
  {
   "cell_type": "code",
   "execution_count": 1,
   "id": "44a65b54",
   "metadata": {
    "slideshow": {
     "slide_type": "fragment"
    }
   },
   "outputs": [
    {
     "name": "stdout",
     "output_type": "stream",
     "text": [
      "X(s) =\n"
     ]
    },
    {
     "name": "stdout",
     "output_type": "stream",
     "text": [
      "laplace(x(t), t, s)\n"
     ]
    }
   ],
   "source": [
    "format compact\n",
    "syms s t x(t) % define Laplace transform variable and time as symbols\n",
    "X(s) = laplace(x(t))"
   ]
  },
  {
   "cell_type": "code",
   "execution_count": 2,
   "id": "1cb09fe8",
   "metadata": {
    "slideshow": {
     "slide_type": "fragment"
    }
   },
   "outputs": [],
   "source": [
    "% set up\n",
    "format compact\n",
    "syms s t a\n",
    "assume(a,'real')\n",
    "u0(t) = heaviside(t);"
   ]
  },
  {
   "cell_type": "code",
   "execution_count": 3,
   "id": "a1ce5726",
   "metadata": {
    "slideshow": {
     "slide_type": "fragment"
    }
   },
   "outputs": [
    {
     "name": "stdout",
     "output_type": "stream",
     "text": [
      "x(t) =\n"
     ]
    },
    {
     "name": "stdout",
     "output_type": "stream",
     "text": [
      "exp(-a*t)*heaviside(t)\n"
     ]
    }
   ],
   "source": [
    "x(t) = exp(-a*t)*u0(t)"
   ]
  },
  {
   "cell_type": "code",
   "execution_count": 4,
   "id": "5fc21a28",
   "metadata": {
    "slideshow": {
     "slide_type": "subslide"
    }
   },
   "outputs": [
    {
     "data": {
      "image/png": "[encoded data removed]",
      "text/plain": [
       "<IPython.core.display.Image object>"
      ]
     },
     "metadata": {},
     "output_type": "display_data"
    }
   ],
   "source": [
    "fplot(subs(x(t),a,1))"
   ]
  },
  {
   "cell_type": "code",
   "execution_count": 5,
   "id": "c8a9b5e2",
   "metadata": {
    "slideshow": {
     "slide_type": "subslide"
    }
   },
   "outputs": [
    {
     "name": "stdout",
     "output_type": "stream",
     "text": [
      "ans =\n"
     ]
    },
    {
     "name": "stdout",
     "output_type": "stream",
     "text": [
      "piecewise(in(s, 'real') & a + s < 0, Inf, a + real(s) ~= 0 & ~in(s, 'real'), 1/(a + s) - limit(exp(- t*a - t*s), t, Inf)/(a + s), in(s, 'real') & 0 < a + s | angle(s) in Dom::Interval(-pi/2, pi/2) & 0 < a & s ~= 0, 1/(a + s), (~in(s, 'real') | 0 <= a + s) & (~in(s, 'real') | a + s <= 0) & (a + real(s) == 0 | in(s, 'real')) & (~angle(s) in Dom::Interval(-pi/2, pi/2) | a <= 0 | s == 0), int(exp(-t*a)*exp(-t*s), t, 0, Inf))\n"
     ]
    }
   ],
   "source": [
    "int(x(t)*exp(-s*t),t,0,inf)"
   ]
  },
  {
   "cell_type": "code",
   "execution_count": 6,
   "id": "ac8ababc",
   "metadata": {
    "slideshow": {
     "slide_type": "fragment"
    }
   },
   "outputs": [],
   "source": [
    "assume(s + a > 0)"
   ]
  },
  {
   "cell_type": "code",
   "execution_count": 7,
   "id": "19c981e2",
   "metadata": {
    "slideshow": {
     "slide_type": "fragment"
    }
   },
   "outputs": [
    {
     "name": "stdout",
     "output_type": "stream",
     "text": [
      "ans =\n"
     ]
    },
    {
     "name": "stdout",
     "output_type": "stream",
     "text": [
      "1/(a + s)\n"
     ]
    }
   ],
   "source": [
    "int(x(t)*exp(-s*t),t,0,inf)"
   ]
  },
  {
   "cell_type": "code",
   "execution_count": 8,
   "id": "b33668d2",
   "metadata": {
    "slideshow": {
     "slide_type": "subslide"
    }
   },
   "outputs": [
    {
     "name": "stdout",
     "output_type": "stream",
     "text": [
      "X(s) =\n"
     ]
    },
    {
     "name": "stdout",
     "output_type": "stream",
     "text": [
      "1/(a + s)\n"
     ]
    }
   ],
   "source": [
    "X(s) = laplace(x(t))"
   ]
  },
  {
   "cell_type": "code",
   "execution_count": 9,
   "id": "412d34aa",
   "metadata": {
    "slideshow": {
     "slide_type": "fragment"
    }
   },
   "outputs": [
    {
     "name": "stdout",
     "output_type": "stream",
     "text": [
      "x(t) =\n"
     ]
    },
    {
     "name": "stdout",
     "output_type": "stream",
     "text": [
      "-heaviside(-t)*exp(-a*t)\n"
     ]
    }
   ],
   "source": [
    "x(t) = -exp(-a*t)*u0(-t)"
   ]
  },
  {
   "cell_type": "code",
   "execution_count": 10,
   "id": "54bbeee5",
   "metadata": {
    "slideshow": {
     "slide_type": "fragment"
    }
   },
   "outputs": [
    {
     "data": {
      "image/png": "[encoded data removed]",
      "text/plain": [
       "<IPython.core.display.Image object>"
      ]
     },
     "metadata": {},
     "output_type": "display_data"
    }
   ],
   "source": [
    "fplot(subs(x(t),a,1))"
   ]
  },
  {
   "cell_type": "code",
   "execution_count": 11,
   "id": "feec5bc8",
   "metadata": {
    "slideshow": {
     "slide_type": "subslide"
    }
   },
   "outputs": [
    {
     "name": "stdout",
     "output_type": "stream",
     "text": [
      "ans =\n"
     ]
    },
    {
     "name": "stdout",
     "output_type": "stream",
     "text": [
      "-Inf\n"
     ]
    }
   ],
   "source": [
    "int(x(t)*exp(-s*t),t,-inf,0)"
   ]
  },
  {
   "cell_type": "code",
   "execution_count": 12,
   "id": "6548a91b",
   "metadata": {
    "slideshow": {
     "slide_type": "subslide"
    }
   },
   "outputs": [
    {
     "name": "stdout",
     "output_type": "stream",
     "text": [
      "X(s) =\n"
     ]
    },
    {
     "name": "stdout",
     "output_type": "stream",
     "text": [
      "0\n"
     ]
    }
   ],
   "source": [
    "X(s)=laplace(x(t))"
   ]
  },
  {
   "cell_type": "code",
   "execution_count": 13,
   "id": "211eecee",
   "metadata": {
    "slideshow": {
     "slide_type": "fragment"
    }
   },
   "outputs": [
    {
     "name": "stdout",
     "output_type": "stream",
     "text": [
      "ans =\n"
     ]
    },
    {
     "name": "stdout",
     "output_type": "stream",
     "text": [
      "1/(a + s)\n"
     ]
    }
   ],
   "source": [
    "assume(s + a < 0)\n",
    "int(x(t)*exp(-s*t),t,-inf,0)"
   ]
  },
  {
   "cell_type": "code",
   "execution_count": 14,
   "id": "965d73cb",
   "metadata": {
    "slideshow": {
     "slide_type": "fragment"
    }
   },
   "outputs": [],
   "source": [
    "n = [2 4]; d = [1 4 3];"
   ]
  },
  {
   "cell_type": "code",
   "execution_count": 15,
   "id": "3784a221",
   "metadata": {
    "slideshow": {
     "slide_type": "fragment"
    }
   },
   "outputs": [
    {
     "name": "stdout",
     "output_type": "stream",
     "text": [
      "z =\n",
      "    -2\n"
     ]
    },
    {
     "name": "stdout",
     "output_type": "stream",
     "text": [
      "p =\n",
      "    -3\n",
      "    -1\n"
     ]
    }
   ],
   "source": [
    "z = roots(n), p = roots(d), k = 2;"
   ]
  },
  {
   "cell_type": "code",
   "execution_count": 16,
   "id": "5ca498c0",
   "metadata": {
    "slideshow": {
     "slide_type": "fragment"
    }
   },
   "outputs": [
    {
     "data": {
      "image/png": "[encoded data removed]",
      "text/plain": [
       "<IPython.core.display.Image object>"
      ]
     },
     "metadata": {},
     "output_type": "display_data"
    }
   ],
   "source": [
    "pzmap(p,z)"
   ]
  },
  {
   "cell_type": "code",
   "execution_count": 17,
   "id": "024df576",
   "metadata": {
    "slideshow": {
     "slide_type": "notes"
    }
   },
   "outputs": [
    {
     "name": "stdout",
     "output_type": "stream",
     "text": [
      "F(s) =\n"
     ]
    },
    {
     "name": "stdout",
     "output_type": "stream",
     "text": [
      "laplace(f(t), t, s)\n"
     ]
    }
   ],
   "source": [
    "syms s t f(t)\n",
    "F(s) = laplace(f(t))"
   ]
  },
  {
   "cell_type": "code",
   "execution_count": 18,
   "id": "96164971",
   "metadata": {
    "slideshow": {
     "slide_type": "notes"
    }
   },
   "outputs": [
    {
     "name": "stdout",
     "output_type": "stream",
     "text": [
      "Zeros =\n",
      "    -3\n"
     ]
    },
    {
     "name": "stdout",
     "output_type": "stream",
     "text": [
      "Poles =\n",
      "  -2.0000 + 0.0000i\n",
      "  -1.0000 + 1.4142i\n",
      "  -1.0000 - 1.4142i\n"
     ]
    },
    {
     "name": "stdout",
     "output_type": "stream",
     "text": [
      "K =\n",
      "     3\n"
     ]
    },
    {
     "data": {
      "image/png": "[encoded data removed]",
      "text/plain": [
       "<IPython.core.display.Image object>"
      ]
     },
     "metadata": {},
     "output_type": "display_data"
    }
   ],
   "source": [
    "Nx = [3 9]; Dx = [1 4 7 6]; % coefficients in descending powers of s\n",
    "Zeros = roots(Nx)\n",
    "Poles = roots(Dx) % Note the roots are complex!\n",
    "K = 3\n",
    "pzmap(Poles,Zeros)"
   ]
  }
 ],
 "metadata": {
  "jupytext": {
   "formats": "md:myst,ipynb",
   "text_representation": {
    "extension": ".md",
    "format_name": "myst",
    "format_version": 0.13,
    "jupytext_version": "1.15.2"
   }
  },
  "kernelspec": {
   "display_name": "Matlab",
   "language": "matlab",
   "name": "matlab"
  },
  "language_info": {
   "codemirror_mode": "octave",
   "file_extension": ".m",
   "help_links": [
    {
     "text": "MetaKernel Magics",
     "url": "https://metakernel.readthedocs.io/en/latest/source/README.html"
    }
   ],
   "mimetype": "text/x-octave",
   "name": "matlab",
   "version": "0.17.1"
  },
  "source_map": [
   15,
   22,
   28,
   46,
   51,
   57,
   63,
   71,
   77,
   83,
   91,
   95,
   99,
   105,
   111,
   115,
   121,
   128,
   138,
   143,
   148,
   152,
   161,
   167,
   171,
   183,
   191,
   199,
   207,
   215,
   223,
   231,
   237,
   241,
   249,
   253,
   259,
   268,
   274,
   282,
   290,
   298,
   306,
   315,
   321,
   329,
   333,
   341,
   345,
   349,
   354,
   360,
   364,
   368,
   372,
   376,
   380,
   384,
   388,
   392,
   396,
   402,
   410,
   416,
   424,
   428,
   436,
   440,
   448,
   452,
   461,
   499,
   573,
   582,
   588,
   604,
   614
  ]
 },
 "nbformat": 4,
 "nbformat_minor": 5
}