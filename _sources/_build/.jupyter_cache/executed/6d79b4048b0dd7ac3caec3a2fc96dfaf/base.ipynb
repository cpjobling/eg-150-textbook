{
 "cells": [
  {
   "cell_type": "code",
   "execution_count": 1,
   "id": "d7972b73",
   "metadata": {
    "slideshow": {
     "slide_type": "fragment"
    }
   },
   "outputs": [],
   "source": [
    "clear all\n",
    "format compact"
   ]
  },
  {
   "cell_type": "code",
   "execution_count": 2,
   "id": "60620512",
   "metadata": {
    "slideshow": {
     "slide_type": "fragment"
    }
   },
   "outputs": [
    {
     "name": "stdout",
     "output_type": "stream",
     "text": [
      "r =\n",
      "    1.0000\n",
      "    1.0000\n"
     ]
    },
    {
     "name": "stdout",
     "output_type": "stream",
     "text": [
      "p =\n",
      "   -3.0000\n",
      "   -2.0000\n",
      "k =\n",
      "     []\n"
     ]
    }
   ],
   "source": [
    "Ns = [2, 5]; Ds = [1, 5, 6];\n",
    "[r,p,k] = residue(Ns, Ds)"
   ]
  },
  {
   "cell_type": "code",
   "execution_count": 3,
   "id": "e79a4ff0",
   "metadata": {
    "slideshow": {
     "slide_type": "fragment"
    }
   },
   "outputs": [
    {
     "name": "stdout",
     "output_type": "stream",
     "text": [
      "ft =\n"
     ]
    },
    {
     "name": "stdout",
     "output_type": "stream",
     "text": [
      "exp(-2*t) + exp(-3*t)\n"
     ]
    },
    {
     "data": {
      "image/png": "[encoded data removed]",
      "text/plain": [
       "<IPython.core.display.Image object>"
      ]
     },
     "metadata": {},
     "output_type": "display_data"
    }
   ],
   "source": [
    "syms s t;\n",
    "Fs = (2*s + 5)/(s^2 + 5*s + 6);\n",
    "ft = ilaplace(Fs)\n",
    "fplot(ft,[0,5])"
   ]
  },
  {
   "cell_type": "code",
   "execution_count": 4,
   "id": "d98d9850",
   "metadata": {
    "slideshow": {
     "slide_type": "subslide"
    }
   },
   "outputs": [
    {
     "name": "stdout",
     "output_type": "stream",
     "text": [
      "ans =\n"
     ]
    },
    {
     "name": "stdout",
     "output_type": "stream",
     "text": [
      "[s + 3, s + 5, s + 1]\n"
     ]
    }
   ],
   "source": [
    "syms s;\n",
    "factor(s^3 + 9*s^2 + 23*s + 15)"
   ]
  },
  {
   "cell_type": "code",
   "execution_count": 5,
   "id": "788600cc",
   "metadata": {
    "slideshow": {
     "slide_type": "fragment"
    }
   },
   "outputs": [
    {
     "name": "stdout",
     "output_type": "stream",
     "text": [
      "Ds =\n",
      "     1     5    12     8\n"
     ]
    },
    {
     "name": "stdout",
     "output_type": "stream",
     "text": [
      "r =\n",
      "  -0.2000 - 0.1500i\n",
      "  -0.2000 + 0.1500i\n",
      "   0.4000 + 0.0000i\n"
     ]
    },
    {
     "name": "stdout",
     "output_type": "stream",
     "text": [
      "p =\n",
      "  -2.0000 + 2.0000i\n",
      "  -2.0000 - 2.0000i\n",
      "  -1.0000 + 0.0000i\n"
     ]
    },
    {
     "name": "stdout",
     "output_type": "stream",
     "text": [
      "k =\n",
      "     []\n"
     ]
    }
   ],
   "source": [
    "Ns = [1 3]; Ds = conv([1 1],[1 4 8]) % conv of two vectors is polynomial multiplication\n",
    "[r,p,k]=residue(Ns,Ds)"
   ]
  },
  {
   "cell_type": "code",
   "execution_count": 6,
   "id": "e328f9de",
   "metadata": {
    "slideshow": {
     "slide_type": "fragment"
    }
   },
   "outputs": [
    {
     "name": "stdout",
     "output_type": "stream",
     "text": [
      "r =\n",
      "     1\n"
     ]
    },
    {
     "name": "stdout",
     "output_type": "stream",
     "text": [
      "p =\n",
      "    -1\n"
     ]
    },
    {
     "name": "stdout",
     "output_type": "stream",
     "text": [
      "k =\n",
      "     1     1\n"
     ]
    }
   ],
   "source": [
    "Ns = [1, 2, 2]; Ds = [1 1];\n",
    "[r, p, k] = residue(Ns, Ds)"
   ]
  },
  {
   "cell_type": "code",
   "execution_count": 7,
   "id": "e7c5bd40",
   "metadata": {
    "slideshow": {
     "slide_type": "fragment"
    }
   },
   "outputs": [
    {
     "name": "stdout",
     "output_type": "stream",
     "text": [
      "f6 =\n"
     ]
    },
    {
     "name": "stdout",
     "output_type": "stream",
     "text": [
      "exp(-t) + dirac(t) + dirac(1, t)\n"
     ]
    }
   ],
   "source": [
    "syms s;\n",
    "F6 = (s^2 + 2*s + 2)/(s + 1);\n",
    "f6 = ilaplace(F6)"
   ]
  }
 ],
 "metadata": {
  "jupytext": {
   "formats": "ipynb,md:myst",
   "text_representation": {
    "extension": ".md",
    "format_name": "myst",
    "format_version": 0.13,
    "jupytext_version": "1.15.2"
   }
  },
  "kernelspec": {
   "display_name": "Matlab",
   "language": "matlab",
   "name": "matlab"
  },
  "language_info": {
   "codemirror_mode": "octave",
   "file_extension": ".m",
   "help_links": [
    {
     "text": "MetaKernel Magics",
     "url": "https://metakernel.readthedocs.io/en/latest/source/README.html"
    }
   ],
   "mimetype": "text/x-octave",
   "name": "matlab",
   "version": "0.17.1"
  },
  "source_map": [
   15,
   20,
   26,
   42,
   51,
   62,
   66,
   70,
   81,
   90,
   98,
   108,
   118,
   125,
   138,
   143,
   149,
   155,
   161,
   175,
   191,
   201,
   212,
   217,
   221,
   230,
   241,
   246,
   255,
   261,
   267,
   274,
   285,
   296,
   303,
   312,
   316,
   322,
   330,
   343,
   349,
   353,
   362,
   366,
   374,
   382,
   388,
   394,
   400,
   406,
   410,
   418,
   427,
   441,
   452,
   458,
   469,
   484,
   500,
   510,
   515,
   524,
   534,
   540,
   547,
   558,
   600,
   614
  ]
 },
 "nbformat": 4,
 "nbformat_minor": 5
}