{
 "cells": [
  {
   "cell_type": "code",
   "execution_count": 1,
   "id": "3c8eb061",
   "metadata": {
    "slideshow": {
     "slide_type": "notes"
    }
   },
   "outputs": [],
   "source": [
    "cd matlab"
   ]
  },
  {
   "cell_type": "code",
   "execution_count": 2,
   "id": "03b24aca",
   "metadata": {
    "slideshow": {
     "slide_type": "fragment"
    }
   },
   "outputs": [],
   "source": [
    "open examples8"
   ]
  }
 ],
 "metadata": {
  "jupytext": {
   "formats": "ipynb,md:myst",
   "text_representation": {
    "extension": ".md",
    "format_name": "myst",
    "format_version": 0.13,
    "jupytext_version": "1.14.4"
   }
  },
  "kernelspec": {
   "display_name": "Matlab",
   "language": "matlab",
   "name": "matlab"
  },
  "language_info": {
   "codemirror_mode": "octave",
   "file_extension": ".m",
   "help_links": [
    {
     "text": "MetaKernel Magics",
     "url": "https://metakernel.readthedocs.io/en/latest/source/README.html"
    }
   ],
   "mimetype": "text/x-octave",
   "name": "matlab",
   "version": "0.17.1"
  },
  "source_map": [
   15,
   22,
   28,
   37,
   48,
   60,
   64,
   70,
   76,
   85,
   89,
   97,
   101,
   107,
   111,
   123,
   134,
   142,
   152,
   156,
   167,
   171,
   181,
   185,
   192,
   203,
   207,
   213,
   218,
   231,
   235,
   239,
   247,
   255,
   262,
   275,
   279,
   285,
   291,
   308,
   364,
   380,
   391,
   395,
   402,
   406,
   413,
   417,
   430,
   434,
   446,
   450,
   490,
   500
  ]
 },
 "nbformat": 4,
 "nbformat_minor": 5
}