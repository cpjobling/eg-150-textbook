{
 "cells": [
  {
   "cell_type": "code",
   "execution_count": 1,
   "id": "ddcace4c",
   "metadata": {
    "slideshow": {
     "slide_type": "notes"
    }
   },
   "outputs": [],
   "source": [
    "cd matlab"
   ]
  },
  {
   "cell_type": "code",
   "execution_count": 2,
   "id": "22cb37ab",
   "metadata": {
    "slideshow": {
     "slide_type": "fragment"
    }
   },
   "outputs": [],
   "source": [
    "open examples8"
   ]
  }
 ],
 "metadata": {
  "jupytext": {
   "formats": "ipynb,md:myst",
   "text_representation": {
    "extension": ".md",
    "format_name": "myst",
    "format_version": 0.13,
    "jupytext_version": "1.15.2"
   }
  },
  "kernelspec": {
   "display_name": "Matlab",
   "language": "matlab",
   "name": "matlab"
  },
  "language_info": {
   "codemirror_mode": "octave",
   "file_extension": ".m",
   "help_links": [
    {
     "text": "MetaKernel Magics",
     "url": "https://metakernel.readthedocs.io/en/latest/source/README.html"
    }
   ],
   "mimetype": "text/x-octave",
   "name": "matlab",
   "version": "0.17.1"
  },
  "source_map": [
   15,
   22,
   28,
   37,
   48,
   60,
   64,
   70,
   76,
   85,
   89,
   97,
   103,
   107,
   119,
   130,
   138,
   148,
   152,
   163,
   167,
   177,
   181,
   188,
   199,
   203,
   209,
   214,
   227,
   231,
   235,
   243,
   251,
   258,
   271,
   275,
   281,
   287,
   304,
   360,
   376,
   387,
   391,
   398,
   402,
   409,
   413,
   426,
   430,
   442,
   446,
   486,
   496
  ]
 },
 "nbformat": 4,
 "nbformat_minor": 5
}