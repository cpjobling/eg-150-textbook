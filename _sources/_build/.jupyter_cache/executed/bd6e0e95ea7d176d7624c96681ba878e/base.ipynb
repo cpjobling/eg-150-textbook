{
 "cells": [
  {
   "cell_type": "code",
   "execution_count": 1,
   "id": "6821307d",
   "metadata": {
    "slideshow": {
     "slide_type": "-"
    }
   },
   "outputs": [],
   "source": [
    "% set up\n",
    "format compact\n",
    "%setappdata(0, \"MKernel_plot_format\", 'svg')"
   ]
  },
  {
   "cell_type": "code",
   "execution_count": 2,
   "id": "4d8f21be",
   "metadata": {
    "slideshow": {
     "slide_type": "fragment"
    }
   },
   "outputs": [
    {
     "data": {
      "text/latex": [
       "$X(s) =\\textrm{laplace}\\left(x\\left(t\\right),t,s\\right)$"
      ]
     },
     "execution_count": 2,
     "metadata": {},
     "output_type": "execute_result"
    }
   ],
   "source": [
    "syms s t x(t) % define Laplace transform variable and time as symbols\n",
    "X(s) = laplace(x(t))"
   ]
  },
  {
   "cell_type": "code",
   "execution_count": 3,
   "id": "a8712cfd",
   "metadata": {
    "slideshow": {
     "slide_type": "fragment"
    }
   },
   "outputs": [],
   "source": [
    "syms s t a\n",
    "assume(a,'real')\n",
    "u0(t) = heaviside(t);"
   ]
  },
  {
   "cell_type": "code",
   "execution_count": 4,
   "id": "bae36677",
   "metadata": {
    "slideshow": {
     "slide_type": "fragment"
    }
   },
   "outputs": [
    {
     "data": {
      "text/latex": [
       "$x(t) ={\\mathrm{e}}^{-a\\,t} \\,\\textrm{heaviside}\\left(t\\right)$"
      ]
     },
     "execution_count": 4,
     "metadata": {},
     "output_type": "execute_result"
    }
   ],
   "source": [
    "x(t) = exp(-a*t)*u0(t)"
   ]
  },
  {
   "cell_type": "code",
   "execution_count": 5,
   "id": "42ed6b82",
   "metadata": {
    "slideshow": {
     "slide_type": "subslide"
    }
   },
   "outputs": [
    {
     "data": {
      "image/png": "[encoded data removed]"
     },
     "execution_count": 5,
     "metadata": {},
     "output_type": "execute_result"
    }
   ],
   "source": [
    "fplot(subs(x(t),a,1))"
   ]
  },
  {
   "cell_type": "code",
   "execution_count": 6,
   "id": "1752d6a6",
   "metadata": {
    "slideshow": {
     "slide_type": "subslide"
    }
   },
   "outputs": [
    {
     "data": {
      "text/latex": [
       "$ans =\\left\\lbrace \\begin{array}{cl}\n",
       "\\infty  & \\;\\textrm{if}\\;\\;s\\in \\mathbb{R}\\wedge a+s<0\\\\\n",
       "\\frac{1}{a+s}-\\frac{\\lim_{t\\to \\infty } \\;{\\mathrm{e}}^{-t\\,a-t\\,s} }{a+s} & \\;\\textrm{if}\\;\\;a+\\textrm{real}\\left(s\\right)\\not= 0\\wedge s\\not\\in \\mathbb{R}\\\\\n",
       "\\frac{1}{a+s} & \\;\\textrm{if}\\;\\;{\\left(s\\in \\mathbb{R}\\wedge 0<a+s\\right)}\\vee {\\left(\\textrm{angle}\\left(s\\right)\\in \\left(-\\frac{\\pi }{2},\\frac{\\pi }{2}\\right)\\wedge 0<a\\wedge s\\not= 0\\right)}\\\\\n",
       "\\int_0^{\\infty } {\\mathrm{e}}^{-t\\,a} \\,{\\mathrm{e}}^{-t\\,s} \\;\\textrm{d}t & \\;\\textrm{if}\\;\\;{\\left(s\\not\\in \\mathbb{R}\\vee 0\\le a+s\\right)}\\wedge {\\left(s\\not\\in \\mathbb{R}\\vee a+s\\le 0\\right)}\\wedge {\\left(a+\\textrm{real}\\left(s\\right)=0\\vee s\\in \\mathbb{R}\\right)}\\wedge {\\left(\\textrm{angle}\\left(s\\right)\\not\\in \\left(-\\frac{\\pi }{2},\\frac{\\pi }{2}\\right)\\vee a\\le 0\\vee s=0\\right)}\n",
       "\\end{array}\\right.$"
      ]
     },
     "execution_count": 6,
     "metadata": {},
     "output_type": "execute_result"
    }
   ],
   "source": [
    "int(x(t)*exp(-s*t),t,0,inf)"
   ]
  },
  {
   "cell_type": "code",
   "execution_count": 7,
   "id": "b1810c71",
   "metadata": {
    "slideshow": {
     "slide_type": "fragment"
    }
   },
   "outputs": [],
   "source": [
    "assume(s + a > 0)"
   ]
  },
  {
   "cell_type": "code",
   "execution_count": 8,
   "id": "a26401ca",
   "metadata": {
    "slideshow": {
     "slide_type": "fragment"
    }
   },
   "outputs": [
    {
     "data": {
      "text/latex": [
       "$ans =\\frac{1}{a+s}$"
      ]
     },
     "execution_count": 8,
     "metadata": {},
     "output_type": "execute_result"
    }
   ],
   "source": [
    "int(x(t)*exp(-s*t),t,0,inf)"
   ]
  },
  {
   "cell_type": "code",
   "execution_count": 9,
   "id": "97e07af3",
   "metadata": {
    "slideshow": {
     "slide_type": "subslide"
    }
   },
   "outputs": [
    {
     "data": {
      "text/latex": [
       "$X(s) =\\frac{1}{a+s}$"
      ]
     },
     "execution_count": 9,
     "metadata": {},
     "output_type": "execute_result"
    }
   ],
   "source": [
    "X(s) = laplace(x(t))"
   ]
  },
  {
   "cell_type": "code",
   "execution_count": 10,
   "id": "c6f26630",
   "metadata": {
    "slideshow": {
     "slide_type": "fragment"
    }
   },
   "outputs": [
    {
     "data": {
      "text/latex": [
       "$x(t) =-\\textrm{heaviside}\\left(-t\\right)\\,{\\mathrm{e}}^{-a\\,t}$"
      ]
     },
     "execution_count": 10,
     "metadata": {},
     "output_type": "execute_result"
    }
   ],
   "source": [
    "x(t) = -exp(-a*t)*u0(-t)"
   ]
  },
  {
   "cell_type": "code",
   "execution_count": 11,
   "id": "19276505",
   "metadata": {
    "slideshow": {
     "slide_type": "fragment"
    }
   },
   "outputs": [
    {
     "data": {
      "image/png": "[encoded data removed]"
     },
     "execution_count": 11,
     "metadata": {},
     "output_type": "execute_result"
    }
   ],
   "source": [
    "fplot(subs(x(t),a,1))"
   ]
  },
  {
   "cell_type": "code",
   "execution_count": 12,
   "id": "2e3f1661",
   "metadata": {
    "slideshow": {
     "slide_type": "subslide"
    }
   },
   "outputs": [
    {
     "data": {
      "text/latex": [
       "$ans =-\\infty$"
      ]
     },
     "execution_count": 12,
     "metadata": {},
     "output_type": "execute_result"
    }
   ],
   "source": [
    "int(x(t)*exp(-s*t),t,-inf,0)"
   ]
  },
  {
   "cell_type": "code",
   "execution_count": 13,
   "id": "302987d1",
   "metadata": {
    "slideshow": {
     "slide_type": "subslide"
    }
   },
   "outputs": [
    {
     "data": {
      "text/latex": [
       "$X(s) =0$"
      ]
     },
     "execution_count": 13,
     "metadata": {},
     "output_type": "execute_result"
    }
   ],
   "source": [
    "X(s)=laplace(x(t))"
   ]
  },
  {
   "cell_type": "code",
   "execution_count": 14,
   "id": "b72a8ea1",
   "metadata": {
    "slideshow": {
     "slide_type": "fragment"
    }
   },
   "outputs": [
    {
     "data": {
      "text/latex": [
       "$ans =\\frac{1}{a+s}$"
      ]
     },
     "execution_count": 14,
     "metadata": {},
     "output_type": "execute_result"
    }
   ],
   "source": [
    "assume(s + a < 0)\n",
    "int(x(t)*exp(-s*t),t,-inf,0)"
   ]
  },
  {
   "cell_type": "code",
   "execution_count": 15,
   "id": "56a3f6d0",
   "metadata": {
    "slideshow": {
     "slide_type": "fragment"
    }
   },
   "outputs": [],
   "source": [
    "n = [2 4]; d = [1 4 3];"
   ]
  },
  {
   "cell_type": "code",
   "execution_count": 16,
   "id": "e26d2f63",
   "metadata": {
    "slideshow": {
     "slide_type": "fragment"
    }
   },
   "outputs": [
    {
     "data": {
      "text/html": [
       "<html><body><pre>z = -2</pre></body></html>"
      ],
      "text/plain": [
       "z = -2"
      ]
     },
     "execution_count": 16,
     "metadata": {},
     "output_type": "execute_result"
    },
    {
     "data": {
      "text/html": [
       "<html><body><pre>p = 2×1 double\n",
       "    -3\n",
       "    -1\n",
       "</pre></body></html>"
      ],
      "text/plain": [
       "p = 2×1 double\n",
       "    -3\n",
       "    -1\n"
      ]
     },
     "execution_count": 16,
     "metadata": {},
     "output_type": "execute_result"
    }
   ],
   "source": [
    "z = roots(n), p = roots(d), k = 2;"
   ]
  },
  {
   "cell_type": "code",
   "execution_count": 17,
   "id": "6a1cbbc6",
   "metadata": {
    "slideshow": {
     "slide_type": "fragment"
    }
   },
   "outputs": [
    {
     "data": {
      "image/png": "[encoded data removed]"
     },
     "execution_count": 17,
     "metadata": {},
     "output_type": "execute_result"
    }
   ],
   "source": [
    "pzmap(p,z)"
   ]
  },
  {
   "cell_type": "code",
   "execution_count": 18,
   "id": "de8b5520",
   "metadata": {
    "slideshow": {
     "slide_type": "notes"
    }
   },
   "outputs": [
    {
     "data": {
      "text/latex": [
       "$F(s) =\\textrm{laplace}\\left(f\\left(t\\right),t,s\\right)$"
      ]
     },
     "execution_count": 18,
     "metadata": {},
     "output_type": "execute_result"
    }
   ],
   "source": [
    "syms s t f(t)\n",
    "F(s) = laplace(f(t))"
   ]
  },
  {
   "cell_type": "code",
   "execution_count": 19,
   "id": "4b07af69",
   "metadata": {
    "slideshow": {
     "slide_type": "notes"
    }
   },
   "outputs": [
    {
     "data": {
      "text/html": [
       "<html><body><pre>Zeros = -3</pre></body></html>"
      ],
      "text/plain": [
       "Zeros = -3"
      ]
     },
     "execution_count": 19,
     "metadata": {},
     "output_type": "execute_result"
    },
    {
     "data": {
      "text/html": [
       "<html><body><pre>Poles = \n",
       "  -2.0000 + 0.0000i\n",
       "  -1.0000 + 1.4142i\n",
       "  -1.0000 - 1.4142i</pre></body></html>"
      ],
      "text/plain": [
       "Poles = \n",
       "  -2.0000 + 0.0000i\n",
       "  -1.0000 + 1.4142i\n",
       "  -1.0000 - 1.4142i"
      ]
     },
     "execution_count": 19,
     "metadata": {},
     "output_type": "execute_result"
    },
    {
     "data": {
      "text/html": [
       "<html><body><pre>K = 3</pre></body></html>"
      ],
      "text/plain": [
       "K = 3"
      ]
     },
     "execution_count": 19,
     "metadata": {},
     "output_type": "execute_result"
    },
    {
     "data": {
      "image/png": "[encoded data removed]"
     },
     "execution_count": 19,
     "metadata": {},
     "output_type": "execute_result"
    }
   ],
   "source": [
    "Nx = [3 9]; Dx = [1 4 7 6]; % coefficients in descending powers of s\n",
    "Zeros = roots(Nx)\n",
    "Poles = roots(Dx) % Note the roots are complex!\n",
    "K = 3\n",
    "pzmap(Poles,Zeros)"
   ]
  }
 ],
 "metadata": {
  "jupytext": {
   "formats": "md:myst,ipynb",
   "text_representation": {
    "extension": ".md",
    "format_name": "myst",
    "format_version": 0.13,
    "jupytext_version": "1.16.7"
   }
  },
  "kernelspec": {
   "display_name": "MATLAB Kernel",
   "language": "matlab",
   "name": "jupyter_matlab_kernel"
  },
  "language_info": {
   "file_extension": ".m",
   "mimetype": "text/x-matlab",
   "name": "matlab"
  },
  "source_map": [
   15,
   22,
   28,
   46,
   51,
   57,
   63,
   71,
   77,
   83,
   91,
   95,
   99,
   105,
   111,
   115,
   121,
   128,
   138,
   147,
   152,
   158,
   162,
   171,
   177,
   181,
   191,
   199,
   207,
   215,
   223,
   231,
   239,
   245,
   249,
   257,
   261,
   267,
   276,
   282,
   290,
   298,
   306,
   314,
   323,
   329,
   337,
   341,
   349,
   353,
   357,
   362,
   368,
   372,
   376,
   380,
   384,
   388,
   392,
   396,
   400,
   404,
   410,
   418,
   424,
   432,
   436,
   444,
   448,
   456,
   460,
   469,
   507,
   581,
   590,
   596,
   612,
   622
  ]
 },
 "nbformat": 4,
 "nbformat_minor": 5
}