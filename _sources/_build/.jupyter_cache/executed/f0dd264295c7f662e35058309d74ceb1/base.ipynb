{
 "cells": [
  {
   "cell_type": "code",
   "execution_count": null,
   "id": "6f88ac04",
   "metadata": {},
   "outputs": [],
   "source": []
  }
 ],
 "metadata": {
  "jupytext": {
   "formats": "md:myst,ipynb",
   "text_representation": {
    "extension": ".md",
    "format_name": "myst",
    "format_version": 0.13,
    "jupytext_version": "1.14.4"
   }
  },
  "kernelspec": {
   "display_name": "Python 3 (ipykernel)",
   "language": "python",
   "name": "python3"
  },
  "language_info": {
   "codemirror_mode": {
    "name": "ipython",
    "version": 3
   },
   "file_extension": ".py",
   "mimetype": "text/x-python",
   "name": "python",
   "nbconvert_exporter": "python",
   "pygments_lexer": "ipython3",
   "version": "3.10.9"
  },
  "source_map": [
   15,
   22,
   28,
   38,
   43,
   51,
   57,
   63,
   69,
   75,
   84,
   95,
   105,
   111,
   115,
   127,
   135,
   141,
   147,
   154,
   160,
   170,
   193,
   206,
   219,
   248,
   261,
   291,
   304,
   333,
   346,
   375,
   388,
   417,
   425,
   438,
   452,
   476
  ]
 },
 "nbformat": 4,
 "nbformat_minor": 5
}