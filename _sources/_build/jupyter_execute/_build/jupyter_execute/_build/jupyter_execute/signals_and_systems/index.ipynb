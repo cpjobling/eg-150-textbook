{
 "cells": [
  {
   "cell_type": "markdown",
   "id": "27ba98fe",
   "metadata": {},
   "source": [
    "# Signals and Systems\n",
    "\n",
    "Based on Chapter 1 of `cite`{hsu} \n",
    "\n",
    "## Introduction\n",
    "\n",
    "## Signals and Classifications of Systems\n",
    "\n",
    "## Elementary Signals\n",
    "\n",
    "## Systems and Classifications of Systems\n",
    "\n",
    "## Worked Problems\n",
    "\n",
    "## Homework Problems\n",
    "\n",
    "## Lab Exercises"
   ]
  }
 ],
 "metadata": {
  "jupytext": {
   "formats": "ipynb,md:myst",
   "text_representation": {
    "extension": ".md",
    "format_name": "myst",
    "format_version": 0.13,
    "jupytext_version": "1.14.0"
   }
  },
  "kernelspec": {
   "display_name": "Matlab",
   "language": "matlab",
   "name": "matlab"
  },
  "language_info": {
   "codemirror_mode": "octave",
   "file_extension": ".m",
   "help_links": [
    {
     "text": "MetaKernel Magics",
     "url": "https://metakernel.readthedocs.io/en/latest/source/README.html"
    }
   ],
   "mimetype": "text/x-octave",
   "name": "matlab",
   "version": "0.17.1"
  },
  "source_map": [
   13
  ]
 },
 "nbformat": 4,
 "nbformat_minor": 5
}