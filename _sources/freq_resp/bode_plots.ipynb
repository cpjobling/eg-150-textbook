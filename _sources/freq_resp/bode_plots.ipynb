{
 "cells": [
  {
   "cell_type": "markdown",
   "id": "ea06eb91",
   "metadata": {},
   "source": [
    "(unit6.2)=\n",
    "# Unit 6.2: Bode Plots"
   ]
  },
  {
   "cell_type": "markdown",
   "id": "2be57019",
   "metadata": {},
   "source": [
    "Follow along at [cpjobling.github.io/eg-150-textbook/freq_resp/tf_response](https://cpjobling.github.io/eg-150-textbook/freq_resp/bode_plots)\n",
    "\n",
    "![QR Code for this lecture](pictures/qr_code_for_unit62.png)"
   ]
  },
  {
   "cell_type": "markdown",
   "id": "1e0810d3",
   "metadata": {},
   "source": [
    "## Acknowledgements\n",
    "\n",
    "This Unit is preparation for EG-247 Digital Signal Processing and EG-243 Modern Control Systems. It will not be examined for EG-150. \n",
    "\n",
    "The notes for this section have been adapted from the MATLAB LiveScript **FrequencyResponseAnalysis.mlx** from the MathWorks curriculum module [Transfer Function Analysis of Dynamic Systems](https://uk.mathworks.com/matlabcentral/fileexchange/94635-transfer-function-analysis-of-dynamic-systems) {cite}`tfads`.  To get the most out of this Unit, you should install that project and run the activities and complete the exercises.\n",
    "\n",
    "We will go through the process for installing the MatWorks curriculum process during the lecture.\n",
    "\n",
    "The other examples in the project provide useful reinforcement of the concepts covered in Units 4-6 of this course. They will form the basis of the introduction to EG-247 next year."
   ]
  },
  {
   "cell_type": "markdown",
   "id": "275eb43a",
   "metadata": {},
   "source": [
    "# Agenda\n",
    "\n",
    "* {ref}`unit6.2.1`\n",
    "* {ref}`unit6.2.2`\n",
    "* {ref}`unit6.2.3`\n",
    "* {ref}`unit6.2.4`\n",
    "* {ref}`unit6.2.5`\n",
    "* {ref}`unit6.2.6`\n",
    "* {ref}`unit6.2.7`\n",
    "* {ref}`unit6.2.8`"
   ]
  },
  {
   "cell_type": "markdown",
   "id": "f4ab955a",
   "metadata": {},
   "source": [
    "## Summary\n",
    "\n",
    "In this unit we have ....\n",
    "\n",
    "We covered the following topics\n",
    "\n",
    "* {ref}`unit6.2.1`\n",
    "* {ref}`unit6.2.2`\n",
    "* {ref}`unit6.2.3`\n",
    "* {ref}`unit6.2.4`\n",
    "* {ref}`unit6.2.5`\n",
    "* {ref}`unit6.2.6`\n",
    "* {ref}`unit6.2.7`\n",
    "* {ref}`unit6.2.8`"
   ]
  },
  {
   "cell_type": "markdown",
   "id": "5d35edc0",
   "metadata": {},
   "source": [
    "(unit6.2:takeaways)=\n",
    "### Take Aways\n",
    "\n",
    "#### Takeaway 1"
   ]
  },
  {
   "cell_type": "code",
   "execution_count": null,
   "id": "2e4d7d61",
   "metadata": {},
   "outputs": [],
   "source": []
  }
 ],
 "metadata": {
  "kernelspec": {
   "display_name": "Matlab",
   "language": "matlab",
   "name": "matlab"
  },
  "language_info": {
   "codemirror_mode": "octave",
   "file_extension": ".m",
   "help_links": [
    {
     "text": "MetaKernel Magics",
     "url": "https://metakernel.readthedocs.io/en/latest/source/README.html"
    }
   ],
   "mimetype": "text/x-octave",
   "name": "matlab",
   "version": "0.17.1"
  }
 },
 "nbformat": 4,
 "nbformat_minor": 5
}
