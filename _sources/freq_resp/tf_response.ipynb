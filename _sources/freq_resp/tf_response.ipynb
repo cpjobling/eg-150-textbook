{
 "cells": [
  {
   "cell_type": "markdown",
   "id": "2d663f2a",
   "metadata": {
    "slideshow": {
     "slide_type": "slide"
    }
   },
   "source": [
    "(unit6.1)=\n",
    "# Unit 6.1: Frequency Response of a Transfer Function"
   ]
  },
  {
   "cell_type": "markdown",
   "id": "07400a05",
   "metadata": {
    "slideshow": {
     "slide_type": "notes"
    }
   },
   "source": [
    "Follow along at [cpjobling.github.io/eg-150-textbook/freq_resp/tf_response](https://cpjobling.github.io/eg-150-textbook/freq_resp/tf_response)\n",
    "\n",
    "![QR Code for this lecture](pictures/qr_code_for_unit61.png)"
   ]
  },
  {
   "cell_type": "markdown",
   "id": "4c1d867b",
   "metadata": {
    "slideshow": {
     "slide_type": "notes"
    }
   },
   "source": [
    "## Acknowledgements\n",
    "\n",
    "This Unit is preparation for EG-247 Digital Signal Processing and EG-243 Modern Control Systems. It will not be examined for EG-150. \n",
    "\n",
    "The notes for this section have been adapted from the MATLAB LiveScript **FrequencyResponseAnalysis.mlx** from the MathWorks curriculum module [Transfer Function Analysis of Dynamic Systems](https://uk.mathworks.com/matlabcentral/fileexchange/94635-transfer-function-analysis-of-dynamic-systems) {cite}`tfads`.  To get the most out of this Unit, you should install that project and run the activities and complete the exercises.\n",
    "\n",
    "We will go through the process for installing the MatWorks curriculum process during the lecture.\n",
    "\n",
    "The other examples in the project provide useful reinforcement of the concepts covered in Units 4-6 of this course. They will form the basis of the introduction to EG-247 next year."
   ]
  },
  {
   "cell_type": "markdown",
   "id": "b221a628",
   "metadata": {
    "slideshow": {
     "slide_type": "notes"
    }
   },
   "source": [
    "# Agenda\n",
    "\n",
    "* {ref}`unit6.1.1`\n",
    "* {ref}`unit6.1.2`\n",
    "* {ref}`unit6.1.3`\n",
    "* {ref}`unit6.1.4`\n",
    "* {ref}`unit6.1.5`"
   ]
  },
  {
   "cell_type": "markdown",
   "id": "b6b64072",
   "metadata": {
    "slideshow": {
     "slide_type": "slide"
    }
   },
   "source": [
    "(unit6.1.1)=\n",
    "## Frequency response of a transfer function\n",
    "\n",
    "A transfer function with complex poles has undamped natural frequencies given by the magnitudes of the poles: $\\omega_n = |p|$. If an input force drives a system at or near its natural frequency, the solution can grow rapidly in magnitude."
   ]
  },
  {
   "cell_type": "markdown",
   "id": "57319e64",
   "metadata": {
    "slideshow": {
     "slide_type": "subslide"
    }
   },
   "source": [
    "### Exercise\n",
    "In this example, we will visually analyze  mass-spring-damper's response to sinusoidal inputs $u=\\sin\\left(\\omega_u t\\right)$ with various frequencies $\\omega_u$.\n",
    "\n",
    "::: {figure-md} fig:unit6.1:1\n",
    "<img src=\"pictures/smd.png\" alt=\"daigram of a mass-spring-damper system\" width=\"50%\" />\n",
    "\n",
    "Mass-spring-damper diagram\n",
    ":::"
   ]
  },
  {
   "cell_type": "markdown",
   "id": "993cbfe5",
   "metadata": {
    "slideshow": {
     "slide_type": "notes"
    }
   },
   "source": [
    "To get the full interactive experience, go the exercise in the MATLAB LiveScript **FrequencyResponseAnalysis.mlx**."
   ]
  },
  {
   "cell_type": "markdown",
   "id": "9f750a90",
   "metadata": {
    "slideshow": {
     "slide_type": "subslide"
    }
   },
   "source": [
    "The transfer function of the mass-spring-damper is\n",
    "\n",
    "$$\\frac{X(s)}{U(s)} = \\frac{1}{ms^2 + cs + k}.$$"
   ]
  },
  {
   "cell_type": "markdown",
   "id": "a75eee87",
   "metadata": {
    "slideshow": {
     "slide_type": "fragment"
    }
   },
   "source": [
    "Assume $m = 1$ kg, $c = 0.1$ Ns/mk $k = 1$ N/m, then\n",
    "\n",
    "$$\\frac{X(s)}{U(s)} = \\frac{1}{s^2 + 0.1s + 1}.$$"
   ]
  },
  {
   "cell_type": "markdown",
   "id": "18b29bb1",
   "metadata": {
    "slideshow": {
     "slide_type": "subslide"
    }
   },
   "source": [
    "(a) What are the poles of the transfer function?"
   ]
  },
  {
   "cell_type": "code",
   "execution_count": 1,
   "id": "8c9400bb",
   "metadata": {
    "slideshow": {
     "slide_type": "subslide"
    }
   },
   "outputs": [
    {
     "name": "stdout",
     "output_type": "stream",
     "text": [
      "\n",
      "Gs =\n",
      " \n",
      "         1\n",
      "  ---------------\n",
      "  s^2 + 0.1 s + 1\n",
      " \n",
      "Continuous-time transfer function.\n"
     ]
    },
    {
     "data": {
      "text/html": [
       "<html><body><pre>p = \n",
       "  -0.0500 + 0.9987i\n",
       "  -0.0500 - 0.9987i\n",
       "</pre></body></html>"
      ],
      "text/plain": [
       "p = \n",
       "  -0.0500 + 0.9987i\n",
       "  -0.0500 - 0.9987i\n"
      ]
     },
     "execution_count": 1,
     "metadata": {},
     "output_type": "execute_result"
    }
   ],
   "source": [
    "% Write your code here\n",
    "\n",
    "Gs = tf(1,[1 0.1 1])\n",
    "\n",
    "% Record your answer in p\n",
    "p = pole(Gs)"
   ]
  },
  {
   "cell_type": "markdown",
   "id": "13a28fe2",
   "metadata": {
    "slideshow": {
     "slide_type": "subslide"
    }
   },
   "source": [
    "(b) What is the undamped natural frequency of the function in rad/s?"
   ]
  },
  {
   "cell_type": "code",
   "execution_count": 2,
   "id": "2655d8e7",
   "metadata": {
    "slideshow": {
     "slide_type": "subslide"
    }
   },
   "outputs": [
    {
     "data": {
      "text/html": [
       "<html><body><pre>freq = 2×1 double\n",
       "     1\n",
       "     1\n",
       "</pre></body></html>"
      ],
      "text/plain": [
       "freq = 2×1 double\n",
       "     1\n",
       "     1\n"
      ]
     },
     "execution_count": 2,
     "metadata": {},
     "output_type": "execute_result"
    },
    {
     "data": {
      "text/html": [
       "<html><body><pre>zeta = 2×1 double\n",
       "    0.0500\n",
       "    0.0500\n",
       "</pre></body></html>"
      ],
      "text/plain": [
       "zeta = 2×1 double\n",
       "    0.0500\n",
       "    0.0500\n"
      ]
     },
     "execution_count": 2,
     "metadata": {},
     "output_type": "execute_result"
    }
   ],
   "source": [
    "% Write your code here\n",
    "\n",
    "% Record your answer in freq\n",
    "[freq,zeta] = damp(Gs)"
   ]
  },
  {
   "cell_type": "markdown",
   "id": "161754d8",
   "metadata": {
    "slideshow": {
     "slide_type": "subslide"
    }
   },
   "source": [
    "(c) The simulation below drives the function $G$ with an input function $U = \\sin( \\omega_u t )$ which has a frequency of $\\omega_u$ rad/s. The input and output signals are plotted by simulating the response with the [`lsim`](https://uk.mathworks.com/help/control/ref/dynamicsystem.lsim.html) function."
   ]
  },
  {
   "cell_type": "markdown",
   "id": "1b635f45",
   "metadata": {
    "slideshow": {
     "slide_type": "fragment"
    }
   },
   "source": [
    "* What driving frequency $\\omega_u$ produces the response with the greatest magnitude?"
   ]
  },
  {
   "cell_type": "markdown",
   "id": "b30383de",
   "metadata": {
    "slideshow": {
     "slide_type": "fragment"
    }
   },
   "source": [
    "* How long does it take for the response to reach a steady state?"
   ]
  },
  {
   "cell_type": "markdown",
   "id": "a587768a",
   "metadata": {
    "slideshow": {
     "slide_type": "fragment"
    }
   },
   "source": [
    "* Does the frequency of the steady-state waveform match the frequency of the input waveform?"
   ]
  },
  {
   "cell_type": "markdown",
   "id": "796c90a6",
   "metadata": {
    "slideshow": {
     "slide_type": "fragment"
    }
   },
   "source": [
    "* Is the output $x(t)$ in or out of phase with the input $u(t)$? Does this depend on $\\omega_u$?"
   ]
  },
  {
   "cell_type": "code",
   "execution_count": null,
   "id": "17e8da98",
   "metadata": {
    "slideshow": {
     "slide_type": "subslide"
    }
   },
   "outputs": [],
   "source": [
    "% min=0.1 max = 2; step=0.1; default = 0.5;\n",
    "omegau = 1.0; % Frequency of the forcing [rad/s]\n",
    "figure\n",
    "t = linspace(0,100,1e3);   % Time variable array\n",
    "u = sin(omegau*t);         % Forcing function (as an array)\n",
    "G = tf([0 0 1],[1 0.1 1]); % The transfer function\n",
    "lsim(G,u,t)                % Run simulation\n",
    "axis([0 100 -20 20])       % Adjust the axis limits\n",
    "ylabel(\"x [m]\")"
   ]
  },
  {
   "cell_type": "markdown",
   "id": "915c03dc",
   "metadata": {
    "slideshow": {
     "slide_type": "slide"
    }
   },
   "source": [
    "(unit6.1.2)=\n",
    "## Constructing a Bode plot\n",
    "\n",
    "In general, the frequency response of a transfer function is analyzed by providing input sinusoids with different frequencies and identifying how the magnitude and phase of the steady output changes."
   ]
  },
  {
   "cell_type": "markdown",
   "id": "1e684cae",
   "metadata": {
    "slideshow": {
     "slide_type": "subslide"
    }
   },
   "source": [
    "::: {figure-md} fig:unit6.1:2\n",
    "<img src=\"pictures/fr.png\" alt=\"The steady response of a linear time-invariant system to a sine input will be a sine wave with the same frequency as the input. The response sine wave undergoes a phase shift and a change in magnitude that depend on the frequency of the input sine wave. This plot only shows the response to a single frequency.\" width=\"75%\" />\n",
    "\n",
    "The steady response of a linear time-invariant system to a sine input will be a sine wave with the same frequency as the input. The response sine wave undergoes a phase shift and a change in magnitude that depend on the frequency of the input sine wave. This plot only shows the response to a single frequency. \n",
    ":::"
   ]
  },
  {
   "cell_type": "markdown",
   "id": "9e71f3cc",
   "metadata": {
    "slideshow": {
     "slide_type": "subslide"
    }
   },
   "source": [
    "The frequency-domain analysis is often shown in a **Bode plot**. The Bode plot is constructed by plotting the phase shift and magnitude at varied input frequencies, capturing the system's response to many different frequencies in a single diagram."
   ]
  },
  {
   "cell_type": "markdown",
   "id": "b588f13b",
   "metadata": {
    "slideshow": {
     "slide_type": "subslide"
    }
   },
   "source": [
    "(u6.1:activity)=\n",
    "### Activity\n",
    "\n",
    "In this activity (performed in the MATLAB Live Script **FrequencyDomainAnalysis.mlx**, you will construct the Bode plot for the mass-spring-damper displacement transfer function:\n",
    "\n",
    "$$G(s) = \\frac{1}{s^2 + 0.1s + 1}$$\n",
    "      \n",
    "For each sinusoidal input $u = \\sin\\left(\\omega_u t\\right)$ the output $x(t)$ shows a transient behavior and a steady state behavior. The steady-state behavior is a sine wave with magnitude $M$ and phase $\\phi$: \n",
    "\n",
    "$$x_\\mathrm{steady}(t) = M \\sin \\left(\\omega_u t + \\phi \\right)$$\n",
    "    \n",
    "The Bode plot is generated by plotting the magnitude and phase of the steady-state output against the input frequency, $\\omega_u(t)$. The magnitude and frequency are plotted on logarithmic axes."
   ]
  },
  {
   "cell_type": "markdown",
   "id": "6a617567",
   "metadata": {
    "slideshow": {
     "slide_type": "notes"
    }
   },
   "source": [
    "Picture taken from MATLAB of the completed activity:\n",
    "\n",
    "![Completed activity](pictures/activity1_complete.png)"
   ]
  },
  {
   "cell_type": "markdown",
   "id": "f8f3af29",
   "metadata": {
    "slideshow": {
     "slide_type": "subslide"
    }
   },
   "source": [
    "#### Reflect\n",
    "\n",
    "* At which frequency is the most significant change in magnitude observed?\n",
    "* At which frequencies are the oscillations attenuated?\n",
    "* How does the phase of the response change between low and high frequency input signals?"
   ]
  },
  {
   "cell_type": "markdown",
   "id": "dd89bff2",
   "metadata": {
    "slideshow": {
     "slide_type": "subslide"
    }
   },
   "source": [
    "### Exercise\n",
    "\n",
    "Consider the transfer function used in the previous activity:\n",
    "\n",
    "$$G(s) = \\frac{1}{ s^2 + 0.1 s + 1}$$\n",
    "        \n",
    "Generate the Bode diagram using the [`bode`](https://uk.mathworks.com/help/control/ref/dynamicsystem.bode.html) function. Use `grid on` to turn on the grid."
   ]
  },
  {
   "cell_type": "code",
   "execution_count": null,
   "id": "2b61ba63",
   "metadata": {
    "slideshow": {
     "slide_type": "subslide"
    }
   },
   "outputs": [],
   "source": [
    "figure\n",
    "Gs = tf(1,[1, 0.1, 1])\n",
    "bode(Gs),grid"
   ]
  },
  {
   "cell_type": "markdown",
   "id": "31a6bd05",
   "metadata": {
    "slideshow": {
     "slide_type": "subslide"
    }
   },
   "source": [
    "#### Reflect\n",
    "\n",
    "* How does this Bode diagram differ from the one created in the previous activity?\n",
    "* How do you think the phase and magnitude of the response are computed \"under the hood?\""
   ]
  },
  {
   "cell_type": "markdown",
   "id": "d63cfc74",
   "metadata": {
    "slideshow": {
     "slide_type": "slide"
    }
   },
   "source": [
    "(unit6.1.3)=\n",
    "## Numerical evaluation of the frequency response\n",
    "\n",
    "It is not necessary to compute the time-domain response to create a Bode plot as done in the activity above. The activity only illustrates the principle behind the Bode plot. In practice, the frequency response can be computed entirely in the $s$-domain. This is accomplished by:"
   ]
  },
  {
   "cell_type": "markdown",
   "id": "7534e6f8",
   "metadata": {
    "slideshow": {
     "slide_type": "fragment"
    }
   },
   "source": [
    "* generating the complex transfer function by making the substitution $s=j\\omega$"
   ]
  },
  {
   "cell_type": "markdown",
   "id": "5ca60ed6",
   "metadata": {
    "slideshow": {
     "slide_type": "fragment"
    }
   },
   "source": [
    "* evaluating the complex transfer function at various frequencies"
   ]
  },
  {
   "cell_type": "markdown",
   "id": "ce27c8a4",
   "metadata": {
    "slideshow": {
     "slide_type": "fragment"
    }
   },
   "source": [
    "* computing the magnitude and phase of the result"
   ]
  },
  {
   "cell_type": "markdown",
   "id": "2462bea8",
   "metadata": {
    "slideshow": {
     "slide_type": "subslide"
    }
   },
   "source": [
    "### Example. \n",
    "\n",
    "Generate a Bode plot for the mass-spring-damper system:\n",
    "\n",
    "$$G(s) = \\frac{1}{s^2 + 0.1 s + 1}$$\n",
    "        \n",
    "by evaluating the complex transfer function."
   ]
  },
  {
   "cell_type": "markdown",
   "id": "361ff8c5",
   "metadata": {
    "slideshow": {
     "slide_type": "subslide"
    }
   },
   "source": [
    "#### Solution. \n",
    "\n",
    "The complex transfer function is created by setting $s = j\\omega$:\n",
    "\n",
    "$$G(j \\omega) = \\frac{1}{  (j\\omega)^2 + 0.1(j  \\omega) + 1} = \\frac{1}{ - \\omega^2 + 0.1 j  \\omega + 1}$$"
   ]
  },
  {
   "cell_type": "markdown",
   "id": "ec9025df",
   "metadata": {
    "slideshow": {
     "slide_type": "subslide"
    }
   },
   "source": [
    "Numerically evaluating the complex transfer function for many frequencies $\\omega$ can be accomplished using an array of frequencies."
   ]
  },
  {
   "cell_type": "code",
   "execution_count": null,
   "id": "7bfb0979",
   "metadata": {
    "slideshow": {
     "slide_type": "fragment"
    }
   },
   "outputs": [],
   "source": [
    "omega = linspace(0.1,10,500);                   % An array of frequencies\n",
    "Gjomega = 1./(-omega.^2 + 0.1*j*omega + 1);     % Complex transfer function evaluated at many frequencies"
   ]
  },
  {
   "cell_type": "markdown",
   "id": "f172722e",
   "metadata": {
    "slideshow": {
     "slide_type": "subslide"
    }
   },
   "source": [
    "The magnitude and phase of complex transfer function values can be computed directly on the arrays."
   ]
  },
  {
   "cell_type": "code",
   "execution_count": null,
   "id": "9549f5a7",
   "metadata": {
    "slideshow": {
     "slide_type": "fragment"
    }
   },
   "outputs": [],
   "source": [
    "M = abs(Gjomega);       % The magnitude of the complex number\n",
    "Mdb = 20*log10(M);       % Magnitude in dB"
   ]
  },
  {
   "cell_type": "code",
   "execution_count": null,
   "id": "fc42d0d7",
   "metadata": {
    "slideshow": {
     "slide_type": "subslide"
    }
   },
   "outputs": [],
   "source": [
    "phi = angle(Gjomega);   % Phase angle in radians\n",
    "phiDeg = phi*180/pi;     % Phase angle in degrees"
   ]
  },
  {
   "cell_type": "markdown",
   "id": "541123b3",
   "metadata": {
    "slideshow": {
     "slide_type": "subslide"
    }
   },
   "source": [
    "The first panel in the Bode plot is constructed by graphing the magnitude in dB against the input frequencies, $\\omega$."
   ]
  },
  {
   "cell_type": "code",
   "execution_count": null,
   "id": "44de216a",
   "metadata": {
    "slideshow": {
     "slide_type": "subslide"
    }
   },
   "outputs": [],
   "source": [
    "figure\n",
    "semilogx(omega,Mdb),grid on\n",
    "xlabel(\"Frequency (rad/s)\")\n",
    "ylabel(\"Magnitude (dB)\")"
   ]
  },
  {
   "cell_type": "markdown",
   "id": "ccbd515d",
   "metadata": {
    "slideshow": {
     "slide_type": "subslide"
    }
   },
   "source": [
    "The second panel is constructed by graphing the phase in degrees against the input frequencies, $\\omega$."
   ]
  },
  {
   "cell_type": "code",
   "execution_count": null,
   "id": "0469ea62",
   "metadata": {
    "slideshow": {
     "slide_type": "subslide"
    }
   },
   "outputs": [],
   "source": [
    "figure\n",
    "semilogx(omega,phiDeg), grid on\n",
    "xlabel(\"Frequency (rad/s)\")\n",
    "ylabel(\"Phase (degrees)\")"
   ]
  },
  {
   "cell_type": "markdown",
   "id": "2d88eef2",
   "metadata": {
    "slideshow": {
     "slide_type": "slide"
    }
   },
   "source": [
    "(unit6.1.4)=\n",
    "### Concluding Exercise\n",
    "\n",
    "In this exercise, you will analyze the transfer function\n",
    "\n",
    "$$H(s) = \\frac{1}{s^2 + 9}$$\n",
    "        \n",
    "This transfer function corresponds to a mass-spring system with parameters $m=1$, $c=0$ and $k=9$."
   ]
  },
  {
   "cell_type": "markdown",
   "id": "b054198a",
   "metadata": {
    "slideshow": {
     "slide_type": "slide"
    }
   },
   "source": [
    "**(a)** What are the natural frequencies of $H(s)$ in rad/s?"
   ]
  },
  {
   "cell_type": "code",
   "execution_count": null,
   "id": "4392b357",
   "metadata": {
    "slideshow": {
     "slide_type": "fragment"
    }
   },
   "outputs": [],
   "source": [
    "% Write your code here\n",
    "Hs = tf(1,[1, 0, 9])\n",
    "% Record your answer in omegan\n",
    "[omegan,zetan] = damp(Hs)"
   ]
  },
  {
   "cell_type": "markdown",
   "id": "53d460af",
   "metadata": {
    "slideshow": {
     "slide_type": "subslide"
    }
   },
   "source": [
    "**(b)** Generate the Bode plot for $H(s)$ using the `bode` function."
   ]
  },
  {
   "cell_type": "code",
   "execution_count": null,
   "id": "894a0317",
   "metadata": {
    "slideshow": {
     "slide_type": "fragment"
    }
   },
   "outputs": [],
   "source": [
    "bode(Hs)"
   ]
  },
  {
   "cell_type": "markdown",
   "id": "d3a8bc38",
   "metadata": {
    "slideshow": {
     "slide_type": "subslide"
    }
   },
   "source": [
    "**(c)** Write the expression for the complex transfer function by making the substitution $s=j\\omega$. What is the value of the complex transfer function for $\\omega = 0.5$?"
   ]
  },
  {
   "cell_type": "code",
   "execution_count": null,
   "id": "68e39de6",
   "metadata": {},
   "outputs": [],
   "source": [
    "% Record your answer in Hcomplex\n",
    "Hcomplex = 1./(-omegan(1)^2 + 9)"
   ]
  },
  {
   "cell_type": "markdown",
   "id": "230accf9",
   "metadata": {
    "slideshow": {
     "slide_type": "subslide"
    }
   },
   "source": [
    "**(d)** What are the magnitude (in dB) and phase (in degrees) of the transfer function for $\\omega = 0.5$? Can you identify this point on the Bode plot?\n",
    "* Use the definition $y_{[\\mathrm{dB}]} = 20 \\log_{10}(y)$."
   ]
  },
  {
   "cell_type": "code",
   "execution_count": null,
   "id": "dff07979",
   "metadata": {
    "slideshow": {
     "slide_type": "fragment"
    }
   },
   "outputs": [],
   "source": [
    "w = 0.5;\n",
    "MdB = 20*log10(abs(1./(-w^2 + 9)))% Calculate the magnitude in dB here\n",
    "phase = angle(1./(-w^2 + 9))*180/pi % Calculate the phase in degrees herephase = angle(); % Calculate the phase in degrees here"
   ]
  },
  {
   "cell_type": "markdown",
   "id": "69ba5360",
   "metadata": {
    "slideshow": {
     "slide_type": "subslide"
    }
   },
   "source": [
    "**(e)** Use the [`lsim`](https://uk.mathworks.com/help/control/ref/dynamicsystem.lsim.html?searchHighlight=lsim) function to compute and plot the time-domain response of $H$ to a sinusoidal input function\n",
    "\n",
    "$$u(t) = \\sin(\\omega_n t)$$\n",
    "     \n",
    "where $\\omega_n$ is the natural frequency you computed in **(a)**. Simulate until a final time of 100 seconds."
   ]
  },
  {
   "cell_type": "code",
   "execution_count": null,
   "id": "eba5256e",
   "metadata": {
    "slideshow": {
     "slide_type": "subslide"
    }
   },
   "outputs": [],
   "source": [
    "% Write your code here\n",
    "t = linspace(0,100,1000);\n",
    "u = sin(3*t);\n",
    "lsim(Hs,u,t);\n",
    "ylabel('x [m]')"
   ]
  },
  {
   "cell_type": "markdown",
   "id": "f3e9ca1c",
   "metadata": {
    "slideshow": {
     "slide_type": "notes"
    }
   },
   "source": [
    "(unit6.1.5)=\n",
    "## Unit 6.1: Homework\n",
    "\n",
    "1. Install the MathWorks curriculum module [Transfer Function Analysis of Dynamic Systems](https://uk.mathworks.com/matlabcentral/fileexchange/94635-transfer-function-analysis-of-dynamic-systems) {cite}`tfads` and open the MATLAB Live Script **FrequencyDomainAnalysis.mlx**. Explore the Exercises and Activities we have reviewed in the unit.\n",
    "\n",
    "2. The remainder of the MATLAB Live Script **FrequencyDomainAnalysis.mlx** applies what we have looked at so far to a simple filtering problem based around a Buck Converter such as might be used in the DC-DC systems in an electric vehicle. Study the examples and try to complete the activities and exercises.\n",
    "\n",
    "3. The remaining Live Scripts in the curriculum module demonstrate the cocepts of the Laplace transform, transfer functions and pole-zero analysis. You may find these useful. We will start EG-247 next year with these examples."
   ]
  },
  {
   "cell_type": "markdown",
   "id": "24ae1742",
   "metadata": {
    "slideshow": {
     "slide_type": "notes"
    }
   },
   "source": [
    "## Summary\n",
    "\n",
    "In this unit we have ....\n",
    "\n",
    "We covered the following topics\n",
    "\n",
    "* {ref}`unit6.1.1`\n",
    "* {ref}`unit6.1.2`\n",
    "* {ref}`unit6.1.3`\n",
    "* {ref}`unit6.1.4`\n",
    "* {ref}`unit6.1.5`"
   ]
  },
  {
   "cell_type": "markdown",
   "id": "c769c887",
   "metadata": {
    "slideshow": {
     "slide_type": "notes"
    }
   },
   "source": [
    "(unit6.1:takeaways)=\n",
    "### Unit 6.1: Take Aways\n",
    "\n",
    "#### Frequency response\n",
    "\n",
    "If you subject a stable LTI system with transfer function\n",
    "\n",
    "$$H(s) = \\frac{Y(s)}{X(s)}$$\n",
    "\n",
    "to a sinusoidal input signal $x(t) = A_\\mathrm{in} \\sin\\left(\\omega t \\right)$, the steady-state response (after any initial transients have decayed to zero) will also be a sinusoidal signal $y(t) = A_\\mathrm{out}\\sin\\left(\\omega t + \\phi\\right)$. That is a signal with the same frequency as the input signal but a new amplitude $A_\\mathrm{out}$ and a possible phase-shift $\\phi$.\n",
    "\n",
    "The output signal amplitude and phase-shift can be measured experimentally, e.g. with a signal generator and oscilloscope. We then plot the *magnitude*\n",
    "\n",
    "$$M = \\left|\\frac{A_\\mathrm{out}}{A_\\mathrm{in}} \\right|$$\n",
    "\n",
    "and phase-shift $\\phi$ (in degrees) on two plots against frequency. These plot represents the *frequency response* of the system.\n",
    "\n",
    "#### Frequency response from system function\n",
    "\n",
    "The frequency response of a stable LTI system depends only on $H(s)$. To determine the magnitude and phase we let $s = j\\omega$ then\n",
    "\n",
    "$$M = \\left|H(j\\omega\\right)|,\\,\\phi = \\angle H(j\\omega)$$\n",
    "\n",
    "Since $H(j\\omega)$ will be a *complex number* with real part $\\Re\\left\\{H(j\\omega)\\right\\}$ and imaginary part $\\Im\\left\\{H(j\\omega)\\right\\}$, the magnitude is \n",
    "\n",
    "$$M = \\sqrt{\\Re\\left\\{H(j\\omega)\\right\\}^2 + \\Im\\left\\{H(j\\omega)\\right\\}^2}$$\n",
    "\n",
    "and the phase-shift is\n",
    "\n",
    "$$\\phi = \\tan^{-1} \\frac{\\Im\\left\\{H(j\\omega)\\right\\}}{\\Re\\left\\{H(j\\omega)\\right\\}}. $$\n",
    "\n",
    "#### MATLAB functions introduced\n",
    "\n",
    "* `tf`: define a system as a transfer function.\n",
    "* `lsim`: simulate the response of a system defined by `tf`.\n",
    "* `abs`: compute the magnitude of (a vector) of complex numbers.\n",
    "* `angle`: compute the angle of (a vector) of complex numers.\n",
    "\n",
    "If `z` is a complex number (or a vector of complex numbers), we compute magnitude in dB using `20*log10(abs(z))` and phase-shift in degrees using `(180/pi)*angle(z)`.\n",
    "\n",
    "## Coming next\n",
    "\n",
    "The Bode plot is a form of frequency response diagram for which the magnitude (in DB) and phase (in degrees) are plotted against the log of frequency. Such a plot has nice geometric properties that we can exploit to simplify the analysis of complex systems. We will explore Bode diagrams in some detail in {ref}`unit6.2`."
   ]
  },
  {
   "cell_type": "markdown",
   "id": "af25d8ab",
   "metadata": {
    "slideshow": {
     "slide_type": "notes"
    }
   },
   "source": [
    "## References\n",
    "\n",
    "```{bibliography}\n",
    ":filter: docname in docnames\n",
    "```"
   ]
  }
 ],
 "metadata": {
  "celltoolbar": "Slideshow",
  "jupytext": {
   "formats": "ipynb,md:myst"
  },
  "kernelspec": {
   "display_name": "MATLAB Kernel",
   "language": "matlab",
   "name": "jupyter_matlab_kernel"
  },
  "language_info": {
   "file_extension": ".m",
   "mimetype": "text/x-matlab",
   "name": "matlab"
  }
 },
 "nbformat": 4,
 "nbformat_minor": 5
}
