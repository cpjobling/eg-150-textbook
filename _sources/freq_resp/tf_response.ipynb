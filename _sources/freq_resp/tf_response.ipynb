{
 "cells": [
  {
   "cell_type": "markdown",
   "id": "2d663f2a",
   "metadata": {
    "slideshow": {
     "slide_type": "slide"
    }
   },
   "source": [
    "(unit6.1)=\n",
    "# Unit 6.1: Frequency Respone of a Transfer Function"
   ]
  },
  {
   "cell_type": "markdown",
   "id": "07400a05",
   "metadata": {
    "slideshow": {
     "slide_type": "notes"
    }
   },
   "source": [
    "Follow along at [cpjobling.github.io/eg-150-textbook/freq_resp/tf_response](https://cpjobling.github.io/eg-150-textbook/freq_resp/tf_response)\n",
    "\n",
    "![QR Code for this lecture](pictures/qr_code_for_unit61.png)"
   ]
  },
  {
   "cell_type": "markdown",
   "id": "4c1d867b",
   "metadata": {
    "slideshow": {
     "slide_type": "notes"
    }
   },
   "source": [
    "## Acknowledgements\n",
    "\n",
    "This Unit is preparation for EG-247 Digital Signal Processing and EG-243 Modern Control Systems. It will not be examined for EG-150. \n",
    "\n",
    "The notes for this section have been adapted from the MATLAB LiveScript **FrequencyResponseAnalysis.mlx** from the MathWorks curriculum module [Transfer Function Analysis of Dynamic Systems](https://uk.mathworks.com/matlabcentral/fileexchange/94635-transfer-function-analysis-of-dynamic-systems) {cite}`tfads`.  To get the most out of this Unit, you should install that project and run the activities and complete the exercises.\n",
    "\n",
    "We will go through the process for installing the MatWorks curriculum process during the lecture.\n",
    "\n",
    "The other examples in the project provide useful reinforcement of the concepts covered in Units 4-6 of this course. They will form the basis of the introduction to EG-247 next year."
   ]
  },
  {
   "cell_type": "markdown",
   "id": "b221a628",
   "metadata": {
    "slideshow": {
     "slide_type": "notes"
    }
   },
   "source": [
    "# Agenda\n",
    "\n",
    "* {ref}`unit6.1.1`\n",
    "* {ref}`unit6.1.2`\n",
    "* {ref}`unit6.1.3`\n",
    "* {ref}`unit6.1.4`\n",
    "* {ref}`unit6.1.5`\n",
    "* {ref}`unit6.1.6`\n",
    "* {ref}`unit6.1.7`\n",
    "* {ref}`unit6.1.8`"
   ]
  },
  {
   "cell_type": "markdown",
   "id": "b6b64072",
   "metadata": {
    "slideshow": {
     "slide_type": "slide"
    }
   },
   "source": [
    "(unit6.1.1)=\n",
    "## Frequency response of a transfer function\n",
    "\n",
    "A transfer function with complex poles has undamped natural frequencies given by the magnitudes of the poles: $\\omega_n = |p|$. If an input force drives a system at or near its natural frequency, the solution can grow rapidly in magnitude."
   ]
  },
  {
   "cell_type": "markdown",
   "id": "57319e64",
   "metadata": {
    "slideshow": {
     "slide_type": "subslide"
    }
   },
   "source": [
    "### Example 1\n",
    "In this example, we will visually analyze  mass-spring-damper's response to sinusoidal inputs $u=\\sin\\left(\\omega_u t\\right)$ with various frequencies $\\omega_u$.\n",
    "\n",
    "::: {figure-md} fig:unit6.1:1\n",
    "<img src=\"pictures/smd.png\" alt=\"daigram of a mass-spring-damper system\" width=\"50%\" />\n",
    "\n",
    "Mass-spring-damper diagram\n",
    ":::"
   ]
  },
  {
   "cell_type": "markdown",
   "id": "993cbfe5",
   "metadata": {
    "slideshow": {
     "slide_type": "notes"
    }
   },
   "source": [
    "To get the full interactive experience, go the exercise in the MATLAB LiveScript **FrequencyResponseAnalysis.mlx**."
   ]
  },
  {
   "cell_type": "markdown",
   "id": "9f750a90",
   "metadata": {
    "slideshow": {
     "slide_type": "subslide"
    }
   },
   "source": [
    "The transfer function of the mass-spring-damper is\n",
    "\n",
    "$$\\frac{X(s)}{U(s)} = \\frac{1}{ms^2 + cs + k}.$$"
   ]
  },
  {
   "cell_type": "markdown",
   "id": "a75eee87",
   "metadata": {
    "slideshow": {
     "slide_type": "fragment"
    }
   },
   "source": [
    "Assume $m = 1$ kg, $c = 0.1$ Ns/mk $k = 1$ N/m, then\n",
    "\n",
    "$$\\frac{X(s)}{U(s)} = \\frac{1}{s^2 + 0.1s + 1}.$$"
   ]
  },
  {
   "cell_type": "markdown",
   "id": "18b29bb1",
   "metadata": {
    "slideshow": {
     "slide_type": "subslide"
    }
   },
   "source": [
    "(a) What are the poles of the transfer function?"
   ]
  },
  {
   "cell_type": "code",
   "execution_count": 16,
   "id": "8c9400bb",
   "metadata": {
    "slideshow": {
     "slide_type": "subslide"
    }
   },
   "outputs": [
    {
     "name": "stdout",
     "output_type": "stream",
     "text": [
      "\n",
      "G =\n",
      " \n",
      "         1\n",
      "  ---------------\n",
      "  s^2 + 0.1 s + 1\n",
      " \n",
      "Continuous-time transfer function.\n",
      "\n",
      "p =\n",
      "\n",
      "  -0.0500 + 0.9987i\n",
      "  -0.0500 - 0.9987i\n",
      "\n"
     ]
    }
   ],
   "source": [
    "% Write your code here\n",
    "\n",
    "G = tf(1,[1 0.1 1])\n",
    " \n",
    "% Record your answer in p\n",
    "p = pole(H)"
   ]
  },
  {
   "cell_type": "markdown",
   "id": "13a28fe2",
   "metadata": {
    "slideshow": {
     "slide_type": "subslide"
    }
   },
   "source": [
    "(b) What is the undamped natural frequency of the function in rad/s?"
   ]
  },
  {
   "cell_type": "code",
   "execution_count": 17,
   "id": "2655d8e7",
   "metadata": {
    "slideshow": {
     "slide_type": "subslide"
    }
   },
   "outputs": [
    {
     "name": "stdout",
     "output_type": "stream",
     "text": [
      "\n",
      "freq =\n",
      "\n",
      "     1\n",
      "     1\n",
      "\n"
     ]
    }
   ],
   "source": [
    "% Write your code here\n",
    "\n",
    "% Record your answer in freq\n",
    "freq = damp(H)"
   ]
  },
  {
   "cell_type": "markdown",
   "id": "161754d8",
   "metadata": {
    "slideshow": {
     "slide_type": "subslide"
    }
   },
   "source": [
    "(c) The simulation below drives the function $G$ with an input function $U = \\sin( \\omega_u t )$ which has a frequency of $\\omega_u$ rad/s. The input and output signals are plotted by simulating the response with the [`lsim`](https://uk.mathworks.com/help/control/ref/dynamicsystem.lsim.html) function."
   ]
  },
  {
   "cell_type": "markdown",
   "id": "1b635f45",
   "metadata": {
    "slideshow": {
     "slide_type": "fragment"
    }
   },
   "source": [
    "* What driving frequency $\\omega_u$ produces the response with the greatest magnitude?"
   ]
  },
  {
   "cell_type": "markdown",
   "id": "b30383de",
   "metadata": {
    "slideshow": {
     "slide_type": "fragment"
    }
   },
   "source": [
    "* How long does it take for the response to reach a steady state?"
   ]
  },
  {
   "cell_type": "markdown",
   "id": "a587768a",
   "metadata": {
    "slideshow": {
     "slide_type": "fragment"
    }
   },
   "source": [
    "* Does the frequency of the steady-state waveform match the frequency of the input waveform?"
   ]
  },
  {
   "cell_type": "markdown",
   "id": "796c90a6",
   "metadata": {
    "slideshow": {
     "slide_type": "fragment"
    }
   },
   "source": [
    "* Is the output $x(t)$ in or out of phase with the input $u(t)$? Does this depend on $\\omega_u$?"
   ]
  },
  {
   "cell_type": "code",
   "execution_count": 15,
   "id": "17e8da98",
   "metadata": {
    "slideshow": {
     "slide_type": "subslide"
    }
   },
   "outputs": [
    {
     "data": {
      "image/png": "[encoded data removed]",
      "text/plain": [
       "<IPython.core.display.Image object>"
      ]
     },
     "metadata": {},
     "output_type": "display_data"
    }
   ],
   "source": [
    "% min=0.1 max = 2; step=0.1; default = 0.5;\n",
    "omegau = 2; % Frequency of the forcing [rad/s]\n",
    "figure\n",
    "t = linspace(0,100,1e3);   % Time variable array\n",
    "u = sin(omegau*t);         % Forcing function (as an array)\n",
    "G = tf([0 0 1],[1 0.1 1]); % The transfer function\n",
    "lsim(G,u,t)                % Run simulation\n",
    "axis([0 100 -20 20])       % Adjust the axis limits\n",
    "ylabel(\"x [m]\")"
   ]
  },
  {
   "cell_type": "markdown",
   "id": "24ae1742",
   "metadata": {
    "slideshow": {
     "slide_type": "notes"
    }
   },
   "source": [
    "## Summary\n",
    "\n",
    "In this unit we have ....\n",
    "\n",
    "We covered the following topics\n",
    "\n",
    "* {ref}`unit6.1.1`\n",
    "* {ref}`unit6.1.2`\n",
    "* {ref}`unit6.1.3`\n",
    "* {ref}`unit6.1.4`\n",
    "* {ref}`unit6.1.5`\n",
    "* {ref}`unit6.1.6`\n",
    "* {ref}`unit6.1.7`\n",
    "* {ref}`unit6.1.8`"
   ]
  },
  {
   "cell_type": "markdown",
   "id": "c769c887",
   "metadata": {
    "slideshow": {
     "slide_type": "notes"
    }
   },
   "source": [
    "(unit6.1:takeaways)=\n",
    "### Take Aways\n",
    "\n",
    "#### Takeaway 1"
   ]
  },
  {
   "cell_type": "code",
   "execution_count": null,
   "id": "63b700a0",
   "metadata": {
    "slideshow": {
     "slide_type": "notes"
    }
   },
   "outputs": [],
   "source": []
  }
 ],
 "metadata": {
  "celltoolbar": "Slideshow",
  "kernelspec": {
   "display_name": "Matlab",
   "language": "matlab",
   "name": "matlab"
  },
  "language_info": {
   "codemirror_mode": "octave",
   "file_extension": ".m",
   "help_links": [
    {
     "text": "MetaKernel Magics",
     "url": "https://metakernel.readthedocs.io/en/latest/source/README.html"
    }
   ],
   "mimetype": "text/x-octave",
   "name": "matlab",
   "version": "0.17.1"
  }
 },
 "nbformat": 4,
 "nbformat_minor": 5
}
