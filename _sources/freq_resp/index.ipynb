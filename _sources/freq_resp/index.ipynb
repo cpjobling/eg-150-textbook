{
 "cells": [
  {
   "cell_type": "markdown",
   "id": "38ae8a46",
   "metadata": {},
   "source": [
    "(unit6)=\n",
    "# Unit 6: Frequency Response Analysis\n",
    "\n",
    "If you have a LTI system $h(t)$ and your input $x(t) = a\\sin(\\omega t)$ is a sinusoid, the steady-state output $y(t)$, after any initial transient has died away, will be another sinusoid whose magitude and phase depends only on the frequency of the input signal and the poles and zeros of the system.\n",
    "\n",
    "In other words,\n",
    "\n",
    "$$Y(\\omega) = H(\\omega).$$\n",
    "\n",
    "To find the stead-state frequency response of any LTI system, we simply make the substituition \n",
    "\n",
    "$$s = j\\omega$$\n",
    "\n",
    "In this final unit of EG-150 Signals and Systems we will explore this concept using MATLAB analysis and simulation and we will present a useful representation of the frequency response of a system called the Bode plot."
   ]
  },
  {
   "cell_type": "markdown",
   "id": "d6d76dee",
   "metadata": {},
   "source": [
    "## Table of Contents\n",
    "\n",
    "* {ref}`unit6.1`\n",
    "* {ref}`unit6.2`"
   ]
  }
 ],
 "metadata": {
  "jupytext": {
   "formats": "ipynb,md:myst"
  },
  "kernelspec": {
   "display_name": "Python 3 (ipykernel)",
   "language": "python",
   "name": "python3"
  },
  "language_info": {
   "codemirror_mode": {
    "name": "ipython",
    "version": 3
   },
   "file_extension": ".py",
   "mimetype": "text/x-python",
   "name": "python",
   "nbconvert_exporter": "python",
   "pygments_lexer": "ipython3",
   "version": "3.12.8"
  }
 },
 "nbformat": 4,
 "nbformat_minor": 5
}
