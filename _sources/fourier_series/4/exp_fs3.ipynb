{
 "cells": [
  {
   "cell_type": "markdown",
   "id": "51b5b1e4",
   "metadata": {
    "slideshow": {
     "slide_type": "slide"
    }
   },
   "source": [
    "(unit5.4)=\n",
    "# Unit 5.4: Applications of Line Spectra\n",
    "\n",
    "The preparatory reading for this section is [Chapter 7.10](https://ebookcentral.proquest.com/lib/swansea-ebooks/reader.action?docID=3384197&ppg=247) of  {cite}`karris`."
   ]
  },
  {
   "cell_type": "markdown",
   "id": "7bcb5609",
   "metadata": {},
   "source": [
    "Follow along at [cpjobling.github.io/eg-150-textbook/fourier_series/4/exp_fs3](https://cpjobling.github.io/eg-150-textbook/fourier_series/4/exp_fs3)\n",
    "\n",
    "![QR Code for this lecture](pictures/qrcode_fs3.png)"
   ]
  },
  {
   "cell_type": "markdown",
   "id": "cf33c809",
   "metadata": {
    "slideshow": {
     "slide_type": "notes"
    }
   },
   "source": [
    "This section concludes our introduction to Fourier Series.\n",
    "\n",
    "In {ref}`unit5.3` we saw that we could represent continuous-time periodic waveforms as line spectra in the frequency domain.\n",
    "\n",
    "In this section we discuss how we can use these line spectra for the calculation of power for signals with harmonics, computation of total harmanic distortion and we conclude with an introduction to filters."
   ]
  },
  {
   "cell_type": "markdown",
   "id": "560fbda1",
   "metadata": {
    "slideshow": {
     "slide_type": "slide"
    }
   },
   "source": [
    "## Agenda\n",
    "\n",
    "* {ref}`fse4:power`\n",
    "* {ref}`fse4:power_spectrum`\n",
    "* {ref}`fse4:thd`\n",
    "* {ref}`fse4:ss_resp`\n",
    "* {ref}`examples19`"
   ]
  },
  {
   "cell_type": "markdown",
   "id": "54ae3117",
   "metadata": {
    "slideshow": {
     "slide_type": "slide"
    }
   },
   "source": [
    "(fse4:power)=\n",
    "## Power in Periodic Signals"
   ]
  },
  {
   "cell_type": "markdown",
   "id": "756fbdb2",
   "metadata": {
    "slideshow": {
     "slide_type": "fragment"
    }
   },
   "source": [
    "In {ref}`unit2.2` we defined *Signal Energy*, *Average Signal Power* and *Root Mean Square Power* which for periodic signals will be defined as shown below:"
   ]
  },
  {
   "cell_type": "markdown",
   "id": "1cff9cd2",
   "metadata": {
    "slideshow": {
     "slide_type": "subslide"
    }
   },
   "source": [
    "$$E = \\int_0^T |x(t)|^2 dt$$ (eq:fs3:1)"
   ]
  },
  {
   "cell_type": "markdown",
   "id": "56cfb630",
   "metadata": {
    "slideshow": {
     "slide_type": "fragment"
    }
   },
   "source": [
    "$$P_{\\mathrm{av}} = \\frac{1}{T}\\int_0^T |x(t)|^2 dt$$ (eq:fs3:2)"
   ]
  },
  {
   "cell_type": "markdown",
   "id": "c88b0450",
   "metadata": {
    "slideshow": {
     "slide_type": "fragment"
    }
   },
   "source": [
    "$$P_{\\mathrm{RMS}} = \\sqrt{\\frac{1}{T}\\int_0^T |x(t)|^2 dt}$$ (eq:fs3:3)"
   ]
  },
  {
   "cell_type": "markdown",
   "id": "24df820b",
   "metadata": {
    "slideshow": {
     "slide_type": "subslide"
    }
   },
   "source": [
    "### Parseval's Theorem\n",
    "\n",
    "[Parseval's Theorem](https://en.wikipedia.org/wiki/Parseval's_theorem) states that the total average power of a periodic signal $f(t)$ is equal to the sum of the average powers of all its harmonic components."
   ]
  },
  {
   "cell_type": "markdown",
   "id": "8502e9b2",
   "metadata": {
    "slideshow": {
     "slide_type": "subslide"
    }
   },
   "source": [
    "The power in the $k$th harmonic $C_ke^{jk\\Omega_0 t}$ is given by\n",
    "\n",
    "$$P_k = \\frac{1}{T}\\int_0^T\\left|C_ke^{jk\\Omega_0 t}\\right|^2\\,dt = \\frac{1}{T}\\int_0^T\\left|C_k\\right|^2\\,dt=\\left|C_k\\right|^2$$ (eq:fs3:4)"
   ]
  },
  {
   "cell_type": "markdown",
   "id": "eec7c522",
   "metadata": {
    "slideshow": {
     "slide_type": "subslide"
    }
   },
   "source": [
    "Since $P_k = P_{-k}$, the total power of the $k$th harmomic is $2P_k$."
   ]
  },
  {
   "cell_type": "markdown",
   "id": "1d23a98b",
   "metadata": {
    "slideshow": {
     "slide_type": "notes"
    }
   },
   "source": [
    "You should note that $|C_k| = \\sqrt{C_k C_k^*}$ so $|C_k|^2 = C_k C_k^*$."
   ]
  },
  {
   "cell_type": "markdown",
   "id": "271ffa65",
   "metadata": {
    "slideshow": {
     "slide_type": "subslide"
    }
   },
   "source": [
    "Parseval's theorem states that\n",
    "\n",
    "$$P = \\frac{1}{T}\\int_0^T \\left|x(t)\\right|^2\\,dt = \\sum_{k=-\\infty}^{\\infty}\\left|C_k\\right|^2.$$ (eq:fs3:5)"
   ]
  },
  {
   "cell_type": "markdown",
   "id": "3d8be001",
   "metadata": {
    "slideshow": {
     "slide_type": "subslide"
    }
   },
   "source": [
    "### RMS Power\n",
    "\n",
    "By a similar argument:\n",
    "\n",
    "$$P_{\\mathrm{RMS}} = \\sqrt{\\frac{1}{T}\\int_0^T \\left|f(t)\\right|^2\\,dt} = \\sqrt{\\sum_{k=-\\infty}^{\\infty}\\left|C_k\\right|^2}.$$ (eq:fs3:6)"
   ]
  },
  {
   "cell_type": "markdown",
   "id": "dd9bc652",
   "metadata": {
    "slideshow": {
     "slide_type": "slide"
    }
   },
   "source": [
    "(fse4:power_spectrum)=\n",
    "## Power Spectrum\n",
    "\n",
    "The *power spectrum* of signal is the sequence of average powers in each complex harmonic: \n",
    "\n",
    "$$|C_k|^2.$$ \n",
    "\n",
    "For real periodic signals the power spectrum is a real even sequence as \n",
    "\n",
    "$$|C_{-k}|^2 = |C_k^*|^2 = |C_k|^2.$$"
   ]
  },
  {
   "cell_type": "markdown",
   "id": "3083b57c",
   "metadata": {
    "slideshow": {
     "slide_type": "slide"
    }
   },
   "source": [
    "(fse4:thd)=\n",
    "## Total Harmonic Distortion\n",
    "\n",
    "Suppose that a signal that is supposed to be a pure sine wave of amplitude A is distorted as shown in {numref}`fse:thd1` below\n",
    "\n",
    ":::{figure-md} fse:thd1\n",
    "<img src=\"pictures/thd.png\" alt=\"A sinusoid with harmomic distortion\" width=\"60%\">\n",
    "\n",
    "A sinusoid with harmomic distortion\n",
    ":::"
   ]
  },
  {
   "cell_type": "markdown",
   "id": "456612ea",
   "metadata": {
    "slideshow": {
     "slide_type": "notes"
    }
   },
   "source": [
    "This can occur in the line voltages of an industrial plant that makes heavy use of nonlineear loads such as electric arc furnaces, solid state relays, motor drives, etc (E.g. Tata Steel!)"
   ]
  },
  {
   "cell_type": "markdown",
   "id": "0748409b",
   "metadata": {
    "slideshow": {
     "slide_type": "subslide"
    }
   },
   "source": [
    "### THD Defined\n",
    "\n",
    "Clearly, some of the harmonics for $k\\ne \\pm 1$ are nonzero. One way to characterize the distortion is to compute the ratio of average power in all the harmonics that \"should not be present\", that is for $k > 1$, to the total average power of the distorted sine wave. The square-root of this ratio is called the *total harmonic distortion* (THD) of the signal."
   ]
  },
  {
   "cell_type": "markdown",
   "id": "b524b9d0",
   "metadata": {
    "slideshow": {
     "slide_type": "subslide"
    }
   },
   "source": [
    "If the signal is real and based on a sine wave (that is *odd*), then $C_0=0$ and\n",
    "\n",
    "$$x_{\\mathrm{RMS}}=\\sqrt{\\sum_{k=1}^{\\infty}2|C_k|^2}$$ (eq:fs3:7)"
   ]
  },
  {
   "cell_type": "markdown",
   "id": "f883294b",
   "metadata": {
    "slideshow": {
     "slide_type": "subslide"
    }
   },
   "source": [
    "and we can define the THD as the ratio of the RMS value for all the harmonics for $K>1$ (the distortion) to the RMS of the fundamental which is \n",
    "\n",
    "$$\\sqrt{2\\left|C_1\\right|^2}$$ (eq:fs3:8)\n",
    "\n",
    "$${\\rm{THD}} = 100\\sqrt {\\frac{\\sum\\limits_{k = 2}^\\infty  {\\left| C_k \\right|^2}} {\\left| C_1 \\right|^2}} \\% $$ (fse4:thd)"
   ]
  },
  {
   "cell_type": "markdown",
   "id": "a9360b1f",
   "metadata": {
    "slideshow": {
     "slide_type": "subslide"
    }
   },
   "source": [
    "### Computation of THD\n",
    "\n",
    ":::{figure-md} fse4:compute_thd\n",
    "<img src=\"pictures/thd_ps.png\" alt=\"Computation of THD from the signal power spectrum\" width=\"60%\">\n",
    "\n",
    "Computation of THD from the signal power spectrum\n",
    ":::"
   ]
  },
  {
   "cell_type": "markdown",
   "id": "3c7678d4",
   "metadata": {
    "slideshow": {
     "slide_type": "slide"
    }
   },
   "source": [
    "(fse4:ss_resp)=\n",
    "## Steady-State Response of a Continuous-Time LTI System to a Periodic Signal\n",
    "\n",
    "As shown in {ref}`eigenfunctions_of_continuous_time_LTI_systems`, the response of a continuous-time LTI system with impulse response $h(t)$ to a complex exponential signal $e^{st}$ is the same complex exponential multiplied by a complex gain: $y(t) = H(s)e^{st}$, where:\n",
    "\n",
    "$$H(s)=\\int_{-\\infty}^{\\infty}h(\\tau)e^{-s\\tau}\\,d\\tau.$$ (fse4:h_s)"
   ]
  },
  {
   "cell_type": "markdown",
   "id": "2e893a5a",
   "metadata": {
    "slideshow": {
     "slide_type": "subslide"
    }
   },
   "source": [
    "In particular, for $s = j\\omega$, the output is simply $y(t)=H(j\\omega)e^{j\\omega t}$."
   ]
  },
  {
   "cell_type": "markdown",
   "id": "f54c42b4",
   "metadata": {
    "slideshow": {
     "slide_type": "fragment"
    }
   },
   "source": [
    "The complex functions $H(s)$ and $H(j\\omega)$ are called the system's *transfer function* and *frequency response*, respectively."
   ]
  },
  {
   "cell_type": "markdown",
   "id": "84b6e1a2",
   "metadata": {
    "slideshow": {
     "slide_type": "subslide"
    }
   },
   "source": [
    "### By superposition\n",
    "\n",
    "The output of a continuous-time LTI system to a periodic function with period $T$ represented by a Fourier series is given by:\n",
    "\n",
    "$$y(t)=\\sum_{k=-\\infty}^{\\infty} C_kH(jk\\Omega_0)e^{jk\\Omega_0 t}$$ (fs4:y_t)\n",
    "\n",
    "where $\\Omega_0 = 2\\pi/T$ is the fundamental frequency."
   ]
  },
  {
   "cell_type": "markdown",
   "id": "98bd748e",
   "metadata": {
    "slideshow": {
     "slide_type": "subslide"
    }
   },
   "source": [
    "Thus $y(t)$ is a Fourier series itself with coefficients $D_k$:\n",
    "\n",
    "$$D_k = C_kH(jk\\Omega_0)$$ (fs4:d_k)"
   ]
  },
  {
   "cell_type": "markdown",
   "id": "49552d51",
   "metadata": {
    "slideshow": {
     "slide_type": "subslide"
    }
   },
   "source": [
    "### Illustration\n",
    "\n",
    "This picture below shows the effect of an LTI system on a periodic input in the frequency domain.\n",
    "\n",
    "<img src=\"pictures/filter.png\">"
   ]
  },
  {
   "cell_type": "markdown",
   "id": "e2b60461",
   "metadata": {
    "slideshow": {
     "slide_type": "subslide"
    }
   },
   "source": [
    "### Application to signal processing\n",
    "\n",
    "A consequence of the previous result is that we can design a system that has a desirable frequency spectrum $H(jk\\Omega_0)$ that retains certain frequencies and cuts off others."
   ]
  },
  {
   "cell_type": "markdown",
   "id": "26f38b49",
   "metadata": {
    "slideshow": {
     "slide_type": "notes"
    }
   },
   "source": [
    "### Filter attenuation\n",
    "\n",
    "The effect of an LTI system on a periodic input signal is to modify its Fourier series through a multiplication by its frequency response evaluated at the harmonic frequencies.\n",
    "\n",
    "So what does $H(jk\\Omega_0)$ looks like.\n",
    "\n",
    "[change this to an RC circuit filter]\n",
    "\n",
    "As an example, consider the simple first-order Butterworth low-pass (LP) filter with cut-off frequency $\\omega_c$:\n",
    "\n",
    "$$H(s) = \\frac{\\omega_c}{s + \\omega_c}$$\n",
    "\n",
    "For this filter\n",
    "\n",
    "$$H(j\\omega) = \\frac{\\omega_c}{j\\omega + \\omega_c}.$$\n",
    "\n",
    "Let us say that we wish to compute the attenuation and phase of this filter at $\\omega = \\Omega_0$.\n",
    "\n",
    "To compute the *magnitude*:\n",
    "$$\\begin{eqnarray*}\n",
    "\\left|H(j\\Omega_0)\\right| &=& \\left|\\frac{\\omega_c}{j\\Omega_0 + \\omega_c}\\right| \\\\\n",
    "& = & \\frac{\\omega_c}{\\sqrt{\\Omega_0^2 + \\omega_c^2}}\n",
    "\\end{eqnarray*}$$\n",
    "\n",
    "We note that is $\\left|H(j\\Omega_0\\right| \\lt 1$ so the filter will *attenuate* the incoming harmonic frequency. This will be true for all harmonics, so in general, for a LP filter:\n",
    "\n",
    "$$D_k = C_k\\left|H(jk\\Omega_0)\\right|   < C_k.$$\n",
    "\n",
    "The phase will be given by \n",
    "$$\\phi = \\angle H(j\\omega) = \\tan^{-1}\\left(\\frac{\\Im \\left( H(j\\omega)\\right)}{\\Re \\left(H(j(\\omega)\\right)}\\right)$$\n",
    "where\n",
    "$$\\begin{eqnarray*}\n",
    "H(jk\\Omega_0) &=& \\frac{\\omega_c^2}{(k\\Omega_0)^2 + \\omega_c^2} - j\\frac{k\\Omega_0\\omega_c}{(k\\Omega_0)^2 + \\omega_c^2}\\\\\n",
    "\\phi_k &=& \\tan^{-1}\\left(-\\frac{K\\Omega_0\\omega_c}{\\omega_c^2}\\right) \\\\\n",
    "&=& \\tan^{-1}\\left(-\\frac{k\\Omega_0}{\\omega_c}\\right) \n",
    "\\end{eqnarray*}\n",
    "$$\n",
    "\n",
    "Phases are additive so\n",
    "$$\\angle D_k = \\angle C_k + \\phi_k.$$\n",
    "\n",
    "By doing such analysis, we can examine the effect of a filter on a periodic signal, just by considering how the coefficients of the harmonic terms are changed (attenuated in magnitude and shifted in phase) by the filter."
   ]
  },
  {
   "cell_type": "markdown",
   "id": "ea68122a",
   "metadata": {},
   "source": [
    "(examples19)=\n",
    "## Examples 19"
   ]
  },
  {
   "cell_type": "markdown",
   "id": "dea09df8",
   "metadata": {
    "slideshow": {
     "slide_type": "slide"
    }
   },
   "source": [
    "(ex:19.1)=\n",
    "### Example 19.1: Average Power\n",
    "\n",
    "Compute the average power of a pulse train for which the pulse width is $T/2$ (duty cycle 50%). Use the result: \n",
    "\n",
    "$$C_k = \\frac{A}{w}.\\frac{\\sin(k\\pi/w)}{k\\pi/w}$$\n",
    "\n",
    "as your starting point."
   ]
  },
  {
   "cell_type": "markdown",
   "id": "51b7430a",
   "metadata": {
    "slideshow": {
     "slide_type": "notes"
    }
   },
   "source": [
    "<pre style=\"border: 2px solid blue\">\n",
    "\n",
    "\n",
    "\n",
    "\n",
    "\n",
    "\n",
    "\n",
    "\n",
    "\n",
    "\n",
    "\n",
    "\n",
    "\n",
    "\n",
    "\n",
    "</pre>"
   ]
  },
  {
   "cell_type": "markdown",
   "id": "83ae86f3",
   "metadata": {
    "slideshow": {
     "slide_type": "slide"
    }
   },
   "source": [
    "(ex19.2)=\n",
    "### Example 19.2: Power Spectrum\n",
    "\n",
    "Compute and display the power spectrum for the signal of {ref}`ex19.1`."
   ]
  },
  {
   "cell_type": "code",
   "execution_count": 1,
   "id": "5bd17338",
   "metadata": {
    "slideshow": {
     "slide_type": "subslide"
    }
   },
   "outputs": [],
   "source": [
    "clear all\n",
    "cd ../matlab\n",
    "format compact"
   ]
  },
  {
   "cell_type": "code",
   "execution_count": 2,
   "id": "bdfebef5",
   "metadata": {
    "slideshow": {
     "slide_type": "subslide"
    }
   },
   "outputs": [],
   "source": [
    "A = 1; w = 8; [f,omega] = pulse_fs(A,w,15);"
   ]
  },
  {
   "cell_type": "markdown",
   "id": "5ecdf676",
   "metadata": {
    "slideshow": {
     "slide_type": "subslide"
    }
   },
   "source": [
    "#### Power spectrum"
   ]
  },
  {
   "cell_type": "code",
   "execution_count": 3,
   "id": "6ecf2924",
   "metadata": {
    "slideshow": {
     "slide_type": "subslide"
    }
   },
   "outputs": [
    {
     "name": "stdout",
     "output_type": "stream",
     "text": [
      "Omega (rad/s)\tPower (W)\n"
     ]
    },
    {
     "name": "stdout",
     "output_type": "stream",
     "text": [
      "-15\t\t0.000066\n"
     ]
    },
    {
     "name": "stdout",
     "output_type": "stream",
     "text": [
      "-14\t\t0.000258\n"
     ]
    },
    {
     "name": "stdout",
     "output_type": "stream",
     "text": [
      "-13\t\t0.000512\n"
     ]
    },
    {
     "name": "stdout",
     "output_type": "stream",
     "text": [
      "-12\t\t0.000704\n"
     ]
    },
    {
     "name": "stdout",
     "output_type": "stream",
     "text": [
      "-11\t\t0.000715\n"
     ]
    },
    {
     "name": "stdout",
     "output_type": "stream",
     "text": [
      "-10\t\t0.000507\n"
     ]
    },
    {
     "name": "stdout",
     "output_type": "stream",
     "text": [
      "-9\t\t0.000183\n"
     ]
    },
    {
     "name": "stdout",
     "output_type": "stream",
     "text": [
      "-8\t\t0.000000\n"
     ]
    },
    {
     "name": "stdout",
     "output_type": "stream",
     "text": [
      "-7\t\t0.000303\n"
     ]
    },
    {
     "name": "stdout",
     "output_type": "stream",
     "text": [
      "-6\t\t0.001407\n"
     ]
    },
    {
     "name": "stdout",
     "output_type": "stream",
     "text": [
      "-5\t\t0.003459\n"
     ]
    },
    {
     "name": "stdout",
     "output_type": "stream",
     "text": [
      "-4\t\t0.006333\n"
     ]
    },
    {
     "name": "stdout",
     "output_type": "stream",
     "text": [
      "-3\t\t0.009609\n"
     ]
    },
    {
     "name": "stdout",
     "output_type": "stream",
     "text": [
      "-2\t\t0.012665\n"
     ]
    },
    {
     "name": "stdout",
     "output_type": "stream",
     "text": [
      "-1\t\t0.014838\n"
     ]
    },
    {
     "name": "stdout",
     "output_type": "stream",
     "text": [
      "0\t\t0.015625\n",
      "1\t\t0.014838\n"
     ]
    },
    {
     "name": "stdout",
     "output_type": "stream",
     "text": [
      "2\t\t0.012665\n",
      "3\t\t0.009609\n"
     ]
    },
    {
     "name": "stdout",
     "output_type": "stream",
     "text": [
      "4\t\t0.006333\n"
     ]
    },
    {
     "name": "stdout",
     "output_type": "stream",
     "text": [
      "5\t\t0.003459\n",
      "6\t\t0.001407\n"
     ]
    },
    {
     "name": "stdout",
     "output_type": "stream",
     "text": [
      "7\t\t0.000303\n"
     ]
    },
    {
     "name": "stdout",
     "output_type": "stream",
     "text": [
      "8\t\t0.000000\n",
      "9\t\t0.000183\n",
      "10\t\t0.000507\n"
     ]
    },
    {
     "name": "stdout",
     "output_type": "stream",
     "text": [
      "11\t\t0.000715\n"
     ]
    },
    {
     "name": "stdout",
     "output_type": "stream",
     "text": [
      "12\t\t0.000704\n"
     ]
    },
    {
     "name": "stdout",
     "output_type": "stream",
     "text": [
      "13\t\t0.000512\n"
     ]
    },
    {
     "name": "stdout",
     "output_type": "stream",
     "text": [
      "14\t\t0.000258\n"
     ]
    },
    {
     "name": "stdout",
     "output_type": "stream",
     "text": [
      "15\t\t0.000066\n"
     ]
    }
   ],
   "source": [
    "ps = abs(f).^2;\n",
    "fprintf('Omega (rad/s)\\tPower (W)\\n')\n",
    "for i = 1:length(ps)\n",
    "    fprintf('%d\\t\\t%f\\n',omega(i),ps(i))\n",
    "end"
   ]
  },
  {
   "cell_type": "markdown",
   "id": "82a1bd11",
   "metadata": {
    "slideshow": {
     "slide_type": "subslide"
    }
   },
   "source": [
    "#### Plot"
   ]
  },
  {
   "cell_type": "code",
   "execution_count": 4,
   "id": "af2c22cf",
   "metadata": {
    "slideshow": {
     "slide_type": "subslide"
    }
   },
   "outputs": [
    {
     "data": {
      "image/png": "[encoded data removed]",
      "text/plain": [
       "<IPython.core.display.Image object>"
      ]
     },
     "metadata": {
      "filenames": {
       "image/png": "/Users/eechris/code/src/github.com/cpjobling/eg-150-textbook/_build/jupyter_execute/fourier_series/4/exp_fs3_39_0.png"
      }
     },
     "output_type": "display_data"
    }
   ],
   "source": [
    "stem(omega,abs(f).^2)\n",
    "title('Power Spectrum for pulse width T/8')\n",
    "ylabel('|C_k|^2')\n",
    "xlabel('\\Omega_0 [rad/s]')"
   ]
  },
  {
   "cell_type": "markdown",
   "id": "cdbf3596",
   "metadata": {
    "slideshow": {
     "slide_type": "notes"
    }
   },
   "source": [
    "Note that most of the power is concentrated at DC and in the first seven harmonic components. That is in the frequency range $[-14\\pi/T,+14\\pi/T]$ rad/s."
   ]
  },
  {
   "cell_type": "markdown",
   "id": "cbcef7bc",
   "metadata": {
    "slideshow": {
     "slide_type": "slide"
    }
   },
   "source": [
    "(ex19.3)=\n",
    "### Example 19.3: THD in a square-wave\n",
    "Given that the exponential fourier series coefficients for a square wave are , compute the total harmonic distortion represented by the first 7 harmonics of square-wave."
   ]
  },
  {
   "cell_type": "markdown",
   "id": "a9e1f253",
   "metadata": {
    "slideshow": {
     "slide_type": "slide"
    }
   },
   "source": [
    "(ex19.4)=\n",
    "### Example 19.4: THD in a triangle wave\n",
    "Given that the exponential fourier series coefficients for a triangle wave are , compute the total harmonic distortion represented by the first 7 harmonics of triangle-wave."
   ]
  },
  {
   "cell_type": "markdown",
   "id": "4528e700",
   "metadata": {
    "slideshow": {
     "slide_type": "notes"
    }
   },
   "source": [
    "(ex19.5)=\n",
    "### Example 19.5 Low pass filter\n",
    "This example represents the low-pass filter used in the signal generator project for **EG-152: Analogue Design**.\n",
    "\n",
    ":::{note}\n",
    "Use MATLAB to complete this example.\n",
    ":::\n",
    "\n",
    "\n",
    "\n",
    "a) A triangle waveform $x(t)$ with frequency $\\Omega_0 = 2\\pi/T$ is shown in {numref}`fig_ex19.1a`. \n",
    "\n",
    ":::{figure-md} fig_ex19.1a\n",
    "<img src=\"pictures/ex19_5.png\" alt=\"A triangle waveform\" width=\"60%\">\n",
    "\n",
    "A triangle waveform\n",
    ":::\n",
    "\n",
    "Determine the exponential Fourier series coefficients $C_k$ for this waveform and use this result to show that the trigonomentric Fourier series for a triangle waveform is"
   ]
  },
  {
   "cell_type": "markdown",
   "id": "3def9e99",
   "metadata": {
    "slideshow": {
     "slide_type": "notes"
    }
   },
   "source": [
    "$$x(t) = \\frac{8A}{\\pi^2}\\left(\\sum_{k\\ \\mathrm{odd}}(-1)^{\\left(\\frac{k-1}{2}\\right)}\\frac{1}{k^2}\\sin k \\Omega_0 t \\right)$$ (fse4:fs4tri)"
   ]
  },
  {
   "cell_type": "markdown",
   "id": "6efa0a79",
   "metadata": {},
   "source": [
    "which, for the first seven harmonic frequencies, is given as"
   ]
  },
  {
   "cell_type": "markdown",
   "id": "368189ae",
   "metadata": {
    "slideshow": {
     "slide_type": "notes"
    }
   },
   "source": [
    "$$x(t) \\approx \\frac{8A}{\\pi^2}\\left(\\sin \\Omega_0 t - \\frac{1}{9} \\sin 3\\Omega_0 t + \\frac{1}{25} \\sin 5\\Omega_0 t - \\frac{1}{49} \\sin 7\\Omega_0 t \\cdots \\right) $$"
   ]
  },
  {
   "cell_type": "markdown",
   "id": "506b8ad2",
   "metadata": {
    "slideshow": {
     "slide_type": "notes"
    }
   },
   "source": [
    "b) In the signal generator, the block diagram for which is given in {numref}`fig19_5a_bd`, a triangle wavefome with $A = 10$ and frequency $f = 1/T = 2.5$ kHz, is filtered by the low-pass filter with transfer function\n",
    "\n",
    "$$H(s) = \\frac{a^2}{s^2 + 3as + a^2}$$\n",
    "\n",
    "where $a = 1/(RC)$ and $RC$ is the time constant of an RC circuit with $R = 8.2$ k&Omega; and $C  = 10$ nF.\n",
    "\n",
    ":::{figure-md} fig19_5a_bd\n",
    "<img src=\"pictures/ex19_5_bd.png\" alt=\"A signal generator\" width=\"60%\">\n",
    "\n",
    "A signal generator\n",
    ":::\n",
    "\n",
    "\n",
    "\n",
    "i) Determine the frequency response $H(j\\omega)$ of the filter.\n",
    "\n",
    "ii) Compute the cut-off frequency $\\omega_c$ of the filter. Note the value of the cut-off frequency this is the frequency for which the filter transmits half-the power or \n",
    "\n",
    "$$|H(j\\omega_c)| = \\frac{1}{\\sqrt{2}}$$\n",
    "\n",
    "iii) Use equation {eq}`fs4:d_k` and the result of a) to determine the attenuation in the first 7 harmonics of the triangle waveform.\n",
    "\n",
    "iv) The filter is intended to generate a sinewave from the triangle wave. Determine the value of the recovery gain $K$ to ensure that the attenuation is 0 dB at 2.5 kHz. Recompute the harmonic attenuation given the presence of $K$.\n",
    "\n",
    "v) Use these results to determine the THD (in dB) of the filtered waveform.\n",
    "\n",
    "vi) Use the attached Simulink model ([ex19_5.slx](../matlab/ex19_5.slx)) of the the filter to validate the results. Comment on the quality of the design."
   ]
  },
  {
   "cell_type": "code",
   "execution_count": 5,
   "id": "b4775b61",
   "metadata": {
    "slideshow": {
     "slide_type": "notes"
    }
   },
   "outputs": [
    {
     "name": "stdout",
     "output_type": "stream",
     "text": [
      "K =\n",
      "     1\n"
     ]
    },
    {
     "name": "stdout",
     "output_type": "stream",
     "text": [
      "\n",
      "Hs =\n"
     ]
    },
    {
     "name": "stdout",
     "output_type": "stream",
     "text": [
      " \n"
     ]
    },
    {
     "name": "stdout",
     "output_type": "stream",
     "text": [
      "           1.487e08\n"
     ]
    },
    {
     "name": "stdout",
     "output_type": "stream",
     "text": [
      "  ---------------------------\n"
     ]
    },
    {
     "name": "stdout",
     "output_type": "stream",
     "text": [
      "  s^2 + 3.659e04 s + 1.487e08\n"
     ]
    },
    {
     "name": "stdout",
     "output_type": "stream",
     "text": [
      " \n"
     ]
    },
    {
     "name": "stdout",
     "output_type": "stream",
     "text": [
      "Continuous-time transfer function.\n"
     ]
    },
    {
     "data": {
      "image/png": "[encoded data removed]",
      "text/plain": [
       "<IPython.core.display.Image object>"
      ]
     },
     "metadata": {
      "filenames": {
       "image/png": "/Users/eechris/code/src/github.com/cpjobling/eg-150-textbook/_build/jupyter_execute/fourier_series/4/exp_fs3_48_8.png"
      }
     },
     "output_type": "display_data"
    }
   ],
   "source": [
    "% For Simulink model\n",
    "R = 8.2e3; % 8.2 kOhm\n",
    "C = 10e-9; % 10 nF\n",
    "a = (1/(R*C)); % filter coefficient\n",
    "K = 1 % replace wthis value with the value computed in Ex 19.5(b)(iv)\n",
    "Hs = tf(a^2,[1 3*a a^2])\n",
    "bode(Hs),grid\n",
    "ex19_5"
   ]
  },
  {
   "cell_type": "markdown",
   "id": "14dde979",
   "metadata": {
    "slideshow": {
     "slide_type": "notes"
    }
   },
   "source": [
    "## Summary\n",
    "\n",
    "We concluded our study of Fourier series by reviewing the following topics\n",
    "\n",
    "* {ref}`fse4:power`\n",
    "* {ref}`fse4:power_spectrum`\n",
    "* {ref}`fse4:thd`\n",
    "* {ref}`fse4:ss_resp`\n",
    "* {ref}`examples19`\n",
    "\n",
    "\n",
    "(unit5.4:takeaways)=\n",
    "### Unit 5.4 Takeaways\n",
    "\n",
    "* Parseval's theorem allows us to compute the average power of of periodic signal $x(t) = x(t + nT)$ from its eponential Fourier series coefficients. The average Paower in a signale $x(t)$ is given by Eq. {eq}`eq:fs3:4` and RMS power is given by Eq. {eq}`eq:fs3:6`.\n",
    "* The *power spectrum* of signal is the sequence of average powers in each complex harmonic: $|C_k|^2.$ which for real periodic signals is a *real even* sequence. \n",
    "* Total harmonic distortion is a measure of how much a periodic signal is different from a sine wave. It is defined in Eq. {eq}`fse4:thd`.\n",
    "* The steady-state frequency response of a continuous-time LTI system with impulse response $h(t)$ to a periodic signal $x(t) = xTt + nT)$ with exponential Fourier series components $C_k$ is a Fourier series $y(t)$ with coefficients $D_k = C_k H(jk\\Omega_0)$. (Where $H(s)$ is the Laplace transform of $h(t)$). This\n",
    "result can be used to determine the filtering affect of any continuous-time LTI system on any periodic signal. As an example of this you should review the theory for the *harmonic filter* studied in Session 4 of **EG-152 Analogue Design** and which is reviewed in {ref}`ex19.5`.\n",
    "\n",
    "\n",
    "### Coming next\n",
    "\n",
    "The topics covered in the five units of this module form the background for **EG-247 Digital Signal Processing** and **EG-243: Control Systems** next year. \n",
    "\n",
    "In particular, for Digital Signal Processing we will continue our study of signals and system by introducing the Fourier Transform, discrete-time signals and systems, discrete Fourier transform and filter design."
   ]
  },
  {
   "cell_type": "markdown",
   "id": "d02cc047",
   "metadata": {
    "slideshow": {
     "slide_type": "notes"
    }
   },
   "source": [
    "(sol:ex:19.1)=\n",
    "### Solution to Example 19.1\n",
    "\n",
    "$w = 2$ so:\n",
    "\n",
    "$$C_n = \\frac{A}{2}.\\frac{\\sin(k\\pi/2)}{k\\pi/2}$$\n",
    "\n",
    "Write down an expression for $P$ using Parseval's Theorem"
   ]
  },
  {
   "cell_type": "markdown",
   "id": "2a367178",
   "metadata": {
    "slideshow": {
     "slide_type": "notes"
    }
   },
   "source": [
    "### P\n",
    "\n",
    "$$P = \\sum\\limits_{k =  - \\infty }^\\infty  \\left| C_k \\right|^2  = \\sum\\limits_{k =  - \\infty }^\\infty  \\left| \\frac{A}{2}{\\mathop{\\rm sinc}\\nolimits} \\frac{k\\pi }{2} \\right|^2  = {A^2}\\left( \\frac{1}{4} + 2\\sum\\limits_{k = 1}^\\infty  \\left| \\frac{1}{4}\\mathop{\\rm sinc}\\nolimits \\frac{k\\pi }{2} \\right|^2  \\right)$$\n",
    "\n",
    "sinc$(k\\pi/2) = 0$ for $k$ even ($k=0,2,4,6,\\ldots$) so...?"
   ]
  },
  {
   "cell_type": "markdown",
   "id": "440fd88b",
   "metadata": {
    "slideshow": {
     "slide_type": "notes"
    }
   },
   "source": [
    "### P for k odd\n",
    "\n",
    "$$P = A^2\\left( \\frac{1}{4} + \\frac{1}{2}\\sum\\limits_{k = 1,3,5, \\ldots }^\\infty  \\left| \\rm{sinc}\\frac{k\\pi }{2} \\right| ^2 \\right) = A^2\\left( \\frac{1}{4} + \\frac{1}{2}\\sum\\limits_{k = 1,3,5, \\ldots }^\\infty  \\left| \\frac{\\sin \\left( \\frac{k\\pi }{2} \\right)}{\\frac{k\\pi }{2}} \\right|^2  \\right)$$\n",
    "\n",
    "$\\sin(k\\pi/2) = 1$ for $k$ odd ($k=1,3,5,7,\\ldots$) so...?"
   ]
  },
  {
   "cell_type": "markdown",
   "id": "6687ae55",
   "metadata": {
    "slideshow": {
     "slide_type": "notes"
    }
   },
   "source": [
    "### P after eliminating sine\n",
    "\n",
    "$$P = {A^2}\\left( \\frac{1}{4} + \\frac{2}{\\pi ^2}\\left[ 1 + \\frac{1}{9} + \\frac{1}{25} +  \\ldots  \\right]  \\right) = {A^2}\\left( \\frac{1}{4} + \\frac{2}{\\pi ^2}\\left[ \\frac{\\pi ^2}{8} \\right] \\right)$$\n",
    "\n",
    "$$P = \\frac{A^2}{2}$$"
   ]
  },
  {
   "cell_type": "markdown",
   "id": "4241eb07",
   "metadata": {},
   "source": [
    "### Check P from x(t)\n",
    "\n",
    "$$P = \\frac{1}{2\\pi}\\int_{-\\pi/2}^{\\pi/2}|x(t)|^2\\,d\\theta = \\frac{1}{2\\pi}\\int_{-\\pi/2}^{\\pi/2}|A|^2\\,d\\theta = \\frac{A^2}{2\\pi}\\left(\\frac{\\pi}{2}+\\frac{\\pi}{2}\\right) = \\frac{A^2}{2}.$$"
   ]
  }
 ],
 "metadata": {
  "jupytext": {
   "formats": "ipynb,md:myst",
   "text_representation": {
    "extension": ".md",
    "format_name": "myst",
    "format_version": 0.13,
    "jupytext_version": "1.14.4"
   }
  },
  "kernelspec": {
   "display_name": "Matlab",
   "language": "matlab",
   "name": "matlab"
  },
  "language_info": {
   "codemirror_mode": "octave",
   "file_extension": ".m",
   "help_links": [
    {
     "text": "MetaKernel Magics",
     "url": "https://metakernel.readthedocs.io/en/latest/source/README.html"
    }
   ],
   "mimetype": "text/x-octave",
   "name": "matlab",
   "version": "0.17.1"
  },
  "source_map": [
   15,
   22,
   28,
   36,
   46,
   51,
   55,
   59,
   63,
   67,
   73,
   79,
   83,
   87,
   93,
   101,
   114,
   127,
   131,
   137,
   143,
   151,
   161,
   170,
   174,
   178,
   188,
   194,
   202,
   208,
   253,
   258,
   269,
   289,
   296,
   306,
   314,
   318,
   330,
   334,
   345,
   349,
   355,
   361,
   383,
   387,
   391,
   395,
   425,
   440,
   469,
   480,
   488,
   496,
   504
  ]
 },
 "nbformat": 4,
 "nbformat_minor": 5
}