{
 "cells": [
  {
   "cell_type": "markdown",
   "id": "0317f6e2",
   "metadata": {
    "slideshow": {
     "slide_type": "slide"
    }
   },
   "source": [
    "(unit5.2)=\n",
    "# Unit 5.2: Exponential Fourier Series\n",
    "\n",
    "The preparatory reading for this section is [Chapter 7](https://ebookcentral.proquest.com/lib/swansea-ebooks/reader.action?docID=3384197&ppg=213) of  {cite}`karris` and [Chapter 5](https://www.accessengineeringlibrary.com/content/book/9781260454246/toc-chapter/chapter5/section/section1) of {cite}`schaum`."
   ]
  },
  {
   "cell_type": "markdown",
   "id": "a100d049",
   "metadata": {
    "slideshow": {
     "slide_type": "slide"
    }
   },
   "source": [
    "Follow along at [cpjobling.github.io/eg-150-textbook/fourier_series/2/exp_fs1](https://cpjobling.github.io/eg-150-textbook/fourier_series/2/exp_fs1)\n",
    "\n",
    "![QR Code for this lecture](pictures/qrcode_fs2.png)"
   ]
  },
  {
   "cell_type": "markdown",
   "id": "80ea1d59",
   "metadata": {
    "slideshow": {
     "slide_type": "notes"
    }
   },
   "source": [
    "Trigonometric Fourier series uses integration of a periodic signal multiplied by sines and cosines at the fundamental and harmonic frequencies. If performed by hand, this can a painstaking process. Even with the simplifications made possible by exploiting waveform symmetries, there is still a need to integrate cosine and sine terms, be aware of and able to exploit the trigonometrc identities, and the properties of *orthogonal functions* before we can arrive at the simplified solutions. This is why I concentrated on the properties and left the computation to a computer.\n",
    "\n",
    "However, by exploiting the exponential function $e^{at}$, we can derive a method for calculating the coefficients of the harmonics that is much easier to calculate by hand and convert into an algorithm that can be executed by computer. \n",
    "\n",
    "The result is called the *Exponential Fourier Series*."
   ]
  },
  {
   "cell_type": "markdown",
   "id": "b5153e16",
   "metadata": {
    "slideshow": {
     "slide_type": "notes"
    }
   },
   "source": [
    "## Agenda\n",
    "\n",
    "* {ref}`fs2:expsignals`\n",
    "* {ref}`fs2:exp_fs`\n",
    "* {ref}`fs2:symmetry`\n",
    "* {ref}`fs2:eg`\n",
    "* {ref}`fs2:matlab`\n",
    "* {ref}`examples17`"
   ]
  },
  {
   "cell_type": "markdown",
   "id": "c649127a",
   "metadata": {
    "slideshow": {
     "slide_type": "slide"
    }
   },
   "source": [
    "(fs2:expsignals)=\n",
    "## Exponential Signals $x(t) = e^{at}$\n",
    "\n",
    "* You should already be familiar with the exponential function $e^{at}$ because it appears in the solution of differential equations."
   ]
  },
  {
   "cell_type": "markdown",
   "id": "bec53edc",
   "metadata": {
    "slideshow": {
     "slide_type": "fragment"
    }
   },
   "source": [
    "* It is also a function that appears in the definition of the Laplace and inverse Laplace transform."
   ]
  },
  {
   "cell_type": "markdown",
   "id": "2ac3b997",
   "metadata": {
    "slideshow": {
     "slide_type": "fragment"
    }
   },
   "source": [
    "* It pops up again and again in tables and properies of the Laplace transform."
   ]
  },
  {
   "cell_type": "markdown",
   "id": "0329dfc6",
   "metadata": {
    "slideshow": {
     "slide_type": "subslide"
    }
   },
   "source": [
    "(fs2:a_real)=\n",
    "### Case when $a$ is real.\n",
    "\n",
    "When $a$ is real the signal $x(t) = e^{at}$ will take one of the three forms illustrated below:"
   ]
  },
  {
   "cell_type": "code",
   "execution_count": 1,
   "id": "5e332876",
   "metadata": {
    "slideshow": {
     "slide_type": "subslide"
    }
   },
   "outputs": [
    {
     "data": {
      "image/png": "[encoded data removed]",
      "text/plain": [
       "<IPython.core.display.Image object>"
      ]
     },
     "metadata": {
      "filenames": {
       "image/png": "/Users/eechris/code/src/github.com/cpjobling/eg-150-textbook/_build/jupyter_execute/fourier_series/2/exp_fs1_8_0.png"
      }
     },
     "output_type": "display_data"
    }
   ],
   "source": [
    "%% The decaying exponential\n",
    "t=linspace(-1,2,1000);\n",
    "plot(t,exp(t),t,exp(0.*t),t,exp(-t)),...\n",
    "    axis([-1,2,-1,8]),...\n",
    "    title([texlabel('x(t) = e^{at}'),' -- a real']),...\n",
    "    xlabel('t (s)'),...\n",
    "    ylabel('x(t)'),...\n",
    "    legend(texlabel('x(t) = e^t'),texlabel('x(t) = e^0'),texlabel('x(t)=e^{-t}')),...\n",
    "    grid"
   ]
  },
  {
   "cell_type": "markdown",
   "id": "038a860e",
   "metadata": {
    "slideshow": {
     "slide_type": "notes"
    }
   },
   "source": [
    "You can regenerate this image generated with this MATLAB script: [expon.m](https://cpjobling.github.io/eg-150-textbook/fourier_series/matlab/expon.m)."
   ]
  },
  {
   "cell_type": "markdown",
   "id": "de60ea6f",
   "metadata": {
    "slideshow": {
     "slide_type": "subslide"
    }
   },
   "source": [
    "* When $a < 0$ the response is a decaying exponential (yellow line in plot)"
   ]
  },
  {
   "cell_type": "markdown",
   "id": "fc87018f",
   "metadata": {
    "slideshow": {
     "slide_type": "fragment"
    }
   },
   "source": [
    "* When $a = 0$, $e^{at} = 1$ the response is a constant (DC) (red line in plot)"
   ]
  },
  {
   "cell_type": "markdown",
   "id": "2f9af796",
   "metadata": {
    "slideshow": {
     "slide_type": "fragment"
    }
   },
   "source": [
    "* When $a > 0$ the response is an *unbounded* increasing exponential (blue line in plot)"
   ]
  },
  {
   "cell_type": "markdown",
   "id": "99d0c281",
   "metadata": {
    "slideshow": {
     "slide_type": "subslide"
    }
   },
   "source": [
    "(fs2:a_imag)=\n",
    "### Case when $a$ is imaginary\n",
    "\n",
    "When $a = j\\omega$ we have the periodic signal $x(t) = e^{j\\omega t} = \\cos\\omega t + j\\sin\\omega t$ visualised in {numref}`fig:fs2:1`"
   ]
  },
  {
   "cell_type": "markdown",
   "id": "0201d056",
   "metadata": {
    "slideshow": {
     "slide_type": "subslide"
    }
   },
   "source": [
    ":::{figure-md} Fig:fs2:1\n",
    "<img src=\"pictures/euler.png\" alt=\"The periodic signal exp(jomega t)\" width=\"80%\">\n",
    "\n",
    "The periodic signal $x(t) = e^{j\\omega t}$\n",
    ":::"
   ]
  },
  {
   "cell_type": "markdown",
   "id": "f134edce",
   "metadata": {
    "slideshow": {
     "slide_type": "notes"
    }
   },
   "source": [
    "This is the case that helps us simplify the computation of sinusoidal Fourier series.\n",
    "\n",
    "It was [Leonhard Euler](https://en.wikipedia.org/wiki/Leonhard_Euler) who discovered the [formula](https://en.wikipedia.org/wiki/Euler%27s_formula) visualized above."
   ]
  },
  {
   "cell_type": "markdown",
   "id": "6610eb6c",
   "metadata": {
    "slideshow": {
     "slide_type": "subslide"
    }
   },
   "source": [
    "(fs2:a_complex)=\n",
    "### Case where $a$ is complex\n",
    "\n",
    "In this case $a = \\sigma + j\\omega$ and\n",
    "\n",
    "$$x(t) = e^{\\left(\\sigma + j\\omega\\right)t}$$\n",
    "\n",
    "which can be written as\n",
    "\n",
    "$$x(t) = e^{\\sigma t}e^{j\\omega t} = e^{\\sigma t}\\left(\\cos\\omega t+j\\sin\\omega t\\right)$$ (eq:fs2:1)\n",
    "\n",
    "This will be a periodic signal, the shape of which depends on the sign of $\\sigma$."
   ]
  },
  {
   "cell_type": "markdown",
   "id": "87f6d87e",
   "metadata": {
    "slideshow": {
     "slide_type": "subslide"
    }
   },
   "source": [
    "#### Case where $\\sigma < 0$\n",
    "\n",
    "Let us visualize this with the help of MATLAB"
   ]
  },
  {
   "cell_type": "code",
   "execution_count": 2,
   "id": "c6dcd9ef",
   "metadata": {},
   "outputs": [
    {
     "data": {
      "image/png": "[encoded data removed]",
      "text/plain": [
       "<IPython.core.display.Image object>"
      ]
     },
     "metadata": {
      "filenames": {
       "image/png": "/Users/eechris/code/src/github.com/cpjobling/eg-150-textbook/_build/jupyter_execute/fourier_series/2/exp_fs1_18_0.png"
      }
     },
     "output_type": "display_data"
    }
   ],
   "source": [
    "syms t\n",
    "sigma = -0.5; omega = 5;\n",
    "xr(t) = exp(sigma*t)*cos(omega*t); % real part\n",
    "xi(t) = exp(sigma*t)*sin(omega*t); % imaginary part\n",
    "subplot(211)\n",
    "fplot(xr(t),[-2,2]),grid,ylabel('Re x(t)'),xlabel('t')\n",
    "hold on\n",
    "fplot(exp(sigma*t),[-2,2],'LineStyle','--','Color','red')\n",
    "hold off\n",
    "subplot(212)\n",
    "fplot(xi(t),[-2,2]),grid,ylabel('Im x(t) '),xlabel('t')\n",
    "hold on\n",
    "fplot(exp(sigma*t),[-2,2],'LineStyle','--','Color','red')\n",
    "hold off\n",
    "sgtitle('x(t) = exp(\\sigma + j\\omega t), \\sigma < 0')"
   ]
  },
  {
   "cell_type": "markdown",
   "id": "1f97a322",
   "metadata": {
    "slideshow": {
     "slide_type": "subslide"
    }
   },
   "source": [
    "#### Case where $\\sigma > 0$"
   ]
  },
  {
   "cell_type": "code",
   "execution_count": 3,
   "id": "38274084",
   "metadata": {},
   "outputs": [
    {
     "data": {
      "image/png": "[encoded data removed]",
      "text/plain": [
       "<IPython.core.display.Image object>"
      ]
     },
     "metadata": {
      "filenames": {
       "image/png": "/Users/eechris/code/src/github.com/cpjobling/eg-150-textbook/_build/jupyter_execute/fourier_series/2/exp_fs1_20_0.png"
      }
     },
     "output_type": "display_data"
    }
   ],
   "source": [
    "sigma = 0.5; omega = 5;\n",
    "xr(t) = exp(sigma*t)*cos(omega*t); % real part\n",
    "xi(t) = exp(sigma*t)*sin(omega*t); % imaginary part\n",
    "subplot(211)\n",
    "fplot(xr(t),[-2,2]),grid,ylabel('Re x(t)'),xlabel('t')\n",
    "hold on\n",
    "fplot(exp(sigma*t),[-2,2],'LineStyle','--','Color','red')\n",
    "hold off\n",
    "subplot(212)\n",
    "fplot(xi(t),[-2,2]),grid,ylabel('Im x(t) '),xlabel('t')\n",
    "hold on\n",
    "fplot(exp(sigma*t),[-2,2],'LineStyle','--','Color','red')\n",
    "hold off\n",
    "sgtitle('x(t) = exp(\\sigma + j\\omega t), \\sigma > 0')"
   ]
  },
  {
   "cell_type": "markdown",
   "id": "188bf939",
   "metadata": {
    "slideshow": {
     "slide_type": "notes"
    }
   },
   "source": [
    "Then signal $x(t)$ in Eq. {eq}`eq:fs2:1` is known as a general complex exponential signal whose real part $e^{\\sigma t}\\sin\\omega t$ and imaginary part $e^{\\sigma t}\\sin \\omega t$ are exponentially increasing ($σ > 0$) or decreasing ($σ < 0$) sinusoidal signals."
   ]
  },
  {
   "cell_type": "markdown",
   "id": "4c8c4547",
   "metadata": {
    "slideshow": {
     "slide_type": "subslide"
    }
   },
   "source": [
    "#### Case where $\\sigma = 0$\n",
    "\n",
    "When $\\sigma = 0$, $e^{\\sigma t} = 1$ and the the signal is the {ref}`fs2:a_imag` already discussed."
   ]
  },
  {
   "cell_type": "markdown",
   "id": "2e92a498",
   "metadata": {
    "slideshow": {
     "slide_type": "notes"
    }
   },
   "source": [
    "### A note on poles and stability\n",
    "\n",
    "The variable $s$ in the Laplace Transform \n",
    "\n",
    "$$\\int_{0}^{\\infty} f(t)e^{-st} dt$$\n",
    "\n",
    "is a *complex exponential*.\n",
    "\n",
    "The poles of a rational polynomial in $s$ will exhibit one of the properties discussed above. Therefore, for any system whose poles are known, we can reason about the likely response of the system. \n",
    "\n",
    "For stable systems, the real part of the pole will be negative so the response will be a linear combination of exponential decays or exponentially decaying sinusoids.\n",
    "\n",
    "The overall response of a system will depend on the relative size of the real part of the real or complex poles and the frequency of the imaginary parts of the complex poles and is also influenced by the size of the partial fraction residues.\n",
    "\n",
    "The combined behaviour of the poles have particular significance in the development of system stability theories and in control systems analysis and design. Look out for them in **EG-243 Control Systems**"
   ]
  },
  {
   "cell_type": "markdown",
   "id": "e8c4978f",
   "metadata": {
    "slideshow": {
     "slide_type": "subslide"
    }
   },
   "source": [
    "### Two Other Important Properties\n",
    "\n",
    "By use of trig. identities, it is relatively straight forward to show that:"
   ]
  },
  {
   "cell_type": "markdown",
   "id": "2287a363",
   "metadata": {
    "slideshow": {
     "slide_type": "fragment"
    }
   },
   "source": [
    "$$\\cos \\omega t = \\frac{e^{j\\omega t} + e^{-j\\omega t}}{2}$$ (eq:fs2:2)"
   ]
  },
  {
   "cell_type": "markdown",
   "id": "5979e4cd",
   "metadata": {
    "slideshow": {
     "slide_type": "fragment"
    }
   },
   "source": [
    "and \n",
    "\n",
    "$$\\sin \\omega t = \\frac{e^{j\\omega t} - e^{-j\\omega t}}{j2}$$ (eq:fs2:3)"
   ]
  },
  {
   "cell_type": "markdown",
   "id": "11bf8963",
   "metadata": {
    "slideshow": {
     "slide_type": "notes"
    }
   },
   "source": [
    "We can use these identities to convert the *Trigonometric Fourier Series* into an *Exponential Fourier Series* which has only one integral term to solve per harmonic."
   ]
  },
  {
   "cell_type": "markdown",
   "id": "37f93ef9",
   "metadata": {
    "slideshow": {
     "slide_type": "slide"
    }
   },
   "source": [
    "(fs2:exp_fs)=\n",
    "## The Exponential Fourier Series\n",
    "\n",
    "As [as stated in the notes on the Trigonometric Fourier Series](../1/trig_fseries) any periodic waveform $f(t)$ can be represented as\n",
    "\n",
    "$$\\begin{gathered}\n",
    "  f(t) = \\frac{1}{2}{a_0} + {a_1}\\cos \\Omega_0 t + {a_2}\\cos 2\\Omega_0 t +  \\cdots  \\\\ \n",
    "   + {b_1}\\sin \\Omega_0 t + {b_2}\\sin 2\\Omega_0 t +  \\cdots  \\\\ \n",
    "\\end{gathered} $$ (ex:fs2:4)"
   ]
  },
  {
   "cell_type": "markdown",
   "id": "47fe9d45",
   "metadata": {
    "slideshow": {
     "slide_type": "subslide"
    }
   },
   "source": [
    "If we replace the $\\cos$ and $\\sin$ terms with their imaginary exponential equivalents:\n",
    "\n",
    "$$\\begin{gathered}\n",
    "  f(t) = \\frac{1}{2}{a_0} + {a_1}\\left(\\frac{e^{j\\Omega_0 t} + e^{-j\\Omega_0 t}}{2}\\right) + {a_2}\\left(\\frac{e^{j2\\Omega_0 t} + e^{-j2\\Omega_0 t}}{2}\\right) +  \\cdots  \\\\ \n",
    "   + {b_1}\\left(\\frac{e^{j\\Omega_0 t} - e^{-j\\Omega_0 t}}{j2}\\right) + {b_2}\\left(\\frac{e^{j2\\Omega_0 t} - e^{-j2\\Omega_0 t}}{j2}\\right) +  \\cdots  \\\\ \n",
    "\\end{gathered} $$ (ex:fs2:5)"
   ]
  },
  {
   "cell_type": "markdown",
   "id": "f36a8e2f",
   "metadata": {
    "slideshow": {
     "slide_type": "subslide"
    }
   },
   "source": [
    "### Grouping terms with same exponents\n",
    "\n",
    "$$f(t) = \\cdots + \\left(\\frac{a_2}{2}-\\frac{b_2}{j2}\\right)e^{-j2\\Omega_0 t} + \\left(\\frac{a_1}{2}-\\frac{b_1}{j2}\\right)e^{-j\\Omega_0 t} + \\frac{1}{2}{a_0} + \\left(\\frac{a_1}{2}+\\frac{b_1}{j2}\\right)e^{j\\Omega_0 t} + \\left(\\frac{a_2}{2}+\\frac{b_2}{j2}\\right)e^{j2\\Omega_0 t} +\\cdots $$ ((ex:fs2:5)"
   ]
  },
  {
   "cell_type": "markdown",
   "id": "dcca1aa2",
   "metadata": {
    "slideshow": {
     "slide_type": "subslide"
    }
   },
   "source": [
    "### New coefficients\n",
    "\n",
    "The terms in parentheses are usually denoted as\n",
    "\n",
    "$$C_{-k} = \\frac{1}{2}\\left(a_k-\\frac{b_k}{j}\\right) = \\frac{1}{2}\\left(a_k+j b_k\\right)$$ (ex:fs2:6)\n",
    "\n",
    "$$C_{k} = \\frac{1}{2}\\left(a_k+\\frac{b_k}{j}\\right) = \\frac{1}{2}\\left(a_k-j b_k\\right)$$ (ex:fs2:7)\n",
    "\n",
    "$$C_0 = \\frac{1}{2}a_0$$ (ex:fs2:8)"
   ]
  },
  {
   "cell_type": "markdown",
   "id": "136b7f53",
   "metadata": {
    "slideshow": {
     "slide_type": "subslide"
    }
   },
   "source": [
    "The Exponential Fourier Series is\n",
    "\n",
    "$$f(t) = \\cdots + C_{-2}e^{-j2\\Omega_0 t} + C_{-1}e^{-j\\Omega_0 t} + C_0 + C_{1}e^{j\\Omega_0 t} + C_{2}e^{j2\\Omega_0 t} +\\cdots $$\n",
    "\n",
    "or more compactly\n",
    "\n",
    "$$f(t) = \\sum_{k=-n}^{n}C_{k}e^{jk \\Omega_0  t}$$ (ex:fs2:9)"
   ]
  },
  {
   "cell_type": "markdown",
   "id": "adb471f3",
   "metadata": {
    "slideshow": {
     "slide_type": "notes"
    }
   },
   "source": [
    "**Important**\n",
    "\n",
    "The $C_k$ coefficents, except for $C_0$ are *complex* and appear in conjugate pairs so\n",
    "\n",
    "$$C_{-k} = C_k^*$$ (ex:fs2:10)"
   ]
  },
  {
   "cell_type": "markdown",
   "id": "4dd8d686",
   "metadata": {
    "slideshow": {
     "slide_type": "subslide"
    }
   },
   "source": [
    "### Evaluation of the complex coefficients\n",
    "\n",
    "The coefficients are obtained from the following expressions<sup>*</sup>:\n",
    "\n",
    "$$C_k = \\frac{1}{2\\pi}\\int_{0}^{2\\pi}f(\\Omega_0 t)e^{-jk(\\Omega_0 t)}\\,d(\\Omega_0 t)$$ (ex:fs2:11)\n",
    "\n",
    "or\n",
    "\n",
    "$$C_k = \\frac{1}{T}\\int_{0}^{T}f(t)e^{-jk\\Omega_0 t}\\,dt$$ (ex:fs2:12)"
   ]
  },
  {
   "cell_type": "markdown",
   "id": "401a1edc",
   "metadata": {
    "slideshow": {
     "slide_type": "notes"
    }
   },
   "source": [
    "These are much easier to derive and compute than the equivalent trigonemetric Fourier series coefficients. \n",
    "\n",
    "\n",
    "<sup>*</sup> The analysis that leads to this result is provided between pages [7-31 and 7-32](https://ebookcentral.proquest.com/lib/swansea-ebooks/reader.action?ppg=243&docID=3384197&tm=1518704101461) of the text book {cite}`karris`. It is not a difficult proof, but we are more interested in the result."
   ]
  },
  {
   "cell_type": "markdown",
   "id": "bb6524ef",
   "metadata": {
    "slideshow": {
     "slide_type": "subslide"
    }
   },
   "source": [
    "### Trigonometric Fourier Series from Exponential Fourier Series\n",
    "\n",
    "By substituting $C_{-k}$ and $C_{k}$ back into the original expansion\n",
    "\n",
    "$$C_k+C_{-k} = \\frac{1}{2}\\left(a_k-jb_k + a_k+jb_k\\right)$$\n",
    "\n",
    "so\n",
    "\n",
    "$$a_k = C_k + C_{-k}$$ (ex:fs2:13)"
   ]
  },
  {
   "cell_type": "markdown",
   "id": "c68d9f2d",
   "metadata": {
    "slideshow": {
     "slide_type": "subslide"
    }
   },
   "source": [
    "Similarly\n",
    "\n",
    "$$C_k-C_{-k} = \\frac{1}{2}\\left(a_k-jb_k - a_k-jb_k\\right)$$\n",
    "\n",
    "so\n",
    "\n",
    "$$b_k = j\\left(C_k - C_{-k}\\right)$$ (ex:fs2:14)\n",
    "\n",
    "Thus we can easily go back to the trigonometric Fourier series, e.g. to visualize the harmonic approximation, if we need to."
   ]
  },
  {
   "cell_type": "markdown",
   "id": "5a29357a",
   "metadata": {
    "slideshow": {
     "slide_type": "slide"
    }
   },
   "source": [
    "(fs2:symmetry)=\n",
    "## Symmetry in Exponential Fourier Series\n",
    "\n",
    "Since the coefficients of the exponential Fourier series are complex numbers, we can use symmetry to determine the form of the coefficients and thereby simplify the computation of the series for wave forms that have symmetry."
   ]
  },
  {
   "cell_type": "markdown",
   "id": "657f30f6",
   "metadata": {
    "slideshow": {
     "slide_type": "subslide"
    }
   },
   "source": [
    "### Even Functions\n",
    "\n",
    "For even functions, all coefficients $C_k$ are real."
   ]
  },
  {
   "cell_type": "markdown",
   "id": "38759759",
   "metadata": {
    "slideshow": {
     "slide_type": "subslide"
    }
   },
   "source": [
    "**Proof**\n",
    "\n",
    "Recall \n",
    "\n",
    "$$C_{-k} = \\frac{1}{2}\\left(a_k-\\frac{b_k}{j}\\right) = \\frac{1}{2}\\left(a_k+jb_k\\right)$$\n",
    "\n",
    "and\n",
    "\n",
    "$$C_k = \\frac{1}{2}\\left(a_k+\\frac{b_k}{j}\\right) = \\frac{1}{2}\\left(a_k-jb_k\\right)$$\n",
    "\n",
    "From knowledge of the trig. Fourier series, even functions have no sine terms so the $b_k$ coefficients are 0. Therefore both $C_{-k}$ and $C_k$ are real."
   ]
  },
  {
   "cell_type": "markdown",
   "id": "10c8a8d5",
   "metadata": {
    "slideshow": {
     "slide_type": "subslide"
    }
   },
   "source": [
    "### Odd Functions\n",
    "\n",
    "For odd functions, all coefficients $C_k$ are imaginary."
   ]
  },
  {
   "cell_type": "markdown",
   "id": "72b615f9",
   "metadata": {
    "slideshow": {
     "slide_type": "subslide"
    }
   },
   "source": [
    "**Proof**\n",
    "\n",
    "By a similar argument, all odd functions have no cosine terms so the $a_k$ coefficients are 0. Therefore both $C_{-k}$ and $C_k$ are imaginary."
   ]
  },
  {
   "cell_type": "markdown",
   "id": "c251fc81",
   "metadata": {
    "slideshow": {
     "slide_type": "subslide"
    }
   },
   "source": [
    "### Half-wave symmetry\n",
    "\n",
    "If there is *half-wave symmetry*, $C_k = 0$ for $k$ even."
   ]
  },
  {
   "cell_type": "markdown",
   "id": "1c8d3235",
   "metadata": {
    "slideshow": {
     "slide_type": "notes"
    }
   },
   "source": [
    "**Proof**\n",
    "\n",
    "From trig. Fourier series, if there is half-wave symmetry, all even harnonics are zero, thus both $a_k$ and $b_k$ are zero for $k$ even. Hence $C_{-k}$ and $C_k$ are also zero when $k$ is even."
   ]
  },
  {
   "cell_type": "markdown",
   "id": "6066329f",
   "metadata": {
    "slideshow": {
     "slide_type": "subslide"
    }
   },
   "source": [
    "### No symmetry\n",
    "\n",
    "If there is no symmetry the exponential Fourier series of $f(t)$ is complex."
   ]
  },
  {
   "cell_type": "markdown",
   "id": "7ef097dd",
   "metadata": {
    "slideshow": {
     "slide_type": "subslide"
    }
   },
   "source": [
    "### Relation of $C_{-k}$ to $C_{k}$\n",
    "\n",
    "$C_{-k} = C_{k}^*$ **always**"
   ]
  },
  {
   "cell_type": "markdown",
   "id": "8a72e8b8",
   "metadata": {
    "slideshow": {
     "slide_type": "subslide"
    }
   },
   "source": [
    "(fs2:eg)=\n",
    "## Computating the Exponential Fourier Series\n",
    "\n",
    "Compute the exponential Fourier series (EFS) for the square wave shown in {numref}`fig:ex:17.1` assuming that $\\Omega_0 = 1$ rad/s.\n",
    "\n",
    ":::{figure-md} Fig:ex:17.1\n",
    "<img src=\"pictures/sqw.png\" alt=\"Squarewave with odd-symmetry\" width=\"60%\">\n",
    "\n",
    "Squarewave with odd-symmetry\n",
    ":::"
   ]
  },
  {
   "cell_type": "markdown",
   "id": "707376de",
   "metadata": {
    "slideshow": {
     "slide_type": "subslide"
    }
   },
   "source": [
    "### Will be Solved in in Class\n",
    "\n",
    "It will be shown that \n",
    "\n",
    "$${C_k \\atop {k=\\mathrm{even}}} =  0$$\n",
    "\n",
    "$${C_k \\atop {k=\\mathrm{odd}}} =  \\frac{1}{k}\\left(\\frac{2A}{j\\pi}\\right)$$\n",
    "\n",
    "See {ref}`ex:17.2` and solution in {ref}`sol:17.2`."
   ]
  },
  {
   "cell_type": "markdown",
   "id": "3ccabfe5",
   "metadata": {
    "slideshow": {
     "slide_type": "notes"
    }
   },
   "source": [
    "### Exponential Fourier series for the square wave with odd symmetry\n",
    "\n",
    "From the definition of the exponential Fourier series\n",
    "\n",
    "$$f(t) = \\cdots + C_{-2}e^{-j2\\Omega_0 t} + C_{-1}e^{-j\\Omega_0 t} + C_{0} + C_{1}e^{j\\Omega_0 t} + C_{2}e^{j2\\Omega_0 t} + \\cdots$$\n",
    "\n",
    "the *exponential Fourier series for the square wave with odd symmetry* is\n",
    "\n",
    "$$f(t) = \\frac{2A}{j\\pi}\\left(\\cdots - \\frac{1}{3}e^{-j3\\Omega_0 t} - e^{-j\\Omega_0 t} + e^{j\\Omega_0 t} + \\frac{1}{3}e^{j3\\Omega_0 t} + \\cdots\\right) = \\frac{2A}{j\\pi}\\sum_{k = \\mathrm{odd}} \\frac{1}{k}e^{jk\\Omega_0 t}$$"
   ]
  },
  {
   "cell_type": "markdown",
   "id": "67184bf4",
   "metadata": {
    "slideshow": {
     "slide_type": "notes"
    }
   },
   "source": [
    "Note sign change in first two terms. This is due to the fact that $C_{-k} = C_k^*$. \n",
    "\n",
    "E.g. since $C_3 = 2A/j3\\pi$, $C_{-3} = C_3^* = -2A/j3\\pi$"
   ]
  },
  {
   "cell_type": "markdown",
   "id": "312efafc",
   "metadata": {
    "slideshow": {
     "slide_type": "notes"
    }
   },
   "source": [
    "### Trig. Fourier Series from Exponential Fourier Series\n",
    "\n",
    "Since\n",
    "\n",
    "$$f(t) = \\frac{2A}{j\\pi}\\left(\\cdots - \\frac{1}{3}e^{-j3\\Omega_0 t} - e^{-j\\Omega_0 t} + e^{j\\Omega_0 t} + \\frac{1}{3}e^{j3\\Omega_0 t} + \\cdots\\right) $$\n",
    "\n",
    "gathering terms at each harmonic frequency gives\n",
    "\n",
    "$$\\begin{eqnarray*}\n",
    "f(t) &=& \\frac{4A}{\\pi}\\left(\\cdots + \\left(\\frac{e^{j\\Omega_0 t} - e^{-j\\Omega_0 t}}{2j}\\right)  + \\frac{1}{3}\\left(\\frac{e^{j3\\Omega_0 t} - e^{-j3\\Omega_0 t}}{2j}\\right)  +  \\cdots\\right) \\\\\n",
    "&=& \\frac{4A}{\\pi}\\left(\\sin \\Omega_0 t + \\frac{1}{3}\\sin 3\\Omega_0 t + \\cdots\\right)\\\\\n",
    "&=& \\frac{4A}{\\pi} \\sum_{k=\\mathrm{odd}} \\frac{1}{k}\\sin k\\Omega_0 t.\\end{eqnarray*}$$"
   ]
  },
  {
   "cell_type": "markdown",
   "id": "1018d2d9",
   "metadata": {
    "slideshow": {
     "slide_type": "subslide"
    }
   },
   "source": [
    "(fs2:matlab)=\n",
    "## Computing coefficients of Exponential Fourier Series in MATLAB"
   ]
  },
  {
   "cell_type": "markdown",
   "id": "d79088ff",
   "metadata": {
    "slideshow": {
     "slide_type": "subslide"
    }
   },
   "source": [
    "Verify the result of the Example using MATLAB."
   ]
  },
  {
   "cell_type": "markdown",
   "id": "029e6f28",
   "metadata": {
    "slideshow": {
     "slide_type": "notes"
    }
   },
   "source": [
    "### Solution\n",
    "\n",
    "Solution calculates the Exponential Fourier for a Square Wave with Odd Symmetry.: See [efs_sqw.m](https://cpjobling.github.io/eg-150-textbook/fourier_series/matlab/efs_sqw.m)."
   ]
  },
  {
   "cell_type": "code",
   "execution_count": 4,
   "id": "3aa305a7",
   "metadata": {
    "slideshow": {
     "slide_type": "fragment"
    }
   },
   "outputs": [],
   "source": [
    "cd ../matlab\n",
    "format compact\n",
    "open efs_sqw"
   ]
  },
  {
   "cell_type": "markdown",
   "id": "fbc8e3c2",
   "metadata": {
    "slideshow": {
     "slide_type": "subslide"
    }
   },
   "source": [
    "Set up parameters"
   ]
  },
  {
   "cell_type": "code",
   "execution_count": 5,
   "id": "6cec0d9b",
   "metadata": {
    "slideshow": {
     "slide_type": "fragment"
    }
   },
   "outputs": [],
   "source": [
    "syms t A;\n",
    "\n",
    "tau = 1;\n",
    "T0 = 2*pi; % w = 2*pi*f -> t = 2*pi/omega\n",
    "k_vec = [-5:5];"
   ]
  },
  {
   "cell_type": "markdown",
   "id": "771d149c",
   "metadata": {
    "slideshow": {
     "slide_type": "subslide"
    }
   },
   "source": [
    "Define f(t)\n",
    "\n",
    "**IMPORTANT**: the signal definition must cover [0 to T0]"
   ]
  },
  {
   "cell_type": "code",
   "execution_count": 6,
   "id": "e2661035",
   "metadata": {
    "slideshow": {
     "slide_type": "fragment"
    }
   },
   "outputs": [],
   "source": [
    "xt = A*(heaviside(t)-heaviside(t-T0/2)) - A*(heaviside(t-T0/2)-heaviside(t-T0));"
   ]
  },
  {
   "cell_type": "markdown",
   "id": "71faafe2",
   "metadata": {
    "slideshow": {
     "slide_type": "subslide"
    }
   },
   "source": [
    "Compute EFS"
   ]
  },
  {
   "cell_type": "code",
   "execution_count": 7,
   "id": "293b526b",
   "metadata": {
    "slideshow": {
     "slide_type": "fragment"
    }
   },
   "outputs": [
    {
     "name": "stdout",
     "output_type": "stream",
     "text": [
      "X =\n"
     ]
    },
    {
     "name": "stdout",
     "output_type": "stream",
     "text": [
      "[(A*2i)/(5*pi), 0, (A*2i)/(3*pi), 0, (A*2i)/pi, 0, -(A*2i)/pi, 0, -(A*2i)/(3*pi), 0, -(A*2i)/(5*pi)]\n"
     ]
    },
    {
     "name": "stdout",
     "output_type": "stream",
     "text": [
      "w =\n",
      "    -5    -4    -3    -2    -1     0     1     2     3     4     5\n"
     ]
    }
   ],
   "source": [
    "[X, w] = FourierSeries(xt, T0, k_vec)"
   ]
  },
  {
   "cell_type": "markdown",
   "id": "2b87d0e4",
   "metadata": {
    "slideshow": {
     "slide_type": "subslide"
    }
   },
   "source": [
    "Plot the numerical results from MATLAB calculation."
   ]
  },
  {
   "cell_type": "markdown",
   "id": "79f036dc",
   "metadata": {
    "slideshow": {
     "slide_type": "fragment"
    }
   },
   "source": [
    "Convert symbolic to numeric result"
   ]
  },
  {
   "cell_type": "code",
   "execution_count": 8,
   "id": "9983621f",
   "metadata": {
    "slideshow": {
     "slide_type": "fragment"
    }
   },
   "outputs": [],
   "source": [
    "Xw = subs(X,A,1);"
   ]
  },
  {
   "cell_type": "markdown",
   "id": "26073667",
   "metadata": {
    "slideshow": {
     "slide_type": "subslide"
    }
   },
   "source": [
    "Plot"
   ]
  },
  {
   "cell_type": "code",
   "execution_count": 9,
   "id": "79d19e29",
   "metadata": {
    "slideshow": {
     "slide_type": "subslide"
    }
   },
   "outputs": [
    {
     "data": {
      "image/png": "[encoded data removed]",
      "text/plain": [
       "<IPython.core.display.Image object>"
      ]
     },
     "metadata": {
      "filenames": {
       "image/png": "/Users/eechris/code/src/github.com/cpjobling/eg-150-textbook/_build/jupyter_execute/fourier_series/2/exp_fs1_66_0.png"
      }
     },
     "output_type": "display_data"
    }
   ],
   "source": [
    "subplot(211)\n",
    "stem(w,abs(Xw), 'o-');\n",
    "title('Exponential Fourier Series for Square Waveform with Odd Symmetry')\n",
    "xlabel('Hamonic frequencies: k\\Omega_0 (rad/sec)');\n",
    "ylabel('|c_k|');\n",
    "subplot(212)\n",
    "stem(w,angle(Xw), 'o-');\n",
    "xlabel('Hamonic frequencies: k\\Omega_0 (rad/sec)'); \n",
    "ylabel('\\angle c_k [radians]');"
   ]
  },
  {
   "cell_type": "markdown",
   "id": "1cfc406a",
   "metadata": {
    "slideshow": {
     "slide_type": "slide"
    }
   },
   "source": [
    "(examples17)=\n",
    "# Examples 17"
   ]
  },
  {
   "cell_type": "markdown",
   "id": "7678cf08",
   "metadata": {
    "slideshow": {
     "slide_type": "subslide"
    }
   },
   "source": [
    "(ex:17.1)=\n",
    "### Example 17.1: Some important values of $\\omega t$\n",
    "\n",
    "Give the following:\n",
    "* $e^{j\\omega t}$ when $\\omega t = 0$\n",
    "* $e^{j\\omega t}$ when $\\omega t = \\pi/2$\n",
    "* $e^{j\\omega t}$ when $\\omega t = \\pi$\n",
    "* $e^{j\\omega t}$ when $\\omega t = 3\\pi/2$\n",
    "* $e^{j\\omega t}$ when $\\omega t = 2\\pi$"
   ]
  },
  {
   "cell_type": "markdown",
   "id": "f051b281",
   "metadata": {
    "slideshow": {
     "slide_type": "notes"
    }
   },
   "source": [
    "These are useful when simplifying expressions that result from integrating functions that involve the imaginary exponential."
   ]
  },
  {
   "cell_type": "markdown",
   "id": "3c21bd11",
   "metadata": {
    "slideshow": {
     "slide_type": "notes"
    }
   },
   "source": [
    "<pre style=\"border: 2px solid blue\">\n",
    "\n",
    "\n",
    "\n",
    "\n",
    "\n",
    "\n",
    "\n",
    "\n",
    "\n",
    "\n",
    "\n",
    "\n",
    "\n",
    "\n",
    "\n",
    "</pre>"
   ]
  },
  {
   "cell_type": "markdown",
   "id": "d2880c93",
   "metadata": {
    "slideshow": {
     "slide_type": "slide"
    }
   },
   "source": [
    "(ex:17.2)=\n",
    "## Example 17.2\n",
    "\n",
    "Compute the Exponential Fourier Series for the square wave shown in {numref}`fig:ex:17.1` assuming that $\\Omega_0 = 1$ rad/s."
   ]
  },
  {
   "cell_type": "markdown",
   "id": "7ca7b365",
   "metadata": {
    "slideshow": {
     "slide_type": "subslide"
    }
   },
   "source": [
    "### Some questions for you\n",
    "\n",
    "* Square wave is an [**odd/even/neither**] function?\n",
    "* DC component is [**zero/non-zero**]?\n",
    "* Square wave [**has/does not have**] half-wave symmetry?"
   ]
  },
  {
   "cell_type": "markdown",
   "id": "87b9f400",
   "metadata": {
    "slideshow": {
     "slide_type": "subslide"
    }
   },
   "source": [
    "Hence\n",
    "\n",
    "* $C_0 = $[**?**]\n",
    "* Coefficients $C_k$ are [**real/imaginary/complex**]?\n",
    "* Subscripts $k$ are [**odd only/even only/both odd and even**]?\n",
    "* What is the integral that needs to be solved for $C_k$?"
   ]
  },
  {
   "cell_type": "markdown",
   "id": "5e3d63cb",
   "metadata": {
    "slideshow": {
     "slide_type": "notes"
    }
   },
   "source": [
    "<pre style=\"border: 2px solid blue\">\n",
    "\n",
    "\n",
    "\n",
    "\n",
    "\n",
    "\n",
    "\n",
    "\n",
    "\n",
    "\n",
    "\n",
    "\n",
    "\n",
    "\n",
    "\n",
    "</pre>"
   ]
  },
  {
   "cell_type": "markdown",
   "id": "ea98db24",
   "metadata": {},
   "source": [
    "Solve the problem\n",
    "<pre style=\"border: 2px solid blue\">\n",
    "\n",
    "\n",
    "\n",
    "\n",
    "\n",
    "\n",
    "\n",
    "\n",
    "\n",
    "\n",
    "\n",
    "\n",
    "\n",
    "\n",
    "\n",
    "\n",
    "\n",
    "\n",
    "\n",
    "\n",
    "\n",
    "\n",
    "\n",
    "\n",
    "</pre>"
   ]
  },
  {
   "cell_type": "markdown",
   "id": "7d6e9431",
   "metadata": {
    "slideshow": {
     "slide_type": "notes"
    }
   },
   "source": [
    "<sup>*</sup> You may want to verify that $C_0 = 0$ and \n",
    "\n",
    "$${C_k \\atop {k=\\mathrm{even}}} = 0.$$"
   ]
  },
  {
   "cell_type": "markdown",
   "id": "77c4bd7d",
   "metadata": {
    "slideshow": {
     "slide_type": "notes"
    }
   },
   "source": [
    "## Summary\n",
    "\n",
    "* {ref}`fs2:expsignals`\n",
    "* {ref}`fs2:exp_fs`\n",
    "* {ref}`fs2:symmetry`\n",
    "* {ref}`fs2:eg`\n",
    "* {ref}`fs2:matlab`\n",
    "* {ref}`examples17`\n",
    "\n",
    "(unit:5.2_takeaways)=\n",
    "### Unit 5.2: Take Aways"
   ]
  },
  {
   "cell_type": "markdown",
   "id": "a6a052f2",
   "metadata": {
    "slideshow": {
     "slide_type": "notes"
    }
   },
   "source": [
    "## Next Time\n",
    "\n",
    "We move on to consider \n",
    "\n",
    "* {ref}`unit5.3`\n",
    "\n",
    "## References\n",
    "\n",
    "```{bibliography}\n",
    ":filter: docname in docnames\n",
    "```"
   ]
  },
  {
   "cell_type": "markdown",
   "id": "34edb3f5",
   "metadata": {
    "slideshow": {
     "slide_type": "notes"
    }
   },
   "source": [
    "## Homework"
   ]
  },
  {
   "cell_type": "markdown",
   "id": "b1a7c78d",
   "metadata": {
    "slideshow": {
     "slide_type": "notes"
    }
   },
   "source": [
    "(solutions17)=\n",
    "## Solutions to examples 17"
   ]
  },
  {
   "cell_type": "markdown",
   "id": "738bcda9",
   "metadata": {
    "slideshow": {
     "slide_type": "notes"
    }
   },
   "source": [
    "(sol:17.1)=\n",
    "### Solution to Example 17.1: Some important values of $\\omega t$\n",
    "\n",
    "* When $\\omega t = 0$: $e^{j\\omega t} = e^{j0} = 1$\n",
    "* When $\\omega t = \\pi/2$: $e^{j\\omega t} = e^{j\\pi/2} = j$\n",
    "* When $\\omega t = \\pi$: $e^{j\\omega t} = e^{j\\pi} = -1$\n",
    "* When $\\omega t = 3\\pi/2$: $e^{j\\omega t} = e^{j3\\pi/2} = -j$\n",
    "* When $\\omega t = 2\\pi$: $e^{j\\omega t} = e^{j2\\pi} = e^{j0}= 1$\n",
    "\n",
    "It is also worth being aware that $n\\omega t$, when $n$ is an integer, produces rotations that often map back to the simpler cases given above. For example see $e^{j2\\pi}$ above."
   ]
  },
  {
   "cell_type": "markdown",
   "id": "68e23bae",
   "metadata": {
    "slideshow": {
     "slide_type": "notes"
    }
   },
   "source": [
    "(sol:17.2)=\n",
    "### Solution to Example 17.2\n",
    "\n",
    "* Square wave is an **odd** function!\n",
    "* DC component is **zero**!\n",
    "* Square wave **has** half-wave symmetry!\n",
    "\n",
    "Hence\n",
    "\n",
    "* $C_0 = 0$\n",
    "* Coefficients $C_k$ are **imaginary**!\n",
    "* Subscripts $k$ are **odd only**!\n",
    "* What is the integral that needs to be solved for $C_k$?\n",
    "\n",
    "$$C_k = \\frac{1}{2\\pi}\\int_{0}^{2\\pi} f(\\theta)e^{-jk\\theta}\\, d\\theta = \\frac{1}{2\\pi}\\left[\\int_{0}^{\\pi} Ae^{-jk\\theta}\\, d\\theta + \\int_{\\pi}^{2\\pi} (-A)e^{-jk\\theta}\\, d\\theta\\right]$$\n",
    "\n",
    "where $\\theta = \\Omega_0 t$ rad."
   ]
  },
  {
   "cell_type": "markdown",
   "id": "b5a02071",
   "metadata": {
    "slideshow": {
     "slide_type": "notes"
    }
   },
   "source": [
    "### Computation of $C_k$\n",
    "\n",
    "$$\\frac{1}{2\\pi}\\left[\\int_{0}^{\\pi} Ae^{-jk\\theta}\\, d\\theta + \\int_{\\pi}^{2\\pi} (-A)e^{-jk\\theta}\\, d\\theta\\right] = \\frac{1}{2\\pi}\\left[\\left.\\frac{A}{-jk}e^{-jk\\theta}\\right|_0^\\pi+\\left.\\frac{-A}{-jk}e^{-jk\\theta}\\right|_\\pi^{2\\pi}\\right]$$\n",
    "\n",
    "$$ = \\frac{1}{2\\pi}\\left[\\frac{A}{-jk}\\left(e^{-jk\\pi} - 1\\right)+\\frac{A}{jk}\\left(e^{-j2k \\pi}-e^{-jk\\pi}\\right)\\right] =\n",
    "\\frac{A}{2j\\pi k}\\left(1 - e^{-jk\\pi}+ e^{-j2k \\pi}-e^{-jk\\pi}\\right)$$\n",
    "\n",
    "$$\\frac{A}{2j\\pi k}\\left(e^{-j2k \\pi} - 2e^{-jk\\pi} -1 \\right) = \\frac{A}{2j\\pi k}\\left(e^{-jk\\pi}-1\\right)^2$$\n",
    "\n",
    "For $k$ even, $e^{-jk\\pi} = +1$, $e^{-jk\\pi}-1 = 0$ and \n",
    "\n",
    "$${C_k\\atop {k = \\mathrm{even}}} = 0.$$ \n",
    "\n",
    "For $k$ odd*, $e^{-jk\\pi} = -1$. \n",
    "\n",
    "Therefore\n",
    "\n",
    "$${C_k \\atop {k=\\mathrm{odd}}} = \\frac{A}{2j\\pi k}\\left(e^{-jk\\pi}-1\\right)^2 = \\frac{A}{2j\\pi k}\\left(-1-1\\right)^2 = \\frac{A}{2j\\pi k}\\left(-2\\right)^2 = \\frac{2A}{j\\pi k} = \\frac{1}{k}\\left(\\frac{2A}{j\\pi}\\right)$$"
   ]
  },
  {
   "cell_type": "code",
   "execution_count": null,
   "id": "f998573f",
   "metadata": {},
   "outputs": [],
   "source": []
  }
 ],
 "metadata": {
  "jupytext": {
   "formats": "ipynb,md:myst",
   "text_representation": {
    "extension": ".md",
    "format_name": "myst",
    "format_version": 0.13,
    "jupytext_version": "1.14.4"
   }
  },
  "kernelspec": {
   "display_name": "Matlab",
   "language": "matlab",
   "name": "matlab"
  },
  "language_info": {
   "codemirror_mode": "octave",
   "file_extension": ".m",
   "help_links": [
    {
     "text": "MetaKernel Magics",
     "url": "https://metakernel.readthedocs.io/en/latest/source/README.html"
    }
   ],
   "mimetype": "text/x-octave",
   "name": "matlab",
   "version": "0.17.1"
  },
  "source_map": [
   15,
   22,
   28,
   36,
   47,
   54,
   58,
   62,
   69,
   85,
   89,
   93,
   97,
   101,
   108,
   116,
   122,
   137,
   143,
   161,
   165,
   182,
   186,
   192,
   210,
   216,
   220,
   226,
   230,
   242,
   251,
   257,
   269,
   279,
   287,
   299,
   306,
   318,
   330,
   337,
   343,
   357,
   363,
   369,
   375,
   381,
   387,
   393,
   406,
   418,
   430,
   436,
   451,
   456,
   460,
   466,
   476,
   480,
   492,
   498,
   506,
   510,
   518,
   522,
   526,
   534,
   538,
   554,
   559,
   571,
   575,
   595,
   602,
   610,
   619,
   639,
   669,
   675,
   689,
   703,
   707,
   712,
   725,
   745,
   766
  ]
 },
 "nbformat": 4,
 "nbformat_minor": 5
}