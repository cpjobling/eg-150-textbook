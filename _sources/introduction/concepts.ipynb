{
 "cells": [
  {
   "cell_type": "markdown",
   "id": "a130f82d",
   "metadata": {
    "slideshow": {
     "slide_type": "slide"
    }
   },
   "source": [
    "(concepts)=\n",
    "# Unit 1.3: Introduction to the Concepts to be Studied"
   ]
  },
  {
   "cell_type": "markdown",
   "id": "ec7438cd",
   "metadata": {
    "slideshow": {
     "slide_type": "subslide"
    }
   },
   "source": [
    "Follow along at [cpjobling.github.io/eg-150-textbook/introduction/concepts](https://cpjobling.github.io/eg-150/introduction/concepts)\n",
    "\n",
    "![QR Code](pictures/qrcode_unit1.3.png)"
   ]
  },
  {
   "cell_type": "markdown",
   "id": "1c2cd926",
   "metadata": {
    "slideshow": {
     "slide_type": "slide"
    }
   },
   "source": [
    "In this section we will present some concepts that are important for the dvelopment of your knowlege of signals and signals and use that knowledge for the analysis and design of signal processing signals.\n",
    "\n",
    "## Coming up\n",
    "\n",
    "* {ref}`concepts:signals` and {ref}`concepts:example_signals`\n",
    "* {ref}`concepts:systems` and {ref}`concepts:example_systems`\n",
    "* {ref}`concepts:system_models`\n",
    "* {ref}`concepts:system_design`\n",
    "* {ref}`concepts:signal_processing`\n",
    "* {ref}`concepts:feedback`"
   ]
  },
  {
   "cell_type": "markdown",
   "id": "e606d325",
   "metadata": {
    "slideshow": {
     "slide_type": "slide"
    }
   },
   "source": [
    "(concepts:signals)=\n",
    "## Signals\n",
    "\n",
    "* Signals are numerical functions of one or more independent variables (e.g. room temperature over time and spatial location)"
   ]
  },
  {
   "cell_type": "markdown",
   "id": "056f32ec",
   "metadata": {
    "slideshow": {
     "slide_type": "fragment"
    }
   },
   "source": [
    "* Signals are defined in order to convey some information for subsequent signal processing (eg: to find average room temperature during one day)."
   ]
  },
  {
   "cell_type": "markdown",
   "id": "c2aff4cb",
   "metadata": {
    "slideshow": {
     "slide_type": "notes"
    }
   },
   "source": [
    "The actual units (e.g. temperature in degrees Celsius and time in hours) are not important for signal processing, but it is useful to be aware of them."
   ]
  },
  {
   "cell_type": "markdown",
   "id": "fb60a2c4",
   "metadata": {
    "slideshow": {
     "slide_type": "fragment"
    }
   },
   "source": [
    "* Models of signals are often called waveforms (eg: sine wave model)"
   ]
  },
  {
   "cell_type": "markdown",
   "id": "0dbdfbea",
   "metadata": {
    "slideshow": {
     "slide_type": "subslide"
    }
   },
   "source": [
    "### Examples of signals\n",
    "\n",
    "* Electrical signals (voltages, currents)"
   ]
  },
  {
   "cell_type": "markdown",
   "id": "8ab8d6d8",
   "metadata": {
    "slideshow": {
     "slide_type": "fragment"
    }
   },
   "source": [
    "* Electromagnetic signals (electromagnetic waves)"
   ]
  },
  {
   "cell_type": "markdown",
   "id": "963321db",
   "metadata": {
    "slideshow": {
     "slide_type": "fragment"
    }
   },
   "source": [
    "* Biological signals (electrocardiogram, sound waves)"
   ]
  },
  {
   "cell_type": "markdown",
   "id": "6460bb75",
   "metadata": {
    "slideshow": {
     "slide_type": "fragment"
    }
   },
   "source": [
    "* Man made signals (text files)"
   ]
  },
  {
   "cell_type": "markdown",
   "id": "2cd1deb2",
   "metadata": {
    "slideshow": {
     "slide_type": "slide"
    }
   },
   "source": [
    "(concepts:example_signals)=\n",
    "## Some Example Signals"
   ]
  },
  {
   "cell_type": "markdown",
   "id": "0534433b",
   "metadata": {
    "slideshow": {
     "slide_type": "subslide"
    }
   },
   "source": [
    "### Microphone output\n",
    " \n",
    ":::{figure-md} microphone\n",
    "<img src=\"pictures/sound.jpg\" alt=\"A sound signal captured by a microphone.\" width=\"60%\">\n",
    "\n",
    "Microphone output (continuous-time, continuous values)\n",
    ":::"
   ]
  },
  {
   "cell_type": "markdown",
   "id": "1c8859f4",
   "metadata": {
    "slideshow": {
     "slide_type": "notes"
    }
   },
   "source": [
    "In {numref}`microphone` sound pressure has been converted to a voltage signal."
   ]
  },
  {
   "cell_type": "markdown",
   "id": "a549969d",
   "metadata": {
    "slideshow": {
     "slide_type": "subslide"
    }
   },
   "source": [
    "### On/off switch state\n",
    " \n",
    ":::{figure-md} on-off\n",
    "<img src=\"pictures/on-off.png\" alt=\"A discete-time signal\" width=\"60%\">\n",
    "\n",
    "On/off switch state (continuous time, discrete values)\n",
    ":::"
   ]
  },
  {
   "cell_type": "markdown",
   "id": "865b240c",
   "metadata": {
    "slideshow": {
     "slide_type": "notes"
    }
   },
   "source": [
    "{numref}`microphone` shows the output of a switched device. The signal has only two discrete values but time is continuous. That is the switching can happen at any time instant."
   ]
  },
  {
   "cell_type": "markdown",
   "id": "2f9aae5f",
   "metadata": {
    "slideshow": {
     "slide_type": "subslide"
    }
   },
   "source": [
    "### Temperature difference\n",
    "\n",
    ":::{figure-md} temp-diff\n",
    "<img src=\"pictures/temp-diff.jpg\" alt=\"The temperature difference of a 15cm thick wall.\" width=\"60%\">\n",
    "\n",
    "The temperature difference of a 15cm thick wall (contunuous space, continuous time)\n",
    ":::"
   ]
  },
  {
   "cell_type": "markdown",
   "id": "b646b1fe",
   "metadata": {
    "slideshow": {
     "slide_type": "notes"
    }
   },
   "source": [
    "{numref}`temp-diff` shows the temperature difference of 15cm thick wall (continuous space, continuous value). The spatial location is independent variable, and time is a parameter."
   ]
  },
  {
   "cell_type": "markdown",
   "id": "2b0fe6e7",
   "metadata": {
    "slideshow": {
     "slide_type": "subslide"
    }
   },
   "source": [
    "### Stock market prices\n",
    "\n",
    ":::{figure-md} stocks\n",
    "<img src=\"pictures/stocks.jpg\" alt=\"Stock market prices\" width=\"60%\">\n",
    "\n",
    "Stock market prices (discrete time, continuous values)\n",
    ":::"
   ]
  },
  {
   "cell_type": "markdown",
   "id": "53b44db1",
   "metadata": {
    "slideshow": {
     "slide_type": "notes"
    }
   },
   "source": [
    "{numref}`temp-diff` shows the value of a particular stock sold on a stock market on particular dates. This is an example of a discrete-time signal with continuous values."
   ]
  },
  {
   "cell_type": "markdown",
   "id": "584fa8ff",
   "metadata": {
    "slideshow": {
     "slide_type": "subslide"
    }
   },
   "source": [
    "###  Frequency of marks in a test \n",
    "\n",
    ":::{figure-md} marks\n",
    "<img src=\"pictures/marks.jpg\" alt=\"Frequency of marks in a test\" width=\"60%\">\n",
    "\n",
    "Frequency of marks in a test (discrete time, discrete values)\n",
    ":::"
   ]
  },
  {
   "cell_type": "markdown",
   "id": "c9d0e04d",
   "metadata": {
    "slideshow": {
     "slide_type": "notes"
    }
   },
   "source": [
    "{numref}`marks` shows the range of marks for a particular tests. The mark is one of a discete set of values. The frequency is the number of times a particular mark was achieved. It is an integer so the measured values are also discrete."
   ]
  },
  {
   "cell_type": "markdown",
   "id": "6e60013c",
   "metadata": {
    "slideshow": {
     "slide_type": "slide"
    }
   },
   "source": [
    "(concepts:systems)=\n",
    "## What are systems?"
   ]
  },
  {
   "cell_type": "markdown",
   "id": "4f4b1c25",
   "metadata": {
    "slideshow": {
     "slide_type": "subslide"
    }
   },
   "source": [
    "### Systems"
   ]
  },
  {
   "cell_type": "markdown",
   "id": "e20c1dff",
   "metadata": {
    "slideshow": {
     "slide_type": "fragment"
    }
   },
   "source": [
    "* modify and manipulate signals in order to extract some useful information"
   ]
  },
  {
   "cell_type": "markdown",
   "id": "41c8c411",
   "metadata": {
    "slideshow": {
     "slide_type": "fragment"
    }
   },
   "source": [
    "* implement signal processing (first as mathematical models, then in hardware and software)"
   ]
  },
  {
   "cell_type": "markdown",
   "id": "736e512e",
   "metadata": {
    "slideshow": {
     "slide_type": "fragment"
    }
   },
   "source": [
    "* have inputs (to feed in signals) and outputs (to read out transformed signals) Physical system"
   ]
  },
  {
   "cell_type": "markdown",
   "id": "f34ccc1a",
   "metadata": {
    "slideshow": {
     "slide_type": "subslide"
    }
   },
   "source": [
    "### A Physical System\n",
    "\n",
    ":::{figure-md} physical_system\n",
    "<img src=\"pictures/phys-sys.jpg\" alt=\"A physical system for amplifying sound.\" width=\"60%\">\n",
    "\n",
    "A physical system for amplifying sound.\n",
    ":::"
   ]
  },
  {
   "cell_type": "markdown",
   "id": "9b2d82b1",
   "metadata": {
    "slideshow": {
     "slide_type": "notes"
    }
   },
   "source": [
    "In {numref}`physical_system sound waves are converted to an electrical signal by a microphone\n",
    "and the electrical signal is amplified by the audio amplifier before being converted back to sound waves by the speaker."
   ]
  },
  {
   "cell_type": "markdown",
   "id": "c192fe06",
   "metadata": {
    "slideshow": {
     "slide_type": "subslide"
    }
   },
   "source": [
    "### Mathematical model of a system\n",
    "\n",
    ":::{figure-md} math_model\n",
    "<img src=\"pictures/math_model.jpg\" alt=\"A mathematical model of a system\" width=\"60%\">\n",
    "\n",
    "A mathematical model of a system\n",
    ":::"
   ]
  },
  {
   "cell_type": "markdown",
   "id": "0810d46c",
   "metadata": {
    "slideshow": {
     "slide_type": "notes"
    }
   },
   "source": [
    "For the system shown in schematic (block diagram) form in {numref}`math_model`\n",
    "\n",
    "$$v_\\mathrm{OUT}(t) = f (v_\\mathrm{IN}(t))$$\n",
    "\n",
    "E.g. $v_\\mathrm{OUT}(t) = Av_\\mathrm{IN}(t)$ where $A$ is a positive real number ($A \\in \\mathbb{R}^+$)(positive real number)\n",
    "\n",
    "Mathematical abstractions of physical systems are necessary to devise approaches to signal processing problems."
   ]
  },
  {
   "cell_type": "markdown",
   "id": "8f528e2d",
   "metadata": {
    "slideshow": {
     "slide_type": "subslide"
    }
   },
   "source": [
    "(concepts:example_systems)=\n",
    "## Some example systems\n",
    "\n",
    ":::{figure-md} systems\n",
    "<img src=\"pictures/systems.jpg\" alt=\"Some example systems\" width=\"60%\">\n",
    "\n",
    "Some example systems\n",
    ":::"
   ]
  },
  {
   "cell_type": "markdown",
   "id": "78c88e17",
   "metadata": {
    "slideshow": {
     "slide_type": "subslide"
    }
   },
   "source": [
    "(concepts:system_models)=\n",
    "## Why do we make models of systems?"
   ]
  },
  {
   "cell_type": "markdown",
   "id": "576b7bd9",
   "metadata": {
    "slideshow": {
     "slide_type": "fragment"
    }
   },
   "source": [
    "* We make mathematical models of every possible system on the Earth (biological, social, technological, geological,$\\ldots$ systems)"
   ]
  },
  {
   "cell_type": "markdown",
   "id": "15487b07",
   "metadata": {
    "slideshow": {
     "slide_type": "fragment"
    }
   },
   "source": [
    "* Usually, the more complicated the model, the better it reflects the reality, but the more difficult it is to deal with (mathematically)"
   ]
  },
  {
   "cell_type": "markdown",
   "id": "8030ef6e",
   "metadata": {
    "slideshow": {
     "slide_type": "fragment"
    }
   },
   "source": [
    "* We are ‘digitalizing the world’ (Big Data, Internet of Things,$ldots$)"
   ]
  },
  {
   "cell_type": "markdown",
   "id": "bcf249da",
   "metadata": {
    "slideshow": {
     "slide_type": "subslide"
    }
   },
   "source": [
    "### Can you recognize these systems?"
   ]
  },
  {
   "cell_type": "markdown",
   "id": "87404a0a",
   "metadata": {},
   "source": [
    "**Add pictures and poll**"
   ]
  },
  {
   "cell_type": "markdown",
   "id": "0b668e5a",
   "metadata": {
    "slideshow": {
     "slide_type": "slide"
    }
   },
   "source": [
    "(concepts:system_design)=\n",
    "## System design"
   ]
  },
  {
   "cell_type": "markdown",
   "id": "08ea47b5",
   "metadata": {
    "slideshow": {
     "slide_type": "fragment"
    }
   },
   "source": [
    "### Top-down design\n",
    "* Start from overall specifications, e.g. user requirements [Apple products]"
   ]
  },
  {
   "cell_type": "markdown",
   "id": "36c5e6a3",
   "metadata": {
    "slideshow": {
     "slide_type": "fragment"
    }
   },
   "source": [
    "### Bottom-up design\n",
    "\n",
    "* design sub-systems, then interconnect them to achive the desired system (Cloud computing, Internet, computer and cellular networks)"
   ]
  },
  {
   "cell_type": "markdown",
   "id": "f4cd0b52",
   "metadata": {
    "slideshow": {
     "slide_type": "subslide"
    }
   },
   "source": [
    "### Example:  The Internet\n",
    "\n",
    ":::{figure-md} internet\n",
    "<img src=\"pictures/network.jpg\" alt=\"A model of the internet\" width=\"50%\">\n",
    "\n",
    "A simple model of the internet\n",
    ":::"
   ]
  },
  {
   "cell_type": "markdown",
   "id": "a4f08389",
   "metadata": {
    "slideshow": {
     "slide_type": "subslide"
    }
   },
   "source": [
    "Basic design requirments are (often) simple:\n",
    "\n",
    "* e.g. send packets of data between two nodes in a network"
   ]
  },
  {
   "cell_type": "markdown",
   "id": "740c94b7",
   "metadata": {
    "slideshow": {
     "slide_type": "subslide"
    }
   },
   "source": [
    "But\tthe\timplementation\tis\t(almost\talways) complicated:"
   ]
  },
  {
   "cell_type": "markdown",
   "id": "dc8b631e",
   "metadata": {
    "slideshow": {
     "slide_type": "fragment"
    }
   },
   "source": [
    "* how to distinguish end-nodes?"
   ]
  },
  {
   "cell_type": "markdown",
   "id": "df4a548d",
   "metadata": {
    "slideshow": {
     "slide_type": "fragment"
    }
   },
   "source": [
    "* how to find the route?"
   ]
  },
  {
   "cell_type": "markdown",
   "id": "cea5eac5",
   "metadata": {
    "slideshow": {
     "slide_type": "fragment"
    }
   },
   "source": [
    "* how to share network (resources) among billions end-nodes?"
   ]
  },
  {
   "cell_type": "markdown",
   "id": "b88db2d8",
   "metadata": {
    "slideshow": {
     "slide_type": "fragment"
    }
   },
   "source": [
    "* how to deal with lost and delayed packets?"
   ]
  },
  {
   "cell_type": "markdown",
   "id": "0dabf3db",
   "metadata": {
    "slideshow": {
     "slide_type": "fragment"
    }
   },
   "source": [
    "* how to deal with mobility and nodes leaving and arriving?"
   ]
  },
  {
   "cell_type": "markdown",
   "id": "61009e68",
   "metadata": {
    "slideshow": {
     "slide_type": "slide"
    }
   },
   "source": [
    "(concepts:signal_processing)=\n",
    "## What is Signal Processing?"
   ]
  },
  {
   "cell_type": "markdown",
   "id": "ad0d337e",
   "metadata": {
    "slideshow": {
     "slide_type": "subslide"
    }
   },
   "source": [
    "### Example scenarios\n",
    " \n",
    "1. Given a system, find the signal that will pass through it well (e.g. design a transmitter signal in a communication system)"
   ]
  },
  {
   "cell_type": "markdown",
   "id": "13f88a25",
   "metadata": {
    "slideshow": {
     "slide_type": "fragment"
    }
   },
   "source": [
    "2. Given a signal, find the system that will pass it well (e.g. design an audio amplifier)"
   ]
  },
  {
   "cell_type": "markdown",
   "id": "d235017b",
   "metadata": {
    "slideshow": {
     "slide_type": "fragment"
    }
   },
   "source": [
    "3. Design a system to make a desired change to the signal (e.g. design an audio equalizer)"
   ]
  },
  {
   "cell_type": "markdown",
   "id": "8adf7ba5",
   "metadata": {
    "slideshow": {
     "slide_type": "fragment"
    }
   },
   "source": [
    "4. Design a system to extract information from the signal (e.g. design a communication receiver to recover transmitted data symbols)"
   ]
  },
  {
   "cell_type": "markdown",
   "id": "12a27c94",
   "metadata": {
    "slideshow": {
     "slide_type": "subslide"
    }
   },
   "source": [
    "(concepts:feedback)=\n",
    "## Feedback"
   ]
  },
  {
   "cell_type": "markdown",
   "id": "ccf07843",
   "metadata": {
    "slideshow": {
     "slide_type": "fragment"
    }
   },
   "source": [
    "* Feedback is a key concept in Control Engineering."
   ]
  },
  {
   "cell_type": "markdown",
   "id": "58363594",
   "metadata": {
    "slideshow": {
     "slide_type": "fragment"
    }
   },
   "source": [
    "* It is found in all technological, biological, financial, social etc. systems."
   ]
  },
  {
   "cell_type": "markdown",
   "id": "36ed035e",
   "metadata": {
    "slideshow": {
     "slide_type": "fragment"
    }
   },
   "source": [
    "* In positive feedback: a change is amplified (including noise), e.g. useful to produce oscillations."
   ]
  },
  {
   "cell_type": "markdown",
   "id": "a2a5d738",
   "metadata": {
    "slideshow": {
     "slide_type": "fragment"
    }
   },
   "source": [
    "* Negative feedback: a change is neutralized (noise is suppressed), e.g. useful to stabilize a system."
   ]
  },
  {
   "cell_type": "markdown",
   "id": "08b2d78d",
   "metadata": {},
   "source": [
    "## Summary\n",
    "\n",
    "In this section we have presented some concepts from the field of **Signals and Systems** that we will study further in this and later courses.\n",
    "\n",
    "We looked at\n",
    "\n",
    "* {ref}`concepts:signals` and {ref}`concepts:example_signals`\n",
    "* {ref}`concepts:systems` and {ref}`concepts:example_systems`\n",
    "* {ref}`concepts:system_models`\n",
    "* {ref}`concepts:system_design`\n",
    "* {ref}`concepts:signal_processing`\n",
    "* {ref}`concepts:feedback`"
   ]
  },
  {
   "cell_type": "markdown",
   "id": "b9a8569a",
   "metadata": {
    "slideshow": {
     "slide_type": "slide"
    }
   },
   "source": [
    "## Coming Next\n",
    "\n",
    "In the following sections, we introduce the mathematical description and representation of signals and systems and their classifications. We also define several important basic signals essesntial to your studies.\n",
    "\n",
    "The first of these will be {ref}`sig_intro`."
   ]
  }
 ],
 "metadata": {
  "jupytext": {
   "formats": "ipynb,md:myst",
   "text_representation": {
    "extension": ".md",
    "format_name": "myst",
    "format_version": 0.13,
    "jupytext_version": "1.14.4"
   }
  },
  "kernelspec": {
   "display_name": "Python 3 (ipykernel)",
   "language": "python",
   "name": "python3"
  },
  "language_info": {
   "codemirror_mode": {
    "name": "ipython",
    "version": 3
   },
   "file_extension": ".py",
   "mimetype": "text/x-python",
   "name": "python",
   "nbconvert_exporter": "python",
   "pygments_lexer": "ipython3",
   "version": "3.9.15"
  },
  "source_map": [
   15,
   20,
   26,
   39,
   46,
   50,
   54,
   58,
   64,
   68,
   72,
   76,
   81,
   91,
   95,
   105,
   109,
   119,
   123,
   133,
   137,
   147,
   151,
   156,
   160,
   164,
   168,
   172,
   182,
   187,
   197,
   207,
   218,
   223,
   227,
   231,
   235,
   239,
   243,
   248,
   253,
   259,
   269,
   275,
   279,
   283,
   287,
   291,
   295,
   299,
   304,
   310,
   314,
   318,
   322,
   327,
   331,
   335,
   339,
   343,
   358
  ]
 },
 "nbformat": 4,
 "nbformat_minor": 5
}