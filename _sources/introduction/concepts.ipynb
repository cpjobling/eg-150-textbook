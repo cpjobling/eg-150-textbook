{
 "cells": [
  {
   "cell_type": "markdown",
   "id": "67488bb3",
   "metadata": {
    "slideshow": {
     "slide_type": "slide"
    }
   },
   "source": [
    "(concepts)=\n",
    "# Unit 1.3: Introduction to the Concepts to be Studied"
   ]
  },
  {
   "cell_type": "markdown",
   "id": "79b33565",
   "metadata": {
    "slideshow": {
     "slide_type": "subslide"
    }
   },
   "source": [
    "Follow along at [cpjobling.github.io/eg-150-textbook/introduction/concepts](https://cpjobling.github.io/eg-150/introduction/concepts)\n",
    "\n",
    "![QR Code](pictures/qrcode_unit1.3.png)"
   ]
  },
  {
   "cell_type": "markdown",
   "id": "50372423",
   "metadata": {
    "slideshow": {
     "slide_type": "slide"
    }
   },
   "source": [
    "In this section we will present some concepts that are important for the dvelopment of your knowlege of signals and signals and use that knowledge for the analysis and design of signal processing signals.\n",
    "\n",
    "## Coming up\n",
    "\n",
    "* {ref}`concepts:signals` and {ref}`concepts:example_signals`\n",
    "* {ref}`concepts:systems` and {ref}`concepts:example_systems`\n",
    "* {ref}`concepts:system_models`\n",
    "* {ref}`concepts:system_design`\n",
    "* {ref}`concepts:signal_processing`\n",
    "* {ref}`concepts:feedback`"
   ]
  },
  {
   "cell_type": "markdown",
   "id": "4634759b",
   "metadata": {
    "slideshow": {
     "slide_type": "slide"
    }
   },
   "source": [
    "(concepts:signals)=\n",
    "## Signals\n",
    "\n",
    "* Signals are numerical functions of one or more independent variables (e.g. room temperature over time and spatial location)"
   ]
  },
  {
   "cell_type": "markdown",
   "id": "c6c211d0",
   "metadata": {
    "slideshow": {
     "slide_type": "fragment"
    }
   },
   "source": [
    "* Signals are defined in order to convey some information for subsequent signal processing (eg: to find average room temperature during one day)."
   ]
  },
  {
   "cell_type": "markdown",
   "id": "1b6a4d74",
   "metadata": {
    "slideshow": {
     "slide_type": "notes"
    }
   },
   "source": [
    "The actual units (e.g. temperature in degrees Celsius and time in hours) are not important for signal processing, but it is useful to be aware of them."
   ]
  },
  {
   "cell_type": "markdown",
   "id": "b4673fa8",
   "metadata": {
    "slideshow": {
     "slide_type": "fragment"
    }
   },
   "source": [
    "* Models of signals are often called waveforms (eg: sine wave model)"
   ]
  },
  {
   "cell_type": "markdown",
   "id": "3d7b4c48",
   "metadata": {
    "slideshow": {
     "slide_type": "subslide"
    }
   },
   "source": [
    "### Examples of signals\n",
    "\n",
    "* Electrical signals (voltages, currents)"
   ]
  },
  {
   "cell_type": "markdown",
   "id": "12ec57ba",
   "metadata": {
    "slideshow": {
     "slide_type": "fragment"
    }
   },
   "source": [
    "* Electromagnetic signals (electromagnetic waves)"
   ]
  },
  {
   "cell_type": "markdown",
   "id": "4ad6b7a4",
   "metadata": {
    "slideshow": {
     "slide_type": "fragment"
    }
   },
   "source": [
    "* Biological signals (electrocardiogram, sound waves)"
   ]
  },
  {
   "cell_type": "markdown",
   "id": "a9e3b1c1",
   "metadata": {
    "slideshow": {
     "slide_type": "fragment"
    }
   },
   "source": [
    "* Man made signals (text files)"
   ]
  },
  {
   "cell_type": "markdown",
   "id": "76a06e77",
   "metadata": {
    "slideshow": {
     "slide_type": "slide"
    }
   },
   "source": [
    "(concepts:example_signals)=\n",
    "## Some Example Signals"
   ]
  },
  {
   "cell_type": "markdown",
   "id": "cca822cf",
   "metadata": {
    "slideshow": {
     "slide_type": "subslide"
    }
   },
   "source": [
    "### Microphone output\n",
    " \n",
    ":::{figure-md} microphone\n",
    "<img src=\"pictures/sound.jpg\" alt=\"A sound signal captured by a microphone.\" width=\"60%\">\n",
    "\n",
    "Microphone output (continuous-time, continuous values)\n",
    ":::"
   ]
  },
  {
   "cell_type": "markdown",
   "id": "067dc3a7",
   "metadata": {
    "slideshow": {
     "slide_type": "notes"
    }
   },
   "source": [
    "In {numref}`microphone` sound pressure has been converted to a voltage signal."
   ]
  },
  {
   "cell_type": "markdown",
   "id": "fda30ee3",
   "metadata": {
    "slideshow": {
     "slide_type": "subslide"
    }
   },
   "source": [
    "### On/off switch state\n",
    " \n",
    ":::{figure-md} on-off\n",
    "<img src=\"pictures/on-off.png\" alt=\"A discete-time signal\" width=\"60%\">\n",
    "\n",
    "On/off switch state (continuous time, discrete values)\n",
    ":::"
   ]
  },
  {
   "cell_type": "markdown",
   "id": "428cbd82",
   "metadata": {
    "slideshow": {
     "slide_type": "notes"
    }
   },
   "source": [
    "{numref}`microphone` shows the output of a switched device. The signal has only two discrete values but time is continuous. That is the switching can happen at any time instant."
   ]
  },
  {
   "cell_type": "markdown",
   "id": "8fea4dc7",
   "metadata": {
    "slideshow": {
     "slide_type": "subslide"
    }
   },
   "source": [
    "### Temperature difference\n",
    "\n",
    ":::{figure-md} temp-diff\n",
    "<img src=\"pictures/temp-diff.jpg\" alt=\"The temperature difference of a 15cm thick wall.\" width=\"60%\">\n",
    "\n",
    "The temperature difference of a 15cm thick wall (contunuous space, continuous time)\n",
    ":::"
   ]
  },
  {
   "cell_type": "markdown",
   "id": "e98b4385",
   "metadata": {
    "slideshow": {
     "slide_type": "notes"
    }
   },
   "source": [
    "{numref}`temp-diff` shows the temperature difference of 15cm thick wall (continuous space, continuous value). The spatial location is independent variable, and time is a parameter."
   ]
  },
  {
   "cell_type": "markdown",
   "id": "56ad35de",
   "metadata": {
    "slideshow": {
     "slide_type": "subslide"
    }
   },
   "source": [
    "### Stock market prices\n",
    "\n",
    ":::{figure-md} stocks\n",
    "<img src=\"pictures/stocks.jpg\" alt=\"Stock market prices\" width=\"60%\">\n",
    "\n",
    "Stock market prices (discrete time, continuous values)\n",
    ":::"
   ]
  },
  {
   "cell_type": "markdown",
   "id": "7e9bc700",
   "metadata": {
    "slideshow": {
     "slide_type": "notes"
    }
   },
   "source": [
    "{numref}`temp-diff` shows the value of a particular stock sold on a stock market on particular dates. This is an example of a discrete-time signal with continuous values."
   ]
  },
  {
   "cell_type": "markdown",
   "id": "8a8e8d32",
   "metadata": {
    "slideshow": {
     "slide_type": "subslide"
    }
   },
   "source": [
    "###  Frequency of marks in a test \n",
    "\n",
    ":::{figure-md} marks\n",
    "<img src=\"pictures/marks.jpg\" alt=\"Frequency of marks in a test\" width=\"60%\">\n",
    "\n",
    "Frequency of marks in a test (discrete time, discrete values)\n",
    ":::"
   ]
  },
  {
   "cell_type": "markdown",
   "id": "065b1ab0",
   "metadata": {
    "slideshow": {
     "slide_type": "notes"
    }
   },
   "source": [
    "{numref}`marks` shows the range of marks for a particular tests. The mark is one of a discete set of values. The frequency is the number of times a particular mark was achieved. It is an integer so the measured values are also discrete."
   ]
  },
  {
   "cell_type": "markdown",
   "id": "b06fa37c",
   "metadata": {
    "slideshow": {
     "slide_type": "slide"
    }
   },
   "source": [
    "(concepts:systems)=\n",
    "## What are systems?"
   ]
  },
  {
   "cell_type": "markdown",
   "id": "f2837b74",
   "metadata": {
    "slideshow": {
     "slide_type": "subslide"
    }
   },
   "source": [
    "### Systems"
   ]
  },
  {
   "cell_type": "markdown",
   "id": "0d2bdd65",
   "metadata": {
    "slideshow": {
     "slide_type": "fragment"
    }
   },
   "source": [
    "* modify and manipulate signals in order to extract some useful information"
   ]
  },
  {
   "cell_type": "markdown",
   "id": "48f799f6",
   "metadata": {
    "slideshow": {
     "slide_type": "fragment"
    }
   },
   "source": [
    "* implement signal processing (first as mathematical models, then in hardware and software)"
   ]
  },
  {
   "cell_type": "markdown",
   "id": "54e3c635",
   "metadata": {
    "slideshow": {
     "slide_type": "fragment"
    }
   },
   "source": [
    "* have inputs (to feed in signals) and outputs (to read out transformed signals) Physical system"
   ]
  },
  {
   "cell_type": "markdown",
   "id": "b4c864d6",
   "metadata": {
    "slideshow": {
     "slide_type": "subslide"
    }
   },
   "source": [
    "### A Physical System\n",
    "\n",
    ":::{figure-md} physical_system\n",
    "<img src=\"pictures/phys-sys.jpg\" alt=\"A physical system for amplifying sound.\" width=\"60%\">\n",
    "\n",
    "A physical system for amplifying sound.\n",
    ":::"
   ]
  },
  {
   "cell_type": "markdown",
   "id": "be0f5dea",
   "metadata": {
    "slideshow": {
     "slide_type": "notes"
    }
   },
   "source": [
    "In {numref}`physical_system sound waves are converted to an electrical signal by a microphone\n",
    "and the electrical signal is amplified by the audio amplifier before being converted back to sound waves by the speaker."
   ]
  },
  {
   "cell_type": "markdown",
   "id": "815f8d23",
   "metadata": {
    "slideshow": {
     "slide_type": "subslide"
    }
   },
   "source": [
    "### Mathematical model of a system\n",
    "\n",
    ":::{figure-md} math_model\n",
    "<img src=\"pictures/math_model.jpg\" alt=\"A mathematical model of a system\" width=\"60%\">\n",
    "\n",
    "A mathematical model of a system\n",
    ":::"
   ]
  },
  {
   "cell_type": "markdown",
   "id": "f797b689",
   "metadata": {
    "slideshow": {
     "slide_type": "notes"
    }
   },
   "source": [
    "For the system shown in schematic (block diagram) form in {numref}`math_model`\n",
    "\n",
    "$$v_\\mathrm{OUT}(t) = f (v_\\mathrm{IN}(t))$$\n",
    "\n",
    "E.g. $v_\\mathrm{OUT}(t) = Av_\\mathrm{IN}(t)$ where $A$ is a positive real number ($A \\in \\mathbb{R}^+$)(positive real number)\n",
    "\n",
    "Mathematical abstractions of physical systems are necessary to devise approaches to signal processing problems."
   ]
  },
  {
   "cell_type": "markdown",
   "id": "6a493c3d",
   "metadata": {
    "slideshow": {
     "slide_type": "subslide"
    }
   },
   "source": [
    "(concepts:example_systems)=\n",
    "## Some example systems\n",
    "\n",
    ":::{figure-md} systems\n",
    "<img src=\"pictures/systems.jpg\" alt=\"Some example systems\" width=\"60%\">\n",
    "\n",
    "Some example systems\n",
    ":::"
   ]
  },
  {
   "cell_type": "markdown",
   "id": "51e1a034",
   "metadata": {
    "slideshow": {
     "slide_type": "subslide"
    }
   },
   "source": [
    "(concepts:system_models)=\n",
    "## Why do we make models of systems?"
   ]
  },
  {
   "cell_type": "markdown",
   "id": "513b8b11",
   "metadata": {
    "slideshow": {
     "slide_type": "fragment"
    }
   },
   "source": [
    "* We make mathematical models of every possible system on the Earth (biological, social, technological, geological,$\\ldots$ systems)"
   ]
  },
  {
   "cell_type": "markdown",
   "id": "ff7bc7f0",
   "metadata": {
    "slideshow": {
     "slide_type": "fragment"
    }
   },
   "source": [
    "* Usually, the more complicated the model, the better it reflects the reality, but the more difficult it is to deal with (mathematically)"
   ]
  },
  {
   "cell_type": "markdown",
   "id": "0d02a4f4",
   "metadata": {
    "slideshow": {
     "slide_type": "fragment"
    }
   },
   "source": [
    "* We are ‘digitalizing the world’ (Big Data, Internet of Things,$ldots$)"
   ]
  },
  {
   "cell_type": "markdown",
   "id": "c7ec6711",
   "metadata": {
    "slideshow": {
     "slide_type": "subslide"
    }
   },
   "source": [
    "### Can you recognize these systems?"
   ]
  },
  {
   "cell_type": "markdown",
   "id": "7f7e1dff",
   "metadata": {},
   "source": [
    "**Add pictures and poll**"
   ]
  },
  {
   "cell_type": "markdown",
   "id": "304b63e0",
   "metadata": {
    "slideshow": {
     "slide_type": "slide"
    }
   },
   "source": [
    "(concepts:system_design)=\n",
    "## System design"
   ]
  },
  {
   "cell_type": "markdown",
   "id": "ad79932e",
   "metadata": {
    "slideshow": {
     "slide_type": "fragment"
    }
   },
   "source": [
    "### Top-down design\n",
    "* Start from overall specifications, e.g. user requirements [Apple products]"
   ]
  },
  {
   "cell_type": "markdown",
   "id": "ed8ea7fe",
   "metadata": {
    "slideshow": {
     "slide_type": "fragment"
    }
   },
   "source": [
    "### Bottom-up design\n",
    "\n",
    "* design sub-systems, then interconnect them to achive the desired system (Cloud computing, Internet, computer and cellular networks)"
   ]
  },
  {
   "cell_type": "markdown",
   "id": "7cdba37f",
   "metadata": {
    "slideshow": {
     "slide_type": "subslide"
    }
   },
   "source": [
    "### Example:  The Internet\n",
    "\n",
    ":::{figure-md} internet\n",
    "<img src=\"pictures/network.jpg\" alt=\"A model of the internet\" width=\"50%\">\n",
    "\n",
    "A simple model of the internet\n",
    ":::"
   ]
  },
  {
   "cell_type": "markdown",
   "id": "54d09b5b",
   "metadata": {
    "slideshow": {
     "slide_type": "subslide"
    }
   },
   "source": [
    "Basic design requirments are (often) simple:\n",
    "\n",
    "* e.g. send packets of data between two nodes in a network"
   ]
  },
  {
   "cell_type": "markdown",
   "id": "c4a2f032",
   "metadata": {
    "slideshow": {
     "slide_type": "subslide"
    }
   },
   "source": [
    "But\tthe\timplementation\tis\t(almost\talways) complicated:"
   ]
  },
  {
   "cell_type": "markdown",
   "id": "5c1f843a",
   "metadata": {
    "slideshow": {
     "slide_type": "fragment"
    }
   },
   "source": [
    "* how to distinguish end-nodes?"
   ]
  },
  {
   "cell_type": "markdown",
   "id": "b2ecd76d",
   "metadata": {
    "slideshow": {
     "slide_type": "fragment"
    }
   },
   "source": [
    "* how to find the route?"
   ]
  },
  {
   "cell_type": "markdown",
   "id": "4d736d77",
   "metadata": {
    "slideshow": {
     "slide_type": "fragment"
    }
   },
   "source": [
    "* how to share network (resources) among billions end-nodes?"
   ]
  },
  {
   "cell_type": "markdown",
   "id": "b19ec8b1",
   "metadata": {
    "slideshow": {
     "slide_type": "fragment"
    }
   },
   "source": [
    "* how to deal with lost and delayed packets?"
   ]
  },
  {
   "cell_type": "markdown",
   "id": "e4e63592",
   "metadata": {
    "slideshow": {
     "slide_type": "fragment"
    }
   },
   "source": [
    "* how to deal with mobility and nodes leaving and arriving?"
   ]
  },
  {
   "cell_type": "markdown",
   "id": "e84a4a6b",
   "metadata": {
    "slideshow": {
     "slide_type": "slide"
    }
   },
   "source": [
    "(concepts:signal_processing)=\n",
    "## What is Signal Processing?"
   ]
  },
  {
   "cell_type": "markdown",
   "id": "0c5ba01e",
   "metadata": {
    "slideshow": {
     "slide_type": "subslide"
    }
   },
   "source": [
    "### Example scenarios\n",
    " \n",
    "1. Given a system, find the signal that will pass through it well (e.g. design a transmitter signal in a communication system)"
   ]
  },
  {
   "cell_type": "markdown",
   "id": "afc9fa69",
   "metadata": {
    "slideshow": {
     "slide_type": "fragment"
    }
   },
   "source": [
    "2. Given a signal, find the system that will pass it well (e.g. design an audio amplifier)"
   ]
  },
  {
   "cell_type": "markdown",
   "id": "92886705",
   "metadata": {
    "slideshow": {
     "slide_type": "fragment"
    }
   },
   "source": [
    "3. Design a system to make a desired change to the signal (e.g. design an audio equalizer)"
   ]
  },
  {
   "cell_type": "markdown",
   "id": "c6a53600",
   "metadata": {
    "slideshow": {
     "slide_type": "fragment"
    }
   },
   "source": [
    "4. Design a system to extract information from the signal (e.g. design a communication receiver to recover transmitted data symbols)"
   ]
  },
  {
   "cell_type": "markdown",
   "id": "21dfb660",
   "metadata": {
    "slideshow": {
     "slide_type": "subslide"
    }
   },
   "source": [
    "(concepts:feedback)=\n",
    "## Feedback"
   ]
  },
  {
   "cell_type": "markdown",
   "id": "889119cd",
   "metadata": {
    "slideshow": {
     "slide_type": "fragment"
    }
   },
   "source": [
    "* Feedback is a key concept in Control Engineering."
   ]
  },
  {
   "cell_type": "markdown",
   "id": "aca58dae",
   "metadata": {
    "slideshow": {
     "slide_type": "fragment"
    }
   },
   "source": [
    "* It is found in all technological, biological, financial, social etc. systems."
   ]
  },
  {
   "cell_type": "markdown",
   "id": "753eed01",
   "metadata": {
    "slideshow": {
     "slide_type": "fragment"
    }
   },
   "source": [
    "* In positive feedback: a change is amplified (including noise), e.g. useful to produce oscillations."
   ]
  },
  {
   "cell_type": "markdown",
   "id": "7a3b49b2",
   "metadata": {
    "slideshow": {
     "slide_type": "fragment"
    }
   },
   "source": [
    "* Negative feedback: a change is neutralized (noise is suppressed), e.g. useful to stabilize a system."
   ]
  },
  {
   "cell_type": "markdown",
   "id": "e04cf997",
   "metadata": {},
   "source": [
    "## Summary\n",
    "\n",
    "In this section we have presented some concepts from the field of **Signals and Systems** that we will study further in this and later courses.\n",
    "\n",
    "We looked at\n",
    "\n",
    "* {ref}`concepts:signals` and {ref}`concepts:example_signals`\n",
    "* {ref}`concepts:systems` and {ref}`concepts:example_systems`\n",
    "* {ref}`concepts:system_models`\n",
    "* {ref}`concepts:system_design`\n",
    "* {ref}`concepts:signal_processing`\n",
    "* {ref}`concepts:feedback`"
   ]
  },
  {
   "cell_type": "markdown",
   "id": "e8ddbe34",
   "metadata": {
    "slideshow": {
     "slide_type": "slide"
    }
   },
   "source": [
    "## Coming Next\n",
    "\n",
    "In the following sections, we introduce the mathematical description and representation of signals and systems and their classifications. We also define several important basic signals essesntial to your studies.\n",
    "\n",
    "The first of these will be {ref}`sig_intro`."
   ]
  }
 ],
 "metadata": {
  "jupytext": {
   "formats": "ipynb,md:myst",
   "text_representation": {
    "extension": ".md",
    "format_name": "myst",
    "format_version": 0.13,
    "jupytext_version": "1.14.4"
   }
  },
  "kernelspec": {
   "display_name": "Python 3 (ipykernel)",
   "language": "python",
   "name": "python3"
  },
  "language_info": {
   "codemirror_mode": {
    "name": "ipython",
    "version": 3
   },
   "file_extension": ".py",
   "mimetype": "text/x-python",
   "name": "python",
   "nbconvert_exporter": "python",
   "pygments_lexer": "ipython3",
   "version": "3.9.15"
  },
  "source_map": [
   15,
   20,
   26,
   39,
   46,
   50,
   54,
   58,
   64,
   68,
   72,
   76,
   81,
   91,
   95,
   105,
   109,
   119,
   123,
   133,
   137,
   147,
   151,
   156,
   160,
   164,
   168,
   172,
   182,
   187,
   197,
   207,
   218,
   223,
   227,
   231,
   235,
   239,
   243,
   248,
   253,
   259,
   269,
   275,
   279,
   283,
   287,
   291,
   295,
   299,
   304,
   310,
   314,
   318,
   322,
   327,
   331,
   335,
   339,
   343,
   358
  ]
 },
 "nbformat": 4,
 "nbformat_minor": 5
}